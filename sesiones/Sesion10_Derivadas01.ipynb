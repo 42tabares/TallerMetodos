{
  "nbformat": 4,
  "nbformat_minor": 0,
  "metadata": {
    "colab": {
      "name": "Sesion10_Derivadas01.ipynb",
      "provenance": [],
      "collapsed_sections": []
    },
    "kernelspec": {
      "name": "python3",
      "display_name": "Python 3"
    }
  },
  "cells": [
    {
      "cell_type": "code",
      "metadata": {
        "id": "P2nPTRL6kOKi"
      },
      "source": [
        "import numpy as np\n",
        "import sympy as sp\n",
        "import scipy as sc\n",
        "import pandas as pd\n",
        "from scipy.misc import derivative\n",
        "from sympy import init_printing\n",
        "import matplotlib.pylab as plt\n",
        "init_printing() "
      ],
      "execution_count": 1,
      "outputs": []
    },
    {
      "cell_type": "markdown",
      "metadata": {
        "id": "8c7QBYmQokG-"
      },
      "source": [
        "###  Derivada  análitica con sympy"
      ]
    },
    {
      "cell_type": "code",
      "metadata": {
        "id": "dyCbTQUwn8H8",
        "colab": {
          "base_uri": "https://localhost:8080/",
          "height": 38
        },
        "outputId": "6d6394ea-0075-4cfc-8a98-e5e2b007c6f7"
      },
      "source": [
        "x = sp.symbols(\"x\")\n",
        "f = lambda x: sp.sin(x**2) + sp.log(x)\n",
        "f(x)"
      ],
      "execution_count": 2,
      "outputs": [
        {
          "output_type": "execute_result",
          "data": {
            "image/png": "[encoded data removed]",
            "text/latex": "$\\displaystyle \\log{\\left(x \\right)} + \\sin{\\left(x^{2} \\right)}$",
            "text/plain": [
              "            ⎛ 2⎞\n",
              "log(x) + sin⎝x ⎠"
            ]
          },
          "metadata": {},
          "execution_count": 2
        }
      ]
    },
    {
      "cell_type": "code",
      "metadata": {
        "id": "swHW_i0QoSk4",
        "colab": {
          "base_uri": "https://localhost:8080/",
          "height": 51
        },
        "outputId": "96c7b439-7fc4-4c63-f3b6-4ecf426dda7c"
      },
      "source": [
        "fp = sp.diff(f(x),x, 1)\n",
        "fp"
      ],
      "execution_count": 3,
      "outputs": [
        {
          "output_type": "execute_result",
          "data": {
            "image/png": "[encoded data removed]",
            "text/latex": "$\\displaystyle 2 x \\cos{\\left(x^{2} \\right)} + \\frac{1}{x}$",
            "text/plain": [
              "       ⎛ 2⎞   1\n",
              "2⋅x⋅cos⎝x ⎠ + ─\n",
              "              x"
            ]
          },
          "metadata": {},
          "execution_count": 3
        }
      ]
    },
    {
      "cell_type": "code",
      "metadata": {
        "colab": {
          "base_uri": "https://localhost:8080/",
          "height": 166
        },
        "id": "LAo6t6Z1CX_f",
        "outputId": "fbc2b1ed-74e3-48f0-ea9a-e5062fffdd15"
      },
      "source": [
        "fp(1)"
      ],
      "execution_count": 4,
      "outputs": [
        {
          "output_type": "error",
          "ename": "TypeError",
          "evalue": "ignored",
          "traceback": [
            "\u001b[0;31m---------------------------------------------------------------------------\u001b[0m",
            "\u001b[0;31mTypeError\u001b[0m                                 Traceback (most recent call last)",
            "\u001b[0;32m<ipython-input-4-1110c237a0df>\u001b[0m in \u001b[0;36m<module>\u001b[0;34m()\u001b[0m\n\u001b[0;32m----> 1\u001b[0;31m \u001b[0mfp\u001b[0m\u001b[0;34m(\u001b[0m\u001b[0;36m1\u001b[0m\u001b[0;34m)\u001b[0m\u001b[0;34m\u001b[0m\u001b[0;34m\u001b[0m\u001b[0m\n\u001b[0m",
            "\u001b[0;31mTypeError\u001b[0m: 'Add' object is not callable"
          ]
        }
      ]
    },
    {
      "cell_type": "code",
      "metadata": {
        "id": "kgg5XymSpudD",
        "colab": {
          "base_uri": "https://localhost:8080/",
          "height": 37
        },
        "outputId": "a0e1175b-cd68-402e-f035-7d883d249178"
      },
      "source": [
        "fp_ = sp.lambdify(x, fp, \"numpy\")\n",
        "fp_(2)"
      ],
      "execution_count": 5,
      "outputs": [
        {
          "output_type": "execute_result",
          "data": {
            "image/png": "[encoded data removed]",
            "text/latex": "$\\displaystyle -2.11457448345445$",
            "text/plain": [
              "-2.1145744834544478"
            ]
          },
          "metadata": {},
          "execution_count": 5
        }
      ]
    },
    {
      "cell_type": "code",
      "metadata": {
        "id": "Gvc0KgoZn8OM",
        "colab": {
          "base_uri": "https://localhost:8080/",
          "height": 296
        },
        "outputId": "158713ca-c665-4d73-a779-5a373d116d83"
      },
      "source": [
        "x_ = np.linspace(0.1, 5, 100)\n",
        "plt.plot(x_, fp_(x_))\n",
        "plt.xlabel(\"x\")\n",
        "plt.ylabel(\"f'(x)\")"
      ],
      "execution_count": 6,
      "outputs": [
        {
          "output_type": "execute_result",
          "data": {
            "text/plain": [
              "Text(0, 0.5, \"f'(x)\")"
            ]
          },
          "metadata": {},
          "execution_count": 6
        },
        {
          "output_type": "display_data",
          "data": {
            "image/png": "[encoded data removed]",
            "text/plain": [
              "<Figure size 432x288 with 1 Axes>"
            ]
          },
          "metadata": {
            "needs_background": "light"
          }
        }
      ]
    },
    {
      "cell_type": "code",
      "metadata": {
        "id": "HZro-2wBDUB_",
        "colab": {
          "base_uri": "https://localhost:8080/"
        },
        "outputId": "4711861d-e8e6-466c-8fd9-4b2663048409"
      },
      "source": [
        "x_"
      ],
      "execution_count": 7,
      "outputs": [
        {
          "output_type": "execute_result",
          "data": {
            "text/plain": [
              "array([0.1       , 0.14949495, 0.1989899 , 0.24848485, 0.2979798 ,\n",
              "       0.34747475, 0.3969697 , 0.44646465, 0.4959596 , 0.54545455,\n",
              "       0.59494949, 0.64444444, 0.69393939, 0.74343434, 0.79292929,\n",
              "       0.84242424, 0.89191919, 0.94141414, 0.99090909, 1.04040404,\n",
              "       1.08989899, 1.13939394, 1.18888889, 1.23838384, 1.28787879,\n",
              "       1.33737374, 1.38686869, 1.43636364, 1.48585859, 1.53535354,\n",
              "       1.58484848, 1.63434343, 1.68383838, 1.73333333, 1.78282828,\n",
              "       1.83232323, 1.88181818, 1.93131313, 1.98080808, 2.03030303,\n",
              "       2.07979798, 2.12929293, 2.17878788, 2.22828283, 2.27777778,\n",
              "       2.32727273, 2.37676768, 2.42626263, 2.47575758, 2.52525253,\n",
              "       2.57474747, 2.62424242, 2.67373737, 2.72323232, 2.77272727,\n",
              "       2.82222222, 2.87171717, 2.92121212, 2.97070707, 3.02020202,\n",
              "       3.06969697, 3.11919192, 3.16868687, 3.21818182, 3.26767677,\n",
              "       3.31717172, 3.36666667, 3.41616162, 3.46565657, 3.51515152,\n",
              "       3.56464646, 3.61414141, 3.66363636, 3.71313131, 3.76262626,\n",
              "       3.81212121, 3.86161616, 3.91111111, 3.96060606, 4.01010101,\n",
              "       4.05959596, 4.10909091, 4.15858586, 4.20808081, 4.25757576,\n",
              "       4.30707071, 4.35656566, 4.40606061, 4.45555556, 4.50505051,\n",
              "       4.55454545, 4.6040404 , 4.65353535, 4.7030303 , 4.75252525,\n",
              "       4.8020202 , 4.85151515, 4.9010101 , 4.95050505, 5.        ])"
            ]
          },
          "metadata": {},
          "execution_count": 7
        }
      ]
    },
    {
      "cell_type": "code",
      "metadata": {
        "id": "7ivHU6N-DJkn",
        "colab": {
          "base_uri": "https://localhost:8080/",
          "height": 37
        },
        "outputId": "b1130a4c-3f84-4aa6-a022-99446231cb96"
      },
      "source": [
        "derivative(f, 2, dx=1E-5)"
      ],
      "execution_count": 8,
      "outputs": [
        {
          "output_type": "execute_result",
          "data": {
            "image/png": "[encoded data removed]",
            "text/latex": "$\\displaystyle -2.11457448245911$",
            "text/plain": [
              "-2.11457448245911"
            ]
          },
          "metadata": {},
          "execution_count": 8
        }
      ]
    },
    {
      "cell_type": "code",
      "metadata": {
        "id": "LywDhIcSqooU"
      },
      "source": [
        "x_ = np.linspace(0.1, 5, 100)\n",
        "derivada = np.vectorize(derivative )\n",
        "\n"
      ],
      "execution_count": 9,
      "outputs": []
    },
    {
      "cell_type": "code",
      "metadata": {
        "id": "OW3DSt_5DlDF",
        "colab": {
          "base_uri": "https://localhost:8080/",
          "height": 37
        },
        "outputId": "21131e47-895d-4b9b-f5f6-ca5e58d92ebe"
      },
      "source": [
        "fpp = derivada(f, x_ , dx = 1E-5)\n",
        "len(fpp)"
      ],
      "execution_count": 10,
      "outputs": [
        {
          "output_type": "execute_result",
          "data": {
            "image/png": "[encoded data removed]",
            "text/latex": "$\\displaystyle 100$",
            "text/plain": [
              "100"
            ]
          },
          "metadata": {},
          "execution_count": 10
        }
      ]
    },
    {
      "cell_type": "code",
      "metadata": {
        "id": "t135-R6hqvwS",
        "colab": {
          "base_uri": "https://localhost:8080/",
          "height": 279
        },
        "outputId": "787cca15-a160-481f-ddef-a146ba9cd0c2"
      },
      "source": [
        "plt.figure()\n",
        "plt.plot(x_,fpp)\n",
        "plt.xlabel(\"x\")\n",
        "plt.ylabel(\"f'(x)\")\n",
        "plt.show()\n"
      ],
      "execution_count": 11,
      "outputs": [
        {
          "output_type": "display_data",
          "data": {
            "image/png": "[encoded data removed]",
            "text/plain": [
              "<Figure size 432x288 with 1 Axes>"
            ]
          },
          "metadata": {
            "needs_background": "light"
          }
        }
      ]
    },
    {
      "cell_type": "markdown",
      "metadata": {
        "id": "0GIgsdMZ3MuH"
      },
      "source": [
        "Empleando la funcion derivative\n"
      ]
    },
    {
      "cell_type": "code",
      "metadata": {
        "id": "NWDGfC043S24"
      },
      "source": [
        "from scipy import misc\n",
        "def derivate(func,x0,**kwargs):\n",
        "    '''\n",
        "    Vectorized replacement of scipy.misc derivative:\n",
        "        from scipy.misc import derivative\n",
        "    For usage check the derivative help, e.g, in jupyter: \n",
        "        from scipy.misc import derivative\n",
        "        derivative?\n",
        "    '''\n",
        "    try:\n",
        "        #x0: can be an array or a list  \n",
        "        nn=np.asarray(x0).shape[0] # force error if float is used \n",
        "        fp=np.vectorize(misc.derivative)\n",
        "    except IndexError:\n",
        "        fp=misc.derivative\n",
        "        \n",
        "    return fp(func,x0,**kwargs)"
      ],
      "execution_count": 12,
      "outputs": []
    },
    {
      "cell_type": "code",
      "metadata": {
        "id": "dGMMSPtI3-qd",
        "colab": {
          "base_uri": "https://localhost:8080/",
          "height": 282
        },
        "outputId": "e2904204-5186-4c91-d871-cbb11246e9ec"
      },
      "source": [
        "q = derivate(f, x_ , dx = 1E-5)\n",
        "plt.plot(x_,q)"
      ],
      "execution_count": 13,
      "outputs": [
        {
          "output_type": "execute_result",
          "data": {
            "text/plain": [
              "[<matplotlib.lines.Line2D at 0x7fd323098850>]"
            ]
          },
          "metadata": {},
          "execution_count": 13
        },
        {
          "output_type": "display_data",
          "data": {
            "image/png": "[encoded data removed]",
            "text/plain": [
              "<Figure size 432x288 with 1 Axes>"
            ]
          },
          "metadata": {
            "needs_background": "light"
          }
        }
      ]
    },
    {
      "cell_type": "markdown",
      "metadata": {
        "id": "UDrCz6F_pO32"
      },
      "source": [
        "# Derivada num'erica "
      ]
    },
    {
      "cell_type": "markdown",
      "metadata": {
        "id": "qsFMpmvTk08V"
      },
      "source": [
        "\n",
        "# En un circuito con un voltaje de  $\\varepsilon(t)$ y una inductancia de L, la primera ley de kirshhoff nos da la siguiente relación \n",
        "\n",
        "\n",
        "\\begin{equation}\n",
        "\\varepsilon(t) = L\\frac{\\mathrm{d}i}{\\mathrm{d}t} + Ri\n",
        "\\end{equation}\n",
        "\n",
        "donde r, es la resistencia del ciruito, i es la corriente. Suponga que medimos la corriente con varios valores de t y obtenemos:\n",
        "\n",
        "t = 1.00, 1.01, 1.02, 1.03, 1.0\n",
        "\n",
        "i = 3.10, 3.12, 3.14, 3.18, 3.24\n",
        "\n",
        "\n",
        "donde t se mide en segundos, i se de en amper, la inductancia L es una constante de 0.98 herios, la resistencia es de 0.142 ohms. Aproxime el votaje  $\\varepsilon(t)$ en los valores t=1.00, 1.01, 1.02, 1.03, 1.04 ,  para ello realice lo siguiente:\n",
        "\n",
        "1. Construya un data frame de pandas con los valores de tiempo y corriente \n",
        "\n",
        "\n",
        "\n",
        "\n"
      ]
    },
    {
      "cell_type": "code",
      "metadata": {
        "id": "_uFykTAZkR_t"
      },
      "source": [
        "t = np.array([1.00, 1.01, 1.02, 1.03, 1.04])\n",
        "i = np.array([3.10, 3.12, 3.14, 3.18, 3.24])\n",
        "data = {\"tiempo\":t, \"corriente\":i}\n",
        "\n",
        "df=pd.DataFrame(data)"
      ],
      "execution_count": 14,
      "outputs": []
    },
    {
      "cell_type": "code",
      "metadata": {
        "id": "cDQnjgp_v5Rt",
        "colab": {
          "base_uri": "https://localhost:8080/",
          "height": 205
        },
        "outputId": "426f72c0-32c0-4b9e-f72a-bb4f7bb08f16"
      },
      "source": [
        "df"
      ],
      "execution_count": 15,
      "outputs": [
        {
          "output_type": "execute_result",
          "data": {
            "text/html": [
              "<div>\n",
              "<style scoped>\n",
              "    .dataframe tbody tr th:only-of-type {\n",
              "        vertical-align: middle;\n",
              "    }\n",
              "\n",
              "    .dataframe tbody tr th {\n",
              "        vertical-align: top;\n",
              "    }\n",
              "\n",
              "    .dataframe thead th {\n",
              "        text-align: right;\n",
              "    }\n",
              "</style>\n",
              "<table border=\"1\" class=\"dataframe\">\n",
              "  <thead>\n",
              "    <tr style=\"text-align: right;\">\n",
              "      <th></th>\n",
              "      <th>tiempo</th>\n",
              "      <th>corriente</th>\n",
              "    </tr>\n",
              "  </thead>\n",
              "  <tbody>\n",
              "    <tr>\n",
              "      <th>0</th>\n",
              "      <td>1.00</td>\n",
              "      <td>3.10</td>\n",
              "    </tr>\n",
              "    <tr>\n",
              "      <th>1</th>\n",
              "      <td>1.01</td>\n",
              "      <td>3.12</td>\n",
              "    </tr>\n",
              "    <tr>\n",
              "      <th>2</th>\n",
              "      <td>1.02</td>\n",
              "      <td>3.14</td>\n",
              "    </tr>\n",
              "    <tr>\n",
              "      <th>3</th>\n",
              "      <td>1.03</td>\n",
              "      <td>3.18</td>\n",
              "    </tr>\n",
              "    <tr>\n",
              "      <th>4</th>\n",
              "      <td>1.04</td>\n",
              "      <td>3.24</td>\n",
              "    </tr>\n",
              "  </tbody>\n",
              "</table>\n",
              "</div>"
            ],
            "text/plain": [
              "   tiempo  corriente\n",
              "0    1.00       3.10\n",
              "1    1.01       3.12\n",
              "2    1.02       3.14\n",
              "3    1.03       3.18\n",
              "4    1.04       3.24"
            ]
          },
          "metadata": {},
          "execution_count": 15
        }
      ]
    },
    {
      "cell_type": "code",
      "metadata": {
        "id": "BmseTE-snKqA",
        "colab": {
          "base_uri": "https://localhost:8080/"
        },
        "outputId": "f775b405-f843-463b-c8d0-5e20d468c270"
      },
      "source": [
        "df[\"tiempo\"].values"
      ],
      "execution_count": 16,
      "outputs": [
        {
          "output_type": "execute_result",
          "data": {
            "text/plain": [
              "array([1.  , 1.01, 1.02, 1.03, 1.04])"
            ]
          },
          "metadata": {},
          "execution_count": 16
        }
      ]
    },
    {
      "cell_type": "code",
      "metadata": {
        "id": "CFAjApODm9R7",
        "colab": {
          "base_uri": "https://localhost:8080/"
        },
        "outputId": "74adb69e-9c9a-4d79-adf2-de9370b75560"
      },
      "source": [
        "df.corriente[:-1]"
      ],
      "execution_count": 17,
      "outputs": [
        {
          "output_type": "execute_result",
          "data": {
            "text/plain": [
              "0    3.10\n",
              "1    3.12\n",
              "2    3.14\n",
              "3    3.18\n",
              "Name: corriente, dtype: float64"
            ]
          },
          "metadata": {},
          "execution_count": 17
        }
      ]
    },
    {
      "cell_type": "code",
      "metadata": {
        "id": "-SJ3HqSjsVS3",
        "colab": {
          "base_uri": "https://localhost:8080/"
        },
        "outputId": "4282a7a2-bcd5-46c9-ea76-854bc83e2784"
      },
      "source": [
        "df.corriente[1:]"
      ],
      "execution_count": 18,
      "outputs": [
        {
          "output_type": "execute_result",
          "data": {
            "text/plain": [
              "1    3.12\n",
              "2    3.14\n",
              "3    3.18\n",
              "4    3.24\n",
              "Name: corriente, dtype: float64"
            ]
          },
          "metadata": {},
          "execution_count": 18
        }
      ]
    },
    {
      "cell_type": "code",
      "metadata": {
        "id": "mFV1iZw7s2Le"
      },
      "source": [
        "deri = (df.corriente.values[1:]-df.corriente.values[:-1])/0.01"
      ],
      "execution_count": 19,
      "outputs": []
    },
    {
      "cell_type": "code",
      "metadata": {
        "id": "FEigNh9Ws3Da"
      },
      "source": [
        "L = 0.98\n",
        "R = 0.142\n",
        "voltage = L * deri + R * df[\"corriente\"][:-1]"
      ],
      "execution_count": 20,
      "outputs": []
    },
    {
      "cell_type": "code",
      "metadata": {
        "id": "Kh2HuM0Rvj95",
        "colab": {
          "base_uri": "https://localhost:8080/",
          "height": 282
        },
        "outputId": "d62b213b-3d0c-4724-b46f-3f2dc6cea4ba"
      },
      "source": [
        "plt.plot(df.tiempo, df.corriente, \"ro-\")"
      ],
      "execution_count": 21,
      "outputs": [
        {
          "output_type": "execute_result",
          "data": {
            "text/plain": [
              "[<matplotlib.lines.Line2D at 0x7fd32344a510>]"
            ]
          },
          "metadata": {},
          "execution_count": 21
        },
        {
          "output_type": "display_data",
          "data": {
            "image/png": "[encoded data removed]",
            "text/plain": [
              "<Figure size 432x288 with 1 Axes>"
            ]
          },
          "metadata": {
            "needs_background": "light"
          }
        }
      ]
    },
    {
      "cell_type": "code",
      "metadata": {
        "id": "5DbY3pCKwRiQ",
        "colab": {
          "base_uri": "https://localhost:8080/",
          "height": 282
        },
        "outputId": "b5187ab4-f11c-4ad1-dedd-00bb3ec5b9fd"
      },
      "source": [
        "plt.plot(df.tiempo[:-1], deri, \"ko-\")"
      ],
      "execution_count": 22,
      "outputs": [
        {
          "output_type": "execute_result",
          "data": {
            "text/plain": [
              "[<matplotlib.lines.Line2D at 0x7fd322dee910>]"
            ]
          },
          "metadata": {},
          "execution_count": 22
        },
        {
          "output_type": "display_data",
          "data": {
            "image/png": "[encoded data removed]",
            "text/plain": [
              "<Figure size 432x288 with 1 Axes>"
            ]
          },
          "metadata": {
            "needs_background": "light"
          }
        }
      ]
    },
    {
      "cell_type": "code",
      "metadata": {
        "id": "cVihL9xkx1pc",
        "colab": {
          "base_uri": "https://localhost:8080/"
        },
        "outputId": "e587a8f7-d5a4-457c-c190-26a7aab3b9dc"
      },
      "source": [
        "deri"
      ],
      "execution_count": 23,
      "outputs": [
        {
          "output_type": "execute_result",
          "data": {
            "text/plain": [
              "array([2., 2., 4., 6.])"
            ]
          },
          "metadata": {},
          "execution_count": 23
        }
      ]
    },
    {
      "cell_type": "code",
      "metadata": {
        "id": "6yzuEbR5xLPB",
        "colab": {
          "base_uri": "https://localhost:8080/"
        },
        "outputId": "5a81ef48-a712-4b23-8c22-5dcde17a9ee3"
      },
      "source": [
        "# https://numpy.org/doc/stable/reference/generated/numpy.diff.html\n",
        "np.diff(df.corriente)/0.01"
      ],
      "execution_count": 24,
      "outputs": [
        {
          "output_type": "execute_result",
          "data": {
            "text/plain": [
              "array([2., 2., 4., 6.])"
            ]
          },
          "metadata": {},
          "execution_count": 24
        }
      ]
    },
    {
      "cell_type": "code",
      "metadata": {
        "id": "XbGgvdyTU3zd"
      },
      "source": [
        ""
      ],
      "execution_count": null,
      "outputs": []
    }
  ]
}