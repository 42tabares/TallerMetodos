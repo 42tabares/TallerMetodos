{
  "nbformat": 4,
  "nbformat_minor": 0,
  "metadata": {
    "colab": {
      "name": "sesion03_pandas.ipynb",
      "provenance": [],
      "collapsed_sections": [
        "kEfWIutYWZf2"
      ]
    },
    "kernelspec": {
      "name": "python3",
      "display_name": "Python 3"
    },
    "language_info": {
      "name": "python"
    }
  },
  "cells": [
    {
      "cell_type": "markdown",
      "metadata": {
        "id": "sYIMyK4m_Mhv"
      },
      "source": [
        "# Problema 1.\n",
        "\n",
        "Usando el set `PS4_1.csv`, convertir la serie `Date` en el indice (serie de tiempo) y eliminar la serie `Unnamed: 1` (generado por pandas), retornar un  diccionario con en el siguiente orden:\n",
        "\n",
        "* cantidad de columnas\n",
        "* Nombre de las columnas\n",
        "* número de registros no NaN de cada columna\n",
        "* cantidad total de memoria usada para cargar el dataset en el computador ,( df.memory_usage() )\n",
        "* Estadistica basica para cada columna, media, desviacion estandar, maximo\n",
        "* Remplazar los NaN por None\n",
        "\n",
        "\n",
        "# Problema 2\n",
        "\n",
        "Realizar la lectura del data frame \"Crimes_-_2019.csv\" asociado a los crimenes que se presentaron en Chicago en el 2019. \n",
        "\n",
        "\n",
        "1. Ver la estadistica general del data frame.\n",
        "2. Dejar las columnas PrimaryType, y Date.\n",
        "3. Transformar la columna Date que es tipo string en una tipo Fecha, use el siguiente metodo de pandas pd.to_datetime(df.Date,format=\"%m/%d/%Y %I:%M:%S %p\").\n",
        "4. Mostrar los casos totales para cada tipo de crimen de forma ascendente, emplee:\n",
        "   df.groupby(columna).Date.count()\n",
        "   \n",
        "   sort_values()\n",
        "5. Ordenar los valores por orden alfabetico de Primary type\n",
        "6. Mostrar de la fila 100 a la 120\n",
        "6. Realizar una visualización de los datos anteriores.Emplee la libreria  seaborn con un grafico tipo barplot. Ej.\n",
        "   ax = sns.barplot(x = \"contador\", y=\"Primary Type\", data = datos)\n",
        "\n",
        "\n",
        "\n",
        "\n",
        "# Problema 3\n",
        "\n",
        "1. Leer el dataset country_vaccinations.csv  y filtrar los datos para Colombia\n",
        "2. Crear un csv con los datos para colombia\n",
        "3. Realizar una comparacion con los paises latinoamericanos. \n",
        "4. A traves de mascaras determinar el numero de vacunados en el intervalo  [1.5E6, 2.0E6]\n"
      ]
    },
    {
      "cell_type": "code",
      "metadata": {
        "id": "upSBUrJAEDak"
      },
      "source": [
        "import pandas as pd"
      ],
      "execution_count": null,
      "outputs": []
    },
    {
      "cell_type": "code",
      "metadata": {
        "id": "ACHTAh_sERio"
      },
      "source": [
        "path = \"https://docs.google.com/spreadsheets/d/e/2PACX-1vTWsahNju_LTtJBjuaaILBx_3QutbzK-HCjGoLtrtcIBEu4rOQgdiz17AD8SDa13g/pub?output=csv\"\n",
        "df = pd.read_csv(path)"
      ],
      "execution_count": null,
      "outputs": []
    },
    {
      "cell_type": "code",
      "metadata": {
        "colab": {
          "base_uri": "https://localhost:8080/",
          "height": 198
        },
        "id": "-CiXbV6WEyNP",
        "outputId": "547db2e5-35fb-4bfc-818f-d07c9c856f7f"
      },
      "source": [
        "df.head()"
      ],
      "execution_count": null,
      "outputs": [
        {
          "output_type": "execute_result",
          "data": {
            "text/html": [
              "<div>\n",
              "<style scoped>\n",
              "    .dataframe tbody tr th:only-of-type {\n",
              "        vertical-align: middle;\n",
              "    }\n",
              "\n",
              "    .dataframe tbody tr th {\n",
              "        vertical-align: top;\n",
              "    }\n",
              "\n",
              "    .dataframe thead th {\n",
              "        text-align: right;\n",
              "    }\n",
              "</style>\n",
              "<table border=\"1\" class=\"dataframe\">\n",
              "  <thead>\n",
              "    <tr style=\"text-align: right;\">\n",
              "      <th></th>\n",
              "      <th>Date</th>\n",
              "      <th>Unnamed: 1</th>\n",
              "      <th>Berri1</th>\n",
              "      <th>Maisonneuve_1</th>\n",
              "      <th>Maisonneuve_2</th>\n",
              "      <th>Brebeuf</th>\n",
              "    </tr>\n",
              "  </thead>\n",
              "  <tbody>\n",
              "    <tr>\n",
              "      <th>0</th>\n",
              "      <td>01/01/2009</td>\n",
              "      <td>0:00</td>\n",
              "      <td>29</td>\n",
              "      <td>20</td>\n",
              "      <td>35</td>\n",
              "      <td>NaN</td>\n",
              "    </tr>\n",
              "    <tr>\n",
              "      <th>1</th>\n",
              "      <td>02/01/2009</td>\n",
              "      <td>0:00</td>\n",
              "      <td>19</td>\n",
              "      <td>3</td>\n",
              "      <td>22</td>\n",
              "      <td>NaN</td>\n",
              "    </tr>\n",
              "    <tr>\n",
              "      <th>2</th>\n",
              "      <td>03/01/2009</td>\n",
              "      <td>0:00</td>\n",
              "      <td>24</td>\n",
              "      <td>12</td>\n",
              "      <td>22</td>\n",
              "      <td>NaN</td>\n",
              "    </tr>\n",
              "    <tr>\n",
              "      <th>3</th>\n",
              "      <td>04/01/2009</td>\n",
              "      <td>0:00</td>\n",
              "      <td>24</td>\n",
              "      <td>8</td>\n",
              "      <td>15</td>\n",
              "      <td>NaN</td>\n",
              "    </tr>\n",
              "    <tr>\n",
              "      <th>4</th>\n",
              "      <td>05/01/2009</td>\n",
              "      <td>0:00</td>\n",
              "      <td>120</td>\n",
              "      <td>111</td>\n",
              "      <td>141</td>\n",
              "      <td>NaN</td>\n",
              "    </tr>\n",
              "  </tbody>\n",
              "</table>\n",
              "</div>"
            ],
            "text/plain": [
              "         Date Unnamed: 1  Berri1  Maisonneuve_1  Maisonneuve_2  Brebeuf\n",
              "0  01/01/2009       0:00      29             20             35      NaN\n",
              "1  02/01/2009       0:00      19              3             22      NaN\n",
              "2  03/01/2009       0:00      24             12             22      NaN\n",
              "3  04/01/2009       0:00      24              8             15      NaN\n",
              "4  05/01/2009       0:00     120            111            141      NaN"
            ]
          },
          "metadata": {
            "tags": []
          },
          "execution_count": 3
        }
      ]
    },
    {
      "cell_type": "code",
      "metadata": {
        "id": "nhqg-ubuEzgt",
        "colab": {
          "base_uri": "https://localhost:8080/"
        },
        "outputId": "79db3f73-c32f-4706-e73f-50f304b7f39c"
      },
      "source": [
        "len(df.columns)"
      ],
      "execution_count": null,
      "outputs": [
        {
          "output_type": "execute_result",
          "data": {
            "text/plain": [
              "6"
            ]
          },
          "metadata": {
            "tags": []
          },
          "execution_count": 4
        }
      ]
    },
    {
      "cell_type": "code",
      "metadata": {
        "colab": {
          "base_uri": "https://localhost:8080/"
        },
        "id": "JG2ugHDzJMU2",
        "outputId": "dbe53b06-f282-4387-df7a-23e2a86723a7"
      },
      "source": [
        "df.shape"
      ],
      "execution_count": null,
      "outputs": [
        {
          "output_type": "execute_result",
          "data": {
            "text/plain": [
              "(365, 6)"
            ]
          },
          "metadata": {
            "tags": []
          },
          "execution_count": 5
        }
      ]
    },
    {
      "cell_type": "code",
      "metadata": {
        "id": "XqUh-rvjJN0f"
      },
      "source": [
        "info_df = df.describe()"
      ],
      "execution_count": null,
      "outputs": []
    },
    {
      "cell_type": "code",
      "metadata": {
        "colab": {
          "base_uri": "https://localhost:8080/",
          "height": 288
        },
        "id": "ODMpxxr9KUFA",
        "outputId": "8b385af1-6034-4e66-eb90-12929883d972"
      },
      "source": [
        "info_df"
      ],
      "execution_count": null,
      "outputs": [
        {
          "output_type": "execute_result",
          "data": {
            "text/html": [
              "<div>\n",
              "<style scoped>\n",
              "    .dataframe tbody tr th:only-of-type {\n",
              "        vertical-align: middle;\n",
              "    }\n",
              "\n",
              "    .dataframe tbody tr th {\n",
              "        vertical-align: top;\n",
              "    }\n",
              "\n",
              "    .dataframe thead th {\n",
              "        text-align: right;\n",
              "    }\n",
              "</style>\n",
              "<table border=\"1\" class=\"dataframe\">\n",
              "  <thead>\n",
              "    <tr style=\"text-align: right;\">\n",
              "      <th></th>\n",
              "      <th>Berri1</th>\n",
              "      <th>Maisonneuve_1</th>\n",
              "      <th>Maisonneuve_2</th>\n",
              "      <th>Brebeuf</th>\n",
              "    </tr>\n",
              "  </thead>\n",
              "  <tbody>\n",
              "    <tr>\n",
              "      <th>count</th>\n",
              "      <td>365.000000</td>\n",
              "      <td>365.000000</td>\n",
              "      <td>365.000000</td>\n",
              "      <td>178.000000</td>\n",
              "    </tr>\n",
              "    <tr>\n",
              "      <th>mean</th>\n",
              "      <td>2032.200000</td>\n",
              "      <td>1060.252055</td>\n",
              "      <td>2093.169863</td>\n",
              "      <td>2576.359551</td>\n",
              "    </tr>\n",
              "    <tr>\n",
              "      <th>std</th>\n",
              "      <td>1878.879799</td>\n",
              "      <td>1079.533086</td>\n",
              "      <td>1854.368523</td>\n",
              "      <td>2484.004743</td>\n",
              "    </tr>\n",
              "    <tr>\n",
              "      <th>min</th>\n",
              "      <td>0.000000</td>\n",
              "      <td>0.000000</td>\n",
              "      <td>0.000000</td>\n",
              "      <td>0.000000</td>\n",
              "    </tr>\n",
              "    <tr>\n",
              "      <th>25%</th>\n",
              "      <td>194.000000</td>\n",
              "      <td>90.000000</td>\n",
              "      <td>228.000000</td>\n",
              "      <td>0.000000</td>\n",
              "    </tr>\n",
              "    <tr>\n",
              "      <th>50%</th>\n",
              "      <td>1726.000000</td>\n",
              "      <td>678.000000</td>\n",
              "      <td>1686.000000</td>\n",
              "      <td>1443.500000</td>\n",
              "    </tr>\n",
              "    <tr>\n",
              "      <th>75%</th>\n",
              "      <td>3540.000000</td>\n",
              "      <td>1882.000000</td>\n",
              "      <td>3520.000000</td>\n",
              "      <td>4638.000000</td>\n",
              "    </tr>\n",
              "    <tr>\n",
              "      <th>max</th>\n",
              "      <td>6626.000000</td>\n",
              "      <td>4242.000000</td>\n",
              "      <td>6587.000000</td>\n",
              "      <td>7575.000000</td>\n",
              "    </tr>\n",
              "  </tbody>\n",
              "</table>\n",
              "</div>"
            ],
            "text/plain": [
              "            Berri1  Maisonneuve_1  Maisonneuve_2      Brebeuf\n",
              "count   365.000000     365.000000     365.000000   178.000000\n",
              "mean   2032.200000    1060.252055    2093.169863  2576.359551\n",
              "std    1878.879799    1079.533086    1854.368523  2484.004743\n",
              "min       0.000000       0.000000       0.000000     0.000000\n",
              "25%     194.000000      90.000000     228.000000     0.000000\n",
              "50%    1726.000000     678.000000    1686.000000  1443.500000\n",
              "75%    3540.000000    1882.000000    3520.000000  4638.000000\n",
              "max    6626.000000    4242.000000    6587.000000  7575.000000"
            ]
          },
          "metadata": {
            "tags": []
          },
          "execution_count": 7
        }
      ]
    },
    {
      "cell_type": "code",
      "metadata": {
        "colab": {
          "base_uri": "https://localhost:8080/"
        },
        "id": "O_NcWMhtn_tX",
        "outputId": "ddcffba7-1e5c-46c9-b185-2bd255a802dc"
      },
      "source": [
        "df.columns"
      ],
      "execution_count": null,
      "outputs": [
        {
          "output_type": "execute_result",
          "data": {
            "text/plain": [
              "Index(['Date', 'Unnamed: 1', 'Berri1', 'Maisonneuve_1', 'Maisonneuve_2',\n",
              "       'Brebeuf'],\n",
              "      dtype='object')"
            ]
          },
          "metadata": {
            "tags": []
          },
          "execution_count": 8
        }
      ]
    },
    {
      "cell_type": "code",
      "metadata": {
        "id": "i9Hg3I-8nwUG"
      },
      "source": [
        "del df[\"Unnamed: 1\"]"
      ],
      "execution_count": null,
      "outputs": []
    },
    {
      "cell_type": "code",
      "metadata": {
        "colab": {
          "base_uri": "https://localhost:8080/"
        },
        "id": "7zUMDCLholBU",
        "outputId": "aff56a2f-4c3f-4b10-d6df-535d2e0c23f9"
      },
      "source": [
        "df.info()"
      ],
      "execution_count": null,
      "outputs": [
        {
          "output_type": "stream",
          "text": [
            "<class 'pandas.core.frame.DataFrame'>\n",
            "RangeIndex: 365 entries, 0 to 364\n",
            "Data columns (total 5 columns):\n",
            " #   Column         Non-Null Count  Dtype  \n",
            "---  ------         --------------  -----  \n",
            " 0   Date           365 non-null    object \n",
            " 1   Berri1         365 non-null    int64  \n",
            " 2   Maisonneuve_1  365 non-null    int64  \n",
            " 3   Maisonneuve_2  365 non-null    int64  \n",
            " 4   Brebeuf        178 non-null    float64\n",
            "dtypes: float64(1), int64(3), object(1)\n",
            "memory usage: 14.4+ KB\n"
          ],
          "name": "stdout"
        }
      ]
    },
    {
      "cell_type": "code",
      "metadata": {
        "colab": {
          "base_uri": "https://localhost:8080/"
        },
        "id": "X-vWemGuoeWH",
        "outputId": "da2f2bbc-c14e-48b7-92ba-18ca6d5ca2b9"
      },
      "source": [
        "for col in df.columns:\n",
        "  tf = pd.isnull(df[col])\n",
        "  tf1 = ~tf\n",
        "  print(tf1.sum())\n",
        "\n",
        "\n"
      ],
      "execution_count": null,
      "outputs": [
        {
          "output_type": "stream",
          "text": [
            "365\n",
            "365\n",
            "365\n",
            "365\n",
            "178\n"
          ],
          "name": "stdout"
        }
      ]
    },
    {
      "cell_type": "code",
      "metadata": {
        "colab": {
          "base_uri": "https://localhost:8080/"
        },
        "id": "xYWgEb-IpRMV",
        "outputId": "eb3f853d-23c9-495c-bfe9-6582b4afc463"
      },
      "source": [
        "tf = pd.isnull(df[col])\n",
        "\n",
        "tf1 = ~tf\n",
        "tf1.sum()"
      ],
      "execution_count": null,
      "outputs": [
        {
          "output_type": "execute_result",
          "data": {
            "text/plain": [
              "178"
            ]
          },
          "metadata": {
            "tags": []
          },
          "execution_count": 12
        }
      ]
    },
    {
      "cell_type": "code",
      "metadata": {
        "colab": {
          "base_uri": "https://localhost:8080/"
        },
        "id": "JMlM2LgMo8RP",
        "outputId": "9834d8ec-56d5-478f-e16f-58499415fb24"
      },
      "source": [
        "cantindadnull = (~tf).sum()\n",
        "print(cantindadnull)"
      ],
      "execution_count": null,
      "outputs": [
        {
          "output_type": "stream",
          "text": [
            "178\n"
          ],
          "name": "stdout"
        }
      ]
    },
    {
      "cell_type": "code",
      "metadata": {
        "colab": {
          "base_uri": "https://localhost:8080/"
        },
        "id": "9ZMYlwmjKsGy",
        "outputId": "df1942de-fce9-4a34-aad1-e925b8f61992"
      },
      "source": [
        "print(info_df.loc[\"count\", \"Berri1\"])\n",
        "print(info_df.loc[\"count\", \"Maisonneuve_1\"])"
      ],
      "execution_count": null,
      "outputs": [
        {
          "output_type": "stream",
          "text": [
            "365.0\n",
            "365.0\n"
          ],
          "name": "stdout"
        }
      ]
    },
    {
      "cell_type": "code",
      "metadata": {
        "colab": {
          "base_uri": "https://localhost:8080/"
        },
        "id": "pMkWNfdILLrP",
        "outputId": "077a1543-49ba-4592-ec35-f2034dc0d9b2"
      },
      "source": [
        "lista = [\"count\", \"mean\"]\n",
        "\n",
        "for l in lista:\n",
        "\n",
        "  for col in info_df.columns:\n",
        "\n",
        "    contador_registros = info_df.loc[l , col]\n",
        "    \n",
        "    print(contador_registros)"
      ],
      "execution_count": null,
      "outputs": [
        {
          "output_type": "stream",
          "text": [
            "365.0\n",
            "365.0\n",
            "365.0\n",
            "178.0\n",
            "2032.2\n",
            "1060.2520547945205\n",
            "2093.1698630136984\n",
            "2576.3595505617977\n"
          ],
          "name": "stdout"
        }
      ]
    },
    {
      "cell_type": "code",
      "metadata": {
        "colab": {
          "base_uri": "https://localhost:8080/"
        },
        "id": "7WZHcGO9Lq14",
        "outputId": "d66a0706-3de0-4c96-95d6-557c2bd927f0"
      },
      "source": [
        "type(df.count())"
      ],
      "execution_count": null,
      "outputs": [
        {
          "output_type": "execute_result",
          "data": {
            "text/plain": [
              "pandas.core.series.Series"
            ]
          },
          "metadata": {
            "tags": []
          },
          "execution_count": 16
        }
      ]
    },
    {
      "cell_type": "code",
      "metadata": {
        "id": "fcisXKL-MbJo"
      },
      "source": [
        "tf = pd.isnull(df[\"Brebeuf\"])"
      ],
      "execution_count": null,
      "outputs": []
    },
    {
      "cell_type": "code",
      "metadata": {
        "colab": {
          "base_uri": "https://localhost:8080/"
        },
        "id": "isB0D3eLNOGg",
        "outputId": "b4aecf8a-8201-442c-eb4a-2255e626b4d2"
      },
      "source": [
        "df.Brebeuf[~tf]"
      ],
      "execution_count": null,
      "outputs": [
        {
          "output_type": "execute_result",
          "data": {
            "text/plain": [
              "187    2156.0\n",
              "188    4548.0\n",
              "189    7575.0\n",
              "190    7268.0\n",
              "191    2320.0\n",
              "        ...  \n",
              "360       0.0\n",
              "361       0.0\n",
              "362       0.0\n",
              "363       0.0\n",
              "364       0.0\n",
              "Name: Brebeuf, Length: 178, dtype: float64"
            ]
          },
          "metadata": {
            "tags": []
          },
          "execution_count": 18
        }
      ]
    },
    {
      "cell_type": "code",
      "metadata": {
        "colab": {
          "base_uri": "https://localhost:8080/"
        },
        "id": "Ty3VCw1xMt9L",
        "outputId": "50a56080-5eab-4f92-d58f-269dcfdacb1c"
      },
      "source": [
        "tf"
      ],
      "execution_count": null,
      "outputs": [
        {
          "output_type": "execute_result",
          "data": {
            "text/plain": [
              "0       True\n",
              "1       True\n",
              "2       True\n",
              "3       True\n",
              "4       True\n",
              "       ...  \n",
              "360    False\n",
              "361    False\n",
              "362    False\n",
              "363    False\n",
              "364    False\n",
              "Name: Brebeuf, Length: 365, dtype: bool"
            ]
          },
          "metadata": {
            "tags": []
          },
          "execution_count": 19
        }
      ]
    },
    {
      "cell_type": "code",
      "metadata": {
        "colab": {
          "base_uri": "https://localhost:8080/"
        },
        "id": "91QYUpDhNFuF",
        "outputId": "fea61fce-b996-44a6-db1c-49ee6104cb26"
      },
      "source": [
        "df.columns"
      ],
      "execution_count": null,
      "outputs": [
        {
          "output_type": "execute_result",
          "data": {
            "text/plain": [
              "Index(['Date', 'Berri1', 'Maisonneuve_1', 'Maisonneuve_2', 'Brebeuf'], dtype='object')"
            ]
          },
          "metadata": {
            "tags": []
          },
          "execution_count": 20
        }
      ]
    },
    {
      "cell_type": "code",
      "metadata": {
        "id": "mAZbwhLnNrR5",
        "colab": {
          "base_uri": "https://localhost:8080/",
          "height": 322
        },
        "outputId": "43dc6b09-cf2d-47dd-c5ce-ab0d020b95a0"
      },
      "source": [
        "df = df.drop('Unnamed: 1', axis = 1)"
      ],
      "execution_count": null,
      "outputs": [
        {
          "output_type": "error",
          "ename": "KeyError",
          "evalue": "ignored",
          "traceback": [
            "\u001b[0;31m---------------------------------------------------------------------------\u001b[0m",
            "\u001b[0;31mKeyError\u001b[0m                                  Traceback (most recent call last)",
            "\u001b[0;32m<ipython-input-21-c99fbdf8f107>\u001b[0m in \u001b[0;36m<module>\u001b[0;34m()\u001b[0m\n\u001b[0;32m----> 1\u001b[0;31m \u001b[0mdf\u001b[0m \u001b[0;34m=\u001b[0m \u001b[0mdf\u001b[0m\u001b[0;34m.\u001b[0m\u001b[0mdrop\u001b[0m\u001b[0;34m(\u001b[0m\u001b[0;34m'Unnamed: 1'\u001b[0m\u001b[0;34m,\u001b[0m \u001b[0maxis\u001b[0m \u001b[0;34m=\u001b[0m \u001b[0;36m1\u001b[0m\u001b[0;34m)\u001b[0m\u001b[0;34m\u001b[0m\u001b[0;34m\u001b[0m\u001b[0m\n\u001b[0m",
            "\u001b[0;32m/usr/local/lib/python3.7/dist-packages/pandas/core/frame.py\u001b[0m in \u001b[0;36mdrop\u001b[0;34m(self, labels, axis, index, columns, level, inplace, errors)\u001b[0m\n\u001b[1;32m   4172\u001b[0m             \u001b[0mlevel\u001b[0m\u001b[0;34m=\u001b[0m\u001b[0mlevel\u001b[0m\u001b[0;34m,\u001b[0m\u001b[0;34m\u001b[0m\u001b[0;34m\u001b[0m\u001b[0m\n\u001b[1;32m   4173\u001b[0m             \u001b[0minplace\u001b[0m\u001b[0;34m=\u001b[0m\u001b[0minplace\u001b[0m\u001b[0;34m,\u001b[0m\u001b[0;34m\u001b[0m\u001b[0;34m\u001b[0m\u001b[0m\n\u001b[0;32m-> 4174\u001b[0;31m             \u001b[0merrors\u001b[0m\u001b[0;34m=\u001b[0m\u001b[0merrors\u001b[0m\u001b[0;34m,\u001b[0m\u001b[0;34m\u001b[0m\u001b[0;34m\u001b[0m\u001b[0m\n\u001b[0m\u001b[1;32m   4175\u001b[0m         )\n\u001b[1;32m   4176\u001b[0m \u001b[0;34m\u001b[0m\u001b[0m\n",
            "\u001b[0;32m/usr/local/lib/python3.7/dist-packages/pandas/core/generic.py\u001b[0m in \u001b[0;36mdrop\u001b[0;34m(self, labels, axis, index, columns, level, inplace, errors)\u001b[0m\n\u001b[1;32m   3887\u001b[0m         \u001b[0;32mfor\u001b[0m \u001b[0maxis\u001b[0m\u001b[0;34m,\u001b[0m \u001b[0mlabels\u001b[0m \u001b[0;32min\u001b[0m \u001b[0maxes\u001b[0m\u001b[0;34m.\u001b[0m\u001b[0mitems\u001b[0m\u001b[0;34m(\u001b[0m\u001b[0;34m)\u001b[0m\u001b[0;34m:\u001b[0m\u001b[0;34m\u001b[0m\u001b[0;34m\u001b[0m\u001b[0m\n\u001b[1;32m   3888\u001b[0m             \u001b[0;32mif\u001b[0m \u001b[0mlabels\u001b[0m \u001b[0;32mis\u001b[0m \u001b[0;32mnot\u001b[0m \u001b[0;32mNone\u001b[0m\u001b[0;34m:\u001b[0m\u001b[0;34m\u001b[0m\u001b[0;34m\u001b[0m\u001b[0m\n\u001b[0;32m-> 3889\u001b[0;31m                 \u001b[0mobj\u001b[0m \u001b[0;34m=\u001b[0m \u001b[0mobj\u001b[0m\u001b[0;34m.\u001b[0m\u001b[0m_drop_axis\u001b[0m\u001b[0;34m(\u001b[0m\u001b[0mlabels\u001b[0m\u001b[0;34m,\u001b[0m \u001b[0maxis\u001b[0m\u001b[0;34m,\u001b[0m \u001b[0mlevel\u001b[0m\u001b[0;34m=\u001b[0m\u001b[0mlevel\u001b[0m\u001b[0;34m,\u001b[0m \u001b[0merrors\u001b[0m\u001b[0;34m=\u001b[0m\u001b[0merrors\u001b[0m\u001b[0;34m)\u001b[0m\u001b[0;34m\u001b[0m\u001b[0;34m\u001b[0m\u001b[0m\n\u001b[0m\u001b[1;32m   3890\u001b[0m \u001b[0;34m\u001b[0m\u001b[0m\n\u001b[1;32m   3891\u001b[0m         \u001b[0;32mif\u001b[0m \u001b[0minplace\u001b[0m\u001b[0;34m:\u001b[0m\u001b[0;34m\u001b[0m\u001b[0;34m\u001b[0m\u001b[0m\n",
            "\u001b[0;32m/usr/local/lib/python3.7/dist-packages/pandas/core/generic.py\u001b[0m in \u001b[0;36m_drop_axis\u001b[0;34m(self, labels, axis, level, errors)\u001b[0m\n\u001b[1;32m   3921\u001b[0m                 \u001b[0mnew_axis\u001b[0m \u001b[0;34m=\u001b[0m \u001b[0maxis\u001b[0m\u001b[0;34m.\u001b[0m\u001b[0mdrop\u001b[0m\u001b[0;34m(\u001b[0m\u001b[0mlabels\u001b[0m\u001b[0;34m,\u001b[0m \u001b[0mlevel\u001b[0m\u001b[0;34m=\u001b[0m\u001b[0mlevel\u001b[0m\u001b[0;34m,\u001b[0m \u001b[0merrors\u001b[0m\u001b[0;34m=\u001b[0m\u001b[0merrors\u001b[0m\u001b[0;34m)\u001b[0m\u001b[0;34m\u001b[0m\u001b[0;34m\u001b[0m\u001b[0m\n\u001b[1;32m   3922\u001b[0m             \u001b[0;32melse\u001b[0m\u001b[0;34m:\u001b[0m\u001b[0;34m\u001b[0m\u001b[0;34m\u001b[0m\u001b[0m\n\u001b[0;32m-> 3923\u001b[0;31m                 \u001b[0mnew_axis\u001b[0m \u001b[0;34m=\u001b[0m \u001b[0maxis\u001b[0m\u001b[0;34m.\u001b[0m\u001b[0mdrop\u001b[0m\u001b[0;34m(\u001b[0m\u001b[0mlabels\u001b[0m\u001b[0;34m,\u001b[0m \u001b[0merrors\u001b[0m\u001b[0;34m=\u001b[0m\u001b[0merrors\u001b[0m\u001b[0;34m)\u001b[0m\u001b[0;34m\u001b[0m\u001b[0;34m\u001b[0m\u001b[0m\n\u001b[0m\u001b[1;32m   3924\u001b[0m             \u001b[0mresult\u001b[0m \u001b[0;34m=\u001b[0m \u001b[0mself\u001b[0m\u001b[0;34m.\u001b[0m\u001b[0mreindex\u001b[0m\u001b[0;34m(\u001b[0m\u001b[0;34m**\u001b[0m\u001b[0;34m{\u001b[0m\u001b[0maxis_name\u001b[0m\u001b[0;34m:\u001b[0m \u001b[0mnew_axis\u001b[0m\u001b[0;34m}\u001b[0m\u001b[0;34m)\u001b[0m\u001b[0;34m\u001b[0m\u001b[0;34m\u001b[0m\u001b[0m\n\u001b[1;32m   3925\u001b[0m \u001b[0;34m\u001b[0m\u001b[0m\n",
            "\u001b[0;32m/usr/local/lib/python3.7/dist-packages/pandas/core/indexes/base.py\u001b[0m in \u001b[0;36mdrop\u001b[0;34m(self, labels, errors)\u001b[0m\n\u001b[1;32m   5285\u001b[0m         \u001b[0;32mif\u001b[0m \u001b[0mmask\u001b[0m\u001b[0;34m.\u001b[0m\u001b[0many\u001b[0m\u001b[0;34m(\u001b[0m\u001b[0;34m)\u001b[0m\u001b[0;34m:\u001b[0m\u001b[0;34m\u001b[0m\u001b[0;34m\u001b[0m\u001b[0m\n\u001b[1;32m   5286\u001b[0m             \u001b[0;32mif\u001b[0m \u001b[0merrors\u001b[0m \u001b[0;34m!=\u001b[0m \u001b[0;34m\"ignore\"\u001b[0m\u001b[0;34m:\u001b[0m\u001b[0;34m\u001b[0m\u001b[0;34m\u001b[0m\u001b[0m\n\u001b[0;32m-> 5287\u001b[0;31m                 \u001b[0;32mraise\u001b[0m \u001b[0mKeyError\u001b[0m\u001b[0;34m(\u001b[0m\u001b[0;34mf\"{labels[mask]} not found in axis\"\u001b[0m\u001b[0;34m)\u001b[0m\u001b[0;34m\u001b[0m\u001b[0;34m\u001b[0m\u001b[0m\n\u001b[0m\u001b[1;32m   5288\u001b[0m             \u001b[0mindexer\u001b[0m \u001b[0;34m=\u001b[0m \u001b[0mindexer\u001b[0m\u001b[0;34m[\u001b[0m\u001b[0;34m~\u001b[0m\u001b[0mmask\u001b[0m\u001b[0;34m]\u001b[0m\u001b[0;34m\u001b[0m\u001b[0;34m\u001b[0m\u001b[0m\n\u001b[1;32m   5289\u001b[0m         \u001b[0;32mreturn\u001b[0m \u001b[0mself\u001b[0m\u001b[0;34m.\u001b[0m\u001b[0mdelete\u001b[0m\u001b[0;34m(\u001b[0m\u001b[0mindexer\u001b[0m\u001b[0;34m)\u001b[0m\u001b[0;34m\u001b[0m\u001b[0;34m\u001b[0m\u001b[0m\n",
            "\u001b[0;31mKeyError\u001b[0m: \"['Unnamed: 1'] not found in axis\""
          ]
        }
      ]
    },
    {
      "cell_type": "code",
      "metadata": {
        "id": "UbWL-dLfNze-"
      },
      "source": [
        "del df[\"Date\"]"
      ],
      "execution_count": null,
      "outputs": []
    },
    {
      "cell_type": "code",
      "metadata": {
        "id": "byllvr_5OL-D"
      },
      "source": [
        "df"
      ],
      "execution_count": null,
      "outputs": []
    },
    {
      "cell_type": "code",
      "metadata": {
        "id": "23zMInokOf06"
      },
      "source": [
        "df.memory_usage()"
      ],
      "execution_count": null,
      "outputs": []
    },
    {
      "cell_type": "code",
      "metadata": {
        "id": "RDVK98SPOsBu"
      },
      "source": [
        "def problema1(path):\n",
        "  df = pd.read_csv(path)\n",
        "  cantidad_columnas = len(df.columns)\n",
        "  nombre = df.columns\n",
        "  registros = df.shape[0]\n",
        "  #memory = \n",
        "\n",
        "\n",
        "  diccionario = {\"cantidad_columnas\":cantidad_columnas, \"nombre_columnas\": nombre}\n",
        "\n",
        "#  lista =  cantidad_columnas, nombre, registros, memory\n",
        "  return diccionario"
      ],
      "execution_count": null,
      "outputs": []
    },
    {
      "cell_type": "code",
      "metadata": {
        "id": "eZHQpZhXPkfn",
        "colab": {
          "base_uri": "https://localhost:8080/"
        },
        "outputId": "3625ce5d-3d0c-4f18-df74-0a834d769d9f"
      },
      "source": [
        "q = problema1(path)\n",
        "q"
      ],
      "execution_count": null,
      "outputs": [
        {
          "output_type": "execute_result",
          "data": {
            "text/plain": [
              "{'cantidad_columnas': 6,\n",
              " 'nombre_columnas': Index(['Date', 'Unnamed: 1', 'Berri1', 'Maisonneuve_1', 'Maisonneuve_2',\n",
              "        'Brebeuf'],\n",
              "       dtype='object')}"
            ]
          },
          "metadata": {
            "tags": []
          },
          "execution_count": 25
        }
      ]
    },
    {
      "cell_type": "code",
      "metadata": {
        "id": "M0KozQSBPn8Z"
      },
      "source": [
        "from google.colab import files\n",
        "from IPython.display import Image\n",
        "#uploaded = files.upload() #Dar la direccion para cargar el archivo planetarios.png\n"
      ],
      "execution_count": null,
      "outputs": []
    },
    {
      "cell_type": "code",
      "metadata": {
        "id": "XK8ecTcXSdRE",
        "colab": {
          "base_uri": "https://localhost:8080/"
        },
        "outputId": "f21f3606-6e65-4996-a226-4fb124ede152"
      },
      "source": [
        "!ls"
      ],
      "execution_count": null,
      "outputs": [
        {
          "output_type": "stream",
          "text": [
            "sample_data\n"
          ],
          "name": "stdout"
        }
      ]
    },
    {
      "cell_type": "code",
      "metadata": {
        "id": "_echORk2SGk3"
      },
      "source": [
        "path=\"https://docs.google.com/spreadsheets/d/e/2PACX-1vQqCpt9ad3JYNclQrdwHtqJVnMlMyNHI-p176ceLZSIZxK9aacD5xaCE3M5oItoTQOjsgm7aEXXW-V0/pub?output=csv\"\n",
        "df = pd.read_csv(path)"
      ],
      "execution_count": null,
      "outputs": []
    },
    {
      "cell_type": "code",
      "metadata": {
        "id": "fppTBj7TUPmr",
        "colab": {
          "base_uri": "https://localhost:8080/",
          "height": 407
        },
        "outputId": "a2fb1046-e8bd-48e8-ecc9-fee5bb342c87"
      },
      "source": [
        "df"
      ],
      "execution_count": null,
      "outputs": [
        {
          "output_type": "execute_result",
          "data": {
            "text/html": [
              "<div>\n",
              "<style scoped>\n",
              "    .dataframe tbody tr th:only-of-type {\n",
              "        vertical-align: middle;\n",
              "    }\n",
              "\n",
              "    .dataframe tbody tr th {\n",
              "        vertical-align: top;\n",
              "    }\n",
              "\n",
              "    .dataframe thead th {\n",
              "        text-align: right;\n",
              "    }\n",
              "</style>\n",
              "<table border=\"1\" class=\"dataframe\">\n",
              "  <thead>\n",
              "    <tr style=\"text-align: right;\">\n",
              "      <th></th>\n",
              "      <th>Unnamed: 0</th>\n",
              "      <th>Primary Type</th>\n",
              "      <th>Date</th>\n",
              "    </tr>\n",
              "  </thead>\n",
              "  <tbody>\n",
              "    <tr>\n",
              "      <th>0</th>\n",
              "      <td>0</td>\n",
              "      <td>DECEPTIVE PRACTICE</td>\n",
              "      <td>09/24/2019 8:00:00 AM</td>\n",
              "    </tr>\n",
              "    <tr>\n",
              "      <th>1</th>\n",
              "      <td>1</td>\n",
              "      <td>THEFT</td>\n",
              "      <td>10/13/2019 8:30:00 PM</td>\n",
              "    </tr>\n",
              "    <tr>\n",
              "      <th>2</th>\n",
              "      <td>2</td>\n",
              "      <td>THEFT</td>\n",
              "      <td>10/05/2019 6:30:00 PM</td>\n",
              "    </tr>\n",
              "    <tr>\n",
              "      <th>3</th>\n",
              "      <td>3</td>\n",
              "      <td>CRIMINAL DAMAGE</td>\n",
              "      <td>10/13/2019 7:00:00 PM</td>\n",
              "    </tr>\n",
              "    <tr>\n",
              "      <th>4</th>\n",
              "      <td>4</td>\n",
              "      <td>ASSAULT</td>\n",
              "      <td>10/13/2019 2:10:00 PM</td>\n",
              "    </tr>\n",
              "    <tr>\n",
              "      <th>...</th>\n",
              "      <td>...</td>\n",
              "      <td>...</td>\n",
              "      <td>...</td>\n",
              "    </tr>\n",
              "    <tr>\n",
              "      <th>995</th>\n",
              "      <td>995</td>\n",
              "      <td>OTHER OFFENSE</td>\n",
              "      <td>10/14/2019 10:47:00 PM</td>\n",
              "    </tr>\n",
              "    <tr>\n",
              "      <th>996</th>\n",
              "      <td>996</td>\n",
              "      <td>BATTERY</td>\n",
              "      <td>10/14/2019 4:00:00 AM</td>\n",
              "    </tr>\n",
              "    <tr>\n",
              "      <th>997</th>\n",
              "      <td>997</td>\n",
              "      <td>THEFT</td>\n",
              "      <td>10/14/2019 10:25:00 AM</td>\n",
              "    </tr>\n",
              "    <tr>\n",
              "      <th>998</th>\n",
              "      <td>998</td>\n",
              "      <td>THEFT</td>\n",
              "      <td>10/14/2019 7:00:00 PM</td>\n",
              "    </tr>\n",
              "    <tr>\n",
              "      <th>999</th>\n",
              "      <td>999</td>\n",
              "      <td>ROBBERY</td>\n",
              "      <td>10/14/2019 4:10:00 PM</td>\n",
              "    </tr>\n",
              "  </tbody>\n",
              "</table>\n",
              "<p>1000 rows × 3 columns</p>\n",
              "</div>"
            ],
            "text/plain": [
              "     Unnamed: 0        Primary Type                    Date\n",
              "0             0  DECEPTIVE PRACTICE   09/24/2019 8:00:00 AM\n",
              "1             1               THEFT   10/13/2019 8:30:00 PM\n",
              "2             2               THEFT   10/05/2019 6:30:00 PM\n",
              "3             3     CRIMINAL DAMAGE   10/13/2019 7:00:00 PM\n",
              "4             4             ASSAULT   10/13/2019 2:10:00 PM\n",
              "..          ...                 ...                     ...\n",
              "995         995       OTHER OFFENSE  10/14/2019 10:47:00 PM\n",
              "996         996             BATTERY   10/14/2019 4:00:00 AM\n",
              "997         997               THEFT  10/14/2019 10:25:00 AM\n",
              "998         998               THEFT   10/14/2019 7:00:00 PM\n",
              "999         999             ROBBERY   10/14/2019 4:10:00 PM\n",
              "\n",
              "[1000 rows x 3 columns]"
            ]
          },
          "metadata": {
            "tags": []
          },
          "execution_count": 29
        }
      ]
    },
    {
      "cell_type": "markdown",
      "metadata": {
        "id": "VBa7N92rANZr"
      },
      "source": [
        ""
      ]
    },
    {
      "cell_type": "code",
      "metadata": {
        "id": "3GzHjfd2U4sg"
      },
      "source": [
        "tf = df[\"Primary Type\"] == \"THEFT\""
      ],
      "execution_count": null,
      "outputs": []
    },
    {
      "cell_type": "code",
      "metadata": {
        "id": "dVFm02QDVCc4"
      },
      "source": [
        "df[tf][\"Primary Type\"].count()"
      ],
      "execution_count": null,
      "outputs": []
    },
    {
      "cell_type": "code",
      "metadata": {
        "id": "D6gaEX4XVZ_T"
      },
      "source": [
        "pd.to_datetime?"
      ],
      "execution_count": null,
      "outputs": []
    },
    {
      "cell_type": "code",
      "metadata": {
        "id": "TCmhDHK4VK3e"
      },
      "source": [
        "df.Date = pd.to_datetime(df.Date, format=\"%m/%d/%Y %I:%M:%S %p\")"
      ],
      "execution_count": null,
      "outputs": []
    },
    {
      "cell_type": "code",
      "metadata": {
        "id": "SGzYSD-2VodG"
      },
      "source": [
        "df.Date[2]"
      ],
      "execution_count": null,
      "outputs": []
    },
    {
      "cell_type": "code",
      "metadata": {
        "id": "X5u11TN8WCoV"
      },
      "source": [
        "datetime.datetime.now()"
      ],
      "execution_count": null,
      "outputs": []
    },
    {
      "cell_type": "code",
      "metadata": {
        "id": "GgNFEWXNYjVC"
      },
      "source": [
        ""
      ],
      "execution_count": null,
      "outputs": []
    },
    {
      "cell_type": "code",
      "metadata": {
        "id": "JMRqunKrWH0S"
      },
      "source": [
        "datos_info = df.groupby(\"Primary Type\").Date.count().sort_values(ascending = True)"
      ],
      "execution_count": null,
      "outputs": []
    },
    {
      "cell_type": "code",
      "metadata": {
        "id": "gJNTexOhZQLk"
      },
      "source": [
        "datos_info"
      ],
      "execution_count": null,
      "outputs": []
    },
    {
      "cell_type": "code",
      "metadata": {
        "id": "I6PUVr1rZOOI"
      },
      "source": [
        "datos_info"
      ],
      "execution_count": null,
      "outputs": []
    },
    {
      "cell_type": "code",
      "metadata": {
        "id": "O4SNjo2JXTwN"
      },
      "source": [
        ""
      ],
      "execution_count": null,
      "outputs": []
    },
    {
      "cell_type": "code",
      "metadata": {
        "id": "ud6imI8sYGTo"
      },
      "source": [
        "import seaborn as sns"
      ],
      "execution_count": null,
      "outputs": []
    },
    {
      "cell_type": "code",
      "metadata": {
        "id": "TcnwoPZ9XfvM"
      },
      "source": [
        "datos_info = datos_info.rename(columns={\"Date\":\"Contador\"})"
      ],
      "execution_count": null,
      "outputs": []
    },
    {
      "cell_type": "code",
      "metadata": {
        "id": "oaZU__5OWycH"
      },
      "source": [
        "ax = sns.barplot(x = \"Contador\", y=\"Primary Type\", data = datos_info)"
      ],
      "execution_count": null,
      "outputs": []
    },
    {
      "cell_type": "markdown",
      "metadata": {
        "id": "kEfWIutYWZf2"
      },
      "source": [
        "# Problema 1.\n",
        "\n",
        "Usando el set `PS4_1.csv`, convertir la serie `Date` en el indice (serie de tiempo) y eliminar la serie `Unnamed: 1` (generado por pandas), retornar un  diccionario con en el siguiente orden:\n",
        "\n",
        "* cantidad de columnas\n",
        "* Nombre de las columnas\n",
        "* número de registros no NaN de cada columna\n",
        "* cantidad total de memoria usada para cargar el dataset en el computador ,( df.memory_usage() )\n",
        "* Estadistica basica para cada columna, media, desviacion estandar, maximo\n",
        "* Remplazar los NaN por None\n",
        "\n",
        "\n",
        "# Problema 2\n",
        "\n",
        "Realizar la lectura del data frame \"Crimes_-_2019.csv\" asociado a los crimenes que se presentaron en Chicago en el 2019. \n",
        "\n",
        "\n",
        "1. Ver la estadistica general del data frame.\n",
        "2. Dejar las columnas PrimaryType, y Date.\n",
        "3. Transformar la columna Date que es tipo string en una tipo Fecha, use el siguiente metodo de pandas pd.to_datetime(df.Date,format=\"%m/%d/%Y %I:%M:%S %p\").\n",
        "4. Mostrar los casos totales para cada tipo de crimen de forma ascendente, emplee:\n",
        "   df.groupby(columna).Date.count()\n",
        "   \n",
        "   sort_values()\n",
        "5. Ordenar los valores por orden alfabetico de Primary type\n",
        "6. Mostrar de la fila 100 a la 120\n",
        "6. Realizar una visualización de los datos anteriores.Emplee la libreria  seaborn con un grafico tipo barplot. Ej.\n",
        "   ax = sns.barplot(x = \"contador\", y=\"Primary Type\", data = datos)\n",
        "\n",
        "\n",
        "\n",
        "\n",
        "# Problema 3\n",
        "\n",
        "1. Leer el dataset country_vaccinations.csv  y filtrar los datos para Colombia\n",
        "2. Crear un csv con los datos para colombia\n",
        "3. Realizar una comparacion con los paises latinoamericanos. \n",
        "4. A traves de mascaras determinar el numero de vacunados en el intervalo  [1.5E6, 2.0E6]\n"
      ]
    }
  ]
}
