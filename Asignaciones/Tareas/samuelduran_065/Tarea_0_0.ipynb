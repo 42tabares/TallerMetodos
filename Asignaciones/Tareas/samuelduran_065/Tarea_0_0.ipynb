{
  "nbformat": 4,
  "nbformat_minor": 0,
  "metadata": {
    "colab": {
      "name": "Tarea 0.0",
      "provenance": [],
      "collapsed_sections": []
    },
    "kernelspec": {
      "name": "python3",
      "display_name": "Python 3"
    },
    "language_info": {
      "name": "python"
    }
  },
  "cells": [
    {
      "cell_type": "code",
      "execution_count": 51,
      "metadata": {
        "id": "XaTzGot-dIJd"
      },
      "outputs": [],
      "source": [
        "import numpy as np\n",
        "import string\n",
        "import random"
      ]
    },
    {
      "cell_type": "markdown",
      "source": [
        "algoritmo que calcula el factorial de un numero\n"
      ],
      "metadata": {
        "id": "wMUT5uv2dcZM"
      }
    },
    {
      "cell_type": "code",
      "source": [
        "def factorial(n):\n",
        "  fac=1\n",
        "  for i in range (1,n+1,1):\n",
        "    fac*=i\n",
        "  print(\"%d!=%d\"%(n,fac))  "
      ],
      "metadata": {
        "id": "Q0sqyvHrdgch"
      },
      "execution_count": 3,
      "outputs": []
    },
    {
      "cell_type": "markdown",
      "source": [
        "Programa para clasificar dos numeros\n"
      ],
      "metadata": {
        "id": "NINK8bNrn5_G"
      }
    },
    {
      "cell_type": "code",
      "source": [
        "def clase_numero(a,b):\n",
        "  da=[]\n",
        "  db=[]\n",
        "  for i in range(1,a+1,1):\n",
        "      if a%i==0:\n",
        "        da.append(i)\n",
        "  for j in range(1,b+1,1):\n",
        "      if b%j==0:\n",
        "        db.append(j)\n",
        "  if sum(da)<a:\n",
        "    print(\"a=%d es un numero defectivo\"%(a))\n",
        "  if sum(db)<b:\n",
        "    print(\"b=%d es un numero defectivo\"%(b))\n",
        "  if sum(da)>a:\n",
        "    print(\"a=%d es un numero abundante\"%(a))\n",
        "  if sum(db)>b:\n",
        "    print(\"b=%d es un numero abundante\"%(b))\n",
        "  if sum(da)==b and sum(db)==a:\n",
        "    print(f\"a={a} y b={b} son numeros amigos\")\n",
        "  if sum(da)==a or sum(da)>a:\n",
        "    print(\"a=%d es un numero semiperfecto\"%(a))\n",
        "  if sum(db)==b or sum(db)>b:\n",
        "    print(\"b=%d es un numero semiperfecto\"%(b))\n",
        "  if sum(da)==a:\n",
        "    print(\"a=%d es un numero perfecto\"%(a))\n",
        "  if sum(db)==b:\n",
        "    print(\"b=%d es un numero perfecto\"%(b))\n",
        "  if da[0]==1 and da[1]==a:\n",
        "    print(\"a=%d es un numero primo\"%(a))\n",
        "  if db[0]==1 and db[1]==b:\n",
        "    print(\"b=%d es un numero primo\"%(b))\n",
        "\n",
        "  \n",
        "\n"
      ],
      "metadata": {
        "id": "6QDSV0pOdymH"
      },
      "execution_count": 4,
      "outputs": []
    },
    {
      "cell_type": "markdown",
      "source": [
        "codigo para determinar si un numero es un palindromo:\n",
        "\n"
      ],
      "metadata": {
        "id": "ZNzN2vGlBKn0"
      }
    },
    {
      "cell_type": "code",
      "source": [
        "def palindromo(n):\n",
        "  l=list(map(int, str(n))) #crea una lista donde cada elemento es un digito del numero\n",
        "  if l==list(reversed(l)):\n",
        "    return True\n",
        "  else:\n",
        "    return False"
      ],
      "metadata": {
        "id": "LQ1IcNNWBOxG"
      },
      "execution_count": 5,
      "outputs": []
    },
    {
      "cell_type": "markdown",
      "source": [
        "cadena de caracteres"
      ],
      "metadata": {
        "id": "r0XGiqh33sxQ"
      }
    },
    {
      "cell_type": "code",
      "source": [
        "def cadena(s):\n",
        "  l=[]\n",
        "  vocales=[]\n",
        "  consonantes=[]\n",
        "  if len(s)%2==0:\n",
        "    if s[int((len(s)/2)-1)]==\"a\" or s[int(len(s)/2)]== \"a\" or s[int((len(s)/2)-1)]==\"e\" or s[int(len(s)/2)]==\"e\" or s[int((len(s)/2)-1)]==\"i\" or s[int(len(s)/2)]==\"i\" or s[int((len(s)/2)-1)]==\"o\" or s[int(len(s)/2)]==\"o\" or s[int((len(s)/2)-1)]==\"u\" or s[int(len(s)/2)]==\"u\":\n",
        "      l.append(True)\n",
        "    else:\n",
        "      l.append(False)\n",
        "  if len(s)%2==1:\n",
        "    if s[int((len(s)+1)/2)] == \"a\" or s[int((len(s)+1)/2)] ==\"e\" or s[int((len(s)+1)/2)] ==\"i\" or s[int((len(s)+1)/2)] ==\"o\" or s[int((len(s)+1)/2)] ==\"u\":\n",
        "      l.append(True)\n",
        "    else:\n",
        "      l.append(False)\n",
        "\n",
        "  for i in range(0,len(s),1):\n",
        "    if s[i] == \"a\" or s[i]==\"e\" or s[i]==\"i\" or s[i]==\"o\" or s[i]==\"u\":\n",
        "      vocales.append(s[i])\n",
        "    if s[i] == \"q\" or  s[i] ==\"w\" or s[i] ==\"r\" or s[i] ==\"t\" or s[i] ==\"y\" or s[i] ==\"p\" or s[i] ==\"s\" or s[i] ==\"d\" or s[i] ==\"f\" or s[i] ==\"g\" or s[i] ==\"h\" or s[i] ==\"j\" or s[i] ==\"k\" or s[i] ==\"l\" or s[i] ==\"ñ\" or s[i] ==\"z\" or s[i] ==\"x\" or s[i] ==\"c\" or s[i] ==\"v\" or s[i] ==\"b\" or s[i] ==\"n\" or s[i] ==\"m\":\n",
        "      consonantes.append(s[i])\n",
        "  l.append(len(vocales))\n",
        "  l.append(len(consonantes))\n",
        "  l.append(\"\".join(reversed(s)))\n",
        "  return l\n",
        "\n",
        "  "
      ],
      "metadata": {
        "id": "lPKjvoJKt5wv"
      },
      "execution_count": 38,
      "outputs": []
    },
    {
      "cell_type": "markdown",
      "source": [
        "fibonacci"
      ],
      "metadata": {
        "id": "YYpyvodK3v9g"
      }
    },
    {
      "cell_type": "code",
      "source": [
        "def fibonacci(n):\n",
        "  x_0=0\n",
        "  x_1=1\n",
        "  for i in range(0,n+1,1):\n",
        "    x=x_0\n",
        "    x_0=x_1\n",
        "    x_1=x_1+x\n",
        "  return x\n",
        "    \n",
        "\n"
      ],
      "metadata": {
        "id": "4yx1fcLRKloM"
      },
      "execution_count": 46,
      "outputs": []
    },
    {
      "cell_type": "markdown",
      "source": [
        "quicksort"
      ],
      "metadata": {
        "id": "hjmbIT-43ydf"
      }
    },
    {
      "cell_type": "code",
      "source": [
        "v=[22, 32, 42, 12, 22, 31, 41, 11, 12, 232, 24, 12, 22]\n",
        "def particion(v):\n",
        "  pivote = v[0]\n",
        "  menores=[]\n",
        "  mayores=[]\n",
        "  for i in range(1,len(v)):\n",
        "    if v[i]<pivote:\n",
        "      menores.append(v[i])\n",
        "    else:\n",
        "      mayores.append(v[i])\n",
        "  return menores, pivote, mayores\n",
        "\n",
        "def quicksort(v):\n",
        "  if len(v)<2:\n",
        "    return v\n",
        "  menores, pivote, mayores= particion(v)\n",
        "  return quicksort(menores) +[pivote]+ quicksort(mayores)\n",
        "\n",
        "print(quicksort(v))"
      ],
      "metadata": {
        "colab": {
          "base_uri": "https://localhost:8080/"
        },
        "id": "lTEZmcHKK5AV",
        "outputId": "d8a3ca8d-eabd-4b85-f2ec-767e606dee53"
      },
      "execution_count": 122,
      "outputs": [
        {
          "output_type": "stream",
          "name": "stdout",
          "text": [
            "[11, 12, 12, 12, 22, 22, 22, 24, 31, 32, 41, 42, 232]\n"
          ]
        }
      ]
    },
    {
      "cell_type": "code",
      "source": [
        "v=[22, 32, 42, 12, 22, 31, 41, 11, 12, 232, 24, 12, 22]\n",
        "for i in v:\n",
        "  for j in reversed(v):\n",
        "    print(v[i])\n",
        "    print(v[j])"
      ],
      "metadata": {
        "id": "eL6HObypNxgT",
        "colab": {
          "base_uri": "https://localhost:8080/",
          "height": 224
        },
        "outputId": "8e1d87fb-140b-493c-813b-e5907814ab7e"
      },
      "execution_count": 101,
      "outputs": [
        {
          "output_type": "error",
          "ename": "IndexError",
          "evalue": "ignored",
          "traceback": [
            "\u001b[0;31m---------------------------------------------------------------------------\u001b[0m",
            "\u001b[0;31mIndexError\u001b[0m                                Traceback (most recent call last)",
            "\u001b[0;32m<ipython-input-101-665a6b6f12e8>\u001b[0m in \u001b[0;36m<module>\u001b[0;34m()\u001b[0m\n\u001b[1;32m      2\u001b[0m \u001b[0;32mfor\u001b[0m \u001b[0mi\u001b[0m \u001b[0;32min\u001b[0m \u001b[0mv\u001b[0m\u001b[0;34m:\u001b[0m\u001b[0;34m\u001b[0m\u001b[0;34m\u001b[0m\u001b[0m\n\u001b[1;32m      3\u001b[0m   \u001b[0;32mfor\u001b[0m \u001b[0mj\u001b[0m \u001b[0;32min\u001b[0m \u001b[0mreversed\u001b[0m\u001b[0;34m(\u001b[0m\u001b[0mv\u001b[0m\u001b[0;34m)\u001b[0m\u001b[0;34m:\u001b[0m\u001b[0;34m\u001b[0m\u001b[0;34m\u001b[0m\u001b[0m\n\u001b[0;32m----> 4\u001b[0;31m     \u001b[0mprint\u001b[0m\u001b[0;34m(\u001b[0m\u001b[0mv\u001b[0m\u001b[0;34m[\u001b[0m\u001b[0mi\u001b[0m\u001b[0;34m]\u001b[0m\u001b[0;34m)\u001b[0m\u001b[0;34m\u001b[0m\u001b[0;34m\u001b[0m\u001b[0m\n\u001b[0m\u001b[1;32m      5\u001b[0m     \u001b[0mprint\u001b[0m\u001b[0;34m(\u001b[0m\u001b[0mv\u001b[0m\u001b[0;34m[\u001b[0m\u001b[0mj\u001b[0m\u001b[0;34m]\u001b[0m\u001b[0;34m)\u001b[0m\u001b[0;34m\u001b[0m\u001b[0;34m\u001b[0m\u001b[0m\n",
            "\u001b[0;31mIndexError\u001b[0m: list index out of range"
          ]
        }
      ]
    },
    {
      "cell_type": "code",
      "source": [
        "v[-1]"
      ],
      "metadata": {
        "colab": {
          "base_uri": "https://localhost:8080/"
        },
        "id": "eKlFyrBY5nuR",
        "outputId": "8219f32f-d5c3-4670-cb8a-a82fd34406c7"
      },
      "execution_count": 115,
      "outputs": [
        {
          "output_type": "execute_result",
          "data": {
            "text/plain": [
              "22"
            ]
          },
          "metadata": {},
          "execution_count": 115
        }
      ]
    },
    {
      "cell_type": "code",
      "source": [
        ""
      ],
      "metadata": {
        "id": "JsMAPcGP5pOT"
      },
      "execution_count": null,
      "outputs": []
    }
  ]
}