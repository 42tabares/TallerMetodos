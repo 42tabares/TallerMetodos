{
  "nbformat": 4,
  "nbformat_minor": 0,
  "metadata": {
    "colab": {
      "name": "Tarea MatricesBasico.ipynb",
      "provenance": [],
      "collapsed_sections": []
    },
    "kernelspec": {
      "name": "python3",
      "display_name": "Python 3"
    },
    "language_info": {
      "name": "python"
    }
  },
  "cells": [
    {
      "cell_type": "code",
      "source": [
        "import numpy as np\n",
        "from scipy import linalg\n",
        "import matplotlib.pyplot as plt\n",
        "import pandas as pd"
      ],
      "metadata": {
        "id": "hawjcmjx0Hev"
      },
      "execution_count": 1,
      "outputs": []
    },
    {
      "cell_type": "markdown",
      "source": [
        "# Matrices "
      ],
      "metadata": {
        "id": "Cdy-GXp4LEri"
      }
    },
    {
      "cell_type": "markdown",
      "source": [
        "## Operaciones Básicas\n",
        "\n",
        "1. Un proceso para encriptar un mensaje secreto es usar cierta matrix cuadrada cuyos elementos son enteros con elementos enteros en la inversa. Se recibe un mensaje, se asigna un número a cada letra Por ejemplo, A=1, B=2, C=3, ... etc y espacio=27), se arreglan los números en una matriz de izquierda a derecha en cada fila, donde el número de elementos en la fila es igual al tamano de la matriz de codigo, se multiplica esa matriz por la matriz de código por la derecha, se transcribe el mensaje en una cadena de números y se manda el mensaje. \n",
        "\n",
        "La persona que debe recibir el mensaje conoce la matriz de codigo. El o ellla arrelgan el mensaje encriptado en una matriz de izquierda a derecha en cada fila, en donde el numero de elementos en una fila conicide con el tamano de la matriz de codigo muplicada por la derecha, por el inverso de la matriz de código y puede leer mensaje decodificado.\n",
        "\n",
        "Usted a recibido el siguiente mensaje que fue encriptado usando la matriz A. Decodifiquelo.\n",
        "\n",
        "```\n",
        "A = matrix([[ 1,  2, -3,  4,  5],\n",
        "        [-2, -5,  8, -8, -9],\n",
        "        [ 1,  2, -2,  7,  9],\n",
        "        [ 1,  1,  0,  6, 12],\n",
        "        [ 2,  4, -6,  8, 11]])\n",
        "```\n",
        "\n",
        "Mensaje\n",
        "\n",
        "47,49,-19,257,487,10,-9,63,137,236, 79,142,-184,372,536,59,70,-40,332,588, \n",
        "\n",
        "la primera fila del mensaje es 47,49,-19,257,487\n",
        "\n",
        "¿Cual es el mensaje?\n",
        "\n",
        "\n",
        "\n",
        "```\n",
        "abc=['A','B','C','D','E','F','G','H','I','J','K','L','M','N','O','P','Q','R','S','T','U','V','W','X','Y','Z',' ']\n",
        "num=['1','2','3','4','5','6','7','8','9','10','11','12','13','14','15','16','17','18','19','20','21','22','23','24','25','26','27']\n",
        "```\n",
        "\n",
        "\n",
        "\n",
        "2. Construir un programa que permita realizar la multiplicacion de dos \n",
        "matrices. El programa debe establecer si las matrices se pueden multiplicar.\n",
        "\n",
        "\n"
      ],
      "metadata": {
        "id": "Yrith54klatR"
      }
    },
    {
      "cell_type": "markdown",
      "source": [
        "##1 encriptacion"
      ],
      "metadata": {
        "id": "FIr-LU4Tz96B"
      }
    },
    {
      "cell_type": "code",
      "source": [
        "#definimos la matriz\n",
        "A = np.matrix([[ 1,  2, -3,  4,  5],\n",
        "        [-2, -5,  8, -8, -9],\n",
        "        [ 1,  2, -2,  7,  9],\n",
        "        [ 1,  1,  0,  6, 12],\n",
        "        [ 2,  4, -6,  8, 11]])"
      ],
      "metadata": {
        "id": "FI_g4J3Tz7kS"
      },
      "execution_count": 2,
      "outputs": []
    },
    {
      "cell_type": "code",
      "source": [
        "#Definimos la matriz de codigo\n",
        "B= np.matrix([[47,49,-19,257,487],[10,-9,63,137,236],[ 79,142,-184,372,536],[59,70,-40,332,588]])"
      ],
      "metadata": {
        "id": "Q4orNjqg0qYv"
      },
      "execution_count": 3,
      "outputs": []
    },
    {
      "cell_type": "code",
      "source": [
        "B"
      ],
      "metadata": {
        "colab": {
          "base_uri": "https://localhost:8080/"
        },
        "id": "oXC5nizk1LgK",
        "outputId": "a68c5ed7-f75e-4c19-b4e2-10b75875ad8a"
      },
      "execution_count": 4,
      "outputs": [
        {
          "output_type": "execute_result",
          "data": {
            "text/plain": [
              "matrix([[  47,   49,  -19,  257,  487],\n",
              "        [  10,   -9,   63,  137,  236],\n",
              "        [  79,  142, -184,  372,  536],\n",
              "        [  59,   70,  -40,  332,  588]])"
            ]
          },
          "metadata": {},
          "execution_count": 4
        }
      ]
    },
    {
      "cell_type": "markdown",
      "source": [
        "sea $M$ la matriz mensaje, $B$ la matriz del mensaje codificado y $A$ la matriz codigo:\n",
        "\n",
        "$$M A= B$$\n",
        "\n",
        "entonces para recuperar el mensaje:\n",
        "\n",
        "$$M= B A^{-1}$$"
      ],
      "metadata": {
        "id": "qSzt8INPSRuJ"
      }
    },
    {
      "cell_type": "code",
      "source": [
        "M=B@A.I"
      ],
      "metadata": {
        "id": "RPR2sjU0SRWh"
      },
      "execution_count": 5,
      "outputs": []
    },
    {
      "cell_type": "code",
      "source": [
        "M"
      ],
      "metadata": {
        "colab": {
          "base_uri": "https://localhost:8080/"
        },
        "id": "8-9eHbABS1WA",
        "outputId": "e38ff9fe-1748-4087-e860-c44e96f70c10"
      },
      "execution_count": 6,
      "outputs": [
        {
          "output_type": "execute_result",
          "data": {
            "text/plain": [
              "matrix([[ 1., 18.,  5., 27., 25.],\n",
              "        [15., 21., 27.,  8.,  1.],\n",
              "        [22.,  9., 14.,  7., 27.],\n",
              "        [ 6., 21., 14., 27., 27.]])"
            ]
          },
          "metadata": {},
          "execution_count": 6
        }
      ]
    },
    {
      "cell_type": "code",
      "source": [
        "abc=['A','B','C','D','E','F','G','H','I','J','K','L','M','N','O','P','Q','R','S','T','U','V','W','X','Y','Z',' ']\n",
        "num=['1','2','3','4','5','6','7','8','9','10','11','12','13','14','15','16','17','18','19','20','21','22','23','24','25','26','27']"
      ],
      "metadata": {
        "id": "NeTGoVZfS8mk"
      },
      "execution_count": 7,
      "outputs": []
    },
    {
      "cell_type": "code",
      "source": [
        "z=M.tolist()"
      ],
      "metadata": {
        "id": "HKl-W9gxZTYo"
      },
      "execution_count": 8,
      "outputs": []
    },
    {
      "cell_type": "code",
      "source": [
        "me=z[0]+z[1]+z[2]+z[3]"
      ],
      "metadata": {
        "id": "rnJGImElZ-nW"
      },
      "execution_count": 9,
      "outputs": []
    },
    {
      "cell_type": "code",
      "source": [
        "me"
      ],
      "metadata": {
        "colab": {
          "base_uri": "https://localhost:8080/"
        },
        "id": "MV9MHJGvd54Z",
        "outputId": "7eb710be-508b-40a1-e6fc-c7108eb0b9b1"
      },
      "execution_count": 10,
      "outputs": [
        {
          "output_type": "execute_result",
          "data": {
            "text/plain": [
              "[0.9999999999993179,\n",
              " 18.00000000000006,\n",
              " 5.000000000000002,\n",
              " 26.99999999999994,\n",
              " 25.000000000000114,\n",
              " 14.999999999999773,\n",
              " 21.00000000000007,\n",
              " 27.000000000000007,\n",
              " 7.999999999999943,\n",
              " 1.000000000000142,\n",
              " 21.999999999999318,\n",
              " 9.000000000000076,\n",
              " 14.00000000000003,\n",
              " 6.999999999999924,\n",
              " 27.00000000000034,\n",
              " 5.999999999999318,\n",
              " 21.000000000000064,\n",
              " 13.999999999999998,\n",
              " 26.999999999999936,\n",
              " 27.00000000000034]"
            ]
          },
          "metadata": {},
          "execution_count": 10
        }
      ]
    },
    {
      "cell_type": "code",
      "source": [
        "x=[]"
      ],
      "metadata": {
        "id": "SuNHptEpkomp"
      },
      "execution_count": 11,
      "outputs": []
    },
    {
      "cell_type": "code",
      "source": [
        "for i in range (0,len(me),1):\n",
        "  x.append(round(me[i]))"
      ],
      "metadata": {
        "id": "YWRdp6Knblfg"
      },
      "execution_count": 12,
      "outputs": []
    },
    {
      "cell_type": "code",
      "source": [
        "x"
      ],
      "metadata": {
        "colab": {
          "base_uri": "https://localhost:8080/"
        },
        "id": "GiFLdw-nfSit",
        "outputId": "06ad9c75-1ea4-4cd1-915a-25732974baa5"
      },
      "execution_count": 13,
      "outputs": [
        {
          "output_type": "execute_result",
          "data": {
            "text/plain": [
              "[1, 18, 5, 27, 25, 15, 21, 27, 8, 1, 22, 9, 14, 7, 27, 6, 21, 14, 27, 27]"
            ]
          },
          "metadata": {},
          "execution_count": 13
        }
      ]
    },
    {
      "cell_type": "code",
      "source": [
        "for i in x:\n",
        "  print(abc[i-1])"
      ],
      "metadata": {
        "colab": {
          "base_uri": "https://localhost:8080/"
        },
        "id": "3K2Vi9nGd_7O",
        "outputId": "319efcd3-77c6-40c3-c642-0d6cc99a0ea5"
      },
      "execution_count": 14,
      "outputs": [
        {
          "output_type": "stream",
          "name": "stdout",
          "text": [
            "A\n",
            "R\n",
            "E\n",
            " \n",
            "Y\n",
            "O\n",
            "U\n",
            " \n",
            "H\n",
            "A\n",
            "V\n",
            "I\n",
            "N\n",
            "G\n",
            " \n",
            "F\n",
            "U\n",
            "N\n",
            " \n",
            " \n"
          ]
        }
      ]
    },
    {
      "cell_type": "markdown",
      "source": [
        "2. multiplicacion de matrices"
      ],
      "metadata": {
        "id": "bsviYXs2vrCy"
      }
    },
    {
      "cell_type": "code",
      "source": [
        "def mult(A,B):\n",
        "  result=np.zeros((np.shape(A)[1],np.shape(B)[0]))\n",
        "  if np.shape(A)[1]==np.shape(B)[0]:\n",
        "    for i in range(len(A)): #Cantidad de filas en A\n",
        "      for j in range(len(B[0])): #Cantidad de columnas de B\n",
        "        for k in range(len(A)):\n",
        "          result[i][j]+=A[i][k]*B[k][j]\n",
        "  return result"
      ],
      "metadata": {
        "id": "jfAI4yEjhBxL"
      },
      "execution_count": 15,
      "outputs": []
    },
    {
      "cell_type": "code",
      "source": [
        "np.random.seed(100000)\n",
        "A=np.random.randint(0,10,size=(3,3))\n",
        "B=np.random.randint(0,10,size=(3,3))"
      ],
      "metadata": {
        "id": "hK8HgzkPiJsY"
      },
      "execution_count": 16,
      "outputs": []
    },
    {
      "cell_type": "code",
      "source": [
        "A"
      ],
      "metadata": {
        "colab": {
          "base_uri": "https://localhost:8080/"
        },
        "id": "CqPIAkxHo9YA",
        "outputId": "be0261bf-2311-4843-bd42-6c542031513e"
      },
      "execution_count": 17,
      "outputs": [
        {
          "output_type": "execute_result",
          "data": {
            "text/plain": [
              "array([[9, 7, 5],\n",
              "       [4, 8, 4],\n",
              "       [1, 9, 0]])"
            ]
          },
          "metadata": {},
          "execution_count": 17
        }
      ]
    },
    {
      "cell_type": "code",
      "source": [
        "B"
      ],
      "metadata": {
        "colab": {
          "base_uri": "https://localhost:8080/"
        },
        "id": "yP51OCj6o_I2",
        "outputId": "ff6de94c-3431-4366-8b1b-fb68c7c346cb"
      },
      "execution_count": 18,
      "outputs": [
        {
          "output_type": "execute_result",
          "data": {
            "text/plain": [
              "array([[2, 5, 2],\n",
              "       [6, 3, 5],\n",
              "       [0, 1, 2]])"
            ]
          },
          "metadata": {},
          "execution_count": 18
        }
      ]
    },
    {
      "cell_type": "code",
      "source": [
        "mult(A,B)"
      ],
      "metadata": {
        "colab": {
          "base_uri": "https://localhost:8080/"
        },
        "id": "RgbHqv4HoskL",
        "outputId": "30a44b97-602a-480e-a711-bbb146508ad6"
      },
      "execution_count": 19,
      "outputs": [
        {
          "output_type": "execute_result",
          "data": {
            "text/plain": [
              "array([[60., 71., 63.],\n",
              "       [56., 48., 56.],\n",
              "       [56., 32., 47.]])"
            ]
          },
          "metadata": {},
          "execution_count": 19
        }
      ]
    },
    {
      "cell_type": "code",
      "source": [
        "A@B"
      ],
      "metadata": {
        "colab": {
          "base_uri": "https://localhost:8080/"
        },
        "id": "DeTwaxR4pRHv",
        "outputId": "c56e6de8-b469-4e4d-cb02-79d5f8d39591"
      },
      "execution_count": 20,
      "outputs": [
        {
          "output_type": "execute_result",
          "data": {
            "text/plain": [
              "array([[60, 71, 63],\n",
              "       [56, 48, 56],\n",
              "       [56, 32, 47]])"
            ]
          },
          "metadata": {},
          "execution_count": 20
        }
      ]
    },
    {
      "cell_type": "markdown",
      "source": [
        "\n",
        "## Regresión lineal: 1D\n",
        "2. Para los datos generados en el siguiente dataframe  realizar una regresión lineal, empleando  la siguiente ecuación.\n",
        "\n",
        "$\\Theta = (X^T X)^{-1} X^T y$\n",
        "\n",
        "Los parametros theta se corresponden con la siguiente ecuacion de la recta:\n",
        "\n",
        "$y = \\theta^T X =\\theta_0 + \\theta_1 x_1 $\n",
        "\n",
        "```\n",
        "N = 10\n",
        "x1 = np.linspace(-1, 1, N)\n",
        "y = 2*x1 #- 3*x2 + 0.0\n",
        "df = pd.DataFrame({\"Y\":y, \"X1\":x1})\n",
        "\n",
        "df[\"ones\"] = np.ones(N)\n",
        "\n",
        "plt.plot(df.X1,df.Y,\"ro\")\n",
        "\n",
        "X = np.matrix(df[ [\"ones\",\"X1\"] ])\n",
        "np.shape(X)\n",
        "y = np.array([df[\"Y\"]])\n",
        "Y  = np.matrix(np.transpose(y))\n",
        "np.shape(Y)\n",
        "```\n",
        "\n",
        "## Regresión lineal: 2D\n",
        "3. La ecuación anterior puede ser aplicada a sistemas n-dimensionales, como se describie en el siguiente ejercicio. Suponga que se tiene un sistema físico con dos caracteristiacs X1,X2 que se corresponden con un predicción  Y. \n",
        "\n",
        "- Encontrar el plano que ajusta los datos, para los datos sinteticos dados mas abajo , a través de:\n",
        "\\begin{equation}\n",
        "\\Theta = (X^T X)^{-1} X^T y\n",
        "\\end{equation}\n",
        "\n",
        "- Construya el plano en 3D, donde se evidencia los puntos y el plano de ajustes.\n",
        "\n",
        "$y = \\theta^T X =\\theta_0 + \\theta_1 X_1+ \\theta_2 X_2$\n",
        "\n",
        "\n",
        "```\n",
        "N = 200\n",
        "x1 = np.linspace(-1, 1, N) \n",
        "x2 = np.linspace(-1, 1, N)\n",
        "\n",
        "X1, X2 = np.meshgrid(x1,x2)\n",
        "Y = 0.2*X1 - 0.5*X2 - 1.0\n",
        "\n",
        "# Ecuaciones parametricas del mismo plano:\n",
        "alpha = 2*np.random.random(N)-1\n",
        "beta  = 2*np.random.random(N)-1\n",
        "x1 = alpha\n",
        "x2 = beta\n",
        "y = 0.2*alpha - 0.5*beta - 1.0\n",
        "\n",
        "fig, ax = plt.subplots(subplot_kw={\"projection\": \"3d\"})\n",
        "surf = ax.scatter(x1, x2, y, color=\"green\")\n",
        "ax.set_xlabel(\"X1\")\n",
        "ax.set_ylabel(\"X2\")\n",
        "ax.set_zlabel(\"Y1\")\n",
        "\n",
        "```\n",
        "\n",
        "\n",
        "DataFrame\n",
        "```\n",
        "# Regresion bi-lineal\n",
        "df = pd.DataFrame({\"Y\":y, \"X1\":x1,\"X2\":x2})\n",
        "df[\"ones\"] = np.ones(N)\n",
        "\n",
        "\n",
        "y = np.reshape(df.Y.values, (N,1))\n",
        "X = df[[\"ones\",\"X1\",\"X2\"]].values\n",
        "X = np.matrix(X)\n",
        "```\n",
        "\n",
        " "
      ],
      "metadata": {
        "id": "tkhci52rmiif"
      }
    },
    {
      "cell_type": "markdown",
      "source": [
        "##Regresion lineal 1D:\n"
      ],
      "metadata": {
        "id": "ekY9nk1rkYVQ"
      }
    },
    {
      "cell_type": "code",
      "source": [
        "N = 10\n",
        "x1 = np.linspace(-1, 1, N)\n",
        "y = 2*x1 #- 3*x2 + 0.0\n",
        "df = pd.DataFrame({\"Y\":y, \"X1\":x1})\n",
        "\n",
        "df[\"ones\"] = np.ones(N)\n",
        "\n",
        "plt.plot(df.X1,df.Y,\"ro\")\n",
        "\n",
        "X = np.matrix(df[ [\"ones\",\"X1\"] ])\n",
        "np.shape(X)\n",
        "y = np.array([df[\"Y\"]])\n",
        "Y  = np.matrix(np.transpose(y))\n",
        "np.shape(Y)"
      ],
      "metadata": {
        "colab": {
          "base_uri": "https://localhost:8080/",
          "height": 283
        },
        "id": "_gYvL9mskS52",
        "outputId": "d599a42f-4be2-4365-a7e3-5bdb4a1292db"
      },
      "execution_count": 21,
      "outputs": [
        {
          "output_type": "execute_result",
          "data": {
            "text/plain": [
              "(10, 1)"
            ]
          },
          "metadata": {},
          "execution_count": 21
        },
        {
          "output_type": "display_data",
          "data": {
            "text/plain": [
              "<Figure size 432x288 with 1 Axes>"
            ],
            "image/png": "[encoded data removed]"
          },
          "metadata": {
            "needs_background": "light"
          }
        }
      ]
    },
    {
      "cell_type": "code",
      "source": [
        "X=np.matrix(df[['ones','X1']])\n",
        "inv=(X.T@X).I\n",
        "y = np.array([df[\"Y\"]])\n",
        "Y  = np.matrix(np.transpose(y))\n",
        "np.shape(Y)"
      ],
      "metadata": {
        "colab": {
          "base_uri": "https://localhost:8080/"
        },
        "id": "gupLZjLbk_WX",
        "outputId": "8dc8a629-50e8-486e-e043-2cc3f2ccc8b3"
      },
      "execution_count": 22,
      "outputs": [
        {
          "output_type": "execute_result",
          "data": {
            "text/plain": [
              "(10, 1)"
            ]
          },
          "metadata": {},
          "execution_count": 22
        }
      ]
    },
    {
      "cell_type": "code",
      "source": [
        "Θ=inv@X.T@Y"
      ],
      "metadata": {
        "id": "BHRSoNbxlHr-"
      },
      "execution_count": 23,
      "outputs": []
    },
    {
      "cell_type": "code",
      "source": [
        "Θ.T"
      ],
      "metadata": {
        "colab": {
          "base_uri": "https://localhost:8080/"
        },
        "id": "pHATosFWlNcv",
        "outputId": "3d9a5e01-ed51-47dd-fa0c-3fedd6e7aedf"
      },
      "execution_count": 24,
      "outputs": [
        {
          "output_type": "execute_result",
          "data": {
            "text/plain": [
              "matrix([[-5.55111512e-17,  2.00000000e+00]])"
            ]
          },
          "metadata": {},
          "execution_count": 24
        }
      ]
    },
    {
      "cell_type": "code",
      "source": [
        "Θ[1,0]"
      ],
      "metadata": {
        "colab": {
          "base_uri": "https://localhost:8080/"
        },
        "id": "lXJ-jJyftApp",
        "outputId": "67e7b5ca-92ff-4d40-dd76-9092e804b689"
      },
      "execution_count": 25,
      "outputs": [
        {
          "output_type": "execute_result",
          "data": {
            "text/plain": [
              "1.9999999999999996"
            ]
          },
          "metadata": {},
          "execution_count": 25
        }
      ]
    },
    {
      "cell_type": "markdown",
      "source": [
        "Entonces $y=\\theta ^{T}X=\\theta_{1}+\\theta_{2}x$"
      ],
      "metadata": {
        "id": "WQ4eSegmlahu"
      }
    },
    {
      "cell_type": "code",
      "source": [
        "x=np.linspace(-1,1,100)\n",
        "y=Θ.T[0,0]+Θ.T[0,1]*x"
      ],
      "metadata": {
        "id": "gJZrEWi8r5mh"
      },
      "execution_count": 26,
      "outputs": []
    },
    {
      "cell_type": "code",
      "source": [
        "y"
      ],
      "metadata": {
        "id": "kOXSSRaayFFQ",
        "colab": {
          "base_uri": "https://localhost:8080/"
        },
        "outputId": "96ff7dc5-0ba7-4988-f8f0-eb454b05e7af"
      },
      "execution_count": 27,
      "outputs": [
        {
          "output_type": "execute_result",
          "data": {
            "text/plain": [
              "array([-2.        , -1.95959596, -1.91919192, -1.87878788, -1.83838384,\n",
              "       -1.7979798 , -1.75757576, -1.71717172, -1.67676768, -1.63636364,\n",
              "       -1.5959596 , -1.55555556, -1.51515152, -1.47474747, -1.43434343,\n",
              "       -1.39393939, -1.35353535, -1.31313131, -1.27272727, -1.23232323,\n",
              "       -1.19191919, -1.15151515, -1.11111111, -1.07070707, -1.03030303,\n",
              "       -0.98989899, -0.94949495, -0.90909091, -0.86868687, -0.82828283,\n",
              "       -0.78787879, -0.74747475, -0.70707071, -0.66666667, -0.62626263,\n",
              "       -0.58585859, -0.54545455, -0.50505051, -0.46464646, -0.42424242,\n",
              "       -0.38383838, -0.34343434, -0.3030303 , -0.26262626, -0.22222222,\n",
              "       -0.18181818, -0.14141414, -0.1010101 , -0.06060606, -0.02020202,\n",
              "        0.02020202,  0.06060606,  0.1010101 ,  0.14141414,  0.18181818,\n",
              "        0.22222222,  0.26262626,  0.3030303 ,  0.34343434,  0.38383838,\n",
              "        0.42424242,  0.46464646,  0.50505051,  0.54545455,  0.58585859,\n",
              "        0.62626263,  0.66666667,  0.70707071,  0.74747475,  0.78787879,\n",
              "        0.82828283,  0.86868687,  0.90909091,  0.94949495,  0.98989899,\n",
              "        1.03030303,  1.07070707,  1.11111111,  1.15151515,  1.19191919,\n",
              "        1.23232323,  1.27272727,  1.31313131,  1.35353535,  1.39393939,\n",
              "        1.43434343,  1.47474747,  1.51515152,  1.55555556,  1.5959596 ,\n",
              "        1.63636364,  1.67676768,  1.71717172,  1.75757576,  1.7979798 ,\n",
              "        1.83838384,  1.87878788,  1.91919192,  1.95959596,  2.        ])"
            ]
          },
          "metadata": {},
          "execution_count": 27
        }
      ]
    },
    {
      "cell_type": "code",
      "source": [
        "plt.figure()\n",
        "plt.plot(x,y,label=\"ajuste\")\n",
        "plt.plot(df.X1,df.Y,\"ro\")\n",
        "plt.grid()\n",
        "plt.legend()\n",
        "plt.show()"
      ],
      "metadata": {
        "colab": {
          "base_uri": "https://localhost:8080/",
          "height": 265
        },
        "id": "AUIcGe8Ry1Ct",
        "outputId": "a6d11e4d-3540-41e3-b149-5706264f751e"
      },
      "execution_count": 28,
      "outputs": [
        {
          "output_type": "display_data",
          "data": {
            "text/plain": [
              "<Figure size 432x288 with 1 Axes>"
            ],
            "image/png": "[encoded data removed]"
          },
          "metadata": {
            "needs_background": "light"
          }
        }
      ]
    },
    {
      "cell_type": "markdown",
      "source": [
        "##Ajuste lineal 2D"
      ],
      "metadata": {
        "id": "ClawKO0g2OYb"
      }
    },
    {
      "cell_type": "code",
      "source": [
        "N = 200\n",
        "x1 = np.linspace(-1, 1, N) \n",
        "x2 = np.linspace(-1, 1, N)\n",
        "\n",
        "X1, X2 = np.meshgrid(x1,x2)\n",
        "Y = 0.2*X1 - 0.5*X2 - 1.0\n",
        "\n",
        "# Ecuaciones parametricas del mismo plano:\n",
        "alpha = 2*np.random.random(N)-1\n",
        "beta  = 2*np.random.random(N)-1\n",
        "x1 = alpha\n",
        "x2 = beta\n",
        "y = 0.2*alpha - 0.5*beta - 1.0\n",
        "\n",
        "fig, ax = plt.subplots(subplot_kw={\"projection\": \"3d\"})\n",
        "surf = ax.scatter(x1, x2, y, color=\"green\")\n",
        "ax.set_xlabel(\"X1\")\n",
        "ax.set_ylabel(\"X2\")\n",
        "ax.set_zlabel(\"Y1\")"
      ],
      "metadata": {
        "colab": {
          "base_uri": "https://localhost:8080/",
          "height": 265
        },
        "id": "BKgNEAlT2Ql8",
        "outputId": "13299ec3-5974-40b4-e459-2471b6d4468e"
      },
      "execution_count": 29,
      "outputs": [
        {
          "output_type": "execute_result",
          "data": {
            "text/plain": [
              "Text(0.5, 0, 'Y1')"
            ]
          },
          "metadata": {},
          "execution_count": 29
        },
        {
          "output_type": "display_data",
          "data": {
            "text/plain": [
              "<Figure size 432x288 with 1 Axes>"
            ],
            "image/png": "[encoded data removed]"
          },
          "metadata": {
            "needs_background": "light"
          }
        }
      ]
    },
    {
      "cell_type": "code",
      "source": [
        "df = pd.DataFrame({\"Y\":y, \"X1\":x1,\"X2\":x2})\n",
        "df[\"ones\"] = np.ones(N)\n",
        "\n",
        "\n",
        "y = np.reshape(df.Y.values, (N,1))\n",
        "X = df[[\"ones\",\"X1\",\"X2\"]].values\n",
        "X = np.matrix(X)"
      ],
      "metadata": {
        "id": "mcymOe8njVg0"
      },
      "execution_count": 30,
      "outputs": []
    },
    {
      "cell_type": "code",
      "source": [
        "df"
      ],
      "metadata": {
        "colab": {
          "base_uri": "https://localhost:8080/",
          "height": 423
        },
        "id": "bdNSsEtCjsMj",
        "outputId": "4462babe-0630-4cd1-d028-7a7ad73d38c5"
      },
      "execution_count": 31,
      "outputs": [
        {
          "output_type": "execute_result",
          "data": {
            "text/plain": [
              "            Y        X1        X2  ones\n",
              "0   -1.372838 -0.103090  0.704440   1.0\n",
              "1   -1.104767  0.959229  0.593226   1.0\n",
              "2   -1.256988 -0.555020  0.291967   1.0\n",
              "3   -0.915435 -0.150114 -0.229175   1.0\n",
              "4   -0.998074 -0.254989 -0.105848   1.0\n",
              "..        ...       ...       ...   ...\n",
              "195 -0.989450  0.173648  0.048360   1.0\n",
              "196 -0.969341 -0.076095 -0.091755   1.0\n",
              "197 -0.882842 -0.517120 -0.441165   1.0\n",
              "198 -1.232856  0.823653  0.795173   1.0\n",
              "199 -1.262073 -0.312446  0.399167   1.0\n",
              "\n",
              "[200 rows x 4 columns]"
            ],
            "text/html": [
              "\n",
              "  <div id=\"df-704ba3fa-2e03-4509-ae8a-7f5569e7a1a8\">\n",
              "    <div class=\"colab-df-container\">\n",
              "      <div>\n",
              "<style scoped>\n",
              "    .dataframe tbody tr th:only-of-type {\n",
              "        vertical-align: middle;\n",
              "    }\n",
              "\n",
              "    .dataframe tbody tr th {\n",
              "        vertical-align: top;\n",
              "    }\n",
              "\n",
              "    .dataframe thead th {\n",
              "        text-align: right;\n",
              "    }\n",
              "</style>\n",
              "<table border=\"1\" class=\"dataframe\">\n",
              "  <thead>\n",
              "    <tr style=\"text-align: right;\">\n",
              "      <th></th>\n",
              "      <th>Y</th>\n",
              "      <th>X1</th>\n",
              "      <th>X2</th>\n",
              "      <th>ones</th>\n",
              "    </tr>\n",
              "  </thead>\n",
              "  <tbody>\n",
              "    <tr>\n",
              "      <th>0</th>\n",
              "      <td>-1.372838</td>\n",
              "      <td>-0.103090</td>\n",
              "      <td>0.704440</td>\n",
              "      <td>1.0</td>\n",
              "    </tr>\n",
              "    <tr>\n",
              "      <th>1</th>\n",
              "      <td>-1.104767</td>\n",
              "      <td>0.959229</td>\n",
              "      <td>0.593226</td>\n",
              "      <td>1.0</td>\n",
              "    </tr>\n",
              "    <tr>\n",
              "      <th>2</th>\n",
              "      <td>-1.256988</td>\n",
              "      <td>-0.555020</td>\n",
              "      <td>0.291967</td>\n",
              "      <td>1.0</td>\n",
              "    </tr>\n",
              "    <tr>\n",
              "      <th>3</th>\n",
              "      <td>-0.915435</td>\n",
              "      <td>-0.150114</td>\n",
              "      <td>-0.229175</td>\n",
              "      <td>1.0</td>\n",
              "    </tr>\n",
              "    <tr>\n",
              "      <th>4</th>\n",
              "      <td>-0.998074</td>\n",
              "      <td>-0.254989</td>\n",
              "      <td>-0.105848</td>\n",
              "      <td>1.0</td>\n",
              "    </tr>\n",
              "    <tr>\n",
              "      <th>...</th>\n",
              "      <td>...</td>\n",
              "      <td>...</td>\n",
              "      <td>...</td>\n",
              "      <td>...</td>\n",
              "    </tr>\n",
              "    <tr>\n",
              "      <th>195</th>\n",
              "      <td>-0.989450</td>\n",
              "      <td>0.173648</td>\n",
              "      <td>0.048360</td>\n",
              "      <td>1.0</td>\n",
              "    </tr>\n",
              "    <tr>\n",
              "      <th>196</th>\n",
              "      <td>-0.969341</td>\n",
              "      <td>-0.076095</td>\n",
              "      <td>-0.091755</td>\n",
              "      <td>1.0</td>\n",
              "    </tr>\n",
              "    <tr>\n",
              "      <th>197</th>\n",
              "      <td>-0.882842</td>\n",
              "      <td>-0.517120</td>\n",
              "      <td>-0.441165</td>\n",
              "      <td>1.0</td>\n",
              "    </tr>\n",
              "    <tr>\n",
              "      <th>198</th>\n",
              "      <td>-1.232856</td>\n",
              "      <td>0.823653</td>\n",
              "      <td>0.795173</td>\n",
              "      <td>1.0</td>\n",
              "    </tr>\n",
              "    <tr>\n",
              "      <th>199</th>\n",
              "      <td>-1.262073</td>\n",
              "      <td>-0.312446</td>\n",
              "      <td>0.399167</td>\n",
              "      <td>1.0</td>\n",
              "    </tr>\n",
              "  </tbody>\n",
              "</table>\n",
              "<p>200 rows × 4 columns</p>\n",
              "</div>\n",
              "      <button class=\"colab-df-convert\" onclick=\"convertToInteractive('df-704ba3fa-2e03-4509-ae8a-7f5569e7a1a8')\"\n",
              "              title=\"Convert this dataframe to an interactive table.\"\n",
              "              style=\"display:none;\">\n",
              "        \n",
              "  <svg xmlns=\"http://www.w3.org/2000/svg\" height=\"24px\"viewBox=\"0 0 24 24\"\n",
              "       width=\"24px\">\n",
              "    <path d=\"M0 0h24v24H0V0z\" fill=\"none\"/>\n",
              "    <path d=\"M18.56 5.44l.94 2.06.94-2.06 2.06-.94-2.06-.94-.94-2.06-.94 2.06-2.06.94zm-11 1L8.5 8.5l.94-2.06 2.06-.94-2.06-.94L8.5 2.5l-.94 2.06-2.06.94zm10 10l.94 2.06.94-2.06 2.06-.94-2.06-.94-.94-2.06-.94 2.06-2.06.94z\"/><path d=\"M17.41 7.96l-1.37-1.37c-.4-.4-.92-.59-1.43-.59-.52 0-1.04.2-1.43.59L10.3 9.45l-7.72 7.72c-.78.78-.78 2.05 0 2.83L4 21.41c.39.39.9.59 1.41.59.51 0 1.02-.2 1.41-.59l7.78-7.78 2.81-2.81c.8-.78.8-2.07 0-2.86zM5.41 20L4 18.59l7.72-7.72 1.47 1.35L5.41 20z\"/>\n",
              "  </svg>\n",
              "      </button>\n",
              "      \n",
              "  <style>\n",
              "    .colab-df-container {\n",
              "      display:flex;\n",
              "      flex-wrap:wrap;\n",
              "      gap: 12px;\n",
              "    }\n",
              "\n",
              "    .colab-df-convert {\n",
              "      background-color: #E8F0FE;\n",
              "      border: none;\n",
              "      border-radius: 50%;\n",
              "      cursor: pointer;\n",
              "      display: none;\n",
              "      fill: #1967D2;\n",
              "      height: 32px;\n",
              "      padding: 0 0 0 0;\n",
              "      width: 32px;\n",
              "    }\n",
              "\n",
              "    .colab-df-convert:hover {\n",
              "      background-color: #E2EBFA;\n",
              "      box-shadow: 0px 1px 2px rgba(60, 64, 67, 0.3), 0px 1px 3px 1px rgba(60, 64, 67, 0.15);\n",
              "      fill: #174EA6;\n",
              "    }\n",
              "\n",
              "    [theme=dark] .colab-df-convert {\n",
              "      background-color: #3B4455;\n",
              "      fill: #D2E3FC;\n",
              "    }\n",
              "\n",
              "    [theme=dark] .colab-df-convert:hover {\n",
              "      background-color: #434B5C;\n",
              "      box-shadow: 0px 1px 3px 1px rgba(0, 0, 0, 0.15);\n",
              "      filter: drop-shadow(0px 1px 2px rgba(0, 0, 0, 0.3));\n",
              "      fill: #FFFFFF;\n",
              "    }\n",
              "  </style>\n",
              "\n",
              "      <script>\n",
              "        const buttonEl =\n",
              "          document.querySelector('#df-704ba3fa-2e03-4509-ae8a-7f5569e7a1a8 button.colab-df-convert');\n",
              "        buttonEl.style.display =\n",
              "          google.colab.kernel.accessAllowed ? 'block' : 'none';\n",
              "\n",
              "        async function convertToInteractive(key) {\n",
              "          const element = document.querySelector('#df-704ba3fa-2e03-4509-ae8a-7f5569e7a1a8');\n",
              "          const dataTable =\n",
              "            await google.colab.kernel.invokeFunction('convertToInteractive',\n",
              "                                                     [key], {});\n",
              "          if (!dataTable) return;\n",
              "\n",
              "          const docLinkHtml = 'Like what you see? Visit the ' +\n",
              "            '<a target=\"_blank\" href=https://colab.research.google.com/notebooks/data_table.ipynb>data table notebook</a>'\n",
              "            + ' to learn more about interactive tables.';\n",
              "          element.innerHTML = '';\n",
              "          dataTable['output_type'] = 'display_data';\n",
              "          await google.colab.output.renderOutput(dataTable, element);\n",
              "          const docLink = document.createElement('div');\n",
              "          docLink.innerHTML = docLinkHtml;\n",
              "          element.appendChild(docLink);\n",
              "        }\n",
              "      </script>\n",
              "    </div>\n",
              "  </div>\n",
              "  "
            ]
          },
          "metadata": {},
          "execution_count": 31
        }
      ]
    },
    {
      "cell_type": "markdown",
      "source": [
        "$\\Theta = (X^T X)^{-1} X^T y$"
      ],
      "metadata": {
        "id": "0wjFGV_1kGsz"
      }
    },
    {
      "cell_type": "code",
      "source": [
        "Θ=(X.T@X).I@X.T@y"
      ],
      "metadata": {
        "id": "lEd2_tvXjxxz"
      },
      "execution_count": 32,
      "outputs": []
    },
    {
      "cell_type": "code",
      "source": [
        "Θ"
      ],
      "metadata": {
        "colab": {
          "base_uri": "https://localhost:8080/"
        },
        "id": "QBUfGpFqkVGa",
        "outputId": "5c8006d1-b630-45c0-bf86-da4c729b9e55"
      },
      "execution_count": 33,
      "outputs": [
        {
          "output_type": "execute_result",
          "data": {
            "text/plain": [
              "matrix([[-1. ],\n",
              "        [ 0.2],\n",
              "        [-0.5]])"
            ]
          },
          "metadata": {},
          "execution_count": 33
        }
      ]
    },
    {
      "cell_type": "markdown",
      "source": [
        "Entonces $y=\\Theta^{T} X=\\theta_{0}+\\theta_{1}x_{1}+\\theta_{2}x_{2}$"
      ],
      "metadata": {
        "id": "qYSeR1GIt6bX"
      }
    },
    {
      "cell_type": "code",
      "source": [
        "y1=Θ.T[0,0]+Θ.T[0,1]*X1+Θ.T[0,2]*X2"
      ],
      "metadata": {
        "id": "Zqq-eSEglfLE"
      },
      "execution_count": 34,
      "outputs": []
    },
    {
      "cell_type": "code",
      "source": [
        "fig, ax = plt.subplots(subplot_kw={\"projection\": \"3d\"})\n",
        "surf = ax.scatter(x1, x2, y, color=\"green\")\n",
        "surf = ax.plot_surface(X1,X2,y1)"
      ],
      "metadata": {
        "colab": {
          "base_uri": "https://localhost:8080/",
          "height": 248
        },
        "id": "kiTSsm32lqwz",
        "outputId": "107df7e9-74af-4d05-ed1b-29920fcf8221"
      },
      "execution_count": 35,
      "outputs": [
        {
          "output_type": "display_data",
          "data": {
            "text/plain": [
              "<Figure size 432x288 with 1 Axes>"
            ],
            "image/png": "[encoded data removed]"
          },
          "metadata": {
            "needs_background": "light"
          }
        }
      ]
    },
    {
      "cell_type": "markdown",
      "metadata": {
        "id": "pKmGWUKqNOnY"
      },
      "source": [
        "## Autovalores y autovectores\n",
        "\n",
        "Se sabe que un sistema físico es gobernado por las ecuaciones,\n",
        "\n",
        "\n",
        "\n",
        "$$\n",
        "\\begin{matrix}\n",
        "x' &=& 2x&-y&+z, \\\\\n",
        "y' &=&   &3y&-1z, \\\\\n",
        "z' &=& 2x&+y&+3z,\n",
        "\\end{matrix}\n",
        "$$\n",
        "\n",
        "donde $x',y',z'$ son las derivadas, en forma vectorial esto se puede representar como $\\mathbf{r}'=A\\mathbf{r}$ que tiene solución analítica general, $\\mathbf{r} = e^{At} \\mathbf{r}(0)$.<br> \n",
        "a) Diagonalize $A$.<br> \n",
        "\n",
        "b) Use el hecho de que $f(A) = U f(D) U^{-1}$ para encontrar $x(t),y(t),z(t)$ en el intervalo de tiempo $[0,2]$.<br>.\n",
        "c) Grafique $x(t),y(t),z(t)$ (use la condición inicial $\\mathbf{r}(0)=(1,1,2))$.<br> \n",
        "d) Compare el resultado a la solución analítica,\n",
        "\n",
        "$$\n",
        "\\begin{align}\n",
        "2x & = x(0)(e^{2t}(1+e^{2t}-2t)) + y(0) (-2te^{2t}) + z(0)(e^{2t}(-1+e^{2t})), \\\\\n",
        "2y & = x(0)(-e^{2t}(-1+e^{2t}-2t)) + y(0)(2(t+1)e^{2t}) + z(0)(-e^{2t}(-1+e^{2t})), \\\\\n",
        "2z & = x(0)(e^{2t}(-1+e^{2t}+2t)) + y(0)(2te^{2t}) + z(0)(e^{2t}(1+e^{2t})).\n",
        "\\end{align}\n",
        "$$"
      ]
    },
    {
      "cell_type": "markdown",
      "source": [
        "Construimos la matriz A:\n"
      ],
      "metadata": {
        "id": "J3WmzoyCQ4Ip"
      }
    },
    {
      "cell_type": "code",
      "source": [
        "A=np.array([[2,-1,1],[0,3,-1],[2,1,3]])"
      ],
      "metadata": {
        "id": "bIquLHWtQ9UT"
      },
      "execution_count": 36,
      "outputs": []
    },
    {
      "cell_type": "markdown",
      "source": [
        "Hallamos los valores y vectores propios de la matriz A"
      ],
      "metadata": {
        "id": "9Hsy-MGKRLlJ"
      }
    },
    {
      "cell_type": "code",
      "source": [
        "v,p=np.linalg.eig(A)"
      ],
      "metadata": {
        "id": "98Kgz-mSRROy"
      },
      "execution_count": 37,
      "outputs": []
    },
    {
      "cell_type": "code",
      "source": [
        "v"
      ],
      "metadata": {
        "colab": {
          "base_uri": "https://localhost:8080/"
        },
        "id": "4NHOsElOZPvg",
        "outputId": "a2a78367-83e2-4070-dd19-d34f0e7c7107"
      },
      "execution_count": 38,
      "outputs": [
        {
          "output_type": "execute_result",
          "data": {
            "text/plain": [
              "array([4.+0.00000000e+00j, 2.+1.68652966e-08j, 2.-1.68652966e-08j])"
            ]
          },
          "metadata": {},
          "execution_count": 38
        }
      ]
    },
    {
      "cell_type": "code",
      "source": [
        "p"
      ],
      "metadata": {
        "colab": {
          "base_uri": "https://localhost:8080/"
        },
        "id": "zLNnlipiRqpT",
        "outputId": "58b3e3cd-ca5c-4375-f952-d6b4ad4b3c17"
      },
      "execution_count": 39,
      "outputs": [
        {
          "output_type": "execute_result",
          "data": {
            "text/plain": [
              "array([[-0.57735027+0.00000000e+00j, -0.57735027+9.73718355e-09j,\n",
              "        -0.57735027-9.73718355e-09j],\n",
              "       [ 0.57735027+0.00000000e+00j,  0.57735027+0.00000000e+00j,\n",
              "         0.57735027-0.00000000e+00j],\n",
              "       [-0.57735027+0.00000000e+00j,  0.57735027-9.73718355e-09j,\n",
              "         0.57735027+9.73718355e-09j]])"
            ]
          },
          "metadata": {},
          "execution_count": 39
        }
      ]
    },
    {
      "cell_type": "code",
      "source": [
        "def fd(t):\n",
        "  FD=np.diag(np.exp(v*t))\n",
        "  return FD"
      ],
      "metadata": {
        "id": "slnME8L_eg41"
      },
      "execution_count": 40,
      "outputs": []
    },
    {
      "cell_type": "markdown",
      "source": [
        "Usando el hecho de que $f(A) = U f(D) U^{-1}$, hallemos $U$"
      ],
      "metadata": {
        "id": "nnbzQQetQXIS"
      }
    },
    {
      "cell_type": "markdown",
      "source": [
        "se sabe que $e^{A}=f(A)$, entonces:"
      ],
      "metadata": {
        "id": "VR0ifsAvmtpy"
      }
    },
    {
      "cell_type": "code",
      "source": [
        "def fa(t):\n",
        "  r0=np.array([1,1,2])\n",
        "  FA=p@fd(t)@np.linalg.inv(p)@r0\n",
        "  return FA.real"
      ],
      "metadata": {
        "id": "Mw8PTzqUfAT8"
      },
      "execution_count": 45,
      "outputs": []
    },
    {
      "cell_type": "code",
      "source": [
        "t=np.linspace(0,2,100)\n",
        "x=np.zeros(len(t))\n",
        "y=np.zeros(len(t))\n",
        "z=np.zeros(len(t))\n",
        "for i,j in enumerate(t):\n",
        "  x[i]=fa(j)[0]\n",
        "  y[i]=fa(j)[1]\n",
        "  z[i]=fa(j)[2]\n",
        "\n"
      ],
      "metadata": {
        "id": "r49pU63IWOnT"
      },
      "execution_count": 46,
      "outputs": []
    },
    {
      "cell_type": "code",
      "source": [
        "plt.figure()\n",
        "plt.title(\"Solucion computacional\")\n",
        "plt.plot(t,x,'r',label=\"$x(t)$\")\n",
        "plt.plot(t,y,'g',label=\"$y(t)$\")\n",
        "plt.plot(t,z,'b',label=\"$z(t)$\")\n",
        "plt.grid()\n",
        "plt.legend()\n",
        "plt.show()"
      ],
      "metadata": {
        "colab": {
          "base_uri": "https://localhost:8080/",
          "height": 281
        },
        "id": "cVipQftjTrqz",
        "outputId": "4bdaf1be-4159-4fc6-8bda-f65b4caa05a7"
      },
      "execution_count": 47,
      "outputs": [
        {
          "output_type": "display_data",
          "data": {
            "text/plain": [
              "<Figure size 432x288 with 1 Axes>"
            ],
            "image/png": "[encoded data removed]"
          },
          "metadata": {
            "needs_background": "light"
          }
        }
      ]
    },
    {
      "cell_type": "markdown",
      "source": [
        "d."
      ],
      "metadata": {
        "id": "i4-GuGu13dKS"
      }
    },
    {
      "cell_type": "code",
      "source": [
        "def r(t):\n",
        "  x1=(np.exp(2*t)*(1+np.exp(2*t)-2*t)+(-2*t*np.exp(2*t))+2*(np.exp(2*t)*(-1+np.exp(2*t))))/2\n",
        "  y1=(-np.exp(2*t)*(-1+np.exp(2*t)-2*t)+(2*(t+1)*np.exp(2*t))+2*(-np.exp(2*t)*(-1+np.exp(2*t))))/2\n",
        "  z1=(np.exp(2*t)*(-1+np.exp(2*t)+2*t)+(2*t*np.exp(2*t))+2*(np.exp(2*t)*(1+np.exp(2*t))))/2\n",
        "  return x1,y1,z1"
      ],
      "metadata": {
        "id": "_yA1tbialK-M"
      },
      "execution_count": 48,
      "outputs": []
    },
    {
      "cell_type": "code",
      "source": [
        "plt.figure()\n",
        "plt.title(\"Solucion analitica\")\n",
        "plt.plot(t,r(t)[0],'r',label=\"$x(t)$\")\n",
        "plt.plot(t,r(t)[1],'g',label=\"$y(t)$\")\n",
        "plt.plot(t,r(t)[2],'b',label=\"$z(t)$\")\n",
        "plt.grid()\n",
        "plt.legend()\n",
        "plt.show()"
      ],
      "metadata": {
        "colab": {
          "base_uri": "https://localhost:8080/",
          "height": 281
        },
        "id": "xIkzYwAZ6Sdw",
        "outputId": "e663027f-ef85-4220-f71d-2d7a9531c9b1"
      },
      "execution_count": 49,
      "outputs": [
        {
          "output_type": "display_data",
          "data": {
            "text/plain": [
              "<Figure size 432x288 with 1 Axes>"
            ],
            "image/png": "[encoded data removed]"
          },
          "metadata": {
            "needs_background": "light"
          }
        }
      ]
    }
  ]
}