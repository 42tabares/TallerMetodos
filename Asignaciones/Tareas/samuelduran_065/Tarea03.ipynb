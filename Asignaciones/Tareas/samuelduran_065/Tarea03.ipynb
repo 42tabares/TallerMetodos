{
  "nbformat": 4,
  "nbformat_minor": 0,
  "metadata": {
    "colab": {
      "name": "Tarea03.ipynb",
      "provenance": []
    },
    "kernelspec": {
      "name": "python3",
      "display_name": "Python 3"
    },
    "language_info": {
      "name": "python"
    }
  },
  "cells": [
    {
      "cell_type": "code",
      "execution_count": 150,
      "metadata": {
        "colab": {
          "base_uri": "https://localhost:8080/"
        },
        "id": "zCa6iW0WEDLg",
        "outputId": "44b53b51-dce5-4e69-d657-b020f960ef1b"
      },
      "outputs": [
        {
          "output_type": "stream",
          "name": "stdout",
          "text": [
            "Populating the interactive namespace from numpy and matplotlib\n"
          ]
        },
        {
          "output_type": "stream",
          "name": "stderr",
          "text": [
            "/usr/local/lib/python3.7/dist-packages/IPython/core/magics/pylab.py:161: UserWarning: pylab import has clobbered these variables: ['plt', 'f']\n",
            "`%matplotlib` prevents importing * from pylab and numpy\n",
            "  \"\\n`%matplotlib` prevents importing * from pylab and numpy\"\n"
          ]
        }
      ],
      "source": [
        "import numpy as np\n",
        "import matplotlib.pylab as plt\n",
        "from scipy import optimize\n",
        "import pandas as pd\n",
        "%pylab inline"
      ]
    },
    {
      "cell_type": "markdown",
      "source": [
        "##1 \n",
        "Una particula parte del reposo sobre un plano inclinado uniforme, cuyo ángulo \n",
        "$\\theta$ cambia con una rapidez constante de : \n",
        "\n",
        "\\begin{equation}\n",
        "\\frac{\\mathrm{d}\\theta}{\\mathrm{d} t} = \\omega < 0\n",
        "\\end{equation}\n",
        "\n",
        "Al final de t segundos, la posición del objeto esta dada por: \n",
        "\n",
        "\n",
        "\\begin{equation}\n",
        "x(t) = -\\frac{g}{2\\omega^2} \\left( \\frac{e^{\\omega t}-e^{-\\omega t}}{2} -\\sin\\omega t\\right)\n",
        "\\end{equation}\n",
        "\n",
        "\n",
        "Suponga que la partícula se desplazo 0.51m en 1s. Encuentre, con una exactitud de $10^{-5}$, la rapidez $\\omega$ con que $\\theta$ cambia. Suponga que $g=9.76m/s$"
      ],
      "metadata": {
        "id": "AwThouCTFHWz"
      }
    },
    {
      "cell_type": "code",
      "source": [
        "#definimos la constante\n",
        "g=9.76\n",
        "x=0.51\n",
        "t=1\n",
        "f=lambda w: (-g/(2*w**2))*((np.e**(w*t)-np.e**(-w*t))/2-np.sin(w*t))-x\n"
      ],
      "metadata": {
        "id": "sSlDMUfGFEJu"
      },
      "execution_count": 167,
      "outputs": []
    },
    {
      "cell_type": "code",
      "source": [
        "# graficamos la funcion para valores arbitrarios de w\n",
        "w=np.linspace(-2*np.pi,2*np.pi,100)\n",
        "df = pd.DataFrame({ \"w\": w, \"f_w\": f(w)  })"
      ],
      "metadata": {
        "id": "ndwGXwl3HEGM"
      },
      "execution_count": 168,
      "outputs": []
    },
    {
      "cell_type": "code",
      "source": [
        "df"
      ],
      "metadata": {
        "colab": {
          "base_uri": "https://localhost:8080/",
          "height": 423
        },
        "id": "VgD-cQLDIN7r",
        "outputId": "c6b333de-3dd0-4b8f-9030-436d2f33421f"
      },
      "execution_count": 169,
      "outputs": [
        {
          "output_type": "execute_result",
          "data": {
            "text/html": [
              "\n",
              "  <div id=\"df-c7de7838-6249-4ddd-b455-dedfa1a27aac\">\n",
              "    <div class=\"colab-df-container\">\n",
              "      <div>\n",
              "<style scoped>\n",
              "    .dataframe tbody tr th:only-of-type {\n",
              "        vertical-align: middle;\n",
              "    }\n",
              "\n",
              "    .dataframe tbody tr th {\n",
              "        vertical-align: top;\n",
              "    }\n",
              "\n",
              "    .dataframe thead th {\n",
              "        text-align: right;\n",
              "    }\n",
              "</style>\n",
              "<table border=\"1\" class=\"dataframe\">\n",
              "  <thead>\n",
              "    <tr style=\"text-align: right;\">\n",
              "      <th></th>\n",
              "      <th>w</th>\n",
              "      <th>f_w</th>\n",
              "    </tr>\n",
              "  </thead>\n",
              "  <tbody>\n",
              "    <tr>\n",
              "      <th>0</th>\n",
              "      <td>-6.283185</td>\n",
              "      <td>32.586440</td>\n",
              "    </tr>\n",
              "    <tr>\n",
              "      <th>1</th>\n",
              "      <td>-6.156252</td>\n",
              "      <td>29.871871</td>\n",
              "    </tr>\n",
              "    <tr>\n",
              "      <th>2</th>\n",
              "      <td>-6.029319</td>\n",
              "      <td>27.407441</td>\n",
              "    </tr>\n",
              "    <tr>\n",
              "      <th>3</th>\n",
              "      <td>-5.902386</td>\n",
              "      <td>25.169493</td>\n",
              "    </tr>\n",
              "    <tr>\n",
              "      <th>4</th>\n",
              "      <td>-5.775453</td>\n",
              "      <td>23.136633</td>\n",
              "    </tr>\n",
              "    <tr>\n",
              "      <th>...</th>\n",
              "      <td>...</td>\n",
              "      <td>...</td>\n",
              "    </tr>\n",
              "    <tr>\n",
              "      <th>95</th>\n",
              "      <td>5.775453</td>\n",
              "      <td>-24.156633</td>\n",
              "    </tr>\n",
              "    <tr>\n",
              "      <th>96</th>\n",
              "      <td>5.902386</td>\n",
              "      <td>-26.189493</td>\n",
              "    </tr>\n",
              "    <tr>\n",
              "      <th>97</th>\n",
              "      <td>6.029319</td>\n",
              "      <td>-28.427441</td>\n",
              "    </tr>\n",
              "    <tr>\n",
              "      <th>98</th>\n",
              "      <td>6.156252</td>\n",
              "      <td>-30.891871</td>\n",
              "    </tr>\n",
              "    <tr>\n",
              "      <th>99</th>\n",
              "      <td>6.283185</td>\n",
              "      <td>-33.606440</td>\n",
              "    </tr>\n",
              "  </tbody>\n",
              "</table>\n",
              "<p>100 rows × 2 columns</p>\n",
              "</div>\n",
              "      <button class=\"colab-df-convert\" onclick=\"convertToInteractive('df-c7de7838-6249-4ddd-b455-dedfa1a27aac')\"\n",
              "              title=\"Convert this dataframe to an interactive table.\"\n",
              "              style=\"display:none;\">\n",
              "        \n",
              "  <svg xmlns=\"http://www.w3.org/2000/svg\" height=\"24px\"viewBox=\"0 0 24 24\"\n",
              "       width=\"24px\">\n",
              "    <path d=\"M0 0h24v24H0V0z\" fill=\"none\"/>\n",
              "    <path d=\"M18.56 5.44l.94 2.06.94-2.06 2.06-.94-2.06-.94-.94-2.06-.94 2.06-2.06.94zm-11 1L8.5 8.5l.94-2.06 2.06-.94-2.06-.94L8.5 2.5l-.94 2.06-2.06.94zm10 10l.94 2.06.94-2.06 2.06-.94-2.06-.94-.94-2.06-.94 2.06-2.06.94z\"/><path d=\"M17.41 7.96l-1.37-1.37c-.4-.4-.92-.59-1.43-.59-.52 0-1.04.2-1.43.59L10.3 9.45l-7.72 7.72c-.78.78-.78 2.05 0 2.83L4 21.41c.39.39.9.59 1.41.59.51 0 1.02-.2 1.41-.59l7.78-7.78 2.81-2.81c.8-.78.8-2.07 0-2.86zM5.41 20L4 18.59l7.72-7.72 1.47 1.35L5.41 20z\"/>\n",
              "  </svg>\n",
              "      </button>\n",
              "      \n",
              "  <style>\n",
              "    .colab-df-container {\n",
              "      display:flex;\n",
              "      flex-wrap:wrap;\n",
              "      gap: 12px;\n",
              "    }\n",
              "\n",
              "    .colab-df-convert {\n",
              "      background-color: #E8F0FE;\n",
              "      border: none;\n",
              "      border-radius: 50%;\n",
              "      cursor: pointer;\n",
              "      display: none;\n",
              "      fill: #1967D2;\n",
              "      height: 32px;\n",
              "      padding: 0 0 0 0;\n",
              "      width: 32px;\n",
              "    }\n",
              "\n",
              "    .colab-df-convert:hover {\n",
              "      background-color: #E2EBFA;\n",
              "      box-shadow: 0px 1px 2px rgba(60, 64, 67, 0.3), 0px 1px 3px 1px rgba(60, 64, 67, 0.15);\n",
              "      fill: #174EA6;\n",
              "    }\n",
              "\n",
              "    [theme=dark] .colab-df-convert {\n",
              "      background-color: #3B4455;\n",
              "      fill: #D2E3FC;\n",
              "    }\n",
              "\n",
              "    [theme=dark] .colab-df-convert:hover {\n",
              "      background-color: #434B5C;\n",
              "      box-shadow: 0px 1px 3px 1px rgba(0, 0, 0, 0.15);\n",
              "      filter: drop-shadow(0px 1px 2px rgba(0, 0, 0, 0.3));\n",
              "      fill: #FFFFFF;\n",
              "    }\n",
              "  </style>\n",
              "\n",
              "      <script>\n",
              "        const buttonEl =\n",
              "          document.querySelector('#df-c7de7838-6249-4ddd-b455-dedfa1a27aac button.colab-df-convert');\n",
              "        buttonEl.style.display =\n",
              "          google.colab.kernel.accessAllowed ? 'block' : 'none';\n",
              "\n",
              "        async function convertToInteractive(key) {\n",
              "          const element = document.querySelector('#df-c7de7838-6249-4ddd-b455-dedfa1a27aac');\n",
              "          const dataTable =\n",
              "            await google.colab.kernel.invokeFunction('convertToInteractive',\n",
              "                                                     [key], {});\n",
              "          if (!dataTable) return;\n",
              "\n",
              "          const docLinkHtml = 'Like what you see? Visit the ' +\n",
              "            '<a target=\"_blank\" href=https://colab.research.google.com/notebooks/data_table.ipynb>data table notebook</a>'\n",
              "            + ' to learn more about interactive tables.';\n",
              "          element.innerHTML = '';\n",
              "          dataTable['output_type'] = 'display_data';\n",
              "          await google.colab.output.renderOutput(dataTable, element);\n",
              "          const docLink = document.createElement('div');\n",
              "          docLink.innerHTML = docLinkHtml;\n",
              "          element.appendChild(docLink);\n",
              "        }\n",
              "      </script>\n",
              "    </div>\n",
              "  </div>\n",
              "  "
            ],
            "text/plain": [
              "           w        f_w\n",
              "0  -6.283185  32.586440\n",
              "1  -6.156252  29.871871\n",
              "2  -6.029319  27.407441\n",
              "3  -5.902386  25.169493\n",
              "4  -5.775453  23.136633\n",
              "..       ...        ...\n",
              "95  5.775453 -24.156633\n",
              "96  5.902386 -26.189493\n",
              "97  6.029319 -28.427441\n",
              "98  6.156252 -30.891871\n",
              "99  6.283185 -33.606440\n",
              "\n",
              "[100 rows x 2 columns]"
            ]
          },
          "metadata": {},
          "execution_count": 169
        }
      ]
    },
    {
      "cell_type": "code",
      "source": [
        "plt.plot(df.w,df.f_w)\n",
        "plt.grid()"
      ],
      "metadata": {
        "colab": {
          "base_uri": "https://localhost:8080/",
          "height": 265
        },
        "id": "90Jn47MwI48S",
        "outputId": "fa03b3e0-f0d6-49bd-c4c0-85f5f047f884"
      },
      "execution_count": 170,
      "outputs": [
        {
          "output_type": "display_data",
          "data": {
            "image/png": "[encoded data removed]",
            "text/plain": [
              "<Figure size 432x288 with 1 Axes>"
            ]
          },
          "metadata": {
            "needs_background": "light"
          }
        }
      ]
    },
    {
      "cell_type": "markdown",
      "source": [
        "los parametros del metodo de biseccion son:\n",
        "\n",
        "1. La funcion a la que queremos hallarle la raiz\n",
        "2. Un intervalo (a,b) donde queremos encontrar el cero de la funcion\n",
        "3. xtol que es la tolerancia de error que queremos\n",
        "\n",
        "Entre otros.\n"
      ],
      "metadata": {
        "id": "PB27lyI9J-i7"
      }
    },
    {
      "cell_type": "code",
      "source": [
        "raiz= optimize.bisect(f,-1,-0.01,xtol=10E-5)"
      ],
      "metadata": {
        "id": "iEHY7TrxJB8Y"
      },
      "execution_count": 171,
      "outputs": []
    },
    {
      "cell_type": "code",
      "source": [
        "print(f\"el valor de la rapidez ω es {raiz} rad/s\")"
      ],
      "metadata": {
        "colab": {
          "base_uri": "https://localhost:8080/"
        },
        "id": "PBZ_hUi1LFqT",
        "outputId": "715a5836-86d1-4dc9-81f1-7f4bc8b63c8a"
      },
      "execution_count": 172,
      "outputs": [
        {
          "output_type": "stream",
          "name": "stdout",
          "text": [
            "el valor de la rapidez ω es -0.3135137939453125 rad/s\n"
          ]
        }
      ]
    },
    {
      "cell_type": "markdown",
      "source": [
        "Error en funcion del numero de iteraciones."
      ],
      "metadata": {
        "id": "-_Xg7QuhhTBs"
      }
    },
    {
      "cell_type": "code",
      "source": [
        "def Bisection( f, a, b, Nmax, printer=False ):\n",
        "    \"\"\"\n",
        "    Find the root of function f between a and b\n",
        "    \n",
        "    f: function\n",
        "    a,b: the initial interval\n",
        "    Nmax: Nmax de interations\n",
        "    printer: bool, to print internal steps\n",
        "    \"\"\"\n",
        "    #verifying the STEP1, a and b with different signs\n",
        "    #import sys\n",
        "    if f(a)*f(b)>0:\n",
        "        raise Exception(\"Error, f(a) and f(b) should have opposite signs\")\n",
        "        return False\n",
        "    #Assigning the current extreme values, STEP2\n",
        "    ai = a\n",
        "    bi = b\n",
        "    #Iterations\n",
        "    n = 1\n",
        "    while n<=Nmax:\n",
        "        #Bisection, STEP3\n",
        "        pi = (ai+bi)/2.0\n",
        "        #Evaluating function in pi, STEP4 and STEP5\n",
        "        if printer:\n",
        "            print(f\"Value for {n} iterations: {pi}\")\n",
        "            print(f\" El error es {raiz-pi}\")\n",
        "        #Condition A\n",
        "        if f(pi)*f(ai)>0:\n",
        "            ai = pi\n",
        "        #Condition B\n",
        "        elif f(pi)*f(ai)<0:\n",
        "            bi = pi\n",
        "        #Condition C: repeat the cycle\n",
        "        n+=1\n",
        "    #Final result\n",
        "    return pi"
      ],
      "metadata": {
        "id": "pMm14eqWhSxj"
      },
      "execution_count": 184,
      "outputs": []
    },
    {
      "cell_type": "code",
      "source": [
        "result=Bisection(f,-1,-0.01,20,printer=True)\n",
        "print ( \"Real value:\", raiz)\n",
        "print ( \"Absolute error\", abs(raiz-result)) "
      ],
      "metadata": {
        "colab": {
          "base_uri": "https://localhost:8080/"
        },
        "id": "rgHUspTzjRhL",
        "outputId": "f8d36839-f130-4770-ff23-97086520fa14"
      },
      "execution_count": 185,
      "outputs": [
        {
          "output_type": "stream",
          "name": "stdout",
          "text": [
            "Value for 1 iterations: -0.505\n",
            " El error es 0.19148620605468752\n",
            "Value for 2 iterations: -0.2575\n",
            " El error es -0.05601379394531247\n",
            "Value for 3 iterations: -0.38125\n",
            " El error es 0.0677362060546875\n",
            "Value for 4 iterations: -0.31937499999999996\n",
            " El error es 0.0058612060546874845\n",
            "Value for 5 iterations: -0.2884375\n",
            " El error es -0.025076293945312467\n",
            "Value for 6 iterations: -0.30390625\n",
            " El error es -0.009607543945312491\n",
            "Value for 7 iterations: -0.311640625\n",
            " El error es -0.0018731689453124756\n",
            "Value for 8 iterations: -0.3155078125\n",
            " El error es 0.0019940185546875044\n",
            "Value for 9 iterations: -0.31357421875\n",
            " El error es 6.042480468754219e-05\n",
            "Value for 10 iterations: -0.312607421875\n",
            " El error es -0.0009063720703124667\n",
            "Value for 11 iterations: -0.3130908203125\n",
            " El error es -0.00042297363281246225\n",
            "Value for 12 iterations: -0.31333251953125\n",
            " El error es -0.00018127441406246003\n",
            "Value for 13 iterations: -0.31345336914062505\n",
            " El error es -6.0424804687431166e-05\n",
            "Value for 14 iterations: -0.31351379394531254\n",
            " El error es 5.551115123125783e-17\n",
            "Value for 15 iterations: -0.3135440063476563\n",
            " El error es 3.021240234379885e-05\n",
            "Value for 16 iterations: -0.3135289001464844\n",
            " El error es 1.5106201171899425e-05\n",
            "Value for 17 iterations: -0.31352134704589846\n",
            " El error es 7.553100585977468e-06\n",
            "Value for 18 iterations: -0.31351757049560547\n",
            " El error es 3.776550292988734e-06\n",
            "Value for 19 iterations: -0.31351945877075194\n",
            " El error es 5.6648254394553454e-06\n",
            "Value for 20 iterations: -0.31352040290832517\n",
            " El error es 6.608963012688651e-06\n",
            "Real value: -0.3135137939453125\n",
            "Absolute error 6.608963012688651e-06\n"
          ]
        }
      ]
    },
    {
      "cell_type": "markdown",
      "source": [
        "#2\n",
        "\n",
        "Determinar el ángulo del sector circular que es igual a un cuarto del área de la circunferencia"
      ],
      "metadata": {
        "id": "gwBoZvGxMfwf"
      }
    },
    {
      "cell_type": "markdown",
      "source": [
        "\\begin{equation}\n",
        "A = r^2 \\frac{\\theta}{2} - \\frac{r^2}{2} \\sin(\\theta)\n",
        "\\end{equation}\n",
        "\n",
        "\n",
        "\\begin{equation}\n",
        "\\frac{\\pi r^2}{4} = r^2 \\frac{\\theta}{2} - \\frac{r^2}{2} \\sin(\\theta)\n",
        "\\end{equation}\n",
        "\n",
        "\n",
        "\\begin{equation}\n",
        "\\theta - \\sin \\theta = \\frac{\\pi}{2}\n",
        "\\end{equation}\n",
        "\n",
        "\n",
        "\n",
        "\\begin{equation}\n",
        "f(\\theta) =\\theta - \\sin \\theta - \\frac{\\pi}{2}=0\n",
        "\\end{equation}\n",
        "\n"
      ],
      "metadata": {
        "id": "kgfxUMsRMrJ7"
      }
    },
    {
      "cell_type": "code",
      "source": [
        "f= lambda theta: theta-np.sin(theta)-np.pi/2"
      ],
      "metadata": {
        "id": "A2EWK6rgMMUb"
      },
      "execution_count": 186,
      "outputs": []
    },
    {
      "cell_type": "code",
      "source": [
        "theta=np.linspace(-2*np.pi,2*np.pi,100)\n",
        "datos=pd.DataFrame({\"theta\": theta, \"f_theta\":f(theta)})"
      ],
      "metadata": {
        "id": "Os0Gdau8M90b"
      },
      "execution_count": 187,
      "outputs": []
    },
    {
      "cell_type": "code",
      "source": [
        "plt.plot(datos.theta, datos.f_theta)"
      ],
      "metadata": {
        "colab": {
          "base_uri": "https://localhost:8080/",
          "height": 283
        },
        "id": "1d9daaMCNiQU",
        "outputId": "6e63193a-506c-497f-fab2-bae522e7a1cb"
      },
      "execution_count": 188,
      "outputs": [
        {
          "output_type": "execute_result",
          "data": {
            "text/plain": [
              "[<matplotlib.lines.Line2D at 0x7f8bfa50aa90>]"
            ]
          },
          "metadata": {},
          "execution_count": 188
        },
        {
          "output_type": "display_data",
          "data": {
            "image/png": "[encoded data removed]",
            "text/plain": [
              "<Figure size 432x288 with 1 Axes>"
            ]
          },
          "metadata": {
            "needs_background": "light"
          }
        }
      ]
    },
    {
      "cell_type": "code",
      "source": [
        "raiz=optimize.bisect(f,0,4)"
      ],
      "metadata": {
        "id": "BeFXE73CNm_N"
      },
      "execution_count": 189,
      "outputs": []
    },
    {
      "cell_type": "code",
      "source": [
        "print(f\"el angulo del sector circular que es igual a un cuarto del area de la circunferencia es {raiz} radianes\")"
      ],
      "metadata": {
        "colab": {
          "base_uri": "https://localhost:8080/"
        },
        "id": "5aIkj6D1N7J8",
        "outputId": "a5e55e50-7371-4636-c873-be2051bfe586"
      },
      "execution_count": 190,
      "outputs": [
        {
          "output_type": "stream",
          "name": "stdout",
          "text": [
            "el angulo del sector circular que es igual a un cuarto del area de la circunferencia es 2.309881460010729 radianes\n"
          ]
        }
      ]
    },
    {
      "cell_type": "markdown",
      "source": [
        "error en funcion de iteraciones"
      ],
      "metadata": {
        "id": "gdwckoS5mMNy"
      }
    },
    {
      "cell_type": "code",
      "source": [
        "Bisection(f,0,4,20,printer=True)\n",
        "print(f\"valor real:{raiz} \")"
      ],
      "metadata": {
        "colab": {
          "base_uri": "https://localhost:8080/"
        },
        "id": "xiYU8KOzmPLS",
        "outputId": "d418737c-3315-4276-acf1-3e63d8ea339c"
      },
      "execution_count": 194,
      "outputs": [
        {
          "output_type": "stream",
          "name": "stdout",
          "text": [
            "Value for 1 iterations: 2.0\n",
            " El error es 0.3098814600107289\n",
            "Value for 2 iterations: 3.0\n",
            " El error es -0.6901185399892711\n",
            "Value for 3 iterations: 2.5\n",
            " El error es -0.19011853998927108\n",
            "Value for 4 iterations: 2.25\n",
            " El error es 0.059881460010728915\n",
            "Value for 5 iterations: 2.375\n",
            " El error es -0.06511853998927108\n",
            "Value for 6 iterations: 2.3125\n",
            " El error es -0.0026185399892710848\n",
            "Value for 7 iterations: 2.28125\n",
            " El error es 0.028631460010728915\n",
            "Value for 8 iterations: 2.296875\n",
            " El error es 0.013006460010728915\n",
            "Value for 9 iterations: 2.3046875\n",
            " El error es 0.005193960010728915\n",
            "Value for 10 iterations: 2.30859375\n",
            " El error es 0.0012877100107289152\n",
            "Value for 11 iterations: 2.310546875\n",
            " El error es -0.0006654149892710848\n",
            "Value for 12 iterations: 2.3095703125\n",
            " El error es 0.0003111475107289152\n",
            "Value for 13 iterations: 2.31005859375\n",
            " El error es -0.00017713373927108478\n",
            "Value for 14 iterations: 2.309814453125\n",
            " El error es 6.700688572891522e-05\n",
            "Value for 15 iterations: 2.3099365234375\n",
            " El error es -5.506342677108478e-05\n",
            "Value for 16 iterations: 2.30987548828125\n",
            " El error es 5.971729478915222e-06\n",
            "Value for 17 iterations: 2.309906005859375\n",
            " El error es -2.4545848646084778e-05\n",
            "Value for 18 iterations: 2.3098907470703125\n",
            " El error es -9.287059583584778e-06\n",
            "Value for 19 iterations: 2.3098831176757812\n",
            " El error es -1.657665052334778e-06\n",
            "Value for 20 iterations: 2.3098793029785156\n",
            " El error es 2.157032213290222e-06\n",
            "valor real:2.309881460010729 \n"
          ]
        }
      ]
    },
    {
      "cell_type": "markdown",
      "source": [
        "##3\n",
        "\n",
        "Resolver la siguiente situación.\n",
        "\n",
        "En el diseño de los vehiculos para todo tipo de terreno,  es necesario tener encuentra fallas cuando se trata de liberar dos tipos de obstáculos. Una es la falla por rozamiento, y ocurre cuando el vehiculo \n",
        "intenta cruzar un obstáculo que hace que su fondo toque el suelo. La otra recibie el nombre de falla por colision de la defensa delantera y ocurre cuando el vehiculo desciende por una zanja y la defensa delantera toca el suelo.\n",
        "\n",
        "\n",
        "\n",
        "La figura muestra las componentes asociados al segundo tipo  de falla. En ella se indeca el ángulo máximo $\\alpha$ que puede alcanzar un vehiculo cuando $\\beta$ es el angulo maximo en que no ocurre la falla \n",
        "por rozamiento y satisface la siguiente ecuación: \n",
        "\n",
        "\n",
        "\\begin{equation}\n",
        "A \\sin(\\alpha) \\cos(\\alpha)+B \\sin^2(\\alpha) - C \\cos(\\alpha) -  E  \\sin(\\alpha)=0\n",
        "\\end{equation}\n",
        "\n",
        "donde; \n",
        "\\begin{equation}\n",
        "A = l \\sin(\\beta)\n",
        "\\end{equation}\n",
        "\n",
        "\\begin{equation}\n",
        "B = l \\cos(\\beta)\n",
        "\\end{equation}\n",
        "\\begin{equation}\n",
        "C = (h + 0.5 D )\\sin(\\beta) - 0.5 D \\tan(\\beta)\n",
        "\\end{equation}\n",
        "\n",
        "\\begin{equation}\n",
        "E = (h + 0.5 D ) \\cos(\\beta) - 0.5 * D\n",
        "\\end{equation}\n",
        "\n",
        "\n",
        "Para $l=89$pulg, $h=49$pul, $D=55$, $\\beta=11.5$ , el angulo se aproximara a 33. Verificar este resultados\n"
      ],
      "metadata": {
        "id": "HSFFRhmOOVcM"
      }
    },
    {
      "cell_type": "code",
      "source": [
        "l=89\n",
        "h=49\n",
        "D=55\n",
        "betha=np.deg2rad(11.5)"
      ],
      "metadata": {
        "id": "Q4yTjJ41OG7R"
      },
      "execution_count": 203,
      "outputs": []
    },
    {
      "cell_type": "code",
      "source": [
        "A=l*np.sin(betha)\n",
        "B=l*np.cos(betha)\n",
        "C=(h+0.5*D)*np.sin(betha)-0.5*D*np.tan(betha)\n",
        "E=(h+0.5*D)*np.cos(betha)-0.5*D\n",
        "\n"
      ],
      "metadata": {
        "id": "KlkkFIxuPydU"
      },
      "execution_count": 204,
      "outputs": []
    },
    {
      "cell_type": "code",
      "source": [
        "def f(alpha):\n",
        "  X1=A*np.sin(alpha)*np.cos(alpha)\n",
        "  X2=B*np.sin(alpha)**2\n",
        "  X3=C*np.cos(alpha)\n",
        "  X4=E*np.sin(alpha)\n",
        "  f=X1+X2-X3-X4\n",
        "  return f"
      ],
      "metadata": {
        "id": "dPZBEIWFQ-1T"
      },
      "execution_count": 205,
      "outputs": []
    },
    {
      "cell_type": "code",
      "source": [
        "alpha=np.linspace(-2*np.pi,2*np.pi,100)\n",
        "datos1=pd.DataFrame({\"alpha\": alpha, \"f_alpha\": f(alpha)})\n"
      ],
      "metadata": {
        "id": "lTyQs0KwRAzK"
      },
      "execution_count": 206,
      "outputs": []
    },
    {
      "cell_type": "code",
      "source": [
        "plt.plot(datos1.alpha,datos1.f_alpha)\n",
        "plt.grid()"
      ],
      "metadata": {
        "colab": {
          "base_uri": "https://localhost:8080/",
          "height": 265
        },
        "id": "w7pliEsoSQxS",
        "outputId": "44b7d8f9-04b4-44de-cf22-9cc00c2ac950"
      },
      "execution_count": 207,
      "outputs": [
        {
          "output_type": "display_data",
          "data": {
            "image/png": "[encoded data removed]",
            "text/plain": [
              "<Figure size 432x288 with 1 Axes>"
            ]
          },
          "metadata": {
            "needs_background": "light"
          }
        }
      ]
    },
    {
      "cell_type": "code",
      "source": [
        "raiz=optimize.bisect(f,0,1)"
      ],
      "metadata": {
        "id": "XCfmNpFHSoEU"
      },
      "execution_count": 208,
      "outputs": []
    },
    {
      "cell_type": "code",
      "source": [
        "print(f\"el angulo maximo cuando β es maximo es {np.rad2deg(root)}\")"
      ],
      "metadata": {
        "colab": {
          "base_uri": "https://localhost:8080/"
        },
        "id": "nZGnRBMjWNfJ",
        "outputId": "c204da5e-1b87-406f-a0e4-faab9d5e1946"
      },
      "execution_count": 209,
      "outputs": [
        {
          "output_type": "stream",
          "name": "stdout",
          "text": [
            "el angulo maximo cuando β es maximo es 32.972174822366384\n"
          ]
        }
      ]
    },
    {
      "cell_type": "code",
      "source": [
        "Bisection(f,0,1,20,printer=True)\n",
        "print(f\"valor real:{raiz} \")"
      ],
      "metadata": {
        "colab": {
          "base_uri": "https://localhost:8080/"
        },
        "id": "D1-Zkh7im1lp",
        "outputId": "bbd35a42-6af0-4992-915d-6c52b55b6d9a"
      },
      "execution_count": 210,
      "outputs": [
        {
          "output_type": "stream",
          "name": "stdout",
          "text": [
            "Value for 1 iterations: 0.5\n",
            " El error es 0.07547301219346991\n",
            "Value for 2 iterations: 0.75\n",
            " El error es -0.1745269878065301\n",
            "Value for 3 iterations: 0.625\n",
            " El error es -0.04952698780653009\n",
            "Value for 4 iterations: 0.5625\n",
            " El error es 0.012973012193469913\n",
            "Value for 5 iterations: 0.59375\n",
            " El error es -0.018276987806530087\n",
            "Value for 6 iterations: 0.578125\n",
            " El error es -0.0026519878065300873\n",
            "Value for 7 iterations: 0.5703125\n",
            " El error es 0.005160512193469913\n",
            "Value for 8 iterations: 0.57421875\n",
            " El error es 0.0012542621934699127\n",
            "Value for 9 iterations: 0.576171875\n",
            " El error es -0.0006988628065300873\n",
            "Value for 10 iterations: 0.5751953125\n",
            " El error es 0.00027769969346991275\n",
            "Value for 11 iterations: 0.57568359375\n",
            " El error es -0.00021058155653008725\n",
            "Value for 12 iterations: 0.575439453125\n",
            " El error es 3.3559068469912745e-05\n",
            "Value for 13 iterations: 0.5755615234375\n",
            " El error es -8.851124403008725e-05\n",
            "Value for 14 iterations: 0.57550048828125\n",
            " El error es -2.7476087780087255e-05\n",
            "Value for 15 iterations: 0.575469970703125\n",
            " El error es 3.041490344912745e-06\n",
            "Value for 16 iterations: 0.5754852294921875\n",
            " El error es -1.2217298717587255e-05\n",
            "Value for 17 iterations: 0.5754776000976562\n",
            " El error es -4.587904186337255e-06\n",
            "Value for 18 iterations: 0.5754737854003906\n",
            " El error es -7.732069207122549e-07\n",
            "Value for 19 iterations: 0.5754718780517578\n",
            " El error es 1.134141712100245e-06\n",
            "Value for 20 iterations: 0.5754728317260742\n",
            " El error es 1.8046739569399506e-07\n",
            "valor real:0.5754730121934699 \n"
          ]
        }
      ]
    },
    {
      "cell_type": "code",
      "source": [
        ""
      ],
      "metadata": {
        "id": "g3D_lwlqm7af"
      },
      "execution_count": null,
      "outputs": []
    }
  ]
}