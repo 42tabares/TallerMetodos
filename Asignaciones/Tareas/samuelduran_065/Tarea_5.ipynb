{
  "nbformat": 4,
  "nbformat_minor": 0,
  "metadata": {
    "colab": {
      "name": "Tarea 5.ipynb",
      "provenance": []
    },
    "kernelspec": {
      "name": "python3",
      "display_name": "Python 3"
    },
    "language_info": {
      "name": "python"
    }
  },
  "cells": [
    {
      "cell_type": "code",
      "source": [
        "import numpy as np\n",
        "import sympy as sp\n",
        "import matplotlib.pyplot as plt\n",
        "from scipy.misc import derivative\n",
        "import scipy.integrate as integrate\n",
        "import pandas as pd"
      ],
      "metadata": {
        "id": "H6j_KrjRH37n"
      },
      "execution_count": 53,
      "outputs": []
    },
    {
      "cell_type": "markdown",
      "source": [
        "##Lucys quartic kernel"
      ],
      "metadata": {
        "id": "tlth-3NuBiZK"
      }
    },
    {
      "cell_type": "markdown",
      "source": [
        "$$W(R,h)=\\alpha_{D}\\left\\lbrace\\begin{array}{c}(1+3q)(1-q)^{3}~~~~~0\\leq q\\leq h \\\\ 0~otros~casos \\end{array}\\right\\rbrace$$\n",
        "\n",
        "donde: $q=\\frac{|\\vec{r}-\\vec{r'}|}{h}$\n",
        "\n",
        "en 2D: $\\alpha_{D}=\\frac{5}{\\pi h^{2}}$\n",
        "\n",
        "en 3D: $\\alpha_{D}=\\frac{105}{16 \\pi h^{3}}$"
      ],
      "metadata": {
        "id": "UYdrLsbjBorx"
      }
    },
    {
      "cell_type": "code",
      "source": [
        "def kl(q):\n",
        "  T1=5/(np.pi*(h**2))\n",
        "  T2=(1+3*q)\n",
        "  T3=(1-q)**3\n",
        "  return T1*T2*T3 if 0<=q<h else 0\n",
        "\n",
        "\n"
      ],
      "metadata": {
        "id": "iO5k5m3VKrl-"
      },
      "execution_count": 10,
      "outputs": []
    },
    {
      "cell_type": "code",
      "source": [
        "q=np.linspace(0,1,100)\n",
        "h=2"
      ],
      "metadata": {
        "id": "5JuUlk672AjR"
      },
      "execution_count": 19,
      "outputs": []
    },
    {
      "cell_type": "code",
      "source": [
        "W=[kl(qi) for qi in q]\n"
      ],
      "metadata": {
        "id": "BzzN14mP14mx"
      },
      "execution_count": 20,
      "outputs": []
    },
    {
      "cell_type": "code",
      "source": [
        "w=np.array(W)"
      ],
      "metadata": {
        "id": "fU3Dl8LL2Lvu"
      },
      "execution_count": 21,
      "outputs": []
    },
    {
      "cell_type": "code",
      "source": [
        "plt.figure()\n",
        "plt.plot(q*h,w)\n",
        "plt.plot(-q*h,w)\n",
        "plt.xlabel(\"$r$\")\n",
        "plt.ylabel(\"$W(r,h)$\")\n",
        "plt.title(\"Kernel de lucy\")\n",
        "plt.grid()\n",
        "plt.show()\n"
      ],
      "metadata": {
        "colab": {
          "base_uri": "https://localhost:8080/",
          "height": 296
        },
        "id": "nfhp4gXgW8St",
        "outputId": "c808f1d5-945b-4044-c8d4-58f7640a252d"
      },
      "execution_count": 22,
      "outputs": [
        {
          "output_type": "display_data",
          "data": {
            "text/plain": [
              "<Figure size 432x288 with 1 Axes>"
            ],
            "image/png": "[encoded data removed]"
          },
          "metadata": {
            "needs_background": "light"
          }
        }
      ]
    },
    {
      "cell_type": "markdown",
      "source": [
        "2. calculamos la derivada numerica"
      ],
      "metadata": {
        "id": "zCIV5_7MkeRK"
      }
    },
    {
      "cell_type": "markdown",
      "source": [
        "Simbolicamente"
      ],
      "metadata": {
        "id": "9uPkNI3oon8B"
      }
    },
    {
      "cell_type": "code",
      "source": [
        "q1=sp.symbols(\"q\")\n",
        "y=(1+3*q1)*(1-q1)**3\n"
      ],
      "metadata": {
        "id": "_VTMY56GopKS"
      },
      "execution_count": 23,
      "outputs": []
    },
    {
      "cell_type": "code",
      "source": [
        "yp=sp.diff(y,q1,1)"
      ],
      "metadata": {
        "id": "-WGiQyYto4hW"
      },
      "execution_count": 24,
      "outputs": []
    },
    {
      "cell_type": "code",
      "source": [
        "yp"
      ],
      "metadata": {
        "id": "tRtKTa85o5jW",
        "colab": {
          "base_uri": "https://localhost:8080/",
          "height": 39
        },
        "outputId": "f3d3b574-87b3-4b3c-eb9f-0053b4644f51"
      },
      "execution_count": 25,
      "outputs": [
        {
          "output_type": "execute_result",
          "data": {
            "text/plain": [
              "3*(1 - q)**3 - 3*(1 - q)**2*(3*q + 1)"
            ],
            "text/latex": "$\\displaystyle 3 \\left(1 - q\\right)^{3} - 3 \\left(1 - q\\right)^{2} \\left(3 q + 1\\right)$"
          },
          "metadata": {},
          "execution_count": 25
        }
      ]
    },
    {
      "cell_type": "code",
      "source": [
        "ypev=sp.lambdify(q1,yp,\"numpy\")\n",
        "q_=np.linspace(0,1,100)"
      ],
      "metadata": {
        "id": "rtY-_M8op1fM"
      },
      "execution_count": 26,
      "outputs": []
    },
    {
      "cell_type": "code",
      "source": [
        "plt.figure()\n",
        "plt.plot(q_*h,W,\"r\",label=\"Kernel lucy\")\n",
        "plt.plot(-q_*h,W,\"r\")\n",
        "plt.plot(q_*h,ypev(q_),\"g\",label=\"derivada\")\n",
        "plt.plot(-q_*h,-ypev(q_),\"g\")\n",
        "plt.xlabel(\"$r$\")\n",
        "plt.ylabel(\"$W'(R,h)$\")\n",
        "plt.grid()\n",
        "plt.legend()\n",
        "plt.show()"
      ],
      "metadata": {
        "colab": {
          "base_uri": "https://localhost:8080/",
          "height": 280
        },
        "id": "J6keJ4AZqAzc",
        "outputId": "549d84a9-6dd4-4f70-eddb-da3814f15298"
      },
      "execution_count": 27,
      "outputs": [
        {
          "output_type": "display_data",
          "data": {
            "text/plain": [
              "<Figure size 432x288 with 1 Axes>"
            ],
            "image/png": "[encoded data removed]"
          },
          "metadata": {
            "needs_background": "light"
          }
        }
      ]
    },
    {
      "cell_type": "markdown",
      "source": [
        "## Integrales"
      ],
      "metadata": {
        "id": "hCnECkZ-O8qy"
      }
    },
    {
      "cell_type": "markdown",
      "source": [
        "$$\\int_0^{\\pi}e^{1-\\sqrt{x}}$$"
      ],
      "metadata": {
        "id": "wi7UvWgkPEcf"
      }
    },
    {
      "cell_type": "code",
      "source": [
        "def f1(x):\n",
        "  return np.exp(1-np.sqrt(x))\n",
        "  "
      ],
      "metadata": {
        "id": "_sIwaJ2QqT15"
      },
      "execution_count": 28,
      "outputs": []
    },
    {
      "cell_type": "code",
      "source": [
        "x=np.linspace(0,np.pi,100)\n",
        "print(f\"La integral por el metodo del trapecio es: {integrate.trapz(f1(x),x)}\")\n",
        "print(f\"La integral por el metodo de simpson es: {integrate.simps(f1(x),x)}\")\n",
        "print(f\"La integral por el metodo de cuadratura es:{integrate.quad(f1,0,np.pi)[0]}\")"
      ],
      "metadata": {
        "colab": {
          "base_uri": "https://localhost:8080/"
        },
        "id": "31JHQ0dJYwwD",
        "outputId": "238839c7-3447-4ca8-f64f-e91f1e3caec7"
      },
      "execution_count": 29,
      "outputs": [
        {
          "output_type": "stream",
          "name": "stdout",
          "text": [
            "La integral por el metodo del trapecio es: 2.8785626387091496\n",
            "La integral por el metodo de simpson es: 2.877400706092263\n",
            "La integral por el metodo de cuadratura es:2.8754911354375863\n"
          ]
        }
      ]
    },
    {
      "cell_type": "markdown",
      "source": [
        "$$\\int_0^{\\frac{\\pi}{2}}\\frac{1}{\\sqrt{tan(x)}}dx$$"
      ],
      "metadata": {
        "id": "e39mjKdfbgmc"
      }
    },
    {
      "cell_type": "code",
      "source": [
        "def f2(x):\n",
        "  return 1/np.sqrt(np.tan(x))"
      ],
      "metadata": {
        "id": "V5FnzXyhamJ5"
      },
      "execution_count": 30,
      "outputs": []
    },
    {
      "cell_type": "code",
      "source": [
        "x=np.linspace(0.000000001,np.pi/2,100000)\n",
        "print(f\"La integral por el metodo del trapecio es: {integrate.trapz(f2(x),x)}\")\n",
        "print(f\"La integral por el metodo de simpson es: {integrate.simps(f2(x),x)}\")\n",
        "print(f\"La integral por el metodo de cuadratura es:{integrate.quad(f2,0,np.pi/2)[0]}\")"
      ],
      "metadata": {
        "colab": {
          "base_uri": "https://localhost:8080/"
        },
        "id": "6ueSpwwVcBzt",
        "outputId": "c66aa815-1796-40b1-fbaa-b7d737878de4"
      },
      "execution_count": 31,
      "outputs": [
        {
          "output_type": "stream",
          "name": "stdout",
          "text": [
            "La integral por el metodo del trapecio es: 2.4640204249102537\n",
            "La integral por el metodo de simpson es: 2.4229561668187714\n",
            "La integral por el metodo de cuadratura es:2.2214414690792026\n"
          ]
        }
      ]
    },
    {
      "cell_type": "markdown",
      "source": [
        "$$\\int_{-\\infty}^{\\infty}\\frac{1}{1+x^{2}}$$"
      ],
      "metadata": {
        "id": "GTBygi32eMfd"
      }
    },
    {
      "cell_type": "code",
      "source": [
        "def f3(x):\n",
        "  return 1/(1+x**2)"
      ],
      "metadata": {
        "id": "HOmk-TgJenSD"
      },
      "execution_count": 32,
      "outputs": []
    },
    {
      "cell_type": "code",
      "source": [
        "x=np.linspace(-1000,1000,100000)\n",
        "print(f\"La integral por el metodo del trapecio es: {integrate.trapz(f3(x), x,)}\")\n",
        "print(f\"La integral por el metodo de simpson es: {integrate.simps(f3(x),x)}\")\n",
        "print(f\"La integral por el metodo de cuadratura es:{integrate.quad(f3,-np.infty,np.infty)[0]}\")"
      ],
      "metadata": {
        "colab": {
          "base_uri": "https://localhost:8080/"
        },
        "id": "ei9kdWNzcHxZ",
        "outputId": "d8a3fa2a-953c-467f-a155-13febfe8fa7f"
      },
      "execution_count": 34,
      "outputs": [
        {
          "output_type": "stream",
          "name": "stdout",
          "text": [
            "La integral por el metodo del trapecio es: 3.139592654256327\n",
            "La integral por el metodo de simpson es: 3.13959265425646\n",
            "La integral por el metodo de cuadratura es:3.141592653589793\n"
          ]
        }
      ]
    },
    {
      "cell_type": "markdown",
      "source": [
        "$$\\int_0^{\\frac{\\pi}{4}}\\int_{sinx}^{cosx}(2ysin(x)+cos^{2}x)dxdy=\\int_0^{\\frac{\\pi}{4}}(cos^{3}x-sin^{3}x)dx$$"
      ],
      "metadata": {
        "id": "Ko8mb-UuhLpp"
      }
    },
    {
      "cell_type": "code",
      "source": [
        "def f4(x):\n",
        "  return np.cos(x)**3-np.sin(x)**3"
      ],
      "metadata": {
        "id": "24u6LnjhfQk2"
      },
      "execution_count": 36,
      "outputs": []
    },
    {
      "cell_type": "code",
      "source": [
        "x=np.linspace(0,np.pi/4,1000)\n",
        "print(f\"La integral por el metodo del trapecio es: {integrate.trapz(f4(x), x)}\")\n",
        "print(f\"La integral por el metodo de simpson es: {integrate.simps(f4(x),x)}\")\n",
        "print(f\"La integral por el metodo de cuadratura es:{integrate.quad(f4,0,np.pi/4)[0]}\")"
      ],
      "metadata": {
        "colab": {
          "base_uri": "https://localhost:8080/"
        },
        "id": "5d2Sw8fIh4_z",
        "outputId": "535753a9-322b-4193-dbd6-f7490586a6e6"
      },
      "execution_count": 37,
      "outputs": [
        {
          "output_type": "stream",
          "name": "stdout",
          "text": [
            "La integral por el metodo del trapecio es: 0.5118445260477336\n",
            "La integral por el metodo de simpson es: 0.5118446352500744\n",
            "La integral por el metodo de cuadratura es:0.5118446353109126\n"
          ]
        }
      ]
    },
    {
      "cell_type": "markdown",
      "source": [
        "$$\\int_{e}^{2e}\\frac{1}{ln(x)}dx$$"
      ],
      "metadata": {
        "id": "R96Y2QxRi7Fq"
      }
    },
    {
      "cell_type": "code",
      "source": [
        "def f5(x):\n",
        "  return 1/np.log(x)"
      ],
      "metadata": {
        "id": "pvBxwvdXiFpH"
      },
      "execution_count": 38,
      "outputs": []
    },
    {
      "cell_type": "code",
      "source": [
        "x=np.linspace(np.e,2*np.e,1000)\n",
        "print(f\"La integral por el metodo del trapecio es: {integrate.trapz(f5(x), x)}\")\n",
        "print(f\"La integral por el metodo de simpson es: {integrate.simps(f5(x),x)}\")\n",
        "print(f\"La integral por el metodo de cuadratura es:{integrate.quad(f5,np.e,2*np.e)[0]}\")"
      ],
      "metadata": {
        "colab": {
          "base_uri": "https://localhost:8080/"
        },
        "id": "bDcuao7di5Cu",
        "outputId": "38412be6-89fa-43c0-9aa6-2ed83c9d7d33"
      },
      "execution_count": 39,
      "outputs": [
        {
          "output_type": "stream",
          "name": "stdout",
          "text": [
            "La integral por el metodo del trapecio es: 2.003810749013251\n",
            "La integral por el metodo de simpson es: 2.0038105619858713\n",
            "La integral por el metodo de cuadratura es:2.0038105616240243\n"
          ]
        }
      ]
    },
    {
      "cell_type": "markdown",
      "source": [
        "Velocidad de escape"
      ],
      "metadata": {
        "id": "3nWBSn-gkh_D"
      }
    },
    {
      "cell_type": "code",
      "source": [
        "#calculemos primero la integral:\n",
        "\n",
        "def g(z):\n",
        "  return 1/z**2"
      ],
      "metadata": {
        "id": "0GsErt6ljTw7"
      },
      "execution_count": 40,
      "outputs": []
    },
    {
      "cell_type": "code",
      "source": [
        "iq=integrate.quad(g,1,np.infty)[0]"
      ],
      "metadata": {
        "id": "Tfop-1fWledc"
      },
      "execution_count": 43,
      "outputs": []
    },
    {
      "cell_type": "code",
      "source": [
        "iq"
      ],
      "metadata": {
        "colab": {
          "base_uri": "https://localhost:8080/"
        },
        "id": "kFBYYf0AuxDk",
        "outputId": "6384804e-e9e9-47d7-e1d0-8ac43491dc0d"
      },
      "execution_count": 46,
      "outputs": [
        {
          "output_type": "execute_result",
          "data": {
            "text/plain": [
              "1.0"
            ]
          },
          "metadata": {},
          "execution_count": 46
        }
      ]
    },
    {
      "cell_type": "markdown",
      "source": [
        "Entonces: $v^{2}=2gR\\int_1^{\\infty}z^{-2}dz=2gR$ por lo que la velocidad de escape es:\n",
        "\n",
        "\n"
      ],
      "metadata": {
        "id": "OHODlKXiuC-C"
      }
    },
    {
      "cell_type": "code",
      "source": [
        "R=6.38E6\n",
        "g=9.8\n",
        "print(f\"la velocidad de escape es:{np.sqrt(2*g*R)}\")"
      ],
      "metadata": {
        "colab": {
          "base_uri": "https://localhost:8080/"
        },
        "id": "GZxFYViqtZa7",
        "outputId": "df326705-b7ed-433e-959c-f8522366d666"
      },
      "execution_count": 45,
      "outputs": [
        {
          "output_type": "stream",
          "name": "stdout",
          "text": [
            "la velocidad de escape es:11182.48630672088\n"
          ]
        }
      ]
    },
    {
      "cell_type": "markdown",
      "source": [
        "##6"
      ],
      "metadata": {
        "id": "_0RpTcBPvM6E"
      }
    },
    {
      "cell_type": "code",
      "source": [
        "def e(t):\n",
        "  return np.e**-t"
      ],
      "metadata": {
        "id": "0_7BM2I_vnFb"
      },
      "execution_count": 47,
      "outputs": []
    },
    {
      "cell_type": "code",
      "source": [
        "def N(x):\n",
        "  x1=np.linspace(0,x,1000)\n",
        "  return [integrate.quad(e,0,x)[0],integrate.simps(e(x1),x1), integrate.trapz(e(x1),x1)]"
      ],
      "metadata": {
        "id": "AA27pkDytkTW"
      },
      "execution_count": 51,
      "outputs": []
    },
    {
      "cell_type": "code",
      "source": [
        "N(1)"
      ],
      "metadata": {
        "colab": {
          "base_uri": "https://localhost:8080/"
        },
        "id": "7z_uldMjv5qm",
        "outputId": "64723f50-8744-4b84-f326-3b711f6f7cc2"
      },
      "execution_count": 52,
      "outputs": [
        {
          "output_type": "execute_result",
          "data": {
            "text/plain": [
              "[0.6321205588285578, 0.6321205588857143, 0.6321206116107817]"
            ]
          },
          "metadata": {},
          "execution_count": 52
        }
      ]
    },
    {
      "cell_type": "code",
      "source": [
        "et=(abs(N(2)[2]-(1-np.e**-2)))/(1-np.e**-2)"
      ],
      "metadata": {
        "id": "HrAYtCY2z2qa"
      },
      "execution_count": 70,
      "outputs": []
    },
    {
      "cell_type": "code",
      "source": [
        "es=(abs(N(2)[1]-(1-np.e**-2)))/(1-np.e**-2)"
      ],
      "metadata": {
        "id": "fYFar_0p2D2g"
      },
      "execution_count": 75,
      "outputs": []
    },
    {
      "cell_type": "code",
      "source": [
        "eg=(abs(N(2)[0]-(1-np.e**-2)))/(1-np.e**-2)"
      ],
      "metadata": {
        "id": "bFDPBVAL2vSg"
      },
      "execution_count": 74,
      "outputs": []
    },
    {
      "cell_type": "code",
      "source": [
        "def error(t):\n",
        "  et=(abs(N(t)[2]-(1-np.e**-t)))/(1-np.e**-t)\n",
        "  es=(abs(N(t)[1]-(1-np.e**-t)))/(1-np.e**-t)\n",
        "  eg=(abs(N(t)[0]-(1-np.e**-t)))/(1-np.e**-t)\n",
        "  return [et,es,eg]"
      ],
      "metadata": {
        "id": "K0PH-bnW29r2"
      },
      "execution_count": 76,
      "outputs": []
    },
    {
      "cell_type": "code",
      "source": [
        "error(2)"
      ],
      "metadata": {
        "colab": {
          "base_uri": "https://localhost:8080/"
        },
        "id": "N5JFelua3nUN",
        "outputId": "305011e3-e9c6-43ab-a363-0056190b19d2"
      },
      "execution_count": 77,
      "outputs": [
        {
          "output_type": "execute_result",
          "data": {
            "text/plain": [
              "[3.340009791634099e-07, 4.387488452503776e-10, 1.2839925153658901e-16]"
            ]
          },
          "metadata": {},
          "execution_count": 77
        }
      ]
    },
    {
      "cell_type": "code",
      "source": [
        "error(10)"
      ],
      "metadata": {
        "colab": {
          "base_uri": "https://localhost:8080/"
        },
        "id": "jwsaHLIB4KBL",
        "outputId": "5f4581d0-1674-45b4-f66f-b8352e5f6750"
      },
      "execution_count": 78,
      "outputs": [
        {
          "output_type": "execute_result",
          "data": {
            "text/plain": [
              "[8.3500110888332e-06, 4.164266984344467e-08, 2.2205468619218786e-16]"
            ]
          },
          "metadata": {},
          "execution_count": 78
        }
      ]
    },
    {
      "cell_type": "code",
      "source": [
        "error(20)"
      ],
      "metadata": {
        "colab": {
          "base_uri": "https://localhost:8080/"
        },
        "id": "kdJLisJo4n99",
        "outputId": "1a64fa3d-8fe8-4ae6-d0c7-8da0b9baf8b0"
      },
      "execution_count": 79,
      "outputs": [
        {
          "output_type": "execute_result",
          "data": {
            "text/plain": [
              "[3.3399877022230585e-05, 3.318922158392526e-07, 2.2204460538269937e-16]"
            ]
          },
          "metadata": {},
          "execution_count": 79
        }
      ]
    },
    {
      "cell_type": "code",
      "source": [
        "error(40)"
      ],
      "metadata": {
        "colab": {
          "base_uri": "https://localhost:8080/"
        },
        "id": "2Aszby1c48Vb",
        "outputId": "4f48f1cf-7ba2-4afc-dabe-0314702e2f0c"
      },
      "execution_count": 80,
      "outputs": [
        {
          "output_type": "execute_result",
          "data": {
            "text/plain": [
              "[0.0001335968308568969, 2.635769378311892e-06, 2.220446049250313e-16]"
            ]
          },
          "metadata": {},
          "execution_count": 80
        }
      ]
    },
    {
      "cell_type": "code",
      "source": [
        "error(80)"
      ],
      "metadata": {
        "colab": {
          "base_uri": "https://localhost:8080/"
        },
        "id": "D6dRozgj5UoC",
        "outputId": "de113c4a-2a3c-4671-aae4-83f3a2db3bde"
      },
      "execution_count": 81,
      "outputs": [
        {
          "output_type": "execute_result",
          "data": {
            "text/plain": [
              "[0.0005343444938412656, 2.078043722120171e-05, 2.220446049250313e-16]"
            ]
          },
          "metadata": {},
          "execution_count": 81
        }
      ]
    },
    {
      "cell_type": "code",
      "source": [
        "error(160)"
      ],
      "metadata": {
        "colab": {
          "base_uri": "https://localhost:8080/"
        },
        "id": "1RLC4deo5vRU",
        "outputId": "75c8e9bf-65e4-400d-9fe1-f6cb7c8c9206"
      },
      "execution_count": 82,
      "outputs": [
        {
          "output_type": "execute_result",
          "data": {
            "text/plain": [
              "[0.002136693094097364, 0.00016148215528111187, 2.220446049250313e-16]"
            ]
          },
          "metadata": {},
          "execution_count": 82
        }
      ]
    },
    {
      "cell_type": "markdown",
      "source": [
        "6.2"
      ],
      "metadata": {
        "id": "M8jYwyaTwakc"
      }
    },
    {
      "cell_type": "markdown",
      "source": [
        "| N  |$\\epsilon_T$ | $\\epsilon_S$ | $\\epsilon_G$ |\n",
        "|----|---------------|--------------|--------------|\n",
        "|   2  |3.34$\\times 10^{-7}$|4.38$\\times 10^{-10}$|1.28$\\times 10^{-16}$|\n",
        "|   10  |8.35$\\times 10^{-6}$|4.16$\\times 10^{-8}$|2.22$\\times 10^{-16}$|\n",
        "|20|3.34$\\times 10^{-5}$|3.31$\\times 10^{-7}$|2.22$\\times 10^{-16}$|\n",
        "|40|0.0001|2.634$\\times 10^{-6}$|2.22$\\times 10^{-16}$|\n",
        "|80|0.0005|2.078$\\times 10^{-5}$|2.22$\\times 10^{-16}$|\n",
        "|160|0.002|0.00016|2.22$\\times 10^{-16}$|"
      ],
      "metadata": {
        "id": "DEsqNBkLyx6g"
      }
    },
    {
      "cell_type": "code",
      "source": [
        "df=pd.DataFrame({\"N\":[2,10,20,40,80,160],\"Et\":[3.34E-7,8.35E-6,3.34E-5,0.0001,0.0005,0.002],\"Es\":[4.38E-10,4.16E-8,3.31E-7,2.634E-6,2.079E-5,0.00016],\"Eg\":[1.28E-16,1.28E-16,1.28E-16,1.28E-16,1.28E-16,1.28E-16]})"
      ],
      "metadata": {
        "id": "2AYThkIY54Or"
      },
      "execution_count": 84,
      "outputs": []
    },
    {
      "cell_type": "code",
      "source": [
        "df"
      ],
      "metadata": {
        "colab": {
          "base_uri": "https://localhost:8080/",
          "height": 237
        },
        "id": "mjfztRYw8ocs",
        "outputId": "23a428e8-2509-440f-96c7-a9db5337575b"
      },
      "execution_count": 85,
      "outputs": [
        {
          "output_type": "execute_result",
          "data": {
            "text/plain": [
              "     N            Et            Es            Eg\n",
              "0    2  3.340000e-07  4.380000e-10  1.280000e-16\n",
              "1   10  8.350000e-06  4.160000e-08  1.280000e-16\n",
              "2   20  3.340000e-05  3.310000e-07  1.280000e-16\n",
              "3   40  1.000000e-04  2.634000e-06  1.280000e-16\n",
              "4   80  5.000000e-04  2.079000e-05  1.280000e-16\n",
              "5  160  2.000000e-03  1.600000e-04  1.280000e-16"
            ],
            "text/html": [
              "\n",
              "  <div id=\"df-9ec07fa2-e81e-4fc9-9c44-094cc0b4ed2b\">\n",
              "    <div class=\"colab-df-container\">\n",
              "      <div>\n",
              "<style scoped>\n",
              "    .dataframe tbody tr th:only-of-type {\n",
              "        vertical-align: middle;\n",
              "    }\n",
              "\n",
              "    .dataframe tbody tr th {\n",
              "        vertical-align: top;\n",
              "    }\n",
              "\n",
              "    .dataframe thead th {\n",
              "        text-align: right;\n",
              "    }\n",
              "</style>\n",
              "<table border=\"1\" class=\"dataframe\">\n",
              "  <thead>\n",
              "    <tr style=\"text-align: right;\">\n",
              "      <th></th>\n",
              "      <th>N</th>\n",
              "      <th>Et</th>\n",
              "      <th>Es</th>\n",
              "      <th>Eg</th>\n",
              "    </tr>\n",
              "  </thead>\n",
              "  <tbody>\n",
              "    <tr>\n",
              "      <th>0</th>\n",
              "      <td>2</td>\n",
              "      <td>3.340000e-07</td>\n",
              "      <td>4.380000e-10</td>\n",
              "      <td>1.280000e-16</td>\n",
              "    </tr>\n",
              "    <tr>\n",
              "      <th>1</th>\n",
              "      <td>10</td>\n",
              "      <td>8.350000e-06</td>\n",
              "      <td>4.160000e-08</td>\n",
              "      <td>1.280000e-16</td>\n",
              "    </tr>\n",
              "    <tr>\n",
              "      <th>2</th>\n",
              "      <td>20</td>\n",
              "      <td>3.340000e-05</td>\n",
              "      <td>3.310000e-07</td>\n",
              "      <td>1.280000e-16</td>\n",
              "    </tr>\n",
              "    <tr>\n",
              "      <th>3</th>\n",
              "      <td>40</td>\n",
              "      <td>1.000000e-04</td>\n",
              "      <td>2.634000e-06</td>\n",
              "      <td>1.280000e-16</td>\n",
              "    </tr>\n",
              "    <tr>\n",
              "      <th>4</th>\n",
              "      <td>80</td>\n",
              "      <td>5.000000e-04</td>\n",
              "      <td>2.079000e-05</td>\n",
              "      <td>1.280000e-16</td>\n",
              "    </tr>\n",
              "    <tr>\n",
              "      <th>5</th>\n",
              "      <td>160</td>\n",
              "      <td>2.000000e-03</td>\n",
              "      <td>1.600000e-04</td>\n",
              "      <td>1.280000e-16</td>\n",
              "    </tr>\n",
              "  </tbody>\n",
              "</table>\n",
              "</div>\n",
              "      <button class=\"colab-df-convert\" onclick=\"convertToInteractive('df-9ec07fa2-e81e-4fc9-9c44-094cc0b4ed2b')\"\n",
              "              title=\"Convert this dataframe to an interactive table.\"\n",
              "              style=\"display:none;\">\n",
              "        \n",
              "  <svg xmlns=\"http://www.w3.org/2000/svg\" height=\"24px\"viewBox=\"0 0 24 24\"\n",
              "       width=\"24px\">\n",
              "    <path d=\"M0 0h24v24H0V0z\" fill=\"none\"/>\n",
              "    <path d=\"M18.56 5.44l.94 2.06.94-2.06 2.06-.94-2.06-.94-.94-2.06-.94 2.06-2.06.94zm-11 1L8.5 8.5l.94-2.06 2.06-.94-2.06-.94L8.5 2.5l-.94 2.06-2.06.94zm10 10l.94 2.06.94-2.06 2.06-.94-2.06-.94-.94-2.06-.94 2.06-2.06.94z\"/><path d=\"M17.41 7.96l-1.37-1.37c-.4-.4-.92-.59-1.43-.59-.52 0-1.04.2-1.43.59L10.3 9.45l-7.72 7.72c-.78.78-.78 2.05 0 2.83L4 21.41c.39.39.9.59 1.41.59.51 0 1.02-.2 1.41-.59l7.78-7.78 2.81-2.81c.8-.78.8-2.07 0-2.86zM5.41 20L4 18.59l7.72-7.72 1.47 1.35L5.41 20z\"/>\n",
              "  </svg>\n",
              "      </button>\n",
              "      \n",
              "  <style>\n",
              "    .colab-df-container {\n",
              "      display:flex;\n",
              "      flex-wrap:wrap;\n",
              "      gap: 12px;\n",
              "    }\n",
              "\n",
              "    .colab-df-convert {\n",
              "      background-color: #E8F0FE;\n",
              "      border: none;\n",
              "      border-radius: 50%;\n",
              "      cursor: pointer;\n",
              "      display: none;\n",
              "      fill: #1967D2;\n",
              "      height: 32px;\n",
              "      padding: 0 0 0 0;\n",
              "      width: 32px;\n",
              "    }\n",
              "\n",
              "    .colab-df-convert:hover {\n",
              "      background-color: #E2EBFA;\n",
              "      box-shadow: 0px 1px 2px rgba(60, 64, 67, 0.3), 0px 1px 3px 1px rgba(60, 64, 67, 0.15);\n",
              "      fill: #174EA6;\n",
              "    }\n",
              "\n",
              "    [theme=dark] .colab-df-convert {\n",
              "      background-color: #3B4455;\n",
              "      fill: #D2E3FC;\n",
              "    }\n",
              "\n",
              "    [theme=dark] .colab-df-convert:hover {\n",
              "      background-color: #434B5C;\n",
              "      box-shadow: 0px 1px 3px 1px rgba(0, 0, 0, 0.15);\n",
              "      filter: drop-shadow(0px 1px 2px rgba(0, 0, 0, 0.3));\n",
              "      fill: #FFFFFF;\n",
              "    }\n",
              "  </style>\n",
              "\n",
              "      <script>\n",
              "        const buttonEl =\n",
              "          document.querySelector('#df-9ec07fa2-e81e-4fc9-9c44-094cc0b4ed2b button.colab-df-convert');\n",
              "        buttonEl.style.display =\n",
              "          google.colab.kernel.accessAllowed ? 'block' : 'none';\n",
              "\n",
              "        async function convertToInteractive(key) {\n",
              "          const element = document.querySelector('#df-9ec07fa2-e81e-4fc9-9c44-094cc0b4ed2b');\n",
              "          const dataTable =\n",
              "            await google.colab.kernel.invokeFunction('convertToInteractive',\n",
              "                                                     [key], {});\n",
              "          if (!dataTable) return;\n",
              "\n",
              "          const docLinkHtml = 'Like what you see? Visit the ' +\n",
              "            '<a target=\"_blank\" href=https://colab.research.google.com/notebooks/data_table.ipynb>data table notebook</a>'\n",
              "            + ' to learn more about interactive tables.';\n",
              "          element.innerHTML = '';\n",
              "          dataTable['output_type'] = 'display_data';\n",
              "          await google.colab.output.renderOutput(dataTable, element);\n",
              "          const docLink = document.createElement('div');\n",
              "          docLink.innerHTML = docLinkHtml;\n",
              "          element.appendChild(docLink);\n",
              "        }\n",
              "      </script>\n",
              "    </div>\n",
              "  </div>\n",
              "  "
            ]
          },
          "metadata": {},
          "execution_count": 85
        }
      ]
    },
    {
      "cell_type": "code",
      "source": [
        "plt.figure()\n",
        "plt.plot(np.log(df.N),np.log(df.Et),label=\"Et\")\n",
        "plt.plot(np.log(df.N),np.log(df.Es),label=\"Es\")\n",
        "plt.plot(np.log(df.N),np.log(df.Eg),label=\"Eg\")\n",
        "plt.legend()\n",
        "plt.grid()\n",
        "plt.show()\n",
        "\n"
      ],
      "metadata": {
        "colab": {
          "base_uri": "https://localhost:8080/",
          "height": 267
        },
        "id": "KETnJ1aa8sy_",
        "outputId": "61e05034-2108-4fad-cba5-e4ed94af7d2f"
      },
      "execution_count": 87,
      "outputs": [
        {
          "output_type": "display_data",
          "data": {
            "text/plain": [
              "<Figure size 432x288 with 1 Axes>"
            ],
            "image/png": "[encoded data removed]"
          },
          "metadata": {
            "needs_background": "light"
          }
        }
      ]
    }
  ]
}