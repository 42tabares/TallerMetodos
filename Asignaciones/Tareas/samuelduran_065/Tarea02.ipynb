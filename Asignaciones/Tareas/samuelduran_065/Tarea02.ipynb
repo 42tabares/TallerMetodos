{
  "nbformat": 4,
  "nbformat_minor": 0,
  "metadata": {
    "colab": {
      "name": "Tarea02.ipynb",
      "provenance": []
    },
    "kernelspec": {
      "name": "python3",
      "display_name": "Python 3"
    },
    "language_info": {
      "name": "python"
    }
  },
  "cells": [
    {
      "cell_type": "code",
      "execution_count": 111,
      "metadata": {
        "id": "CZcgNqY9LBe2"
      },
      "outputs": [],
      "source": [
        "import numpy as np\n",
        "import matplotlib.pyplot as plt\n",
        "import math\n",
        "import pandas as pd"
      ]
    },
    {
      "cell_type": "markdown",
      "source": [
        "Codigo que calcula la funcion $e^{-x}$"
      ],
      "metadata": {
        "id": "MNPlaEq7Q4uR"
      }
    },
    {
      "cell_type": "code",
      "source": [
        "def e(x,N):\n",
        "  e=[]\n",
        "  for i in range(0,N+1,1):\n",
        "    e.append((-1)**i*(x**i)/(math.factorial(i)))\n",
        "  return sum(e)\n",
        "  "
      ],
      "metadata": {
        "id": "TwcP96hgLLAg"
      },
      "execution_count": 183,
      "outputs": []
    },
    {
      "cell_type": "markdown",
      "source": [
        "Calculando la funcion para $x\\leq1$ eligiendo N de tal forma que el $N_{+1}$-esimo termino de la serie no sea menor que $10^{-7}$"
      ],
      "metadata": {
        "id": "-DgY3NkARFBO"
      }
    },
    {
      "cell_type": "code",
      "source": [
        "def e(x,N):\n",
        "  e=[]\n",
        "  i=0\n",
        "  while i<=N:\n",
        "    e.append((-1)**i*(x**i)/(math.factorial(i)))\n",
        "    if abs(e[i])<=10E-7:\n",
        "      break\n",
        "    i+=1\n",
        "      \n",
        "    \n",
        "  \n",
        "  return sum(e)\n"
      ],
      "metadata": {
        "id": "mPZCJOjbRCpI"
      },
      "execution_count": 95,
      "outputs": []
    },
    {
      "cell_type": "code",
      "source": [
        "e(0.5,100) #Calculo por medio de la funcion"
      ],
      "metadata": {
        "colab": {
          "base_uri": "https://localhost:8080/"
        },
        "id": "29tUCUIpM1-H",
        "outputId": "69bd9108-72b7-4be3-fce5-b02ba73bb9f7"
      },
      "execution_count": 96,
      "outputs": [
        {
          "output_type": "execute_result",
          "data": {
            "text/plain": [
              "0.6065306648375496"
            ]
          },
          "metadata": {},
          "execution_count": 96
        }
      ]
    },
    {
      "cell_type": "code",
      "source": [
        "1/np.e**0.5 #Calculo por medio de numpy"
      ],
      "metadata": {
        "colab": {
          "base_uri": "https://localhost:8080/"
        },
        "id": "So3U91bDM4pt",
        "outputId": "eb29800c-d02d-43df-c3bf-c4ebd9ccf762"
      },
      "execution_count": 97,
      "outputs": [
        {
          "output_type": "execute_result",
          "data": {
            "text/plain": [
              "0.6065306597126334"
            ]
          },
          "metadata": {},
          "execution_count": 97
        }
      ]
    },
    {
      "cell_type": "markdown",
      "source": [
        "para x=10"
      ],
      "metadata": {
        "id": "YbHy2bKfWLvx"
      }
    },
    {
      "cell_type": "code",
      "source": [
        "def e(x,N):\n",
        "  e=[]\n",
        "  i=0\n",
        "  while i<=N:\n",
        "    e.append((-1)**i*(x**i)/(math.factorial(i)))\n",
        "    if abs(e[i])<=10E-7:\n",
        "      break\n",
        "    i+=1\n",
        "      \n",
        "    \n",
        "  \n",
        "  return e"
      ],
      "metadata": {
        "id": "ELJSHUqbV9QV"
      },
      "execution_count": 98,
      "outputs": []
    },
    {
      "cell_type": "code",
      "source": [
        "e(10,100)"
      ],
      "metadata": {
        "colab": {
          "base_uri": "https://localhost:8080/"
        },
        "id": "TFjiaA9FWQwE",
        "outputId": "cd7b25d5-2398-401a-8cfc-6e036f76bbfc"
      },
      "execution_count": 99,
      "outputs": [
        {
          "output_type": "execute_result",
          "data": {
            "text/plain": [
              "[1.0,\n",
              " -10.0,\n",
              " 50.0,\n",
              " -166.66666666666666,\n",
              " 416.6666666666667,\n",
              " -833.3333333333334,\n",
              " 1388.888888888889,\n",
              " -1984.126984126984,\n",
              " 2480.15873015873,\n",
              " -2755.731922398589,\n",
              " 2755.731922398589,\n",
              " -2505.210838544172,\n",
              " 2087.67569878681,\n",
              " -1605.9043836821616,\n",
              " 1147.0745597729724,\n",
              " -764.7163731819817,\n",
              " 477.9477332387385,\n",
              " -281.14572543455205,\n",
              " 156.19206968586226,\n",
              " -82.2063524662433,\n",
              " 41.10317623312165,\n",
              " -19.572941063391262,\n",
              " 8.896791392450574,\n",
              " -3.868170170630684,\n",
              " 1.6117375710961184,\n",
              " -0.6446950284384474,\n",
              " 0.24795962632247975,\n",
              " -0.09183689863795547,\n",
              " 0.03279889237069838,\n",
              " -0.011309962886447717,\n",
              " 0.003769987628815906,\n",
              " -0.001216125041553518,\n",
              " 0.00038003907548547436,\n",
              " -0.0001151633562077195,\n",
              " 3.3871575355211616e-05,\n",
              " -9.677592958631891e-06,\n",
              " 2.6882202662866364e-06,\n",
              " -7.265460179153071e-07]"
            ]
          },
          "metadata": {},
          "execution_count": 99
        }
      ]
    },
    {
      "cell_type": "markdown",
      "source": [
        "cuando n=x-1"
      ],
      "metadata": {
        "id": "8dZoGxI1Wedx"
      }
    },
    {
      "cell_type": "code",
      "source": [
        "print (e(10,100)[9], e(10,100)[10])#cancelacion substractiva"
      ],
      "metadata": {
        "colab": {
          "base_uri": "https://localhost:8080/"
        },
        "id": "Zfc8tkeGWSk_",
        "outputId": "02577d9d-1b29-4298-ad05-5840c229e8f4"
      },
      "execution_count": 103,
      "outputs": [
        {
          "output_type": "stream",
          "name": "stdout",
          "text": [
            "-2755.731922398589 2755.731922398589\n"
          ]
        }
      ]
    },
    {
      "cell_type": "markdown",
      "source": [
        "Incrementando x de 1 hasta 10:"
      ],
      "metadata": {
        "id": "0HNAV-vNZdgh"
      }
    },
    {
      "cell_type": "code",
      "source": [
        "def e(x,N):\n",
        "  e=[]\n",
        "  i=0\n",
        "  while i<=N:\n",
        "    e.append((-1)**i*(x**i)/(math.factorial(i)))\n",
        "    if abs(e[i])<=10E-7:\n",
        "      break\n",
        "    i+=1\n",
        "      \n",
        "    \n",
        "  \n",
        "  return sum(e)"
      ],
      "metadata": {
        "id": "idK1YSaEbXpz"
      },
      "execution_count": 112,
      "outputs": []
    },
    {
      "cell_type": "code",
      "source": [
        "il=[]\n",
        "el=[]\n",
        "for i in range (1,11,1):\n",
        "  il.append(i)\n",
        "  el.append(e(i,100))\n"
      ],
      "metadata": {
        "id": "hxMKbqpGZdTp"
      },
      "execution_count": 126,
      "outputs": []
    },
    {
      "cell_type": "code",
      "source": [
        "vr=[]\n",
        "for i in range(1,11,1):\n",
        "  vr.append(1/(np.e**i))"
      ],
      "metadata": {
        "id": "IBN0rP7GcGRp"
      },
      "execution_count": 127,
      "outputs": []
    },
    {
      "cell_type": "code",
      "source": [
        "variaciones=pd.DataFrame({\"x\":il,\"e^-x\":el,\"Valor real\":vr})"
      ],
      "metadata": {
        "id": "zhDfFL6KX0ti"
      },
      "execution_count": 128,
      "outputs": []
    },
    {
      "cell_type": "code",
      "source": [
        "variaciones"
      ],
      "metadata": {
        "colab": {
          "base_uri": "https://localhost:8080/",
          "height": 363
        },
        "id": "HBJTrOtVWji9",
        "outputId": "fdc7195d-6985-4c89-ad46-1be0426ecb0c"
      },
      "execution_count": 129,
      "outputs": [
        {
          "output_type": "execute_result",
          "data": {
            "text/html": [
              "\n",
              "  <div id=\"df-500c7a69-2679-4322-94d9-a2bd0d72cf1c\">\n",
              "    <div class=\"colab-df-container\">\n",
              "      <div>\n",
              "<style scoped>\n",
              "    .dataframe tbody tr th:only-of-type {\n",
              "        vertical-align: middle;\n",
              "    }\n",
              "\n",
              "    .dataframe tbody tr th {\n",
              "        vertical-align: top;\n",
              "    }\n",
              "\n",
              "    .dataframe thead th {\n",
              "        text-align: right;\n",
              "    }\n",
              "</style>\n",
              "<table border=\"1\" class=\"dataframe\">\n",
              "  <thead>\n",
              "    <tr style=\"text-align: right;\">\n",
              "      <th></th>\n",
              "      <th>x</th>\n",
              "      <th>e^-x</th>\n",
              "      <th>Valor real</th>\n",
              "    </tr>\n",
              "  </thead>\n",
              "  <tbody>\n",
              "    <tr>\n",
              "      <th>0</th>\n",
              "      <td>1</td>\n",
              "      <td>0.367879</td>\n",
              "      <td>0.367879</td>\n",
              "    </tr>\n",
              "    <tr>\n",
              "      <th>1</th>\n",
              "      <td>2</td>\n",
              "      <td>0.135335</td>\n",
              "      <td>0.135335</td>\n",
              "    </tr>\n",
              "    <tr>\n",
              "      <th>2</th>\n",
              "      <td>3</td>\n",
              "      <td>0.049787</td>\n",
              "      <td>0.049787</td>\n",
              "    </tr>\n",
              "    <tr>\n",
              "      <th>3</th>\n",
              "      <td>4</td>\n",
              "      <td>0.018316</td>\n",
              "      <td>0.018316</td>\n",
              "    </tr>\n",
              "    <tr>\n",
              "      <th>4</th>\n",
              "      <td>5</td>\n",
              "      <td>0.006738</td>\n",
              "      <td>0.006738</td>\n",
              "    </tr>\n",
              "    <tr>\n",
              "      <th>5</th>\n",
              "      <td>6</td>\n",
              "      <td>0.002479</td>\n",
              "      <td>0.002479</td>\n",
              "    </tr>\n",
              "    <tr>\n",
              "      <th>6</th>\n",
              "      <td>7</td>\n",
              "      <td>0.000912</td>\n",
              "      <td>0.000912</td>\n",
              "    </tr>\n",
              "    <tr>\n",
              "      <th>7</th>\n",
              "      <td>8</td>\n",
              "      <td>0.000336</td>\n",
              "      <td>0.000335</td>\n",
              "    </tr>\n",
              "    <tr>\n",
              "      <th>8</th>\n",
              "      <td>9</td>\n",
              "      <td>0.000124</td>\n",
              "      <td>0.000123</td>\n",
              "    </tr>\n",
              "    <tr>\n",
              "      <th>9</th>\n",
              "      <td>10</td>\n",
              "      <td>0.000045</td>\n",
              "      <td>0.000045</td>\n",
              "    </tr>\n",
              "  </tbody>\n",
              "</table>\n",
              "</div>\n",
              "      <button class=\"colab-df-convert\" onclick=\"convertToInteractive('df-500c7a69-2679-4322-94d9-a2bd0d72cf1c')\"\n",
              "              title=\"Convert this dataframe to an interactive table.\"\n",
              "              style=\"display:none;\">\n",
              "        \n",
              "  <svg xmlns=\"http://www.w3.org/2000/svg\" height=\"24px\"viewBox=\"0 0 24 24\"\n",
              "       width=\"24px\">\n",
              "    <path d=\"M0 0h24v24H0V0z\" fill=\"none\"/>\n",
              "    <path d=\"M18.56 5.44l.94 2.06.94-2.06 2.06-.94-2.06-.94-.94-2.06-.94 2.06-2.06.94zm-11 1L8.5 8.5l.94-2.06 2.06-.94-2.06-.94L8.5 2.5l-.94 2.06-2.06.94zm10 10l.94 2.06.94-2.06 2.06-.94-2.06-.94-.94-2.06-.94 2.06-2.06.94z\"/><path d=\"M17.41 7.96l-1.37-1.37c-.4-.4-.92-.59-1.43-.59-.52 0-1.04.2-1.43.59L10.3 9.45l-7.72 7.72c-.78.78-.78 2.05 0 2.83L4 21.41c.39.39.9.59 1.41.59.51 0 1.02-.2 1.41-.59l7.78-7.78 2.81-2.81c.8-.78.8-2.07 0-2.86zM5.41 20L4 18.59l7.72-7.72 1.47 1.35L5.41 20z\"/>\n",
              "  </svg>\n",
              "      </button>\n",
              "      \n",
              "  <style>\n",
              "    .colab-df-container {\n",
              "      display:flex;\n",
              "      flex-wrap:wrap;\n",
              "      gap: 12px;\n",
              "    }\n",
              "\n",
              "    .colab-df-convert {\n",
              "      background-color: #E8F0FE;\n",
              "      border: none;\n",
              "      border-radius: 50%;\n",
              "      cursor: pointer;\n",
              "      display: none;\n",
              "      fill: #1967D2;\n",
              "      height: 32px;\n",
              "      padding: 0 0 0 0;\n",
              "      width: 32px;\n",
              "    }\n",
              "\n",
              "    .colab-df-convert:hover {\n",
              "      background-color: #E2EBFA;\n",
              "      box-shadow: 0px 1px 2px rgba(60, 64, 67, 0.3), 0px 1px 3px 1px rgba(60, 64, 67, 0.15);\n",
              "      fill: #174EA6;\n",
              "    }\n",
              "\n",
              "    [theme=dark] .colab-df-convert {\n",
              "      background-color: #3B4455;\n",
              "      fill: #D2E3FC;\n",
              "    }\n",
              "\n",
              "    [theme=dark] .colab-df-convert:hover {\n",
              "      background-color: #434B5C;\n",
              "      box-shadow: 0px 1px 3px 1px rgba(0, 0, 0, 0.15);\n",
              "      filter: drop-shadow(0px 1px 2px rgba(0, 0, 0, 0.3));\n",
              "      fill: #FFFFFF;\n",
              "    }\n",
              "  </style>\n",
              "\n",
              "      <script>\n",
              "        const buttonEl =\n",
              "          document.querySelector('#df-500c7a69-2679-4322-94d9-a2bd0d72cf1c button.colab-df-convert');\n",
              "        buttonEl.style.display =\n",
              "          google.colab.kernel.accessAllowed ? 'block' : 'none';\n",
              "\n",
              "        async function convertToInteractive(key) {\n",
              "          const element = document.querySelector('#df-500c7a69-2679-4322-94d9-a2bd0d72cf1c');\n",
              "          const dataTable =\n",
              "            await google.colab.kernel.invokeFunction('convertToInteractive',\n",
              "                                                     [key], {});\n",
              "          if (!dataTable) return;\n",
              "\n",
              "          const docLinkHtml = 'Like what you see? Visit the ' +\n",
              "            '<a target=\"_blank\" href=https://colab.research.google.com/notebooks/data_table.ipynb>data table notebook</a>'\n",
              "            + ' to learn more about interactive tables.';\n",
              "          element.innerHTML = '';\n",
              "          dataTable['output_type'] = 'display_data';\n",
              "          await google.colab.output.renderOutput(dataTable, element);\n",
              "          const docLink = document.createElement('div');\n",
              "          docLink.innerHTML = docLinkHtml;\n",
              "          element.appendChild(docLink);\n",
              "        }\n",
              "      </script>\n",
              "    </div>\n",
              "  </div>\n",
              "  "
            ],
            "text/plain": [
              "    x      e^-x  Valor real\n",
              "0   1  0.367879    0.367879\n",
              "1   2  0.135335    0.135335\n",
              "2   3  0.049787    0.049787\n",
              "3   4  0.018316    0.018316\n",
              "4   5  0.006738    0.006738\n",
              "5   6  0.002479    0.002479\n",
              "6   7  0.000912    0.000912\n",
              "7   8  0.000336    0.000335\n",
              "8   9  0.000124    0.000123\n",
              "9  10  0.000045    0.000045"
            ]
          },
          "metadata": {},
          "execution_count": 129
        }
      ]
    },
    {
      "cell_type": "markdown",
      "source": [
        "ahora de 10 hasta 100"
      ],
      "metadata": {
        "id": "o9COvoSFcgC-"
      }
    },
    {
      "cell_type": "code",
      "source": [
        "il=[]\n",
        "el=[]\n",
        "for i in range (10,101,1):\n",
        "  il.append(i)\n",
        "  el.append(e(i,100000))\n"
      ],
      "metadata": {
        "id": "9FJVkywEcDY2"
      },
      "execution_count": 143,
      "outputs": []
    },
    {
      "cell_type": "code",
      "source": [
        "vr=[]\n",
        "for i in range(10,101,1):\n",
        "  vr.append(1/(np.e**i))"
      ],
      "metadata": {
        "id": "UCf55sNwcm9A"
      },
      "execution_count": 144,
      "outputs": []
    },
    {
      "cell_type": "code",
      "source": [
        "variaciones=pd.DataFrame({\"x\":il,\"e^-x\":el,\"Valor real\":vr})"
      ],
      "metadata": {
        "id": "9KmAZ_cCcrq6"
      },
      "execution_count": 145,
      "outputs": []
    },
    {
      "cell_type": "code",
      "source": [
        "variaciones"
      ],
      "metadata": {
        "colab": {
          "base_uri": "https://localhost:8080/",
          "height": 423
        },
        "id": "6xQQ0hjoctkS",
        "outputId": "e029a72e-945a-447e-894d-7aa0b930c8fc"
      },
      "execution_count": 147,
      "outputs": [
        {
          "output_type": "execute_result",
          "data": {
            "text/html": [
              "\n",
              "  <div id=\"df-54b0f17f-3be5-4a22-aef3-453c960dae21\">\n",
              "    <div class=\"colab-df-container\">\n",
              "      <div>\n",
              "<style scoped>\n",
              "    .dataframe tbody tr th:only-of-type {\n",
              "        vertical-align: middle;\n",
              "    }\n",
              "\n",
              "    .dataframe tbody tr th {\n",
              "        vertical-align: top;\n",
              "    }\n",
              "\n",
              "    .dataframe thead th {\n",
              "        text-align: right;\n",
              "    }\n",
              "</style>\n",
              "<table border=\"1\" class=\"dataframe\">\n",
              "  <thead>\n",
              "    <tr style=\"text-align: right;\">\n",
              "      <th></th>\n",
              "      <th>x</th>\n",
              "      <th>e^-x</th>\n",
              "      <th>Valor real</th>\n",
              "    </tr>\n",
              "  </thead>\n",
              "  <tbody>\n",
              "    <tr>\n",
              "      <th>0</th>\n",
              "      <td>10</td>\n",
              "      <td>4.524791e-05</td>\n",
              "      <td>4.539993e-05</td>\n",
              "    </tr>\n",
              "    <tr>\n",
              "      <th>1</th>\n",
              "      <td>11</td>\n",
              "      <td>1.681952e-05</td>\n",
              "      <td>1.670170e-05</td>\n",
              "    </tr>\n",
              "    <tr>\n",
              "      <th>2</th>\n",
              "      <td>12</td>\n",
              "      <td>6.053788e-06</td>\n",
              "      <td>6.144212e-06</td>\n",
              "    </tr>\n",
              "    <tr>\n",
              "      <th>3</th>\n",
              "      <td>13</td>\n",
              "      <td>2.329220e-06</td>\n",
              "      <td>2.260329e-06</td>\n",
              "    </tr>\n",
              "    <tr>\n",
              "      <th>4</th>\n",
              "      <td>14</td>\n",
              "      <td>1.017119e-06</td>\n",
              "      <td>8.315287e-07</td>\n",
              "    </tr>\n",
              "    <tr>\n",
              "      <th>...</th>\n",
              "      <td>...</td>\n",
              "      <td>...</td>\n",
              "      <td>...</td>\n",
              "    </tr>\n",
              "    <tr>\n",
              "      <th>86</th>\n",
              "      <td>96</td>\n",
              "      <td>1.594270e+24</td>\n",
              "      <td>2.031093e-42</td>\n",
              "    </tr>\n",
              "    <tr>\n",
              "      <th>87</th>\n",
              "      <td>97</td>\n",
              "      <td>-1.921606e+25</td>\n",
              "      <td>7.471972e-43</td>\n",
              "    </tr>\n",
              "    <tr>\n",
              "      <th>88</th>\n",
              "      <td>98</td>\n",
              "      <td>3.835507e+25</td>\n",
              "      <td>2.748785e-43</td>\n",
              "    </tr>\n",
              "    <tr>\n",
              "      <th>89</th>\n",
              "      <td>99</td>\n",
              "      <td>1.316858e+26</td>\n",
              "      <td>1.011221e-43</td>\n",
              "    </tr>\n",
              "    <tr>\n",
              "      <th>90</th>\n",
              "      <td>100</td>\n",
              "      <td>-2.875658e+26</td>\n",
              "      <td>3.720076e-44</td>\n",
              "    </tr>\n",
              "  </tbody>\n",
              "</table>\n",
              "<p>91 rows × 3 columns</p>\n",
              "</div>\n",
              "      <button class=\"colab-df-convert\" onclick=\"convertToInteractive('df-54b0f17f-3be5-4a22-aef3-453c960dae21')\"\n",
              "              title=\"Convert this dataframe to an interactive table.\"\n",
              "              style=\"display:none;\">\n",
              "        \n",
              "  <svg xmlns=\"http://www.w3.org/2000/svg\" height=\"24px\"viewBox=\"0 0 24 24\"\n",
              "       width=\"24px\">\n",
              "    <path d=\"M0 0h24v24H0V0z\" fill=\"none\"/>\n",
              "    <path d=\"M18.56 5.44l.94 2.06.94-2.06 2.06-.94-2.06-.94-.94-2.06-.94 2.06-2.06.94zm-11 1L8.5 8.5l.94-2.06 2.06-.94-2.06-.94L8.5 2.5l-.94 2.06-2.06.94zm10 10l.94 2.06.94-2.06 2.06-.94-2.06-.94-.94-2.06-.94 2.06-2.06.94z\"/><path d=\"M17.41 7.96l-1.37-1.37c-.4-.4-.92-.59-1.43-.59-.52 0-1.04.2-1.43.59L10.3 9.45l-7.72 7.72c-.78.78-.78 2.05 0 2.83L4 21.41c.39.39.9.59 1.41.59.51 0 1.02-.2 1.41-.59l7.78-7.78 2.81-2.81c.8-.78.8-2.07 0-2.86zM5.41 20L4 18.59l7.72-7.72 1.47 1.35L5.41 20z\"/>\n",
              "  </svg>\n",
              "      </button>\n",
              "      \n",
              "  <style>\n",
              "    .colab-df-container {\n",
              "      display:flex;\n",
              "      flex-wrap:wrap;\n",
              "      gap: 12px;\n",
              "    }\n",
              "\n",
              "    .colab-df-convert {\n",
              "      background-color: #E8F0FE;\n",
              "      border: none;\n",
              "      border-radius: 50%;\n",
              "      cursor: pointer;\n",
              "      display: none;\n",
              "      fill: #1967D2;\n",
              "      height: 32px;\n",
              "      padding: 0 0 0 0;\n",
              "      width: 32px;\n",
              "    }\n",
              "\n",
              "    .colab-df-convert:hover {\n",
              "      background-color: #E2EBFA;\n",
              "      box-shadow: 0px 1px 2px rgba(60, 64, 67, 0.3), 0px 1px 3px 1px rgba(60, 64, 67, 0.15);\n",
              "      fill: #174EA6;\n",
              "    }\n",
              "\n",
              "    [theme=dark] .colab-df-convert {\n",
              "      background-color: #3B4455;\n",
              "      fill: #D2E3FC;\n",
              "    }\n",
              "\n",
              "    [theme=dark] .colab-df-convert:hover {\n",
              "      background-color: #434B5C;\n",
              "      box-shadow: 0px 1px 3px 1px rgba(0, 0, 0, 0.15);\n",
              "      filter: drop-shadow(0px 1px 2px rgba(0, 0, 0, 0.3));\n",
              "      fill: #FFFFFF;\n",
              "    }\n",
              "  </style>\n",
              "\n",
              "      <script>\n",
              "        const buttonEl =\n",
              "          document.querySelector('#df-54b0f17f-3be5-4a22-aef3-453c960dae21 button.colab-df-convert');\n",
              "        buttonEl.style.display =\n",
              "          google.colab.kernel.accessAllowed ? 'block' : 'none';\n",
              "\n",
              "        async function convertToInteractive(key) {\n",
              "          const element = document.querySelector('#df-54b0f17f-3be5-4a22-aef3-453c960dae21');\n",
              "          const dataTable =\n",
              "            await google.colab.kernel.invokeFunction('convertToInteractive',\n",
              "                                                     [key], {});\n",
              "          if (!dataTable) return;\n",
              "\n",
              "          const docLinkHtml = 'Like what you see? Visit the ' +\n",
              "            '<a target=\"_blank\" href=https://colab.research.google.com/notebooks/data_table.ipynb>data table notebook</a>'\n",
              "            + ' to learn more about interactive tables.';\n",
              "          element.innerHTML = '';\n",
              "          dataTable['output_type'] = 'display_data';\n",
              "          await google.colab.output.renderOutput(dataTable, element);\n",
              "          const docLink = document.createElement('div');\n",
              "          docLink.innerHTML = docLinkHtml;\n",
              "          element.appendChild(docLink);\n",
              "        }\n",
              "      </script>\n",
              "    </div>\n",
              "  </div>\n",
              "  "
            ],
            "text/plain": [
              "      x          e^-x    Valor real\n",
              "0    10  4.524791e-05  4.539993e-05\n",
              "1    11  1.681952e-05  1.670170e-05\n",
              "2    12  6.053788e-06  6.144212e-06\n",
              "3    13  2.329220e-06  2.260329e-06\n",
              "4    14  1.017119e-06  8.315287e-07\n",
              "..  ...           ...           ...\n",
              "86   96  1.594270e+24  2.031093e-42\n",
              "87   97 -1.921606e+25  7.471972e-43\n",
              "88   98  3.835507e+25  2.748785e-43\n",
              "89   99  1.316858e+26  1.011221e-43\n",
              "90  100 -2.875658e+26  3.720076e-44\n",
              "\n",
              "[91 rows x 3 columns]"
            ]
          },
          "metadata": {},
          "execution_count": 147
        }
      ]
    },
    {
      "cell_type": "markdown",
      "source": [
        "Se puede ver en la tabla que el programa empieza a perder precision cuando $x\\geq14$"
      ],
      "metadata": {
        "id": "wram93cFdLrR"
      }
    },
    {
      "cell_type": "markdown",
      "source": [
        "Graficas de N vs Error."
      ],
      "metadata": {
        "id": "1Zc2IBsAfkvn"
      }
    },
    {
      "cell_type": "code",
      "source": [
        "Nl=[]\n",
        "error=[]\n",
        "for i in range(1,101,1):\n",
        "  Nl.append(i)\n",
        "  error.append(abs((1/np.e)-e(1,i)))\n",
        "\n",
        "\n"
      ],
      "metadata": {
        "id": "PedaR7ZAfkSM"
      },
      "execution_count": 184,
      "outputs": []
    },
    {
      "cell_type": "code",
      "source": [
        "plt.figure()\n",
        "plt.plot(Nl,error)\n",
        "plt.title(\"$e^-1$\")\n",
        "plt.xlabel(\"N\")\n",
        "plt.ylabel(\"error\")\n",
        "plt.grid()\n",
        "plt.show()"
      ],
      "metadata": {
        "colab": {
          "base_uri": "https://localhost:8080/",
          "height": 295
        },
        "id": "WhNk4nZtij73",
        "outputId": "0e4b156e-285a-4fa1-8f08-655bfdf7e2c5"
      },
      "execution_count": 185,
      "outputs": [
        {
          "output_type": "display_data",
          "data": {
            "image/png": "[encoded data removed]",
            "text/plain": [
              "<Figure size 432x288 with 1 Axes>"
            ]
          },
          "metadata": {
            "needs_background": "light"
          }
        }
      ]
    },
    {
      "cell_type": "code",
      "source": [
        "Nl=[]\n",
        "error=[]\n",
        "for i in range(1,101,1):\n",
        "  Nl.append(i)\n",
        "  error.append(abs((30/np.e)-e(30,i)))"
      ],
      "metadata": {
        "id": "KL6Axu-cdLgC"
      },
      "execution_count": 186,
      "outputs": []
    },
    {
      "cell_type": "code",
      "source": [
        "plt.figure()\n",
        "plt.plot(Nl,error)\n",
        "plt.title(\"$e^-30$\")\n",
        "plt.xlabel(\"N\")\n",
        "plt.ylabel(\"error\")\n",
        "plt.grid()\n",
        "plt.show()"
      ],
      "metadata": {
        "colab": {
          "base_uri": "https://localhost:8080/",
          "height": 295
        },
        "id": "hvXnzrA3kekO",
        "outputId": "56754239-a645-4a60-819b-3f7b50f5a192"
      },
      "execution_count": 187,
      "outputs": [
        {
          "output_type": "display_data",
          "data": {
            "image/png": "[encoded data removed]",
            "text/plain": [
              "<Figure size 432x288 with 1 Axes>"
            ]
          },
          "metadata": {
            "needs_background": "light"
          }
        }
      ]
    },
    {
      "cell_type": "code",
      "source": [
        ""
      ],
      "metadata": {
        "id": "ZucOt1VCk1B1"
      },
      "execution_count": null,
      "outputs": []
    }
  ]
}