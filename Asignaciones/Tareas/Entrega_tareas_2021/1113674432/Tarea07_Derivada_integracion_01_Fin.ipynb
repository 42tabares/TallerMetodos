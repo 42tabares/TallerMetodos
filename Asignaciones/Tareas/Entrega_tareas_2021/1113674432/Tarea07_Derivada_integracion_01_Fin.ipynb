{
  "nbformat": 4,
  "nbformat_minor": 0,
  "metadata": {
    "colab": {
      "name": "Tarea07_Derivada_integracion_01_Fin.ipynb",
      "provenance": [],
      "collapsed_sections": []
    },
    "kernelspec": {
      "display_name": "Python 3",
      "language": "python",
      "name": "python3"
    },
    "language_info": {
      "codemirror_mode": {
        "name": "ipython",
        "version": 3
      },
      "file_extension": ".py",
      "mimetype": "text/x-python",
      "name": "python",
      "nbconvert_exporter": "python",
      "pygments_lexer": "ipython3",
      "version": "3.8.5"
    }
  },
  "cells": [
    {
      "cell_type": "markdown",
      "metadata": {
        "id": "8q4c8oS-hpaE"
      },
      "source": [
        "\n",
        "#1. Derivadas.\n",
        "\n",
        "\n",
        "En el metodo Smoothed-particle hydrodynamics ([SPH](!https://en.wikipedia.org/wiki/Smoothed-particle_hydrodynamics)) se emplean diferentes kernel de aproximación para calcular las propiedades  de un fluído en cada punto del espacio. Uno de ellos es el Kernel de Lucy detallado a continuación:\n",
        "\n",
        "### Lucy's Quartic Kernel \n",
        "\\begin{equation}\n",
        "W(R, h)= \\alpha_D \\left\\{\n",
        "  \\begin{matrix} \\left(1+3q)(1- q^3\\right) &  0\\leq q< h \\\\ \n",
        "  0 & in\\ the\\ other\\ case.\n",
        "  \\end{matrix}\n",
        "\\right.\n",
        "\\end{equation}\n",
        "\n",
        "donde, \n",
        "\n",
        "\\begin{equation}\n",
        "q=\\frac{|(\\vec{r}-\\vec{r}')|}{h}\n",
        "\\end{equation}\n",
        "\n",
        "y $\\alpha_D$ es la constante de normalización:\n",
        "\n",
        "- en 2 dimensiones, viene dada por:\n",
        "\\begin{equation}\n",
        "\\alpha_D = \\frac{5}{\\pi h^2}\n",
        "\\end{equation}\n",
        "\n",
        "- en 3 dimensiones, viene dada por:\n",
        "\\begin{equation}\n",
        "\\alpha_D = \\frac{105}{16\\pi h^3}\n",
        "\\end{equation}\n",
        "\n",
        "Para el kernel de Lucy en 2D encontrar su derivada a través de los siguientes pasos:\n",
        "\n",
        "1. Realizar un gráfico del kernel de Lucy.\n",
        "2. Encontrar la derivada empleanda la libreria simbolica\n",
        "3. Realizar un grafico de los cálculos encontrados con la  libreria simbólica  y comparar con la derivada numérica de los datos del punto 1. \n",
        "\n",
        "Recuerde siempre comparar sus resultados con sus cálculos realizados en papel y lapiz.\n",
        "\n",
        "\n",
        "Opcional.\n",
        "\n",
        "Resolver el problema en 3D\n",
        "\n",
        "\n",
        "\n",
        "\n"
      ]
    },
    {
      "cell_type": "code",
      "metadata": {
        "id": "YazlcwbljaHA"
      },
      "source": [
        "import numpy as np\n",
        "import sympy as sp\n",
        "import scipy as sc\n",
        "import pandas as pd\n",
        "from scipy.misc import derivative\n",
        "from scipy import  optimize\n",
        "from sympy import init_printing\n",
        "import matplotlib.pylab as plt\n",
        "from scipy.interpolate import CubicSpline\n",
        "init_printing() "
      ],
      "execution_count": null,
      "outputs": []
    },
    {
      "cell_type": "code",
      "metadata": {
        "id": "FWdBApv8jaHD"
      },
      "source": [
        "r_=np.array([0,0])"
      ],
      "execution_count": null,
      "outputs": []
    },
    {
      "cell_type": "code",
      "metadata": {
        "id": "fZ-ygBukjaHF"
      },
      "source": [
        "def q(r,r_,h):\n",
        "  ''' Se definio la funcion q'''\n",
        "    \n",
        "  return abs(r-r_)/h\n",
        "def W(q,h):\n",
        "    if 0<=q and q<1:\n",
        "        ad=5/(np.pi*(h**2))\n",
        "        w=ad*(1+3*q)*((1-q)**3)\n",
        "    else:\n",
        "        w=0\n",
        "    return w"
      ],
      "execution_count": null,
      "outputs": []
    },
    {
      "cell_type": "code",
      "metadata": {
        "id": "nXozALqujaHG"
      },
      "source": [
        "r_=np.linspace(-1,1)\n",
        "a=q(0,r_,4)\n",
        "y=np.zeros(len(a))\n",
        "\n",
        "for i in range(len(a)):\n",
        "    y[i]=W(a[i],4)\n"
      ],
      "execution_count": null,
      "outputs": []
    },
    {
      "cell_type": "code",
      "metadata": {
        "id": "2Ge0dhqmjaHH"
      },
      "source": [
        "plt.plot(r_, y)\n",
        "plt.grid()"
      ],
      "execution_count": null,
      "outputs": []
    },
    {
      "cell_type": "code",
      "metadata": {
        "id": "WSX8gcVHrHrI"
      },
      "source": [
        "from scipy import misc\n",
        "def derivate(func,x0,**kwargs):\n",
        "    '''\n",
        "    Vectorized replacement of scipy.misc derivative:\n",
        "        from scipy.misc import derivative\n",
        "    For usage check the derivative help, e.g, in jupyter: \n",
        "        from scipy.misc import derivative\n",
        "        derivative?\n",
        "    '''\n",
        "    try:\n",
        "        #x0: can be an array or a list  \n",
        "        nn=np.asarray(x0).shape[0] # force error if float is used \n",
        "        fp=np.vectorize(misc.derivative)\n",
        "    except IndexError:\n",
        "        fp=misc.derivative\n",
        "        \n",
        "    return fp(func,x0,**kwargs)"
      ],
      "execution_count": null,
      "outputs": []
    },
    {
      "cell_type": "code",
      "metadata": {
        "id": "Vhx2OfcuqRX8"
      },
      "source": [
        "F=CubicSpline(r_,y)\n",
        "d=np.vectorize(derivative)\n",
        "d_=d(F,r_,dx=1e-6)\n"
      ],
      "execution_count": null,
      "outputs": []
    },
    {
      "cell_type": "code",
      "metadata": {
        "id": "y4Wjven5sliY"
      },
      "source": [
        "plt.plot(r_,d_)\n",
        "plt.grid()\n",
        "#plt.ylim(-5,5)"
      ],
      "execution_count": null,
      "outputs": []
    },
    {
      "cell_type": "code",
      "metadata": {
        "id": "MU-EOcn0x2J3"
      },
      "source": [
        "'''Calculo de la derrivada simbolica de W(q)'''\n",
        "h=4\n",
        "q = sp.symbols(\"q\")\n",
        "ad=5/(np.pi*(h**2))\n",
        "f = lambda q: ad*(1+3*q)*((1-q)**3)  \n",
        "f(q)"
      ],
      "execution_count": null,
      "outputs": []
    },
    {
      "cell_type": "code",
      "metadata": {
        "id": "ZeNwilW6BzcY"
      },
      "source": [
        "h=4\n",
        "r=0\n",
        "def q1(r,r_,h):\n",
        "  ''' Se definio la funcion q'''\n",
        "    \n",
        "  return abs(r-r_)/h\n",
        "def F1(q1,h):\n",
        "    if 0<=q1 and q1<1:\n",
        "       fp = sp.diff(f(q),q, 1)\n",
        "       fp_ = sp.lambdify(q, fp, \"numpy\")\n",
        "       fn=fp_(q1)\n",
        "    else:\n",
        "        fn=0\n",
        "    return fn\n"
      ],
      "execution_count": null,
      "outputs": []
    },
    {
      "cell_type": "code",
      "metadata": {
        "id": "uU0UoKgoE5P8"
      },
      "source": [
        "r_=np.linspace(-1,1)\n",
        "a=q1(0,r_,4)\n",
        "z=np.zeros(len(a))\n",
        "\n",
        "for i in range(len(a)):\n",
        "    z[i]=F1(a[i],4)"
      ],
      "execution_count": null,
      "outputs": []
    },
    {
      "cell_type": "code",
      "metadata": {
        "id": "FLypsHPHDOnr"
      },
      "source": [
        "plt.plot(r_, z)\n",
        "plt.grid()"
      ],
      "execution_count": null,
      "outputs": []
    },
    {
      "cell_type": "markdown",
      "metadata": {
        "id": "WV6dMBzK_odZ"
      },
      "source": [
        "\n",
        "\n",
        "\n",
        "# 2.0 Integración\n",
        "\n",
        "1. Escribir en código Markdown la deducción para calcular una integral con la regla del trapecio. Ver libro guia.\n",
        "\n",
        "2. Escribir en código Markdown la expresión para calcular una integral con la regla del simpson\n",
        "\n",
        "\n",
        "3. Escribir en código Markdown la expresión para calcular una integral con el metodo de cuadratura.\n",
        "\n",
        "4. Calcular con los metodos 1,2,3 las siguientes integrales\n",
        "\n",
        "- \n",
        " $$\n",
        " \\int_0^1 e^{1-x^2}\\, dx\n",
        " $$\n",
        "\n",
        "\n",
        "- \n",
        "$$\n",
        " \\int_{-\\infty}^{\\infty} \\frac{1}{1+x^2} \\, dx\n",
        " $$\n",
        "\n",
        "\n",
        "- \n",
        "\n",
        "$$\n",
        " \\int_{0}^{\\pi/4} \\int_{\\sin x}^{\\cos x} (2y\\sin x +\\cos^2 x)\\, dxdy\n",
        " $$\n",
        "\n",
        "\n",
        "- \n",
        "$$\n",
        " \\int_{-\\infty}^{\\infty} \\frac{1}{1+x^2} \\, dx\n",
        " $$\n",
        "\n",
        "\n",
        "- \n",
        "$$\n",
        " \\int_{e}^{2e} \\frac{1}{\\ln x} \\, dx\n",
        " $$\n",
        "\n",
        "\n",
        "garantizando  que el error sea menor a $\\varepsilon=1E-5$.  "
      ]
    },
    {
      "cell_type": "markdown",
      "metadata": {
        "id": "6hJGsmCkF6Wv"
      },
      "source": [
        "5. Suppose a body of mass m is traveling vertically upward starting at the surface of the earth. If all\n",
        "resistance except gravity is neglected, the escape velocity v is given by\n",
        "\n",
        "$$\n",
        "v^2=2gR\\int_1 ^\\infty z^{-2} dz,\n",
        "$$\n",
        "\n",
        "where z=x/R, R is the earth radius and g de gravity aceleration. Approximate the scape velocity"
      ]
    },
    {
      "cell_type": "markdown",
      "metadata": {
        "id": "dJVCeEtpX2sJ"
      },
      "source": [
        "\n",
        "6 Write a double precision program to integrate an arbitrary function numerically using the trapezoid rule, the Simpson rule, and Gaussian quadrature. For our assumed problems there is an analytics answer:\n",
        "\n",
        "\\begin{equation}\n",
        "\\frac{\\mathrm{d}N(t)}{\\mathrm{d}t}=e^{-t}\n",
        "\\end{equation}\n",
        "\n",
        "\\begin{equation}\n",
        "N(1)=\\int_0^{1}e^{-t} dt=1-e^{-1}\n",
        "\\end{equation}\n",
        "\n",
        "6.2. Compute the relative error $\\epsilon=|numerical-exact|/exact$ in each case. Present your data in the tabular form \n",
        "with space or tabas seprating the field. Try N values of 2, 10, 20 , 40 , 80, 160\n",
        "\n",
        "| N  |$\\epsilon_T$ | $\\epsilon_S$ | $\\epsilon_G$ |\n",
        "|----|---------------|--------------|--------------|\n",
        "|   2  |...|...|...|\n",
        "|   10  |...|...|...|\n",
        "\n",
        "6.3. Make a log-log plot of relative errore versus. You should observe that \n",
        "$\\epsilon\\approx CN^{\\alpha}$, $\\mathrm{log} \\epsilon =\\alpha \\mathrm{log}N + \\mathrm{constant}$. This mean that a power-law dependence appears as a straight line on a log-log plot, and that if you use $\\log_{10}$, the the ordinate on your log-log plot will be the negative of the number of decimal places of presicion in your calculation.\n",
        "6.4. Use your plot or table to stimate the power-law dependence of the error $\\epsilon$ on the number of points N and to determine the number of decimal places of presicion in your calculation. Do this for both the trapezoid and simpsons rules and for both the algolrithmic and round-off error regimes. (Note that if may be hard to reach the round-off error regime for the trapezoid rule becasue the aproximation ) error is so large"
      ]
    },
    {
      "cell_type": "markdown",
      "metadata": {
        "id": "hly3b-GsYi-a"
      },
      "source": [
        ""
      ]
    },
    {
      "cell_type": "markdown",
      "metadata": {
        "id": "nbrWJ9YQqOEq"
      },
      "source": [
        ""
      ]
    },
    {
      "cell_type": "markdown",
      "metadata": {
        "id": "_cSqYsFWtT3T"
      },
      "source": [
        "1/"
      ]
    },
    {
      "cell_type": "markdown",
      "metadata": {
        "id": "aFmxtCONtlHm"
      },
      "source": [
        "#Método del trapecio.\n",
        "\n",
        "> $$\n",
        "  \\int_{a}^{b} f(x)\\,dx \n",
        "  = \\sum_{i=0}^{N-1}  \\int_{i}^{x_{i+1}} f(x)\\,dx\n",
        "  =  \\frac{h}{2} \\sum_{i=0}^{N-1}(f(x_i)+f(x_{i+1})) \n",
        "    - \\frac{(b-a) h^2}{12}f''(\\xi),\n",
        "  $$\n",
        "\n",
        "donde $\\xi\\in [b,a]$, $h=a-b$\n",
        "\n",
        "Para encontrar el error, se debe de encontrar el maximo de $f''(\\xi)$, para ello empleemos la libreria sympy, para mostrar la derivada de la función dada.\n",
        "\n",
        "Después de encontrar el máximo de $f''(\\xi)$ se halla h:\n",
        "\n",
        "  $$\n",
        "  \\frac{(b-a)h^2}{12}f''(\\xi)<\\epsilon\n",
        "  $$\n",
        "\n",
        "  $$\n",
        "  h = \\sqrt{\\frac{12\\epsilon}{f''(\\xi)(b-a)}}\n",
        "  $$\n",
        "  \n",
        "  El método del trapecio se implementa usando la librería de scipy:\n",
        "  \n",
        "  from scipy import integrate\n",
        "\n",
        "  integrate.trapz( f(x), x, h ) #f(x) función a integrar.\n"
      ]
    },
    {
      "cell_type": "markdown",
      "metadata": {
        "id": "Ni6uKXA9rV_B"
      },
      "source": [
        ""
      ]
    },
    {
      "cell_type": "markdown",
      "metadata": {
        "id": "JWtJhI2ErUK1"
      },
      "source": [
        ""
      ]
    },
    {
      "cell_type": "markdown",
      "metadata": {
        "id": "dSduxGuTrN7U"
      },
      "source": [
        "# En general la regla de simpson es:\n",
        "\n",
        " \n",
        "$$\n",
        " \\int_a^b f(x)dx = \\frac{h}{3}\\left[f(a) + 2\\sum_{i=1}^{(n-1)}f(x_{2i}) + 4\\sum_{i=1}^{n}f(x_{2i-1}) + f(b)\\right]-\\frac{b − a}{180}h^4f^{(4)}(\\xi)\n",
        ",$$\n",
        " \n",
        " donde $\\xi ∈ (a,b).$\n"
      ]
    },
    {
      "cell_type": "markdown",
      "metadata": {
        "id": "l3-KwYakr2qY"
      },
      "source": [
        "## Para deducir el numero de intervalos tenemos que : \n",
        "$$\n",
        "\\frac{b − a}{180}h^4f^{(4)}(\\xi) = \\epsilon\n",
        "$$\n",
        "\n",
        "$$\n",
        "\\frac{b − a}{180}h^4 \\mathrm{Max} ||f^{(4)}(\\xi)||=\\epsilon\n",
        "$$\n",
        "\n",
        "con $$h = (b-a)/(2N)$$\n",
        "\n",
        "$$\n",
        "\\frac{(b − a)^5}{180(2N)^4} \\mathrm{Max} ||f^{(4)}(\\xi)||=\\epsilon\n",
        "$$\n",
        "\n",
        "$$\n",
        "N^4 = \\frac{(b − a)^5}{180(2)^4\\epsilon} \\mathrm{Max} ||f^{(4)}(\\xi)||\n",
        "$$"
      ]
    },
    {
      "cell_type": "markdown",
      "metadata": {
        "id": "_zq6l5e7qL3z"
      },
      "source": [
        "Se puede usar la librería de scipy para usar la regla de simpson con integrate.simps, o usando la función definida a continuación:\n",
        "\n"
      ]
    },
    {
      "cell_type": "code",
      "metadata": {
        "id": "X3Yyg-Hhhljo"
      },
      "source": [
        "def simpson(f, a, b, N):\n",
        "    \"\"\"\n",
        "    Aproxima la integral de $f$ en $[a,b]$ mediante la fórmula compuesta \n",
        "    de Simpson con N subintervalos\n",
        "    \"\"\"\n",
        "    n_nodos = 2*N+1 # (N+1 extremos de subintervalos) + (N puntos medios)\n",
        "    x = np.linspace(a, b, n_nodos)\n",
        "\n",
        "    x_impar = x[1: :2] # Nodos con coordenada impar (ptos medios)\n",
        "    x_par = x[2:n_nodos-1:2] # Nodos con coordenada par (salvo el primero y el último)\n",
        "\n",
        "    h = (b-a)/(2*N) # Distancia entre dos nodos de integración\n",
        "    cuad = h/3*(f(a) + 2*sum(f(x_par)) + 4*sum(f(x_impar)) + f(b)) # F. comp. de Simpson\n",
        "    return cuad  \n",
        "  \n",
        "#- La expresión `x`, o `x[:]`, representa todos los elementos de la lista x\n",
        "#- La expresión `x[M:N]`, o `x[M:]`, representa los elementos `x[M]`, `x[M+1]`,..., `x[N-1]`\n",
        "#- La expresión `x[M:N:k]`, o `x[M::k]`, representa los elementos `x[M]`, `x[M+k]`,..., `x[N-1]`\n",
        "#x = np.linspace(0, 1, 10)\n",
        "#x_impar = x[1:: 2]  \n",
        "#x_par = x[2: -1: 2]\n",
        "#print(x)\n",
        "#print(x_impar)\n",
        "#print(x_par)"
      ],
      "execution_count": null,
      "outputs": []
    },
    {
      "cell_type": "markdown",
      "metadata": {
        "id": "9iIJrIl63X-7"
      },
      "source": [
        "# Método de cuadratura.\n",
        "Para esto se usa la librería scipy, como:\n",
        "\n",
        "from scipy.integrate import quad\n",
        "\n",
        "quad_python = quad(f, a, b)"
      ]
    },
    {
      "cell_type": "markdown",
      "metadata": {
        "id": "zfWNgShh4DjL"
      },
      "source": [
        "Punto 1\n",
        "- \n",
        " $$\n",
        " \\int_0^1 e^{1-x^2}\\, dx\n",
        " $$\n"
      ]
    },
    {
      "cell_type": "code",
      "metadata": {
        "id": "xlCmSYJ-4PtX"
      },
      "source": [
        "fs1 = lambda x: sp.exp(1- x**2)#Definicion de la función \n",
        "x = sp.symbols(\"x\") #DEfinicion de x como simbolo.\n",
        "fs1(x)"
      ],
      "execution_count": null,
      "outputs": []
    },
    {
      "cell_type": "code",
      "metadata": {
        "id": "AVCLAssKOYpW"
      },
      "source": [
        "f11=sp.lambdify(x, fs1(x), 'numpy')"
      ],
      "execution_count": null,
      "outputs": []
    },
    {
      "cell_type": "code",
      "metadata": {
        "id": "4vkjO1cVObcG"
      },
      "source": [
        "fd1=sp.diff(fs1(x),x,2)\n",
        "\n",
        "f1= sp.lambdify(x, -fd1, 'numpy') #numpy funcion\n",
        "\n",
        "x_ = np.linspace(0, 1)\n",
        "print(f1(x_))\n",
        "\n",
        "plt.figure()\n",
        "plt.plot(x_, f1(x_))\n",
        "plt.xlabel(\"x\")\n",
        "plt.ylabel(\"f(x)\")\n",
        "plt.show()"
      ],
      "execution_count": null,
      "outputs": []
    },
    {
      "cell_type": "code",
      "metadata": {
        "id": "Ijt9KIzSOgFs"
      },
      "source": [
        "m=optimize.fmin_powell( f1, 1,  ftol=1E-7 ) #Se encuentra el máximo valor\n"
      ],
      "execution_count": null,
      "outputs": []
    },
    {
      "cell_type": "code",
      "metadata": {
        "id": "igM_xnelOyw5"
      },
      "source": [
        "k=abs(f1(m))\n",
        "\n",
        "k #Máximo"
      ],
      "execution_count": null,
      "outputs": []
    },
    {
      "cell_type": "code",
      "metadata": {
        "id": "bzHtYHInO3ea"
      },
      "source": [
        "e=1e-5\n",
        "b=1\n",
        "a=0\n",
        "h=np.sqrt((12*e)/k) #Se obtiene h usando el máximo\n",
        "h"
      ],
      "execution_count": null,
      "outputs": []
    },
    {
      "cell_type": "code",
      "metadata": {
        "id": "YPKTsprfO6HW"
      },
      "source": [
        "from scipy import integrate\n",
        "integrate.trapz( f11(x_), x_,h)"
      ],
      "execution_count": null,
      "outputs": []
    },
    {
      "cell_type": "markdown",
      "metadata": {
        "id": "bHFLeO8T5tfU"
      },
      "source": [
        "Punto 2"
      ]
    },
    {
      "cell_type": "markdown",
      "metadata": {
        "id": "LJayFQzk35eJ"
      },
      "source": [
        "$$\n",
        " \\int_{-\\infty}^{\\infty} \\frac{1}{1+x^2} \\, dx\n",
        " $$"
      ]
    },
    {
      "cell_type": "code",
      "metadata": {
        "id": "LMWrqMhl57JY"
      },
      "source": [
        "fs2 = lambda x: 1/(1 + x**2)    #Definicion de la función \n",
        "x = sp.symbols(\"x\")              #Definicion de x como simbolo.\n",
        "fs2(x)"
      ],
      "execution_count": null,
      "outputs": []
    },
    {
      "cell_type": "code",
      "metadata": {
        "id": "_DFaEto27bP_"
      },
      "source": [
        "x = sp.symbols(\"x\")\n",
        "fs2 = lambda x: 1/(1 + x**2) \n",
        "fs2(x)"
      ],
      "execution_count": null,
      "outputs": []
    },
    {
      "cell_type": "code",
      "metadata": {
        "id": "nfKWhWp9-S-a"
      },
      "source": [
        "f2 = sp.diff(fs2(x),x, 2) #Se realiza la segunda derivada de la función.\n",
        "f22_ = sp.lambdify(x, fs2(x), 'numpy') #Se convierte la función a numpy\n",
        "f2_ = sp.lambdify(x, -f2, 'numpy') #Se convierte la función derivada a numpy\n",
        "\n",
        "fn=f2_(x)"
      ],
      "execution_count": null,
      "outputs": []
    },
    {
      "cell_type": "code",
      "metadata": {
        "id": "rXjJF4zmG83Z"
      },
      "source": [
        "f2"
      ],
      "execution_count": null,
      "outputs": []
    },
    {
      "cell_type": "code",
      "metadata": {
        "id": "cmPNXWpWGEbH"
      },
      "source": [
        "f2_(x)"
      ],
      "execution_count": null,
      "outputs": []
    },
    {
      "cell_type": "code",
      "metadata": {
        "id": "ymHRX6mP_m8W"
      },
      "source": [
        "import matplotlib.pyplot as plt\n",
        "import numpy as np\n",
        "\n",
        "x = np.linspace(-3,3,100)\n",
        "#Se grafica para tener referencia de donde esta el máximo de la segunda derivada\n",
        "\n",
        "plt.plot(x,f2_(x))\n",
        "plt.xlabel('x')\n",
        "plt.ylabel('f2')\n",
        "plt.title('2da derivada')\n",
        "plt.grid()\n",
        "plt.show()"
      ],
      "execution_count": null,
      "outputs": []
    },
    {
      "cell_type": "code",
      "metadata": {
        "id": "HIIcFCXhMNMs"
      },
      "source": [
        "arr = np.array([ 0.052     ,  0.05563446,  0.05957394,  0.06384731,  0.0684863 ,\n",
        "        0.07352576,  0.0790039 ,  0.08496257,  0.09144753,  0.09850863,\n",
        "        0.10620004,  0.11458034,  0.12371257,  0.13366404,  0.14450597,\n",
        "        0.15631283,  0.16916118,  0.18312795,  0.19828792,  0.2147101 ,\n",
        "        0.23245266,  0.25155601,  0.27203338,  0.2938583 ,  0.31694798,\n",
        "        0.34114178,  0.36617337,  0.39163564,  0.41693701,  0.44124837,\n",
        "        0.46344057,  0.48201367,  0.49502167,  0.5       ,  0.49390863,\n",
        "        0.47311093,  0.43341752,  0.37023362,  0.27885571,  0.15496275,\n",
        "       -0.00466802, -0.20122924, -0.4328127 , -0.69337282, -0.972     ,\n",
        "       -1.25284843, -1.51603725, -1.73967506, -1.90284429, -1.98900597,\n",
        "       -1.98900597, -1.90284429, -1.73967506, -1.51603725, -1.25284843,\n",
        "       -0.972     , -0.69337282, -0.4328127 , -0.20122924, -0.00466802,\n",
        "        0.15496275,  0.27885571,  0.37023362,  0.43341752,  0.47311093,\n",
        "        0.49390863,  0.5       ,  0.49502167,  0.48201367,  0.46344057,\n",
        "        0.44124837,  0.41693701,  0.39163564,  0.36617337,  0.34114178,\n",
        "        0.31694798,  0.2938583 ,  0.27203338,  0.25155601,  0.23245266,\n",
        "        0.2147101 ,  0.19828792,  0.18312795,  0.16916118,  0.15631283,\n",
        "        0.14450597,  0.13366404,  0.12371257,  0.11458034,  0.10620004,\n",
        "        0.09850863,  0.09144753,  0.08496257,  0.0790039 ,  0.07352576,\n",
        "        0.0684863 ,  0.06384731,  0.05957394,  0.05563446,  0.052     ])"
      ],
      "execution_count": 163,
      "outputs": []
    },
    {
      "cell_type": "code",
      "metadata": {
        "id": "J89eWtOTJh_c"
      },
      "source": [
        "import numpy as np\n",
        "np.amax(arr)"
      ],
      "execution_count": null,
      "outputs": []
    },
    {
      "cell_type": "code",
      "metadata": {
        "id": "7fZTul5KQstu"
      },
      "source": [
        "from scipy import  optimize"
      ],
      "execution_count": null,
      "outputs": []
    },
    {
      "cell_type": "code",
      "metadata": {
        "id": "dXkcUCzYQK0U"
      },
      "source": [
        "f=optimize.fmin_powell( f2_, 1,  ftol=1E-7 ) #Se obtiene el máximo a partir de optimize"
      ],
      "execution_count": null,
      "outputs": []
    },
    {
      "cell_type": "code",
      "metadata": {
        "id": "FdSzwTIiTId8"
      },
      "source": [
        "from sympy import oo\n"
      ],
      "execution_count": null,
      "outputs": []
    },
    {
      "cell_type": "code",
      "metadata": {
        "id": "YsugPgMkR-v5"
      },
      "source": [
        "e=1e-5\n",
        "b1=0\n",
        "a1=-oo\n",
        "h1=np.sqrt((12*e)/0.5) #Se calcula h usando los valores dados, y el máximo."
      ],
      "execution_count": null,
      "outputs": []
    },
    {
      "cell_type": "code",
      "metadata": {
        "id": "hi54FPdDURtE"
      },
      "source": [
        "x_ = np.linspace(-100,0,10**3) #Se usa el método del trapecio explicado anteriormente para obtener el valor de la integral\n",
        "from scipy import integrate\n",
        "#Valor de la integrla de -oo a 0\n",
        "sum1 = integrate.trapz( f22_(x_),x_,h1)\n",
        "sum1"
      ],
      "execution_count": null,
      "outputs": []
    },
    {
      "cell_type": "code",
      "metadata": {
        "id": "j0i6iNZUWFxH"
      },
      "source": [
        "e=1e-5\n",
        "b2=oo\n",
        "a2=0\n",
        "h2=np.sqrt((12*e)/0.5) #Se calcula h usando los valores dados, y el máximo."
      ],
      "execution_count": null,
      "outputs": []
    },
    {
      "cell_type": "code",
      "metadata": {
        "id": "EveNOVTDWIOB"
      },
      "source": [
        "x_ = np.linspace(0,100,100000000)\n",
        "from scipy import integrate\n",
        "#Valor de la integral de 0 a oo\n",
        "sum2 = integrate.trapz( f22_(x_),x_,h2)\n",
        "sum2"
      ],
      "execution_count": null,
      "outputs": []
    },
    {
      "cell_type": "code",
      "metadata": {
        "id": "EVh-zoqBWlMu"
      },
      "source": [
        "sumT = sum1 + sum2\n",
        "sumT #Suma de los valores encontrados al partir la integral."
      ],
      "execution_count": null,
      "outputs": []
    },
    {
      "cell_type": "markdown",
      "metadata": {
        "id": "-gdKZcZYfdu_"
      },
      "source": [
        "Punto 3"
      ]
    },
    {
      "cell_type": "markdown",
      "metadata": {
        "id": "uxNYZVRuVkog"
      },
      "source": [
        "- \n",
        "\n",
        "$$\n",
        " \\int_{0}^{\\pi/4} \\int_{\\sin x}^{\\cos x} (2y\\sin x +\\cos^2 x)\\, dxdy\n",
        " $$\n"
      ]
    },
    {
      "cell_type": "code",
      "metadata": {
        "id": "rHLz_GkfgBq7"
      },
      "source": [
        "from sympy import *"
      ],
      "execution_count": null,
      "outputs": []
    },
    {
      "cell_type": "code",
      "metadata": {
        "id": "6NxfX-NaVvJX"
      },
      "source": [
        "fs2= lambda y: 2*y*sp.sin(x)+sp.cos(x)**2    #Definicion de la función \n",
        "x = sp.symbols(\"x\")\n",
        "y = sp.symbols(\"y\")              #Definicion de x como simbolo.\n",
        "fs2(y)"
      ],
      "execution_count": null,
      "outputs": []
    },
    {
      "cell_type": "code",
      "metadata": {
        "id": "esOGhNUvnmKs"
      },
      "source": [
        "integrate(fs2(y),y)"
      ],
      "execution_count": null,
      "outputs": []
    },
    {
      "cell_type": "code",
      "metadata": {
        "id": "-ty3y-Sghy3Z"
      },
      "source": [
        "a=integrate(fs2(y),(y,sp.sin(x),sp.cos(x)))\n",
        "a"
      ],
      "execution_count": null,
      "outputs": []
    },
    {
      "cell_type": "code",
      "metadata": {
        "id": "tVx20hV5pRuC"
      },
      "source": [
        "b=sp.diff(a,x,4)\n",
        "ffn=sp.lambdify(x, a, 'numpy')\n",
        "fx = sp.lambdify(x, -b, 'numpy')\n",
        "x_ = np.linspace(0, np.pi/4)\n",
        "print(fx(x_))\n",
        "\n",
        "plt.figure()\n",
        "plt.plot(x_, fx(x_))\n",
        "plt.show() "
      ],
      "execution_count": null,
      "outputs": []
    },
    {
      "cell_type": "code",
      "metadata": {
        "colab": {
          "base_uri": "https://localhost:8080/"
        },
        "id": "b9q8KIK2sNo9",
        "outputId": "ba579fc1-7540-49ef-f4eb-daaed4c70642"
      },
      "source": [
        "m=optimize.fmin_powell( fx, 0.3,  ftol=1E-7 )\n"
      ],
      "execution_count": 122,
      "outputs": [
        {
          "metadata": {
            "tags": null
          },
          "name": "stdout",
          "output_type": "stream",
          "text": [
            "Optimization terminated successfully.\n",
            "         Current function value: -29.169788\n",
            "         Iterations: 2\n",
            "         Function evaluations: 46\n"
          ]
        }
      ]
    },
    {
      "cell_type": "code",
      "metadata": {
        "colab": {
          "base_uri": "https://localhost:8080/",
          "height": 37
        },
        "id": "SvjHdh49tDQe",
        "outputId": "80be8679-2017-42e2-f85c-06738e18fb2d"
      },
      "source": [
        "M2=abs(fx(m))\n",
        "M2"
      ],
      "execution_count": 123,
      "outputs": [
        {
          "data": {
            "image/png": "[encoded data removed]",
            "text/latex": "$\\displaystyle 29.1697881927496$",
            "text/plain": [
              "29.169788192749646"
            ]
          },
          "execution_count": null,
          "metadata": {},
          "output_type": "execute_result"
        }
      ]
    },
    {
      "cell_type": "code",
      "metadata": {
        "id": "Cp1ZTt-6rYpc"
      },
      "source": [
        "e=1e-5\n",
        "a=0\n",
        "b=np.pi/4\n",
        "def n(a, b, M):\n",
        "  return ((b-a)**5*M/(e*180*2**4))**(1./4)\n",
        "\n",
        "N=n(a,b,M2)"
      ],
      "execution_count": 124,
      "outputs": []
    },
    {
      "cell_type": "code",
      "metadata": {
        "colab": {
          "base_uri": "https://localhost:8080/",
          "height": 37
        },
        "id": "Q1486svIwHC8",
        "outputId": "bbcd2fb8-b96c-4283-d1fa-ead46102ef19"
      },
      "source": [
        "from scipy import integrate\n",
        "integrate.simps(ffn(x_),x_,N)"
      ],
      "execution_count": 125,
      "outputs": [
        {
          "data": {
            "image/png": "[encoded data removed]",
            "text/latex": "$\\displaystyle 0.511844103899355$",
            "text/plain": [
              "0.5118441038993553"
            ]
          },
          "execution_count": null,
          "metadata": {},
          "output_type": "execute_result"
        }
      ]
    },
    {
      "cell_type": "markdown",
      "metadata": {
        "id": "503zeLViey20"
      },
      "source": [
        "El valor numerico aproximado de la doble integral es:\n",
        "\n",
        "$$\n",
        " \\int_{0}^{\\pi/4} \\int_{\\sin x}^{\\cos x} (2y\\sin x +\\cos^2 x)\\, dxdy = 0.511844103899355\n",
        " $$"
      ]
    },
    {
      "cell_type": "markdown",
      "metadata": {
        "id": "QIJaoPqpghnV"
      },
      "source": [
        "# Punto 4:\n",
        "$$\n",
        " \\int_{-\\infty}^{\\infty} \\frac{1}{1+x^2} \\, dx\n",
        " $$"
      ]
    },
    {
      "cell_type": "code",
      "metadata": {
        "colab": {
          "base_uri": "https://localhost:8080/",
          "height": 52
        },
        "id": "n2-_jNQ2gftq",
        "outputId": "a0733d1d-bb82-457b-fb0f-8fc2a4160da1"
      },
      "source": [
        "fs2 = lambda x: 1/(1 + x**2)    #Definicion de la función \n",
        "x = sp.symbols(\"x\")              #Definicion de x como simbolo.\n",
        "fs2(x)"
      ],
      "execution_count": 164,
      "outputs": [
        {
          "output_type": "execute_result",
          "data": {
            "image/png": "[encoded data removed]",
            "text/latex": "$\\displaystyle \\frac{1}{x^{2} + 1}$",
            "text/plain": [
              "  1   \n",
              "──────\n",
              " 2    \n",
              "x  + 1"
            ]
          },
          "metadata": {},
          "execution_count": 164
        }
      ]
    },
    {
      "cell_type": "code",
      "metadata": {
        "colab": {
          "base_uri": "https://localhost:8080/",
          "height": 52
        },
        "id": "lRRA-ZjDgfqA",
        "outputId": "d98dafa3-81e4-48ad-e27b-f2bab2fe0cb7"
      },
      "source": [
        "x = sp.symbols(\"x\")\n",
        "fs2 = lambda x: 1/(1 + x**2) \n",
        "fs2(x)"
      ],
      "execution_count": 167,
      "outputs": [
        {
          "output_type": "execute_result",
          "data": {
            "image/png": "[encoded data removed]",
            "text/latex": "$\\displaystyle \\frac{1}{x^{2} + 1}$",
            "text/plain": [
              "  1   \n",
              "──────\n",
              " 2    \n",
              "x  + 1"
            ]
          },
          "metadata": {},
          "execution_count": 167
        }
      ]
    },
    {
      "cell_type": "code",
      "metadata": {
        "id": "aVjLWQBMgfl6"
      },
      "source": [
        "f2 = sp.diff(fs2(x),x, 2) #Se realiza la segunda derivada de la función.\n",
        "f22_ = sp.lambdify(x, fs2(x), 'numpy') #Se convierte la función a numpy\n",
        "f2_ = sp.lambdify(x, -f2, 'numpy') #Se convierte la función derivada a numpy\n",
        "\n",
        "fn=f2_(x)"
      ],
      "execution_count": 168,
      "outputs": []
    },
    {
      "cell_type": "code",
      "metadata": {
        "colab": {
          "base_uri": "https://localhost:8080/",
          "height": 295
        },
        "id": "g_UUQUTbgfii",
        "outputId": "3fdf0ae4-81f1-475b-a620-c0140695abdf"
      },
      "source": [
        "import matplotlib.pyplot as plt\n",
        "import numpy as np\n",
        "\n",
        "x = np.linspace(-3,3,100)\n",
        "#Se grafica para tener referencia de donde esta el máximo de la segunda derivada\n",
        "\n",
        "plt.plot(x,f2_(x))\n",
        "plt.xlabel('x')\n",
        "plt.ylabel('f2')\n",
        "plt.title('2da derivada')\n",
        "plt.grid()\n",
        "plt.show()"
      ],
      "execution_count": 169,
      "outputs": [
        {
          "output_type": "display_data",
          "data": {
            "image/png": "[encoded data removed]",
            "text/plain": [
              "<Figure size 432x288 with 1 Axes>"
            ]
          },
          "metadata": {
            "needs_background": "light"
          }
        }
      ]
    },
    {
      "cell_type": "code",
      "metadata": {
        "colab": {
          "base_uri": "https://localhost:8080/"
        },
        "id": "1m71q_EJgfdl",
        "outputId": "fb29a270-5f6c-4dc9-ceaf-735aa3c455d2"
      },
      "source": [
        "s1 = integrate.quadrature(f22_,0,550)"
      ],
      "execution_count": 217,
      "outputs": [
        {
          "output_type": "stream",
          "name": "stderr",
          "text": [
            "/usr/local/lib/python3.7/dist-packages/scipy/integrate/quadrature.py:251: AccuracyWarning: maxiter (50) exceeded. Latest difference = 2.190112e-03\n",
            "  AccuracyWarning)\n"
          ]
        }
      ]
    },
    {
      "cell_type": "code",
      "metadata": {
        "colab": {
          "base_uri": "https://localhost:8080/"
        },
        "id": "nfF0gwqVgfY5",
        "outputId": "df6c4008-98a6-4efa-c69f-b4cd9527cb70"
      },
      "source": [
        "s2 = integrate.quadrature(f22_,-550,0)"
      ],
      "execution_count": 218,
      "outputs": [
        {
          "output_type": "stream",
          "name": "stderr",
          "text": [
            "/usr/local/lib/python3.7/dist-packages/scipy/integrate/quadrature.py:251: AccuracyWarning: maxiter (50) exceeded. Latest difference = 2.190112e-03\n",
            "  AccuracyWarning)\n"
          ]
        }
      ]
    },
    {
      "cell_type": "code",
      "metadata": {
        "id": "GkFWoe_sgfTa"
      },
      "source": [
        "s = s1[0] + s2[0]"
      ],
      "execution_count": 219,
      "outputs": []
    },
    {
      "cell_type": "code",
      "metadata": {
        "colab": {
          "base_uri": "https://localhost:8080/",
          "height": 37
        },
        "id": "-IOET7dmgfLy",
        "outputId": "48a92c7e-d477-4d5d-ab83-3b71eb547618"
      },
      "source": [
        ""
      ],
      "execution_count": 220,
      "outputs": [
        {
          "output_type": "execute_result",
          "data": {
            "image/png": "[encoded data removed]",
            "text/latex": "$\\displaystyle 3.14429395300917$",
            "text/plain": [
              "3.1442939530091687"
            ]
          },
          "metadata": {},
          "execution_count": 220
        }
      ]
    },
    {
      "cell_type": "markdown",
      "metadata": {
        "id": "KJfs2MMNjtN_"
      },
      "source": [
        "El valor de la integral con el método de cuadratura es: 3.14429395300917"
      ]
    },
    {
      "cell_type": "markdown",
      "metadata": {
        "id": "RYQA23Eeka2l"
      },
      "source": [
        "# Punto 5\n",
        "$$\n",
        " \\int_{e}^{2e} \\frac{1}{\\ln x} \\, dx\n",
        " $$\n"
      ]
    },
    {
      "cell_type": "code",
      "metadata": {
        "colab": {
          "base_uri": "https://localhost:8080/",
          "height": 55
        },
        "id": "11kDvy1zcjjZ",
        "outputId": "8d10fcc4-ceaf-4e03-d95f-2f666c402c30"
      },
      "source": [
        "fs4 = lambda x: 1/sp.ln(x)\n",
        "x = sp.symbols(\"x\")              \n",
        "fs4(x)"
      ],
      "execution_count": 127,
      "outputs": [
        {
          "data": {
            "image/png": "[encoded data removed]",
            "text/latex": "$\\displaystyle \\frac{1}{\\log{\\left(x \\right)}}$",
            "text/plain": [
              "  1   \n",
              "──────\n",
              "log(x)"
            ]
          },
          "execution_count": null,
          "metadata": {},
          "output_type": "execute_result"
        }
      ]
    },
    {
      "cell_type": "code",
      "metadata": {
        "id": "gD8brdzAcjja"
      },
      "source": [
        "f4 = sp.diff(fs4(x),x, 4)\n",
        "f44_ = sp.lambdify(x, fs4(x), 'numpy')\n",
        "f4_ = sp.lambdify(x, -f4, 'numpy')"
      ],
      "execution_count": 128,
      "outputs": []
    },
    {
      "cell_type": "code",
      "metadata": {
        "colab": {
          "base_uri": "https://localhost:8080/",
          "height": 73
        },
        "id": "M86J-aiFcjja",
        "outputId": "c361be2b-c88f-419b-871f-8a23ba5b3462"
      },
      "source": [
        "f4 # 4ta derivada de fs4"
      ],
      "execution_count": 129,
      "outputs": [
        {
          "data": {
            "image/png": "[encoded data removed]",
            "text/latex": "$\\displaystyle \\frac{2 \\left(3 + \\frac{11}{\\log{\\left(x \\right)}} + \\frac{18}{\\log{\\left(x \\right)}^{2}} + \\frac{12}{\\log{\\left(x \\right)}^{3}}\\right)}{x^{4} \\log{\\left(x \\right)}^{2}}$",
            "text/plain": [
              "  ⎛      11        18        12  ⎞\n",
              "2⋅⎜3 + ────── + ─────── + ───────⎟\n",
              "  ⎜    log(x)      2         3   ⎟\n",
              "  ⎝             log (x)   log (x)⎠\n",
              "──────────────────────────────────\n",
              "             4    2               \n",
              "            x ⋅log (x)            "
            ]
          },
          "execution_count": null,
          "metadata": {},
          "output_type": "execute_result"
        }
      ]
    },
    {
      "cell_type": "code",
      "metadata": {
        "colab": {
          "base_uri": "https://localhost:8080/",
          "height": 295
        },
        "id": "MBtRCpLOcjja",
        "outputId": "1f80e45e-a7a6-4103-9297-b170594574f3"
      },
      "source": [
        "import matplotlib.pyplot as plt\n",
        "import numpy as np\n",
        "from scipy import  optimize\n",
        "\n",
        "x = np.linspace(np.exp(1),2*np.exp(1),50)\n",
        "\n",
        "\n",
        "plt.plot(x,f4_(x))\n",
        "plt.xlabel('x')\n",
        "plt.ylabel('f2')\n",
        "plt.title('4ta derivada lnx')\n",
        "plt.grid()\n",
        "plt.show()"
      ],
      "execution_count": 161,
      "outputs": [
        {
          "output_type": "display_data",
          "data": {
            "image/png": "[encoded data removed]",
            "text/plain": [
              "<Figure size 432x288 with 1 Axes>"
            ]
          },
          "metadata": {
            "needs_background": "light"
          }
        }
      ]
    },
    {
      "cell_type": "code",
      "metadata": {
        "colab": {
          "base_uri": "https://localhost:8080/"
        },
        "id": "URoRqptMcjjb",
        "outputId": "1edfd14a-2b11-4a87-a598-112bae83674c"
      },
      "source": [
        "f=optimize.fmin_powell( f4_, 2,  ftol=1E-7 )"
      ],
      "execution_count": 131,
      "outputs": [
        {
          "metadata": {
            "tags": null
          },
          "name": "stdout",
          "output_type": "stream",
          "text": [
            "Optimization terminated successfully.\n",
            "         Current function value: -inf\n",
            "         Iterations: 4\n",
            "         Function evaluations: 172\n"
          ]
        },
        {
          "metadata": {
            "tags": null
          },
          "name": "stderr",
          "output_type": "stream",
          "text": [
            "<string>:2: RuntimeWarning: divide by zero encountered in true_divide\n",
            "/usr/local/lib/python3.7/dist-packages/scipy/optimize/optimize.py:1986: RuntimeWarning: invalid value encountered in subtract\n",
            "  p = (x - v) * tmp2 - (x - w) * tmp1\n",
            "/usr/local/lib/python3.7/dist-packages/scipy/optimize/optimize.py:1987: RuntimeWarning: invalid value encountered in subtract\n",
            "  tmp2 = 2.0 * (tmp2 - tmp1)\n",
            "/usr/local/lib/python3.7/dist-packages/scipy/optimize/optimize.py:1985: RuntimeWarning: invalid value encountered in subtract\n",
            "  tmp2 = (x - v) * (fx - fw)\n",
            "/usr/local/lib/python3.7/dist-packages/scipy/optimize/optimize.py:1984: RuntimeWarning: invalid value encountered in subtract\n",
            "  tmp1 = (x - w) * (fx - fv)\n"
          ]
        }
      ]
    },
    {
      "cell_type": "code",
      "metadata": {
        "colab": {
          "base_uri": "https://localhost:8080/"
        },
        "id": "RsD3USGGcjjb",
        "outputId": "2d25f725-0f26-4945-98ba-263b2900f820"
      },
      "source": [
        "a1=-f4_(f)"
      ],
      "execution_count": 132,
      "outputs": [
        {
          "metadata": {
            "tags": null
          },
          "name": "stderr",
          "output_type": "stream",
          "text": [
            "<string>:2: RuntimeWarning: divide by zero encountered in double_scalars\n"
          ]
        }
      ]
    },
    {
      "cell_type": "code",
      "metadata": {
        "colab": {
          "base_uri": "https://localhost:8080/",
          "height": 37
        },
        "id": "jZ_3ooeWcjjb",
        "outputId": "0a0b1f8e-fdde-4b3c-caae-9f4f88cbe0a1"
      },
      "source": [
        "e=1e-5\n",
        "a = np.exp(1)\n",
        "b=  2*np.exp(1)\n",
        "def N(a, b, M):\n",
        "  return ((b - a)**5*M/(e*180*2**4))**(1./4)\n",
        "\n",
        "N(a,b,a1)"
      ],
      "execution_count": 133,
      "outputs": [
        {
          "data": {
            "image/png": "[encoded data removed]",
            "text/latex": "$\\displaystyle \\infty$",
            "text/plain": [
              "inf"
            ]
          },
          "execution_count": null,
          "metadata": {},
          "output_type": "execute_result"
        }
      ]
    },
    {
      "cell_type": "code",
      "metadata": {
        "colab": {
          "base_uri": "https://localhost:8080/",
          "height": 37
        },
        "id": "fXVrNoaucjjc",
        "outputId": "4116ef03-b23e-4bab-ba1c-b68d57f8bfac"
      },
      "source": [
        "n = N(a,b,a1)\n",
        "from scipy import integrate\n",
        "integrate.simps(f44_(x),x,n)"
      ],
      "execution_count": 162,
      "outputs": [
        {
          "output_type": "execute_result",
          "data": {
            "image/png": "[encoded data removed]",
            "text/latex": "$\\displaystyle 2.00381353729943$",
            "text/plain": [
              "2.0038135372994286"
            ]
          },
          "metadata": {},
          "execution_count": 162
        }
      ]
    },
    {
      "cell_type": "markdown",
      "metadata": {
        "id": "NtwAXwgWeEVl"
      },
      "source": [
        "El valor de la integral $$\n",
        " \\int_{e}^{2e} \\frac{1}{\\ln x}  \\, dx = 2.00381353729943\n",
        " $$\n"
      ]
    },
    {
      "cell_type": "markdown",
      "metadata": {
        "id": "3_0y15dT0W-R"
      },
      "source": [
        "5. Suppose a body of mass m is traveling vertically upward starting at the surface of the earth. If all\n",
        "resistance except gravity is neglected, the escape velocity v is given by\n",
        "\n",
        "$$\n",
        "v^2=2gR\\int_1 ^\\infty z^{-2} dz,\n",
        "$$\n",
        "\n",
        "where z=x/R, R is the earth radius and g de gravity aceleration. Approximate the scape velocity"
      ]
    },
    {
      "cell_type": "code",
      "metadata": {
        "colab": {
          "base_uri": "https://localhost:8080/",
          "height": 51
        },
        "id": "Tr_ee_7QIWiD",
        "outputId": "c7980099-41d8-43d2-e41e-a717370cb1cf"
      },
      "source": [
        "f=lambda z:z**-2\n",
        "z=sp.symbols(\"z\") #Definición de la función a integrar\n",
        "f(z)"
      ],
      "execution_count": 135,
      "outputs": [
        {
          "data": {
            "image/png": "[encoded data removed]",
            "text/latex": "$\\displaystyle \\frac{1}{z^{2}}$",
            "text/plain": [
              "1 \n",
              "──\n",
              " 2\n",
              "z "
            ]
          },
          "execution_count": null,
          "metadata": {},
          "output_type": "execute_result"
        }
      ]
    },
    {
      "cell_type": "code",
      "metadata": {
        "id": "tz5EPSprJPDU"
      },
      "source": [
        "f_=sp.lambdify(z,f(z))\n"
      ],
      "execution_count": 136,
      "outputs": []
    },
    {
      "cell_type": "code",
      "metadata": {
        "colab": {
          "base_uri": "https://localhost:8080/"
        },
        "id": "h6wReDlFHH6f",
        "outputId": "51a33360-5647-4617-bece-5d84a6a43490"
      },
      "source": [
        "z=np.linspace(1,1000,10000) #Se aproxima el límte a infinito\n",
        "ine=integrate.simps(f_(z),z) #Se usa el método de simpson para encontrar el valor de la integral\n",
        "v=np.sqrt(2*9.8*6371e3*ine) #Valor de la velocidad positiva\n",
        "print('La velocidad de escape aproximada es: %f m/s' %v)"
      ],
      "execution_count": 137,
      "outputs": [
        {
          "metadata": {
            "tags": null
          },
          "name": "stdout",
          "output_type": "stream",
          "text": [
            "La velocidad de escape aproximada es: 11170.217777 m/s\n"
          ]
        }
      ]
    },
    {
      "cell_type": "markdown",
      "metadata": {
        "id": "w6o_4sBkIQAb"
      },
      "source": [
        "\n",
        "6 Write a double precision program to integrate an arbitrary function numerically using the trapezoid rule, the Simpson rule, and Gaussian quadrature. For our assumed problems there is an analytics answer:\n",
        "\n",
        "\\begin{equation}\n",
        "\\frac{\\mathrm{d}N(t)}{\\mathrm{d}t}=e^{-t}\n",
        "\\end{equation}\n",
        "\n",
        "\\begin{equation}\n",
        "N(1)=\\int_0^{1}e^{-t} dt=1-e^{-1}\n",
        "\\end{equation}\n",
        "\n",
        "6.2. Compute the relative error $\\epsilon=|numerical-exact|/exact$ in each case. Present your data in the tabular form \n",
        "with space or tabas seprating the field. Try N values of 2, 10, 20 , 40 , 80, 160\n",
        "\n",
        "| N  |$\\epsilon_T$ | $\\epsilon_S$ | $\\epsilon_G$ |\n",
        "|----|---------------|--------------|--------------|\n",
        "|   2  |...|...|...|\n",
        "|   10  |...|...|...|\n",
        "\n",
        "6.3. Make a log-log plot of relative errore versus. You should observe that \n",
        "$\\epsilon\\approx CN^{\\alpha}$, $\\mathrm{log} \\epsilon =\\alpha \\mathrm{log}N + \\mathrm{constant}$. This mean that a power-law dependence appears as a straight line on a log-log plot, and that if you use $\\log_{10}$, the the ordinate on your log-log plot will be the negative of the number of decimal places of presicion in your calculation.\n",
        "6.4. Use your plot or table to stimate the power-law dependence of the error $\\epsilon$ on the number of points N and to determine the number of decimal places of presicion in your calculation. Do this for both the trapezoid and simpsons rules and for both the algolrithmic and round-off error regimes. (Note that if may be hard to reach the round-off error regime for the trapezoid rule becasue the aproximation ) error is so large"
      ]
    },
    {
      "cell_type": "code",
      "metadata": {
        "id": "gKrX8BVwF75L"
      },
      "source": [
        "from scipy import integrate\n"
      ],
      "execution_count": 138,
      "outputs": []
    },
    {
      "cell_type": "code",
      "metadata": {
        "colab": {
          "base_uri": "https://localhost:8080/",
          "height": 38
        },
        "id": "xW0T6WTvITr5",
        "outputId": "d649fe02-9274-4892-ac0c-40dd80d66015"
      },
      "source": [
        "ft=lambda t: sp.exp(-t)\n",
        "t=sp.symbols(\"t\") #Se define la función para integrar con los diferentes métodos.\n",
        "ft(t)"
      ],
      "execution_count": 139,
      "outputs": [
        {
          "data": {
            "image/png": "[encoded data removed]",
            "text/latex": "$\\displaystyle e^{- t}$",
            "text/plain": [
              " -t\n",
              "ℯ  "
            ]
          },
          "execution_count": null,
          "metadata": {},
          "output_type": "execute_result"
        }
      ]
    },
    {
      "cell_type": "code",
      "metadata": {
        "id": "MAHanoHUM4q9"
      },
      "source": [
        "\n",
        "fl=sp.lambdify(t,ft(t), 'numpy')\n",
        "t=np.linspace(0,10) #Gráfico de la función\n"
      ],
      "execution_count": 140,
      "outputs": []
    },
    {
      "cell_type": "code",
      "metadata": {
        "colab": {
          "base_uri": "https://localhost:8080/",
          "height": 265
        },
        "id": "NYzUkf6KOXvE",
        "outputId": "95e7e768-05cf-417c-fed1-b6fd6ff9dd93"
      },
      "source": [
        "plt.plot(t,fl(t))\n",
        "plt.grid()\n",
        "plt.show()"
      ],
      "execution_count": 159,
      "outputs": [
        {
          "output_type": "display_data",
          "data": {
            "image/png": "[encoded data removed]",
            "text/plain": [
              "<Figure size 432x288 with 1 Axes>"
            ]
          },
          "metadata": {
            "needs_background": "light"
          }
        }
      ]
    },
    {
      "cell_type": "code",
      "metadata": {
        "id": "kNbJHtpNP4EQ"
      },
      "source": [
        "df=pd.DataFrame({'N':[2,10,20,40,80,160]}) #N dados"
      ],
      "execution_count": 142,
      "outputs": []
    },
    {
      "cell_type": "code",
      "metadata": {
        "colab": {
          "base_uri": "https://localhost:8080/",
          "height": 235
        },
        "id": "BcW5KdhLlZjC",
        "outputId": "84adecdc-9d39-4016-d671-548c47a2b004"
      },
      "source": [
        "df"
      ],
      "execution_count": 143,
      "outputs": [
        {
          "data": {
            "text/html": [
              "<div>\n",
              "<style scoped>\n",
              "    .dataframe tbody tr th:only-of-type {\n",
              "        vertical-align: middle;\n",
              "    }\n",
              "\n",
              "    .dataframe tbody tr th {\n",
              "        vertical-align: top;\n",
              "    }\n",
              "\n",
              "    .dataframe thead th {\n",
              "        text-align: right;\n",
              "    }\n",
              "</style>\n",
              "<table border=\"1\" class=\"dataframe\">\n",
              "  <thead>\n",
              "    <tr style=\"text-align: right;\">\n",
              "      <th></th>\n",
              "      <th>N</th>\n",
              "    </tr>\n",
              "  </thead>\n",
              "  <tbody>\n",
              "    <tr>\n",
              "      <th>0</th>\n",
              "      <td>2</td>\n",
              "    </tr>\n",
              "    <tr>\n",
              "      <th>1</th>\n",
              "      <td>10</td>\n",
              "    </tr>\n",
              "    <tr>\n",
              "      <th>2</th>\n",
              "      <td>20</td>\n",
              "    </tr>\n",
              "    <tr>\n",
              "      <th>3</th>\n",
              "      <td>40</td>\n",
              "    </tr>\n",
              "    <tr>\n",
              "      <th>4</th>\n",
              "      <td>80</td>\n",
              "    </tr>\n",
              "    <tr>\n",
              "      <th>5</th>\n",
              "      <td>160</td>\n",
              "    </tr>\n",
              "  </tbody>\n",
              "</table>\n",
              "</div>"
            ],
            "text/plain": [
              "     N\n",
              "0    2\n",
              "1   10\n",
              "2   20\n",
              "3   40\n",
              "4   80\n",
              "5  160"
            ]
          },
          "execution_count": null,
          "metadata": {},
          "output_type": "execute_result"
        }
      ]
    },
    {
      "cell_type": "code",
      "metadata": {
        "colab": {
          "base_uri": "https://localhost:8080/"
        },
        "id": "dXu9DwpfhpRG",
        "outputId": "a0fa7deb-4afb-4563-b5e5-29d15c9e158b"
      },
      "source": [
        "f=lambda N:1-np.exp(-N)\n",
        "a=f(df.N) #Valores exactos para la función al variar N.\n",
        "a"
      ],
      "execution_count": 144,
      "outputs": [
        {
          "data": {
            "text/plain": [
              "0    0.864665\n",
              "1    0.999955\n",
              "2    1.000000\n",
              "3    1.000000\n",
              "4    1.000000\n",
              "5    1.000000\n",
              "Name: N, dtype: float64"
            ]
          },
          "execution_count": null,
          "metadata": {},
          "output_type": "execute_result"
        }
      ]
    },
    {
      "cell_type": "code",
      "metadata": {
        "id": "sQzJtFXtq2GQ"
      },
      "source": [
        "t1=np.linspace(0,df.N[0],300) #Intervalos diferentes según N para ingresar en loS diferentes métodos de integración\n",
        "t2=np.linspace(0,df.N[1],300)\n",
        "t3=np.linspace(0,df.N[2],300)\n",
        "t4=np.linspace(0,df.N[3],300)\n",
        "t5=np.linspace(0,df.N[4],300)\n",
        "t6=np.linspace(0,df.N[5],300)"
      ],
      "execution_count": 145,
      "outputs": []
    },
    {
      "cell_type": "code",
      "metadata": {
        "id": "16g8JQAcvU5K"
      },
      "source": [
        "def f(t): #Definición para usar el método del trapecio para distintos N.\n",
        "  I=integrate.trapz(fl(t),t)\n",
        "  return I"
      ],
      "execution_count": 146,
      "outputs": []
    },
    {
      "cell_type": "code",
      "metadata": {
        "colab": {
          "base_uri": "https://localhost:8080/",
          "height": 235
        },
        "id": "1smVOqnLw591",
        "outputId": "37a58b1f-ae9e-41f3-f743-217166786be0"
      },
      "source": [
        "df2=pd.DataFrame({'Númerico':[f(t1),f(t2),f(t3),f(t4),f(t5),f(t6)],'Exacto': a})\n",
        "df2 #Dataframe para valor númerico y exacto encontrado con distintos N."
      ],
      "execution_count": 147,
      "outputs": [
        {
          "data": {
            "text/html": [
              "<div>\n",
              "<style scoped>\n",
              "    .dataframe tbody tr th:only-of-type {\n",
              "        vertical-align: middle;\n",
              "    }\n",
              "\n",
              "    .dataframe tbody tr th {\n",
              "        vertical-align: top;\n",
              "    }\n",
              "\n",
              "    .dataframe thead th {\n",
              "        text-align: right;\n",
              "    }\n",
              "</style>\n",
              "<table border=\"1\" class=\"dataframe\">\n",
              "  <thead>\n",
              "    <tr style=\"text-align: right;\">\n",
              "      <th></th>\n",
              "      <th>Númerico</th>\n",
              "      <th>Exacto</th>\n",
              "    </tr>\n",
              "  </thead>\n",
              "  <tbody>\n",
              "    <tr>\n",
              "      <th>0</th>\n",
              "      <td>0.864668</td>\n",
              "      <td>0.864665</td>\n",
              "    </tr>\n",
              "    <tr>\n",
              "      <th>1</th>\n",
              "      <td>1.000048</td>\n",
              "      <td>0.999955</td>\n",
              "    </tr>\n",
              "    <tr>\n",
              "      <th>2</th>\n",
              "      <td>1.000373</td>\n",
              "      <td>1.000000</td>\n",
              "    </tr>\n",
              "    <tr>\n",
              "      <th>3</th>\n",
              "      <td>1.001491</td>\n",
              "      <td>1.000000</td>\n",
              "    </tr>\n",
              "    <tr>\n",
              "      <th>4</th>\n",
              "      <td>1.005959</td>\n",
              "      <td>1.000000</td>\n",
              "    </tr>\n",
              "    <tr>\n",
              "      <th>5</th>\n",
              "      <td>1.023749</td>\n",
              "      <td>1.000000</td>\n",
              "    </tr>\n",
              "  </tbody>\n",
              "</table>\n",
              "</div>"
            ],
            "text/plain": [
              "   Númerico    Exacto\n",
              "0  0.864668  0.864665\n",
              "1  1.000048  0.999955\n",
              "2  1.000373  1.000000\n",
              "3  1.001491  1.000000\n",
              "4  1.005959  1.000000\n",
              "5  1.023749  1.000000"
            ]
          },
          "execution_count": null,
          "metadata": {},
          "output_type": "execute_result"
        }
      ]
    },
    {
      "cell_type": "code",
      "metadata": {
        "colab": {
          "base_uri": "https://localhost:8080/",
          "height": 37
        },
        "id": "TXOb4ZhG39Ma",
        "outputId": "c55f21be-0809-4c1d-b179-20b17b0f8ad6"
      },
      "source": [
        "(0.864668-0.864665)/0.864665"
      ],
      "execution_count": 148,
      "outputs": [
        {
          "data": {
            "image/png": "[encoded data removed]",
            "text/latex": "$\\displaystyle 3.46955179170574 \\cdot 10^{-6}$",
            "text/plain": [
              "3.469551791705741e-06"
            ]
          },
          "execution_count": null,
          "metadata": {},
          "output_type": "execute_result"
        }
      ]
    },
    {
      "cell_type": "code",
      "metadata": {
        "id": "7Ib7UGRs13Rl"
      },
      "source": [
        "eps= lambda n,E: np.abs((n-E))/E #Función para error relativo\n",
        "  \n",
        "et=eps(df2.Númerico, df2.Exacto) #Error relativo"
      ],
      "execution_count": 149,
      "outputs": []
    },
    {
      "cell_type": "code",
      "metadata": {
        "id": "ORgh7r_N8Wrp"
      },
      "source": [
        "def s(t): #Con el método de simpson\n",
        "  I=integrate.simps(fl(t),t)\n",
        "  return I"
      ],
      "execution_count": 150,
      "outputs": []
    },
    {
      "cell_type": "code",
      "metadata": {
        "colab": {
          "base_uri": "https://localhost:8080/",
          "height": 235
        },
        "id": "ZOtXmjr781JG",
        "outputId": "a9a587c9-4e52-4a1d-fca3-65a414d2247e"
      },
      "source": [
        "df3=pd.DataFrame({'Númerico':[s(t1),s(t2),s(t3),s(t4),s(t5),s(t6)],'Exacto': a})\n",
        "df3 #Valores para el segundo método."
      ],
      "execution_count": 151,
      "outputs": [
        {
          "data": {
            "text/html": [
              "<div>\n",
              "<style scoped>\n",
              "    .dataframe tbody tr th:only-of-type {\n",
              "        vertical-align: middle;\n",
              "    }\n",
              "\n",
              "    .dataframe tbody tr th {\n",
              "        vertical-align: top;\n",
              "    }\n",
              "\n",
              "    .dataframe thead th {\n",
              "        text-align: right;\n",
              "    }\n",
              "</style>\n",
              "<table border=\"1\" class=\"dataframe\">\n",
              "  <thead>\n",
              "    <tr style=\"text-align: right;\">\n",
              "      <th></th>\n",
              "      <th>Númerico</th>\n",
              "      <th>Exacto</th>\n",
              "    </tr>\n",
              "  </thead>\n",
              "  <tbody>\n",
              "    <tr>\n",
              "      <th>0</th>\n",
              "      <td>0.864665</td>\n",
              "      <td>0.864665</td>\n",
              "    </tr>\n",
              "    <tr>\n",
              "      <th>1</th>\n",
              "      <td>0.999956</td>\n",
              "      <td>0.999955</td>\n",
              "    </tr>\n",
              "    <tr>\n",
              "      <th>2</th>\n",
              "      <td>1.000012</td>\n",
              "      <td>1.000000</td>\n",
              "    </tr>\n",
              "    <tr>\n",
              "      <th>3</th>\n",
              "      <td>1.000095</td>\n",
              "      <td>1.000000</td>\n",
              "    </tr>\n",
              "    <tr>\n",
              "      <th>4</th>\n",
              "      <td>1.000724</td>\n",
              "      <td>1.000000</td>\n",
              "    </tr>\n",
              "    <tr>\n",
              "      <th>5</th>\n",
              "      <td>1.005270</td>\n",
              "      <td>1.000000</td>\n",
              "    </tr>\n",
              "  </tbody>\n",
              "</table>\n",
              "</div>"
            ],
            "text/plain": [
              "   Númerico    Exacto\n",
              "0  0.864665  0.864665\n",
              "1  0.999956  0.999955\n",
              "2  1.000012  1.000000\n",
              "3  1.000095  1.000000\n",
              "4  1.000724  1.000000\n",
              "5  1.005270  1.000000"
            ]
          },
          "execution_count": null,
          "metadata": {},
          "output_type": "execute_result"
        }
      ]
    },
    {
      "cell_type": "code",
      "metadata": {
        "id": "Rfh-NvGW9awH"
      },
      "source": [
        "es=eps(df3.Númerico, df3.Exacto)"
      ],
      "execution_count": 152,
      "outputs": []
    },
    {
      "cell_type": "code",
      "metadata": {
        "id": "H4c2-WJLAQMz"
      },
      "source": [
        "def q(i): #Método de cuadratura.\n",
        "  I=integrate.quadrature(fl,0,i)\n",
        "  return I"
      ],
      "execution_count": 153,
      "outputs": []
    },
    {
      "cell_type": "code",
      "metadata": {
        "id": "22I5DFbUCEfL"
      },
      "source": [
        "#a=[float(q(2)[0]),q(10)[0],q(20)[0],q(40)[0],q(80)[0],q(160)[0]]\n",
        "nn=[float(q(2)[0]),float(q(10)[0]),float(q(20)[0]),float(q(40)[0]),float(q(80)[0]),float(q(160)[0])]\n"
      ],
      "execution_count": 154,
      "outputs": []
    },
    {
      "cell_type": "code",
      "metadata": {
        "colab": {
          "base_uri": "https://localhost:8080/",
          "height": 235
        },
        "id": "jqhXc7-YBprF",
        "outputId": "3bdb92d0-624a-40c9-b4e1-6c43413850f2"
      },
      "source": [
        "df4=pd.DataFrame({'Númerico':nn,'Exacto': a})\n",
        "df4 #Dataframe de los valores para el método de cuadratura."
      ],
      "execution_count": 155,
      "outputs": [
        {
          "data": {
            "text/html": [
              "<div>\n",
              "<style scoped>\n",
              "    .dataframe tbody tr th:only-of-type {\n",
              "        vertical-align: middle;\n",
              "    }\n",
              "\n",
              "    .dataframe tbody tr th {\n",
              "        vertical-align: top;\n",
              "    }\n",
              "\n",
              "    .dataframe thead th {\n",
              "        text-align: right;\n",
              "    }\n",
              "</style>\n",
              "<table border=\"1\" class=\"dataframe\">\n",
              "  <thead>\n",
              "    <tr style=\"text-align: right;\">\n",
              "      <th></th>\n",
              "      <th>Númerico</th>\n",
              "      <th>Exacto</th>\n",
              "    </tr>\n",
              "  </thead>\n",
              "  <tbody>\n",
              "    <tr>\n",
              "      <th>0</th>\n",
              "      <td>8.646647e-01</td>\n",
              "      <td>0.864665</td>\n",
              "    </tr>\n",
              "    <tr>\n",
              "      <th>1</th>\n",
              "      <td>9.999546e-01</td>\n",
              "      <td>0.999955</td>\n",
              "    </tr>\n",
              "    <tr>\n",
              "      <th>2</th>\n",
              "      <td>1.000000e+00</td>\n",
              "      <td>1.000000</td>\n",
              "    </tr>\n",
              "    <tr>\n",
              "      <th>3</th>\n",
              "      <td>1.000000e+00</td>\n",
              "      <td>1.000000</td>\n",
              "    </tr>\n",
              "    <tr>\n",
              "      <th>4</th>\n",
              "      <td>1.000000e+00</td>\n",
              "      <td>1.000000</td>\n",
              "    </tr>\n",
              "    <tr>\n",
              "      <th>5</th>\n",
              "      <td>1.654757e-13</td>\n",
              "      <td>1.000000</td>\n",
              "    </tr>\n",
              "  </tbody>\n",
              "</table>\n",
              "</div>"
            ],
            "text/plain": [
              "       Númerico    Exacto\n",
              "0  8.646647e-01  0.864665\n",
              "1  9.999546e-01  0.999955\n",
              "2  1.000000e+00  1.000000\n",
              "3  1.000000e+00  1.000000\n",
              "4  1.000000e+00  1.000000\n",
              "5  1.654757e-13  1.000000"
            ]
          },
          "execution_count": null,
          "metadata": {},
          "output_type": "execute_result"
        }
      ]
    },
    {
      "cell_type": "code",
      "metadata": {
        "id": "rdxDyFlGElc8"
      },
      "source": [
        "eg=eps(df4.Númerico, df4.Exacto)"
      ],
      "execution_count": 156,
      "outputs": []
    },
    {
      "cell_type": "code",
      "metadata": {
        "colab": {
          "base_uri": "https://localhost:8080/",
          "height": 235
        },
        "id": "YhbJo-N35RVB",
        "outputId": "c4742485-4fd9-45c2-c0ac-d0c68e9759de"
      },
      "source": [
        "#DataFrame para los errores relativos encontrados con los 3 metodos, para distintos N. \n",
        "#\"'e_t': Error relativo para el metodo de trapecio, 'e_s': Error relativo para el metodo de Simpson,'e_g': Error relativo para el metodo de cuadratura\"\"\n",
        "dfin=pd.DataFrame({'N':[2,10,20,40,80,160], 'e_t': et, 'e_s': es,'e_g': eg})\n",
        "dfin"
      ],
      "execution_count": 157,
      "outputs": [
        {
          "data": {
            "text/html": [
              "<div>\n",
              "<style scoped>\n",
              "    .dataframe tbody tr th:only-of-type {\n",
              "        vertical-align: middle;\n",
              "    }\n",
              "\n",
              "    .dataframe tbody tr th {\n",
              "        vertical-align: top;\n",
              "    }\n",
              "\n",
              "    .dataframe thead th {\n",
              "        text-align: right;\n",
              "    }\n",
              "</style>\n",
              "<table border=\"1\" class=\"dataframe\">\n",
              "  <thead>\n",
              "    <tr style=\"text-align: right;\">\n",
              "      <th></th>\n",
              "      <th>N</th>\n",
              "      <th>e_t</th>\n",
              "      <th>e_s</th>\n",
              "      <th>e_g</th>\n",
              "    </tr>\n",
              "  </thead>\n",
              "  <tbody>\n",
              "    <tr>\n",
              "      <th>0</th>\n",
              "      <td>2</td>\n",
              "      <td>0.000004</td>\n",
              "      <td>1.634298e-08</td>\n",
              "      <td>6.672909e-13</td>\n",
              "    </tr>\n",
              "    <tr>\n",
              "      <th>1</th>\n",
              "      <td>10</td>\n",
              "      <td>0.000093</td>\n",
              "      <td>1.539916e-06</td>\n",
              "      <td>5.125133e-12</td>\n",
              "    </tr>\n",
              "    <tr>\n",
              "      <th>2</th>\n",
              "      <td>20</td>\n",
              "      <td>0.000373</td>\n",
              "      <td>1.216871e-05</td>\n",
              "      <td>3.450723e-10</td>\n",
              "    </tr>\n",
              "    <tr>\n",
              "      <th>3</th>\n",
              "      <td>40</td>\n",
              "      <td>0.001491</td>\n",
              "      <td>9.501133e-05</td>\n",
              "      <td>8.188297e-10</td>\n",
              "    </tr>\n",
              "    <tr>\n",
              "      <th>4</th>\n",
              "      <td>80</td>\n",
              "      <td>0.005959</td>\n",
              "      <td>7.243117e-04</td>\n",
              "      <td>1.078460e-09</td>\n",
              "    </tr>\n",
              "    <tr>\n",
              "      <th>5</th>\n",
              "      <td>160</td>\n",
              "      <td>0.023749</td>\n",
              "      <td>5.270066e-03</td>\n",
              "      <td>1.000000e+00</td>\n",
              "    </tr>\n",
              "  </tbody>\n",
              "</table>\n",
              "</div>"
            ],
            "text/plain": [
              "     N       e_t           e_s           e_g\n",
              "0    2  0.000004  1.634298e-08  6.672909e-13\n",
              "1   10  0.000093  1.539916e-06  5.125133e-12\n",
              "2   20  0.000373  1.216871e-05  3.450723e-10\n",
              "3   40  0.001491  9.501133e-05  8.188297e-10\n",
              "4   80  0.005959  7.243117e-04  1.078460e-09\n",
              "5  160  0.023749  5.270066e-03  1.000000e+00"
            ]
          },
          "execution_count": null,
          "metadata": {},
          "output_type": "execute_result"
        }
      ]
    },
    {
      "cell_type": "code",
      "metadata": {
        "colab": {
          "base_uri": "https://localhost:8080/",
          "height": 285
        },
        "id": "yGwqTNlKcjjr",
        "outputId": "145f969f-9861-4b20-aab6-ba304d70da4f"
      },
      "source": [
        "plt.plot(dfin['N'],dfin['e_t'],label = \"e_t\")\n",
        "plt.plot(dfin['N'],dfin['e_s'],label = \"e_s\")\n",
        "plt.plot(dfin['N'],dfin['e_g'],label = \"e_g\")\n",
        "plt.legend()\n",
        "plt.title(\"N VS errores\")\n",
        "plt.xscale(\"log\")\n",
        "plt.yscale(\"log\")\n",
        "plt.grid()\n",
        "plt.show()"
      ],
      "execution_count": 158,
      "outputs": [
        {
          "data": {
            "image/png": "[encoded data removed]",
            "text/plain": [
              "<Figure size 432x288 with 1 Axes>"
            ]
          },
          "metadata": {},
          "output_type": "display_data"
        }
      ]
    }
  ]
}