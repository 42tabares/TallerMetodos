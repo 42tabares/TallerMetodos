{
  "nbformat": 4,
  "nbformat_minor": 0,
  "metadata": {
    "colab": {
      "name": "Taller_9.ipynb",
      "provenance": [],
      "collapsed_sections": []
    },
    "kernelspec": {
      "name": "python3",
      "display_name": "Python 3"
    },
    "language_info": {
      "name": "python"
    }
  },
  "cells": [
    {
      "cell_type": "markdown",
      "metadata": {
        "id": "jZdGB1PxmPis"
      },
      "source": [
        "# TALLER 9\n",
        "\n",
        "Natali André Julio Beltran CC. 1098807231\\\n",
        "Brayan Alejandro Murillo González CC.1007338060"
      ]
    },
    {
      "cell_type": "code",
      "metadata": {
        "id": "aKfjUDOoDwKq"
      },
      "source": [
        "import numpy as np\n",
        "import scipy as sc\n",
        "import scipy.linalg as la\n",
        "import matplotlib.pyplot as plt\n"
      ],
      "execution_count": 1,
      "outputs": []
    },
    {
      "cell_type": "markdown",
      "metadata": {
        "id": "823uvh78fFAu"
      },
      "source": [
        "Sistema de ecuaciones de un problema físico:\n",
        "\n",
        "\n",
        "$$x'=2x-y+z$$\n",
        "$$y'= 3y-1z$$\n",
        "$$z'=2x+y+3z$$\n",
        "\n",
        "donde $x',y',z'$ son las derivadas, en forma vectorial esto se puede representar como $\\mathbf{r}'=A\\mathbf{r}$ que tiene solución analítica general, $\\mathbf{r} = e^{At} \\mathbf{r}(0)$.\n",
        "a) Diagonalize $A$.\n",
        "\n",
        "b) Use el hecho de que $f(A) = U f(D) U^{-1}$ para encontrar $x(t),y(t),z(t)$ en el intervalo de tiempo $[0,2]$.\n",
        ". c) Grafique $x(t),y(t),z(t)$ (use la condición inicial $\\mathbf{r}(0)=(1,1,2))$.\n",
        "d) Compare el resultado a la solución analítica,"
      ]
    },
    {
      "cell_type": "markdown",
      "metadata": {
        "id": "j4zwqQRbmsOi"
      },
      "source": [
        "#Solución"
      ]
    },
    {
      "cell_type": "markdown",
      "metadata": {
        "id": "Vy2eYB6ZfjhG"
      },
      "source": [
        "Matriz de coeficientes:"
      ]
    },
    {
      "cell_type": "code",
      "metadata": {
        "id": "kqTtBx1ZEDFk"
      },
      "source": [
        "A1 = np.array([2,-1,1])\n",
        "A2 = np.array([0,3,-1])\n",
        "A3 = np.array([2,1,3])\n",
        "A  = np.asmatrix([A1,A2,A3])\n",
        "\n",
        "E,U = la.eig(A) # Autovalores y autovectores\n",
        "\n"
      ],
      "execution_count": 2,
      "outputs": []
    },
    {
      "cell_type": "code",
      "metadata": {
        "id": "kpTwFYyKGXds"
      },
      "source": [
        "U = np.asmatrix(U)  # convertimos el array de autovectores en una matriz de numpy\n",
        "\n",
        "D = U.I @ (A @U)       #Diagonalización de A\n"
      ],
      "execution_count": 3,
      "outputs": []
    },
    {
      "cell_type": "markdown",
      "metadata": {
        "id": "Qhgb6tvlgC_G"
      },
      "source": [
        "\n",
        "$$r=e^{At}r(0)$$"
      ]
    },
    {
      "cell_type": "code",
      "metadata": {
        "colab": {
          "base_uri": "https://localhost:8080/"
        },
        "id": "0Liz2tFPf3YE",
        "outputId": "442b65af-be08-4606-d963-70c1d488e5ff"
      },
      "source": [
        "f = lambda t: np.exp(E*t)    # Función para evaluar el término e^At\n",
        "\n",
        "\n",
        "time = np.linspace(0,2,100)  # Valores para el tiempo de 0 a 2 \n",
        "\n",
        "r0 = np.array([1,1,2])       # Condición inicial\n",
        "\n",
        "r = np.zeros([len(time),3])  # Array para almacenar las coordenas x,y,z de r\n",
        "\n",
        "\n",
        "cont = 0  # contador\n",
        "\n",
        "\"\"\" Ciclo para evaluar el término e^At en cada t y autovalor, se almacenan los datos en un array\"\"\"\n",
        "for t in time:\n",
        "  Diag = np.diag(f(t),0)\n",
        "  f_A = U @ ( Diag @ U.I)   # F(A)\n",
        "  r[cont]=(f_A @ r0)        # Multiplicación de F(A) por las condiciones iniciales, el resultado es un vector [x,y,z], se almacena en r\n",
        "  cont=cont+1\n",
        "  \n",
        "\n",
        "r[0]=r0  # Se remplazan las condiciones iniciales del problema en el array de posiciones r\n"
      ],
      "execution_count": 4,
      "outputs": [
        {
          "output_type": "stream",
          "name": "stderr",
          "text": [
            "/usr/local/lib/python3.7/dist-packages/ipykernel_launcher.py:17: ComplexWarning: Casting complex values to real discards the imaginary part\n"
          ]
        }
      ]
    },
    {
      "cell_type": "markdown",
      "metadata": {
        "id": "eMIX-pVjgz5g"
      },
      "source": [
        "#Gráficas de las soluciones:"
      ]
    },
    {
      "cell_type": "code",
      "metadata": {
        "colab": {
          "base_uri": "https://localhost:8080/",
          "height": 442
        },
        "id": "DUYX6rOcSF2w",
        "outputId": "8d61fb9c-ebbc-4c03-a0d9-3b88b174760c"
      },
      "source": [
        "\"\"\" Gráfica de x(t) \"\"\"\n",
        "\n",
        "plt.figure(figsize=(18,7))\n",
        "plt.subplot(1, 3, 1)\n",
        "plt.plot(time,r[:,0],color=\"red\") # [:,0] extrae todas las coordenadas x en el array r\n",
        "plt.xlabel(\"Tiempo\")\n",
        "plt.ylabel(\"$x(t)$\")\n",
        "plt.grid()\n",
        "\n",
        "\n",
        "\"\"\" Gráfica de y(t) \"\"\"\n",
        "plt.subplot(1,3,2)\n",
        "plt.plot(time,r[:,1])# [:,1] extrae todas las coordenadas y en el array r\n",
        "plt.xlabel(\"Tiempo\")\n",
        "plt.ylabel(\"$y(t)$\")\n",
        "plt.grid()\n",
        "\n",
        "\n",
        "\"\"\" Gráfica de z(t) \"\"\"\n",
        "plt.subplot(1,3,3)\n",
        "plt.plot(time,r[:,2],color=\"orange\") # [:,2] extrae todas las coordenadas z en el array r\n",
        "plt.xlabel(\"Tiempo\")\n",
        "plt.ylabel(\"$z(t)$\")\n",
        "plt.grid()\n",
        "plt.show()"
      ],
      "execution_count": 5,
      "outputs": [
        {
          "output_type": "display_data",
          "data": {
            "image/png": "[encoded data removed]",
            "text/plain": [
              "<Figure size 1296x504 with 3 Axes>"
            ]
          },
          "metadata": {
            "needs_background": "light"
          }
        }
      ]
    },
    {
      "cell_type": "markdown",
      "metadata": {
        "id": "Na9CsPllhnsy"
      },
      "source": [
        "# Verificación analítica de las soluciones $x(t)$, $y(t)$, $z(t)$"
      ]
    },
    {
      "cell_type": "markdown",
      "metadata": {
        "id": "Z_S3SvCAiEfy"
      },
      "source": [
        "$$2x(t)= x(0)(e^{2t}(1+e^{2t}-2t))+y(0)(-2te^{2t})+z(0)(e^{2t}(e^{2t}-1))$$/\n",
        "\n",
        "$$2y(t)=  x(0)(-e^{2t}(-1+e^{2t}-2t))+y(0)(2(t+1)e^{2t})+z(0)(-e^{2t}(e^{2t}-1))$$/\n",
        "$$2z(t)=  x(0)(e^{2t}(-1+e^{2t}+2t))+y(0)(2te^{2t})+z(0)(-e^{2t}(e^{2t}+1))$$"
      ]
    },
    {
      "cell_type": "code",
      "metadata": {
        "id": "0RvUmCxrP3X7"
      },
      "source": [
        "\"\"\" Se define cada una de las funciones \"\"\"\n",
        "\n",
        "def x(t):\n",
        "  T1 = np.exp(2*t)*(1+np.exp(2*t)-2*t)\n",
        "  T2 = -2*t*np.exp(2*t)\n",
        "  T3 = 2*np.exp(2*t)*(np.exp(2*t)-1)\n",
        "  return (0.5)*(T1+T2+T3)\n",
        "\n",
        "def y(t):\n",
        "  T1 = -np.exp(2*t)*(-1+np.exp(2*t)-2*t)\n",
        "  T2 = 2*np.exp(2*t)*(t+1)\n",
        "  T3 = -2*np.exp(2*t)*(np.exp(2*t)-1)\n",
        "  return (0.5)*(T1+T2+T3)\n",
        "\n",
        "def z(t):\n",
        "  T1 = np.exp(2*t)*(-1+np.exp(2*t)+2*t)\n",
        "  T2 = 2*t*np.exp(2*t)\n",
        "  T3 = 2*np.exp(2*t)*(np.exp(2*t)+1)\n",
        "  return (0.5)*(T1+T2+T3)\n",
        "\n"
      ],
      "execution_count": 6,
      "outputs": []
    },
    {
      "cell_type": "code",
      "metadata": {
        "id": "lljnD_DRcRUn"
      },
      "source": [
        "t=np.linspace(0.001,2,100)  # valores de t entre 0 y 2 para evaluar las funciones anteriores\n"
      ],
      "execution_count": 7,
      "outputs": []
    },
    {
      "cell_type": "markdown",
      "metadata": {
        "id": "I8TFnKCokNs7"
      },
      "source": [
        "#Gráficos de $x(t)$, $y(t)$, $z(t)$\n",
        "\n",
        "\n",
        "\n"
      ]
    },
    {
      "cell_type": "code",
      "metadata": {
        "colab": {
          "base_uri": "https://localhost:8080/",
          "height": 442
        },
        "id": "a7oITLbUZIM_",
        "outputId": "ca0dffbd-7981-4d69-c0f0-b92d0028c37c"
      },
      "source": [
        "\n",
        "\"\"\" Grafico de x(t) analítico \"\"\"\n",
        "plt.figure(figsize=(18,7))\n",
        "plt.subplot(1, 3, 1)\n",
        "plt.plot(t,x(t),color=\"red\")\n",
        "plt.xlabel(\"Tiempo\")\n",
        "plt.ylabel(\"$x(t)$\")\n",
        "plt.grid()\n",
        "\n",
        "\n",
        "\n",
        "\"\"\" Grafico de y(t) analítico \"\"\"\n",
        "plt.subplot(1,3,2)\n",
        "plt.plot(t,y(t))\n",
        "plt.xlabel(\"Tiempo\")\n",
        "plt.ylabel(\"$y(t)$\")\n",
        "plt.grid()\n",
        "\n",
        "\n",
        "\n",
        "\"\"\" Grafico de z(t) analítico \"\"\"\n",
        "plt.subplot(1,3,3)\n",
        "plt.plot(t,z(t),color=\"orange\")\n",
        "plt.xlabel(\"Tiempo\")\n",
        "plt.ylabel(\"$z(t)$\")\n",
        "plt.grid()\n",
        "plt.show()"
      ],
      "execution_count": 8,
      "outputs": [
        {
          "output_type": "display_data",
          "data": {
            "image/png": "[encoded data removed]",
            "text/plain": [
              "<Figure size 1296x504 with 3 Axes>"
            ]
          },
          "metadata": {
            "needs_background": "light"
          }
        }
      ]
    },
    {
      "cell_type": "markdown",
      "metadata": {
        "id": "-LyzL172kdoc"
      },
      "source": [
        "# Conclusión\n",
        "Se puede observar que los gráficos obtenidos \"analíticamente\" son exactamente los mismos que se obtienen con la solucion computacional para \n",
        " $x(t)$, $y(t)$, $z(t)$ con $t$ entre $[0,2]$ por lo tanto concluímos que el método computacional para hallar las funciones concuerda con las soluciones esperadas.\n"
      ]
    },
    {
      "cell_type": "markdown",
      "metadata": {
        "id": "FAOWLvyKNfbD"
      },
      "source": [
        "# Punto 2"
      ]
    },
    {
      "cell_type": "markdown",
      "metadata": {
        "id": "fJEBycWyNsm8"
      },
      "source": [
        "Matriz de código:"
      ]
    },
    {
      "cell_type": "code",
      "metadata": {
        "id": "O5dO5CNQ7H24"
      },
      "source": [
        "A = np.asmatrix([[ 1,  2, -3,  4,  5],\n",
        "        [-2, -5,  8, -8, -9],\n",
        "        [ 1,  2, -2,  7,  9],\n",
        "        [ 1,  1,  0,  6, 12],\n",
        "        [ 2,  4, -6,  8, 11]])"
      ],
      "execution_count": 9,
      "outputs": []
    },
    {
      "cell_type": "markdown",
      "metadata": {
        "id": "cHqTzhGINuti"
      },
      "source": [
        "Diccionario para la decodificación:"
      ]
    },
    {
      "cell_type": "code",
      "metadata": {
        "id": "As6gF1n57Pza"
      },
      "source": [
        "cod={\"1\":\"A\",\"2\":\"B\",\"3\":\"C\",\"4\":\"D\",\"5\":\"E\",\"6\":\"F\",\"7\":\"G\",\"8\":\"H\",\"9\":\"I\",\"10\":\"J\",\"11\":\"K\",\"12\":\"L\",\"13\":\"M\",\"14\":\"N\",\"15\":\"O\",\"16\":\"P\",\"17\":\"Q\",\"18\":\"R\",\"19\":\"S\",\"20\":\"T\",\"21\":\"U\",\"22\":\"V\",\"23\":\"W\",\"24\":\"X\",\"25\":\"Y\",\"26\":\"Z\",\"27\":\" \"}"
      ],
      "execution_count": 10,
      "outputs": []
    },
    {
      "cell_type": "markdown",
      "metadata": {
        "id": "0fUL-mS3N1x6"
      },
      "source": [
        "Mensaje a decodificar:"
      ]
    },
    {
      "cell_type": "code",
      "metadata": {
        "id": "Kt_0t9Uw8OEM"
      },
      "source": [
        "mes = np.array([[47,49,-19,257,487],   # Matriz del mensaje\n",
        "              [10,-9,63,137,236],\n",
        "              [79,142,-184,372,536],\n",
        "              [59,70,-40,332,588]]) \n",
        "\n",
        "mes = np.asmatrix(mes)   # Se pasa el array a formato de matriz de numpy"
      ],
      "execution_count": 11,
      "outputs": []
    },
    {
      "cell_type": "code",
      "metadata": {
        "id": "ituCh8Zu89eK"
      },
      "source": [
        "\n",
        "B = mes @ A.I # Matriz final con el mensaje\n",
        "\n",
        "B = np.array(B) # Para efectos de la decodificación pasamos la matriz del mensaje a formato array de numpy\n",
        "\n",
        "l = []   # Lista para almacenar el mensaje cuando sea decodificado\n",
        " "
      ],
      "execution_count": 12,
      "outputs": []
    },
    {
      "cell_type": "code",
      "metadata": {
        "colab": {
          "base_uri": "https://localhost:8080/"
        },
        "id": "54duUScQChXW",
        "outputId": "2843a7d4-cbb2-4e6b-cf02-e92f05afb2e7"
      },
      "source": [
        "\"\"\" Rutina para desencriptar el mensaje\"\"\"\n",
        "\n",
        "\"\"\" El indice i recorre las filas de la matriz del mensaje,\n",
        "    el indice j recorre los elementos de cada fila, mira cual es el numero y le asigna su \n",
        "    respectiva letra acorde al diccionario preestablecido cod \"\"\"\n",
        "\n",
        "for i in range(0,4):\n",
        "\n",
        "  for j in range(0,5):\n",
        "\n",
        "    l.append(cod[str(round(B[i,:][j]))])\n",
        "\n",
        "\n",
        "mensaje = ''.join(l) # Concatenación de los caracteres almacenados en la lista con el mensaje\n",
        "\n",
        "print(\"El mensaje es : %s\"%(mensaje)) "
      ],
      "execution_count": 13,
      "outputs": [
        {
          "output_type": "stream",
          "name": "stdout",
          "text": [
            "El mensaje es : ARE YOU HAVING FUN  \n"
          ]
        }
      ]
    },
    {
      "cell_type": "markdown",
      "metadata": {
        "id": "PS_dOCLVnxb2"
      },
      "source": [
        "# Punto 3 Multiplicación de matrices"
      ]
    },
    {
      "cell_type": "markdown",
      "metadata": {
        "id": "cn3TR9Alp5_D"
      },
      "source": [
        "Para multiplicar dos matrices $A$ Por otra matriz $B$\n",
        "Las matrices tienen que cumplir los siguientes requisitos:\n",
        "\n",
        "1. Ser matrices cuadradas\n",
        "2. En caso de no ser matrices cuadradas, el numero de columnas de A tiene que ser igual al número de filas de B\n",
        "\n",
        "Si $A$ es $mxn$ y $B$ es $nxp$ la matriz del producto $AB$ es de tamaño  $mxp$\n"
      ]
    },
    {
      "cell_type": "code",
      "metadata": {
        "id": "amM1lwNmnWB_"
      },
      "source": [
        "\n",
        "def prodmat(A,B):\n",
        "\n",
        "  if A.shape[1]==B.shape[0]: # Condicional para que se pueda efectuar el producto de matrices\n",
        "\n",
        "    AB = np.zeros((A.shape[0],B.shape[1]))# Se crea una matriz con las filas de a y las columnas de b como columnas para almacenar los coeficientes\n",
        "                                               # de la multiplicación\n",
        "    \n",
        "    for i in range(A.shape[0]):  # indice para seleccionar las filas de A\n",
        "\n",
        "      for j in range(B.shape[1]): # indice para seleccionar las columnas de B\n",
        "\n",
        "        for h in range(A.shape[1]): # indice para ir recorriendo los coeficientes de cada fila de A y cada columna de B\n",
        "\n",
        "          AB[i][j] = AB[i][j] +A[i][h] * B[h][j] # Valor de multiplicar la fila i-esima de A, por la columna j-esima de B\n",
        "    \n",
        "    print(AB)\n",
        "\n",
        "  else:\n",
        "\n",
        "    print(\"No se pueden multiplicar las matrices ya que el numero de columnas de A: %i es diferente del numero de filas de B: %i\" %(A.shape[1],B.shape[0]))      \n",
        "\n"
      ],
      "execution_count": 14,
      "outputs": []
    },
    {
      "cell_type": "markdown",
      "metadata": {
        "id": "w_hR8cAQutoA"
      },
      "source": [
        "Pruebas de la funcion para la multiplicación de matrices\n"
      ]
    },
    {
      "cell_type": "code",
      "metadata": {
        "colab": {
          "base_uri": "https://localhost:8080/"
        },
        "id": "h8EypU4wobBL",
        "outputId": "8804d8cc-39c6-47da-b519-2cae1dc09103"
      },
      "source": [
        "\"\"\" Se tienen las siguientes matrices\"\"\"\n",
        "\n",
        "\n",
        "A = np.array([[1,2,3,4],[1,4,5,6],[3,7,8,9],[4,5,4,2]])\n",
        "B = np.array([[1,1,4,7],[2,3,5,8],[2,3,6,9],[4,4,3,4]])\n",
        "\n",
        "\"\"\" Con la funciónde numpy tenemos que A*B es: \"\"\"\n",
        "\n",
        "AB = np.asmatrix(A)@ np.asmatrix(B)\n",
        "print(AB)\n",
        "\n"
      ],
      "execution_count": 15,
      "outputs": [
        {
          "output_type": "stream",
          "name": "stdout",
          "text": [
            "[[ 27  32  44  66]\n",
            " [ 43  52  72 108]\n",
            " [ 69  84 122 185]\n",
            " [ 30  39  71 112]]\n"
          ]
        }
      ]
    },
    {
      "cell_type": "code",
      "metadata": {
        "colab": {
          "base_uri": "https://localhost:8080/"
        },
        "id": "dUYlgpN2vMRG",
        "outputId": "300af914-1f5f-41d5-a3e0-a75edc15cc44"
      },
      "source": [
        "\"\"\" El producto AB con la funcion que se construyó es : \"\"\"\n",
        "AB=prodmat(A,B)"
      ],
      "execution_count": 16,
      "outputs": [
        {
          "output_type": "stream",
          "name": "stdout",
          "text": [
            "[[ 27.  32.  44.  66.]\n",
            " [ 43.  52.  72. 108.]\n",
            " [ 69.  84. 122. 185.]\n",
            " [ 30.  39.  71. 112.]]\n"
          ]
        }
      ]
    },
    {
      "cell_type": "markdown",
      "metadata": {
        "id": "MqUNuS8LwHn_"
      },
      "source": [
        "Prueba para cuando las matrices no cumplen los requisitos"
      ]
    },
    {
      "cell_type": "code",
      "metadata": {
        "colab": {
          "base_uri": "https://localhost:8080/"
        },
        "id": "T72X-MoqwORD",
        "outputId": "9e8bdafc-f05b-4f4b-f2fc-f30a1233292a"
      },
      "source": [
        "A = np.array([[1,2,3,4],[1,4,5,6],[3,7,8,9],[4,5,4,2]])\n",
        "B = np.array([[2,3,5,8],[2,3,6,9],[4,4,3,4]])\n",
        "\n",
        "AB=prodmat(A,B)"
      ],
      "execution_count": 17,
      "outputs": [
        {
          "output_type": "stream",
          "name": "stdout",
          "text": [
            "No se pueden multiplicar las matrices ya que el numero de columnas de A: 4 es diferente del numero de filas de B: 3\n"
          ]
        }
      ]
    },
    {
      "cell_type": "code",
      "metadata": {
        "colab": {
          "base_uri": "https://localhost:8080/",
          "height": 191
        },
        "id": "QBAG38XYwbWv",
        "outputId": "ce13d4a2-9090-4d97-cc05-f976df78cbbb"
      },
      "source": [
        "AB = np.asmatrix(A)@ np.asmatrix(B)\n",
        "print(AB)\n"
      ],
      "execution_count": 18,
      "outputs": [
        {
          "output_type": "error",
          "ename": "ValueError",
          "evalue": "ignored",
          "traceback": [
            "\u001b[0;31m---------------------------------------------------------------------------\u001b[0m",
            "\u001b[0;31mValueError\u001b[0m                                Traceback (most recent call last)",
            "\u001b[0;32m<ipython-input-18-dae2cc16e78e>\u001b[0m in \u001b[0;36m<module>\u001b[0;34m()\u001b[0m\n\u001b[0;32m----> 1\u001b[0;31m \u001b[0mAB\u001b[0m \u001b[0;34m=\u001b[0m \u001b[0mnp\u001b[0m\u001b[0;34m.\u001b[0m\u001b[0masmatrix\u001b[0m\u001b[0;34m(\u001b[0m\u001b[0mA\u001b[0m\u001b[0;34m)\u001b[0m\u001b[0;34m@\u001b[0m \u001b[0mnp\u001b[0m\u001b[0;34m.\u001b[0m\u001b[0masmatrix\u001b[0m\u001b[0;34m(\u001b[0m\u001b[0mB\u001b[0m\u001b[0;34m)\u001b[0m\u001b[0;34m\u001b[0m\u001b[0;34m\u001b[0m\u001b[0m\n\u001b[0m\u001b[1;32m      2\u001b[0m \u001b[0mprint\u001b[0m\u001b[0;34m(\u001b[0m\u001b[0mAB\u001b[0m\u001b[0;34m)\u001b[0m\u001b[0;34m\u001b[0m\u001b[0;34m\u001b[0m\u001b[0m\n",
            "\u001b[0;31mValueError\u001b[0m: matmul: Input operand 1 has a mismatch in its core dimension 0, with gufunc signature (n?,k),(k,m?)->(n?,m?) (size 3 is different from 4)"
          ]
        }
      ]
    }
  ]
}