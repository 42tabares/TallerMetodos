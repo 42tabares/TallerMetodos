{
  "nbformat": 4,
  "nbformat_minor": 0,
  "metadata": {
    "colab": {
      "name": "sesion_13.ipynb",
      "provenance": [],
      "collapsed_sections": []
    },
    "kernelspec": {
      "name": "python3",
      "display_name": "Python 3"
    },
    "language_info": {
      "name": "python"
    }
  },
  "cells": [
    {
      "cell_type": "code",
      "metadata": {
        "id": "3dQBKLSvHQiW"
      },
      "source": [
        "import numpy as np\n",
        "import scipy.linalg as la\n",
        "import matplotlib.pyplot as plt"
      ],
      "execution_count": 1,
      "outputs": []
    },
    {
      "cell_type": "markdown",
      "metadata": {
        "id": "fAZPTSj5gZE4"
      },
      "source": [
        "a)"
      ]
    },
    {
      "cell_type": "code",
      "metadata": {
        "colab": {
          "base_uri": "https://localhost:8080/"
        },
        "id": "sDoi-zhBgDSd",
        "outputId": "a1311bc4-6405-4243-c024-dab797d6ef34"
      },
      "source": [
        "x1 = np.array([2, -1, 1])\n",
        "x2 = np.array([0, 3, -1])\n",
        "x3 = np.array([2, 1, +3])\n",
        "A = np.asmatrix([x1,x2,x3]) #Se crea la matriz asociada al sistema\n",
        "V, U = la.eig(A)            #Se calculan los vectores y autovalores \n",
        "U = np.asmatrix(U)          #Matriz con los autovectores\n",
        "np.diag(V, 0).round()       #matriz diagonal con los autovalores"
      ],
      "execution_count": 2,
      "outputs": [
        {
          "output_type": "execute_result",
          "data": {
            "text/plain": [
              "array([[4.+0.j, 0.+0.j, 0.+0.j],\n",
              "       [0.+0.j, 2.+0.j, 0.+0.j],\n",
              "       [0.+0.j, 0.+0.j, 2.-0.j]])"
            ]
          },
          "metadata": {},
          "execution_count": 2
        }
      ]
    },
    {
      "cell_type": "markdown",
      "metadata": {
        "id": "-XUJf9q0gbc4"
      },
      "source": [
        "b)"
      ]
    },
    {
      "cell_type": "code",
      "metadata": {
        "id": "zCdDVVbSgIQE"
      },
      "source": [
        "r0 = np.matrix([1,1,2])         #Condición inicial\n",
        "tiempo = np.linspace(0,2,1000)  #Tiempo en el que se evalúa \n",
        "x = np.zeros(len(tiempo))       #Array de ceros para x\n",
        "y = np.zeros(len(tiempo))       #Array de ceros para y\n",
        "z = np.zeros(len(tiempo))       #Array de ceros para z\n",
        "f = lambda t: np.exp(V*t)       #Función \n",
        "k =0                            #Contador \n",
        "for t in tiempo:\n",
        "    FD = f(t)                   #Se calcula f(t)\n",
        "    FD = np.diag(f(t),0)\n",
        "    r = (U@FD@U.I)@r0.T       #Se hace la multiplicación matricial para encontrar r\n",
        "    x[k]=np.real(r[0])        #Se asigna un dato al array de ceros\n",
        "    y[k]=np.real(r[1])\n",
        "    z[k]=np.real(r[2])\n",
        "    k = k+1"
      ],
      "execution_count": 3,
      "outputs": []
    },
    {
      "cell_type": "markdown",
      "metadata": {
        "id": "1Fjwhmqfgcyj"
      },
      "source": [
        "c)"
      ]
    },
    {
      "cell_type": "code",
      "metadata": {
        "colab": {
          "base_uri": "https://localhost:8080/",
          "height": 264
        },
        "id": "efUZKypVgIgl",
        "outputId": "f61a6e8b-168e-47b6-8a7a-250b594cd3ca"
      },
      "source": [
        "#Grafica\n",
        "plt.plot(tiempo,x, label ='x(t)')\n",
        "plt.plot(tiempo,y, label = 'y(t)',color = \"green\")\n",
        "plt.plot(tiempo,z, label = 'z(t)',color = \"magenta\")\n",
        "plt.legend();"
      ],
      "execution_count": 4,
      "outputs": [
        {
          "output_type": "display_data",
          "data": {
            "image/png": "[encoded data removed]",
            "text/plain": [
              "<Figure size 432x288 with 1 Axes>"
            ]
          },
          "metadata": {
            "needs_background": "light"
          }
        }
      ]
    },
    {
      "cell_type": "markdown",
      "metadata": {
        "id": "kLYY3Ys2geDC"
      },
      "source": [
        "d)"
      ]
    },
    {
      "cell_type": "code",
      "metadata": {
        "colab": {
          "base_uri": "https://localhost:8080/",
          "height": 264
        },
        "id": "h4Zl7293gIpe",
        "outputId": "652e6b9c-7522-46b5-9ae7-fcc024edbf8b"
      },
      "source": [
        "r = [1,1,2]\n",
        "\n",
        "#Ecuaciones\n",
        "def X(t):\n",
        "    x = r[0]*(np.exp(2*t)*(1+np.exp(2*t)-2*t))+r[1]*(-2*t*np.exp(2*t))+r[2]*(np.exp(2*t)*(-1+np.exp(2*t)))\n",
        "    return x/2\n",
        "def Y(t):\n",
        "    y = r[0]*(-np.exp(2*t)*(-1+np.exp(2*t)-2*t))+r[1]*(2*(t+1)*np.exp(2*t))+r[2]*(-np.exp(2*t)*(-1+np.exp(2*t)))\n",
        "    return y/2\n",
        "def Z(t):\n",
        "    z = r[0]*(np.exp(2*t)*(-1+np.exp(2*t)+2*t))+r[1]*2*t*np.exp(2*t)+r[2]*np.exp(2*t)*(1+np.exp(2*t))\n",
        "    return z/2\n",
        "\n",
        "#Grafica\n",
        "plt.plot(tiempo,X(tiempo),label ='x(t) analítica')\n",
        "plt.plot(tiempo,Y(tiempo),label ='y(t) analítica', color = \"green\")\n",
        "plt.plot(tiempo,Z(tiempo),label ='z(t) analítica',color = \"magenta\")\n",
        "plt.legend();"
      ],
      "execution_count": 5,
      "outputs": [
        {
          "output_type": "display_data",
          "data": {
            "image/png": "[encoded data removed]",
            "text/plain": [
              "<Figure size 432x288 with 1 Axes>"
            ]
          },
          "metadata": {
            "needs_background": "light"
          }
        }
      ]
    },
    {
      "cell_type": "markdown",
      "metadata": {
        "id": "vDWaWtc_O9bt"
      },
      "source": [
        "2. Un proceso para encriptar un mensaje secreto es usar cierta matrix cuadrada cuyos elementos son enteros con elementos enteros en la inversa. Se recibe un mensaje, se asigna un número a cada letra Por ejemplo, A=1, B=2, C=3, ... etc y espacio=27), se arreglan los números en una matriz de izquierda a derecha en cada fila, donde el número de elementos en la fila es igual al tamano de la matriz de codigo, se multiplica esa matriz por la matriz de código por la derecha, se transcribe el mensaje en una cadena de números y se manda el mensaje. \n",
        "\n",
        "La persona que debe recibir el mensaje conoce la matriz de codigo. El o ellla arrelgan el mensaje encriptado en una matriz de izquierda a derecha en cada fila, en donde el numero de elementos en una fila conicide con el tamano de la matriz de codigo muplicada por la derecha, por el inverso de la matriz de código y puede leer mensaje decodificado.\n",
        "\n",
        "Usted a recibido el siguiente mensaje que fue encriptado usando la matriz A. Decodifiquelo.\n",
        "\n",
        "```\n",
        "A = matrix([[ 1,  2, -3,  4,  5],\n",
        "        [-2, -5,  8, -8, -9],\n",
        "        [ 1,  2, -2,  7,  9],\n",
        "        [ 1,  1,  0,  6, 12],\n",
        "        [ 2,  4, -6,  8, 11]])\n",
        "```\n",
        "\n",
        "Mensaje\n",
        "\n",
        "47,49,-19,257,487,10,-9,63,137,236, 79,142,-184,372,536,59,70,-40,332,588, \n",
        "\n",
        "la primera fila del mensaje es 47,49,-19,257,487\n",
        "\n",
        "¿Cual es el mensaje?"
      ]
    },
    {
      "cell_type": "code",
      "metadata": {
        "id": "aVOGDUOkPCE4"
      },
      "source": [
        "#Matriz del mensaje\n",
        "A = np.array([[ 1,  2, -3,  4,  5],\n",
        "        [-2, -5,  8, -8, -9],\n",
        "        [ 1,  2, -2,  7,  9],\n",
        "        [ 1,  1,  0,  6, 12],\n",
        "        [ 2,  4, -6,  8, 11]])"
      ],
      "execution_count": 6,
      "outputs": []
    },
    {
      "cell_type": "code",
      "metadata": {
        "id": "E2NPzHT7PL7m"
      },
      "source": [
        "#Matriz de código\n",
        "B = np.array([[ 47,  49, -19,  257,  487],\n",
        "        [10,-9,63,137,236],\n",
        "        [ 79,142,-184,372,536],\n",
        "        [ 59,70,-40,332,588]])"
      ],
      "execution_count": 7,
      "outputs": []
    },
    {
      "cell_type": "code",
      "metadata": {
        "id": "VFXag4eXQto7"
      },
      "source": [
        "#Inversa del mensaje\n",
        "I = np.linalg.inv(A)"
      ],
      "execution_count": 8,
      "outputs": []
    },
    {
      "cell_type": "code",
      "metadata": {
        "id": "cX3lryjLSLBp"
      },
      "source": [
        "#Mensaje (multiplicar a derecha por la inversa de la matriz del mensaje)\n",
        "M = np.dot(B,I)"
      ],
      "execution_count": 9,
      "outputs": []
    },
    {
      "cell_type": "code",
      "metadata": {
        "colab": {
          "base_uri": "https://localhost:8080/"
        },
        "id": "jZMvADuySUpm",
        "outputId": "f17e9121-5f91-46c6-8aee-a586a5fdf201"
      },
      "source": [
        "#Diccionario con el abcedario\n",
        "ABCD = {1:'A',2:'B',3:'C',4:'D',5:'E',6:'F',7:'G',8:'H',9:'I',10:'J',11:'K',12:'L',13:'M',\n",
        "        14:'N',15:'O',16:'P',17:'Q',18:'R',19:'S',20:'T',21:'U',22:'V',23:'W',24:'X',25:'Y',\n",
        "        26:'Z',27:' '}\n",
        "\n",
        "\n",
        "text = ''                         #Cadena de texto con el mensaje\n",
        "\n",
        "#Codigo para sacar el mensaje\n",
        "for i in range(M.shape[0]):       #Recorreomos las filas\n",
        "  for j in range(M.shape[1]):     #recorremos las columnas\n",
        "    text += ABCD[M[i,j].round()]  #convertimos la posición [i,j] en una letra\n",
        "print(text)"
      ],
      "execution_count": 10,
      "outputs": [
        {
          "output_type": "stream",
          "name": "stdout",
          "text": [
            "ARE YOU HAVING FUN  \n"
          ]
        }
      ]
    },
    {
      "cell_type": "markdown",
      "metadata": {
        "id": "I8tbMGN5O8o2"
      },
      "source": [
        "3. Construir un programa que permita realizar la multiplicacion de dos matrices. El programa debe establecer si las matrices se pueden multiplicar.\n"
      ]
    },
    {
      "cell_type": "code",
      "metadata": {
        "id": "wWPRNPqcOy2y"
      },
      "source": [
        "def producto_matrices(M1,M2):\n",
        "  \"\"\"\n",
        "  M1: es la matriz izquierda\n",
        "  M2: es la matriz derecha\n",
        "  \"\"\"\n",
        "  #Producto entre matrices\n",
        "  try:\n",
        "    M1 = np.asarray(M1)\n",
        "    M2 = np.asarray(M2)\n",
        "\n",
        "    M3 = np.zeros((M1.shape[0],M2.shape[1]))\n",
        "    for i in range(M1.shape[0]):        #Recorremos las filas de M1\n",
        "      fila = M1[i]\n",
        "      for j in range(M2.shape[1]):      #Recorremos las columnas de M2\n",
        "        columna = M2[:,j]\n",
        "        M3[i,j] = (fila*columna).sum()  #valor de la posición [i,j] del producto\n",
        "    return M3\n",
        "\n",
        "  #Posibles errores al digitar la matriz\n",
        "  except TypeError:                     #En caso de escribirse mal la matriz\n",
        "    return \"No se pueden multiplicar estas matrices\"\n",
        "  except ValueError:                    #En caso de poner mal un valor de la matriz\n",
        "    return \"No se pueden multiplicar estas matrices\""
      ],
      "execution_count": 11,
      "outputs": []
    },
    {
      "cell_type": "code",
      "metadata": {
        "colab": {
          "base_uri": "https://localhost:8080/"
        },
        "id": "wuICLnx2gCPq",
        "outputId": "158e1980-0efd-4783-bbe3-2267fddca822"
      },
      "source": [
        "\n",
        "M1 = np.array([[2,2],[2,2],[1,1]])\n",
        "print(M1)\n",
        "print(M1.shape)\n",
        "M2 = np.array([[1,0],[0,1]])\n",
        "print(M2)\n",
        "print(M2.shape)"
      ],
      "execution_count": 12,
      "outputs": [
        {
          "output_type": "stream",
          "name": "stdout",
          "text": [
            "[[2 2]\n",
            " [2 2]\n",
            " [1 1]]\n",
            "(3, 2)\n",
            "[[1 0]\n",
            " [0 1]]\n",
            "(2, 2)\n"
          ]
        }
      ]
    },
    {
      "cell_type": "code",
      "metadata": {
        "colab": {
          "base_uri": "https://localhost:8080/"
        },
        "id": "h8eBG6YMfOKL",
        "outputId": "1f81c631-1dee-4a27-ae2e-276bd2d05e76"
      },
      "source": [
        "producto_matrices(M1,M2)"
      ],
      "execution_count": 13,
      "outputs": [
        {
          "output_type": "execute_result",
          "data": {
            "text/plain": [
              "array([[2., 2.],\n",
              "       [2., 2.],\n",
              "       [1., 1.]])"
            ]
          },
          "metadata": {},
          "execution_count": 13
        }
      ]
    },
    {
      "cell_type": "code",
      "metadata": {
        "colab": {
          "base_uri": "https://localhost:8080/"
        },
        "id": "qHdBUsQSgdDh",
        "outputId": "8275f6bf-971b-4a3a-d5ad-68f73d05e47d"
      },
      "source": [
        "M1 @ M2"
      ],
      "execution_count": 14,
      "outputs": [
        {
          "output_type": "execute_result",
          "data": {
            "text/plain": [
              "array([[2, 2],\n",
              "       [2, 2],\n",
              "       [1, 1]])"
            ]
          },
          "metadata": {},
          "execution_count": 14
        }
      ]
    }
  ]
}