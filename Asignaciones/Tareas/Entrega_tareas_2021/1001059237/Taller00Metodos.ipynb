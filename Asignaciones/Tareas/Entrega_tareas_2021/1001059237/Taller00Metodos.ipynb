{
 "cells": [
  {
   "cell_type": "markdown",
   "metadata": {
    "id": "NLEQt8OY0WOv"
   },
   "source": [
    "Punto 1\n"
   ]
  },
  {
   "cell_type": "code",
   "execution_count": 5,
   "metadata": {
    "colab": {
     "base_uri": "https://localhost:8080/"
    },
    "id": "x1e722vRIX2k",
    "outputId": "2c37c57e-02f6-40e1-fdf6-a772de22ea9e"
   },
   "outputs": [
    {
     "name": "stdout",
     "output_type": "stream",
     "text": [
      "None\n"
     ]
    }
   ],
   "source": [
    "def factorial(n):\n",
    "    suma = 1\n",
    "    if n < 0:\n",
    "        return None\n",
    "    for i in range(1, n+1):\n",
    "        suma *= i\n",
    "    return suma\n",
    "print(factorial(-10))"
   ]
  },
  {
   "cell_type": "markdown",
   "metadata": {
    "id": "xnV149QB0VUu"
   },
   "source": [
    "Punto 2\n"
   ]
  },
  {
   "cell_type": "code",
   "execution_count": 6,
   "metadata": {
    "colab": {
     "base_uri": "https://localhost:8080/"
    },
    "id": "WL-InK9DIp21",
    "outputId": "1e4329b6-4816-4a9a-cf0d-3a4d5386920a"
   },
   "outputs": [
    {
     "name": "stdout",
     "output_type": "stream",
     "text": [
      " a = 19 es defectivo y primo y  b = 119 es defectivo\n",
      "\n"
     ]
    }
   ],
   "source": [
    "def divisores(n):\n",
    "    return sorted([i for i in range(1, n//2+1) if n % i == 0])\n",
    "\n",
    "\n",
    "def def_abu(n):  # Y si es mas de una?\n",
    "    div = divisores(n)\n",
    "    result = []\n",
    "\n",
    "    if sum(div) < n:\n",
    "        result.append(\"{} es defectivo\".format(n))\n",
    "    if sum(div) > n:\n",
    "        result.append(\"{} es abundante\".format(n))\n",
    "    if sum(div) == n:\n",
    "        result.append(\"{} es perfecto\".format(n))\n",
    "    if sum(div) == 1:\n",
    "        result.append(\"primo\")\n",
    "    return \" y \".join(result)\n",
    "\n",
    "\n",
    "def amigos(a, b):\n",
    "    diva = sum(divisores(a))\n",
    "    divb = sum(divisores(b))\n",
    "\n",
    "    if diva == b and divb == a:\n",
    "        return \"{} y {} son numeros amigos\".format(a, b)\n",
    "    return None\n",
    "\n",
    "\n",
    "def semi(lista, k, acumulado=0):\n",
    "\n",
    "    if acumulado >= k:\n",
    "        return acumulado == k\n",
    "    if lista == []:\n",
    "        return False\n",
    "    acumulado += lista[0]\n",
    "    return semi(lista[1:], k, acumulado) or semi(lista[1:], k, acumulado-lista[0])\n",
    "\n",
    "\n",
    "\n",
    "def clase_numero(a, b):\n",
    "    A = []\n",
    "    B = []\n",
    "    result = []\n",
    "    A.append(def_abu(a))\n",
    "    if semi(divisores(a), a):\n",
    "        A.append(\"y semiperfecto\")\n",
    "    A = \" \".join(A)\n",
    "    B.append(def_abu(b))\n",
    "    if semi(divisores(b), b):\n",
    "        B.append(\"y semiperfecto\")\n",
    "    B = \" \".join(B)\n",
    "    result.append(\" a = \"+A)\n",
    "    result.append(\" b = \"+B)\n",
    "    result[0] = \" y \".join(result)\n",
    "    if amigos(a, b) != None:\n",
    "        result[1] = (amigos(a, b))\n",
    "    else:\n",
    "        result[1] = \"\"\n",
    "    return \"\\n\".join(result)\n",
    "\n",
    "print(clase_numero(19,119))\n"
   ]
  },
  {
   "cell_type": "markdown",
   "metadata": {
    "id": "SmDY8FJ_0jMy"
   },
   "source": [
    "Punto 3\n"
   ]
  },
  {
   "cell_type": "code",
   "execution_count": 7,
   "metadata": {
    "colab": {
     "base_uri": "https://localhost:8080/"
    },
    "id": "ilI3WY00MZ94",
    "outputId": "a3e5375d-d94d-48e0-fc2a-87f63e996430"
   },
   "outputs": [
    {
     "name": "stdout",
     "output_type": "stream",
     "text": [
      "True\n"
     ]
    }
   ],
   "source": [
    "def palindromo(n):  \n",
    "    return str(n) == str(n)[::-1]\n",
    "\n",
    "print(palindromo(32423))"
   ]
  },
  {
   "cell_type": "code",
   "execution_count": 8,
   "metadata": {
    "colab": {
     "base_uri": "https://localhost:8080/"
    },
    "id": "Iigk6b6xMnVT",
    "outputId": "a8735301-a200-4fba-8425-b153c4cb2bc6"
   },
   "outputs": [
    {
     "name": "stdout",
     "output_type": "stream",
     "text": [
      "[True, 5, 5, 'ogaleicrum']\n"
     ]
    }
   ],
   "source": [
    "def cadena(s):  # Y si la palabra es par?\n",
    "    vowel = [\"a\", \"e\", \"i\", \"o\", \"u\"]\n",
    "    vocal = s[len(s)//2] in vowel if len(s) % 2 == 1 else s[len(s)//2-1] in vowel\n",
    "    reverse = s[::-1]\n",
    "    inicial = len(s)\n",
    "    for i in s:\n",
    "        if i in vowel:\n",
    "            s = s.replace(i, \"\")\n",
    "    numconsonantes = len(s)\n",
    "    numvocales = inicial-len(s)\n",
    "    return [vocal, numvocales, numconsonantes, reverse]\n",
    "\n",
    "\n",
    "print(cadena(\"murcielago\"))"
   ]
  },
  {
   "cell_type": "code",
   "execution_count": 9,
   "metadata": {
    "colab": {
     "base_uri": "https://localhost:8080/"
    },
    "id": "QotEVn-gMp38",
    "outputId": "5695a223-9ffc-4575-e6aa-91a95da0009f"
   },
   "outputs": [
    {
     "name": "stdout",
     "output_type": "stream",
     "text": [
      "3\n"
     ]
    }
   ],
   "source": [
    "def fibonacci(n):\n",
    "    fibo = [0,1]\n",
    "    while len(fibo)<=n:\n",
    "        fibo.append(fibo[-1]+fibo[-2])\n",
    "    return fibo[n]\n",
    "print(fibonacci(4))"
   ]
  },
  {
   "cell_type": "code",
   "execution_count": 10,
   "metadata": {
    "colab": {
     "base_uri": "https://localhost:8080/"
    },
    "id": "Ve3yfULTMtq5",
    "outputId": "ec5cbe3d-88ec-4f2b-b3be-481a5e16cbb4"
   },
   "outputs": [
    {
     "name": "stdout",
     "output_type": "stream",
     "text": [
      "[1, 3, 7, 12, 22, 22, 24, 34, 45, 54, 76]\n"
     ]
    }
   ],
   "source": [
    "def quicksort(n):\n",
    "    if len(n)<2:\n",
    "        return n\n",
    "    inicial = 0\n",
    "    final = len(n)\n",
    "    pivote = n[-1]\n",
    "    for i in range(final):\n",
    "        if n[inicial]>pivote:\n",
    "            a = n[inicial]\n",
    "            n.pop(inicial)\n",
    "            n.append(a)\n",
    "            final -=1\n",
    "            continue\n",
    "        inicial +=1\n",
    "    n[0:final-1] = quicksort(n[0:final-1])\n",
    "    n[final:] = quicksort(n[final:])\n",
    "    return n\n",
    "\n",
    "print(quicksort([3,7,45,24,12,34,76,1,22,22,54]))"
   ]
  },
  {
   "cell_type": "code",
   "execution_count": null,
   "metadata": {},
   "outputs": [],
   "source": []
  }
 ],
 "metadata": {
  "colab": {
   "collapsed_sections": [],
   "name": "Taller0Metodos.ipynb",
   "provenance": []
  },
  "kernelspec": {
   "display_name": "Python 3",
   "language": "python",
   "name": "python3"
  },
  "language_info": {
   "codemirror_mode": {
    "name": "ipython",
    "version": 3
   },
   "file_extension": ".py",
   "mimetype": "text/x-python",
   "name": "python",
   "nbconvert_exporter": "python",
   "pygments_lexer": "ipython3",
   "version": "3.8.5"
  }
 },
 "nbformat": 4,
 "nbformat_minor": 4
}
