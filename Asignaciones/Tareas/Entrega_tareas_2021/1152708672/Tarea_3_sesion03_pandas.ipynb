{
  "nbformat": 4,
  "nbformat_minor": 0,
  "metadata": {
    "colab": {
      "name": "Tarea 3 sesion03_pandas.ipynb",
      "provenance": [],
      "collapsed_sections": []
    },
    "kernelspec": {
      "name": "python3",
      "display_name": "Python 3"
    },
    "language_info": {
      "name": "python"
    }
  },
  "cells": [
    {
      "cell_type": "markdown",
      "metadata": {
        "id": "PQKZLme7wuHH"
      },
      "source": [
        "#**Grupo 7**\n",
        "\n",
        "##- Miguel Angel Gómez Pineda\n",
        "##**Compañero de trabajo:**\n",
        "##- Camilo Londoño Vera\n",
        "\n"
      ]
    },
    {
      "cell_type": "markdown",
      "metadata": {
        "id": "sYIMyK4m_Mhv"
      },
      "source": [
        "# Problema 1.\n",
        "\n",
        "Usando el set `PS4_1.csv`, convertir la serie `Date` en el indice (serie de tiempo) y eliminar la serie `Unnamed: 1` (generado por pandas), retornar un  diccionario con en el siguiente orden:\n",
        "\n",
        "* cantidad de columnas\n",
        "* Nombre de las columnas\n",
        "* número de registros no NaN de cada columna\n",
        "* cantidad total de memoria usada para cargar el dataset en el computador ,( df.memory_usage() )\n",
        "* Estadistica basica para cada columna, media, desviacion estandar, maximo\n",
        "* Remplazar los NaN por None\n",
        "\n"
      ]
    },
    {
      "cell_type": "code",
      "metadata": {
        "id": "upSBUrJAEDak"
      },
      "source": [
        "import pandas as pd\n",
        "import numpy as np"
      ],
      "execution_count": 141,
      "outputs": []
    },
    {
      "cell_type": "code",
      "metadata": {
        "id": "ACHTAh_sERio"
      },
      "source": [
        "path = \"https://docs.google.com/spreadsheets/d/e/2PACX-1vSDNSlMO29QeMiWSm2gGp_KwMJN2kqgCMxtxR-AM7SrsZdnWBCRYmk2cLIkNBtWUQ/pub?output=csv\"\n",
        "df = pd.read_csv(path)"
      ],
      "execution_count": 142,
      "outputs": []
    },
    {
      "cell_type": "code",
      "metadata": {
        "id": "2uSlQcGycQrM"
      },
      "source": [
        "#borrado de las colmnnas Date y Unnamed: 1\n",
        "del df['Date']\n",
        "del df['Unnamed: 1']"
      ],
      "execution_count": 143,
      "outputs": []
    },
    {
      "cell_type": "code",
      "metadata": {
        "id": "krWldy1bdDeD"
      },
      "source": [
        "df"
      ],
      "execution_count": null,
      "outputs": []
    },
    {
      "cell_type": "code",
      "metadata": {
        "id": "nhqg-ubuEzgt"
      },
      "source": [
        "print('Cantidad de columnas')\n",
        "len(df.columns)"
      ],
      "execution_count": null,
      "outputs": []
    },
    {
      "cell_type": "code",
      "metadata": {
        "id": "zLCO4VipmJpq"
      },
      "source": [
        "print('Nombre de las columnas')\n",
        "df.columns"
      ],
      "execution_count": null,
      "outputs": []
    },
    {
      "cell_type": "code",
      "metadata": {
        "id": "JG2ugHDzJMU2"
      },
      "source": [
        "df.shape"
      ],
      "execution_count": null,
      "outputs": []
    },
    {
      "cell_type": "code",
      "metadata": {
        "id": "XqUh-rvjJN0f"
      },
      "source": [
        "info_df = df.describe() #Se muestran las estadisticas del Df"
      ],
      "execution_count": 148,
      "outputs": []
    },
    {
      "cell_type": "code",
      "metadata": {
        "id": "ODMpxxr9KUFA"
      },
      "source": [
        "info_df"
      ],
      "execution_count": null,
      "outputs": []
    },
    {
      "cell_type": "code",
      "metadata": {
        "id": "O_NcWMhtn_tX"
      },
      "source": [
        "df.columns"
      ],
      "execution_count": null,
      "outputs": []
    },
    {
      "cell_type": "code",
      "metadata": {
        "id": "X-vWemGuoeWH"
      },
      "source": [
        "suma = np.array([])\n",
        "print('Cantidad no NaN \\n')\n",
        "#Suma de la cantidad de celdas que no tienen NaN por columnas\n",
        "for col in df.columns:   \n",
        "  tf = pd.isnull(df[col])\n",
        "  tf1 = ~tf\n",
        "  suma = np.append(suma,tf1.sum())\n",
        "\n",
        "  print(tf1.sum())\n"
      ],
      "execution_count": null,
      "outputs": []
    },
    {
      "cell_type": "code",
      "metadata": {
        "id": "byllvr_5OL-D"
      },
      "source": [
        "print ('cantidad total de memoria usada para cargar el dataset en el computador \\n')\n",
        "\n",
        "df.memory_usage()"
      ],
      "execution_count": null,
      "outputs": []
    },
    {
      "cell_type": "code",
      "metadata": {
        "id": "31ch95Vo347D"
      },
      "source": [
        "print ('Estadistica basica para cada columna, media, desviacion estandar, maximo \\n')\n",
        "print ('media \\n')\n",
        "print (info_df.loc['mean'],'\\n')\n",
        "print ('std \\n')\n",
        "print (info_df.loc['std'],'\\n')\n",
        "print ('maximo \\n')\n",
        "print (info_df.loc['max'])"
      ],
      "execution_count": null,
      "outputs": []
    },
    {
      "cell_type": "code",
      "metadata": {
        "id": "BG3NoFq56cC7"
      },
      "source": [
        "print ('Reemplazo de los NaN por None \\n')\n",
        "df1 = df.fillna ('None')\n",
        "df1"
      ],
      "execution_count": null,
      "outputs": []
    },
    {
      "cell_type": "code",
      "metadata": {
        "id": "RDVK98SPOsBu"
      },
      "source": [
        "#Funcion para crear diccionario a partir de los datos solicitados\n",
        "def problema1(path):\n",
        "  df = pd.read_csv(path)\n",
        "\n",
        "  del df['Date']\n",
        "  del df['Unnamed: 1']\n",
        "\n",
        "  info_df = df.describe()\n",
        "  \n",
        "  cantidad_columnas = len(df.columns)\n",
        "  \n",
        "  nombre = df.columns\n",
        "  \n",
        "  suma = np.array([])\n",
        "  for col in df.columns:\n",
        "    tf = pd.isnull(df[col])\n",
        "    tf1 = ~tf\n",
        "    suma = np.append(suma,tf1.sum())\n",
        "  \n",
        "  registros = int(suma.sum())\n",
        "  \n",
        "  memory = df.memory_usage()\n",
        "  \n",
        "  med = info_df.loc['mean']\n",
        "  desv = info_df.loc['std']\n",
        "  maxim = info_df.loc['max']\n",
        "\n",
        "  diccionario1 = {\"cantidad_columnas\":cantidad_columnas,\n",
        "                 \"nombre_columnas\": nombre, \n",
        "                 \"registros\": registros} \n",
        "  diccionario2 = {\"Memoria\": memory} \n",
        "  diccionario3 =  {\"media\": med} \n",
        "  diccionario4 = {\"desviacion estandar\": desv} \n",
        "  diccionario5 =  {\"Maximo\": maxim}\n",
        "\n",
        "  return diccionario1, diccionario2, diccionario3, diccionario4, diccionario5"
      ],
      "execution_count": 155,
      "outputs": []
    },
    {
      "cell_type": "code",
      "metadata": {
        "id": "eZHQpZhXPkfn"
      },
      "source": [
        "q = problema1(path)\n",
        "q"
      ],
      "execution_count": null,
      "outputs": []
    },
    {
      "cell_type": "markdown",
      "metadata": {
        "id": "VNK5-4W_ZLf9"
      },
      "source": [
        "# Problema 2\n",
        "\n",
        "Realizar la lectura del data frame \"Crimes_-_2019.csv\" asociado a los crimenes que se presentaron en Chicago en el 2019. \n",
        "\n",
        "\n",
        "1. Ver la estadistica general del data frame.\n",
        "2. Dejar las columnas PrimaryType, y Date.\n",
        "3. Transformar la columna Date que es tipo string en una tipo Fecha, use el siguiente metodo de pandas pd.to_datetime(df.Date,format=\"%m/%d/%Y %I:%M:%S %p\").\n",
        "4. Mostrar los casos totales para cada tipo de crimen de forma ascendente, emplee:\n",
        "   df.groupby(columna).Date.count()\n",
        "   \n",
        "   sort_values()\n",
        "5. Ordenar los valores por orden alfabetico de Primary type\n",
        "6. Mostrar de la fila 100 a la 120\n",
        "6. Realizar una visualización de los datos anteriores.Emplee la libreria  seaborn con un grafico tipo barplot. Ej.\n",
        "   ax = sns.barplot(x = \"contador\", y=\"Primary Type\", data = datos)"
      ]
    },
    {
      "cell_type": "code",
      "metadata": {
        "id": "_echORk2SGk3"
      },
      "source": [
        "path=\"https://docs.google.com/spreadsheets/d/e/2PACX-1vRb7vxmxBadpOnkV4iQCXK18iDNqNzLACnmNNiTFY3yuWrhYdeGfPbvOm_KGlLmrdxUw6C15tTE6JsI/pub?output=csv\"\n",
        "df = pd.read_csv(path)"
      ],
      "execution_count": 157,
      "outputs": []
    },
    {
      "cell_type": "code",
      "metadata": {
        "id": "fppTBj7TUPmr"
      },
      "source": [
        "df"
      ],
      "execution_count": null,
      "outputs": []
    },
    {
      "cell_type": "code",
      "metadata": {
        "id": "iM9jhgkNubC6"
      },
      "source": [
        "del df['Unnamed: 0'] #Borrado de la columna Unnamed: 0"
      ],
      "execution_count": 159,
      "outputs": []
    },
    {
      "cell_type": "code",
      "metadata": {
        "id": "8hYKuulAuqsI"
      },
      "source": [
        "df.describe()"
      ],
      "execution_count": null,
      "outputs": []
    },
    {
      "cell_type": "code",
      "metadata": {
        "id": "TCmhDHK4VK3e"
      },
      "source": [
        "df.Date = pd.to_datetime(df.Date, format=\"%m/%d/%Y %I:%M:%S %p\") #Convierte la columna date a formato fecha"
      ],
      "execution_count": 161,
      "outputs": []
    },
    {
      "cell_type": "code",
      "metadata": {
        "id": "JMRqunKrWH0S"
      },
      "source": [
        "datos_info = df.groupby(\"Primary Type\").Date.count().sort_values(ascending = True) #Se muestran los casos totales"
      ],
      "execution_count": 162,
      "outputs": []
    },
    {
      "cell_type": "code",
      "metadata": {
        "id": "gJNTexOhZQLk"
      },
      "source": [
        "datos_info = datos_info.reset_index() "
      ],
      "execution_count": 163,
      "outputs": []
    },
    {
      "cell_type": "code",
      "metadata": {
        "id": "O4SNjo2JXTwN"
      },
      "source": [
        "ord_primary_type = df.sort_values(['Primary Type'],ascending = True)  #Ordenar alfabeticamente la columna primary_type\n",
        "ord_primary_type"
      ],
      "execution_count": null,
      "outputs": []
    },
    {
      "cell_type": "code",
      "metadata": {
        "id": "THNg_MIezCLg"
      },
      "source": [
        "df.iloc[100:121]  #Mostrar las filas de la 100 a la 120"
      ],
      "execution_count": null,
      "outputs": []
    },
    {
      "cell_type": "code",
      "metadata": {
        "id": "ud6imI8sYGTo"
      },
      "source": [
        "import seaborn as sns"
      ],
      "execution_count": 166,
      "outputs": []
    },
    {
      "cell_type": "code",
      "metadata": {
        "id": "TcnwoPZ9XfvM"
      },
      "source": [
        "datos_info = datos_info.rename(columns={\"Date\":\"Contador\"}) #Se renombra la columna Date por Contador\n",
        "datos_info"
      ],
      "execution_count": null,
      "outputs": []
    },
    {
      "cell_type": "code",
      "metadata": {
        "id": "oaZU__5OWycH"
      },
      "source": [
        "ax = sns.barplot(x = \"Contador\", y=\"Primary Type\", data = datos_info)"
      ],
      "execution_count": null,
      "outputs": []
    },
    {
      "cell_type": "markdown",
      "metadata": {
        "id": "EaZqzCyOJD3Z"
      },
      "source": [
        "# Problema 3\n",
        "\n",
        "1. Leer el dataset country_vaccinations.csv  y filtrar los datos para Colombia\n",
        "2. Crear un csv con los datos para colombia\n",
        "3. Realizar una comparacion con los paises latinoamericanos. \n",
        "4. A traves de mascaras determinar el numero de vacunados en el intervalo  [1.5E6, 2.0E6]\n"
      ]
    },
    {
      "cell_type": "code",
      "metadata": {
        "id": "w__-aPP4yLgG"
      },
      "source": [
        "path=\"https://docs.google.com/spreadsheets/d/e/2PACX-1vTPzm7WxZsolhDlqRVqoMW_pJoU752utW_Yh34LNgLtWBlij5gHJAM2U58MVdjYe0eU7IbRkUoO7xlq/pub?output=csv\"\n",
        "df = pd.read_csv(path)"
      ],
      "execution_count": 169,
      "outputs": []
    },
    {
      "cell_type": "code",
      "metadata": {
        "id": "9gSefOeiyiaa"
      },
      "source": [
        "df"
      ],
      "execution_count": null,
      "outputs": []
    },
    {
      "cell_type": "code",
      "metadata": {
        "id": "08rwoWezyjQr"
      },
      "source": [
        "#Dataframe filtrado solo con Colombia\n",
        "\n",
        "filtered_df = df.loc[df['country'].str.contains('Colombia')] \n",
        "df_col = filtered_df[['country','people_vaccinated']]\n",
        "filtered_df"
      ],
      "execution_count": null,
      "outputs": []
    },
    {
      "cell_type": "code",
      "metadata": {
        "id": "n0Hcbeyuzkj5"
      },
      "source": [
        "#Se almacena el csv con los datos para Colombia\n",
        "filtered_df.reset_index().to_csv('Filtrados_col.csv',header=True, index=False) "
      ],
      "execution_count": 172,
      "outputs": []
    },
    {
      "cell_type": "code",
      "metadata": {
        "id": "2P8aS2-zB975"
      },
      "source": [
        "#Filtro los paises latinoamericanos seleccionados y tomo solo las columnas country y people_vaccinated\n",
        "filtered_df_arg = df.loc[df['country'].str.contains('Argentina')]\n",
        "df_arg = filtered_df_arg[['country','people_vaccinated']]\n",
        "\n",
        "filtered_df_chl = df.loc[df['country'].str.contains('Chile')]\n",
        "df_chl = filtered_df_chl[['country','people_vaccinated']]\n",
        "\n",
        "filtered_df_blv = df.loc[df['country'].str.contains('Bolivia')]\n",
        "df_blv = filtered_df_blv[['country','people_vaccinated']]\n",
        "\n",
        "filtered_df_bzl = df.loc[df['country'].str.contains('Brazil')]\n",
        "df_bzl = filtered_df_bzl[['country','people_vaccinated']]\n",
        "\n",
        "filtered_df_mx = df.loc[df['country'].str.contains('Mexico')]\n",
        "df_mx = filtered_df_mx[['country','people_vaccinated']]"
      ],
      "execution_count": 173,
      "outputs": []
    },
    {
      "cell_type": "code",
      "metadata": {
        "id": "cPAMTajt_Msp"
      },
      "source": [
        "#Se obtiene el ultimo valor que muestra las personas vacunadas hasta ese momento\n",
        "ult_col = df_col.loc[df_col.index[-1], \"people_vaccinated\"]\n",
        "ult_arg = df_arg.loc[df_arg.index[-1], \"people_vaccinated\"]\n",
        "ult_chl = df_chl.loc[df_chl.index[-1], \"people_vaccinated\"]\n",
        "ult_blv = df_blv.loc[df_blv.index[-1], \"people_vaccinated\"]\n",
        "ult_bzl = df_bzl.loc[df_bzl.index[-1], \"people_vaccinated\"]\n",
        "ult_mx = df_mx.loc[df_mx.index[-1], \"people_vaccinated\"]\n",
        "\n",
        "#Listas con los paises seleccionados y el valor anterior\n",
        "countries = ['colombia','argentina','chile','bolivia','brazil','mexico']\n",
        "p_vacci = [ult_col, ult_arg, ult_chl, ult_blv, ult_bzl, ult_mx]\n",
        "\n",
        "#Directorio para crear un nuevo dataframe y realizar grafica de comparación\n",
        "dic = {'country': countries, 'people_vaccinated': p_vacci}\n",
        "df1 = pd.DataFrame(dic)\n",
        "df1"
      ],
      "execution_count": null,
      "outputs": []
    },
    {
      "cell_type": "code",
      "metadata": {
        "id": "REPf63ghfHDp"
      },
      "source": [
        "ax = sns.barplot(x = \"people_vaccinated\", y=\"country\", data = df1)"
      ],
      "execution_count": null,
      "outputs": []
    },
    {
      "cell_type": "code",
      "metadata": {
        "id": "OGZOwvMbjtIw"
      },
      "source": [
        "#Vacunados totales sumando los diarios\n",
        "stats = df.groupby('country').daily_vaccinations.sum().sort_values(ascending=True)\n",
        "stats"
      ],
      "execution_count": null,
      "outputs": []
    },
    {
      "cell_type": "code",
      "metadata": {
        "id": "UnLHk9cVtH_m"
      },
      "source": [
        "tf1 = (1.5e6 <= stats)\n",
        "tf2 = (stats <= 2.0e6)\n",
        "tf = tf1 == tf2\n",
        "#Aplicacion de la mascara\n",
        "stats[tf]"
      ],
      "execution_count": null,
      "outputs": []
    }
  ]
}