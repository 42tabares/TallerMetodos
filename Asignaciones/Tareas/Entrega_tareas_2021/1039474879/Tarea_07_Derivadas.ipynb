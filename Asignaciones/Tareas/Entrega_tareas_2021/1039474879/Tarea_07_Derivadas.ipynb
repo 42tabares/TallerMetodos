{
  "nbformat": 4,
  "nbformat_minor": 0,
  "metadata": {
    "colab": {
      "name": "Tarea_07_Derivadas.ipynb",
      "provenance": [],
      "collapsed_sections": []
    },
    "kernelspec": {
      "name": "python3",
      "display_name": "Python 3"
    }
  },
  "cells": [
    {
      "cell_type": "markdown",
      "metadata": {
        "id": "5F2Sbo46dUOp"
      },
      "source": [
        "# Tarea 07: Derivadas \n",
        "## Métodos Computacionales: Taller\n",
        "### Gabriel Cataño Sánchez"
      ]
    },
    {
      "cell_type": "code",
      "metadata": {
        "id": "P2nPTRL6kOKi"
      },
      "source": [
        "#LIBRERIAS\n",
        "\n",
        "import numpy as np\n",
        "import sympy as sp\n",
        "import scipy as sc\n",
        "import pandas as pd\n",
        "import sympy as sp\n",
        "from scipy import interpolate\n",
        "from scipy.misc import derivative\n",
        "from sympy import init_printing\n",
        "import matplotlib.pylab as plt\n",
        "init_printing() "
      ],
      "execution_count": 1,
      "outputs": []
    },
    {
      "cell_type": "markdown",
      "metadata": {
        "id": "pBgX4KV08EEw"
      },
      "source": [
        "# Tarea Derivada\n",
        "\n",
        "Los siguientes datos, son datos experimentales de un péndulo simple tomadas a través de una cámara web y procesados con el programa kinovea. Dados los datos en formato csv, se pide  construir un programa que realice lo siguiente: \n",
        "\n",
        "1. Leer el archivo csv a través de un Data Frame de Pandas, las columnas del data frame deberan ser:\n",
        "\n",
        "col=[\"Tiempo[ms]\", \"AnguloDeg\", \"AnguloRad\"]\n",
        "\n",
        "2. Construya una grafica de :\n",
        "plt.plot(df['Tiempo[ms]'], df['AnguloDeg'],\"b-\")\n",
        "\n",
        "¿Qué puede concluir respecto al movimiento del pendulo?\n",
        "\n",
        "\n",
        "3. Calculo la transformada de fourier de los datos obtenidos, para encontrar la frecuencia de oscilacion del sistema, para ello realice lo siguiente:\n",
        "\n",
        "- importe la librerias de scipy fft, fftfreq.\n",
        "- Aplique la transformada de fourier como sigue:\n",
        "\n",
        "```\n",
        "tf = fft(df['AnguloRad'].values)\n",
        "T = 33E-3 #Paso del tiempo\n",
        "N = len(df['Tiempo[ms]'])\n",
        "xf = fftfreq(N, T)[:N//2]\n",
        "\n",
        "plt.plot(xf[1:N//2], np.abs(tf[1:N//2]),\"o-\")\n",
        "plt.ylabel(\"TF\")\n",
        "plt.xlabel(\"Frecuencia\")\n",
        "plt.xlim(0, 2)\n",
        "\n",
        "```\n",
        "\n",
        "-  Para las valores en el eje x y eje y de la anterior gráfica, realice una interpolación. \n",
        "\n",
        "- Encuentra el valor máximo empleando metodos de diferenciación.\n",
        "\n",
        "\n",
        "\n",
        "\n",
        "\n"
      ]
    },
    {
      "cell_type": "code",
      "metadata": {
        "id": "TeqNmFGqG3TW"
      },
      "source": [
        "#Dirección web del archivo csv\n",
        "\n",
        "route = \"https://docs.google.com/spreadsheets/d/e/2PACX-1vT8btHZ-A6ChzV5Rx_CQmCzbhO10J7R6LvQAyHx9qOCoCDAL9RJgaGUATf2z5lTMo-SjByvrnaX02Cz/pub?output=csv\"\n",
        "\n",
        "#Lectura del archivo csv en DataFrame\n",
        "df = pd.read_csv(route,\";\")"
      ],
      "execution_count": 2,
      "outputs": []
    },
    {
      "cell_type": "code",
      "metadata": {
        "id": "e1WzA7aPHFH7"
      },
      "source": [
        "#Nombres de las columnas para después renombrar las columnas del DataFrame\n",
        "col = [\"Tiempo[ms]\", \"AnguloDeg\", \"AnguloRad\"]\n",
        "#1. Como hacer un rename \n",
        "# https://pandas.pydata.org/pandas-docs/stable/reference/api/pandas.DataFrame.rename.html\n",
        "\n",
        "#2. Como pasar los valores del angulo que son tipo string a float "
      ],
      "execution_count": 3,
      "outputs": []
    },
    {
      "cell_type": "code",
      "metadata": {
        "colab": {
          "base_uri": "https://localhost:8080/",
          "height": 419
        },
        "id": "tb4CwYCEUifF",
        "outputId": "4c82c083-0dc4-4163-a398-9ab5b595a0c6"
      },
      "source": [
        "#Asignación de las columdas del archivo a las columnas renombradas, visualización del DataFrame\n",
        "df = df.rename(columns = {'Tiempo (ms)':\"Tiempo[ms]\", 'Ángulo 1,':'AnguloDeg'})\n",
        "df"
      ],
      "execution_count": 4,
      "outputs": [
        {
          "output_type": "execute_result",
          "data": {
            "text/html": [
              "<div>\n",
              "<style scoped>\n",
              "    .dataframe tbody tr th:only-of-type {\n",
              "        vertical-align: middle;\n",
              "    }\n",
              "\n",
              "    .dataframe tbody tr th {\n",
              "        vertical-align: top;\n",
              "    }\n",
              "\n",
              "    .dataframe thead th {\n",
              "        text-align: right;\n",
              "    }\n",
              "</style>\n",
              "<table border=\"1\" class=\"dataframe\">\n",
              "  <thead>\n",
              "    <tr style=\"text-align: right;\">\n",
              "      <th></th>\n",
              "      <th>Tiempo[ms]</th>\n",
              "      <th>AnguloDeg</th>\n",
              "    </tr>\n",
              "  </thead>\n",
              "  <tbody>\n",
              "    <tr>\n",
              "      <th>0</th>\n",
              "      <td>9</td>\n",
              "      <td>59,289611816406</td>\n",
              "    </tr>\n",
              "    <tr>\n",
              "      <th>1</th>\n",
              "      <td>42</td>\n",
              "      <td>59,9823265075684</td>\n",
              "    </tr>\n",
              "    <tr>\n",
              "      <th>2</th>\n",
              "      <td>75</td>\n",
              "      <td>61,2374534606934</td>\n",
              "    </tr>\n",
              "    <tr>\n",
              "      <th>3</th>\n",
              "      <td>108</td>\n",
              "      <td>63,49247741699</td>\n",
              "    </tr>\n",
              "    <tr>\n",
              "      <th>4</th>\n",
              "      <td>142</td>\n",
              "      <td>65,3887710571289</td>\n",
              "    </tr>\n",
              "    <tr>\n",
              "      <th>...</th>\n",
              "      <td>...</td>\n",
              "      <td>...</td>\n",
              "    </tr>\n",
              "    <tr>\n",
              "      <th>2842</th>\n",
              "      <td>94709</td>\n",
              "      <td>94,9375762939453</td>\n",
              "    </tr>\n",
              "    <tr>\n",
              "      <th>2843</th>\n",
              "      <td>94743</td>\n",
              "      <td>96,479850769043</td>\n",
              "    </tr>\n",
              "    <tr>\n",
              "      <th>2844</th>\n",
              "      <td>94776</td>\n",
              "      <td>97,9406890869141</td>\n",
              "    </tr>\n",
              "    <tr>\n",
              "      <th>2845</th>\n",
              "      <td>94809</td>\n",
              "      <td>99,3180923461914</td>\n",
              "    </tr>\n",
              "    <tr>\n",
              "      <th>2846</th>\n",
              "      <td>94843</td>\n",
              "      <td>100,637817382813</td>\n",
              "    </tr>\n",
              "  </tbody>\n",
              "</table>\n",
              "<p>2847 rows × 2 columns</p>\n",
              "</div>"
            ],
            "text/plain": [
              "      Tiempo[ms]         AnguloDeg\n",
              "0              9   59,289611816406\n",
              "1             42  59,9823265075684\n",
              "2             75  61,2374534606934\n",
              "3            108    63,49247741699\n",
              "4            142  65,3887710571289\n",
              "...          ...               ...\n",
              "2842       94709  94,9375762939453\n",
              "2843       94743   96,479850769043\n",
              "2844       94776  97,9406890869141\n",
              "2845       94809  99,3180923461914\n",
              "2846       94843  100,637817382813\n",
              "\n",
              "[2847 rows x 2 columns]"
            ]
          },
          "metadata": {},
          "execution_count": 4
        }
      ]
    },
    {
      "cell_type": "code",
      "metadata": {
        "colab": {
          "base_uri": "https://localhost:8080/"
        },
        "id": "-47fs6x8JKtJ",
        "outputId": "bdc691e5-bc75-444f-d070-76a5bc7d4eae"
      },
      "source": [
        "#Para ver que los valores de lo ángulos no tiene formato float, punto flotante sino una ','\n",
        "a=\"3.0\"\n",
        "(df[\"AnguloDeg\"].values)"
      ],
      "execution_count": 5,
      "outputs": [
        {
          "output_type": "execute_result",
          "data": {
            "text/plain": [
              "array(['59,289611816406', '59,9823265075684', '61,2374534606934', ...,\n",
              "       '97,9406890869141', '99,3180923461914', '100,637817382813'],\n",
              "      dtype=object)"
            ]
          },
          "metadata": {},
          "execution_count": 5
        }
      ]
    },
    {
      "cell_type": "code",
      "metadata": {
        "id": "6Nb5IKHXJmz4"
      },
      "source": [
        "#Reemplaza las comas por puntos de los valores\n",
        "eval_= np.vectorize(eval )\n",
        "d = eval_(df[\"AnguloDeg\"].str.replace(\",\", \".\"))"
      ],
      "execution_count": 7,
      "outputs": []
    },
    {
      "cell_type": "code",
      "metadata": {
        "colab": {
          "base_uri": "https://localhost:8080/"
        },
        "id": "k9R-7br8Jy9r",
        "outputId": "e427cf2c-0f64-4360-b2a7-1617f3cd51e0"
      },
      "source": [
        "#Corrobora que los valores hallan quedado en formato punto flotante\n",
        "type(d[0])"
      ],
      "execution_count": 8,
      "outputs": [
        {
          "output_type": "execute_result",
          "data": {
            "text/plain": [
              "numpy.float64"
            ]
          },
          "metadata": {},
          "execution_count": 8
        }
      ]
    },
    {
      "cell_type": "code",
      "metadata": {
        "id": "qnC4uNaZKIGz"
      },
      "source": [
        "#Hacemos el reemplazo en la columna del DataFrame, cambiando las comas por puntos flotantes\n",
        "df[\"AnguloDeg\"] = df[\"AnguloDeg\"].str.replace(\",\", \".\").astype(\"float64\")"
      ],
      "execution_count": 9,
      "outputs": []
    },
    {
      "cell_type": "code",
      "metadata": {
        "id": "tVfn_E8nLRRN"
      },
      "source": [
        "#Columna con los ángulos en grados convertidos a radianes\n",
        "df[\"AnguloRad\"] = np.deg2rad(df[\"AnguloDeg\"].values )"
      ],
      "execution_count": 10,
      "outputs": []
    },
    {
      "cell_type": "code",
      "metadata": {
        "id": "xlvt1wQqLRvc",
        "colab": {
          "base_uri": "https://localhost:8080/",
          "height": 204
        },
        "outputId": "2194b1bd-aeb1-4d22-9ed2-4775839e7089"
      },
      "source": [
        "#Resta de pi/2 debido a la forma en que se tomaron los ángulos\n",
        "df[\"AnguloRad\"] = df[\"AnguloRad\"] - np.pi/2\n",
        "\n",
        "#Muestra los primeros valores del DataFrame completo\n",
        "df.head()"
      ],
      "execution_count": 11,
      "outputs": [
        {
          "output_type": "execute_result",
          "data": {
            "text/html": [
              "<div>\n",
              "<style scoped>\n",
              "    .dataframe tbody tr th:only-of-type {\n",
              "        vertical-align: middle;\n",
              "    }\n",
              "\n",
              "    .dataframe tbody tr th {\n",
              "        vertical-align: top;\n",
              "    }\n",
              "\n",
              "    .dataframe thead th {\n",
              "        text-align: right;\n",
              "    }\n",
              "</style>\n",
              "<table border=\"1\" class=\"dataframe\">\n",
              "  <thead>\n",
              "    <tr style=\"text-align: right;\">\n",
              "      <th></th>\n",
              "      <th>Tiempo[ms]</th>\n",
              "      <th>AnguloDeg</th>\n",
              "      <th>AnguloRad</th>\n",
              "    </tr>\n",
              "  </thead>\n",
              "  <tbody>\n",
              "    <tr>\n",
              "      <th>0</th>\n",
              "      <td>9</td>\n",
              "      <td>59.289612</td>\n",
              "      <td>-0.535997</td>\n",
              "    </tr>\n",
              "    <tr>\n",
              "      <th>1</th>\n",
              "      <td>42</td>\n",
              "      <td>59.982327</td>\n",
              "      <td>-0.523907</td>\n",
              "    </tr>\n",
              "    <tr>\n",
              "      <th>2</th>\n",
              "      <td>75</td>\n",
              "      <td>61.237453</td>\n",
              "      <td>-0.502001</td>\n",
              "    </tr>\n",
              "    <tr>\n",
              "      <th>3</th>\n",
              "      <td>108</td>\n",
              "      <td>63.492477</td>\n",
              "      <td>-0.462644</td>\n",
              "    </tr>\n",
              "    <tr>\n",
              "      <th>4</th>\n",
              "      <td>142</td>\n",
              "      <td>65.388771</td>\n",
              "      <td>-0.429547</td>\n",
              "    </tr>\n",
              "  </tbody>\n",
              "</table>\n",
              "</div>"
            ],
            "text/plain": [
              "   Tiempo[ms]  AnguloDeg  AnguloRad\n",
              "0           9  59.289612  -0.535997\n",
              "1          42  59.982327  -0.523907\n",
              "2          75  61.237453  -0.502001\n",
              "3         108  63.492477  -0.462644\n",
              "4         142  65.388771  -0.429547"
            ]
          },
          "metadata": {},
          "execution_count": 11
        }
      ]
    },
    {
      "cell_type": "code",
      "metadata": {
        "colab": {
          "base_uri": "https://localhost:8080/",
          "height": 457
        },
        "id": "p9F3PLJALfxh",
        "outputId": "fa3f9514-cc40-49ea-8655-d123f7307492"
      },
      "source": [
        "#Gráfico de la variación del ángulo en función del tiempo\n",
        "\n",
        "plt.figure(figsize=(12,6))\n",
        "plt.plot(df[\"Tiempo[ms]\"], df[\"AnguloRad\"], \"r.\")\n",
        "plt.xlabel(\"$Tiempo$ $[ms]$\", fontsize=15)\n",
        "plt.ylabel(\"$Ángulo$ $[rad]$\", fontsize=15)\n",
        "plt.title(\"Ángulo del Péndulo en Función del Tiempo\", fontsize=18)\n",
        "plt.legend()\n",
        "plt.grid()\n",
        "plt.xlim(0, 30000 )"
      ],
      "execution_count": 12,
      "outputs": [
        {
          "output_type": "stream",
          "name": "stderr",
          "text": [
            "No handles with labels found to put in legend.\n"
          ]
        },
        {
          "output_type": "execute_result",
          "data": {
            "image/png": "[encoded data removed]",
            "text/latex": "$\\displaystyle \\left( 0.0, \\  30000.0\\right)$",
            "text/plain": [
              "(0.0, 30000.0)"
            ]
          },
          "metadata": {},
          "execution_count": 12
        },
        {
          "output_type": "display_data",
          "data": {
            "image/png": "[encoded data removed]",
            "text/plain": [
              "<Figure size 864x432 with 1 Axes>"
            ]
          },
          "metadata": {
            "needs_background": "light"
          }
        }
      ]
    },
    {
      "cell_type": "code",
      "metadata": {
        "id": "3Zlw0fsFNo3n"
      },
      "source": [
        "#Importar libreria para hacer la Transformada Rápida de Fourier \n",
        "from scipy.fft import fft, fftfreq"
      ],
      "execution_count": 13,
      "outputs": []
    },
    {
      "cell_type": "code",
      "metadata": {
        "colab": {
          "base_uri": "https://localhost:8080/",
          "height": 395
        },
        "id": "wLgV5RziLn8o",
        "outputId": "fd9e7a4c-780b-4b75-ff31-89b6fd2811e1"
      },
      "source": [
        "#Transformada de Fourier a los valores de los ángulos\n",
        "tf = fft(df['AnguloRad'].values)\n",
        "T = 33E-3 #Paso del tiempo\n",
        "N = len(df['Tiempo[ms]'])\n",
        "\n",
        "#Cálculo de las frecuencias\n",
        "xf = fftfreq(N, T)[:N//2]\n",
        "\n",
        "#Gráfica del valor absoluto de la transformada en función de la frecuencia\n",
        "plt.figure(figsize=(12,6))\n",
        "plt.plot(xf[1:N//2], np.abs(tf[1:N//2]),\"bo-\")\n",
        "plt.ylabel(\"$Transformada$ $de$ $Fourier$\", fontsize=15)\n",
        "plt.xlabel(\"$Frecuencia$ $[Hz]$\",fontsize=15)\n",
        "plt.xlim(0.6, 0.75)\n",
        "plt.grid()"
      ],
      "execution_count": 14,
      "outputs": [
        {
          "output_type": "display_data",
          "data": {
            "image/png": "[encoded data removed]",
            "text/plain": [
              "<Figure size 864x432 with 1 Axes>"
            ]
          },
          "metadata": {
            "needs_background": "light"
          }
        }
      ]
    },
    {
      "cell_type": "code",
      "metadata": {
        "id": "JaAjQOvcOC-6"
      },
      "source": [
        "#Libreria para hacer interpolación con spline cúbicos\n",
        "from scipy.interpolate import CubicSpline"
      ],
      "execution_count": 15,
      "outputs": []
    },
    {
      "cell_type": "code",
      "metadata": {
        "id": "UBNzNonNQFBj"
      },
      "source": [
        "#Interpolación de la transformada y las frecuencias\n",
        "cs = CubicSpline(xf[1:N//2], np.abs(tf[1:N//2]))"
      ],
      "execution_count": 51,
      "outputs": []
    },
    {
      "cell_type": "code",
      "metadata": {
        "colab": {
          "base_uri": "https://localhost:8080/",
          "height": 415
        },
        "id": "wWMmIjR5SIGN",
        "outputId": "cf5692f5-4151-43f8-b8b7-db11b327ba7b"
      },
      "source": [
        "#Gráfica del valor absoluto de la transformada y de la interpolación multiplicada por menos\n",
        "plt.figure(figsize=(12,6))\n",
        "plt.plot(xf[1:N//2], np.abs(tf[1:N//2]),\"r.\", label=\"Transformada de Fourier\")\n",
        "plt.plot(abs(xf[1:N//2]), -abs(cs(xf[1:N//2])),\"b\", label= \"Interpolación CubicSpline\" )\n",
        "plt.xlabel(\"$Frecuencia$ $[Hz]$\", fontsize=15)\n",
        "plt.ylabel(\"$Transformada$ $de$ $Fourier$\", fontsize=15) \n",
        "plt.legend(fontsize=14)\n",
        "plt.xlim(0.25, 1)"
      ],
      "execution_count": 20,
      "outputs": [
        {
          "output_type": "execute_result",
          "data": {
            "image/png": "[encoded data removed]",
            "text/latex": "$\\displaystyle \\left( 0.25, \\  1.0\\right)$",
            "text/plain": [
              "(0.25, 1.0)"
            ]
          },
          "metadata": {},
          "execution_count": 20
        },
        {
          "output_type": "display_data",
          "data": {
            "image/png": "[encoded data removed]",
            "text/plain": [
              "<Figure size 864x432 with 1 Axes>"
            ]
          },
          "metadata": {
            "needs_background": "light"
          }
        }
      ]
    },
    {
      "cell_type": "code",
      "metadata": {
        "id": "QjLNJf5YSJEb"
      },
      "source": [
        "#Libreria para optimización de funciones\n",
        "from scipy import optimize"
      ],
      "execution_count": 21,
      "outputs": []
    },
    {
      "cell_type": "code",
      "metadata": {
        "colab": {
          "base_uri": "https://localhost:8080/"
        },
        "id": "o0xqzvEySlAI",
        "outputId": "d271e686-e280-4728-f72e-9ee8c6c2d179"
      },
      "source": [
        "#Interpolación de el negativo de la Transformada de Fourier y las frecuencias\n",
        "cs1 = CubicSpline(xf[1:N//2], -np.abs(tf[1:N//2]))\n",
        "\n",
        "#Halla el minimo de la función interpolada\n",
        "min = optimize.fmin_powell(cs1, 0.2)"
      ],
      "execution_count": 48,
      "outputs": [
        {
          "output_type": "stream",
          "name": "stdout",
          "text": [
            "Optimization terminated successfully.\n",
            "         Current function value: -417.867925\n",
            "         Iterations: 2\n",
            "         Function evaluations: 44\n"
          ]
        }
      ]
    },
    {
      "cell_type": "code",
      "metadata": {
        "colab": {
          "base_uri": "https://localhost:8080/",
          "height": 37
        },
        "id": "JSp45yTmS-Wb",
        "outputId": "44c17f65-a1fe-4588-f7dd-50cfef7fc61f"
      },
      "source": [
        "#Máximo de la Transformada de Fourier\n",
        "abs(cs1(min))"
      ],
      "execution_count": 49,
      "outputs": [
        {
          "output_type": "execute_result",
          "data": {
            "image/png": "[encoded data removed]",
            "text/latex": "$\\displaystyle 417.867924631318$",
            "text/plain": [
              "417.86792463131843"
            ]
          },
          "metadata": {},
          "execution_count": 49
        }
      ]
    },
    {
      "cell_type": "code",
      "metadata": {
        "colab": {
          "base_uri": "https://localhost:8080/"
        },
        "id": "pjE-cevDToGO",
        "outputId": "d51136c0-ef20-4d8c-b2a2-f9da3730766e"
      },
      "source": [
        "#Punto donde se alcanza el máximo\n",
        "min"
      ],
      "execution_count": 24,
      "outputs": [
        {
          "output_type": "execute_result",
          "data": {
            "text/plain": [
              "array(0.67156)"
            ]
          },
          "metadata": {},
          "execution_count": 24
        }
      ]
    },
    {
      "cell_type": "code",
      "metadata": {
        "colab": {
          "base_uri": "https://localhost:8080/"
        },
        "id": "s4_3FOfOTu-W",
        "outputId": "a5c3431b-d9bd-4aa1-c24d-5fbff1b13cbe"
      },
      "source": [
        "#Interpolación de la Transformada con CubicSpline\n",
        "P = CubicSpline(xf[1:N//2], np.abs(tf[1:N//2]))\n",
        "\n",
        "#Derivada de la función interpolada \n",
        "dP = P.derivative()\n",
        "\n",
        "#Cálculo de la raíz, para ver donde hay un máximo o mínimo en la función original\n",
        "root = optimize.bisect(dP,0.6,0.7)\n",
        "print(f\"Punto crítico de la función en: {root:.5}\")\n",
        "\n",
        "#Evaluar la función en el punto crítico\n",
        "p = P(root)\n",
        "print(f\"Valor de la función evaluada en el punto crítico: {p:.5} \\n El valor hallado es máximo\")"
      ],
      "execution_count": 60,
      "outputs": [
        {
          "output_type": "stream",
          "name": "stdout",
          "text": [
            "Punto crítico de la función en: 0.67156\n",
            "Valor de la función evaluada en el punto crítico: 417.87 \n",
            " El valor hallado es máximo\n"
          ]
        }
      ]
    },
    {
      "cell_type": "code",
      "metadata": {
        "colab": {
          "base_uri": "https://localhost:8080/",
          "height": 415
        },
        "id": "3nB3CEc3ke7X",
        "outputId": "aa90ecae-3e81-4ec7-a42b-d0e209306f97"
      },
      "source": [
        "plt.figure(figsize=(12,6))\n",
        "plt.plot(xf[1:N//2], dP(xf[1:N//2]), 'b-', label = \"Derivada de la Transformada\")\n",
        "plt.plot(root, dP(root), 'ro', label= \"Punto Crítico\")\n",
        "plt.xlabel(\"$Frecuencia$ $[Hz]$\", fontsize=15)\n",
        "plt.ylabel(\"$Derivada$ $TF$\", fontsize=15)\n",
        "plt.grid()\n",
        "plt.legend(fontsize=14)\n",
        "plt.xlim(0.25, 1)"
      ],
      "execution_count": 62,
      "outputs": [
        {
          "output_type": "execute_result",
          "data": {
            "image/png": "[encoded data removed]",
            "text/latex": "$\\displaystyle \\left( 0.25, \\  1.0\\right)$",
            "text/plain": [
              "(0.25, 1.0)"
            ]
          },
          "metadata": {},
          "execution_count": 62
        },
        {
          "output_type": "display_data",
          "data": {
            "image/png": "[encoded data removed]",
            "text/plain": [
              "<Figure size 864x432 with 1 Axes>"
            ]
          },
          "metadata": {
            "needs_background": "light"
          }
        }
      ]
    },
    {
      "cell_type": "markdown",
      "metadata": {
        "id": "Glf1C_lUeKCt"
      },
      "source": [
        "Concluimos entonces que la frecuencia de oscilación del sistema es: $0.67$ $H$z, por lo tanto el periodo del péndulo es : $1.49$ $s$."
      ]
    },
    {
      "cell_type": "code",
      "metadata": {
        "id": "QLrUUoe2e7Y5"
      },
      "source": [
        ""
      ],
      "execution_count": null,
      "outputs": []
    }
  ]
}