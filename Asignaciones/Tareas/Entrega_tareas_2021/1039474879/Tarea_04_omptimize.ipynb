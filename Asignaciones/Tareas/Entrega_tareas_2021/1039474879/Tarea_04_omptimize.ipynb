{
 "cells": [
  {
   "cell_type": "markdown",
   "metadata": {},
   "source": [
    "# Tarea 04 Métodos Computacionales\n",
    "## Gabriel Cataño Sánchez\n",
    "### CC: 1039474879"
   ]
  },
  {
   "cell_type": "markdown",
   "metadata": {
    "id": "pQSt9-mvLVMa"
   },
   "source": [
    "# Taller Resolver los siguientes problemas, por el metodo de la biseccion, Punto fijo, newton, secante, etc.\n",
    "\n",
    "1. *Encontrar* los ceros de $e^{x}-2= \\cos(e^x-2)$\n",
    "\n",
    "2. Una particula parte del reposo sobre un plano inclinado uniforme, cuyo ángulo \n",
    "$\\theta$ cambia con una rapidez constante de : \n",
    "\n",
    "\\begin{equation}\n",
    "\\frac{\\mathrm{d}\\theta}{\\mathrm{d} t} = \\omega < 0\n",
    "\\end{equation}\n",
    "\n",
    "Al final de t segundos, la posición del objeto esta dada por: \n",
    "\n",
    "\n",
    "\\begin{equation}\n",
    "x(t) = -\\frac{g}{2\\omega^2} \\left( \\frac{e^{\\omega t}-e^{-\\omega t}}{2}\\right) -\\sin\\omega t\n",
    "\\end{equation}\n",
    "\n",
    "\n",
    "Suponga que la partícula se desplazo 0.51m en 1s. Encuentre, con una exactitud de $10^{-5}$, la rapidez $\\omega$ con que $\\theta$ cambia. Suponga que $g=9.76m/s$\n",
    "\n",
    "\n",
    "![Plano Inclinado](https://raw.githubusercontent.com/hernansalinas/Metodos_Computacionales_taller/main/sesiones/images/ecuacion_1_variable/Fig0.png)\n",
    "\n",
    "\n",
    "\n",
    "\n",
    "3. Un reservorio de longitud L tiene una seccion transveral en forma de semicirculo con radio r.\n",
    "\n",
    "\\begin{equation}\n",
    "V=L \\left ( \\frac{1}{2}\\pi r^2 -r^2 \\arcsin{\\frac{h}{r}}-h(r^2-h^2) ^{1/2} \\right)\n",
    "\\end{equation}\n",
    "\n",
    "Determinar la profundidad del agua para L=10pies, r=1pies, V=12.4pies\n",
    "\n",
    "\n",
    "![Reservorio](https://raw.githubusercontent.com/hernansalinas/Metodos_Computacionales_taller/main/sesiones/images/ecuacion_1_variable/Fig1.png)\n",
    "\n",
    "\n",
    "\n",
    "4.Resolver la siguiente situación\n",
    "\n",
    "En el diseño de los vehiculos para todo tipo de terreno,  es necesario tener encuentra fallas cuando se trata de liberar dos tipos de obstáculos. Una es la falla por rozamiento, y ocurre cuando el vehiculo \n",
    "intenta cruzar un obstáculo que hace que su fondo toque el suelo. La otra recibie el nombre de falla por colision de la defensa delantera y ocurre cuando el vehiculo desciende por una zanja y la defensa delantera toca el suelo.\n",
    "\n",
    "\n",
    "\n",
    "La figura muestra las componentes asociados al segundo tipo  de falla. En ella se indeca el ángulo máximo $\\alpha$ que puede alcanzar un vehiculo cuando $\\beta$ es el angulo maximo en que no ocurre la falla \n",
    "por rozamiento y satisface la siguiente ecuación: \n",
    "\n",
    "\n",
    "\\begin{equation}\n",
    "A \\sin(\\alpha) \\cos(\\alpha)+B \\sin^2(\\alpha) - C \\cos(\\alpha) -  E  \\sin(\\alpha)=0\n",
    "\\end{equation}\n",
    "\n",
    "donde; \n",
    "\\begin{equation}\n",
    "A = l \\sin(\\beta)\n",
    "\\end{equation}\n",
    "\n",
    "\\begin{equation}\n",
    "B = l \\cos(\\beta)\n",
    "\\end{equation}\n",
    "\\begin{equation}\n",
    "C = (h + 0.5 D )\\sin(\\beta) - 0.5 D \\tan(\\beta)\n",
    "\\end{equation}\n",
    "\n",
    "\\begin{equation}\n",
    "E = (h + 0.5 D ) \\cos(\\beta) - 0.5 * D\n",
    "\\end{equation}\n",
    "\n",
    "\n",
    "Para $l=89$pulg, $h=49$pul, $D=55$, $\\beta=11.5$ , el angulo se aproximara a 33. Verificar este resultados\n",
    "\n",
    "\n",
    "![fallas_vehiculo](https://raw.githubusercontent.com/hernansalinas/Metodos_Computacionales_taller/main/sesiones/images/ecuacion_1_variable/Fig2.png)\n",
    "\n",
    "Referencias: Numerical Analysis Book by J. Douglas Faires and Richard L. Burden\n",
    "\n",
    "\n"
   ]
  },
  {
   "cell_type": "markdown",
   "metadata": {},
   "source": [
    "## Solución "
   ]
  },
  {
   "cell_type": "markdown",
   "metadata": {
    "id": "y3x0T5mzKE59"
   },
   "source": [
    "1. *Encontrar* los ceros de: $e^{x}-2= \\cos(e^x-2)$\n",
    "\n",
    "\\begin{equation}\n",
    "f(x) = e^{x} - 2 - \\cos(e^x-2) \n",
    "\\end{equation}"
   ]
  },
  {
   "cell_type": "code",
   "execution_count": 1,
   "metadata": {
    "executionInfo": {
     "elapsed": 1265,
     "status": "ok",
     "timestamp": 1619381116386,
     "user": {
      "displayName": "CAMILO LONDONO VERA",
      "photoUrl": "",
      "userId": "16602247040724709955"
     },
     "user_tz": 300
    },
    "id": "_5P1rf_fKlLF"
   },
   "outputs": [],
   "source": [
    "#librerias \n",
    "import numpy as np\n",
    "from scipy import optimize\n",
    "import matplotlib.pylab as plt"
   ]
  },
  {
   "cell_type": "code",
   "execution_count": 2,
   "metadata": {
    "executionInfo": {
     "elapsed": 1245,
     "status": "ok",
     "timestamp": 1619381116387,
     "user": {
      "displayName": "CAMILO LONDONO VERA",
      "photoUrl": "",
      "userId": "16602247040724709955"
     },
     "user_tz": 300
    },
    "id": "rAHMcadgKv0n"
   },
   "outputs": [],
   "source": [
    "#Funciones separadas.\n",
    "g = lambda x: np.exp(x) - 2\n",
    "h = lambda x: np.cos(np.exp(x)- 2)\n",
    "\n",
    "#Función a la que queremos encontrar raíces.\n",
    "f = lambda x: g(x) - h(x)"
   ]
  },
  {
   "cell_type": "code",
   "execution_count": 3,
   "metadata": {
    "executionInfo": {
     "elapsed": 1243,
     "status": "ok",
     "timestamp": 1619381116388,
     "user": {
      "displayName": "CAMILO LONDONO VERA",
      "photoUrl": "",
      "userId": "16602247040724709955"
     },
     "user_tz": 300
    },
    "id": "CzGPJJvTKvyd"
   },
   "outputs": [],
   "source": [
    "#Puntos en los que se evaluará la función.\n",
    "x = np.linspace(-2, 2, 100)"
   ]
  },
  {
   "cell_type": "code",
   "execution_count": 13,
   "metadata": {
    "colab": {
     "base_uri": "https://localhost:8080/",
     "height": 282
    },
    "executionInfo": {
     "elapsed": 1882,
     "status": "ok",
     "timestamp": 1619381117035,
     "user": {
      "displayName": "CAMILO LONDONO VERA",
      "photoUrl": "",
      "userId": "16602247040724709955"
     },
     "user_tz": 300
    },
    "id": "QPqPZzcLKvxd",
    "outputId": "261c3eda-9a5c-402c-8920-19cd9bb2494d"
   },
   "outputs": [
    {
     "data": {
      "text/plain": [
       "<matplotlib.legend.Legend at 0x28fa7f24670>"
      ]
     },
     "execution_count": 13,
     "metadata": {},
     "output_type": "execute_result"
    },
    {
     "data": {
      "image/png": "[encoded data removed]",
      "text/plain": [
       "<Figure size 720x432 with 1 Axes>"
      ]
     },
     "metadata": {
      "needs_background": "light"
     },
     "output_type": "display_data"
    }
   ],
   "source": [
    "#Gráfica para tener una idea en donde están las raíces.\n",
    "plt.figure(figsize = (10,6))\n",
    "plt.plot(x, g(x), label=\"$g(x)$\")\n",
    "plt.plot(x, h(x), label=\"$h(x)$\")\n",
    "plt.plot(x, g(x) - h(x), label=\"$f(x)$\")\n",
    "plt.xlabel('$x$', fontsize=12)\n",
    "plt.ylabel('$y(x)$', fontsize=12)\n",
    "plt.grid()\n",
    "plt.legend()"
   ]
  },
  {
   "cell_type": "code",
   "execution_count": 6,
   "metadata": {
    "colab": {
     "base_uri": "https://localhost:8080/"
    },
    "executionInfo": {
     "elapsed": 1877,
     "status": "ok",
     "timestamp": 1619381117036,
     "user": {
      "displayName": "CAMILO LONDONO VERA",
      "photoUrl": "",
      "userId": "16602247040724709955"
     },
     "user_tz": 300
    },
    "id": "nJWKDSosKvwY",
    "outputId": "0d070b68-ce22-4ddf-e944-8d8c319846cd"
   },
   "outputs": [
    {
     "name": "stdout",
     "output_type": "stream",
     "text": [
      "{1.007623971657722}\n"
     ]
    }
   ],
   "source": [
    "#Calculo de las raíces con el método \"bisect\".\n",
    "root = optimize.bisect(f, 1, 4)\n",
    "print({root})"
   ]
  },
  {
   "cell_type": "code",
   "execution_count": 7,
   "metadata": {
    "colab": {
     "base_uri": "https://localhost:8080/"
    },
    "executionInfo": {
     "elapsed": 1872,
     "status": "ok",
     "timestamp": 1619381117036,
     "user": {
      "displayName": "CAMILO LONDONO VERA",
      "photoUrl": "",
      "userId": "16602247040724709955"
     },
     "user_tz": 300
    },
    "id": "NcsOmdLzKvpB",
    "outputId": "4fb0046a-fc8e-4154-bb2d-e124005f9ae6"
   },
   "outputs": [
    {
     "name": "stdout",
     "output_type": "stream",
     "text": [
      "{1.0076239716581368}\n"
     ]
    }
   ],
   "source": [
    "##Calculo de las raíces con el método \"Newton Rapshod\".\n",
    "root2 = optimize.newton(f, 3)\n",
    "print({root2})"
   ]
  },
  {
   "cell_type": "code",
   "execution_count": 8,
   "metadata": {
    "colab": {
     "base_uri": "https://localhost:8080/"
    },
    "executionInfo": {
     "elapsed": 717,
     "status": "ok",
     "timestamp": 1619381122775,
     "user": {
      "displayName": "CAMILO LONDONO VERA",
      "photoUrl": "",
      "userId": "16602247040724709955"
     },
     "user_tz": 300
    },
    "id": "lKdj1fqYKvma",
    "outputId": "1e294e66-b3f4-4888-894e-427671ac2bc5"
   },
   "outputs": [
    {
     "data": {
      "text/plain": [
       "-4.147793219999585e-13"
      ]
     },
     "execution_count": 8,
     "metadata": {},
     "output_type": "execute_result"
    }
   ],
   "source": [
    "#Error de máquina\n",
    "root-root2"
   ]
  },
  {
   "cell_type": "markdown",
   "metadata": {
    "id": "Nrwa1fuFUv0U"
   },
   "source": [
    "Punto 2:\n",
    "\n",
    "\\begin{equation}\n",
    "x(t) = -\\frac{g}{2\\omega^2} \\left( \\frac{e^{\\omega t}-e^{-\\omega t}}{2}\\right) -\\sin\\omega t\n",
    "\\end{equation}\n",
    "\n",
    "\\begin{equation}\n",
    "f(\\omega,t ) = 2\\omega^2(x(t)+\\sin \\omega t )\n",
    "\\end{equation}\n",
    "\n",
    "\n",
    "\\begin{equation}\n",
    "g(\\omega,t ) = -g\\left( \\frac{e^{\\omega t}-e^{-\\omega t}}{2}\\right) \n",
    "\\end{equation}\n",
    "\n"
   ]
  },
  {
   "cell_type": "code",
   "execution_count": 119,
   "metadata": {
    "executionInfo": {
     "elapsed": 774,
     "status": "ok",
     "timestamp": 1619381131459,
     "user": {
      "displayName": "CAMILO LONDONO VERA",
      "photoUrl": "",
      "userId": "16602247040724709955"
     },
     "user_tz": 300
    },
    "id": "XwtdJaocRlc1"
   },
   "outputs": [],
   "source": [
    "#Datos.\n",
    "t = 1 #s\n",
    "g = 9.76 #m/s^2\n",
    "\n",
    "#Desplazamiento en t=1 segundo.\n",
    "d = x = 0.51 #m\n",
    "\n",
    "#Funciones separadas en función de omega.\n",
    "f = lambda om : 2 * om**2 * (d + np.sin(om))\n",
    "g = lambda om : -9.76 * 0.5 * (np.exp(om) - np.exp(-om))\n",
    "\n",
    "#Función final en función de omega.\n",
    "h = lambda om : f(om) - g(om)\n",
    "\n",
    "#Puntos de evaluación en la función.\n",
    "om = np.linspace(-np.pi/4, np.pi/4)"
   ]
  },
  {
   "cell_type": "code",
   "execution_count": 120,
   "metadata": {
    "colab": {
     "base_uri": "https://localhost:8080/",
     "height": 265
    },
    "executionInfo": {
     "elapsed": 824,
     "status": "ok",
     "timestamp": 1619381134295,
     "user": {
      "displayName": "CAMILO LONDONO VERA",
      "photoUrl": "",
      "userId": "16602247040724709955"
     },
     "user_tz": 300
    },
    "id": "UThuzrWHWKi-",
    "outputId": "fd82bd05-7aa9-4cbd-adc6-a3544958868f"
   },
   "outputs": [
    {
     "data": {
      "image/png": "[encoded data removed]",
      "text/plain": [
       "<Figure size 720x432 with 1 Axes>"
      ]
     },
     "metadata": {
      "needs_background": "light"
     },
     "output_type": "display_data"
    }
   ],
   "source": [
    "#Gráfica de las funciones para visualizar el comportamineto.\n",
    "plt.figure(figsize = (10,6))\n",
    "plt.plot(om, f(om), label='$f(\\omega)$')\n",
    "plt.plot(om, g(om), label='$g(\\omega)$')\n",
    "plt.plot(om, h(om), label='$h(\\omega)$')\n",
    "plt.xlabel('$\\omega$', fontsize=12)\n",
    "plt.ylabel('$y(\\omega)$', fontsize=12)\n",
    "plt.legend(fontsize=13)\n",
    "plt.grid()"
   ]
  },
  {
   "cell_type": "code",
   "execution_count": 123,
   "metadata": {},
   "outputs": [
    {
     "name": "stdout",
     "output_type": "stream",
     "text": [
      "{4.547473508864641e-13}\n"
     ]
    }
   ],
   "source": [
    "#Raíces de la función 'h', con el método bisect.\n",
    "r1 = optimize.bisect(h, -1, 2)\n",
    "print({r1})"
   ]
  },
  {
   "cell_type": "code",
   "execution_count": 124,
   "metadata": {
    "colab": {
     "base_uri": "https://localhost:8080/"
    },
    "executionInfo": {
     "elapsed": 371,
     "status": "ok",
     "timestamp": 1618856458475,
     "user": {
      "displayName": "HERNAN DAVID SALINAS JIMENEZ",
      "photoUrl": "https://lh3.googleusercontent.com/a-/AOh14GggHk_AFH1cdsnRNb0RKaFwEJ15Ge3fa4w3oSCUi4SWP6R6JOSxnIXN3ghZfMMtPxxGRA00rC3z0gnLirAJ6O1jq4hdMzBYyQxtL4_YUuOz7et0lzE-qSVIhQMOPCL4dFAJbKOkBp9z40ZctjCNkQ9Vvd6eMd2T3SFqxlX3-vKpBqj3cj52CELnygfyJ_4MtiDKrP4GiIwL1rbwPmk0CmbjocC2QF2PdpfPpS-RCysCOzg6BZ6Xh0elSZ3Huw4hyN9jdr-CcF7jNH_6QbQoRmkbekD1g43dNGbd58smzNiidGOi-wioDJ6L3KThkj1JISF7XGUXGWg-Yd7-S4IVbvFsUxNrLQ07GL8bIt62iZYC3EWsUF6MeZKIxcQ7kCAso05FAyWI6qdGkojdZipOCpFKyDsbm39CsHLe_mCCm6yt-FxBzTse2eeSjHoK_9zGrAV2CZUEKGeS0ARTmedqNm_pM4-hijKxBQYj5Szc30xHbV-hebe0x8FF1_IK9u5tze74SDNAsZwJuoOkv0x6Lp4ZGVdWRCDsrIa24NQ1VNzhpKrUc9kXvjDBKweHGJ6ly6soJF8dl92CbI0NEQUl-01gG6mMu8eFEpg1AyLI1kL4FUaSN6UaoEric2NuqNEjfQrKwh6m0v_guoIJMkmz17RkgXOmllom7S02_30b7ZVPA_5ZXjneY0200aKlr9L5jH2dXPkAqVeDr6eogxdA0_PzHFyng0SnoVMvTe9m6eWEUTg8JlDV1AcToECDMI_3SEOEP0E=s64",
      "userId": "00408651407692255291"
     },
     "user_tz": 300
    },
    "id": "KOeiVPDiWlQl",
    "outputId": "eb4cb754-a6ac-4c9e-e87e-6e689686e4a3"
   },
   "outputs": [
    {
     "name": "stdout",
     "output_type": "stream",
     "text": [
      "{1.7586197820958373e-17}\n"
     ]
    }
   ],
   "source": [
    "#Raíces de la función 'h', con el método newton.\n",
    "r2 = optimize.newton(h, .5)\n",
    "print({r2})"
   ]
  },
  {
   "cell_type": "markdown",
   "metadata": {},
   "source": [
    "Punto 3: \n",
    "\\begin{equation}\n",
    "V=L \\left ( \\frac{1}{2}\\pi r^2 -r^2 \\arcsin{\\frac{h}{r}}-h(r^2-h^2) ^{1/2} \\right)\n",
    "\\end{equation}\n",
    "\n",
    "L=10pies, r=1pies, V=12.4pies\n"
   ]
  },
  {
   "cell_type": "code",
   "execution_count": 68,
   "metadata": {},
   "outputs": [],
   "source": [
    "#Datos\n",
    "L = 10     #ft\n",
    "r = 1      #ft\n",
    "V = 12.4   #ft\n",
    "\n",
    "#Funciones de h.\n",
    "F = lambda h : V + L * r**2 * np.arcsin(h/r)\n",
    "G = lambda h : L * (0.5* np.pi * r**2 - h * (r**2 - h**2)**0.5)\n",
    "\n",
    "#Función final a la cual se encontrarán las raíces.\n",
    "H = lambda h : F(h) - G(h)\n",
    "\n",
    "#Puntos de evaluación de la función.\n",
    "h = np.arange(-1,1, 0.2)"
   ]
  },
  {
   "cell_type": "code",
   "execution_count": 69,
   "metadata": {},
   "outputs": [
    {
     "data": {
      "image/png": "[encoded data removed]",
      "text/plain": [
       "<Figure size 720x432 with 1 Axes>"
      ]
     },
     "metadata": {
      "needs_background": "light"
     },
     "output_type": "display_data"
    }
   ],
   "source": [
    "#Gráfica de las funciones para visualizar el comportamiento.\n",
    "plt.figure(figsize = (10,6))\n",
    "plt.plot(h, F(h), label='$F(h)$')\n",
    "plt.plot(h, G(h), label='$G(h)$')\n",
    "plt.plot(h, H(h), label='$H(h)$')\n",
    "plt.xlabel('$h$', fontsize=12)\n",
    "plt.ylabel('$y(h)$', fontsize=12)\n",
    "plt.legend(fontsize=13)\n",
    "plt.grid()"
   ]
  },
  {
   "cell_type": "code",
   "execution_count": 64,
   "metadata": {},
   "outputs": [
    {
     "name": "stdout",
     "output_type": "stream",
     "text": [
      "{0.1661660346599092}\n"
     ]
    }
   ],
   "source": [
    "#Raíces de la función 'H', por el método bisect.\n",
    "ra1 = optimize.bisect(H, -1, 1)\n",
    "print({ra1})"
   ]
  },
  {
   "cell_type": "code",
   "execution_count": 65,
   "metadata": {},
   "outputs": [
    {
     "name": "stdout",
     "output_type": "stream",
     "text": [
      "{0.16616603465836782}\n"
     ]
    }
   ],
   "source": [
    "#Raíces de la función 'H', por el método newton.\n",
    "ra2 = optimize.newton(H, 0)\n",
    "print({ra2})"
   ]
  },
  {
   "cell_type": "code",
   "execution_count": 136,
   "metadata": {},
   "outputs": [
    {
     "name": "stdout",
     "output_type": "stream",
     "text": [
      "La profundidad h, para los valores dados es: 0.2 ft\n"
     ]
    }
   ],
   "source": [
    "print('La profundidad h, para los valores dados es: %.1f ft'%ra2)"
   ]
  },
  {
   "cell_type": "markdown",
   "metadata": {},
   "source": [
    "Punto 4:\n",
    "\n",
    "\\begin{equation}\n",
    "A \\sin(\\alpha) \\cos(\\alpha)+B \\sin^2(\\alpha) - C \\cos(\\alpha) -  E  \\sin(\\alpha)=0\n",
    "\\end{equation}\n",
    "\n",
    "donde; \n",
    "\\begin{equation}\n",
    "A = l \\sin(\\beta)\n",
    "\\end{equation}\n",
    "\n",
    "\\begin{equation}\n",
    "B = l \\cos(\\beta)\n",
    "\\end{equation}\n",
    "\\begin{equation}\n",
    "C = (h + 0.5 D )\\sin(\\beta) - 0.5 D \\tan(\\beta)\n",
    "\\end{equation}\n",
    "\n",
    "\\begin{equation}\n",
    "E = (h + 0.5 D ) \\cos(\\beta) - 0.5 * D\n",
    "\\end{equation}\n",
    "\n",
    "\n",
    "Para $l=89$pulg, $h=49$pul, $D=55$, $\\beta=11.5$ , el angulo se aproximara a 33. Verificar este resultados"
   ]
  },
  {
   "cell_type": "code",
   "execution_count": 97,
   "metadata": {},
   "outputs": [],
   "source": [
    "#Datos\n",
    "l = 89     #inch\n",
    "h = 49     #inch\n",
    "D = 55     #inch\n",
    "be = np.deg2rad(11.5)  #rad\n",
    "\n",
    "#Funciones de alpha.\n",
    "P = lambda al: l * np.sin(be) * np.sin(al) * np.cos(al)\n",
    "S = lambda al: l * np.cos(be) * (np.sin(al))**2\n",
    "T = lambda al: ((h + 0.5 * D) * np.sin(be) - 0.5 * D * np.tan(be)) * np.cos(al)\n",
    "U = lambda al: ((h + 0.5 * D) * np.cos(be) - 0.5 * D) * np.sin(al)\n",
    "\n",
    "#Función final para hallar raíces.\n",
    "Y = lambda al: P(al) + S(al) - T(al) - U(al)\n",
    "\n",
    "#Puntos de evaluación de la función.\n",
    "al = np.linspace(0, np.pi, 100)"
   ]
  },
  {
   "cell_type": "code",
   "execution_count": 107,
   "metadata": {},
   "outputs": [
    {
     "data": {
      "image/png": "[encoded data removed]",
      "text/plain": [
       "<Figure size 720x432 with 1 Axes>"
      ]
     },
     "metadata": {
      "needs_background": "light"
     },
     "output_type": "display_data"
    }
   ],
   "source": [
    "#Gráfica de las funciones para visualizar el comportamiento de cada una.\n",
    "plt.figure(figsize = (10,6))\n",
    "plt.plot(al, P(al), label='$P(\\\\alpha)$')\n",
    "plt.plot(al, S(al), label='$S(\\\\alpha)$')\n",
    "plt.plot(al, T(al), label='$T(\\\\alpha)$')\n",
    "plt.plot(al, U(al), label='$U(\\\\alpha)$')\n",
    "plt.plot(al, Y(al), label='$Y(\\\\alpha)$')\n",
    "plt.xlabel('$\\\\alpha$', fontsize=12)\n",
    "plt.ylabel('$f(\\\\alpha)$', fontsize=12)\n",
    "plt.legend(fontsize=13)\n",
    "plt.grid()"
   ]
  },
  {
   "cell_type": "code",
   "execution_count": 94,
   "metadata": {},
   "outputs": [
    {
     "name": "stdout",
     "output_type": "stream",
     "text": [
      "{0.5754730121934699}\n"
     ]
    }
   ],
   "source": [
    "#Raíces de la función 'Y', por el método bisect.\n",
    "raiz = optimize.bisect(Y,0,2)\n",
    "print({raiz})"
   ]
  },
  {
   "cell_type": "code",
   "execution_count": 117,
   "metadata": {},
   "outputs": [
    {
     "name": "stdout",
     "output_type": "stream",
     "text": [
      "{0.5754730121943988}\n"
     ]
    }
   ],
   "source": [
    "#Raíces de la función 'Y', por el método newton.\n",
    "Root1 = optimize.newton(Y, 1) \n",
    "print({Root1})"
   ]
  },
  {
   "cell_type": "code",
   "execution_count": 118,
   "metadata": {},
   "outputs": [
    {
     "name": "stdout",
     "output_type": "stream",
     "text": [
      "El ángulo al que se aproxima la función con los datos dados es: 33.0 °\n"
     ]
    }
   ],
   "source": [
    "#Conversión de las raíces a grados, ángulo resultante buscado. \n",
    "alpha = np.rad2deg(Root1)\n",
    "print('El ángulo al que se aproxima la función con los datos dados es: %.1f °'%alpha)"
   ]
  },
  {
   "cell_type": "markdown",
   "metadata": {
    "id": "UvlcPwmcfUiz"
   },
   "source": [
    "\n",
    "\n",
    "\n",
    "5. Construir un fractal empleando el metodo de Newton-Raphson, \n",
    "(Reproducir código y entender)\n",
    "\\begin{equation}\n",
    "z_{n+1} = z_n -a \\frac{f(z)}{f'(z)} \n",
    "\\end{equation}\n",
    "\n",
    "\n",
    "\n",
    "\\begin{equation}\n",
    "f'(z) = \\frac{ f(z+h)+f(z) }{h}\n",
    "\\end{equation}"
   ]
  },
  {
   "cell_type": "code",
   "execution_count": 127,
   "metadata": {
    "id": "I-2riPetfWrM"
   },
   "outputs": [],
   "source": [
    "#Extra librerias\n",
    "import matplotlib.pylab as plt\n",
    "from PIL import Image"
   ]
  },
  {
   "cell_type": "code",
   "execution_count": 38,
   "metadata": {
    "id": "coo74WrCoVBh"
   },
   "outputs": [],
   "source": [
    "Npx_X = 80 #Número de pixeles en x\n",
    "Npx_Y = 80 #Número de pixeles en y\n",
    "\n",
    "image = Image.new(\"RGB\", (Npx_X, Npx_Y)) #Creación de la imagen inicial\n",
    "\n",
    "npx = np.arange(0, Npx_X)\n",
    "npy = np.arange(0, Npx_Y)\n",
    "\n",
    "xmin = -1\n",
    "xmax = 1\n",
    "ymin = -1\n",
    "ymax = 1\n",
    "\n",
    "#Transformación al plano complejo en un rectangulo (xmin, xmax), (ymin, ymax)\n",
    "zx = npx * (xmax - xmin) / (Npx_X - 1) + xmin\n",
    "zy = npy * (ymax - ymin) / (Npx_Y - 1) + ymin\n"
   ]
  },
  {
   "cell_type": "code",
   "execution_count": 130,
   "metadata": {
    "id": "wMsrzKovpVG7"
   },
   "outputs": [],
   "source": [
    "#Definicion  la funcion y las derivada.\n",
    "#Función.\n",
    "def f(z): \n",
    "    \"\"\"\n",
    "    Función compleja.\n",
    "    \n",
    "    Parámetros\n",
    "    ----------\n",
    "    z : Número complejo.\n",
    "    \n",
    "    Retorno\n",
    "    ----------\n",
    "    f(z) : Función evaluada en z.\n",
    "    \"\"\"\n",
    "    \n",
    "    return z**3 - 1\n",
    "\n",
    "#Derivada de f(z).\n",
    "def fp(z): \n",
    "    \"\"\"\n",
    "    Función derivada de f(z) definida anteriormente.\n",
    "    \n",
    "    Parámetros\n",
    "    ----------\n",
    "    z : Número complejo.\n",
    "    \n",
    "    Retorno\n",
    "    ----------\n",
    "    fp(z) = z**3 - 1 : Derivada de la función anterior.\n",
    "    \"\"\"\n",
    "    \n",
    "    return 3 * z**2\n",
    "\n",
    "#Para hacer la derivada con la definición de derivada.\n",
    "h = 1E-4\n",
    "def fpn(z, h): \n",
    "    \"\"\"\n",
    "    Función que hace la derivada por medio de la definición.\n",
    "    \n",
    "    Parámetros\n",
    "    ----------\n",
    "    f(z) : Función compleja.\n",
    "    h : Desplazamiento.\n",
    "    \n",
    "    Retorno\n",
    "    ----------\n",
    "    f'(z) : Derivada de f(z).\n",
    "    \"\"\"\n",
    "    \n",
    "    return (f(z + h) - f(z))/h\n",
    "  "
   ]
  },
  {
   "cell_type": "code",
   "execution_count": 132,
   "metadata": {
    "id": "pZC8_84kpVJ1"
   },
   "outputs": [],
   "source": [
    "#Escalar que multiplica f(z)/f'(z) en N-R\n",
    "a = 0.2\n",
    "\n",
    "#Iteracciones que se quieren realizar para encontrar el resultado.\n",
    "Niteraciones = 120\n",
    "\n",
    "#Número mayor que cero para acotar un término.\n",
    "eps = 1E-8\n",
    "\n",
    "x = - 1\n",
    "for zx_ in zx:\n",
    "    x = x + 1 \n",
    "    y = -1\n",
    "    for zy_ in zy: \n",
    "        y = y + 1\n",
    "        #Converción al plano complejo.\n",
    "        Z_0 = complex(zx_, zy_)\n",
    "        \n",
    "        #Newton-Raphson\n",
    "        for i in range(0, Niteraciones): \n",
    "            Z = Z_0 - a * f(Z_0)/fp(Z_0)\n",
    "\n",
    "            if(abs(Z-Z_0)<= eps):\n",
    "                break \n",
    "          \n",
    "            Z_0 = Z\n",
    "            #print(i)\n",
    "            #print(i)\n",
    "            #Escala de colores, espectro visible.\n",
    "            r, g, b = i % 4 * 64 , i % 8 * 16, i% 16 * 16\n",
    "      \n",
    "            image.putpixel((x,y), (r,g,b) )\n"
   ]
  },
  {
   "cell_type": "code",
   "execution_count": 129,
   "metadata": {
    "colab": {
     "base_uri": "https://localhost:8080/",
     "height": 285
    },
    "executionInfo": {
     "elapsed": 970,
     "status": "ok",
     "timestamp": 1618868900176,
     "user": {
      "displayName": "JUAN ESTEBAN OSPINA HOLGUÍN",
      "photoUrl": "",
      "userId": "10503178967285928828"
     },
     "user_tz": 300
    },
    "id": "hfzvlcD6pVM0",
    "outputId": "31bf0a47-3f07-4064-f774-e7753be8fdb1"
   },
   "outputs": [
    {
     "data": {
      "text/plain": [
       "<matplotlib.image.AxesImage at 0x28faa0f1370>"
      ]
     },
     "execution_count": 129,
     "metadata": {},
     "output_type": "execute_result"
    },
    {
     "data": {
      "image/png": "[encoded data removed]",
      "text/plain": [
       "<Figure size 576x576 with 1 Axes>"
      ]
     },
     "metadata": {
      "needs_background": "light"
     },
     "output_type": "display_data"
    }
   ],
   "source": [
    "plt.figure(figsize=(8,8))\n",
    "plt.imshow(image)\n",
    "#plt.xlim(400, 600)\n",
    "#plt.ylim(400, 523)\n"
   ]
  },
  {
   "cell_type": "code",
   "execution_count": null,
   "metadata": {
    "id": "yM2FXog2TXqV"
   },
   "outputs": [],
   "source": []
  }
 ],
 "metadata": {
  "colab": {
   "name": "Sesion05_Solucion_ecuaciones.ipynb",
   "provenance": []
  },
  "kernelspec": {
   "display_name": "Python 3",
   "language": "python",
   "name": "python3"
  },
  "language_info": {
   "codemirror_mode": {
    "name": "ipython",
    "version": 3
   },
   "file_extension": ".py",
   "mimetype": "text/x-python",
   "name": "python",
   "nbconvert_exporter": "python",
   "pygments_lexer": "ipython3",
   "version": "3.8.5"
  }
 },
 "nbformat": 4,
 "nbformat_minor": 1
}
