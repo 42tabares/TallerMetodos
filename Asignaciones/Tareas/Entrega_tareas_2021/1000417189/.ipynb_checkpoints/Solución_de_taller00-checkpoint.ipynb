{
  "nbformat": 4,
  "nbformat_minor": 0,
  "metadata": {
    "kernelspec": {
      "display_name": "Python 3",
      "language": "python",
      "name": "python3"
    },
    "language_info": {
      "codemirror_mode": {
        "name": "ipython",
        "version": 3
      },
      "file_extension": ".py",
      "mimetype": "text/x-python",
      "name": "python",
      "nbconvert_exporter": "python",
      "pygments_lexer": "ipython3",
      "version": "3.7.2"
    },
    "colab": {
      "name": "Solución de taller00.ipynb",
      "provenance": [],
      "collapsed_sections": []
    }
  },
  "cells": [
    {
      "cell_type": "markdown",
      "metadata": {
        "id": "FRH6ZoPM4KeX"
      },
      "source": [
        "# Taller 0.0 de métodos computacionales para físicos  y astrónomos\n",
        "## Universidad de Antioquia\n",
        "### Profesor: Hernan D. Salinas Jiménez\n",
        "\n",
        "##Estudiante: Camilo Londoño Vera\n",
        "##Compañero: Miguel Ángel Gómez Pineda\n"
      ]
    },
    {
      "cell_type": "markdown",
      "metadata": {
        "id": "3IwaMxgT4Kee"
      },
      "source": [
        "## Taller: Sesion 0.0"
      ]
    },
    {
      "cell_type": "markdown",
      "metadata": {
        "id": "SV5BAn7x4Kef"
      },
      "source": [
        "## Unidad 1: \n",
        "\n",
        "Contenido Actitudinal: Observar como el computador produce errores en los cálculos. El computador no maneja infinitas cifras decimales.\n",
        "\n",
        "- Repaso breve del Python\n",
        "- Estructura básica de un programa en Python.\n",
        "- Numpy y rutinas de graficación.\n",
        "- Operaciones aritméticas con reales y complejos.\n",
        "- Números aleatorios, método del congruente lineal y problemas.\n",
        "- Errores: redondeo, truncamiento, sustracción cancelativa, precisiónde la máquina.\n",
        "- Algoritmos"
      ]
    },
    {
      "cell_type": "markdown",
      "metadata": {
        "id": "dgZqZVpe4Kef"
      },
      "source": [
        "## Instrucciones de entrega\n",
        "\n",
        "\n",
        "\n",
        "\n",
        "\n",
        "\n"
      ]
    },
    {
      "cell_type": "markdown",
      "metadata": {
        "id": "J6GPf6qe4Keg"
      },
      "source": [
        "## Problemas\n",
        "1. Elaborar un algoritmo e implementar en python, el factorial de un número entero `n` ingresado por el usuario.\n",
        "     ### Ejemplo de Ejecución\n",
        "    ```python\n",
        "\n",
        "    >>> factorial(3)\n",
        "        6\n",
        "\n",
        "    >>> factorial(1987123)\n",
        "        =???\n",
        "```\n"
      ]
    },
    {
      "cell_type": "code",
      "metadata": {
        "id": "LVjL65RcGlEp"
      },
      "source": [
        "def factorial(n):\r\n",
        "  a=1\r\n",
        "  for i in range(1,n+1):\r\n",
        "    a=i*a\r\n",
        "  return(a)\r\n",
        "\r\n",
        "n=int(input(\"ingrese un número natural: \"))\r\n",
        "print(\"El factorial es: \", factorial(n))"
      ],
      "execution_count": null,
      "outputs": []
    },
    {
      "cell_type": "markdown",
      "metadata": {
        "id": "9-JZw0Do4Keg"
      },
      "source": [
        "2. Diseñar un programa que lea dos numero `a` y `b` y diga que tipo de numero son, de a cuerdo a la siguiente clasificación:\n",
        "\n",
        " >- [Números defectivos](https://es.wikipedia.org/wiki/Número_defectivo) : la suma de los divisores propios es menor que el número.\n",
        " >- [Números abundantes](https://es.wikipedia.org/wiki/Número_abundante): la suma de los divisores es mayor que el número.\n",
        " >- [Números amigos](https://es.wikipedia.org/wiki/N%C3%BAmeros_amigos) `a` y `b` tales que a es la suma de los divisores propios de `b` y viceversa.\n",
        " >- [Números semiperfectos](https://es.wikipedia.org/wiki/N%C3%BAmero_semiperfecto) la suma de todos o algunos de los divisores propios es igual al número.\n",
        " >- [Números perfectos](https://es.wikipedia.org/wiki/N%C3%BAmero_perfecto) la suma de todos sus divisores propios, excepto el mismo numero, es igual al número.\n",
        " >- [Números primos](https://es.wikipedia.org/wiki/N%C3%BAmero_primo) el número es divisible unicamente por sí mismo y por 1.\n",
        " "
      ]
    },
    {
      "cell_type": "markdown",
      "metadata": {
        "id": "cARSuKs_4Keh"
      },
      "source": [
        " ### Ejemplo de Ejecución\n",
        "``` python\n",
        "\n",
        "    >>> clase_numero(a = 220, b =  284)\n",
        "        a = 220 y b = 284 son números amigos\n",
        "\n",
        "    >>> clase_numero(a = 24, b = 12 )\n",
        "        a = 24 es un numero abudante y b = 12 es un número defectivo. \n",
        "```\n"
      ]
    },
    {
      "cell_type": "code",
      "metadata": {
        "colab": {
          "base_uri": "https://localhost:8080/"
        },
        "id": "usfxWkvQK5ol",
        "outputId": "36818904-b2dc-449c-81e1-cc94d9a28c26"
      },
      "source": [
        "def clase_número():\r\n",
        "  print(\"Ingrese dos números naturales A y B\")\r\n",
        "  a=int(input(\"Ingrese número A: \"))\r\n",
        "  b=int(input(\"Ingrese número B: \"))\r\n",
        "  print(\"\\n\")\r\n",
        "\r\n",
        "  diva=[]\r\n",
        "  divb=[]\r\n",
        "  i=1\r\n",
        "  while i<=a:\r\n",
        "    if a%i==0:\r\n",
        "      diva.append(i)\r\n",
        "    i=i+1\r\n",
        "  i=1  \r\n",
        "  while i<=b:\r\n",
        "    if b%i==0:\r\n",
        "      divb.append(i)\r\n",
        "    i=i+1\r\n",
        "\r\n",
        "  A=sum(diva)\r\n",
        "  A=A-a\r\n",
        "\r\n",
        "  B=sum(divb)\r\n",
        "  B=B-b\r\n",
        "\r\n",
        "  if len(diva)==2:\r\n",
        "    print(a,\" es número primo\")\r\n",
        "\r\n",
        "  aprf=False\r\n",
        "  adef=False\r\n",
        "  if A==a:\r\n",
        "    print(a, \"es número perfecto\")\r\n",
        "    aprf=True\r\n",
        "  elif A<a:\r\n",
        "    if a!=1:\r\n",
        "      print(a,\"es un número defectivo\")\r\n",
        "      bdef=True\r\n",
        "  else:\r\n",
        "    print(a, \"es un número abundante\")\r\n",
        "  Ax=0\r\n",
        "  if adef==False:\r\n",
        "    if aprf==True:\r\n",
        "      print(a, \"es número semiperfecto\")\r\n",
        "    else:\r\n",
        "      Ax=A\r\n",
        "      Ay=a\r\n",
        "      while Ax>0:\r\n",
        "        Ax=Ax-Ay\r\n",
        "        if Ax==Ay:\r\n",
        "          Ax=-1\r\n",
        "        if Ax in diva:\r\n",
        "          print(a, \"es semiperfecto\")\r\n",
        "          break\r\n",
        "        else:\r\n",
        "          for i in range(1,len(diva)+1):\r\n",
        "            if Ax>=diva[-i]:\r\n",
        "              Ay=diva[-i]\r\n",
        "              break\r\n",
        "  if Ax==-1:\r\n",
        "    print(a, \"es número extraño\")  \r\n",
        "\r\n",
        "  print(\"\\n\")\r\n",
        "  bdef=False\r\n",
        "  bprf=False\r\n",
        "  if B==b:\r\n",
        "    print(b,\"es número perfecto\")\r\n",
        "    bprf=True\r\n",
        "  elif B<b:\r\n",
        "    if b!=1:\r\n",
        "      print(b,\"es un número defectivo\")\r\n",
        "      bdef=True\r\n",
        "  else:\r\n",
        "    print(b, \"es un número abundante\")\r\n",
        "  Bx=0\r\n",
        "  if bdef==False:\r\n",
        "    if bprf==True:\r\n",
        "      print(b, \"es número semiperfecto\")\r\n",
        "    else:\r\n",
        "      Bx=B\r\n",
        "      By=b\r\n",
        "      while Bx>0:\r\n",
        "        Bx=Bx-By\r\n",
        "        if Bx==By:\r\n",
        "          Bx=-1\r\n",
        "        if Bx in divb:\r\n",
        "          print(b, \"es semiperfecto\")\r\n",
        "          break\r\n",
        "        else:\r\n",
        "          for i in range(1,len(divb)+1):\r\n",
        "            if Bx>=divb[-i]:\r\n",
        "              By=divb[-i]\r\n",
        "              break\r\n",
        "  if Bx==-1:\r\n",
        "    print(b, \"es número extraño\")  \r\n",
        "\r\n",
        "  if len(divb)==2:\r\n",
        "    print(b,\" es número primo\")\r\n",
        "\r\n",
        "  if A==b and B==a and a!=b:\r\n",
        "    print(a, \"y\",b,\"son amiguitos\")\r\n",
        "  return\r\n",
        "clase_número()"
      ],
      "execution_count": null,
      "outputs": [
        {
          "output_type": "stream",
          "text": [
            "Ingrese dos números naturales A y B\n",
            "Ingrese número A: 70\n",
            "Ingrese número B: 71\n",
            "\n",
            "\n",
            "70 es un número abundante\n",
            "70 es número extraño\n",
            "\n",
            "\n",
            "71 es un número defectivo\n",
            "71  es número primo\n"
          ],
          "name": "stdout"
        }
      ]
    },
    {
      "cell_type": "markdown",
      "metadata": {
        "id": "45A4RWSm4Keh"
      },
      "source": [
        "3. Determine si un número `n` entero ingresado por el usuario es un [palíndromo](https://en.wikipedia.org/wiki/Palindromic_number), (Retorne `True` en caso afirmativo y `False` en caso contrario) \n",
        "\n",
        "```python\n",
        "\n",
        "\n",
        "    >>> palindromo(3333333)\n",
        "        True\n",
        "\n",
        "    >>> palindromo(2323)\n",
        "        True\n",
        "        \n",
        "    >>> palindromo(1111349111111)\n",
        "        False\n",
        "```\n",
        "\n",
        "\n"
      ]
    },
    {
      "cell_type": "code",
      "metadata": {
        "colab": {
          "base_uri": "https://localhost:8080/"
        },
        "id": "yTwqN4I5XuFu",
        "outputId": "ff573b76-c84f-40b5-ed14-242b3362038c"
      },
      "source": [
        "def palindromo():\r\n",
        "  x=int(input(\"Ingrese un número entero: \"))\r\n",
        "  x=str(x)\r\n",
        "  if x.isnumeric():\r\n",
        "    x=str(x)\r\n",
        "    n=x\r\n",
        "    x=int(x)\r\n",
        "    m=[]\r\n",
        "    if len(n)>1:\r\n",
        "      for i in range(1,len(n)+1):\r\n",
        "        m.append(n[-i])\r\n",
        "      if m==n:\r\n",
        "        print(x,\"n es palíndromo\")\r\n",
        "      else:\r\n",
        "        print(x,\"no es palíndromo\")\r\n",
        "    elif len(n)==1:\r\n",
        "      print(x,\"es palíndromo\")\r\n",
        "  else:\r\n",
        "    print(x, \"no es número entero\")\r\n",
        "  return\r\n",
        "palindromo()"
      ],
      "execution_count": null,
      "outputs": [
        {
          "output_type": "stream",
          "text": [
            "Ingrese un número entero: 3\n",
            "3 es palíndromo\n"
          ],
          "name": "stdout"
        }
      ]
    },
    {
      "cell_type": "markdown",
      "metadata": {
        "id": "bmQYQxjX4Keh"
      },
      "source": [
        "\n",
        "4. Dada una cadena de caracteres, entregar una lista donde se retorne:\n",
        ">- en la primera casilla: `True` si el caracter del medio es una vocal, `False` en caso contrario \n",
        ">- en la segunda: el numero de vocales en la cadena\n",
        ">- en la tercera: el numero de consonantes\n",
        ">- en la ultima: la cadena de caracteres invertida (ej: perro, orrep)\n",
        "\n",
        "### Ejemplo de Ejecución\n",
        "```python\n",
        "\n",
        ">>> cadena(s ='perro')\n",
        "[False, 2, 3, 'orrep']\n",
        "\n",
        ">>> cadena(s ='murcielago')\n",
        "[True, 5, 5, 'ogaleicrum']\n",
        "\n",
        "```\n"
      ]
    },
    {
      "cell_type": "code",
      "metadata": {
        "colab": {
          "base_uri": "https://localhost:8080/"
        },
        "id": "uSlX9QkQWp-f",
        "outputId": "9bd70fe1-d642-4314-9c83-7773055d6332"
      },
      "source": [
        "def cadena():\r\n",
        "  p=list(str(input(\"Ingrese la palabra en cuestión: \")))\r\n",
        "  v=('a','e','i','o','u','A','E','I','O','U')\r\n",
        "  vx=0\r\n",
        "  n=len(p)\r\n",
        "  for i in p:\r\n",
        "    if i in v:\r\n",
        "      vx=vx+1\r\n",
        "  invs=''\r\n",
        "  for i in range(1,n+1):\r\n",
        "    invs=invs+p[-i]\r\n",
        "  cx=n-vx\r\n",
        "  if n%2!=0:\r\n",
        "    if p[n//2] in v:\r\n",
        "      vm= True\r\n",
        "    else:\r\n",
        "      vm=False\r\n",
        "  else:\r\n",
        "    if p[int(n/2)] in v or p[int(n/2-1)] in v:\r\n",
        "      vm= True\r\n",
        "    else:\r\n",
        "      vm=False\r\n",
        "  print([vm, vx, cx, invs])\r\n",
        "  return\r\n",
        "cadena()"
      ],
      "execution_count": null,
      "outputs": [
        {
          "output_type": "stream",
          "text": [
            "Ingrese la palabra en cuestión: pito\n",
            "[True, 2, 2, 'otip']\n"
          ],
          "name": "stdout"
        }
      ]
    },
    {
      "cell_type": "markdown",
      "metadata": {
        "id": "Z6rU_h_q4Kei"
      },
      "source": [
        "\n",
        "5. Elabore un método para calcular el n-ésimo término de la sucesión de fibonacci: \n",
        "\n",
        "$$ f_n = f_{n-1}+f_{n-2}$$\n",
        "\n",
        "Donde $$f_0=0 \\:\\:\\text{ y }\\:\\:f_1=1 $$ así:   $$f_2=1+0=1$$ $$f_3=1+1=2$$  $$f_4=2+1=3$$ y así sucesivamente\n",
        "\n",
        "### Ejemplo de Ejecución\n",
        "```python\n",
        "\n",
        ">>> fibonacci(50)\n",
        "12586269025\n",
        "\n",
        ">>> fibonacci(63)\n",
        "6557470319842\n",
        "```\n"
      ]
    },
    {
      "cell_type": "code",
      "metadata": {
        "colab": {
          "base_uri": "https://localhost:8080/"
        },
        "id": "oo8mol4ltkgM",
        "outputId": "f8cbbc79-a9d9-4d56-b9f3-77ea5111ceb2"
      },
      "source": [
        "def fibonacci():\r\n",
        "  n=int(input(\"Para conocer el n-ésimo término de la sucesión de fibonacci \\n Ingrese n:\"))\r\n",
        "  y=1\r\n",
        "  x=0\r\n",
        "  for i in range(0,n):\r\n",
        "    z=x+y\r\n",
        "    y=x\r\n",
        "    x=z\r\n",
        "  print(\"El\", n,\"-ésimo término de la suseción de fibonacci es:\", x)\r\n",
        "fibonacci()"
      ],
      "execution_count": null,
      "outputs": [
        {
          "output_type": "stream",
          "text": [
            "Para conocer el n-ésimo término de la sucesión de fibonacci \n",
            " Ingrese n:50\n",
            "El 50 -ésimo término de la suseción de fibonacci es: 12586269025\n"
          ],
          "name": "stdout"
        }
      ]
    },
    {
      "cell_type": "markdown",
      "metadata": {
        "id": "1Aezlw_x4Kei"
      },
      "source": [
        "\n",
        "6. Entrar un arreglo de números y ordenarlos de forma ascendente, Ver algoritmo\n",
        "[Quicksort](https://es.wikipedia.org/wiki/Quicksort). \n",
        "\n",
        "\n",
        "```python\n",
        "\n",
        "\n",
        "<<< v = [22, 32, 42, 12, 22, 31, 41, 11, 12, 232, 24, 12, 22]\n",
        "<<< def quicksort(v):\n",
        "\n",
        "<<<     return v\n",
        "<<< w = print(quicksort(v))\n",
        "<<< [11, 12, 12, 12, 22, 22, 22, 24, 31, 32, 41, 42, 232]\n",
        "\n",
        "```\n",
        "\n",
        "Sólo para comprobar tu código,  puedes hacer uso del comando sort de python. \n",
        "```python\n",
        "<<< b = [22, 32, 42, 12, 22, 31, 41, 11, 12, 232, 24, 12, 22]\n",
        "\n",
        "<<< print(b.sort())\n",
        "\n",
        "<<< [11, 12, 12, 12, 22, 22, 22, 24, 31, 32, 41, 42, 232]\n",
        "```"
      ]
    },
    {
      "cell_type": "code",
      "metadata": {
        "id": "8yU1tr9OysaE"
      },
      "source": [
        "n=int(input(\"Ingrese la cantidad de números\"))\r\n",
        "print(\"Ingrese uno a uno el arreglo de números\")\r\n",
        "a=[]\r\n",
        "for  i in range(n):\r\n",
        "  a.append(float(input()))\r\n",
        "print(a)\r\n",
        "\r\n",
        "b=a\r\n",
        "g=False\r\n",
        "while g==False:\r\n",
        "  for i in range(1,n):\r\n",
        "    if b[i-1]>b[i]:\r\n",
        "      b[i-1],b[i]=b[i],b[i-1]\r\n",
        "      j=0\r\n",
        "  for i in range(1,n):\r\n",
        "    if b[i-1]<b[i]:\r\n",
        "      j=j+1\r\n",
        "    if j==n:\r\n",
        "      g=True\r\n",
        "print(b)"
      ],
      "execution_count": null,
      "outputs": []
    },
    {
      "cell_type": "markdown",
      "metadata": {
        "id": "BTj0eQBs4Kej"
      },
      "source": [
        "## REFERENCIAS.\n",
        "[1] Scripts de un curso de python. [Raul Pollan](https://github.com/rramosp/20182.pcomp)  \n",
        "\n",
        "[2] [Fundamenteos de programación](https://sites.google.com/site/funpropoli/ejercicios-practicos)\n",
        "\n",
        "[3] Scripts de un curso de python. [Fernando Perez](https://github.com/fperez)\n"
      ]
    }
  ]
}