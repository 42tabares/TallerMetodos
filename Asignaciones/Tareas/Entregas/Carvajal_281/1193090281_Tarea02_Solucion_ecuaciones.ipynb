{
 "cells": [
  {
   "cell_type": "markdown",
   "metadata": {
    "id": "pQSt9-mvLVMa"
   },
   "source": [
    "# Taller \n",
    "\n",
    "\n",
    "### Resolver los siguientes problemas, por el metodo de la biseccion, newton, punto fijo y secante, realizar una comparación del error como función del las numero de iteraciones\n",
    "\n",
    "\n",
    "1. Una particula parte del reposo sobre un plano inclinado uniforme, cuyo ángulo \n",
    "$\\theta$ cambia con una rapidez constante de : \n",
    "\n",
    "\\begin{equation}\n",
    "\\frac{\\mathrm{d}\\theta}{\\mathrm{d} t} = \\omega < 0\n",
    "\\end{equation}\n",
    "\n",
    "Al final de t segundos, la posición del objeto esta dada por: \n",
    "\n",
    "\n",
    "\\begin{equation}\n",
    "x(t) = -\\frac{g}{2\\omega^2} \\left( \\frac{e^{\\omega t}-e^{-\\omega t}}{2}\\right) -\\sin\\omega t\n",
    "\\end{equation}\n",
    "\n",
    "\n",
    "Suponga que la partícula se desplazo 0.51m en 1s. Encuentre, con una exactitud de $10^{-5}$, la rapidez $\\omega$ con que $\\theta$ cambia. Suponga que $g=9.76m/s$\n",
    "\n",
    "\n",
    "![Plano Inclinado](https://raw.githubusercontent.com/hernansalinas/Metodos_Computacionales_taller/main/sesiones/images/ecuacion_1_variable/Fig0.png)\n",
    "\n",
    "\n",
    "2. Determinar el ángulo del sector circular que es igual a un cuarto del área de la circunferencia \n",
    "\n",
    "\n",
    "3. Resolver la siguiente situación\n",
    "\n",
    "En el diseño de los vehiculos para todo tipo de terreno,  es necesario tener encuentra fallas cuando se trata de liberar dos tipos de obstáculos. Una es la falla por rozamiento, y ocurre cuando el vehiculo \n",
    "intenta cruzar un obstáculo que hace que su fondo toque el suelo. La otra recibie el nombre de falla por colision de la defensa delantera y ocurre cuando el vehiculo desciende por una zanja y la defensa delantera toca el suelo.\n",
    "\n",
    "\n",
    "\n",
    "La figura muestra las componentes asociados al segundo tipo  de falla. En ella se indeca el ángulo máximo $\\alpha$ que puede alcanzar un vehiculo cuando $\\beta$ es el angulo maximo en que no ocurre la falla \n",
    "por rozamiento y satisface la siguiente ecuación: \n",
    "\n",
    "\n",
    "\\begin{equation}\n",
    "A \\sin(\\alpha) \\cos(\\alpha)+B \\sin^2(\\alpha) - C \\cos(\\alpha) -  E  \\sin(\\alpha)=0\n",
    "\\end{equation}\n",
    "\n",
    "donde; \n",
    "\\begin{equation}\n",
    "A = l \\sin(\\beta)\n",
    "\\end{equation}\n",
    "\n",
    "\\begin{equation}\n",
    "B = l \\cos(\\beta)\n",
    "\\end{equation}\n",
    "\\begin{equation}\n",
    "C = (h + 0.5 D )\\sin(\\beta) - 0.5 D \\tan(\\beta)\n",
    "\\end{equation}\n",
    "\n",
    "\\begin{equation}\n",
    "E = (h + 0.5 D ) \\cos(\\beta) - 0.5 * D\n",
    "\\end{equation}\n",
    "\n",
    "\n",
    "Para $l=89$pulg, $h=49$pul, $D=55$, $\\beta=11.5$ , el angulo se aproximara a 33. Verificar este resultados\n",
    "\n",
    "\n",
    "![fallas_vehiculo](https://raw.githubusercontent.com/hernansalinas/Metodos_Computacionales_taller/main/sesiones/images/ecuacion_1_variable/Fig2.png)\n",
    "\n",
    "\n",
    "Referencias: Numerical Analysis Book by J. Douglas Faires and Richard L. Burden\n",
    "\n",
    "\n"
   ]
  },
  {
   "cell_type": "markdown",
   "metadata": {
    "id": "UvlcPwmcfUiz"
   },
   "source": [
    "\n",
    "\n",
    "\n",
    "4. Construir un fractal empleando el metodo de Newton-Raphson, \n",
    "(Reproducir código y entender)\n",
    "\\begin{equation}\n",
    "z_{n+1} = z_n -a \\frac{f(z)}{f'(z)} \n",
    "\\end{equation}\n",
    "\n",
    "\n",
    "\n",
    "\\begin{equation}\n",
    "f'(z) = \\frac{ f(z+h)+f(z) }{h}\n",
    "\\end{equation}"
   ]
  },
  {
   "cell_type": "code",
   "execution_count": null,
   "metadata": {
    "id": "I-2riPetfWrM"
   },
   "outputs": [],
   "source": [
    "#Se importan las librerias\n",
    "\n",
    "import math\n",
    "import numpy as np\n",
    "import tqdm as tqdm\n",
    "import pandas as pd\n",
    "from scipy import optimize\n",
    "import matplotlib.pylab as plt\n",
    "from PIL import Image"
   ]
  },
  {
   "cell_type": "markdown",
   "metadata": {
    "id": "ENIws-0JJ5eT"
   },
   "source": [
    "# Solución Primer punto\n"
   ]
  },
  {
   "cell_type": "code",
   "execution_count": null,
   "metadata": {
    "id": "k14h-gjGwpLr"
   },
   "outputs": [],
   "source": [
    "w1= np.linspace(-2*np.pi,0,100)\n",
    "def fun(w):\n",
    "    return  (-9.76/ 2*(w**2))*np.sinh(w)-np.sin(w)-0.51"
   ]
  },
  {
   "cell_type": "markdown",
   "metadata": {
    "id": "cy35yLNLLCxN"
   },
   "source": [
    "**Método de Bisección**\n"
   ]
  },
  {
   "cell_type": "code",
   "execution_count": null,
   "metadata": {
    "colab": {
     "base_uri": "https://localhost:8080/",
     "height": 321
    },
    "id": "theAYjucfv6w",
    "outputId": "fdb4a0da-2ebd-4311-d098-802705fb0976"
   },
   "outputs": [
    {
     "name": "stdout",
     "output_type": "stream",
     "text": [
      "la raiz de f(theta) -0.33283233642578125\n"
     ]
    },
    {
     "data": {
      "image/png": "[encoded data removed]",
      "text/plain": [
       "<Figure size 432x288 with 1 Axes>"
      ]
     },
     "metadata": {
      "needs_background": "light"
     },
     "output_type": "display_data"
    }
   ],
   "source": [
    "root = optimize.bisect(fun, 1, -3, xtol=1E-5)\n",
    "print( f\"la raiz de f(theta) {root:}\")\n",
    "\n",
    "plt.plot(w1, fun(w1),\"hotpink\")\n",
    "plt.title(\"Gráfica de la intersección\")\n",
    "plt.xlim(-1,0)\n",
    "plt.ylim(-5,10)\n",
    "plt.xlabel(\"$\\\\omega$\", fontsize=14 )\n",
    "plt.ylabel( \"$f(\\\\omega)$\",fontsize=14 )\n",
    "plt.xticks(fontsize = 14)\n",
    "plt.yticks(fontsize = 14)\n",
    "plt.plot(root,fun(root),'go', label=f'Raíz= {root}')\n",
    "plt.axhline(0, color = 'black')\n",
    "plt.legend()\n",
    "plt.grid()"
   ]
  },
  {
   "cell_type": "markdown",
   "metadata": {
    "id": "CSyeqMg8LRHO"
   },
   "source": [
    "Método de Punto Fijo"
   ]
  },
  {
   "cell_type": "code",
   "execution_count": null,
   "metadata": {
    "colab": {
     "base_uri": "https://localhost:8080/"
    },
    "id": "1imZ8E0O3mAd",
    "outputId": "b23c511f-177d-435a-b72d-f72cdd88a642"
   },
   "outputs": [
    {
     "name": "stdout",
     "output_type": "stream",
     "text": [
      "La raiz es: -0.3328366665346876\n"
     ]
    }
   ],
   "source": [
    "g= lambda w: w- fun(w)\n",
    "rootp1= optimize.fixed_point(g, -0.2)\n",
    "print(\"La raiz es:\",rootp1)"
   ]
  },
  {
   "cell_type": "markdown",
   "metadata": {
    "id": "1p3txerULcMO"
   },
   "source": [
    "Metodo de Newton y Método Secante"
   ]
  },
  {
   "cell_type": "code",
   "execution_count": null,
   "metadata": {
    "colab": {
     "base_uri": "https://localhost:8080/"
    },
    "id": "Dy9BD2xz6gOD",
    "outputId": "f1e1106b-0faf-4666-cd1a-94f7217fb2b0"
   },
   "outputs": [
    {
     "name": "stdout",
     "output_type": "stream",
     "text": [
      "La raiz usando el metodo de secante es: -0.33283666653803906\n",
      "La raiz usando el metodo de newton es: -0.332827625163355\n"
     ]
    }
   ],
   "source": [
    "\n",
    "def df(x): \n",
    "    return -(4.88*(x*np.cosh(x))- 2*np.sinh(x)/(x**3- np.cos(x)))\n",
    "\n",
    "Raiz= optimize.newton(fun,w1, tol = 1e-5)\n",
    "print(\"La raiz usando el metodo de secante es:\", Raiz[0])\n",
    "\n",
    "raiz1 = optimize.newton(fun,root,fprime=df,tol=1.e-5)       \n",
    "print(\"La raiz usando el metodo de newton es:\", raiz1)\n"
   ]
  },
  {
   "cell_type": "markdown",
   "metadata": {
    "id": "5_QUMljGLsRh"
   },
   "source": [
    "# Solución Segundo Punto"
   ]
  },
  {
   "cell_type": "code",
   "execution_count": null,
   "metadata": {
    "id": "viuxSYNPMJAr"
   },
   "outputs": [],
   "source": [
    "f = lambda theta: theta - np.sin(theta) - np.pi/2\n",
    "theta = np.linspace(0, 2*np.pi, 100)\n",
    "\n",
    "df = pd.DataFrame({ \"theta\": theta, \"f_theta\": f(theta)  })\n"
   ]
  },
  {
   "cell_type": "markdown",
   "metadata": {
    "id": "Ud5TSZSCe0Pa"
   },
   "source": [
    "**Método de Bisección**"
   ]
  },
  {
   "cell_type": "code",
   "execution_count": null,
   "metadata": {
    "colab": {
     "base_uri": "https://localhost:8080/"
    },
    "id": "n8ukaFlhey1K",
    "outputId": "2f853744-04f3-467c-bb71-bcfd0094e2ec"
   },
   "outputs": [
    {
     "name": "stdout",
     "output_type": "stream",
     "text": [
      "la raiz de usando Bisección f(theta) 2.309882164001465\n"
     ]
    }
   ],
   "source": [
    "rootp2 = optimize.bisect(f, 1, 3, xtol=1E-6)\n",
    "print( f\"la raiz de usando Bisección f(theta) {rootp2:}\")"
   ]
  },
  {
   "cell_type": "code",
   "execution_count": null,
   "metadata": {
    "colab": {
     "base_uri": "https://localhost:8080/"
    },
    "id": "Wiv9e1nXD2eV",
    "outputId": "82a1c9c5-e0a9-436c-dcd1-54836d07aa35"
   },
   "outputs": [
    {
     "data": {
      "image/png": "[encoded data removed]",
      "text/plain": [
       "<Figure size 432x288 with 1 Axes>"
      ]
     },
     "metadata": {
      "needs_background": "light"
     },
     "output_type": "display_data"
    }
   ],
   "source": [
    "plt.figure()\n",
    "plt.plot(df.theta.values, df.f_theta.values)\n",
    "plt.xlabel(\"$\\\\theta$\", fontsize=14 )\n",
    "plt.ylabel( \"$f(\\\\theta)$\",fontsize=14 )\n",
    "plt.xticks(fontsize = 14)\n",
    "plt.yticks(fontsize = 14)\n",
    "plt.plot(rootp2,f(rootp2),'ro', label= f'Raíz= {rootp2}')\n",
    "plt.axhline(0, color = 'black')\n",
    "plt.legend()\n",
    "plt.grid()\n",
    "plt.show()"
   ]
  },
  {
   "cell_type": "markdown",
   "metadata": {
    "id": "HNcX245oe-UQ"
   },
   "source": [
    "**Método Punto Fijo**"
   ]
  },
  {
   "cell_type": "code",
   "execution_count": null,
   "metadata": {
    "colab": {
     "base_uri": "https://localhost:8080/"
    },
    "id": "3tsmdUsFe-oM",
    "outputId": "9675542e-47a2-4e25-efd5-d446a6246800"
   },
   "outputs": [
    {
     "name": "stdout",
     "output_type": "stream",
     "text": [
      "La raiz usando Punto fijo es: 2.3098814600100575\n"
     ]
    }
   ],
   "source": [
    "g1 = lambda theta: theta - f(theta)\n",
    "root1= optimize.fixed_point(g1, -0.2)\n",
    "print(f\"La raiz usando Punto fijo es:\",root1)"
   ]
  },
  {
   "cell_type": "markdown",
   "metadata": {
    "id": "ew-wbSeWfGaP"
   },
   "source": [
    "**Método Secanta y Método de Newton**"
   ]
  },
  {
   "cell_type": "code",
   "execution_count": null,
   "metadata": {
    "colab": {
     "base_uri": "https://localhost:8080/"
    },
    "id": "aSbvNGYaNZBP",
    "outputId": "628f2f66-6384-4d91-b8ab-f299bd7f869b"
   },
   "outputs": [
    {
     "name": "stdout",
     "output_type": "stream",
     "text": [
      "La raiz usando el metodo de secante es: 2.3098814600100575\n",
      "La raiz usando el metodo de newton es: 2.309881460010057\n"
     ]
    },
    {
     "name": "stderr",
     "output_type": "stream",
     "text": [
      "/usr/local/lib/python3.7/dist-packages/scipy/optimize/zeros.py:450: RuntimeWarning: RMS of 3.41425e-06 reached\n",
      "  'RMS of {:g} reached'.format(rms), RuntimeWarning)\n"
     ]
    }
   ],
   "source": [
    "def dfu(theta): \n",
    "    return (1-np.cos(theta))\n",
    "\n",
    "Root2= optimize.newton(f,theta, tol = 1e-5)\n",
    "print(\"La raiz usando el metodo de secante es:\", Root2[1])\n",
    "\n",
    "raiz1 = optimize.newton(f,root1 ,fprime=dfu,tol=1e-5)       \n",
    "print(\"La raiz usando el metodo de newton es:\", raiz1)"
   ]
  },
  {
   "cell_type": "markdown",
   "metadata": {
    "id": "2trd7SV1W52G"
   },
   "source": [
    "# Solución Tercer Punto"
   ]
  },
  {
   "cell_type": "code",
   "execution_count": null,
   "metadata": {
    "id": "NQ1fgOuWW-sr"
   },
   "outputs": [],
   "source": [
    "l = 89\n",
    "h = 49\n",
    "D = 55\n",
    "β = 0.064*np.pi \n",
    "A = l * np.sin(β)\n",
    "B = l * np.cos(β)\n",
    "C = (h + 0.5 * D) * np.sin(β) - 0.5 *D*np.tan(β)\n",
    "E = (h + 0.5 * D) * np.cos(β) - 0.5 * D\n",
    "\n",
    "Fun3 = lambda α : A*np.sin(α)*np.cos(α) + B*np.sin(α)**2 - C*np.cos(α) - E*np.sin(α)"
   ]
  },
  {
   "cell_type": "markdown",
   "metadata": {
    "id": "5ju468tIgo64"
   },
   "source": [
    "Método de Bisección"
   ]
  },
  {
   "cell_type": "code",
   "execution_count": null,
   "metadata": {
    "colab": {
     "base_uri": "https://localhost:8080/"
    },
    "id": "zeCdSkRpgXf1",
    "outputId": "853b11fc-0ea5-4a0e-d7c4-40606251d7d8"
   },
   "outputs": [
    {
     "name": "stdout",
     "output_type": "stream",
     "text": [
      "La Primera raiz por bisección es: 0.5754470825195312 . En grados es: 32.97068916148555 °\n",
      "La Segunda raiz por bisección es: 2.5661491394042972\n",
      "La Tercera raiz por bisección es: 2.940533447265625\n",
      "La Cuarta raiz por bisección es: 6.082130432128906\n"
     ]
    }
   ],
   "source": [
    "fun3 = lambda α : A*np.sin(α)*np.cos(α) + B*np.sin(α)**2 - C*np.cos(α) - E*np.sin(α)\n",
    "\n",
    "rootp3_1= optimize.bisect(fun3,0,2, xtol=1E-5)\n",
    "rootp3_2= optimize.bisect(fun3, 2, 2.7, xtol=1E-5)\n",
    "rootp3_3= optimize.bisect(fun3, 2.6, 3, xtol=1E-5)\n",
    "rootp3_4= optimize.bisect(fun3, 6, 6.5, xtol=1E-5)\n",
    "\n",
    "print(\"La Primera raiz por bisección es:\",rootp3_1,\". En grados es:\", np.rad2deg(rootp3_1),\"°\")\n",
    "print(\"La Segunda raiz por bisección es:\",rootp3_2)\n",
    "print(\"La Tercera raiz por bisección es:\",rootp3_3)\n",
    "print(\"La Cuarta raiz por bisección es:\",rootp3_4)"
   ]
  },
  {
   "cell_type": "code",
   "execution_count": null,
   "metadata": {
    "colab": {
     "base_uri": "https://localhost:8080/",
     "height": 303
    },
    "id": "joCU2vPYBNsx",
    "outputId": "30808b23-ccc6-4911-c8d3-e58683c0fa8d"
   },
   "outputs": [
    {
     "data": {
      "image/png": "[encoded data removed]",
      "text/plain": [
       "<Figure size 432x288 with 1 Axes>"
      ]
     },
     "metadata": {
      "needs_background": "light"
     },
     "output_type": "display_data"
    }
   ],
   "source": [
    "#Grafica de las raices por el metodo de Bisección\n",
    "α= np.linspace(0,2*np.pi,100)\n",
    "plt.plot(α, fun3(α),\"hotpink\")\n",
    "plt.title(\"Gráfica de las intersecciones\")\n",
    "plt.xlim(0,7)\n",
    "plt.ylim(-20,150)\n",
    "plt.xlabel(\"$\\\\alpha$\", fontsize=14 )\n",
    "plt.ylabel( \"$f(\\\\alpha)$\",fontsize=14 )\n",
    "plt.xticks(fontsize = 14)\n",
    "plt.yticks(fontsize = 14)\n",
    "plt.axhline(0, color = 'black')\n",
    "plt.plot(rootp3_1,fun3(rootp3_1),'ro', label= f'Raíz 1= {rootp3_1}')\n",
    "plt.plot(rootp3_2,fun3(rootp3_2),'go', label= f'Raíz 2= {rootp3_2}')\n",
    "plt.plot(rootp3_3,fun3(rootp3_3),'mo', label= f'Raíz 3= {rootp3_3}')\n",
    "plt.plot(rootp3_4,fun3(rootp3_4),'bo', label= f'Raíz 4= {rootp3_4}')\n",
    "plt.legend()\n",
    "plt.grid()"
   ]
  },
  {
   "cell_type": "markdown",
   "metadata": {
    "id": "CT729xjZgqAV"
   },
   "source": [
    "Método Punto Fijo"
   ]
  },
  {
   "cell_type": "code",
   "execution_count": null,
   "metadata": {
    "colab": {
     "base_uri": "https://localhost:8080/"
    },
    "id": "0Ulf8KjHgf-l",
    "outputId": "f4d6ff3c-34cf-4a40-852f-dee6d99d7c0a"
   },
   "outputs": [
    {
     "name": "stdout",
     "output_type": "stream",
     "text": [
      "La raiz usando Punto fijo es: 0.5754462949815505 . En grados es: 32.97064403888305 °\n"
     ]
    }
   ],
   "source": [
    "gp3 = lambda α: α - fun3(α)\n",
    "root1= optimize.fixed_point(gp3,0.57)\n",
    "root2= optimize.fixed_point(gp3,2.56)\n",
    "print(\"La raiz usando Punto fijo es:\",root1, \". En grados es:\", np.rad2deg(root1), \"°\")"
   ]
  },
  {
   "cell_type": "markdown",
   "metadata": {
    "id": "RCa-GbbegrCV"
   },
   "source": [
    "Método Secante y Método de Newton"
   ]
  },
  {
   "cell_type": "code",
   "execution_count": null,
   "metadata": {
    "colab": {
     "base_uri": "https://localhost:8080/"
    },
    "id": "UsmEwe0pgmLx",
    "outputId": "8bed6bf8-fe2d-4999-a698-1729e7c3055b"
   },
   "outputs": [
    {
     "name": "stdout",
     "output_type": "stream",
     "text": [
      "La raiz usando el método de secante es: 0.5754462949815512 . En grados es: 32.97064403888309 °\n",
      "La raiz usando el método de newton es: 0.5754462630454462 . En grados es: 32.97064220907906 °\n"
     ]
    }
   ],
   "source": [
    "def dfu3(α): \n",
    "    return (A*np.cos(2*α) + B+np.sin(2*α) - C*np.sin(α) - E*np.cos(α))\n",
    "\n",
    "Root2= optimize.newton(fun3, α , tol = 1e-5)\n",
    "print(\"La raiz usando el método de secante es:\", Root2[3], \". En grados es:\", np.rad2deg(Root2[3]),\"°\")\n",
    "\n",
    "raiz1 = optimize.newton(fun3,rootp3_1 ,fprime=dfu3,tol=1e-5)       \n",
    "print(\"La raiz usando el método de newton es:\", raiz1, \". En grados es:\", np.rad2deg(raiz1),\"°\" )"
   ]
  },
  {
   "cell_type": "markdown",
   "metadata": {
    "id": "7zusSETQj2NM"
   },
   "source": [
    "## **Por lo tanto, el resultado se aproxima a 33° por lo que se comprueba el enuncido**"
   ]
  },
  {
   "cell_type": "markdown",
   "metadata": {
    "id": "XYcuv4CgK1mL"
   },
   "source": [
    "# Solución Cuarto punto "
   ]
  },
  {
   "cell_type": "code",
   "execution_count": null,
   "metadata": {
    "id": "coo74WrCoVBh"
   },
   "outputs": [],
   "source": [
    "Npx_X = 80 #Numero de pixeles en x\n",
    "Npx_Y = 80 #Numero de pixeles en y\n",
    "\n",
    "image = Image.new(\"RGB\", (Npx_X, Npx_Y)) #Creacion de la imagen inicial\n",
    "\n",
    "npx = np.arange(0, Npx_X)\n",
    "npy = np.arange(0, Npx_Y)\n",
    "\n",
    "xmin = -1\n",
    "xmax = 1\n",
    "ymin = -1\n",
    "ymax = 1\n",
    "#Transformación al plano complejo en un rectangulo (xmin, xmax), (ymin, ymax)\n",
    "zx = npx * (xmax - xmin) / (Npx_X - 1)   + xmin\n",
    "zy = npy * (ymax-ymin) / (Npx_Y - 1) + ymin\n"
   ]
  },
  {
   "cell_type": "code",
   "execution_count": null,
   "metadata": {
    "id": "wMsrzKovpVG7"
   },
   "outputs": [],
   "source": [
    "#Definicion  la funcion y las derivada \n",
    "def f(z): \n",
    "  return z**3 - 1\n",
    "\n",
    "def fp(z): \n",
    "  return 3*z**2\n",
    "\n",
    "h = 1E-4\n",
    "def fpn(z, h): \n",
    "  return (f(z+h)-f(z))/h\n",
    "  \n"
   ]
  },
  {
   "cell_type": "code",
   "execution_count": null,
   "metadata": {
    "id": "pZC8_84kpVJ1"
   },
   "outputs": [],
   "source": [
    "a = 0.2\n",
    "Niteraciones = 120\n",
    "eps = 1E-8\n",
    "\n",
    "x = - 1\n",
    "for zx_ in zx:\n",
    "  x = x + 1 \n",
    "  y = -1\n",
    "  for zy_ in zy: \n",
    "      y = y + 1\n",
    "      Z_0 = complex(zx_, zy_)\n",
    "    \n",
    "      for i in range(0, Niteraciones): \n",
    "        Z = Z_0 - a * f(Z_0)/fp(Z_0)\n",
    "\n",
    "        if( abs(Z-Z_0)<= eps):\n",
    "          break \n",
    "          \n",
    "        Z_0 = Z\n",
    "      #print(i)\n",
    "      #print(i)\n",
    "      r, g, b = i % 4 *64 , i % 8 *16, i% 16* 16\n",
    "      \n",
    "      image.putpixel((x,y), (r,g,b) )\n"
   ]
  },
  {
   "cell_type": "code",
   "execution_count": null,
   "metadata": {
    "colab": {
     "base_uri": "https://localhost:8080/",
     "height": 286
    },
    "id": "hfzvlcD6pVM0",
    "outputId": "ccab2b02-9674-4895-c3ad-ee464b0f9939"
   },
   "outputs": [
    {
     "data": {
      "text/plain": [
       "<matplotlib.image.AxesImage at 0x7fb52253c350>"
      ]
     },
     "execution_count": 43,
     "metadata": {},
     "output_type": "execute_result"
    },
    {
     "data": {
      "image/png": "[encoded data removed]",
      "text/plain": [
       "<Figure size 432x288 with 1 Axes>"
      ]
     },
     "metadata": {
      "needs_background": "light"
     },
     "output_type": "display_data"
    }
   ],
   "source": [
    "plt.imshow(image)\n",
    "#plt.xlim(400, 600)\n",
    "#plt.ylim(400, 523)\n"
   ]
  },
  {
   "cell_type": "markdown",
   "metadata": {
    "id": "MypIUCn74NbU"
   },
   "source": [
    "# La tarea se realizó en pareja entre las estudiantes Anny Diossa Castañeda y Sara Carvajal Ramírez"
   ]
  }
 ],
 "metadata": {
  "colab": {
   "collapsed_sections": [
    "5_QUMljGLsRh",
    "2trd7SV1W52G",
    "XYcuv4CgK1mL"
   ],
   "name": "1193090281 Tarea02_Solucion_ecuaciones.ipynb",
   "provenance": []
  },
  "kernelspec": {
   "display_name": "Python 3 (ipykernel)",
   "language": "python",
   "name": "python3"
  },
  "language_info": {
   "codemirror_mode": {
    "name": "ipython",
    "version": 3
   },
   "file_extension": ".py",
   "mimetype": "text/x-python",
   "name": "python",
   "nbconvert_exporter": "python",
   "pygments_lexer": "ipython3",
   "version": "3.8.12"
  }
 },
 "nbformat": 4,
 "nbformat_minor": 1
}
