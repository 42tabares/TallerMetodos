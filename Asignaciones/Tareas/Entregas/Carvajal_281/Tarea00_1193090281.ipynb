{
 "cells": [
  {
   "cell_type": "markdown",
   "metadata": {
    "id": "gOOslDFUMSLD"
   },
   "source": [
    "\n",
    "\n",
    "#**PUNTO 1: FACTORIAL!**\n",
    "\n"
   ]
  },
  {
   "cell_type": "code",
   "execution_count": null,
   "metadata": {
    "colab": {
     "base_uri": "https://localhost:8080/"
    },
    "id": "oMjX18teFWBN",
    "outputId": "a186a375-7432-4028-b1e5-ee452b7e5fa3"
   },
   "outputs": [],
   "source": [
    "#Hallar factorial de un numero\n",
    "import numpy as np \n",
    "\n",
    "#se genera la linea de codigo que identifique el tipo de dato\n",
    "try:\n",
    "  n=int(input(\"Ingrese numero (Entero):\"))\n",
    "\n",
    "except: \n",
    "  print(\"No es un entero\")\n",
    "\n",
    "if isinstance(n,int):\n",
    "  N=1\n",
    "  for i in range (1,n+1): \n",
    "   N*=i\n",
    "  print(f\"El resultado de {n}! es {N}\")\n",
    "\n",
    "\n"
   ]
  },
  {
   "cell_type": "markdown",
   "metadata": {
    "id": "gZghX_6pMh16"
   },
   "source": [
    "#**PUNTO 2: A,B Y SU CORRESPONDENCIA**"
   ]
  },
  {
   "cell_type": "code",
   "execution_count": null,
   "metadata": {
    "colab": {
     "base_uri": "https://localhost:8080/"
    },
    "id": "OCVMTLNmMQ8e",
    "outputId": "b79c03ce-b709-47e4-c4ba-d17251d3ce76"
   },
   "outputs": [],
   "source": [
    "try: \n",
    "  A= int(input(\"Ingrese numero (A):\"))\n",
    "  B= int(input(\"Ingrese numero (B):\"))\n",
    "\n",
    "except:\n",
    "  print(\"Ingrese de nuevo\")\n",
    "\n",
    "#Se crean listas para ingresar los datos que se vayan obteniendo\n",
    "a_=[]\n",
    "b_=[]\n",
    "\n",
    "def propios (x):\n",
    "#condiciones para numeros (1 y 0)  \n",
    "  if x==0: \n",
    "      return \"Este numero no tiene divisores propios\"\n",
    "\n",
    "  elif x==1: \n",
    "    uno=[1]\n",
    "    return uno\n",
    "\n",
    "  else:\n",
    "    prop=[]\n",
    "    for i in range(1,round((x+2)/2)):\n",
    "      if x%i==0:\n",
    "        prop.append(i)\n",
    "    prop.append(x)\n",
    "    \n",
    "    return prop\n",
    "\n",
    "#haciendo uso de la función anterior\n",
    "a_p = propios(A) \n",
    "b_p= propios(B)\n",
    " \n",
    "if sum(a_p)-A<A:\n",
    "  print(\"A es un numero defectivo\")\n",
    "if sum(b_p)-B<B:\n",
    "  print(\"B es un numero defectivo\")\n",
    "\n",
    "if sum(a_p)-A>A:\n",
    "  print(\"A es un numero Abundante\")\n",
    "if sum(b_p)-B>B:\n",
    "  print(\"B es un numero Abundante\")\n",
    "\n",
    "if sum(a_p)-A==B and sum(b_p)-B==A: \n",
    "  print(\"A y B son numeros amigos\")\n",
    "\n",
    "if sum(a_p)-A==A:\n",
    "  print(\"A es un numero perfecto\")\n",
    "if sum(b_p)-B==B:\n",
    "  print(\"B es un numero perfecto\")\n",
    "\n",
    "if len(a_p)==2:\n",
    "  print(\"A es un numero primo\")\n",
    "if len(b_p)==2:\n",
    "  print(\"B es un numero primo\")\n",
    "sum(a_p)\n",
    "\n",
    "#Numeros SEMIPERFECTOS\n",
    "import itertools\n",
    "#a_p son los propios de A\n",
    "a_p.remove(A)\n",
    "b_p.remove(B)\n",
    "def semiperfectos(x,propios_x):\n",
    "  for i in range(1,len(propios_x)+1):\n",
    "    total={sum(x)for x in itertools.combinations(propios_x,i)}\n",
    "    if x in total:  \n",
    "      print(f\"{x} es un numero semiperfecto\")\n",
    "      break\n",
    "    if i== len(propios_x) and not x in total: \n",
    "      print(f\"{x} no es un numero semiperfecto\")\n",
    "#6,12,18,20,24,28,30,36,40\n",
    "semiperfectos(A,a_p)\n",
    "semiperfectos(B,b_p)"
   ]
  },
  {
   "cell_type": "markdown",
   "metadata": {
    "id": "CeIJaK_WkQbH"
   },
   "source": [
    "#**PUNTO** **3:** **PALINDROMOS**"
   ]
  },
  {
   "cell_type": "code",
   "execution_count": null,
   "metadata": {
    "colab": {
     "base_uri": "https://localhost:8080/"
    },
    "id": "b0FAtI1uR3Oe",
    "outputId": "8036c767-b46d-4cc7-dd8d-dfafd9e731ef"
   },
   "outputs": [],
   "source": [
    "try: \n",
    "  A= (input(\"Ingrese numero:\"))      \n",
    "  A1=A[::-1]\n",
    "  A1=int(A1)\n",
    "  A=int(A)\n",
    "\n",
    "except: \n",
    "  print(\"Intente de nuevo\")\n",
    "\n",
    "if A1==A: \n",
    "  print(\"Estos numeros son palindromos\")\n",
    "\n",
    "else: \n",
    "  print(\"Este número no es palindromo\")"
   ]
  },
  {
   "cell_type": "markdown",
   "metadata": {
    "id": "D5IlEN41oRCE"
   },
   "source": [
    "#**PUNTO 4: PALABRAS**"
   ]
  },
  {
   "cell_type": "code",
   "execution_count": 13,
   "metadata": {
    "colab": {
     "base_uri": "https://localhost:8080/"
    },
    "id": "MjsFuM_dmHAY",
    "outputId": "aef800fb-e208-4455-e04d-f67e2db73c6a"
   },
   "outputs": [
    {
     "name": "stdout",
     "output_type": "stream",
     "text": [
      "[False, 7, 7, 'odepipelelarap']\n"
     ]
    }
   ],
   "source": [
    "#\n",
    "def cadena (n):\n",
    "  palabra = str.lower(n)\n",
    "  longitud_n = len(n)\n",
    "  solucion = []\n",
    "  numero_vocales= 0\n",
    "  numero_consonante=0\n",
    "  if len(n) % 2 == 0:\n",
    "    numero_caracter_medio = int((longitud_n/2) + 1)\n",
    "  else:  \n",
    "    print(longitud_n)\n",
    "    numero_caracter_medio = int(longitud_n/2 + 0.5)\n",
    "\n",
    "  if n[numero_caracter_medio] in ['a','e','i','o','u']:\n",
    "    solucion.append(True)\n",
    "  else:  \n",
    "    solucion.append(False)\n",
    "    \n",
    "  for i in n:   \n",
    "    if i in ['a','e','i','o','u']:\n",
    "      numero_vocales+=1\n",
    "  solucion.append(numero_vocales)  \n",
    "\n",
    "      \n",
    "  for i in n:   \n",
    "    if i in ['b','c','d','f','g','h','j','k','l','m','n','s','p','q','r','t','v','w','x','y','z']:\n",
    "      numero_consonante+=1\n",
    "  solucion.append(numero_consonante) \n",
    "\n",
    "  n1=n[::-1]\n",
    "  solucion.append(n1)\n",
    "  return solucion\n",
    "\n",
    "\n",
    "\n",
    "Cad= cadena(\"paralelepipedo\")\n",
    "print(Cad)"
   ]
  },
  {
   "cell_type": "markdown",
   "metadata": {
    "id": "3ek8DL_I0suY"
   },
   "source": [
    "# **PUNTO 5: SUCESIÓN DE FIBONACCI**"
   ]
  },
  {
   "cell_type": "code",
   "execution_count": 14,
   "metadata": {
    "colab": {
     "base_uri": "https://localhost:8080/"
    },
    "id": "X2UleOvz179X",
    "outputId": "3e48393b-b037-45e3-e8c2-cebbe4bfed9c"
   },
   "outputs": [
    {
     "name": "stdout",
     "output_type": "stream",
     "text": [
      "6557470319842\n"
     ]
    }
   ],
   "source": [
    "#x=int(input(\"Ingrese la posición del termino que desea conocer\"))\n",
    "\n",
    "def fib(n):\n",
    "\n",
    "  if n == 0:\n",
    "    return 0\n",
    "\n",
    "  elif n == 1:\n",
    "    return 1\n",
    "\n",
    "  else:\n",
    "    x_0 = 0\n",
    "    x_1 = 1\n",
    "    x_n = None\n",
    "    for i in range(1,n):\n",
    "      x_n = x_0 + x_1\n",
    "      x_0 = x_1\n",
    "      x_1 = x_n\n",
    "\n",
    "    return x_n\n",
    "\n",
    "print(fib(63))    "
   ]
  },
  {
   "cell_type": "markdown",
   "metadata": {
    "id": "GeH-UfymAXqD"
   },
   "source": [
    "#**PUNTO 6:QUICKSORT**#"
   ]
  },
  {
   "cell_type": "code",
   "execution_count": 15,
   "metadata": {
    "colab": {
     "base_uri": "https://localhost:8080/"
    },
    "id": "8AMkhpy1AZO0",
    "outputId": "0fa1662c-bcdc-47f4-8d28-1b8282021525"
   },
   "outputs": [
    {
     "name": "stdout",
     "output_type": "stream",
     "text": [
      "Ingrese la cantidad de numeros de la lista: 5\n",
      "Ingrese el numero: 42\n",
      "Ingrese el numero: 52\n",
      "Ingrese el numero: 63\n",
      "Ingrese el numero: 2\n",
      "Ingrese el numero: 64\n",
      "[2, 42, 52, 63, 64]\n"
     ]
    }
   ],
   "source": [
    "N= int(input(\"Ingrese la cantidad de numeros de la lista: \"))\n",
    "Lista=[]\n",
    "for i in range(N):\n",
    " num= int(input(\"Ingrese el numero: \"))\n",
    " Lista.append(num)\n",
    "\n",
    "def Quicksort(x):\n",
    "\n",
    "  def Ordenamiento(x):\n",
    "    for i in range(len(x)):\n",
    "      if x[i]< pivote:\n",
    "        menores.append(x[i])\n",
    "      elif x[i]> pivote:\n",
    "        mayores.append(x[i])\n",
    "      elif x[i]== pivote:\n",
    "        iguales.append(x[i])\n",
    "\n",
    "  if len(x) <= 1:\n",
    "    return x\n",
    "\n",
    "  else: \n",
    "    menores=[]\n",
    "    mayores=[]\n",
    "    iguales=[]\n",
    "    pivote= x[len(x)-1]\n",
    "    Ordenamiento(x)\n",
    "    return Quicksort(menores)+ iguales+ Quicksort(mayores)\n",
    "print(Quicksort(Lista))"
   ]
  }
 ],
 "metadata": {
  "colab": {
   "collapsed_sections": [
    "gOOslDFUMSLD",
    "CeIJaK_WkQbH",
    "D5IlEN41oRCE"
   ],
   "name": "Tarea00_1193090281.ipynb",
   "provenance": []
  },
  "kernelspec": {
   "display_name": "Python 3 (ipykernel)",
   "language": "python",
   "name": "python3"
  },
  "language_info": {
   "codemirror_mode": {
    "name": "ipython",
    "version": 3
   },
   "file_extension": ".py",
   "mimetype": "text/x-python",
   "name": "python",
   "nbconvert_exporter": "python",
   "pygments_lexer": "ipython3",
   "version": "3.8.12"
  }
 },
 "nbformat": 4,
 "nbformat_minor": 1
}
