{
  "nbformat": 4,
  "nbformat_minor": 0,
  "metadata": {
    "colab": {
      "name": "Tarea00_1193090281.ipynb",
      "provenance": [],
      "collapsed_sections": [
        "gOOslDFUMSLD",
        "CeIJaK_WkQbH",
        "D5IlEN41oRCE"
      ]
    },
    "kernelspec": {
      "name": "python3",
      "display_name": "Python 3"
    },
    "language_info": {
      "name": "python"
    }
  },
  "cells": [
    {
      "cell_type": "markdown",
      "metadata": {
        "id": "gOOslDFUMSLD"
      },
      "source": [
        "\n",
        "\n",
        "#**PUNTO 1: FACTORIAL!**\n",
        "\n"
      ]
    },
    {
      "cell_type": "code",
      "metadata": {
        "id": "oMjX18teFWBN"
      },
      "source": [
        "#Hallar factorial de un numero\n",
        "import numpy as np \n",
        "\n",
        "#se genera la linea de codigo que identifique el tipo de dato\n",
        "try:\n",
        "  n=int(input(\"Ingrese numero (Entero):\"))\n",
        "\n",
        "except: \n",
        "  print(\"No es un entero\")\n",
        "\n",
        "if isinstance(n,int):\n",
        "  N=1\n",
        "  for i in range (1,n+1): \n",
        "   N*=i\n",
        "  print(f\"El resultado de {n}! es {N}\")\n",
        "\n",
        "\n"
      ],
      "execution_count": null,
      "outputs": []
    },
    {
      "cell_type": "markdown",
      "metadata": {
        "id": "gZghX_6pMh16"
      },
      "source": [
        "#**PUNTO 2: A,B Y SU CORRESPONDENCIA**"
      ]
    },
    {
      "cell_type": "code",
      "metadata": {
        "id": "OCVMTLNmMQ8e",
        "colab": {
          "base_uri": "https://localhost:8080/"
        },
        "outputId": "7ea483ef-3d67-42fa-dde4-d18ae8d5ab09"
      },
      "source": [
        "try: \n",
        "  A= int(input(\"Ingrese numero (A):\"))\n",
        "  B= int(input(\"Ingrese numero (B):\"))\n",
        "\n",
        "except:\n",
        "  print(\"Ingrese de nuevo\")\n",
        "\n",
        "#Se crean listas para ingresar los datos que se vayan obteniendo\n",
        "a_=[]\n",
        "b_=[]\n",
        "\n",
        "def propios (x):\n",
        "#condiciones para numeros (1 y 0)  \n",
        "  if x==0: \n",
        "      return \"Este numero no tiene divisores propios\"\n",
        "\n",
        "  elif x==1: \n",
        "    uno=[1]\n",
        "    return uno\n",
        "\n",
        "  else:\n",
        "    prop=[]\n",
        "    for i in range(1,round((x+2)/2)):\n",
        "      if x%i==0:\n",
        "        prop.append(i)\n",
        "    prop.append(x)\n",
        "    \n",
        "    return prop\n",
        "\n",
        "#haciendo uso de la función anterior\n",
        "a_p = propios(A) \n",
        "b_p= propios(B)\n",
        " \n",
        "if sum(a_p)-A<A:\n",
        "  print(\"A es un numero defectivo\")\n",
        "if sum(b_p)-B<B:\n",
        "  print(\"B es un numero defectivo\")\n",
        "\n",
        "if sum(a_p)-A>A:\n",
        "  print(\"A es un numero Abundante\")\n",
        "if sum(b_p)-B>B:\n",
        "  print(\"B es un numero Abundante\")\n",
        "\n",
        "if sum(a_p)-A==B and sum(b_p)-B==A: \n",
        "  print(\"A y B son numeros amigos\")\n",
        "\n",
        "if sum(a_p)-A==A:\n",
        "  print(\"A es un numero perfecto\")\n",
        "if sum(b_p)-B==B:\n",
        "  print(\"B es un numero perfecto\")\n",
        "\n",
        "if len(a_p)==2:\n",
        "  print(\"A es un numero primo\")\n",
        "if len(b_p)==2:\n",
        "  print(\"B es un numero primo\")\n",
        "sum(a_p)\n",
        "\n",
        "#Numeros SEMIPERFECTOS\n",
        "import itertools\n",
        "#a_p son los propios de A\n",
        "a_p.remove(A)\n",
        "b_p.remove(B)\n",
        "def semiperfectos(x,propios_x):\n",
        "  for i in range(1,len(propios_x)+1):\n",
        "    total={sum(x)for x in itertools.combinations(propios_x,i)}\n",
        "    if x in total:  \n",
        "      print(f\"{x} es un numero semiperfecto\")\n",
        "      break\n",
        "    if i== len(propios_x) and not x in total: \n",
        "      print(f\"{x} no es un numero semiperfecto\")\n",
        "#6,12,18,20,24,28,30,36,40\n",
        "semiperfectos(A,a_p)\n",
        "semiperfectos(B,b_p)"
      ],
      "execution_count": 16,
      "outputs": [
        {
          "output_type": "stream",
          "name": "stdout",
          "text": [
            "Ingrese numero (A):6\n",
            "Ingrese numero (B):48\n",
            "B es un numero Abundante\n",
            "A es un numero perfecto\n",
            "6 es un numero semiperfecto\n",
            "48 es un numero semiperfecto\n"
          ]
        }
      ]
    },
    {
      "cell_type": "markdown",
      "metadata": {
        "id": "CeIJaK_WkQbH"
      },
      "source": [
        "#**PUNTO** **3:** **PALINDROMOS**"
      ]
    },
    {
      "cell_type": "code",
      "metadata": {
        "id": "b0FAtI1uR3Oe"
      },
      "source": [
        "try: \n",
        "  A= (input(\"Ingrese numero:\"))      \n",
        "  A1=A[::-1]\n",
        "  A1=int(A1)\n",
        "  A=int(A)\n",
        "\n",
        "except: \n",
        "  print(\"Intente de nuevo\")\n",
        "\n",
        "\n",
        "\n",
        "if A1==A: \n",
        "  print(\"Estos numeros son palindromos\")\n",
        "\n"
      ],
      "execution_count": null,
      "outputs": []
    },
    {
      "cell_type": "markdown",
      "metadata": {
        "id": "D5IlEN41oRCE"
      },
      "source": [
        "#**PUNTO 4: PALABRAS**"
      ]
    },
    {
      "cell_type": "code",
      "metadata": {
        "id": "MjsFuM_dmHAY"
      },
      "source": [
        "#\n",
        "def cadena (n):\n",
        "  palabra = str.lower(n)\n",
        "  longitud_n = len(n)\n",
        "  solucion = []\n",
        "  numero_vocales= 0\n",
        "  numero_consonante=0\n",
        "  if len(n) % 2 == 0:\n",
        "    numero_caracter_medio = int((longitud_n/2) + 1)\n",
        "  else:  \n",
        "    print(longitud_n)\n",
        "    numero_caracter_medio = int(longitud_n/2 + 0.5)\n",
        "\n",
        "  if n[numero_caracter_medio] in ['a','e','i','o','u']:\n",
        "    solucion.append(True)\n",
        "  else:  \n",
        "    solucion.append(False)\n",
        "    \n",
        "  for i in n:   \n",
        "    if i in ['a','e','i','o','u']:\n",
        "      numero_vocales+=1\n",
        "  solucion.append(numero_vocales)  \n",
        "\n",
        "      \n",
        "  for i in n:   \n",
        "    if i in ['b','c','d','f','g','h','j','k','l','m','n','s','p','q','r','t','v','w','x','y','z']:\n",
        "      numero_consonante+=1\n",
        "  solucion.append(numero_consonante) \n",
        "\n",
        "  n1=n[::-1]\n",
        "  solucion.append(n1)\n",
        "  return solucion\n",
        "\n",
        "\n",
        "\n",
        "Cad= cadena(\"paralelepipedo\")\n",
        "print(Cad)"
      ],
      "execution_count": null,
      "outputs": []
    },
    {
      "cell_type": "markdown",
      "metadata": {
        "id": "3ek8DL_I0suY"
      },
      "source": [
        "# **PUNTO 5: SUCESIÓN DE FIBONACCI**"
      ]
    },
    {
      "cell_type": "code",
      "metadata": {
        "id": "X2UleOvz179X"
      },
      "source": [
        "#x=int(input(\"Ingrese la posición del termino que desea conocer\"))\n",
        "\n",
        "def fib(n):\n",
        "\n",
        "  if n == 0:\n",
        "    return 0\n",
        "\n",
        "  elif n == 1:\n",
        "    return 1\n",
        "\n",
        "  else:\n",
        "    x_0 = 0\n",
        "    x_1 = 1\n",
        "    x_n = None\n",
        "    for i in range(1,n):\n",
        "      x_n = x_0 + x_1\n",
        "      x_0 = x_1\n",
        "      x_1 = x_n\n",
        "\n",
        "    return x_n\n",
        "\n",
        "print(fib(63))    \n",
        "\n",
        "\n",
        "\n",
        "\n",
        "\n",
        "\n"
      ],
      "execution_count": null,
      "outputs": []
    },
    {
      "cell_type": "markdown",
      "source": [
        "#**PUNTO 6:QUICKSORT**#"
      ],
      "metadata": {
        "id": "GeH-UfymAXqD"
      }
    },
    {
      "cell_type": "code",
      "source": [
        "N= int(input(\"Ingrese la cantidad de numeros de la lista: \"))\n",
        "Lista=[]\n",
        "for i in range(N):\n",
        " num= int(input(\"Ingrese el numero: \"))\n",
        " Lista.append(num)\n",
        "\n",
        "def Quicksort(x):\n",
        "\n",
        "  def Ordenamiento(x):\n",
        "    for i in range(len(x)):\n",
        "      if x[i]< pivote:\n",
        "        menores.append(x[i])\n",
        "      elif x[i]> pivote:\n",
        "        mayores.append(x[i])\n",
        "      elif x[i]== pivote:\n",
        "        iguales.append(x[i])\n",
        "\n",
        "  if len(x) <= 1:\n",
        "    return x\n",
        "\n",
        "  else: \n",
        "    menores=[]\n",
        "    mayores=[]\n",
        "    iguales=[]\n",
        "    pivote= x[len(x)-1]\n",
        "    Ordenamiento(x)\n",
        "    return Quicksort(menores)+ iguales+ Quicksort(mayores)\n",
        "print(Quicksort(Lista))"
      ],
      "metadata": {
        "colab": {
          "base_uri": "https://localhost:8080/"
        },
        "id": "8AMkhpy1AZO0",
        "outputId": "ada6412d-8344-448a-d562-d0091b694266"
      },
      "execution_count": 67,
      "outputs": [
        {
          "output_type": "stream",
          "name": "stdout",
          "text": [
            "Ingrese la cantidad de numeros de la lista: 3\n",
            "Ingrese el numero: 43\n",
            "Ingrese el numero: 33\n",
            "Ingrese el numero: 23\n",
            "[23, 33, 43]\n"
          ]
        }
      ]
    }
  ]
}