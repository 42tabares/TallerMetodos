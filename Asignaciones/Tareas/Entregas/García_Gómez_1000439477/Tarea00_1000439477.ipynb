{
 "cells": [
  {
   "cell_type": "markdown",
   "metadata": {
    "id": "FRH6ZoPM4KeX"
   },
   "source": [
    "# Taller 0.0 de métodos computacionales para físicos  y astrónomos\n",
    "\n",
    "\n",
    "\n",
    "## Universidad de Antioquia\n",
    "### Profesor: Hernan D. Salinas Jiménez\n"
   ]
  },
  {
   "cell_type": "markdown",
   "metadata": {
    "id": "3IwaMxgT4Kee"
   },
   "source": [
    "## Taller: Sesion 0.0"
   ]
  },
  {
   "cell_type": "markdown",
   "metadata": {
    "id": "SV5BAn7x4Kef"
   },
   "source": [
    "## Unidad 1: \n",
    "\n",
    "Contenido Actitudinal: Observar como el computador produce errores en los cálculos. El computador no maneja infinitas cifras decimales.\n",
    "\n",
    "- Repaso breve del Python\n",
    "- Estructura básica de un programa en Python.\n",
    "- Numpy y rutinas de graficación.\n",
    "- Operaciones aritméticas con reales y complejos.\n",
    "- Números aleatorios, método del congruente lineal y problemas.\n",
    "- Errores: redondeo, truncamiento, sustracción cancelativa, precisiónde la máquina.\n",
    "- Algoritmos"
   ]
  },
  {
   "cell_type": "markdown",
   "metadata": {
    "id": "dgZqZVpe4Kef"
   },
   "source": [
    "## Instrucciones de entrega\n",
    "\n",
    "\n",
    "\n",
    "\n",
    "\n",
    "\n"
   ]
  },
  {
   "cell_type": "markdown",
   "metadata": {
    "id": "J6GPf6qe4Keg"
   },
   "source": [
    "## Problemas\n",
    "1. Elaborar un algoritmo e implementar en python, el factorial de un número entero `n` ingresado por el usuario.\n",
    "     ### Ejemplo de Ejecución\n",
    "    ```python\n",
    "\n",
    "    >>> factorial(3)\n",
    "        6\n",
    "\n",
    "    >>> factorial(1987123)\n",
    "        =???\n",
    "```\n"
   ]
  },
  {
   "cell_type": "code",
   "execution_count": 7,
   "metadata": {},
   "outputs": [
    {
     "data": {
      "text/plain": [
       "3628800"
      ]
     },
     "execution_count": 7,
     "metadata": {},
     "output_type": "execute_result"
    }
   ],
   "source": [
    "def factorial(n):\n",
    "    x=1\n",
    "    for i in range(1,n+1):\n",
    "        x=i*x\n",
    "    return x\n",
    "factorial()"
   ]
  },
  {
   "cell_type": "markdown",
   "metadata": {
    "id": "9-JZw0Do4Keg"
   },
   "source": [
    "[link text](https://)2. Diseñar un programa que lea dos numero `a` y `b` y diga que tipo de numero son, de a cuerdo a la siguiente clasificación:\n",
    "\n",
    " >- [Números defectivos](https://es.wikipedia.org/wiki/Número_defectivo) : la suma de los divisores propios es menor que el número.\n",
    " >- [Números abundantes](https://es.wikipedia.org/wiki/Número_abundante): la suma de los divisores es mayor que el número.\n",
    " >- [Números amigos](https://es.wikipedia.org/wiki/N%C3%BAmeros_amigos) `a` y `b` tales que a es la suma de los divisores propios de `b` y viceversa.\n",
    " >- [Números semiperfectos](https://es.wikipedia.org/wiki/N%C3%BAmero_semiperfecto) la suma de todos o algunos de los divisores propios es igual al número.\n",
    " >- [Números perfectos](https://es.wikipedia.org/wiki/N%C3%BAmero_perfecto) la suma de todos sus divisores propios, excepto el mismo numero, es igual al número.\n",
    " >- [Números primos](https://es.wikipedia.org/wiki/N%C3%BAmero_primo) el número es divisible unicamente por sí mismo y por 1.\n",
    " "
   ]
  },
  {
   "cell_type": "markdown",
   "metadata": {
    "id": "cARSuKs_4Keh"
   },
   "source": [
    " ### Ejemplo de Ejecución\n",
    "``` python\n",
    "\n",
    "    >>> clase_numero(a = 220, b =  284)\n",
    "        a = 220 y b = 284 son números amigos\n",
    "\n",
    "    >>> clase_numero(a = 24, b = 12 )\n",
    "        a = 24 es un numero abudante y b = 12 es un número defectivo. \n",
    "```\n"
   ]
  },
  {
   "cell_type": "code",
   "execution_count": null,
   "metadata": {
    "id": "v-WgFWlLGxO-"
   },
   "outputs": [],
   "source": [
    "def num(a,b):    \n",
    "    n=[]\n",
    "    for i in range(1,a):\n",
    "        if a%i==0:\n",
    "            n.append(i)\n",
    "    if sum(n)<a:\n",
    "        print(a, \"es un número defectivo\")\n",
    "    else: print(a,\"es un número abundante\")\n",
    "    print(n)\n",
    "    n1=[]\n",
    "    for i in range(1,b):\n",
    "        if b%i==0:\n",
    "            n1.append(i)\n",
    "    if sum(n1)<b:\n",
    "        print(b, \"es un número defectivo\")\n",
    "    else: print(b,\"es un número abundante\")\n",
    "    print(n1)\n",
    "    \n",
    "    if a==sum(n1) and b==sum(n):\n",
    "        print(a,\"y\",b,\"son números amigos\")\n",
    "        \n",
    "    if a==sum(n): print(a,\"es un número perfecto\")\n",
    "    \n",
    "    if b==sum(n1): print(b,\"es un número perfecto\")\n",
    "    \n",
    "    if sum(n)==1: print(a,\"es un número primo\")\n",
    "        \n",
    "    if sum(n1)==1: print(b,\"es un número primo\")"
   ]
  },
  {
   "cell_type": "markdown",
   "metadata": {
    "id": "45A4RWSm4Keh"
   },
   "source": [
    "3. Determine si un número `n` entero ingresado por el usuario es un [palíndromo](https://en.wikipedia.org/wiki/Palindromic_number), (Retorne `True` en caso afirmativo y `False` en caso contrario) \n",
    "\n",
    "```python\n",
    "\n",
    "\n",
    "    >>> palindromo(3333333)\n",
    "        True\n",
    "\n",
    "    >>> palindromo(2323)\n",
    "        True\n",
    "        \n",
    "    >>> palindromo(1111349111111)\n",
    "        False\n",
    "```\n",
    "\n",
    "\n"
   ]
  },
  {
   "cell_type": "code",
   "execution_count": 82,
   "metadata": {
    "id": "vtybv-vA-Yuz"
   },
   "outputs": [
    {
     "name": "stdout",
     "output_type": "stream",
     "text": [
      "15751 es palíndromo\n"
     ]
    }
   ],
   "source": [
    "def palindromo(x):\n",
    "    x1=str(x)\n",
    "    z=[]\n",
    "    l=len(x1)/2\n",
    "    #print(int(l))\n",
    "    if len(x1)%2==0:\n",
    "        for i in range(0,int(l)):\n",
    "            if x1[i]==x1[-(i+1)]:\n",
    "                z.append(1)\n",
    "        if sum(z)==l: print(x, \"es palíndromo\")\n",
    "    l1=(len(x1)-1)/2\n",
    "    if len(x1)%2!=0:\n",
    "        for i in range(0,int(l1)):\n",
    "            z.append(1)\n",
    "        if sum(z)==l1: print(x, \"es palíndromo\")\n",
    "        \n",
    "        \n",
    "    \n",
    "palindromo(15751)\n"
   ]
  },
  {
   "cell_type": "markdown",
   "metadata": {
    "id": "bmQYQxjX4Keh"
   },
   "source": [
    "\n",
    "4. Dada una cadena de caracteres, entregar una lista donde se retorne:\n",
    ">- en la primera casilla: `True` si el caracter del medio es una vocal, `False` en caso contrario \n",
    ">- en la segunda: el numero de vocales en la cadena\n",
    ">- en la tercera: el numero de consonantes\n",
    ">- en la ultima: la cadena de caracteres invertida (ej: perro, orrep)\n",
    "\n",
    "### Ejemplo de Ejecución\n",
    "```python\n",
    "\n",
    ">>> cadena(s ='perro')\n",
    "[False, 2, 3, 'orrep']\n",
    "\n",
    ">>> cadena(s ='murcielago')\n",
    "[True, 5, 5, 'ogaleicrum']\n",
    "\n",
    "```\n"
   ]
  },
  {
   "cell_type": "code",
   "execution_count": 115,
   "metadata": {},
   "outputs": [
    {
     "data": {
      "text/plain": [
       "[True, 5, 3, 'iojeegnaC']"
      ]
     },
     "execution_count": 115,
     "metadata": {},
     "output_type": "execute_result"
    }
   ],
   "source": [
    "import numpy as np\n",
    "def func(x):\n",
    "    x\n",
    "    m=[0,0,0,0]\n",
    "    k=(len(x)-1)/2\n",
    "    voc=[\"a\",\"e\",\"i\",\"o\",\"u\"]\n",
    "    cons=[\"b\",\"c\",\"d\",\"f\",\"g\",\"h\",\"j\",\"k\",\"l\",\"m\",\"n\",\"p\",\"q\",\"r\",\"s\",\"t\",\"w\",\"v\",\"x\",\"y\",\"z\"]\n",
    "    if len(x)%2==0: \n",
    "        m[0]=False\n",
    "    m1=[]\n",
    "    if len(x)%2!=0:\n",
    "        for i in voc:\n",
    "            if x[int(k)]==i:\n",
    "                m1.append(1)\n",
    "        if sum(m1)==1: m[0]=True\n",
    "        else: m[0]=False\n",
    "        \n",
    "    j=0\n",
    "    for i in range(len(x)):\n",
    "        for t in range(len(voc)):\n",
    "            if x[i]==voc[t]:\n",
    "                j=j+1\n",
    "    \n",
    "    j1=0\n",
    "    for i in range(len(x)):\n",
    "        for t in range(len(cons)):\n",
    "            if x[i]==cons[t]:\n",
    "                j1=j1+1\n",
    "    m[2]=j1\n",
    "    m[1]=j\n",
    "    m[3]=str(x[::-1])\n",
    "    \n",
    "    return m\n",
    "func(\"Cangeejoi\")"
   ]
  },
  {
   "cell_type": "markdown",
   "metadata": {
    "id": "Z6rU_h_q4Kei"
   },
   "source": [
    "\n",
    "5. Elabore un método para calcular el n-ésimo término de la sucesión de fibonacci: \n",
    "\n",
    "$$ f_n = f_{n-1}+f_{n-2}$$\n",
    "\n",
    "Donde $$f_0=0 \\:\\:\\text{ y }\\:\\:f_1=1 $$ así:   $$f_2=1+0=1$$ $$f_3=1+1=2$$  $$f_4=2+1=3$$ y así sucesivamente\n",
    "\n",
    "### Ejemplo de Ejecución\n",
    "```python\n",
    "\n",
    ">>> fibonacci(50)\n",
    "12586269025\n",
    "\n",
    ">>> fibonacci(63)\n",
    "6557470319842\n",
    "```\n"
   ]
  },
  {
   "cell_type": "code",
   "execution_count": 18,
   "metadata": {},
   "outputs": [
    {
     "data": {
      "text/plain": [
       "6557470319842"
      ]
     },
     "execution_count": 18,
     "metadata": {},
     "output_type": "execute_result"
    }
   ],
   "source": [
    "def fibonacci(n):\n",
    "    x0=0\n",
    "    x1=1\n",
    "    if n==0: return 0\n",
    "    if n==1: return 1\n",
    "    else:\n",
    "        for i in range(n-1):\n",
    "            xn=x0+x1\n",
    "            x0=x1\n",
    "            x1=xn\n",
    "        return xn\n",
    "fibonacci(63)"
   ]
  },
  {
   "cell_type": "markdown",
   "metadata": {
    "id": "1Aezlw_x4Kei"
   },
   "source": [
    "\n",
    "6. Entrar un arreglo de números y ordenarlos de forma ascendente, Ver algoritmo\n",
    "[Quicksort](https://es.wikipedia.org/wiki/Quicksort). \n",
    "\n",
    "\n",
    "```python\n",
    "\n",
    "\n",
    "<<< v = [22, 32, 42, 12, 22, 31, 41, 11, 12, 232, 24, 12, 22]\n",
    "<<< def quicksort(v):\n",
    "\n",
    "<<<     return v\n",
    "<<< w = print(quicksort(v))\n",
    "<<< [11, 12, 12, 12, 22, 22, 22, 24, 31, 32, 41, 42, 232]\n",
    "\n",
    "```\n",
    "\n",
    "Sólo para comprobar tu código,  puedes hacer uso del comando sort de python. \n",
    "```python\n",
    "<<< b = [22, 32, 42, 12, 22, 31, 41, 11, 12, 232, 24, 12, 22]\n",
    "\n",
    "<<< print(b.sort())\n",
    "\n",
    "<<< [11, 12, 12, 12, 22, 22, 22, 24, 31, 32, 41, 42, 232]\n",
    "```"
   ]
  },
  {
   "cell_type": "code",
   "execution_count": 5,
   "metadata": {},
   "outputs": [
    {
     "data": {
      "text/plain": [
       "[1, 9, 9, 16, 23, 28, 31, 44, 55, 67, 73, 88, 100, 430, 999, 1000]"
      ]
     },
     "execution_count": 5,
     "metadata": {},
     "output_type": "execute_result"
    }
   ],
   "source": [
    "def invertir(x):\n",
    "    x=x[-1:-len(x)-1:-1]\n",
    "    return x\n",
    "def qtsort(x):\n",
    "    k=len(x)\n",
    "    for j in range(k):\n",
    "        for i in range(k-1):\n",
    "            if x[i]>x[i+1]: \n",
    "                x[i:i+2:1]=invertir(x[i:i+2:1])\n",
    "    return x\n",
    "qtsort([1,100,9,23,44,55,1000,9,999,430,28,16,31,67,88,73])\n"
   ]
  },
  {
   "cell_type": "markdown",
   "metadata": {
    "id": "BTj0eQBs4Kej"
   },
   "source": [
    "## REFERENCIAS.\n",
    "[1] Scripts de un curso de python. [Raul Pollan](https://github.com/rramosp/20182.pcomp)  \n",
    "\n",
    "[2] [Fundamenteos de programación](https://sites.google.com/site/funpropoli/ejercicios-practicos)\n",
    "\n",
    "[3] Scripts de un curso de python. [Fernando Perez](https://github.com/fperez)\n"
   ]
  }
 ],
 "metadata": {
  "colab": {
   "collapsed_sections": [],
   "name": "taller000.ipynb",
   "provenance": []
  },
  "kernelspec": {
   "display_name": "Python 3 (ipykernel)",
   "language": "python",
   "name": "python3"
  },
  "language_info": {
   "codemirror_mode": {
    "name": "ipython",
    "version": 3
   },
   "file_extension": ".py",
   "mimetype": "text/x-python",
   "name": "python",
   "nbconvert_exporter": "python",
   "pygments_lexer": "ipython3",
   "version": "3.9.7"
  }
 },
 "nbformat": 4,
 "nbformat_minor": 1
}
