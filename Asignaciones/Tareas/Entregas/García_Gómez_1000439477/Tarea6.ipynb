{
 "cells": [
  {
   "cell_type": "markdown",
   "metadata": {
    "id": "Cdy-GXp4LEri"
   },
   "source": [
    "# Matrices "
   ]
  },
  {
   "cell_type": "code",
   "execution_count": 2,
   "metadata": {},
   "outputs": [],
   "source": [
    "import matplotlib.pyplot as plt"
   ]
  },
  {
   "cell_type": "markdown",
   "metadata": {
    "id": "Yrith54klatR"
   },
   "source": [
    "## Operaciones Básicas\n",
    "\n",
    "1. Un proceso para encriptar un mensaje secreto es usar cierta matrix cuadrada cuyos elementos son enteros con elementos enteros en la inversa. Se recibe un mensaje, se asigna un número a cada letra Por ejemplo, A=1, B=2, C=3, ... etc y espacio=27), se arreglan los números en una matriz de izquierda a derecha en cada fila, donde el número de elementos en la fila es igual al tamano de la matriz de codigo, se multiplica esa matriz por la matriz de código por la derecha, se transcribe el mensaje en una cadena de números y se manda el mensaje. \n",
    "\n",
    "La persona que debe recibir el mensaje conoce la matriz de codigo. El o ellla arrelgan el mensaje encriptado en una matriz de izquierda a derecha en cada fila, en donde el numero de elementos en una fila conicide con el tamano de la matriz de codigo muplicada por la derecha, por el inverso de la matriz de código y puede leer mensaje decodificado.\n",
    "\n",
    "Usted a recibido el siguiente mensaje que fue encriptado usando la matriz A. Decodifiquelo.\n",
    "\n",
    "```\n",
    "A = matrix([[ 1,  2, -3,  4,  5],\n",
    "        [-2, -5,  8, -8, -9],\n",
    "        [ 1,  2, -2,  7,  9],\n",
    "        [ 1,  1,  0,  6, 12],\n",
    "        [ 2,  4, -6,  8, 11]])\n",
    "```\n",
    "\n",
    "Mensaje\n",
    "\n",
    "47,49,-19,257,487,10,-9,63,137,236, 79,142,-184,372,536,59,70,-40,332,588, \n",
    "\n",
    "la primera fila del mensaje es 47,49,-19,257,487\n",
    "\n",
    "¿Cual es el mensaje?\n",
    "\n",
    "\n",
    "\n",
    "```\n",
    "abc=['A','B','C','D','E','F','G','H','I','J','K','L','M','N','O','P','Q','R','S','T','U','V','W','X','Y','Z',' ']\n",
    "num=['1','2','3','4','5','6','7','8','9','10','11','12','13','14','15','16','17','18','19','20','21','22','23','24','25','26','27']\n",
    "```\n",
    "\n",
    "\n",
    "\n",
    "2. Construir un programa que permita realizar la multiplicacion de dos \n",
    "matrices. El programa debe establecer si las matrices se pueden multiplicar.\n",
    "\n",
    "\n"
   ]
  },
  {
   "cell_type": "code",
   "execution_count": 3,
   "metadata": {},
   "outputs": [
    {
     "data": {
      "text/plain": [
       "['A',\n",
       " 'R',\n",
       " 'E',\n",
       " ' ',\n",
       " 'Y',\n",
       " 'O',\n",
       " 'U',\n",
       " ' ',\n",
       " 'H',\n",
       " 'A',\n",
       " 'V',\n",
       " 'I',\n",
       " 'N',\n",
       " 'G',\n",
       " ' ',\n",
       " 'F',\n",
       " 'U',\n",
       " 'N',\n",
       " ' ',\n",
       " ' ']"
      ]
     },
     "execution_count": 3,
     "metadata": {},
     "output_type": "execute_result"
    }
   ],
   "source": [
    "import numpy as np\n",
    "import sympy as sp\n",
    "import scipy as spi\n",
    "import pylab as plt\n",
    "from scipy import linalg\n",
    "from sympy import Inverse\n",
    "A =sp.Matrix([[ 1,  2, -3,  4,  5],\n",
    "        [-2, -5,  8, -8, -9],\n",
    "        [ 1,  2, -2,  7,  9],\n",
    "        [ 1,  1,  0,  6, 12],\n",
    "        [ 2,  4, -6,  8, 11]],dtype=int)\n",
    "\n",
    "B=Inverse(A) #Definimos la inversa de la matriz\n",
    "\n",
    "M=sp.Matrix([[47,49,-19,257,487],\n",
    "           [10,-9,63,137,236],\n",
    "           [79,142,-184,372,536],\n",
    "           [59,70,-40,332,588]])\n",
    "A2=[]\n",
    "abc=['A','B','C','D','E','F','G','H','I','J','K','L','M','N','O','P','Q','R','S','T','U','V','W','X','Y','Z',' ']\n",
    "for i in range(4): ### Creamos un ciclo for que nos reemplaze cada número por la letra que se definió y se agrega esa letra a una nueva lista\n",
    "    Aj=(M@B)[i,0:5]\n",
    "    for j in Aj:\n",
    "        A2.append(abc[int(j)-1])\n",
    "A2\n"
   ]
  },
  {
   "cell_type": "markdown",
   "metadata": {},
   "source": [
    "Ahora hagamos un programa para multiplicar dos matrices, Sabemos que dos matrices se pueden multiplicar si el número de filas de la matriz de la izquierda es igual al número de columnas de la matriz de la derecha. y que:\n",
    "\n",
    "Sea:$$ A=BC$$\n",
    "Entonces:\n",
    "$$A_{ij}=\\sum^{n}_{k=0}B_{ik}C_{kj}$$"
   ]
  },
  {
   "cell_type": "code",
   "execution_count": 4,
   "metadata": {},
   "outputs": [
    {
     "data": {
      "text/plain": [
       "array([[ 9., 12., 15.],\n",
       "       [19., 26., 33.],\n",
       "       [29., 40., 51.]])"
      ]
     },
     "execution_count": 4,
     "metadata": {},
     "output_type": "execute_result"
    }
   ],
   "source": [
    "def MatMul(A,B): #Se le entregan dos matrices definidas como arreglos de numpy\n",
    "    #Primero vemos de cuáles son los tamaños de A y B para ver si pueden ser multiplicadas:\n",
    "    a=len(A)\n",
    "    b=len(B[0])\n",
    "    if a==b: #Si se cumple la condición, hacemos el producto punto entre los vectores fila de A y los vectores columna de B para cada C_ij\n",
    "        C=np.zeros((a,b))\n",
    "        for i in range(a): \n",
    "            for j in range(b):\n",
    "                for k in range(len(B)):\n",
    "                    C[i,j]+=A[i,k]*B[k,j]\n",
    "        return C\n",
    "    else:\n",
    "        return print(\"Las matrices no se pueden multiplicar\")\n",
    "        \n",
    "A=np.array([[1,2,3],[4,5,6]])\n",
    "B=np.array([[1,2],[3,4],[5,6]])\n",
    "MatMul(B,A)"
   ]
  },
  {
   "cell_type": "markdown",
   "metadata": {
    "id": "tkhci52rmiif"
   },
   "source": [
    "\n",
    "## Regresión lineal: 1D\n",
    "2. Para los datos generados en el siguiente dataframe  realizar una regresión lineal, empleando  la siguiente ecuación.\n",
    "\n",
    "$\\Theta = (X^T X)^{-1} X^T y$\n",
    "\n",
    "Los parametros theta se corresponden con la siguiente ecuacion de la recta:\n",
    "\n",
    "$y = \\theta^T X =\\theta_0 + \\theta_1 x_1 $\n",
    "\n",
    "```\n",
    "N = 10\n",
    "x1 = np.linspace(-1, 1, N)\n",
    "y = 2*x1 #- 3*x2 + 0.0\n",
    "df = pd.DataFrame({\"Y\":y, \"X1\":x1})\n",
    "\n",
    "df[\"ones\"] = np.ones(N)\n",
    "\n",
    "plt.plot(df.X1,df.Y,\"ro\")\n",
    "\n",
    "X = np.matrix(df[ [\"ones\",\"X1\"] ])\n",
    "np.shape(X)\n",
    "y = np.array([df[\"Y\"]])\n",
    "Y  = np.matrix(np.transpose(y))\n",
    "np.shape(Y)\n",
    "```\n",
    "\n",
    "## Regresión lineal: 2D\n",
    "3. La ecuación anterior puede ser aplicada a sistemas n-dimensionales, como se describie en el siguiente ejercicio. Suponga que se tiene un sistema físico con dos caracteristiacs X1,X2 que se corresponden con un predicción  Y. \n",
    "\n",
    "- Encontrar el plano que ajusta los datos, para los datos sinteticos dados mas abajo , a través de:\n",
    "\\begin{equation}\n",
    "\\Theta = (X^T X)^{-1} X^T y$\n",
    "\\end{equation}\n",
    "\n",
    "- Construya el plano en 3D, donde se evidencia los puntos y el plano de ajustes.\n",
    "\n",
    "$y = \\theta^T X =\\theta_0 + \\theta_1 X_1+ \\theta_2 X_2$\n",
    "\n",
    "\n",
    "```\n",
    "N = 200\n",
    "x1 = np.linspace(-1, 1, N) \n",
    "x2 = np.linspace(-1, 1, N)\n",
    "\n",
    "X1, X2 = np.meshgrid(x1,x2)\n",
    "Y = 0.2*X1 - 0.5*X2 - 1.0\n",
    "\n",
    "# Ecuaciones parametricas del mismo plano:\n",
    "alpha = 2*np.random.random(N)-1\n",
    "beta  = 2*np.random.random(N)-1\n",
    "x1 = alpha\n",
    "x2 = beta\n",
    "y = 0.2*alpha - 0.5*beta - 1.0\n",
    "\n",
    "fig, ax = plt.subplots(subplot_kw={\"projection\": \"3d\"})\n",
    "surf = ax.scatter(x1, x2, y, color=\"green\")\n",
    "ax.set_xlabel(\"X1\")\n",
    "ax.set_ylabel(\"X2\")\n",
    "ax.set_zlabel(\"Y1\")\n",
    "\n",
    "```\n",
    "\n",
    "\n",
    "DataFrame\n",
    "```\n",
    "# Regresion bi-lineal\n",
    "df = pd.DataFrame({\"Y\":y, \"X1\":x1,\"X2\":x2})\n",
    "df[\"ones\"] = np.ones(N)\n",
    "\n",
    "\n",
    "y = np.reshape(df.Y.values, (N,1))\n",
    "X = df[[\"ones\",\"X1\",\"X2\"]].values\n",
    "X = np.matrix(X)\n",
    "```\n",
    "\n",
    " "
   ]
  },
  {
   "cell_type": "markdown",
   "metadata": {},
   "source": [
    "Regresión lineal 1D"
   ]
  },
  {
   "cell_type": "code",
   "execution_count": 69,
   "metadata": {},
   "outputs": [
    {
     "data": {
      "text/plain": [
       "(10, 1)"
      ]
     },
     "execution_count": 69,
     "metadata": {},
     "output_type": "execute_result"
    },
    {
     "data": {
      "image/png": "[encoded data removed]",
      "text/plain": [
       "<Figure size 432x288 with 1 Axes>"
      ]
     },
     "metadata": {
      "needs_background": "light"
     },
     "output_type": "display_data"
    }
   ],
   "source": [
    "import pandas as pd\n",
    "N = 10\n",
    "x1 = np.linspace(-1, 1, N)\n",
    "y = 2*x1 #- 3*x2 + 0.0\n",
    "df = pd.DataFrame({\"Y\":y, \"X1\":x1})\n",
    "\n",
    "df[\"ones\"] = np.ones(N)\n",
    "\n",
    "plt.plot(df.X1,df.Y,\"ro\")\n",
    "\n",
    "X = np.matrix(df[ [\"ones\",\"X1\"] ])\n",
    "np.shape(X)\n",
    "y = np.array([df[\"Y\"]])\n",
    "Y  = np.matrix(np.transpose(y))\n",
    "np.shape(Y)"
   ]
  },
  {
   "cell_type": "markdown",
   "metadata": {
    "id": "pKmGWUKqNOnY"
   },
   "source": [
    "## Autovalores y autovectores\n",
    "\n",
    "Se sabe que un sistema físico es gobernado por las ecuaciones,\n",
    "\n",
    "\n",
    "\n",
    "$$\n",
    "\\begin{matrix}\n",
    "x' &=& 2x&-y&+z, \\\\\n",
    "y' &=&   &3y&-1z, \\\\\n",
    "z' &=& 2x&+y&+3z,\n",
    "\\end{matrix}\n",
    "$$\n",
    "\n",
    "donde $x',y',z'$ son las derivadas, en forma vectorial esto se puede representar como $\\mathbf{r}'=A\\mathbf{r}$ que tiene solución analítica general, $\\mathbf{r} = e^{At} \\mathbf{r}(0)$.<br> \n",
    "a) Diagonalize $A$.<br> \n",
    "\n",
    "b) Use el hecho de que $f(A) = U f(D) U^{-1}$ para encontrar $x(t),y(t),z(t)$ en el intervalo de tiempo $[0,2]$.<br>.\n",
    "c) Grafique $x(t),y(t),z(t)$ (use la condición inicial $\\mathbf{r}(0)=(1,1,2))$.<br> \n",
    "d) Compare el resultado a la solución analítica,\n",
    "\n",
    "$$\n",
    "\\begin{align}\n",
    "2x & = x(0)(e^{2t}(1+e^{2t}-2t)) + y(0) (-2te^{2t}) + z(0)(e^{2t}(-1+e^{2t})), \\\\\n",
    "2y & = x(0)(-e^{2t}(-1+e^{2t}-2t)) + y(0)(2(t+1)e^{2t}) + z(0)(-e^{2t}(-1+e^{2t})), \\\\\n",
    "2z & = x(0)(e^{2t}(-1+e^{2t}+2t)) + y(0)(2te^{2t}) + z(0)(e^{2t}(1+e^{2t})).\n",
    "\\end{align}\n",
    "$$"
   ]
  },
  {
   "cell_type": "markdown",
   "metadata": {},
   "source": [
    "Este problema puede verse de forma vectorial como:\n",
    "$$\\begin{bmatrix} x'\\\\y'\\\\z'\\\\\\end{bmatrix}=\\begin{bmatrix} 2 & -1 & 1\\\\ 0 & 3 & -1\\\\ 2 & 1 & 3\\end{bmatrix} \\begin{bmatrix} x\\\\y\\\\z\\end{bmatrix} $$\n",
    "Donde A es la matriz: $$A=\\begin{bmatrix} 2 & -1 & 1\\\\ 0 & 3 & -1\\\\ 2 & 1 & 3\\end{bmatrix}$$"
   ]
  },
  {
   "cell_type": "markdown",
   "metadata": {},
   "source": [
    "Diagonalicemos la función usando la librería numpy"
   ]
  },
  {
   "cell_type": "code",
   "execution_count": 5,
   "metadata": {},
   "outputs": [
    {
     "data": {
      "text/latex": [
       "$\\displaystyle \\left[\\begin{matrix}0.509080730261366 & -0.210995607317585 & -0.834456508015389\\\\-0.263507775916011 & 0.884730871524361 & -0.384467081820463\\\\0.819390299007958 & 0.415610561300394 & 0.394800454948092\\end{matrix}\\right]$"
      ],
      "text/plain": [
       "Matrix([\n",
       "[ 0.509080730261366, -0.210995607317585, -0.834456508015389],\n",
       "[-0.263507775916011,  0.884730871524361, -0.384467081820463],\n",
       "[ 0.819390299007958,  0.415610561300394,  0.394800454948092]])"
      ]
     },
     "metadata": {},
     "output_type": "display_data"
    },
    {
     "data": {
      "text/latex": [
       "$\\displaystyle \\left[\\begin{matrix}4.21043378740709 & 0 & 0\\\\0 & 3.30967408612351 & 0\\\\0 & 0 & 1.14817453616744\\end{matrix}\\right]$"
      ],
      "text/plain": [
       "Matrix([\n",
       "[4.21043378740709,                0,                0],\n",
       "[               0, 3.30967408612351,                0],\n",
       "[               0,                0, 1.14817453616744]])"
      ]
     },
     "metadata": {},
     "output_type": "display_data"
    },
    {
     "data": {
      "text/latex": [
       "$\\displaystyle \\left[\\begin{matrix}0.631037606264051 & -0.114053274139521 & 0.767322220542708\\\\0.123646587946952 & 0.991275484479419 & 0.0456556147606122\\\\-0.765834878266597 & 0.066066364574934 & 0.63963440706566\\end{matrix}\\right]$"
      ],
      "text/plain": [
       "Matrix([\n",
       "[ 0.631037606264051, -0.114053274139521,  0.767322220542708],\n",
       "[ 0.123646587946952,  0.991275484479419, 0.0456556147606122],\n",
       "[-0.765834878266597,  0.066066364574934,   0.63963440706566]])"
      ]
     },
     "metadata": {},
     "output_type": "display_data"
    },
    {
     "data": {
      "text/plain": [
       "(None, None, None)"
      ]
     },
     "execution_count": 5,
     "metadata": {},
     "output_type": "execute_result"
    }
   ],
   "source": [
    "from sympy import * \n",
    "A=np.array([[2,-1,1],[0,3,-1],[2,1,3]])\n",
    "B=np.linalg.svd(A)\n",
    "B1=sp.Matrix(B[0])\n",
    "Bdiag=sp.Matrix(np.diag(B[1]))\n",
    "B1inv=sp.Matrix(B[2])\n",
    "display(B1), display(Bdiag), display(B1inv)"
   ]
  },
  {
   "cell_type": "markdown",
   "metadata": {},
   "source": [
    "Nos quedaría esta multiplicación de matrices donde la matriz del medio es la matriz diagonal con los autovalores de A. Ahora, vamos a usar el hecho de que $$f(A)=Uf(D)U^{-1}$$"
   ]
  },
  {
   "cell_type": "code",
   "execution_count": 48,
   "metadata": {},
   "outputs": [
    {
     "data": {
      "text/latex": [
       "$\\displaystyle \\left[\\begin{matrix}1.0 e^{4.21043378740709 t} & 0 & 0\\\\0 & 1.0 e^{3.30967408612351 t} & 0\\\\0 & 0 & 1.0 e^{1.14817453616744 t}\\end{matrix}\\right]$"
      ],
      "text/plain": [
       "Matrix([\n",
       "[1.0*exp(4.21043378740709*t),                           0,                           0],\n",
       "[                          0, 1.0*exp(3.30967408612351*t),                           0],\n",
       "[                          0,                           0, 1.0*exp(1.14817453616744*t)]])"
      ]
     },
     "execution_count": 48,
     "metadata": {},
     "output_type": "execute_result"
    }
   ],
   "source": [
    "t=sp.Symbol(\"t\")\n",
    "fD=sp.exp(Bdiag*t)\n",
    "fD"
   ]
  },
  {
   "cell_type": "markdown",
   "metadata": {},
   "source": [
    "La matriz mostrada es $e^{Dt}$, donde D es la matriz diagonal, ahora, vamos a recuperar $e^{At}$, multiplicando $e^{Dt}$ por $U$ a izquierda y $U^{-1}$ a derecha:"
   ]
  },
  {
   "cell_type": "code",
   "execution_count": 49,
   "metadata": {},
   "outputs": [
    {
     "data": {
      "text/latex": [
       "$\\displaystyle \\left[\\begin{matrix}- 0.483567797098744 e^{1.14817453616744 t} - 0.254509928111129 e^{3.30967408612351 t} + 1.04444467409095 e^{4.21043378740709 t}\\\\- 0.222798789424116 e^{1.14817453616744 t} + 1.0671918404938 e^{3.30967408612351 t} - 0.540620135033848 e^{4.21043378740709 t}\\\\0.228786982256132 e^{1.14817453616744 t} + 0.501323299681668 e^{3.30967408612351 t} + 1.68108471393383 e^{4.21043378740709 t}\\end{matrix}\\right]$"
      ],
      "text/plain": [
       "Matrix([\n",
       "[-0.483567797098744*exp(1.14817453616744*t) - 0.254509928111129*exp(3.30967408612351*t) + 1.04444467409095*exp(4.21043378740709*t)],\n",
       "[ -0.222798789424116*exp(1.14817453616744*t) + 1.0671918404938*exp(3.30967408612351*t) - 0.540620135033848*exp(4.21043378740709*t)],\n",
       "[ 0.228786982256132*exp(1.14817453616744*t) + 0.501323299681668*exp(3.30967408612351*t) + 1.68108471393383*exp(4.21043378740709*t)]])"
      ]
     },
     "execution_count": 49,
     "metadata": {},
     "output_type": "execute_result"
    }
   ],
   "source": [
    "FA=B1@fD@B1inv\n",
    "SOL=FA*sp.Matrix([1,1,2])\n",
    "SOL"
   ]
  },
  {
   "cell_type": "markdown",
   "metadata": {},
   "source": [
    "Esta matriz, sería la matriz solución $e^{At}$, ahora, para hallar el vector $\\begin{bmatrix}x\\\\y\\\\z\\end{bmatrix}$, debemos multiplicar esta matriz por $r(0)$, que en nuestro caso, es el vector $\\begin{bmatrix}1\\\\1\\\\2\\end{bmatrix}$, así, la solución $r(t)$, sería:"
   ]
  },
  {
   "cell_type": "code",
   "execution_count": 50,
   "metadata": {},
   "outputs": [
    {
     "data": {
      "text/latex": [
       "$\\displaystyle \\left[\\begin{matrix}- 0.483567797098744 e^{1.14817453616744 t} - 0.254509928111129 e^{3.30967408612351 t} + 1.04444467409095 e^{4.21043378740709 t}\\\\- 0.222798789424116 e^{1.14817453616744 t} + 1.0671918404938 e^{3.30967408612351 t} - 0.540620135033848 e^{4.21043378740709 t}\\\\0.228786982256132 e^{1.14817453616744 t} + 0.501323299681668 e^{3.30967408612351 t} + 1.68108471393383 e^{4.21043378740709 t}\\end{matrix}\\right]$"
      ],
      "text/plain": [
       "Matrix([\n",
       "[-0.483567797098744*exp(1.14817453616744*t) - 0.254509928111129*exp(3.30967408612351*t) + 1.04444467409095*exp(4.21043378740709*t)],\n",
       "[ -0.222798789424116*exp(1.14817453616744*t) + 1.0671918404938*exp(3.30967408612351*t) - 0.540620135033848*exp(4.21043378740709*t)],\n",
       "[ 0.228786982256132*exp(1.14817453616744*t) + 0.501323299681668*exp(3.30967408612351*t) + 1.68108471393383*exp(4.21043378740709*t)]])"
      ]
     },
     "execution_count": 50,
     "metadata": {},
     "output_type": "execute_result"
    }
   ],
   "source": [
    "SOL=FA*sp.Matrix([1,1,2])\n",
    "SOL"
   ]
  },
  {
   "cell_type": "markdown",
   "metadata": {},
   "source": [
    "Donde las respectivas entradas del vector son las funciones $x(t)$, $y(t$) y $z(t)$ \n",
    "\n",
    "Ahora definámoslas y veamos como se comportan en el tiempo con una gráfica:"
   ]
  },
  {
   "cell_type": "code",
   "execution_count": 51,
   "metadata": {},
   "outputs": [],
   "source": [
    "x=sp.lambdify(t,SOL[0])\n",
    "y=sp.lambdify(t,SOL[1])\n",
    "z=sp.lambdify(t,SOL[2])"
   ]
  },
  {
   "cell_type": "code",
   "execution_count": 52,
   "metadata": {},
   "outputs": [
    {
     "data": {
      "image/png": "[encoded data removed]",
      "text/plain": [
       "<Figure size 432x288 with 1 Axes>"
      ]
     },
     "metadata": {
      "needs_background": "light"
     },
     "output_type": "display_data"
    }
   ],
   "source": [
    "t=np.arange(0,2,0.001)\n",
    "plt.plot(t,x(t),label=\"x numérica\")\n",
    "plt.plot(t,y(t),label=\"y numérica\")\n",
    "plt.plot(t,z(t),label=\"z numérica\")\n",
    "\n",
    "plt.legend()\n",
    "plt.show()\n"
   ]
  },
  {
   "cell_type": "markdown",
   "metadata": {},
   "source": [
    "Ahora, veamos en 3D cómo se comporta la partícula en los 3 ejes x durante el tiempo establecido"
   ]
  },
  {
   "cell_type": "code",
   "execution_count": 55,
   "metadata": {},
   "outputs": [
    {
     "data": {
      "text/plain": [
       "[<mpl_toolkits.mplot3d.art3d.Line3D at 0x1d62e9cf1c0>]"
      ]
     },
     "execution_count": 55,
     "metadata": {},
     "output_type": "execute_result"
    },
    {
     "data": {
      "image/png": "[encoded data removed]",
      "text/plain": [
       "<Figure size 432x288 with 1 Axes>"
      ]
     },
     "metadata": {
      "needs_background": "light"
     },
     "output_type": "display_data"
    }
   ],
   "source": [
    "from mpl_toolkits.mplot3d import Axes3D\n",
    "import matplotlib.pyplot as plt\n",
    "plt.ion()\n",
    "ax = plt.figure().add_subplot(projection='3d')\n",
    "ax.plot(x(t),y(t),z(t))"
   ]
  },
  {
   "cell_type": "markdown",
   "metadata": {},
   "source": [
    "Ahora, veamos la función real y comparemos los resultados"
   ]
  },
  {
   "cell_type": "code",
   "execution_count": 58,
   "metadata": {},
   "outputs": [
    {
     "data": {
      "image/png": "[encoded data removed]",
      "text/plain": [
       "<Figure size 432x288 with 1 Axes>"
      ]
     },
     "metadata": {
      "needs_background": "light"
     },
     "output_type": "display_data"
    }
   ],
   "source": [
    "xreal=lambda t: (1*(1+np.exp(2*t)-2*t)+1*(-2*t*np.exp(2*t))+2*(np.exp(2*t)*(-1+np.exp(2*t))))\n",
    "plt.plot(t,xreal(t),label=\"x real\")\n",
    "yreal=lambda t: np.exp(2*t)*(-1+np.exp(2*t)+2*t)+(2*(t+1)*np.exp(2*t))+2*(-np.exp(2*t)*(1+np.exp(2*t)))\n",
    "plt.plot(t,yreal(t),label=\"y real\")\n",
    "zreal=lambda t: (np.exp(2*t)*(-1+np.exp(2*t)+2*t))+(2*t*np.exp(2*t))+2*(np.exp(2*t)*(1+np.exp(2*t)))\n",
    "plt.plot(t,zreal(t),label=\"z real\")\n",
    "plt.legend()\n",
    "plt.show()"
   ]
  },
  {
   "cell_type": "markdown",
   "metadata": {},
   "source": [
    "Ahora hagamos el vs entre los valores reales y los hallados numéricamente"
   ]
  },
  {
   "cell_type": "code",
   "execution_count": 60,
   "metadata": {},
   "outputs": [
    {
     "data": {
      "image/png": "[encoded data removed]",
      "text/plain": [
       "<Figure size 432x288 with 1 Axes>"
      ]
     },
     "metadata": {
      "needs_background": "light"
     },
     "output_type": "display_data"
    }
   ],
   "source": [
    "plt.plot(t,xreal(t),label=\"x real\")\n",
    "plt.plot(t,yreal(t),label=\"y real\")\n",
    "plt.plot(t,zreal(t),label=\"z real\")\n",
    "plt.plot(t,x(t),label=\"x numérica\")\n",
    "plt.plot(t,y(t),label=\"y numérica\")\n",
    "plt.plot(t,z(t),label=\"z numérica\")\n",
    "plt.title(\"$x$,$y$ y $z$ real vs numéricas\")\n",
    "plt.legend()\n",
    "plt.show()"
   ]
  },
  {
   "cell_type": "markdown",
   "metadata": {},
   "source": [
    "Podemos ver que se acercan bastante bien, y quizás dejando de redondear en ciertos cálculos, la aproximación sería bastante mejor."
   ]
  }
 ],
 "metadata": {
  "colab": {
   "collapsed_sections": [],
   "name": "Tarea09_MatricesBasico.ipynb",
   "provenance": []
  },
  "kernelspec": {
   "display_name": "Python 3 (ipykernel)",
   "language": "python",
   "name": "python3"
  },
  "language_info": {
   "codemirror_mode": {
    "name": "ipython",
    "version": 3
   },
   "file_extension": ".py",
   "mimetype": "text/x-python",
   "name": "python",
   "nbconvert_exporter": "python",
   "pygments_lexer": "ipython3",
   "version": "3.9.7"
  }
 },
 "nbformat": 4,
 "nbformat_minor": 1
}
