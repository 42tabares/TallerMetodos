{
 "cells": [
  {
   "cell_type": "markdown",
   "metadata": {
    "colab_type": "text",
    "id": "view-in-github"
   },
   "source": [
    "<a href=\"https://colab.research.google.com/github/jerolg/Metodos_Computacionales_taller/blob/main/Taller_000_Jer%C3%B3nimo_L%C3%B3pez.ipynb\" target=\"_parent\"><img src=\"https://colab.research.google.com/assets/colab-badge.svg\" alt=\"Open In Colab\"/></a>"
   ]
  },
  {
   "cell_type": "markdown",
   "metadata": {
    "id": "FRH6ZoPM4KeX"
   },
   "source": [
    "# Taller 0.0 de métodos computacionales para físicos  y astrónomos\n",
    "\n",
    "\n",
    "\n",
    "## Universidad de Antioquia\n",
    "### Profesor: Hernan D. Salinas Jiménez\n",
    "\n",
    "###Jeronimo López Gómez C.C. 1.001.735.333\n",
    "\n"
   ]
  },
  {
   "cell_type": "markdown",
   "metadata": {
    "id": "3IwaMxgT4Kee"
   },
   "source": [
    "## Taller: Sesion 0.0"
   ]
  },
  {
   "cell_type": "markdown",
   "metadata": {
    "id": "SV5BAn7x4Kef"
   },
   "source": [
    "## Unidad 1: \n",
    "\n",
    "Contenido Actitudinal: Observar como el computador produce errores en los cálculos. El computador no maneja infinitas cifras decimales.\n",
    "\n",
    "- Repaso breve del Python\n",
    "- Estructura básica de un programa en Python.\n",
    "- Numpy y rutinas de graficación.\n",
    "- Operaciones aritméticas con reales y complejos.\n",
    "- Números aleatorios, método del congruente lineal y problemas.\n",
    "- Errores: redondeo, truncamiento, sustracción cancelativa, precisiónde la máquina.\n",
    "- Algoritmos"
   ]
  },
  {
   "cell_type": "markdown",
   "metadata": {
    "id": "dgZqZVpe4Kef"
   },
   "source": [
    "## Instrucciones de entrega\n",
    "\n",
    "\n",
    "\n",
    "\n",
    "\n",
    "\n"
   ]
  },
  {
   "cell_type": "markdown",
   "metadata": {
    "id": "J6GPf6qe4Keg"
   },
   "source": [
    "## Problemas\n",
    "1. Elaborar un algoritmo e implementar en python, el factorial de un número entero `n` ingresado por el usuario.\n",
    "     ### Ejemplo de Ejecución\n",
    "    ```python\n",
    "\n",
    "    >>> factorial(3)\n",
    "        6\n",
    "\n",
    "    >>> factorial(1987123)\n",
    "        =???\n",
    "```\n"
   ]
  },
  {
   "cell_type": "markdown",
   "metadata": {
    "id": "9-JZw0Do4Keg"
   },
   "source": [
    "[link text](https://)2. Diseñar un programa que lea dos numero `a` y `b` y diga que tipo de numero son, de a cuerdo a la siguiente clasificación:\n",
    "\n",
    " >- [Números defectivos](https://es.wikipedia.org/wiki/Número_defectivo) : la suma de los divisores propios es menor que el número.\n",
    " >- [Números abundantes](https://es.wikipedia.org/wiki/Número_abundante): la suma de los divisores es mayor que el número.\n",
    " >- [Números amigos](https://es.wikipedia.org/wiki/N%C3%BAmeros_amigos) `a` y `b` tales que a es la suma de los divisores propios de `b` y viceversa.\n",
    " >- [Números semiperfectos](https://es.wikipedia.org/wiki/N%C3%BAmero_semiperfecto) la suma de todos o algunos de los divisores propios es igual al número.\n",
    " >- [Números perfectos](https://es.wikipedia.org/wiki/N%C3%BAmero_perfecto) la suma de todos sus divisores propios, excepto el mismo numero, es igual al número.\n",
    " >- [Números primos](https://es.wikipedia.org/wiki/N%C3%BAmero_primo) el número es divisible unicamente por sí mismo y por 1.\n",
    " "
   ]
  },
  {
   "cell_type": "markdown",
   "metadata": {
    "id": "cARSuKs_4Keh"
   },
   "source": [
    " ### Ejemplo de Ejecución\n",
    "``` python\n",
    "\n",
    "    >>> clase_numero(a = 220, b =  284)\n",
    "        a = 220 y b = 284 son números amigos\n",
    "\n",
    "    >>> clase_numero(a = 24, b = 12 )\n",
    "        a = 24 es un numero abudante y b = 12 es un número defectivo. \n",
    "```\n"
   ]
  },
  {
   "cell_type": "code",
   "execution_count": null,
   "metadata": {
    "id": "-XpGgy4ejuSv"
   },
   "outputs": [],
   "source": [
    "def div(a):\n",
    "  d=[]\n",
    "  z=0\n",
    "  for z in range(1,a+1):\n",
    "    if a%z==0:\n",
    "      d.append(z)\n",
    "      z+=1\n",
    "  return d\n",
    "\n",
    "def class_num(a,b):\n",
    "  a_d=div(a)\n",
    "  b_d=div(b)\n",
    "  l,g=[a,b],[a_d,b_d]\n",
    "  for i in range(0,2):\n",
    "    suma=sum(g[i])-g[i][-1]\n",
    "    if l[i]>suma:\n",
    "      print(l[i], \"Es número defectivo\")\n",
    "      if len(g[i])==2:\n",
    "        print('%d es numero primo'%(l[i]))\n",
    "      for k in [0,-1]:\n",
    "        if suma==l[k] and i!=k:\n",
    "          print('%d y %d son numeros amigos'%(l[i],l[k]))\n",
    "    elif l[i]==suma:\n",
    "      print(l[i], \"Es un numero perfecto\")\n",
    "      if len(g[i])==2:\n",
    "        print('%d es numero primo'%(l[i]))\n",
    "      for k in [0,-1]:\n",
    "        if suma==l[k] and i!=k:\n",
    "          print('%d y %d son numeros amigos'%(l[i],l[k]))\n",
    "    elif sum(g[i])>2*l[i]:\n",
    "      print('%d es numero abundante'%(l[i]))\n",
    "      if len(g[i])==2:\n",
    "        print('%d es numero primo'%(l[i]))\n",
    "      for k in [0,-1]:\n",
    "        if suma==l[k] and i!=k:\n",
    "          print('%d y %d son numeros amigos'%(l[i],l[k]))\n",
    "    else:\n",
    "      print(l[i], \"Es numero semiperfecto\")\n",
    "      if len(g[i])==2:\n",
    "        print('%d es numero primo'%(l[i]))\n",
    "      for k in [0,-1]:\n",
    "        if suma==l[k] and i!=k:\n",
    "          print('%d y %d son numeros amigos'%(l[i],l[k]))\n",
    "\n",
    "\n"
   ]
  },
  {
   "cell_type": "code",
   "execution_count": null,
   "metadata": {
    "colab": {
     "base_uri": "https://localhost:8080/"
    },
    "id": "rJDqQAoUm1m4",
    "outputId": "ec4ece0b-059d-43a0-b26e-94c10ea29d16"
   },
   "outputs": [
    {
     "name": "stdout",
     "output_type": "stream",
     "text": [
      "220 es numero abundante\n",
      "220 y 284 son numeros amigos\n",
      "284 Es número defectivo\n",
      "284 y 220 son numeros amigos\n"
     ]
    }
   ],
   "source": [
    "class_num(220,284)"
   ]
  },
  {
   "cell_type": "markdown",
   "metadata": {
    "id": "45A4RWSm4Keh"
   },
   "source": [
    "3. Determine si un número `n` entero ingresado por el usuario es un [palíndromo](https://en.wikipedia.org/wiki/Palindromic_number), (Retorne `True` en caso afirmativo y `False` en caso contrario) \n",
    "\n",
    "```python\n",
    "\n",
    "\n",
    "    >>> palindromo(3333333)\n",
    "        True\n",
    "\n",
    "    >>> palindromo(2323)\n",
    "        True\n",
    "        \n",
    "    >>> palindromo(1111349111111)\n",
    "        False\n",
    "```\n",
    "\n",
    "\n"
   ]
  },
  {
   "cell_type": "code",
   "execution_count": null,
   "metadata": {
    "id": "vtybv-vA-Yuz"
   },
   "outputs": [],
   "source": [
    "#Palindromo\n",
    "def palindromo(numero):\n",
    "  cad=str(numero)\n",
    "  a=True if cad==cad[::-1] else False\n",
    "  return a"
   ]
  },
  {
   "cell_type": "code",
   "execution_count": null,
   "metadata": {
    "colab": {
     "base_uri": "https://localhost:8080/"
    },
    "id": "2BvVKqmy0iRi",
    "outputId": "d5072324-593d-4110-b058-752492e14bf0"
   },
   "outputs": [
    {
     "data": {
      "text/plain": [
       "True"
      ]
     },
     "execution_count": 4,
     "metadata": {},
     "output_type": "execute_result"
    }
   ],
   "source": []
  },
  {
   "cell_type": "markdown",
   "metadata": {
    "id": "bmQYQxjX4Keh"
   },
   "source": [
    "\n",
    "4. Dada una cadena de caracteres, entregar una lista donde se retorne:\n",
    ">- en la primera casilla: `True` si el caracter del medio es una vocal, `False` en caso contrario \n",
    ">- en la segunda: el numero de vocales en la cadena\n",
    ">- en la tercera: el numero de consonantes\n",
    ">- en la ultima: la cadena de caracteres invertida (ej: perro, orrep)\n",
    "\n",
    "### Ejemplo de Ejecución\n",
    "```python\n",
    "\n",
    ">>> cadena(s ='perro')\n",
    "[False, 2, 3, 'orrep']\n",
    "\n",
    ">>> cadena(s ='murcielago')\n",
    "[True, 5, 5, 'ogaleicrum']\n",
    "\n",
    "```\n"
   ]
  },
  {
   "cell_type": "code",
   "execution_count": null,
   "metadata": {
    "id": "tflG__ctMOwl"
   },
   "outputs": [],
   "source": [
    "#Organizacion de cadenas\n",
    "def cadena(cad):\n",
    "  voc,cons='aeiou','bcdfghjklmnñpqrstvxzwy'\n",
    "  k,j=0,0\n",
    "  for i in range(0,len(cad)):\n",
    "    if cad[i] in voc:\n",
    "      k+=1\n",
    "    else:\n",
    "      j+=1\n",
    "  list_cad=list(cad) \n",
    "  list_cad.reverse()\n",
    "  return [True if cad[len(cad)//2] in voc else False,k,j,''.join(list_cad)]\n",
    "  "
   ]
  },
  {
   "cell_type": "code",
   "execution_count": null,
   "metadata": {
    "colab": {
     "base_uri": "https://localhost:8080/"
    },
    "id": "ne4TWMiHMmGc",
    "outputId": "ff293ebd-53ef-4a31-fe12-9ede46ff88d3"
   },
   "outputs": [
    {
     "data": {
      "text/plain": [
       "[False, 4, 4, 'ominorej']"
      ]
     },
     "execution_count": 42,
     "metadata": {},
     "output_type": "execute_result"
    }
   ],
   "source": [
    "cadena('jeronimo')"
   ]
  },
  {
   "cell_type": "markdown",
   "metadata": {
    "id": "Z6rU_h_q4Kei"
   },
   "source": [
    "\n",
    "5. Elabore un método para calcular el n-ésimo término de la sucesión de fibonacci: \n",
    "\n",
    "$$ f_n = f_{n-1}+f_{n-2}$$\n",
    "\n",
    "Donde $$f_0=0 \\:\\:\\text{ y }\\:\\:f_1=1 $$ así:   $$f_2=1+0=1$$ $$f_3=1+1=2$$  $$f_4=2+1=3$$ y así sucesivamente\n",
    "\n",
    "### Ejemplo de Ejecución\n",
    "```python\n",
    "\n",
    ">>> fibonacci(50)\n",
    "12586269025\n",
    "\n",
    ">>> fibonacci(63)\n",
    "6557470319842\n",
    "```\n"
   ]
  },
  {
   "cell_type": "code",
   "execution_count": null,
   "metadata": {
    "id": "hwIhoLWmUBry"
   },
   "outputs": [],
   "source": [
    "#Sucesión de Fibonacci\n",
    "\n",
    "def fibonacci(n):\n",
    "  if n<2:\n",
    "    n=n\n",
    "  else:\n",
    "    n=n-1\n",
    "  f_n1,f_n2=0,1\n",
    "  i=0\n",
    "  if n==0:\n",
    "    print(0)\n",
    "  elif n==1:\n",
    "    print(1)\n",
    "  else:\n",
    "    while i<n:\n",
    "      f_n=f_n1+f_n2\n",
    "      f_n1=f_n2\n",
    "      f_n2=f_n\n",
    "      i+=1\n",
    "    print(f_n)\n"
   ]
  },
  {
   "cell_type": "code",
   "execution_count": null,
   "metadata": {
    "colab": {
     "base_uri": "https://localhost:8080/"
    },
    "id": "4x1WpclKVrrx",
    "outputId": "cd1bc660-1080-427d-f336-9b17b8924614"
   },
   "outputs": [
    {
     "name": "stdout",
     "output_type": "stream",
     "text": [
      "12586269025\n"
     ]
    }
   ],
   "source": [
    "fibonacci(50)"
   ]
  },
  {
   "cell_type": "markdown",
   "metadata": {
    "id": "1Aezlw_x4Kei"
   },
   "source": [
    "\n",
    "6. Entrar un arreglo de números y ordenarlos de forma ascendente, Ver algoritmo\n",
    "[Quicksort](https://es.wikipedia.org/wiki/Quicksort). \n",
    "\n",
    "\n",
    "```python\n",
    "\n",
    "\n",
    "<<< v = [22, 32, 42, 12, 22, 31, 41, 11, 12, 232, 24, 12, 22]\n",
    "<<< def quicksort(v):\n",
    "\n",
    "<<<     return v\n",
    "<<< w = print(quicksort(v))\n",
    "<<< [11, 12, 12, 12, 22, 22, 22, 24, 31, 32, 41, 42, 232]\n",
    "\n",
    "```\n",
    "\n",
    "Sólo para comprobar tu código,  puedes hacer uso del comando sort de python. \n",
    "```python\n",
    "<<< b = [22, 32, 42, 12, 22, 31, 41, 11, 12, 232, 24, 12, 22]\n",
    "\n",
    "<<< print(b.sort())\n",
    "\n",
    "<<< [11, 12, 12, 12, 22, 22, 22, 24, 31, 32, 41, 42, 232]\n",
    "```"
   ]
  },
  {
   "cell_type": "code",
   "execution_count": 16,
   "metadata": {
    "id": "6jn6yNrv3f3B"
   },
   "outputs": [],
   "source": [
    "#Algoritmo Quicksort\n",
    "import numpy as np\n",
    "#Particionando el arreglo\n",
    "def part(arr):\n",
    "  piv=arr[0]\n",
    "  min,max=[],[]\n",
    "\n",
    "  for i in range(1,len(arr)):\n",
    "    if arr[i]<piv:\n",
    "      min.append(arr[i])\n",
    "    else:\n",
    "      max.append(arr[i])\n",
    "  \n",
    "  return min, piv, max\n",
    "   \n",
    "#Quicksort\n",
    "\n",
    "def quicksort(arr):\n",
    "  if len(arr)<2:\n",
    "    return arr\n",
    "  min, piv, max=part(arr)\n",
    "\n",
    "  return quicksort(min)+[piv]+quicksort(max)"
   ]
  },
  {
   "cell_type": "code",
   "execution_count": 15,
   "metadata": {
    "colab": {
     "base_uri": "https://localhost:8080/"
    },
    "id": "MVXc3Sq54LnD",
    "outputId": "58db30ab-57d1-42f3-e681-f0120681e29b"
   },
   "outputs": [
    {
     "data": {
      "text/plain": [
       "True"
      ]
     },
     "execution_count": 15,
     "metadata": {},
     "output_type": "execute_result"
    }
   ],
   "source": [
    "arr=np.array([1,26,56,43,89,67,54,78,90,67,1,4,65,87,100,200,76,65,44,88,77,120,569,456,120,678,800])\n",
    "a=quicksort(arr)\n",
    "b=list(np.sort(arr))\n",
    "True if a==b else False"
   ]
  },
  {
   "cell_type": "markdown",
   "metadata": {
    "id": "BTj0eQBs4Kej"
   },
   "source": [
    "## REFERENCIAS.\n",
    "[1] Scripts de un curso de python. [Raul Pollan](https://github.com/rramosp/20182.pcomp)  \n",
    "\n",
    "[2] [Fundamenteos de programación](https://sites.google.com/site/funpropoli/ejercicios-practicos)\n",
    "\n",
    "[3] Scripts de un curso de python. [Fernando Perez](https://github.com/fperez)\n"
   ]
  },
  {
   "cell_type": "code",
   "execution_count": null,
   "metadata": {
    "colab": {
     "base_uri": "https://localhost:8080/"
    },
    "id": "pXmL-G7n4Kej",
    "outputId": "b20379be-b116-41a6-d7ac-5b6a05c8bc37"
   },
   "outputs": [
    {
     "data": {
      "text/plain": [
       "10"
      ]
     },
     "execution_count": 7,
     "metadata": {
      "tags": []
     },
     "output_type": "execute_result"
    }
   ],
   "source": [
    "A=[0,1,2,3,4,5,6,7,8,9]\n",
    "len(A)"
   ]
  },
  {
   "cell_type": "code",
   "execution_count": null,
   "metadata": {
    "id": "KDycbhVvduNq"
   },
   "outputs": [],
   "source": []
  }
 ],
 "metadata": {
  "colab": {
   "collapsed_sections": [],
   "include_colab_link": true,
   "name": "Taller 000 - Jerónimo López.ipynb",
   "provenance": []
  },
  "kernelspec": {
   "display_name": "Python 3 (ipykernel)",
   "language": "python",
   "name": "python3"
  },
  "language_info": {
   "codemirror_mode": {
    "name": "ipython",
    "version": 3
   },
   "file_extension": ".py",
   "mimetype": "text/x-python",
   "name": "python",
   "nbconvert_exporter": "python",
   "pygments_lexer": "ipython3",
   "version": "3.8.12"
  }
 },
 "nbformat": 4,
 "nbformat_minor": 1
}
