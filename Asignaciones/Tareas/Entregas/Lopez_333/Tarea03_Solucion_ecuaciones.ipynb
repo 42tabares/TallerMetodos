{
 "cells": [
  {
   "cell_type": "markdown",
   "metadata": {
    "colab_type": "text",
    "id": "view-in-github"
   },
   "source": [
    "<a href=\"https://colab.research.google.com/github/jerolg/Metodos_Computacionales_taller/blob/main/Tarea03_Solucion_ecuaciones.ipynb\" target=\"_parent\"><img src=\"https://colab.research.google.com/assets/colab-badge.svg\" alt=\"Open In Colab\"/></a>"
   ]
  },
  {
   "cell_type": "markdown",
   "metadata": {
    "id": "pQSt9-mvLVMa"
   },
   "source": [
    "# **TALLER 03** \n",
    "##**Nombre**:Jeronimo López  **CC 1001735333**\n",
    "__________________________________________________________\n",
    "\n",
    "### Resolver los siguientes problemas, por el metodo de la biseccion, newton, punto fijo y secante, realizar una comparación del error como función del las numero de iteraciones \n",
    "\n",
    "Referencias: *Numerical Analysis Book by J. Douglas Faires and Richard L. Burden*\n",
    "\n",
    "\n"
   ]
  },
  {
   "cell_type": "code",
   "execution_count": 1,
   "metadata": {
    "cellView": "form",
    "id": "SsrMHPxs6UPY"
   },
   "outputs": [],
   "source": [
    "#@markdown **Libraries**\n",
    "import numpy as np\n",
    "import matplotlib.pyplot as plt\n",
    "from scipy import optimize\n",
    "import seaborn as sns\n",
    "import pandas as pd"
   ]
  },
  {
   "cell_type": "markdown",
   "metadata": {
    "id": "aDfz9cH14sSb"
   },
   "source": [
    "##**1.)** \n",
    "\n",
    "![Plano Inclinado](https://raw.githubusercontent.com/jerolg/Metodos_Computacionales_taller/main/book/images/ecuacion_1_variable/Fig0.png)\n",
    "\n",
    "Una particula parte del reposo sobre un plano inclinado uniforme, cuyo ángulo \n",
    "$\\theta$ cambia con una rapidez constante de : \n",
    "\n",
    "\\begin{equation}\n",
    "\\frac{\\mathrm{d}\\theta}{\\mathrm{d} t} = \\omega < 0\n",
    "\\end{equation}\n",
    "\n",
    "Al final de t segundos, la posición del objeto esta dada por: \n",
    "\n",
    "\n",
    "\\begin{equation}\n",
    "x(t) = -\\frac{g}{2\\omega^2} \\left( \\frac{e^{\\omega t}-e^{-\\omega t}}{2} -\\sin\\omega t\\right)\n",
    "\\end{equation}\n",
    "\n",
    "\n",
    "Suponga que la partícula se desplazo 0.51m en 1s. Encuentre, con una exactitud de $10^{-5}$, la rapidez $\\omega$ con que $\\theta$ cambia. Suponga que $g=9.76m/s$"
   ]
  },
  {
   "cell_type": "markdown",
   "metadata": {
    "id": "2fENBd5U_Dae"
   },
   "source": [
    "###**Solution**\n",
    "for $x(t)=0.51,\\ t=1$\n",
    "\n",
    "**Bisection Method**\n",
    "\n",
    "$\\frac{0.51(2\\omega^2)}{9.76}+\\frac{e^{w}-e^{-w}}{2}-sin(\\omega)=f(\\omega)=0$ \n",
    "\n",
    "**Fixed Point**\n",
    "\n",
    "$G(x)=\\omega - x(t=1s) = \\omega + \\frac{g}{2\\omega^2}( \\frac{e^{\\omega}-e^{-\\omega}}{2}) -\\frac{g}{2\\omega^2}sin(w) $\n",
    "\n",
    "**Newthon Raphson** - **Secant Method**\n",
    "\n",
    "$x'(t=1s)=-\\frac{g(e^{-\\omega}+e^{\\omega}-2cos(\\omega))}{4\\omega}$\n"
   ]
  },
  {
   "cell_type": "code",
   "execution_count": 6,
   "metadata": {
    "colab": {
     "base_uri": "https://localhost:8080/",
     "height": 297
    },
    "id": "nbWm0rFNx7rF",
    "outputId": "5cc30f94-8d28-4cf9-8668-4e4ab8b7cd9b"
   },
   "outputs": [
    {
     "data": {
      "image/png": "[encoded data removed]",
      "text/plain": [
       "<Figure size 432x288 with 1 Axes>"
      ]
     },
     "metadata": {
      "needs_background": "light"
     },
     "output_type": "display_data"
    }
   ],
   "source": [
    "#f(x0,w,t0)\n",
    "func = lambda x : -9.76/(2*x**2)*(((np.exp(x)-np.exp(-x))/2)-np.sin(x))\n",
    "f = lambda u : (2*u**2*0.51)/9.76 - np.sin(u) + (np.exp(u)-np.exp(-u))/2\n",
    "p = lambda z : z-f(z)\n",
    "D1_f = lambda a : 0.5*(4.08*a/9.76+np.exp(-a)+np.exp(a)-2*np.cos(a))\n",
    "w = np.linspace(-np.pi/2, np.pi/2,100)\n",
    "n=10000\n",
    "plt.plot(w, f(w))\n",
    "plt.xlabel('$\\omega$')\n",
    "plt.ylabel('$f(\\omega)$')\n",
    "plt.title('$f(\\omega) \\\\ for\\\\ t = 1s, x(t) = 0.51m$')\n",
    "plt.grid()\n",
    "plt.show()\n"
   ]
  },
  {
   "cell_type": "code",
   "execution_count": 7,
   "metadata": {
    "colab": {
     "base_uri": "https://localhost:8080/"
    },
    "id": "9usBcEJV6A5F",
    "outputId": "c41292ec-322d-41af-fcef-fb8e61752cde"
   },
   "outputs": [
    {
     "name": "stdout",
     "output_type": "stream",
     "text": [
      "Bisection Method: -0.3135231018066406 \n",
      "Fixed_Point: -0.3135209839265092 \n",
      "Secant Method: -0.31352098925021976 \n",
      "Newton - Raphson: -0.3135209839265542\n",
      "\n",
      " \n",
      "For n=1000 iterations, the error in the root:\n",
      "for Bisection & Fixed Point Method, exist an error the order of 2.1178801314358786e-06, \n",
      "Similarly in the case of Newton- Raphson and Secant Methods\n",
      "the relative error is 5.3236655639388175e-09\n"
     ]
    }
   ],
   "source": [
    "#Bisection \n",
    "BM=optimize.bisect(f,-0.5,0.2,xtol=1E-5,maxiter=n)\n",
    "#Fixed Point\n",
    "FP=optimize.fixed_point(p,-0.5,xtol=1E-5,maxiter=n)\n",
    "#Newton Secant\n",
    "NS=optimize.newton(f, -0.5, maxiter=n, tol=1E-5)\n",
    "#Newton Raphson\n",
    "NR=optimize.newton(f, -0.5, fprime=D1_f, maxiter=n, tol=1E-5)\n",
    "print(f'Bisection Method: {BM} \\nFixed_Point: {FP} \\nSecant Method: {NS} \\nNewton - Raphson: {NR}')\n",
    "err1=abs(FP-BM)\n",
    "err2=abs(NS-NR)\n",
    "print(f'''\\n \\nFor n=1000 iterations, the error in the root:\n",
    "for Bisection & Fixed Point Method, exist an error the order of {err1}, \\nSimilarly in the case of Newton- Raphson and Secant Methods\n",
    "the relative error is {err2}''')\n"
   ]
  },
  {
   "cell_type": "markdown",
   "metadata": {
    "id": "cnMzXQEWDRDg"
   },
   "source": [
    "\n",
    "--------------------------------------------------------\n",
    "**R/:** La velocidad a la que varia el angulo $\\theta$ es de $\\frac{d \\theta}{dt}= \\omega \\approx -0.31352 \\frac{rad}{s}$\n",
    "\n",
    "\n",
    "\n",
    "_____________________________________________________________________________"
   ]
  },
  {
   "cell_type": "markdown",
   "metadata": {
    "id": "neEtVInHZXbZ"
   },
   "source": [
    "##**2.)** *(Realizado en clase)*\n",
    "\n",
    "Determinar el ángulo del sector circular que es igual a un cuarto del área de la circunferencia\n",
    "\n",
    "\\begin{equation}\n",
    "A = r^2 \\frac{\\theta}{2} - \\frac{r^2}{2} \\sin(\\theta)\n",
    "\\end{equation}\n",
    "\n",
    "\n",
    "\\begin{equation}\n",
    "\\frac{\\pi r^2}{4} = r^2 \\frac{\\theta}{2} - \\frac{r^2}{2} \\sin(\\theta)\n",
    "\\end{equation}\n",
    "\n",
    "\n",
    "\\begin{equation}\n",
    "\\theta - \\sin \\theta = \\frac{\\pi}{2}\n",
    "\\end{equation}\n",
    "\n",
    "\n",
    "\n",
    "\\begin{equation}\n",
    "f(\\theta) =\\theta - \\sin \\theta - \\frac{\\pi}{2}=0\n",
    "\\end{equation}"
   ]
  },
  {
   "cell_type": "code",
   "execution_count": 13,
   "metadata": {
    "id": "C2uR7ZiUNUAV"
   },
   "outputs": [],
   "source": [
    "f=lambda theta : theta-np.sin(theta)-np.pi/2\n",
    "f_fp = lambda theta : theta - f(theta)\n",
    "d_f = lambda theta : 1-np.cos(theta)\n",
    "theta=np.linspace(0,2*np.pi,100)\n",
    "\n",
    "#Iterations\n",
    "n=1000"
   ]
  },
  {
   "cell_type": "code",
   "execution_count": 12,
   "metadata": {
    "colab": {
     "base_uri": "https://localhost:8080/",
     "height": 285
    },
    "id": "52wJgQIga1We",
    "outputId": "fcac65c0-948c-4b25-cf25-c69bb147b7a9"
   },
   "outputs": [
    {
     "data": {
      "image/png": "[encoded data removed]",
      "text/plain": [
       "<Figure size 432x288 with 1 Axes>"
      ]
     },
     "metadata": {
      "needs_background": "light"
     },
     "output_type": "display_data"
    }
   ],
   "source": [
    "df=pd.DataFrame({\"theta\" : theta,\"f_theta\" : f(theta)})\n",
    "plt.figure()\n",
    "plt.plot(df.theta.values, df.f_theta.values)\n",
    "plt.xlabel(\"$\\\\theta$\")\n",
    "plt.ylabel(\"$f(\\\\theta)$\")\n",
    "plt.grid()\n",
    "plt.show()"
   ]
  },
  {
   "cell_type": "code",
   "execution_count": 17,
   "metadata": {
    "colab": {
     "base_uri": "https://localhost:8080/"
    },
    "id": "hIufIrnabDx3",
    "outputId": "aa537754-a7d3-4944-a5af-60fd5a18e668"
   },
   "outputs": [
    {
     "name": "stdout",
     "output_type": "stream",
     "text": [
      "Bisection Method: 2.3098814600094557 \n",
      "Fixed_Point: 2.309881460009962 \n",
      "Secant Method: 2.309881460010702 \n",
      "Newton - Raphson: 2.309881460010058\n",
      "\n",
      " \n",
      "For n=1000 iterations, the error in the root:\n",
      "for Bisection & Fixed Point Method, exist an error the order of 5.062616992290714e-13, \n",
      "Similarly in the case of Newton- Raphson and Secant Methods\n",
      "the relative error is 6.439293542825908e-13\n"
     ]
    }
   ],
   "source": [
    "#Bisection \n",
    "BM=optimize.bisect(f,0,np.pi,xtol=1E-12)\n",
    "\n",
    "#Fixed Point\n",
    "FP=optimize.fixed_point(f_fp,np.pi,xtol=1E-5,maxiter=n)\n",
    "\n",
    "#Newton Secant\n",
    "NS=optimize.newton(f, np.pi, maxiter=n, tol=1E-5)\n",
    "\n",
    "#Newton Raphson\n",
    "NR=optimize.newton(f, np.pi, fprime=d_f, maxiter=n, tol=1E-5)\n",
    "\n",
    "print(f'Bisection Method: {BM} \\nFixed_Point: {FP} \\nSecant Method: {NS} \\nNewton - Raphson: {NR}')\n",
    "\n",
    "e1=abs(BM-FP)\n",
    "e2=abs(NS-NR)\n",
    "print(f'''\\n \\nFor n=1000 iterations, the error in the root:\n",
    "for Bisection & Fixed Point Method, exist an error the order of {e1}, \\nSimilarly in the case of Newton- Raphson and Secant Methods\n",
    "the relative error is {e2}''')\n",
    "\n"
   ]
  },
  {
   "cell_type": "markdown",
   "metadata": {
    "id": "AdsX1zpKeEyG"
   },
   "source": [
    "---------------------------\n",
    "**R/:** El angulo para que se cumpla la condición es $\\theta \\approx 2.3098814600 \\ rad$\n",
    "\n",
    "___________________________________________________________________________"
   ]
  },
  {
   "cell_type": "markdown",
   "metadata": {
    "id": "KDRnmjsbfg6J"
   },
   "source": [
    "##**3.)**\n",
    "\n",
    "\n",
    "![Imagen 3](https://raw.githubusercontent.com/jerolg/Metodos_Computacionales_taller/main/book/images/ecuacion_1_variable/Fig2.png)\n",
    "\n",
    " Resolver la siguiente situación\n",
    "\n",
    "En el diseño de los vehiculos para todo tipo de terreno,  es necesario tener encuentra fallas cuando se trata de liberar dos tipos de obstáculos. Una es la falla por rozamiento, y ocurre cuando el vehiculo \n",
    "intenta cruzar un obstáculo que hace que su fondo toque el suelo. La otra recibie el nombre de falla por colision de la defensa delantera y ocurre cuando el vehiculo desciende por una zanja y la defensa delantera toca el suelo.\n",
    "\n",
    "\n",
    "\n",
    "La figura muestra las componentes asociados al segundo tipo  de falla. En ella se indeca el ángulo máximo $\\alpha$ que puede alcanzar un vehiculo cuando $\\beta$ es el angulo maximo en que no ocurre la falla \n",
    "por rozamiento y satisface la siguiente ecuación: \n",
    "\n",
    "\n",
    "\\begin{equation}\n",
    "A \\sin(\\alpha) \\cos(\\alpha)+B \\sin^2(\\alpha) - C \\cos(\\alpha) -  E  \\sin(\\alpha)=0\n",
    "\\end{equation}\n",
    "\n",
    "donde; \n",
    "\\begin{equation}\n",
    "A = l \\sin(\\beta)\n",
    "\\end{equation}\n",
    "\n",
    "\\begin{equation}\n",
    "B = l \\cos(\\beta)\n",
    "\\end{equation}\n",
    "\\begin{equation}\n",
    "C = (h + 0.5 D )\\sin(\\beta) - 0.5 D \\tan(\\beta)\n",
    "\\end{equation}\n",
    "\n",
    "\\begin{equation}\n",
    "E = (h + 0.5 D ) \\cos(\\beta) - 0.5 * D\n",
    "\\end{equation}\n",
    "\n",
    "\n",
    "Para $l=89$pulg, $h=49$pul, $D=55$, $\\beta=11.5° \\rightarrow 0.2007 \\ rad$ , el angulo se aproximara a $33° \\rightarrow 0.576 \\ rad$. Verificar este resultados"
   ]
  },
  {
   "cell_type": "code",
   "execution_count": 55,
   "metadata": {
    "id": "hABowu8Dfrb_"
   },
   "outputs": [],
   "source": [
    "def init_params(l=89,h=49,D=55,b=0.2007):\n",
    "  A=l * np.sin(b)\n",
    "  B=l * np.cos(b)\n",
    "  C=(h + 0.5 * D) * np.sin(b) - 0.5 * D * np.tan(b)\n",
    "  E=(h + 0.5 * D) * np.cos(b) - 0.5 * D\n",
    "  return A, B, C, E"
   ]
  },
  {
   "cell_type": "code",
   "execution_count": 63,
   "metadata": {
    "colab": {
     "base_uri": "https://localhost:8080/",
     "height": 279
    },
    "id": "IZtCXTpof8-j",
    "outputId": "ecbb992d-eb9a-4e3c-d746-fc44cf9784df"
   },
   "outputs": [
    {
     "data": {
      "image/png": "[encoded data removed]",
      "text/plain": [
       "<Figure size 432x288 with 1 Axes>"
      ]
     },
     "metadata": {
      "needs_background": "light"
     },
     "output_type": "display_data"
    }
   ],
   "source": [
    "A, B, C, E=init_params()\n",
    "def f(a):\n",
    "  T1=A * np.sin(a) * np.cos(a)\n",
    "  T2=B * np.sin(a)**2\n",
    "  T3=- C * np.cos(a) - E * np.sin(a)\n",
    "  return T1+T2+T3\n",
    "\n",
    "a = np.linspace(0,np.pi/2)\n",
    "\n",
    "plt.plot(a, f(a),color='r')\n",
    "plt.plot(a,a-f(a))\n",
    "plt.xlabel('$α$')\n",
    "plt.ylabel('$f(α)$')\n",
    "plt.grid()\n",
    "plt.show()"
   ]
  },
  {
   "cell_type": "code",
   "execution_count": 71,
   "metadata": {
    "colab": {
     "base_uri": "https://localhost:8080/"
    },
    "id": "fc75V6xyftVf",
    "outputId": "012447ff-0fa2-484b-b72e-ed6f525c06da"
   },
   "outputs": [
    {
     "name": "stdout",
     "output_type": "stream",
     "text": [
      "Bisection Method: 0.575469970703125 \n",
      "Fixed_Point: 18.42958142614522 \n",
      "Secant Method: 0.5754739974665111 \n",
      "Newton - Raphson: 0.5754739958541356\n",
      "\n",
      " \n",
      "For n=1000 iterations, the error in the root:\n",
      "for Bisection & Fixed Point Method, exist an error the order of 17.854111455442094, \n",
      "Similarly in the case of Newton- Raphson and Secant Methods\n",
      "the relative error is 1.6123754553731828e-09\n"
     ]
    }
   ],
   "source": [
    "r=lambda x : x-f(x)\n",
    "d_f = lambda x : -E * np.cos(x) + A * (np.cos(x))**2 + C * np.sin(x) + 2*B * np.cos(x) * np.sin(x) - A * (np.sin(x))**2\n",
    "\n",
    "n=1000\n",
    "\n",
    "#Bisection \n",
    "BM=optimize.bisect(f,0.4,0.6,xtol=1E-5,maxiter=n)\n",
    "\n",
    "#Fixed Point\n",
    "FP=optimize.fixed_point(f,0.1,xtol=1E-5,maxiter=n)\n",
    "\n",
    "#Newton Secant\n",
    "NS=optimize.newton(f, 0.6, maxiter=n, tol=1E-5)\n",
    "\n",
    "#Newton Raphson\n",
    "NR=optimize.newton(f, 0.6, fprime=d_f, maxiter=n, tol=1E-5)\n",
    "\n",
    "print(f'Bisection Method: {BM} \\nFixed_Point: {FP} \\nSecant Method: {NS} \\nNewton - Raphson: {NR}')\n",
    "\n",
    "e1=abs(BM-FP)\n",
    "e2=abs(NS-NR)\n",
    "print(f'''\\n \\nFor n=1000 iterations, the error in the root:\n",
    "for Bisection & Fixed Point Method, exist an error the order of {e1}, \\nSimilarly in the case of Newton- Raphson and Secant Methods\n",
    "the relative error is {e2}''')"
   ]
  },
  {
   "cell_type": "markdown",
   "metadata": {
    "id": "Lko3UfAyIkc5"
   },
   "source": [
    "En este caso particular el metodo de punto fijo resulta ineficaz e incorrecto usarlo, ya que tenemos una función periodica con n raices, y el acercamiento no necesariamente se da hacia el punto raiz que queremos obtener.\n",
    "\n",
    "- - - - - - - - - - - - - - - - \n",
    "**R/:** El angulo máximo $\\alpha_{max}$ es $0.5754 \\ rad \\rightarrow 32.968°$, lo cual concuerda con el postulado anterior.\n",
    "______________________________________________________________________"
   ]
  },
  {
   "cell_type": "markdown",
   "metadata": {
    "id": "mnRhGQf9KOMV"
   },
   "source": [
    "##**4.)**##\n",
    "Construir un fractal empleando el metodo de Newton-Raphson, \n",
    "(Reproducir código y entender)\n",
    "\\begin{equation}\n",
    "z_{n+1} = z_n -a \\frac{f(z)}{f'(z)} \n",
    "\\end{equation}\n",
    "\n",
    "\n",
    "\n",
    "\\begin{equation}\n",
    "f'(z) = \\frac{ f(z+h)+f(z) }{h}\n",
    "\\end{equation}"
   ]
  },
  {
   "cell_type": "code",
   "execution_count": 72,
   "metadata": {
    "id": "v9lVP8nAKhsp"
   },
   "outputs": [],
   "source": [
    "from PIL import Image"
   ]
  },
  {
   "cell_type": "code",
   "execution_count": 73,
   "metadata": {
    "id": "5IUL0eU7KjNb"
   },
   "outputs": [],
   "source": [
    "Npx_X = 80 #Numero de pixeles en x\n",
    "Npx_Y = 80 #Numero de pixeles en y\n",
    "\n",
    "image = Image.new(\"RGB\", (Npx_X, Npx_Y)) #Creacion de la imagen inicial\n",
    "\n",
    "npx = np.arange(0, Npx_X)\n",
    "npy = np.arange(0, Npx_Y)\n",
    "\n",
    "xmin = -1\n",
    "xmax = 1\n",
    "ymin = -1\n",
    "ymax = 1\n",
    "#Transformación al plano complejo en un rectangulo (xmin, xmax), (ymin, ymax)\n",
    "zx = npx * (xmax - xmin) / (Npx_X - 1)   + xmin\n",
    "zy = npy * (ymax-ymin) / (Npx_Y - 1) + ymin"
   ]
  },
  {
   "cell_type": "code",
   "execution_count": 74,
   "metadata": {
    "id": "2aYEW6STKoMX"
   },
   "outputs": [],
   "source": [
    "#Definicion  la funcion y las derivada \n",
    "def f(z): \n",
    "  return z**3 - 1\n",
    "\n",
    "def fp(z): \n",
    "  return 3*z**2\n",
    "\n",
    "h = 1E-4\n",
    "def fpn(z, h): \n",
    "  return (f(z+h)-f(z))/h"
   ]
  },
  {
   "cell_type": "code",
   "execution_count": 75,
   "metadata": {
    "id": "aF0tW-VmKsCZ"
   },
   "outputs": [],
   "source": [
    "a = 0.2\n",
    "Niteraciones = 120\n",
    "eps = 1E-8\n",
    "\n",
    "x = - 1\n",
    "for zx_ in zx:\n",
    "  x = x + 1 \n",
    "  y = -1\n",
    "  for zy_ in zy: \n",
    "      y = y + 1\n",
    "      Z_0 = complex(zx_, zy_)\n",
    "    \n",
    "      for i in range(0, Niteraciones): \n",
    "        Z = Z_0 - a * f(Z_0)/fp(Z_0)\n",
    "\n",
    "        if( abs(Z-Z_0)<= eps):\n",
    "          break \n",
    "          \n",
    "        Z_0 = Z\n",
    "      #print(i)\n",
    "      #print(i)\n",
    "      r, g, b = i % 4 *64 , i % 8 *16, i% 16* 16\n",
    "      \n",
    "      image.putpixel((x,y), (r,g,b) )"
   ]
  },
  {
   "cell_type": "code",
   "execution_count": 79,
   "metadata": {
    "colab": {
     "base_uri": "https://localhost:8080/",
     "height": 268
    },
    "id": "71x5gpzoKxEs",
    "outputId": "5c085227-3124-4148-97c0-ff3417dfdf72"
   },
   "outputs": [
    {
     "data": {
      "image/png": "[encoded data removed]",
      "text/plain": [
       "<Figure size 432x288 with 1 Axes>"
      ]
     },
     "metadata": {
      "needs_background": "light"
     },
     "output_type": "display_data"
    }
   ],
   "source": [
    "plt.imshow(image)\n",
    "#plt.xlim(400, 600)\n",
    "#plt.ylim(400, 523)\n",
    "plt.show()"
   ]
  }
 ],
 "metadata": {
  "colab": {
   "include_colab_link": true,
   "name": "Tarea03_Solucion_ecuaciones.ipynb",
   "provenance": []
  },
  "kernelspec": {
   "display_name": "Python 3 (ipykernel)",
   "language": "python",
   "name": "python3"
  },
  "language_info": {
   "codemirror_mode": {
    "name": "ipython",
    "version": 3
   },
   "file_extension": ".py",
   "mimetype": "text/x-python",
   "name": "python",
   "nbconvert_exporter": "python",
   "pygments_lexer": "ipython3",
   "version": "3.8.12"
  }
 },
 "nbformat": 4,
 "nbformat_minor": 1
}
