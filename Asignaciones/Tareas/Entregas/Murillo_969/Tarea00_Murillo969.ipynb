{
  "nbformat": 4,
  "nbformat_minor": 0,
  "metadata": {
    "colab": {
      "name": "Tarea00_Murillo969.ipynb",
      "provenance": [],
      "collapsed_sections": []
    },
    "kernelspec": {
      "name": "python3",
      "display_name": "Python 3"
    },
    "language_info": {
      "name": "python"
    }
  },
  "cells": [
    {
      "cell_type": "markdown",
      "metadata": {
        "id": "dryx2LLH-xQv"
      },
      "source": [
        "\n",
        "\n",
        "**Taller:** Sesión 0.0\n",
        "\n",
        "**Profesor:** Hernán D. Salinas Jiménez\n",
        "\n",
        "**Alumna:** Nataly Lucía Murillo Mosquera\n",
        "\n",
        "**CC:** 1003970969\n",
        "\n",
        "# **Problemas**\n",
        "\n",
        "1.   Elaborar un algoritmo e implementar en Python el factorial de un número entero `n` ingresado por el usuario.\n",
        "\n",
        "***Solución:***"
      ]
    },
    {
      "cell_type": "code",
      "source": [
        "#Librería.\n",
        "import numpy as np"
      ],
      "metadata": {
        "id": "GzGI75TWDk4U"
      },
      "execution_count": 43,
      "outputs": []
    },
    {
      "cell_type": "code",
      "source": [
        "num = int(input(\"Ingrese un número entero: \")) #Empezamos pidiéndole al usuario un número entero cualesquiera.\n",
        "if num >= 0:\n",
        "  print('De acuerdo, continúa a la línea siguiente por favor.')\n",
        "else:\n",
        "  print('Ups! ¡Inténtalo nuevamente! Sólo enteros positivos.')\n",
        "  \n",
        "\n",
        "def factorial(num):\n",
        "  factorial = 1   #Lo iniciamos en 1 debido a que es una multiplicación.\n",
        "  for i in range(1, num+1):   #Se pone el \"+1\" para que tome el número dado.\n",
        "      factorial = factorial*i\n",
        "  return factorial"
      ],
      "metadata": {
        "colab": {
          "base_uri": "https://localhost:8080/"
        },
        "id": "B4Q99sAhWiu9",
        "outputId": "7092a63a-0fec-4404-8585-4046af459928"
      },
      "execution_count": 85,
      "outputs": [
        {
          "output_type": "stream",
          "name": "stdout",
          "text": [
            "Ingrese un número entero: 6\n",
            "De acuerdo, continúa a la línea siguiente por favor.\n"
          ]
        }
      ]
    },
    {
      "cell_type": "code",
      "source": [
        "factorial(num)"
      ],
      "metadata": {
        "colab": {
          "base_uri": "https://localhost:8080/"
        },
        "id": "GFRoS847XjDX",
        "outputId": "53ad1242-74d3-4dbe-c0d6-882476a39cdd"
      },
      "execution_count": 86,
      "outputs": [
        {
          "output_type": "execute_result",
          "data": {
            "text/plain": [
              "720"
            ]
          },
          "metadata": {},
          "execution_count": 86
        }
      ]
    },
    {
      "cell_type": "markdown",
      "source": [
        "2.   Diseñar un programa que lea dos números `a` y `b` y que diga qué tipo de números son.\n",
        "\n",
        "***Solución:***\n",
        "\n",
        "\n",
        "\n"
      ],
      "metadata": {
        "id": "hdwBRk8dI82Q"
      }
    },
    {
      "cell_type": "code",
      "source": [
        "a = int(input('Ingrese un número entero positivo: '))\n",
        "b = int(input('Ingrese un número entero positivo: '))\n",
        "a1 = []\n",
        "b1 = []\n",
        "type_a = []\n",
        "type_b = []"
      ],
      "metadata": {
        "colab": {
          "base_uri": "https://localhost:8080/"
        },
        "id": "cVOgxF2Od0v2",
        "outputId": "ff0e0d79-78f7-41bd-bd61-354081f7cbf7"
      },
      "execution_count": 183,
      "outputs": [
        {
          "name": "stdout",
          "output_type": "stream",
          "text": [
            "Ingrese un número entero positivo: 220\n",
            "Ingrese un número entero positivo: 284\n"
          ]
        }
      ]
    },
    {
      "cell_type": "code",
      "source": [
        "def numeros_amigos(n,k):\n",
        "  suma_n = 0\n",
        "  suma_k = 0\n",
        "  for i in range(1,n):\n",
        "        if n % i == 0:\n",
        "            suma_n += i\n",
        " \n",
        "  for j in range(1,k):\n",
        "        if k % j == 0:\n",
        "            suma_k += j\n",
        " \n",
        "  return suma_n == k and suma_k == n"
      ],
      "metadata": {
        "id": "LQd8UsbieUND"
      },
      "execution_count": 170,
      "outputs": []
    },
    {
      "cell_type": "code",
      "source": [
        "def clase_numero(a,b):\n",
        "  for x in range(1,a):\n",
        "    if a % x == 0:\n",
        "      a1.append(x)\n",
        "  for y in range(1,b):\n",
        "    if b % y == 0:\n",
        "      b1.append(y)\n",
        "\n",
        "  if sum(a1) > a:\n",
        "      type_a.append('número abundante')\n",
        "  else:\n",
        "      type_a.append('número defectivo')\n",
        "  if sum(b1) > b:\n",
        "      type_b.append('número abundante')\n",
        "  else:\n",
        "      type_b.append('número defectivo')\n",
        "  \n",
        "  if numeros_amigos(a,b):\n",
        "    print(f'a = {a} y b = {b} son números amigos')\n",
        "  \n",
        "  if sum(a1) == a:\n",
        "    type_a.append('número perfecto')\n",
        "  if sum(b1) == b:\n",
        "    type_b.append('número perfecto')\n",
        "\n",
        "  if sum(a1) == 1:\n",
        "    type_a.append('número primo')\n",
        "  if sum(b1) == 1:\n",
        "    type_b.append('número primo')\n",
        "\n",
        "  return print(f'a = {a} es un {type_a} y b = {b} es un {type_b}')"
      ],
      "metadata": {
        "id": "mFBCum6KOl0T"
      },
      "execution_count": 179,
      "outputs": []
    },
    {
      "cell_type": "code",
      "source": [
        "clase_numero(a,b)"
      ],
      "metadata": {
        "colab": {
          "base_uri": "https://localhost:8080/"
        },
        "id": "QtpytFYYy8Z0",
        "outputId": "70c82db2-56d6-4a0f-c8cb-ae3c9b2d085d"
      },
      "execution_count": 184,
      "outputs": [
        {
          "output_type": "stream",
          "name": "stdout",
          "text": [
            "a = 220 y b = 284 son números amigos\n",
            "a = 220 es un ['número abundante'] y b = 284 es un ['número defectivo']\n"
          ]
        }
      ]
    },
    {
      "cell_type": "markdown",
      "source": [
        "3. Determine si un número `n` entero ingresado por el usuario es un palíndromo.\n",
        "\n",
        "***Solución:***\n",
        "\n",
        "\n",
        "\n"
      ],
      "metadata": {
        "id": "GY07ms_HNDg_"
      }
    },
    {
      "cell_type": "code",
      "source": [
        "n = int(input(\"Ingrese un número: \"))"
      ],
      "metadata": {
        "colab": {
          "base_uri": "https://localhost:8080/"
        },
        "id": "Y5FFmrKzaMcF",
        "outputId": "dc81eeb7-bf56-4464-dba9-23515dd84065"
      },
      "execution_count": null,
      "outputs": [
        {
          "name": "stdout",
          "output_type": "stream",
          "text": [
            "Ingrese un número: 11113491111\n"
          ]
        }
      ]
    },
    {
      "cell_type": "code",
      "source": [
        "#Observemos si un número entero es un palíndromo o no\n",
        "def palindromo(x):\n",
        "  if str(x) == str(x)[::-1]: \n",
        "    return True\n",
        "    \n",
        "  else:\n",
        "    return False"
      ],
      "metadata": {
        "id": "8JiqIuwzJCq4"
      },
      "execution_count": null,
      "outputs": []
    },
    {
      "cell_type": "code",
      "source": [
        "palindromo(n)"
      ],
      "metadata": {
        "colab": {
          "base_uri": "https://localhost:8080/"
        },
        "id": "MW8kbVI4nXxH",
        "outputId": "9f2dd24f-b186-4cc9-a610-58d46609fcbe"
      },
      "execution_count": null,
      "outputs": [
        {
          "output_type": "execute_result",
          "data": {
            "text/plain": [
              "False"
            ]
          },
          "metadata": {},
          "execution_count": 22
        }
      ]
    },
    {
      "cell_type": "markdown",
      "source": [
        "4.   Dada una cadena de caracteres, entregar una lista donde se retorne: \n",
        "\n",
        "*   en la primera casilla: `True` si el caracter del medio es una vocal, `False` en caso contrario\n",
        "*   en la segunda: el numero de vocales en la cadena\n",
        "*   en la tercera: el numero de consonantes\n",
        "*   en la ultima: la cadena de caracteres invertida (ej: perro, orrep)\n",
        "\n",
        "***Solución:***"
      ],
      "metadata": {
        "id": "exhGfasfRI1N"
      }
    },
    {
      "cell_type": "code",
      "source": [
        "vocal = ['a','e','i','o','u','á','é','í','ó','ú']\n",
        "consonante = ['b','c','d','f','g','h','j','k','l','m','n','ñ','p','q','r','s','t','v','w','x','y','z']\n",
        "word = (input(\"Ingrese una palabra: \")).lower()"
      ],
      "metadata": {
        "colab": {
          "base_uri": "https://localhost:8080/"
        },
        "id": "LXgGIshrD6ff",
        "outputId": "bc2701df-056a-4ada-8d9d-85cf23ec2275"
      },
      "execution_count": 64,
      "outputs": [
        {
          "name": "stdout",
          "output_type": "stream",
          "text": [
            "Ingrese una palabra: perro\n"
          ]
        }
      ]
    },
    {
      "cell_type": "code",
      "source": [
        "def truefalse_vocal(w):\n",
        "  w = ''\n",
        "  if len(w) % 2 == 0:\n",
        "    if (len(w)-1//2) in vocal and ((len(w)-1//2)+1) in vocal:\n",
        "      return True\n",
        "    else:\n",
        "      return False\n",
        "  else:\n",
        "    middle = int(np.median(np.linspace(0,len(w))))\n",
        "    if n[middle] in vocal:\n",
        "      return True\n",
        "    else:\n",
        "      return False\n",
        "\n",
        "def contar_vocal():\n",
        "  contar = 0\n",
        "  for i in vocal:\n",
        "    for j in word:\n",
        "      if (i == j):\n",
        "        contar += 1  #Cuenta el número de vocales en una cadena.\n",
        "  return contar\n",
        "\n",
        "def contar_consonante():\n",
        "  contar1 = 0\n",
        "  for i in consonante:\n",
        "    for j in word:\n",
        "      if (i == j):\n",
        "        contar1 += 1   #Cuenta el número de consonantes en una cadena.\n",
        "  return contar1\n",
        "\n",
        "def invertir_palabra(w):\n",
        "  resultado = ''\n",
        "  for c in range(len(w)-1, -1, -1):\n",
        "    resultado += w[c]\n",
        "  return resultado"
      ],
      "metadata": {
        "id": "YxJFhYD-6C3e"
      },
      "execution_count": 69,
      "outputs": []
    },
    {
      "cell_type": "code",
      "source": [
        "lista = [truefalse_vocal(word), contar_vocal(), contar_consonante(), invertir_palabra(word)]\n",
        "lista"
      ],
      "metadata": {
        "colab": {
          "base_uri": "https://localhost:8080/"
        },
        "id": "BWU16-euJeza",
        "outputId": "69d59285-b600-4751-bb76-027e7ed41baf"
      },
      "execution_count": 88,
      "outputs": [
        {
          "output_type": "execute_result",
          "data": {
            "text/plain": [
              "[False, 2, 3, 'orrep']"
            ]
          },
          "metadata": {},
          "execution_count": 88
        }
      ]
    },
    {
      "cell_type": "markdown",
      "source": [
        "\n",
        "\n",
        "5.   Elabore un método para calcular el n-ésimo término de la sucesión de fibonacci.\n",
        "\n",
        "***Solución:***"
      ],
      "metadata": {
        "id": "o3WjC8iTxm39"
      }
    },
    {
      "cell_type": "code",
      "source": [
        "x = int(input('Número entero positivo: ')) #El usuario nuevamente ingresa un número entero positivo que desee.\n",
        "\n",
        "def fibo(n):\n",
        "  f0 = 0\n",
        "  f1 = 1\n",
        "  for x in range(n):\n",
        "      fn = f0 + f1\n",
        "      f0 = f1\n",
        "      f1 = fn\n",
        "  return f1  #Solo se aplicó lo de la fórmula dada en el ejercicio.\n",
        "\n",
        "for x in range(x):\n",
        "   print(fibo(x)) #Imprime toda la sucesión del n-ésimo término."
      ],
      "metadata": {
        "id": "oBn2WILMzm1h"
      },
      "execution_count": null,
      "outputs": []
    },
    {
      "cell_type": "code",
      "source": [
        "fibo(x)"
      ],
      "metadata": {
        "colab": {
          "base_uri": "https://localhost:8080/"
        },
        "id": "upSgJDfGqtVp",
        "outputId": "8b838aa6-0dd7-4d49-afb0-c677a4772fb3"
      },
      "execution_count": 99,
      "outputs": [
        {
          "output_type": "execute_result",
          "data": {
            "text/plain": [
              "12586269025"
            ]
          },
          "metadata": {},
          "execution_count": 99
        }
      ]
    },
    {
      "cell_type": "markdown",
      "source": [
        "\n",
        "\n",
        "6.   Entrar en un arreglo de números y ordenarlos de forma ascendente.\n",
        "\n",
        "***Solución:***\n"
      ],
      "metadata": {
        "id": "feZnG_Oyz9_p"
      }
    },
    {
      "cell_type": "code",
      "source": [
        "v = [22, 32, 232, 58, 1.648e+15, 2.5, 3000, 73, -3, 5e-3]   #Arreglo de números, esta vez no elegido por el usuario.\n",
        "\n",
        "def particion(v):   #Función auxiliar que ayudará a cumplir el \"divide y vencerás\" para este algoritmo.\n",
        "  pivote = v[0]   \n",
        "  menores = []\n",
        "  mayores = []\n",
        "  for i in range(1, len(v)):\n",
        "    if v[i] < pivote:\n",
        "      menores.append(v[i])\n",
        "    else:\n",
        "      mayores.append(v[i])\n",
        "  return menores, pivote, mayores\n",
        "\n",
        "def quicksort(v):\n",
        "  if len(v) < 2:\n",
        "    return v\n",
        "  else:\n",
        "    menores, pivote, mayores = particion(v)\n",
        "    return quicksort(menores) + [pivote] + quicksort(mayores)"
      ],
      "metadata": {
        "id": "bGgupQBbIr1L"
      },
      "execution_count": 90,
      "outputs": []
    },
    {
      "cell_type": "code",
      "source": [
        "(quicksort(v))"
      ],
      "metadata": {
        "colab": {
          "base_uri": "https://localhost:8080/"
        },
        "id": "h0O_LZiAXfQm",
        "outputId": "2ab83403-9ab0-43cb-92e1-11fff0f161e7"
      },
      "execution_count": 91,
      "outputs": [
        {
          "output_type": "execute_result",
          "data": {
            "text/plain": [
              "[-3, 0.005, 2.5, 22, 32, 58, 73, 232, 3000, 1648000000000000.0]"
            ]
          },
          "metadata": {},
          "execution_count": 91
        }
      ]
    },
    {
      "cell_type": "code",
      "source": [
        "v.sort()\n",
        "v"
      ],
      "metadata": {
        "colab": {
          "base_uri": "https://localhost:8080/"
        },
        "id": "TMAD7Gr4PyQ6",
        "outputId": "067c01aa-d511-48f2-fc80-092788f14081"
      },
      "execution_count": 92,
      "outputs": [
        {
          "output_type": "execute_result",
          "data": {
            "text/plain": [
              "[-3, 0.005, 2.5, 22, 32, 58, 73, 232, 3000, 1648000000000000.0]"
            ]
          },
          "metadata": {},
          "execution_count": 92
        }
      ]
    }
  ]
}