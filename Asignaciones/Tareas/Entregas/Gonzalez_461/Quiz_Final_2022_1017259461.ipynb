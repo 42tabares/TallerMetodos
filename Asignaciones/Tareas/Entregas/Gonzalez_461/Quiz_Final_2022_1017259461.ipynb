{
  "nbformat": 4,
  "nbformat_minor": 0,
  "metadata": {
    "colab": {
      "name": "Quiz_Final_2022_1017259461.ipynb",
      "provenance": [],
      "collapsed_sections": []
    },
    "kernelspec": {
      "name": "python3",
      "display_name": "Python 3"
    },
    "language_info": {
      "name": "python"
    }
  },
  "cells": [
    {
      "cell_type": "markdown",
      "metadata": {
        "id": "Xn9aYEO_3asn"
      },
      "source": [
        "Entrega: La entrega de este examen se realizará a traves del git hub.\n",
        "\n",
        "El nombre del notebook deberá ser:\n",
        "\n",
        "Apellido_Nombre_UltimosCuatroDigitosDelDocumento.ipynb"
      ]
    },
    {
      "cell_type": "markdown",
      "metadata": {
        "id": "l0zhKV-_jK9f"
      },
      "source": [
        "# Paracaidista en un atmosfera no uniforme.\n",
        "\n",
        "En una atmósfera isotérmica, la variación de la presión en función de la altitud está dada por la ley de Laplace.\n",
        "\n",
        "\\begin{equation}\n",
        "P=P_0 e^{-\\frac{Mgy}{kT}}\n",
        "\\end{equation}\n",
        "\n",
        "\n",
        "- $P_0=1atm$ es la presión de la atmósfera a nivel del mar\n",
        "- M es el peso molecular del aire $28.8 g/mol=0.0288 kg/mol$\n",
        "- g es la aceleración de la gravedad\n",
        "- $k=1.3805·10^{-23}$ J/K es la constante de Boltzmann\n",
        "- $T$ es la temperatura de la atmósfera en kelvin\n",
        "- $NA=6.0225\\times 10^23$ es el número de Avogadro, número de moléculas que caben en un mol.\n",
        "\n",
        "Suponiendo que el aire se comporta como un gas ideal, su densidad varía con la altura de la misma forma que la presión, $\\rho=\\rho_0 exp(-y/\\lambda)$. La densidad del aire al nivel del mar es $\\rho_0=1.29 kg/m^3$ y la constante $\\lambda=7482.2 m$\n",
        "\n",
        "\n",
        "Las fuerzas que actuan sobre el paracaidista son:  El peso y la fuerza de fricción $f=\\frac{1}{2}\\rho A \\delta v^2$, donde $\\rho$ es la densidad que depende de la altura, A es el area de seccion trasnversal expuesta al aire  y $\\delta $ es coeficiente de rozamiento. La Ecuacion diferencial de movimiento viene dada por:\n",
        "\n",
        "\\begin{equation}\n",
        "\\frac{\\mathrm{d}^2y}{\\mathrm{d}t^2} = - mg + \\frac{A\\delta}{2m} \\rho v^2 \n",
        "\\end{equation}\n",
        "\n",
        "\n",
        "\\begin{equation}\n",
        "\\frac{\\mathrm{d}^2y}{\\mathrm{d}t^2} = - mg + k_0v^2 exp(-y/\\lambda)\n",
        "\\end{equation}\n",
        "\n",
        "donde $k_0=\\frac{\\rho_0A\\delta}{2}$, siendo $\\rho_0$ la densidad al nivel del mar.\n",
        "\n",
        "Para la situación descrita, su tarea será elaborar un notebook de jupyter para resolver lo siguente:\n",
        "\n",
        "1.  Elaborar una gráfica de la densidad como función de la altura.\n",
        "2. Diseñar un programa que resuelva  la ecuación diferencial que describe el movimiento del paracaidista, para los siguientes parámetros: \n",
        "\n",
        "- $m=60kg$, $A=0.3m^2$, $h=30km$.\n",
        "- $m=60kg$, $A=0.3m^2$, $h=40km$.\n",
        "- $m=60kg$, $A=0.3m^2$, $h=50km$.\n",
        "- $m=60kg$, $A=0.3m^2$, $h=60km$.\n",
        "- $m=60kg$, $A=0.3m^2$, $h=70km$.\n",
        "\n",
        "3. Con la solucion de la ecuacion diferencial, elaborar una gráfica de. \n",
        "- la posición como función del tiempo.\n",
        "- La velocidad como función del tiempo.\n",
        "- La velocidad como función de la posición \n",
        "\n",
        "4. Determine numéricamente y analiticamente el valor de la velocidad maxima para las diferentes altura Compara su resultado con:\n",
        "\n",
        "http://www.sc.ehu.es/sbweb/fisica3/fluidos/paracaidas/paracaidas_1.html\n",
        "\n",
        "\n",
        "\n",
        "5. Realice un grafico de la velocidad maxima como función de la altura de caida.\n",
        "\n",
        "\n",
        "\n",
        "Reto:\n",
        "\n",
        "El modelo puede ser mejorado si se tiene presente que la aceleración de la gravedad varia según la altura.\n",
        "\n",
        "\\begin{equation}\n",
        "\\frac{\\mathrm{d}^2y}{\\mathrm{d}t^2} = - \\frac{GM}{(R+y)^2} + \\frac{A\\delta}{2m} \\rho v^2 \n",
        "\\end{equation}\n",
        "\n",
        "donde $G=6.67\\times 10^{-11} \\mathrm{Nm^2/kg}$, $M=5.98\\times 10 ^{24} \\mathrm{kg}$ y el radio de la Tierra es de $R=6.371\\mathrm{km}$\n",
        "\n",
        "\n",
        "Solucione la ecuación diferencial para este caso.\n",
        "\n",
        "\n",
        "\n"
      ]
    },
    {
      "cell_type": "code",
      "source": [
        "import numpy as np\n",
        "import pandas as pd\n",
        "import matplotlib.pyplot as plt\n",
        "from scipy.integrate import ode, odeint"
      ],
      "metadata": {
        "id": "FHN6rLXdT_z6"
      },
      "execution_count": 1,
      "outputs": []
    },
    {
      "cell_type": "code",
      "source": [
        "dom = np.linspace(0,1E4)"
      ],
      "metadata": {
        "id": "_zHEEBU1UVNJ"
      },
      "execution_count": 20,
      "outputs": []
    },
    {
      "cell_type": "code",
      "source": [
        "ρ = lambda y: 1.29*np.exp(-y/7482.2)"
      ],
      "metadata": {
        "id": "O98lirQ2Tt72"
      },
      "execution_count": 15,
      "outputs": []
    },
    {
      "cell_type": "code",
      "source": [
        "fig = plt.figure()\n",
        "ax = fig.add_subplot(111)\n",
        "ax.plot(dom, ρ(dom))\n",
        "ax.set_title('Densidad vs altura\\n')\n",
        "plt.xlabel('Altura')\n",
        "plt.ylabel('Densidad')"
      ],
      "metadata": {
        "colab": {
          "base_uri": "https://localhost:8080/",
          "height": 327
        },
        "id": "iWPZH2q9V5ot",
        "outputId": "582fcfee-01de-4bc2-be08-da51a3e58248"
      },
      "execution_count": 21,
      "outputs": [
        {
          "output_type": "execute_result",
          "data": {
            "text/plain": [
              "Text(0, 0.5, 'Densidad')"
            ]
          },
          "metadata": {},
          "execution_count": 21
        },
        {
          "output_type": "display_data",
          "data": {
            "text/plain": [
              "<Figure size 432x288 with 1 Axes>"
            ],
            "image/png": "[encoded data removed]"
          },
          "metadata": {
            "needs_background": "light"
          }
        }
      ]
    },
    {
      "cell_type": "markdown",
      "source": [
        "Teniendo en cuenta que:\n",
        "\n",
        "\\begin{equation}\n",
        "\\frac{\\mathrm{d}y}{\\mathrm{d}t} = v \n",
        "\\end{equation}\n",
        "\n",
        "\\\n",
        "La ecuación previa se puede expresar como:\n",
        "\\begin{equation}\n",
        "\\frac{\\mathrm{d}v}{\\mathrm{d}t} = -g + k_0v^{2}e^{\\frac{-y}{λ}} \n",
        "\\end{equation}\n",
        "\\\n",
        "Con k_0:\n",
        "\\begin{equation}\n",
        "k_0 = \\frac{\\rho_0 A\\delta}{2m} \n",
        "\\end{equation}\n"
      ],
      "metadata": {
        "id": "JxlsE0g8tD9M"
      }
    },
    {
      "cell_type": "code",
      "source": [
        "k0 = lambda H, m: 1.29*H*0.2/(2)\n",
        "g = 9.8\n",
        "print(k0(0.3, 60))"
      ],
      "metadata": {
        "colab": {
          "base_uri": "https://localhost:8080/"
        },
        "id": "HSwBr-o-5vYn",
        "outputId": "d8816f6f-8ef2-4c01-ff79-740f512d4c8b"
      },
      "execution_count": 135,
      "outputs": [
        {
          "output_type": "stream",
          "name": "stdout",
          "text": [
            "0.038700000000000005\n"
          ]
        }
      ]
    },
    {
      "cell_type": "code",
      "source": [
        "def skydive(p, t):\n",
        "    y, v = p\n",
        "    return [v, -g + k0(0.3, 60)*v*v*np.exp(-y/7482.2)]\n",
        "hs = [30000+10000*i for i in range(5)]\n",
        "\n",
        "sols= [np.transpose(odeint(skydive, (i, 0), np.linspace(0,100,100))) for i in hs]\n",
        "vs = [sols[i][1] for i in range(5)]\n",
        "ys = [sols[i][0] for i in range(5)]"
      ],
      "metadata": {
        "id": "3_jkB7EXuHS9"
      },
      "execution_count": 147,
      "outputs": []
    },
    {
      "cell_type": "code",
      "source": [
        "plt.plot(ys[0], vs[0])\n",
        "plt.xlim(31000, 22000)\n",
        "plt.ylim(0, -120)\n",
        "plt.xlabel('Posicion')\n",
        "plt.ylabel('Velocidad')\n",
        "plt.title('Velocidad vs Posición')"
      ],
      "metadata": {
        "colab": {
          "base_uri": "https://localhost:8080/",
          "height": 312
        },
        "id": "e-Qo3jqryHwY",
        "outputId": "800e3d19-2fd1-45b2-d754-ff644feea42b"
      },
      "execution_count": 154,
      "outputs": [
        {
          "output_type": "execute_result",
          "data": {
            "text/plain": [
              "Text(0.5, 1.0, 'Velocidad vs Posición')"
            ]
          },
          "metadata": {},
          "execution_count": 154
        },
        {
          "output_type": "display_data",
          "data": {
            "text/plain": [
              "<Figure size 432x288 with 1 Axes>"
            ],
            "image/png": "[encoded data removed]"
          },
          "metadata": {
            "needs_background": "light"
          }
        }
      ]
    },
    {
      "cell_type": "code",
      "source": [
        "plt.plot(np.linspace(0,100,len(vs[0])), vs[0])\n",
        "plt.title('Velocidad vs tiempo')"
      ],
      "metadata": {
        "colab": {
          "base_uri": "https://localhost:8080/",
          "height": 298
        },
        "id": "Z1Srk5Nb7QgW",
        "outputId": "4ebf0513-6355-4c3e-9eff-9229a6c8ee3b"
      },
      "execution_count": 155,
      "outputs": [
        {
          "output_type": "execute_result",
          "data": {
            "text/plain": [
              "Text(0.5, 1.0, 'Velocidad vs tiempo')"
            ]
          },
          "metadata": {},
          "execution_count": 155
        },
        {
          "output_type": "display_data",
          "data": {
            "text/plain": [
              "<Figure size 432x288 with 1 Axes>"
            ],
            "image/png": "[encoded data removed]"
          },
          "metadata": {
            "needs_background": "light"
          }
        }
      ]
    },
    {
      "cell_type": "code",
      "source": [
        "plt.plot(np.linspace(0,100,len(vs[0])), ys[0])\n",
        "plt.title('Posición vs tiempo')"
      ],
      "metadata": {
        "colab": {
          "base_uri": "https://localhost:8080/",
          "height": 298
        },
        "id": "iEVdv33MCQii",
        "outputId": "b17ce2be-bd94-427e-f98c-d5f63b8537ec"
      },
      "execution_count": 156,
      "outputs": [
        {
          "output_type": "execute_result",
          "data": {
            "text/plain": [
              "Text(0.5, 1.0, 'Posición vs tiempo')"
            ]
          },
          "metadata": {},
          "execution_count": 156
        },
        {
          "output_type": "display_data",
          "data": {
            "text/plain": [
              "<Figure size 432x288 with 1 Axes>"
            ],
            "image/png": "[encoded data removed]"
          },
          "metadata": {
            "needs_background": "light"
          }
        }
      ]
    },
    {
      "cell_type": "code",
      "source": [
        ""
      ],
      "metadata": {
        "id": "GRIkWaWBJlx2"
      },
      "execution_count": null,
      "outputs": []
    }
  ]
}