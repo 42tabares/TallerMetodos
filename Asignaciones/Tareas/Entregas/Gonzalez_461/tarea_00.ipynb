{
  "nbformat": 4,
  "nbformat_minor": 0,
  "metadata": {
    "colab": {
      "name": "tarea_00.ipynb",
      "provenance": [],
      "collapsed_sections": [
        "yfDj9OcN_ycL",
        "hoETYgfyANU4"
      ],
      "authorship_tag": "ABX9TyOOi+GdwDCsZ3siqy+Ky5YB",
      "include_colab_link": true
    },
    "kernelspec": {
      "name": "python3",
      "display_name": "Python 3"
    },
    "language_info": {
      "name": "python"
    }
  },
  "cells": [
    {
      "cell_type": "markdown",
      "metadata": {
        "id": "view-in-github",
        "colab_type": "text"
      },
      "source": [
        "<a href=\"https://colab.research.google.com/github/vaskiax/Metodos_Computacionales_taller/blob/main/Asignaciones/Tareas/Entregas/Gonzalez_461/tarea_00.ipynb\" target=\"_parent\"><img src=\"https://colab.research.google.com/assets/colab-badge.svg\" alt=\"Open In Colab\"/></a>"
      ]
    },
    {
      "cell_type": "markdown",
      "source": [
        "#Elaborar un algoritmo e implementar en python, el factorial de un número entero n ingresado por el usuario"
      ],
      "metadata": {
        "id": "bib-hiZi_dSz"
      }
    },
    {
      "cell_type": "markdown",
      "source": [
        "##Defining the function"
      ],
      "metadata": {
        "id": "yfDj9OcN_ycL"
      }
    },
    {
      "cell_type": "code",
      "execution_count": 1,
      "metadata": {
        "id": "Ez1Fnu4R_QRa"
      },
      "outputs": [],
      "source": [
        "def my_factorial (n):\n",
        "  \n",
        "  if n == 0:\n",
        "    return 1\n",
        "  \n",
        "  else:\n",
        "    \n",
        "    initial = n + 1 \n",
        "    fac = n*1\n",
        "    tries = 0\n",
        "    \n",
        "    while n > 1:\n",
        "      n -= 1\n",
        "      fac *= n\n",
        "      tries += 1\n",
        "      \n",
        "      if tries >  initial:\n",
        "        break   \n",
        "    \n",
        "    return fac"
      ]
    },
    {
      "cell_type": "markdown",
      "source": [
        "##Testing "
      ],
      "metadata": {
        "id": "9x3MUpCw_3oy"
      }
    },
    {
      "cell_type": "code",
      "source": [
        "my_factorial(5)"
      ],
      "metadata": {
        "colab": {
          "base_uri": "https://localhost:8080/"
        },
        "id": "rg1hdDI6_46j",
        "outputId": "b2ca8d56-b0e9-4e74-e4d9-ae9a9ef94e77"
      },
      "execution_count": 2,
      "outputs": [
        {
          "output_type": "execute_result",
          "data": {
            "text/plain": [
              "120"
            ]
          },
          "metadata": {},
          "execution_count": 2
        }
      ]
    },
    {
      "cell_type": "markdown",
      "source": [
        "#Diseñar un programa que lea dos numero a y b y diga que tipo de numero son, de a cuerdo a la siguiente clasificación:"
      ],
      "metadata": {
        "id": "Y5nPB_jcAMG5"
      }
    },
    {
      "cell_type": "markdown",
      "source": [
        "##Defining the function"
      ],
      "metadata": {
        "id": "hoETYgfyANU4"
      }
    },
    {
      "cell_type": "code",
      "source": [
        "class my_numbers:\n",
        "  def __init__(self,a,b):\n",
        "    self.a = a\n",
        "    self.b = b\n",
        "    \n",
        "    self.prop_a = [i for i in range(1,a) if (a%i == 0)]\n",
        "    self.prop_b = [i for i in range(1,b) if (b%i == 0)]\n",
        "  \n",
        "  def are_defective(number):\n",
        "    val_a = sum(number.prop_a) < number.a \n",
        "    val_b = sum(number.prop_b) < number.b\n",
        "\n",
        "   \n",
        "\n",
        "    if val_a and val_b:\n",
        "      print(f\"Tanto {number.a} como {number.b} son numeros defectivos\")\n",
        "    elif val_a and ~val_b:\n",
        "      print(f\"{number.a} es defectivo, pero {number.b} no lo es\")\n",
        "    elif val_b and ~val_a:\n",
        "      print(f\"{number.b} es defectivo, pero {number.a} no lo es\")\n",
        "    else:\n",
        "      print(f\"Ninguno de los numeros es defectivo\")\n",
        "\n",
        "  def are_abundant(number):\n",
        "    val_a = sum(number.prop_a) > number.a \n",
        "    val_b = sum(number.prop_b) > number.b\n",
        "\n",
        "    \n",
        "\n",
        "    if val_a and val_b:\n",
        "      print(f\"Tanto {number.a} como {number.b} son numeros abundates\")\n",
        "    elif val_a and ~val_b:\n",
        "      print(f\"{number.a} es abundante, pero {number.b} no lo es\")\n",
        "    elif val_b and ~val_a:\n",
        "      print(f\"{number.b} es abundante, pero {number.a} no lo es\")\n",
        "    else:\n",
        "      print(f\"Ninguno de los numeros es abundante\")\n",
        "\n",
        "  def are_friends(number):\n",
        "    val_a = sum(number.prop_b) == number.a \n",
        "    val_b = sum(number.prop_a) == number.b\n",
        "\n",
        "    if val_a and val_b:\n",
        "      print(f\"{number.a} y {number.b} son numeros amigos\")\n",
        "    else:\n",
        "      print(f\"{number.a} y {number.b} no son numeros amigos\")\n",
        "\n",
        "  def are_semiperfect(number):\n",
        "    list_a = number.prop_a*1\n",
        "    list_b = number.prop_b*1\n",
        "\n",
        "    if (sum(list_a) == number.a) or (sum(list_a) == 0):\n",
        "      flag_a = sum(list_a)\n",
        "      pass\n",
        "    else:\n",
        "      flag_a = list_a[len(list_a)-1]\n",
        "      count_a = 1\n",
        "      while count_a < len(list_a):\n",
        "        flag_a += list_a[len(list_a)-count_a]\n",
        "        if flag_a > number.a:\n",
        "          flag_a -= list_a[len(list_a)-count_a]\n",
        "      \n",
        "        if flag_a == number.a:\n",
        "          break\n",
        "      \n",
        "        flag_a = list_a[len(list_a)-1]\n",
        "        count_a = 1\n",
        "\n",
        "    if (sum(list_b) == number.b) or (sum(list_a) == 0):\n",
        "      flag_b = sum(list_b)\n",
        "      pass\n",
        "    else:\n",
        "      flag_b = list_b[len(list_b)-1]\n",
        "      count_b = 1\n",
        "\n",
        "      while count_b < len(list_b):\n",
        "        flag_b += list_b[len(list_b)-count_b]\n",
        "        if flag_b > number.b:\n",
        "          flag_b -= list_b[len(list_b)-count_b]\n",
        "      \n",
        "        if flag_b == number.b:\n",
        "          break\n",
        "\n",
        "    if (flag_a == number.a) and (flag_b == number.b):\n",
        "      print(f\"Tanto {number.a} como {number.b} son un numeros semiperfectos\")\n",
        "    elif (flag_a == number.a) and ~(flag_b == number.b):\n",
        "      print(f\"{number.a} es semiperfecto, pero {number.b} no lo es\")\n",
        "    elif ~(flag_a == number.a) and (flag_b == number.b):\n",
        "      print(f\"{number.b} es semiperfecto, pero {number.a} no lo es\")\n",
        "    else:\n",
        "      print(\"Ninguno de los numeros es semiperfecto\")\n",
        "      \n",
        "\n",
        "  def are_perfect(number):\n",
        "\n",
        "    if (sum(number.prop_a) == number.a) and (sum(number.prop_b) == number.b):\n",
        "      print(f\"Tanto {number.a} como {number.b} son un numeros perfectos\")\n",
        "    elif (sum(number.prop_a) == number.a) and ~(sum(number.prop_b) == number.b):\n",
        "      print(f\"{number.a} es perfecto, pero {number.b} no lo es\")\n",
        "    elif ~(sum(number.prop_a) == number.a) and (sum(number.prop_b) == number.b):\n",
        "      print(f\"{number.b} es perfecto, pero {number.a} no lo es\")\n",
        "    else:\n",
        "      print(\"Ninguno de los numeros es semiperfecto\")\n",
        "\n",
        "  def are_prime(number):\n",
        "    if (len(number.prop_a) == 1) and (len(number.prop_b) == 1):\n",
        "      print(f\"Tanto {number.a} como {number.b} son un numeros primos\")\n",
        "    elif (len(number.prop_a) == 1) and ~(len(number.prop_b) == 1):\n",
        "      print(f\"{number.a} es primo, pero {number.b} no lo es\")\n",
        "    elif ~(len(number.prop_a) == 1) and (len(number.prop_b) == 1):\n",
        "      print(f\"{number.b} es primo, pero {number.a} no lo es\")\n",
        "    else:\n",
        "      print(\"Ninguno de los numeros es primo\")\n",
        "  \n",
        "  def all(self):\n",
        "    \n",
        "    self.are_defective()\n",
        "    self.are_abundant()\n",
        "    self.are_friends()\n",
        "    self.are_semiperfect()\n",
        "    self.are_perfect()\n",
        "    self.are_prime()\n",
        "    \n"
      ],
      "metadata": {
        "id": "VLUWVTCTAQI4"
      },
      "execution_count": 163,
      "outputs": []
    },
    {
      "cell_type": "markdown",
      "source": [
        "##Testing"
      ],
      "metadata": {
        "id": "bsHEZqtqFPl0"
      }
    },
    {
      "cell_type": "code",
      "source": [
        "numbers = my_numbers(6,220)\n",
        "numbers.are_defective()\n",
        "numbers.are_abundant()\n",
        "numbers.are_friends()\n",
        "numbers.are_semiperfect()\n",
        "numbers.are_perfect()\n",
        "numbers.are_prime()"
      ],
      "metadata": {
        "colab": {
          "base_uri": "https://localhost:8080/"
        },
        "id": "qA_8yP8-CAjK",
        "outputId": "b9f1deb4-36a4-4947-d75d-818b12632524"
      },
      "execution_count": 161,
      "outputs": [
        {
          "output_type": "stream",
          "name": "stdout",
          "text": [
            "Ninguno de los numeros es defectivo\n",
            "220 es abundante, pero 6 no lo es\n",
            "6 y 220 no son numeros amigos\n",
            "Tanto 6 como 220 son un numeros semiperfectos\n",
            "6 es perfecto, pero 220 no lo es\n",
            "Ninguno de los numeros es primo\n"
          ]
        }
      ]
    },
    {
      "cell_type": "code",
      "source": [
        "numeros = my_numbers(5,28)\n",
        "numeros.all()"
      ],
      "metadata": {
        "colab": {
          "base_uri": "https://localhost:8080/"
        },
        "id": "BxoQMEINClxw",
        "outputId": "f65dbb74-9dd2-42cb-94ae-e6192e86719f"
      },
      "execution_count": 164,
      "outputs": [
        {
          "output_type": "stream",
          "name": "stdout",
          "text": [
            "5 es defectivo, pero 28 no lo es\n",
            "Ninguno de los numeros es abundante\n",
            "5 y 28 no son numeros amigos\n",
            "28 es semiperfecto, pero 5 no lo es\n",
            "28 es perfecto, pero 5 no lo es\n",
            "5 es primo, pero 28 no lo es\n"
          ]
        }
      ]
    },
    {
      "cell_type": "markdown",
      "source": [
        "#Determine si un número n entero ingresado por el usuario es un palíndromo, (Retorne True en caso afirmativo y False en caso contrario)"
      ],
      "metadata": {
        "id": "syKLZsJKJkZe"
      }
    },
    {
      "cell_type": "markdown",
      "source": [
        "##Defining the function"
      ],
      "metadata": {
        "id": "ca3Vi6iQJrFS"
      }
    },
    {
      "cell_type": "code",
      "source": [
        "is_palindrome = lambda n: str(n)[::-1] == str(n)"
      ],
      "metadata": {
        "id": "MNaSm9oUJqHu"
      },
      "execution_count": 1,
      "outputs": []
    },
    {
      "cell_type": "markdown",
      "source": [
        "##Testing"
      ],
      "metadata": {
        "id": "sGkqfT1EKAAK"
      }
    },
    {
      "cell_type": "code",
      "source": [
        "is_palindrome(3223)"
      ],
      "metadata": {
        "colab": {
          "base_uri": "https://localhost:8080/"
        },
        "id": "nLeKBz5wKBjk",
        "outputId": "683a2f63-2ac1-4cf7-d910-59a0ba0a9f74"
      },
      "execution_count": 4,
      "outputs": [
        {
          "output_type": "execute_result",
          "data": {
            "text/plain": [
              "True"
            ]
          },
          "metadata": {},
          "execution_count": 4
        }
      ]
    },
    {
      "cell_type": "markdown",
      "source": [
        "#Dada una cadena de caracteres, entregar una lista donde se retorne:\n",
        "en la primera casilla: True si el caracter del medio es una vocal, False en caso contrario\n",
        "\n",
        "en la segunda: el numero de vocales en la cadena\n",
        "\n",
        "en la tercera: el numero de consonantes\n",
        "\n",
        "en la ultima: la cadena de caracteres invertida (ej: perro, orrep)"
      ],
      "metadata": {
        "id": "_Gl8KXH-KbvO"
      }
    },
    {
      "cell_type": "markdown",
      "source": [
        "##Defining the function"
      ],
      "metadata": {
        "id": "0LxbjvgwKs-4"
      }
    },
    {
      "cell_type": "code",
      "source": [
        "def my_strings (the_str):\n",
        "\n",
        "  vowels = [\"a\",\"e\",\"i\",\"o\",\"u\"]\n",
        "  results = []\n",
        "\n",
        "  if len(the_str)%2 == 0:\n",
        "    results.append(False) \n",
        "  elif the_str[int(len(the_str)/2) +1] not in vowels:\n",
        "    results.append(False) \n",
        "  else:\n",
        "    results.append(True) \n",
        "\n",
        "  results.append(int(sum([i/i for i in range(1,len(the_str)+1) if the_str[i-1] in vowels])))\n",
        "  results.append(int(sum([i/i for i in range(1,len(the_str)+1) if the_str[i-1] not in vowels])))\n",
        "\n",
        "  results.append(the_str[::-1])\n",
        "\n",
        "  return results"
      ],
      "metadata": {
        "id": "mM0pHYiaKu9t"
      },
      "execution_count": 27,
      "outputs": []
    },
    {
      "cell_type": "markdown",
      "source": [
        "##Testing"
      ],
      "metadata": {
        "id": "uboKlxyxQxUZ"
      }
    },
    {
      "cell_type": "code",
      "source": [
        "my_strings(\"muercielago\")"
      ],
      "metadata": {
        "colab": {
          "base_uri": "https://localhost:8080/"
        },
        "id": "p7ciqiJKMvgN",
        "outputId": "f08920f2-d85a-4502-8fd6-e537b07a1cb3"
      },
      "execution_count": 28,
      "outputs": [
        {
          "output_type": "execute_result",
          "data": {
            "text/plain": [
              "[True, 6, 5, 'ogaleicreum']"
            ]
          },
          "metadata": {},
          "execution_count": 28
        }
      ]
    },
    {
      "cell_type": "markdown",
      "source": [
        "#Elabore un método para calcular el n-ésimo término de la sucesión de fibonacci"
      ],
      "metadata": {
        "id": "nXZgd1xzRMsf"
      }
    },
    {
      "cell_type": "markdown",
      "source": [
        "##Defining the function"
      ],
      "metadata": {
        "id": "Kbdmr_1JRNuD"
      }
    },
    {
      "cell_type": "code",
      "source": [
        "def fibonacci(N):\n",
        "  starter = [0,1]\n",
        "  for i in range(N-1):\n",
        "    starter.append(sum(starter[-2:]))\n",
        "  return starter[N]"
      ],
      "metadata": {
        "id": "X8LUO_KvMxir"
      },
      "execution_count": 53,
      "outputs": []
    },
    {
      "cell_type": "markdown",
      "source": [
        "##Testing"
      ],
      "metadata": {
        "id": "S-Ap4gMUUFKs"
      }
    },
    {
      "cell_type": "code",
      "source": [
        "fibonacci(50)"
      ],
      "metadata": {
        "colab": {
          "base_uri": "https://localhost:8080/"
        },
        "id": "jr7MRRP8R5in",
        "outputId": "36aed58b-7608-489d-ff22-ffc180dd08ec"
      },
      "execution_count": 54,
      "outputs": [
        {
          "output_type": "execute_result",
          "data": {
            "text/plain": [
              "12586269025"
            ]
          },
          "metadata": {},
          "execution_count": 54
        }
      ]
    },
    {
      "cell_type": "markdown",
      "source": [
        "#Entrar un arreglo de números y ordenarlos de forma ascendente"
      ],
      "metadata": {
        "id": "TbIfN2VbUYb9"
      }
    },
    {
      "cell_type": "markdown",
      "source": [
        "##Defining the function"
      ],
      "metadata": {
        "id": "Ur-COAWuUOsS"
      }
    },
    {
      "cell_type": "code",
      "source": [
        "def quicksort (the_list):\n",
        "  new_list = the_list*1\n",
        "  for i in range(len(new_list)):\n",
        "    for j in range(1,len(new_list)):\n",
        "      if new_list[i] < new_list[j]:\n",
        "        new_list[i], new_list[j] = new_list[j], new_list[i]\n",
        "  \n",
        "  new_list.append(new_list[0])\n",
        "  new_list.remove(new_list[0])\n",
        "  \n",
        "  return new_list"
      ],
      "metadata": {
        "id": "yNdaN07mUQ8p"
      },
      "execution_count": 92,
      "outputs": []
    },
    {
      "cell_type": "markdown",
      "source": [
        "##Testing"
      ],
      "metadata": {
        "id": "LwduBmTSZRGc"
      }
    },
    {
      "cell_type": "code",
      "source": [
        "from numpy.random import randint\n",
        "to_sort = list(randint(1,100,(1,10))[0])\n",
        "print(f\"La lista sin sortear es: {to_sort}\")\n",
        "print(f\"La lista sorteada es: {quicksort(to_sort)}\")"
      ],
      "metadata": {
        "colab": {
          "base_uri": "https://localhost:8080/"
        },
        "id": "iFFV2jIXV_Sl",
        "outputId": "33668eae-5dea-4543-8ea6-83a297583782"
      },
      "execution_count": 101,
      "outputs": [
        {
          "output_type": "stream",
          "name": "stdout",
          "text": [
            "La lista sin sortear es: [53, 93, 53, 97, 99, 37, 85, 39, 88, 51]\n",
            "La lista sorteada es: [37, 39, 51, 53, 53, 85, 88, 93, 97, 99]\n"
          ]
        }
      ]
    }
  ]
}