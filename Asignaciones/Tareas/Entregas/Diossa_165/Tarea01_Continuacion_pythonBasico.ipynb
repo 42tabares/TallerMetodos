{
  "nbformat": 4,
  "nbformat_minor": 0,
  "metadata": {
    "colab": {
      "name": "Sesion02_continuacion_pythonBasico.ipynb",
      "provenance": []
    },
    "kernelspec": {
      "name": "python3",
      "display_name": "Python 3"
    }
  },
  "cells": [
    {
      "cell_type": "markdown",
      "metadata": {
        "id": "Xv7LVkNl0qyz"
      },
      "source": [
        "## Campo eléctrico \n",
        "1. Elaborar un programa para calcular el campo eléctrico producido por un dipolo eléctrico, realizar una representación del campo para todo el dominio \n",
        "elegido para calcular el campo. Para encontrar el campo, se sugiere hacer lo siguiente:\n",
        "\n",
        "- a. Encontrar el campo en un punto producido por dos cargas q1 y q2\n",
        "- b. Emplee el comando  plt.quiver(x, y, Ex, Ey) para mostrar el campo producido por q1 y q2. Puedes intentarlo con el comando, plt.stremplot.\n",
        "- c. Generalice el problema para varios puntos en el espacio.\n",
        "\n",
        "Se recomienda emplear numpy array. \n",
        "\n",
        "## Movimiento parabólico.\n",
        "2. Un jugador de baloncesto desea saber si encestará su tiro dependiendo de la velocidad inicial, ángulo de lanzamiento y posición respecto a la canasta. \n",
        "\n",
        "Elabore un programa en el que dada una distancia, velocidad inicial y  ángulo, determine si hay cesta. El modelo será bajo partícula, sin la rotación del balón. \n",
        "\n",
        "Se recomienda emplear numpy array. \n",
        "\n"
      ]
    },
    {
      "cell_type": "markdown",
      "metadata": {
        "id": "UdqybIUW6MP3"
      },
      "source": [
        "AYUDA Construida en clase:"
      ]
    },
    {
      "cell_type": "code",
      "metadata": {
        "id": "o3dqQPv3Rryx"
      },
      "source": [
        ""
      ],
      "execution_count": null,
      "outputs": []
    },
    {
      "cell_type": "code",
      "metadata": {
        "id": "2drap2wA8CqA"
      },
      "source": [
        "import numpy as np\n",
        "import matplotlib.pyplot as plt\n"
      ],
      "execution_count": null,
      "outputs": []
    },
    {
      "cell_type": "code",
      "metadata": {
        "id": "USBWCphR1Dha"
      },
      "source": [
        "k = 1\n",
        "\n",
        "def E_campo(q, r ):\n",
        "  \"\"\"\n",
        "  Magnitud del campo electrico\n",
        "  \"\"\"\n",
        "  global k\n",
        "  return k*q/r**2"
      ],
      "execution_count": null,
      "outputs": []
    },
    {
      "cell_type": "code",
      "metadata": {
        "id": "KUoDMKDy7D70"
      },
      "source": [
        "r_source = {\"q1\": np.array([0., 0])} #Posicion de la fuente\n",
        "rp       = np.array([1.,1])                # Punto para encontrar el campo electrico\n"
      ],
      "execution_count": null,
      "outputs": []
    },
    {
      "cell_type": "code",
      "metadata": {
        "colab": {
          "base_uri": "https://localhost:8080/"
        },
        "id": "vV09fpZR8xgK",
        "outputId": "1096491c-93dc-4d02-b411-542a7c09798d"
      },
      "source": [
        "Delta_x = r_source[\"q1\"][0]- rp[0]\n",
        "print(Delta_x)\n",
        "Delta_y = r_source[\"q1\"][1]- rp[1]\n",
        "print(Delta_y)"
      ],
      "execution_count": null,
      "outputs": [
        {
          "output_type": "stream",
          "text": [
            "-1.0\n",
            "-1.0\n"
          ],
          "name": "stdout"
        }
      ]
    },
    {
      "cell_type": "code",
      "metadata": {
        "id": "72CLuCfS6TmW"
      },
      "source": [
        "Delta_R =  rp- r_source[\"q1\"] "
      ],
      "execution_count": null,
      "outputs": []
    },
    {
      "cell_type": "code",
      "metadata": {
        "id": "Jp1EFeSCielq"
      },
      "source": [
        ""
      ],
      "execution_count": null,
      "outputs": []
    },
    {
      "cell_type": "code",
      "metadata": {
        "colab": {
          "base_uri": "https://localhost:8080/"
        },
        "id": "Ts9MnRrO6kpj",
        "outputId": "57009d72-adce-4f16-b051-52f9fd31f1f4"
      },
      "source": [
        "Delta_R"
      ],
      "execution_count": null,
      "outputs": [
        {
          "output_type": "execute_result",
          "data": {
            "text/plain": [
              "array([1., 1.])"
            ]
          },
          "metadata": {
            "tags": []
          },
          "execution_count": 12
        }
      ]
    },
    {
      "cell_type": "code",
      "metadata": {
        "id": "itqlrc_w6mJo"
      },
      "source": [
        "MagDelta_R = np.sqrt(Delta_R[0]**2 + Delta_R[1]**2)"
      ],
      "execution_count": null,
      "outputs": []
    },
    {
      "cell_type": "code",
      "metadata": {
        "colab": {
          "base_uri": "https://localhost:8080/"
        },
        "id": "ZSFi9vI16mt3",
        "outputId": "cad78bb3-8f55-4f87-c334-dd5860215f26"
      },
      "source": [
        "MagDelta_R"
      ],
      "execution_count": null,
      "outputs": [
        {
          "output_type": "execute_result",
          "data": {
            "text/plain": [
              "1.4142135623730951"
            ]
          },
          "metadata": {
            "tags": []
          },
          "execution_count": 14
        }
      ]
    },
    {
      "cell_type": "code",
      "metadata": {
        "id": "mXmRQyHA9MQv"
      },
      "source": [
        "u_R = Delta_R/MagDelta_R"
      ],
      "execution_count": null,
      "outputs": []
    },
    {
      "cell_type": "code",
      "metadata": {
        "colab": {
          "base_uri": "https://localhost:8080/"
        },
        "id": "n8sen5sM9sWD",
        "outputId": "aae4745d-19fd-428f-b7e5-18f85356193e"
      },
      "source": [
        "u_R"
      ],
      "execution_count": null,
      "outputs": [
        {
          "output_type": "execute_result",
          "data": {
            "text/plain": [
              "array([0.70710678, 0.70710678])"
            ]
          },
          "metadata": {
            "tags": []
          },
          "execution_count": 16
        }
      ]
    },
    {
      "cell_type": "code",
      "metadata": {
        "colab": {
          "base_uri": "https://localhost:8080/"
        },
        "id": "xBnRBDko9tBR",
        "outputId": "e7eb884e-6040-496e-b1c8-a2912a6b8755"
      },
      "source": [
        "E = E_campo(100,MagDelta_R ) * u_R\n",
        "E"
      ],
      "execution_count": null,
      "outputs": [
        {
          "output_type": "execute_result",
          "data": {
            "text/plain": [
              "array([35.35533906, 35.35533906])"
            ]
          },
          "metadata": {
            "tags": []
          },
          "execution_count": 17
        }
      ]
    },
    {
      "cell_type": "code",
      "metadata": {
        "colab": {
          "base_uri": "https://localhost:8080/",
          "height": 282
        },
        "id": "3e39NEcC924X",
        "outputId": "b62acb2a-e474-4cb1-b1b8-a87411dffb18"
      },
      "source": [
        "plt.figure()\n",
        "plt.plot(r_source[\"q1\"][0], r_source[\"q1\"][1], \"ro\")\n",
        "plt.plot(rp[0], rp[1],\"o\")\n",
        "plt.quiver(rp[0], rp[1], E[0], E[1])"
      ],
      "execution_count": null,
      "outputs": [
        {
          "output_type": "execute_result",
          "data": {
            "text/plain": [
              "<matplotlib.quiver.Quiver at 0x7f8cdc659f90>"
            ]
          },
          "metadata": {
            "tags": []
          },
          "execution_count": 18
        },
        {
          "output_type": "display_data",
          "data": {
            "image/png": "[encoded data removed]",
            "text/plain": [
              "<Figure size 432x288 with 1 Axes>"
            ]
          },
          "metadata": {
            "tags": [],
            "needs_background": "light"
          }
        }
      ]
    },
    {
      "cell_type": "code",
      "metadata": {
        "id": "E7X5ZqBR-I2W"
      },
      "source": [
        "def Campo_fuente(rsource, rp) : \n",
        "  \"\"\"\n",
        "  Parameter\n",
        "  ---------\n",
        "  rsource: numpy array de 2D, con la posicion de la fuente\n",
        "  rp     : numpy array de 2D, El punto donde se encontrará el campo\n",
        "\n",
        "  Return\n",
        "  ----------\n",
        "  Ex: Componente x del campo electrico\n",
        "  Ey: Componente y del campo electrico \n",
        "  \"\"\"\n",
        "\n",
        "  Delta_R =  rp - rsource\n",
        "  MagDelta_R = np.sqrt(Delta_R[0]**2 + Delta_R[1]**2)\n",
        "  u_R = Delta_R/MagDelta_R\n",
        "  \n",
        "  E = E_campo(1,MagDelta_R ) * u_R\n",
        "  Ex = E[0]\n",
        "  Ey = E[1]\n",
        "  return Ex, Ey"
      ],
      "execution_count": null,
      "outputs": []
    },
    {
      "cell_type": "code",
      "metadata": {
        "id": "HhXTInCC_DVU"
      },
      "source": [
        "r_source = {\"q1\": np.array([0., 0])} #Posicion de la fuente\n",
        "rp       = np.array([1.,1])                # Punto para encontrar el campo electrico\n"
      ],
      "execution_count": null,
      "outputs": []
    },
    {
      "cell_type": "code",
      "metadata": {
        "colab": {
          "base_uri": "https://localhost:8080/"
        },
        "id": "a1JAqp_sCQbr",
        "outputId": "f3f113ed-057f-4781-8c2d-2f4527b39f1f"
      },
      "source": [
        "Campo_fuente(r_source[\"q1\"], rp )"
      ],
      "execution_count": null,
      "outputs": [
        {
          "output_type": "execute_result",
          "data": {
            "text/plain": [
              "(0.3535533905932737, 0.3535533905932737)"
            ]
          },
          "metadata": {
            "tags": []
          },
          "execution_count": 21
        }
      ]
    },
    {
      "cell_type": "code",
      "metadata": {
        "id": "si7fqTCsCFzL"
      },
      "source": [
        "# Definir los puntos donde se se determinara el campo electrico \n",
        "\n",
        "x  = np.arange(-2, 3, 0.5)\n",
        "n1 = len(x)\n",
        "y  = np.arange(-2, 3, 0.5)\n",
        "n2 = len(y)\n"
      ],
      "execution_count": null,
      "outputs": []
    },
    {
      "cell_type": "code",
      "metadata": {
        "colab": {
          "base_uri": "https://localhost:8080/"
        },
        "id": "k4sy2WNpGRTX",
        "outputId": "8ccc41c3-c61f-4c8c-a99f-1ef48f567fa3"
      },
      "source": [
        "x"
      ],
      "execution_count": null,
      "outputs": [
        {
          "output_type": "execute_result",
          "data": {
            "text/plain": [
              "array([-2. , -1.5, -1. , -0.5,  0. ,  0.5,  1. ,  1.5,  2. ,  2.5])"
            ]
          },
          "metadata": {
            "tags": []
          },
          "execution_count": 23
        }
      ]
    },
    {
      "cell_type": "code",
      "metadata": {
        "colab": {
          "base_uri": "https://localhost:8080/"
        },
        "id": "Hk3M0BqjE4Pc",
        "outputId": "135e2965-6c09-435e-d592-d00d98ecb080"
      },
      "source": [
        "for i, x_ in enumerate(x):\n",
        "  print(i, x_)"
      ],
      "execution_count": null,
      "outputs": [
        {
          "output_type": "stream",
          "text": [
            "0 -2.0\n",
            "1 -1.5\n",
            "2 -1.0\n",
            "3 -0.5\n",
            "4 0.0\n",
            "5 0.5\n",
            "6 1.0\n",
            "7 1.5\n",
            "8 2.0\n",
            "9 2.5\n"
          ],
          "name": "stdout"
        }
      ]
    },
    {
      "cell_type": "code",
      "metadata": {
        "id": "Ldtb_JKxDl2L",
        "colab": {
          "base_uri": "https://localhost:8080/"
        },
        "outputId": "5a8f92b4-eb01-41a6-c8dc-4f5ca3f8f318"
      },
      "source": [
        "rp = np.zeros((n1*n2 , 2))\n",
        "k = 0\n",
        "for x_ in (x):\n",
        "  for y_ in (y):\n",
        "    rp[k] = np.array([x_, y_])\n",
        "    k=k+1  \n",
        "print(rp[1])"
      ],
      "execution_count": null,
      "outputs": [
        {
          "output_type": "stream",
          "text": [
            "[-2.  -1.5]\n"
          ],
          "name": "stdout"
        }
      ]
    },
    {
      "cell_type": "code",
      "metadata": {
        "colab": {
          "base_uri": "https://localhost:8080/",
          "height": 282
        },
        "id": "m1bwlj8GDmUe",
        "outputId": "e0f4d704-ad01-4cbe-bd25-cd93e987c406"
      },
      "source": [
        "plt.plot(rp[:,0], rp[:,1],\"ro\")"
      ],
      "execution_count": null,
      "outputs": [
        {
          "output_type": "execute_result",
          "data": {
            "text/plain": [
              "[<matplotlib.lines.Line2D at 0x7f8cdc670a90>]"
            ]
          },
          "metadata": {
            "tags": []
          },
          "execution_count": 26
        },
        {
          "output_type": "display_data",
          "data": {
            "image/png": "[encoded data removed]",
            "text/plain": [
              "<Figure size 432x288 with 1 Axes>"
            ]
          },
          "metadata": {
            "tags": [],
            "needs_background": "light"
          }
        }
      ]
    },
    {
      "cell_type": "code",
      "metadata": {
        "colab": {
          "base_uri": "https://localhost:8080/"
        },
        "id": "VtffOip-Ih-J",
        "outputId": "6f50355b-76ac-47a3-b671-e0cc4e167c00"
      },
      "source": [
        "x"
      ],
      "execution_count": null,
      "outputs": [
        {
          "output_type": "execute_result",
          "data": {
            "text/plain": [
              "array([-2. , -1.5, -1. , -0.5,  0. ,  0.5,  1. ,  1.5,  2. ,  2.5])"
            ]
          },
          "metadata": {
            "tags": []
          },
          "execution_count": 27
        }
      ]
    },
    {
      "cell_type": "code",
      "metadata": {
        "id": "yQpJFsUrFlJ5",
        "colab": {
          "base_uri": "https://localhost:8080/"
        },
        "outputId": "f3eb86ac-c5c7-4a8d-a2b3-1b289bd02431"
      },
      "source": [
        "r_source = {\"q1\": np.array([0., 1])} #Posicion de la fuente\n",
        "\n",
        "\n",
        "E = np.zeros((n1*n2, 2))\n",
        "\n",
        "for i in range(0, len(rp)):\n",
        "  E[i] = Campo_fuente(r_source[\"q1\"], rp[i] )\n",
        "  \n"
      ],
      "execution_count": null,
      "outputs": [
        {
          "output_type": "stream",
          "text": [
            "/usr/local/lib/python3.7/dist-packages/ipykernel_launcher.py:16: RuntimeWarning: invalid value encountered in true_divide\n",
            "  app.launch_new_instance()\n",
            "/usr/local/lib/python3.7/dist-packages/ipykernel_launcher.py:8: RuntimeWarning: divide by zero encountered in double_scalars\n",
            "  \n"
          ],
          "name": "stderr"
        }
      ]
    },
    {
      "cell_type": "code",
      "metadata": {
        "colab": {
          "base_uri": "https://localhost:8080/",
          "height": 282
        },
        "id": "CmD36R3HH1_U",
        "outputId": "c2b222f2-f1e9-4aa4-a4f9-7e8fdd42c264"
      },
      "source": [
        "plt.plot(r_source[\"q1\"][0], r_source[\"q1\"][1], \"ro\" ) \n",
        "plt.quiver(rp[:,0], rp[:,1], E[:,0], E[:,1])"
      ],
      "execution_count": null,
      "outputs": [
        {
          "output_type": "execute_result",
          "data": {
            "text/plain": [
              "<matplotlib.quiver.Quiver at 0x7f8cdc598490>"
            ]
          },
          "metadata": {
            "tags": []
          },
          "execution_count": 36
        },
        {
          "output_type": "display_data",
          "data": {
            "image/png": "[encoded data removed]",
            "text/plain": [
              "<Figure size 432x288 with 1 Axes>"
            ]
          },
          "metadata": {
            "tags": [],
            "needs_background": "light"
          }
        }
      ]
    },
    {
      "cell_type": "code",
      "metadata": {
        "id": "WVRgo4TfJTOK",
        "colab": {
          "base_uri": "https://localhost:8080/"
        },
        "outputId": "34cf5761-44bc-463c-e3d1-ec987d753910"
      },
      "source": [
        ""
      ],
      "execution_count": null,
      "outputs": [
        {
          "output_type": "execute_result",
          "data": {
            "text/plain": [
              "[(-1, (1.0, 0.0)), (1, (-1.0, 1.2246467991473532e-16))]"
            ]
          },
          "metadata": {
            "tags": []
          },
          "execution_count": 34
        }
      ]
    },
    {
      "cell_type": "code",
      "metadata": {
        "id": "b6yGdP_ui7z9"
      },
      "source": [
        ""
      ],
      "execution_count": null,
      "outputs": []
    }
  ]
}