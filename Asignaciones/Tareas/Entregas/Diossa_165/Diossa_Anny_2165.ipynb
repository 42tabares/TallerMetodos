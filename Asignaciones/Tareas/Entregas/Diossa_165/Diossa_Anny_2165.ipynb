{
  "nbformat": 4,
  "nbformat_minor": 0,
  "metadata": {
    "colab": {
      "name": "Diossa_Anny_2165.ipynb",
      "provenance": [],
      "collapsed_sections": []
    },
    "kernelspec": {
      "name": "python3",
      "display_name": "Python 3"
    },
    "language_info": {
      "name": "python"
    }
  },
  "cells": [
    {
      "cell_type": "markdown",
      "metadata": {
        "id": "Xn9aYEO_3asn"
      },
      "source": [
        "Entrega: La entrega de este examen se realizará a traves del git hub.\n",
        "\n",
        "El nombre del notebook deberá ser:\n",
        "\n",
        "Apellido_Nombre_UltimosCuatroDigitosDelDocumento.ipynb"
      ]
    },
    {
      "cell_type": "markdown",
      "metadata": {
        "id": "l0zhKV-_jK9f"
      },
      "source": [
        "# Paracaidista en un atmosfera no uniforme.\n",
        "\n",
        "En una atmósfera isotérmica, la variación de la presión en función de la altitud está dada por la ley de Laplace.\n",
        "\n",
        "\\begin{equation}\n",
        "P=P_0 e^{-\\frac{Mgy}{kT}}\n",
        "\\end{equation}\n",
        "\n",
        "\n",
        "- $P_0=1atm$ es la presión de la atmósfera a nivel del mar\n",
        "- M es el peso molecular del aire $28.8 g/mol=0.0288 kg/mol$\n",
        "- g es la aceleración de la gravedad\n",
        "- $k=1.3805·10^{-23}$ J/K es la constante de Boltzmann\n",
        "- $T$ es la temperatura de la atmósfera en kelvin\n",
        "- $NA=6.0225\\times 10^23$ es el número de Avogadro, número de moléculas que caben en un mol.\n",
        "\n",
        "Suponiendo que el aire se comporta como un gas ideal, su densidad varía con la altura de la misma forma que la presión, $\\rho=\\rho_0 exp(-y/\\lambda)$. La densidad del aire al nivel del mar es $\\rho_0=1.29 kg/m^3$ y la constante $\\lambda=7482.2 m$\n",
        "\n",
        "\n",
        "Las fuerzas que actuan sobre el paracaidista son:  El peso y la fuerza de fricción $f=\\frac{1}{2}\\rho A \\delta v^2$, donde $\\rho$ es la densidad que depende de la altura, A es el area de seccion trasnversal expuesta al aire  y $\\delta $ es coeficiente de rozamiento. La Ecuacion diferencial de movimiento viene dada por:\n",
        "\n",
        "\\begin{equation}\n",
        "\\frac{\\mathrm{d}^2y}{\\mathrm{d}t^2} = - mg + \\frac{A\\delta}{2m} \\rho v^2 \n",
        "\\end{equation}\n",
        "\n",
        "\n",
        "\\begin{equation}\n",
        "\\frac{\\mathrm{d}^2y}{\\mathrm{d}t^2} = - mg + k_0v^2 exp(-y/\\lambda)\n",
        "\\end{equation}\n",
        "\n",
        "donde $k_0=\\frac{\\rho_0A\\delta}{2}$, siendo $\\rho_0$ la densidad al nivel del mar.\n",
        "\n",
        "Para la situación descrita, su tarea será elaborar un notebook de jupyter para resolver lo siguente:\n",
        "\n",
        "1.  Elaborar una gráfica de la densidad como función de la altura.\n",
        "2. Diseñar un programa que resuelva  la ecuación diferencial que describe el movimiento del paracaidista, para los siguientes parámetros: \n",
        "\n",
        "- $m=60kg$, $A=0.3m^2$, $h=30km$.\n",
        "- $m=60kg$, $A=0.3m^2$, $h=40km$.\n",
        "- $m=60kg$, $A=0.3m^2$, $h=50km$.\n",
        "- $m=60kg$, $A=0.3m^2$, $h=60km$.\n",
        "- $m=60kg$, $A=0.3m^2$, $h=70km$.\n",
        "\n",
        "3. Con la solucion de la ecuacion diferencial, elaborar una gráfica de. \n",
        "- la posición como función del tiempo.\n",
        "- La velocidad como función del tiempo.\n",
        "- La velocidad como función de la posición \n",
        "\n",
        "4. Determine numéricamente y analiticamente el valor de la velocidad maxima para las diferentes altura Compara su resultado con:\n",
        "\n",
        "http://www.sc.ehu.es/sbweb/fisica3/fluidos/paracaidas/paracaidas_1.html\n",
        "\n",
        "\n",
        "\n",
        "5. Realice un grafico de la velocidad maxima como función de la altura de caida.\n",
        "\n",
        "\n",
        "\n",
        "Reto:\n",
        "\n",
        "El modelo puede ser mejorado si se tiene presente que la aceleración de la gravedad varia según la altura.\n",
        "\n",
        "\\begin{equation}\n",
        "\\frac{\\mathrm{d}^2y}{\\mathrm{d}t^2} = - \\frac{GM}{(R+y)^2} + \\frac{A\\delta}{2m} \\rho v^2 \n",
        "\\end{equation}\n",
        "\n",
        "donde $G=6.67\\times 10^{-11} \\mathrm{Nm^2/kg}$, $M=5.98\\times 10 ^{24} \\mathrm{kg}$ y el radio de la Tierra es de $R=6.371\\mathrm{km}$\n",
        "\n",
        "\n",
        "Solucione la ecuación diferencial para este caso.\n",
        "\n",
        "\n",
        "\n"
      ]
    },
    {
      "cell_type": "code",
      "source": [
        "from sympy import *\n",
        "import numpy as np\n",
        "import pandas as pd\n",
        "import matplotlib.pylab as plt\n",
        "from scipy import integrate\n",
        "from scipy.integrate import odeint "
      ],
      "metadata": {
        "id": "JmA9GN1RklPj"
      },
      "execution_count": 1,
      "outputs": []
    },
    {
      "cell_type": "markdown",
      "source": [
        "## Solución punto 1"
      ],
      "metadata": {
        "id": "wra6fKqG0YXR"
      }
    },
    {
      "cell_type": "code",
      "source": [
        "def ρ(y):\n",
        "    ρ0= 1.29\n",
        "    λ= 7482.2\n",
        "    f = ρ0*np.exp(-y/λ)\n",
        "    return f"
      ],
      "metadata": {
        "id": "85FxuXrmmIhV"
      },
      "execution_count": 2,
      "outputs": []
    },
    {
      "cell_type": "code",
      "source": [
        "y = np.linspace(0,30000,1000)\n",
        "plt.figure()\n",
        "plt.title(\"Densidad exponencial\")\n",
        "plt.plot(y,ρ(y))\n",
        "plt.xlabel(\"h[m]\")\n",
        "plt.ylabel(\"ρ(h) [kg/m^3]\")\n",
        "plt.grid()\n",
        "plt.show()"
      ],
      "metadata": {
        "colab": {
          "base_uri": "https://localhost:8080/",
          "height": 295
        },
        "id": "JqW58aEPqHWW",
        "outputId": "927a0513-fc80-46ea-cd22-91ba47e453a9"
      },
      "execution_count": 3,
      "outputs": [
        {
          "output_type": "display_data",
          "data": {
            "text/plain": [
              "<Figure size 432x288 with 1 Axes>"
            ],
            "image/png": "[encoded data removed]"
          },
          "metadata": {
            "needs_background": "light"
          }
        }
      ]
    },
    {
      "cell_type": "markdown",
      "source": [
        "## Solución punto 2"
      ],
      "metadata": {
        "id": "MgAKbSd00fz1"
      }
    },
    {
      "cell_type": "code",
      "source": [
        "m = 60 #kg\n",
        "A = 0.3 #m2\n",
        "h = 30000 #m\n",
        "ρ0 = 1.29 #kg/m3\n",
        "λ = 7482.2 #m\n",
        "δ = 0.8\n",
        "k0 = (ρ0*A*δ)/2\n",
        "g = 9.8\n",
        "params = [k0, m, g, λ]\n",
        "\n",
        "#d2ydt2=m-g+k0v2exp(−y/λ)\n",
        "\n",
        "def func_paracaidista(y, t, params):\n",
        "    k0 = params[0]\n",
        "    m = params[1]\n",
        "    g = params[2]\n",
        "    λ = params[3]\n",
        "    \n",
        "    y = y[1]\n",
        "    dydt =  y[2]\n",
        "    dvdt =  -g+(k0/m)*y[2]**2*np.exp(-y[1]/λ)\n",
        "\n",
        "    return [dxdt, dvdt]\n"
      ],
      "metadata": {
        "id": "bV37ww3Eln7w"
      },
      "execution_count": 10,
      "outputs": []
    },
    {
      "cell_type": "code",
      "source": [
        "#Condiciones iniciales\n",
        "y_0 = h #posicion inicial\n",
        "v_0 = -1E-8    #velocidad inicial\n",
        "\n",
        "y0 = np.array([y_0, v_0]) #Lista de condiciones iniciales\n",
        "t = np.linspace(0, 20, 10000)    #tiempo de integracion\n",
        "#odeint()"
      ],
      "metadata": {
        "id": "Bh9pPDYzCnFg"
      },
      "execution_count": 11,
      "outputs": []
    },
    {
      "cell_type": "code",
      "source": [
        ""
      ],
      "metadata": {
        "id": "35YfUjwXETLe"
      },
      "execution_count": null,
      "outputs": []
    }
  ]
}