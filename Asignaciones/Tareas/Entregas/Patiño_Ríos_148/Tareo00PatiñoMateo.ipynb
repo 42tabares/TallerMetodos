#Calcular el factorial de un número
def factorial(n):
    fact=1
    for i in range(1,n+1):
        fact=fact*i
    return fact
factorial(5)

#Crear una función que me de la lista de los divisores propios de un número (Factores del número diferentes de él mismo)
import numpy as np
import math
def divisores(n):
  div=[1] #En esta lista se anexarán los divisores del número
  divg=[] #En esta lista se guardarán los divisores más grandes.
  for i in range(2,round(math.sqrt(n)+1),1): #Se hace el ciclo hasta la raíz cuadrada del número más uno para hacerlo más óptimo
    if n%i==0: #Definición de múltiplo: según el algoritmo de la división de Euclides todo número se puede escribir como n=p*q+r, si r=0 entonces n es un múltiplo de q y p es un divisor exacto de n; n,p,q,r ϵ Z
      div.append(i) 
      divg.append(n//i) #Los divisores más grandes se construyen tomando como ejemplo el 100, este se puede escribir como 100=50*2=25*4=10*10 entonces si 2 es un divisor, 50 también lo es. 
  if div[-1:]==divg[-1:]: #Cuando un número es el cuadrado de otro en las dos listas destinadas a albergar los divisores se repetirá la raíz del número como último elemento de las dos listas.
    divg.pop() #Por ello eliminamos el último elemento de alguna de las listas llegado el caso
  divg.reverse()
  div.extend(divg)
  div=np.array(div)
  return div #Devuelve la lista de los divisores del número.

#Función que me dice si un número es semiperfecto
def semiperfecto(n):
    sumas=[]
    div=divisores(n)
    for k in range(len(div)):
        for i in range(k+1,len(div)+1):
            for j in range(k+1,len(div)+1):
                #Se necesita sumar cada divisor con todas las posibles combinaciones de divisores mayores que él, por eso se hace el slicing y se va sumando con todos los posibles tamaños de subconjuntos
                sumas.append(div[k]+div[i:j].sum())   
    sumas=list(set(sumas))
    for i in sumas:
        if i==n:
            return True
            break
    return False
semiperfecto(36)

def clase_numero(a,b):
    if divisores(a).sum()<a:
        print(f"a = {a} es un número defectivo.")
    elif divisores(a).sum()>a:
        print(f"a = {a} es un número abundante.")
    else: 
        print(f'a = {a} es un número perfecto.')
    if divisores(b).sum()<b:
        print(f"b = {b} es un número defectivo.")
    elif divisores(b).sum()>b:
        print(f"b = {b} es un número abundante.")
    else:
        print(f'b = {b} es un número perfecto.')
    if a==divisores(b).sum() and b==divisores(a).sum():
        print(f'a = {a} y b = {b} son números amigos.')
    if divisores(a).sum()==1:
        print(f'a = {a} es un número primo.')
    if divisores(b).sum()==1:
        print(f'b = {b} es un número primo.')
    if semiperfecto(a)==True:
        print(f'a = {a} es un número semiperfecto.')
    if semiperfecto(b)==True:
        print(f'b = {b} es un número semiperfecto.')

clase_numero(8128,12)#Todo número perfecto es a su vez semiperfecto
clase_numero(220,284)
clase_numero(1328470,1483850)

#Función que me dice si un número es palíndromo
def palindromo(n):
    #El hecho de que los string se interpreten como una lista es muy útil ya que para este caso utilizando el slicing podemos obtener el revés del número.
    n=str(n)
    reves=n[::-1]
    if int(n)==int(reves):
        return True
    else:
        return False
palindromo(32323)

#Dada una cadena de caracteres, entregar una lista donde se retorne:
#en la primera casilla: True si el caracter del medio es una vocal, False en caso contrario
#en la segunda: el numero de vocales en la cadena
#en la tercera: el numero de consonantes
#en la ultima: la cadena de caracteres invertida (ej: perro, orrep)
def cadena(palabra):
    cadena=[]
    vocales=0
    consonantes=0
    palabra=str(palabra)
    n=len(palabra)
    if n%2==0:
        #Los índices de la lista comienzan en 0, por ello la mitad de una lista par se halla en n/2 - 1
        m=n//2-1
    else:
        m=n//2
    if palabra[m]=='a' or palabra[m]=='e' or palabra[m]=='i' or palabra[m]=='o' or palabra[m]=='u':
        cadena.append(True)
    else:
        cadena.append(False)
    for i in range(n):
        if palabra[i]=='a' or palabra[i]=='e' or palabra[i]=='i' or palabra[i]=='o' or palabra[i]=='u':
            vocales+=1
        else:
            consonantes+=1
    cadena.append(vocales)        
    cadena.append(consonantes)
    cadena.append(palabra[::-1])
    return cadena
print(cadena('electroencefalografista'))
print(cadena('esternocleidomastoideo'))

#Decir el término n-ésimo de la sucesión de fibonacci
def fibonacci(n):
    fibo1=0
    fibo2=1
    fibon=[fibo1,fibo2]
    for i in range(n+1):
        fibo3=fibo1+fibo2
        fibo1=fibo2
        fibo2=fibo3
        fibon.append(fibo3)
    return fibon[-3]
print(fibonacci(63))
print(fibonacci(50))

def particion(lista):
    #Se escogerá como pivote el último número de la lista
    v=lista.copy()
    menores=[]
    mayores=[]
    pivote=v[-1]
    #Necesitamos dividir la lista en dos listas, una de números mayores al pivote y otra de números menores a este
    for i in range(len(v)-1):
        if v[i]<pivote:
            menores.append(v[i])
        else:
            mayores.append(v[i])
    return menores, pivote, mayores

def quicksort(lista):
    #Me va hacer la division de la lista hasta que el número esté solo
    if len(lista)<2:
        return lista
    menores, pivote, mayores=particion(lista)
    #La función debe ser recurs
    return quicksort(menores)+[pivote]+quicksort(mayores)

b=[22, 42, 22, 12, 22, 31, 41, 11, 12, 232, 24, 12, 22]
v=[22,23,11,2,5,2,8,5,3,9,1,20,111,2,1]
u=[10,9,8,7,6,5,4,3,2,1,11]

print(f"lista desordenada: {b} y la lista ordenada: {quicksort(b)}")
print(f"lista desordenada: {u} y la lista ordenada: {quicksort(u)}")
print(f"lista desordenada: {v} y la lista ordenada: {quicksort(v)}")
