{
  "nbformat": 4,
  "nbformat_minor": 0,
  "metadata": {
    "colab": {
      "name": "Tarea00_DayanaHenao.ipynb",
      "provenance": [],
      "collapsed_sections": []
    },
    "kernelspec": {
      "display_name": "Python 3",
      "language": "python",
      "name": "python3"
    },
    "language_info": {
      "codemirror_mode": {
        "name": "ipython",
        "version": 3
      },
      "file_extension": ".py",
      "mimetype": "text/x-python",
      "name": "python",
      "nbconvert_exporter": "python",
      "pygments_lexer": "ipython3",
      "version": "3.8.5"
    }
  },
  "cells": [
    {
      "cell_type": "markdown",
      "metadata": {
        "id": "FRH6ZoPM4KeX"
      },
      "source": [
        "# Taller 0.0 de métodos computacionales para físicos  y astrónomos\n",
        "\n",
        "\n",
        "\n",
        "## Universidad de Antioquia\n",
        "### Profesor: Hernan D. Salinas Jiménez\n",
        "### **Estudiante:** Dayana Andrea Henao Arbeláez\n",
        "### **Documento:** 1001469185\n"
      ]
    },
    {
      "cell_type": "markdown",
      "metadata": {
        "id": "3IwaMxgT4Kee"
      },
      "source": [
        "## Taller: Sesion 0.0"
      ]
    },
    {
      "cell_type": "markdown",
      "metadata": {
        "id": "SV5BAn7x4Kef"
      },
      "source": [
        "## Unidad 1: \n",
        "\n",
        "Contenido Actitudinal: Observar como el computador produce errores en los cálculos. El computador no maneja infinitas cifras decimales.\n",
        "\n",
        "- Repaso breve del Python\n",
        "- Estructura básica de un programa en Python.\n",
        "- Numpy y rutinas de graficación.\n",
        "- Operaciones aritméticas con reales y complejos.\n",
        "- Números aleatorios, método del congruente lineal y problemas.\n",
        "- Errores: redondeo, truncamiento, sustracción cancelativa, precisiónde la máquina.\n",
        "- Algoritmos"
      ]
    },
    {
      "cell_type": "markdown",
      "metadata": {
        "id": "dgZqZVpe4Kef"
      },
      "source": [
        "## Instrucciones de entrega\n",
        "\n",
        "\n",
        "\n",
        "\n",
        "\n",
        "\n"
      ]
    },
    {
      "cell_type": "markdown",
      "metadata": {
        "id": "J6GPf6qe4Keg"
      },
      "source": [
        "## Problemas\n",
        "1. Elaborar un algoritmo e implementar en python, el factorial de un número entero `n` ingresado por el usuario.\n",
        "     ### Ejemplo de Ejecución\n",
        "    ```python\n",
        "\n",
        "    >>> factorial(3)\n",
        "        6\n",
        "\n",
        "    >>> factorial(1987123)\n",
        "        =???\n",
        "```\n"
      ]
    },
    {
      "cell_type": "code",
      "metadata": {
        "colab": {
          "base_uri": "https://localhost:8080/"
        },
        "id": "GqahJQl0gR7c",
        "outputId": "6ecbc4cc-9b9c-4057-e1e9-93392b7e0ab1"
      },
      "source": [
        "a=[]    # Crea una lista vacía.\n",
        "producto = 1\n",
        "\n",
        "n=int(input('Vamos a conocer el factorial del número: ')) # Le pide al usuario que ingrese el número al que se le va a calcular el factorial.\n",
        "for i in range(1,n+1):    # Guarda en una lista los números del 1 hasta el número ingresado.                  \n",
        "  a.append(i)\n",
        "\n",
        "for x in a:     # Multiplica todos los números que hay en la lista.\n",
        "    producto *= x \n",
        "print('El factorial del número', n, 'es:', producto)    # Muestra en pantalla el resultado.\n"
      ],
      "execution_count": 59,
      "outputs": [
        {
          "output_type": "stream",
          "name": "stdout",
          "text": [
            "Vamos a conocer el factorial del número: 10\n",
            "El factorial del número 10 es: 3628800\n"
          ]
        }
      ]
    },
    {
      "cell_type": "code",
      "source": [
        "# Hace exactamente lo mismo que el código de arriba pero con una función. Esto es para que el entorno de ejecución se parezca al del ejemplo. \n",
        "\n",
        "def factorial(n): \n",
        "  a=[]\n",
        "  for i in range(1,n+1):\n",
        "    a.append(i)\n",
        "\n",
        "  producto=1\n",
        "  for x in a:\n",
        "    producto *= x\n",
        "  print(producto) "
      ],
      "metadata": {
        "id": "Nxa09xALR2Nk"
      },
      "execution_count": 60,
      "outputs": []
    },
    {
      "cell_type": "code",
      "source": [
        "factorial(7)"
      ],
      "metadata": {
        "colab": {
          "base_uri": "https://localhost:8080/"
        },
        "id": "_u-HWsDEVALD",
        "outputId": "ff06b086-fbd8-4c3f-94e0-f4b2e05d616f"
      },
      "execution_count": 8,
      "outputs": [
        {
          "output_type": "stream",
          "name": "stdout",
          "text": [
            "5040\n"
          ]
        }
      ]
    },
    {
      "cell_type": "code",
      "source": [
        "factorial(5)"
      ],
      "metadata": {
        "colab": {
          "base_uri": "https://localhost:8080/"
        },
        "id": "aUyjldC4V-Vt",
        "outputId": "9d3fb461-4aed-438e-db0b-fc83d4f7711f"
      },
      "execution_count": 9,
      "outputs": [
        {
          "output_type": "stream",
          "name": "stdout",
          "text": [
            "120\n"
          ]
        }
      ]
    },
    {
      "cell_type": "markdown",
      "metadata": {
        "id": "9-JZw0Do4Keg"
      },
      "source": [
        "[link text](https://)2. Diseñar un programa que lea dos numero `a` y `b` y diga que tipo de numero son, de a cuerdo a la siguiente clasificación:\n",
        "\n",
        " >- [Números defectivos](https://es.wikipedia.org/wiki/Número_defectivo) : la suma de los divisores propios es menor que el número.\n",
        " >- [Números abundantes](https://es.wikipedia.org/wiki/Número_abundante): la suma de los divisores es mayor que el número.\n",
        " >- [Números amigos](https://es.wikipedia.org/wiki/N%C3%BAmeros_amigos) `a` y `b` tales que a es la suma de los divisores propios de `b` y viceversa.\n",
        " >- [Números semiperfectos](https://es.wikipedia.org/wiki/N%C3%BAmero_semiperfecto) la suma de todos o algunos de los divisores propios es igual al número.\n",
        " >- [Números perfectos](https://es.wikipedia.org/wiki/N%C3%BAmero_perfecto) la suma de todos sus divisores propios, excepto el mismo numero, es igual al número.\n",
        " >- [Números primos](https://es.wikipedia.org/wiki/N%C3%BAmero_primo) el número es divisible unicamente por sí mismo y por 1.\n",
        " "
      ]
    },
    {
      "cell_type": "markdown",
      "source": [
        " ### Ejemplo de Ejecución\n",
        "``` python\n",
        "\n",
        "    >>> clase_numero(a = 220, b =  284)\n",
        "        a = 220 y b = 284 son números amigos\n",
        "\n",
        "    >>> clase_numero(a = 24, b = 12 )\n",
        "        a = 24 es un numero abudante y b = 12 es un número defectivo. \n",
        "```"
      ],
      "metadata": {
        "id": "ljtAwdxYWotl"
      }
    },
    {
      "cell_type": "code",
      "metadata": {
        "id": "v-WgFWlLGxO-",
        "colab": {
          "base_uri": "https://localhost:8080/"
        },
        "outputId": "0ee06a98-f7c0-4fb3-9ed7-14f448ecacba"
      },
      "source": [
        "a=int(input('Escriba el primer número: ')) # Le pide al usuario un número \n",
        "d=[]\n",
        "# Para encontrar los divisores propios del número ingresado por el usuario\n",
        "for i in range(1,a):      # Recorre los números que hay desde el 1 hasta el número a\n",
        "  if a%i==0:              # para dividir el número ingresado por el usuario entre todos estos números.\n",
        "    d.append(i)           # Guarda en una lista los números que son divisores del número ingresado.\n",
        "\n",
        "sa=sum(d)                 # Suma de los divisores propios de a.\n",
        "\n",
        "b=int(input('Escriba el segundo número: '))\n",
        "c=[]\n",
        "# Para encontrar los divisores del segundo número ingresado.\n",
        "for j in range(1,b):\n",
        "  if b%j==0:\n",
        "    c.append(j)\n",
        "\n",
        "sb=sum(c)                 #Suma de los divisores propios de b . \n",
        "\n",
        "#Números defectivos: la suma de los divisores propios es menor que el número.\n",
        "if sa<a:\n",
        "  print('a=',a, 'es un número defectivo')\n",
        "\n",
        "if sb<b:\n",
        "  print('b=',b, 'es un número defectivo')\n",
        "\n",
        "#Números abundantes: la suma de los divisores es mayor que el número.\n",
        "if sa>a:\n",
        "  print('a=',a, 'es un número abundante')\n",
        "\n",
        "if sb>b:\n",
        "  print('b=',b, 'es un número abundante')\n",
        "\n",
        "#Números perfectos: la suma de todos sus divisores propios, excepto el mismo numero, es igual al número.\n",
        "if sa==a:\n",
        "  print('a=',a, 'es un número perfecto')\n",
        "\n",
        "if sb==b:\n",
        "  print('b=',b, 'es un número perfecto')\n",
        "\n",
        "#Números amigos: a y b tales que a es la suma de los divisores propios de b y viceversa.\n",
        "if sa==b and sb==a:\n",
        "  print('a=',a, 'y', 'b=',b, 'son números amigos')\n",
        "  \n",
        "#Números primos: el número es divisible unicamente por sí mismo y por 1.\n",
        "if len(d)<=2:                    # Si la lista de los divisores propios de un número es menor o igual a dos, entonces este es un número primo\n",
        "  print('a=',a, 'es un número primo')  # En este caso, para que el número sea primo, la longitud de esta lista debe ser igual a 1\n",
        "\n",
        "if len(c)<=2:\n",
        "  print('b=',b, 'es un número primo')\n",
        "\n"
      ],
      "execution_count": 61,
      "outputs": [
        {
          "output_type": "stream",
          "name": "stdout",
          "text": [
            "Escriba el primer número: 220\n",
            "Escriba el segundo número: 284\n",
            "b= 284 es un número defectivo\n",
            "a= 220 es un número abundante\n",
            "a= 220 y b= 284 son números amigos\n"
          ]
        }
      ]
    },
    {
      "cell_type": "markdown",
      "metadata": {
        "id": "45A4RWSm4Keh"
      },
      "source": [
        "3. Determine si un número `n` entero ingresado por el usuario es un [palíndromo](https://en.wikipedia.org/wiki/Palindromic_number), (Retorne `True` en caso afirmativo y `False` en caso contrario) \n",
        "\n",
        "```python\n",
        "\n",
        "\n",
        "    >>> palindromo(3333333)\n",
        "        True\n",
        "\n",
        "    >>> palindromo(2323)\n",
        "        True\n",
        "        \n",
        "    >>> palindromo(1111349111111)\n",
        "        False\n",
        "```\n",
        "\n",
        "\n",
        "\n",
        "\n"
      ]
    },
    {
      "cell_type": "code",
      "metadata": {
        "id": "vtybv-vA-Yuz",
        "colab": {
          "base_uri": "https://localhost:8080/"
        },
        "outputId": "33bc2cb9-ccff-44cc-e2d8-e8b2b285e486"
      },
      "source": [
        "print('¿Deseas conocer si un número es palindromo?')\n",
        "n=str(input('ingresa el número: '))     # Pide al usuario que ingrese el número\n",
        "\n",
        "z=[]      # Crea una lista vacía.\n",
        "for i in n:     # Recorre cada número del número ingrasado por el usuario y lo guarda en una lista.\n",
        "  z.append(i)   \n",
        "def palindromo(n):      # Se define la función palindromo. \n",
        "  if z[::1]==z[::-1]:   # Si la lista de números es la misma al derecho y al revés, entonces el número es palíndromo y se imprime True.\n",
        "    return True\n",
        "  else:\n",
        "    return False        # De lo contrario se imprime False.\n",
        "\n",
        "print(palindromo(n))      # Imprime en pantalla el valor de la función.     "
      ],
      "execution_count": 62,
      "outputs": [
        {
          "output_type": "stream",
          "name": "stdout",
          "text": [
            "¿Deseas conocer si un número es palindromo?\n",
            "ingresa el número: 4554\n",
            "True\n"
          ]
        }
      ]
    },
    {
      "cell_type": "markdown",
      "metadata": {
        "id": "bmQYQxjX4Keh"
      },
      "source": [
        "\n",
        "4. Dada una cadena de caracteres, entregar una lista donde se retorne:\n",
        ">- en la primera casilla: `True` si el caracter del medio es una vocal, `False` en caso contrario \n",
        ">- en la segunda: el numero de vocales en la cadena\n",
        ">- en la tercera: el numero de consonantes\n",
        ">- en la ultima: la cadena de caracteres invertida (ej: perro, orrep)\n",
        "\n",
        "### Ejemplo de Ejecución\n",
        "```python\n",
        "\n",
        ">>> cadena(s ='perro')\n",
        "[False, 2, 3, 'orrep']\n",
        "\n",
        ">>> cadena(s ='murcielago')\n",
        "[True, 5, 5, 'ogaleicrum']\n",
        "\n",
        "```\n"
      ]
    },
    {
      "cell_type": "code",
      "metadata": {
        "id": "T61Q9JRMEfJY",
        "colab": {
          "base_uri": "https://localhost:8080/"
        },
        "outputId": "9793377b-634a-4ea1-94d0-5122e1ddb4d7"
      },
      "source": [
        "palabra='Mariposa'      # Palabra de entrada.\n",
        "Vocales=[\"a\",\"e\",\"i\",\"o\",\"u\",\"á\",\"é\",\"í\",\"ó\",\"ú\",\"A\",\"E\",\"I\",\"O\",\"U\",\"Á\",\"É\",\"Í\",\"Ó\",\"Ú\",\"Ü\",\"ü\"]   # Lista de vocales.\n",
        "Lista=[]          # Lista que almacena la información que se va a entregar.\n",
        "\n",
        "if len(palabra)%2==0:          # Cuenta la cantidad de letras que hay en la palabra. Si la cantidad de letras es par, y en alguna de las dos letras de la mitad hay una vocal          \n",
        "    if palabra[int(len(palabra)/2)-1] in Vocales or palabra[int(len(palabra)/2)] in Vocales:        \n",
        "        Lista.append(True)          # se añade a la lista la palabra True. De lo contrario se agrega la palabra False.\n",
        "    else:          \n",
        "        Lista.append(False)\n",
        "else:          # Si la cantidad de letras de la palabra es impar, se analiza si la letra de en medio \n",
        "    if palabra[(int(len(palabra)/2))] in Vocales:    # se encuentra dentro de la lista de vocales. Si esto se cumple se añade \"True\" a la lista, en caso contrario se agregará \"False\".\n",
        "        Lista.append(True)          \n",
        "    else:\n",
        "        Lista.append(False)\n",
        "\n",
        "sumv=0\n",
        "sumc=0\n",
        "for i in range(len(palabra)):          # Recorre cada uno de los caracteres de la cadena de entrada\n",
        "    if palabra[i] in Vocales:          # si el caracter es vocal, se sumará 1 al acumulador sumv, en caso contrario se sumará 1 al \n",
        "        sumv=sumv+1          # acumulador sumc.\n",
        "    else:         \n",
        "        sumc=sumc+1          \n",
        "            \n",
        "Lista.append(sumv)          # Añade a la lista la cantidad de vocales y la cantidad de consonantes.\n",
        "Lista.append(sumc)          \n",
        "\n",
        "Lista.append(palabra[::-1]) # Añade a la lista la palabra de entrada pero al revés.\n",
        "print(Lista)"
      ],
      "execution_count": 65,
      "outputs": [
        {
          "output_type": "stream",
          "name": "stdout",
          "text": [
            "[True, 4, 4, 'asopiraM']\n"
          ]
        }
      ]
    },
    {
      "cell_type": "markdown",
      "metadata": {
        "id": "Z6rU_h_q4Kei"
      },
      "source": [
        "\n",
        "5. Elabore un método para calcular el n-ésimo término de la sucesión de fibonacci: \n",
        "\n",
        "$$ f_n = f_{n-1}+f_{n-2}$$\n",
        "\n",
        "Donde $$f_0=0 \\:\\:\\text{ y }\\:\\:f_1=1 $$ así:   $$f_2=1+0=1$$ $$f_3=1+1=2$$  $$f_4=2+1=3$$ y así sucesivamente\n",
        "\n",
        "### Ejemplo de Ejecución\n",
        "```python\n",
        "\n",
        ">>> fibonacci(50)\n",
        "12586269025\n",
        "\n",
        ">>> fibonacci(63)\n",
        "6557470319842\n",
        "```\n"
      ]
    },
    {
      "cell_type": "code",
      "source": [
        "def fibonacci(n):  # Defino la función fibonaacci que calcula el n-ésimo término de la sucesión\n",
        "  f=[0,1]          # Creo una lista con los primeros dos términos de la sucesión\n",
        "  while len(f) != n+1: \n",
        "    x=f[-1]+f[-2]  # Suma los dos últimos términos de la sucesión y los agrega a una lista.\n",
        "    f.append(x)    # Esto se hace iterativamente hasta que la longitud de la lista sea igual a la posición ingresada.\n",
        "  print(f[-1]) \n"
      ],
      "metadata": {
        "id": "ctWnsubt25hO"
      },
      "execution_count": 66,
      "outputs": []
    },
    {
      "cell_type": "code",
      "source": [
        "fibonacci(50)"
      ],
      "metadata": {
        "colab": {
          "base_uri": "https://localhost:8080/"
        },
        "id": "G9tGTjyTdE2j",
        "outputId": "bd058eaf-ddbc-476b-f873-22e12fc8bab8"
      },
      "execution_count": 57,
      "outputs": [
        {
          "output_type": "stream",
          "name": "stdout",
          "text": [
            "12586269025\n"
          ]
        }
      ]
    },
    {
      "cell_type": "code",
      "source": [
        "fibonacci(63)"
      ],
      "metadata": {
        "id": "7k-oGg_F_N1N",
        "colab": {
          "base_uri": "https://localhost:8080/"
        },
        "outputId": "981c701b-b3e6-4760-8b82-b5ab8fb54890"
      },
      "execution_count": null,
      "outputs": [
        {
          "output_type": "stream",
          "name": "stdout",
          "text": [
            "6557470319842\n"
          ]
        }
      ]
    },
    {
      "cell_type": "code",
      "source": [
        "fibonacci(20)"
      ],
      "metadata": {
        "colab": {
          "base_uri": "https://localhost:8080/"
        },
        "id": "Lmza-GIHJXiF",
        "outputId": "5b90d4dc-6ede-4c9f-8af7-6a1f8cdadc67"
      },
      "execution_count": 67,
      "outputs": [
        {
          "output_type": "stream",
          "name": "stdout",
          "text": [
            "6765\n"
          ]
        }
      ]
    },
    {
      "cell_type": "code",
      "source": [
        "fibonacci(15)"
      ],
      "metadata": {
        "colab": {
          "base_uri": "https://localhost:8080/"
        },
        "id": "xgfSzfWP6VOl",
        "outputId": "58939cd6-918b-49f7-8b1c-125b7ef27713"
      },
      "execution_count": 47,
      "outputs": [
        {
          "output_type": "stream",
          "name": "stdout",
          "text": [
            "610\n"
          ]
        }
      ]
    },
    {
      "cell_type": "markdown",
      "metadata": {
        "id": "1Aezlw_x4Kei"
      },
      "source": [
        "\n",
        "6. Entrar un arreglo de números y ordenarlos de forma ascendente, Ver algoritmo\n",
        "[Quicksort](https://es.wikipedia.org/wiki/Quicksort). \n",
        "\n",
        "\n",
        "```python\n",
        "\n",
        "\n",
        "<<< v = [22, 32, 42, 12, 22, 31, 41, 11, 12, 232, 24, 12, 22]\n",
        "<<< def quicksort(v):\n",
        "\n",
        "<<<     return v\n",
        "<<< w = print(quicksort(v))\n",
        "<<< [11, 12, 12, 12, 22, 22, 22, 24, 31, 32, 41, 42, 232]\n",
        "\n",
        "```\n",
        "\n",
        "Sólo para comprobar tu código,  puedes hacer uso del comando sort de python. \n",
        "```python\n",
        "<<< b = [22, 32, 42, 12, 22, 31, 41, 11, 12, 232, 24, 12, 22]\n",
        "\n",
        "<<< print(b.sort())\n",
        "\n",
        "<<< [11, 12, 12, 12, 22, 22, 22, 24, 31, 32, 41, 42, 232]\n",
        "```"
      ]
    },
    {
      "cell_type": "code",
      "source": [
        "# La idea del quicksort es organizar los elementos de una lista, lo que se debe hacer es escoger un número que sirva como pivote y \n",
        "# a partir de dicho número organizar los números menores, mayores e iguales. \n",
        "\n",
        "def quicksort(array=[]):  # Se define la función\n",
        "\n",
        "    nmayores = []         # En estas listas se van a guardar los números mayores, menores e iguales al pivote.\n",
        "    niguales = []\n",
        "    nmenores = []\n",
        "\n",
        "    if len(array) > 1:    # Si la longitud del arreglo es mayor que 1\n",
        "        pivote = array[0] # Se escoge como pivote el primer número del arreglo\n",
        "        for x in array:   # Para cada x en el arreglo, si x es menor al pivote lo agrega a la lista de los números menores, si x es igual al pivote se agrega a la lista de los números\n",
        "            if x < pivote:            # que son iguales y si x es mayor se agrega a la lista de los que son mayores. \n",
        "                nmenores.append(x)\n",
        "            elif x == pivote:\n",
        "                niguales.append(x)\n",
        "            elif x > pivote:\n",
        "                nmayores.append(x)\n",
        "        return quicksort(nmenores)+niguales+quicksort(nmayores)  # La función retorna la suma de dichas listas \n",
        "    else:  \n",
        "        return array     # Si la longitud del arreglo es igual a 1, solo retorna el arreglo. No es necesario organizarlo. "
      ],
      "metadata": {
        "id": "6L-3qO7P2x9e"
      },
      "execution_count": 68,
      "outputs": []
    },
    {
      "cell_type": "code",
      "source": [
        "quicksort([22, 32, 42, 12, 22, 31, 41, 11, 12, 232, 24, 12, 22])"
      ],
      "metadata": {
        "colab": {
          "base_uri": "https://localhost:8080/"
        },
        "id": "dZ7fpIekE1o4",
        "outputId": "8a4e54c0-05e8-4461-f92b-cdeead555fdc"
      },
      "execution_count": null,
      "outputs": [
        {
          "output_type": "execute_result",
          "data": {
            "text/plain": [
              "[11, 12, 12, 12, 22, 22, 22, 24, 31, 32, 41, 42, 232]"
            ]
          },
          "metadata": {},
          "execution_count": 29
        }
      ]
    },
    {
      "cell_type": "code",
      "source": [
        "quicksort([-1,5,-6,9, 30,9,21,15,-14])"
      ],
      "metadata": {
        "colab": {
          "base_uri": "https://localhost:8080/"
        },
        "id": "BEiMB7qGFjZ6",
        "outputId": "fd4f55c4-0c73-4982-e63d-7ad73c3c98d4"
      },
      "execution_count": 69,
      "outputs": [
        {
          "output_type": "execute_result",
          "data": {
            "text/plain": [
              "[-14, -6, -1, 5, 9, 9, 15, 21, 30]"
            ]
          },
          "metadata": {},
          "execution_count": 69
        }
      ]
    },
    {
      "cell_type": "code",
      "source": [
        "quicksort([50,100,-200,20,6,7,2,13,4,-1,0,800])"
      ],
      "metadata": {
        "colab": {
          "base_uri": "https://localhost:8080/"
        },
        "id": "4eUbgM08ihTl",
        "outputId": "e9936dac-1d6b-4355-c44d-f33e225b3a50"
      },
      "execution_count": 49,
      "outputs": [
        {
          "output_type": "execute_result",
          "data": {
            "text/plain": [
              "[-200, -1, 0, 2, 4, 6, 7, 13, 20, 50, 100, 800]"
            ]
          },
          "metadata": {},
          "execution_count": 49
        }
      ]
    },
    {
      "cell_type": "markdown",
      "metadata": {
        "id": "BTj0eQBs4Kej"
      },
      "source": [
        "## REFERENCIAS.\n",
        "[1] Scripts de un curso de python. [Raul Pollan](https://github.com/rramosp/20182.pcomp)  \n",
        "\n",
        "[2] [Fundamenteos de programación](https://sites.google.com/site/funpropoli/ejercicios-practicos)\n",
        "\n",
        "[3] Scripts de un curso de python. [Fernando Perez](https://github.com/fperez)\n"
      ]
    }
  ]
}