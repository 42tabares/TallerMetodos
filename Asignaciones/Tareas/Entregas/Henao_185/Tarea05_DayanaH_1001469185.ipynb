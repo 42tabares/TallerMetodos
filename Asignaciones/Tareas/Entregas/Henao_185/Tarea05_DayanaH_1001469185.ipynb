{
 "cells": [
  {
   "cell_type": "markdown",
   "metadata": {
    "id": "piSfJTVTOTiI"
   },
   "source": [
    "# Tarea 05\n",
    "**Dayana Andrea Henao Arbeláez**\n",
    "\n",
    "**1001469185**"
   ]
  },
  {
   "cell_type": "code",
   "execution_count": 349,
   "metadata": {
    "id": "sAcUkhlBOjzH"
   },
   "outputs": [],
   "source": [
    "import numpy as np\n",
    "import sympy as sp\n",
    "import scipy as sc\n",
    "import pandas as pd\n",
    "from scipy.misc import derivative\n",
    "import matplotlib.pylab as plt\n",
    "from scipy import integrate"
   ]
  },
  {
   "cell_type": "markdown",
   "metadata": {
    "id": "8q4c8oS-hpaE"
   },
   "source": [
    "\n",
    "#1. Derivadas.\n",
    "\n",
    "\n",
    "En el metodo Smoothed-particle hydrodynamics ([SPH](!https://en.wikipedia.org/wiki/Smoothed-particle_hydrodynamics)) se emplean diferentes kernel de aproximación para calcular las propiedades  de un fluído en cada punto del espacio. Uno de ellos es el Kernel de Lucy detallado a continuación:\n",
    "\n",
    "### Lucy's Quartic Kernel \n",
    "\\begin{equation}\n",
    "W(R, h)= \\alpha_D \\left\\{\n",
    "  \\begin{matrix} \\left(1+3q)(1- q\\right)^3 &  0\\leq q< h \\\\ \n",
    "  0 & in\\ the\\ other\\ case.\n",
    "  \\end{matrix}\n",
    "\\right.\n",
    "\\end{equation}\n",
    "\n",
    "donde, \n",
    "\n",
    "\\begin{equation}\n",
    "q=\\frac{|(\\vec{r}-\\vec{r}')|}{h}\n",
    "\\end{equation}\n",
    "\n",
    "y $\\alpha_D$ es la constante de normalización:\n",
    "\n",
    "- en 2 dimensiones, viene dada por:\n",
    "\\begin{equation}\n",
    "\\alpha_D = \\frac{5}{\\pi h^2}\n",
    "\\end{equation}\n",
    "\n",
    "- en 3 dimensiones, viene dada por:\n",
    "\\begin{equation}\n",
    "\\alpha_D = \\frac{105}{16\\pi h^3}\n",
    "\\end{equation}\n",
    "\n",
    "Para el kernel de Lucy en 2D encontrar su derivada a través de los siguientes pasos:\n",
    "\n",
    "1. Realizar un gráfico del kernel de Lucy.\n",
    "2. Encontrar la derivada empleanda la libreria simbolica\n",
    "3. Realizar un grafico de los cálculos encontrados con la  libreria simbólica  y comparar con la derivada numérica de los datos del punto 1. \n",
    "\n",
    "Recuerde siempre comparar sus resultados con sus cálculos realizados en papel y lapiz.\n",
    "\n",
    "\n",
    "Opcional.\n",
    "\n",
    "Resolver el problema en 3D\n",
    "\n",
    "\n",
    "\n",
    "\n"
   ]
  },
  {
   "cell_type": "markdown",
   "metadata": {
    "id": "b0iV0bU6v9RX"
   },
   "source": [
    "**Gráfico del kernel de lucy**"
   ]
  },
  {
   "cell_type": "code",
   "execution_count": 350,
   "metadata": {
    "id": "9lWhd3LXv-EV"
   },
   "outputs": [],
   "source": [
    "def W(R,h):\n",
    "  return (5/(np.pi*h**2))*(1+3*(R/h))*(1-(R/h))**3"
   ]
  },
  {
   "cell_type": "code",
   "execution_count": 351,
   "metadata": {
    "colab": {
     "base_uri": "https://localhost:8080/",
     "height": 359
    },
    "id": "uMWLGeeXwE3P",
    "outputId": "b48d91e4-4f54-4eaa-9a59-0af7c260543e"
   },
   "outputs": [
    {
     "data": {
      "image/png": "[encoded data removed]",
      "text/plain": [
       "<Figure size 504x360 with 1 Axes>"
      ]
     },
     "metadata": {
      "needs_background": "light"
     },
     "output_type": "display_data"
    }
   ],
   "source": [
    "h=0.1\n",
    "R=np.linspace(0,h**2,100)\n",
    "plt.figure(figsize=(7,5))\n",
    "plt.plot(R,W(R,h), label='kernel', color='pink', linestyle='--', linewidth='3')\n",
    "plt.title('Kernel de Lucy', fontsize='16')\n",
    "plt.xticks(fontsize=12)\n",
    "plt.yticks(fontsize=12)\n",
    "plt.xlabel('R', fontsize='14')\n",
    "plt.ylabel('W(R,h)', fontsize='14')\n",
    "plt.legend()\n",
    "plt.grid()"
   ]
  },
  {
   "cell_type": "markdown",
   "metadata": {
    "id": "7x9VVz48w3by"
   },
   "source": [
    "**Derivada usando la libreria simbólica**"
   ]
  },
  {
   "cell_type": "code",
   "execution_count": 352,
   "metadata": {
    "colab": {
     "base_uri": "https://localhost:8080/",
     "height": 56
    },
    "id": "jwn2rxghw9ES",
    "outputId": "8a96419a-e212-4c31-df72-eb130a8318e9"
   },
   "outputs": [
    {
     "data": {
      "text/latex": [
       "$\\displaystyle \\frac{500000.0 \\left(0.1 - R\\right)^{3} \\left(30.0 R + 1\\right)}{\\pi}$"
      ],
      "text/plain": [
       "500000.0*(0.1 - R)**3*(30.0*R + 1)/pi"
      ]
     },
     "execution_count": 352,
     "metadata": {},
     "output_type": "execute_result"
    }
   ],
   "source": [
    "R = sp.symbols(\"R\")\n",
    "w = lambda R: (5/((sp.pi)*(0.1**2)))*(1+3*(R/0.1))*(1-(R/0.1))**3\n",
    "w(R)"
   ]
  },
  {
   "cell_type": "code",
   "execution_count": 353,
   "metadata": {
    "colab": {
     "base_uri": "https://localhost:8080/",
     "height": 56
    },
    "id": "wIw3bV-PxE7s",
    "outputId": "851e9704-f9a7-4c79-8ba7-b3d31e2fb3b7"
   },
   "outputs": [
    {
     "data": {
      "text/latex": [
       "$\\displaystyle \\frac{15000000.0 \\left(0.1 - R\\right)^{3}}{\\pi} - \\frac{1500000.0 \\left(0.1 - R\\right)^{2} \\left(30.0 R + 1\\right)}{\\pi}$"
      ],
      "text/plain": [
       "15000000.0*(0.1 - R)**3/pi - 1500000.0*(0.1 - R)**2*(30.0*R + 1)/pi"
      ]
     },
     "execution_count": 353,
     "metadata": {},
     "output_type": "execute_result"
    }
   ],
   "source": [
    "derivada = sp.diff(w(R),R, 1)\n",
    "derivada"
   ]
  },
  {
   "cell_type": "code",
   "execution_count": 354,
   "metadata": {
    "id": "DHUCayLixKvU"
   },
   "outputs": [],
   "source": [
    "def derw(R):\n",
    "  return (((15000000*(0.1-R)**3)-((1500000*(0.1-R)**2))*(30*R+1)))/np.pi"
   ]
  },
  {
   "cell_type": "code",
   "execution_count": 355,
   "metadata": {
    "colab": {
     "base_uri": "https://localhost:8080/",
     "height": 355
    },
    "id": "A7r1H33bxhCK",
    "outputId": "218f67f3-62a8-4cf8-8bf6-3eea009de913"
   },
   "outputs": [
    {
     "data": {
      "image/png": "[encoded data removed]",
      "text/plain": [
       "<Figure size 504x360 with 1 Axes>"
      ]
     },
     "metadata": {
      "needs_background": "light"
     },
     "output_type": "display_data"
    }
   ],
   "source": [
    "h=0.1\n",
    "R=np.linspace(0,h**2,100)\n",
    "plt.figure(figsize=(7,5))\n",
    "plt.plot(R,derw(R), label='Derivada', color='cyan')\n",
    "plt.title('Derivada del Kernel de Lucy', fontsize=16)\n",
    "plt.xlabel('R', fontsize=12)\n",
    "plt.ylabel('W(R,h)', fontsize=12)\n",
    "plt.legend()\n",
    "plt.grid()"
   ]
  },
  {
   "cell_type": "markdown",
   "metadata": {
    "id": "tOmpgaYRUP9t"
   },
   "source": [
    "**Derivada númerica**"
   ]
  },
  {
   "cell_type": "code",
   "execution_count": 356,
   "metadata": {
    "colab": {
     "base_uri": "https://localhost:8080/",
     "height": 355
    },
    "id": "aByCxp-HUPIH",
    "outputId": "50173025-a4ef-4e8a-e8a5-4ef47813271b"
   },
   "outputs": [
    {
     "data": {
      "image/png": "[encoded data removed]",
      "text/plain": [
       "<Figure size 504x360 with 1 Axes>"
      ]
     },
     "metadata": {
      "needs_background": "light"
     },
     "output_type": "display_data"
    }
   ],
   "source": [
    "func=lambda R: (5/(np.pi*0.1**2))*(1+3*(R/0.1))*(1-(R/0.1))**3\n",
    "R=np.linspace(0,0.1**2,100)\n",
    "plt.figure(figsize=(7,5))\n",
    "plt.plot( R, derivative(func,R,dx=1E-5), color=\"red\", label=\"$f'(x)$\", linewidth=2)\n",
    "plt.title('Derivada del Kernel de Lucy', fontsize=16)\n",
    "plt.xlabel('R', fontsize=12)\n",
    "plt.ylabel('W(R,h)', fontsize=12)\n",
    "plt.grid()"
   ]
  },
  {
   "cell_type": "markdown",
   "metadata": {
    "id": "WV6dMBzK_odZ"
   },
   "source": [
    "\n",
    "\n",
    "\n",
    "# 2.0 Integración\n",
    "\n",
    "1. Escribir en código Markdown la expresión para calcular una integral con la regla del trapecio.\n",
    "\n",
    "2. Escribir en código Markdown la expresión para calcular una integral con la regla del simpson\n",
    "\n",
    "3. Calcular una aproximación con el metodo 1,2 y el de cuadratura de las siguientes integrales\n",
    "\n",
    "garantizando  que el error sea menor a $\\varepsilon=1E-5$.  "
   ]
  },
  {
   "cell_type": "markdown",
   "metadata": {
    "id": "pVFUbkDcL-Ak"
   },
   "source": [
    "**Método del trapecio**\n",
    "\n",
    "$$ \\int_a^b f(x) dx = \\frac{h}{2}\\left[ f(a) + 2\\sum_{j=1}^{N-1}f(x_j) + f(b) \\right] - \\frac{b-a}{12}h^2 f^{''}(\\mu)$$\n",
    "\n",
    "**Método de simpson**\n",
    "\n",
    "$$ \\int_a^bf(x)dx = \\frac{h}{3}\\left[ f(a) +2 \\sum_{j=1}^{(n/2)-1}f(x_{2j})+4\\sum_{j=1}^{n/2}f(x_{2j-1})+f(b) \\right] - \\frac{b-a}{180}h^4f^{(4)}(\\mu)$$"
   ]
  },
  {
   "cell_type": "markdown",
   "metadata": {
    "id": "ovm-1q3rOz9k"
   },
   "source": [
    "**Solución de las integrales**\n"
   ]
  },
  {
   "cell_type": "markdown",
   "metadata": {
    "id": "3ToB2yFLO-dW"
   },
   "source": [
    "- \n",
    " $$\n",
    " \\int_0^\\pi e^{1-\\sqrt{x}}\\, dx\n",
    " $$"
   ]
  },
  {
   "cell_type": "code",
   "execution_count": 357,
   "metadata": {
    "id": "FyTjDlWgPgxC"
   },
   "outputs": [],
   "source": [
    "def f1(x):\n",
    "  return np.exp(1-np.sqrt(x))"
   ]
  },
  {
   "cell_type": "code",
   "execution_count": 358,
   "metadata": {
    "colab": {
     "base_uri": "https://localhost:8080/"
    },
    "id": "zgiQ7t_SPafC",
    "outputId": "39d09add-e8fd-4520-8d3b-e8ada54dd681"
   },
   "outputs": [
    {
     "data": {
      "text/plain": [
       "2.8755895688432083"
      ]
     },
     "execution_count": 358,
     "metadata": {},
     "output_type": "execute_result"
    }
   ],
   "source": [
    "#Método del trapecio\n",
    "X=[0,np.pi]\n",
    "x=np.linspace( X[0], X[-1], 1000 )\n",
    "integrate.trapz(f1(x),x)"
   ]
  },
  {
   "cell_type": "code",
   "execution_count": 359,
   "metadata": {
    "colab": {
     "base_uri": "https://localhost:8080/"
    },
    "id": "Xl803GJDPdqP",
    "outputId": "bbf3d919-8ea2-497a-e887-d0482e76ce31"
   },
   "outputs": [
    {
     "data": {
      "text/plain": [
       "2.87555082821594"
      ]
     },
     "execution_count": 359,
     "metadata": {},
     "output_type": "execute_result"
    }
   ],
   "source": [
    "#Método de simpson\n",
    "integrate.simps(f1(x),x)"
   ]
  },
  {
   "cell_type": "code",
   "execution_count": 360,
   "metadata": {
    "colab": {
     "base_uri": "https://localhost:8080/"
    },
    "id": "xXySQEgGO-HY",
    "outputId": "692734e2-07bd-4044-ecbf-3f2334daf363"
   },
   "outputs": [
    {
     "data": {
      "text/plain": [
       "2.8754911354375863"
      ]
     },
     "execution_count": 360,
     "metadata": {},
     "output_type": "execute_result"
    }
   ],
   "source": [
    "#Método de cuadratura\n",
    "integrate.quad(f1,0,np.pi,args=(),full_output=0)[0]"
   ]
  },
  {
   "cell_type": "markdown",
   "metadata": {
    "id": "MSCUiGdGZrei"
   },
   "source": [
    "- $$\n",
    " \\int_0^{\\pi/2} \\frac{1}{\\sqrt{\\tan x}}\\, dx\n",
    " $$\n"
   ]
  },
  {
   "cell_type": "code",
   "execution_count": 361,
   "metadata": {
    "id": "zxFnmOYKaD5B"
   },
   "outputs": [],
   "source": [
    "def f2(x):\n",
    "  return 1/(np.sqrt(np.tan(x)))"
   ]
  },
  {
   "cell_type": "code",
   "execution_count": 362,
   "metadata": {
    "colab": {
     "base_uri": "https://localhost:8080/"
    },
    "id": "9G-y8mUdaUfa",
    "outputId": "241f1b56-c1a6-4604-b733-2bb2b1681281"
   },
   "outputs": [
    {
     "data": {
      "text/plain": [
       "2.161123425655332"
      ]
     },
     "execution_count": 362,
     "metadata": {},
     "output_type": "execute_result"
    }
   ],
   "source": [
    "#Método del trapecio\n",
    "X2=[0.001,np.pi/2]\n",
    "x2=np.linspace( X2[0], X2[-1], 1000 )\n",
    "integrate.trapz(f2(x2),x2)"
   ]
  },
  {
   "cell_type": "code",
   "execution_count": 363,
   "metadata": {
    "colab": {
     "base_uri": "https://localhost:8080/"
    },
    "id": "uDdKzveUaUHB",
    "outputId": "59a20d24-a027-4cdf-8d99-921598953235"
   },
   "outputs": [
    {
     "data": {
      "text/plain": [
       "2.159570043155357"
      ]
     },
     "execution_count": 363,
     "metadata": {},
     "output_type": "execute_result"
    }
   ],
   "source": [
    "#Método de simpson\n",
    "integrate.simps(f2(x2),x2)"
   ]
  },
  {
   "cell_type": "code",
   "execution_count": 364,
   "metadata": {
    "colab": {
     "base_uri": "https://localhost:8080/"
    },
    "id": "x8HOEPKcZrG2",
    "outputId": "d9c92ba4-dbdf-4f7b-daf6-d0150d48e81c"
   },
   "outputs": [
    {
     "data": {
      "text/plain": [
       "2.2214414690792026"
      ]
     },
     "execution_count": 364,
     "metadata": {},
     "output_type": "execute_result"
    }
   ],
   "source": [
    "#Método de cuadratura\n",
    "integrate.quad(f2,0,np.pi/2,args=(),full_output=0)[0]"
   ]
  },
  {
   "cell_type": "markdown",
   "metadata": {
    "id": "OmXWjrGrb25H"
   },
   "source": [
    "- \n",
    "$$\n",
    " \\int_{-\\infty}^{\\infty} \\frac{1}{1+x^2} \\, dx\n",
    " $$"
   ]
  },
  {
   "cell_type": "code",
   "execution_count": 365,
   "metadata": {
    "id": "H5ktnnK_e48O"
   },
   "outputs": [],
   "source": [
    "def f3(x):\n",
    "  return 1/(1+x**2)"
   ]
  },
  {
   "cell_type": "code",
   "execution_count": 366,
   "metadata": {
    "colab": {
     "base_uri": "https://localhost:8080/"
    },
    "id": "SXqD2lWffqet",
    "outputId": "8e7f06ab-8a01-461f-98d3-09ade573c655"
   },
   "outputs": [
    {
     "data": {
      "text/plain": [
       "3.1341352370139304"
      ]
     },
     "execution_count": 366,
     "metadata": {},
     "output_type": "execute_result"
    }
   ],
   "source": [
    "#Método del trapecio\n",
    "X3=[-400,400]\n",
    "x3=np.linspace( X3[0], X3[-1], 1000 )\n",
    "integrate.trapz(f3(x3),x3)"
   ]
  },
  {
   "cell_type": "code",
   "execution_count": 367,
   "metadata": {
    "colab": {
     "base_uri": "https://localhost:8080/"
    },
    "id": "dahXi6KTluPQ",
    "outputId": "a69f4c59-fee4-4b73-c2b8-1d24f8675a35"
   },
   "outputs": [
    {
     "data": {
      "text/plain": [
       "3.134135240363955"
      ]
     },
     "execution_count": 367,
     "metadata": {},
     "output_type": "execute_result"
    }
   ],
   "source": [
    "#Método de simpson\n",
    "integrate.simps(f3(x3),x3)"
   ]
  },
  {
   "cell_type": "code",
   "execution_count": 368,
   "metadata": {
    "colab": {
     "base_uri": "https://localhost:8080/"
    },
    "id": "-JxYr0iDb34o",
    "outputId": "ead90280-fb57-4402-da61-027c07faceb2"
   },
   "outputs": [
    {
     "data": {
      "text/plain": [
       "3.141592653589793"
      ]
     },
     "execution_count": 368,
     "metadata": {},
     "output_type": "execute_result"
    }
   ],
   "source": [
    "#Método de cuadratura\n",
    "integrate.quad(f3,-np.inf,np.inf,args=(),full_output=0)[0]"
   ]
  },
  {
   "cell_type": "markdown",
   "metadata": {
    "id": "U7WdcohSm7wl"
   },
   "source": [
    "- \n",
    "$$\n",
    " \\int_{e}^{2e} \\frac{1}{\\ln x} \\, dx\n",
    " $$\n"
   ]
  },
  {
   "cell_type": "code",
   "execution_count": 369,
   "metadata": {
    "id": "N9oT4_kQnT6t"
   },
   "outputs": [],
   "source": [
    "def f5(x):\n",
    "  return 1/(np.log(x))"
   ]
  },
  {
   "cell_type": "code",
   "execution_count": 370,
   "metadata": {
    "colab": {
     "base_uri": "https://localhost:8080/"
    },
    "id": "spS4xL37nvzc",
    "outputId": "ed6c4576-9b86-4c6c-a595-168ea92385e5"
   },
   "outputs": [
    {
     "data": {
      "text/plain": [
       "2.003810749013251"
      ]
     },
     "execution_count": 370,
     "metadata": {},
     "output_type": "execute_result"
    }
   ],
   "source": [
    "#Método del trapecio\n",
    "X5=[np.e,2*np.e]\n",
    "x5=np.linspace( X5[0], X5[-1], 1000 )\n",
    "integrate.trapz(f5(x5),x5)"
   ]
  },
  {
   "cell_type": "code",
   "execution_count": 371,
   "metadata": {
    "colab": {
     "base_uri": "https://localhost:8080/"
    },
    "id": "g8Zge4epoKsL",
    "outputId": "5bc752f3-4d84-4cd9-a1b5-7c5c3d965c3f"
   },
   "outputs": [
    {
     "data": {
      "text/plain": [
       "2.0038105619858713"
      ]
     },
     "execution_count": 371,
     "metadata": {},
     "output_type": "execute_result"
    }
   ],
   "source": [
    "#Método de simpson\n",
    "integrate.simps(f5(x5),x5)"
   ]
  },
  {
   "cell_type": "code",
   "execution_count": 372,
   "metadata": {
    "colab": {
     "base_uri": "https://localhost:8080/"
    },
    "id": "yneUeOhpnPVY",
    "outputId": "ecfcbb45-b99d-42b1-b7d6-af9442806278"
   },
   "outputs": [
    {
     "data": {
      "text/plain": [
       "2.0038105616240243"
      ]
     },
     "execution_count": 372,
     "metadata": {},
     "output_type": "execute_result"
    }
   ],
   "source": [
    "#Método de cuadratura\n",
    "integrate.quad(f5,np.e,np.e*2,args=(),full_output=0)[0]"
   ]
  },
  {
   "cell_type": "markdown",
   "metadata": {
    "id": "6hJGsmCkF6Wv"
   },
   "source": [
    "5. Suppose a body of mass m is traveling vertically upward starting at the surface of the earth. If all\n",
    "resistance except gravity is neglected, the escape velocity v is given by\n",
    "\n",
    "$$\n",
    "v^2=2gR\\int_1 ^\\infty z^{-2} dz,\n",
    "$$\n",
    "\n",
    "where z=x/R, R is the earth radius and g de gravity aceleration. Approximate the scape velocity"
   ]
  },
  {
   "cell_type": "code",
   "execution_count": 373,
   "metadata": {
    "colab": {
     "base_uri": "https://localhost:8080/"
    },
    "id": "QDW1bVFipDr3",
    "outputId": "55cc39d9-2cfa-42a5-8b1f-491d65386a75"
   },
   "outputs": [
    {
     "data": {
      "text/plain": [
       "1.0"
      ]
     },
     "execution_count": 373,
     "metadata": {},
     "output_type": "execute_result"
    }
   ],
   "source": [
    "integ=integrate.quad(lambda z:z**-2,1,np.inf,args=(),full_output=0)[0]\n",
    "integ"
   ]
  },
  {
   "cell_type": "code",
   "execution_count": 374,
   "metadata": {
    "id": "XdenDkrepHcg"
   },
   "outputs": [],
   "source": [
    "G=9.8\n",
    "R=6371000"
   ]
  },
  {
   "cell_type": "code",
   "execution_count": 375,
   "metadata": {
    "id": "I2sZuOK7pLvF"
   },
   "outputs": [],
   "source": [
    "def v(g,r,inte):\n",
    "  return np.sqrt(2*g*R*inte)"
   ]
  },
  {
   "cell_type": "code",
   "execution_count": 376,
   "metadata": {
    "colab": {
     "base_uri": "https://localhost:8080/"
    },
    "id": "CfCi4j27pzET",
    "outputId": "351b639d-42cd-48ad-f2e6-8bf5de045ba1"
   },
   "outputs": [
    {
     "data": {
      "text/plain": [
       "11174.596189572132"
      ]
     },
     "execution_count": 376,
     "metadata": {},
     "output_type": "execute_result"
    }
   ],
   "source": [
    "v(G,R,integ)"
   ]
  },
  {
   "cell_type": "markdown",
   "metadata": {
    "id": "Pb2e7ph4qwrN"
   },
   "source": [
    "*La velocidad de escape es 11175 m/s aproximadamente.*"
   ]
  },
  {
   "cell_type": "markdown",
   "metadata": {
    "id": "dJVCeEtpX2sJ"
   },
   "source": [
    "\n",
    "6. Write a double precision program to integrate an arbitrary function numerically using the trapezoid rule, the Simpson rule, and Gaussian quadrature. For our assumed problems there is an analytics answer:\n",
    "\n",
    "\\begin{equation}\n",
    "\\frac{\\mathrm{d}N(t)}{\\mathrm{d}t}=e^{-t}\n",
    "\\end{equation}\n",
    "\n",
    "\\begin{equation}\n",
    "N(1)=\\int_0^{1}e^{-t} dt=1-e^{-1}\n",
    "\\end{equation}\n",
    "\n",
    "\n",
    "\n"
   ]
  },
  {
   "cell_type": "code",
   "execution_count": 377,
   "metadata": {
    "id": "X3Yyg-Hhhljo"
   },
   "outputs": [],
   "source": [
    "def trap(f,a,b,n):  #Regla trapezoidal\n",
    "    h = (b - a) / n\n",
    "    intgr =0\n",
    "    for i in range(1, int(n)):\n",
    "        intgr+= 0.5 * h * (f(a+(i-1)*h) + f(a+i*h))\n",
    "    return intgr\n",
    "\n",
    "def Trapecio(f,a,b,n,test=0): #Otra forma de la regla del trapezoidal\n",
    "  import numpy as np\n",
    "  x=np.linspace(a,b,n+1)\n",
    "  y=f(x)\n",
    "  if test == 0:\n",
    "      return 0.5*np.dot((x[1:]-x[:-1]),(y[1:]+y[:-1]))\n",
    "  elif test ==1:\n",
    "      return 0.5*((x[1:]-x[:-1])*(y[1:]+y[:-1])).sum()\n",
    "\n",
    "def simpson1_3(f, a, b, n):  #Regla de Simpson 1/3\n",
    "    h = (b - a) / n\n",
    "    suma = 0.0\n",
    "    for i in range(1, n):\n",
    "        x = a + i * h\n",
    "        if(i % 2 == 0): \n",
    "            suma = suma + 2 * f(x)\n",
    "        else:\n",
    "            suma = suma + 4 * f(x)\n",
    "    suma = suma + f(a) + f(b)\n",
    "    area = suma * (h / 3)\n",
    "    return area\n"
   ]
  },
  {
   "cell_type": "code",
   "execution_count": 378,
   "metadata": {
    "id": "PYUCuslye3Pm"
   },
   "outputs": [],
   "source": [
    "def N(t):\n",
    "  return np.exp(-t)"
   ]
  },
  {
   "cell_type": "code",
   "execution_count": 379,
   "metadata": {
    "id": "8ZMAhDsT7OrB"
   },
   "outputs": [],
   "source": [
    "def error(num,ext):\n",
    "  return np.abs(num-ext)/ext"
   ]
  },
  {
   "cell_type": "markdown",
   "metadata": {
    "id": "MUYud8YblSkz"
   },
   "source": [
    "6.2. Compute the relative error $\\epsilon=|numerical-exact|/exact$ in each case. Present your data in the tabular form \n",
    "with space or tabas seprating the field. Try N values of 2, 10, 20 , 40 , 80, 160\n",
    "\n",
    "| N  |$\\epsilon_T$ | $\\epsilon_S$ | \n",
    "|----|---------------|--------------|\n",
    "|   2  | 0.020325350385163334|0.0003370391011018477|\n",
    "|   10  |  0.0008325008424003651|5.548945654797766e-07|\n",
    "|   20  |0.00020828126317234676|3.4711889408821485e-08|\n",
    "|   40  |5.208007833065576e-05| 2.169976856603742e-09|\n",
    "|   80  |1.3020629885747526e-05|1.356309085165515e-10|\n",
    "|   160 |3.2551956174372455e-06|8.47718425823847e-12|"
   ]
  },
  {
   "cell_type": "code",
   "execution_count": 380,
   "metadata": {
    "colab": {
     "base_uri": "https://localhost:8080/"
    },
    "id": "K5SiXPfjVQy3",
    "outputId": "f1e359de-c83a-4196-c813-14ee389407da"
   },
   "outputs": [
    {
     "data": {
      "text/plain": [
       "0.6321205588285578"
      ]
     },
     "execution_count": 380,
     "metadata": {},
     "output_type": "execute_result"
    }
   ],
   "source": [
    "exact=integrate.quad(N,0,1,args=(),full_output=0)[0]\n",
    "exact"
   ]
  },
  {
   "cell_type": "code",
   "execution_count": 381,
   "metadata": {
    "colab": {
     "base_uri": "https://localhost:8080/"
    },
    "id": "8u2JdJVeS6Ao",
    "outputId": "cb649ab6-96ec-47a0-ebb3-fd1e1ef4602b"
   },
   "outputs": [
    {
     "name": "stdout",
     "output_type": "stream",
     "text": [
      "El error con el método del Trapecio es:  0.020325350385163334\n",
      "El error con el método de Simpson es:  0.0003370391011018477\n"
     ]
    }
   ],
   "source": [
    "# Para N=2\n",
    "Et2=Trapecio(N,0,1,2)\n",
    "Es2=simpson1_3(N,0,1,2)\n",
    "print('El error con el método del Trapecio es: ', error(exact,Et2))\n",
    "print('El error con el método de Simpson es: ', error(exact,Es2))"
   ]
  },
  {
   "cell_type": "code",
   "execution_count": 382,
   "metadata": {
    "colab": {
     "base_uri": "https://localhost:8080/"
    },
    "id": "eXq9ONfoUNba",
    "outputId": "eb5744d6-c641-47b4-e634-7bd8b5dba630"
   },
   "outputs": [
    {
     "name": "stdout",
     "output_type": "stream",
     "text": [
      "El error con el método del Trapecio es:  0.0008325008424003651\n",
      "El error con el método de Simpson es:  5.548945654797766e-07\n"
     ]
    }
   ],
   "source": [
    "# Para N=10\n",
    "Et10=Trapecio(N,0,1,10)\n",
    "Es10=simpson1_3(N,0,1,10)\n",
    "print('El error con el método del Trapecio es: ', error(exact,Et10))\n",
    "print('El error con el método de Simpson es: ', error(exact,Es10))"
   ]
  },
  {
   "cell_type": "code",
   "execution_count": 383,
   "metadata": {
    "colab": {
     "base_uri": "https://localhost:8080/"
    },
    "id": "VCU2xORvVo8h",
    "outputId": "141f783c-8a3a-46ae-e00a-4709771c53fd"
   },
   "outputs": [
    {
     "name": "stdout",
     "output_type": "stream",
     "text": [
      "El error con el método del Trapecio es:  0.00020828126317234676\n",
      "El error con el método de Simpson es:  3.4711889408821485e-08\n"
     ]
    }
   ],
   "source": [
    "# Para N=20\n",
    "Et20=Trapecio(N,0,1,20)\n",
    "Es20=simpson1_3(N,0,1,20)\n",
    "print('El error con el método del Trapecio es: ', error(exact,Et20))\n",
    "print('El error con el método de Simpson es: ', error(exact,Es20))"
   ]
  },
  {
   "cell_type": "code",
   "execution_count": 384,
   "metadata": {
    "colab": {
     "base_uri": "https://localhost:8080/"
    },
    "id": "k1XY0hexWYX6",
    "outputId": "8c23beaa-067b-460d-e5d7-7adf97fdfafe"
   },
   "outputs": [
    {
     "name": "stdout",
     "output_type": "stream",
     "text": [
      "El error con el método del Trapecio es:  5.208007833065576e-05\n",
      "El error con el método de Simpson es:  2.169976856603742e-09\n"
     ]
    }
   ],
   "source": [
    "# Para N=40\n",
    "Et40=Trapecio(N,0,1,40)\n",
    "Es40=simpson1_3(N,0,1,40)\n",
    "print('El error con el método del Trapecio es: ', error(exact,Et40))\n",
    "print('El error con el método de Simpson es: ', error(exact,Es40))"
   ]
  },
  {
   "cell_type": "code",
   "execution_count": 385,
   "metadata": {
    "colab": {
     "base_uri": "https://localhost:8080/"
    },
    "id": "MjeQ6LYUWsLp",
    "outputId": "9b8d8c99-987c-4d5e-b151-ad5f172c915c"
   },
   "outputs": [
    {
     "name": "stdout",
     "output_type": "stream",
     "text": [
      "El error con el método del Trapecio es:  1.3020629885747526e-05\n",
      "El error con el método de Simpson es:  1.356309085165515e-10\n"
     ]
    }
   ],
   "source": [
    "# Para N=80\n",
    "Et80=Trapecio(N,0,1,80)\n",
    "Es80=simpson1_3(N,0,1,80)\n",
    "print('El error con el método del Trapecio es: ', error(exact,Et80))\n",
    "print('El error con el método de Simpson es: ', error(exact,Es80))"
   ]
  },
  {
   "cell_type": "code",
   "execution_count": 386,
   "metadata": {
    "colab": {
     "base_uri": "https://localhost:8080/"
    },
    "id": "JcLYX2AhW332",
    "outputId": "7b876996-2220-409f-abf8-175bb61f6a69"
   },
   "outputs": [
    {
     "name": "stdout",
     "output_type": "stream",
     "text": [
      "El error con el método del Trapecio es:  3.2551956174372455e-06\n",
      "El error con el método de Simpson es:  8.47718425823847e-12\n"
     ]
    }
   ],
   "source": [
    "# Para N=160\n",
    "Et160=Trapecio(N,0,1,160)\n",
    "Es160=simpson1_3(N,0,1,160)\n",
    "print('El error con el método del Trapecio es: ', error(exact,Et160))\n",
    "print('El error con el método de Simpson es: ', error(exact,Es160))"
   ]
  }
 ],
 "metadata": {
  "colab": {
   "collapsed_sections": [],
   "name": "Tarea05_DayanaH_1001469185.ipynb",
   "provenance": []
  },
  "kernelspec": {
   "display_name": "Python 3 (ipykernel)",
   "language": "python",
   "name": "python3"
  },
  "language_info": {
   "codemirror_mode": {
    "name": "ipython",
    "version": 3
   },
   "file_extension": ".py",
   "mimetype": "text/x-python",
   "name": "python",
   "nbconvert_exporter": "python",
   "pygments_lexer": "ipython3",
   "version": "3.8.12"
  }
 },
 "nbformat": 4,
 "nbformat_minor": 1
}
