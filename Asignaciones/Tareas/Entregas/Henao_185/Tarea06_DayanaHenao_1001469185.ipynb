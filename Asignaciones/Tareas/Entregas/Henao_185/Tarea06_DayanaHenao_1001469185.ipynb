{
  "nbformat": 4,
  "nbformat_minor": 0,
  "metadata": {
    "colab": {
      "name": "Tarea06_DayanaHenao_1001469185.ipynb",
      "provenance": [],
      "collapsed_sections": []
    },
    "kernelspec": {
      "name": "python3",
      "display_name": "Python 3"
    },
    "language_info": {
      "name": "python"
    }
  },
  "cells": [
    {
      "cell_type": "markdown",
      "source": [
        "# Tarea 06\n",
        "\n",
        "Dayana Andrea Henao Arbeláez\n",
        "\n",
        "1001469185"
      ],
      "metadata": {
        "id": "yfNh9mJfVIpO"
      }
    },
    {
      "cell_type": "markdown",
      "source": [
        "# Matrices "
      ],
      "metadata": {
        "id": "Cdy-GXp4LEri"
      }
    },
    {
      "cell_type": "code",
      "source": [
        "from sympy import *\n",
        "import numpy as np\n",
        "import pandas as pd\n",
        "import matplotlib.pylab as plt\n",
        "import sympy"
      ],
      "metadata": {
        "id": "lO2cGv5j774G"
      },
      "execution_count": 201,
      "outputs": []
    },
    {
      "cell_type": "markdown",
      "source": [
        "## Operaciones Básicas\n",
        "\n",
        "1. Un proceso para encriptar un mensaje secreto es usar cierta matriz cuadrada cuyos elementos son enteros con elementos enteros en la inversa. Se recibe un mensaje, se asigna un número a cada letra Por ejemplo, A=1, B=2, C=3, ... etc y espacio=27), se arreglan los números en una matriz de izquierda a derecha en cada fila, donde el número de elementos en la fila es igual al tamaño de la matriz de código, se multiplica esa matriz por la matriz de código por la derecha, se transcribe el mensaje en una cadena de números y se manda el mensaje. \n",
        "\n",
        "La persona que debe recibir el mensaje conoce la matriz de codigo. El o ella arrelgan el mensaje encriptado en una matriz de izquierda a derecha en cada fila, en donde el numero de elementos en una fila conicide con el tamaño de la matriz de código muplicada por la derecha, por el inverso de la matriz de código y puede leer mensaje decodificado.\n",
        "\n",
        "Usted ha recibido el siguiente mensaje que fue encriptado usando la matriz A. Decodifiquelo.\n",
        "\n",
        "```\n",
        "A = matrix([[ 1,  2, -3,  4,  5],\n",
        "        [-2, -5,  8, -8, -9],\n",
        "        [ 1,  2, -2,  7,  9],\n",
        "        [ 1,  1,  0,  6, 12],\n",
        "        [ 2,  4, -6,  8, 11]])\n",
        "```\n",
        "\n",
        "Mensaje\n",
        "\n",
        "47,49,-19,257,487,10,-9,63,137,236, 79,142,-184,372,536,59,70,-40,332,588, \n",
        "\n",
        "la primera fila del mensaje es 47,49,-19,257,487\n",
        "\n",
        "¿Cual es el mensaje?\n",
        "\n",
        "\n",
        "\n",
        "```\n",
        "abc=['A','B','C','D','E','F','G','H','I','J','K','L','M','N','O','P','Q','R','S','T','U','V','W','X','Y','Z',' ']\n",
        "num=['1','2','3','4','5','6','7','8','9','10','11','12','13','14','15','16','17','18','19','20','21','22','23','24','25','26','27']\n",
        "```\n",
        "\n",
        "\n",
        "\n",
        "\n",
        "\n",
        "\n"
      ],
      "metadata": {
        "id": "Yrith54klatR"
      }
    },
    {
      "cell_type": "code",
      "source": [
        "#Matriz de código\n",
        "A=np.array([[ 1,  2, -3,  4,  5],\n",
        "        [-2, -5,  8, -8, -9],\n",
        "        [ 1,  2, -2,  7,  9],\n",
        "        [ 1,  1,  0,  6, 12],\n",
        "        [ 2,  4, -6,  8, 11]])"
      ],
      "metadata": {
        "id": "8qwn9X5QlDGd"
      },
      "execution_count": 202,
      "outputs": []
    },
    {
      "cell_type": "code",
      "source": [
        "#Matriz de mensaje\n",
        "M=np.array([[47,49,-19,257,487],\n",
        "           [10,-9,63,137,236],\n",
        "           [79,142,-184,372,536],\n",
        "           [59,70,-40,332,588]])"
      ],
      "metadata": {
        "id": "oGp9Yimllj8M"
      },
      "execution_count": 203,
      "outputs": []
    },
    {
      "cell_type": "code",
      "source": [
        "AI=np.linalg.inv(A)\n",
        "AI"
      ],
      "metadata": {
        "id": "qUf17YAmm8j7",
        "colab": {
          "base_uri": "https://localhost:8080/"
        },
        "outputId": "6525423e-529a-4dd6-ea77-d15e14555ffd"
      },
      "execution_count": 204,
      "outputs": [
        {
          "output_type": "execute_result",
          "data": {
            "text/plain": [
              "array([[ 14.,   1.,  -2.,   1.,  -5.],\n",
              "       [ 22.,  -7.,  -4.,   6., -19.],\n",
              "       [ 13.,  -3.,  -2.,   3., -10.],\n",
              "       [ -2.,   1.,   1.,  -1.,   2.],\n",
              "       [ -2.,  -0.,  -0.,  -0.,   1.]])"
            ]
          },
          "metadata": {},
          "execution_count": 204
        }
      ]
    },
    {
      "cell_type": "code",
      "source": [
        "mensaje=M@AI\n",
        "mensaje"
      ],
      "metadata": {
        "colab": {
          "base_uri": "https://localhost:8080/"
        },
        "id": "A1IwbXwOohQg",
        "outputId": "7273e58e-971f-475d-8169-23f63ce9ce04"
      },
      "execution_count": 205,
      "outputs": [
        {
          "output_type": "execute_result",
          "data": {
            "text/plain": [
              "array([[ 1., 18.,  5., 27., 25.],\n",
              "       [15., 21., 27.,  8.,  1.],\n",
              "       [22.,  9., 14.,  7., 27.],\n",
              "       [ 6., 21., 14., 27., 27.]])"
            ]
          },
          "metadata": {},
          "execution_count": 205
        }
      ]
    },
    {
      "cell_type": "code",
      "source": [
        "mensajel=np.array([1, 18,  5, 27, 25, 15, 21, 27,  8,  1, 22, 9, 14, 7, 27, 6, 21, 14, 27, 27])"
      ],
      "metadata": {
        "id": "Chbb9Tt7rQPy"
      },
      "execution_count": 206,
      "outputs": []
    },
    {
      "cell_type": "code",
      "source": [
        "dic={'num':[i for i in range(1,28)],'abc':['A','B','C','D','E','F','G','H','I','J','K','L','M','N','O','P','Q','R','S','T','U','V','W','X','Y','Z',' ']}"
      ],
      "metadata": {
        "id": "IjoFehjBvuvs"
      },
      "execution_count": 207,
      "outputs": []
    },
    {
      "cell_type": "code",
      "source": [
        "df=pd.DataFrame(dic)\n",
        "df"
      ],
      "metadata": {
        "colab": {
          "base_uri": "https://localhost:8080/",
          "height": 896
        },
        "id": "jvp1G3XQpe-G",
        "outputId": "f38bd88d-0142-43a4-9beb-bdbdeb12831d"
      },
      "execution_count": 208,
      "outputs": [
        {
          "output_type": "execute_result",
          "data": {
            "text/plain": [
              "    num abc\n",
              "0     1   A\n",
              "1     2   B\n",
              "2     3   C\n",
              "3     4   D\n",
              "4     5   E\n",
              "5     6   F\n",
              "6     7   G\n",
              "7     8   H\n",
              "8     9   I\n",
              "9    10   J\n",
              "10   11   K\n",
              "11   12   L\n",
              "12   13   M\n",
              "13   14   N\n",
              "14   15   O\n",
              "15   16   P\n",
              "16   17   Q\n",
              "17   18   R\n",
              "18   19   S\n",
              "19   20   T\n",
              "20   21   U\n",
              "21   22   V\n",
              "22   23   W\n",
              "23   24   X\n",
              "24   25   Y\n",
              "25   26   Z\n",
              "26   27    "
            ],
            "text/html": [
              "\n",
              "  <div id=\"df-7fedeccf-96e8-422d-8907-6f37014280df\">\n",
              "    <div class=\"colab-df-container\">\n",
              "      <div>\n",
              "<style scoped>\n",
              "    .dataframe tbody tr th:only-of-type {\n",
              "        vertical-align: middle;\n",
              "    }\n",
              "\n",
              "    .dataframe tbody tr th {\n",
              "        vertical-align: top;\n",
              "    }\n",
              "\n",
              "    .dataframe thead th {\n",
              "        text-align: right;\n",
              "    }\n",
              "</style>\n",
              "<table border=\"1\" class=\"dataframe\">\n",
              "  <thead>\n",
              "    <tr style=\"text-align: right;\">\n",
              "      <th></th>\n",
              "      <th>num</th>\n",
              "      <th>abc</th>\n",
              "    </tr>\n",
              "  </thead>\n",
              "  <tbody>\n",
              "    <tr>\n",
              "      <th>0</th>\n",
              "      <td>1</td>\n",
              "      <td>A</td>\n",
              "    </tr>\n",
              "    <tr>\n",
              "      <th>1</th>\n",
              "      <td>2</td>\n",
              "      <td>B</td>\n",
              "    </tr>\n",
              "    <tr>\n",
              "      <th>2</th>\n",
              "      <td>3</td>\n",
              "      <td>C</td>\n",
              "    </tr>\n",
              "    <tr>\n",
              "      <th>3</th>\n",
              "      <td>4</td>\n",
              "      <td>D</td>\n",
              "    </tr>\n",
              "    <tr>\n",
              "      <th>4</th>\n",
              "      <td>5</td>\n",
              "      <td>E</td>\n",
              "    </tr>\n",
              "    <tr>\n",
              "      <th>5</th>\n",
              "      <td>6</td>\n",
              "      <td>F</td>\n",
              "    </tr>\n",
              "    <tr>\n",
              "      <th>6</th>\n",
              "      <td>7</td>\n",
              "      <td>G</td>\n",
              "    </tr>\n",
              "    <tr>\n",
              "      <th>7</th>\n",
              "      <td>8</td>\n",
              "      <td>H</td>\n",
              "    </tr>\n",
              "    <tr>\n",
              "      <th>8</th>\n",
              "      <td>9</td>\n",
              "      <td>I</td>\n",
              "    </tr>\n",
              "    <tr>\n",
              "      <th>9</th>\n",
              "      <td>10</td>\n",
              "      <td>J</td>\n",
              "    </tr>\n",
              "    <tr>\n",
              "      <th>10</th>\n",
              "      <td>11</td>\n",
              "      <td>K</td>\n",
              "    </tr>\n",
              "    <tr>\n",
              "      <th>11</th>\n",
              "      <td>12</td>\n",
              "      <td>L</td>\n",
              "    </tr>\n",
              "    <tr>\n",
              "      <th>12</th>\n",
              "      <td>13</td>\n",
              "      <td>M</td>\n",
              "    </tr>\n",
              "    <tr>\n",
              "      <th>13</th>\n",
              "      <td>14</td>\n",
              "      <td>N</td>\n",
              "    </tr>\n",
              "    <tr>\n",
              "      <th>14</th>\n",
              "      <td>15</td>\n",
              "      <td>O</td>\n",
              "    </tr>\n",
              "    <tr>\n",
              "      <th>15</th>\n",
              "      <td>16</td>\n",
              "      <td>P</td>\n",
              "    </tr>\n",
              "    <tr>\n",
              "      <th>16</th>\n",
              "      <td>17</td>\n",
              "      <td>Q</td>\n",
              "    </tr>\n",
              "    <tr>\n",
              "      <th>17</th>\n",
              "      <td>18</td>\n",
              "      <td>R</td>\n",
              "    </tr>\n",
              "    <tr>\n",
              "      <th>18</th>\n",
              "      <td>19</td>\n",
              "      <td>S</td>\n",
              "    </tr>\n",
              "    <tr>\n",
              "      <th>19</th>\n",
              "      <td>20</td>\n",
              "      <td>T</td>\n",
              "    </tr>\n",
              "    <tr>\n",
              "      <th>20</th>\n",
              "      <td>21</td>\n",
              "      <td>U</td>\n",
              "    </tr>\n",
              "    <tr>\n",
              "      <th>21</th>\n",
              "      <td>22</td>\n",
              "      <td>V</td>\n",
              "    </tr>\n",
              "    <tr>\n",
              "      <th>22</th>\n",
              "      <td>23</td>\n",
              "      <td>W</td>\n",
              "    </tr>\n",
              "    <tr>\n",
              "      <th>23</th>\n",
              "      <td>24</td>\n",
              "      <td>X</td>\n",
              "    </tr>\n",
              "    <tr>\n",
              "      <th>24</th>\n",
              "      <td>25</td>\n",
              "      <td>Y</td>\n",
              "    </tr>\n",
              "    <tr>\n",
              "      <th>25</th>\n",
              "      <td>26</td>\n",
              "      <td>Z</td>\n",
              "    </tr>\n",
              "    <tr>\n",
              "      <th>26</th>\n",
              "      <td>27</td>\n",
              "      <td></td>\n",
              "    </tr>\n",
              "  </tbody>\n",
              "</table>\n",
              "</div>\n",
              "      <button class=\"colab-df-convert\" onclick=\"convertToInteractive('df-7fedeccf-96e8-422d-8907-6f37014280df')\"\n",
              "              title=\"Convert this dataframe to an interactive table.\"\n",
              "              style=\"display:none;\">\n",
              "        \n",
              "  <svg xmlns=\"http://www.w3.org/2000/svg\" height=\"24px\"viewBox=\"0 0 24 24\"\n",
              "       width=\"24px\">\n",
              "    <path d=\"M0 0h24v24H0V0z\" fill=\"none\"/>\n",
              "    <path d=\"M18.56 5.44l.94 2.06.94-2.06 2.06-.94-2.06-.94-.94-2.06-.94 2.06-2.06.94zm-11 1L8.5 8.5l.94-2.06 2.06-.94-2.06-.94L8.5 2.5l-.94 2.06-2.06.94zm10 10l.94 2.06.94-2.06 2.06-.94-2.06-.94-.94-2.06-.94 2.06-2.06.94z\"/><path d=\"M17.41 7.96l-1.37-1.37c-.4-.4-.92-.59-1.43-.59-.52 0-1.04.2-1.43.59L10.3 9.45l-7.72 7.72c-.78.78-.78 2.05 0 2.83L4 21.41c.39.39.9.59 1.41.59.51 0 1.02-.2 1.41-.59l7.78-7.78 2.81-2.81c.8-.78.8-2.07 0-2.86zM5.41 20L4 18.59l7.72-7.72 1.47 1.35L5.41 20z\"/>\n",
              "  </svg>\n",
              "      </button>\n",
              "      \n",
              "  <style>\n",
              "    .colab-df-container {\n",
              "      display:flex;\n",
              "      flex-wrap:wrap;\n",
              "      gap: 12px;\n",
              "    }\n",
              "\n",
              "    .colab-df-convert {\n",
              "      background-color: #E8F0FE;\n",
              "      border: none;\n",
              "      border-radius: 50%;\n",
              "      cursor: pointer;\n",
              "      display: none;\n",
              "      fill: #1967D2;\n",
              "      height: 32px;\n",
              "      padding: 0 0 0 0;\n",
              "      width: 32px;\n",
              "    }\n",
              "\n",
              "    .colab-df-convert:hover {\n",
              "      background-color: #E2EBFA;\n",
              "      box-shadow: 0px 1px 2px rgba(60, 64, 67, 0.3), 0px 1px 3px 1px rgba(60, 64, 67, 0.15);\n",
              "      fill: #174EA6;\n",
              "    }\n",
              "\n",
              "    [theme=dark] .colab-df-convert {\n",
              "      background-color: #3B4455;\n",
              "      fill: #D2E3FC;\n",
              "    }\n",
              "\n",
              "    [theme=dark] .colab-df-convert:hover {\n",
              "      background-color: #434B5C;\n",
              "      box-shadow: 0px 1px 3px 1px rgba(0, 0, 0, 0.15);\n",
              "      filter: drop-shadow(0px 1px 2px rgba(0, 0, 0, 0.3));\n",
              "      fill: #FFFFFF;\n",
              "    }\n",
              "  </style>\n",
              "\n",
              "      <script>\n",
              "        const buttonEl =\n",
              "          document.querySelector('#df-7fedeccf-96e8-422d-8907-6f37014280df button.colab-df-convert');\n",
              "        buttonEl.style.display =\n",
              "          google.colab.kernel.accessAllowed ? 'block' : 'none';\n",
              "\n",
              "        async function convertToInteractive(key) {\n",
              "          const element = document.querySelector('#df-7fedeccf-96e8-422d-8907-6f37014280df');\n",
              "          const dataTable =\n",
              "            await google.colab.kernel.invokeFunction('convertToInteractive',\n",
              "                                                     [key], {});\n",
              "          if (!dataTable) return;\n",
              "\n",
              "          const docLinkHtml = 'Like what you see? Visit the ' +\n",
              "            '<a target=\"_blank\" href=https://colab.research.google.com/notebooks/data_table.ipynb>data table notebook</a>'\n",
              "            + ' to learn more about interactive tables.';\n",
              "          element.innerHTML = '';\n",
              "          dataTable['output_type'] = 'display_data';\n",
              "          await google.colab.output.renderOutput(dataTable, element);\n",
              "          const docLink = document.createElement('div');\n",
              "          docLink.innerHTML = docLinkHtml;\n",
              "          element.appendChild(docLink);\n",
              "        }\n",
              "      </script>\n",
              "    </div>\n",
              "  </div>\n",
              "  "
            ]
          },
          "metadata": {},
          "execution_count": 208
        }
      ]
    },
    {
      "cell_type": "code",
      "source": [
        "for h in mensajel:\n",
        "  print(df.iloc[h-1,1])\n"
      ],
      "metadata": {
        "colab": {
          "base_uri": "https://localhost:8080/"
        },
        "id": "sZ1Ne5gPp09n",
        "outputId": "be5c692c-2a7d-4b6f-8b99-79c6907106cd"
      },
      "execution_count": 209,
      "outputs": [
        {
          "output_type": "stream",
          "name": "stdout",
          "text": [
            "A\n",
            "R\n",
            "E\n",
            " \n",
            "Y\n",
            "O\n",
            "U\n",
            " \n",
            "H\n",
            "A\n",
            "V\n",
            "I\n",
            "N\n",
            "G\n",
            " \n",
            "F\n",
            "U\n",
            "N\n",
            " \n",
            " \n"
          ]
        }
      ]
    },
    {
      "cell_type": "markdown",
      "source": [
        "2. Construir un programa que permita realizar la multiplicacion de dos \n",
        "matrices. El programa debe establecer si las matrices se pueden multiplicar."
      ],
      "metadata": {
        "id": "lkr8tjkrlGdo"
      }
    },
    {
      "cell_type": "code",
      "source": [
        "def Matrix_multiplication(M1:\"Matrix\", M2:\"Matrix\"):\n",
        "  M1s=M1.shape[1]\n",
        "  M2s=M2.shape[0]\n",
        "  \n",
        "  while M1s!=M2s:\n",
        "    print('No es posible realizar la operación,', end='')\n",
        "    print(' recuerda que el número de filas de la primer matriz debe ser igual al número de columnas de la segunda.')\n",
        "    break\n",
        "\n",
        "  else:\n",
        "#PARA MULTIPLICAR LAS MATRICES RESULTANTES\n",
        "#El resultado, será otra matriz con el número de filas de la primera y el número de columnas de la segunda.\n",
        "#Creo una lista vacia que representará cada una de las filas de la matriz resultante\n",
        "    M3=[]\n",
        "#Para crear la matriz 3 necesito iterar por el número de filas de la matriz 1 y agregar el número de columnas de la matriz 2 \n",
        "    for i in range(M1.shape[0]):\n",
        "      M3.append([0]*M2.shape[1])\n",
        "#Para multiplicar las matrices debo iterar en sus filas y columnas\n",
        "#Itero a través del número de filas de la matriz 1\n",
        "    for i in range (M1.shape[0]):\n",
        "#Itero a través del número de columnas de la matriz 2\n",
        "      for o in range(M2.shape[1]):\n",
        "#Itero a tavés del número de filas de la matriz 2\n",
        "        for k in range(M1.shape[1]):\n",
        "#Cada elemento de la M3 será el resultado multiplicar los elementos de la fila i (N1) de la matriz 1 por la columna o (M2) de la matriz 2 y sumando  sus resultados\n",
        "          M3[i][o]+= M1[i][k]*M2[k][o]\n",
        "\n",
        "#Creo una matriz en dónde sus elementos serán las filas resultantes luego de hacer las operaciones\n",
        "    Matriz3=[]\n",
        "    for g in M3:\n",
        "      Matriz3.append(g)\n",
        "    print(f'La matriz resultante es:')\n",
        "    return sympy.Matrix(Matriz3)\n"
      ],
      "metadata": {
        "id": "kkoP30K9jmJn"
      },
      "execution_count": 210,
      "outputs": []
    },
    {
      "cell_type": "markdown",
      "source": [
        "*Prueba de funcionamiento del código*"
      ],
      "metadata": {
        "id": "p7YecCQSoEvV"
      }
    },
    {
      "cell_type": "code",
      "source": [
        "A=np.array([[1,2,3],[3,4,5]])\n",
        "B=np.array([[1,2,3],[3,4,5]])"
      ],
      "metadata": {
        "id": "zp-K46ellMah"
      },
      "execution_count": 211,
      "outputs": []
    },
    {
      "cell_type": "code",
      "source": [
        "Matrix_multiplication(A,B)"
      ],
      "metadata": {
        "colab": {
          "base_uri": "https://localhost:8080/"
        },
        "id": "muRvA7F0kuld",
        "outputId": "43729cd3-ac80-473a-98e2-56951e2da24a"
      },
      "execution_count": 212,
      "outputs": [
        {
          "output_type": "stream",
          "name": "stdout",
          "text": [
            "No es posible realizar la operación, recuerda que el número de filas de la primer matriz debe ser igual al número de columnas de la segunda.\n"
          ]
        }
      ]
    },
    {
      "cell_type": "code",
      "source": [
        "np.random.seed(1)\n",
        "M1=np.random.randint(0,10,(3,4))\n",
        "M2=np.random.randint(0,10,(4,3))\n"
      ],
      "metadata": {
        "id": "Mi-5rH4MoM4d"
      },
      "execution_count": 213,
      "outputs": []
    },
    {
      "cell_type": "code",
      "source": [
        "Matrix_multiplication(M1,M2)"
      ],
      "metadata": {
        "colab": {
          "base_uri": "https://localhost:8080/",
          "height": 95
        },
        "id": "LAbpx9W3oXmQ",
        "outputId": "fbc1bfe9-a897-4ce1-c19b-d6e38e7e00dd"
      },
      "execution_count": 214,
      "outputs": [
        {
          "output_type": "stream",
          "name": "stdout",
          "text": [
            "La matriz resultante es:\n"
          ]
        },
        {
          "output_type": "execute_result",
          "data": {
            "text/plain": [
              "Matrix([\n",
              "[139, 123, 115],\n",
              "[ 56,   9,  43],\n",
              "[ 90,  66, 113]])"
            ],
            "text/latex": "$\\displaystyle \\left[\\begin{matrix}139 & 123 & 115\\\\56 & 9 & 43\\\\90 & 66 & 113\\end{matrix}\\right]$"
          },
          "metadata": {},
          "execution_count": 214
        }
      ]
    },
    {
      "cell_type": "markdown",
      "source": [
        "\n",
        "## Regresión lineal: 1D\n",
        "2. Para los datos generados en el siguiente dataframe  realizar una regresión lineal, empleando  la siguiente ecuación.\n",
        "\n",
        "$\\Theta = (X^T X)^{-1} X^T y$\n",
        "\n",
        "Los parametros theta se corresponden con la siguiente ecuacion de la recta:\n",
        "\n",
        "$y = \\theta^T X =\\theta_0 + \\theta_1 x_1 $\n",
        "\n",
        "```\n",
        "N = 10\n",
        "x1 = np.linspace(-1, 1, N)\n",
        "y = 2*x1 #- 3*x2 + 0.0\n",
        "df = pd.DataFrame({\"Y\":y, \"X1\":x1})\n",
        "\n",
        "df[\"ones\"] = np.ones(N)\n",
        "\n",
        "plt.plot(df.X1,df.Y,\"ro\")\n",
        "\n",
        "X = np.matrix(df[ [\"ones\",\"X1\"] ])\n",
        "np.shape(X)\n",
        "y = np.array([df[\"Y\"]])\n",
        "Y  = np.matrix(np.transpose(y))\n",
        "np.shape(Y)\n",
        "```\n",
        "\n",
        "\n",
        "\n",
        " "
      ],
      "metadata": {
        "id": "tkhci52rmiif"
      }
    },
    {
      "cell_type": "code",
      "source": [
        "N = 10\n",
        "x1 = np.linspace(-1, 1, N)\n",
        "y = 2*x1 \n",
        "df = pd.DataFrame({\"Y\":y, \"X1\":x1})\n",
        "\n",
        "df[\"ones\"] = np.ones(N)\n",
        "\n",
        "plt.plot(df.X1,df.Y,\"ms\")\n",
        "plt.title('Gráfico de los puntos', size=14)\n",
        "plt.xlabel('X1', size=12)\n",
        "plt.ylabel('y', size=12)"
      ],
      "metadata": {
        "colab": {
          "base_uri": "https://localhost:8080/",
          "height": 317
        },
        "id": "YiCXayt41P78",
        "outputId": "a25d787c-408b-41ec-cc58-b31ff4a16611"
      },
      "execution_count": 215,
      "outputs": [
        {
          "output_type": "execute_result",
          "data": {
            "text/plain": [
              "Text(0, 0.5, 'y')"
            ]
          },
          "metadata": {},
          "execution_count": 215
        },
        {
          "output_type": "display_data",
          "data": {
            "text/plain": [
              "<Figure size 432x288 with 1 Axes>"
            ],
            "image/png": "[encoded data removed]"
          },
          "metadata": {
            "needs_background": "light"
          }
        }
      ]
    },
    {
      "cell_type": "code",
      "source": [
        "X = np.matrix(df[ [\"ones\",\"X1\"] ])\n",
        "np.shape(X)\n",
        "y = np.array([df[\"Y\"]])\n",
        "Y  = np.matrix(np.transpose(y))\n",
        "np.shape(Y)"
      ],
      "metadata": {
        "colab": {
          "base_uri": "https://localhost:8080/"
        },
        "id": "XRfY2mW91UPp",
        "outputId": "cd95d0af-9c3f-4709-817a-47b75d834513"
      },
      "execution_count": 216,
      "outputs": [
        {
          "output_type": "execute_result",
          "data": {
            "text/plain": [
              "(10, 1)"
            ]
          },
          "metadata": {},
          "execution_count": 216
        }
      ]
    },
    {
      "cell_type": "markdown",
      "source": [
        "- $\\Theta = (X^T X)^{-1} X^T y$"
      ],
      "metadata": {
        "id": "F0N8C1931xLP"
      }
    },
    {
      "cell_type": "code",
      "source": [
        "θ=(X.T@X).I @X.T@Y\n",
        "θ"
      ],
      "metadata": {
        "colab": {
          "base_uri": "https://localhost:8080/"
        },
        "id": "9fMsRnN_03-I",
        "outputId": "92219d46-006a-4b14-dd31-4cebdbb00155"
      },
      "execution_count": 217,
      "outputs": [
        {
          "output_type": "execute_result",
          "data": {
            "text/plain": [
              "matrix([[-5.55111512e-17],\n",
              "        [ 2.00000000e+00]])"
            ]
          },
          "metadata": {},
          "execution_count": 217
        }
      ]
    },
    {
      "cell_type": "markdown",
      "source": [
        "## Regresión lineal: 2D\n",
        "3. La ecuación anterior puede ser aplicada a sistemas n-dimensionales, como se describie en el siguiente ejercicio. Suponga que se tiene un sistema físico con dos caracteristiacs X1,X2 que se corresponden con un predicción  Y. \n",
        "\n",
        "- Encontrar el plano que ajusta los datos, para los datos sinteticos dados mas abajo , a través de:\n",
        "\\begin{equation}\n",
        "\\Theta = (X^T X)^{-1} X^T y\n",
        "\\end{equation}\n",
        "\n",
        "- Construya el plano en 3D, donde se evidencia los puntos y el plano de ajustes.\n",
        "\n",
        "$y = \\theta^T X =\\theta_0 + \\theta_1 X_1+ \\theta_2 X_2$\n",
        "\n",
        "\n",
        "```\n",
        "N = 200\n",
        "x1 = np.linspace(-1, 1, N) \n",
        "x2 = np.linspace(-1, 1, N)\n",
        "\n",
        "X1, X2 = np.meshgrid(x1,x2)\n",
        "Y = 0.2*X1 - 0.5*X2 - 1.0\n",
        "\n",
        "# Ecuaciones parametricas del mismo plano:\n",
        "alpha = 2*np.random.random(N)-1\n",
        "beta  = 2*np.random.random(N)-1\n",
        "x1 = alpha\n",
        "x2 = beta\n",
        "y = 0.2*alpha - 0.5*beta - 1.0\n",
        "\n",
        "fig, ax = plt.subplots(subplot_kw={\"projection\": \"3d\"})\n",
        "surf = ax.scatter(x1, x2, y, color=\"green\")\n",
        "ax.set_xlabel(\"X1\")\n",
        "ax.set_ylabel(\"X2\")\n",
        "ax.set_zlabel(\"Y1\")\n",
        "\n",
        "```\n",
        "\n",
        "\n",
        "DataFrame\n",
        "```\n",
        "# Regresion bi-lineal\n",
        "df = pd.DataFrame({\"Y\":y, \"X1\":x1,\"X2\":x2})\n",
        "df[\"ones\"] = np.ones(N)\n",
        "\n",
        "\n",
        "y = np.reshape(df.Y.values, (N,1))\n",
        "X = df[[\"ones\",\"X1\",\"X2\"]].values\n",
        "X = np.matrix(X)\n",
        "```"
      ],
      "metadata": {
        "id": "KMh0ovxxxuWA"
      }
    },
    {
      "cell_type": "code",
      "source": [
        "N = 200\n",
        "x1 = np.linspace(-1, 1, N) \n",
        "x2 = np.linspace(-1, 1, N)\n",
        "\n",
        "X1, X2 = np.meshgrid(x1,x2)\n",
        "Y = 0.2*X1 - 0.5*X2 - 1.0\n",
        "fig, ax = plt.subplots(subplot_kw={\"projection\": \"3d\"})\n",
        "surf = ax.plot_surface(X1, X2, Y)\n",
        "ax.set_xlabel(\"X1\")\n",
        "ax.set_ylabel(\"X2\")\n",
        "ax.set_zlabel(\"Y1\")\n",
        "\n",
        "# Ecuaciones parametricas del mismo plano:\n",
        "alpha = 2*np.random.random(N)-1\n",
        "beta  = 2*np.random.random(N)-1\n",
        "x1 = alpha\n",
        "x2 = beta\n",
        "y = 0.2*alpha - 0.5*beta - 1.0\n",
        "\n",
        "fig, ax = plt.subplots(subplot_kw={\"projection\": \"3d\"})\n",
        "surf = ax.scatter(x1, x2, y, color=\"green\")"
      ],
      "metadata": {
        "colab": {
          "base_uri": "https://localhost:8080/",
          "height": 479
        },
        "id": "ShGQ9pUZ4ViC",
        "outputId": "8fa49822-3dfe-41df-edc0-3b6b3a5fd50a"
      },
      "execution_count": 218,
      "outputs": [
        {
          "output_type": "display_data",
          "data": {
            "text/plain": [
              "<Figure size 432x288 with 1 Axes>"
            ],
            "image/png": "[encoded data removed]"
          },
          "metadata": {
            "needs_background": "light"
          }
        },
        {
          "output_type": "display_data",
          "data": {
            "text/plain": [
              "<Figure size 432x288 with 1 Axes>"
            ],
            "image/png": "[encoded data removed]"
          },
          "metadata": {
            "needs_background": "light"
          }
        }
      ]
    },
    {
      "cell_type": "code",
      "source": [
        "# Regresion bi-lineal\n",
        "df = pd.DataFrame({\"Y\":y, \"X1\":x1,\"X2\":x2})\n",
        "df[\"ones\"] = np.ones(N)\n",
        "\n",
        "\n",
        "y = np.reshape(df.Y.values, (N,1))\n",
        "X = df[[\"ones\",\"X1\",\"X2\"]].values\n",
        "X = np.matrix(X)"
      ],
      "metadata": {
        "id": "_Lq9NVUa3uHl"
      },
      "execution_count": 219,
      "outputs": []
    },
    {
      "cell_type": "markdown",
      "source": [
        "\n",
        "- $\\Theta = (X^T X)^{-1} X^T y$\n"
      ],
      "metadata": {
        "id": "QLSNE7kG4phW"
      }
    },
    {
      "cell_type": "code",
      "source": [
        "X = np.matrix(df[ [\"ones\",\"X1\"]])\n",
        "y = np.array([df[\"Y\"]])\n",
        "Y  = np.matrix(np.transpose(y))"
      ],
      "metadata": {
        "id": "QYH1nyKE4Jly"
      },
      "execution_count": 220,
      "outputs": []
    },
    {
      "cell_type": "code",
      "source": [
        "θ=(X.T@X).I @X.T@Y\n",
        "θ"
      ],
      "metadata": {
        "colab": {
          "base_uri": "https://localhost:8080/"
        },
        "id": "QwXnjQXX8OSj",
        "outputId": "652c2255-b0ef-4880-f4b1-659331f3cd72"
      },
      "execution_count": 221,
      "outputs": [
        {
          "output_type": "execute_result",
          "data": {
            "text/plain": [
              "matrix([[-1.03249492],\n",
              "        [ 0.24741014]])"
            ]
          },
          "metadata": {},
          "execution_count": 221
        }
      ]
    },
    {
      "cell_type": "markdown",
      "metadata": {
        "id": "pKmGWUKqNOnY"
      },
      "source": [
        "## Autovalores y autovectores\n",
        "\n",
        "Se sabe que un sistema físico es gobernado por las ecuaciones,\n",
        "\n",
        "\n",
        "\n",
        "$$\n",
        "\\begin{matrix}\n",
        "x' &=& 2x&-y&+z, \\\\\n",
        "y' &=&   &3y&-1z, \\\\\n",
        "z' &=& 2x&+y&+3z,\n",
        "\\end{matrix}\n",
        "$$\n",
        "\n",
        "donde $x',y',z'$ son las derivadas, en forma vectorial esto se puede representar como $\\mathbf{r}'=A\\mathbf{r}$ que tiene solución analítica general, $\\mathbf{r} = e^{At} \\mathbf{r}(0)$.<br> \n",
        "a) Diagonalize $A$.<br> \n",
        "\n",
        "b) Use el hecho de que $f(A) = U f(D) U^{-1}$ para encontrar $x(t),y(t),z(t)$ en el intervalo de tiempo $[0,2]$.<br>\n",
        "c) Grafique $x(t),y(t),z(t)$ (use la condición inicial $\\mathbf{r}(0)=(1,1,2))$.<br> \n",
        "d) Compare el resultado a la solución analítica,\n",
        "\n",
        "$$\n",
        "\\begin{align}\n",
        "2x & = x(0)(e^{2t}(1+e^{2t}-2t)) + y(0) (-2te^{2t}) + z(0)(e^{2t}(-1+e^{2t})), \\\\\n",
        "2y & = x(0)(-e^{2t}(-1+e^{2t}-2t)) + y(0)(2(t+1)e^{2t}) + z(0)(-e^{2t}(-1+e^{2t})), \\\\\n",
        "2z & = x(0)(e^{2t}(-1+e^{2t}+2t)) + y(0)(2te^{2t}) + z(0)(e^{2t}(1+e^{2t})).\n",
        "\\end{align}\n",
        "$$"
      ]
    },
    {
      "cell_type": "code",
      "source": [
        "v = np.array([0,1,2])\n",
        "fD = np.diag(np.exp(v))"
      ],
      "metadata": {
        "id": "zVhPeAHZOT_4"
      },
      "execution_count": 222,
      "outputs": []
    },
    {
      "cell_type": "code",
      "source": [
        "A = np.array([[2,-1,1],[0,3,-1],[2,1,3]])"
      ],
      "metadata": {
        "id": "EvcdkV_uOWrx"
      },
      "execution_count": 223,
      "outputs": []
    },
    {
      "cell_type": "code",
      "source": [
        "#Vectores y valores propios de la matriz A\n",
        "e, P = np.linalg.eig(A)"
      ],
      "metadata": {
        "id": "xljk7-0HOYmd"
      },
      "execution_count": 224,
      "outputs": []
    },
    {
      "cell_type": "code",
      "source": [
        "#Matriz P, formada por los autovectores de A\n",
        "P_ = np.matrix(P)"
      ],
      "metadata": {
        "id": "rQ9iBS0EOaZ1"
      },
      "execution_count": 225,
      "outputs": []
    },
    {
      "cell_type": "code",
      "source": [
        "#Matriz P inversa\n",
        "P_.I"
      ],
      "metadata": {
        "colab": {
          "base_uri": "https://localhost:8080/"
        },
        "id": "aiECZtQMOfPj",
        "outputId": "b76bb30b-3332-4f6f-d9ed-f548fb0974a1"
      },
      "execution_count": 226,
      "outputs": [
        {
          "output_type": "execute_result",
          "data": {
            "text/plain": [
              "matrix([[-8.66025404e-01-0.00000000e+00j,\n",
              "          1.92296269e-16+0.00000000e+00j,\n",
              "         -8.66025404e-01-0.00000000e+00j],\n",
              "        [ 4.20815161e-01-5.13495506e+07j,\n",
              "          8.53827863e-01-5.13495506e+07j,\n",
              "          4.33012702e-01+2.47886750e-08j],\n",
              "        [ 4.45210243e-01+5.13495506e+07j,\n",
              "          8.78222945e-01+5.13495506e+07j,\n",
              "          4.33012702e-01-2.47886750e-08j]])"
            ]
          },
          "metadata": {},
          "execution_count": 226
        }
      ]
    },
    {
      "cell_type": "code",
      "source": [
        "D=np.diag(e)\n",
        "D"
      ],
      "metadata": {
        "colab": {
          "base_uri": "https://localhost:8080/"
        },
        "id": "-XXWHYpNO2wh",
        "outputId": "4141203e-1875-407e-cbb7-eaeed745afec"
      },
      "execution_count": 227,
      "outputs": [
        {
          "output_type": "execute_result",
          "data": {
            "text/plain": [
              "array([[4.+0.00000000e+00j, 0.+0.00000000e+00j, 0.+0.00000000e+00j],\n",
              "       [0.+0.00000000e+00j, 2.+1.68652966e-08j, 0.+0.00000000e+00j],\n",
              "       [0.+0.00000000e+00j, 0.+0.00000000e+00j, 2.-1.68652966e-08j]])"
            ]
          },
          "metadata": {},
          "execution_count": 227
        }
      ]
    },
    {
      "cell_type": "code",
      "source": [
        "A_=P_@D@P_.I\n",
        "A_"
      ],
      "metadata": {
        "colab": {
          "base_uri": "https://localhost:8080/"
        },
        "id": "yoadIb2WUMq7",
        "outputId": "cfd3c08b-c87d-4cd0-c0a4-75b0ad46f772"
      },
      "execution_count": 228,
      "outputs": [
        {
          "output_type": "execute_result",
          "data": {
            "text/plain": [
              "matrix([[ 2.00000000e+00+4.22907063e-10j,\n",
              "         -1.00000000e+00+4.22907063e-10j,\n",
              "          1.00000000e+00-2.16182500e-24j],\n",
              "        [ 1.88737914e-15-4.45946263e-10j,\n",
              "          3.00000000e+00-4.45946263e-10j,\n",
              "         -1.00000000e+00-1.79300708e-24j],\n",
              "        [ 2.00000000e+00+2.91325159e-11j,\n",
              "          1.00000000e+00+2.91325159e-11j,\n",
              "          3.00000000e+00+1.30125162e-24j]])"
            ]
          },
          "metadata": {},
          "execution_count": 228
        }
      ]
    },
    {
      "cell_type": "markdown",
      "source": [
        "$x(t)=\\frac{1}{2}e^{2t}(-4t-3e^{2t}-1)$\n",
        "\n",
        "$y(t)=\\frac{1}{2}e^{2t}(4t-3e^{2t}+5)$\n",
        "\n",
        "$z(t)=\\frac{1}{2}e^{2t}(4t+3e^{2t}+1)$"
      ],
      "metadata": {
        "id": "Llod9zQiX1te"
      }
    },
    {
      "cell_type": "code",
      "source": [
        "def x(t):\n",
        "  return ((np.exp(2*t))*(-4*t-3*np.exp(2*t)-1))/2"
      ],
      "metadata": {
        "id": "FHNqkxhbXzz4"
      },
      "execution_count": 229,
      "outputs": []
    },
    {
      "cell_type": "code",
      "source": [
        "def y(t):\n",
        "  return ((np.exp(2*t))*(4*t-3*np.exp(2*t)+5))/2"
      ],
      "metadata": {
        "id": "2ziWorT7ZPXX"
      },
      "execution_count": 230,
      "outputs": []
    },
    {
      "cell_type": "code",
      "source": [
        "def z(t):\n",
        "  return ((np.exp(2*t))*(4*t+3*np.exp(2*t)+1))/2"
      ],
      "metadata": {
        "id": "mBXZ6rIOZe-0"
      },
      "execution_count": 231,
      "outputs": []
    },
    {
      "cell_type": "code",
      "source": [
        "t=np.linspace(0,2,100)\n",
        "plt.figure(figsize=(8,6))\n",
        "plt.plot(t,x(t),'--',linewidth=2,label='$x(t)$')\n",
        "plt.plot(t,y(t), linestyle = 'dotted', linewidth=2 ,label='$y(t)$')\n",
        "plt.plot(t,z(t), linewidth=2,label='$z(t)$')\n",
        "plt.title('Gráfica de las funciones', size=16)\n",
        "plt.xlabel('t', size=12)\n",
        "plt.grid()\n",
        "plt.legend()\n"
      ],
      "metadata": {
        "colab": {
          "base_uri": "https://localhost:8080/",
          "height": 426
        },
        "id": "uR1BhkEIZpGQ",
        "outputId": "ef7971f4-e559-4365-f3bd-d389cc13cd63"
      },
      "execution_count": 239,
      "outputs": [
        {
          "output_type": "execute_result",
          "data": {
            "text/plain": [
              "<matplotlib.legend.Legend at 0x7f9f0ed8ed10>"
            ]
          },
          "metadata": {},
          "execution_count": 239
        },
        {
          "output_type": "display_data",
          "data": {
            "text/plain": [
              "<Figure size 576x432 with 1 Axes>"
            ],
            "image/png": "[encoded data removed]"
          },
          "metadata": {
            "needs_background": "light"
          }
        }
      ]
    }
  ]
}