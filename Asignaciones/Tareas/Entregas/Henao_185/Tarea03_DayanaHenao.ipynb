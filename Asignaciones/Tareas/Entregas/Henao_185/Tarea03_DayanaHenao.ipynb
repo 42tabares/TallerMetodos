{
 "cells": [
  {
   "cell_type": "markdown",
   "metadata": {
    "id": "pQSt9-mvLVMa"
   },
   "source": [
    "# Taller \n",
    "\n",
    "\n",
    "### Resolver los siguientes problemas, por el metodo de la biseccion, newton, punto fijo y secante, realizar una comparación del error como función del las numero de iteraciones\n",
    "\n",
    "\n",
    "1. Una particula parte del reposo sobre un plano inclinado uniforme, cuyo ángulo \n",
    "$\\theta$ cambia con una rapidez constante de : \n",
    "\n",
    "\\begin{equation}\n",
    "\\frac{\\mathrm{d}\\theta}{\\mathrm{d} t} = \\omega < 0\n",
    "\\end{equation}\n",
    "\n",
    "Al final de t segundos, la posición del objeto esta dada por: \n",
    "\n",
    "\n",
    "\\begin{equation}\n",
    "x(t) = -\\frac{g}{2\\omega^2} \\left( \\frac{e^{\\omega t}-e^{-\\omega t}}{2} -\\sin\\omega t\\right)\n",
    "\\end{equation}\n",
    "\n",
    "\n",
    "Suponga que la partícula se desplazo 0.51m en 1s. Encuentre, con una exactitud de $10^{-5}$, la rapidez $\\omega$ con que $\\theta$ cambia. Suponga que $g=9.76m/s$\n",
    "\n",
    "\n",
    "![Plano Inclinado](https://raw.githubusercontent.com/hernansalinas/Metodos_Computacionales_taller/main/sesiones/images/ecuacion_1_variable/Fig0.png)\n",
    "\n",
    "2. Determinar el ángulo del sector circular que es igual a un cuarto del área de la circunferencia \n",
    "\n",
    "\n",
    "3. Resolver la siguiente situación\n",
    "\n",
    "En el diseño de los vehiculos para todo tipo de terreno,  es necesario tener encuentra fallas cuando se trata de liberar dos tipos de obstáculos. Una es la falla por rozamiento, y ocurre cuando el vehiculo \n",
    "intenta cruzar un obstáculo que hace que su fondo toque el suelo. La otra recibie el nombre de falla por colision de la defensa delantera y ocurre cuando el vehiculo desciende por una zanja y la defensa delantera toca el suelo.\n",
    "\n",
    "\n",
    "\n",
    "La figura muestra las componentes asociados al segundo tipo  de falla. En ella se indeca el ángulo máximo $\\alpha$ que puede alcanzar un vehiculo cuando $\\beta$ es el angulo maximo en que no ocurre la falla \n",
    "por rozamiento y satisface la siguiente ecuación: \n",
    "\n",
    "\n",
    "\\begin{equation}\n",
    "A \\sin(\\alpha) \\cos(\\alpha)+B \\sin^2(\\alpha) - C \\cos(\\alpha) -  E  \\sin(\\alpha)=0\n",
    "\\end{equation}\n",
    "\n",
    "donde; \n",
    "\\begin{equation}\n",
    "A = l \\sin(\\beta)\n",
    "\\end{equation}\n",
    "\n",
    "\\begin{equation}\n",
    "B = l \\cos(\\beta)\n",
    "\\end{equation}\n",
    "\\begin{equation}\n",
    "C = (h + 0.5 D )\\sin(\\beta) - 0.5 D \\tan(\\beta)\n",
    "\\end{equation}\n",
    "\n",
    "\\begin{equation}\n",
    "E = (h + 0.5 D ) \\cos(\\beta) - 0.5 * D\n",
    "\\end{equation}\n",
    "\n",
    "\n",
    "Para $l=89$pulg, $h=49$pul, $D=55$, $\\beta=11.5$ , el angulo se aproximara a 33. Verificar este resultados\n",
    "\n",
    "\n",
    "![Ruedas](https://github.com/hernansalinas/Curso_Metodos_Computacionales/blob/main/Tareas/figuras/fig1.png?raw=true)\n",
    "\n",
    "\n",
    "Referencias: Numerical Analysis Book by J. Douglas Faires and Richard L. Burden\n",
    "\n",
    "\n"
   ]
  },
  {
   "cell_type": "markdown",
   "metadata": {
    "id": "UvlcPwmcfUiz"
   },
   "source": [
    "\n",
    "\n",
    "\n",
    "4. Construir un fractal empleando el metodo de Newton-Raphson, \n",
    "(Reproducir código y entender)\n",
    "\\begin{equation}\n",
    "z_{n+1} = z_n -a \\frac{f(z)}{f'(z)} \n",
    "\\end{equation}\n",
    "\n",
    "\n",
    "\n",
    "\\begin{equation}\n",
    "f'(z) = \\frac{ f(z+h)+f(z) }{h}\n",
    "\\end{equation}"
   ]
  },
  {
   "cell_type": "code",
   "execution_count": null,
   "metadata": {
    "id": "I-2riPetfWrM"
   },
   "outputs": [],
   "source": [
    "import numpy as np\n",
    "import matplotlib.pylab as plt\n",
    "from PIL import Image\n"
   ]
  },
  {
   "cell_type": "code",
   "execution_count": null,
   "metadata": {
    "id": "coo74WrCoVBh"
   },
   "outputs": [],
   "source": [
    "Npx_X = 80 #Numero de pixeles en x\n",
    "Npx_Y = 80 #Numero de pixeles en y\n",
    "\n",
    "image = Image.new(\"RGB\", (Npx_X, Npx_Y)) #Creacion de la imagen inicial\n",
    "\n",
    "npx = np.arange(0, Npx_X)\n",
    "npy = np.arange(0, Npx_Y)\n",
    "\n",
    "xmin = -1\n",
    "xmax = 1\n",
    "ymin = -1\n",
    "ymax = 1\n",
    "#Transformación al plano complejo en un rectangulo (xmin, xmax), (ymin, ymax)\n",
    "zx = npx * (xmax - xmin) / (Npx_X - 1)   + xmin\n",
    "zy = npy * (ymax-ymin) / (Npx_Y - 1) + ymin\n"
   ]
  },
  {
   "cell_type": "code",
   "execution_count": null,
   "metadata": {
    "id": "wMsrzKovpVG7"
   },
   "outputs": [],
   "source": [
    "#Definicion  la funcion y las derivada \n",
    "def f(z): \n",
    "  return z**3 - 1\n",
    "\n",
    "def fp(z): \n",
    "  return 3*z**2\n",
    "\n",
    "h = 1E-4\n",
    "def fpn(z, h): \n",
    "  return (f(z+h)-f(z))/h\n",
    "  \n"
   ]
  },
  {
   "cell_type": "code",
   "execution_count": null,
   "metadata": {
    "id": "pZC8_84kpVJ1"
   },
   "outputs": [],
   "source": [
    "a = 0.2\n",
    "Niteraciones = 120\n",
    "eps = 1E-8\n",
    "\n",
    "x = - 1\n",
    "for zx_ in zx:\n",
    "  x = x + 1 \n",
    "  y = -1\n",
    "  for zy_ in zy: \n",
    "      y = y + 1\n",
    "      Z_0 = complex(zx_, zy_)\n",
    "    \n",
    "      for i in range(0, Niteraciones): \n",
    "        Z = Z_0 - a * f(Z_0)/fp(Z_0)\n",
    "\n",
    "        if( abs(Z-Z_0)<= eps):\n",
    "          break \n",
    "          \n",
    "        Z_0 = Z\n",
    "      #print(i)\n",
    "      #print(i)\n",
    "      r, g, b = i % 4 *64 , i % 8 *16, i% 16* 16\n",
    "      \n",
    "      image.putpixel((x,y), (r,g,b) )\n"
   ]
  },
  {
   "cell_type": "code",
   "execution_count": null,
   "metadata": {
    "colab": {
     "base_uri": "https://localhost:8080/",
     "height": 285
    },
    "id": "hfzvlcD6pVM0",
    "outputId": "d9df339b-e63d-4513-c45c-979e1b0286c5"
   },
   "outputs": [
    {
     "data": {
      "text/plain": [
       "<matplotlib.image.AxesImage at 0x7f82a1568250>"
      ]
     },
     "execution_count": 545,
     "metadata": {},
     "output_type": "execute_result"
    },
    {
     "data": {
      "image/png": "[encoded data removed]",
      "text/plain": [
       "<Figure size 432x288 with 1 Axes>"
      ]
     },
     "metadata": {
      "needs_background": "light"
     },
     "output_type": "display_data"
    }
   ],
   "source": [
    "plt.imshow(image)\n",
    "#plt.xlim(400, 600)\n",
    "#plt.ylim(400, 523)\n"
   ]
  },
  {
   "cell_type": "markdown",
   "metadata": {
    "id": "vjeF31N6w2um"
   },
   "source": [
    "# Solución\n",
    "**Dayana Andrea Henao Arbeláez\n",
    "C.C 1001469185**"
   ]
  },
  {
   "cell_type": "code",
   "execution_count": null,
   "metadata": {
    "id": "_Cn185z-5iJZ"
   },
   "outputs": [],
   "source": [
    "import matplotlib.pyplot as plt\n",
    "import numpy as np\n",
    "import seaborn as sns\n",
    "import pandas as pd\n",
    "from scipy import optimize"
   ]
  },
  {
   "cell_type": "markdown",
   "metadata": {
    "id": "-cXOA9cGyWIU"
   },
   "source": [
    "# Primer ejercicio"
   ]
  },
  {
   "cell_type": "markdown",
   "metadata": {
    "id": "OUXJwUjzxHeq"
   },
   "source": [
    "Una particula parte del reposo sobre un plano inclinado uniforme, cuyo ángulo \n",
    "$\\theta$ cambia con una rapidez constante de : \n",
    "\n",
    "\\begin{equation}\n",
    "\\frac{\\mathrm{d}\\theta}{\\mathrm{d} t} = \\omega < 0\n",
    "\\end{equation}\n",
    "\n",
    "Al final de t segundos, la posición del objeto esta dada por: \n",
    "\n",
    "\n",
    "\\begin{equation}\n",
    "x(t) = -\\frac{g}{2\\omega^2} \\left( \\frac{e^{\\omega t}-e^{-\\omega t}}{2}-\\sin\\omega t \\right)\n",
    "\\end{equation}\n",
    "\n",
    "\n",
    "Suponga que la partícula se desplazo 0.51m en 1s. Encuentre, con una exactitud de $10^{-5}$, la rapidez $\\omega$ con que $\\theta$ cambia. Suponga que $g=9.76m/s$\n",
    "\n",
    "\n",
    "![Plano Inclinado](https://raw.githubusercontent.com/hernansalinas/Metodos_Computacionales_taller/main/sesiones/images/ecuacion_1_variable/Fig0.png)"
   ]
  },
  {
   "cell_type": "code",
   "execution_count": null,
   "metadata": {
    "id": "arz5fSrfkR0C"
   },
   "outputs": [],
   "source": [
    "G=9.76\n",
    "X=0.51\n",
    "T=1 "
   ]
  },
  {
   "cell_type": "code",
   "execution_count": null,
   "metadata": {
    "id": "OpWvyljNei3J"
   },
   "outputs": [],
   "source": [
    "def v(x,w,t,g):\n",
    "  return x+((g)/(2*w**2))*(((np.e**(w*t)-(np.e**(-w*t)))/2)-np.sin(w*t))"
   ]
  },
  {
   "cell_type": "code",
   "execution_count": null,
   "metadata": {
    "colab": {
     "base_uri": "https://localhost:8080/",
     "height": 303
    },
    "id": "QKr-6uXanAmn",
    "outputId": "9216a41e-79f5-4964-8101-9c891f3a35c2"
   },
   "outputs": [
    {
     "data": {
      "image/png": "[encoded data removed]",
      "text/plain": [
       "<Figure size 432x288 with 1 Axes>"
      ]
     },
     "metadata": {
      "needs_background": "light"
     },
     "output_type": "display_data"
    }
   ],
   "source": [
    "w=np.linspace(-np.pi,np.pi,50)\n",
    "plt.plot(w,v(X,w,T,G), '-.', color='blue')\n",
    "plt.title('Gráfica de la función', fontsize=14)\n",
    "plt.xticks(fontsize=12)\n",
    "plt.yticks(fontsize=12)\n",
    "plt.xlabel('w', fontsize=14)\n",
    "plt.ylabel('f(w)', fontsize=14)\n",
    "plt.grid()"
   ]
  },
  {
   "cell_type": "code",
   "execution_count": null,
   "metadata": {
    "id": "RV1aPU0zzw5H"
   },
   "outputs": [],
   "source": [
    "G=9.76\n",
    "X=0.51\n",
    "T=1 "
   ]
  },
  {
   "cell_type": "code",
   "execution_count": null,
   "metadata": {
    "id": "Pt_zbBYUxXVz"
   },
   "outputs": [],
   "source": [
    "def v(w):\n",
    "  return X+(G/(2*w**2))*(((np.e**(w*T)-(np.e**(-w*T)))/2)-np.sin(w*T))"
   ]
  },
  {
   "cell_type": "code",
   "execution_count": null,
   "metadata": {
    "colab": {
     "base_uri": "https://localhost:8080/"
    },
    "id": "HjNWwD_MtEK3",
    "outputId": "add1f188-7813-4bdb-828e-dac92df90ca7"
   },
   "outputs": [
    {
     "data": {
      "text/plain": [
       "-0.3135242462158203"
      ]
     },
     "execution_count": 552,
     "metadata": {},
     "output_type": "execute_result"
    }
   ],
   "source": [
    "# Método de Bisección\n",
    "optimize.bisect(v,-0.5,1, xtol=1E-5)"
   ]
  },
  {
   "cell_type": "code",
   "execution_count": null,
   "metadata": {
    "colab": {
     "base_uri": "https://localhost:8080/"
    },
    "id": "ea0mcGy3ymtY",
    "outputId": "fa3e4f81-0331-4697-d0a0-e4fffa73eb66"
   },
   "outputs": [
    {
     "data": {
      "text/plain": [
       "array(-0.31352098)"
      ]
     },
     "execution_count": 553,
     "metadata": {},
     "output_type": "execute_result"
    }
   ],
   "source": [
    "# Método del punto fijo \n",
    "optimize.fixed_point(lambda w: w-v(w), -0.5, xtol=1E-5)"
   ]
  },
  {
   "cell_type": "code",
   "execution_count": null,
   "metadata": {
    "colab": {
     "base_uri": "https://localhost:8080/"
    },
    "id": "HZ16wn-KzjpL",
    "outputId": "76ef2dd9-1cdd-4636-ee88-12f86c018959"
   },
   "outputs": [
    {
     "name": "stdout",
     "output_type": "stream",
     "text": [
      "4.88*(0.5*2.71828182845905**w - cos(w) + 0.5*2.71828182845905**(-w))/w**2 - 9.76*(2.71828182845905**w/2 - sin(w) - 2.71828182845905**(-w)/2)/w**3\n"
     ]
    }
   ],
   "source": [
    "import sympy as sp \n",
    "from sympy import sin\n",
    "w = sp.Symbol('w') \n",
    "y = X+(G/(2*w**2))*(((np.e**(w*T)-(np.e**(-w*T)))/2)-sin(w*T))\n",
    "print(y.diff(w))\n"
   ]
  },
  {
   "cell_type": "code",
   "execution_count": null,
   "metadata": {
    "id": "5r5GEcGEUTeb"
   },
   "outputs": [],
   "source": [
    "def d(w):\n",
    "  return 4.88*(0.5*2.71828182845905**w - np.cos(w) + 0.5*2.71828182845905**(-w))/w**2 - 9.76*(2.71828182845905**w/2 - np.sin(w) - 2.71828182845905**(-w)/2)/w**3"
   ]
  },
  {
   "cell_type": "code",
   "execution_count": null,
   "metadata": {
    "colab": {
     "base_uri": "https://localhost:8080/"
    },
    "id": "rheQeDiY2SXt",
    "outputId": "1c18f72b-ea93-4c84-998a-389e70d41ed0"
   },
   "outputs": [
    {
     "data": {
      "text/plain": [
       "-0.31352098392655275"
      ]
     },
     "execution_count": 556,
     "metadata": {},
     "output_type": "execute_result"
    }
   ],
   "source": [
    "# Método de newton\n",
    "optimize.newton(v,0.2,d)"
   ]
  },
  {
   "cell_type": "code",
   "execution_count": null,
   "metadata": {
    "colab": {
     "base_uri": "https://localhost:8080/"
    },
    "id": "c31928xW8ZfW",
    "outputId": "81acb23b-7f8e-442e-b703-20de17e1bbc3"
   },
   "outputs": [
    {
     "data": {
      "text/plain": [
       "-0.3135209839265545"
      ]
     },
     "execution_count": 557,
     "metadata": {},
     "output_type": "execute_result"
    }
   ],
   "source": [
    "# Método secante\n",
    "optimize.newton(v,0.2)"
   ]
  },
  {
   "cell_type": "markdown",
   "metadata": {
    "id": "mEtQ49FJxQKD"
   },
   "source": [
    "La rapidez con la que el ángulo cambia es: \n",
    "$w=-0.313520 $ $m/s$"
   ]
  },
  {
   "cell_type": "markdown",
   "metadata": {
    "id": "fxjcPo_f0pxl"
   },
   "source": [
    "# Segundo ejercicio"
   ]
  },
  {
   "cell_type": "markdown",
   "metadata": {
    "id": "GtvpgqCF06S2"
   },
   "source": [
    "Determinar el ángulo del sector circular que es igual a un cuarto del área de la circunferencia."
   ]
  },
  {
   "cell_type": "markdown",
   "metadata": {
    "id": "SOcgu94A4_Kb"
   },
   "source": [
    "\\begin{equation}\n",
    "A = r^2 \\frac{\\theta}{2} - \\frac{r^2}{2} \\sin(\\theta)\n",
    "\\end{equation}\n",
    "\n",
    "\n",
    "\\begin{equation}\n",
    "\\frac{\\pi r^2}{4} = r^2 \\frac{\\theta}{2} - \\frac{r^2}{2} \\sin(\\theta)\n",
    "\\end{equation}\n",
    "\n",
    "\n",
    "\\begin{equation}\n",
    "\\theta - \\sin \\theta = \\frac{\\pi}{2}\n",
    "\\end{equation}\n",
    "\n",
    "\n",
    "\n",
    "\\begin{equation}\n",
    "f(\\theta) =\\theta - \\sin \\theta - \\frac{\\pi}{2}=0\n",
    "\\end{equation}"
   ]
  },
  {
   "cell_type": "code",
   "execution_count": null,
   "metadata": {
    "id": "Eswq6Mrc0tiX"
   },
   "outputs": [],
   "source": [
    "def z(θ):\n",
    "  return θ-np.sin(θ)-np.pi/2"
   ]
  },
  {
   "cell_type": "code",
   "execution_count": null,
   "metadata": {
    "colab": {
     "base_uri": "https://localhost:8080/",
     "height": 303
    },
    "id": "DTcLSN2V5wjD",
    "outputId": "0173ec24-234f-4a85-fda2-a048649c53aa"
   },
   "outputs": [
    {
     "data": {
      "image/png": "[encoded data removed]",
      "text/plain": [
       "<Figure size 432x288 with 1 Axes>"
      ]
     },
     "metadata": {
      "needs_background": "light"
     },
     "output_type": "display_data"
    }
   ],
   "source": [
    "θ=np.linspace(-2*np.pi,2*np.pi,100)\n",
    "plt.plot(θ,z(θ),'--', color='purple')\n",
    "plt.title('Gráfica de la función', fontsize=14)\n",
    "plt.xlabel(\"θ\", fontsize=14 )\n",
    "plt.ylabel( \"f(θ)\",fontsize=14 )\n",
    "plt.xticks(fontsize = 12)\n",
    "plt.yticks(fontsize = 12)\n",
    "plt.grid()\n"
   ]
  },
  {
   "cell_type": "code",
   "execution_count": null,
   "metadata": {
    "colab": {
     "base_uri": "https://localhost:8080/"
    },
    "id": "0DiqAX7X6UhO",
    "outputId": "329ee50e-9e26-48f2-d16d-ef829a9f2642"
   },
   "outputs": [
    {
     "data": {
      "text/plain": [
       "2.3098814530455942"
      ]
     },
     "execution_count": 560,
     "metadata": {},
     "output_type": "execute_result"
    }
   ],
   "source": [
    "# Método de Bisección\n",
    "optimize.bisect(z,-2*np.pi,2*np.pi, xtol=1E-5)"
   ]
  },
  {
   "cell_type": "code",
   "execution_count": null,
   "metadata": {
    "colab": {
     "base_uri": "https://localhost:8080/",
     "height": 38
    },
    "id": "jswwmmVXc_yX",
    "outputId": "75651660-0910-4372-cb59-b026b53817af"
   },
   "outputs": [
    {
     "data": {
      "text/latex": [
       "$\\displaystyle 1 - \\cos{\\left(θ \\right)}$"
      ],
      "text/plain": [
       "1 - cos(θ)"
      ]
     },
     "execution_count": 561,
     "metadata": {},
     "output_type": "execute_result"
    }
   ],
   "source": [
    "import sympy as sp \n",
    "from sympy import sin\n",
    "θ = sp.Symbol('θ') \n",
    "y = θ-sp.sin(θ)-np.pi/2\n",
    "y.diff(θ)"
   ]
  },
  {
   "cell_type": "code",
   "execution_count": null,
   "metadata": {
    "colab": {
     "base_uri": "https://localhost:8080/"
    },
    "id": "xBQlMetE71vj",
    "outputId": "1cfe7440-265a-4ae1-b180-3864145019fd"
   },
   "outputs": [
    {
     "data": {
      "text/plain": [
       "2.309881460010057"
      ]
     },
     "execution_count": 562,
     "metadata": {},
     "output_type": "execute_result"
    }
   ],
   "source": [
    "# Método de newton\n",
    "optimize.newton(z,0.1,lambda θ: 1-np.cos(θ))"
   ]
  },
  {
   "cell_type": "code",
   "execution_count": null,
   "metadata": {
    "colab": {
     "base_uri": "https://localhost:8080/"
    },
    "id": "d7XdTiAr78hB",
    "outputId": "94b1a815-2978-438a-93a8-e9ab92d56c47"
   },
   "outputs": [
    {
     "data": {
      "text/plain": [
       "array(2.30988146)"
      ]
     },
     "execution_count": 563,
     "metadata": {},
     "output_type": "execute_result"
    }
   ],
   "source": [
    "# Método del punto fijo \n",
    "optimize.fixed_point(lambda θ: θ-z(θ), 0.1)"
   ]
  },
  {
   "cell_type": "code",
   "execution_count": null,
   "metadata": {
    "colab": {
     "base_uri": "https://localhost:8080/"
    },
    "id": "MTrMHiOu8Cnc",
    "outputId": "57d8dce8-94fc-4308-e52d-ee2db3a2acaa"
   },
   "outputs": [
    {
     "data": {
      "text/plain": [
       "2.309881460010009"
      ]
     },
     "execution_count": 564,
     "metadata": {},
     "output_type": "execute_result"
    }
   ],
   "source": [
    "# Método secante\n",
    "optimize.newton(z,0.1)"
   ]
  },
  {
   "cell_type": "code",
   "execution_count": null,
   "metadata": {
    "colab": {
     "base_uri": "https://localhost:8080/"
    },
    "id": "o5G64NnbubK9",
    "outputId": "26e27866-eea1-4e72-c11e-4b00dcb3c187"
   },
   "outputs": [
    {
     "data": {
      "text/plain": [
       "132.3464584350586"
      ]
     },
     "execution_count": 565,
     "metadata": {},
     "output_type": "execute_result"
    }
   ],
   "source": [
    "# Ángulo en grados\n",
    "np.rad2deg(2.3098814530455942)"
   ]
  },
  {
   "cell_type": "markdown",
   "metadata": {
    "id": "779dOXZEu6qC"
   },
   "source": [
    "El ángulo que hace que el sector circular sea igual a un cuarto del área de la circunferencia es de 132º o 2.3 radianes aproximadamente."
   ]
  },
  {
   "cell_type": "markdown",
   "metadata": {
    "id": "TW6yOA6o8tED"
   },
   "source": [
    "# Tercer ejercicio"
   ]
  },
  {
   "cell_type": "markdown",
   "metadata": {
    "id": "7U-8zLws9ENK"
   },
   "source": [
    "\n",
    "En el diseño de los vehiculos para todo tipo de terreno,  es necesario tener encuentra fallas cuando se trata de liberar dos tipos de obstáculos. Una es la falla por rozamiento, y ocurre cuando el vehiculo \n",
    "intenta cruzar un obstáculo que hace que su fondo toque el suelo. La otra recibie el nombre de falla por colision de la defensa delantera y ocurre cuando el vehiculo desciende por una zanja y la defensa delantera toca el suelo.\n",
    "\n",
    "\n",
    "\n",
    "La figura muestra las componentes asociados al segundo tipo  de falla. En ella se indica el ángulo máximo $\\alpha$ que puede alcanzar un vehiculo cuando $\\beta$ es el angulo maximo en que no ocurre la falla \n",
    "por rozamiento y satisface la siguiente ecuación: \n",
    "\n",
    "\n",
    "\\begin{equation}\n",
    "A \\sin(\\alpha) \\cos(\\alpha)+B \\sin^2(\\alpha) - C \\cos(\\alpha) -  E  \\sin(\\alpha)=0\n",
    "\\end{equation}\n",
    "\n",
    "donde; \n",
    "\\begin{equation}\n",
    "A = l \\sin(\\beta)\n",
    "\\end{equation}\n",
    "\n",
    "\\begin{equation}\n",
    "B = l \\cos(\\beta)\n",
    "\\end{equation}\n",
    "\\begin{equation}\n",
    "C = (h + 0.5 D )\\sin(\\beta) - 0.5 D \\tan(\\beta)\n",
    "\\end{equation}\n",
    "\n",
    "\\begin{equation}\n",
    "E = (h + 0.5 D ) \\cos(\\beta) - 0.5 * D\n",
    "\\end{equation}\n",
    "\n",
    "\n",
    "Para $l=89$pulg, $h=49$pul, $D=55$, $\\beta=11.5$ , el angulo se aproximara a 33. Verificar este resultados\n",
    "\n",
    "\n",
    "![Ruedas](https://github.com/hernansalinas/Curso_Metodos_Computacionales/blob/main/Tareas/figuras/fig1.png?raw=true)"
   ]
  },
  {
   "cell_type": "code",
   "execution_count": null,
   "metadata": {
    "id": "CLD7D3HI9Dpf"
   },
   "outputs": [],
   "source": [
    "l = 89\n",
    "h = 49\n",
    "D = 55\n",
    "β = np.deg2rad(11.5)"
   ]
  },
  {
   "cell_type": "code",
   "execution_count": null,
   "metadata": {
    "id": "OZpIeJ-99ax-"
   },
   "outputs": [],
   "source": [
    "A = l * np.sin(β)\n",
    "B = l * np.cos(β)\n",
    "C = (h + 0.5 * D) * np.sin(β) - 0.5 * D * np.tan(β)\n",
    "E = (h + 0.5 * D) * np.cos(β) - 0.5 * D"
   ]
  },
  {
   "cell_type": "code",
   "execution_count": null,
   "metadata": {
    "colab": {
     "base_uri": "https://localhost:8080/"
    },
    "id": "_VmBXTUflUI2",
    "outputId": "14aa1e99-623c-41e6-b3e5-c6fd2a87c409"
   },
   "outputs": [
    {
     "name": "stdout",
     "output_type": "stream",
     "text": [
      "17.74374616313055 87.21329871125383 9.656708748763851 47.464239903493464\n"
     ]
    }
   ],
   "source": [
    "print(A,B,C,E)"
   ]
  },
  {
   "cell_type": "code",
   "execution_count": null,
   "metadata": {
    "id": "MHunwpoy9p7i"
   },
   "outputs": [],
   "source": [
    "def f(α):\n",
    "  return A*np.sin(α)* np.cos(α)+B*(np.sin(α))**2-C*np.cos(α)-E*np.sin(α)"
   ]
  },
  {
   "cell_type": "code",
   "execution_count": null,
   "metadata": {
    "colab": {
     "base_uri": "https://localhost:8080/",
     "height": 303
    },
    "id": "8vM5JUkk9tcY",
    "outputId": "46b7ad0d-fb4c-47c6-e006-5a940c609b91"
   },
   "outputs": [
    {
     "data": {
      "image/png": "[encoded data removed]",
      "text/plain": [
       "<Figure size 432x288 with 1 Axes>"
      ]
     },
     "metadata": {
      "needs_background": "light"
     },
     "output_type": "display_data"
    }
   ],
   "source": [
    "α = np.linspace(0, np.pi/2, 100)\n",
    "plt.plot(α,f(α), color= 'slateblue')\n",
    "plt.title('Gráfica de la función', fontsize=14)\n",
    "plt.xticks(fontsize=12)\n",
    "plt.yticks(fontsize=12)\n",
    "plt.xlabel('α', fontsize=14)\n",
    "plt.ylabel('f(α)', fontsize=14)\n",
    "plt.grid()"
   ]
  },
  {
   "cell_type": "code",
   "execution_count": null,
   "metadata": {
    "colab": {
     "base_uri": "https://localhost:8080/"
    },
    "id": "ClmHaKx5I0Nc",
    "outputId": "8ecffe5a-52eb-4d10-ca81-84d958637237"
   },
   "outputs": [
    {
     "data": {
      "text/plain": [
       "0.5754730121937094"
      ]
     },
     "execution_count": 571,
     "metadata": {},
     "output_type": "execute_result"
    }
   ],
   "source": [
    "# Método de Bisección\n",
    "optimize.bisect(f,0,np.pi/2)"
   ]
  },
  {
   "cell_type": "code",
   "execution_count": null,
   "metadata": {
    "colab": {
     "base_uri": "https://localhost:8080/",
     "height": 60
    },
    "id": "gARUV-659le6",
    "outputId": "b4d5a844-6e8a-441b-bfae-6999913d5963"
   },
   "outputs": [
    {
     "data": {
      "text/latex": [
       "$\\displaystyle - 17.7437461631305 \\sin^{2}{\\left(α \\right)} + 174.426597422508 \\sin{\\left(α \\right)} \\cos{\\left(α \\right)} + 9.65670874876385 \\sin{\\left(α \\right)} + 17.7437461631305 \\cos^{2}{\\left(α \\right)} - 47.4642399034935 \\cos{\\left(α \\right)}$"
      ],
      "text/plain": [
       "-17.7437461631305*sin(α)**2 + 174.426597422508*sin(α)*cos(α) + 9.65670874876385*sin(α) + 17.7437461631305*cos(α)**2 - 47.4642399034935*cos(α)"
      ]
     },
     "execution_count": 572,
     "metadata": {},
     "output_type": "execute_result"
    }
   ],
   "source": [
    "import sympy as sp \n",
    "from sympy import sin\n",
    "from sympy import cos\n",
    "α = sp.Symbol('α') \n",
    "p = A*sin(α)*cos(α)+B*(sin(α))**2-C*cos(α)-E*sin(α)\n",
    "p.diff(α)"
   ]
  },
  {
   "cell_type": "code",
   "execution_count": null,
   "metadata": {
    "id": "75VKpCBcTCX5"
   },
   "outputs": [],
   "source": [
    "def t(α):\n",
    "  return -17.7437461631305*np.sin(α)**2 + 174.426597422508*np.sin(α)*np.cos(α) + 9.65670874876385*np.sin(α) + 17.7437461631305*np.cos(α)**2 - 47.4642399034935*np.cos(α)\n"
   ]
  },
  {
   "cell_type": "code",
   "execution_count": null,
   "metadata": {
    "colab": {
     "base_uri": "https://localhost:8080/"
    },
    "id": "48og2JNB9i-S",
    "outputId": "9074bb48-82cc-4e0d-8914-c61dce332806"
   },
   "outputs": [
    {
     "data": {
      "text/plain": [
       "0.5754730121943988"
      ]
     },
     "execution_count": 574,
     "metadata": {},
     "output_type": "execute_result"
    }
   ],
   "source": [
    "# Método de newton\n",
    "optimize.newton(f,0.4,t)"
   ]
  },
  {
   "cell_type": "code",
   "execution_count": null,
   "metadata": {
    "colab": {
     "base_uri": "https://localhost:8080/"
    },
    "id": "yFEIBTQmpbr5",
    "outputId": "71b94ff8-5395-4bc8-c9f4-82a8d957b6b6"
   },
   "outputs": [
    {
     "data": {
      "text/plain": [
       "0.5754730121943986"
      ]
     },
     "execution_count": 575,
     "metadata": {},
     "output_type": "execute_result"
    }
   ],
   "source": [
    "#Método de la secate\n",
    "optimize.newton(f,0.4)"
   ]
  },
  {
   "cell_type": "code",
   "execution_count": null,
   "metadata": {
    "colab": {
     "base_uri": "https://localhost:8080/"
    },
    "id": "lKxaaJ2Ttq18",
    "outputId": "e6cf7c73-cbb2-4029-8226-ccec2d7dbef9"
   },
   "outputs": [
    {
     "data": {
      "text/plain": [
       "32.97217482238011"
      ]
     },
     "execution_count": 576,
     "metadata": {},
     "output_type": "execute_result"
    }
   ],
   "source": [
    "# Ángulo en grados\n",
    "np.rad2deg(0.5754730121937094)"
   ]
  },
  {
   "cell_type": "markdown",
   "metadata": {
    "id": "NIOcm5DTtyE0"
   },
   "source": [
    "El ángulo máximo que puede alcanzar del vehículo es aproximadamente igual a 33º"
   ]
  },
  {
   "cell_type": "markdown",
   "metadata": {
    "id": "A2LOepgU_95Y"
   },
   "source": [
    "# Cuarto punto"
   ]
  },
  {
   "cell_type": "markdown",
   "metadata": {
    "id": "SSPgQ5JzAADe"
   },
   "source": [
    " Construir un fractal empleando el metodo de Newton-Raphson, \n",
    "(Reproducir código y entender)\n",
    "\\begin{equation}\n",
    "z_{n+1} = z_n -a \\frac{f(z)}{f'(z)} \n",
    "\\end{equation}"
   ]
  },
  {
   "cell_type": "code",
   "execution_count": null,
   "metadata": {
    "id": "doiKpIESABVR"
   },
   "outputs": [],
   "source": [
    "import numpy as np\n",
    "import matplotlib.pylab as plt\n",
    "from PIL import Image"
   ]
  },
  {
   "cell_type": "code",
   "execution_count": null,
   "metadata": {
    "id": "5geSkZL6APgW"
   },
   "outputs": [],
   "source": [
    "Npx_X = 80 #Numero de pixeles en x\n",
    "Npx_Y = 80 #Numero de pixeles en y\n",
    "\n",
    "image = Image.new(\"RGB\", (Npx_X, Npx_Y)) #Creacion de la imagen inicial\n",
    "\n",
    "npx = np.arange(0, Npx_X)\n",
    "npy = np.arange(0, Npx_Y)\n",
    "\n",
    "xmin = -1\n",
    "xmax = 1\n",
    "ymin = -1\n",
    "ymax = 1\n",
    "#Transformación al plano complejo en un rectangulo (xmin, xmax), (ymin, ymax)\n",
    "zx = npx * (xmax - xmin) / (Npx_X - 1)   + xmin\n",
    "zy = npy * (ymax-ymin) / (Npx_Y - 1) + ymin"
   ]
  },
  {
   "cell_type": "code",
   "execution_count": null,
   "metadata": {
    "id": "4OTowO_BARpk"
   },
   "outputs": [],
   "source": [
    "#Definicion  la funcion y las derivada \n",
    "def f(z): \n",
    "  return np.sin(z)\n",
    "\n",
    "def fp(z): \n",
    "  return np.cos(z)\n",
    "\n",
    "h = 1E-4\n",
    "def fpn(z, h): \n",
    "  return (f(z+h)-f(z))/h\n",
    "  "
   ]
  },
  {
   "cell_type": "code",
   "execution_count": null,
   "metadata": {
    "id": "c_4Fh7ZhAd8Y"
   },
   "outputs": [],
   "source": [
    "a = 0.2\n",
    "Niteraciones = 120\n",
    "eps = 1E-8\n",
    "\n",
    "x = - 1\n",
    "for zx_ in zx:\n",
    "  x = x + 1 \n",
    "  y = -1\n",
    "  for zy_ in zy: \n",
    "      y = y + 1\n",
    "      Z_0 = complex(zx_, zy_)\n",
    "    \n",
    "      for i in range(0, Niteraciones): \n",
    "        Z = Z_0 - a * f(Z_0)/fp(Z_0)\n",
    "\n",
    "        if( abs(Z-Z_0)<= eps):\n",
    "          break \n",
    "          \n",
    "        Z_0 = Z\n",
    "      #print(i)\n",
    "      #print(i)\n",
    "      r, g, b = i % 4 *64 , i % 8 *16, i% 16* 16\n",
    "      \n",
    "      image.putpixel((x,y), (r,g,b) )"
   ]
  },
  {
   "cell_type": "code",
   "execution_count": null,
   "metadata": {
    "colab": {
     "base_uri": "https://localhost:8080/",
     "height": 285
    },
    "id": "C1PoK2U8AiEe",
    "outputId": "5467b7e4-d361-49b7-93d7-be7588211b93"
   },
   "outputs": [
    {
     "data": {
      "text/plain": [
       "<matplotlib.image.AxesImage at 0x7f82a1c33090>"
      ]
     },
     "execution_count": 581,
     "metadata": {},
     "output_type": "execute_result"
    },
    {
     "data": {
      "image/png": "[encoded data removed]",
      "text/plain": [
       "<Figure size 432x288 with 1 Axes>"
      ]
     },
     "metadata": {
      "needs_background": "light"
     },
     "output_type": "display_data"
    }
   ],
   "source": [
    "plt.imshow(image)\n",
    "#plt.xlim(400, 600)\n",
    "#plt.ylim(400, 523)\n"
   ]
  }
 ],
 "metadata": {
  "colab": {
   "collapsed_sections": [
    "-cXOA9cGyWIU"
   ],
   "name": "Tarea03_SolucionEcuaciones_DayanaHenao.ipynb",
   "provenance": []
  },
  "kernelspec": {
   "display_name": "Python 3 (ipykernel)",
   "language": "python",
   "name": "python3"
  },
  "language_info": {
   "codemirror_mode": {
    "name": "ipython",
    "version": 3
   },
   "file_extension": ".py",
   "mimetype": "text/x-python",
   "name": "python",
   "nbconvert_exporter": "python",
   "pygments_lexer": "ipython3",
   "version": "3.8.12"
  }
 },
 "nbformat": 4,
 "nbformat_minor": 1
}
