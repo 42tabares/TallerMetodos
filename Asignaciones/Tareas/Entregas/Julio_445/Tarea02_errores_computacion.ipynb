{
 "cells": [
  {
   "cell_type": "markdown",
   "metadata": {
    "id": "reiKGKshRPay"
   },
   "source": [
    "Santiago Julio Dávila - CC 1000413445\n",
    "\n",
    "## Exponencial, serie alternante (serieEn)\n",
    "Objetivo: Analizar el uso de la cancelación substractiva\n",
    "\n",
    "\n",
    "Copia textual del libro  [Computational Physics. ](https://www.dropbox.com/s/n06ul2r4l65khl6/Computational%20Physics%20-%20Problem%20Solving%20with%20Computers%2C%203527406263.pdf?dl=0)\n",
    "\n",
    "- Write a program that calculates $e^{-x}$ \n",
    "\n",
    "\\begin{equation}\n",
    "e^{-x}=\\sum_{n=0}^{N}  (-1)^n \\frac{x^{n}}{n!}\n",
    "\\end{equation}\n",
    "\n",
    "\n",
    "- Calculate your series for $x \\le 1$ and compare it to the built-in function\n",
    "exp(x) (you may assume that the built-in exponential function is exact).\n",
    "You should pick an N for which the next term in the series is no more\n",
    "than $10^{-7}$ of the sum up to that point\n",
    "\n",
    "\\begin{equation}\n",
    "\\left| \\frac{(-x)^{N+1}}{(N+1)!} \\right | \\le \\left| 10^{-7} \\sum_{N=0}^{N} \\frac{(-x)^{n}}{n!} \\right|\n",
    "\\end{equation}\n",
    "\n",
    "- Examine the terms in the series for $x\\approx 10$ and observe the significant subtractive cancellations that occur when large terms add together to give small answers. In particular, print out the near-perfect cancellation\n",
    "at $n \\approx x − 1$.\n",
    "\n",
    "- See if better precision is obtained by being clever and using exp(−x) = 1/ exp(x) for large x values. This eliminates subtractive cancellation, but does not eliminate all roundoff errors\n",
    "\n",
    "- By progressively increasing x from 1 to 10, and then from 10 to 100, use your program to determine experimentally when the series starts to lose accuracy, and when the series no longer converges\n",
    "\n",
    "- Make a series of graphs of the error versus N for different values of x."
   ]
  },
  {
   "cell_type": "code",
   "execution_count": 175,
   "metadata": {},
   "outputs": [
    {
     "name": "stdout",
     "output_type": "stream",
     "text": [
      "Using matplotlib backend: Qt5Agg\n",
      "Populating the interactive namespace from numpy and matplotlib\n"
     ]
    },
    {
     "name": "stderr",
     "output_type": "stream",
     "text": [
      "C:\\Users\\Santiago\\anaconda3\\lib\\site-packages\\IPython\\core\\magics\\pylab.py:159: UserWarning: pylab import has clobbered these variables: ['plt', 'exp']\n",
      "`%matplotlib` prevents importing * from pylab and numpy\n",
      "  warn(\"pylab import has clobbered these variables: %s\"  % clobbered +\n"
     ]
    }
   ],
   "source": [
    "# Importar las librerías y módulos necesarios\n",
    "import numpy as np\n",
    "import matplotlib.pylab as plt\n",
    "import random as rd\n",
    "import pandas as pd\n",
    "\n",
    "# Presenta la gráfica en una ventana nueva, si quiere ver la gráfica en el notebook, elimine esta línea.\n",
    "%pylab  "
   ]
  },
  {
   "cell_type": "code",
   "execution_count": 176,
   "metadata": {},
   "outputs": [],
   "source": [
    "# Solución punto a.\n",
    "\n",
    "def expneg_taylor(x,N):\n",
    "    '''\n",
    "    Calcula la aproximación de la función exp(-x) en el punto x\n",
    "    mediante el N-ésimo polinomio de Taylor de dicha función.\n",
    "    \n",
    "    La salida de la función es una tupla cuya primera entrada es\n",
    "    una lista con todos los términos de la sucesión, y su segunda\n",
    "    entrada es la suma de dichos términos, que corresponde a la \n",
    "    aproximación de la función en el punto x.\n",
    "    '''\n",
    "    S=np.zeros(N+1)\n",
    "    for i in range(N+1):\n",
    "         S[i]=(-1)**i*x**i/np.math.factorial(i)\n",
    "    return S, np.sum(S)"
   ]
  },
  {
   "cell_type": "code",
   "execution_count": 177,
   "metadata": {},
   "outputs": [
    {
     "name": "stdout",
     "output_type": "stream",
     "text": [
      "x=0.10141637129953163\n",
      "N=5\n",
      "exp(-x)=0.9035567379690403 (calculada con la serie)\n",
      "exp(-x)=0.9035567394585998 (calculada exactamente)\n",
      "error=1.489559475764679e-09\n"
     ]
    }
   ],
   "source": [
    "# Solución punto b\n",
    "\n",
    "# Define el punto alrededor en el cual se aproximará la función (0<x<1).\n",
    "x=rd.random()\n",
    "n=0\n",
    "exp=expneg_taylor(x,n)\n",
    "\n",
    "# Itera hasta que el N-ésimo término de la sucesión sea menor que 1e-7 de la suma (en valor absoluto).\n",
    "while np.abs(exp[0][-1])>np.abs(1e-7*exp[1]):\n",
    "     n+=1\n",
    "     exp=expneg_taylor(x,n)\n",
    "\n",
    "# Calcula el error entre la aproximación y la función exacta.\n",
    "exp_ex=np.exp(-x)\n",
    "err=np.abs(exp_ex-exp[-1])\n",
    "\n",
    "# Imprime los valores de x, N, los valores de exp(-x) y el error.\n",
    "print(f'x={x}')\n",
    "print(f'N={n}')\n",
    "print(f'exp(-x)={exp[-1]} (calculada con la serie)')\n",
    "print(f'exp(-x)={exp_ex} (calculada exactamente)')\n",
    "print(f'error={err}')\n"
   ]
  },
  {
   "cell_type": "code",
   "execution_count": 179,
   "metadata": {},
   "outputs": [
    {
     "name": "stderr",
     "output_type": "stream",
     "text": [
      "UsageError: Line magic function `%pylab.pyplot` not found.\n"
     ]
    }
   ],
   "source": [
    "# Solución punto c\n",
    "\n",
    "# Define un intervalo entre 0 y 10, y evalúa la aproximación para N=9 y la función en dicho intervalo.\n",
    "X=np.arange(0,30)\n",
    "r=rd.uniform(9,10)\n",
    "Y2=np.array([expneg_taylor(r,n)[-1] for n in X])\n",
    "\n",
    "# Grafica la función evaluada en un punto según el grado N del polinomio de Taylor.\n",
    "plt.figure(figsize=(10,10))\n",
    "plt.title(r'$e^{-x}$ vs. $N$')\n",
    "plt.plot(X,Y2,label=f'x={r}')\n",
    "plt.grid()\n",
    "plt.legend()\n",
    "plt.xlabel(r'$N$')\n",
    "plt.ylabel(r'$f(x,N)$')\n",
    "plt.show()\n",
    "\n",
    "%pylab.pyplot    # Presenta la gráfica en una ventana nueva, si quiere ver la gráfica en el notebook, elimine esta línea."
   ]
  },
  {
   "cell_type": "markdown",
   "metadata": {},
   "source": [
    "Se puede ver en la gráfica que el valor de $e^{-x}$ presenta oscilaciones muy marcadas a medida que se va incrementando el número de iteraciones alrededor de $N=9$. Nótese que estas oscilaciones bajan cuando el grado del polinomio crece significativamente, lo cual coincide con lo esperado, pues el polinomio, en principio, se aproxima bien al punto cuando su grado aumenta."
   ]
  },
  {
   "cell_type": "code",
   "execution_count": 180,
   "metadata": {},
   "outputs": [],
   "source": [
    "# Solución punto d\n",
    "\n",
    "def expneg(x,N):\n",
    "    '''\n",
    "    Calcula la aproximación de la función exp(-x) en el punto x\n",
    "    mediante el inverso del N-ésimo polinomio de Taylor de la función exp(x).\n",
    "    \n",
    "    La salida de la función corresponde a la \n",
    "    aproximación de exp(-x) en el punto x.\n",
    "    '''\n",
    "    \n",
    "    S=np.zeros(N+1)\n",
    "    for i in range(N+1):\n",
    "        S[i]=x**i/np.math.factorial(i)\n",
    "    suma=1/np.sum(S)\n",
    "    return suma\n"
   ]
  },
  {
   "cell_type": "code",
   "execution_count": 181,
   "metadata": {},
   "outputs": [
    {
     "name": "stdout",
     "output_type": "stream",
     "text": [
      "CALCULADO CON LA SERIE ALTERNANTE\n",
      "x=10\n",
      "N=46\n",
      "exp(-x)=4.5399930302259514e-05 (calculada con la serie)\n",
      "exp(-x)=4.5399929762484854e-05 (calculada exactamente)\n",
      "error=5.397746594311414e-13\n"
     ]
    }
   ],
   "source": [
    "# Define el punto alrededor en el cual se aproximará la función (x=10).\n",
    "x0=10\n",
    "n0=0\n",
    "exp0=expneg_taylor(x0,n0)\n",
    "\n",
    "# Itera hasta que el N-ésimo término de la sucesión sea menor que 1e-7 de la suma (en valor absoluto).\n",
    "while np.abs(exp0[0][-1])>np.abs(1e-7*exp0[1]):\n",
    "     n0+=1\n",
    "     exp0=expneg_taylor(x0,n0)\n",
    "\n",
    "# Calcula el error entre la aproximación y la función exacta.\n",
    "exp_ex0=np.exp(-x0)\n",
    "err0=np.abs(exp_ex0-exp0[-1])\n",
    "\n",
    "# Imprime los valores de x, N, los valores de exp(-x) y el error.\n",
    "print('CALCULADO CON LA SERIE ALTERNANTE')\n",
    "print(f'x={x0}')\n",
    "print(f'N={n0}')\n",
    "print(f'exp(-x)={exp0[-1]} (calculada con la serie)')\n",
    "print(f'exp(-x)={exp_ex0} (calculada exactamente)')\n",
    "print(f'error={err0}')"
   ]
  },
  {
   "cell_type": "code",
   "execution_count": 182,
   "metadata": {},
   "outputs": [
    {
     "name": "stdout",
     "output_type": "stream",
     "text": [
      "CALCULADO CON EL INVERSO DE LA SERIE DE TAYLOR\n",
      "x=10\n",
      "N=32\n",
      "exp(-x)=4.539993009718256e-05 (calculada con la serie)\n",
      "exp(-x)=4.5399929762484854e-05 (calculada exactamente)\n",
      "error=3.3469770330902746e-13\n"
     ]
    }
   ],
   "source": [
    "# Define el punto alrededor en el cual se aproximará la función (x=10).\n",
    "x1=10\n",
    "n1=0\n",
    "exp1=expneg(x1,n1)\n",
    "\n",
    "# Itera hasta que el error en la suma sea menor o igual que el error calculado con la alternante.\n",
    "while np.abs(exp1-np.exp(-10))>err0:\n",
    "    n1+=1\n",
    "    exp1=expneg(x1,n1)\n",
    "\n",
    "# Calcula el error entre la aproximación y la función exacta.\n",
    "exp_ex1=np.exp(-x1)\n",
    "err1=np.abs(exp_ex1-exp1)\n",
    "\n",
    "# Imprime los valores de x, N, los valores de exp(-x) y el error.\n",
    "print('CALCULADO CON EL INVERSO DE LA SERIE DE TAYLOR')\n",
    "print(f'x={x1}')\n",
    "print(f'N={n1}')\n",
    "print(f'exp(-x)={exp1} (calculada con la serie)')\n",
    "print(f'exp(-x)={exp_ex1} (calculada exactamente)')\n",
    "print(f'error={err1}')"
   ]
  },
  {
   "cell_type": "markdown",
   "metadata": {},
   "source": [
    "En los resultados de las dos celdas anteriores se muestra en cálculo del número de términos necesarios para que la serie converja. Si se utiliza la serie alternante para aproximar la función, es necesario tener un polinomio de grado 46, mientras que si se utiliza el inverso de la serie positiva, son necesarios 32 términos para lograr el mismo error entre la aproximación y el valor exacto, permitiendo concluir que, en general, utilizar el inverso de la serie positiva garantiza la convergencia más rápidamente que la serie alternante."
   ]
  },
  {
   "cell_type": "code",
   "execution_count": 183,
   "metadata": {},
   "outputs": [
    {
     "name": "stderr",
     "output_type": "stream",
     "text": [
      "UsageError: Line magic function `%pylab.pyplot` not found.\n"
     ]
    }
   ],
   "source": [
    "# Solución punto e\n",
    "\n",
    "# Crea un intervalo entre 1 y 10, y evalúa el noveno polinomio de Taylor para la función en ese intervalo.\n",
    "X0=np.linspace(1,10,100)\n",
    "N0=9\n",
    "Y0=np.array([expneg_taylor(x_,N0)[-1] for x_ in X0])\n",
    "\n",
    "# Grafica el polinomio de Taylor y la función.\n",
    "plt.figure(figsize=(10,10))\n",
    "plt.title(r'$e^{-x}$ vs. $x$')\n",
    "plt.plot(X0,Y0,'r-',label=r'$\\sum_{i=0}^9 \\frac{(-x)^i}{i!}$')\n",
    "plt.plot(X0,np.exp(-X0),'b--',label=r'$e^{-x}$')\n",
    "plt.grid()\n",
    "plt.legend()\n",
    "plt.ylim(-1,0.5)\n",
    "plt.xlabel(r'$x$')\n",
    "plt.ylabel(r'$f(x)$')\n",
    "plt.show()\n",
    "\n",
    "%pylab.pyplot   # Presenta la gráfica en una ventana nueva, si quiere ver la gráfica en el notebook, elimine esta línea."
   ]
  },
  {
   "cell_type": "markdown",
   "metadata": {},
   "source": [
    "En la gráfica se puede notar que alrededor de $x=3$ la aproximación (en rojo) empieza a perder precisión con respecto a la función exacta (en azul)."
   ]
  },
  {
   "cell_type": "code",
   "execution_count": 184,
   "metadata": {},
   "outputs": [
    {
     "name": "stderr",
     "output_type": "stream",
     "text": [
      "UsageError: Line magic function `%pylab.pyplot` not found.\n"
     ]
    }
   ],
   "source": [
    "# Crea un intervalo entre 10 y 100 y evalúa el polinomio de Taylor de grado 99 para la función en ese intervalo.\n",
    "X0_=np.linspace(10,100,5000)\n",
    "N0_=99\n",
    "Y0_=np.array([expneg_taylor(x_,N0_)[-1] for x_ in X0_])\n",
    "\n",
    "# Grafica el polinomio de Taylor y la función.\n",
    "plt.figure(figsize=(10,10))\n",
    "plt.title(r'$e^{-x}$ vs. $x$')\n",
    "plt.plot(X0_,Y0_,'r-',label=r'$\\sum_{i=0}^{99} \\frac{(-x)^i}{i!}$')\n",
    "plt.plot(X0_,np.exp(-X0_),'b--',label=r'$e^{-x}$')\n",
    "plt.grid()\n",
    "plt.legend()\n",
    "plt.ylim(-1,0.5)\n",
    "plt.xlabel(r'$x$')\n",
    "plt.ylabel(r'$f(x)$')\n",
    "plt.show()\n",
    "\n",
    "%pylab.pyplot   # Presenta la gráfica en una ventana nueva, si quiere ver la gráfica en el notebook, elimine esta línea."
   ]
  },
  {
   "cell_type": "markdown",
   "metadata": {},
   "source": [
    "En la gráfica se puede notar que alrededor de $x=33$ la aproximación (en rojo) empieza a perder precisión con respecto a la función exacta (en azul), para luego presentar oscilaciones muy drásticas, por lo que la aproximación no sirve más allá de este valor."
   ]
  },
  {
   "cell_type": "code",
   "execution_count": 187,
   "metadata": {},
   "outputs": [],
   "source": [
    "# Solución punto f\n",
    "\n",
    "# rd.seed(1)  # Si quiere fijar los valores aleatorios, implemente este comentario.\n",
    "\n",
    "# Crea un arange entre 1 y 11, que dará los grados de los polinomios en los que se evalúa cada punto.\n",
    "N=np.arange(1,11)\n",
    "# Crea una lista de 4 valores aleatorios entre 1 y 10.\n",
    "vals=[10*rd.random(),10*rd.random(),10*rd.random(),10*rd.random()]\n",
    "l=[]\n",
    "# Genera una lista con los valores del error calculado por cada polinomio para cada valor.\n",
    "for v in vals:\n",
    "    li=[np.abs(expneg_taylor(v,N_)[-1]-np.exp(-v)) for N_ in N]\n",
    "    l.append(li)"
   ]
  },
  {
   "cell_type": "code",
   "execution_count": 191,
   "metadata": {},
   "outputs": [
    {
     "name": "stderr",
     "output_type": "stream",
     "text": [
      "UsageError: Line magic function `%pylab.pyplot` not found.\n"
     ]
    }
   ],
   "source": [
    "# Crea un dataframe con los valores de los errores para cada valor de x.\n",
    "df=pd.DataFrame({'N':N,'x1':l[0],'x2':l[1],'x3':l[2],'x4':l[3]})\n",
    "\n",
    "# Grafica los errores de cada valor de x en función del grado del polinomio.\n",
    "plt.figure(figsize=(10,10))\n",
    "plt.title('Error vs. N')\n",
    "plt.plot(df.N,df.x1,label=f'x={vals[0]}')\n",
    "plt.plot(df.N,df.x2,label=f'x={vals[1]}')\n",
    "plt.plot(df.N,df.x3,label=f'x={vals[2]}')\n",
    "plt.plot(df.N,df.x4,label=f'x={vals[3]}')\n",
    "plt.legend()\n",
    "plt.grid()\n",
    "plt.show()\n",
    "\n",
    "%pylab.pyplot    # Presenta la gráfica en una ventana nueva, si quiere ver la gráfica en el notebook, elimine esta línea."
   ]
  },
  {
   "cell_type": "markdown",
   "metadata": {},
   "source": [
    "En la gráfica se puede apreciar que, para el conjunto de polinomios que se escogió (grados 1 a 9), el  error en la aproximación aumenta conforme aumenta el valor de $x$."
   ]
  },
  {
   "cell_type": "code",
   "execution_count": 186,
   "metadata": {},
   "outputs": [],
   "source": [
    "# rd.seed(1)  # Si quiere fijar los valores aleatorios, implemente este comentario.\n",
    "\n",
    "# Crea un arange entre 10 y 100 con paso igual a 5, que dará los grados de los polinomios en los que se evalúa cada punto.\n",
    "N2=np.arange(10,100,5)\n",
    "# Crea una lista de 4 valores aleatorios entre 10 y 100, cada uno en un intervalo distinto.\n",
    "vals2=[rd.uniform(10,32.5),rd.uniform(32.5,55),rd.uniform(55,77.5),rd.uniform(77.5,100)]\n",
    "l2=[]\n",
    "# Genera una lista con los valores del error calculado por cada polinomio para cada valor.\n",
    "for v in vals2:\n",
    "    li=[np.abs(expneg_taylor(v,N_)[-1]-np.exp(-v)) for N_ in N2]\n",
    "    l2.append(li)"
   ]
  },
  {
   "cell_type": "code",
   "execution_count": 192,
   "metadata": {},
   "outputs": [
    {
     "name": "stderr",
     "output_type": "stream",
     "text": [
      "UsageError: Line magic function `%pylab.pyplot` not found.\n"
     ]
    }
   ],
   "source": [
    "# Crea un dataframe con los valores de los errores para cada valor de x.\n",
    "df2=pd.DataFrame({'N':N2,'x1':l2[0],'x2':l2[1],'x3':l2[2],'x4':l2[3]})\n",
    "\n",
    "# Grafica los errores de cada valor de x en función del grado del polinomio.\n",
    "# Es necesario que la gráfica sea semilogarítmica debido al tamaño de los valores.\n",
    "plt.figure(figsize=(10,10))\n",
    "plt.title('Error vs. N')\n",
    "plt.semilogy(df2.N,df2.x1,label=f'x={vals2[0]}')\n",
    "plt.semilogy(df2.N,df2.x2,label=f'x={vals2[1]}')\n",
    "plt.semilogy(df2.N,df2.x3,label=f'x={vals2[2]}')\n",
    "plt.semilogy(df2.N,df2.x4,label=f'x={vals2[3]}')\n",
    "plt.legend()\n",
    "plt.grid()\n",
    "plt.show()\n",
    "\n",
    "%pylab.pyplot    # Presenta la gráfica en una ventana nueva, si quiere ver la gráfica en el notebook, elimine esta línea."
   ]
  },
  {
   "cell_type": "markdown",
   "metadata": {
    "id": "lL_YYETobLu1"
   },
   "source": [
    "## **Errores de redondeo**. Caos numérico en un mapa logístico y errores de punto flotante (Errores de redondeo)\n",
    "\n",
    "> Un ejemplo clásico de caos,  es el comportamiento no lineal en las interaciones de un mapa logistico \n",
    "\n",
    "\\begin{equation}\n",
    "x_{n+1}=f(x_n)=rx_n(1-x_n)\n",
    "\\end{equation}\n",
    "\n",
    "> con $x\\in (0,1)$ y $r\\in(0,4)$ se pueden producir varios comportamientos sorprendentes.\n",
    "\n",
    "\n",
    "> ### Problema: \n",
    "Encontrar tres formas diferentes de expresar $f(x)$  y calcular la evolución de la misma condición inicial después de cientos de iteraciones. Para este problema, será extremadamente útil  ver sus resultados gráficamente; construya listas de números y llame la libreria matplotlib. \n",
    "\n",
    "\n",
    ">#### Hint: valores numéricos de r y x0 que puede tomar:\n",
    "\n",
    "\n",
    "```python\n",
    "    >>> r = [1.9, 2.9, 3.1, 3.5, 3.9]\n",
    "\n",
    "    >>> x0 = 0.6 # any number in [0,1] will do here\n",
    "\n",
    "    >>> numpoints = 100\n",
    "       ```\n",
    "       "
   ]
  },
  {
   "cell_type": "code",
   "execution_count": 193,
   "metadata": {},
   "outputs": [],
   "source": [
    "# Define los valores de r y x0 de manera aleatoria, y fija el valor de n.\n",
    "R=[1.9,2.9,3.1,3.5,3.9]\n",
    "r=rd.choice(R)\n",
    "x0=rd.random()\n",
    "n=100"
   ]
  },
  {
   "cell_type": "markdown",
   "metadata": {},
   "source": [
    "1. $$x_{n+1}=rx_n(1-x_n)$$"
   ]
  },
  {
   "cell_type": "code",
   "execution_count": 195,
   "metadata": {},
   "outputs": [],
   "source": [
    "def poblacion1(x0,r,n):\n",
    "    '''\n",
    "    Calcula la aplicación logística a partir de la expresión\n",
    "    estándar de la misma. La salida de la función es un \n",
    "    dataframe con los valores de x y t.\n",
    "    '''\n",
    "    X_= np.zeros(n)\n",
    "    t = np.arange(0, n, 1)\n",
    "    for i in range(0, n):\n",
    "        x = r*x0*(1-x0)\n",
    "        x0 = x\n",
    "        X_[i] = x0\n",
    "  \n",
    "    Df = pd.DataFrame({\"x\":X_, \"t\":t})\n",
    "    return Df"
   ]
  },
  {
   "cell_type": "markdown",
   "metadata": {},
   "source": [
    "2. $$x_{n+1}=r{x_n}^3({x_n}^{-2}-{x_n}^{-1})$$"
   ]
  },
  {
   "cell_type": "code",
   "execution_count": 196,
   "metadata": {},
   "outputs": [],
   "source": [
    "def poblacion2(x0,r,n):\n",
    "    '''\n",
    "    Calcula la aplicación logística a partir de una factorización de \n",
    "    la expresión estándar, tomando un factor común de x0^2 dentro del\n",
    "    paréntesis. La salida de la función es un \n",
    "    dataframe con los valores de x y t.\n",
    "    '''\n",
    "    X_= np.zeros(n)\n",
    "    t = np.arange(0, n, 1)\n",
    "    for i in range(0, n):\n",
    "        x = r*x0**3*(x0**(-2)-x0**(-1))\n",
    "        x0 = x\n",
    "        X_[i] = x0\n",
    "  \n",
    "    Df = pd.DataFrame({\"x\":X_, \"t\":t})\n",
    "    return Df"
   ]
  },
  {
   "cell_type": "markdown",
   "metadata": {},
   "source": [
    "3. $$x_{n+1}=rx_n(1-\\sqrt{x_n})(1+\\sqrt{x_n})$$"
   ]
  },
  {
   "cell_type": "code",
   "execution_count": 208,
   "metadata": {},
   "outputs": [],
   "source": [
    "def poblacion3(x0,r,n):\n",
    "    '''\n",
    "    Calcula la aplicación logística a partir de una factorización de \n",
    "    la expresión estándar, factorizando el paréntesis como una diferencia\n",
    "    de cuadrados. La salida de la función es un \n",
    "    dataframe con los valores de x y t.\n",
    "    '''\n",
    "    X_= np.zeros(n)\n",
    "    t = np.arange(0, n, 1)\n",
    "    for i in range(0, n):\n",
    "        x = r*x0*(1-(x0)**0.5)*(1+(x0)**0.5)\n",
    "        x0 = x\n",
    "        X_[i] = x0\n",
    "  \n",
    "    Df = pd.DataFrame({\"x\":X_, \"t\":t})\n",
    "    return Df"
   ]
  },
  {
   "cell_type": "code",
   "execution_count": 209,
   "metadata": {},
   "outputs": [],
   "source": [
    "# Define 3 dataframes utilizando las 3 funciones anteriores.\n",
    "D1=poblacion1(x0,r,n)\n",
    "D2=poblacion2(x0,r,n)\n",
    "D3=poblacion3(x0,r,n)"
   ]
  },
  {
   "cell_type": "code",
   "execution_count": 214,
   "metadata": {},
   "outputs": [],
   "source": [
    "# Grafica las tres aplicaciones logísticas.\n",
    "plt.figure(figsize=(15,15))\n",
    "plt.title('Aplicaciones logísticas')\n",
    "plt.plot(D1.t,D1.x,'r-',label=r'$x_{n+1}=rx_n(1-x_n)$')\n",
    "plt.plot(D2.t,D2.x,'b--',label=r'$x_{n+1}=r{x_n}^3({x_n}^{-2}-{x_n}^{-1})$')\n",
    "plt.plot(D3.t,D3.x,'g:',label=r'$x_{n+1}=rx_n(1-\\sqrt{x_n})(1+\\sqrt{x_n})$')\n",
    "plt.xlabel('t')\n",
    "plt.ylabel(r'$x_n$')\n",
    "plt.grid()\n",
    "plt.legend()\n",
    "plt.show()"
   ]
  },
  {
   "cell_type": "markdown",
   "metadata": {},
   "source": [
    "Se puede observar en la gráfica que la aplicación logística, graficada para las mismas condiciones iniciales, escrita de tres maneras diferentes, no presenta variaciones a nivel computacional como, en principio, es de esperarse, ya que son expresiones analíticamente equivalentes."
   ]
  }
 ],
 "metadata": {
  "colab": {
   "collapsed_sections": [],
   "name": "Tarea02_errores_computacion.ipynb",
   "provenance": []
  },
  "kernelspec": {
   "display_name": "Python 3 (ipykernel)",
   "language": "python",
   "name": "python3"
  },
  "language_info": {
   "codemirror_mode": {
    "name": "ipython",
    "version": 3
   },
   "file_extension": ".py",
   "mimetype": "text/x-python",
   "name": "python",
   "nbconvert_exporter": "python",
   "pygments_lexer": "ipython3",
   "version": "3.9.7"
  }
 },
 "nbformat": 4,
 "nbformat_minor": 4
}
