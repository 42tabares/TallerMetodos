{
 "cells": [
  {
   "cell_type": "markdown",
   "metadata": {
    "id": "pQSt9-mvLVMa"
   },
   "source": [
    "# Taller \n",
    "\n",
    "\n",
    "### Resolver los siguientes problemas, por el metodo de la biseccion, newton, punto fijo y secante, realizar una comparación del error como función del las numero de iteraciones\n",
    "\n",
    "\n",
    "1. Una particula parte del reposo sobre un plano inclinado uniforme, cuyo ángulo \n",
    "$\\theta$ cambia con una rapidez constante de : \n",
    "\n",
    "\\begin{equation}\n",
    "\\frac{\\mathrm{d}\\theta}{\\mathrm{d} t} = \\omega < 0\n",
    "\\end{equation}\n",
    "\n",
    "Al final de t segundos, la posición del objeto esta dada por: \n",
    "\n",
    "\n",
    "\\begin{equation}\n",
    "x(t) = -\\frac{g}{2\\omega^2} \\left( \\frac{e^{\\omega t}-e^{-\\omega t}}{2}\\right) -\\sin\\omega t\n",
    "\\end{equation}\n",
    "\n",
    "\n",
    "Suponga que la partícula se desplazo 0.51m en 1s. Encuentre, con una exactitud de $10^{-5}$, la rapidez $\\omega$ con que $\\theta$ cambia. Suponga que $g=9.76m/s$\n",
    "\n",
    "\n",
    "![Plano Inclinado](https://raw.githubusercontent.com/hernansalinas/Metodos_Computacionales_taller/main/sesiones/images/ecuacion_1_variable/Fig0.png)\n",
    "\n",
    "\n",
    "2. Determinar el ángulo del sector circular que es igual a un cuarto del área de la circunferencia \n",
    "\n",
    "\n",
    "3. Resolver la siguiente situación\n",
    "\n",
    "En el diseño de los vehiculos para todo tipo de terreno,  es necesario tener encuentra fallas cuando se trata de liberar dos tipos de obstáculos. Una es la falla por rozamiento, y ocurre cuando el vehiculo \n",
    "intenta cruzar un obstáculo que hace que su fondo toque el suelo. La otra recibie el nombre de falla por colision de la defensa delantera y ocurre cuando el vehiculo desciende por una zanja y la defensa delantera toca el suelo.\n",
    "\n",
    "\n",
    "\n",
    "La figura muestra las componentes asociados al segundo tipo  de falla. En ella se indeca el ángulo máximo $\\alpha$ que puede alcanzar un vehiculo cuando $\\beta$ es el angulo maximo en que no ocurre la falla \n",
    "por rozamiento y satisface la siguiente ecuación: \n",
    "\n",
    "\n",
    "\\begin{equation}\n",
    "A \\sin(\\alpha) \\cos(\\alpha)+B \\sin^2(\\alpha) - C \\cos(\\alpha) -  E  \\sin(\\alpha)=0\n",
    "\\end{equation}\n",
    "\n",
    "donde; \n",
    "\\begin{equation}\n",
    "A = l \\sin(\\beta)\n",
    "\\end{equation}\n",
    "\n",
    "\\begin{equation}\n",
    "B = l \\cos(\\beta)\n",
    "\\end{equation}\n",
    "\\begin{equation}\n",
    "C = (h + 0.5 D )\\sin(\\beta) - 0.5 D \\tan(\\beta)\n",
    "\\end{equation}\n",
    "\n",
    "\\begin{equation}\n",
    "E = (h + 0.5 D ) \\cos(\\beta) - 0.5 * D\n",
    "\\end{equation}\n",
    "\n",
    "\n",
    "Para $l=89$pulg, $h=49$pul, $D=55$, $\\beta=11.5$ , el angulo se aproximara a 33. Verificar este resultados\n",
    "\n",
    "\n",
    "![fallas_vehiculo](https://raw.githubusercontent.com/hernansalinas/Metodos_Computacionales_taller/main/sesiones/images/ecuacion_1_variable/Fig2.png)\n",
    "\n",
    "\n",
    "Referencias: Numerical Analysis Book by J. Douglas Faires and Richard L. Burden\n",
    "\n",
    "\n"
   ]
  },
  {
   "cell_type": "code",
   "execution_count": 104,
   "metadata": {
    "id": "I-2riPetfWrM"
   },
   "outputs": [],
   "source": [
    "import numpy as np\n",
    "import matplotlib.pylab as plt\n",
    "from PIL import Image\n",
    "from scipy import optimize\n",
    "import pandas as pd"
   ]
  },
  {
   "cell_type": "markdown",
   "metadata": {},
   "source": [
    "## Solución punto 1\n",
    "\n",
    "Dada la ecuación: \n",
    "\n",
    "\\begin{equation}\n",
    "x = -\\frac{g}{2\\omega^2} \\left( \\frac{e^{\\omega t}-e^{-\\omega t}}{2} -\\sin\\omega t\\right)\n",
    "\\end{equation}\n",
    "\n",
    "Se quiere resolver para $\\omega$ conociendo los demás parámetros, luego la función a la cual se le desean calcular las raíces es:\n",
    "\n",
    "\\begin{equation}\n",
    "f(\\omega)=x +\\frac{g}{2\\omega^2} \\left( \\frac{e^{\\omega t}-e^{-\\omega t}}{2}-\\sin\\omega t\\right) \n",
    "\\end{equation}\n",
    "\n",
    "Para implementar el método de Newton se debe calcular la derivada de la función, dada por:\n",
    "\n",
    "\\begin{equation}\n",
    "f'(\\omega)=-\\frac{g}{\\omega^3} \\left( \\frac{e^{\\omega t}-e^{-\\omega t}}{2}-\\sin\\omega t\\right) +\\frac{gt}{2\\omega^2} \\left( \\frac{e^{\\omega t}+e^{-\\omega t}}{2}-\\cos\\omega t\\right)\n",
    "\\end{equation}"
   ]
  },
  {
   "cell_type": "code",
   "execution_count": 129,
   "metadata": {},
   "outputs": [
    {
     "name": "stdout",
     "output_type": "stream",
     "text": [
      "RAÍCES CALCULADAS CON CADA MÉTODO\n",
      "Método de la bisección: -0.3135261535644532, número de iteraciones: 17\n",
      "Método del punto fijo: -0.3135209839265544\n",
      "Método de Newton-Raphson: -0.31352098392658284, número de iteraciones: 3\n",
      "Método de la secante: -0.3135209839267079, número de iteraciones: 4\n"
     ]
    }
   ],
   "source": [
    "# Parámetros.\n",
    "g=9.76\n",
    "x=0.51\n",
    "t=1.\n",
    "\n",
    "# Definición de la función a la cual se le calcularán los ceros.\n",
    "def f(w):\n",
    "    return x+(g/(2.*w**2))*(((np.exp(w*t)-np.exp(-w*t))/2.)-np.sin(w*t))\n",
    "\n",
    "# Definición de la derivada de la función para el método de Newton-Raphson (calculada analíticamente).\n",
    "def fprime(w):\n",
    "    return -(g/(w**3))*(((np.exp(w*t)-np.exp(-w*t))/2.)-np.sin(w*t))+(g/(2.*w**2))*(((np.exp(w*t)+np.exp(-w*t))/2.)-np.cos(w*t))\n",
    "\n",
    "# Implementación de los métodos de solución de ecuaciones de la librería scipy, con una tolerancia de 1e-5.\n",
    "root11,r11=optimize.bisect(f,-1,-0.1,xtol=1e-5,full_output=True)\n",
    "root12=optimize.fixed_point(lambda x:x-f(x),-1,xtol=1e-5)\n",
    "root13,r13=optimize.newton(f,-2,fprime,tol=1e-5,full_output=True)\n",
    "root14,r14=optimize.newton(f,-2,tol=1e-5,full_output=True)\n",
    "\n",
    "# Impresión de resultados.\n",
    "print('RAÍCES CALCULADAS CON CADA MÉTODO')\n",
    "print(f'Método de la bisección: {root11}, número de iteraciones: {r11.iterations}')\n",
    "\n",
    "print('Método del punto fijo:', root12)\n",
    "\n",
    "print(f'Método de Newton-Raphson: {root13}, número de iteraciones: {r13.iterations}')\n",
    "\n",
    "print(f'Método de la secante: {root14}, número de iteraciones: {r14.iterations}')\n"
   ]
  },
  {
   "cell_type": "markdown",
   "metadata": {},
   "source": [
    "Entre los métodos a los que se les puede obtener el número de iteraciones, es evidente que el de Newton-Raphson es el que converge más rápido, con 3 iteraciones; le sigue el de la secante, con 4 iteraciones; y, por último, el de la bisección, con 17 iteraciones. Al método del punto fijo no se le calcularon las iteraciones, debido a que el método implementado desde scipy no permite hacerlo."
   ]
  },
  {
   "cell_type": "code",
   "execution_count": 105,
   "metadata": {
    "collapsed": true,
    "jupyter": {
     "outputs_hidden": true
    },
    "tags": []
   },
   "outputs": [
    {
     "data": {
      "text/plain": [
       "\u001b[1;31mSignature:\u001b[0m\n",
       "\u001b[0moptimize\u001b[0m\u001b[1;33m.\u001b[0m\u001b[0mfixed_point\u001b[0m\u001b[1;33m(\u001b[0m\u001b[1;33m\n",
       "\u001b[0m    \u001b[0mfunc\u001b[0m\u001b[1;33m,\u001b[0m\u001b[1;33m\n",
       "\u001b[0m    \u001b[0mx0\u001b[0m\u001b[1;33m,\u001b[0m\u001b[1;33m\n",
       "\u001b[0m    \u001b[0margs\u001b[0m\u001b[1;33m=\u001b[0m\u001b[1;33m(\u001b[0m\u001b[1;33m)\u001b[0m\u001b[1;33m,\u001b[0m\u001b[1;33m\n",
       "\u001b[0m    \u001b[0mxtol\u001b[0m\u001b[1;33m=\u001b[0m\u001b[1;36m1e-08\u001b[0m\u001b[1;33m,\u001b[0m\u001b[1;33m\n",
       "\u001b[0m    \u001b[0mmaxiter\u001b[0m\u001b[1;33m=\u001b[0m\u001b[1;36m500\u001b[0m\u001b[1;33m,\u001b[0m\u001b[1;33m\n",
       "\u001b[0m    \u001b[0mmethod\u001b[0m\u001b[1;33m=\u001b[0m\u001b[1;34m'del2'\u001b[0m\u001b[1;33m,\u001b[0m\u001b[1;33m\n",
       "\u001b[0m\u001b[1;33m)\u001b[0m\u001b[1;33m\u001b[0m\u001b[1;33m\u001b[0m\u001b[0m\n",
       "\u001b[1;31mSource:\u001b[0m   \n",
       "\u001b[1;32mdef\u001b[0m \u001b[0mfixed_point\u001b[0m\u001b[1;33m(\u001b[0m\u001b[0mfunc\u001b[0m\u001b[1;33m,\u001b[0m \u001b[0mx0\u001b[0m\u001b[1;33m,\u001b[0m \u001b[0margs\u001b[0m\u001b[1;33m=\u001b[0m\u001b[1;33m(\u001b[0m\u001b[1;33m)\u001b[0m\u001b[1;33m,\u001b[0m \u001b[0mxtol\u001b[0m\u001b[1;33m=\u001b[0m\u001b[1;36m1e-8\u001b[0m\u001b[1;33m,\u001b[0m \u001b[0mmaxiter\u001b[0m\u001b[1;33m=\u001b[0m\u001b[1;36m500\u001b[0m\u001b[1;33m,\u001b[0m \u001b[0mmethod\u001b[0m\u001b[1;33m=\u001b[0m\u001b[1;34m'del2'\u001b[0m\u001b[1;33m)\u001b[0m\u001b[1;33m:\u001b[0m\u001b[1;33m\n",
       "\u001b[0m    \u001b[1;34m\"\"\"\n",
       "    Find a fixed point of the function.\n",
       "\n",
       "    Given a function of one or more variables and a starting point, find a\n",
       "    fixed point of the function: i.e., where ``func(x0) == x0``.\n",
       "\n",
       "    Parameters\n",
       "    ----------\n",
       "    func : function\n",
       "        Function to evaluate.\n",
       "    x0 : array_like\n",
       "        Fixed point of function.\n",
       "    args : tuple, optional\n",
       "        Extra arguments to `func`.\n",
       "    xtol : float, optional\n",
       "        Convergence tolerance, defaults to 1e-08.\n",
       "    maxiter : int, optional\n",
       "        Maximum number of iterations, defaults to 500.\n",
       "    method : {\"del2\", \"iteration\"}, optional\n",
       "        Method of finding the fixed-point, defaults to \"del2\",\n",
       "        which uses Steffensen's Method with Aitken's ``Del^2``\n",
       "        convergence acceleration [1]_. The \"iteration\" method simply iterates\n",
       "        the function until convergence is detected, without attempting to\n",
       "        accelerate the convergence.\n",
       "\n",
       "    References\n",
       "    ----------\n",
       "    .. [1] Burden, Faires, \"Numerical Analysis\", 5th edition, pg. 80\n",
       "\n",
       "    Examples\n",
       "    --------\n",
       "    >>> from scipy import optimize\n",
       "    >>> def func(x, c1, c2):\n",
       "    ...    return np.sqrt(c1/(x+c2))\n",
       "    >>> c1 = np.array([10,12.])\n",
       "    >>> c2 = np.array([3, 5.])\n",
       "    >>> optimize.fixed_point(func, [1.2, 1.3], args=(c1,c2))\n",
       "    array([ 1.4920333 ,  1.37228132])\n",
       "\n",
       "    \"\"\"\u001b[0m\u001b[1;33m\n",
       "\u001b[0m    \u001b[0muse_accel\u001b[0m \u001b[1;33m=\u001b[0m \u001b[1;33m{\u001b[0m\u001b[1;34m'del2'\u001b[0m\u001b[1;33m:\u001b[0m \u001b[1;32mTrue\u001b[0m\u001b[1;33m,\u001b[0m \u001b[1;34m'iteration'\u001b[0m\u001b[1;33m:\u001b[0m \u001b[1;32mFalse\u001b[0m\u001b[1;33m}\u001b[0m\u001b[1;33m[\u001b[0m\u001b[0mmethod\u001b[0m\u001b[1;33m]\u001b[0m\u001b[1;33m\n",
       "\u001b[0m    \u001b[0mx0\u001b[0m \u001b[1;33m=\u001b[0m \u001b[0m_asarray_validated\u001b[0m\u001b[1;33m(\u001b[0m\u001b[0mx0\u001b[0m\u001b[1;33m,\u001b[0m \u001b[0mas_inexact\u001b[0m\u001b[1;33m=\u001b[0m\u001b[1;32mTrue\u001b[0m\u001b[1;33m)\u001b[0m\u001b[1;33m\n",
       "\u001b[0m    \u001b[1;32mreturn\u001b[0m \u001b[0m_fixed_point_helper\u001b[0m\u001b[1;33m(\u001b[0m\u001b[0mfunc\u001b[0m\u001b[1;33m,\u001b[0m \u001b[0mx0\u001b[0m\u001b[1;33m,\u001b[0m \u001b[0margs\u001b[0m\u001b[1;33m,\u001b[0m \u001b[0mxtol\u001b[0m\u001b[1;33m,\u001b[0m \u001b[0mmaxiter\u001b[0m\u001b[1;33m,\u001b[0m \u001b[0muse_accel\u001b[0m\u001b[1;33m)\u001b[0m\u001b[1;33m\u001b[0m\u001b[1;33m\u001b[0m\u001b[0m\n",
       "\u001b[1;31mFile:\u001b[0m      c:\\users\\santiago\\anaconda3\\lib\\site-packages\\scipy\\optimize\\minpack.py\n",
       "\u001b[1;31mType:\u001b[0m      function\n"
      ]
     },
     "metadata": {},
     "output_type": "display_data"
    }
   ],
   "source": [
    "optimize.fixed_point??"
   ]
  },
  {
   "cell_type": "code",
   "execution_count": 128,
   "metadata": {},
   "outputs": [
    {
     "data": {
      "image/png": "[encoded data removed]",
      "text/plain": [
       "<Figure size 720x576 with 1 Axes>"
      ]
     },
     "metadata": {
      "needs_background": "light"
     },
     "output_type": "display_data"
    }
   ],
   "source": [
    "# Gráfica de la función con su raíz.\n",
    "\n",
    "W=np.linspace(-5,5)\n",
    "df=pd.DataFrame({'w':W, 'F':f(W)})\n",
    "\n",
    "plt.figure(figsize=(10,8))\n",
    "plt.plot(df.w,df.F,label=r'f($\\omega$)')\n",
    "plt.plot(-0.3135209839267079,0,'ro',label='Raíz')\n",
    "plt.xlabel(r'$\\omega$')\n",
    "plt.ylabel(r'$f(\\omega)$')\n",
    "plt.legend()\n",
    "plt.title(r'f($\\omega$) vs. $\\omega$')\n",
    "plt.grid()\n",
    "plt.show()"
   ]
  },
  {
   "cell_type": "markdown",
   "metadata": {},
   "source": [
    "## Solución punto 2\n",
    "\n",
    "Sea el área de la circunferencia:\n",
    "\n",
    "\\begin{equation}\n",
    "A_{circ}=\\pi r^2\n",
    "\\end{equation}\n",
    "\n",
    "Donde $r$ es el radio de la circunferencia. Se quiere encontrar el ángulo que subtiende un segmento circular para el cual el área sea exactamente un cuarto del área de la circunferencia, esto es:\n",
    "\n",
    "\\begin{equation}\n",
    "A_{seg}=\\frac{1}{4}A_{circ}\n",
    "\\end{equation}\n",
    "\n",
    "El área del segmento circular se puede calcular como la resta del área del sector circular correspondiente y el área del triángulo isósceles formado por los dos radios que determinan el sector. Esto es:\n",
    "\n",
    "\\begin{equation}\n",
    "A_{seg}=A_{sect}-A_{tri}=\\frac{\\theta}{2}r^2-\\frac{1}{2}r^2\\sin(\\theta)=\\frac{1}{4}\\pi r^2\\\\\n",
    "\\theta-\\sin(\\theta)=\\frac{\\pi}{2}\n",
    "\\end{equation}\n",
    "\n",
    "Luego, la función a la que se le quieren calcular las raíces es:\n",
    "\n",
    "\\begin{equation}\n",
    "G(\\theta)=\\theta-\\sin(\\theta)-\\frac{\\pi}{2}\n",
    "\\end{equation}\n",
    "\n",
    "Cuya derivada está dada por:\n",
    "\n",
    "\\begin{equation}\n",
    "G'(\\theta)=1-\\cos(\\theta)\n",
    "\\end{equation}"
   ]
  },
  {
   "cell_type": "code",
   "execution_count": 126,
   "metadata": {},
   "outputs": [
    {
     "name": "stdout",
     "output_type": "stream",
     "text": [
      "RAÍCES CALCULADAS CON CADA MÉTODO\n",
      "Método de la bisección: 2.3098814600101703, número de iteraciones: 41\n",
      "Método del punto fijo: 2.3098814600100575\n",
      "Método de Newton-Raphson: 2.3098814600100575, número de iteraciones: 5\n",
      "Método de la secante: 2.309881460010057, número de iteraciones: 6\n"
     ]
    }
   ],
   "source": [
    "# Definición de la función a la cual se le calcularán los ceros.\n",
    "def G(x):\n",
    "    return x-np.sin(x)-np.pi/2\n",
    "\n",
    "# Definición de la derivada de la función para el método de Newton-Raphson (calculada analíticamente).\n",
    "def dG(x):\n",
    "    return 1-np.cos(x)\n",
    "\n",
    "# Implementación de los métodos de solución de ecuaciones de la librería scipy.\n",
    "root21,r21=optimize.bisect(G,0,np.pi,full_output=True)\n",
    "root22=optimize.fixed_point(lambda x:x-G(x),np.pi/2)\n",
    "root23,r23=optimize.newton(G,np.pi,dG,full_output=True)\n",
    "root24,r24=optimize.newton(G,np.pi,full_output=True)\n",
    "\n",
    "# Impresión de resultados.\n",
    "print('RAÍCES CALCULADAS CON CADA MÉTODO')\n",
    "print(f'Método de la bisección: {root21}, número de iteraciones: {r21.iterations}')\n",
    "\n",
    "print('Método del punto fijo:', root22)\n",
    "\n",
    "print(f'Método de Newton-Raphson: {root23}, número de iteraciones: {r23.iterations}')\n",
    "\n",
    "print(f'Método de la secante: {root24}, número de iteraciones: {r24.iterations}')"
   ]
  },
  {
   "cell_type": "markdown",
   "metadata": {},
   "source": [
    "Entre los métodos a los que se les puede obtener el número de iteraciones, es evidente que el de Newton-Raphson es, nuevamente, el que converge más rápido, con 5 iteraciones; le sigue el de la secante, con 6 iteraciones; y, por último, el de la bisección, con 41 iteraciones. Al método del punto fijo no se le calcularon las iteraciones, debido a que el método implementado desde scipy no permite hacerlo."
   ]
  },
  {
   "cell_type": "code",
   "execution_count": 127,
   "metadata": {},
   "outputs": [
    {
     "data": {
      "image/png": "[encoded data removed]",
      "text/plain": [
       "<Figure size 720x576 with 1 Axes>"
      ]
     },
     "metadata": {
      "needs_background": "light"
     },
     "output_type": "display_data"
    }
   ],
   "source": [
    "# Gráfica de la función con su raíz.\n",
    "theta=np.linspace(0,2*np.pi)\n",
    "df2=pd.DataFrame({'theta':theta, 'G':G(theta)})\n",
    "\n",
    "plt.figure(figsize=(10,8))\n",
    "plt.plot(df2.theta,df2.G,label=r'G($\\theta$)')\n",
    "plt.plot(root21,0,'ro',label='Raíz')\n",
    "plt.xlabel(r'$\\theta$')\n",
    "plt.ylabel(r'$G(\\theta)$')\n",
    "plt.legend()\n",
    "plt.title(r'G($\\theta$) vs. $\\theta$')\n",
    "plt.grid()\n",
    "plt.show()"
   ]
  },
  {
   "cell_type": "markdown",
   "metadata": {},
   "source": [
    "## Solución punto 3\n",
    "\n",
    "Aquí, es evidente que la función a la que se le desean calcular los ceros está dada por:\n",
    "\n",
    "\\begin{equation}\n",
    "H(\\alpha)=A \\sin(\\alpha) \\cos(\\alpha)+B \\sin^2(\\alpha) - C \\cos(\\alpha) -  E  \\sin(\\alpha)\n",
    "\\end{equation}\n",
    "\n",
    "Donde:\n",
    "\n",
    "\\begin{equation}\n",
    "A = l \\sin(\\beta)\n",
    "\\end{equation}\n",
    "\n",
    "\\begin{equation}\n",
    "B = l \\cos(\\beta)\n",
    "\\end{equation}\n",
    "\\begin{equation}\n",
    "C = (h + 0.5 D )\\sin(\\beta) - 0.5 D \\tan(\\beta)\n",
    "\\end{equation}\n",
    "\n",
    "\\begin{equation}\n",
    "E = (h + 0.5 D ) \\cos(\\beta) - 0.5 * D\n",
    "\\end{equation}\n",
    "\n",
    "Y además $\\beta$, $h$, $D$ y $l$ son parámetros fijos.\n",
    "\n",
    "La derivada de la función está dada por:\n",
    "\n",
    "\\begin{equation}\n",
    "H'(\\alpha)=A (\\cos^2(\\alpha)-\\sin^2(\\alpha))+2B \\sin(\\alpha)\\cos(\\alpha) + C \\sin(\\alpha) -  E  \\cos(\\alpha)\n",
    "\\end{equation}"
   ]
  },
  {
   "cell_type": "code",
   "execution_count": 167,
   "metadata": {},
   "outputs": [
    {
     "name": "stdout",
     "output_type": "stream",
     "text": [
      "RAÍCES CALCULADAS CON CADA MÉTODO\n",
      "Método de la bisección: 0.5754730121937094, número de iteraciones: 39\n",
      "Método del punto fijo: 0.5754730121943982\n",
      "Método de Newton-Raphson: 0.575473012194399, número de iteraciones: 4\n",
      "Método de la secante: 0.575473012194415, número de iteraciones: 5\n",
      "α=32.97217482242054°\n"
     ]
    }
   ],
   "source": [
    "#Parámetros.\n",
    "l = 89\n",
    "h = 49\n",
    "D = 55\n",
    "beta = np.deg2rad(11.5)\n",
    "\n",
    "#Constantes de la función.\n",
    "par=l * np.sin(beta), l * np.cos(beta),(h + 0.5 * D) * np.sin(beta) - 0.5 * D * np.tan(beta),(h + 0.5 * D) * np.cos(beta) - 0.5 * D\n",
    "\n",
    "# Definición de la función a la cual se le calcularán los ceros.\n",
    "def H(alpha,A,B,C,E):\n",
    "    return A*np.sin(alpha)*np.cos(alpha)+B*np.sin(alpha)**2-C*np.cos(alpha)-E*np.sin(alpha)\n",
    "\n",
    "# Definición de la derivada de la función para el método de Newton-Raphson (calculada analíticamente).\n",
    "def dH(alpha,A,B,C,E):\n",
    "    return A*(np.cos(alpha)**2-np.sin(alpha)**2)+2*B*np.sin(alpha)*np.cos(alpha)+C*np.sin(alpha)-E*np.cos(alpha)\n",
    "\n",
    "# Implementación de los métodos de solución de ecuaciones de la librería scipy.\n",
    "root31,r31=optimize.bisect(lambda x:H(x,*par),0,np.pi/4,full_output=True)\n",
    "root32=optimize.fixed_point(lambda x:x-H(x,*par),0.57)\n",
    "root33,r33=optimize.newton(lambda x:H(x,*par),np.pi/4,lambda x:dH(x,*par),full_output=True)\n",
    "root34,r34=optimize.newton(lambda x:H(x,*par),np.pi/4,full_output=True)\n",
    "\n",
    "# Impresión de resultados.\n",
    "print('RAÍCES CALCULADAS CON CADA MÉTODO')\n",
    "print(f'Método de la bisección: {root31}, número de iteraciones: {r31.iterations}')\n",
    "\n",
    "print('Método del punto fijo:', root32)\n",
    "\n",
    "print(f'Método de Newton-Raphson: {root33}, número de iteraciones: {r33.iterations}')\n",
    "\n",
    "print(f'Método de la secante: {root34}, número de iteraciones: {r34.iterations}')\n",
    "\n",
    "print(f'α={np.rad2deg(root34)}°')"
   ]
  },
  {
   "cell_type": "markdown",
   "metadata": {},
   "source": [
    "Entre los métodos a los que se les puede obtener el número de iteraciones, es evidente que el de Newton-Raphson es, nuevamente, el que converge más rápido, con 4 iteraciones; le sigue el de la secante, con 5 iteraciones; y, por último, el de la bisección, con 39 iteraciones. Al método del punto fijo no se le calcularon las iteraciones, debido a que el método implementado desde scipy no permite hacerlo. Nótese que el método del punto fijo es poco eficiente en esta situación, debido a que para que converja correctamente debe suponerse un $x_0$ muy cercano a la raíz real de la función (puede ver que modificando este valor, el método converge a un valor fuera de los límites físicos del problema)."
   ]
  },
  {
   "cell_type": "code",
   "execution_count": 164,
   "metadata": {},
   "outputs": [
    {
     "data": {
      "image/png": "[encoded data removed]",
      "text/plain": [
       "<Figure size 720x576 with 1 Axes>"
      ]
     },
     "metadata": {
      "needs_background": "light"
     },
     "output_type": "display_data"
    }
   ],
   "source": [
    "# Gráfica de la función con su raíz.\n",
    "alpha=np.linspace(0,np.pi/2)\n",
    "df3=pd.DataFrame({'alpha':alpha, 'H':H(alpha,*par)})\n",
    "\n",
    "plt.figure(figsize=(10,8))\n",
    "plt.plot(df3.alpha,df3.H,label=r'H($\\alpha$)')\n",
    "\n",
    "plt.plot(root31,0,'ro',label='Raíz')\n",
    "plt.xlabel(r'$\\alpha$')\n",
    "plt.ylabel(r'$H(\\alpha)$')\n",
    "plt.legend()\n",
    "plt.title(r'H($\\alpha$) vs. $\\alpha$')\n",
    "plt.grid()\n",
    "plt.show()"
   ]
  },
  {
   "cell_type": "markdown",
   "metadata": {
    "id": "UvlcPwmcfUiz"
   },
   "source": [
    "\n",
    "\n",
    "\n",
    "4. Construir un fractal empleando el metodo de Newton-Raphson, \n",
    "(Reproducir código y entender)\n",
    "\\begin{equation}\n",
    "z_{n+1} = z_n -a \\frac{f(z)}{f'(z)} \n",
    "\\end{equation}\n",
    "\n",
    "\n",
    "\n",
    "\\begin{equation}\n",
    "f'(z) = \\frac{ f(z+h)+f(z) }{h}\n",
    "\\end{equation}"
   ]
  },
  {
   "cell_type": "code",
   "execution_count": 107,
   "metadata": {
    "id": "coo74WrCoVBh"
   },
   "outputs": [],
   "source": [
    "Npx_X = 80 #Numero de pixeles en x\n",
    "Npx_Y = 80 #Numero de pixeles en y\n",
    "\n",
    "image = Image.new(\"RGB\", (Npx_X, Npx_Y)) #Creacion de la imagen inicial\n",
    "\n",
    "npx = np.arange(0, Npx_X)\n",
    "npy = np.arange(0, Npx_Y)\n",
    "\n",
    "xmin = -1\n",
    "xmax = 1\n",
    "ymin = -1\n",
    "ymax = 1\n",
    "#Transformación al plano complejo en un rectangulo (xmin, xmax), (ymin, ymax)\n",
    "zx = npx * (xmax - xmin) / (Npx_X - 1)   + xmin\n",
    "zy = npy * (ymax-ymin) / (Npx_Y - 1) + ymin\n"
   ]
  },
  {
   "cell_type": "code",
   "execution_count": 108,
   "metadata": {
    "id": "wMsrzKovpVG7"
   },
   "outputs": [],
   "source": [
    "#Definicion  la funcion y las derivada \n",
    "def f(z): \n",
    "  return z**3 - 1\n",
    "\n",
    "def fp(z): \n",
    "  return 3*z**2\n",
    "\n",
    "h = 1E-4\n",
    "def fpn(z, h): \n",
    "  return (f(z+h)-f(z))/h\n",
    "  \n"
   ]
  },
  {
   "cell_type": "code",
   "execution_count": 109,
   "metadata": {
    "id": "pZC8_84kpVJ1"
   },
   "outputs": [],
   "source": [
    "a = 0.2\n",
    "Niteraciones = 120\n",
    "eps = 1E-8\n",
    "\n",
    "x = - 1\n",
    "for zx_ in zx:\n",
    "  x = x + 1 \n",
    "  y = -1\n",
    "  for zy_ in zy: \n",
    "      y = y + 1\n",
    "      Z_0 = complex(zx_, zy_)\n",
    "    \n",
    "      for i in range(0, Niteraciones): \n",
    "        Z = Z_0 - a * f(Z_0)/fp(Z_0)\n",
    "\n",
    "        if( abs(Z-Z_0)<= eps):\n",
    "          break \n",
    "          \n",
    "        Z_0 = Z\n",
    "      #print(i)\n",
    "      #print(i)\n",
    "      r, g, b = i % 4 *64 , i % 8 *16, i% 16* 16\n",
    "      \n",
    "      image.putpixel((x,y), (r,g,b) )\n"
   ]
  },
  {
   "cell_type": "code",
   "execution_count": 113,
   "metadata": {
    "colab": {
     "base_uri": "https://localhost:8080/",
     "height": 285
    },
    "id": "hfzvlcD6pVM0",
    "outputId": "2133e41c-184b-4b52-bf49-d1bbaa86a6d1"
   },
   "outputs": [
    {
     "data": {
      "text/plain": [
       "<matplotlib.image.AxesImage at 0x2af66cc60a0>"
      ]
     },
     "execution_count": 113,
     "metadata": {},
     "output_type": "execute_result"
    },
    {
     "data": {
      "image/png": "[encoded data removed]",
      "text/plain": [
       "<Figure size 720x720 with 1 Axes>"
      ]
     },
     "metadata": {
      "needs_background": "light"
     },
     "output_type": "display_data"
    }
   ],
   "source": [
    "plt.figure(figsize=(10,10))\n",
    "plt.imshow(image)\n",
    "# plt.xlim(400, 600)\n",
    "# plt.ylim(400, 523)\n"
   ]
  },
  {
   "cell_type": "code",
   "execution_count": null,
   "metadata": {
    "id": "yM2FXog2TXqV"
   },
   "outputs": [],
   "source": []
  }
 ],
 "metadata": {
  "colab": {
   "name": "Tarea03_Solucion_ecuaciones.ipynb",
   "provenance": []
  },
  "kernelspec": {
   "display_name": "Python 3 (ipykernel)",
   "language": "python",
   "name": "python3"
  },
  "language_info": {
   "codemirror_mode": {
    "name": "ipython",
    "version": 3
   },
   "file_extension": ".py",
   "mimetype": "text/x-python",
   "name": "python",
   "nbconvert_exporter": "python",
   "pygments_lexer": "ipython3",
   "version": "3.8.12"
  }
 },
 "nbformat": 4,
 "nbformat_minor": 4
}
