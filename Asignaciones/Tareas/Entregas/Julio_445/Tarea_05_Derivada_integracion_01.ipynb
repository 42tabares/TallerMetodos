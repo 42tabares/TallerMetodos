{
 "cells": [
  {
   "cell_type": "markdown",
   "metadata": {
    "id": "8q4c8oS-hpaE"
   },
   "source": [
    "\n",
    "# 1. Derivadas.\n",
    "\n",
    "\n",
    "En el metodo Smoothed-particle hydrodynamics ([SPH](!https://en.wikipedia.org/wiki/Smoothed-particle_hydrodynamics)) se emplean diferentes kernel de aproximación para calcular las propiedades  de un fluído en cada punto del espacio. Uno de ellos es el Kernel de Lucy detallado a continuación:\n",
    "\n",
    "### Lucy's Quartic Kernel \n",
    "\\begin{equation}\n",
    "W(R, h)= \\alpha_D \\left\\{\n",
    "  \\begin{matrix} \\left(1+3q)(1- q\\right)^3 &  0\\leq q< h \\\\ \n",
    "  0 & in\\ the\\ other\\ case.\n",
    "  \\end{matrix}\n",
    "\\right.\n",
    "\\end{equation}\n",
    "\n",
    "donde, \n",
    "\n",
    "\\begin{equation}\n",
    "q=\\frac{|(\\vec{r}-\\vec{r}')|}{h}\n",
    "\\end{equation}\n",
    "\n",
    "y $\\alpha_D$ es la constante de normalización:\n",
    "\n",
    "- en 2 dimensiones, viene dada por:\n",
    "\\begin{equation}\n",
    "\\alpha_D = \\frac{5}{\\pi h^2}\n",
    "\\end{equation}\n",
    "\n",
    "- en 3 dimensiones, viene dada por:\n",
    "\\begin{equation}\n",
    "\\alpha_D = \\frac{105}{16\\pi h^3}\n",
    "\\end{equation}\n",
    "\n",
    "Para el kernel de Lucy en 2D encontrar su derivada a través de los siguientes pasos:\n",
    "\n",
    "1. Realizar un gráfico del kernel de Lucy.\n",
    "2. Encontrar la derivada empleanda la libreria simbolica\n",
    "3. Realizar un grafico de los cálculos encontrados con la  libreria simbólica  y comparar con la derivada numérica de los datos del punto 1. \n",
    "\n",
    "Recuerde siempre comparar sus resultados con sus cálculos realizados en papel y lapiz.\n",
    "\n",
    "\n",
    "Opcional.\n",
    "\n",
    "Resolver el problema en 3D\n",
    "\n",
    "\n",
    "\n",
    "\n"
   ]
  },
  {
   "cell_type": "markdown",
   "metadata": {
    "id": "WV6dMBzK_odZ",
    "tags": []
   },
   "source": [
    "\n",
    "\n",
    "\n",
    "# 2.0 Integración\n",
    "\n",
    "1. Escribir en código Markdown la expresión para calcular una integral con la regla del trapecio.\n",
    "\n",
    "2. Escribir en código Markdown la expresión para calcular una integral con la regla del simpson\n",
    "\n",
    "\n",
    "3. Escribir en código Markdown la expresión para calcular una integral con el metodo de cuadratura.\n",
    "\n",
    "4. Calcular una aproximación con el metodo 1,2,3 de las siguientes integrales\n",
    "\n",
    "- \n",
    " $$\n",
    " \\int_0^\\pi e^{1-\\sqrt{x}}\\, dx\n",
    " $$\n",
    "\n",
    "\n",
    "- $$\n",
    " \\int_0^{\\pi/2} \\frac{1}{\\sqrt{\\tan x}}\\, dx\n",
    " $$\n",
    "\n",
    "- \n",
    "$$\n",
    " \\int_{-\\infty}^{\\infty} \\frac{1}{1+x^2} \\, dx\n",
    " $$\n",
    "\n",
    "\n",
    "- \n",
    "\n",
    "$$\n",
    " \\int_{0}^{\\pi/4} \\int_{\\sin x}^{\\cos x} (2y\\sin x +\\cos^2 x)\\, dxdy\n",
    " $$\n",
    "\n",
    "\n",
    "- \n",
    "$$\n",
    " \\int_{-\\infty}^{\\infty} \\frac{1}{1+x^2} \\, dx\n",
    " $$\n",
    "\n",
    "\n",
    "- \n",
    "$$\n",
    " \\int_{e}^{2e} \\frac{1}{\\ln x} \\, dx\n",
    " $$\n",
    "\n",
    "\n",
    "garantizando  que el error sea menor a $\\varepsilon=1E-5$.  "
   ]
  },
  {
   "cell_type": "markdown",
   "metadata": {
    "id": "6hJGsmCkF6Wv"
   },
   "source": [
    "5. Suppose a body of mass m is traveling vertically upward starting at the surface of the earth. If all\n",
    "resistance except gravity is neglected, the escape velocity v is given by\n",
    "\n",
    "$$\n",
    "v^2=2gR\\int_1 ^\\infty z^{-2} dz,\n",
    "$$\n",
    "\n",
    "where z=x/R, R is the earth radius and g de gravity aceleration. Approximate the scape velocity"
   ]
  },
  {
   "cell_type": "markdown",
   "metadata": {
    "id": "dJVCeEtpX2sJ"
   },
   "source": [
    "\n",
    "6 Write a double precision program to integrate an arbitrary function numerically using the trapezoid rule, the Simpson rule, and Gaussian quadrature. For our assumed problems there is an analytics answer:\n",
    "\n",
    "\\begin{equation}\n",
    "\\frac{\\mathrm{d}N(t)}{\\mathrm{d}t}=e^{-t}\n",
    "\\end{equation}\n",
    "\n",
    "\\begin{equation}\n",
    "N(1)=\\int_0^{1}e^{-t} dt=1-e^{-1}\n",
    "\\end{equation}\n",
    "\n",
    "6.2. Compute the relative error $\\epsilon=|numerical-exact|/exact$ in each case. Present your data in the tabular form \n",
    "with space or tabas seprating the field. Try N values of 2, 10, 20 , 40 , 80, 160\n",
    "\n",
    "| N  |$\\epsilon_T$ | $\\epsilon_S$ | $\\epsilon_G$ |\n",
    "|----|---------------|--------------|--------------|\n",
    "|   2  |...|...|...|\n",
    "|   10  |...|...|...|\n",
    "\n",
    "6.3. Make a log-log plot of relative errore versus. You should observe that \n",
    "$\\epsilon\\approx CN^{\\alpha}$, $\\mathrm{log} \\epsilon =\\alpha \\mathrm{log}N + \\mathrm{constant}$. This mean that a power-law dependence appears as a straight line on a log-log plot, and that if you use $\\log_{10}$, the the ordinate on your log-log plot will be the negative of the numver of decimal places of presicion in your calculation.\n",
    "6.4. Use your plot or table to stimate the power-law dependence of the error $\\epsilon$ on the number of points N and to determine the number of decimal places of presicion in your calculation. Do this for both the trapezoid and simpsons rules and for both the algolrithmic and round-off error regimes. (Note that if may be hard to reach the round-off error regime for the trapezoid rule becasue the aproximation ) error is so large"
   ]
  },
  {
   "cell_type": "code",
   "execution_count": 207,
   "metadata": {
    "id": "hly3b-GsYi-a"
   },
   "outputs": [
    {
     "name": "stdout",
     "output_type": "stream",
     "text": [
      "Populating the interactive namespace from numpy and matplotlib\n"
     ]
    },
    {
     "name": "stderr",
     "output_type": "stream",
     "text": [
      "C:\\Users\\Santiago\\anaconda3\\lib\\site-packages\\IPython\\core\\magics\\pylab.py:159: UserWarning: pylab import has clobbered these variables: ['interp']\n",
      "`%matplotlib` prevents importing * from pylab and numpy\n",
      "  warn(\"pylab import has clobbered these variables: %s\"  % clobbered +\n"
     ]
    }
   ],
   "source": [
    "%pylab inline\n",
    "import numpy as np\n",
    "import scipy.interpolate as interp\n",
    "from scipy import misc\n",
    "import matplotlib.pyplot as plt\n",
    "from scipy import integrate\n",
    "import sympy as sp"
   ]
  },
  {
   "cell_type": "markdown",
   "metadata": {},
   "source": [
    "# 1. Derivadas\n",
    "1."
   ]
  },
  {
   "cell_type": "code",
   "execution_count": 13,
   "metadata": {},
   "outputs": [],
   "source": [
    "H = 1\n",
    "π=np.pi\n",
    "αD = 5/(π*H**2)\n",
    "R=np.linspace(-H,H,100)"
   ]
  },
  {
   "cell_type": "code",
   "execution_count": 14,
   "metadata": {},
   "outputs": [
    {
     "data": {
      "image/png": "[encoded data removed]",
      "text/plain": [
       "<Figure size 432x288 with 1 Axes>"
      ]
     },
     "metadata": {
      "needs_background": "light"
     },
     "output_type": "display_data"
    }
   ],
   "source": [
    "def W(r,h):\n",
    "    q=np.abs(r)/h\n",
    "    W=αD*(1+3*q)*(1-q)**3\n",
    "    return W\n",
    "\n",
    "plt.plot(R,W(R,H),'r')\n",
    "plt.title(\"Lucy's quartic kernel 2D\")\n",
    "plt.xlabel('r')\n",
    "plt.ylabel('W(r,h)')\n",
    "plt.grid()\n",
    "plt.show()"
   ]
  },
  {
   "cell_type": "markdown",
   "metadata": {},
   "source": [
    "2."
   ]
  },
  {
   "cell_type": "code",
   "execution_count": 17,
   "metadata": {},
   "outputs": [
    {
     "data": {
      "text/latex": [
       "$\\displaystyle \\left(1 - \\frac{\\left|{r}\\right|}{h}\\right)^{3} \\left(1.59154943091895 + \\frac{4.77464829275686 \\left|{r}\\right|}{h}\\right)$"
      ],
      "text/plain": [
       "(1 - Abs(r)/h)**3*(1.59154943091895 + 4.77464829275686*Abs(r)/h)"
      ]
     },
     "execution_count": 17,
     "metadata": {},
     "output_type": "execute_result"
    }
   ],
   "source": [
    "r=sp.symbols('r',real=True)\n",
    "h=sp.symbols('h')\n",
    "W(r,h)"
   ]
  },
  {
   "cell_type": "code",
   "execution_count": 18,
   "metadata": {
    "tags": []
   },
   "outputs": [
    {
     "data": {
      "text/latex": [
       "$\\displaystyle \\frac{4.77464829275686 \\left(1 - \\frac{\\left|{r}\\right|}{h}\\right)^{3} \\operatorname{sign}{\\left(r \\right)}}{h} - \\frac{3 \\left(1 - \\frac{\\left|{r}\\right|}{h}\\right)^{2} \\left(1.59154943091895 + \\frac{4.77464829275686 \\left|{r}\\right|}{h}\\right) \\operatorname{sign}{\\left(r \\right)}}{h}$"
      ],
      "text/plain": [
       "4.77464829275686*(1 - Abs(r)/h)**3*sign(r)/h - 3*(1 - Abs(r)/h)**2*(1.59154943091895 + 4.77464829275686*Abs(r)/h)*sign(r)/h"
      ]
     },
     "execution_count": 18,
     "metadata": {},
     "output_type": "execute_result"
    }
   ],
   "source": [
    "dW=W(r,h).diff(r)\n",
    "dW"
   ]
  },
  {
   "cell_type": "markdown",
   "metadata": {},
   "source": [
    "3."
   ]
  },
  {
   "cell_type": "code",
   "execution_count": 19,
   "metadata": {},
   "outputs": [],
   "source": [
    "def derivative(func,x0,**kwargs):   #kwargs se mandan como argumento genérico.\n",
    "    '''\n",
    "    Vectorized replacement of scipy.misc derivative:\n",
    "        from scipy.misc import derivative\n",
    "    For usage check the derivative help, e.g, in jupyter: \n",
    "        from scipy.misc import derivative\n",
    "        derivative?\n",
    "        \n",
    "    Tomado del material del profesor Diego.\n",
    "    '''\n",
    "    try:\n",
    "        #x0: can be an array or a list  \n",
    "        nn=np.asarray(x0).shape[0] # force error if float is used \n",
    "        fp=np.vectorize(misc.derivative)\n",
    "    except IndexError:\n",
    "        fp=misc.derivative\n",
    "        \n",
    "    return fp(func,x0,**kwargs)"
   ]
  },
  {
   "cell_type": "code",
   "execution_count": 20,
   "metadata": {},
   "outputs": [],
   "source": [
    "dW1=sp.lambdify([r,h],dW)\n",
    "dW2=lambda x:derivative(lambda r:W(r,H),x,dx=1e-3)"
   ]
  },
  {
   "cell_type": "code",
   "execution_count": 22,
   "metadata": {},
   "outputs": [
    {
     "data": {
      "image/png": "[encoded data removed]",
      "text/plain": [
       "<Figure size 720x540 with 1 Axes>"
      ]
     },
     "metadata": {
      "needs_background": "light"
     },
     "output_type": "display_data"
    }
   ],
   "source": [
    "plt.figure(figsize=(10,7.5))\n",
    "plt.plot(R,W(R,H),'r',label='W(r,h)',linewidth=3)\n",
    "plt.plot(R,dW2(R),'lime',label=r'Numerical $\\frac{dW}{dr}$',linewidth=3)\n",
    "plt.plot(R,dW1(R,H),'b:',label=r'Analytical $\\frac{dW}{dr}$',linewidth=3)\n",
    "plt.title(\"Lucy's quartic kernel 2D\")\n",
    "plt.xlabel('r')\n",
    "plt.ylabel('W(r,h)')\n",
    "plt.grid()\n",
    "plt.legend()\n",
    "plt.show()"
   ]
  },
  {
   "cell_type": "markdown",
   "metadata": {},
   "source": [
    "# 2. Integración\n",
    "1. _Método del trapecio:_ dada una función $f$ y un conjunto de puntos $\\{x_1,...,x_N\\}$ uniformemente espaciados, se define un trapecio debajo de la curva con vértices $x_i$, $x_{i+1}$, $f(x_i)$ y $f(x_{i+1})$, cuya área es $A=\\dfrac{h(f(x_{i+1})+f(x_i))}{2}$, con $h=\\dfrac{x_N-x_1}{N-1}$. El área debajo de la curva entre $x_1$ y $x_N$ se puede aproximar sumando las áreas de los trapecios determinados por cada par de puntos:\n",
    "\n",
    "\\begin{equation}\n",
    "\\int_{x_1}^{x_N}f(x)dx\\approx\\frac{h}{2}f(x_1)+hf(x_2)+\\dots+hf(x_{N-1})+\\frac{h}{2}f(x_N)\n",
    "\\end{equation}\n",
    "\n",
    "2. _Método de Simpson:_ dada una función $f$ y un conjunto de puntos $\\{x_1,...,x_N\\}$ uniformemente espaciados donde $N$ es un número impar. El área debajo de la curva se puede aproximar como la suma de las áreas bajo las parábolas determinadas por tres puntos sucesivos del conjunto, por lo cual se requiere que sea un número impar de puntos. El área debajo de una sola de las parábolas es $A\\approx\\dfrac{h}{3}f(x_{i})+\\dfrac{4h}{3}f(x_{i+1})+\\dfrac{h}{3}f(x_{i+2})$. Así, el área total debajo de la curva es:\n",
    "\n",
    "\\begin{equation}\n",
    "\\int_{x_1}^{x_N}f(x)dx\\approx\\frac{h}{3}f(x_1)+\\frac{4h}{3}f(x_2)+\\frac{2h}{3}f(x_3)+\\frac{4h}{3}f(x_4)+\\dots+\\frac{4h}{3}f(x_{N-1})+\\frac{h}{3}f(x_N)\n",
    "\\end{equation}\n",
    "\n",
    "3. _Método de cuadratura:_ dada una función $f$ definida entre $a$ y $b$, el área bajo la curva se puede aproximar como la suma de las áreas de $n$ rectángulos de base $h$ y altura $\\dfrac{f(x_i)+f(x_{i+1})}{2}$, donde $x_i=a+(i-1)h$. En ese sentido, se puede generar un conjunto de puntos $\\{x_1,...,x_{n+1}\\}$ uniformemente espaciados, y la expresión para este método es igual que la expresión del método del trapecio:\n",
    "\n",
    "\\begin{equation}\n",
    "\\int_{a}^{b}f(x)dx\\approx\\frac{h}{2}f(x_1)+hf(x_2)+\\dots+hf(x_{n})+\\frac{h}{2}f(x_{n+1})\n",
    "\\end{equation}\n",
    "\n",
    "4."
   ]
  },
  {
   "cell_type": "markdown",
   "metadata": {},
   "source": [
    "a."
   ]
  },
  {
   "cell_type": "code",
   "execution_count": 141,
   "metadata": {},
   "outputs": [],
   "source": [
    "def f1(x):\n",
    "    return np.exp(1-np.sqrt(x))\n",
    "\n",
    "X1=np.linspace(0,π,101)"
   ]
  },
  {
   "cell_type": "code",
   "execution_count": 214,
   "metadata": {},
   "outputs": [
    {
     "data": {
      "image/png": "[encoded data removed]",
      "text/plain": [
       "<Figure size 432x288 with 1 Axes>"
      ]
     },
     "metadata": {
      "needs_background": "light"
     },
     "output_type": "display_data"
    }
   ],
   "source": [
    "plt.plot(X1,f1(X1))\n",
    "plt.grid()\n",
    "plt.show()"
   ]
  },
  {
   "cell_type": "code",
   "execution_count": 143,
   "metadata": {},
   "outputs": [
    {
     "data": {
      "text/plain": [
       "(2.875491135437586, 2.878517278289438, 2.8767188557412786)"
      ]
     },
     "execution_count": 143,
     "metadata": {},
     "output_type": "execute_result"
    }
   ],
   "source": [
    "I1q=integrate.quad(f1,0,π,epsabs=1e-5)\n",
    "I1t=integrate.trapz(f1(X1),X1,dx=1e-5)\n",
    "I1s=integrate.simps(f1(X1),X1,dx=1e-5)\n",
    "\n",
    "I1q[0],I1t,I1s"
   ]
  },
  {
   "cell_type": "code",
   "execution_count": 144,
   "metadata": {},
   "outputs": [
    {
     "data": {
      "text/latex": [
       "$\\displaystyle 2.87549113543758$"
      ],
      "text/plain": [
       "2.87549113543758"
      ]
     },
     "execution_count": 144,
     "metadata": {},
     "output_type": "execute_result"
    }
   ],
   "source": [
    "I1ex=sp.integrate(sp.exp(1-sp.sqrt(x)),(x,0,π)).evalf()\n",
    "I1ex"
   ]
  },
  {
   "cell_type": "markdown",
   "metadata": {},
   "source": [
    "b."
   ]
  },
  {
   "cell_type": "code",
   "execution_count": 145,
   "metadata": {},
   "outputs": [],
   "source": [
    "def f2(x):\n",
    "    return 1/(np.sqrt(np.tan(x)))\n",
    "\n",
    "X2=np.linspace(1.49e-3,π/2,101)"
   ]
  },
  {
   "cell_type": "code",
   "execution_count": 146,
   "metadata": {},
   "outputs": [
    {
     "data": {
      "image/png": "[encoded data removed]",
      "text/plain": [
       "<Figure size 432x288 with 1 Axes>"
      ]
     },
     "metadata": {
      "needs_background": "light"
     },
     "output_type": "display_data"
    }
   ],
   "source": [
    "plt.plot(X2,f2(X2))\n",
    "plt.grid()\n",
    "plt.ylim(0,10)\n",
    "plt.show()"
   ]
  },
  {
   "cell_type": "code",
   "execution_count": 147,
   "metadata": {},
   "outputs": [
    {
     "data": {
      "text/plain": [
       "(2.2214414690791098, 2.226363952392048, 2.1827093581855666)"
      ]
     },
     "execution_count": 147,
     "metadata": {},
     "output_type": "execute_result"
    }
   ],
   "source": [
    "I2q=integrate.quad(f2,0,π/2,epsabs=1e-5)\n",
    "I2t=integrate.trapz(f2(X2),X2)\n",
    "I2s=integrate.simps(f2(X2),X2)\n",
    "\n",
    "I2q[0],I2t,I2s"
   ]
  },
  {
   "cell_type": "code",
   "execution_count": 148,
   "metadata": {},
   "outputs": [
    {
     "data": {
      "text/latex": [
       "$\\displaystyle 2.22144146907918$"
      ],
      "text/plain": [
       "2.22144146907918"
      ]
     },
     "execution_count": 148,
     "metadata": {},
     "output_type": "execute_result"
    }
   ],
   "source": [
    "I2ex=sp.integrate(1/(sp.sqrt(sp.tan(x))),(x,0,π/2)).evalf()\n",
    "I2ex"
   ]
  },
  {
   "cell_type": "markdown",
   "metadata": {},
   "source": [
    "c."
   ]
  },
  {
   "cell_type": "code",
   "execution_count": 157,
   "metadata": {},
   "outputs": [],
   "source": [
    "def f3(x):\n",
    "    return 1/(1+x**2)\n",
    "\n",
    "X3=np.linspace(-1e5,1e5,int(1e7+1))"
   ]
  },
  {
   "cell_type": "code",
   "execution_count": 158,
   "metadata": {},
   "outputs": [
    {
     "data": {
      "image/png": "[encoded data removed]",
      "text/plain": [
       "<Figure size 432x288 with 1 Axes>"
      ]
     },
     "metadata": {
      "needs_background": "light"
     },
     "output_type": "display_data"
    }
   ],
   "source": [
    "plt.plot(X3,f3(X3))\n",
    "plt.xlim(-5,5)\n",
    "plt.grid()\n",
    "plt.show()"
   ]
  },
  {
   "cell_type": "code",
   "execution_count": 159,
   "metadata": {},
   "outputs": [
    {
     "data": {
      "text/plain": [
       "(3.141592653589793, 3.1415726535897925, 3.141572653589793)"
      ]
     },
     "execution_count": 159,
     "metadata": {},
     "output_type": "execute_result"
    }
   ],
   "source": [
    "I3q=integrate.quad(f3,np.NINF,np.inf,epsabs=1e-5)\n",
    "I3t=integrate.trapz(f3(X3),X3)\n",
    "I3s=integrate.simps(f3(X3),X3)\n",
    "\n",
    "I3q[0],I3t,I3s"
   ]
  },
  {
   "cell_type": "code",
   "execution_count": 163,
   "metadata": {},
   "outputs": [
    {
     "data": {
      "text/latex": [
       "$\\displaystyle 3.14159265358979$"
      ],
      "text/plain": [
       "3.14159265358979"
      ]
     },
     "execution_count": 163,
     "metadata": {},
     "output_type": "execute_result"
    }
   ],
   "source": [
    "I3ex=sp.integrate(1/(1+x**2),(x,-sp.oo,sp.oo)).evalf()\n",
    "I3ex"
   ]
  },
  {
   "cell_type": "markdown",
   "metadata": {},
   "source": [
    "d."
   ]
  },
  {
   "cell_type": "code",
   "execution_count": 200,
   "metadata": {},
   "outputs": [
    {
     "data": {
      "text/latex": [
       "$\\displaystyle - \\sin^{3}{\\left(x \\right)} + \\cos^{3}{\\left(x \\right)}$"
      ],
      "text/plain": [
       "-sin(x)**3 + cos(x)**3"
      ]
     },
     "execution_count": 200,
     "metadata": {},
     "output_type": "execute_result"
    }
   ],
   "source": [
    "x=sp.symbols('x')\n",
    "y=sp.symbols('y')\n",
    "i=sp.integrate(2*y*sp.sin(x)+(sp.cos(x))**2,(y,sp.sin(x),sp.cos(x)))\n",
    "i"
   ]
  },
  {
   "cell_type": "code",
   "execution_count": 203,
   "metadata": {},
   "outputs": [
    {
     "data": {
      "text/plain": [
       "(0.5118446353109126, 0.511799217398145, 0.5118441038993553)"
      ]
     },
     "execution_count": 203,
     "metadata": {},
     "output_type": "execute_result"
    }
   ],
   "source": [
    "f4=sp.lambdify(x,i)\n",
    "X4=np.linspace(0,π/4)\n",
    "\n",
    "I4q=integrate.quad(f4,0,π/4,epsabs=1e-5)\n",
    "I4t=integrate.trapz(f4(X4),X4,dx=1e-5)\n",
    "I4s=integrate.simps(f4(X4),X4,dx=1e-5)\n",
    "I4q[0],I4t,I4s"
   ]
  },
  {
   "cell_type": "code",
   "execution_count": 209,
   "metadata": {},
   "outputs": [
    {
     "data": {
      "text/latex": [
       "$\\displaystyle 0.511844635310913$"
      ],
      "text/plain": [
       "0.511844635310913"
      ]
     },
     "execution_count": 209,
     "metadata": {},
     "output_type": "execute_result"
    }
   ],
   "source": [
    "I4ex=sp.integrate(i,(x,0,π/4))\n",
    "I4ex"
   ]
  },
  {
   "cell_type": "markdown",
   "metadata": {},
   "source": [
    "e."
   ]
  },
  {
   "cell_type": "code",
   "execution_count": 205,
   "metadata": {},
   "outputs": [],
   "source": [
    "def f5(x):\n",
    "    return 1/(np.log(x))\n",
    "\n",
    "X5=np.linspace(np.e,2*np.e,101)"
   ]
  },
  {
   "cell_type": "code",
   "execution_count": 208,
   "metadata": {},
   "outputs": [
    {
     "data": {
      "image/png": "[encoded data removed]",
      "text/plain": [
       "<Figure size 432x288 with 1 Axes>"
      ]
     },
     "metadata": {
      "needs_background": "light"
     },
     "output_type": "display_data"
    }
   ],
   "source": [
    "plt.plot(X5,f5(X5))\n",
    "plt.grid()\n",
    "plt.show()"
   ]
  },
  {
   "cell_type": "code",
   "execution_count": 210,
   "metadata": {},
   "outputs": [
    {
     "data": {
      "text/plain": [
       "(2.0038105616240243, 2.003829262576877, 2.0038105636867156)"
      ]
     },
     "execution_count": 210,
     "metadata": {},
     "output_type": "execute_result"
    }
   ],
   "source": [
    "I5q=integrate.quad(f5,np.e,2*np.e,epsabs=1e-5)\n",
    "I5t=integrate.trapz(f5(X5),X5,dx=1e-5)\n",
    "I5s=integrate.simps(f5(X5),X5,dx=1e-5)\n",
    "I5q[0],I5t,I5s"
   ]
  },
  {
   "cell_type": "code",
   "execution_count": 213,
   "metadata": {},
   "outputs": [
    {
     "data": {
      "text/latex": [
       "$\\displaystyle 2.00381056162402$"
      ],
      "text/plain": [
       "2.00381056162402"
      ]
     },
     "execution_count": 213,
     "metadata": {},
     "output_type": "execute_result"
    }
   ],
   "source": [
    "I5ex=sp.integrate(1/sp.log(x),(x,sp.exp(1),2*sp.exp(1)))\n",
    "I5ex.evalf()"
   ]
  },
  {
   "cell_type": "code",
   "execution_count": null,
   "metadata": {},
   "outputs": [],
   "source": []
  }
 ],
 "metadata": {
  "colab": {
   "collapsed_sections": [],
   "name": "Tarea07_Derivada_integracion_01.ipynb",
   "provenance": []
  },
  "kernelspec": {
   "display_name": "Python 3 (ipykernel)",
   "language": "python",
   "name": "python3"
  },
  "language_info": {
   "codemirror_mode": {
    "name": "ipython",
    "version": 3
   },
   "file_extension": ".py",
   "mimetype": "text/x-python",
   "name": "python",
   "nbconvert_exporter": "python",
   "pygments_lexer": "ipython3",
   "version": "3.9.7"
  }
 },
 "nbformat": 4,
 "nbformat_minor": 4
}
