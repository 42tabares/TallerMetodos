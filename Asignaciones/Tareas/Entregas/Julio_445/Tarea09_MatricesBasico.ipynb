{
 "cells": [
  {
   "cell_type": "code",
   "execution_count": 1,
   "metadata": {
    "id": "Na1Jhwv8Ozxz"
   },
   "outputs": [],
   "source": [
    "import numpy as np\n",
    "import sympy as sp\n",
    "import scipy.linalg as LA\n",
    "import matplotlib.pyplot as plt\n",
    "import pandas as pd"
   ]
  },
  {
   "cell_type": "markdown",
   "metadata": {
    "id": "Cdy-GXp4LEri"
   },
   "source": [
    "# Matrices "
   ]
  },
  {
   "cell_type": "markdown",
   "metadata": {
    "id": "Yrith54klatR"
   },
   "source": [
    "## Operaciones Básicas\n",
    "\n",
    "1. Un proceso para encriptar un mensaje secreto es usar cierta matrix cuadrada cuyos elementos son enteros con elementos enteros en la inversa. Se recibe un mensaje, se asigna un número a cada letra Por ejemplo, A=1, B=2, C=3, ... etc y espacio=27), se arreglan los números en una matriz de izquierda a derecha en cada fila, donde el número de elementos en la fila es igual al tamano de la matriz de codigo, se multiplica esa matriz por la matriz de código por la derecha, se transcribe el mensaje en una cadena de números y se manda el mensaje. \n",
    "\n",
    "La persona que debe recibir el mensaje conoce la matriz de codigo. El o ellla arrelgan el mensaje encriptado en una matriz de izquierda a derecha en cada fila, en donde el numero de elementos en una fila conicide con el tamano de la matriz de codigo muplicada por la derecha, por el inverso de la matriz de código y puede leer mensaje decodificado.\n",
    "\n",
    "Usted a recibido el siguiente mensaje que fue encriptado usando la matriz A. Decodifiquelo.\n",
    "\n",
    "```\n",
    "A = matrix([[ 1,  2, -3,  4,  5],\n",
    "        [-2, -5,  8, -8, -9],\n",
    "        [ 1,  2, -2,  7,  9],\n",
    "        [ 1,  1,  0,  6, 12],\n",
    "        [ 2,  4, -6,  8, 11]])\n",
    "```\n",
    "\n",
    "Mensaje\n",
    "\n",
    "47,49,-19,257,487,10,-9,63,137,236, 79,142,-184,372,536,59,70,-40,332,588, \n",
    "\n",
    "la primera fila del mensaje es 47,49,-19,257,487\n",
    "\n",
    "¿Cual es el mensaje?\n",
    "\n",
    "\n",
    "\n",
    "```\n",
    "abc=['A','B','C','D','E','F','G','H','I','J','K','L','M','N','O','P','Q','R','S','T','U','V','W','X','Y','Z',' ']\n",
    "num=['1','2','3','4','5','6','7','8','9','10','11','12','13','14','15','16','17','18','19','20','21','22','23','24','25','26','27']\n",
    "```\n",
    "\n",
    "\n",
    "\n",
    "2. Construir un programa que permita realizar la multiplicacion de dos \n",
    "matrices. El programa debe establecer si las matrices se pueden multiplicar.\n",
    "\n",
    "\n"
   ]
  },
  {
   "cell_type": "markdown",
   "metadata": {
    "id": "s8F7yekBSPV4"
   },
   "source": [
    "1."
   ]
  },
  {
   "cell_type": "code",
   "execution_count": 2,
   "metadata": {
    "id": "Kxnrt4OgOb_W"
   },
   "outputs": [],
   "source": [
    "mens = np.matrix([[47,49,-19,257,487],\n",
    "      [10,-9,63,137,236], \n",
    "      [79,142,-184,372,536],\n",
    "      [59,70,-40,332,588]])\n",
    "\n",
    "A = np.matrix([[ 1,  2, -3,  4,  5],\n",
    "        [-2, -5,  8, -8, -9],\n",
    "        [ 1,  2, -2,  7,  9],\n",
    "        [ 1,  1,  0,  6, 12],\n",
    "        [ 2,  4, -6,  8, 11]])"
   ]
  },
  {
   "cell_type": "code",
   "execution_count": 3,
   "metadata": {
    "id": "CPPz6r-lPYLP"
   },
   "outputs": [],
   "source": [
    "abc=['A','B','C','D','E','F','G','H','I','J','K','L','M','N','O','P','Q','R','S','T','U','V','W','X','Y','Z',' ']\n",
    "num=['1','2','3','4','5','6','7','8','9','10','11','12','13','14','15','16','17','18','19','20','21','22','23','24','25','26','27']\n",
    "\n",
    "dicc=dict(zip(num,abc))"
   ]
  },
  {
   "cell_type": "code",
   "execution_count": 4,
   "metadata": {
    "colab": {
     "base_uri": "https://localhost:8080/"
    },
    "id": "Rr3UaHeXQBoi",
    "outputId": "9ae5325a-be6d-42d6-a77e-6aa48f644b8b"
   },
   "outputs": [
    {
     "name": "stdout",
     "output_type": "stream",
     "text": [
      "[1, 18, 5, 27, 25, 15, 21, 27, 8, 1, 22, 9, 14, 7, 27, 6, 21, 14, 27, 27]\n",
      "El mensaje es: ARE YOU HAVING FUN  \n"
     ]
    }
   ],
   "source": [
    "mensdecod=mens@A.I\n",
    "mensdecod=np.round(mensdecod.reshape(20),0).astype(int).tolist()[0]\n",
    "print(mensdecod)\n",
    "M=[]\n",
    "for i in mensdecod:\n",
    "  M.append(dicc[str(i)])\n",
    "\n",
    "print('El mensaje es:',''.join(M))"
   ]
  },
  {
   "cell_type": "markdown",
   "metadata": {
    "id": "G9ZD8PMUSQwW"
   },
   "source": [
    "2."
   ]
  },
  {
   "cell_type": "code",
   "execution_count": 5,
   "metadata": {
    "colab": {
     "base_uri": "https://localhost:8080/"
    },
    "id": "KVyrNFAiSMlJ",
    "outputId": "2741d216-e5cd-4d7a-d231-31c5fcf54407"
   },
   "outputs": [
    {
     "name": "stdout",
     "output_type": "stream",
     "text": [
      "Ingrese el numero de filas de la primera matriz : 2\n",
      "Ingrese el numero de Columnas de la primera matriz : 2\n",
      "Ingrese el numero de filas de la segunda matriz : 2\n",
      "Ingrese el numero de Columnas de la segunda matriz : 2\n"
     ]
    }
   ],
   "source": [
    "fil1= int(input(\"Ingrese el numero de filas de la primera matriz : \"))\n",
    "col1= int(input(\"Ingrese el numero de Columnas de la primera matriz : \"))\n",
    "fil2= int(input(\"Ingrese el numero de filas de la segunda matriz : \"))\n",
    "col2= int(input(\"Ingrese el numero de Columnas de la segunda matriz : \"))"
   ]
  },
  {
   "cell_type": "code",
   "execution_count": 7,
   "metadata": {
    "colab": {
     "base_uri": "https://localhost:8080/"
    },
    "id": "OVX-SbJqSVg1",
    "outputId": "6965a3a7-9c65-4582-aa73-0cbd3be12edf"
   },
   "outputs": [
    {
     "name": "stdout",
     "output_type": "stream",
     "text": [
      "A=\n",
      "[[28 38]\n",
      " [20 36]]\n",
      "B=\n",
      "[[66 36]\n",
      " [ 4 12]]\n",
      "AxB=\n",
      "[[2000. 1464.]\n",
      " [1464. 1152.]]\n"
     ]
    }
   ],
   "source": [
    "dim1= (fil1,col1)\n",
    "dim2= (fil2,col2)\n",
    "mat1= np.random.randint(100,size=dim1)\n",
    "mat2= np.random.randint(100,size=dim2)\n",
    "zero= np.zeros([fil1,col2])\n",
    "print(f'A=\\n{mat1}')\n",
    "print(f'B=\\n{mat2}')\n",
    "\n",
    "if col1==fil2: \n",
    "  for i in range(fil1):\n",
    "    for j in range(col2):\n",
    "      c=[]\n",
    "      for a,b in zip(mat1[i],mat2[:,j]):\n",
    "        c.append(a*b)\n",
    "      c=np.array(c)\n",
    "      sum=np.sum(c)\n",
    "      zero[i,j]=sum\n",
    "  print(f\"AxB=\\n{zero}\")\n",
    "\n",
    "else: \n",
    "  print(\"Las matrices no son compatibles para el producto\")"
   ]
  },
  {
   "cell_type": "code",
   "execution_count": null,
   "metadata": {},
   "outputs": [],
   "source": []
  },
  {
   "cell_type": "markdown",
   "metadata": {
    "id": "tkhci52rmiif"
   },
   "source": [
    "\n",
    "## Regresión lineal: 1D\n",
    "2. Para los datos generados en el siguiente dataframe  realizar una regresión lineal, empleando  la siguiente ecuación.\n",
    "\n",
    "$\\Theta = (X^T X)^{-1} X^T y$\n",
    "\n",
    "Los parametros theta se corresponden con la siguiente ecuacion de la recta:\n",
    "\n",
    "$y = \\theta^T X =\\theta_0 + \\theta_1 x_1 $\n",
    "\n",
    "```\n",
    "N = 10\n",
    "x1 = np.linspace(-1, 1, N)\n",
    "y = 2*x1 #- 3*x2 + 0.0\n",
    "df = pd.DataFrame({\"Y\":y, \"X1\":x1})\n",
    "\n",
    "df[\"ones\"] = np.ones(N)\n",
    "\n",
    "plt.plot(df.X1,df.Y,\"ro\")\n",
    "\n",
    "X = np.matrix(df[ [\"ones\",\"X1\"] ])\n",
    "np.shape(X)\n",
    "y = np.array([df[\"Y\"]])\n",
    "Y  = np.matrix(np.transpose(y))\n",
    "np.shape(Y)\n",
    "```\n",
    "\n",
    "## Regresión lineal: 2D\n",
    "3. La ecuación anterior puede ser aplicada a sistemas n-dimensionales, como se describie en el siguiente ejercicio. Suponga que se tiene un sistema físico con dos caracteristiacs X1,X2 que se corresponden con un predicción  Y. \n",
    "\n",
    "- Encontrar el plano que ajusta los datos, para los datos sinteticos dados mas abajo , a través de:\n",
    "\\begin{equation}\n",
    "\\Theta = (X^T X)^{-1} X^T y$\n",
    "\\end{equation}\n",
    "\n",
    "- Construya el plano en 3D, donde se evidencia los puntos y el plano de ajustes.\n",
    "\n",
    "$y = \\theta^T X =\\theta_0 + \\theta_1 X_1+ \\theta_2 X_2$\n",
    "\n",
    "\n",
    "```\n",
    "N = 200\n",
    "x1 = np.linspace(-1, 1, N) \n",
    "x2 = np.linspace(-1, 1, N)\n",
    "\n",
    "X1, X2 = np.meshgrid(x1,x2)\n",
    "Y = 0.2*X1 - 0.5*X2 - 1.0\n",
    "\n",
    "# Ecuaciones parametricas del mismo plano:\n",
    "alpha = 2*np.random.random(N)-1\n",
    "beta  = 2*np.random.random(N)-1\n",
    "x1 = alpha\n",
    "x2 = beta\n",
    "y = 0.2*alpha - 0.5*beta - 1.0\n",
    "\n",
    "fig, ax = plt.subplots(subplot_kw={\"projection\": \"3d\"})\n",
    "surf = ax.scatter(x1, x2, y, color=\"green\")\n",
    "ax.set_xlabel(\"X1\")\n",
    "ax.set_ylabel(\"X2\")\n",
    "ax.set_zlabel(\"Y1\")\n",
    "\n",
    "```\n",
    "\n",
    "\n",
    "DataFrame\n",
    "```\n",
    "# Regresion bi-lineal\n",
    "df = pd.DataFrame({\"Y\":y, \"X1\":x1,\"X2\":x2})\n",
    "df[\"ones\"] = np.ones(N)\n",
    "\n",
    "\n",
    "y = np.reshape(df.Y.values, (N,1))\n",
    "X = df[[\"ones\",\"X1\",\"X2\"]].values\n",
    "X = np.matrix(X)\n",
    "```\n",
    "\n",
    " "
   ]
  },
  {
   "cell_type": "code",
   "execution_count": 8,
   "metadata": {
    "colab": {
     "base_uri": "https://localhost:8080/",
     "height": 283
    },
    "id": "n40VkhqkrJuh",
    "outputId": "be058f7c-5315-4ba0-e8fa-a97cdd737d60"
   },
   "outputs": [
    {
     "data": {
      "text/plain": [
       "(10, 1)"
      ]
     },
     "execution_count": 8,
     "metadata": {},
     "output_type": "execute_result"
    },
    {
     "data": {
      "image/png": "[encoded data removed]",
      "text/plain": [
       "<Figure size 432x288 with 1 Axes>"
      ]
     },
     "metadata": {
      "needs_background": "light"
     },
     "output_type": "display_data"
    }
   ],
   "source": [
    "N = 10\n",
    "x1 = np.linspace(-1, 1, N)\n",
    "y = 2*x1 #- 3*x2 + 0.0\n",
    "df = pd.DataFrame({\"Y\":y, \"X1\":x1})\n",
    "\n",
    "df[\"ones\"] = np.ones(N)\n",
    "\n",
    "plt.plot(df.X1,df.Y,\"ro\")\n",
    "\n",
    "X = np.matrix(df[ [\"ones\",\"X1\"] ])\n",
    "np.shape(X)\n",
    "y = np.array([df[\"Y\"]])\n",
    "Y  = np.matrix(np.transpose(y))\n",
    "np.shape(Y)"
   ]
  },
  {
   "cell_type": "code",
   "execution_count": 9,
   "metadata": {
    "id": "CGdL9_3juhPn"
   },
   "outputs": [],
   "source": [
    "Theta=np.array(np.matrix(np.transpose(X)@X).I@np.transpose(X)@Y)"
   ]
  },
  {
   "cell_type": "code",
   "execution_count": 10,
   "metadata": {
    "id": "s1DUIO8Du725"
   },
   "outputs": [],
   "source": [
    "m=Theta[1]\n",
    "b=Theta[0]"
   ]
  },
  {
   "cell_type": "code",
   "execution_count": 11,
   "metadata": {
    "colab": {
     "base_uri": "https://localhost:8080/"
    },
    "id": "cSPR88HvvZBw",
    "outputId": "aead30ca-dcde-4eae-f49c-91e4568764af"
   },
   "outputs": [
    {
     "data": {
      "text/plain": [
       "array([2.])"
      ]
     },
     "execution_count": 11,
     "metadata": {},
     "output_type": "execute_result"
    }
   ],
   "source": [
    "m"
   ]
  },
  {
   "cell_type": "code",
   "execution_count": 12,
   "metadata": {
    "colab": {
     "base_uri": "https://localhost:8080/",
     "height": 265
    },
    "id": "bupLfo50vEYq",
    "outputId": "4dfd34eb-8df3-453b-f356-28afb1b2f8cf"
   },
   "outputs": [
    {
     "data": {
      "image/png": "[encoded data removed]",
      "text/plain": [
       "<Figure size 432x288 with 1 Axes>"
      ]
     },
     "metadata": {
      "needs_background": "light"
     },
     "output_type": "display_data"
    }
   ],
   "source": [
    "plt.plot(df.X1,df.Y,\"ro\")\n",
    "x2=np.linspace(-1,1)\n",
    "\n",
    "plt.plot(x2,m*x2+b,'b--')\n",
    "plt.show()"
   ]
  },
  {
   "cell_type": "code",
   "execution_count": 51,
   "metadata": {
    "colab": {
     "base_uri": "https://localhost:8080/",
     "height": 266
    },
    "id": "GFakFq__voT1",
    "outputId": "70cd4214-b107-4b40-f51f-f5a869ce65eb"
   },
   "outputs": [
    {
     "data": {
      "text/plain": [
       "Text(0.5, 0, 'Y1')"
      ]
     },
     "execution_count": 51,
     "metadata": {},
     "output_type": "execute_result"
    },
    {
     "data": {
      "image/png": "[encoded data removed]",
      "text/plain": [
       "<Figure size 432x288 with 1 Axes>"
      ]
     },
     "metadata": {
      "needs_background": "light"
     },
     "output_type": "display_data"
    }
   ],
   "source": [
    "N = 200\n",
    "x1 = np.linspace(-1, 1, N) \n",
    "x2 = np.linspace(-1, 1, N)\n",
    "\n",
    "X1, X2 = np.meshgrid(x1,x2)\n",
    "Y = 0.2*X1 - 0.5*X2 - 1.0\n",
    "\n",
    "# Ecuaciones parametricas del mismo plano:\n",
    "alpha = 2*np.random.random(N)-1\n",
    "beta  = 2*np.random.random(N)-1\n",
    "x1 = alpha\n",
    "x2 = beta\n",
    "y = 0.2*alpha - 0.5*beta - 1.0\n",
    "\n",
    "fig, ax = plt.subplots(subplot_kw={\"projection\": \"3d\"})\n",
    "surf = ax.scatter(x1, x2, y, color=\"r\")\n",
    "ax.set_xlabel(\"X1\")\n",
    "ax.set_ylabel(\"X2\")\n",
    "ax.set_zlabel(\"Y1\")"
   ]
  },
  {
   "cell_type": "code",
   "execution_count": 79,
   "metadata": {
    "colab": {
     "base_uri": "https://localhost:8080/",
     "height": 266
    },
    "id": "D-7NChgOwv84",
    "outputId": "472f95fb-4890-46f8-cee0-321085047d43"
   },
   "outputs": [
    {
     "data": {
      "text/plain": [
       "Text(0.5, 0, 'Y1')"
      ]
     },
     "execution_count": 79,
     "metadata": {},
     "output_type": "execute_result"
    },
    {
     "data": {
      "image/png": "[encoded data removed]",
      "text/plain": [
       "<Figure size 432x288 with 1 Axes>"
      ]
     },
     "metadata": {
      "needs_background": "light"
     },
     "output_type": "display_data"
    }
   ],
   "source": [
    "# Regresion bi-lineal\n",
    "df = pd.DataFrame({\"Y\":y, \"X1\":x1,\"X2\":x2})\n",
    "df[\"ones\"] = np.ones(N)\n",
    "\n",
    "\n",
    "y1 = np.reshape(df.Y.values, (N,1))\n",
    "X = df[[\"ones\",\"X1\",\"X2\"]].values\n",
    "X = np.matrix(X)\n",
    "\n",
    "Theta1=((X.T@X).I)@X.T@y1\n",
    "\n",
    "alpha\n",
    "\n",
    "fig, ax = plt.subplots(subplot_kw={\"projection\": \"3d\"})\n",
    "surf = ax.scatter(x1, x2, y, color=\"r\")\n",
    "surf = ax.plot_surface(X1, X2, Y, color=\"cyan\")\n",
    "ax.set_xlabel(\"X1\")\n",
    "ax.set_ylabel(\"X2\")\n",
    "ax.set_zlabel(\"Y1\")"
   ]
  },
  {
   "cell_type": "code",
   "execution_count": 72,
   "metadata": {
    "colab": {
     "base_uri": "https://localhost:8080/"
    },
    "id": "MC7g9Ql_dNa_",
    "outputId": "d1faf96e-4350-44c4-973a-46c1ae9e9e9f"
   },
   "outputs": [
    {
     "data": {
      "text/plain": [
       "matrix([[-1.]])"
      ]
     },
     "execution_count": 72,
     "metadata": {},
     "output_type": "execute_result"
    }
   ],
   "source": [
    "Theta1[0]"
   ]
  },
  {
   "cell_type": "code",
   "execution_count": 69,
   "metadata": {
    "colab": {
     "base_uri": "https://localhost:8080/"
    },
    "id": "OOSp9pGKdkfq",
    "outputId": "95f0c01d-9b26-4f4f-fb81-6adc1198a96f"
   },
   "outputs": [
    {
     "data": {
      "text/plain": [
       "array([[ 1.        ,  0.56580634,  0.29776439],\n",
       "       [ 1.        ,  0.60708263,  0.99111045],\n",
       "       [ 1.        , -0.34517475,  0.13318786],\n",
       "       [ 1.        ,  0.88075049, -0.63782443],\n",
       "       [ 1.        , -0.42763663, -0.27217104],\n",
       "       [ 1.        , -0.11056264,  0.73894999],\n",
       "       [ 1.        ,  0.50494065, -0.79482865],\n",
       "       [ 1.        ,  0.49815617, -0.73155025],\n",
       "       [ 1.        , -0.52410258, -0.81529578],\n",
       "       [ 1.        , -0.73711921, -0.83761054],\n",
       "       [ 1.        , -0.2232746 ,  0.89117539],\n",
       "       [ 1.        , -0.61528449, -0.25617387],\n",
       "       [ 1.        ,  0.15970939, -0.6381877 ],\n",
       "       [ 1.        ,  0.57569111,  0.68766785],\n",
       "       [ 1.        , -0.70960299,  0.99965952],\n",
       "       [ 1.        ,  0.95097043,  0.88781728],\n",
       "       [ 1.        , -0.69712485, -0.60648779],\n",
       "       [ 1.        , -0.34436817, -0.4857887 ],\n",
       "       [ 1.        ,  0.90749518,  0.26983141],\n",
       "       [ 1.        , -0.84260085, -0.67491178],\n",
       "       [ 1.        ,  0.97346604,  0.32377031],\n",
       "       [ 1.        , -0.86765385, -0.96446674],\n",
       "       [ 1.        ,  0.45537134,  0.26735958],\n",
       "       [ 1.        ,  0.80772397, -0.92620244],\n",
       "       [ 1.        , -0.96696165,  0.3135329 ],\n",
       "       [ 1.        ,  0.79994088,  0.41267416],\n",
       "       [ 1.        ,  0.69889718,  0.87178524],\n",
       "       [ 1.        , -0.95009057, -0.75930394],\n",
       "       [ 1.        ,  0.53130458,  0.29468204],\n",
       "       [ 1.        , -0.7161225 ,  0.45466844],\n",
       "       [ 1.        ,  0.12653673,  0.98044633],\n",
       "       [ 1.        ,  0.27335442,  0.78195038],\n",
       "       [ 1.        , -0.61639254,  0.0491734 ],\n",
       "       [ 1.        , -0.68266306,  0.40105015],\n",
       "       [ 1.        ,  0.36750223,  0.89399889],\n",
       "       [ 1.        , -0.77624095, -0.1700161 ],\n",
       "       [ 1.        , -0.03217353, -0.82133069],\n",
       "       [ 1.        , -0.28515128,  0.42362205],\n",
       "       [ 1.        ,  0.99590382,  0.86150042],\n",
       "       [ 1.        , -0.06236441, -0.72694967],\n",
       "       [ 1.        ,  0.93979182, -0.50797642],\n",
       "       [ 1.        , -0.88940805,  0.00183819],\n",
       "       [ 1.        ,  0.97229085,  0.36242772],\n",
       "       [ 1.        , -0.13847014,  0.84327279],\n",
       "       [ 1.        , -0.89000937, -0.26277685],\n",
       "       [ 1.        ,  0.25095678,  0.16035354],\n",
       "       [ 1.        ,  0.13290201,  0.23114831],\n",
       "       [ 1.        ,  0.30908066,  0.05782374],\n",
       "       [ 1.        ,  0.86820621, -0.31193924],\n",
       "       [ 1.        ,  0.46949882,  0.78435537],\n",
       "       [ 1.        , -0.66421155, -0.44711163],\n",
       "       [ 1.        ,  0.88844179,  0.41276128],\n",
       "       [ 1.        ,  0.36575752,  0.75585056],\n",
       "       [ 1.        , -0.98182375, -0.59304863],\n",
       "       [ 1.        ,  0.15706253,  0.31448883],\n",
       "       [ 1.        , -0.40202414,  0.40902651],\n",
       "       [ 1.        ,  0.55835169, -0.87385742],\n",
       "       [ 1.        , -0.62842202, -0.40166092],\n",
       "       [ 1.        , -0.75910819,  0.23380669],\n",
       "       [ 1.        , -0.48246132, -0.26092787],\n",
       "       [ 1.        , -0.13338098, -0.53249815],\n",
       "       [ 1.        , -0.97835543,  0.97035247],\n",
       "       [ 1.        , -0.62539813, -0.03786161],\n",
       "       [ 1.        , -0.67391464,  0.65472762],\n",
       "       [ 1.        , -0.11809522, -0.34991761],\n",
       "       [ 1.        ,  0.07372346,  0.52132385],\n",
       "       [ 1.        ,  0.36749586,  0.01010357],\n",
       "       [ 1.        , -0.31514737,  0.1023066 ],\n",
       "       [ 1.        , -0.44364536,  0.16881973],\n",
       "       [ 1.        , -0.7800058 , -0.93862976],\n",
       "       [ 1.        , -0.25949363, -0.73685423],\n",
       "       [ 1.        ,  0.4129933 ,  0.61771532],\n",
       "       [ 1.        , -0.15671321, -0.46171096],\n",
       "       [ 1.        ,  0.37063848, -0.10266217],\n",
       "       [ 1.        ,  0.40315424,  0.37250351],\n",
       "       [ 1.        ,  0.68937901, -0.8137074 ],\n",
       "       [ 1.        , -0.51292058, -0.37979427],\n",
       "       [ 1.        , -0.9307535 , -0.20509302],\n",
       "       [ 1.        , -0.11769735, -0.83375181],\n",
       "       [ 1.        , -0.31089639, -0.25495797],\n",
       "       [ 1.        ,  0.53385024, -0.94761341],\n",
       "       [ 1.        ,  0.08197224,  0.12942809],\n",
       "       [ 1.        , -0.57222136,  0.5262743 ],\n",
       "       [ 1.        ,  0.29744681,  0.23621356],\n",
       "       [ 1.        , -0.41187403,  0.22031306],\n",
       "       [ 1.        ,  0.5630059 , -0.08694636],\n",
       "       [ 1.        , -0.88150895,  0.67371888],\n",
       "       [ 1.        , -0.34456938,  0.4796099 ],\n",
       "       [ 1.        ,  0.56423423, -0.74706454],\n",
       "       [ 1.        ,  0.25638926, -0.35375398],\n",
       "       [ 1.        , -0.33803198, -0.46137222],\n",
       "       [ 1.        ,  0.14326765, -0.40761217],\n",
       "       [ 1.        , -0.06529102, -0.23796414],\n",
       "       [ 1.        , -0.11729753,  0.89096165],\n",
       "       [ 1.        ,  0.11433847, -0.53284852],\n",
       "       [ 1.        ,  0.4895419 , -0.99565131],\n",
       "       [ 1.        , -0.35730844, -0.14398502],\n",
       "       [ 1.        ,  0.11738049, -0.02069242],\n",
       "       [ 1.        ,  0.33878845, -0.74444486],\n",
       "       [ 1.        ,  0.40985653,  0.81648922],\n",
       "       [ 1.        , -0.27591247, -0.20314435],\n",
       "       [ 1.        , -0.43028731,  0.49589916],\n",
       "       [ 1.        , -0.75068072,  0.84781606],\n",
       "       [ 1.        ,  0.7721196 , -0.85757874],\n",
       "       [ 1.        ,  0.02234867,  0.0789377 ],\n",
       "       [ 1.        , -0.36902731, -0.95641271],\n",
       "       [ 1.        , -0.11871125, -0.24856674],\n",
       "       [ 1.        , -0.47633987, -0.60911088],\n",
       "       [ 1.        , -0.31087678, -0.03225666],\n",
       "       [ 1.        , -0.86377612, -0.72940224],\n",
       "       [ 1.        , -0.34093111,  0.75277034],\n",
       "       [ 1.        ,  0.74041276, -0.79363953],\n",
       "       [ 1.        ,  0.35987275, -0.39821936],\n",
       "       [ 1.        , -0.68521647, -0.66746955],\n",
       "       [ 1.        , -0.17806102,  0.12765257],\n",
       "       [ 1.        ,  0.27116601, -0.0540291 ],\n",
       "       [ 1.        , -0.31367059,  0.18353361],\n",
       "       [ 1.        , -0.96766795, -0.51260959],\n",
       "       [ 1.        , -0.80089968, -0.45754668],\n",
       "       [ 1.        ,  0.58646347,  0.16048842],\n",
       "       [ 1.        , -0.15028264, -0.65105484],\n",
       "       [ 1.        , -0.81174906,  0.20528397],\n",
       "       [ 1.        ,  0.20055421, -0.37058669],\n",
       "       [ 1.        , -0.00220735,  0.70550477],\n",
       "       [ 1.        ,  0.8326835 , -0.90291416],\n",
       "       [ 1.        , -0.50482445,  0.24971092],\n",
       "       [ 1.        , -0.44307534,  0.9917724 ],\n",
       "       [ 1.        ,  0.22464004, -0.30141282],\n",
       "       [ 1.        , -0.0619333 ,  0.8586041 ],\n",
       "       [ 1.        , -0.51602127,  0.8412436 ],\n",
       "       [ 1.        , -0.54072834,  0.9054863 ],\n",
       "       [ 1.        , -0.10501505, -0.28896531],\n",
       "       [ 1.        , -0.30166382, -0.66248089],\n",
       "       [ 1.        ,  0.12145431,  0.78487291],\n",
       "       [ 1.        , -0.29535812, -0.91505041],\n",
       "       [ 1.        ,  0.30963378, -0.5244167 ],\n",
       "       [ 1.        , -0.66098367,  0.40064825],\n",
       "       [ 1.        , -0.53214854,  0.0747689 ],\n",
       "       [ 1.        ,  0.4431514 ,  0.63891569],\n",
       "       [ 1.        , -0.27542233,  0.44249132],\n",
       "       [ 1.        , -0.04142317, -0.29662747],\n",
       "       [ 1.        ,  0.06257733,  0.18069556],\n",
       "       [ 1.        ,  0.14666448, -0.79430655],\n",
       "       [ 1.        , -0.87898139, -0.92701911],\n",
       "       [ 1.        , -0.02613446,  0.49399034],\n",
       "       [ 1.        , -0.28986614, -0.6400527 ],\n",
       "       [ 1.        , -0.68522266,  0.44681345],\n",
       "       [ 1.        , -0.46759393,  0.24900239],\n",
       "       [ 1.        ,  0.58280052,  0.90288894],\n",
       "       [ 1.        ,  0.83687131,  0.13671113],\n",
       "       [ 1.        ,  0.63963269, -0.05043484],\n",
       "       [ 1.        , -0.93967619,  0.17479585],\n",
       "       [ 1.        , -0.40260529, -0.53440824],\n",
       "       [ 1.        , -0.09854331,  0.61874524],\n",
       "       [ 1.        ,  0.69850056, -0.68772154],\n",
       "       [ 1.        , -0.33831729, -0.89627621],\n",
       "       [ 1.        , -0.06735223, -0.42329445],\n",
       "       [ 1.        , -0.22479459, -0.87356066],\n",
       "       [ 1.        ,  0.49498648, -0.51284237],\n",
       "       [ 1.        ,  0.92296739, -0.79645783],\n",
       "       [ 1.        ,  0.34544695, -0.37049224],\n",
       "       [ 1.        ,  0.3983928 ,  0.60299138],\n",
       "       [ 1.        ,  0.41525749, -0.0852129 ],\n",
       "       [ 1.        ,  0.63448061,  0.98466206],\n",
       "       [ 1.        ,  0.75573449,  0.37548959],\n",
       "       [ 1.        , -0.10639603, -0.48489084],\n",
       "       [ 1.        , -0.81109577,  0.15587867],\n",
       "       [ 1.        ,  0.00350418,  0.68403811],\n",
       "       [ 1.        ,  0.25961767,  0.29041055],\n",
       "       [ 1.        ,  0.71454572, -0.00689735],\n",
       "       [ 1.        ,  0.64249845,  0.72764005],\n",
       "       [ 1.        , -0.91407653, -0.02916857],\n",
       "       [ 1.        , -0.38920986, -0.25786523],\n",
       "       [ 1.        , -0.28574222,  0.07877777],\n",
       "       [ 1.        , -0.2666924 ,  0.36117676],\n",
       "       [ 1.        , -0.48030788,  0.63832616],\n",
       "       [ 1.        , -0.9981239 ,  0.55399749],\n",
       "       [ 1.        , -0.53717659,  0.27176855],\n",
       "       [ 1.        , -0.00101588,  0.7589746 ],\n",
       "       [ 1.        ,  0.03440484,  0.450205  ],\n",
       "       [ 1.        ,  0.67862938,  0.76497468],\n",
       "       [ 1.        , -0.48571426,  0.14123352],\n",
       "       [ 1.        ,  0.82361145, -0.85189523],\n",
       "       [ 1.        ,  0.82609978, -0.92542371],\n",
       "       [ 1.        , -0.24546093,  0.64163111],\n",
       "       [ 1.        ,  0.55482938,  0.01233359],\n",
       "       [ 1.        ,  0.13261574, -0.20330217],\n",
       "       [ 1.        ,  0.24871335,  0.74309579],\n",
       "       [ 1.        , -0.09292069, -0.3289654 ],\n",
       "       [ 1.        , -0.39719239, -0.62697228],\n",
       "       [ 1.        , -0.24758164,  0.50326437],\n",
       "       [ 1.        ,  0.42448377,  0.67299514],\n",
       "       [ 1.        ,  0.63819827,  0.37291971],\n",
       "       [ 1.        , -0.24287387,  0.21105978],\n",
       "       [ 1.        , -0.03468734,  0.9123191 ],\n",
       "       [ 1.        , -0.8167917 ,  0.82719032],\n",
       "       [ 1.        , -0.99067012, -0.02386253],\n",
       "       [ 1.        , -0.29565372,  0.24711554],\n",
       "       [ 1.        ,  0.82638083,  0.7590087 ],\n",
       "       [ 1.        , -0.04057318, -0.76388745]])"
      ]
     },
     "execution_count": 69,
     "metadata": {},
     "output_type": "execute_result"
    }
   ],
   "source": [
    "np.array(X)"
   ]
  },
  {
   "cell_type": "markdown",
   "metadata": {
    "id": "pKmGWUKqNOnY"
   },
   "source": [
    "## Autovalores y autovectores\n",
    "\n",
    "Se sabe que un sistema físico es gobernado por las ecuaciones,\n",
    "\n",
    "\n",
    "\n",
    "$$\n",
    "\\begin{matrix}\n",
    "x' &=& 2x&-y&+z, \\\\\n",
    "y' &=&   &3y&-1z, \\\\\n",
    "z' &=& 2x&+y&+3z,\n",
    "\\end{matrix}\n",
    "$$\n",
    "\n",
    "donde $x',y',z'$ son las derivadas, en forma vectorial esto se puede representar como $\\mathbf{r}'=A\\mathbf{r}$ que tiene solución analítica general, $\\mathbf{r} = e^{At} \\mathbf{r}(0)$.<br> \n",
    "a) Diagonalize $A$.<br> \n",
    "\n",
    "b) Use el hecho de que $f(A) = U f(D) U^{-1}$ para encontrar $x(t),y(t),z(t)$ en el intervalo de tiempo $[0,2]$.<br>.\n",
    "c) Grafique $x(t),y(t),z(t)$ (use la condición inicial $\\mathbf{r}(0)=(1,1,2))$.<br> \n",
    "d) Compare el resultado a la solución analítica,\n",
    "\n",
    "$$\n",
    "\\begin{align}\n",
    "2x & = x(0)(e^{2t}(1+e^{2t}-2t)) + y(0) (-2te^{2t}) + z(0)(e^{2t}(-1+e^{2t})), \\\\\n",
    "2y & = x(0)(-e^{2t}(-1+e^{2t}-2t)) + y(0)(2(t+1)e^{2t}) + z(0)(-e^{2t}(-1+e^{2t})), \\\\\n",
    "2z & = x(0)(e^{2t}(-1+e^{2t}+2t)) + y(0)(2te^{2t}) + z(0)(e^{2t}(1+e^{2t})).\n",
    "\\end{align}\n",
    "$$"
   ]
  },
  {
   "cell_type": "code",
   "execution_count": 16,
   "metadata": {
    "id": "p0vYKFGTV5Hq"
   },
   "outputs": [],
   "source": [
    "from sympy.solvers import solve\n",
    "lam = sp.Symbol('lambda')\n",
    "A=np.array([[2.,-1,1],[0,3,-1],[2,1,3]])\n",
    "I=sp.Matrix(np.identity(3))"
   ]
  },
  {
   "cell_type": "code",
   "execution_count": 17,
   "metadata": {
    "id": "IgGqzKYNV-DM"
   },
   "outputs": [],
   "source": [
    "vals, vects=LA.eig(A)\n",
    "D=np.diag(vals)"
   ]
  },
  {
   "cell_type": "code",
   "execution_count": 18,
   "metadata": {
    "id": "H6pAHPD5fpOZ"
   },
   "outputs": [],
   "source": [
    "P=vects"
   ]
  },
  {
   "cell_type": "code",
   "execution_count": 19,
   "metadata": {
    "id": "DZfDnln-WSqS"
   },
   "outputs": [],
   "source": [
    "Pinv=np.array(np.matrix(vects).I)"
   ]
  },
  {
   "cell_type": "code",
   "execution_count": 20,
   "metadata": {
    "colab": {
     "base_uri": "https://localhost:8080/"
    },
    "id": "Fp4QGNqwWVNu",
    "outputId": "a6a3cef5-3719-41b8-954b-9d8a7d9ae675"
   },
   "outputs": [
    {
     "data": {
      "text/plain": [
       "array([[ 2.00000000e+00+2.72812472e-09j, -1.00000000e+00+2.72812472e-09j,\n",
       "         1.00000000e+00+2.53614060e-24j],\n",
       "       [ 1.99840144e-15-2.75116392e-09j,  3.00000000e+00-2.75116392e-09j,\n",
       "        -1.00000000e+00-6.87486855e-24j],\n",
       "       [ 2.00000000e+00-2.27608514e-09j,  1.00000000e+00-2.27608514e-09j,\n",
       "         3.00000000e+00-3.39671399e-24j]])"
      ]
     },
     "execution_count": 20,
     "metadata": {},
     "output_type": "execute_result"
    }
   ],
   "source": [
    "P@D@Pinv"
   ]
  },
  {
   "cell_type": "code",
   "execution_count": 21,
   "metadata": {
    "colab": {
     "base_uri": "https://localhost:8080/"
    },
    "id": "ZnP-4F-sgxVM",
    "outputId": "dc50528f-0140-4249-8bf5-aecc80f348b5"
   },
   "outputs": [
    {
     "data": {
      "text/plain": [
       "matrix([[-8.66025404e-01-0.00000000e+00j,\n",
       "          2.88444403e-16+0.00000000e+00j,\n",
       "         -8.66025404e-01-0.00000000e+00j],\n",
       "        [ 4.20815161e-01-5.13495506e+07j,\n",
       "          8.53827863e-01-5.13495506e+07j,\n",
       "          4.33012702e-01+2.47886750e-08j],\n",
       "        [ 4.45210243e-01+5.13495506e+07j,\n",
       "          8.78222945e-01+5.13495506e+07j,\n",
       "          4.33012702e-01-2.47886750e-08j]])"
      ]
     },
     "execution_count": 21,
     "metadata": {},
     "output_type": "execute_result"
    }
   ],
   "source": [
    "np.matrix(vects).I"
   ]
  },
  {
   "cell_type": "code",
   "execution_count": 22,
   "metadata": {
    "id": "LziV0D-Eg1AV"
   },
   "outputs": [],
   "source": [
    "S=sp.Matrix(A)-4*I"
   ]
  },
  {
   "cell_type": "code",
   "execution_count": 83,
   "metadata": {
    "id": "y_Hgs13Ji-SG"
   },
   "outputs": [],
   "source": [
    "t=np.linspace(0,2)\n",
    "r0=np.array([1,1,2.])\n",
    "r=[]\n",
    "for T in t:\n",
    "  r.append(P@LA.expm(D*T)@Pinv@r0)\n",
    "r=np.array(r)"
   ]
  },
  {
   "cell_type": "code",
   "execution_count": 85,
   "metadata": {
    "colab": {
     "base_uri": "https://localhost:8080/"
    },
    "id": "2-ymw7jgfzzH",
    "outputId": "921a2417-a4b4-4222-cd94-1b832cadcb2d"
   },
   "outputs": [
    {
     "data": {
      "text/plain": [
       "array([[ 1.00000000e+00+2.49058533e-09j,  1.00000000e+00+1.43768556e-09j,\n",
       "         2.00000000e+00-2.03854575e-09j],\n",
       "       [ 1.13491884e+00+3.16671229e-09j,  1.03519544e+00-2.77812075e-09j,\n",
       "         2.39712817e+00+1.23663738e-09j],\n",
       "       [ 1.29833127e+00+5.51467488e-09j,  1.05636674e+00-5.16992925e-09j,\n",
       "         2.86012077e+00+2.38794530e-09j],\n",
       "       [ 1.49637429e+00-4.04468612e-09j,  1.05860761e+00+4.34185644e-09j,\n",
       "         3.39957509e+00-2.95385490e-09j],\n",
       "       [ 1.73642460e+00-7.74087143e-09j,  1.03587677e+00-6.91474138e-09j,\n",
       "         4.02781654e+00+7.42330408e-10j],\n",
       "       [ 2.02733638e+00-7.19043645e-10j,  9.80769023e-01+9.08579283e-10j,\n",
       "         4.75918720e+00+5.12239331e-09j],\n",
       "       [ 2.37972316e+00+3.25780041e-09j,  8.84243099e-01-3.12904181e-09j,\n",
       "         5.61038364e+00+1.14554925e-09j],\n",
       "       [ 2.80629184e+00-4.25044946e-09j,  7.35298066e-01-2.68527950e-09j,\n",
       "         6.60085245e+00+5.15452862e-09j],\n",
       "       [ 3.32223834e+00+1.93320212e-09j,  5.20589087e-01+5.96067433e-09j,\n",
       "         7.75325364e+00-1.02912296e-09j],\n",
       "       [ 3.94571601e+00+4.86392884e-09j,  2.23971340e-01-4.95031467e-09j,\n",
       "         9.09400346e+00-3.95984968e-09j],\n",
       "       [ 4.69839004e+00-5.53829350e-09j, -1.74040984e-01-1.63087947e-09j,\n",
       "         1.06539107e+01+6.44237266e-09j],\n",
       "       [ 5.60609331e+00-9.53871502e-09j, -6.96916042e-01-1.26230310e-08j,\n",
       "         1.24689227e+01-4.45836701e-09j],\n",
       "       [ 6.69960216e+00-7.69410084e-09j, -1.37286430e+00-1.45668323e-08j,\n",
       "         1.45810000e+01-6.30298119e-09j],\n",
       "       [ 8.01555358e+00+1.29793901e-08j, -2.23573860e+00-5.54562451e-09j,\n",
       "         1.70391423e+01-4.17269079e-09j],\n",
       "       [ 9.59752922e+00+8.05536958e-09j, -3.32609969e+00-7.73692281e-09j,\n",
       "         1.99005920e+01+7.51329751e-10j],\n",
       "       [ 1.14973366e+01-1.38451363e-09j, -4.69247714e+00+8.57479082e-09j,\n",
       "         2.32322472e+01+1.01912130e-08j],\n",
       "       [ 1.37765222e+01-1.88093614e-10j, -6.39286088e+00+2.42341530e-10j,\n",
       "         2.71123187e+01+1.99625193e-09j],\n",
       "       [ 1.65081595e+01-9.30551079e-09j, -8.49646507e+00+9.21057610e-09j,\n",
       "         3.16322766e+01+1.11136691e-08j],\n",
       "       [ 1.97789594e+01+1.32816499e-08j, -1.10858131e+01-1.35384563e-08j,\n",
       "         3.68991353e+01-1.14734916e-08j],\n",
       "       [ 2.36917622e+01+1.39088030e-08j, -1.42592016e+01+1.46399101e-09j,\n",
       "         4.30381363e+01+1.77016777e-08j],\n",
       "       [ 2.83684794e+01+1.03830805e-08j, -1.81336122e+01-2.68113466e-08j,\n",
       "         5.01959002e+01+2.12274002e-08j],\n",
       "       [ 3.39535654e+01+7.73906433e-09j, -2.28481497e+01+2.12334427e-08j,\n",
       "         5.85441289e+01+2.38714164e-08j],\n",
       "       [ 4.06181138e+01+8.86327595e-09j, -2.85681031e+01+5.88777054e-09j,\n",
       "         6.82839546e+01+8.75012272e-09j],\n",
       "       [ 4.85646904e+01-6.56252872e-09j, -3.54897402e+01+2.10701117e-08j,\n",
       "         7.96510516e+01+2.41759274e-08j],\n",
       "       [ 5.80330351e+01-9.11178982e-09j, -4.38459669e+01+9.35811895e-09j,\n",
       "         9.29216414e+01+1.27281065e-08j],\n",
       "       [ 6.93067858e+01+6.86576720e-09j, -5.39130062e+01-6.90607957e-09j,\n",
       "         1.08419552e+02-3.24945056e-09j],\n",
       "       [ 8.27214100e+01+1.77254580e-08j, -6.60182795e+01+9.91737128e-09j,\n",
       "         1.26524518e+02-1.41091414e-08j],\n",
       "       [ 9.86735560e+01-2.75805089e-08j, -8.05497049e+01-3.27129478e-08j,\n",
       "         1.47681929e+02-5.64019833e-08j],\n",
       "       [ 1.17632080e+02+5.15420992e-08j, -9.79666660e+01+7.00755171e-09j,\n",
       "         1.72414305e+02+1.16788622e-08j],\n",
       "       [ 1.40151047e+02+9.18157016e-09j, -1.18812949e+02+4.89707525e-08j,\n",
       "         2.01334777e+02+2.60452272e-08j],\n",
       "       [ 1.66885053e+02+6.07258909e-08j, -1.43731997e+02+2.49894718e-08j,\n",
       "         2.35162942e+02-2.54990936e-08j],\n",
       "       [ 1.98607294e+02-9.93356886e-09j, -1.73484906e+02-5.20223161e-08j,\n",
       "         2.74743513e+02+4.51603662e-08j],\n",
       "       [ 2.36230856e+02-4.79606888e-08j, -2.08971629e+02-4.24969436e-08j,\n",
       "         3.21068247e+02+5.51933221e-08j],\n",
       "       [ 2.80833806e+02-4.74556336e-08j, -2.51255987e+02-1.55585917e-08j,\n",
       "         3.75301739e+02+5.46882668e-08j],\n",
       "       [ 3.33688769e+02-5.63065187e-09j, -3.01595145e+02-5.79811761e-08j,\n",
       "         4.38811762e+02+1.28632851e-08j],\n",
       "       [ 3.96297775e+02-1.56708386e-08j, -3.61474359e+02-4.85894225e-08j,\n",
       "         5.13204958e+02+2.29034719e-08j],\n",
       "       [ 4.70433321e+02-6.68848202e-08j, -4.32647925e+02+1.92097202e-09j,\n",
       "         6.00368817e+02-4.50918361e-08j],\n",
       "       [ 5.58186756e+02-6.49389897e-08j, -5.17187442e+02-7.88290583e-10j,\n",
       "         7.02521077e+02-1.03025995e-07j],\n",
       "       [ 6.62025285e+02+9.19719631e-09j, -6.17538686e+02-7.57528440e-08j,\n",
       "         8.22267830e+02-1.21173853e-07j],\n",
       "       [ 7.84859128e+02+1.02965104e-07j, -7.36588626e+02-1.14431250e-07j,\n",
       "         9.62671896e+02-3.25115098e-08j],\n",
       "       [ 9.30120644e+02-6.15988295e-08j, -8.77744391e+02-6.83092180e-09j,\n",
       "         1.12733327e+03+7.60640960e-08j],\n",
       "       [ 1.10185753e+03+7.94263304e-08j, -1.04502631e+03+3.35159373e-08j,\n",
       "         1.32048379e+03-6.49610639e-08j],\n",
       "       [ 1.30484264e+03+1.08802259e-07j, -1.24317751e+03+2.99176694e-09j,\n",
       "         1.54709851e+03-9.43369921e-08j],\n",
       "       [ 1.54470328e+03-9.86224442e-08j, -1.47779309e+03+8.27286387e-08j,\n",
       "         1.81302679e+03-1.25330868e-07j],\n",
       "       [ 1.82807359e+03-1.92967272e-07j, -1.75547221e+03+6.37449286e-08j,\n",
       "         2.12514658e+03-1.42962697e-07j],\n",
       "       [ 2.16277396e+03-5.57375066e-08j, -2.08399731e+03-7.49517058e-08j,\n",
       "         2.49154588e+03-1.68215806e-07j],\n",
       "       [ 2.55802239e+03-2.17693525e-08j, -2.47254523e+03+1.46515976e-09j,\n",
       "         2.92173644e+03+1.62676542e-07j],\n",
       "       [ 3.02468343e+03-9.06588578e-08j, -2.93193583e+03-4.33490078e-08j,\n",
       "         3.42690518e+03-2.45271111e-07j],\n",
       "       [ 3.57556132e+03+1.86163705e-07j, -3.47492487e+03-9.80921699e-08j,\n",
       "         4.02021013e+03-4.52565157e-08j],\n",
       "       [ 4.22574531e+03-1.60483198e-07j, -4.11654901e+03+1.34544776e-07j,\n",
       "         4.71712866e+03-1.75446771e-07j]])"
      ]
     },
     "execution_count": 85,
     "metadata": {},
     "output_type": "execute_result"
    }
   ],
   "source": [
    "r"
   ]
  },
  {
   "cell_type": "code",
   "execution_count": 86,
   "metadata": {
    "colab": {
     "base_uri": "https://localhost:8080/"
    },
    "id": "1eDWT1ejq3Xg",
    "outputId": "a848b7ed-ff04-4feb-a7e4-1524f1d2e306"
   },
   "outputs": [
    {
     "data": {
      "text/plain": [
       "array([[ 1.00000000e+00,  1.00000000e+00,  2.00000000e+00],\n",
       "       [ 1.13491884e+00,  1.03519544e+00,  2.39712817e+00],\n",
       "       [ 1.29833127e+00,  1.05636674e+00,  2.86012077e+00],\n",
       "       [ 1.49637429e+00,  1.05860761e+00,  3.39957509e+00],\n",
       "       [ 1.73642460e+00,  1.03587677e+00,  4.02781654e+00],\n",
       "       [ 2.02733638e+00,  9.80769023e-01,  4.75918720e+00],\n",
       "       [ 2.37972316e+00,  8.84243099e-01,  5.61038364e+00],\n",
       "       [ 2.80629184e+00,  7.35298066e-01,  6.60085245e+00],\n",
       "       [ 3.32223834e+00,  5.20589087e-01,  7.75325364e+00],\n",
       "       [ 3.94571601e+00,  2.23971340e-01,  9.09400346e+00],\n",
       "       [ 4.69839004e+00, -1.74040984e-01,  1.06539107e+01],\n",
       "       [ 5.60609331e+00, -6.96916042e-01,  1.24689227e+01],\n",
       "       [ 6.69960216e+00, -1.37286430e+00,  1.45810000e+01],\n",
       "       [ 8.01555358e+00, -2.23573860e+00,  1.70391423e+01],\n",
       "       [ 9.59752922e+00, -3.32609969e+00,  1.99005920e+01],\n",
       "       [ 1.14973366e+01, -4.69247714e+00,  2.32322472e+01],\n",
       "       [ 1.37765222e+01, -6.39286088e+00,  2.71123187e+01],\n",
       "       [ 1.65081595e+01, -8.49646507e+00,  3.16322766e+01],\n",
       "       [ 1.97789594e+01, -1.10858131e+01,  3.68991353e+01],\n",
       "       [ 2.36917622e+01, -1.42592016e+01,  4.30381363e+01],\n",
       "       [ 2.83684794e+01, -1.81336122e+01,  5.01959002e+01],\n",
       "       [ 3.39535654e+01, -2.28481497e+01,  5.85441289e+01],\n",
       "       [ 4.06181138e+01, -2.85681031e+01,  6.82839546e+01],\n",
       "       [ 4.85646904e+01, -3.54897402e+01,  7.96510516e+01],\n",
       "       [ 5.80330351e+01, -4.38459669e+01,  9.29216414e+01],\n",
       "       [ 6.93067858e+01, -5.39130062e+01,  1.08419552e+02],\n",
       "       [ 8.27214100e+01, -6.60182795e+01,  1.26524518e+02],\n",
       "       [ 9.86735560e+01, -8.05497049e+01,  1.47681929e+02],\n",
       "       [ 1.17632080e+02, -9.79666660e+01,  1.72414305e+02],\n",
       "       [ 1.40151047e+02, -1.18812949e+02,  2.01334777e+02],\n",
       "       [ 1.66885053e+02, -1.43731997e+02,  2.35162942e+02],\n",
       "       [ 1.98607294e+02, -1.73484906e+02,  2.74743513e+02],\n",
       "       [ 2.36230856e+02, -2.08971629e+02,  3.21068247e+02],\n",
       "       [ 2.80833806e+02, -2.51255987e+02,  3.75301739e+02],\n",
       "       [ 3.33688769e+02, -3.01595145e+02,  4.38811762e+02],\n",
       "       [ 3.96297775e+02, -3.61474359e+02,  5.13204958e+02],\n",
       "       [ 4.70433321e+02, -4.32647925e+02,  6.00368817e+02],\n",
       "       [ 5.58186756e+02, -5.17187442e+02,  7.02521077e+02],\n",
       "       [ 6.62025285e+02, -6.17538686e+02,  8.22267830e+02],\n",
       "       [ 7.84859128e+02, -7.36588626e+02,  9.62671896e+02],\n",
       "       [ 9.30120644e+02, -8.77744391e+02,  1.12733327e+03],\n",
       "       [ 1.10185753e+03, -1.04502631e+03,  1.32048379e+03],\n",
       "       [ 1.30484264e+03, -1.24317751e+03,  1.54709851e+03],\n",
       "       [ 1.54470328e+03, -1.47779309e+03,  1.81302679e+03],\n",
       "       [ 1.82807359e+03, -1.75547221e+03,  2.12514658e+03],\n",
       "       [ 2.16277396e+03, -2.08399731e+03,  2.49154588e+03],\n",
       "       [ 2.55802239e+03, -2.47254523e+03,  2.92173644e+03],\n",
       "       [ 3.02468343e+03, -2.93193583e+03,  3.42690518e+03],\n",
       "       [ 3.57556132e+03, -3.47492487e+03,  4.02021013e+03],\n",
       "       [ 4.22574531e+03, -4.11654901e+03,  4.71712866e+03]])"
      ]
     },
     "execution_count": 86,
     "metadata": {},
     "output_type": "execute_result"
    }
   ],
   "source": [
    "R=r.real\n",
    "R"
   ]
  },
  {
   "cell_type": "code",
   "execution_count": 87,
   "metadata": {
    "colab": {
     "base_uri": "https://localhost:8080/",
     "height": 337
    },
    "id": "qZCaI2AGq8Rk",
    "outputId": "c0e2a55a-2e68-49c0-9872-e73f9ed02048"
   },
   "outputs": [
    {
     "data": {
      "text/plain": [
       "Text(0.5, 0, 'y')"
      ]
     },
     "execution_count": 87,
     "metadata": {},
     "output_type": "execute_result"
    },
    {
     "data": {
      "image/png": "[encoded data removed]",
      "text/plain": [
       "<Figure size 432x288 with 1 Axes>"
      ]
     },
     "metadata": {
      "needs_background": "light"
     },
     "output_type": "display_data"
    }
   ],
   "source": [
    "from mpl_toolkits.mplot3d.axes3d import Axes3D\n",
    "\n",
    "x= R[:,0]\n",
    "y= R[:,1]\n",
    "z= R[:,2]\n",
    "\n",
    "fig = plt.figure()\n",
    "axes3d = Axes3D(fig)\n",
    "axes3d.scatter(x,y,z)\n",
    "plt.plot(x,y, z, 'r-')\n",
    "\n",
    "axes3d.set_zlabel(\"z\")\n",
    "axes3d.set_xlabel(\"x\")\n",
    "axes3d.set_ylabel(\"y\")"
   ]
  },
  {
   "cell_type": "code",
   "execution_count": 89,
   "metadata": {
    "id": "tP9duk2lfgVo"
   },
   "outputs": [],
   "source": [
    "xan=(1/2)*(np.exp(2*t)*(1+np.exp(2*t)-2*t)-2*t*np.exp(2*t)+2*(np.exp(2*t)*(-1+np.exp(2*t))))\n",
    "yan=(1/2)*(-np.exp(2*t)*(-1+np.exp(2*t)-2*t)+2*(t+1)*np.exp(2*t)-2*(np.exp(2*t)*(-1+np.exp(2*t))))\n",
    "zan=(1/2)*(np.exp(2*t)*(-1+np.exp(2*t)+2*t)+2*t*np.exp(2*t)+2*(np.exp(2*t)*(1+np.exp(2*t))))"
   ]
  },
  {
   "cell_type": "code",
   "execution_count": 90,
   "metadata": {
    "colab": {
     "base_uri": "https://localhost:8080/"
    },
    "id": "8ffZmQEfhT6X",
    "outputId": "e2f69e16-7e25-4063-bfb2-66f461743682"
   },
   "outputs": [
    {
     "data": {
      "text/plain": [
       "array([1.00000000e+00, 1.13491884e+00, 1.29833127e+00, 1.49637429e+00,\n",
       "       1.73642460e+00, 2.02733638e+00, 2.37972316e+00, 2.80629184e+00,\n",
       "       3.32223834e+00, 3.94571601e+00, 4.69839004e+00, 5.60609331e+00,\n",
       "       6.69960216e+00, 8.01555358e+00, 9.59752922e+00, 1.14973366e+01,\n",
       "       1.37765222e+01, 1.65081595e+01, 1.97789594e+01, 2.36917622e+01,\n",
       "       2.83684794e+01, 3.39535654e+01, 4.06181138e+01, 4.85646904e+01,\n",
       "       5.80330351e+01, 6.93067858e+01, 8.27214100e+01, 9.86735560e+01,\n",
       "       1.17632080e+02, 1.40151047e+02, 1.66885053e+02, 1.98607294e+02,\n",
       "       2.36230856e+02, 2.80833806e+02, 3.33688769e+02, 3.96297775e+02,\n",
       "       4.70433321e+02, 5.58186756e+02, 6.62025285e+02, 7.84859128e+02,\n",
       "       9.30120644e+02, 1.10185753e+03, 1.30484264e+03, 1.54470328e+03,\n",
       "       1.82807359e+03, 2.16277396e+03, 2.55802239e+03, 3.02468343e+03,\n",
       "       3.57556132e+03, 4.22574531e+03])"
      ]
     },
     "execution_count": 90,
     "metadata": {},
     "output_type": "execute_result"
    }
   ],
   "source": [
    "xan"
   ]
  },
  {
   "cell_type": "code",
   "execution_count": 91,
   "metadata": {
    "colab": {
     "base_uri": "https://localhost:8080/"
    },
    "id": "FPPSpMsehtc2",
    "outputId": "8cb83f02-9598-48b3-b04c-a504e4f4ad7b"
   },
   "outputs": [
    {
     "data": {
      "text/plain": [
       "array([ 1.00000000e+00,  1.03519544e+00,  1.05636674e+00,  1.05860761e+00,\n",
       "        1.03587677e+00,  9.80769023e-01,  8.84243099e-01,  7.35298066e-01,\n",
       "        5.20589087e-01,  2.23971340e-01, -1.74040984e-01, -6.96916042e-01,\n",
       "       -1.37286430e+00, -2.23573860e+00, -3.32609969e+00, -4.69247714e+00,\n",
       "       -6.39286088e+00, -8.49646507e+00, -1.10858131e+01, -1.42592016e+01,\n",
       "       -1.81336122e+01, -2.28481497e+01, -2.85681031e+01, -3.54897402e+01,\n",
       "       -4.38459669e+01, -5.39130062e+01, -6.60182795e+01, -8.05497049e+01,\n",
       "       -9.79666660e+01, -1.18812949e+02, -1.43731997e+02, -1.73484906e+02,\n",
       "       -2.08971629e+02, -2.51255987e+02, -3.01595145e+02, -3.61474359e+02,\n",
       "       -4.32647925e+02, -5.17187442e+02, -6.17538686e+02, -7.36588626e+02,\n",
       "       -8.77744391e+02, -1.04502631e+03, -1.24317751e+03, -1.47779309e+03,\n",
       "       -1.75547221e+03, -2.08399731e+03, -2.47254523e+03, -2.93193583e+03,\n",
       "       -3.47492487e+03, -4.11654901e+03])"
      ]
     },
     "execution_count": 91,
     "metadata": {},
     "output_type": "execute_result"
    }
   ],
   "source": [
    "yan"
   ]
  },
  {
   "cell_type": "code",
   "execution_count": 92,
   "metadata": {
    "colab": {
     "base_uri": "https://localhost:8080/"
    },
    "id": "gaGnet4ZhuSV",
    "outputId": "403be18f-43bf-497c-cb15-f32150aafb8b"
   },
   "outputs": [
    {
     "data": {
      "text/plain": [
       "array([2.00000000e+00, 2.39712817e+00, 2.86012077e+00, 3.39957509e+00,\n",
       "       4.02781654e+00, 4.75918720e+00, 5.61038364e+00, 6.60085245e+00,\n",
       "       7.75325364e+00, 9.09400346e+00, 1.06539107e+01, 1.24689227e+01,\n",
       "       1.45810000e+01, 1.70391423e+01, 1.99005920e+01, 2.32322472e+01,\n",
       "       2.71123187e+01, 3.16322766e+01, 3.68991353e+01, 4.30381363e+01,\n",
       "       5.01959002e+01, 5.85441289e+01, 6.82839546e+01, 7.96510516e+01,\n",
       "       9.29216414e+01, 1.08419552e+02, 1.26524518e+02, 1.47681929e+02,\n",
       "       1.72414305e+02, 2.01334777e+02, 2.35162942e+02, 2.74743513e+02,\n",
       "       3.21068247e+02, 3.75301739e+02, 4.38811762e+02, 5.13204958e+02,\n",
       "       6.00368817e+02, 7.02521077e+02, 8.22267830e+02, 9.62671896e+02,\n",
       "       1.12733327e+03, 1.32048379e+03, 1.54709851e+03, 1.81302679e+03,\n",
       "       2.12514658e+03, 2.49154588e+03, 2.92173644e+03, 3.42690518e+03,\n",
       "       4.02021013e+03, 4.71712866e+03])"
      ]
     },
     "execution_count": 92,
     "metadata": {},
     "output_type": "execute_result"
    }
   ],
   "source": [
    "zan"
   ]
  },
  {
   "cell_type": "code",
   "execution_count": 93,
   "metadata": {
    "colab": {
     "base_uri": "https://localhost:8080/",
     "height": 337
    },
    "id": "X-qJjpQohvH5",
    "outputId": "38ddbd65-be53-4c98-b002-8b158a3dedcc"
   },
   "outputs": [
    {
     "data": {
      "text/plain": [
       "Text(0.5, 0, 'y')"
      ]
     },
     "execution_count": 93,
     "metadata": {},
     "output_type": "execute_result"
    },
    {
     "data": {
      "image/png": "[encoded data removed]",
      "text/plain": [
       "<Figure size 432x288 with 1 Axes>"
      ]
     },
     "metadata": {
      "needs_background": "light"
     },
     "output_type": "display_data"
    }
   ],
   "source": [
    "fig = plt.figure()\n",
    "axes3d = Axes3D(fig)\n",
    "axes3d.scatter(x,y,z)\n",
    "plt.plot(xan,yan, zan, 'r-')\n",
    "\n",
    "axes3d.set_zlabel(\"z\")\n",
    "axes3d.set_xlabel(\"x\")\n",
    "axes3d.set_ylabel(\"y\")"
   ]
  },
  {
   "cell_type": "markdown",
   "metadata": {
    "id": "f0IDP1sUh_YE"
   },
   "source": [
    "Nótese que tanto los arreglos como la gráfica de la solución computacional son consistentes con la solución analítica del problema"
   ]
  },
  {
   "cell_type": "code",
   "execution_count": null,
   "metadata": {
    "id": "axBBVE4xh-JC"
   },
   "outputs": [],
   "source": []
  }
 ],
 "metadata": {
  "colab": {
   "collapsed_sections": [],
   "name": "Tarea09_MatricesBasico.ipynb",
   "provenance": []
  },
  "kernelspec": {
   "display_name": "Python 3 (ipykernel)",
   "language": "python",
   "name": "python3"
  },
  "language_info": {
   "codemirror_mode": {
    "name": "ipython",
    "version": 3
   },
   "file_extension": ".py",
   "mimetype": "text/x-python",
   "name": "python",
   "nbconvert_exporter": "python",
   "pygments_lexer": "ipython3",
   "version": "3.8.12"
  }
 },
 "nbformat": 4,
 "nbformat_minor": 1
}
