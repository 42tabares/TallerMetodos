{
 "cells": [
  {
   "cell_type": "markdown",
   "metadata": {},
   "source": [
    "Santiago Julio Dávila - 1000413445"
   ]
  },
  {
   "cell_type": "markdown",
   "metadata": {
    "id": "Xv7LVkNl0qyz",
    "tags": []
   },
   "source": [
    "## Campo eléctrico \n",
    "1. Elaborar un programa para calcular el campo eléctrico producido por un dipolo eléctrico, realizar una representación del campo para todo el dominio \n",
    "elegido para calcular el campo. Para encontrar el campo, se sugiere hacer lo siguiente:\n",
    "\n",
    "- a. Encontrar el campo en un punto producido por dos cargas q1 y q2\n",
    "- b. Emplee el comando  plt.quiver(x, y, Ex, Ey) para mostrar el campo producido por q1 y q2. Puedes intentarlo con el comando, plt.stremplot.\n",
    "- c. Generalice el problema para varios puntos en el espacio.\n",
    "\n",
    "Se recomienda emplear numpy array. \n",
    "\n",
    "## Movimiento parabólico.\n",
    "2. Un jugador de baloncesto desea saber si encestará su tiro dependiendo de la velocidad inicial, ángulo de lanzamiento y posición respecto a la canasta. \n",
    "\n",
    "Elabore un programa en el que dada una distancia, velocidad inicial y  ángulo, determine si hay cesta. El modelo será bajo partícula, sin la rotación del balón. \n",
    "\n",
    "Se recomienda emplear numpy array. \n",
    "\n"
   ]
  },
  {
   "cell_type": "markdown",
   "metadata": {},
   "source": [
    "## Solución punto 1.\n",
    "\n",
    "Las fórmulas utilizadas para calcular el campo eléctrico del dipolo son:\n",
    "\n",
    "$$\\vec{E_+}=\\dfrac{kq}{r^2_+}\\hat{r}_+$$\n",
    "\n",
    "$$\\vec{E_-}=-\\dfrac{kq}{r^2_-}\\hat{r}_-$$\n",
    "\n",
    "Donde $\\vec{E_+}$ y $\\vec{E_-}$ son los campos eléctricos producidos por las cargas positiva y negativa del dipolo.\n",
    "\n",
    "El campo vectorial generado por el dipolo será entonces la suma vectorial de estos dos campos:\n",
    "\n",
    "$$\\vec{E}=\\vec{E_+}+\\vec{E_-}$$\n",
    "\n",
    "El ejercicio está resuelto en el sistema CGS electrostático, en el cual la fuerza se mide en _dinas (dyn)_, la distancia en _centímetros (cm)_ y la carga eléctrica en _statcoulombs (statC)_, que se define como la carga que ejerce una fuerza de 1 dina sobre otra carga igual ubicada a 1 cm de distancia. De esta manera se tiene que:\n",
    "\n",
    "$$k=\\frac{1}{4\\pi\\epsilon_0}=1~ dyn\\cdot cm^2\\cdot statC^{-2}$$\n",
    "\n",
    "Factores de conversión: \n",
    "\n",
    "$$1~ dyn=10^{-5}~ N$$\n",
    "$$1~ cm=10^{-2}~ m$$\n",
    "$$1~ statC=2997924580~ C\\approx 2.998\\cdot10^9~ C$$"
   ]
  },
  {
   "cell_type": "code",
   "execution_count": 1,
   "metadata": {},
   "outputs": [],
   "source": [
    "import numpy as np\n",
    "import matplotlib.pyplot as plt"
   ]
  },
  {
   "cell_type": "code",
   "execution_count": 2,
   "metadata": {
    "tags": []
   },
   "outputs": [],
   "source": [
    "k=1\n",
    "\n",
    "def E_pos(q,r):\n",
    "   \"\"\"\n",
    "   Determina la magnitud del campo eléctrico generado por la partícula positiva del dipolo.\n",
    "   \"\"\"\n",
    "   global k\n",
    "   return k*q/r**2\n",
    "\n",
    "def E_neg(q,r):\n",
    "   \"\"\"\n",
    "   Determina la magnitud del campo eléctrico generado por la partícula negativa del dipolo.\n",
    "   \"\"\"\n",
    "   global k\n",
    "   return -k*q/r**2"
   ]
  },
  {
   "cell_type": "code",
   "execution_count": 3,
   "metadata": {},
   "outputs": [
    {
     "name": "stdout",
     "output_type": "stream",
     "text": [
      "Inserte la separación del dipolo (en cm): \n",
      "\n"
     ]
    },
    {
     "name": "stdin",
     "output_type": "stream",
     "text": [
      "None 10\n"
     ]
    },
    {
     "name": "stdout",
     "output_type": "stream",
     "text": [
      "Inserte la carga del dipolo (en statC): \n",
      "\n"
     ]
    },
    {
     "name": "stdin",
     "output_type": "stream",
     "text": [
      "None 10\n"
     ]
    }
   ],
   "source": [
    "d=float(input(print('Inserte la separación del dipolo (en cm): \\n')))  #Solicita al usuario la separación del dipolo.\n",
    "q=float(input(print('Inserte la carga del dipolo (en statC): \\n')))    #Solicita al usuario la carga del dipolo."
   ]
  },
  {
   "cell_type": "code",
   "execution_count": 4,
   "metadata": {},
   "outputs": [],
   "source": [
    "def vector_E(rp,q,d):\n",
    "    \"\"\"\n",
    "    Función campo eléctrico: calcula el campo eléctrico producido por el dipolo en cualquier punto.\n",
    "    -------------\n",
    "    rp: numpy array de la posición del punto.\n",
    "    q: carga del dipolo.\n",
    "    d: separación del dipolo.\n",
    "    -------------\n",
    "    1. La función calcula el vector diferencia entre las posiciones del punto y de cada polo y su magnitud.\n",
    "    \n",
    "    2. Posteriormente calcula la magnitud de dicho vector, para normalizarlo y encontrar los vectores unitarios.\n",
    "    \n",
    "    3. Se calcula el campo eléctrico producido por cada polo en la dirección respectiva.\n",
    "    \n",
    "    4. El resultado de la función es la suma vectorial de los dos campos eléctricos.\n",
    "    \"\"\"\n",
    "    \n",
    "    \n",
    "    #1.\n",
    "    Delta_Rpos=rp-np.array([0.,d/2])  \n",
    "    Delta_Rneg=rp-np.array([0.,-d/2])  \n",
    "    \n",
    "    MagDelta_Rpos=np.sqrt(Delta_Rpos[0]**2+Delta_Rpos[1]**2)\n",
    "    MagDelta_Rneg=np.sqrt(Delta_Rneg[0]**2+Delta_Rneg[1]**2)\n",
    "    \n",
    "    #2.\n",
    "    u_rpos=Delta_Rpos/MagDelta_Rpos\n",
    "    u_rneg=Delta_Rneg/MagDelta_Rneg\n",
    "    \n",
    "    #3.\n",
    "    Epos=E_pos(q,MagDelta_Rpos)*u_rpos\n",
    "    Eneg=E_neg(q,MagDelta_Rneg)*u_rneg\n",
    "    \n",
    "    #4.\n",
    "    E=Epos+Eneg\n",
    "    \n",
    "    return E\n",
    "\n"
   ]
  },
  {
   "cell_type": "code",
   "execution_count": 5,
   "metadata": {},
   "outputs": [],
   "source": [
    "#Crea los arreglos con los intervalos en x e y donde se calculará el campo eléctrico, con su respectivo paso, en función de d.\n",
    "x  = np.arange(-2*d, 2*d, (d)/7)\n",
    "n1 = len(x)\n",
    "y  = np.arange(-2*d, 2*d, (d)/7)\n",
    "n2 = len(y)\n",
    "\n",
    "#Crea un arreglo con cada punto de la cuadrícula definida por los arreglos anteriores.\n",
    "rp = np.zeros((n1*n2 , 2))\n",
    "k = 0\n",
    "\n",
    "for x_ in (x):\n",
    "  for y_ in (y):\n",
    "    rp[k] = np.array([x_, y_])\n",
    "    k=k+1  \n"
   ]
  },
  {
   "cell_type": "code",
   "execution_count": 6,
   "metadata": {
    "tags": []
   },
   "outputs": [],
   "source": [
    "#Crea un arreglo con el vector campo eléctrico en cada punto.\n",
    "E=np.zeros((n1*n2,2))\n",
    "\n",
    "for i in range(0, len(rp)):\n",
    "    a=np.array(rp[i])\n",
    "    E[i] = vector_E(a,q,d)\n"
   ]
  },
  {
   "cell_type": "code",
   "execution_count": 7,
   "metadata": {},
   "outputs": [
    {
     "data": {
      "image/png": "[encoded data removed]",
      "text/plain": [
       "<Figure size 720x720 with 1 Axes>"
      ]
     },
     "metadata": {
      "needs_background": "light"
     },
     "output_type": "display_data"
    }
   ],
   "source": [
    "#Crea la gráfica.\n",
    "fig, ax=plt.subplots(figsize=(10,10))\n",
    "ax.axis('equal')\n",
    "ax.plot(0, d/2, \"ro\" )   #Polo positivo.\n",
    "ax.plot(0,-d/2,'bo')     #Polo negativo.\n",
    "\n",
    "\n",
    "def symlog(x):\n",
    "    \"\"\" Retorna el valor ingresado en escala logarítmica (base 10) \"\"\"\n",
    "    return np.sign(x) * np.log10(1+np.abs(x))\n",
    "\n",
    "#Crea el arreglo de colores, en función de la magnitud de E.\n",
    "color_array = np.sqrt((E[:,0])**2 + (E[:,1])**2)\n",
    "\n",
    "#Crea el campo vectorial\n",
    "Q=ax.quiver(rp[:,0], rp[:,1], symlog(E[:,0]), symlog(E[:,1]), symlog(color_array), cmap=plt.get_cmap('jet'), units='width', pivot='mid')\n",
    "ax.set(xlabel='$x ~(cm)$', ylabel='$y ~(cm)$', title='Campo eléctrico de un dipolo')\n",
    "plt.show()\n",
    "fig.savefig('Electric field.png', bbox_inches='tight')"
   ]
  },
  {
   "cell_type": "markdown",
   "metadata": {},
   "source": [
    "## Solución punto 2.\n",
    "\n",
    "Este problema se modela mediante un modelo de movimiento parabólico, dado por la ecuación vectorial:\n",
    "\n",
    "$$\\vec{r}(t)=\\vec{r_0}+\\vec{v_0}t+\\frac{1}{2}\\vec{g}t^2$$\n",
    "\n",
    "Equivalente a:\n",
    "\n",
    "$$\\begin{cases}\n",
    "x(t)=x_0+v_0\\cos\\theta t \\\\\n",
    "y(t)=y_0+v_0\\sin\\theta t-\\dfrac{1}{2}gt^2\n",
    "\\end{cases}$$\n",
    "\n",
    "Se define la cesta en el origen de coordenadas. La cesta tiene un diámetro de $0.457~m$ y el balón tiene un diámetro de $0.23~m$, con lo cual, para que haya cesta, el centro de masa del balón debe estar entre los puntos $(0.115,~0)~m$ y $(0.342,~0)~m$, modelando el movimiento del balón a partir del movimiento del centro de masa. Si además se asume que un jugador hace el lanzamiento a la altura de su cabeza:\n",
    "\n",
    "$$y_0=h-3.05~m$$\n",
    "\n",
    "Donde $h$ es la altura del jugador en metros.\n",
    "\n",
    "Sea $t_c$ el tiempo que tarda el balón en alcanzar la altura de la cesta, entonces $y(t_c)=0$:\n",
    "\n",
    "$$t_c=\\dfrac{v_0\\sin\\theta+\\sqrt{{v_0}^2\\sin^2\\theta+2gy_0}}{g}$$"
   ]
  },
  {
   "cell_type": "code",
   "execution_count": 186,
   "metadata": {},
   "outputs": [],
   "source": [
    "g=9.8\n",
    "def t_c(v_0,theta,h):\n",
    "    '''\n",
    "    Calcula el tiempo en que el balón alcanza la altura de la cesta (cuando está cayendo).\n",
    "    ------------\n",
    "    v_0: velocidad de lanzamiento en m/s.\n",
    "    theta: ángulo de lanzamiento en grados.\n",
    "    h: estatura del jugador en m.\n",
    "    '''\n",
    "    \n",
    "    global g\n",
    "    t=(v_0*np.sin(np.radians(theta))+np.sqrt(v_0**2*(np.sin(np.radians(theta)))**2+2*g*(h-3.05)))/g\n",
    "    \n",
    "    return t"
   ]
  },
  {
   "cell_type": "code",
   "execution_count": 187,
   "metadata": {},
   "outputs": [],
   "source": [
    "def x(x_0,v_0,theta,t):\n",
    "    '''\n",
    "    Calcula la posición horizontal en función del tiempo, con los parámetros dados.\n",
    "    -----------\n",
    "    x_0: distancia a la cesta en m.\n",
    "    v_0: velocidad de lanzamiento en m/s.\n",
    "    theta: ángulo de lanzamiento en grados.\n",
    "    t: tiempo en s.\n",
    "    '''\n",
    "    x=x_0-v_0*np.cos(np.radians(theta))*t\n",
    "    return x\n",
    "\n",
    "def y(h,v_0,theta,t):\n",
    "    '''\n",
    "    Calcula la posición vertical en función del tiempo, con los parámetros dados.\n",
    "    -----------\n",
    "    h: estatura del jugador en m.\n",
    "    v_0: velocidad de lanzamiento en m/s.\n",
    "    theta: ángulo de lanzamiento en grados.\n",
    "    t: tiempo en s.\n",
    "    '''\n",
    "    global g\n",
    "    y=h-3.05+v_0*np.sin(np.radians(theta))*t-(g*t**2)/2\n",
    "    return y"
   ]
  },
  {
   "cell_type": "code",
   "execution_count": 190,
   "metadata": {},
   "outputs": [],
   "source": [
    "def cesta(dic):\n",
    "    '''\n",
    "    Función que determina si el jugador hace cesta o no.\n",
    "    ------------\n",
    "    dic: diccionario con los valores de:\n",
    "        la estatura (h),\n",
    "        la velocidad de lanzamiento(v_0), \n",
    "        ángulo de lanzamiento (theta),\n",
    "        distancia a la cesta (x_0),\n",
    "        tiempo de vuelo del balón (t_c).\n",
    "    \n",
    "    1. Define dos arreglos con las posiciones horizontal y vertical.\n",
    "    2. Define un arreglo con los índices de la lista X si X[i] se encuentra entre los valores de x necesarios para que haya cesta.\n",
    "    3. Evalúa si la posición vertical es la apropiada para que haya cesta.\n",
    "    \n",
    "    Si se cumplen las condiciones 2 y 3, se determina que hubo cesta, si no, no hubo cesta.\n",
    "    '''\n",
    "    #1.\n",
    "    Y=np.array([y(dic['h'],dic['v_0'],dic['theta'],T) for T in np.linspace(0,dic['t_c'],100)])\n",
    "    X=np.array([x(dic['x_0'],dic['v_0'],dic['theta'],T) for T in np.linspace(0,dic['t_c'],100)])\n",
    "    #2.\n",
    "    ind=np.array([i[0] for i in enumerate(X) if (X[i[0]] > 0.115) and (X[i[0]] < 0.342)])\n",
    "    #3.\n",
    "    if any((Y[i] < 0.115) for i in ind):\n",
    "        return print('El jugador hizo cesta.')\n",
    "    else:\n",
    "        return print('El jugador no hizo cesta.')"
   ]
  },
  {
   "cell_type": "code",
   "execution_count": 192,
   "metadata": {},
   "outputs": [
    {
     "name": "stdout",
     "output_type": "stream",
     "text": [
      "Ingrese la estatura del jugador (en m):\n",
      "\n"
     ]
    },
    {
     "name": "stdin",
     "output_type": "stream",
     "text": [
      "None 2\n"
     ]
    },
    {
     "name": "stdout",
     "output_type": "stream",
     "text": [
      "Ingrese la velocidad inicial (en m/s):\n",
      "\n"
     ]
    },
    {
     "name": "stdin",
     "output_type": "stream",
     "text": [
      "None 10.66\n"
     ]
    },
    {
     "name": "stdout",
     "output_type": "stream",
     "text": [
      "Ingrese el ángulo de lanzamiento (en grados):\n",
      "\n"
     ]
    },
    {
     "name": "stdin",
     "output_type": "stream",
     "text": [
      "None 40\n"
     ]
    },
    {
     "name": "stdout",
     "output_type": "stream",
     "text": [
      "Ingrese la distancia a la cesta (en m):\n",
      "\n"
     ]
    },
    {
     "name": "stdin",
     "output_type": "stream",
     "text": [
      "None 10.21725422\n"
     ]
    },
    {
     "name": "stdout",
     "output_type": "stream",
     "text": [
      "El jugador hizo cesta.\n"
     ]
    }
   ],
   "source": [
    "#Solicita al usuario los datos requeridos para hacer el cálculo.\n",
    "h=float(input(print('Ingrese la estatura del jugador (en m):\\n')))\n",
    "v_0=float(input(print('Ingrese la velocidad inicial (en m/s):\\n')))\n",
    "theta=float(input(print('Ingrese el ángulo de lanzamiento (en grados):\\n')))\n",
    "x_0=float(input(print('Ingrese la distancia a la cesta (en m):\\n')))\n",
    "\n",
    "t=t_c(v_0,theta,h)\n",
    "\n",
    "dic={'h':h, 'v_0':v_0, 'theta':theta, 'x_0':x_0, 't_c':t}\n",
    "\n",
    "cesta(dic)"
   ]
  },
  {
   "cell_type": "markdown",
   "metadata": {
    "id": "UdqybIUW6MP3"
   },
   "source": [
    "AYUDA Construida en clase:"
   ]
  },
  {
   "cell_type": "code",
   "execution_count": 2,
   "metadata": {
    "id": "USBWCphR1Dha"
   },
   "outputs": [],
   "source": [
    "k = 1\n",
    "\n",
    "def E_campo(q, r ):\n",
    "  \"\"\"\n",
    "  Magnitud del campo electrico\n",
    "  \"\"\"\n",
    "  global k\n",
    "  return k*q/r**2"
   ]
  },
  {
   "cell_type": "code",
   "execution_count": 3,
   "metadata": {
    "id": "KUoDMKDy7D70"
   },
   "outputs": [],
   "source": [
    "r_source = {\"q1\": np.array([0., 0])} #Posicion de la fuente\n",
    "rp       = np.array([1.,1])                # Punto para encontrar el campo electrico\n"
   ]
  },
  {
   "cell_type": "code",
   "execution_count": null,
   "metadata": {
    "colab": {
     "base_uri": "https://localhost:8080/"
    },
    "id": "vV09fpZR8xgK",
    "outputId": "1096491c-93dc-4d02-b411-542a7c09798d"
   },
   "outputs": [
    {
     "name": "stdout",
     "output_type": "stream",
     "text": [
      "-1.0\n",
      "-1.0\n"
     ]
    }
   ],
   "source": [
    "Delta_x = r_source[\"q1\"][0]- rp[0]\n",
    "print(Delta_x)\n",
    "Delta_y = r_source[\"q1\"][1]- rp[1]\n",
    "print(Delta_y)"
   ]
  },
  {
   "cell_type": "code",
   "execution_count": null,
   "metadata": {
    "id": "72CLuCfS6TmW"
   },
   "outputs": [],
   "source": [
    "Delta_R =  rp- r_source[\"q1\"] "
   ]
  },
  {
   "cell_type": "code",
   "execution_count": null,
   "metadata": {
    "colab": {
     "base_uri": "https://localhost:8080/"
    },
    "id": "Ts9MnRrO6kpj",
    "outputId": "57009d72-adce-4f16-b051-52f9fd31f1f4"
   },
   "outputs": [
    {
     "data": {
      "text/plain": [
       "array([1., 1.])"
      ]
     },
     "execution_count": 12,
     "metadata": {
      "tags": []
     },
     "output_type": "execute_result"
    }
   ],
   "source": [
    "Delta_R"
   ]
  },
  {
   "cell_type": "code",
   "execution_count": null,
   "metadata": {
    "id": "itqlrc_w6mJo"
   },
   "outputs": [],
   "source": [
    "MagDelta_R = np.sqrt(Delta_R[0]**2 + Delta_R[1]**2)"
   ]
  },
  {
   "cell_type": "code",
   "execution_count": null,
   "metadata": {
    "colab": {
     "base_uri": "https://localhost:8080/"
    },
    "id": "ZSFi9vI16mt3",
    "outputId": "cad78bb3-8f55-4f87-c334-dd5860215f26"
   },
   "outputs": [
    {
     "data": {
      "text/plain": [
       "1.4142135623730951"
      ]
     },
     "execution_count": 14,
     "metadata": {
      "tags": []
     },
     "output_type": "execute_result"
    }
   ],
   "source": [
    "MagDelta_R"
   ]
  },
  {
   "cell_type": "code",
   "execution_count": null,
   "metadata": {
    "id": "mXmRQyHA9MQv"
   },
   "outputs": [],
   "source": [
    "u_R = Delta_R/MagDelta_R"
   ]
  },
  {
   "cell_type": "code",
   "execution_count": null,
   "metadata": {
    "colab": {
     "base_uri": "https://localhost:8080/"
    },
    "id": "n8sen5sM9sWD",
    "outputId": "aae4745d-19fd-428f-b7e5-18f85356193e"
   },
   "outputs": [
    {
     "data": {
      "text/plain": [
       "array([0.70710678, 0.70710678])"
      ]
     },
     "execution_count": 16,
     "metadata": {
      "tags": []
     },
     "output_type": "execute_result"
    }
   ],
   "source": [
    "u_R"
   ]
  },
  {
   "cell_type": "code",
   "execution_count": null,
   "metadata": {
    "colab": {
     "base_uri": "https://localhost:8080/"
    },
    "id": "xBnRBDko9tBR",
    "outputId": "e7eb884e-6040-496e-b1c8-a2912a6b8755"
   },
   "outputs": [
    {
     "data": {
      "text/plain": [
       "array([35.35533906, 35.35533906])"
      ]
     },
     "execution_count": 17,
     "metadata": {
      "tags": []
     },
     "output_type": "execute_result"
    }
   ],
   "source": [
    "E = E_campo(100,MagDelta_R ) * u_R\n",
    "E"
   ]
  },
  {
   "cell_type": "code",
   "execution_count": null,
   "metadata": {
    "colab": {
     "base_uri": "https://localhost:8080/",
     "height": 282
    },
    "id": "3e39NEcC924X",
    "outputId": "b62acb2a-e474-4cb1-b1b8-a87411dffb18"
   },
   "outputs": [
    {
     "data": {
      "text/plain": [
       "<matplotlib.quiver.Quiver at 0x7f8cdc659f90>"
      ]
     },
     "execution_count": 18,
     "metadata": {
      "tags": []
     },
     "output_type": "execute_result"
    },
    {
     "data": {
      "image/png": "[encoded data removed]",
      "text/plain": [
       "<Figure size 432x288 with 1 Axes>"
      ]
     },
     "metadata": {
      "needs_background": "light",
      "tags": []
     },
     "output_type": "display_data"
    }
   ],
   "source": [
    "plt.figure()\n",
    "plt.plot(r_source[\"q1\"][0], r_source[\"q1\"][1], \"ro\")\n",
    "plt.plot(rp[0], rp[1],\"o\")\n",
    "plt.quiver(rp[0], rp[1], E[0], E[1])"
   ]
  },
  {
   "cell_type": "code",
   "execution_count": null,
   "metadata": {
    "id": "E7X5ZqBR-I2W"
   },
   "outputs": [],
   "source": [
    "def Campo_fuente(rsource, rp) : \n",
    "  \"\"\"\n",
    "  Parameter\n",
    "  ---------\n",
    "  rsource: numpy array de 2D, con la posicion de la fuente\n",
    "  rp     : numpy array de 2D, El punto donde se encontrará el campo\n",
    "\n",
    "  Return\n",
    "  ----------\n",
    "  Ex: Componente x del campo electrico\n",
    "  Ey: Componente y del campo electrico \n",
    "  \"\"\"\n",
    "\n",
    "  Delta_R =  rp - rsource\n",
    "  MagDelta_R = np.sqrt(Delta_R[0]**2 + Delta_R[1]**2)\n",
    "  u_R = Delta_R/MagDelta_R\n",
    "  \n",
    "  E = E_campo(1,MagDelta_R ) * u_R\n",
    "  Ex = E[0]\n",
    "  Ey = E[1]\n",
    "  return Ex, Ey"
   ]
  },
  {
   "cell_type": "code",
   "execution_count": null,
   "metadata": {
    "id": "HhXTInCC_DVU"
   },
   "outputs": [],
   "source": [
    "r_source = {\"q1\": np.array([0., 0])} #Posicion de la fuente\n",
    "rp       = np.array([1.,1])                # Punto para encontrar el campo electrico\n"
   ]
  },
  {
   "cell_type": "code",
   "execution_count": null,
   "metadata": {
    "colab": {
     "base_uri": "https://localhost:8080/"
    },
    "id": "a1JAqp_sCQbr",
    "outputId": "f3f113ed-057f-4781-8c2d-2f4527b39f1f"
   },
   "outputs": [
    {
     "data": {
      "text/plain": [
       "(0.3535533905932737, 0.3535533905932737)"
      ]
     },
     "execution_count": 21,
     "metadata": {
      "tags": []
     },
     "output_type": "execute_result"
    }
   ],
   "source": [
    "Campo_fuente(r_source[\"q1\"], rp )"
   ]
  },
  {
   "cell_type": "code",
   "execution_count": null,
   "metadata": {
    "id": "si7fqTCsCFzL"
   },
   "outputs": [],
   "source": [
    "# Definir los puntos donde se se determinara el campo electrico \n",
    "\n",
    "x  = np.arange(-2, 3, 0.5)\n",
    "n1 = len(x)\n",
    "y  = np.arange(-2, 3, 0.5)\n",
    "n2 = len(y)\n"
   ]
  },
  {
   "cell_type": "code",
   "execution_count": null,
   "metadata": {
    "colab": {
     "base_uri": "https://localhost:8080/"
    },
    "id": "k4sy2WNpGRTX",
    "outputId": "8ccc41c3-c61f-4c8c-a99f-1ef48f567fa3"
   },
   "outputs": [
    {
     "data": {
      "text/plain": [
       "array([-2. , -1.5, -1. , -0.5,  0. ,  0.5,  1. ,  1.5,  2. ,  2.5])"
      ]
     },
     "execution_count": 23,
     "metadata": {
      "tags": []
     },
     "output_type": "execute_result"
    }
   ],
   "source": [
    "x"
   ]
  },
  {
   "cell_type": "code",
   "execution_count": null,
   "metadata": {
    "colab": {
     "base_uri": "https://localhost:8080/"
    },
    "id": "Hk3M0BqjE4Pc",
    "outputId": "135e2965-6c09-435e-d592-d00d98ecb080"
   },
   "outputs": [
    {
     "name": "stdout",
     "output_type": "stream",
     "text": [
      "0 -2.0\n",
      "1 -1.5\n",
      "2 -1.0\n",
      "3 -0.5\n",
      "4 0.0\n",
      "5 0.5\n",
      "6 1.0\n",
      "7 1.5\n",
      "8 2.0\n",
      "9 2.5\n"
     ]
    }
   ],
   "source": [
    "for i, x_ in enumerate(x):\n",
    "  print(i, x_)"
   ]
  },
  {
   "cell_type": "code",
   "execution_count": null,
   "metadata": {
    "colab": {
     "base_uri": "https://localhost:8080/"
    },
    "id": "Ldtb_JKxDl2L",
    "outputId": "5a8f92b4-eb01-41a6-c8dc-4f5ca3f8f318"
   },
   "outputs": [
    {
     "name": "stdout",
     "output_type": "stream",
     "text": [
      "[-2.  -1.5]\n"
     ]
    }
   ],
   "source": [
    "rp = np.zeros((n1*n2 , 2))\n",
    "k = 0\n",
    "for x_ in (x):\n",
    "  for y_ in (y):\n",
    "    rp[k] = np.array([x_, y_])\n",
    "    k=k+1  \n",
    "print(rp[1])"
   ]
  },
  {
   "cell_type": "code",
   "execution_count": null,
   "metadata": {
    "colab": {
     "base_uri": "https://localhost:8080/",
     "height": 282
    },
    "id": "m1bwlj8GDmUe",
    "outputId": "e0f4d704-ad01-4cbe-bd25-cd93e987c406"
   },
   "outputs": [
    {
     "data": {
      "text/plain": [
       "[<matplotlib.lines.Line2D at 0x7f8cdc670a90>]"
      ]
     },
     "execution_count": 26,
     "metadata": {
      "tags": []
     },
     "output_type": "execute_result"
    },
    {
     "data": {
      "image/png": "[encoded data removed]",
      "text/plain": [
       "<Figure size 432x288 with 1 Axes>"
      ]
     },
     "metadata": {
      "needs_background": "light",
      "tags": []
     },
     "output_type": "display_data"
    }
   ],
   "source": [
    "plt.plot(rp[:,0], rp[:,1],\"ro\")"
   ]
  },
  {
   "cell_type": "code",
   "execution_count": null,
   "metadata": {
    "colab": {
     "base_uri": "https://localhost:8080/"
    },
    "id": "VtffOip-Ih-J",
    "outputId": "6f50355b-76ac-47a3-b671-e0cc4e167c00"
   },
   "outputs": [
    {
     "data": {
      "text/plain": [
       "array([-2. , -1.5, -1. , -0.5,  0. ,  0.5,  1. ,  1.5,  2. ,  2.5])"
      ]
     },
     "execution_count": 27,
     "metadata": {
      "tags": []
     },
     "output_type": "execute_result"
    }
   ],
   "source": [
    "x"
   ]
  },
  {
   "cell_type": "code",
   "execution_count": null,
   "metadata": {
    "colab": {
     "base_uri": "https://localhost:8080/"
    },
    "id": "yQpJFsUrFlJ5",
    "outputId": "f3eb86ac-c5c7-4a8d-a2b3-1b289bd02431"
   },
   "outputs": [
    {
     "name": "stderr",
     "output_type": "stream",
     "text": [
      "/usr/local/lib/python3.7/dist-packages/ipykernel_launcher.py:16: RuntimeWarning: invalid value encountered in true_divide\n",
      "  app.launch_new_instance()\n",
      "/usr/local/lib/python3.7/dist-packages/ipykernel_launcher.py:8: RuntimeWarning: divide by zero encountered in double_scalars\n",
      "  \n"
     ]
    }
   ],
   "source": [
    "r_source = {\"q1\": np.array([0., 1])} #Posicion de la fuente\n",
    "\n",
    "\n",
    "E = np.zeros((n1*n2, 2))\n",
    "\n",
    "for i in range(0, len(rp)):\n",
    "  E[i] = Campo_fuente(r_source[\"q1\"], rp[i] )\n",
    "  \n"
   ]
  },
  {
   "cell_type": "code",
   "execution_count": null,
   "metadata": {
    "colab": {
     "base_uri": "https://localhost:8080/",
     "height": 282
    },
    "id": "CmD36R3HH1_U",
    "outputId": "c2b222f2-f1e9-4aa4-a4f9-7e8fdd42c264"
   },
   "outputs": [
    {
     "data": {
      "text/plain": [
       "<matplotlib.quiver.Quiver at 0x7f8cdc598490>"
      ]
     },
     "execution_count": 36,
     "metadata": {
      "tags": []
     },
     "output_type": "execute_result"
    },
    {
     "data": {
      "image/png": "[encoded data removed]",
      "text/plain": [
       "<Figure size 432x288 with 1 Axes>"
      ]
     },
     "metadata": {
      "needs_background": "light",
      "tags": []
     },
     "output_type": "display_data"
    }
   ],
   "source": [
    "plt.plot(r_source[\"q1\"][0], r_source[\"q1\"][1], \"ro\" ) \n",
    "plt.quiver(rp[:,0], rp[:,1], E[:,0], E[:,1])"
   ]
  },
  {
   "cell_type": "code",
   "execution_count": null,
   "metadata": {
    "colab": {
     "base_uri": "https://localhost:8080/"
    },
    "id": "WVRgo4TfJTOK",
    "outputId": "34cf5761-44bc-463c-e3d1-ec987d753910"
   },
   "outputs": [
    {
     "data": {
      "text/plain": [
       "[(-1, (1.0, 0.0)), (1, (-1.0, 1.2246467991473532e-16))]"
      ]
     },
     "execution_count": 34,
     "metadata": {
      "tags": []
     },
     "output_type": "execute_result"
    }
   ],
   "source": []
  },
  {
   "cell_type": "code",
   "execution_count": 8,
   "metadata": {
    "id": "b6yGdP_ui7z9"
   },
   "outputs": [
    {
     "data": {
      "text/plain": [
       "\u001b[1;31mSignature:\u001b[0m \u001b[0mplt\u001b[0m\u001b[1;33m.\u001b[0m\u001b[0mquiver\u001b[0m\u001b[1;33m(\u001b[0m\u001b[1;33m*\u001b[0m\u001b[0margs\u001b[0m\u001b[1;33m,\u001b[0m \u001b[0mdata\u001b[0m\u001b[1;33m=\u001b[0m\u001b[1;32mNone\u001b[0m\u001b[1;33m,\u001b[0m \u001b[1;33m**\u001b[0m\u001b[0mkw\u001b[0m\u001b[1;33m)\u001b[0m\u001b[1;33m\u001b[0m\u001b[1;33m\u001b[0m\u001b[0m\n",
       "\u001b[1;31mDocstring:\u001b[0m\n",
       "Plot a 2D field of arrows.\n",
       "\n",
       "Call signature::\n",
       "\n",
       "  quiver([X, Y], U, V, [C], **kw)\n",
       "\n",
       "*X*, *Y* define the arrow locations, *U*, *V* define the arrow directions, and\n",
       "*C* optionally sets the color.\n",
       "\n",
       "**Arrow size**\n",
       "\n",
       "The default settings auto-scales the length of the arrows to a reasonable size.\n",
       "To change this behavior see the *scale* and *scale_units* parameters.\n",
       "\n",
       "**Arrow shape**\n",
       "\n",
       "The defaults give a slightly swept-back arrow; to make the head a\n",
       "triangle, make *headaxislength* the same as *headlength*. To make the\n",
       "arrow more pointed, reduce *headwidth* or increase *headlength* and\n",
       "*headaxislength*. To make the head smaller relative to the shaft,\n",
       "scale down all the head parameters. You will probably do best to leave\n",
       "minshaft alone.\n",
       "\n",
       "**Arrow outline**\n",
       "\n",
       "*linewidths* and *edgecolors* can be used to customize the arrow\n",
       "outlines.\n",
       "\n",
       "Parameters\n",
       "----------\n",
       "X, Y : 1D or 2D array-like, optional\n",
       "    The x and y coordinates of the arrow locations.\n",
       "\n",
       "    If not given, they will be generated as a uniform integer meshgrid based\n",
       "    on the dimensions of *U* and *V*.\n",
       "\n",
       "    If *X* and *Y* are 1D but *U*, *V* are 2D, *X*, *Y* are expanded to 2D\n",
       "    using ``X, Y = np.meshgrid(X, Y)``. In this case ``len(X)`` and ``len(Y)``\n",
       "    must match the column and row dimensions of *U* and *V*.\n",
       "\n",
       "U, V : 1D or 2D array-like\n",
       "    The x and y direction components of the arrow vectors.\n",
       "\n",
       "    They must have the same number of elements, matching the number of arrow\n",
       "    locations. *U* and *V* may be masked. Only locations unmasked in\n",
       "    *U*, *V*, and *C* will be drawn.\n",
       "\n",
       "C : 1D or 2D array-like, optional\n",
       "    Numeric data that defines the arrow colors by colormapping via *norm* and\n",
       "    *cmap*.\n",
       "\n",
       "    This does not support explicit colors. If you want to set colors directly,\n",
       "    use *color* instead.  The size of *C* must match the number of arrow\n",
       "    locations.\n",
       "\n",
       "units : {'width', 'height', 'dots', 'inches', 'x', 'y', 'xy'}, default: 'width'\n",
       "    The arrow dimensions (except for *length*) are measured in multiples of\n",
       "    this unit.\n",
       "\n",
       "    The following values are supported:\n",
       "\n",
       "    - 'width', 'height': The width or height of the axis.\n",
       "    - 'dots', 'inches': Pixels or inches based on the figure dpi.\n",
       "    - 'x', 'y', 'xy': *X*, *Y* or :math:`\\sqrt{X^2 + Y^2}` in data units.\n",
       "\n",
       "    The arrows scale differently depending on the units.  For\n",
       "    'x' or 'y', the arrows get larger as one zooms in; for other\n",
       "    units, the arrow size is independent of the zoom state.  For\n",
       "    'width or 'height', the arrow size increases with the width and\n",
       "    height of the axes, respectively, when the window is resized;\n",
       "    for 'dots' or 'inches', resizing does not change the arrows.\n",
       "\n",
       "angles : {'uv', 'xy'} or array-like, default: 'uv'\n",
       "    Method for determining the angle of the arrows.\n",
       "\n",
       "    - 'uv': The arrow axis aspect ratio is 1 so that\n",
       "      if *U* == *V* the orientation of the arrow on the plot is 45 degrees\n",
       "      counter-clockwise from the horizontal axis (positive to the right).\n",
       "\n",
       "      Use this if the arrows symbolize a quantity that is not based on\n",
       "      *X*, *Y* data coordinates.\n",
       "\n",
       "    - 'xy': Arrows point from (x, y) to (x+u, y+v).\n",
       "      Use this for plotting a gradient field, for example.\n",
       "\n",
       "    - Alternatively, arbitrary angles may be specified explicitly as an array\n",
       "      of values in degrees, counter-clockwise from the horizontal axis.\n",
       "\n",
       "      In this case *U*, *V* is only used to determine the length of the\n",
       "      arrows.\n",
       "\n",
       "    Note: inverting a data axis will correspondingly invert the\n",
       "    arrows only with ``angles='xy'``.\n",
       "\n",
       "scale : float, optional\n",
       "    Number of data units per arrow length unit, e.g., m/s per plot width; a\n",
       "    smaller scale parameter makes the arrow longer. Default is *None*.\n",
       "\n",
       "    If *None*, a simple autoscaling algorithm is used, based on the average\n",
       "    vector length and the number of vectors. The arrow length unit is given by\n",
       "    the *scale_units* parameter.\n",
       "\n",
       "scale_units : {'width', 'height', 'dots', 'inches', 'x', 'y', 'xy'}, optional\n",
       "    If the *scale* kwarg is *None*, the arrow length unit. Default is *None*.\n",
       "\n",
       "    e.g. *scale_units* is 'inches', *scale* is 2.0, and ``(u, v) = (1, 0)``,\n",
       "    then the vector will be 0.5 inches long.\n",
       "\n",
       "    If *scale_units* is 'width' or 'height', then the vector will be half the\n",
       "    width/height of the axes.\n",
       "\n",
       "    If *scale_units* is 'x' then the vector will be 0.5 x-axis\n",
       "    units. To plot vectors in the x-y plane, with u and v having\n",
       "    the same units as x and y, use\n",
       "    ``angles='xy', scale_units='xy', scale=1``.\n",
       "\n",
       "width : float, optional\n",
       "    Shaft width in arrow units; default depends on choice of units,\n",
       "    above, and number of vectors; a typical starting value is about\n",
       "    0.005 times the width of the plot.\n",
       "\n",
       "headwidth : float, default: 3\n",
       "    Head width as multiple of shaft width.\n",
       "\n",
       "headlength : float, default: 5\n",
       "    Head length as multiple of shaft width.\n",
       "\n",
       "headaxislength : float, default: 4.5\n",
       "    Head length at shaft intersection.\n",
       "\n",
       "minshaft : float, default: 1\n",
       "    Length below which arrow scales, in units of head length. Do not\n",
       "    set this to less than 1, or small arrows will look terrible!\n",
       "\n",
       "minlength : float, default: 1\n",
       "    Minimum length as a multiple of shaft width; if an arrow length\n",
       "    is less than this, plot a dot (hexagon) of this diameter instead.\n",
       "\n",
       "pivot : {'tail', 'mid', 'middle', 'tip'}, default: 'tail'\n",
       "    The part of the arrow that is anchored to the *X*, *Y* grid. The arrow\n",
       "    rotates about this point.\n",
       "\n",
       "    'mid' is a synonym for 'middle'.\n",
       "\n",
       "color : color or color sequence, optional\n",
       "    Explicit color(s) for the arrows. If *C* has been set, *color* has no\n",
       "    effect.\n",
       "\n",
       "    This is a synonym for the `~.PolyCollection` *facecolor* parameter.\n",
       "\n",
       "Other Parameters\n",
       "----------------\n",
       "**kwargs : `~matplotlib.collections.PolyCollection` properties, optional\n",
       "    All other keyword arguments are passed on to `.PolyCollection`:\n",
       "\n",
       "    Properties:\n",
       "    agg_filter: a filter function, which takes a (m, n, 3) float array and a dpi value, and returns a (m, n, 3) array\n",
       "    alpha: array-like or scalar or None\n",
       "    animated: bool\n",
       "    antialiased or aa or antialiaseds: bool or list of bools\n",
       "    array: ndarray or None\n",
       "    capstyle: `.CapStyle` or {'butt', 'projecting', 'round'}\n",
       "    clim: (vmin: float, vmax: float)\n",
       "    clip_box: `.Bbox`\n",
       "    clip_on: bool\n",
       "    clip_path: Patch or (Path, Transform) or None\n",
       "    cmap: `.Colormap` or str or None\n",
       "    color: color or list of rgba tuples\n",
       "    contains: unknown\n",
       "    edgecolor or ec or edgecolors: color or list of colors or 'face'\n",
       "    facecolor or facecolors or fc: color or list of colors\n",
       "    figure: `.Figure`\n",
       "    gid: str\n",
       "    hatch: {'/', '\\\\', '|', '-', '+', 'x', 'o', 'O', '.', '*'}\n",
       "    in_layout: bool\n",
       "    joinstyle: `.JoinStyle` or {'miter', 'round', 'bevel'}\n",
       "    label: object\n",
       "    linestyle or dashes or linestyles or ls: str or tuple or list thereof\n",
       "    linewidth or linewidths or lw: float or list of floats\n",
       "    norm: `.Normalize` or None\n",
       "    offset_position: unknown\n",
       "    offsets: (N, 2) or (2,) array-like\n",
       "    path_effects: `.AbstractPathEffect`\n",
       "    picker: None or bool or float or callable\n",
       "    pickradius: float\n",
       "    rasterized: bool\n",
       "    sketch_params: (scale: float, length: float, randomness: float)\n",
       "    snap: bool or None\n",
       "    transform: `.Transform`\n",
       "    url: str\n",
       "    urls: list of str or None\n",
       "    visible: bool\n",
       "    zorder: float\n",
       "\n",
       "See Also\n",
       "--------\n",
       ".Axes.quiverkey : Add a key to a quiver plot.\n",
       "\u001b[1;31mFile:\u001b[0m      c:\\users\\santiago\\anaconda3\\lib\\site-packages\\matplotlib\\pyplot.py\n",
       "\u001b[1;31mType:\u001b[0m      function\n"
      ]
     },
     "metadata": {},
     "output_type": "display_data"
    }
   ],
   "source": [
    "plt.quiver?"
   ]
  },
  {
   "cell_type": "code",
   "execution_count": null,
   "metadata": {},
   "outputs": [],
   "source": []
  }
 ],
 "metadata": {
  "colab": {
   "name": "Sesion02_continuacion_pythonBasico.ipynb",
   "provenance": []
  },
  "kernelspec": {
   "display_name": "Python 3 (ipykernel)",
   "language": "python",
   "name": "python3"
  },
  "language_info": {
   "codemirror_mode": {
    "name": "ipython",
    "version": 3
   },
   "file_extension": ".py",
   "mimetype": "text/x-python",
   "name": "python",
   "nbconvert_exporter": "python",
   "pygments_lexer": "ipython3",
   "version": "3.8.12"
  }
 },
 "nbformat": 4,
 "nbformat_minor": 4
}
