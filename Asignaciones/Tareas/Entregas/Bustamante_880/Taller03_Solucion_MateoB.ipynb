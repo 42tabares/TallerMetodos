{
  "nbformat": 4,
  "nbformat_minor": 0,
  "metadata": {
    "colab": {
      "name": "Taller03_Solucion_MateoB.ipynb",
      "provenance": []
    },
    "kernelspec": {
      "name": "python3",
      "display_name": "Python 3"
    },
    "language_info": {
      "name": "python"
    }
  },
  "cells": [
    {
      "cell_type": "markdown",
      "source": [
        "## Se hizo el primer punto del taller03, los demás puntos desarrollados en clase"
      ],
      "metadata": {
        "id": "VB9E7roIMHwa"
      }
    },
    {
      "cell_type": "code",
      "execution_count": 1,
      "metadata": {
        "colab": {
          "base_uri": "https://localhost:8080/",
          "height": 296
        },
        "id": "vsSKKmp-L8Oz",
        "outputId": "47fab581-054b-4a6e-aed2-1829d784baf4"
      },
      "outputs": [
        {
          "output_type": "display_data",
          "data": {
            "image/png": "[encoded data removed]",
            "text/plain": [
              "<Figure size 432x288 with 1 Axes>"
            ]
          },
          "metadata": {
            "needs_background": "light"
          }
        },
        {
          "output_type": "stream",
          "name": "stdout",
          "text": [
            "La rapidez con la que el ángulo cambia es: -0.313515631093979\n"
          ]
        }
      ],
      "source": [
        "import numpy as np\n",
        "import matplotlib.pyplot as plt\n",
        "from scipy import optimize\n",
        "\n",
        "f = lambda w: -((9.76/(2*w**2)*((np.exp(w)-np.exp(-w))/2-np.sin(w))))-0.51\n",
        "\n",
        "\n",
        "w=np.linspace(-10,0, 1000, endpoint=False)\n",
        "\n",
        "plt.figure()\n",
        "plt.plot(w,f(w))\n",
        "plt.xlabel(\"w\")\n",
        "plt.ylabel(\"f(w)\")\n",
        "plt.grid()\n",
        "plt.show()\n",
        "\n",
        "\n",
        "raices= optimize.bisect(f, -4, -0.000001, xtol=1E-5)\n",
        "\n",
        "print (\"La rapidez con la que el ángulo cambia es:\",raices)"
      ]
    }
  ]
}