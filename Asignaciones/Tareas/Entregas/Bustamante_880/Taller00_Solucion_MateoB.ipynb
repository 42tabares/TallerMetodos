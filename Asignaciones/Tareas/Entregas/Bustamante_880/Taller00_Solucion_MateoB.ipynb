{
 "cells": [
  {
   "cell_type": "code",
   "execution_count": 21,
   "metadata": {
    "colab": {
     "base_uri": "https://localhost:8080/"
    },
    "id": "c-L7dNVnAaTc",
    "outputId": "1ddcac01-898d-4dc5-d211-4cf1fd70713e"
   },
   "outputs": [
    {
     "name": "stdout",
     "output_type": "stream",
     "text": [
      "220 es un número abundante\n",
      "284 es un número defectivo\n",
      "220 y 284 son numeros amigos\n"
     ]
    }
   ],
   "source": [
    "## según el profesor, desarrollar los puntos de clasficación de números y el punto de quicksort\n",
    "\n",
    "\n",
    "# Clasificación de números\n",
    "\n",
    "def num_class(n,m):\n",
    "  \n",
    "  x=0\n",
    "  y=0\n",
    "\n",
    "  for i in range(1,n):\n",
    "      if n%i==0:\n",
    "          x=i+x\n",
    "          \n",
    "      else:\n",
    "          pass\n",
    "      \n",
    "\n",
    "  if x<n:\n",
    "      print (n,\"es un número defectivo\")\n",
    "      \n",
    "  if x==n:\n",
    "      print (n,\"es un número perfecto\")\n",
    "      \n",
    "  if x>n:\n",
    "      print (n,\"es un número abundante\")\n",
    "      \n",
    "  if x+n==n+1:\n",
    "      print (n,\"es un número primo\")\n",
    "      \n",
    "      \n",
    "  ############################################################################     \n",
    "\n",
    "  for j in range(1,m):\n",
    "      if m%j==0:\n",
    "          y=j+y\n",
    "      else:\n",
    "          pass\n",
    "        \n",
    "  if y<m:\n",
    "      print (m,\"es un número defectivo\")\n",
    "      \n",
    "  if y==m:\n",
    "      print (m,\"es un número perfecto\")\n",
    "      \n",
    "  if y>m:\n",
    "      print (m,\"es un número abundante\")\n",
    "      \n",
    "  if y+m==m+1:\n",
    "      print (m,\"es un número primo\") \n",
    "      \n",
    "#######################################################################\n",
    "\n",
    "  if (x==m and y==n):\n",
    "      print (n,\"y\",m,\"son numeros amigos\") \n",
    "    \n",
    "\n",
    "num_class(220,284)\n",
    "\n",
    "    \n",
    "\n"
   ]
  },
  {
   "cell_type": "code",
   "execution_count": 26,
   "metadata": {
    "colab": {
     "base_uri": "https://localhost:8080/"
    },
    "id": "zba4yfcWBwJ6",
    "outputId": "0c38bf0e-c8fc-4dbb-bc52-5f31d1782c45"
   },
   "outputs": [
    {
     "name": "stdout",
     "output_type": "stream",
     "text": [
      "[11.0, 12.0, 12.0, 12.0, 22.0, 22.0, 22.0, 24.0, 31.0, 32.0, 41.0, 42.0, 232.0]\n"
     ]
    }
   ],
   "source": [
    "#Quicksort\n",
    "\n",
    "\n",
    "def quicksort_(v):\n",
    "  v=v.split(\",\")\n",
    "  x=len(v)\n",
    "\n",
    "  i=0\n",
    "  j=0\n",
    "  k=0\n",
    "  l=1\n",
    "  \n",
    "\n",
    "  while i<x:\n",
    "    v[i]=float(v[i])\n",
    "    i=i+1\n",
    "\n",
    "  while j<=x:\n",
    "    while l<x:\n",
    "      if v[k]>v[l]:\n",
    "        p=v[k]\n",
    "        v[k]=v[l]\n",
    "        v[l]= p\n",
    "      l=l+1\n",
    "    k=k+1\n",
    "    l=k+1\n",
    "    j=j+1\n",
    "  print(v)\n",
    "\n",
    "quicksort_(\"22, 32, 42, 12, 22, 31, 41, 11, 12, 232, 24, 12, 22\")\n"
   ]
  }
 ],
 "metadata": {
  "colab": {
   "collapsed_sections": [],
   "name": "Taller00_Solucion_MateoB.ipynb",
   "provenance": []
  },
  "kernelspec": {
   "display_name": "Python 3 (ipykernel)",
   "language": "python",
   "name": "python3"
  },
  "language_info": {
   "codemirror_mode": {
    "name": "ipython",
    "version": 3
   },
   "file_extension": ".py",
   "mimetype": "text/x-python",
   "name": "python",
   "nbconvert_exporter": "python",
   "pygments_lexer": "ipython3",
   "version": "3.8.12"
  }
 },
 "nbformat": 4,
 "nbformat_minor": 1
}
