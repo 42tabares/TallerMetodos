{
  "nbformat": 4,
  "nbformat_minor": 0,
  "metadata": {
    "colab": {
      "name": "Tarea00_Laura_Velasquez_739.ipynb",
      "provenance": [],
      "collapsed_sections": []
    },
    "kernelspec": {
      "name": "python3",
      "display_name": "Python 3"
    },
    "language_info": {
      "name": "python"
    }
  },
  "cells": [
    {
      "cell_type": "code",
      "execution_count": null,
      "metadata": {
        "colab": {
          "base_uri": "https://localhost:8080/"
        },
        "id": "ValTgtf7iZEp",
        "outputId": "ff056747-c0c1-4e11-fb00-15ac9689aeff"
      },
      "outputs": [
        {
          "output_type": "stream",
          "name": "stdout",
          "text": [
            " Hola, Elija su número favorito para realizar un factorial\n",
            "9\n",
            "de este número tomaremos solamente la parte entera\n",
            "9\n",
            "el factorial de 9 es \n",
            "362880\n"
          ]
        }
      ],
      "source": [
        "## problema 1, factorial\n",
        "import numpy as np\n",
        "print(\" Hola, Elija su número favorito para realizar un factorial\")\n",
        "numfav=float(input())\n",
        "print(\"de este número tomaremos solamente la parte entera\")\n",
        "numfav1=int(numfav)\n",
        "print(numfav1)\n",
        "i=numfav1\n",
        "resultado=1\n",
        "while i>0 :\n",
        "   resultado=resultado*i\n",
        "   i-=1\n",
        "   if i==0 :\n",
        "     break \n",
        "print(\"el factorial de\", numfav1 , \"es \")\n",
        "print(resultado)\n",
        "\n",
        "\n"
      ]
    },
    {
      "cell_type": "code",
      "source": [
        "##problema 2, clasificacion números\n",
        "print(\"Ahora, dale valor a dos números a y b\")\n",
        "a=float(input(\"a=\"))\n",
        "a1=int(a)\n",
        "b=float(input(\"b=\"))\n",
        "b1=int(b)\n",
        "print( \"los divisores propios de\", a1 , \"son\")\n",
        "n=0\n",
        "for numeros in range(1, int(a1)):\n",
        "  if(a1 % numeros) == 0 :\n",
        "    print(numeros)\n",
        "    n += numeros\n",
        "    z=n\n",
        "\n",
        "print(\"la suma de los divisores de sus divisores es\")\n",
        "print(n)\n",
        "\n",
        "print( \"los divisores propios de\", b1 , \"son\")\n",
        "n=0\n",
        "for numeros in range(1,int(b1)):\n",
        "  if(b1 % numeros) == 0 :\n",
        "    print(numeros)\n",
        "    n += numeros\n",
        "    w=n\n",
        "suma=z+w\n",
        "print(\"la suma de los divisores de sus divisores es\")\n",
        "print(n)\n",
        "print(\"la suma de los divisores de\", a1, \"y\", b1,\"es \", suma)\n",
        "n=0\n",
        "for clase_numeros in range(1, suma):\n",
        "  if(suma) == 0 :\n",
        "    print(numeros)\n",
        "    n += numeros\n",
        "if z < a1:\n",
        "  print(a1,\"es un número defectivo\")\n",
        "else:\n",
        "  print(a1,\"es un número abundante\")\n",
        "if w < b1:\n",
        "  print(b1,\"es un número defectivo\")\n",
        "else:\n",
        "  print(b1,\"es un número abundante\")\n",
        "if a1==w and b1==z :\n",
        "  print(a1, \"y\", b1, \"son números amigos\")\n",
        "if a1==z:\n",
        "  print(a1,\" es un número perfecto\")\n",
        "if b1==w:\n",
        "  print(b1,\"es un número perfecto\")\n",
        "if z==1:\n",
        "  print(a1,\"es un número primo\")\n",
        "if w==1:\n",
        "  print(b1,\"es un número primo\")\n",
        "##falta numeros semiperfectos\n",
        "\n"
      ],
      "metadata": {
        "colab": {
          "base_uri": "https://localhost:8080/"
        },
        "id": "oDCFdfciu7Ue",
        "outputId": "a69e2820-fc37-44b4-aa6f-ffdc0073f05b"
      },
      "execution_count": null,
      "outputs": [
        {
          "output_type": "stream",
          "name": "stdout",
          "text": [
            "Ahora, dale valor a dos números a y b\n",
            "a=220\n",
            "b=284\n",
            "los divisores propios de 220 son\n",
            "1\n",
            "2\n",
            "4\n",
            "5\n",
            "10\n",
            "11\n",
            "20\n",
            "22\n",
            "44\n",
            "55\n",
            "110\n",
            "la suma de los divisores de sus divisores es\n",
            "284\n",
            "los divisores propios de 284 son\n",
            "1\n",
            "2\n",
            "4\n",
            "71\n",
            "142\n",
            "la suma de los divisores de sus divisores es\n",
            "220\n",
            "la suma de los divisores de 220 y 284 es  504\n",
            "220 es un número abundante\n",
            "284 es un número defectivo\n",
            "220 y 284 son números amigos\n"
          ]
        }
      ]
    },
    {
      "cell_type": "code",
      "source": [
        ""
      ],
      "metadata": {
        "id": "p2kLSzXvhhQH"
      },
      "execution_count": null,
      "outputs": []
    },
    {
      "cell_type": "code",
      "source": [
        "##Problema 3, caracteres \n",
        "def vocaloconsonante (caract):\n",
        "  if caract== \"a\" or caract== \"A\":\n",
        "      return True\n",
        "  elif caract== \"e\" or caract==\"E\":\n",
        "      return True\n",
        "  elif caract== \"i\" or caract==\"I\":\n",
        "      return True\n",
        "  elif caract== \"o\" or caract== \"O\":\n",
        "      return True\n",
        "  elif caract== \"u\" or caract==\"U\":\n",
        "      return True\n",
        "  else:\n",
        "      return False\n",
        "\n",
        "cadena=input(\"escriba su fruta favorita: \")\n",
        "\n",
        "if len(cadena)%2!=0:\n",
        "  posicion=int((len(cadena)/2))\n",
        "  variable=vocaloconsonante (cadena[posicion])\n",
        "#  print(cadena[posicion])\n",
        "else:\n",
        "  posicion1=int((len(cadena)/2-1))\n",
        "  print(\"La letra central de la izquierda\")\n",
        "  variable=vocaloconsonante (cadena[posicion1])\n",
        "#  print(\"La letra de la izquierda es\", cadena[posicion1])\n",
        "\n",
        "  #posicion2=int((len(cadena)/2))\n",
        "  #print(\"La letra central de la derecha\")\n",
        "  #variable=vocaloconsonante (cadena[posicion2])\n",
        "#  print(\"La letra de la derecha es\",cadena[posicion2])\n",
        "\n",
        "resultado=[variable]\n",
        "cuenta=0\n",
        "for i in cadena:\n",
        "  cuenta=cuenta+vocaloconsonante(i)\n",
        "cuentaconsonantes=len(cadena)-cuenta\n",
        "cadenainvertida=cadena[:: -1]\n",
        "resultado.append(cuenta)\n",
        "resultado.append(cuentaconsonantes)\n",
        "resultado.append(cadenainvertida)\n",
        "print(resultado)"
      ],
      "metadata": {
        "colab": {
          "base_uri": "https://localhost:8080/"
        },
        "id": "qKS3zpvMJJGq",
        "outputId": "6602b3cc-a548-4d3f-fe08-d99f0b9ceadf"
      },
      "execution_count": null,
      "outputs": [
        {
          "output_type": "stream",
          "name": "stdout",
          "text": [
            "escriba su fruta favorita: hola}\n",
            "[False, 2, 3, '}aloh']\n"
          ]
        }
      ]
    },
    {
      "cell_type": "code",
      "source": [
        "##Problema 4, sucesión Fibonacci\n",
        "q=(int(input(\"elemento de la sucesión de Fibonacci que desea conocer \")))\n",
        "if q==0:\n",
        "   print(\"el elemento es 0\")\n",
        "elif q==1:\n",
        "   print(\"el elemento es 1\")\n",
        "else: \n",
        "   a=0+1\n",
        "   a1=0\n",
        "   a2=0\n",
        "   for i in range(q):\n",
        "    a2=a+a1\n",
        "    a=a1\n",
        "    a1=a2\n",
        "   print(a2)\n",
        "\n"
      ],
      "metadata": {
        "colab": {
          "base_uri": "https://localhost:8080/"
        },
        "id": "X6nhlGGfl-kg",
        "outputId": "e47e5ad8-f957-4493-ab2e-3f71688ae5b3"
      },
      "execution_count": null,
      "outputs": [
        {
          "output_type": "stream",
          "name": "stdout",
          "text": [
            "elemento de la sucesión de Fibonacci que desea conocer 63\n",
            "6557470319842\n"
          ]
        }
      ]
    },
    {
      "cell_type": "code",
      "source": [
        "##Problema 5 , ordenamiento\n",
        "v=[22, 32, 42, 12, 22, 31, 41, 11, 12, 232, 24, 12, 22]\n",
        "mitad=int(len(v)/2)\n",
        "pivote=v[mitad]\n",
        "print(p,\"este será nuestro pivote\")\n",
        "c1=v[0]\n",
        "l=int(len(v))\n",
        "c2=v[l]\n",
        "print(c1)\n",
        "print(c2)"
      ],
      "metadata": {
        "colab": {
          "base_uri": "https://localhost:8080/",
          "height": 252
        },
        "id": "0n-zZmTVovHj",
        "outputId": "845f08f6-5e5a-4042-bdcd-cb28b10d4587"
      },
      "execution_count": null,
      "outputs": [
        {
          "output_type": "stream",
          "name": "stdout",
          "text": [
            "41 este será nuestro pivote\n"
          ]
        },
        {
          "output_type": "error",
          "ename": "IndexError",
          "evalue": "ignored",
          "traceback": [
            "\u001b[0;31m---------------------------------------------------------------------------\u001b[0m",
            "\u001b[0;31mIndexError\u001b[0m                                Traceback (most recent call last)",
            "\u001b[0;32m<ipython-input-48-d452baa2c86a>\u001b[0m in \u001b[0;36m<module>\u001b[0;34m()\u001b[0m\n\u001b[1;32m      6\u001b[0m \u001b[0mc1\u001b[0m\u001b[0;34m=\u001b[0m\u001b[0mv\u001b[0m\u001b[0;34m[\u001b[0m\u001b[0;36m0\u001b[0m\u001b[0;34m]\u001b[0m\u001b[0;34m\u001b[0m\u001b[0;34m\u001b[0m\u001b[0m\n\u001b[1;32m      7\u001b[0m \u001b[0ml\u001b[0m\u001b[0;34m=\u001b[0m\u001b[0mint\u001b[0m\u001b[0;34m(\u001b[0m\u001b[0mlen\u001b[0m\u001b[0;34m(\u001b[0m\u001b[0mv\u001b[0m\u001b[0;34m)\u001b[0m\u001b[0;34m)\u001b[0m\u001b[0;34m\u001b[0m\u001b[0;34m\u001b[0m\u001b[0m\n\u001b[0;32m----> 8\u001b[0;31m \u001b[0mc2\u001b[0m\u001b[0;34m=\u001b[0m\u001b[0mv\u001b[0m\u001b[0;34m[\u001b[0m\u001b[0ml\u001b[0m\u001b[0;34m]\u001b[0m\u001b[0;34m\u001b[0m\u001b[0;34m\u001b[0m\u001b[0m\n\u001b[0m\u001b[1;32m      9\u001b[0m \u001b[0mprint\u001b[0m\u001b[0;34m(\u001b[0m\u001b[0mc1\u001b[0m\u001b[0;34m)\u001b[0m\u001b[0;34m\u001b[0m\u001b[0;34m\u001b[0m\u001b[0m\n\u001b[1;32m     10\u001b[0m \u001b[0mprint\u001b[0m\u001b[0;34m(\u001b[0m\u001b[0mc2\u001b[0m\u001b[0;34m)\u001b[0m\u001b[0;34m\u001b[0m\u001b[0;34m\u001b[0m\u001b[0m\n",
            "\u001b[0;31mIndexError\u001b[0m: list index out of range"
          ]
        }
      ]
    },
    {
      "cell_type": "code",
      "source": [
        "##Problema 5 , ordenamiento\n",
        "\n",
        "try:\n",
        "    print(\"Ingrese tantos numeros como desee, al finalizar presione crl-c, o interrumpa el kernel en Jupiter Notebook. \")\n",
        "    v=[]\n",
        "    while True:\n",
        "       x=int(input(\"Ingrese un numero: \"))\n",
        "       v.append(x)\n",
        "except KeyboardInterrupt:\n",
        "  print(\"El vector esta completo, el vector ingresado fue: \")\n",
        "  print(v)\n",
        "  pass\n",
        "finally:\n",
        "#v=[22, 32, 42, 12, 22, 31, 41, 11, 12, 232, 24, 12, 22]\n",
        "  print(type(v[0]))\n",
        "  def grupos (a,v):\n",
        "    if v[a]>v[a+1]:\n",
        "      s1=v[a]\n",
        "      s2=v[a+1]\n",
        "      v[a]=s2\n",
        "      v[a+1]=s1\n",
        "  grupos(a,v)\n",
        "  for i in range(len(v)-1):\n",
        "    for j in range(len(v)-1):\n",
        "      grupos(j,v)\n",
        "  print(\"El vector ordenado es: \")\n",
        "  print(v)"
      ],
      "metadata": {
        "id": "rTA7Fil8FYK0",
        "colab": {
          "base_uri": "https://localhost:8080/"
        },
        "outputId": "e77a2fb1-0e9c-409a-e518-9fc9abc52616"
      },
      "execution_count": 178,
      "outputs": [
        {
          "output_type": "stream",
          "name": "stdout",
          "text": [
            "Ingrese tantos numeros como desee, al finalizar presione crl-c, o interrumpa el kernel en Jupiter Notebook. \n",
            "Ingrese un numero: 1\n",
            "Ingrese un numero: 3\n",
            "Ingrese un numero: 4\n",
            "Ingrese un numero: 2\n",
            "Ingrese un numero: 5\n",
            "Ingrese un numero: 1\n",
            "Ingrese un numero: 24\n",
            "Ingrese un numero: 35\n",
            "Ingrese un numero: 1\n",
            "Ingrese un numero: 3\n",
            "El vector esta completo, el vector ingresado fue: \n",
            "[1, 3, 4, 2, 5, 1, 24, 35, 1, 3]\n",
            "<class 'int'>\n",
            "El vector ordenado es: \n",
            "[1, 1, 1, 2, 3, 3, 4, 5, 24, 35]\n"
          ]
        }
      ]
    },
    {
      "cell_type": "code",
      "source": [
        "v=[22, 32, 42, 12, 22, 31, 41, 11, 12, 232, 24, 12, 22]\n",
        "print(type(v))\n",
        "def grupos (a,v):\n",
        "  if v[a]>v[a+1]:\n",
        "    s1=v[a]\n",
        "    s2=v[a+1]\n",
        "    v[a]=s2\n",
        "    v[a+1]=s1\n",
        "grupos(a,v)\n",
        "for i in range(len(v)-1):\n",
        "  for j in range(len(v)-1):\n",
        "    grupos(j,v)\n",
        "print(\"El vector ordenado es: \")\n",
        "print(v)"
      ],
      "metadata": {
        "colab": {
          "base_uri": "https://localhost:8080/"
        },
        "id": "ko3fEcB9I6jW",
        "outputId": "0e3b211b-2574-438f-aa75-a04ccfe928eb"
      },
      "execution_count": 176,
      "outputs": [
        {
          "output_type": "stream",
          "name": "stdout",
          "text": [
            "<class 'list'>\n",
            "El vector ordenado es: \n",
            "[11, 12, 12, 12, 22, 22, 22, 24, 31, 32, 41, 42, 232]\n"
          ]
        }
      ]
    }
  ]
}