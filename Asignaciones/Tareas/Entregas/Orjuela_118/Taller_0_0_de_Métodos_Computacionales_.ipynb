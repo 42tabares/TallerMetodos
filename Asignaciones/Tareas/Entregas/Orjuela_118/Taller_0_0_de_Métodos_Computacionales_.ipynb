{
  "nbformat": 4,
  "nbformat_minor": 0,
  "metadata": {
    "colab": {
      "name": "Taller 0.0 de Métodos Computacionales .ipynb",
      "provenance": [],
      "collapsed_sections": []
    },
    "kernelspec": {
      "name": "python3",
      "display_name": "Python 3"
    },
    "language_info": {
      "name": "python"
    }
  },
  "cells": [
    {
      "cell_type": "markdown",
      "source": [
        "#Solución Taller 0.0 de métodos computacionales para fisicos y astronomos\n",
        "##Universidad de Antioquia\n",
        "###Estudiante: Santiago Andres Orjuela Montealegre\n"
      ],
      "metadata": {
        "id": "OOnSzzNSOSCS"
      }
    },
    {
      "cell_type": "code",
      "source": [
        "import math \n",
        "import numpy as np"
      ],
      "metadata": {
        "id": "xTXeiSCFQFaU"
      },
      "execution_count": null,
      "outputs": []
    },
    {
      "cell_type": "markdown",
      "source": [
        "### 1.\n"
      ],
      "metadata": {
        "id": "VNuEX0XwPeke"
      }
    },
    {
      "cell_type": "code",
      "execution_count": 86,
      "metadata": {
        "id": "-6ryPv9_MxVz"
      },
      "outputs": [],
      "source": [
        "def Factorial(x):\n",
        "  try:\n",
        "    factorial = math.factorial(x)\n",
        "    print(factorial)\n",
        "  except ValueError:\n",
        "    print('Solo numeros naturales')\n"
      ]
    },
    {
      "cell_type": "code",
      "source": [
        "Factorial(19)"
      ],
      "metadata": {
        "colab": {
          "base_uri": "https://localhost:8080/"
        },
        "id": "MtvSnB5mlCpV",
        "outputId": "f09b79a3-4e98-4334-de4c-f631f641b91e"
      },
      "execution_count": 88,
      "outputs": [
        {
          "output_type": "stream",
          "name": "stdout",
          "text": [
            "121645100408832000\n"
          ]
        }
      ]
    },
    {
      "cell_type": "markdown",
      "source": [
        "### 2.\n"
      ],
      "metadata": {
        "id": "BQVKx7o6R33y"
      }
    },
    {
      "cell_type": "code",
      "source": [
        "def semiperfecto(n):\n",
        "  div = []\n",
        "  for i in range(1,n+1):\n",
        "    if n%i == 0:\n",
        "      div.append(i)\n",
        "  n = len(div)\n",
        "  semiperfecto = False\n",
        "  i = 1\n",
        "  while (not semiperfecto and i<2**n-1):\n",
        "    suma = 0\n",
        "    for j in range(n):\n",
        "      if 2**j & i>0:\n",
        "        suma = suma + div[j]\n",
        "    semiperfecto = (suma==n)\n",
        "    i=i+1\n",
        "  if semiperfecto:\n",
        "    return 1\n",
        "  else:\n",
        "    return 2\n",
        "\n",
        "#_______________________________________________________________________________________________\n",
        "\n",
        "def clase_numero(a,b):\n",
        "  adiv = []\n",
        "  bdiv = []\n",
        "  for i in range(1,a+1):\n",
        "    if a%i == 0:\n",
        "      adiv.append(i)\n",
        "  for j in range(1,b+1):\n",
        "    if b%j == 0:\n",
        "      bdiv.append(j)\n",
        "\n",
        "  if len(adiv) == 2:\n",
        "    print(f\"{a} es primo\")\n",
        "  if a > (sum(adiv)-a):\n",
        "    print(f\"{a} es defectivo\")\n",
        "  elif a < sum(adiv):\n",
        "    print(f\"{a} es abundante\")\n",
        "  if a == (sum(adiv)-a):\n",
        "    print(f\"{a} es perfecto\")\n",
        "  if semiperfecto(a) == 1:\n",
        "    print(f\"{a} es semiperfecto\")\n",
        "\n",
        "  if len(bdiv) == 2:\n",
        "    print(f\"{b} es primo\")\n",
        "  if b > (sum(bdiv)-b):\n",
        "    print(f\"{b} es defectivo\")\n",
        "  elif b < sum(bdiv):\n",
        "    print(f\"{b} es abundante\")\n",
        "  elif b == (sum(bdiv)-b):\n",
        "    print(f\"{b} es perfecto\")\n",
        "  if semiperfecto(b) == 2:\n",
        "    print(f\"{b} es semiperfecto\")\n",
        "  if a == (sum(bdiv)-b) and b == (sum(adiv)-a):\n",
        "    print(f\"{a} y {b} son numeros amigos\")\n",
        "\n",
        "  \n",
        "    \n"
      ],
      "metadata": {
        "id": "w6YewAlTR8wd"
      },
      "execution_count": null,
      "outputs": []
    },
    {
      "cell_type": "code",
      "source": [
        "clase_numero(220,284)"
      ],
      "metadata": {
        "colab": {
          "base_uri": "https://localhost:8080/"
        },
        "id": "qW1w_YOmWkjr",
        "outputId": "a30564a4-cfc6-4f1a-dd35-47c630f3c6ca"
      },
      "execution_count": null,
      "outputs": [
        {
          "output_type": "stream",
          "name": "stdout",
          "text": [
            "220 es abundante\n",
            "220 es semiperfecto\n",
            "284 es defectivo\n",
            "220 y 284 son numeros amigos\n"
          ]
        }
      ]
    },
    {
      "cell_type": "markdown",
      "source": [
        "### 3."
      ],
      "metadata": {
        "id": "cnPTMkrFrstp"
      }
    },
    {
      "cell_type": "code",
      "source": [
        "def palindromo(n):\n",
        "  n = int(n)\n",
        "  l = [int(x) for x in str(n)]\n",
        "  lr=[l[i-1] for i in range(len(l),0,-1)]\n",
        "  if l == lr:\n",
        "    return True\n",
        "  else:\n",
        "    return False"
      ],
      "metadata": {
        "id": "qmoahAKirxrB"
      },
      "execution_count": 72,
      "outputs": []
    },
    {
      "cell_type": "code",
      "source": [
        "palindromo (1111349111111)"
      ],
      "metadata": {
        "colab": {
          "base_uri": "https://localhost:8080/"
        },
        "id": "tpqlgudfk1UI",
        "outputId": "9efc42e9-9ef3-46f8-b71c-8fed4f93c77a"
      },
      "execution_count": 73,
      "outputs": [
        {
          "output_type": "execute_result",
          "data": {
            "text/plain": [
              "False"
            ]
          },
          "metadata": {},
          "execution_count": 73
        }
      ]
    },
    {
      "cell_type": "markdown",
      "source": [
        "### 4."
      ],
      "metadata": {
        "id": "5kU3074ArvzS"
      }
    },
    {
      "cell_type": "code",
      "source": [
        "def cadena(palabra):\n",
        "  c = []\n",
        "  palabra = palabra.lower()\n",
        "  l = list(palabra)\n",
        "  #1\n",
        "  m = l[int(len(l)/2)]\n",
        "  if m in 'aeiuo':\n",
        "    x = True\n",
        "  else:\n",
        "    x = False\n",
        "  c.append(x)\n",
        "  #2\n",
        "  contador_vocales = 0\n",
        "  for i in palabra:\n",
        "    if i in 'aeiou':\n",
        "      contador_vocales += 1\n",
        "  c.append(contador_vocales)\n",
        "  #3\n",
        "  contador_consonantes = 0\n",
        "  for j in palabra:\n",
        "    if palabra.isalpha() and not j in 'aeiou':\n",
        "      contador_consonantes += 1\n",
        "  c.append(contador_consonantes)\n",
        "  #4\n",
        "  lr = [l[i-1] for i in range(len(l),0,-1)]\n",
        "  lr = \"\".join(lr)\n",
        "  c.append(lr)\n",
        "  return c"
      ],
      "metadata": {
        "id": "uGlgQKk2Ut8_"
      },
      "execution_count": 30,
      "outputs": []
    },
    {
      "cell_type": "code",
      "source": [
        "s = 'murcielago'\n",
        "cadena(s)"
      ],
      "metadata": {
        "colab": {
          "base_uri": "https://localhost:8080/"
        },
        "id": "qlmTjnQnZoAH",
        "outputId": "2f919ebc-30c7-4cfb-f7e8-1cd123a8057d"
      },
      "execution_count": 33,
      "outputs": [
        {
          "output_type": "execute_result",
          "data": {
            "text/plain": [
              "[True, 5, 5, 'ogaleicrum']"
            ]
          },
          "metadata": {},
          "execution_count": 33
        }
      ]
    },
    {
      "cell_type": "markdown",
      "source": [
        "###5."
      ],
      "metadata": {
        "id": "Xt7QJ8CIgTLz"
      }
    },
    {
      "cell_type": "code",
      "source": [
        "def Fibonacci(n):\n",
        "    return int(((1+np.sqrt(5))**n-(1-np.sqrt(5))**n)/(2**n*np.sqrt(5)))"
      ],
      "metadata": {
        "id": "F89sJL5yaNHS"
      },
      "execution_count": 49,
      "outputs": []
    },
    {
      "cell_type": "code",
      "source": [
        "Fibonacci(50)"
      ],
      "metadata": {
        "colab": {
          "base_uri": "https://localhost:8080/"
        },
        "id": "gX0r6JHlgwUH",
        "outputId": "76816d85-86cd-4908-9f2a-cea614c39065"
      },
      "execution_count": 50,
      "outputs": [
        {
          "output_type": "execute_result",
          "data": {
            "text/plain": [
              "12586269025"
            ]
          },
          "metadata": {},
          "execution_count": 50
        }
      ]
    },
    {
      "cell_type": "markdown",
      "source": [
        "### 6."
      ],
      "metadata": {
        "id": "sAyASwy4hTHw"
      }
    },
    {
      "cell_type": "code",
      "source": [
        "\n",
        "def quicksort(arreglo):\n",
        "  for i in range(1,len(arreglo)):\n",
        "    for j in range (len(arreglo)-i):\n",
        "      if arreglo[j]>arreglo[j+1]:\n",
        "        y=arreglo[j]\n",
        "        arreglo[j]=arreglo[j+1]\n",
        "        arreglo[j+1]=y     \n",
        "  return arreglo\n"
      ],
      "metadata": {
        "id": "QW_ENMSzgx5G"
      },
      "execution_count": 63,
      "outputs": []
    },
    {
      "cell_type": "code",
      "source": [
        "s = np.random.random(6)\n",
        "print(s)\n",
        "print()\n",
        "print(quicksort(s))"
      ],
      "metadata": {
        "colab": {
          "base_uri": "https://localhost:8080/"
        },
        "id": "Xu7VdDtDjR1X",
        "outputId": "d0465c5c-78a9-4334-c238-b13fc165bcec"
      },
      "execution_count": 70,
      "outputs": [
        {
          "output_type": "stream",
          "name": "stdout",
          "text": [
            "[0.33794339 0.67036348 0.57495143 0.49839482 0.55121267 0.58546116]\n",
            "\n",
            "[0.33794339 0.49839482 0.55121267 0.57495143 0.58546116 0.67036348]\n"
          ]
        }
      ]
    }
  ]
}