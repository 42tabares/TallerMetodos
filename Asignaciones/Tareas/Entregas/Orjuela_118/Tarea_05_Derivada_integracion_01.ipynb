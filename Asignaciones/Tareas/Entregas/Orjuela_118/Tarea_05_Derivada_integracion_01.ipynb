{
  "nbformat": 4,
  "nbformat_minor": 0,
  "metadata": {
    "colab": {
      "name": "Tarea_05_Derivada_integracion_01.ipynb",
      "provenance": [],
      "collapsed_sections": []
    },
    "kernelspec": {
      "display_name": "Python 3",
      "language": "python",
      "name": "python3"
    },
    "language_info": {
      "codemirror_mode": {
        "name": "ipython",
        "version": 3
      },
      "file_extension": ".py",
      "mimetype": "text/x-python",
      "name": "python",
      "nbconvert_exporter": "python",
      "pygments_lexer": "ipython3",
      "version": "3.7.2"
    }
  },
  "cells": [
    {
      "cell_type": "code",
      "source": [
        "import numpy as np\n",
        "import sympy as sp\n",
        "import scipy as sc\n",
        "import pandas as pd\n",
        "from scipy.misc import derivative\n",
        "from scipy import integrate\n",
        "from sympy import init_printing\n",
        "import matplotlib.pylab as plt\n",
        "init_printing() "
      ],
      "metadata": {
        "id": "IyGJc7gcPOtW"
      },
      "execution_count": 50,
      "outputs": []
    },
    {
      "cell_type": "markdown",
      "metadata": {
        "id": "8q4c8oS-hpaE"
      },
      "source": [
        "\n",
        "#1. Derivadas.\n",
        "\n",
        "\n",
        "En el metodo Smoothed-particle hydrodynamics ([SPH](!https://en.wikipedia.org/wiki/Smoothed-particle_hydrodynamics)) se emplean diferentes kernel de aproximación para calcular las propiedades  de un fluído en cada punto del espacio. Uno de ellos es el Kernel de Lucy detallado a continuación:\n",
        "\n",
        "### Lucy's Quartic Kernel \n",
        "\\begin{equation}\n",
        "W(R, h)= \\alpha_D \\left\\{\n",
        "  \\begin{matrix} \\left(1+3q)(1- q\\right)^3 &  0\\leq q< h \\\\ \n",
        "  0 & in\\ the\\ other\\ case.\n",
        "  \\end{matrix}\n",
        "\\right.\n",
        "\\end{equation}\n",
        "\n",
        "donde, \n",
        "\n",
        "\\begin{equation}\n",
        "q=\\frac{|(\\vec{r}-\\vec{r}')|}{h}\n",
        "\\end{equation}\n",
        "\n",
        "y $\\alpha_D$ es la constante de normalización:\n",
        "\n",
        "- en 2 dimensiones, viene dada por:\n",
        "\\begin{equation}\n",
        "\\alpha_D = \\frac{5}{\\pi h^2}\n",
        "\\end{equation}\n",
        "\n",
        "- en 3 dimensiones, viene dada por:\n",
        "\\begin{equation}\n",
        "\\alpha_D = \\frac{105}{16\\pi h^3}\n",
        "\\end{equation}\n",
        "\n",
        "Para el kernel de Lucy en 2D encontrar su derivada a través de los siguientes pasos:\n",
        "\n",
        "1. Realizar un gráfico del kernel de Lucy.\n",
        "2. Encontrar la derivada empleanda la libreria simbolica\n",
        "3. Realizar un grafico de los cálculos encontrados con la  libreria simbólica  y comparar con la derivada numérica de los datos del punto 1. \n",
        "\n",
        "Recuerde siempre comparar sus resultados con sus cálculos realizados en papel y lapiz.\n",
        "\n",
        "\n",
        "Opcional.\n",
        "\n",
        "Resolver el problema en 3D\n",
        "\n",
        "\n",
        "\n",
        "\n"
      ]
    },
    {
      "cell_type": "code",
      "source": [
        "def K_Lucy(r,h):\n",
        "  T1 = (1+3*(r/h))*(1-(r/h))**3\n",
        "  αD = 5/(np.pi*h**2)\n",
        "  return αD*T1"
      ],
      "metadata": {
        "id": "Ca5Rw3LVTevc"
      },
      "execution_count": 68,
      "outputs": []
    },
    {
      "cell_type": "code",
      "source": [
        "h_ = 0.1\n",
        "r_ = np.linspace(-20,20,100)\n",
        "plt.plot(r_,K_Lucy(r_,h_),'b', label = \"Kernel de Lucy\")\n",
        "plt.xlabel('$q$')\n",
        "plt.ylabel('$W(R,h)$')\n",
        "plt.title(\"Grafica del Kernel de Lucy\")\n",
        "plt.legend()\n",
        "plt.grid()\n",
        "plt.show()"
      ],
      "metadata": {
        "colab": {
          "base_uri": "https://localhost:8080/",
          "height": 297
        },
        "id": "EHdYTj4gPAFR",
        "outputId": "3e1348e1-6c77-435c-a90d-8739c4f5220c"
      },
      "execution_count": 69,
      "outputs": [
        {
          "output_type": "display_data",
          "data": {
            "text/plain": [
              "<Figure size 432x288 with 1 Axes>"
            ],
            "image/png": "[encoded data removed]"
          },
          "metadata": {
            "needs_background": "light"
          }
        }
      ]
    },
    {
      "cell_type": "code",
      "source": [
        "#Derivada kernel de lucy\n",
        "r = sp.symbols(\"r\")\n",
        "h = sp.symbols(\"h\")\n",
        "fp = sp.diff(K_Lucy(r,h),r, 1)\n",
        "fp"
      ],
      "metadata": {
        "colab": {
          "base_uri": "https://localhost:8080/",
          "height": 59
        },
        "id": "Qw7OkP5Scds6",
        "outputId": "1ad88794-2ff8-45b3-fc06-b4596aab4575"
      },
      "execution_count": 71,
      "outputs": [
        {
          "output_type": "execute_result",
          "data": {
            "text/plain": [
              "                        3                           2          \n",
              "                 ⎛    r⎞                     ⎛    r⎞  ⎛    3⋅r⎞\n",
              "4.77464829275686⋅⎜1 - ─⎟    4.77464829275686⋅⎜1 - ─⎟ ⋅⎜1 + ───⎟\n",
              "                 ⎝    h⎠                     ⎝    h⎠  ⎝     h ⎠\n",
              "───────────────────────── - ───────────────────────────────────\n",
              "             3                                3                \n",
              "            h                                h                 "
            ],
            "image/png": "[encoded data removed]",
            "text/latex": "$\\displaystyle \\frac{4.77464829275686 \\left(1 - \\frac{r}{h}\\right)^{3}}{h^{3}} - \\frac{4.77464829275686 \\left(1 - \\frac{r}{h}\\right)^{2} \\left(1 + \\frac{3 r}{h}\\right)}{h^{3}}$"
          },
          "metadata": {},
          "execution_count": 71
        }
      ]
    },
    {
      "cell_type": "code",
      "source": [
        "fp_ = sp.lambdify([r,h], fp, \"numpy\")\n",
        "plt.plot(r_,fp_(r_,h_),'r', label = \" Derivada del Kernel de Lucy\")\n",
        "plt.plot(r_,K_Lucy(r_,h_),'b', label = \"Kernel de Lucy\")\n",
        "plt.xlabel('$q$')\n",
        "plt.ylabel('$W(R,h)$')\n",
        "plt.title(\"Comparacion de datos\")\n",
        "plt.legend()\n",
        "plt.grid()\n",
        "plt.show()"
      ],
      "metadata": {
        "colab": {
          "base_uri": "https://localhost:8080/",
          "height": 297
        },
        "id": "xQNfC4lveSqB",
        "outputId": "783676ac-c4d3-40c3-cdbc-86aa1f0d8326"
      },
      "execution_count": 72,
      "outputs": [
        {
          "output_type": "display_data",
          "data": {
            "text/plain": [
              "<Figure size 432x288 with 1 Axes>"
            ],
            "image/png": "[encoded data removed]"
          },
          "metadata": {
            "needs_background": "light"
          }
        }
      ]
    },
    {
      "cell_type": "markdown",
      "metadata": {
        "id": "WV6dMBzK_odZ"
      },
      "source": [
        "\n",
        "\n",
        "\n",
        "# 2.0 Integración\n",
        "\n",
        "1. Escribir en código Markdown la expresión para calcular una integral con la regla del trapecio.\n",
        "\n",
        "2. Escribir en código Markdown la expresión para calcular una integral con la regla del simpson\n",
        "\n",
        "\n",
        "3. Escribir en código Markdown la expresión para calcular una integral con el metodo de cuadratura.\n",
        "\n",
        "4. Calcular una aproximación con el metodo 1,2,3 de las siguientes integrales\n",
        "\n",
        "- \n",
        " $$\n",
        " \\int_0^\\pi e^{1-\\sqrt{x}}\\, dx\n",
        " $$\n",
        "\n",
        "\n",
        "- $$\n",
        " \\int_0^{\\pi/2} \\frac{1}{\\sqrt{\\tan x}}\\, dx\n",
        " $$\n",
        "\n",
        "- \n",
        "$$\n",
        " \\int_{-\\infty}^{\\infty} \\frac{1}{1+x^2} \\, dx\n",
        " $$\n",
        "\n",
        "\n",
        "- \n",
        "\n",
        "$$\n",
        " \\int_{0}^{\\pi/4} \\int_{\\sin x}^{\\cos x} (2y\\sin x +\\cos^2 x)\\, dxdy\n",
        " $$\n",
        "\n",
        "\n",
        "- \n",
        "$$\n",
        " \\int_{-\\infty}^{\\infty} \\frac{1}{1+x^2} \\, dx\n",
        " $$\n",
        "\n",
        "\n",
        "- \n",
        "$$\n",
        " \\int_{e}^{2e} \\frac{1}{\\ln x} \\, dx\n",
        " $$\n",
        "\n",
        "\n",
        "garantizando  que el error sea menor a $\\varepsilon=1E-5$.  "
      ]
    },
    {
      "cell_type": "code",
      "source": [
        "#4\n",
        "f1 = lambda x: np.exp(1-np.sqrt(x))\n",
        "f2 = lambda x: 1/np.sqrt(np.tan(x))\n",
        "f3 = lambda x: 1/(1+x**2)\n",
        "f4 = lambda x,y: ((2*y*sp.sin(x))+sp.cos(x)**2)\n",
        "f5 = lambda x: 1/np.log(x)"
      ],
      "metadata": {
        "id": "rbVhm--XTKAt"
      },
      "execution_count": null,
      "outputs": []
    },
    {
      "cell_type": "markdown",
      "source": [
        " $$\n",
        " \\int_0^\\pi e^{1-\\sqrt{x}}\\, dx\n",
        " $$\n"
      ],
      "metadata": {
        "id": "WN6y_aolesmZ"
      }
    },
    {
      "cell_type": "code",
      "source": [
        "lim_inf = 0\n",
        "lim_sup = np.pi\n",
        "x = np.linspace(lim_inf,lim_sup,1000)\n",
        "trapecio = integrate.trapz(f1(x),x)\n",
        "cuadratura = integrate.quad(f1,lim_inf,lim_sup,epsabs=1e-5)[0]\n",
        "simpsons = integrate.simps(f1(x),x)\n",
        "print(f'integral por la regla del trapecio: {trapecio}')\n",
        "print(f'integral por el metodo de la cuadratura: {cuadratura}')\n",
        "print(f'integral por la regla de simpson: {simpsons}')"
      ],
      "metadata": {
        "colab": {
          "base_uri": "https://localhost:8080/"
        },
        "id": "k3gIkIXudros",
        "outputId": "cd7ba1a7-338c-44b7-9a4e-f14b816b630d"
      },
      "execution_count": null,
      "outputs": [
        {
          "output_type": "stream",
          "name": "stdout",
          "text": [
            "integral por la regla del trapecio: 2.8755895688432083\n",
            "integral por el metodo de la cuadratura: 2.8754911354375863\n",
            "integral por la regla de simpson: 2.87555082821594\n"
          ]
        }
      ]
    },
    {
      "cell_type": "markdown",
      "source": [
        "$$\n",
        " \\int_0^{\\pi/2} \\frac{1}{\\sqrt{\\tan x}}\\, dx\n",
        " $$"
      ],
      "metadata": {
        "id": "qS7YxuLde3Ur"
      }
    },
    {
      "cell_type": "code",
      "source": [
        "lim_inf = 0\n",
        "lim_sup = np.pi/2\n",
        "x = np.linspace(0.001,lim_sup,1000000)\n",
        "trapecio = integrate.trapz(f2(x),x,dx=1)\n",
        "cuadratura = integrate.quad(f2,lim_inf,lim_sup,epsabs=1e-5)[0]\n",
        "simpsons = integrate.simps(f2(x),x)\n",
        "print(f'integral por la regla del trapecio: {trapecio}')\n",
        "print(f'integral por el metodo de la cuadratura: {cuadratura}')\n",
        "print(f'integral por la regla de simpson: {simpsons}')"
      ],
      "metadata": {
        "colab": {
          "base_uri": "https://localhost:8080/"
        },
        "id": "9rt3Nv_QezAI",
        "outputId": "19ba7b8c-a8e0-41f8-c241-8422f3ad1e07"
      },
      "execution_count": null,
      "outputs": [
        {
          "output_type": "stream",
          "name": "stdout",
          "text": [
            "integral por la regla del trapecio: 2.1581959208220867\n",
            "integral por el metodo de la cuadratura: 2.221441469079092\n",
            "integral por la regla de simpson: 2.1581959177428494\n"
          ]
        }
      ]
    },
    {
      "cell_type": "markdown",
      "source": [
        "$$\n",
        " \\int_{-\\infty}^{\\infty} \\frac{1}{1+x^2} \\, dx\n",
        " $$\n"
      ],
      "metadata": {
        "id": "1Sgu6DJxfhuC"
      }
    },
    {
      "cell_type": "code",
      "source": [
        "lim_inf = -np.inf\n",
        "lim_sup = np.inf\n",
        "x = np.linspace(-1000,1000,10000)\n",
        "trapecio = integrate.trapz(f3(x),x)\n",
        "cuadratura = integrate.quad(f3,lim_inf,lim_sup,epsabs=1e-5)[0]\n",
        "simpsons = integrate.simps(f3(x),x)\n",
        "print(f'integral por la regla del trapecio: {trapecio}')\n",
        "print(f'integral por el metodo de la cuadratura: {cuadratura}')\n",
        "print(f'integral por la regla de simpson: {simpsons}')"
      ],
      "metadata": {
        "colab": {
          "base_uri": "https://localhost:8080/"
        },
        "id": "xliB96Blfii3",
        "outputId": "51e5f5ce-b26b-499c-fdf8-82683720339e"
      },
      "execution_count": null,
      "outputs": [
        {
          "output_type": "stream",
          "name": "stdout",
          "text": [
            "integral por la regla del trapecio: 3.1395926542429824\n",
            "integral por el metodo de la cuadratura: 3.141592653589793\n",
            "integral por la regla de simpson: 3.1395926542563206\n"
          ]
        }
      ]
    },
    {
      "cell_type": "markdown",
      "source": [
        "$$\n",
        " \\int_{0}^{\\pi/4} \\int_{\\sin x}^{\\cos x} (2y\\sin x +\\cos^2 x)\\, dxdy\n",
        " $$\n"
      ],
      "metadata": {
        "id": "h0emL3Enf0Pc"
      }
    },
    {
      "cell_type": "code",
      "source": [
        "x = sp.symbols(\"x\")\n",
        "y = sp.symbols(\"y\")\n",
        "I = sp.integrate(f4(x,y),(y,sp.sin(x),sp.cos(x)))\n",
        "I1 = sp.lambdify([x], I, \"numpy\")\n",
        "\n",
        "lim_inf = 0\n",
        "lim_sup = np.pi/4\n",
        "x = np.linspace(lim_inf,lim_sup,10000)\n",
        "trapecio = integrate.trapz(I1(x),x)\n",
        "cuadratura = integrate.quad(I1,lim_inf,lim_sup,epsabs=1e-5)[0]\n",
        "simpsons = integrate.simps(I1(x),x)\n",
        "print(f'integral por la regla del trapecio: {trapecio}')\n",
        "print(f'integral por el metodo de la cuadratura: {cuadratura}')\n",
        "print(f'integral por la regla de simpson: {simpsons}')\n"
      ],
      "metadata": {
        "id": "a7Puq0luf04r",
        "colab": {
          "base_uri": "https://localhost:8080/"
        },
        "outputId": "11d061ce-65d4-4472-eba7-6d240b5ffaa4"
      },
      "execution_count": null,
      "outputs": [
        {
          "output_type": "stream",
          "name": "stdout",
          "text": [
            "integral por la regla del trapecio: 0.511844634220247\n",
            "integral por el metodo de la cuadratura: 0.5118446353109126\n",
            "integral por la regla de simpson: 0.511844635310852\n"
          ]
        }
      ]
    },
    {
      "cell_type": "markdown",
      "source": [
        "$$\n",
        " \\int_{e}^{2e} \\frac{1}{\\ln x} \\, dx\n",
        " $$"
      ],
      "metadata": {
        "id": "gMmXyDRbgab-"
      }
    },
    {
      "cell_type": "code",
      "source": [
        "lim_inf = np.exp(1)\n",
        "lim_sup = 2*np.exp(1)\n",
        "x = np.linspace(lim_inf,lim_sup,1000)\n",
        "trapecio = integrate.trapz(f5(x),x)\n",
        "cuadratura = integrate.quad(f5,lim_inf,lim_sup,epsabs=1e-5)[0]\n",
        "simpsons = integrate.simps(f5(x),x)\n",
        "print(f'integral por la regla del trapecio: {trapecio}')\n",
        "print(f'integral por el metodo de la cuadratura: {cuadratura}')\n",
        "print(f'integral por la regla de simpson: {simpsons}')"
      ],
      "metadata": {
        "id": "lvcw9eiKgbaq",
        "colab": {
          "base_uri": "https://localhost:8080/"
        },
        "outputId": "39a47ac6-11bb-4ae2-f5e8-bf9cad6b541d"
      },
      "execution_count": null,
      "outputs": [
        {
          "output_type": "stream",
          "name": "stdout",
          "text": [
            "integral por la regla del trapecio: 2.003810749013251\n",
            "integral por el metodo de la cuadratura: 2.0038105616240243\n",
            "integral por la regla de simpson: 2.0038105619858713\n"
          ]
        }
      ]
    },
    {
      "cell_type": "markdown",
      "source": [
        ""
      ],
      "metadata": {
        "id": "3kD7bIU9gWVw"
      }
    },
    {
      "cell_type": "markdown",
      "metadata": {
        "id": "6hJGsmCkF6Wv"
      },
      "source": [
        "5. Suppose a body of mass m is traveling vertically upward starting at the surface of the earth. If all\n",
        "resistance except gravity is neglected, the escape velocity v is given by\n",
        "\n",
        "$$\n",
        "v^2=2gR\\int_1 ^\\infty z^{-2} dz,\n",
        "$$\n",
        "\n",
        "where z=x/R, R is the earth radius and g de gravity aceleration. Approximate the scape velocity"
      ]
    },
    {
      "cell_type": "markdown",
      "metadata": {
        "id": "dJVCeEtpX2sJ"
      },
      "source": [
        "\n",
        "6 Write a double precision program to integrate an arbitrary function numerically using the trapezoid rule, the Simpson rule, and Gaussian quadrature. For our assumed problems there is an analytics answer:\n",
        "\n",
        "\\begin{equation}\n",
        "\\frac{\\mathrm{d}N(t)}{\\mathrm{d}t}=e^{-t}\n",
        "\\end{equation}\n",
        "\n",
        "\\begin{equation}\n",
        "N(1)=\\int_0^{1}e^{-t} dt=1-e^{-1}\n",
        "\\end{equation}\n",
        "\n",
        "6.2. Compute the relative error $\\epsilon=|numerical-exact|/exact$ in each case. Present your data in the tabular form \n",
        "with space or tabas seprating the field. Try N values of 2, 10, 20 , 40 , 80, 160\n",
        "\n",
        "| N  |$\\epsilon_T$ | $\\epsilon_S$ | $\\epsilon_G$ |\n",
        "|----|---------------|--------------|--------------|\n",
        "|   2  |...|...|...|\n",
        "|   10  |...|...|...|\n",
        "\n",
        "6.3. Make a log-log plot of relative errore versus. You should observe that \n",
        "$\\epsilon\\approx CN^{\\alpha}$, $\\mathrm{log} \\epsilon =\\alpha \\mathrm{log}N + \\mathrm{constant}$. This mean that a power-law dependence appears as a straight line on a log-log plot, and that if you use $\\log_{10}$, the the ordinate on your log-log plot will be the negative of the numver of decimal places of presicion in your calculation.\n",
        "6.4. Use your plot or table to stimate the power-law dependence of the error $\\epsilon$ on the number of points N and to determine the number of decimal places of presicion in your calculation. Do this for both the trapezoid and simpsons rules and for both the algolrithmic and round-off error regimes. (Note that if may be hard to reach the round-off error regime for the trapezoid rule becasue the aproximation ) error is so large"
      ]
    },
    {
      "cell_type": "code",
      "metadata": {
        "id": "X3Yyg-Hhhljo",
        "colab": {
          "base_uri": "https://localhost:8080/"
        },
        "outputId": "51148dc3-8e19-4f11-c01d-09e2eb2b866a"
      },
      "source": [
        "#5\n",
        "g = 9.8\n",
        "R = 6371000\n",
        "f = lambda z: z**-2\n",
        "I = integrate.quad(f,1,np.inf)[0]\n",
        "v = np.sqrt(2*g*R*I)\n",
        "print(f'la velocidad de escape: {v:2f} m/s')"
      ],
      "execution_count": null,
      "outputs": [
        {
          "output_type": "stream",
          "name": "stdout",
          "text": [
            "la velocidad de escape: 11174.596190 m/s\n"
          ]
        }
      ]
    },
    {
      "cell_type": "code",
      "source": [
        "#6\n",
        "N = lambda t: np.exp(-t)\n",
        "def I(f,lim_inf,lim_sup):\n",
        " x = np.linspace(lim_inf,lim_sup,1000)\n",
        " trapecio = integrate.trapz(f(x),x)\n",
        " cuadratura = integrate.quad(f,lim_inf,lim_sup)[0]\n",
        " simpsons = integrate.simps(f(x),x)"
      ],
      "metadata": {
        "id": "J9BAsqT0zhuf"
      },
      "execution_count": 52,
      "outputs": []
    },
    {
      "cell_type": "code",
      "source": [
        "n = [2, 10, 20 , 40 , 80, 160]\n",
        "trapecio = []\n",
        "simpsons = []\n",
        "cuadratura = []\n",
        "exact = []\n",
        "for i in n:\n",
        "  exact.append(1 - np.exp(-i))\n",
        "  lim_inf = 0\n",
        "  lim_sup = i\n",
        "  x = np.linspace(lim_inf,lim_sup,1000)\n",
        "  trapecio.append(integrate.trapz(N(x),x))\n",
        "  cuadratura.append(integrate.quad(N,lim_inf,lim_sup,args=(),full_output=0)[0])\n",
        "  simpsons.append(integrate.simps(N(x),x))\n",
        "\n"
      ],
      "metadata": {
        "id": "RTgtaPSyE5OW"
      },
      "execution_count": 58,
      "outputs": []
    },
    {
      "cell_type": "code",
      "source": [
        "e1 = [np.abs(i-j)/j for j,i in zip(exact,trapecio)]\n",
        "e2 = [np.abs(i-j)/j for j,i in zip(exact,cuadratura)]\n",
        "e3 = [np.abs(i-j)/j for j,i in zip(exact,simpsons)]\n",
        "df1 = pd.DataFrame({\"N\":n,\"ϵT\":e1, \"ϵS\": e3, \"eG\": e2})\n",
        "df1"
      ],
      "metadata": {
        "colab": {
          "base_uri": "https://localhost:8080/",
          "height": 238
        },
        "id": "ILtRdNf_9fy3",
        "outputId": "cb08c3af-0c0b-4616-d81f-3021646f0ecd"
      },
      "execution_count": 64,
      "outputs": [
        {
          "output_type": "execute_result",
          "data": {
            "text/plain": [
              "     N            ϵT            ϵS            eG\n",
              "0    2  3.340010e-07  4.387487e-10  1.283993e-16\n",
              "1   10  8.350011e-06  4.164267e-08  0.000000e+00\n",
              "2   20  3.339988e-05  3.318922e-07  0.000000e+00\n",
              "3   40  1.335968e-04  2.635769e-06  0.000000e+00\n",
              "4   80  5.343445e-04  2.078044e-05  0.000000e+00\n",
              "5  160  2.136693e-03  1.614822e-04  0.000000e+00"
            ],
            "text/html": [
              "\n",
              "  <div id=\"df-74644a03-234e-418e-8d2e-6ec7e6365a8f\">\n",
              "    <div class=\"colab-df-container\">\n",
              "      <div>\n",
              "<style scoped>\n",
              "    .dataframe tbody tr th:only-of-type {\n",
              "        vertical-align: middle;\n",
              "    }\n",
              "\n",
              "    .dataframe tbody tr th {\n",
              "        vertical-align: top;\n",
              "    }\n",
              "\n",
              "    .dataframe thead th {\n",
              "        text-align: right;\n",
              "    }\n",
              "</style>\n",
              "<table border=\"1\" class=\"dataframe\">\n",
              "  <thead>\n",
              "    <tr style=\"text-align: right;\">\n",
              "      <th></th>\n",
              "      <th>N</th>\n",
              "      <th>ϵT</th>\n",
              "      <th>ϵS</th>\n",
              "      <th>eG</th>\n",
              "    </tr>\n",
              "  </thead>\n",
              "  <tbody>\n",
              "    <tr>\n",
              "      <th>0</th>\n",
              "      <td>2</td>\n",
              "      <td>3.340010e-07</td>\n",
              "      <td>4.387487e-10</td>\n",
              "      <td>1.283993e-16</td>\n",
              "    </tr>\n",
              "    <tr>\n",
              "      <th>1</th>\n",
              "      <td>10</td>\n",
              "      <td>8.350011e-06</td>\n",
              "      <td>4.164267e-08</td>\n",
              "      <td>0.000000e+00</td>\n",
              "    </tr>\n",
              "    <tr>\n",
              "      <th>2</th>\n",
              "      <td>20</td>\n",
              "      <td>3.339988e-05</td>\n",
              "      <td>3.318922e-07</td>\n",
              "      <td>0.000000e+00</td>\n",
              "    </tr>\n",
              "    <tr>\n",
              "      <th>3</th>\n",
              "      <td>40</td>\n",
              "      <td>1.335968e-04</td>\n",
              "      <td>2.635769e-06</td>\n",
              "      <td>0.000000e+00</td>\n",
              "    </tr>\n",
              "    <tr>\n",
              "      <th>4</th>\n",
              "      <td>80</td>\n",
              "      <td>5.343445e-04</td>\n",
              "      <td>2.078044e-05</td>\n",
              "      <td>0.000000e+00</td>\n",
              "    </tr>\n",
              "    <tr>\n",
              "      <th>5</th>\n",
              "      <td>160</td>\n",
              "      <td>2.136693e-03</td>\n",
              "      <td>1.614822e-04</td>\n",
              "      <td>0.000000e+00</td>\n",
              "    </tr>\n",
              "  </tbody>\n",
              "</table>\n",
              "</div>\n",
              "      <button class=\"colab-df-convert\" onclick=\"convertToInteractive('df-74644a03-234e-418e-8d2e-6ec7e6365a8f')\"\n",
              "              title=\"Convert this dataframe to an interactive table.\"\n",
              "              style=\"display:none;\">\n",
              "        \n",
              "  <svg xmlns=\"http://www.w3.org/2000/svg\" height=\"24px\"viewBox=\"0 0 24 24\"\n",
              "       width=\"24px\">\n",
              "    <path d=\"M0 0h24v24H0V0z\" fill=\"none\"/>\n",
              "    <path d=\"M18.56 5.44l.94 2.06.94-2.06 2.06-.94-2.06-.94-.94-2.06-.94 2.06-2.06.94zm-11 1L8.5 8.5l.94-2.06 2.06-.94-2.06-.94L8.5 2.5l-.94 2.06-2.06.94zm10 10l.94 2.06.94-2.06 2.06-.94-2.06-.94-.94-2.06-.94 2.06-2.06.94z\"/><path d=\"M17.41 7.96l-1.37-1.37c-.4-.4-.92-.59-1.43-.59-.52 0-1.04.2-1.43.59L10.3 9.45l-7.72 7.72c-.78.78-.78 2.05 0 2.83L4 21.41c.39.39.9.59 1.41.59.51 0 1.02-.2 1.41-.59l7.78-7.78 2.81-2.81c.8-.78.8-2.07 0-2.86zM5.41 20L4 18.59l7.72-7.72 1.47 1.35L5.41 20z\"/>\n",
              "  </svg>\n",
              "      </button>\n",
              "      \n",
              "  <style>\n",
              "    .colab-df-container {\n",
              "      display:flex;\n",
              "      flex-wrap:wrap;\n",
              "      gap: 12px;\n",
              "    }\n",
              "\n",
              "    .colab-df-convert {\n",
              "      background-color: #E8F0FE;\n",
              "      border: none;\n",
              "      border-radius: 50%;\n",
              "      cursor: pointer;\n",
              "      display: none;\n",
              "      fill: #1967D2;\n",
              "      height: 32px;\n",
              "      padding: 0 0 0 0;\n",
              "      width: 32px;\n",
              "    }\n",
              "\n",
              "    .colab-df-convert:hover {\n",
              "      background-color: #E2EBFA;\n",
              "      box-shadow: 0px 1px 2px rgba(60, 64, 67, 0.3), 0px 1px 3px 1px rgba(60, 64, 67, 0.15);\n",
              "      fill: #174EA6;\n",
              "    }\n",
              "\n",
              "    [theme=dark] .colab-df-convert {\n",
              "      background-color: #3B4455;\n",
              "      fill: #D2E3FC;\n",
              "    }\n",
              "\n",
              "    [theme=dark] .colab-df-convert:hover {\n",
              "      background-color: #434B5C;\n",
              "      box-shadow: 0px 1px 3px 1px rgba(0, 0, 0, 0.15);\n",
              "      filter: drop-shadow(0px 1px 2px rgba(0, 0, 0, 0.3));\n",
              "      fill: #FFFFFF;\n",
              "    }\n",
              "  </style>\n",
              "\n",
              "      <script>\n",
              "        const buttonEl =\n",
              "          document.querySelector('#df-74644a03-234e-418e-8d2e-6ec7e6365a8f button.colab-df-convert');\n",
              "        buttonEl.style.display =\n",
              "          google.colab.kernel.accessAllowed ? 'block' : 'none';\n",
              "\n",
              "        async function convertToInteractive(key) {\n",
              "          const element = document.querySelector('#df-74644a03-234e-418e-8d2e-6ec7e6365a8f');\n",
              "          const dataTable =\n",
              "            await google.colab.kernel.invokeFunction('convertToInteractive',\n",
              "                                                     [key], {});\n",
              "          if (!dataTable) return;\n",
              "\n",
              "          const docLinkHtml = 'Like what you see? Visit the ' +\n",
              "            '<a target=\"_blank\" href=https://colab.research.google.com/notebooks/data_table.ipynb>data table notebook</a>'\n",
              "            + ' to learn more about interactive tables.';\n",
              "          element.innerHTML = '';\n",
              "          dataTable['output_type'] = 'display_data';\n",
              "          await google.colab.output.renderOutput(dataTable, element);\n",
              "          const docLink = document.createElement('div');\n",
              "          docLink.innerHTML = docLinkHtml;\n",
              "          element.appendChild(docLink);\n",
              "        }\n",
              "      </script>\n",
              "    </div>\n",
              "  </div>\n",
              "  "
            ]
          },
          "metadata": {},
          "execution_count": 64
        }
      ]
    }
  ]
}