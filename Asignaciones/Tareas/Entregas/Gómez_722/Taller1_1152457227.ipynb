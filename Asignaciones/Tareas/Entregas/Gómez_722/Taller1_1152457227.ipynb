{
  "nbformat": 4,
  "nbformat_minor": 0,
  "metadata": {
    "colab": {
      "name": "Taller1_1152457227.ipynb",
      "provenance": [],
      "collapsed_sections": [
        "hffbi4-cZGBx",
        "tM-7rqt0W42O",
        "BY7pnoSsbKfS",
        "ayK-69oC59uF",
        "5RQgP_nrSeft"
      ]
    },
    "kernelspec": {
      "name": "python3",
      "display_name": "Python 3"
    },
    "language_info": {
      "name": "python"
    }
  },
  "cells": [
    {
      "cell_type": "markdown",
      "metadata": {
        "id": "hffbi4-cZGBx"
      },
      "source": [
        "##Factorial de un numero"
      ]
    },
    {
      "cell_type": "code",
      "metadata": {
        "colab": {
          "base_uri": "https://localhost:8080/"
        },
        "id": "yA0bW0K35yvy",
        "outputId": "e34d3dd5-72f2-4e76-d2be-15576e3d23e1"
      },
      "source": [
        "print(\"calculadora de factorial\")\n",
        "x = int (input(\"ingrese un numero entero = \"))\n",
        "\n",
        "E=1\n",
        "for i in range (x):\n",
        "  A=(i+1)\n",
        "  E=E*A\n",
        "print(x,\"! =\",E)"
      ],
      "execution_count": null,
      "outputs": [
        {
          "output_type": "stream",
          "text": [
            "calculadora de factorial\n",
            "ingrese un numero entero = 12\n",
            "12 ! = 479001600\n"
          ],
          "name": "stdout"
        }
      ]
    },
    {
      "cell_type": "markdown",
      "source": [
        "## Ejercicio 2"
      ],
      "metadata": {
        "id": "tM-7rqt0W42O"
      }
    },
    {
      "cell_type": "code",
      "metadata": {
        "colab": {
          "base_uri": "https://localhost:8080/"
        },
        "id": "PxeqxU2a4Ud6",
        "outputId": "1bf92327-aef3-46ae-8c10-f0a10f0d336a"
      },
      "source": [
        "\n",
        "P= int(input(\"ingrese la posicion de la secuencia de fibonacci que desea encontrar = \"))\n",
        "while P<=0:\n",
        "    P=int(input(\"ingrese un numero entero positivo = \"))\n",
        "\n",
        "\n",
        "n=P-1\n",
        "\n",
        "ni=0\n",
        "nj=1\n",
        "if n==0:\n",
        "  print(1)\n",
        "else:\n",
        "    for i in range (n):\n",
        "      j=i+1\n",
        "      k=i+2\n",
        "      nk=ni+nj\n",
        "      ni=nj\n",
        "      nj=nk\n",
        "    print(nk)"
      ],
      "execution_count": null,
      "outputs": [
        {
          "output_type": "stream",
          "text": [
            "ingrese la posicion de la secuencia de fibonacci que desea encontrar = 8\n",
            "21\n"
          ],
          "name": "stdout"
        }
      ]
    },
    {
      "cell_type": "markdown",
      "metadata": {
        "id": "BY7pnoSsbKfS"
      },
      "source": [
        "##Numeros palindromos"
      ]
    },
    {
      "cell_type": "code",
      "metadata": {
        "colab": {
          "base_uri": "https://localhost:8080/"
        },
        "id": "5WdYiwvgbKFq",
        "outputId": "ecc7995d-ef95-4de7-fa3e-5f871a1225e4"
      },
      "source": [
        "T = list(input(\"introduzca un numero = \"))\n",
        "for i in range(len(T)):\n",
        "  T[i]=int(T[i])\n",
        "\n",
        "R=0\n",
        "for i in range(len(T)//2):\n",
        "    if T[i]==T[-i-1]:\n",
        "      R=R+1 \n",
        "if R==(len(T)//2):\n",
        "  print(\"en numero introducido es palindromo\")\n",
        "else:\n",
        "  print(\"el numero introducido NO es palindromo\")  "
      ],
      "execution_count": null,
      "outputs": [
        {
          "output_type": "stream",
          "text": [
            "introduzca un numero = 5449846546548456456789798\n",
            "el numero introducido NO es palindromo\n"
          ],
          "name": "stdout"
        }
      ]
    },
    {
      "cell_type": "markdown",
      "metadata": {
        "id": "ayK-69oC59uF"
      },
      "source": [
        "##Reordenamiento de numeros"
      ]
    },
    {
      "cell_type": "code",
      "metadata": {
        "colab": {
          "base_uri": "https://localhost:8080/"
        },
        "id": "vRsdbIxYQ1lz",
        "outputId": "12a699d2-a005-4959-bb10-7a8734667626"
      },
      "source": [
        "import numpy as np\n",
        "\n",
        "C = list(input(\"introduzca la secuencia de numeros que desea ordenar (Ejemplo: 54864145384) = \"))\n",
        "for i in range(len(C)):\n",
        "  C[i]=int(C[i])\n",
        "\n",
        "H=-1\n",
        "L=np.zeros(len(C))\n",
        "for i in range(len(C)):\n",
        "    Hi=H\n",
        "    for j in range(len(C)):\n",
        "      if C[i]>=C[j]:\n",
        "         Hi=Hi+1\n",
        "    while L[Hi]!=0:\n",
        "      Hi=Hi-1\n",
        "    L[Hi]=C[i]  \n",
        "     \n",
        "\n",
        "print(L)\n",
        "\n",
        "\n"
      ],
      "execution_count": null,
      "outputs": [
        {
          "output_type": "stream",
          "text": [
            "introduzca la secuencia de numeros que desea ordenar (Ejemplo: 54864145384) = 51456785613486325158632544874353968121587411368311223841\n",
            "[1. 1. 1. 1. 1. 1. 1. 1. 1. 1. 2. 2. 2. 2. 2. 3. 3. 3. 3. 3. 3. 3. 3. 4.\n",
            " 4. 4. 4. 4. 4. 4. 5. 5. 5. 5. 5. 5. 5. 5. 6. 6. 6. 6. 6. 6. 7. 7. 7. 8.\n",
            " 8. 8. 8. 8. 8. 8. 8. 9.]\n"
          ],
          "name": "stdout"
        }
      ]
    },
    {
      "cell_type": "code",
      "metadata": {
        "id": "tFmqmOwy4TcH"
      },
      "source": [
        ""
      ],
      "execution_count": null,
      "outputs": []
    },
    {
      "cell_type": "markdown",
      "source": [
        "##Secuencia fibonacci"
      ],
      "metadata": {
        "id": "5RQgP_nrSeft"
      }
    },
    {
      "cell_type": "code",
      "source": [
        "\n",
        "plb=list(input(\"Ingrese una palabra = \"))\n",
        "V = [\"a\",\"e\",\"i\",\"o\",\"u\"]\n",
        "Lista_invertida = \"\".join(plb[::-1])\n",
        "contador_vocales = 0\n",
        "contador_consonantes = 0\n",
        "for x in plb:\n",
        "  if x.lower() in V:\n",
        "    contador_vocales += 1\n",
        "  else:\n",
        "    contador_consonantes += 1\n",
        "\n",
        "print(f\"Numero de vocales {contador_vocales}\\nNumero de consonantes {contador_consonantes}\\nLa primera latra es una vocal? {plb[0] in V}\\nPalabra invertida = {Lista_invertida}\")"
      ],
      "metadata": {
        "id": "9Mnq7mCpTb6q"
      },
      "execution_count": null,
      "outputs": []
    }
  ]
}