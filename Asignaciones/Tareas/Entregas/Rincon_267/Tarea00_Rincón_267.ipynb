{
  "nbformat": 4,
  "nbformat_minor": 0,
  "metadata": {
    "colab": {
      "name": "Tarea00_Rincón_267.ipynb",
      "provenance": [],
      "collapsed_sections": [
        "YOveIcsT2ok3",
        "I3VqcaSx6BT_",
        "QYDV1ERMEheb",
        "ciMlqoGeF8b2",
        "ClAbnkFeGu9L"
      ]
    },
    "kernelspec": {
      "name": "python3",
      "display_name": "Python 3"
    },
    "language_info": {
      "name": "python"
    }
  },
  "cells": [
    {
      "cell_type": "markdown",
      "source": [
        "#Taller 0.0 de métodos computacionales para físicos y astrónomos\n",
        "##Universidad de Antioquia\n",
        "##Profesor: Hernan D. Salinas Jiménez\n",
        "##Taller: Sesion 0.0\n",
        "##Unidad 1:\n",
        "Contenido Actitudinal: Observar como el computador produce errores en los cálculos. El computador no maneja infinitas cifras decimales.\n",
        "\n",
        "* Repaso breve del Python\n",
        "* Estructura básica de un programa en Python.\n",
        "* Numpy y rutinas de graficación.\n",
        "\n",
        "* Operaciones aritméticas con reales y complejos.\n",
        "* Números aleatorios, método del congruente lineal y problemas.\n",
        "* Errores: redondeo, truncamiento, sustracción cancelativa, precisiónde la máquina.\n",
        "* Algoritmos\n",
        "\n"
      ],
      "metadata": {
        "id": "HIoxZnnD1gqT"
      }
    },
    {
      "cell_type": "markdown",
      "source": [
        "# 1. Elaborar un algoritmo e implementar en python, el factorial de un número entero n ingresado por el usuario. \n",
        "\n",
        "### Ejemplo de Ejecución\n",
        "\n",
        "\n",
        "\n",
        "```\n",
        ">>>  factorial(3)\n",
        "6\n",
        "```\n",
        "\n",
        "\n",
        "     \n",
        "\n",
        "\n",
        "```\n",
        ">>> factorial(1987123)\n",
        "     =???\n",
        "```\n",
        "\n",
        "\n"
      ],
      "metadata": {
        "id": "YOveIcsT2ok3"
      }
    },
    {
      "cell_type": "code",
      "source": [
        "# Creamos una función para calcular el factorial. \n",
        "\n",
        "def factorial(n):\n",
        "  \"\"\"\n",
        "  Este código recibe un número entero n y retorna su factorial n!\n",
        "  \"\"\"\n",
        "\n",
        "  # Establecemos un condicional para cuando n sea igual a 0: \n",
        "  if n==0:\n",
        "    return 1\n",
        "\n",
        "  else:\n",
        "    fact =  1  #Inicializamos una variable para almacenar el factorial\n",
        "\n",
        "    # Calculamos el factorial mediante un ciclo for \n",
        "    for i in range(1,n+1):\n",
        "      fact = fact*i\n",
        "    return fact\n",
        "\n",
        "    \n"
      ],
      "metadata": {
        "id": "nklWAnzW1f2J"
      },
      "execution_count": 21,
      "outputs": []
    },
    {
      "cell_type": "markdown",
      "source": [
        "### Ejemplos de funcionamiento del código: "
      ],
      "metadata": {
        "id": "0acMB8wz4dnQ"
      }
    },
    {
      "cell_type": "code",
      "source": [
        "factorial(5)"
      ],
      "metadata": {
        "colab": {
          "base_uri": "https://localhost:8080/"
        },
        "id": "OL2QOv0s3B18",
        "outputId": "d21117f1-a344-487f-a29a-2f5d26ab0882"
      },
      "execution_count": 19,
      "outputs": [
        {
          "output_type": "execute_result",
          "data": {
            "text/plain": [
              "120"
            ]
          },
          "metadata": {},
          "execution_count": 19
        }
      ]
    },
    {
      "cell_type": "code",
      "source": [
        "factorial(10)"
      ],
      "metadata": {
        "colab": {
          "base_uri": "https://localhost:8080/"
        },
        "id": "UNGBEz4A1iTI",
        "outputId": "a9e29409-e921-4f1b-a960-e711f799960e"
      },
      "execution_count": 20,
      "outputs": [
        {
          "output_type": "execute_result",
          "data": {
            "text/plain": [
              "3628800"
            ]
          },
          "metadata": {},
          "execution_count": 20
        }
      ]
    },
    {
      "cell_type": "markdown",
      "source": [
        "# 2. Diseñar un programa que lea dos numero a y b y diga que tipo de numero son, de a cuerdo a la siguiente clasificación:\n",
        "\n",
        "* Números defectivos : la suma de los divisores propios es menor que el número.\n",
        "* Números abundantes: la suma de los divisores es mayor que el número.\n",
        "* Números amigos a y b tales que a es la suma de los divisores propios de b y viceversa.\n",
        "* Números semiperfectos la suma de todos o algunos de los divisores propios es igual al número.\n",
        "* Números perfectos la suma de todos sus divisores propios, excepto el mismo numero, es igual al número.\n",
        "* Números primos el número es divisible unicamente por sí mismo y por 1."
      ],
      "metadata": {
        "id": "I3VqcaSx6BT_"
      }
    },
    {
      "cell_type": "markdown",
      "source": [
        "Para esto vamos a crear una clase que contenga las funciones necesarias para evaluar cada una de las condiciones. Es importante en la clase integrar una función que calcule los divisores de un número dado ya que será usado en muchas ocasiones. \n"
      ],
      "metadata": {
        "id": "Ih0xHQHp6fUA"
      }
    },
    {
      "cell_type": "code",
      "source": [
        "import itertools\n",
        "import numpy as np\n",
        "class punto_2_taller():\n",
        "    \n",
        "    \"\"\"\n",
        "    En esta clase se definen funciones para calcular si un número es defectivo, abundante, perfecto, primo\n",
        "    y si un par de números son amigos. Toma como argumentos de inicialización 2 números enteros a y b. \n",
        "    \n",
        "    \"\"\"\n",
        "\n",
        "    def __init__(self, a, b):\n",
        "\n",
        "        self.a = a\n",
        "        self.b = b\n",
        "\n",
        "        self.num_dap(a)\n",
        "        self.num_dap(b)\n",
        "        self.num_amigo(a, b)\n",
        "        self.num_primo(a)\n",
        "        self.num_primo(b)\n",
        "        self.numero_semiperfecto(a)\n",
        "        self.numero_semiperfecto(b)\n",
        "\n",
        "    def divisores(self, n):\n",
        "\n",
        "        \"\"\"\n",
        "        Esta función me calcula los divisores de un número. Toma como parametro de entrada un número n y retorna\n",
        "        como salida los divisores de n.\n",
        "        \"\"\"\n",
        "        # Creamos una lista vacia que contendra todos los divisores del número.\n",
        "        divisores_n = []\n",
        "\n",
        "        # Iteramos desde i hasta el número n (se suma el 1 para que vaya hasta n y no hasta n-1) y guardamos los\n",
        "        #  divisores del número.\n",
        "        for i in range(1, n + 1):\n",
        "            if n % i == 0:  # Si i es divisor de n, entonces su residuo es 0.\n",
        "                divisores_n.append(i)  # Si se cumple la condición agregamos el divisor a la lista.\n",
        "\n",
        "        return divisores_n\n",
        "\n",
        "    def num_dap(self, n):\n",
        "\n",
        "        \"\"\" Esta función toma como argumento un número  n y determina si el número es defectivo, abundante o \n",
        "        perfecto. \"\"\"\n",
        "\n",
        "        divisores_n = self.divisores(n)  # Se calculan los divisores del número.\n",
        "        \n",
        "        # Tomamos solo los divisores propios, por tanto retiramos el ultimo elemento de la lista correspondiente\n",
        "        divisores_n= divisores_n[:-1]\n",
        "\n",
        "        # Inicializamos una variable para guardar la suma de los divisores y calculamos la suma de los divisores propios\n",
        "        suma_divisores = 0\n",
        "        for i in divisores_n:\n",
        "            suma_divisores += i\n",
        "        \n",
        "        \n",
        "        # Si la suma de los divisores propios es menor que el número n, imprimos que es defectivo.\n",
        "        if suma_divisores < n:\n",
        "            print(\"El número %d es defectivo\" % n)\n",
        "\n",
        "        # Si la suma de los divisores propios es mayor que el número n, imprimimos que es abundante.\n",
        "        elif suma_divisores > n:\n",
        "            print(\"El número %d es abundante\" % n)\n",
        "\n",
        "        # Si la suma de los divisores propios es igual a el número n, imprimimos que es perfecto.\n",
        "        elif suma_divisores==n:\n",
        "            print(\"El número %d es perfecto\" % n)\n",
        "    \n",
        "\n",
        "    def numero_semiperfecto(self,n):\n",
        "      \n",
        "      \"\"\" Esta función toma como argumento un número  n y determina si el número es  \n",
        "      semiperfecto. \"\"\"\n",
        "        \n",
        "      divisores_n = self.divisores(n)  # Se calculan los divisores del número.\n",
        "          \n",
        "      # Tomamos solo los divisores propios, por tanto retiramos el ultimo elemento de la lista correspondiente\n",
        "      divisores_n= divisores_n[:-1]\n",
        "\n",
        "      # Hacemos uso del modulo itertools para tener todas las posibles combinaciones de sumas de los divisores propios\n",
        "      x=1\n",
        "      for i in range(2,len(divisores_n)+2):\n",
        "\n",
        "        sum = list(itertools.combinations(divisores_n,i))\n",
        "        \n",
        "        # Comprobamos si alguna de las combinaciones de la suma de divisores propios es igual al numero \n",
        "\n",
        "        for l in sum:\n",
        "          if np.sum(l)==n:\n",
        "            print(f'{n} es un numero semiperfecto')\n",
        "            x=0\n",
        "            break         \n",
        "        if x==0:\n",
        "          break \n",
        "\n",
        "\n",
        "    def num_amigo(self, a, b):\n",
        "\n",
        "        \"\"\" Esta función toma como argumento dos números  a y  b y determina si los números son números amigos. \"\"\"\n",
        "\n",
        "        # Calculamos los divisores propios de a y b\n",
        "\n",
        "        divisores_a = self.divisores(a)\n",
        "        divisores_b = self.divisores(b)\n",
        "\n",
        "        divisores_a = divisores_a[:-1]\n",
        "        divisores_b = divisores_b[:-1]\n",
        "\n",
        "        # Calculamos la suma de los divisores propios de a y b\n",
        "\n",
        "        suma_divisores_a = 0\n",
        "        suma_divisores_b = 0\n",
        "\n",
        "        for i in divisores_a:\n",
        "            suma_divisores_a += i\n",
        "        for i in divisores_b:\n",
        "            suma_divisores_b += i\n",
        "\n",
        "        # Comprobamos si la suma de los divisores propios de b es a y viceversa e imprimimos su se cumple que el\n",
        "        # número es amigo.\n",
        "\n",
        "        if suma_divisores_a == b and suma_divisores_b == a:\n",
        "            print(\"Los números %d y %d son amigos\" % (a, b))\n",
        "\n",
        "    def num_primo(self,n):\n",
        "        \n",
        "        \"\"\"Esta función toma como argumento un número n y determina si el número es un número primo\"\"\"\n",
        "\n",
        "        divisores_n = self.divisores(n)  # Calculamos los divisores del número\n",
        "        \n",
        "        # Si el número es primo, solo será divisible por 1 y por si mismo, luego tendrá solo 2 divisores (n E N) \n",
        "        \n",
        "        if len(divisores_n)==2:\n",
        "            print('El número %d es un número primo' % n)"
      ],
      "metadata": {
        "id": "3vZvjpWx6hJU"
      },
      "execution_count": 73,
      "outputs": []
    },
    {
      "cell_type": "markdown",
      "source": [
        "### Ejemplos de funcionamiento del código: \n"
      ],
      "metadata": {
        "id": "33D2zeUj7MUI"
      }
    },
    {
      "cell_type": "code",
      "source": [
        "punto_2_taller(220,284)"
      ],
      "metadata": {
        "colab": {
          "base_uri": "https://localhost:8080/"
        },
        "id": "Hz7WNvVl7OlL",
        "outputId": "a5642b6d-c8b7-4661-e22b-346196ed791b"
      },
      "execution_count": 76,
      "outputs": [
        {
          "output_type": "stream",
          "name": "stdout",
          "text": [
            "El número 220 es abundante\n",
            "El número 284 es defectivo\n",
            "Los números 220 y 284 son amigos\n",
            "220 es un numero semiperfecto\n"
          ]
        },
        {
          "output_type": "execute_result",
          "data": {
            "text/plain": [
              "<__main__.punto_2_taller at 0x7fe3e0196d90>"
            ]
          },
          "metadata": {},
          "execution_count": 76
        }
      ]
    },
    {
      "cell_type": "code",
      "source": [
        "punto_2_taller(5,50)"
      ],
      "metadata": {
        "colab": {
          "base_uri": "https://localhost:8080/"
        },
        "id": "I8TMOaqt77wO",
        "outputId": "14c0bc2b-8b50-4018-8363-2c5ae99decec"
      },
      "execution_count": 77,
      "outputs": [
        {
          "output_type": "stream",
          "name": "stdout",
          "text": [
            "El número 5 es defectivo\n",
            "El número 50 es defectivo\n",
            "El número 5 es un número primo\n"
          ]
        },
        {
          "output_type": "execute_result",
          "data": {
            "text/plain": [
              "<__main__.punto_2_taller at 0x7fe3e0196710>"
            ]
          },
          "metadata": {},
          "execution_count": 77
        }
      ]
    },
    {
      "cell_type": "code",
      "source": [
        "punto_2_taller(496,102)"
      ],
      "metadata": {
        "colab": {
          "base_uri": "https://localhost:8080/"
        },
        "id": "yoOvymFE8YIW",
        "outputId": "54f2d0dd-46c4-46cd-d984-e0a78ee702e1"
      },
      "execution_count": 78,
      "outputs": [
        {
          "output_type": "stream",
          "name": "stdout",
          "text": [
            "El número 496 es perfecto\n",
            "El número 102 es abundante\n",
            "496 es un numero semiperfecto\n",
            "102 es un numero semiperfecto\n"
          ]
        },
        {
          "output_type": "execute_result",
          "data": {
            "text/plain": [
              "<__main__.punto_2_taller at 0x7fe3e01d9310>"
            ]
          },
          "metadata": {},
          "execution_count": 78
        }
      ]
    },
    {
      "cell_type": "code",
      "source": [
        "punto_2_taller(113,435)"
      ],
      "metadata": {
        "colab": {
          "base_uri": "https://localhost:8080/"
        },
        "id": "Yi2D7e8T8qlc",
        "outputId": "fce296d0-7f5d-4e68-b690-f9d21aa65e48"
      },
      "execution_count": 83,
      "outputs": [
        {
          "output_type": "stream",
          "name": "stdout",
          "text": [
            "El número 113 es defectivo\n",
            "El número 435 es defectivo\n",
            "El número 113 es un número primo\n"
          ]
        },
        {
          "output_type": "execute_result",
          "data": {
            "text/plain": [
              "<__main__.punto_2_taller at 0x7fe3c2b97650>"
            ]
          },
          "metadata": {},
          "execution_count": 83
        }
      ]
    },
    {
      "cell_type": "markdown",
      "source": [
        "# 3. Determine si un número n entero ingresado por el usuario es un palíndromo, (Retorne True en caso afirmativo y False en caso contrario)\n",
        "\n",
        "\n",
        "```\n",
        "   >>> palindromo(3333333)\n",
        "        True\n",
        "\n",
        "    >>> palindromo(2323)\n",
        "        True\n",
        "\n",
        "    >>> palindromo(1111349111111)\n",
        "        False\n",
        "```\n",
        "\n",
        "\n",
        "\n",
        "   "
      ],
      "metadata": {
        "id": "QYDV1ERMEheb"
      }
    },
    {
      "cell_type": "code",
      "source": [
        "# Método 1: usando el modulo de la división % : \n",
        "\n",
        "def palindromo(n):\n",
        "    \n",
        "    \"\"\" Esta función toma como argumento un número n y devuelve como respuesta True en caso de que el número sea\n",
        "        palindromo, False en caso contrario \"\"\"\n",
        "    \n",
        "    # Para calcular si el número es palindromo debemos primero invertir las crifras del número. \n",
        "\n",
        "    # Para esto creamos un ciclo: \n",
        "    n_inicial=n\n",
        "    n_invertido=0\n",
        "    while n>0: \n",
        "        \n",
        "        # Primero calculamos el módulo de la división del número entre 10. Esto nos da como resultado el último digito, ya que\n",
        "        # estamos en base 10. ejem = 251 % 10 = 1 \n",
        "        \n",
        "        cifra = n % 10 \n",
        "        \n",
        "        # Luego debemos de almacenar la cifra\n",
        "        n_invertido *= 10\n",
        "        n_invertido += cifra\n",
        "        \n",
        "        \"\"\"Nota: Hay que tener en cuenta que en la primera iteración n_invertido *= 10 no tiene ningún efecto. \n",
        "        Sin embargo en iteraciones posteriores esta multiplicación hará que el siguiente número no se almacene en \n",
        "        la misma posición. Por ejemplo. retomando 251%10 = 1, tenemos que n_invertido en la siguiente \n",
        "        iteración será 1*10 = 10 y que la cifra será 5, por tanto 10+5=15.\n",
        "        En caso de no hacer la multiplicación quedaría 1+5 = 6, lo cual daría un error al invertir, el número. \n",
        "        \"\"\"\n",
        "        \n",
        "        # Luego hacemos la división parte entera (//) del número por 10. Hay que recordar que este comando en python \n",
        "        # redondea el número por debajo. Esto se hace para que en la siguiente iteración se calcule el digito siguiente,\n",
        "        # o en caso de ser 0, se salga del ciclo. \n",
        "        \n",
        "        n //= 10\n",
        "        \n",
        "    \n",
        "    # Una vez teniendo el número invertido, se puede comprobar si es palindromo:\n",
        "\n",
        "    return n_inicial==n_invertido"
      ],
      "metadata": {
        "id": "5Q0UuxkDAmln"
      },
      "execution_count": 91,
      "outputs": []
    },
    {
      "cell_type": "code",
      "source": [
        "# Método 2 mucho más sencillo: convirtiendo el número a string y usando los comandos de python para listas. \n",
        "def palindromo1(n):\n",
        "    n=str(n) # Convertimos el número a un string\n",
        "    n_invertido=n[::-1] # Invertimos el orden de la cadena de caracteres\n",
        "    \n",
        "    # Comprobamos si se cumple que el número y el número invertido son iguales y devolvemos la respuesta\n",
        "    return n==n_invertido"
      ],
      "metadata": {
        "id": "mk7RLzECFfoS"
      },
      "execution_count": 92,
      "outputs": []
    },
    {
      "cell_type": "markdown",
      "source": [
        "### Ejemplos de ejecución "
      ],
      "metadata": {
        "id": "hLwkI3bvFoCQ"
      }
    },
    {
      "cell_type": "code",
      "source": [
        "palindromo(54564)"
      ],
      "metadata": {
        "colab": {
          "base_uri": "https://localhost:8080/"
        },
        "id": "FZgemwE_Fjch",
        "outputId": "90d53998-3e59-483a-a8ff-a067302e896e"
      },
      "execution_count": 93,
      "outputs": [
        {
          "output_type": "execute_result",
          "data": {
            "text/plain": [
              "False"
            ]
          },
          "metadata": {},
          "execution_count": 93
        }
      ]
    },
    {
      "cell_type": "code",
      "source": [
        "palindromo1(54564)"
      ],
      "metadata": {
        "colab": {
          "base_uri": "https://localhost:8080/"
        },
        "id": "6psF84bwFq63",
        "outputId": "a52c9e9a-f49e-46cd-b2bb-e0d4d0f3996a"
      },
      "execution_count": 94,
      "outputs": [
        {
          "output_type": "execute_result",
          "data": {
            "text/plain": [
              "False"
            ]
          },
          "metadata": {},
          "execution_count": 94
        }
      ]
    },
    {
      "cell_type": "code",
      "source": [
        "palindromo(111)"
      ],
      "metadata": {
        "colab": {
          "base_uri": "https://localhost:8080/"
        },
        "id": "G9wcZ7VBFvP1",
        "outputId": "32390271-1489-430a-cdc4-97c7cd4c1060"
      },
      "execution_count": 95,
      "outputs": [
        {
          "output_type": "execute_result",
          "data": {
            "text/plain": [
              "True"
            ]
          },
          "metadata": {},
          "execution_count": 95
        }
      ]
    },
    {
      "cell_type": "code",
      "source": [
        "palindromo1(111)"
      ],
      "metadata": {
        "colab": {
          "base_uri": "https://localhost:8080/"
        },
        "id": "mU6SKmbRFxQg",
        "outputId": "ff385490-cdad-4f75-e602-ec7e11d57464"
      },
      "execution_count": 96,
      "outputs": [
        {
          "output_type": "execute_result",
          "data": {
            "text/plain": [
              "True"
            ]
          },
          "metadata": {},
          "execution_count": 96
        }
      ]
    },
    {
      "cell_type": "code",
      "source": [
        "palindromo(191919191)"
      ],
      "metadata": {
        "colab": {
          "base_uri": "https://localhost:8080/"
        },
        "id": "o-3y7dvSFyMQ",
        "outputId": "d35a6e5f-309f-4730-e819-e16417291199"
      },
      "execution_count": 97,
      "outputs": [
        {
          "output_type": "execute_result",
          "data": {
            "text/plain": [
              "True"
            ]
          },
          "metadata": {},
          "execution_count": 97
        }
      ]
    },
    {
      "cell_type": "markdown",
      "source": [
        "# 4. Dada una cadena de caracteres, entregar una lista donde se retorne: \n",
        "* en la primera casilla: True si el caracter del medio es una vocal, False en  caso contrario\n",
        "* en la segunda: el numero de vocales en la cadena\n",
        "* en la tercera: el numero de consonantes\n",
        "* en la ultima: la cadena de caracteres invertida (ej: perro, orrep)"
      ],
      "metadata": {
        "id": "ciMlqoGeF8b2"
      }
    },
    {
      "cell_type": "code",
      "source": [
        "def punto_4(cadena):\n",
        "    \n",
        "    \"\"\"\n",
        "    NOTA IMPORTANTE: SI LA PALABRA TIENE UN NÚMERO DE LETRAS PARES COMO POR EJEMPLO MURCIELAGO O ELEFANTE, TENDRÁ \n",
        "    DOS LETRAS EN EL CENTRO:\n",
        "    \n",
        "    m u r c I E l a g o\n",
        "    \n",
        "    e l e F A n t e \n",
        "    \n",
        "    EN ESTE CASO SE IMPRIME TRUE SI LAS DOS LETRAS DEL MEDIO SON VOCALES, POR EJEMPLO EN EL CASO DE MURCIELAGO IE RETORNA \n",
        "    TRUE, SI NO SON AMBAS VOCALES SE IMPRIME FALSE, POR EJEMPLO EN EL CASO DE ELEFANTE FA RETORNA FALSE. \n",
        "    \n",
        "    \"\"\"\n",
        "    \n",
        "    # Definimos una lista con las vocales\n",
        "    vocales=['A','E','I','O','U','a','e','i','o','u']\n",
        "    # Recorremos la palabra con un ciclo y vamos contando cuantas vocales tiene\n",
        "    num_vocales=0\n",
        "    for i in cadena:\n",
        "        if i in vocales:\n",
        "            num_vocales += 1\n",
        "    # Calculamos el número de caracteres que tiene la cadena\n",
        "    longitud_cadena = len(cadena)\n",
        "    \n",
        "    # Calculamos el número de consonantes restando a la longitud de la cadena el número de vocales \n",
        "    num_consonantes = longitud_cadena - num_vocales\n",
        "    \n",
        "    # Para invertir la cadena de caracteres la recorremos en forma inversa y vamos uniendo cada elemento\n",
        "    cadena_invertida=''\n",
        "    for i in range(len(cadena)-1,-1,-1):\n",
        "        cadena_invertida += cadena[i]\n",
        "        \n",
        "    # Una forma más fácil de invertir la cadena es haciendo cadena_invertida = cadena_invertida[::-1]\n",
        "    \n",
        "    # Calculamos si la cadena es par o impar, en caso de ser impar se retorna impar. En caso de ser par se retorna True\n",
        "    # si la cadena tiene en la mitad una vocal o false si tiene una consonante. \n",
        "    \n",
        "    if len(cadena)%2!=0:\n",
        "        v= cadena[len(cadena)//2 +1] in vocales\n",
        "        return [v,num_vocales,num_consonantes,cadena_invertida]\n",
        "    else:\n",
        "        print('El número de caracteres de la palabra es par, ver nota al inicio de la función')\n",
        "        if cadena[len(cadena)//2] in vocales and cadena[len(cadena)//2 -1] in vocales:\n",
        "            return(True,num_vocales,num_consonantes,cadena_invertida)\n",
        "        else:\n",
        "            return(False,num_vocales,num_consonantes,cadena_invertida)\n",
        "   "
      ],
      "metadata": {
        "id": "t4wmsSDqGMa5"
      },
      "execution_count": 98,
      "outputs": []
    },
    {
      "cell_type": "markdown",
      "source": [
        "### Ejemplos de ejecución del codigo: "
      ],
      "metadata": {
        "id": "K6VG7zoAGdhp"
      }
    },
    {
      "cell_type": "code",
      "source": [
        "punto_4('avion')"
      ],
      "metadata": {
        "colab": {
          "base_uri": "https://localhost:8080/"
        },
        "id": "H-Nr1P3pGT3l",
        "outputId": "ed6e962d-c91d-434a-afa9-2efd0a21f7f5"
      },
      "execution_count": 99,
      "outputs": [
        {
          "output_type": "execute_result",
          "data": {
            "text/plain": [
              "[True, 3, 2, 'noiva']"
            ]
          },
          "metadata": {},
          "execution_count": 99
        }
      ]
    },
    {
      "cell_type": "code",
      "source": [
        "punto_4('murcielago')"
      ],
      "metadata": {
        "colab": {
          "base_uri": "https://localhost:8080/"
        },
        "id": "z3BwB5HuGjK2",
        "outputId": "1d92b8aa-2fda-493e-c92d-a2c0f3914b49"
      },
      "execution_count": 100,
      "outputs": [
        {
          "output_type": "stream",
          "name": "stdout",
          "text": [
            "El número de caracteres de la palabra es par, ver nota al inicio de la función\n"
          ]
        },
        {
          "output_type": "execute_result",
          "data": {
            "text/plain": [
              "(True, 5, 5, 'ogaleicrum')"
            ]
          },
          "metadata": {},
          "execution_count": 100
        }
      ]
    },
    {
      "cell_type": "code",
      "source": [
        "punto_4('Perro')"
      ],
      "metadata": {
        "colab": {
          "base_uri": "https://localhost:8080/"
        },
        "id": "GuSh7uucGkeL",
        "outputId": "a57d8698-0fd8-4fee-d2f5-e5d1295b553e"
      },
      "execution_count": 101,
      "outputs": [
        {
          "output_type": "execute_result",
          "data": {
            "text/plain": [
              "[False, 2, 3, 'orreP']"
            ]
          },
          "metadata": {},
          "execution_count": 101
        }
      ]
    },
    {
      "cell_type": "code",
      "source": [
        "punto_4('Hormiga')"
      ],
      "metadata": {
        "colab": {
          "base_uri": "https://localhost:8080/"
        },
        "id": "YA-7m3KPGlw0",
        "outputId": "121ba4f5-ed93-4aeb-ddbf-4c3430a9f926"
      },
      "execution_count": 102,
      "outputs": [
        {
          "output_type": "execute_result",
          "data": {
            "text/plain": [
              "[True, 3, 4, 'agimroH']"
            ]
          },
          "metadata": {},
          "execution_count": 102
        }
      ]
    },
    {
      "cell_type": "code",
      "source": [
        "punto_4('Aspiradora')"
      ],
      "metadata": {
        "colab": {
          "base_uri": "https://localhost:8080/"
        },
        "id": "x1V5R3XdGnDF",
        "outputId": "00ad081e-6e50-4032-dfc1-b838f6477342"
      },
      "execution_count": 103,
      "outputs": [
        {
          "output_type": "stream",
          "name": "stdout",
          "text": [
            "El número de caracteres de la palabra es par, ver nota al inicio de la función\n"
          ]
        },
        {
          "output_type": "execute_result",
          "data": {
            "text/plain": [
              "(False, 5, 5, 'arodaripsA')"
            ]
          },
          "metadata": {},
          "execution_count": 103
        }
      ]
    },
    {
      "cell_type": "code",
      "source": [
        ""
      ],
      "metadata": {
        "id": "G9zOEIyMGoP1"
      },
      "execution_count": null,
      "outputs": []
    },
    {
      "cell_type": "markdown",
      "source": [
        "#5. Elabore un método para calcular el n-ésimo término de la sucesión de fibonacci"
      ],
      "metadata": {
        "id": "ClAbnkFeGu9L"
      }
    },
    {
      "cell_type": "code",
      "source": [
        "import numpy as np \n",
        "def fibonaci(n):\n",
        "  \"\"\"\n",
        "  Esta función calcula el n-simo término de la suceción de fibonnaci\n",
        "  \"\"\"\n",
        "\n",
        "  # Definimos f_0 y f_1\n",
        "  f_0 = 0\n",
        "  f_1 = 1 \n",
        "\n",
        "  # creamos un arreglo en donde almacenamos cada uno de los términos de la sucesión \n",
        "  f = np.zeros((n+1))\n",
        "\n",
        "  f[0] = f_0\n",
        "  f[1] = f_1\n",
        "\n",
        "  # Creamos un ciclo para ir agregando los terminos de la suceción a la lista, hasta el término deseado \n",
        "  \n",
        "  \n",
        "  for i in range (2,n+1): \n",
        "\n",
        "    f[i] = f[i-1] + f[i-2]\n",
        "  return int(f[n])"
      ],
      "metadata": {
        "id": "z40o9fZxG1ic"
      },
      "execution_count": 138,
      "outputs": []
    },
    {
      "cell_type": "markdown",
      "source": [
        "### Ejemplo de ejecución del codigo: "
      ],
      "metadata": {
        "id": "FHwPINYyJ82N"
      }
    },
    {
      "cell_type": "code",
      "source": [
        "fibonaci(50)"
      ],
      "metadata": {
        "colab": {
          "base_uri": "https://localhost:8080/"
        },
        "id": "d1tw3B_zH2Gw",
        "outputId": "5708d018-0e9b-400f-cc57-06d35981c895"
      },
      "execution_count": 141,
      "outputs": [
        {
          "output_type": "execute_result",
          "data": {
            "text/plain": [
              "12586269025"
            ]
          },
          "metadata": {},
          "execution_count": 141
        }
      ]
    },
    {
      "cell_type": "code",
      "source": [
        "fibonaci(63)"
      ],
      "metadata": {
        "colab": {
          "base_uri": "https://localhost:8080/"
        },
        "id": "6laiv0DEH5T4",
        "outputId": "1c19e147-db03-4b71-e941-20235800c128"
      },
      "execution_count": 142,
      "outputs": [
        {
          "output_type": "execute_result",
          "data": {
            "text/plain": [
              "6557470319842"
            ]
          },
          "metadata": {},
          "execution_count": 142
        }
      ]
    },
    {
      "cell_type": "markdown",
      "source": [
        "# 6. Entrar un arreglo de números y ordenarlos de forma ascendente, Ver algoritmo Quicksort."
      ],
      "metadata": {
        "id": "O8GNdPchKSw-"
      }
    },
    {
      "cell_type": "markdown",
      "source": [
        "Para este problema se implementarán 2 funciones basadas en el algoritmo Quicksort. "
      ],
      "metadata": {
        "id": "kWr9k3EeKovP"
      }
    },
    {
      "cell_type": "code",
      "source": [
        "def Sublistas_pivote(a,pivote):\n",
        "    \"\"\"\n",
        "    Está función recibe como entrada una lista a con números y un pivote y divide la lista en dos sublistas con base en \n",
        "    los elementos mayores y menores que el pivote\n",
        "\n",
        "    \"\"\"\n",
        "\n",
        "    # Se crean dos listas vacias para almacenar los elementos mayores y menores que el pivote.\n",
        "    mayor_pivote = []\n",
        "    menor_pivote = []\n",
        "\n",
        "    # Se verifica que elementos son mayores y menores que el pivote y se agregan a sus respectivas listas.\n",
        "    for i in a:\n",
        "        if i >pivote :\n",
        "            mayor_pivote.append(i)\n",
        "        elif i < pivote:\n",
        "            menor_pivote.append(i)\n",
        "\n",
        "    # Luego agregamos el pivote y los elementos iguales a el a la lista menor\n",
        "    for i in a:\n",
        "        if i==pivote: \n",
        "            menor_pivote.append(i)\n",
        "\n",
        "    return mayor_pivote,menor_pivote\n"
      ],
      "metadata": {
        "id": "rNXpnq2IIW_n"
      },
      "execution_count": 143,
      "outputs": []
    },
    {
      "cell_type": "code",
      "source": [
        "\n",
        "def Quicksort(a, b=1,lista=[]):\n",
        "    \" Está función recibe como entrada una cadena de caracteres y retorna uno por uno los caracteres en orden. \"\n",
        "\n",
        "    # Limpiamos de memoria cualquier variable llamada lista en la primera iteración de la función\n",
        "    if b==1:\n",
        "        lista=[]\n",
        "        \n",
        "\n",
        "    # Cuando la función reciba solo una lista con un elemento, lo retorna inmediatamente.\n",
        "    if len(a) == 1:\n",
        "        lista.append(a[0])\n",
        "        return a\n",
        "\n",
        "    # Tomamos un elemento aleatorio como pivote, en este caso, elegimos el primer elemento de la lista.\n",
        "\n",
        "    pivote = a[0]\n",
        "\n",
        "    # Subdividimos en dos sublistas la lista inicial, tomando como base el pivote.\n",
        "\n",
        "    mayorque, menorque = Sublistas_pivote(a, pivote)\n",
        "\n",
        "    if len(mayorque) == 0:\n",
        "        menorque = a[1:]\n",
        "        mayorque = [a[0]]\n",
        "\n",
        "    # Usamos la misma función de manera recursiva para las nuevas sublistas de elementos.\n",
        "    if len(menorque) > 0:\n",
        "        Quicksort(menorque,0,lista)\n",
        "    if len(mayorque) > 0:\n",
        "        Quicksort(mayorque,0,lista)\n",
        "\n",
        "    return lista\n",
        " "
      ],
      "metadata": {
        "id": "zppw1DXIIlNm"
      },
      "execution_count": 144,
      "outputs": []
    },
    {
      "cell_type": "markdown",
      "source": [
        "### Ejemplos de ejecución del código: "
      ],
      "metadata": {
        "id": "uXT8WPKGK1GY"
      }
    },
    {
      "cell_type": "code",
      "source": [
        "v = [22, 32, 42, 12, 22, 31, 41, 11, 12, 232, 24, 12, 22]\n",
        "Quicksort(v)"
      ],
      "metadata": {
        "colab": {
          "base_uri": "https://localhost:8080/"
        },
        "id": "EHg7bYU4KwSC",
        "outputId": "4dc486fc-413d-4caf-d039-f11e6bc77ac3"
      },
      "execution_count": 145,
      "outputs": [
        {
          "output_type": "execute_result",
          "data": {
            "text/plain": [
              "[11, 12, 12, 12, 22, 22, 22, 24, 31, 32, 41, 42, 232]"
            ]
          },
          "metadata": {},
          "execution_count": 145
        }
      ]
    },
    {
      "cell_type": "code",
      "source": [
        "Quicksort([22, 32, 42, 12, 22, 31, 41, 11, 12, 232, 24, 12, 22])"
      ],
      "metadata": {
        "colab": {
          "base_uri": "https://localhost:8080/"
        },
        "id": "0EPV1DBQK-xw",
        "outputId": "6c91a212-4b61-4d1b-c8aa-65e36af50317"
      },
      "execution_count": 146,
      "outputs": [
        {
          "output_type": "execute_result",
          "data": {
            "text/plain": [
              "[11, 12, 12, 12, 22, 22, 22, 24, 31, 32, 41, 42, 232]"
            ]
          },
          "metadata": {},
          "execution_count": 146
        }
      ]
    },
    {
      "cell_type": "code",
      "source": [
        "Quicksort([11,23,45,67,193,60,70,1])"
      ],
      "metadata": {
        "colab": {
          "base_uri": "https://localhost:8080/"
        },
        "id": "A1BGDOU2LCtc",
        "outputId": "cd458ef8-8c2f-4f45-d5fa-a2c3485048cd"
      },
      "execution_count": 147,
      "outputs": [
        {
          "output_type": "execute_result",
          "data": {
            "text/plain": [
              "[1, 11, 23, 45, 60, 67, 70, 193]"
            ]
          },
          "metadata": {},
          "execution_count": 147
        }
      ]
    },
    {
      "cell_type": "code",
      "source": [
        ""
      ],
      "metadata": {
        "id": "RUXJpno8LEnI"
      },
      "execution_count": null,
      "outputs": []
    }
  ]
}