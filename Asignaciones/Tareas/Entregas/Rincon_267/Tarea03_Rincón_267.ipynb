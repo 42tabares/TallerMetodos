{
 "cells": [
  {
   "cell_type": "markdown",
   "metadata": {
    "id": "pQSt9-mvLVMa"
   },
   "source": [
    "# Taller  \n",
    "\n",
    "\n",
    "### Resolver los siguientes problemas, por el metodo de la biseccion, newton, punto fijo y secante, realizar una comparación del error como función del las número de iteraciones"
   ]
  },
  {
   "cell_type": "markdown",
   "metadata": {},
   "source": [
    "\n",
    "# 1. \n",
    "**Una particula parte del reposo sobre un plano inclinado uniforme, cuyo ángulo $\\theta$ cambia con una rapidez constante de :**\n",
    "\n",
    "**\\begin{equation}\n",
    "\\frac{\\mathrm{d}\\theta}{\\mathrm{d} t} = \\omega < 0\n",
    "\\end{equation}**\n",
    "\n",
    "**Al final de t segundos, la posición del objeto esta dada por:**\n",
    "\n",
    "\n",
    "**\\begin{equation}\n",
    "x(t) = -\\frac{g}{2\\omega^2} \\left( \\frac{e^{\\omega t}-e^{-\\omega t}}{2} -\\sin\\omega t  \\right) \n",
    "\\end{equation}**\n",
    "\n",
    "**Suponga que la partícula se desplazo 0.51m en 1s. Encuentre, con una exactitud de $10^{-5}$, la rapidez $\\omega$ con que $\\theta$ cambia. Suponga que $g=9.76m/s$**"
   ]
  },
  {
   "cell_type": "markdown",
   "metadata": {},
   "source": [
    "Si consideramos que la partícula se desplazó 0.51m en 1s tenemos que $x(1) = 0.51$. Reemplazando en la ecuación nos queda que \n",
    "\n",
    "\\begin{equation}\n",
    "x(1) = 0.51 =  -\\frac{g}{2\\omega^2} \\left( \\frac{e^{\\omega}-e^{-\\omega }}{2} -\\sin\\omega t\\right) \n",
    "\\end{equation}\n",
    "\n",
    "Luego, tenemos que: \n",
    "\n",
    "\\begin{equation}\n",
    "f(w) =  -\\frac{g}{2\\omega^2} \\left( \\frac{e^{\\omega}-e^{-\\omega }}{2} -\\sin\\omega   \\right )  - 0.51 = 0  \n",
    "\\end{equation}\n",
    "\n",
    "Ahora, encontrar los ceros de $f(\\omega)$ corresponde a encontrar los valores de $\\omega$ satisfacen la ecuación. Por tanto vamos a gráficar la función y a encontrar sus ceros por cada uno de los métodos. \n",
    "\n",
    "Ademas, hay que considerar que $\\omega <0 $ de acuerdo al problema, por tanto vamos a buscar la raiz en un intervalo negativo. "
   ]
  },
  {
   "cell_type": "code",
   "execution_count": 1,
   "metadata": {},
   "outputs": [],
   "source": [
    "import numpy as np\n",
    "from matplotlib import pyplot as plt\n",
    "from scipy import optimize\n",
    "\n",
    "def f_ω(ω): \n",
    "    term1 = -g/(2*ω**2)\n",
    "    term2 = (np.exp(ω) - np.exp(-ω))/2 - np.sin(ω)\n",
    "    term3 = term1*term2  - 0.51\n",
    "    return term3\n",
    "\n"
   ]
  },
  {
   "cell_type": "code",
   "execution_count": 2,
   "metadata": {},
   "outputs": [
    {
     "data": {
      "text/plain": [
       "Text(0, 0.5, 'f(ω)')"
      ]
     },
     "execution_count": 2,
     "metadata": {},
     "output_type": "execute_result"
    },
    {
     "data": {
      "image/png": "[encoded data removed]",
      "text/plain": [
       "<Figure size 432x288 with 1 Axes>"
      ]
     },
     "metadata": {
      "needs_background": "light"
     },
     "output_type": "display_data"
    }
   ],
   "source": [
    "g = 9.76\n",
    "ω = np.linspace(-5,-0.01,100000)\n",
    "plt.plot(ω, f_ω(ω))\n",
    "plt.plot(ω, np.zeros(len(ω)))\n",
    "plt.title('f(ω) vs ω', size=20)\n",
    "plt.xlabel('ω', size = 15)\n",
    "plt.ylabel('f(ω)',size=15)"
   ]
  },
  {
   "cell_type": "markdown",
   "metadata": {},
   "source": [
    "Para esta implementación vamos a hacer uso de los métodos vistos en clase usando scipy. En este caso como criterio de parada vamos a usar la convergencia aboluta (xtol) y para el caso de Newton y secante, la tolerancia de la función (tol)."
   ]
  },
  {
   "cell_type": "markdown",
   "metadata": {},
   "source": [
    "### Por el método de la bisección: "
   ]
  },
  {
   "cell_type": "markdown",
   "metadata": {},
   "source": [
    "Vemos en la gráfica que la raiz está en el intervalo $[-1, -0.1]$ por tanto asignamos este intervalo para buscar la raiz. "
   ]
  },
  {
   "cell_type": "code",
   "execution_count": 3,
   "metadata": {
    "scrolled": false
   },
   "outputs": [
    {
     "name": "stdout",
     "output_type": "stream",
     "text": [
      "Usando la implementación de scipy de la secante ω = -0.31353 rad/s\n",
      "La función f(ω)evaluada en ω usando la implementación de scipy es f(ω) = 0.000008\n"
     ]
    }
   ],
   "source": [
    "print('Usando la implementación de scipy de la secante ω = {:.5f} rad/s'.format(optimize.bisect(f_ω,-1,-0.1, xtol=1e-5)))\n",
    "print('La función f(ω)evaluada en ω usando la implementación de scipy es f(ω) = {:.6f}'.format(f_ω(optimize.bisect(f_ω,-1,-0.1, xtol=1e-5))))"
   ]
  },
  {
   "cell_type": "markdown",
   "metadata": {},
   "source": [
    "Evaluando la función $f(\\omega)$ en $\\omega$ podemos comprobar que hemos encontrado la raiz con la presición de $10^{-5}$ que era la deseada. "
   ]
  },
  {
   "cell_type": "markdown",
   "metadata": {},
   "source": [
    "### Por el método del punto fijo"
   ]
  },
  {
   "cell_type": "markdown",
   "metadata": {},
   "source": [
    "En este caso vamos a reescribir la función $f(\\omega)$ como $g(\\omega) = \\omega - f(\\omega)$ y a graficar de nuevo\n",
    "\n",
    "\n"
   ]
  },
  {
   "cell_type": "code",
   "execution_count": 4,
   "metadata": {},
   "outputs": [
    {
     "data": {
      "text/plain": [
       "Text(0, 0.5, 'g(ω)')"
      ]
     },
     "execution_count": 4,
     "metadata": {},
     "output_type": "execute_result"
    },
    {
     "data": {
      "image/png": "[encoded data removed]",
      "text/plain": [
       "<Figure size 432x288 with 1 Axes>"
      ]
     },
     "metadata": {
      "needs_background": "light"
     },
     "output_type": "display_data"
    }
   ],
   "source": [
    "def g_ω(ω): \n",
    "    return ω - f_ω(ω)\n",
    "\n",
    "ω = np.linspace(-5,-0.01,100)\n",
    "plt.plot(ω, g_ω(ω))\n",
    "plt.plot(ω,ω)\n",
    "plt.title('g(ω) vs ω', size=20)\n",
    "plt.xlabel('ω', size = 15)\n",
    "plt.ylabel('g(ω)',size=15)\n"
   ]
  },
  {
   "cell_type": "code",
   "execution_count": 5,
   "metadata": {},
   "outputs": [
    {
     "name": "stdout",
     "output_type": "stream",
     "text": [
      "Usando la implementación de scipy del punto fijo ω = -0.31352 rad/s\n",
      "La función g(w) evaluada en ω usando la implementación de scipy es f(ω) = -0.31352\n",
      "La función f(w) evaluada en ω usando la implementación de scipy es f(ω) = 0.0000000000000009\n"
     ]
    }
   ],
   "source": [
    "print('Usando la implementación de scipy del punto fijo ω = {:.5f} rad/s'.format(optimize.fixed_point(g_ω,-1, xtol=1e-5)))\n",
    "print('La función g(w) evaluada en ω usando la implementación de scipy es f(ω) = {:.5f}'.format(g_ω(optimize.fixed_point(g_ω,-1, xtol=1e-5))))\n",
    "print('La función f(w) evaluada en ω usando la implementación de scipy es f(ω) = {:.16f}'.format(f_ω(optimize.fixed_point(g_ω,-1, xtol=1e-5))))"
   ]
  },
  {
   "cell_type": "markdown",
   "metadata": {},
   "source": [
    "Como $\\omega$ y $g(\\omega)$ tienen el mismo valor concluimos que hemos encontrado el punto fijo, es decir, la raiz de $f(\\omega)$"
   ]
  },
  {
   "cell_type": "markdown",
   "metadata": {},
   "source": [
    "### Método de newton"
   ]
  },
  {
   "cell_type": "markdown",
   "metadata": {},
   "source": [
    "Para el método de newton necesitamos la derivada analítica de la función $f(\\omega)$, para esto vamos a usar lo visto en clase de sympy. "
   ]
  },
  {
   "cell_type": "code",
   "execution_count": 6,
   "metadata": {},
   "outputs": [
    {
     "data": {
      "text/latex": [
       "$\\displaystyle - \\frac{g \\left(\\frac{e^{w}}{2} - \\sin{\\left(w \\right)} - \\frac{e^{- w}}{2}\\right)}{2 w^{2}} - 0.51$"
      ],
      "text/plain": [
       "-g*(exp(w)/2 - sin(w) - exp(-w)/2)/(2*w**2) - 0.51"
      ]
     },
     "execution_count": 6,
     "metadata": {},
     "output_type": "execute_result"
    }
   ],
   "source": [
    "import sympy as sym\n",
    "from sympy.stats import Exponential\n",
    "\n",
    "w = sym.Symbol('w')\n",
    "g = sym.Symbol('g')\n",
    "\n",
    "f_x = -g/(2*w**2)* (((sym.E**w - sym.E**-w)/2) -sym.sin(w)) - 0.51\n",
    "f_x\n"
   ]
  },
  {
   "cell_type": "code",
   "execution_count": 7,
   "metadata": {},
   "outputs": [
    {
     "data": {
      "text/latex": [
       "$\\displaystyle - \\frac{g \\left(\\frac{e^{w}}{2} - \\cos{\\left(w \\right)} + \\frac{e^{- w}}{2}\\right)}{2 w^{2}} + \\frac{g \\left(\\frac{e^{w}}{2} - \\sin{\\left(w \\right)} - \\frac{e^{- w}}{2}\\right)}{w^{3}}$"
      ],
      "text/plain": [
       "-g*(exp(w)/2 - cos(w) + exp(-w)/2)/(2*w**2) + g*(exp(w)/2 - sin(w) - exp(-w)/2)/w**3"
      ]
     },
     "execution_count": 7,
     "metadata": {},
     "output_type": "execute_result"
    }
   ],
   "source": [
    "sym.diff(f_x,w)\n"
   ]
  },
  {
   "cell_type": "code",
   "execution_count": 8,
   "metadata": {},
   "outputs": [],
   "source": [
    "g = 9.76\n",
    "def df_ω(ω):\n",
    "    term1 = -g*(np.exp(ω)/2 + np.exp(-ω)/2 - np.cos(ω))/(2*ω**2)\n",
    "    term2 =  g*(np.exp(ω)/2 - np.exp(-ω)/2 - np.sin(ω))/(ω**3)\n",
    "    return term1 + term2\n",
    "    "
   ]
  },
  {
   "cell_type": "code",
   "execution_count": 9,
   "metadata": {},
   "outputs": [
    {
     "name": "stdout",
     "output_type": "stream",
     "text": [
      "Usando la implementación de scipy de Newton ω = -0.31352 rad/s\n",
      "La función f(w) evaluada en ω usando la implementación de scipy es f(ω) = -0.000000000000002\n"
     ]
    }
   ],
   "source": [
    "print('Usando la implementación de scipy de Newton ω = {:.5f} rad/s'.format(optimize.newton(f_ω,-1,df_ω ,tol=1e-5)))\n",
    "print('La función f(w) evaluada en ω usando la implementación de scipy es f(ω) = {:.15f}'.format(f_ω(optimize.newton(f_ω,-1,df_ω, tol=1e-5))))"
   ]
  },
  {
   "cell_type": "markdown",
   "metadata": {},
   "source": [
    "### Por último el método de la secante: "
   ]
  },
  {
   "cell_type": "code",
   "execution_count": 10,
   "metadata": {},
   "outputs": [
    {
     "name": "stdout",
     "output_type": "stream",
     "text": [
      "Usando la implementación de scipy de la secante ω = -0.31352 rad/s\n",
      "La función f(w) evaluada en ω usando la implementación de scipy es f(ω) = 0.000000000008\n"
     ]
    }
   ],
   "source": [
    "print('Usando la implementación de scipy de la secante ω = {:.5f} rad/s'.format(optimize.newton(f_ω,-1, tol=1e-5)))\n",
    "print('La función f(w) evaluada en ω usando la implementación de scipy es f(ω) = {:.12f}'.format(f_ω(optimize.newton(f_ω,-1, tol=1e-5))))"
   ]
  },
  {
   "cell_type": "markdown",
   "metadata": {},
   "source": [
    "### Resumen y comparación\n",
    "\n",
    "\n",
    "\n"
   ]
  },
  {
   "cell_type": "code",
   "execution_count": 11,
   "metadata": {
    "scrolled": true
   },
   "outputs": [
    {
     "name": "stdout",
     "output_type": "stream",
     "text": [
      "\u001b[1m Método        Raíz       Iteraciones     Error absoluto                    Criterio de parada \u001b[0m\n",
      "Bisección      -0.313526        17          0.0000084097613000               xtol = 1e-5\n",
      "Punto fijo     -0.313521        --          0.0000000000000009               xtol = 1e-5\n",
      "Newton         -0.313521        3           0.0000000000000020               tol = 1e-5\n",
      "Secante        -0.313521        3           0.0000000000083977               tol = 1e-5\n"
     ]
    }
   ],
   "source": [
    "b = optimize.bisect(f_ω,-1,-0.1,xtol=1e-5,full_output=True)\n",
    "p = optimize.fixed_point(g_ω,-1,xtol=1e-5,) # El metodo de punto fijo no retorna el numero de iteraciones véase optimize.fixed_point?\n",
    "n = optimize.newton(f_ω,-1,df_ω,tol=1e-5,full_output=True)\n",
    "s = optimize.newton(f_ω,-1,tol=1e-5,full_output=True)\n",
    "print('\\033[1m Método        Raíz       Iteraciones     Error absoluto                    Criterio de parada \\033[0m')\n",
    "print('Bisección      {:.6f}        {}          {:.16f}               xtol = 1e-5'.format(b[0],b[1].iterations,f_ω(b[0])))\n",
    "print('Punto fijo     {:.6f}        {}          {:.16f}               xtol = 1e-5'.format(p,'--',f_ω(g_ω(p))))\n",
    "print('Newton         {:.6f}        {}           {:.16f}               tol = 1e-5'.format(n[0],n[1].iterations,abs(f_ω(n[0]))))\n",
    "print('Secante        {:.6f}        {}           {:.16f}               tol = 1e-5'.format(s[0],s[1].iterations,abs(f_ω(s[0]))))\n"
   ]
  },
  {
   "cell_type": "markdown",
   "metadata": {},
   "source": [
    "\n",
    "# 2.\n",
    "**Determinar el ángulo del segmento circular que es igual a un cuarto del área de la circunferencia** \n"
   ]
  },
  {
   "cell_type": "markdown",
   "metadata": {},
   "source": [
    "Como se dedujó en clase, la ecuación que rige el problema es: \n",
    "\n",
    "\n",
    "\n",
    "\\begin{equation}\n",
    "f(\\theta) =\\theta - \\sin \\theta - \\frac{\\pi}{2}=0\n",
    "\\end{equation}\n",
    "\n",
    "Vamos a crear una función de python para la función $f(\\theta)$, para $g(\\theta)$ y para su derivada $f'(\\theta)$"
   ]
  },
  {
   "cell_type": "code",
   "execution_count": 12,
   "metadata": {},
   "outputs": [],
   "source": [
    "f_θ = lambda θ: θ - np.sin(θ) - np.pi/2\n",
    "g_θ = lambda θ: θ - f_θ(θ)\n",
    "df_θ = lambda θ: 1 - np.cos(θ)"
   ]
  },
  {
   "cell_type": "markdown",
   "metadata": {},
   "source": [
    "Gráficamos para saber en donde seleccionar los intervalos y puntos:"
   ]
  },
  {
   "cell_type": "code",
   "execution_count": 13,
   "metadata": {},
   "outputs": [
    {
     "data": {
      "text/plain": [
       "Text(0, 0.5, 'f(θ)')"
      ]
     },
     "execution_count": 13,
     "metadata": {},
     "output_type": "execute_result"
    },
    {
     "data": {
      "image/png": "[encoded data removed]",
      "text/plain": [
       "<Figure size 432x288 with 1 Axes>"
      ]
     },
     "metadata": {
      "needs_background": "light"
     },
     "output_type": "display_data"
    }
   ],
   "source": [
    "θ = np.linspace(-1,3,100)\n",
    "plt.plot(θ, f_θ(θ))\n",
    "plt.plot(θ, np.zeros(len(θ)))\n",
    "plt.title('f(θ) vs θ', size=20)\n",
    "plt.xlabel('θ', size = 15)\n",
    "plt.ylabel('f(θ)',size=15)"
   ]
  },
  {
   "cell_type": "code",
   "execution_count": 14,
   "metadata": {},
   "outputs": [
    {
     "data": {
      "text/plain": [
       "Text(0, 0.5, 'g(θ)')"
      ]
     },
     "execution_count": 14,
     "metadata": {},
     "output_type": "execute_result"
    },
    {
     "data": {
      "image/png": "[encoded data removed]",
      "text/plain": [
       "<Figure size 432x288 with 1 Axes>"
      ]
     },
     "metadata": {
      "needs_background": "light"
     },
     "output_type": "display_data"
    }
   ],
   "source": [
    "θ = np.linspace(-1,3,100)\n",
    "plt.plot(θ, g_θ(θ))\n",
    "plt.plot(θ, θ)\n",
    "plt.title('g(θ) vs θ', size=20)\n",
    "plt.xlabel('θ', size = 15)\n",
    "plt.ylabel('g(θ)',size=15)"
   ]
  },
  {
   "cell_type": "markdown",
   "metadata": {},
   "source": [
    "Encontramos las raíces y comparamos"
   ]
  },
  {
   "cell_type": "code",
   "execution_count": 15,
   "metadata": {},
   "outputs": [
    {
     "name": "stdout",
     "output_type": "stream",
     "text": [
      "\u001b[1m Método        Raíz       Iteraciones     Error absoluto                    Criterio de parada \u001b[0m\n",
      "Bisección      2.309883        16          0.0000027742903117               xtol = 1e-5\n",
      "Punto fijo     2.309881        --          0.0000000000000004               xtol = 1e-5\n",
      "Newton         2.309881        4           0.0000000000000004               tol = 1e-5\n",
      "Secante        2.309881        5           0.0000000000000404               tol = 1e-5\n"
     ]
    }
   ],
   "source": [
    "b = optimize.bisect(f_θ,2,2.5,xtol=1e-5,full_output=True)\n",
    "p = optimize.fixed_point(g_θ,2,xtol=1e-5)\n",
    "n = optimize.newton(f_θ,2,df_θ,tol=1e-5,full_output=True)\n",
    "s = optimize.newton(f_θ,2,tol=1e-5,full_output=True)\n",
    "\n",
    "print('\\033[1m Método        Raíz       Iteraciones     Error absoluto                    Criterio de parada \\033[0m')\n",
    "print('Bisección      {:.6f}        {}          {:.16f}               xtol = 1e-5'.format(b[0],b[1].iterations,f_θ(b[0])))\n",
    "print('Punto fijo     {:.6f}        {}          {:.16f}               xtol = 1e-5'.format(p,'--',f_θ(g_θ(p))))\n",
    "print('Newton         {:.6f}        {}           {:.16f}               tol = 1e-5'.format(n[0],n[1].iterations,abs(f_θ(n[0]))))\n",
    "print('Secante        {:.6f}        {}           {:.16f}               tol = 1e-5'.format(s[0],s[1].iterations,abs(f_θ(s[0]))))\n"
   ]
  },
  {
   "cell_type": "markdown",
   "metadata": {},
   "source": [
    "# 3. \n",
    "**Resolver la siguiente situación**\n",
    "\n",
    "**En el diseño de los vehiculos para todo tipo de terreno,  es necesario tener encuentra fallas cuando se trata de liberar dos tipos de obstáculos. Una es la falla por rozamiento, y ocurre cuando el vehiculo \n",
    "intenta cruzar un obstáculo que hace que su fondo toque el suelo. La otra recibie el nombre de falla por colision de la defensa delantera y ocurre cuando el vehiculo desciende por una zanja y la defensa delantera toca el suelo.**\n",
    "\n",
    "\n",
    "\n",
    "**La figura muestra las componentes asociados al segundo tipo  de falla. En ella se indeca el ángulo máximo $\\alpha$ que puede alcanzar un vehiculo cuando $\\beta$ es el angulo maximo en que no ocurre la falla \n",
    "por rozamiento y satisface la siguiente ecuación:**\n",
    "\n",
    "\n",
    "**\\begin{equation}\n",
    "A \\sin(\\alpha) \\cos(\\alpha)+B \\sin^2(\\alpha) - C \\cos(\\alpha) -  E  \\sin(\\alpha)=0\n",
    "\\end{equation}**\n",
    "\n",
    "**donde; \n",
    "\\begin{equation}\n",
    "A = l \\sin(\\beta)\n",
    "\\end{equation}**\n",
    "\n",
    "**\\begin{equation}\n",
    "B = l \\cos(\\beta)\n",
    "\\end{equation}\n",
    "\\begin{equation}\n",
    "C = (h + 0.5 D )\\sin(\\beta) - 0.5 D \\tan(\\beta)\n",
    "\\end{equation}**\n",
    "\n",
    "**\\begin{equation}\n",
    "E = (h + 0.5 D ) \\cos(\\beta) - 0.5 * D\n",
    "\\end{equation}**\n",
    "\n",
    "\n",
    "**Para $l=89$ , $h=49$ , $D=55$, $\\beta=11.5 °$ , el angulo se aproximara a 33°. Verificar este resultados**\n"
   ]
  },
  {
   "cell_type": "markdown",
   "metadata": {},
   "source": [
    "Vamos a realizar los mismos procedimientos que en los puntos anteriores, y de nuevo a usar sympy para encontrar la derivada analítica. "
   ]
  },
  {
   "cell_type": "code",
   "execution_count": 30,
   "metadata": {},
   "outputs": [
    {
     "data": {
      "text/latex": [
       "$\\displaystyle A \\sin{\\left(a \\right)} \\cos{\\left(a \\right)} + B \\sin^{2}{\\left(a \\right)} - C \\cos{\\left(a \\right)} - E \\sin{\\left(a \\right)}$"
      ],
      "text/plain": [
       "A*sin(a)*cos(a) + B*sin(a)**2 - C*cos(a) - E*sin(a)"
      ]
     },
     "execution_count": 30,
     "metadata": {},
     "output_type": "execute_result"
    }
   ],
   "source": [
    "a = sym.Symbol('a')\n",
    "A = sym.Symbol('A')\n",
    "B = sym.Symbol('B')\n",
    "C = sym.Symbol('C')\n",
    "E = sym.Symbol('E')\n",
    "\n",
    "f_a = A*sym.sin(a)*sym.cos(a) + B*(sym.sin(a))**2 - C*sym.cos(a) - E*sym.sin(a)\n",
    "f_a\n"
   ]
  },
  {
   "cell_type": "code",
   "execution_count": 33,
   "metadata": {},
   "outputs": [
    {
     "data": {
      "text/latex": [
       "$\\displaystyle - A \\sin^{2}{\\left(a \\right)} + A \\cos^{2}{\\left(a \\right)} + 2 B \\sin{\\left(a \\right)} \\cos{\\left(a \\right)} + C \\sin{\\left(a \\right)} - E \\cos{\\left(a \\right)}$"
      ],
      "text/plain": [
       "-A*sin(a)**2 + A*cos(a)**2 + 2*B*sin(a)*cos(a) + C*sin(a) - E*cos(a)"
      ]
     },
     "execution_count": 33,
     "metadata": {},
     "output_type": "execute_result"
    }
   ],
   "source": [
    "sym.diff(f_a, a)"
   ]
  },
  {
   "cell_type": "code",
   "execution_count": 73,
   "metadata": {},
   "outputs": [],
   "source": [
    "l=89\n",
    "h=49\n",
    "D=55\n",
    "β=np.deg2rad(11.5)\n",
    "\n",
    "A = l * np.sin(β)\n",
    "B = l * np.cos(β)\n",
    "C = (h + 0.5 * D) * np.sin(β) - 0.5 * D * np.tan(β)\n",
    "E = (h + 0.5 * D) * np.cos(β) - 0.5 * D\n",
    "\n",
    "f_α = lambda α: A*np.sin(α)*np.cos(α) + B*(np.sin(α))**2 - C*np.cos(α) - E*np.sin(α)\n",
    "g_α = lambda α: α - f_α(α)\n",
    "df_α = lambda α: -A*(np.sin(α))**2 + A*(np.cos(α))**2 + 2*B*np.sin(α)*np.cos(α) + C*np.sin(α) - E*np.cos(α)\n"
   ]
  },
  {
   "cell_type": "code",
   "execution_count": 74,
   "metadata": {},
   "outputs": [
    {
     "data": {
      "text/plain": [
       "Text(0, 0.5, 'f(α)')"
      ]
     },
     "execution_count": 74,
     "metadata": {},
     "output_type": "execute_result"
    },
    {
     "data": {
      "image/png": "[encoded data removed]",
      "text/plain": [
       "<Figure size 432x288 with 1 Axes>"
      ]
     },
     "metadata": {
      "needs_background": "light"
     },
     "output_type": "display_data"
    }
   ],
   "source": [
    "α = np.linspace(0,np.pi,100)\n",
    "plt.plot(α, f_α(α))\n",
    "plt.plot(α, np.zeros(len(α)))\n",
    "plt.title('f(α) vs α', size=20)\n",
    "plt.xlabel('α', size = 15)\n",
    "plt.ylabel('f(α)',size=15)"
   ]
  },
  {
   "cell_type": "code",
   "execution_count": 86,
   "metadata": {},
   "outputs": [
    {
     "data": {
      "text/plain": [
       "Text(0, 0.5, 'g(α)')"
      ]
     },
     "execution_count": 86,
     "metadata": {},
     "output_type": "execute_result"
    },
    {
     "data": {
      "image/png": "[encoded data removed]",
      "text/plain": [
       "<Figure size 432x288 with 1 Axes>"
      ]
     },
     "metadata": {
      "needs_background": "light"
     },
     "output_type": "display_data"
    }
   ],
   "source": [
    "α = np.linspace(0,0.7,100)\n",
    "plt.plot(α, g_α(α))\n",
    "plt.plot(α, α)\n",
    "plt.title('g(α) vs α', size=20)\n",
    "plt.xlabel('α', size = 15) \n",
    "plt.ylabel('g(α)',size=15)"
   ]
  },
  {
   "cell_type": "code",
   "execution_count": 126,
   "metadata": {},
   "outputs": [
    {
     "name": "stdout",
     "output_type": "stream",
     "text": [
      "\u001b[1m Método        Raíz (rad)       Raíz(°)       Iteraciones     Error absoluto(rad)     Criterio de parada \u001b[0m\n",
      "Bisección      0.575478        32.972438        16          0.0002399832936852             xtol = 1e-5\n",
      "Punto fijo     0.575473        32.972175        --          0.0000000000417515             xtol = 1e-5\n",
      "Newton         0.575473        32.972175        4           0.0000000000000000              tol = 1e-5\n",
      "Secante        0.575473        32.972175        4           0.0000000149368979              tol = 1e-5\n"
     ]
    }
   ],
   "source": [
    "b = optimize.bisect(f_α,0.5,1,xtol=1e-5,full_output=True)\n",
    "p = optimize.fixed_point(g_α,0.56,xtol=1e-5) # En este caso el método de punto fijo es muy sensible al punto inicial\n",
    "n = optimize.newton(f_α,0.5,df_α,tol=1e-5,full_output=True)\n",
    "s = optimize.newton(f_α,0.5,tol=1e-5,full_output=True)\n",
    "\n",
    "print('\\033[1m Método        Raíz (rad)       Raíz(°)       Iteraciones     Error absoluto(rad)     Criterio de parada \\033[0m')\n",
    "print('Bisección      {:.6f}        {:6f}        {}          {:.16f}             xtol = 1e-5'.format(b[0], np.rad2deg(b[0]),b[1].iterations,f_α(b[0])))\n",
    "print('Punto fijo     {:.6f}        {:6f}        {}          {:.16f}             xtol = 1e-5'.format(p,np.rad2deg(p),'--',f_α(g_α(p))))\n",
    "print('Newton         {:.6f}        {:6f}        {}           {:.16f}              tol = 1e-5'.format(n[0],np.rad2deg(n[0]),n[1].iterations,abs(f_α(n[0]))))\n",
    "print('Secante        {:.6f}        {:6f}        {}           {:.16f}              tol = 1e-5'.format(s[0],np.rad2deg(s[0]),s[1].iterations,abs(f_α(s[0]))))\n"
   ]
  },
  {
   "cell_type": "markdown",
   "metadata": {
    "id": "UvlcPwmcfUiz"
   },
   "source": [
    "# 4. \n",
    "\n",
    "**Construir un fractal empleando el metodo de Newton-Raphson, \n",
    "(Reproducir código y entender)\n",
    "\\begin{equation}\n",
    "z_{n+1} = z_n -a \\frac{f(z)}{f'(z)} \n",
    "\\end{equation}**\n",
    "\n",
    "\n",
    "\n",
    "**\\begin{equation}\n",
    "f'(z) = \\frac{ f(z+h)+f(z) }{h}\n",
    "\\end{equation}**"
   ]
  },
  {
   "cell_type": "markdown",
   "metadata": {},
   "source": [
    "En este caso, en este código se está representando la solución de encontrar las raices de una función, pero en este caso, una función compleja, usando el método de Newton-Raphson. El fractal representa el espacio de las soluciones en donde, se puede observar que hay una simetría. La ecuación es un polinomio en variable compleja elevado a la 3, en este caso, por el teórema fundamental del álgebra, se tienen 3 raices. En la imagen justo se representan estas 3 raices y se ve que la imagen esta divida en 3 partes, presentando una simetria correspondiente a estas 3 raíces. "
   ]
  },
  {
   "cell_type": "code",
   "execution_count": 20,
   "metadata": {
    "id": "I-2riPetfWrM"
   },
   "outputs": [],
   "source": [
    "import numpy as np\n",
    "import matplotlib.pylab as plt\n",
    "from PIL import Image\n"
   ]
  },
  {
   "cell_type": "code",
   "execution_count": 21,
   "metadata": {
    "id": "coo74WrCoVBh"
   },
   "outputs": [],
   "source": [
    "Npx_X = 80 #Numero de pixeles en x\n",
    "Npx_Y = 80 #Numero de pixeles en y\n",
    "\n",
    "image = Image.new(\"RGB\", (Npx_X, Npx_Y)) #Creacion de la imagen inicial\n",
    "\n",
    "npx = np.arange(0, Npx_X)\n",
    "npy = np.arange(0, Npx_Y)\n",
    "\n",
    "xmin = -1\n",
    "xmax = 1\n",
    "ymin = -1\n",
    "ymax = 1\n",
    "#Transformación al plano complejo en un rectangulo (xmin, xmax), (ymin, ymax)\n",
    "zx = npx * (xmax - xmin) / (Npx_X - 1)   + xmin\n",
    "zy = npy * (ymax-ymin) / (Npx_Y - 1) + ymin\n"
   ]
  },
  {
   "cell_type": "code",
   "execution_count": 25,
   "metadata": {
    "id": "wMsrzKovpVG7"
   },
   "outputs": [],
   "source": [
    "#Definicion  la funcion y las derivada \n",
    "def f(z): \n",
    "  return z**3 - 1\n",
    "\n",
    "def fp(z): \n",
    "  return 3*z**2\n",
    "\n",
    "h = 1E-4\n",
    "def fpn(z, h): \n",
    "  return (f(z+h)-f(z))/h\n",
    "  \n"
   ]
  },
  {
   "cell_type": "code",
   "execution_count": 26,
   "metadata": {
    "id": "pZC8_84kpVJ1"
   },
   "outputs": [],
   "source": [
    "a = 0.2\n",
    "Niteraciones = 120\n",
    "eps = 1E-8\n",
    "\n",
    "x = - 1\n",
    "for zx_ in zx:\n",
    "  x = x + 1 \n",
    "  y = -1\n",
    "  for zy_ in zy: \n",
    "      y = y + 1\n",
    "      Z_0 = complex(zx_, zy_)\n",
    "    \n",
    "      for i in range(0, Niteraciones): \n",
    "        Z = Z_0 - a * f(Z_0)/fp(Z_0)\n",
    "\n",
    "        if( abs(Z-Z_0)<= eps):\n",
    "          break \n",
    "          \n",
    "        Z_0 = Z\n",
    "      #print(i)\n",
    "      #print(i)\n",
    "      r, g, b = i % 4 *64 , i % 8 *16, i% 16* 16\n",
    "      \n",
    "      image.putpixel((x,y), (r,g,b) )\n"
   ]
  },
  {
   "cell_type": "code",
   "execution_count": 27,
   "metadata": {
    "colab": {
     "base_uri": "https://localhost:8080/",
     "height": 285
    },
    "id": "hfzvlcD6pVM0",
    "outputId": "2133e41c-184b-4b52-bf49-d1bbaa86a6d1"
   },
   "outputs": [
    {
     "data": {
      "text/plain": [
       "<matplotlib.image.AxesImage at 0x20f54139b38>"
      ]
     },
     "execution_count": 27,
     "metadata": {},
     "output_type": "execute_result"
    },
    {
     "data": {
      "image/png": "[encoded data removed]",
      "text/plain": [
       "<Figure size 432x288 with 1 Axes>"
      ]
     },
     "metadata": {
      "needs_background": "light"
     },
     "output_type": "display_data"
    }
   ],
   "source": [
    "plt.imshow(image)\n",
    "#plt.xlim(400, 600)\n",
    "#plt.ylim(400, 523)\n"
   ]
  },
  {
   "cell_type": "code",
   "execution_count": null,
   "metadata": {
    "id": "yM2FXog2TXqV"
   },
   "outputs": [],
   "source": []
  }
 ],
 "metadata": {
  "colab": {
   "name": "Tarea03_Solucion_ecuaciones.ipynb",
   "provenance": []
  },
  "kernelspec": {
   "display_name": "Python 3 (ipykernel)",
   "language": "python",
   "name": "python3"
  },
  "language_info": {
   "codemirror_mode": {
    "name": "ipython",
    "version": 3
   },
   "file_extension": ".py",
   "mimetype": "text/x-python",
   "name": "python",
   "nbconvert_exporter": "python",
   "pygments_lexer": "ipython3",
   "version": "3.8.12"
  }
 },
 "nbformat": 4,
 "nbformat_minor": 1
}
