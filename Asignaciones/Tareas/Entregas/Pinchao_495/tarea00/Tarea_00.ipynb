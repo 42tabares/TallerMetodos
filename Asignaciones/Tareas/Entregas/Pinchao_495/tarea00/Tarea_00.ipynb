{
 "cells": [
  {
   "cell_type": "markdown",
   "metadata": {},
   "source": [
    "# Tarea00 Julian Francisco Pinchao Ortiz "
   ]
  },
  {
   "cell_type": "markdown",
   "metadata": {},
   "source": [
    "# 1. Factorial de un numero"
   ]
  },
  {
   "cell_type": "markdown",
   "metadata": {},
   "source": [
    "Factorial de un número entero n ingresado por el usuario"
   ]
  },
  {
   "cell_type": "code",
   "execution_count": 12,
   "metadata": {},
   "outputs": [
    {
     "name": "stdout",
     "output_type": "stream",
     "text": [
      "Dame un numero para saber su factorial: 67\n",
      "36471110918188685288249859096605464427167635314049524593701628500267962436943872000000000000000\n"
     ]
    }
   ],
   "source": [
    "def factorial(number):\n",
    "\t#La funcion busca el factorial de un numero n\n",
    "    if number == 0:#0!=1\n",
    "        return 1\n",
    "\n",
    "    return number * factorial(number - 1)#n!=n(n-1)!\n",
    "\n",
    "\n",
    "n=factorial(int(input('Dame un numero para saber su factorial: ')))\n",
    "print(n)\n"
   ]
  },
  {
   "cell_type": "markdown",
   "metadata": {},
   "source": [
    "# 2. Clasificación de numeros"
   ]
  },
  {
   "cell_type": "markdown",
   "metadata": {},
   "source": [
    "Programa que lee dos numero a y b y dice que tipo de numero son, de acuerdo a la siguiente clasificación:\n",
    "\n",
    "        Números defectivos : la suma de los divisores propios es menor que el número.\n",
    "        Números abundantes: la suma de los divisores es mayor que el número.\n",
    "        Números amigos a y b tales que a es la suma de los divisores propios de b y viceversa.\n",
    "        Números semiperfectos la suma de todos o algunos de los divisores propios es igual al número.\n",
    "        Números perfectos la suma de todos sus divisores propios, excepto el mismo numero, es igual al número.\n",
    "        Números primos el número es divisible unicamente por sí mismo y por 1.\n",
    "\n"
   ]
  },
  {
   "cell_type": "code",
   "execution_count": 13,
   "metadata": {},
   "outputs": [
    {
     "name": "stdout",
     "output_type": "stream",
     "text": [
      "Dame el primer numero: 3\n",
      "Dame el segundo numero: 6\n",
      "3 es un numero abundante\n",
      "3 es primo\n",
      "6 es un numero abundante\n",
      "6 es un numero perfecto\n",
      "6 no es primo\n"
     ]
    }
   ],
   "source": [
    "import\tnumpy as np\n",
    "\n",
    "def clase_numero(a,b):\n",
    "\tdiv_a=[i for i in range(1,a+1) if a%i==0 ]\n",
    "\tdiv_b=[i for i in range(1,b+1) if b%i==0 ]\n",
    "\n",
    "\tdef es_primo(numero):\n",
    "\t\t#Determina si un numero es primo o no\n",
    "\t\tcontador = 0\n",
    "\t\t\n",
    "\t\tfor i in range(1,numero+1):\n",
    "\t\t\tif i==1 or i ==numero:\n",
    "\t\t\t\tcontinue\n",
    "\t\t\tif numero %i == 0:\n",
    "\t\t\t\tcontador +=1\n",
    "\t\tif contador == 0:\n",
    "\t\t\treturn True\n",
    "\t\telse:\n",
    "\t\t\treturn False\n",
    "\n",
    "\tc=np.sum(div_a)\n",
    "\td=np.sum(div_b)\n",
    "\n",
    "\tif c-a>a:\n",
    "\t\tprint(f'{a} es un numero defectivo')\n",
    "\tif c>a:\n",
    "\t\tprint(f'{a} es un numero abundante')\n",
    "\tif c-a==a:\n",
    "\t\tprint(f'{a} es un numero perfecto')\n",
    "\n",
    "\tif es_primo(a):\n",
    "\t\tprint(f'{a} es primo')\n",
    "\telse:\n",
    "\t\tprint(f'{a} no es primo')\n",
    "\n",
    "\n",
    "\tif d-b>b:\n",
    "\t\tprint(f'{b} es un numero defectivo')\n",
    "\tif d>b:\n",
    "\t\tprint(f'{b} es un numero abundante')\n",
    "\tif d-b==b:\n",
    "\t\tprint(f'{b} es un numero perfecto')\n",
    "\n",
    "\tif es_primo(b):\n",
    "\t\tprint(f'{b} es primo')\n",
    "\telse:\n",
    "\t\tprint(f'{b} no es primo')\n",
    "\n",
    "\n",
    "\tif c==d and d==c:\n",
    "\t\tprint(f'{a} y {b} son numeros amigos')\n",
    "\t\n",
    "\n",
    "\n",
    "num_a=int(input('Dame el primer numero: '))\n",
    "num_b=int(input('Dame el segundo numero: '))\n",
    "clase_numero(num_a,num_b)"
   ]
  },
  {
   "cell_type": "markdown",
   "metadata": {},
   "source": [
    "# 3. Numero y palabra palindroma"
   ]
  },
  {
   "cell_type": "markdown",
   "metadata": {},
   "source": [
    "Determina si un numero o una palabra es palindroma\n",
    "Un palíndromo, también llamado palíndromo, palíndroma o palindroma, es una palabra o frase que se lee igual en un sentido que en otro. "
   ]
  },
  {
   "cell_type": "code",
   "execution_count": 15,
   "metadata": {},
   "outputs": [
    {
     "name": "stdout",
     "output_type": "stream",
     "text": [
      "Escribe una numero: HOLA\n",
      "HOLA\n",
      "HOLA\n",
      "No es palindromo\n"
     ]
    }
   ],
   "source": [
    "def palindromo(numero):\n",
    "\t#Invierte los numeros y si el numero invertido y el numero agregado son igual es palindromo\n",
    "\t#Tambien funciona con palabras\n",
    "\tspace=numero.strip()\n",
    "\tprint(numero)\n",
    "\tprint(space)\n",
    "\tnumero=numero.replace(' ','')\n",
    "\tnumero=numero.lower()\n",
    "\tnumero_invertida=numero[::-1]\n",
    "\tif numero==numero_invertida:\n",
    "\t\treturn True\n",
    "\telse:\n",
    "\t\treturn False\n",
    "\n",
    "\n",
    "numero =input('Escribe una numero: ')\n",
    "es_palindromo=palindromo(numero)\n",
    "if es_palindromo==True:\n",
    "\tprint('Es palindromo')\n",
    "else:\n",
    "\tprint('No es palindromo')"
   ]
  },
  {
   "cell_type": "markdown",
   "metadata": {},
   "source": [
    "# 4. Cadena de caracteres "
   ]
  },
  {
   "cell_type": "markdown",
   "metadata": {},
   "source": [
    "Dada una cadena de caracteres, entregar una lista donde se retorne:\n",
    "\n",
    "        en la primera casilla: True si el caracter del medio es una vocal, False en caso contrario\n",
    "        en la segunda: el numero de vocales en la cadena\n",
    "        en la tercera: el numero de consonantes\n",
    "        en la ultima: la cadena de caracteres invertida (ej: perro, orrep)\n",
    "\n"
   ]
  },
  {
   "cell_type": "code",
   "execution_count": 17,
   "metadata": {},
   "outputs": [
    {
     "name": "stdout",
     "output_type": "stream",
     "text": [
      "Dame una palabra: HOLA\n",
      "[False, 0, 4, 'ALOH']\n"
     ]
    }
   ],
   "source": [
    "def palabra(palabra):\n",
    "\t#Determina si la letra del medio es vocal\n",
    "\tn=int(len(palabra)/2)\n",
    "\tlista=[]\n",
    "\tif palabra[n] in 'aeiou':\n",
    "\t\tlista.append(True)\n",
    "\telse:\n",
    "\t\tlista.append(False)\n",
    "\t\n",
    "\t#Busca las consonantes y vocales\n",
    "\tvocales=[i for i in palabra if i in 'aeiou']\n",
    "\tconsonantes=[i for i in palabra if i not in 'aeiou']\n",
    "\treverso=palabra[::-1]#Invierte la palabra\n",
    "\tlista.append(len(vocales))\n",
    "\tlista.append(len(consonantes))\n",
    "\tlista.append(reverso)\n",
    "\tprint(lista)\n",
    "\n",
    "palabra(input('Dame una palabra: '))\n"
   ]
  },
  {
   "cell_type": "markdown",
   "metadata": {},
   "source": [
    "# 5. Fibonacci"
   ]
  },
  {
   "cell_type": "markdown",
   "metadata": {},
   "source": [
    "Determina la sucesion de fibonacci de un numero dado por el usuario"
   ]
  },
  {
   "cell_type": "code",
   "execution_count": 1,
   "metadata": {},
   "outputs": [
    {
     "name": "stdout",
     "output_type": "stream",
     "text": [
      "Escribe un entero: 5\n",
      "8\n"
     ]
    }
   ],
   "source": [
    "def fibonacci(n):\n",
    "    #El ciclo se puede repetir tanto que a veces no puede dar el resultado\n",
    "    if n == 0 or n == 1:\n",
    "        return 1\n",
    "    #fn=f(n-1)+f(n-2)\n",
    "    return fibonacci(n - 1) + fibonacci(n - 2)\n",
    "\n",
    "n = int(input('Escribe un entero: '))\n",
    "\n",
    "print(fibonacci(n))\n"
   ]
  },
  {
   "cell_type": "markdown",
   "metadata": {},
   "source": [
    "# 6. Quicksort"
   ]
  },
  {
   "cell_type": "markdown",
   "metadata": {},
   "source": [
    "Arreglo de numeros de forma ascendente usando el algoritmo quicksort"
   ]
  },
  {
   "cell_type": "code",
   "execution_count": 20,
   "metadata": {},
   "outputs": [
    {
     "name": "stdout",
     "output_type": "stream",
     "text": [
      "Introduce los numeros: 4\n",
      "Introduce los numeros: 7\n",
      "Introduce los numeros: 42\n",
      "Introduce los numeros: \n",
      "[4, 7, 42]\n",
      "[4, 7, 42]\n"
     ]
    }
   ],
   "source": [
    "a_list = []\n",
    "\n",
    "while True:\n",
    "\t#Pide datos que desee el usuario hasta que no reciba nada\n",
    "\ts = input('Introduce los numeros: ')\n",
    "\tif not s:\n",
    "\t\tbreak\n",
    "\ta_list.append(int(s))\n",
    "\n",
    "def qsort(list):\n",
    "\t#Quicksort pivotes\n",
    "    if not list:\n",
    "        return []\n",
    "    else:\n",
    "        pivot = list[0]\n",
    "        less = [x for x in list     if x <  pivot]\n",
    "        more = [x for x in list[1:] if x >= pivot]\n",
    "        return qsort(less) + [pivot] + qsort(more)\n",
    "\n",
    "print(qsort(a_list))\n",
    "\n",
    "b=a_list\n",
    "b.sort()\n",
    "print(b)\n"
   ]
  },
  {
   "cell_type": "code",
   "execution_count": null,
   "metadata": {},
   "outputs": [],
   "source": []
  }
 ],
 "metadata": {
  "kernelspec": {
   "display_name": "Python 3",
   "language": "python",
   "name": "python3"
  },
  "language_info": {
   "codemirror_mode": {
    "name": "ipython",
    "version": 3
   },
   "file_extension": ".py",
   "mimetype": "text/x-python",
   "name": "python",
   "nbconvert_exporter": "python",
   "pygments_lexer": "ipython3",
   "version": "3.7.7"
  }
 },
 "nbformat": 4,
 "nbformat_minor": 4
}
