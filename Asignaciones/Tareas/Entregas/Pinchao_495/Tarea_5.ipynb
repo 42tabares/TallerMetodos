{
 "cells": [
  {
   "cell_type": "markdown",
   "metadata": {
    "id": "8q4c8oS-hpaE"
   },
   "source": [
    "\n",
    "#1. Derivadas.\n",
    "\n",
    "\n",
    "En el metodo Smoothed-particle hydrodynamics ([SPH](!https://en.wikipedia.org/wiki/Smoothed-particle_hydrodynamics)) se emplean diferentes kernel de aproximación para calcular las propiedades  de un fluído en cada punto del espacio. Uno de ellos es el Kernel de Lucy detallado a continuación:\n",
    "\n",
    "### Lucy's Quartic Kernel \n",
    "\\begin{equation}\n",
    "W(R, h)= \\alpha_D \\left\\{\n",
    "  \\begin{matrix} \\left(1+3q)(1- q^3\\right) &  0\\leq q< h \\\\ \n",
    "  0 & in\\ the\\ other\\ case.\n",
    "  \\end{matrix}\n",
    "\\right.\n",
    "\\end{equation}\n",
    "\n",
    "donde, \n",
    "\n",
    "\\begin{equation}\n",
    "q=\\frac{|(\\vec{r}-\\vec{r}')|}{h}\n",
    "\\end{equation}\n",
    "\n",
    "y $\\alpha_D$ es la constante de normalización:\n",
    "\n",
    "- en 2 dimensiones, viene dada por:\n",
    "\\begin{equation}\n",
    "\\alpha_D = \\frac{5}{\\pi h^2}\n",
    "\\end{equation}\n",
    "\n",
    "- en 3 dimensiones, viene dada por:\n",
    "\\begin{equation}\n",
    "\\alpha_D = \\frac{105}{16\\pi h^3}\n",
    "\\end{equation}\n",
    "\n",
    "Para el kernel de Lucy en 2D encontrar su derivada a través de los siguientes pasos:\n",
    "\n",
    "1. Realizar un gráfico del kernel de Lucy.\n",
    "2. Encontrar la derivada empleanda la libreria simbolica\n",
    "3. Realizar un grafico de los cálculos encontrados con la  libreria simbólica  y comparar con la derivada numérica de los datos del punto 1. \n",
    "\n",
    "Recuerde siempre comparar sus resultados con sus cálculos realizados en papel y lapiz.\n",
    "\n",
    "\n",
    "Opcional.\n",
    "\n",
    "Resolver el problema en 3D\n",
    "\n",
    "\n",
    "\n",
    "\n"
   ]
  },
  {
   "cell_type": "code",
   "execution_count": 1,
   "metadata": {},
   "outputs": [],
   "source": [
    "from mpl_toolkits.mplot3d import Axes3D\n",
    "import numpy as np \n",
    "import matplotlib.pyplot as plt\n",
    "from pylab import *"
   ]
  },
  {
   "cell_type": "code",
   "execution_count": 2,
   "metadata": {},
   "outputs": [],
   "source": [
    "q=lambda r,h:np.abs(r)/h"
   ]
  },
  {
   "cell_type": "code",
   "execution_count": 3,
   "metadata": {},
   "outputs": [],
   "source": [
    "W=lambda x,y: 5.0*(1.0+3.0*x)*(1.0-x**3)/(np.pi*y**2)"
   ]
  },
  {
   "cell_type": "code",
   "execution_count": 4,
   "metadata": {},
   "outputs": [
    {
     "data": {
      "text/plain": [
       "[<matplotlib.lines.Line2D at 0x2276851f9a0>]"
      ]
     },
     "execution_count": 4,
     "metadata": {},
     "output_type": "execute_result"
    },
    {
     "data": {
      "image/png": "[encoded data removed]",
      "text/plain": [
       "<Figure size 432x288 with 1 Axes>"
      ]
     },
     "metadata": {
      "needs_background": "light"
     },
     "output_type": "display_data"
    }
   ],
   "source": [
    "r=np.linspace(-1,1,100)\n",
    "h=np.linspace(-100,100,100)\n",
    "qq=q(r,h)\n",
    "plt.plot(r,W(qq,h))"
   ]
  },
  {
   "cell_type": "code",
   "execution_count": 5,
   "metadata": {},
   "outputs": [
    {
     "data": {
      "text/latex": [
       "$\\displaystyle - \\frac{3 q^{2} \\left(15.0 q + 5.0\\right)}{\\pi h^{2}} + \\frac{15.0 \\left(1.0 - q^{3}\\right)}{\\pi h^{2}}$"
      ],
      "text/plain": [
       "-3*q**2*(15.0*q + 5.0)/(pi*h**2) + 15.0*(1.0 - q**3)/(pi*h**2)"
      ]
     },
     "execution_count": 5,
     "metadata": {},
     "output_type": "execute_result"
    }
   ],
   "source": [
    "from sympy import diff,exp,pi\n",
    "from sympy.abc import q,h,r \n",
    "w=5.0*(1.0+3.0*q)*(1.0-q**3)/(pi*h**2)\n",
    "w1=5.0*(1.0+3.0*(r/h))*(1.0-(r/h)**3)/(pi*h**2)\n",
    "diff(w,q)"
   ]
  },
  {
   "cell_type": "code",
   "execution_count": 6,
   "metadata": {},
   "outputs": [
    {
     "data": {
      "text/latex": [
       "$\\displaystyle \\frac{15.0 \\left(1.0 - \\frac{r^{3}}{h^{3}}\\right)}{\\pi h^{3}} - \\frac{3 r^{2} \\left(5.0 + \\frac{15.0 r}{h}\\right)}{\\pi h^{5}}$"
      ],
      "text/plain": [
       "15.0*(1.0 - r**3/h**3)/(pi*h**3) - 3*r**2*(5.0 + 15.0*r/h)/(pi*h**5)"
      ]
     },
     "execution_count": 6,
     "metadata": {},
     "output_type": "execute_result"
    }
   ],
   "source": [
    "w1=5.0*(1.0+3.0*(r/h))*(1.0-(r/h)**3)/(pi*h**2)\n",
    "diff(w1,r)"
   ]
  },
  {
   "cell_type": "code",
   "execution_count": 7,
   "metadata": {},
   "outputs": [
    {
     "data": {
      "text/plain": [
       "[<matplotlib.lines.Line2D at 0x2276b171ee0>]"
      ]
     },
     "execution_count": 7,
     "metadata": {},
     "output_type": "execute_result"
    },
    {
     "data": {
      "image/png": "[encoded data removed]",
      "text/plain": [
       "<Figure size 432x288 with 1 Axes>"
      ]
     },
     "metadata": {
      "needs_background": "light"
     },
     "output_type": "display_data"
    }
   ],
   "source": [
    "W=lambda r,h:5.0*(1.0+3.0*(r/h))*(1.0-(r/h)**3)/(np.pi*h**2)\n",
    "dW=lambda r,h:15.0*(1.0 - r**3/h**3)/(np.pi*h**3) - 3*r**2*(5.0 + 15.0*r/h)/(np.pi*h**5)\n",
    "r=np.linspace(-1,1,100)\n",
    "h=np.linspace(-100,100,100)\n",
    "plt.plot(r,W(r,h))\n",
    "plt.plot(r,dW(r,h))"
   ]
  },
  {
   "cell_type": "markdown",
   "metadata": {
    "id": "WV6dMBzK_odZ"
   },
   "source": [
    "\n",
    "\n",
    "\n",
    "# 2.0 Integración\n",
    "\n",
    "1. Escribir en código Markdown la expresión para calcular una integral con la regla del trapecio.\n",
    "\n",
    "2. Escribir en código Markdown la expresión para calcular una integral con la regla del simpson\n",
    "\n",
    "\n",
    "3. Calcular  una aproximación de las siguientes integrales  con los metodo 1,2\n",
    "\n",
    "- \n",
    " $$\n",
    " \\int_0^\\pi e^{1-\\sqrt{x}}\\, dx\n",
    " $$\n",
    "\n",
    "\n",
    "- $$\n",
    " \\int_0^{\\pi/2} \\frac{1}{\\sqrt{\\tan x}}\\, dx\n",
    " $$\n",
    "\n",
    "- \n",
    "$$\n",
    " \\int_{-\\infty}^{\\infty} \\frac{1}{1+x^2} \\, dx\n",
    " $$\n",
    "\n",
    "\n",
    "- \n",
    "\n",
    "$$\n",
    " \\int_{0}^{\\pi/4} \\int_{\\sin x}^{\\cos x} (2y\\sin x +\\cos^2 x)\\, dxdy\n",
    " $$\n",
    "\n",
    "\n",
    "- \n",
    "$$\n",
    " \\int_{-\\infty}^{\\infty} \\frac{1}{1+x^2} \\, dx\n",
    " $$\n",
    "\n",
    "\n",
    "- \n",
    "$$\n",
    " \\int_{e}^{2e} \\frac{1}{\\ln x} \\, dx\n",
    " $$\n",
    "\n",
    "\n",
    "garantizar  que el error sea menor a $\\varepsilon=1E-5$.  "
   ]
  },
  {
   "cell_type": "code",
   "execution_count": 103,
   "metadata": {},
   "outputs": [],
   "source": [
    "import numpy as np\n",
    "from scipy import interpolate\n",
    "import scipy.integrate as integrate\n",
    "class Integrator:\n",
    "    def __init__(self, a, b, n):\n",
    "        self.a, self.b, self.n = a, b, n\n",
    "        self.points, self.weights = self.construct_method()\n",
    "    def construct_method(self):\n",
    "        raise NotImplementedError('no rule in class %s' % \\\n",
    "        self.__class__.__name__)\n",
    "    def integrate(self, f):\n",
    "        s = 0\n",
    "        for i in range(len(self.weights)):\n",
    "            s += self.weights[i]*f(self.points[i])\n",
    "        return s\n",
    "    def vectorized_integrate(self, f):\n",
    "        # f must be vectorized for this to work\n",
    "        return dot(self.weights, f(self.points))\n",
    "\n",
    "class Trapezoidal(Integrator):\n",
    "    def construct_method(self):\n",
    "        h = (self.b - self.a)/float(self.n - 1)\n",
    "        x = linspace(self.a, self.b, self.n)\n",
    "        w = zeros(len(x))\n",
    "        w[1:-1] += h\n",
    "        w[0] = h/2; w[-1] = h/2\n",
    "        return x, w\n",
    "\n",
    "class Simpson(Integrator):\n",
    "    def construct_method(self):\n",
    "        if self.n % 2 != 1: \n",
    "            self.n += 1            \n",
    "        x = np.linspace(self.a, self.b, self.n)\n",
    "        h = (self.b - self.a)/float(self.n - 1)*2\n",
    "        w = np.zeros(len(x))\n",
    "        w[0:self.n:2] = h*1.0/3\n",
    "        w[1:self.n-1:2] = h*2.0/3\n",
    "        w[0] /= 2\n",
    "        w[-1] /= 2\n",
    "        return x, w\n",
    "\n",
    "def valor(f,a,b):    \n",
    "    trapez = Trapezoidal(a,b,100)\n",
    "    print(f'Por regla del trapezoide nos da : {trapez.integrate(f)}')\n",
    "    simpson = Simpson(a, b, 100)\n",
    "    print(f'Por regla de simpson nos da : {simpson.integrate(f)}')\n",
    "    x=np.linspace(a,b,100)\n",
    "    print(integrate.trapz(f(x),x),integrate.simps(f(x),x))"
   ]
  },
  {
   "cell_type": "markdown",
   "metadata": {},
   "source": [
    " $$\n",
    " \\int_0^\\pi e^{1-\\sqrt{x}}\\, dx\n",
    " $$\n",
    " \n",
    " #### Regla del trapecio:\n",
    " \n",
    "  $$\n",
    " \\int_0^\\pi e^{1-\\sqrt{x}}\\, dx = \\frac {h*[(e^{1-\\sqrt{0}}+e^{1-\\sqrt{\\pi}})]}{2} - (h^3)*f''(ξ)/12\n",
    " $$\n",
    " Con: $ ξ \\in [0,\\pi] $ y $h=\\pi - 0$\n",
    " \n",
    " #### Regla de Simpson: \n",
    " $$\n",
    " \\int_0^\\pi e^{1-\\sqrt{x}}\\, dx = \\frac {h*[(e^{1-\\sqrt{0}}+e^{1-\\sqrt{\\pi/2}}+e^{1-\\sqrt{\\pi}})]}{3} - \\frac{(h^5)*f^{(4)}(ξ)}{90}\n",
    " $$\n",
    " Con: $ ξ \\in [0,\\pi] $ y $h=\\pi - 0$"
   ]
  },
  {
   "cell_type": "code",
   "execution_count": 104,
   "metadata": {},
   "outputs": [
    {
     "name": "stdout",
     "output_type": "stream",
     "text": [
      "Por regla del trapezoide nos da : 2.878562638709149\n",
      "Por regla de simpson nos da : 2.876718855741281\n",
      "2.8785626387091496 2.877400706092263\n"
     ]
    }
   ],
   "source": [
    "f=lambda x:np.exp(1-np.sqrt(x))\n",
    "valor(f,0,np.pi)"
   ]
  },
  {
   "cell_type": "markdown",
   "metadata": {},
   "source": [
    " $$\n",
    " \\int_0^{\\pi/2} \\frac{1}{\\sqrt{\\tan x}}\\, dx\n",
    " $$\n",
    " #### Regla del trapecio:\n",
    " \n",
    "  $$\n",
    "  \\int_0^{\\pi/2} \\frac{1}{\\sqrt{\\tan x}}\\, dx = \\frac {h*[(\\frac{1}{\\sqrt{\\tan 0}}+\\frac{1}{\\sqrt{\\tan \\pi}})]}{2} - (h^3)*f''(ξ)/12\n",
    " $$\n",
    " Con: $ ξ \\in [0,\\pi/2] $ y $h=\\pi/2 - 0$\n",
    " \n",
    " #### Regla de Simpson: \n",
    " $$\n",
    " \\int_0^\\pi e^{1-\\sqrt{x}}\\, dx = \\frac {h*[(\\frac{1}{\\sqrt{\\tan 0}}+\\frac{1}{\\sqrt{\\tan \\pi/2}}+ \\frac{1}{\\sqrt{\\tan \\pi}} )]}{3} - \\frac{(h^5)*f^{(4)}(ξ)}{90}\n",
    " $$\n",
    " Con: $ ξ \\in [0,\\pi/2] $ y $h=\\pi/2 - 0$"
   ]
  },
  {
   "cell_type": "code",
   "execution_count": 105,
   "metadata": {},
   "outputs": [
    {
     "name": "stdout",
     "output_type": "stream",
     "text": [
      "Por regla del trapezoide nos da : 795.3685538918761\n",
      "Por regla de simpson nos da : 525.6622997693736\n",
      "795.3685538918763 663.157303888207\n"
     ]
    }
   ],
   "source": [
    "f=lambda x:1/np.sqrt(np.tan(x))\n",
    "a=1E-10\n",
    "b=np.pi/2\n",
    "valor(f,a,b)"
   ]
  },
  {
   "cell_type": "markdown",
   "metadata": {},
   "source": [
    "$$\n",
    " \\int_{-\\infty}^{\\infty} \\frac{1}{1+x^2} \\, dx\n",
    " $$\n",
    "\n",
    " #### Regla del trapecio:\n",
    " \n",
    "  $$\n",
    "  \\int_{-\\infty}^{\\infty} \\frac{1}{1+x^2} \\, dx = \\frac {h*[(\\frac{1}{1+(-\\infty)^2} +\\frac{1}{1+(\\infty)^2})]}{2} - (h^3)*f''(ξ)/12\n",
    " $$\n",
    " Con: $ ξ \\in [-\\infty,\\infty] $ y $h=\\infty - (-\\infty)$\n",
    " \n",
    " #### Regla de Simpson: \n",
    " $$\n",
    " \\int_{-\\infty}^{\\infty} \\frac{1}{1+x^2} \\, dx = \\frac {h*[(\\frac{1}{1+(-\\infty)^2}+1 +\\frac{1}{1+(\\infty)^2})]}{3} - \\frac{(h^5)*f^{(4)}(ξ)}{90}\n",
    " $$\n",
    " Con: $ ξ \\in [-\\infty,\\infty] $ y $h=\\infty - (-\\infty)$"
   ]
  },
  {
   "cell_type": "code",
   "execution_count": 106,
   "metadata": {},
   "outputs": [
    {
     "data": {
      "text/plain": [
       "3.141592653589793"
      ]
     },
     "execution_count": 106,
     "metadata": {},
     "output_type": "execute_result"
    }
   ],
   "source": [
    "f=lambda x:1/(1+x**2)\n",
    "a=np.NINF\n",
    "b=np.inf\n",
    "integrate.quad(lambda x: 1/(1+x**2),np.NINF,b)[0]"
   ]
  },
  {
   "cell_type": "markdown",
   "metadata": {},
   "source": [
    "$$\n",
    " \\int_{e}^{2e} \\frac{1}{\\ln x} \\, dx\n",
    "$$\n",
    " #### Regla del trapecio:\n",
    " \n",
    "  $$\n",
    "  \\int_{e}^{2e} \\frac{1}{\\ln x} \\, dx = \\frac {h*[(\\frac{1}{\\ln e} +\\frac{1}{\\ln 2e})]}{2} - (h^3)*f''(ξ)/12\n",
    " $$\n",
    " Con: $ ξ \\in [-\\infty,\\infty] $ y $h=\\infty - (-\\infty)$\n",
    " \n",
    " #### Regla de Simpson: \n",
    " $$\n",
    " \\int_{-\\infty}^{\\infty} \\frac{1}{1+x^2} \\, dx = \\frac {h*[(\\frac{1}{\\ln e} +\\frac{1}{\\ln 1.5*e}+\\frac{1}{\\ln 2*e})]}{3} - \\frac{(h^5)*f^{(4)}(ξ)}{90}\n",
    " $$\n",
    " Con: $ ξ \\in [-\\infty,\\infty] $ y $h=\\infty - (-\\infty)$"
   ]
  },
  {
   "cell_type": "code",
   "execution_count": 107,
   "metadata": {},
   "outputs": [
    {
     "name": "stdout",
     "output_type": "stream",
     "text": [
      "Por regla del trapezoide nos da : 2.003829642271284\n",
      "Por regla de simpson nos da : 2.003810563686715\n",
      "2.003829642271284 2.003810928192265\n"
     ]
    }
   ],
   "source": [
    "f=lambda x:1/np.log(x)\n",
    "valor(f,np.exp(1),2*np.exp(1))"
   ]
  },
  {
   "cell_type": "markdown",
   "metadata": {
    "id": "6hJGsmCkF6Wv"
   },
   "source": [
    "4. Suppose a body of mass m is traveling vertically upward starting at the surface of the earth. If all\n",
    "resistance except gravity is neglected, the escape velocity v is given by\n",
    "\n",
    "$$\n",
    "v^2=2gR\\int_1 ^\\infty z^{-2} dz,\n",
    "$$\n",
    "\n",
    "where z=x/R, R is the earth radius and g de gravity aceleration. Approximate the scape velocity"
   ]
  },
  {
   "cell_type": "code",
   "execution_count": 102,
   "metadata": {},
   "outputs": [
    {
     "name": "stdout",
     "output_type": "stream",
     "text": [
      "La velocidad de escape es 71313065774.11224 m/s\n"
     ]
    }
   ],
   "source": [
    "R=6378140\n",
    "g=9.8\n",
    "z=lambda x:(x/R)**(-2)\n",
    "v=np.sqrt(2*g*R*integrate.quad(z,1,np.inf)[0])\n",
    "print(f'La velocidad de escape es {v} m/s')"
   ]
  },
  {
   "cell_type": "markdown",
   "metadata": {
    "id": "dJVCeEtpX2sJ"
   },
   "source": [
    "\n",
    "6 Write a double precision program to integrate an arbitrary function numerically using the trapezoid rule, the Simpson rule, and Gaussian quadrature. For our assumed problems there is an analytics answer:\n",
    "\n",
    "\\begin{equation}\n",
    "\\frac{\\mathrm{d}N(t)}{\\mathrm{d}t}=e^{-t}\n",
    "\\end{equation}\n",
    "\n",
    "\\begin{equation}\n",
    "N(1)=\\int_0^{1}e^{-t} dt=1-e^{-1}\n",
    "\\end{equation}\n",
    "\n",
    "6.2. Compute the relative error $\\epsilon=|numerical-exact|/exact$ in each case. Present your data in the tabular form \n",
    "with space or tabas seprating the field. Try N values of 2, 10, 20 , 40 , 80, 160\n",
    "\n",
    "| N  |$\\epsilon_T$ | $\\epsilon_S$ | $\\epsilon_G$ |\n",
    "|----|---------------|--------------|--------------|\n",
    "|   2  |...|...|...|\n",
    "|   10  |...|...|...|\n",
    "\n",
    "6.3. Make a log-log plot of relative errore versus. You should observe that \n",
    "$\\epsilon\\approx CN^{\\alpha}$, $\\mathrm{log} \\epsilon =\\alpha \\mathrm{log}N + \\mathrm{constant}$. This mean that a power-law dependence appears as a straight line on a log-log plot, and that if you use $\\log_{10}$, the the ordinate on your log-log plot will be the negative of the numver of decimal places of presicion in your calculation.\n",
    "6.4. Use your plot or table to stimate the power-law dependence of the error $\\epsilon$ on the number of points N and to determine the number of decimal places of presicion in your calculation. Do this for both the trapezoid and simpsons rules and for both the algolrithmic and round-off error regimes. (Note that if may be hard to reach the round-off error regime for the trapezoid rule becasue the aproximation ) error is so large"
   ]
  },
  {
   "cell_type": "markdown",
   "metadata": {
    "id": "hly3b-GsYi-a"
   },
   "source": []
  },
  {
   "cell_type": "code",
   "execution_count": null,
   "metadata": {
    "id": "X3Yyg-Hhhljo"
   },
   "outputs": [],
   "source": []
  }
 ],
 "metadata": {
  "colab": {
   "collapsed_sections": [],
   "name": "Tarea07_Derivada_integracion_01.ipynb",
   "provenance": []
  },
  "kernelspec": {
   "display_name": "Python 3 (ipykernel)",
   "language": "python",
   "name": "python3"
  },
  "language_info": {
   "codemirror_mode": {
    "name": "ipython",
    "version": 3
   },
   "file_extension": ".py",
   "mimetype": "text/x-python",
   "name": "python",
   "nbconvert_exporter": "python",
   "pygments_lexer": "ipython3",
   "version": "3.9.7"
  }
 },
 "nbformat": 4,
 "nbformat_minor": 1
}
