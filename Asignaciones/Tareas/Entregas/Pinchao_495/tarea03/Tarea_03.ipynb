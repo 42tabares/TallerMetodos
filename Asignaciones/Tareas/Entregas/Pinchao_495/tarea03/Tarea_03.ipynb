{
  "nbformat": 4,
  "nbformat_minor": 0,
  "metadata": {
    "colab": {
      "name": "Tarea_03",
      "provenance": [],
      "collapsed_sections": []
    },
    "kernelspec": {
      "name": "python3",
      "display_name": "Python 3"
    },
    "language_info": {
      "name": "python"
    }
  },
  "cells": [
    {
      "cell_type": "markdown",
      "source": [
        "Una particula parte del reposo sobre un plano inclinado uniforme, cuyo ángulo θ cambia con una rapidez constante de : \n",
        "\n",
        "dθ/dt = ω < 0.\n",
        "\n",
        "Al final de t segundos, la posición del objeto esta dada por:\n",
        "\n",
        "x(t) = − g/2ω^2( e^(wt) − e^(-wt))/2 − sin ωt\n",
        "\n",
        "Suponga que la partícula se desplazo 0.51m en 1s. Encuentre, con una exactitud de 10⁻⁵ , la rapidez ω con que cambia 0. Suponga que g=9.76m/s²\n"
      ],
      "metadata": {
        "id": "_R_qEXj9NBQ1"
      }
    },
    {
      "cell_type": "code",
      "execution_count": 1,
      "metadata": {
        "id": "N7w588A5M5IP"
      },
      "outputs": [],
      "source": [
        "import numpy as np\n",
        "import matplotlib.pyplot as plt\n",
        "from pylab import *"
      ]
    },
    {
      "cell_type": "code",
      "source": [
        "gravedad=9.76 #m/s2\n",
        "x1=0.51 #m\n",
        "\n",
        "fw=lambda w:0.51-((-gravedad/2*w**2)*((np.exp(w)-np.exp(-w))/2)-np.sin(w))\n"
      ],
      "metadata": {
        "id": "u2TlpnKDPIj1"
      },
      "execution_count": 54,
      "outputs": []
    },
    {
      "cell_type": "code",
      "source": [
        "w=np.linspace(-1,1,100)\n",
        "\n",
        "plt.plot(w,fw(w))\n",
        "plt.grid()"
      ],
      "metadata": {
        "colab": {
          "base_uri": "https://localhost:8080/",
          "height": 265
        },
        "id": "mf2ud61DQiGS",
        "outputId": "bd5f2827-fde5-4f1c-955f-58793eeac32a"
      },
      "execution_count": 58,
      "outputs": [
        {
          "output_type": "display_data",
          "data": {
            "image/png": "[encoded data removed]",
            "text/plain": [
              "<Figure size 432x288 with 1 Axes>"
            ]
          },
          "metadata": {
            "needs_background": "light"
          }
        }
      ]
    },
    {
      "cell_type": "code",
      "source": [
        "#From Introduction to Scientific Programming with Python\n",
        "def bisection(f,a,b,tol= 1e-3):\n",
        "  if f(a)*f(b) > 0:\n",
        "    print(f'No roots or more than one root in [{a},{b}]')\n",
        "    return\n",
        "  m = (a+b)/2\n",
        "  while abs(f(m)) > tol:\n",
        "    if f(a)*f(m) < 0:\n",
        "      b=m\n",
        "    else:\n",
        "      a = m\n",
        "    m = (a+b)/2\n",
        "  return m\n",
        "#call the method for f(x)= x**2-4*x+exp(-x)\n",
        "\n",
        "sol = bisection(fw,-1,1,1e-6)\n",
        "print(f'x = {sol:g} es una raiz aproximadada, f({sol:g}) = {f(sol):g}')\n"
      ],
      "metadata": {
        "colab": {
          "base_uri": "https://localhost:8080/"
        },
        "id": "nY2Z5Vl_Qzc6",
        "outputId": "6e8aef75-d5dc-4b43-8c76-ccf46181c365"
      },
      "execution_count": 56,
      "outputs": [
        {
          "output_type": "stream",
          "name": "stdout",
          "text": [
            "x = -0.332837 es una raiz aproximadada, f(-0.332837) = 2.83705\n"
          ]
        }
      ]
    },
    {
      "cell_type": "code",
      "source": [
        "import scipy.optimize as optimize\n",
        "optimize.bisect(fw, -0.5, 0.5)\n"
      ],
      "metadata": {
        "colab": {
          "base_uri": "https://localhost:8080/"
        },
        "id": "tEDA6Yf7T2Ux",
        "outputId": "23cfa587-a43c-4a21-b484-743b2c9bf4f8"
      },
      "execution_count": 57,
      "outputs": [
        {
          "output_type": "execute_result",
          "data": {
            "text/plain": [
              "-0.33283666653551336"
            ]
          },
          "metadata": {},
          "execution_count": 57
        }
      ]
    },
    {
      "cell_type": "markdown",
      "source": [
        "En el diseño de los vehiculos para todo tipo de terreno, es necesario tener encuentra fallas cuando se trata de liberar dos tipos de obstáculos. Una es la falla por rozamiento, y ocurre cuando el vehiculo intenta cruzar un obstáculo que hace que su fondo toque el suelo. La otra recibie el nombre de falla por colision de la defensa delantera y ocurre cuando el vehiculo desciende por una zanja y la defensa delantera toca el suelo.\n",
        "\n",
        "..."
      ],
      "metadata": {
        "id": "0sxDsbaeWHOk"
      }
    },
    {
      "cell_type": "code",
      "source": [
        "l = 89\n",
        "h = 49\n",
        "D = 55\n",
        "b = np.deg2rad(11.5)\n",
        "print(b)"
      ],
      "metadata": {
        "colab": {
          "base_uri": "https://localhost:8080/"
        },
        "id": "AikYnigzWHyW",
        "outputId": "bf14cfc6-5823-4485-f444-86293bf6d860"
      },
      "execution_count": 109,
      "outputs": [
        {
          "output_type": "stream",
          "name": "stdout",
          "text": [
            "0.2007128639793479\n"
          ]
        }
      ]
    },
    {
      "cell_type": "code",
      "source": [
        "A = l*np.sin(b)\n",
        "B = l*np.cos(b)\n",
        "C = (h+0.5*D)*np.sin(b)-0.5*D*np.tan(b)\n",
        "E = (h+0.5*D)*np.cos(b)-0.5*D"
      ],
      "metadata": {
        "id": "jn4qWuU2dEFp"
      },
      "execution_count": 114,
      "outputs": []
    },
    {
      "cell_type": "code",
      "source": [
        "def Newton(f, dfdx, x0, tol= 1e-3):\n",
        "  f0 = f(x0)\n",
        "  while abs(f0) > tol:\n",
        "    x1= x0-f0/dfdx(x0)\n",
        "    x0= x1\n",
        "    f0= f(x0)\n",
        "  return x0\n",
        "\n",
        "f= lambda x:A*np.sin(x)*np.cos(x)+B*(np.sin(x))**2-C*np.cos(x)-E*np.sin(x)\n",
        "df= lambda x:A*np.cos(2*x)+B*np.sin(2*x)+C*np.sin(x)+E*np.cos(x)\n",
        "\n",
        "sol = Newton(f,df,0,1e-6)\n",
        "print(f'x = {sol:g} is an approximate root, f({sol:g}) = {f(sol):g}')\n",
        "print(np.rad2deg(sol))\n"
      ],
      "metadata": {
        "colab": {
          "base_uri": "https://localhost:8080/"
        },
        "id": "T0BnGghMdio-",
        "outputId": "f6a0a375-f95d-45ec-bcc6-c7305e4e92aa"
      },
      "execution_count": 115,
      "outputs": [
        {
          "output_type": "stream",
          "name": "stdout",
          "text": [
            "x = 0.575473 is an approximate root, f(0.575473) = -6.97845e-07\n",
            "32.972174058027505\n"
          ]
        }
      ]
    },
    {
      "cell_type": "code",
      "source": [
        ""
      ],
      "metadata": {
        "id": "r8ynKt4Dkb2G"
      },
      "execution_count": null,
      "outputs": []
    }
  ]
}