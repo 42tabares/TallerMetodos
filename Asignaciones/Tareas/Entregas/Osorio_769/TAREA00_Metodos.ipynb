{
  "nbformat": 4,
  "nbformat_minor": 0,
  "metadata": {
    "colab": {
      "name": "TAREA00_Metodos.ipynb",
      "provenance": [],
      "collapsed_sections": []
    },
    "kernelspec": {
      "name": "python3",
      "display_name": "Python 3"
    },
    "language_info": {
      "name": "python"
    }
  },
  "cells": [
    {
      "cell_type": "markdown",
      "source": [
        "***FACTORIAL DE UN NÚMERO***"
      ],
      "metadata": {
        "id": "byP7-jwEI0CA"
      }
    },
    {
      "cell_type": "code",
      "source": [
        "def FACTORIAL(n):\n",
        "  if n == 1:\n",
        "    fact_total =1\n",
        "  elif n>1:\n",
        "    fact_total = n * FACTORIAL(n-1) # Tiene que ser (n-1) dado que multiplica el numero\n",
        "                                    # por el factorial del número anterior.\n",
        "  return fact_total"
      ],
      "metadata": {
        "id": "WjFl1eRLI-Nf"
      },
      "execution_count": 24,
      "outputs": []
    },
    {
      "cell_type": "code",
      "source": [
        "FACTORIAL(4)"
      ],
      "metadata": {
        "colab": {
          "base_uri": "https://localhost:8080/"
        },
        "id": "rtbxn0i8MTLL",
        "outputId": "b04baf28-2c7f-482f-a4cd-e44000b58667"
      },
      "execution_count": 26,
      "outputs": [
        {
          "output_type": "execute_result",
          "data": {
            "text/plain": [
              "24"
            ]
          },
          "metadata": {},
          "execution_count": 26
        }
      ]
    },
    {
      "cell_type": "markdown",
      "source": [
        "**NÚMEROS DEFECTIVOS**"
      ],
      "metadata": {
        "id": "_EEH3WFpW6PX"
      }
    },
    {
      "cell_type": "code",
      "source": [
        "# Primero debemos definir los divisiores de un número\n",
        "# Luego generamos una lista y así sumamos los elementos de la lista\n",
        "# Después comparamos esta suma con el número ingresado."
      ],
      "metadata": {
        "id": "uSBiqiB2XAVM"
      },
      "execution_count": 27,
      "outputs": []
    },
    {
      "cell_type": "code",
      "source": [
        "def num_defectivo(n):\n",
        "  div = [i for i in range(1, n) if n % i == 0]  \n",
        "  print(f'Los divisores de {n} son: {div}')\n",
        "  suma = sum(div)\n",
        "  print(f'La suma de los divisores de {n} son: {suma}')\n",
        "  if n > suma:\n",
        "    print(f'{n} es un número defectivo')\n",
        "  else:\n",
        "    print(f'{n} no es un número defectivo')\n",
        "  return \n",
        "\n",
        "\n",
        "#def num_def(divisores):\n",
        " "
      ],
      "metadata": {
        "id": "8LN4hdtfXa_O"
      },
      "execution_count": 2,
      "outputs": []
    },
    {
      "cell_type": "code",
      "source": [
        "num_defectivo(20)"
      ],
      "metadata": {
        "colab": {
          "base_uri": "https://localhost:8080/"
        },
        "id": "zDVIGIVpYULP",
        "outputId": "9fa49bac-0e80-47fa-a7cf-0fad3c39dfcb"
      },
      "execution_count": 3,
      "outputs": [
        {
          "output_type": "stream",
          "name": "stdout",
          "text": [
            "Los divisores de 20 son: [1, 2, 4, 5, 10]\n",
            "La suma de los divisores de 20 son: 22\n",
            "20 no es un número defectivo\n"
          ]
        }
      ]
    },
    {
      "cell_type": "markdown",
      "source": [
        "**NÚMERO ABUNDANTES**"
      ],
      "metadata": {
        "id": "syIx3EWudAA8"
      }
    },
    {
      "cell_type": "code",
      "source": [
        "def num_abundante(n):\n",
        "  div = [i for i in range(1, n) if n % i == 0]  \n",
        "  suma = sum(div)\n",
        "  print(f'La suma de los divisores de {n} son: {suma}')\n",
        "  if suma > n:\n",
        "    print(f'{n} es un número abundante')\n",
        "  else:\n",
        "    print(f'{n} no es un número abundante')\n",
        "  return "
      ],
      "metadata": {
        "id": "uSJt4IqfZ3wk"
      },
      "execution_count": 4,
      "outputs": []
    },
    {
      "cell_type": "code",
      "source": [
        "num_abundante(18)"
      ],
      "metadata": {
        "colab": {
          "base_uri": "https://localhost:8080/"
        },
        "id": "YXvVCH-FWqd0",
        "outputId": "2804124a-516e-40b3-d2c1-f845a364de2a"
      },
      "execution_count": 5,
      "outputs": [
        {
          "output_type": "stream",
          "name": "stdout",
          "text": [
            "La suma de los divisores de 18 son: 21\n",
            "18 es un número abundante\n"
          ]
        }
      ]
    },
    {
      "cell_type": "markdown",
      "source": [
        "**NÚMEROS AMIGOS**"
      ],
      "metadata": {
        "id": "52SX-pA8W0FX"
      }
    },
    {
      "cell_type": "code",
      "source": [
        "def num_amigos(a,b):\n",
        "  div1 = [i for i in range(1, a) if a % i == 0]\n",
        "  div2 = [i for i in range(1, b) if b % i == 0]  \n",
        "  suma1 = sum(div1)\n",
        "  suma2 = sum(div2)\n",
        "  print(f'La suma de los divisores de {a} son: {suma1}')\n",
        "  print(f'La suma de los divisores de {b} son: {suma2}')\n",
        "  if suma1 == b and suma2 == a:\n",
        "    print(f'{a} y {b} son numeros amigos ')\n",
        "  else:\n",
        "    print(f'{a} y {b} no son numeros amigos ')\n",
        "  return "
      ],
      "metadata": {
        "id": "gjW7XZj_Wxqq"
      },
      "execution_count": 8,
      "outputs": []
    },
    {
      "cell_type": "code",
      "source": [
        "num_amigos(220,284)"
      ],
      "metadata": {
        "colab": {
          "base_uri": "https://localhost:8080/"
        },
        "id": "Y0EoSq57YF3T",
        "outputId": "d8d6a754-76a7-4800-c42a-8e48585644be"
      },
      "execution_count": 9,
      "outputs": [
        {
          "output_type": "stream",
          "name": "stdout",
          "text": [
            "La suma de los divisores de 220 son: 284\n",
            "La suma de los divisores de 284 son: 220\n",
            "220 y 284 son numeros amigos \n"
          ]
        }
      ]
    },
    {
      "cell_type": "markdown",
      "source": [
        "**NÚMEROS SEMIPERFECTOS**"
      ],
      "metadata": {
        "id": "B6eK7jwNnZ4s"
      }
    },
    {
      "cell_type": "code",
      "source": [
        "def num_semi(n):\n",
        "  div = {i for i in range(1, n) if n % i == 0}\n",
        "  while sum(div[i]) == n:\n",
        "    print(f'{n} Es un número abundante hasta el divisor #posicion de i#')\n",
        "    break\n",
        "  else:\n",
        "      print(f'{n} No es un número abundante hasta el divisor #posicion de i#')\n"
      ],
      "metadata": {
        "id": "OXscr16zYM8N"
      },
      "execution_count": null,
      "outputs": []
    },
    {
      "cell_type": "code",
      "source": [
        "num_semi(12)"
      ],
      "metadata": {
        "id": "-NLK8ZOkpFdP"
      },
      "execution_count": null,
      "outputs": []
    },
    {
      "cell_type": "markdown",
      "source": [
        "**NÚMEROS PERFECTOS**"
      ],
      "metadata": {
        "id": "VOigkSVd1Vxp"
      }
    },
    {
      "cell_type": "code",
      "source": [
        "def num_perfecto(n):\n",
        "  div = [i for i in range(1, n) if n % i == 0]  \n",
        "  suma = sum(div)\n",
        "  if n == suma:\n",
        "    print(f'{n} es un número perfecto')\n",
        "  else:\n",
        "    print(f'{n} no es un número perfecto')\n",
        "  return \n"
      ],
      "metadata": {
        "id": "XjEuN5KrpcQa"
      },
      "execution_count": 37,
      "outputs": []
    },
    {
      "cell_type": "code",
      "source": [
        "num_perfecto(8128)"
      ],
      "metadata": {
        "colab": {
          "base_uri": "https://localhost:8080/"
        },
        "id": "FXsN9w_a12h8",
        "outputId": "4c2d0fab-21a3-499a-95cc-408f7b9d55f7"
      },
      "execution_count": 42,
      "outputs": [
        {
          "output_type": "stream",
          "name": "stdout",
          "text": [
            "8128 es un número perfecto\n"
          ]
        }
      ]
    },
    {
      "cell_type": "markdown",
      "source": [
        "**NÚMERO PRIMO**"
      ],
      "metadata": {
        "id": "LVhgO42k2LZ6"
      }
    },
    {
      "cell_type": "code",
      "source": [
        "def num_primo(n):\n",
        "  div = [i for i in range(1, n+1) if n % i == 0]\n",
        "  suma = sum(div)\n",
        "  if n == 1:\n",
        "    print(f'{n} es un número primo')\n",
        "  if suma == n + 1:\n",
        "    print(f'{n} es un número primo')\n",
        "  else:\n",
        "    print(f'{n} no es un número primo')\n",
        "  return \n"
      ],
      "metadata": {
        "id": "96weaW2j18fp"
      },
      "execution_count": 53,
      "outputs": []
    },
    {
      "cell_type": "code",
      "source": [
        "num_primo(6)"
      ],
      "metadata": {
        "colab": {
          "base_uri": "https://localhost:8080/"
        },
        "id": "G02RfKFj3jpn",
        "outputId": "bb4d14cc-11b4-4e76-fbf1-9c4d9498055e"
      },
      "execution_count": 57,
      "outputs": [
        {
          "output_type": "stream",
          "name": "stdout",
          "text": [
            "6 no es un número primo\n"
          ]
        }
      ]
    },
    {
      "cell_type": "markdown",
      "source": [
        "**CÓDIGO COMPLETO**"
      ],
      "metadata": {
        "id": "xJD9G9dHpUgq"
      }
    },
    {
      "cell_type": "code",
      "source": [
        "def clase_numero(a,b):\n",
        "  div_a = [i for i in range(1, a) if a % i == 0]\n",
        "  div_b = [i for i in range(1, b) if b % i == 0]\n",
        "  suma_a = sum(div_a)\n",
        "  suma_b = sum(div_b)\n",
        "  if a > suma_a:\n",
        "      print(f'{a} es un número defectivo')\n",
        "  if b > suma_b:\n",
        "      print(f'{b} es un número defectivo')\n",
        "  #--------------\n",
        "  if suma_a > a:\n",
        "    print(f'{a} es un número abundante')\n",
        "  if suma_b > b:\n",
        "    print(f'{b} es un número abundante')\n",
        "  #--------------\n",
        "  if suma_a == b and suma_b == a:\n",
        "    print(f'{a} y {b} son numeros amigos ')  \n",
        "  #--------------\n",
        "  if a == suma_a:\n",
        "    print(f'{a} es un número perfecto')\n",
        "  if b == suma_b:\n",
        "    print(f'{b} es un número perfecto')\n",
        "  #--------------\n",
        "  div_3 = [i for i in range(1, a+1) if a % i == 0]\n",
        "  div_4 = [i for i in range(1, b+1) if b % i == 0]\n",
        "  suma_a = sum(div_3)\n",
        "  suma_b = sum(div_4)\n",
        "  if a == 1 and b ==1:\n",
        "    print(f'{a}, {b} son números primos')\n",
        "  elif a == 1:\n",
        "    print(f'{a} es un numero primo') \n",
        "  elif b == 1:\n",
        "    print(f'{b} es un numero primo') \n",
        "  if suma_a == a + 1:\n",
        "    print(f'{a} es un número primo')\n",
        "  if suma_b == b + 1:\n",
        "    print(f'{b} es un número primo')\n",
        "\n",
        "  return "
      ],
      "metadata": {
        "id": "RORh12n2pYMb"
      },
      "execution_count": 8,
      "outputs": []
    },
    {
      "cell_type": "code",
      "source": [
        "clase_numero(8128,7)"
      ],
      "metadata": {
        "colab": {
          "base_uri": "https://localhost:8080/"
        },
        "id": "dMfSALOErUAs",
        "outputId": "4c014a4e-df49-4397-cefd-24bf5a509478"
      },
      "execution_count": 10,
      "outputs": [
        {
          "output_type": "stream",
          "name": "stdout",
          "text": [
            "7 es un número defectivo\n",
            "8128 es un número perfecto\n",
            "7 es un número primo\n"
          ]
        }
      ]
    },
    {
      "cell_type": "markdown",
      "source": [
        "**NÚMERO PALINDROMO**"
      ],
      "metadata": {
        "id": "Vxm3UXW1pX1e"
      }
    },
    {
      "cell_type": "code",
      "source": [
        "def num_palindromo(n):\n",
        "  num = [int(x) for x in str(n)] # convierto el \"n\" que actualmente es un \"str\" en un \"int\".\n",
        "  numero = num[::-1]\n",
        "  #print(num)\n",
        "  #print(numero)\n",
        "  if numero == num:\n",
        "    print(f'{n} es un número palindromo')\n",
        "  else:\n",
        "    print(f'{n} no es un número palindromo')\n",
        "  return"
      ],
      "metadata": {
        "id": "r4UhYJc_3mKS"
      },
      "execution_count": 14,
      "outputs": []
    },
    {
      "cell_type": "code",
      "source": [
        "num_palindromo(3224)"
      ],
      "metadata": {
        "colab": {
          "base_uri": "https://localhost:8080/"
        },
        "id": "EY8jNXltrXgw",
        "outputId": "3e994764-b1d4-47ef-c5a2-7b5545e14965"
      },
      "execution_count": 13,
      "outputs": [
        {
          "output_type": "stream",
          "name": "stdout",
          "text": [
            "3224 no es un número palindromo\n"
          ]
        }
      ]
    },
    {
      "cell_type": "markdown",
      "source": [
        "**CADENA DE CARACTERES**\n"
      ],
      "metadata": {
        "id": "58uM8yJ6yZAe"
      }
    },
    {
      "cell_type": "code",
      "source": [
        "L = [] # Creamos una lista vacia donde se iran agregando los elementos pedidos.\n",
        "#frase = input('Ingrese la frase:')\n",
        "def codigo(s): \n",
        "  p = s[len(s)//2] ## Hallamos la letra del medio.\n",
        "  if p==\"a\" or p==\"e\" or p==\"i\" or p ==\"o\" or p ==\"u\": \n",
        "    L.append(True)\n",
        "  else:\n",
        "    L.append(False)\n",
        "\n",
        "#definir numero vocales.\n",
        "  vocales = 'aeiouAEIOU'\n",
        "  num_vocales = [v for v in s if v in vocales] ## Hacemos una lista.\n",
        "  L.append(len(num_vocales))\n",
        "\n",
        "#definir numero consonantes.\n",
        "  consonantes = 'qwrtypñlkjhgfdszxcvbnmQWRTYPÑLKJHGFDSZXCVBNM'\n",
        "  num_consonantes = [i for i in s if i in consonantes]\n",
        "  L.append(len(num_consonantes))\n",
        "\n",
        "#Cadena de caracteres invertida.\n",
        "  L.append(s[::-1])\n",
        "\n",
        "  return L\n",
        "\n",
        "  #return [c for c in frase if c in vocales] ## Hacemos una lista. \n"
      ],
      "metadata": {
        "id": "oM4_4w_Vyeug"
      },
      "execution_count": 3,
      "outputs": []
    },
    {
      "cell_type": "code",
      "source": [
        "codigo(s= 'perro')"
      ],
      "metadata": {
        "colab": {
          "base_uri": "https://localhost:8080/"
        },
        "id": "h_wFIWHF-vfr",
        "outputId": "d1699a22-dc76-48dd-ba2e-6c86565f7a52"
      },
      "execution_count": 4,
      "outputs": [
        {
          "output_type": "execute_result",
          "data": {
            "text/plain": [
              "[False, 2, 3, 'orrep']"
            ]
          },
          "metadata": {},
          "execution_count": 4
        }
      ]
    },
    {
      "cell_type": "markdown",
      "source": [
        "**SUCESIÓN DE FIBONACCI**"
      ],
      "metadata": {
        "id": "_1BgwojeHqSI"
      }
    },
    {
      "cell_type": "code",
      "source": [
        "def fibonacci(n):\n",
        "  if n <2:\n",
        "    return n\n",
        "  return fibonacci(n-1) + fibonacci(n-2)"
      ],
      "metadata": {
        "id": "zcXO6iurHp8A"
      },
      "execution_count": 10,
      "outputs": []
    },
    {
      "cell_type": "code",
      "source": [
        "fibonacci(10)"
      ],
      "metadata": {
        "colab": {
          "base_uri": "https://localhost:8080/"
        },
        "id": "1oHmduLCN3UA",
        "outputId": "82b2176e-36d6-4378-c48c-1d22943472c0"
      },
      "execution_count": 11,
      "outputs": [
        {
          "output_type": "execute_result",
          "data": {
            "text/plain": [
              "55"
            ]
          },
          "metadata": {},
          "execution_count": 11
        }
      ]
    },
    {
      "cell_type": "code",
      "source": [
        ""
      ],
      "metadata": {
        "id": "yj73OimDOIX0"
      },
      "execution_count": null,
      "outputs": []
    }
  ]
}