{
  "nbformat": 4,
  "nbformat_minor": 0,
  "metadata": {
    "colab": {
      "name": "Tare03.ipynb",
      "provenance": [],
      "collapsed_sections": []
    },
    "kernelspec": {
      "name": "python3",
      "display_name": "Python 3"
    },
    "language_info": {
      "name": "python"
    }
  },
  "cells": [
    {
      "cell_type": "markdown",
      "metadata": {
        "id": "pQSt9-mvLVMa"
      },
      "source": [
        "# Taller Resolver los siguientes problemas, por el metodo de la biseccion, newton, punto fijo, etc.\n",
        "\n",
        "\n",
        "1. Una particula parte del reposo sobre un plano inclinado uniforme, cuyo ángulo \n",
        "$\\theta$ cambia con una rapidez constante de : \n",
        "\n",
        "\\begin{equation}\n",
        "\\frac{\\mathrm{d}\\theta}{\\mathrm{d} t} = \\omega < 0\n",
        "\\end{equation}\n",
        "\n",
        "Al final de t segundos, la posición del objeto esta dada por: \n",
        "\n",
        "\n",
        "\\begin{equation}\n",
        "x(t) = -\\frac{g}{2\\omega^2} \\left( \\frac{e^{\\omega t}-e^{-\\omega t}}{2}\\right) -\\sin\\omega t\n",
        "\\end{equation}\n",
        "\n",
        "\n",
        "Suponga que la partícula se desplazo 0.51m en 1s. Encuentre, con una exactitud de $10^{-5}$, la rapidez $\\omega$ con que $\\theta$ cambia. Suponga que $g=9.76m/s$\n",
        "\n",
        "\n",
        "![Plano Inclinado](https://raw.githubusercontent.com/hernansalinas/Metodos_Computacionales_taller/main/sesiones/images/ecuacion_1_variable/Fig0.png)\n",
        "\n",
        "\n",
        "\n",
        "\n",
        "\n",
        "\n",
        "\n",
        "2.Resolver la siguiente situación\n",
        "\n",
        "En el diseño de los vehiculos para todo tipo de terreno,  es necesario tener encuentra fallas cuando se trata de liberar dos tipos de obstáculos. Una es la falla por rozamiento, y ocurre cuando el vehiculo \n",
        "intenta cruzar un obstáculo que hace que su fondo toque el suelo. La otra recibie el nombre de falla por colision de la defensa delantera y ocurre cuando el vehiculo desciende por una zanja y la defensa delantera toca el suelo.\n",
        "\n",
        "\n",
        "\n",
        "La figura muestra las componentes asociados al segundo tipo  de falla. En ella se indeca el ángulo máximo $\\alpha$ que puede alcanzar un vehiculo cuando $\\beta$ es el angulo maximo en que no ocurre la falla \n",
        "por rozamiento y satisface la siguiente ecuación: \n",
        "\n",
        "\n",
        "\\begin{equation}\n",
        "A \\sin(\\alpha) \\cos(\\alpha)+B \\sin^2(\\alpha) - C \\cos(\\alpha) -  E  \\sin(\\alpha)=0\n",
        "\\end{equation}\n",
        "\n",
        "donde; \n",
        "\\begin{equation}\n",
        "A = l \\sin(\\beta)\n",
        "\\end{equation}\n",
        "\n",
        "\\begin{equation}\n",
        "B = l \\cos(\\beta)\n",
        "\\end{equation}\n",
        "\\begin{equation}\n",
        "C = (h + 0.5 D )\\sin(\\beta) - 0.5 D \\tan(\\beta)\n",
        "\\end{equation}\n",
        "\n",
        "\\begin{equation}\n",
        "E = (h + 0.5 D ) \\cos(\\beta) - 0.5 * D\n",
        "\\end{equation}\n",
        "\n",
        "\n",
        "Para $l=89$pulg, $h=49$pul, $D=55$, $\\beta=11.5$ , el angulo se aproximara a 33. Verificar este resultados\n",
        "\n",
        "\n",
        "![fallas_vehiculo](https://raw.githubusercontent.com/hernansalinas/Metodos_Computacionales_taller/main/sesiones/images/ecuacion_1_variable/Fig2.png)\n",
        "\n",
        "Referencias: Numerical Analysis Book by J. Douglas Faires and Richard L. Burden\n",
        "\n",
        "\n"
      ]
    },
    {
      "cell_type": "markdown",
      "metadata": {
        "id": "UvlcPwmcfUiz"
      },
      "source": [
        "\n",
        "\n",
        "\n",
        "3. Construir un fractal empleando el metodo de Newton-Raphson, \n",
        "(Reproducir código y entender)\n",
        "\\begin{equation}\n",
        "z_{n+1} = z_n -a \\frac{f(z)}{f'(z)} \n",
        "\\end{equation}\n",
        "\n",
        "\n",
        "\n",
        "\\begin{equation}\n",
        "f'(z) = \\frac{ f(z+h)+f(z) }{h}\n",
        "\\end{equation}"
      ]
    },
    {
      "cell_type": "code",
      "source": [
        "from matplotlib import pyplot as plt \n",
        "import numpy as np \n",
        "import scipy \n",
        "from scipy import optimize "
      ],
      "metadata": {
        "id": "nbFsCHtWsVpZ"
      },
      "execution_count": null,
      "outputs": []
    },
    {
      "cell_type": "markdown",
      "source": [
        "**Punto 1**"
      ],
      "metadata": {
        "id": "JwITopfeO791"
      }
    },
    {
      "cell_type": "code",
      "source": [
        "t=1.0\n",
        "g=9.76\n",
        "f1= lambda w: np.sin(w*t)+ (g/2*w**2)**(np.exp(w*t)-np.exp(-w*t)/2)"
      ],
      "metadata": {
        "id": "XMwsiTJDO-9C"
      },
      "execution_count": 17,
      "outputs": []
    },
    {
      "cell_type": "code",
      "source": [
        "w=np.linspace(-1,1,1000)\n",
        "plt.plot(w,f1(w))"
      ],
      "metadata": {
        "colab": {
          "base_uri": "https://localhost:8080/",
          "height": 284
        },
        "id": "kz3aT8gJQCud",
        "outputId": "0e4a0749-2598-4d15-b709-0295bc088a32"
      },
      "execution_count": 18,
      "outputs": [
        {
          "output_type": "execute_result",
          "data": {
            "text/plain": [
              "[<matplotlib.lines.Line2D at 0x7f7ea51ecb90>]"
            ]
          },
          "metadata": {},
          "execution_count": 18
        },
        {
          "output_type": "display_data",
          "data": {
            "image/png": "[encoded data removed]",
            "text/plain": [
              "<Figure size 432x288 with 1 Axes>"
            ]
          },
          "metadata": {
            "needs_background": "light"
          }
        }
      ]
    },
    {
      "cell_type": "code",
      "source": [
        "scipy.optimize.bisect( f,-1.00,-0.5)"
      ],
      "metadata": {
        "colab": {
          "base_uri": "https://localhost:8080/"
        },
        "id": "vkPOf4X2P6-D",
        "outputId": "dd64ceb0-a412-4127-fd53-6ae648f98962"
      },
      "execution_count": null,
      "outputs": [
        {
          "output_type": "execute_result",
          "data": {
            "text/plain": [
              "-0.6986969864537969"
            ]
          },
          "metadata": {},
          "execution_count": 4
        }
      ]
    },
    {
      "cell_type": "code",
      "source": [
        "f1p= lambda x: -np.cos(wt) + (g/2*w**2)(np.exp(wt)+np.exp(-wt)/4)\n",
        "scipy.optimize.newton(f,0.6931471805599453 , )"
      ],
      "metadata": {
        "id": "C5JaZZdFp4gw",
        "colab": {
          "base_uri": "https://localhost:8080/"
        },
        "outputId": "ffe3f47d-0855-420a-b261-fe84a631b325"
      },
      "execution_count": 21,
      "outputs": [
        {
          "output_type": "execute_result",
          "data": {
            "text/plain": [
              "-4.029657224050091e-13"
            ]
          },
          "metadata": {},
          "execution_count": 21
        }
      ]
    },
    {
      "cell_type": "code",
      "source": [
        "g= lambda x:w - f(w)\n",
        "optimize.fixed_point(g, -0.75)\n"
      ],
      "metadata": {
        "id": "LXqrMA1mpyK3"
      },
      "execution_count": null,
      "outputs": []
    },
    {
      "cell_type": "markdown",
      "source": [
        "**Punto 2**"
      ],
      "metadata": {
        "id": "FjtqzZHHVQxi"
      }
    },
    {
      "cell_type": "code",
      "source": [
        "\n",
        "l = 89\n",
        "h = 49\n",
        "D = 55\n",
        "β = np.deg2rad(11.5) "
      ],
      "metadata": {
        "id": "rNwXDG1rUoAh"
      },
      "execution_count": null,
      "outputs": []
    },
    {
      "cell_type": "code",
      "source": [
        "def init_params(l, h, D,  β):\n",
        "  A = l * np.sin(β)\n",
        "  B = l * np.cos(β)\n",
        "  C = (h + 0.5 * D) * np.sin(β) - 0.5 * D * np.tan(β)\n",
        "  E = (h + 0.5 * D) * np.cos(β) - 0.5 * D\n",
        "  \n",
        "  return A, B, C, E\n",
        "\n",
        "params = init_params(l, h, D,  β)"
      ],
      "metadata": {
        "id": "BGj51UYaVCAr"
      },
      "execution_count": null,
      "outputs": []
    },
    {
      "cell_type": "code",
      "source": [
        "def f(α, A, B, C, E):\n",
        "  T1 = A*np.sin(α)* np.cos(α)\n",
        "  T2 = B*(np.sin(α))**2\n",
        "  T3 = C*np.cos(α)\n",
        "  T4 =  E*np.sin(α)\n",
        "  f = T1+T2-T3-T4\n",
        "  return  f"
      ],
      "metadata": {
        "id": "ox6wlpCFVGgt"
      },
      "execution_count": null,
      "outputs": []
    },
    {
      "cell_type": "code",
      "source": [
        "α = np.linspace(0, 2*np.pi, 100)\n",
        "plt.plot(α,f(α, *params))\n",
        "plt.grid()"
      ],
      "metadata": {
        "colab": {
          "base_uri": "https://localhost:8080/",
          "height": 265
        },
        "id": "uzXmd3JxVJnk",
        "outputId": "8904ef71-d6e6-4b21-d044-766618e5e691"
      },
      "execution_count": null,
      "outputs": [
        {
          "output_type": "display_data",
          "data": {
            "image/png": "[encoded data removed]",
            "text/plain": [
              "<Figure size 432x288 with 1 Axes>"
            ]
          },
          "metadata": {
            "needs_background": "light"
          }
        }
      ]
    },
    {
      "cell_type": "code",
      "source": [
        "np.rad2deg(0.6)"
      ],
      "metadata": {
        "id": "z2nkwfg4VMRT"
      },
      "execution_count": null,
      "outputs": []
    },
    {
      "cell_type": "markdown",
      "source": [
        "Punto trabajado en casa y hecho en el taller"
      ],
      "metadata": {
        "id": "mPdleJgMsOPc"
      }
    },
    {
      "cell_type": "code",
      "source": [
        "f = lambda x: (np.exp(x)- 2) / (np.cos(np.exp(x)-2))"
      ],
      "metadata": {
        "id": "mfynMJ1Qspwm"
      },
      "execution_count": null,
      "outputs": []
    },
    {
      "cell_type": "code",
      "source": [
        "#x = np.linspace(-0.8458237100024216, 1.2727886316440644,1000) \n",
        "\n",
        "x=np.linspace(0,5,1000)\n",
        "plt.plot(x,f(x))"
      ],
      "metadata": {
        "colab": {
          "base_uri": "https://localhost:8080/",
          "height": 283
        },
        "id": "Gr-Cka87tGjj",
        "outputId": "32e99a70-b9f2-44ad-e4c8-dca7ee804341"
      },
      "execution_count": null,
      "outputs": [
        {
          "output_type": "execute_result",
          "data": {
            "text/plain": [
              "[<matplotlib.lines.Line2D at 0x7fde7fad0a10>]"
            ]
          },
          "metadata": {},
          "execution_count": 6
        },
        {
          "output_type": "display_data",
          "data": {
            "image/png": "[encoded data removed]",
            "text/plain": [
              "<Figure size 432x288 with 1 Axes>"
            ]
          },
          "metadata": {
            "needs_background": "light"
          }
        }
      ]
    },
    {
      "cell_type": "code",
      "source": [
        "np.log(np.pi/2 + 2 ) #asintotas "
      ],
      "metadata": {
        "colab": {
          "base_uri": "https://localhost:8080/"
        },
        "id": "cdeCHzQ5t0TH",
        "outputId": "e48406b1-151b-43c2-d6ba-72afb724bffc"
      },
      "execution_count": null,
      "outputs": [
        {
          "output_type": "execute_result",
          "data": {
            "text/plain": [
              "1.2727886316440644"
            ]
          },
          "metadata": {},
          "execution_count": 5
        }
      ]
    },
    {
      "cell_type": "code",
      "source": [
        "np.log(np.pi/2 + -np.pi + 2 )"
      ],
      "metadata": {
        "colab": {
          "base_uri": "https://localhost:8080/"
        },
        "id": "uPtjFI6VzsVx",
        "outputId": "add49485-f3bc-45fb-b98c-58633f2aa672"
      },
      "execution_count": null,
      "outputs": [
        {
          "output_type": "execute_result",
          "data": {
            "text/plain": [
              "-0.8458237100024216"
            ]
          },
          "metadata": {},
          "execution_count": 6
        }
      ]
    },
    {
      "cell_type": "code",
      "source": [
        "#por el método de bisección \n",
        "from scipy import optimize \n",
        "scipy.optimize.bisect( f,0,1) #este valor es un cero"
      ],
      "metadata": {
        "colab": {
          "base_uri": "https://localhost:8080/"
        },
        "id": "q-5Tn5vi1StB",
        "outputId": "d3ad00ff-8cf4-4878-814a-4577ab623536"
      },
      "execution_count": null,
      "outputs": [
        {
          "output_type": "execute_result",
          "data": {
            "text/plain": [
              "0.6931471805601177"
            ]
          },
          "metadata": {},
          "execution_count": 7
        }
      ]
    },
    {
      "cell_type": "code",
      "source": [
        "scipy.optimize.newton(f,0.4) #método secante"
      ],
      "metadata": {
        "colab": {
          "base_uri": "https://localhost:8080/"
        },
        "id": "dpbRAQvp1_sq",
        "outputId": "a18ce1d1-1d45-49f9-ef47-3a41cf9948ca"
      },
      "execution_count": null,
      "outputs": [
        {
          "output_type": "execute_result",
          "data": {
            "text/plain": [
              "0.6931471805599453"
            ]
          },
          "metadata": {},
          "execution_count": 11
        }
      ]
    },
    {
      "cell_type": "code",
      "source": [
        "#Método Newthon-Raphson\n",
        "from scipy import optimize \n",
        "fprime= lambda x: np.exp(x)/np.exp(x)*-np.sin(np.exp(x)-2)\n",
        "scipy.optimize.newton(f,0.6931471805599453 , fprime)"
      ],
      "metadata": {
        "colab": {
          "base_uri": "https://localhost:8080/"
        },
        "id": "dlNDyKC7iwKD",
        "outputId": "6002fa9e-65a7-4674-bd3c-1352d3b3bdc5"
      },
      "execution_count": null,
      "outputs": [
        {
          "output_type": "execute_result",
          "data": {
            "text/plain": [
              "0.6931471805599453"
            ]
          },
          "metadata": {},
          "execution_count": 7
        }
      ]
    },
    {
      "cell_type": "code",
      "source": [
        "#x = np.linspace(-0.8458237100024216, 1.2727886316440644,1000) \n",
        "\n",
        "#x=np.linspace(-np.pi/2,np.pi/2,100)\n",
        "\n"
      ],
      "metadata": {
        "id": "7Adz0jxpkWZC",
        "colab": {
          "base_uri": "https://localhost:8080/",
          "height": 283
        },
        "outputId": "0358017d-e7d3-4837-fe8f-f21422057f3d"
      },
      "execution_count": null,
      "outputs": [
        {
          "output_type": "execute_result",
          "data": {
            "text/plain": [
              "[<matplotlib.lines.Line2D at 0x7fde74e06e10>]"
            ]
          },
          "metadata": {},
          "execution_count": 8
        },
        {
          "output_type": "display_data",
          "data": {
            "image/png": "[encoded data removed]",
            "text/plain": [
              "<Figure size 432x288 with 1 Axes>"
            ]
          },
          "metadata": {
            "needs_background": "light"
          }
        }
      ]
    },
    {
      "cell_type": "code",
      "source": [
        "scipy.optimize.newton(f,0.6, fprime)"
      ],
      "metadata": {
        "id": "YYQ6RKESsBtD"
      },
      "execution_count": null,
      "outputs": []
    },
    {
      "cell_type": "code",
      "source": [
        "\n"
      ],
      "metadata": {
        "id": "TazdT36KstnL"
      },
      "execution_count": null,
      "outputs": []
    }
  ]
}