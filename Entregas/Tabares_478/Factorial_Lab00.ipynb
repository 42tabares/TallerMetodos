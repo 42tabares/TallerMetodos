{
  "nbformat": 4,
  "nbformat_minor": 0,
  "metadata": {
    "colab": {
      "name": "Factorial_Lab00.ipynb",
      "provenance": [],
      "collapsed_sections": []
    },
    "kernelspec": {
      "name": "python3",
      "display_name": "Python 3"
    },
    "language_info": {
      "name": "python"
    }
  },
  "cells": [
    {
      "cell_type": "markdown",
      "source": [
        "Factorial de un Numero"
      ],
      "metadata": {
        "id": "0-bwY6loHL5w"
      }
    },
    {
      "cell_type": "code",
      "execution_count": 38,
      "metadata": {
        "colab": {
          "base_uri": "https://localhost:8080/"
        },
        "id": "-MWNlP5gHDtE",
        "outputId": "18f31584-71f1-43a9-8596-7b3c15b85cbc"
      },
      "outputs": [
        {
          "output_type": "stream",
          "name": "stdout",
          "text": [
            "Error, check number\n"
          ]
        }
      ],
      "source": [
        "def fact(N):\n",
        "\n",
        "  if N==0:\n",
        "    n = 1\n",
        "  elif (N<0 or (int(N)!=N)):\n",
        "    n = \"Error, check number\"\n",
        "  else:\n",
        "    n = N\n",
        "    for k in range (1, N-1):\n",
        "      n=n*(N-k)\n",
        "  return n\n",
        "\n",
        "print(fact(2.5))"
      ]
    }
  ]
}