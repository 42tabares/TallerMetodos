{
  "nbformat": 4,
  "nbformat_minor": 0,
  "metadata": {
    "colab": {
      "name": "Tarea1_Métodos",
      "provenance": [],
      "collapsed_sections": []
    },
    "kernelspec": {
      "name": "python3",
      "display_name": "Python 3"
    },
    "accelerator": "TPU"
  },
  "cells": [
    {
      "cell_type": "markdown",
      "metadata": {
        "id": "n0LNNZOo8p3X"
      },
      "source": [
        "Métodos computacionales: Tarea 1.\n",
        "\n",
        "Por: Juan Esteban Ospina Holguín y Mariana Toro Escobar."
      ]
    },
    {
      "cell_type": "markdown",
      "metadata": {
        "id": "nXEgkSehTijo"
      },
      "source": [
        "#**1. Factorial**"
      ]
    },
    {
      "cell_type": "code",
      "metadata": {
        "id": "KoxhURzgT5ek",
        "colab": {
          "base_uri": "https://localhost:8080/"
        },
        "outputId": "2811ee3a-8305-4855-a45f-50b956f111ac"
      },
      "source": [
        "\"\"\"Este código calcula el factorial de un número\"\"\"\n",
        "def factorial(n):\n",
        "  if n==0: print(1)\n",
        "  else:\n",
        "    a=1                                           #valor inicial\n",
        "    for i in range(n): \n",
        "      c=a*(i+1)\n",
        "      a=c # se hace el ciclo para la multiplicación 1*2*3.....n\n",
        "    print(c)\n",
        "  return                                   # se retorna el resultado\n",
        "\n",
        "factorial(5) #ejecución"
      ],
      "execution_count": null,
      "outputs": [
        {
          "output_type": "stream",
          "text": [
            "120\n"
          ],
          "name": "stdout"
        }
      ]
    },
    {
      "cell_type": "markdown",
      "metadata": {
        "id": "nWR7nUasuJhX"
      },
      "source": [
        "##**2. Categorías para números** "
      ]
    },
    {
      "cell_type": "code",
      "metadata": {
        "colab": {
          "base_uri": "https://localhost:8080/"
        },
        "id": "DZHGCc6wWp8w",
        "outputId": "3d518735-7cb1-485c-b56b-e319b21c20f1"
      },
      "source": [
        "\"\"\"Este código categoriza un par de números como perfectos, semiperfectos, amigos, abundantes o defectivos\"\"\"\n",
        "def divisores(n): #cálculo de divisores\n",
        "  d=[]\n",
        "  for i in range(1,n):\n",
        "    if n % i == 0:\n",
        "      d.append(i)\n",
        "  return d\n",
        "\n",
        "def defeoabun(a,b):#defectivos o abundantes\n",
        "  t=[]\n",
        "  for k in [a,b]:\n",
        "    p =(sum(divisores(k)))\n",
        "    t.append(p)\n",
        "    if p<k: print(k, \"es defectivo\")\n",
        "    else:print(k, \"es abundante\")\n",
        "  return \n",
        "\n",
        "def amigos(a,b): #amigos\n",
        "  p =(sum(divisores(a)))\n",
        "  q =(sum(divisores(b)))\n",
        "  if a ==q and p==b: \n",
        "   print(a,\"y\",b,\"son números amigos\")\n",
        "   return\n",
        "\n",
        "def perfecto(a):#número perfecto\n",
        "  c=sum(divisores(a))-a\n",
        "  if sum(divisores(a)) == a:\n",
        "    print(a,\"es un número perfecto\")\n",
        "  elif c in divisores(a):\n",
        "    print(a,\"es un número semiperfecto\")\n",
        "  return\n",
        "\n",
        "def primo(a):#primo\n",
        "  if len(divisores(a)) ==1:\n",
        "    print(a,\"es primo\")\n",
        "  return\n",
        "\n",
        "def clase_numero(a,b):#se reúnen todas las categorías\n",
        "  amigos(a,b)\n",
        "  defeoabun(a,b)\n",
        "  for i in [a,b]: perfecto(i); primo(i)\n",
        "  return\n",
        "\n",
        "clase_numero(284,220) #ejecución"
      ],
      "execution_count": null,
      "outputs": [
        {
          "output_type": "stream",
          "text": [
            "284 y 220 son números amigos\n",
            "284 es defectivo\n",
            "220 es abundante\n"
          ],
          "name": "stdout"
        }
      ]
    },
    {
      "cell_type": "markdown",
      "metadata": {
        "id": "dznsj604Ls9P"
      },
      "source": [
        "##**3. Palíndromo**"
      ]
    },
    {
      "cell_type": "code",
      "metadata": {
        "colab": {
          "base_uri": "https://localhost:8080/"
        },
        "id": "hjL-TslELxFh",
        "outputId": "3fe612bf-e01a-4eb8-bf6e-d4b2afdf31f4"
      },
      "source": [
        "\"\"\"Este código determina si un número entero es palíndromo\"\"\"\n",
        "def palindromo(n): #definición de la función\n",
        "  n=str(n) \n",
        "  inv=n[::-1]         \n",
        "  if inv == n:\n",
        "    return True\n",
        "  else: \n",
        "    return False\n",
        "\n",
        "palindromo(1881) #ejecución"
      ],
      "execution_count": null,
      "outputs": [
        {
          "output_type": "execute_result",
          "data": {
            "text/plain": [
              "True"
            ]
          },
          "metadata": {
            "tags": []
          },
          "execution_count": 6
        }
      ]
    },
    {
      "cell_type": "markdown",
      "metadata": {
        "id": "adjJ-2FdBI4H"
      },
      "source": [
        "#**4. Cadena de caracteres**"
      ]
    },
    {
      "cell_type": "code",
      "metadata": {
        "colab": {
          "base_uri": "https://localhost:8080/"
        },
        "id": "uyHiR5EjBRHB",
        "outputId": "c7cf7763-a665-40be-c577-c7f593dadf7a"
      },
      "source": [
        "\"\"\"Este código toma una cadena de caracteres y devuelve información sobre ello\"\"\"\n",
        "def cadena(s =\"\"): #definición de la función\n",
        "  s=str(s)\n",
        "  lista=[0,0,0,0]\n",
        "  vocales= 0\n",
        "  consonantes= 0\n",
        "\n",
        "  longitud = len(s)//2 #casilla 1   #identifica el caracter del medio\n",
        "  if s[longitud] =='a' or s[longitud] =='e' or s[longitud] =='i' or s[longitud] =='o' or s[longitud] =='u': \n",
        "    lista[0]= True #ubica el resultado en la posición 0 de la lista, es decir la 1\n",
        "  else:\n",
        "    lista[0]= False\n",
        "\n",
        "  for i in s: #casillas 2 y 3\n",
        "    if i =='a' or i =='e' or i =='i' or i =='o' or i =='u':\n",
        "      vocales= vocales +1\n",
        "      lista[1]= vocales  #ubica el resultado en la posición 1 de la lista, es decir la 2\n",
        "    else: \n",
        "      consonantes= consonantes + 1\n",
        "      lista[2]= consonantes #ubica el resultado en la posición 2 de la lista, es decir la 3\n",
        "\n",
        "  lista[3]= s[::-1] #casilla 4      #ubica el resultado en la posición 3 de la lista, es decir la 4\n",
        "  return lista\n",
        "\n",
        "cadena(s=\"perro\") #ejecución"
      ],
      "execution_count": null,
      "outputs": [
        {
          "output_type": "execute_result",
          "data": {
            "text/plain": [
              "[False, 2, 3, 'orrep']"
            ]
          },
          "metadata": {
            "tags": []
          },
          "execution_count": 2
        }
      ]
    },
    {
      "cell_type": "markdown",
      "metadata": {
        "id": "_ribrLcQIlgE"
      },
      "source": [
        "\n",
        "\n",
        "##**5. Fibonacci**\n",
        "\n"
      ]
    },
    {
      "cell_type": "code",
      "metadata": {
        "id": "QpyGzY1TIYuu",
        "colab": {
          "base_uri": "https://localhost:8080/"
        },
        "outputId": "516ffc0f-480b-4eef-fc37-a26e133f7866"
      },
      "source": [
        "\"\"\"Este código muestra el n-ésimo término para la sucesión de Fibonacci \"\"\"\n",
        "def fibonacci(n): #definición de la función\n",
        "    a, b = 0, 1\n",
        "    for i in range(n):\n",
        "        a, b = b, a + b\n",
        "    return a\n",
        "\n",
        "fibonacci(50) #ejecución"
      ],
      "execution_count": null,
      "outputs": [
        {
          "output_type": "execute_result",
          "data": {
            "text/plain": [
              "12586269025"
            ]
          },
          "metadata": {
            "tags": []
          },
          "execution_count": 3
        }
      ]
    },
    {
      "cell_type": "markdown",
      "metadata": {
        "id": "boi7gOE7xRYp"
      },
      "source": [
        "##**6. Organizar números**"
      ]
    },
    {
      "cell_type": "code",
      "metadata": {
        "colab": {
          "base_uri": "https://localhost:8080/"
        },
        "id": "VM6lsP-m36HQ",
        "outputId": "e925a090-a7cc-416c-f98f-80fa59c7b991"
      },
      "source": [
        "\"\"\"Este código ordena de maera ascente una lista con números\"\"\"\n",
        "v = [22, 32, 42, 12, 22, 31, 41, 11, 12, 232, 24, 12, 22] #lista a ordenar\n",
        "def quicksort(v): #se define la función\n",
        "  k=[]                    #lista auxiliar: se usará para agregar los números en forma ascendente\n",
        "  for i in range(len(v)): \n",
        "    a=min(v)            #se calcula el mínimo de la lista\n",
        "    k.append(a)       #se agrega a la lista auxiliar\n",
        "    v.remove(min(v)) #se elimina el dato anexado a la lista auxiliar, se hace mas pequeña la lista inicial\n",
        "                              #se repite el proceso hasta que la lista v quede vacia\n",
        "  v=k                     #se reasigna\n",
        "  return v              #se retorna la lista ordenada \n",
        "\n",
        "print(quicksort(v)) #ejecución"
      ],
      "execution_count": null,
      "outputs": [
        {
          "output_type": "stream",
          "text": [
            "[11, 12, 12, 12, 22, 22, 22, 24, 31, 32, 41, 42, 232]\n"
          ],
          "name": "stdout"
        }
      ]
    },
    {
      "cell_type": "markdown",
      "metadata": {
        "id": "5zzGycY88nxX"
      },
      "source": [
        ""
      ]
    }
  ]
}