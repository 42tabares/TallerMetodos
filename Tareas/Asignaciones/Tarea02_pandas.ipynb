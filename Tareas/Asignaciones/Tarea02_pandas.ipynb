{
  "nbformat": 4,
  "nbformat_minor": 0,
  "metadata": {
    "colab": {
      "name": "sesion03_pandas.ipynb",
      "provenance": [],
      "collapsed_sections": [
        "kEfWIutYWZf2"
      ]
    },
    "kernelspec": {
      "name": "python3",
      "display_name": "Python 3"
    },
    "language_info": {
      "name": "python"
    }
  },
  "cells": [
    {
      "cell_type": "markdown",
      "metadata": {
        "id": "sYIMyK4m_Mhv"
      },
      "source": [
        "# Problema 1.\n",
        "\n",
        "Usando el set `PS4_1.csv`, convertir la serie `Date` en el indice (serie de tiempo) y eliminar la serie `Unnamed: 1` (generado por pandas), retornar un  diccionario con en el siguiente orden:\n",
        "\n",
        "* cantidad de columnas\n",
        "* Nombre de las columnas\n",
        "* número de registros no NaN de cada columna\n",
        "* cantidad total de memoria usada para cargar el dataset en el computador ,( df.memory_usage() )\n",
        "* Estadistica basica para cada columna, media, desviacion estandar, maximo\n",
        "* Remplazar los NaN por None\n",
        "\n",
        "\n",
        "# Problema 2\n",
        "\n",
        "Realizar la lectura del data frame \"Crimes_-_2019.csv\" asociado a los crimenes que se presentaron en Chicago en el 2019. \n",
        "\n",
        "\n",
        "1. Ver la estadistica general del data frame.\n",
        "2. Dejar las columnas PrimaryType, y Date.\n",
        "3. Transformar la columna Date que es tipo string en una tipo Fecha, use el siguiente metodo de pandas pd.to_datetime(df.Date,format=\"%m/%d/%Y %I:%M:%S %p\").\n",
        "4. Mostrar los casos totales para cada tipo de crimen de forma ascendente, emplee:\n",
        "   df.groupby(columna).Date.count()\n",
        "   \n",
        "   sort_values()\n",
        "5. Ordenar los valores por orden alfabetico de Primary type\n",
        "6. Mostrar de la fila 100 a la 120\n",
        "6. Realizar una visualización de los datos anteriores.Emplee la libreria  seaborn con un grafico tipo barplot. Ej.\n",
        "   ax = sns.barplot(x = \"contador\", y=\"Primary Type\", data = datos)\n",
        "\n",
        "\n",
        "\n",
        "\n",
        "# Problema 3\n",
        "\n",
        "1. Leer el dataset country_vaccinations.csv  y filtrar los datos para Colombia\n",
        "2. Crear un csv con los datos para colombia\n",
        "3. Realizar una comparacion con los paises latinoamericanos. \n",
        "4. A traves de mascaras determinar el numero de vacunados en el intervalo  [1.5E6, 2.0E6]\n"
      ]
    },
    {
      "cell_type": "code",
      "metadata": {
        "id": "upSBUrJAEDak"
      },
      "source": [
        "import pandas as pd"
      ],
      "execution_count": null,
      "outputs": []
    },
    {
      "cell_type": "code",
      "metadata": {
        "id": "ACHTAh_sERio"
      },
      "source": [
        "path = \"https://docs.google.com/spreadsheets/d/e/2PACX-1vTWsahNju_LTtJBjuaaILBx_3QutbzK-HCjGoLtrtcIBEu4rOQgdiz17AD8SDa13g/pub?output=csv\"\n",
        "df = pd.read_csv(path)"
      ],
      "execution_count": null,
      "outputs": []
    },
    {
      "cell_type": "code",
      "metadata": {
        "colab": {
          "base_uri": "https://localhost:8080/",
          "height": 195
        },
        "id": "-CiXbV6WEyNP",
        "outputId": "63620b81-95f9-4654-fed1-cc70954c6f78"
      },
      "source": [
        "df.head()"
      ],
      "execution_count": null,
      "outputs": [
        {
          "output_type": "execute_result",
          "data": {
            "text/html": [
              "<div>\n",
              "<style scoped>\n",
              "    .dataframe tbody tr th:only-of-type {\n",
              "        vertical-align: middle;\n",
              "    }\n",
              "\n",
              "    .dataframe tbody tr th {\n",
              "        vertical-align: top;\n",
              "    }\n",
              "\n",
              "    .dataframe thead th {\n",
              "        text-align: right;\n",
              "    }\n",
              "</style>\n",
              "<table border=\"1\" class=\"dataframe\">\n",
              "  <thead>\n",
              "    <tr style=\"text-align: right;\">\n",
              "      <th></th>\n",
              "      <th>Date</th>\n",
              "      <th>Unnamed: 1</th>\n",
              "      <th>Berri1</th>\n",
              "      <th>Maisonneuve_1</th>\n",
              "      <th>Maisonneuve_2</th>\n",
              "      <th>Brebeuf</th>\n",
              "    </tr>\n",
              "  </thead>\n",
              "  <tbody>\n",
              "    <tr>\n",
              "      <th>0</th>\n",
              "      <td>01/01/2009</td>\n",
              "      <td>0:00</td>\n",
              "      <td>29</td>\n",
              "      <td>20</td>\n",
              "      <td>35</td>\n",
              "      <td>NaN</td>\n",
              "    </tr>\n",
              "    <tr>\n",
              "      <th>1</th>\n",
              "      <td>02/01/2009</td>\n",
              "      <td>0:00</td>\n",
              "      <td>19</td>\n",
              "      <td>3</td>\n",
              "      <td>22</td>\n",
              "      <td>NaN</td>\n",
              "    </tr>\n",
              "    <tr>\n",
              "      <th>2</th>\n",
              "      <td>03/01/2009</td>\n",
              "      <td>0:00</td>\n",
              "      <td>24</td>\n",
              "      <td>12</td>\n",
              "      <td>22</td>\n",
              "      <td>NaN</td>\n",
              "    </tr>\n",
              "    <tr>\n",
              "      <th>3</th>\n",
              "      <td>04/01/2009</td>\n",
              "      <td>0:00</td>\n",
              "      <td>24</td>\n",
              "      <td>8</td>\n",
              "      <td>15</td>\n",
              "      <td>NaN</td>\n",
              "    </tr>\n",
              "    <tr>\n",
              "      <th>4</th>\n",
              "      <td>05/01/2009</td>\n",
              "      <td>0:00</td>\n",
              "      <td>120</td>\n",
              "      <td>111</td>\n",
              "      <td>141</td>\n",
              "      <td>NaN</td>\n",
              "    </tr>\n",
              "  </tbody>\n",
              "</table>\n",
              "</div>"
            ],
            "text/plain": [
              "         Date Unnamed: 1  Berri1  Maisonneuve_1  Maisonneuve_2  Brebeuf\n",
              "0  01/01/2009       0:00      29             20             35      NaN\n",
              "1  02/01/2009       0:00      19              3             22      NaN\n",
              "2  03/01/2009       0:00      24             12             22      NaN\n",
              "3  04/01/2009       0:00      24              8             15      NaN\n",
              "4  05/01/2009       0:00     120            111            141      NaN"
            ]
          },
          "metadata": {
            "tags": []
          },
          "execution_count": 3
        }
      ]
    },
    {
      "cell_type": "code",
      "metadata": {
        "id": "nhqg-ubuEzgt",
        "colab": {
          "base_uri": "https://localhost:8080/"
        },
        "outputId": "623a3033-c46b-48c9-ece8-0b13db85ec9c"
      },
      "source": [
        "len(df.columns)"
      ],
      "execution_count": null,
      "outputs": [
        {
          "output_type": "execute_result",
          "data": {
            "text/plain": [
              "6"
            ]
          },
          "metadata": {
            "tags": []
          },
          "execution_count": 4
        }
      ]
    },
    {
      "cell_type": "code",
      "metadata": {
        "colab": {
          "base_uri": "https://localhost:8080/"
        },
        "id": "JG2ugHDzJMU2",
        "outputId": "4d881cc5-f6fc-4f63-8215-0de35cb6cc24"
      },
      "source": [
        "df.shape"
      ],
      "execution_count": null,
      "outputs": [
        {
          "output_type": "execute_result",
          "data": {
            "text/plain": [
              "(365, 6)"
            ]
          },
          "metadata": {
            "tags": []
          },
          "execution_count": 5
        }
      ]
    },
    {
      "cell_type": "code",
      "metadata": {
        "id": "XqUh-rvjJN0f"
      },
      "source": [
        "info_df = df.describe()"
      ],
      "execution_count": null,
      "outputs": []
    },
    {
      "cell_type": "code",
      "metadata": {
        "colab": {
          "base_uri": "https://localhost:8080/",
          "height": 284
        },
        "id": "ODMpxxr9KUFA",
        "outputId": "f7279858-c88e-4f25-c5df-53e8473bfa78"
      },
      "source": [
        "info_df"
      ],
      "execution_count": null,
      "outputs": [
        {
          "output_type": "execute_result",
          "data": {
            "text/html": [
              "<div>\n",
              "<style scoped>\n",
              "    .dataframe tbody tr th:only-of-type {\n",
              "        vertical-align: middle;\n",
              "    }\n",
              "\n",
              "    .dataframe tbody tr th {\n",
              "        vertical-align: top;\n",
              "    }\n",
              "\n",
              "    .dataframe thead th {\n",
              "        text-align: right;\n",
              "    }\n",
              "</style>\n",
              "<table border=\"1\" class=\"dataframe\">\n",
              "  <thead>\n",
              "    <tr style=\"text-align: right;\">\n",
              "      <th></th>\n",
              "      <th>Berri1</th>\n",
              "      <th>Maisonneuve_1</th>\n",
              "      <th>Maisonneuve_2</th>\n",
              "      <th>Brebeuf</th>\n",
              "    </tr>\n",
              "  </thead>\n",
              "  <tbody>\n",
              "    <tr>\n",
              "      <th>count</th>\n",
              "      <td>365.000000</td>\n",
              "      <td>365.000000</td>\n",
              "      <td>365.000000</td>\n",
              "      <td>178.000000</td>\n",
              "    </tr>\n",
              "    <tr>\n",
              "      <th>mean</th>\n",
              "      <td>2032.200000</td>\n",
              "      <td>1060.252055</td>\n",
              "      <td>2093.169863</td>\n",
              "      <td>2576.359551</td>\n",
              "    </tr>\n",
              "    <tr>\n",
              "      <th>std</th>\n",
              "      <td>1878.879799</td>\n",
              "      <td>1079.533086</td>\n",
              "      <td>1854.368523</td>\n",
              "      <td>2484.004743</td>\n",
              "    </tr>\n",
              "    <tr>\n",
              "      <th>min</th>\n",
              "      <td>0.000000</td>\n",
              "      <td>0.000000</td>\n",
              "      <td>0.000000</td>\n",
              "      <td>0.000000</td>\n",
              "    </tr>\n",
              "    <tr>\n",
              "      <th>25%</th>\n",
              "      <td>194.000000</td>\n",
              "      <td>90.000000</td>\n",
              "      <td>228.000000</td>\n",
              "      <td>0.000000</td>\n",
              "    </tr>\n",
              "    <tr>\n",
              "      <th>50%</th>\n",
              "      <td>1726.000000</td>\n",
              "      <td>678.000000</td>\n",
              "      <td>1686.000000</td>\n",
              "      <td>1443.500000</td>\n",
              "    </tr>\n",
              "    <tr>\n",
              "      <th>75%</th>\n",
              "      <td>3540.000000</td>\n",
              "      <td>1882.000000</td>\n",
              "      <td>3520.000000</td>\n",
              "      <td>4638.000000</td>\n",
              "    </tr>\n",
              "    <tr>\n",
              "      <th>max</th>\n",
              "      <td>6626.000000</td>\n",
              "      <td>4242.000000</td>\n",
              "      <td>6587.000000</td>\n",
              "      <td>7575.000000</td>\n",
              "    </tr>\n",
              "  </tbody>\n",
              "</table>\n",
              "</div>"
            ],
            "text/plain": [
              "            Berri1  Maisonneuve_1  Maisonneuve_2      Brebeuf\n",
              "count   365.000000     365.000000     365.000000   178.000000\n",
              "mean   2032.200000    1060.252055    2093.169863  2576.359551\n",
              "std    1878.879799    1079.533086    1854.368523  2484.004743\n",
              "min       0.000000       0.000000       0.000000     0.000000\n",
              "25%     194.000000      90.000000     228.000000     0.000000\n",
              "50%    1726.000000     678.000000    1686.000000  1443.500000\n",
              "75%    3540.000000    1882.000000    3520.000000  4638.000000\n",
              "max    6626.000000    4242.000000    6587.000000  7575.000000"
            ]
          },
          "metadata": {
            "tags": []
          },
          "execution_count": 15
        }
      ]
    },
    {
      "cell_type": "code",
      "metadata": {
        "colab": {
          "base_uri": "https://localhost:8080/"
        },
        "id": "O_NcWMhtn_tX",
        "outputId": "eb417bb5-f39c-4abe-cf58-90ef8c600bb0"
      },
      "source": [
        "df.columns"
      ],
      "execution_count": null,
      "outputs": [
        {
          "output_type": "execute_result",
          "data": {
            "text/plain": [
              "Index(['Date', 'Unnamed: 1', 'Berri1', 'Maisonneuve_1', 'Maisonneuve_2',\n",
              "       'Brebeuf'],\n",
              "      dtype='object')"
            ]
          },
          "metadata": {
            "tags": []
          },
          "execution_count": 17
        }
      ]
    },
    {
      "cell_type": "code",
      "metadata": {
        "id": "i9Hg3I-8nwUG"
      },
      "source": [
        "del df[\"Unnamed: 1\"]"
      ],
      "execution_count": null,
      "outputs": []
    },
    {
      "cell_type": "code",
      "metadata": {
        "colab": {
          "base_uri": "https://localhost:8080/"
        },
        "id": "7zUMDCLholBU",
        "outputId": "39e4397e-8161-4eeb-8694-55c69692a9d6"
      },
      "source": [
        "df.info()"
      ],
      "execution_count": null,
      "outputs": [
        {
          "output_type": "stream",
          "text": [
            "<class 'pandas.core.frame.DataFrame'>\n",
            "RangeIndex: 365 entries, 0 to 364\n",
            "Data columns (total 5 columns):\n",
            " #   Column         Non-Null Count  Dtype  \n",
            "---  ------         --------------  -----  \n",
            " 0   Date           365 non-null    object \n",
            " 1   Berri1         365 non-null    int64  \n",
            " 2   Maisonneuve_1  365 non-null    int64  \n",
            " 3   Maisonneuve_2  365 non-null    int64  \n",
            " 4   Brebeuf        178 non-null    float64\n",
            "dtypes: float64(1), int64(3), object(1)\n",
            "memory usage: 14.4+ KB\n"
          ],
          "name": "stdout"
        }
      ]
    },
    {
      "cell_type": "code",
      "metadata": {
        "colab": {
          "base_uri": "https://localhost:8080/"
        },
        "id": "X-vWemGuoeWH",
        "outputId": "977e4ea1-7c5c-4acd-e1ab-aeaa6d91383b"
      },
      "source": [
        "for col in df.columns:\n",
        "  tf = pd.isnull(df[col])\n",
        "  tf1 = ~tf\n",
        "  print(tf1.sum())\n",
        "\n",
        "\n"
      ],
      "execution_count": null,
      "outputs": [
        {
          "output_type": "stream",
          "text": [
            "365\n",
            "365\n",
            "365\n",
            "365\n",
            "178\n"
          ],
          "name": "stdout"
        }
      ]
    },
    {
      "cell_type": "code",
      "metadata": {
        "colab": {
          "base_uri": "https://localhost:8080/"
        },
        "id": "xYWgEb-IpRMV",
        "outputId": "51414b6d-4cee-4629-ae0d-8e34d20ac165"
      },
      "source": [
        "tf = pd.isnull(df[col])\n",
        "\n",
        "tf1 = ~tf\n",
        "tf1.sum()"
      ],
      "execution_count": null,
      "outputs": [
        {
          "output_type": "execute_result",
          "data": {
            "text/plain": [
              "178"
            ]
          },
          "metadata": {
            "tags": []
          },
          "execution_count": 46
        }
      ]
    },
    {
      "cell_type": "code",
      "metadata": {
        "colab": {
          "base_uri": "https://localhost:8080/"
        },
        "id": "JMlM2LgMo8RP",
        "outputId": "0706c1a2-fc5b-4f36-d59d-02cf5498a51f"
      },
      "source": [
        "cantindadnull = (~tf).sum()\n",
        "print(cantindadnull)"
      ],
      "execution_count": null,
      "outputs": [
        {
          "output_type": "stream",
          "text": [
            "178\n"
          ],
          "name": "stdout"
        }
      ]
    },
    {
      "cell_type": "code",
      "metadata": {
        "colab": {
          "base_uri": "https://localhost:8080/"
        },
        "id": "ytlKOvIOoMtr",
        "outputId": "5d18da34-0e15-43f5-8374-dd3d0a0c5607"
      },
      "source": [
        "v  for i in tf:\n",
        "\n",
        "  print(col)"
      ],
      "execution_count": null,
      "outputs": [
        {
          "output_type": "stream",
          "text": [
            "Date\n",
            "Berri1\n",
            "Maisonneuve_1\n",
            "Maisonneuve_2\n",
            "Brebeuf\n"
          ],
          "name": "stdout"
        }
      ]
    },
    {
      "cell_type": "code",
      "metadata": {
        "colab": {
          "base_uri": "https://localhost:8080/"
        },
        "id": "9ZMYlwmjKsGy",
        "outputId": "6c7c008a-7616-4ba4-d19a-0a9c7950b1dc"
      },
      "source": [
        "print(info_df.loc[\"count\", \"Berri1\"])\n",
        "print(info_df.loc[\"count\", \"Maisonneuve_1\"])"
      ],
      "execution_count": null,
      "outputs": [
        {
          "output_type": "stream",
          "text": [
            "365.0\n",
            "365.0\n"
          ],
          "name": "stdout"
        }
      ]
    },
    {
      "cell_type": "code",
      "metadata": {
        "colab": {
          "base_uri": "https://localhost:8080/"
        },
        "id": "pMkWNfdILLrP",
        "outputId": "f3da1f03-dbd2-43c0-f73d-def58e889e7b"
      },
      "source": [
        "lista = [\"count\", \"mean\"]\n",
        "\n",
        "for l in lista:\n",
        "\n",
        "  for col in info_df.columns:\n",
        "\n",
        "    contador_registros = info_df.loc[l , col]\n",
        "    \n",
        "    print(contador_registros)"
      ],
      "execution_count": null,
      "outputs": [
        {
          "output_type": "stream",
          "text": [
            "365.0\n",
            "365.0\n",
            "365.0\n",
            "178.0\n",
            "2032.2\n",
            "1060.2520547945205\n",
            "2093.1698630136984\n",
            "2576.3595505617977\n"
          ],
          "name": "stdout"
        }
      ]
    },
    {
      "cell_type": "code",
      "metadata": {
        "colab": {
          "base_uri": "https://localhost:8080/"
        },
        "id": "7WZHcGO9Lq14",
        "outputId": "29955f38-a84c-428c-95f5-35e6b7b65055"
      },
      "source": [
        "type(df.count())"
      ],
      "execution_count": null,
      "outputs": [
        {
          "output_type": "execute_result",
          "data": {
            "text/plain": [
              "pandas.core.series.Series"
            ]
          },
          "metadata": {
            "tags": []
          },
          "execution_count": 11
        }
      ]
    },
    {
      "cell_type": "code",
      "metadata": {
        "id": "fcisXKL-MbJo"
      },
      "source": [
        "tf = pd.isnull(df[\"Brebeuf\"])"
      ],
      "execution_count": null,
      "outputs": []
    },
    {
      "cell_type": "code",
      "metadata": {
        "colab": {
          "base_uri": "https://localhost:8080/"
        },
        "id": "isB0D3eLNOGg",
        "outputId": "394cc4c4-5a28-4553-939b-ef586851135a"
      },
      "source": [
        "df.Brebeuf[~tf]"
      ],
      "execution_count": null,
      "outputs": [
        {
          "output_type": "execute_result",
          "data": {
            "text/plain": [
              "187    2156.0\n",
              "188    4548.0\n",
              "189    7575.0\n",
              "190    7268.0\n",
              "191    2320.0\n",
              "        ...  \n",
              "360       0.0\n",
              "361       0.0\n",
              "362       0.0\n",
              "363       0.0\n",
              "364       0.0\n",
              "Name: Brebeuf, Length: 178, dtype: float64"
            ]
          },
          "metadata": {
            "tags": []
          },
          "execution_count": 13
        }
      ]
    },
    {
      "cell_type": "code",
      "metadata": {
        "colab": {
          "base_uri": "https://localhost:8080/"
        },
        "id": "Ty3VCw1xMt9L",
        "outputId": "898c5f99-468f-47b2-ded9-cdbec081814f"
      },
      "source": [
        "tf"
      ],
      "execution_count": null,
      "outputs": [
        {
          "output_type": "execute_result",
          "data": {
            "text/plain": [
              "0       True\n",
              "1       True\n",
              "2       True\n",
              "3       True\n",
              "4       True\n",
              "       ...  \n",
              "360    False\n",
              "361    False\n",
              "362    False\n",
              "363    False\n",
              "364    False\n",
              "Name: Brebeuf, Length: 365, dtype: bool"
            ]
          },
          "metadata": {
            "tags": []
          },
          "execution_count": 14
        }
      ]
    },
    {
      "cell_type": "code",
      "metadata": {
        "colab": {
          "base_uri": "https://localhost:8080/"
        },
        "id": "91QYUpDhNFuF",
        "outputId": "aa2ca4e1-0635-4062-e808-459ac37c8314"
      },
      "source": [
        "df.columns"
      ],
      "execution_count": null,
      "outputs": [
        {
          "output_type": "execute_result",
          "data": {
            "text/plain": [
              "Index(['Date', 'Unnamed: 1', 'Berri1', 'Maisonneuve_1', 'Maisonneuve_2',\n",
              "       'Brebeuf'],\n",
              "      dtype='object')"
            ]
          },
          "metadata": {
            "tags": []
          },
          "execution_count": 15
        }
      ]
    },
    {
      "cell_type": "code",
      "metadata": {
        "id": "mAZbwhLnNrR5"
      },
      "source": [
        "df = df.drop('Unnamed: 1', axis = 1)"
      ],
      "execution_count": null,
      "outputs": []
    },
    {
      "cell_type": "code",
      "metadata": {
        "id": "UbWL-dLfNze-"
      },
      "source": [
        "del df[\"Date\"]"
      ],
      "execution_count": null,
      "outputs": []
    },
    {
      "cell_type": "code",
      "metadata": {
        "colab": {
          "base_uri": "https://localhost:8080/",
          "height": 419
        },
        "id": "byllvr_5OL-D",
        "outputId": "8900805d-7dd9-41ff-84b3-b1e9812bac5b"
      },
      "source": [
        "df"
      ],
      "execution_count": null,
      "outputs": [
        {
          "output_type": "execute_result",
          "data": {
            "text/html": [
              "<div>\n",
              "<style scoped>\n",
              "    .dataframe tbody tr th:only-of-type {\n",
              "        vertical-align: middle;\n",
              "    }\n",
              "\n",
              "    .dataframe tbody tr th {\n",
              "        vertical-align: top;\n",
              "    }\n",
              "\n",
              "    .dataframe thead th {\n",
              "        text-align: right;\n",
              "    }\n",
              "</style>\n",
              "<table border=\"1\" class=\"dataframe\">\n",
              "  <thead>\n",
              "    <tr style=\"text-align: right;\">\n",
              "      <th></th>\n",
              "      <th>Berri1</th>\n",
              "      <th>Maisonneuve_1</th>\n",
              "      <th>Maisonneuve_2</th>\n",
              "      <th>Brebeuf</th>\n",
              "    </tr>\n",
              "  </thead>\n",
              "  <tbody>\n",
              "    <tr>\n",
              "      <th>0</th>\n",
              "      <td>29</td>\n",
              "      <td>20</td>\n",
              "      <td>35</td>\n",
              "      <td>NaN</td>\n",
              "    </tr>\n",
              "    <tr>\n",
              "      <th>1</th>\n",
              "      <td>19</td>\n",
              "      <td>3</td>\n",
              "      <td>22</td>\n",
              "      <td>NaN</td>\n",
              "    </tr>\n",
              "    <tr>\n",
              "      <th>2</th>\n",
              "      <td>24</td>\n",
              "      <td>12</td>\n",
              "      <td>22</td>\n",
              "      <td>NaN</td>\n",
              "    </tr>\n",
              "    <tr>\n",
              "      <th>3</th>\n",
              "      <td>24</td>\n",
              "      <td>8</td>\n",
              "      <td>15</td>\n",
              "      <td>NaN</td>\n",
              "    </tr>\n",
              "    <tr>\n",
              "      <th>4</th>\n",
              "      <td>120</td>\n",
              "      <td>111</td>\n",
              "      <td>141</td>\n",
              "      <td>NaN</td>\n",
              "    </tr>\n",
              "    <tr>\n",
              "      <th>...</th>\n",
              "      <td>...</td>\n",
              "      <td>...</td>\n",
              "      <td>...</td>\n",
              "      <td>...</td>\n",
              "    </tr>\n",
              "    <tr>\n",
              "      <th>360</th>\n",
              "      <td>66</td>\n",
              "      <td>29</td>\n",
              "      <td>52</td>\n",
              "      <td>0.0</td>\n",
              "    </tr>\n",
              "    <tr>\n",
              "      <th>361</th>\n",
              "      <td>61</td>\n",
              "      <td>41</td>\n",
              "      <td>99</td>\n",
              "      <td>0.0</td>\n",
              "    </tr>\n",
              "    <tr>\n",
              "      <th>362</th>\n",
              "      <td>89</td>\n",
              "      <td>52</td>\n",
              "      <td>115</td>\n",
              "      <td>0.0</td>\n",
              "    </tr>\n",
              "    <tr>\n",
              "      <th>363</th>\n",
              "      <td>76</td>\n",
              "      <td>43</td>\n",
              "      <td>115</td>\n",
              "      <td>0.0</td>\n",
              "    </tr>\n",
              "    <tr>\n",
              "      <th>364</th>\n",
              "      <td>53</td>\n",
              "      <td>46</td>\n",
              "      <td>112</td>\n",
              "      <td>0.0</td>\n",
              "    </tr>\n",
              "  </tbody>\n",
              "</table>\n",
              "<p>365 rows × 4 columns</p>\n",
              "</div>"
            ],
            "text/plain": [
              "     Berri1  Maisonneuve_1  Maisonneuve_2  Brebeuf\n",
              "0        29             20             35      NaN\n",
              "1        19              3             22      NaN\n",
              "2        24             12             22      NaN\n",
              "3        24              8             15      NaN\n",
              "4       120            111            141      NaN\n",
              "..      ...            ...            ...      ...\n",
              "360      66             29             52      0.0\n",
              "361      61             41             99      0.0\n",
              "362      89             52            115      0.0\n",
              "363      76             43            115      0.0\n",
              "364      53             46            112      0.0\n",
              "\n",
              "[365 rows x 4 columns]"
            ]
          },
          "metadata": {
            "tags": []
          },
          "execution_count": 18
        }
      ]
    },
    {
      "cell_type": "code",
      "metadata": {
        "colab": {
          "base_uri": "https://localhost:8080/"
        },
        "id": "23zMInokOf06",
        "outputId": "12abbb7e-901d-41e0-94db-f0fb4c368e6b"
      },
      "source": [
        "df.memory_usage()"
      ],
      "execution_count": null,
      "outputs": [
        {
          "output_type": "execute_result",
          "data": {
            "text/plain": [
              "Index             128\n",
              "Berri1           2920\n",
              "Maisonneuve_1    2920\n",
              "Maisonneuve_2    2920\n",
              "Brebeuf          2920\n",
              "dtype: int64"
            ]
          },
          "metadata": {
            "tags": []
          },
          "execution_count": 19
        }
      ]
    },
    {
      "cell_type": "code",
      "metadata": {
        "id": "RDVK98SPOsBu"
      },
      "source": [
        "def problema1(path):\n",
        "  df = pd.read_csv(path)\n",
        "  cantidad_columnas = len(df.columns)\n",
        "  nombre = df.columns\n",
        "  registros = df.shape[0]\n",
        "  #memory = \n",
        "\n",
        "\n",
        "  diccionario = {\"cantidad_columnas\":cantidad_columnas, \"nombre_columnas\": nombre}\n",
        "\n",
        "#  lista =  cantidad_columnas, nombre, registros, memory\n",
        "  return diccionario"
      ],
      "execution_count": null,
      "outputs": []
    },
    {
      "cell_type": "code",
      "metadata": {
        "id": "eZHQpZhXPkfn"
      },
      "source": [
        "q = problema1(path)"
      ],
      "execution_count": null,
      "outputs": []
    },
    {
      "cell_type": "code",
      "metadata": {
        "id": "M0KozQSBPn8Z"
      },
      "source": [
        "from google.colab import files\n",
        "from IPython.display import Image\n",
        "#uploaded = files.upload() #Dar la direccion para cargar el archivo planetarios.png\n"
      ],
      "execution_count": null,
      "outputs": []
    },
    {
      "cell_type": "code",
      "metadata": {
        "colab": {
          "base_uri": "https://localhost:8080/"
        },
        "id": "XK8ecTcXSdRE",
        "outputId": "06f182c0-2e0e-4c4f-fbd7-9e26f678e1f3"
      },
      "source": [
        "!ls"
      ],
      "execution_count": null,
      "outputs": [
        {
          "output_type": "stream",
          "text": [
            "sample_data\n"
          ],
          "name": "stdout"
        }
      ]
    },
    {
      "cell_type": "code",
      "metadata": {
        "id": "_echORk2SGk3"
      },
      "source": [
        "path=\"https://docs.google.com/spreadsheets/d/e/2PACX-1vQqCpt9ad3JYNclQrdwHtqJVnMlMyNHI-p176ceLZSIZxK9aacD5xaCE3M5oItoTQOjsgm7aEXXW-V0/pub?output=csv\"\n",
        "df = pd.read_csv(path)"
      ],
      "execution_count": null,
      "outputs": []
    },
    {
      "cell_type": "code",
      "metadata": {
        "colab": {
          "base_uri": "https://localhost:8080/",
          "height": 402
        },
        "id": "fppTBj7TUPmr",
        "outputId": "7f3a99a4-7757-4611-bc33-1afa7e5de685"
      },
      "source": [
        "df"
      ],
      "execution_count": null,
      "outputs": [
        {
          "output_type": "execute_result",
          "data": {
            "text/html": [
              "<div>\n",
              "<style scoped>\n",
              "    .dataframe tbody tr th:only-of-type {\n",
              "        vertical-align: middle;\n",
              "    }\n",
              "\n",
              "    .dataframe tbody tr th {\n",
              "        vertical-align: top;\n",
              "    }\n",
              "\n",
              "    .dataframe thead th {\n",
              "        text-align: right;\n",
              "    }\n",
              "</style>\n",
              "<table border=\"1\" class=\"dataframe\">\n",
              "  <thead>\n",
              "    <tr style=\"text-align: right;\">\n",
              "      <th></th>\n",
              "      <th>Unnamed: 0</th>\n",
              "      <th>Primary Type</th>\n",
              "      <th>Date</th>\n",
              "    </tr>\n",
              "  </thead>\n",
              "  <tbody>\n",
              "    <tr>\n",
              "      <th>0</th>\n",
              "      <td>0</td>\n",
              "      <td>DECEPTIVE PRACTICE</td>\n",
              "      <td>09/24/2019 8:00:00 AM</td>\n",
              "    </tr>\n",
              "    <tr>\n",
              "      <th>1</th>\n",
              "      <td>1</td>\n",
              "      <td>THEFT</td>\n",
              "      <td>10/13/2019 8:30:00 PM</td>\n",
              "    </tr>\n",
              "    <tr>\n",
              "      <th>2</th>\n",
              "      <td>2</td>\n",
              "      <td>THEFT</td>\n",
              "      <td>10/05/2019 6:30:00 PM</td>\n",
              "    </tr>\n",
              "    <tr>\n",
              "      <th>3</th>\n",
              "      <td>3</td>\n",
              "      <td>CRIMINAL DAMAGE</td>\n",
              "      <td>10/13/2019 7:00:00 PM</td>\n",
              "    </tr>\n",
              "    <tr>\n",
              "      <th>4</th>\n",
              "      <td>4</td>\n",
              "      <td>ASSAULT</td>\n",
              "      <td>10/13/2019 2:10:00 PM</td>\n",
              "    </tr>\n",
              "    <tr>\n",
              "      <th>...</th>\n",
              "      <td>...</td>\n",
              "      <td>...</td>\n",
              "      <td>...</td>\n",
              "    </tr>\n",
              "    <tr>\n",
              "      <th>995</th>\n",
              "      <td>995</td>\n",
              "      <td>OTHER OFFENSE</td>\n",
              "      <td>10/14/2019 10:47:00 PM</td>\n",
              "    </tr>\n",
              "    <tr>\n",
              "      <th>996</th>\n",
              "      <td>996</td>\n",
              "      <td>BATTERY</td>\n",
              "      <td>10/14/2019 4:00:00 AM</td>\n",
              "    </tr>\n",
              "    <tr>\n",
              "      <th>997</th>\n",
              "      <td>997</td>\n",
              "      <td>THEFT</td>\n",
              "      <td>10/14/2019 10:25:00 AM</td>\n",
              "    </tr>\n",
              "    <tr>\n",
              "      <th>998</th>\n",
              "      <td>998</td>\n",
              "      <td>THEFT</td>\n",
              "      <td>10/14/2019 7:00:00 PM</td>\n",
              "    </tr>\n",
              "    <tr>\n",
              "      <th>999</th>\n",
              "      <td>999</td>\n",
              "      <td>ROBBERY</td>\n",
              "      <td>10/14/2019 4:10:00 PM</td>\n",
              "    </tr>\n",
              "  </tbody>\n",
              "</table>\n",
              "<p>1000 rows × 3 columns</p>\n",
              "</div>"
            ],
            "text/plain": [
              "     Unnamed: 0        Primary Type                    Date\n",
              "0             0  DECEPTIVE PRACTICE   09/24/2019 8:00:00 AM\n",
              "1             1               THEFT   10/13/2019 8:30:00 PM\n",
              "2             2               THEFT   10/05/2019 6:30:00 PM\n",
              "3             3     CRIMINAL DAMAGE   10/13/2019 7:00:00 PM\n",
              "4             4             ASSAULT   10/13/2019 2:10:00 PM\n",
              "..          ...                 ...                     ...\n",
              "995         995       OTHER OFFENSE  10/14/2019 10:47:00 PM\n",
              "996         996             BATTERY   10/14/2019 4:00:00 AM\n",
              "997         997               THEFT  10/14/2019 10:25:00 AM\n",
              "998         998               THEFT   10/14/2019 7:00:00 PM\n",
              "999         999             ROBBERY   10/14/2019 4:10:00 PM\n",
              "\n",
              "[1000 rows x 3 columns]"
            ]
          },
          "metadata": {
            "tags": []
          },
          "execution_count": 95
        }
      ]
    },
    {
      "cell_type": "code",
      "metadata": {
        "id": "3GzHjfd2U4sg"
      },
      "source": [
        "tf = df[\"Primary Type\"] == \"THEFT\""
      ],
      "execution_count": null,
      "outputs": []
    },
    {
      "cell_type": "code",
      "metadata": {
        "colab": {
          "base_uri": "https://localhost:8080/"
        },
        "id": "dVFm02QDVCc4",
        "outputId": "a460e9ed-baca-4e32-87f2-5016b9e1344d"
      },
      "source": [
        "df[tf][\"Primary Type\"].count()"
      ],
      "execution_count": null,
      "outputs": [
        {
          "output_type": "execute_result",
          "data": {
            "text/plain": [
              "296"
            ]
          },
          "metadata": {
            "tags": []
          },
          "execution_count": 28
        }
      ]
    },
    {
      "cell_type": "code",
      "metadata": {
        "id": "D6gaEX4XVZ_T"
      },
      "source": [
        "pd.to_datetime?"
      ],
      "execution_count": null,
      "outputs": []
    },
    {
      "cell_type": "code",
      "metadata": {
        "id": "TCmhDHK4VK3e"
      },
      "source": [
        "df.Date = pd.to_datetime(df.Date, format=\"%m/%d/%Y %I:%M:%S %p\")"
      ],
      "execution_count": null,
      "outputs": []
    },
    {
      "cell_type": "code",
      "metadata": {
        "id": "SGzYSD-2VodG",
        "colab": {
          "base_uri": "https://localhost:8080/"
        },
        "outputId": "4fd43151-0ba2-4633-e14c-22fe0c3ad548"
      },
      "source": [
        "df.Date[2]"
      ],
      "execution_count": null,
      "outputs": [
        {
          "output_type": "execute_result",
          "data": {
            "text/plain": [
              "Timestamp('2019-10-05 18:30:00')"
            ]
          },
          "metadata": {
            "tags": []
          },
          "execution_count": 103
        }
      ]
    },
    {
      "cell_type": "code",
      "metadata": {
        "colab": {
          "base_uri": "https://localhost:8080/"
        },
        "id": "X5u11TN8WCoV",
        "outputId": "0e288bc9-cb7b-48cc-c8c2-d791ae50495b"
      },
      "source": [
        "datetime.datetime.now()"
      ],
      "execution_count": null,
      "outputs": [
        {
          "output_type": "execute_result",
          "data": {
            "text/plain": [
              "datetime.datetime(2021, 4, 9, 13, 6, 19, 181378)"
            ]
          },
          "metadata": {
            "tags": []
          },
          "execution_count": 73
        }
      ]
    },
    {
      "cell_type": "code",
      "metadata": {
        "id": "GgNFEWXNYjVC"
      },
      "source": [
        ""
      ],
      "execution_count": null,
      "outputs": []
    },
    {
      "cell_type": "code",
      "metadata": {
        "id": "JMRqunKrWH0S"
      },
      "source": [
        "datos_info = df.groupby(\"Primary Type\").Date.count().sort_values(ascending = True)"
      ],
      "execution_count": null,
      "outputs": []
    },
    {
      "cell_type": "code",
      "metadata": {
        "colab": {
          "base_uri": "https://localhost:8080/"
        },
        "id": "gJNTexOhZQLk",
        "outputId": "8b9391b0-64ac-49f3-83eb-203d1264b225"
      },
      "source": [
        "datos_info"
      ],
      "execution_count": null,
      "outputs": [
        {
          "output_type": "execute_result",
          "data": {
            "text/plain": [
              "Primary Type\n",
              "STALKING                               1\n",
              "CONCEALED CARRY LICENSE VIOLATION      1\n",
              "LIQUOR LAW VIOLATION                   2\n",
              "PROSTITUTION                           2\n",
              "SEX OFFENSE                            3\n",
              "ARSON                                  3\n",
              "OFFENSE INVOLVING CHILDREN             4\n",
              "PUBLIC PEACE VIOLATION                 4\n",
              "CRIM SEXUAL ASSAULT                    4\n",
              "CRIMINAL SEXUAL ASSAULT                5\n",
              "INTERFERENCE WITH PUBLIC OFFICER       6\n",
              "CRIMINAL TRESPASS                     20\n",
              "WEAPONS VIOLATION                     23\n",
              "ROBBERY                               26\n",
              "BURGLARY                              28\n",
              "MOTOR VEHICLE THEFT                   29\n",
              "NARCOTICS                             37\n",
              "ASSAULT                               63\n",
              "OTHER OFFENSE                         65\n",
              "DECEPTIVE PRACTICE                    84\n",
              "CRIMINAL DAMAGE                      112\n",
              "BATTERY                              182\n",
              "THEFT                                296\n",
              "Name: Date, dtype: int64"
            ]
          },
          "metadata": {
            "tags": []
          },
          "execution_count": 34
        }
      ]
    },
    {
      "cell_type": "code",
      "metadata": {
        "colab": {
          "base_uri": "https://localhost:8080/"
        },
        "id": "I6PUVr1rZOOI",
        "outputId": "d505a27a-fc20-4dc9-f653-9d97b0ea7064"
      },
      "source": [
        "datos_info"
      ],
      "execution_count": null,
      "outputs": [
        {
          "output_type": "execute_result",
          "data": {
            "text/plain": [
              "Primary Type\n",
              "STALKING                               1\n",
              "CONCEALED CARRY LICENSE VIOLATION      1\n",
              "LIQUOR LAW VIOLATION                   2\n",
              "PROSTITUTION                           2\n",
              "SEX OFFENSE                            3\n",
              "ARSON                                  3\n",
              "OFFENSE INVOLVING CHILDREN             4\n",
              "PUBLIC PEACE VIOLATION                 4\n",
              "CRIM SEXUAL ASSAULT                    4\n",
              "CRIMINAL SEXUAL ASSAULT                5\n",
              "INTERFERENCE WITH PUBLIC OFFICER       6\n",
              "CRIMINAL TRESPASS                     20\n",
              "WEAPONS VIOLATION                     23\n",
              "ROBBERY                               26\n",
              "BURGLARY                              28\n",
              "MOTOR VEHICLE THEFT                   29\n",
              "NARCOTICS                             37\n",
              "ASSAULT                               63\n",
              "OTHER OFFENSE                         65\n",
              "DECEPTIVE PRACTICE                    84\n",
              "CRIMINAL DAMAGE                      112\n",
              "BATTERY                              182\n",
              "THEFT                                296\n",
              "Name: Date, dtype: int64"
            ]
          },
          "metadata": {
            "tags": []
          },
          "execution_count": 35
        }
      ]
    },
    {
      "cell_type": "code",
      "metadata": {
        "id": "O4SNjo2JXTwN"
      },
      "source": [
        "datos_info=datos_info.reset_index()"
      ],
      "execution_count": null,
      "outputs": []
    },
    {
      "cell_type": "code",
      "metadata": {
        "id": "TcnwoPZ9XfvM"
      },
      "source": [
        "datos_info = datos_info.rename(columns={\"Date\":\"Contador\"})"
      ],
      "execution_count": null,
      "outputs": []
    },
    {
      "cell_type": "code",
      "metadata": {
        "id": "ud6imI8sYGTo"
      },
      "source": [
        "import seaborn as sns"
      ],
      "execution_count": null,
      "outputs": []
    },
    {
      "cell_type": "code",
      "metadata": {
        "colab": {
          "base_uri": "https://localhost:8080/",
          "height": 279
        },
        "id": "oaZU__5OWycH",
        "outputId": "977e05b7-c4da-4473-81be-2776d8b0e63f"
      },
      "source": [
        "ax = sns.barplot(x = \"Contador\", y=\"Primary Type\", data = datos_info)"
      ],
      "execution_count": null,
      "outputs": [
        {
          "output_type": "display_data",
          "data": {
            "image/png": "[encoded data removed]",
            "text/plain": [
              "<Figure size 432x288 with 1 Axes>"
            ]
          },
          "metadata": {
            "tags": [],
            "needs_background": "light"
          }
        }
      ]
    },
    {
      "cell_type": "markdown",
      "metadata": {
        "id": "kEfWIutYWZf2"
      },
      "source": [
        "# Problema 1.\n",
        "\n",
        "Usando el set `PS4_1.csv`, convertir la serie `Date` en el indice (serie de tiempo) y eliminar la serie `Unnamed: 1` (generado por pandas), retornar un  diccionario con en el siguiente orden:\n",
        "\n",
        "* cantidad de columnas\n",
        "* Nombre de las columnas\n",
        "* número de registros no NaN de cada columna\n",
        "* cantidad total de memoria usada para cargar el dataset en el computador ,( df.memory_usage() )\n",
        "* Estadistica basica para cada columna, media, desviacion estandar, maximo\n",
        "* Remplazar los NaN por None\n",
        "\n",
        "\n",
        "# Problema 2\n",
        "\n",
        "Realizar la lectura del data frame \"Crimes_-_2019.csv\" asociado a los crimenes que se presentaron en Chicago en el 2019. \n",
        "\n",
        "\n",
        "1. Ver la estadistica general del data frame.\n",
        "2. Dejar las columnas PrimaryType, y Date.\n",
        "3. Transformar la columna Date que es tipo string en una tipo Fecha, use el siguiente metodo de pandas pd.to_datetime(df.Date,format=\"%m/%d/%Y %I:%M:%S %p\").\n",
        "4. Mostrar los casos totales para cada tipo de crimen de forma ascendente, emplee:\n",
        "   df.groupby(columna).Date.count()\n",
        "   \n",
        "   sort_values()\n",
        "5. Ordenar los valores por orden alfabetico de Primary type\n",
        "6. Mostrar de la fila 100 a la 120\n",
        "6. Realizar una visualización de los datos anteriores.Emplee la libreria  seaborn con un grafico tipo barplot. Ej.\n",
        "   ax = sns.barplot(x = \"contador\", y=\"Primary Type\", data = datos)\n",
        "\n",
        "\n",
        "\n",
        "\n",
        "# Problema 3\n",
        "\n",
        "1. Leer el dataset country_vaccinations.csv  y filtrar los datos para Colombia\n",
        "2. Crear un csv con los datos para colombia\n",
        "3. Realizar una comparacion con los paises latinoamericanos. \n",
        "4. A traves de mascaras determinar el numero de vacunados en el intervalo  [1.5E6, 2.0E6]\n"
      ]
    }
  ]
}