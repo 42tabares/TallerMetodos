{
  "nbformat": 4,
  "nbformat_minor": 0,
  "metadata": {
    "colab": {
      "name": "Tarea09_MatricesBasico.ipynb",
      "provenance": []
    },
    "kernelspec": {
      "name": "python3",
      "display_name": "Python 3"
    },
    "language_info": {
      "name": "python"
    }
  },
  "cells": [
    {
      "cell_type": "code",
      "metadata": {
        "id": "SLdKgj2limVH"
      },
      "source": [
        ""
      ],
      "execution_count": null,
      "outputs": []
    },
    {
      "cell_type": "markdown",
      "metadata": {
        "id": "pKmGWUKqNOnY"
      },
      "source": [
        "\n",
        "Se sabe que un sistema físico es gobernado por las ecuaciones,\n",
        "\n",
        "\n",
        "\n",
        "$$\n",
        "\\begin{matrix}\n",
        "x' &=& 2x&-y&+z, \\\\\n",
        "y' &=&   &3y&-1z, \\\\\n",
        "z' &=& 2x&+y&+3z,\n",
        "\\end{matrix}\n",
        "$$\n",
        "\n",
        "donde $x',y',z'$ son las derivadas, en forma vectorial esto se puede representar como $\\mathbf{r}'=A\\mathbf{r}$ que tiene solución analítica general, $\\mathbf{r} = e^{At} \\mathbf{r}(0)$.<br> \n",
        "a) Diagonalize $A$.<br> \n",
        "\n",
        "b) Use el hecho de que $f(A) = U f(D) U^{-1}$ para encontrar $x(t),y(t),z(t)$ en el intervalo de tiempo $[0,2]$.<br>.\n",
        "c) Grafique $x(t),y(t),z(t)$ (use la condición inicial $\\mathbf{r}(0)=(1,1,2))$.<br> \n",
        "d) Compare el resultado a la solución analítica,\n",
        "\n",
        "$$\n",
        "\\begin{align}\n",
        "2x & = x(0)(e^{2t}(1+e^{2t}-2t)) + y(0) (-2te^{2t}) + z(0)(e^{2t}(-1+e^{2t})), \\\\\n",
        "2y & = x(0)(-e^{2t}(-1+e^{2t}-2t)) + y(0)(2(t+1)e^{2t}) + z(0)(-e^{2t}(-1+e^{2t})), \\\\\n",
        "2z & = x(0)(e^{2t}(-1+e^{2t}+2t)) + y(0)(2te^{2t}) + z(0)(e^{2t}(1+e^{2t})).\n",
        "\\end{align}\n",
        "$$"
      ]
    },
    {
      "cell_type": "markdown",
      "metadata": {
        "id": "IcmCVH33NOjy"
      },
      "source": [
        "\n",
        "2. Un proceso para encriptar un mensaje secreto es usar cierta matrix cuadrada cuyos elementos son enteros con elementos enteros en la inversa. Se recibe un mensaje, se asigna un número a cada letra Por ejemplo, A=1, B=2, C=3, ... etc y espacio=27), se arreglan los números en una matriz de izquierda a derecha en cada fila, donde el número de elementos en la fila es igual al tamano de la matriz de codigo, se multiplica esa matriz por la matriz de código por la derecha, se transcribe el mensaje en una cadena de números y se manda el mensaje. \n",
        "\n",
        "La persona que debe recibir el mensaje conoce la matriz de codigo. El o ellla arrelgan el mensaje encriptado en una matriz de izquierda a derecha en cada fila, en donde el numero de elementos en una fila conicide con el tamano de la matriz de codigo muplicada por la derecha, por el inverso de la matriz de código y puede leer mensaje decodificado.\n",
        "\n",
        "Usted a recibido el siguiente mensaje que fue encriptado usando la matriz A. Decodifiquelo.\n",
        "\n",
        "```\n",
        "A = matrix([[ 1,  2, -3,  4,  5],\n",
        "        [-2, -5,  8, -8, -9],\n",
        "        [ 1,  2, -2,  7,  9],\n",
        "        [ 1,  1,  0,  6, 12],\n",
        "        [ 2,  4, -6,  8, 11]])\n",
        "```\n",
        "\n",
        "Mensaje\n",
        "\n",
        "47,49,-19,257,487,10,-9,63,137,236, 79,142,-184,372,536,59,70,-40,332,588, \n",
        "\n",
        "la primera fila del mensaje es 47,49,-19,257,487\n",
        "\n",
        "¿Cual es el mensaje?\n",
        "\n"
      ]
    },
    {
      "cell_type": "markdown",
      "metadata": {
        "id": "bmekAD3oNOg0"
      },
      "source": [
        "\n",
        "\n",
        "```\n",
        "abc=['A','B','C','D','E','F','G','H','I','J','K','L','M','N','O','P','Q','R','S','T','U','V','W','X','Y','Z',' ']\n",
        "num=['1','2','3','4','5','6','7','8','9','10','11','12','13','14','15','16','17','18','19','20','21','22','23','24','25','26','27']\n",
        "```\n"
      ]
    },
    {
      "cell_type": "markdown",
      "metadata": {
        "id": "KL0-AvnOwdtB"
      },
      "source": [
        "3. Construir un programa que permita realizar la multiplicacion de dos matrices. El programa debe establecer si las matrices se pueden multiplicar.\n"
      ]
    }
  ]
}