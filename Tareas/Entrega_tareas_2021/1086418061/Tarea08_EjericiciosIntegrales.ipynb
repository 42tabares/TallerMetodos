{
 "cells": [
  {
   "cell_type": "markdown",
   "metadata": {
    "id": "z2BC6C8-H-tF"
   },
   "source": [
    "1. The next  problems are examples of how elliptic integrals enter into realistic physics problems. It is straightforward to evaluate any integral numerically using the techniques of this chapter, but it may be difficult for you to  know if the answers you obtain are correct. One way to hone your integral\u0002evaluating skills is to compare your answers from quadrature to power series\n",
    "expressions, or to a polynomial approximations of know precision. To help you in this regard, we present here a polynomial approximation for an elliptic integral (Abramowitz and Stegun, 1972):\n",
    "\n",
    "\\begin{equation}\n",
    "K(m)=\\int_{0}^{\\pi/2} \\frac{\\mathrm{d\\phi}}{\\sqrt{1-m\\sin^2\\phi}}\n",
    "\\end{equation}\n",
    "\n",
    "\\begin{equation}\n",
    "\\approx a_0+a_1m_1+a_2m_2 - [ b_0+b_1m_1+b_2m_1^2]\\ln m_1 + \\epsilon(m) \n",
    "\\end{equation}\n",
    "\n",
    "\n",
    "\n",
    "$m_1 = 1-m$, \n",
    "\n",
    "$ 0 \\le m \\le1 $\n",
    "\n",
    "$\\epsilon(m)\\leq 3\\times 10^{-5}$\n",
    "\n",
    "\n",
    "\n",
    "$a_0 = 1.3862944$\n",
    "\n",
    "$b_0 = 0.5$\n",
    "\n",
    "$a_1 = 0.1119723$\n",
    "\n",
    "$b_1 = 0.1213478$\n",
    "\n",
    "$a_2 = 0.00725296$\n",
    "\n",
    "$b_2 = 0.0288729$\n"
   ]
  },
  {
   "cell_type": "markdown",
   "metadata": {
    "id": "G6HsBn7_HZol"
   },
   "source": [
    " Figure 5.7 shows a current loop of radius a carrying a current I. The point P\n",
    "is a distance r from the center of the loop with spherical coordinates (r, θ, φ).\n",
    "Jackson (1988) solves for the φ component of the vector potential at point P\n",
    "in terms of elliptic integrals:\n",
    "\n",
    "\\begin{equation}\n",
    "A_{\\phi}(r, \\theta)=\\frac{\\mu_0}{4\\pi}\\frac{4Ia}{\\sqrt{a^2+r^2+2ar\\sin \\theta}}\\left(\\frac{(2-k^2)K(k)-2E(k)}{k^2} \\right)\n",
    "\\end{equation}\n",
    "\n",
    "\n",
    "where \n",
    "\n",
    "\\begin{equation}\n",
    "K(k)=\\int_{0}^{\\pi/2} \\frac{\\mathrm{d\\phi}}{\\sqrt{1-k^2\\sin^2\\phi}}\n",
    "\\end{equation}\n",
    "\n",
    "\n",
    "\\begin{equation}\n",
    "E(k)=\\int_{0}^{\\pi/2} \\mathrm{d\\phi} \\sqrt{1-k^2\\sin^2\\phi}\n",
    "\\end{equation}\n",
    "\n",
    "\n",
    "\\begin{equation}\n",
    "k^2=\\frac{4ar\\sin\\theta}{a^2+r^2+2ar\\sin\\theta}\n",
    "\\end{equation}\n",
    "\n",
    "\n",
    "\n",
    "Here K(k) is a complete elliptic integral of the first kind and E(k) is a complete\n",
    "elliptic integral of the second kind. For a = 1, I = 3, and μ0∕4π = 1, compute\n",
    "and plot\n",
    "\n",
    "a) Aφ(r = 1.1, θ) vs. θ.\n",
    "b) Aφ(r, θ = π∕3) vs. r\n",
    "\n",
    "\n",
    "#Resolver el punto b"
   ]
  },
  {
   "cell_type": "markdown",
   "metadata": {
    "id": "xMjd_PSCL3eq"
   },
   "source": [
    "Solución\n",
    "\n",
    "1. Identificar parametros iniciales \n",
    "2. Calcular k^2, Grafica. \n",
    "3. Evaluar las integrales\n",
    "4. Evaluar la funcion\n",
    "\n",
    "```\n",
    "def A (r, theta, phi, a, I ):\n",
    "  T1=Calculo \n",
    "  \n",
    "  I1 = trap(K)\n",
    "  T2 = Calulo \n",
    "  I2 = trap(E)\n",
    "  T3 = Calulo\n",
    "\n",
    "  return T1*T2*T3\n",
    "\n",
    "\n",
    "theta = np.linspace()\n",
    "Potencial=np.zeros(len(theta))\n",
    "\n",
    "for i, t in enumerate(theta):\n",
    "  Potencial[i] = A (r, theta, phi, a, I )\n",
    "\n",
    "\n",
    "```\n",
    "\n",
    "\n"
   ]
  },
  {
   "cell_type": "code",
   "execution_count": 1,
   "metadata": {
    "id": "arU3zBKsN7WH"
   },
   "outputs": [],
   "source": [
    "import numpy as np\n",
    "import matplotlib.pylab as plt\n",
    "from scipy import integrate"
   ]
  },
  {
   "cell_type": "markdown",
   "metadata": {
    "id": "EmU7PLinNna_"
   },
   "source": [
    "\n",
    "# Funcion para k^2\n",
    "\n",
    "\\begin{equation}\n",
    "k^2=\\frac{4ar\\sin\\theta}{a^2+r^2+2ar\\sin\\theta}\n",
    "\\end{equation}\n",
    "\n",
    "para $theta=\\pi/2$\n",
    "\n",
    "\n",
    "---\n",
    "\n",
    "\n",
    "\n",
    "$k^2 = \\frac{4*1.1}{1+1.1^2+2*1.1}$\n",
    "\n"
   ]
  },
  {
   "cell_type": "code",
   "execution_count": 2,
   "metadata": {
    "id": "nd4sxDgSHaEU"
   },
   "outputs": [],
   "source": [
    "def k_square(r, theta, a):  \n",
    "  num = 4*a*r*np.sin(theta)\n",
    "  den = a**2+r**2+2*a*r*np.sin(theta) \n",
    "  return num/den\n",
    "\n",
    "theta = np.linspace(0, np.pi/2, 100)"
   ]
  },
  {
   "cell_type": "code",
   "execution_count": 3,
   "metadata": {
    "colab": {
     "base_uri": "https://localhost:8080/",
     "height": 298
    },
    "id": "oo4kym3WNypg",
    "outputId": "24739806-7693-4e38-ec21-a64eb623d4a2"
   },
   "outputs": [
    {
     "data": {
      "text/plain": [
       "Text(0, 0.5, '$k^2(r, \\\\theta)$')"
      ]
     },
     "execution_count": 3,
     "metadata": {},
     "output_type": "execute_result"
    },
    {
     "data": {
      "image/png": "[encoded data removed]",
      "text/plain": [
       "<Figure size 432x288 with 1 Axes>"
      ]
     },
     "metadata": {
      "needs_background": "light"
     },
     "output_type": "display_data"
    }
   ],
   "source": [
    "plt.plot(theta, k_square(1.1,theta, 1 ))\n",
    "plt.xlabel(\"$\\\\theta$\")\n",
    "plt.ylabel(\"$k^2(r, \\\\theta)$\")"
   ]
  },
  {
   "cell_type": "markdown",
   "metadata": {
    "id": "UI1d_fd1P3P5"
   },
   "source": [
    "\\begin{equation}\n",
    "K(k)=\\int_{0}^{\\pi/2} \\frac{\\mathrm{d\\phi}}{\\sqrt{1-k^2\\sin^2\\phi}}\n",
    "\\end{equation}\n",
    "\n"
   ]
  },
  {
   "cell_type": "code",
   "execution_count": 4,
   "metadata": {
    "id": "ItpXs3xbN47b"
   },
   "outputs": [],
   "source": [
    "K_ = lambda k, phi: 1./np.sqrt( 1 - (k * np.sin(phi)) **2 )"
   ]
  },
  {
   "cell_type": "code",
   "execution_count": 5,
   "metadata": {
    "colab": {
     "base_uri": "https://localhost:8080/",
     "height": 282
    },
    "id": "tyjICQyxOES2",
    "outputId": "68997092-2c86-466d-cecb-252c2d19d28c"
   },
   "outputs": [
    {
     "data": {
      "text/plain": [
       "<matplotlib.legend.Legend at 0xea56760>"
      ]
     },
     "execution_count": 5,
     "metadata": {},
     "output_type": "execute_result"
    },
    {
     "data": {
      "image/png": "[encoded data removed]",
      "text/plain": [
       "<Figure size 432x288 with 1 Axes>"
      ]
     },
     "metadata": {
      "needs_background": "light"
     },
     "output_type": "display_data"
    }
   ],
   "source": [
    "# Validacion de las funciones a integrar\n",
    "\n",
    "phi = np.linspace(0,np.pi/2, 100  )\n",
    "\n",
    "theta = np.pi/3\n",
    "k2 = k_square(1.1,theta , 1)\n",
    "plt.plot(phi, K_( np.sqrt(k2) , phi ), label=f\"theta={theta}\")\n",
    "\n",
    "theta = np.pi/4\n",
    "k2 = k_square(1.1,theta , 1)\n",
    "plt.plot(phi, K_( np.sqrt(k2) , phi ), label=f\"theta={theta}\")\n",
    "plt.legend()"
   ]
  },
  {
   "cell_type": "code",
   "execution_count": 6,
   "metadata": {
    "colab": {
     "base_uri": "https://localhost:8080/"
    },
    "id": "9UPd-TG0WdZx",
    "outputId": "0c83cbc4-ec5a-4e39-8978-f380e7aa83d6"
   },
   "outputs": [
    {
     "data": {
      "text/plain": [
       "2.720266476771735"
      ]
     },
     "execution_count": 6,
     "metadata": {},
     "output_type": "execute_result"
    }
   ],
   "source": [
    "#Solucion de la Integral empleando el metodo de trapecio\n",
    "# para un valor theta, r, a \n",
    "\n",
    "phi = np.linspace(0, np.pi/2, 100 )\n",
    "theta = np.pi/3\n",
    "r = 1.1\n",
    "a = 1\n",
    "k2 = k_square(r, theta , a)\n",
    "y = K_( np.sqrt(k2) , phi )\n",
    "integrate.trapz(y, phi )"
   ]
  },
  {
   "cell_type": "markdown",
   "metadata": {
    "id": "6mtqp8MxRz_b"
   },
   "source": [
    "\n",
    "\\begin{equation}\n",
    "E(k)=\\int_{0}^{\\pi/2} \\mathrm{d\\phi} \\sqrt{1-k^2\\sin^2\\phi}\n",
    "\\end{equation}\n"
   ]
  },
  {
   "cell_type": "code",
   "execution_count": 7,
   "metadata": {
    "id": "3lVVLu15QX9n"
   },
   "outputs": [],
   "source": [
    "E_ = lambda k, phi: np.sqrt( 1 - (k * np.sin(phi)) **2 )"
   ]
  },
  {
   "cell_type": "code",
   "execution_count": 8,
   "metadata": {
    "colab": {
     "base_uri": "https://localhost:8080/",
     "height": 282
    },
    "id": "P8coUgCVR3k3",
    "outputId": "6e16a84d-f691-4c84-ca7a-cbaa200ec62e"
   },
   "outputs": [
    {
     "data": {
      "text/plain": [
       "<matplotlib.legend.Legend at 0xea8cad8>"
      ]
     },
     "execution_count": 8,
     "metadata": {},
     "output_type": "execute_result"
    },
    {
     "data": {
      "image/png": "[encoded data removed]",
      "text/plain": [
       "<Figure size 432x288 with 1 Axes>"
      ]
     },
     "metadata": {
      "needs_background": "light"
     },
     "output_type": "display_data"
    }
   ],
   "source": [
    "# Validacion de las funciones a integrar\n",
    "phi = np.linspace(0,np.pi/2, 100  )\n",
    "theta = np.pi/3\n",
    "\n",
    "\n",
    "plt.figure()\n",
    "k2 = k_square(1.1,theta , 1)\n",
    "plt.plot(phi, E_( np.sqrt(k2) , phi ), label=f\"theta={theta}\")\n",
    "\n",
    "theta = np.pi/4\n",
    "k2 = k_square(1.1,theta , 1)\n",
    "plt.plot(phi, E_( np.sqrt(k2) , phi ), label=f\"theta={theta}\")\n",
    "plt.legend()"
   ]
  },
  {
   "cell_type": "code",
   "execution_count": 9,
   "metadata": {
    "colab": {
     "base_uri": "https://localhost:8080/"
    },
    "id": "aZjZcnweXb42",
    "outputId": "9aa57c56-3e58-4871-f43a-527feca6a571"
   },
   "outputs": [
    {
     "data": {
      "text/plain": [
       "1.0827297068809603"
      ]
     },
     "execution_count": 9,
     "metadata": {},
     "output_type": "execute_result"
    }
   ],
   "source": [
    "#Solucion de la Integral empleando el metodo de trapecio\n",
    "# para un valor theta, r, a \n",
    "\n",
    "phi = np.linspace(0, np.pi/2, 100 )\n",
    "theta = np.pi/3\n",
    "r = 1.1\n",
    "a = 1\n",
    "k2 = k_square(r, theta , a)\n",
    "y = E_( np.sqrt(k2) , phi )\n",
    "integrate.trapz(y, phi )"
   ]
  },
  {
   "cell_type": "markdown",
   "metadata": {
    "id": "h7gHYBPxXrtT"
   },
   "source": [
    "\n",
    "\\begin{equation}\n",
    "A_{\\phi}(r, \\theta)=\\frac{\\mu_0}{4\\pi}\\frac{4Ia}{\\sqrt{a^2+r^2+2ar\\sin \\theta}}\\left(\\frac{(2-k^2)K(k)-2E(k)}{k^2} \\right)\n",
    "\\end{equation}\n"
   ]
  },
  {
   "cell_type": "code",
   "execution_count": 33,
   "metadata": {
    "id": "KZFmxDn3Vtx2"
   },
   "outputs": [],
   "source": [
    "# Calculo del potencial\n",
    "\n",
    "E_ = lambda k, phi: np.sqrt( 1 - (k * np.sin(phi)) **2 )\n",
    "K_ = lambda k, phi: 1./np.sqrt( 1 - (k * np.sin(phi)) **2 )\n",
    "\n",
    "def k_square(r, theta, a):  \n",
    "  num = 4*a*r*np.sin(theta)\n",
    "  den = a**2+r**2+2*a*r*np.sin(theta) \n",
    "  return num/den\n",
    "\n",
    "\n",
    "\n",
    "def Apotencial(r, theta, phi, a, I, cte = 1 ):\n",
    "  \n",
    "  T11 = cte*4*I*a\n",
    "  T12 = np.sqrt( a**2 + r**2 + 2*a*r*np.sin(theta))\n",
    "  T1 = T11/T12\n",
    "\n",
    "  k2 = k_square(r, theta, a)\n",
    "  T21 = (2 - k2)\n",
    "  T22 = integrate.trapz(  K_(np.sqrt(k2), phi), phi)\n",
    "  T2 = T21*T22\n",
    "\n",
    "  T3 =  integrate.trapz(  E_(np.sqrt(k2), phi), phi)\n",
    "  A = T1*(T2 - 2*T3)/k2\n",
    "\n",
    "  return A\n",
    "\n",
    "  \n"
   ]
  },
  {
   "cell_type": "code",
   "execution_count": 22,
   "metadata": {
    "colab": {
     "base_uri": "https://localhost:8080/"
    },
    "id": "yiIO8lZ8ZloR",
    "outputId": "fe23317b-7694-4c15-dded-a4d678877af5"
   },
   "outputs": [
    {
     "name": "stdout",
     "output_type": "stream",
     "text": [
      "4.831268608470725\n"
     ]
    }
   ],
   "source": [
    "# Paramtros \n",
    "theta = np.pi/3\n",
    "r = 1.1\n",
    "a = 1.0\n",
    "I = 3.0\n",
    "phi = np.linspace(0, np.pi/2, 100)\n",
    "\n",
    "A = Apotencial(r, theta, phi, a, I, cte = 1 )\n",
    "print(A)"
   ]
  },
  {
   "cell_type": "code",
   "execution_count": 29,
   "metadata": {
    "id": "ZWRT2XeNZ4vw"
   },
   "outputs": [],
   "source": [
    "r = 1.1 # Punto donde calcular el potencial \n",
    "a = 1.0 # RAdio de la espira, unidades computacionales\n",
    "I = 3.0 #Corriente que circula por la espira, unidades computacionales\n",
    "N = 100 # Numero o resolución en theta y phi\n",
    "\n",
    "\n",
    "theta = np.linspace(0.01, np.pi/2, N)\n",
    "phi = np.linspace(0, np.pi/2, N)\n",
    "\n",
    "Ap = np.zeros(len(theta))\n",
    "\n",
    "for i, t in enumerate(theta):\n",
    "    Ap[i] = Apotencial(r, t, phi, a, I, cte = 1 )\n",
    "\n"
   ]
  },
  {
   "cell_type": "code",
   "execution_count": 30,
   "metadata": {
    "colab": {
     "base_uri": "https://localhost:8080/",
     "height": 302
    },
    "id": "LLZgdfKnbVI-",
    "outputId": "ab5beda7-e1d6-4137-b1be-51f1574a76ba"
   },
   "outputs": [
    {
     "data": {
      "text/plain": [
       "Text(0, 0.5, '$A(r=1.1, \\\\theta)$')"
      ]
     },
     "execution_count": 30,
     "metadata": {},
     "output_type": "execute_result"
    },
    {
     "data": {
      "image/png": "[encoded data removed]",
      "text/plain": [
       "<Figure size 432x288 with 1 Axes>"
      ]
     },
     "metadata": {
      "needs_background": "light"
     },
     "output_type": "display_data"
    }
   ],
   "source": [
    "plt.plot(theta, Ap)\n",
    "plt.xlim(0.1, np.pi)\n",
    "plt.ylim(0,100)\n",
    "plt.xlabel(\"$\\\\theta$\")\n",
    "plt.ylabel(\"$A(r=1.1, \\\\theta)$\")"
   ]
  },
  {
   "cell_type": "markdown",
   "metadata": {},
   "source": [
    "b) Aφ(r, θ = π∕3) vs. r"
   ]
  },
  {
   "cell_type": "code",
   "execution_count": 42,
   "metadata": {},
   "outputs": [],
   "source": [
    "theta = np.pi/3 # Punto donde calcular el potencial \n",
    "a = 1.0 # RAdio de la espira, unidades computacionales\n",
    "I = 3.0 #Corriente que circula por la espira, unidades computacionales\n",
    "N = 100 # Numero o resolución en theta y phi\n",
    "\n",
    "\n",
    "r = np.linspace(1.1, 5, N)\n",
    "phi = np.linspace(0, np.pi/2, N)\n",
    "\n",
    "Ap = np.zeros(len(r))\n",
    "\n",
    "for i, rad in enumerate(r):\n",
    "    Ap[i] = Apotencial(rad, t, phi, a, I, cte = 1 )\n"
   ]
  },
  {
   "cell_type": "code",
   "execution_count": 45,
   "metadata": {},
   "outputs": [
    {
     "data": {
      "text/plain": [
       "Text(0, 0.5, '$A(r, \\\\theta=\\\\pi/3)$')"
      ]
     },
     "execution_count": 45,
     "metadata": {},
     "output_type": "execute_result"
    },
    {
     "data": {
      "image/png": "[encoded data removed]",
      "text/plain": [
       "<Figure size 432x288 with 1 Axes>"
      ]
     },
     "metadata": {
      "needs_background": "light"
     },
     "output_type": "display_data"
    }
   ],
   "source": [
    "plt.plot(r, Ap)\n",
    "plt.xlim(1, np.pi)\n",
    "plt.ylim(-1,20)\n",
    "plt.xlabel(\"$r$\")\n",
    "plt.ylabel(\"$A(r, \\\\theta=\\\\pi/3)$\")"
   ]
  },
  {
   "cell_type": "code",
   "execution_count": null,
   "metadata": {},
   "outputs": [],
   "source": []
  }
 ],
 "metadata": {
  "colab": {
   "name": "Sesion10_EjericiciosIntegrales.ipynb",
   "provenance": []
  },
  "kernelspec": {
   "display_name": "Python 3",
   "language": "python",
   "name": "python3"
  },
  "language_info": {
   "codemirror_mode": {
    "name": "ipython",
    "version": 3
   },
   "file_extension": ".py",
   "mimetype": "text/x-python",
   "name": "python",
   "nbconvert_exporter": "python",
   "pygments_lexer": "ipython3",
   "version": "3.8.5"
  }
 },
 "nbformat": 4,
 "nbformat_minor": 1
}
