{
 "cells": [
  {
   "cell_type": "markdown",
   "metadata": {
    "id": "U9TjqwZ-oaJY"
   },
   "source": [
    "# Integrales definidas:   Este programa muestra como es el uso del cálculo del error en el metodo del trapecio "
   ]
  },
  {
   "cell_type": "markdown",
   "metadata": {
    "id": "McFGDoF36X_w"
   },
   "source": [
    "#Metodo del trapecio\n",
    "\n",
    "> $$\n",
    "  \\int_{a}^{b} f(x)\\,dx \n",
    "  = \\sum_{i=0}^{N-1}  \\int_{i}^{x_{i+1}} f(x)\\,dx\n",
    "  =  \\frac{h}{2} \\sum_{i=0}^{N-1}(f(x_i)+f(x_{i+1})) \n",
    "    - \\frac{(b-a) h^2}{12}f''(\\xi),\n",
    "  $$\n",
    "\n",
    "donde $\\xi\\in [b,a]$, $h=a-b$\n",
    "\n",
    "\\epsilon=0.001\n",
    "\n"
   ]
  },
  {
   "cell_type": "markdown",
   "metadata": {
    "id": "NpUQnUHt6r67"
   },
   "source": [
    "## Cálculo del error para que sea menor $\\epsilon$. \n",
    "\n",
    "Sea \n",
    "\n",
    ">$$\n",
    " \\int_0^1 \\log(1+x^2)\\, dx\n",
    " $$\n",
    "\n",
    " \\epsilon=0.001\n"
   ]
  },
  {
   "cell_type": "code",
   "execution_count": 1,
   "metadata": {
    "id": "YFZcnjp26rbs"
   },
   "outputs": [],
   "source": [
    "a, b = 0,  1.\n",
    "\n",
    "def f(x): \n",
    "  return np.log(1 + x ** 2)\n",
    "\n",
    "epsilon = 0.001"
   ]
  },
  {
   "cell_type": "markdown",
   "metadata": {
    "id": "L9Lq0NfL7JrK"
   },
   "source": [
    "Para encontrar el error, se debe de encontrar el maximo de $f''(\\xi)$, para ello empleemos la libreria sympy, para mostrar que la derivada de la función es:\n",
    "\n",
    "\n",
    "  * $\\displaystyle f'(x)=\\frac{2x}{1+x^2}$\n",
    "  * $\\displaystyle f''(x)=\\frac{2(1+x^2) - 2x\\cdot2x}{(1+x^2)^2}\n",
    "      = \\frac{2 - 2x^2}{(1+x^2)^2}$\n",
    "  \n"
   ]
  },
  {
   "cell_type": "code",
   "execution_count": 2,
   "metadata": {
    "id": "m9lnKNRB6Ztv"
   },
   "outputs": [],
   "source": [
    "#=================================================\n",
    "import sympy as sp \n",
    "import numpy as np\n",
    "import matplotlib.pylab as plt\n",
    "from sympy import init_printing\n",
    "from scipy import  optimize\n",
    "init_printing() \n",
    "#=================================================\n"
   ]
  },
  {
   "cell_type": "code",
   "execution_count": 3,
   "metadata": {
    "colab": {
     "base_uri": "https://localhost:8080/"
    },
    "id": "Aftxe0I-8lkp",
    "outputId": "10ef86b5-91ad-4d34-aa9a-e9a36f7f695b"
   },
   "outputs": [
    {
     "name": "stdout",
     "output_type": "stream",
     "text": [
      "log(x**2 + 1)\n",
      "2*x/(x**2 + 1)\n",
      "2*(-2*x**2/(x**2 + 1) + 1)/(x**2 + 1)\n",
      "4*x*(4*x**2/(x**2 + 1) - 3)/(x**2 + 1)**2\n"
     ]
    }
   ],
   "source": [
    "f_s = lambda x: sp.log(1 + x**2)#Definicion de la función \n",
    "x = sp.symbols(\"x\") #DEfinicion de x como simbolo.\n",
    "print(f_s(x))\n",
    "print(sp.diff(f_s(x), x, 1))\n",
    "print(sp.diff(f_s(x), x, 2))\n",
    "print(sp.diff(f_s(x), x, 3))\n"
   ]
  },
  {
   "cell_type": "code",
   "execution_count": 4,
   "metadata": {
    "colab": {
     "base_uri": "https://localhost:8080/",
     "height": 434
    },
    "id": "Q1O4udXk99iM",
    "outputId": "3b45321d-32ea-445b-f229-6e020b5ed853"
   },
   "outputs": [
    {
     "name": "stdout",
     "output_type": "stream",
     "text": [
      "[-0.         -0.0433832  -0.09216949 -0.14675178 -0.20749549 -0.2747196\n",
      " -0.34867367 -0.42951059 -0.51725552 -0.61177148 -0.71272293 -0.81953924\n",
      " -0.93138078 -1.04711109 -1.16527943 -1.28411812 -1.4015594  -1.51527551\n",
      " -1.62274433 -1.7213407  -1.80845033 -1.8816     -1.9385946  -1.97764915\n",
      " -1.99750277 -1.99750277 -1.97764915 -1.9385946  -1.8816     -1.80845033\n",
      " -1.7213407  -1.62274433 -1.51527551 -1.4015594  -1.28411812 -1.16527943\n",
      " -1.04711109 -0.93138078 -0.81953924 -0.71272293 -0.61177148 -0.51725552\n",
      " -0.42951059 -0.34867367 -0.2747196  -0.20749549 -0.14675178 -0.09216949\n",
      " -0.0433832  -0.        ]\n"
     ]
    },
    {
     "data": {
      "image/png": "[encoded data removed]",
      "text/plain": [
       "<Figure size 432x288 with 1 Axes>"
      ]
     },
     "metadata": {
      "needs_background": "light"
     },
     "output_type": "display_data"
    }
   ],
   "source": [
    "#Numpy funcion para evaluar la funcion de sympy\n",
    "f2 = sp.diff(f_s(x), x, 2)\n",
    "\n",
    "fxn5 = sp.lambdify(x, -f2, 'numpy') #numpy funcion\n",
    "\n",
    "x_ = np.linspace(-1, 1)\n",
    "print(fxn5(x_))\n",
    "\n",
    "plt.figure()\n",
    "plt.plot(x_, fxn5(x_))\n",
    "plt.xlabel(\"x\")\n",
    "plt.ylabel(\"f(x)\")\n",
    "plt.show()"
   ]
  },
  {
   "cell_type": "code",
   "execution_count": 5,
   "metadata": {
    "colab": {
     "base_uri": "https://localhost:8080/"
    },
    "id": "PBVNzuXEbwtn",
    "outputId": "02af5afe-ac79-4a16-8074-02a0ef8fe0a6"
   },
   "outputs": [
    {
     "name": "stdout",
     "output_type": "stream",
     "text": [
      "Optimization terminated successfully.\n",
      "         Current function value: -2.000000\n",
      "         Iterations: 2\n",
      "         Function evaluations: 32\n"
     ]
    }
   ],
   "source": [
    "fp=optimize.fmin_powell( fxn5, 0.1,  ftol=1E-7 )\n"
   ]
  },
  {
   "cell_type": "code",
   "execution_count": 32,
   "metadata": {
    "colab": {
     "base_uri": "https://localhost:8080/"
    },
    "id": "DQic1KMlSnwo",
    "outputId": "84cbc09c-9064-4efa-d6da-eed5843130dd"
   },
   "outputs": [
    {
     "data": {
      "text/plain": [
       "array([2.71379983e-09])"
      ]
     },
     "execution_count": 32,
     "metadata": {},
     "output_type": "execute_result"
    }
   ],
   "source": [
    "fp"
   ]
  },
  {
   "cell_type": "code",
   "execution_count": 6,
   "metadata": {
    "colab": {
     "base_uri": "https://localhost:8080/"
    },
    "id": "a3Zf7cQh_moC",
    "outputId": "c9b2b60a-cbb8-41f6-a498-5d8736fe0f86"
   },
   "outputs": [
    {
     "name": "stdout",
     "output_type": "stream",
     "text": [
      "1.99750277488715\n"
     ]
    }
   ],
   "source": [
    "Max = np.max(-fxn5(x_))\n",
    "print(Max)\n",
    "#Maximo de la función"
   ]
  },
  {
   "cell_type": "markdown",
   "metadata": {
    "id": "t3BFlqO7-zlq"
   },
   "source": [
    "$$\n",
    "  |E_N(f)| \\le  \\frac{(b-a) h^2}{12} f''(\\xi), = 1 *2\\frac{h^2}{12}= \\frac{h^2}{6}<\\epsilon\n",
    "  $$\n",
    "  \n",
    "  > $\\epsilon=0.001$\n",
    "  \n",
    "  $$\n",
    "  \\frac{h^2}{6}<\\epsilon\n",
    "  $$\n",
    "  \n",
    "  $$\n",
    "  h = \\sqrt{6\\epsilon}= \\sqrt{0.006}\n",
    "  $$\n",
    "  \n",
    "  "
   ]
  },
  {
   "cell_type": "code",
   "execution_count": 7,
   "metadata": {
    "colab": {
     "base_uri": "https://localhost:8080/"
    },
    "id": "PT0z2kNn7Ggp",
    "outputId": "0a0d1112-140f-4039-db3e-aef221c795f5"
   },
   "outputs": [
    {
     "name": "stdout",
     "output_type": "stream",
     "text": [
      "El tamaño de cada paso es 0.07746:\n",
      "El numero de intervalos es: 12.90994\n"
     ]
    }
   ],
   "source": [
    "h = np.sqrt(0.006)\n",
    "print(\"El tamaño de cada paso es %.5lf:\"  %h)\n",
    "\n",
    "print(\"El numero de intervalos es: %.5lf\" %((b-a)/h) )"
   ]
  },
  {
   "cell_type": "markdown",
   "metadata": {
    "id": "krtHdiD9AKS3"
   },
   "source": [
    "Lo anterior implica, que el número minimo de intervalos para realizar la integral con un error de 0.001, es de N=13. Empleando la ecuacion para resolver la integral por el metodo del trapecio compuesto, tenemos que: \n",
    "\n",
    "\\begin{equation}\n",
    "\\int_{a}^{b}f(x)dx=  \\frac{h}{2}\\left[f(a)+2\\sum_{j=1}^{n-1}f(x_j)+f(b)\\right ]\n",
    "\\end{equation}\n",
    "\n"
   ]
  },
  {
   "cell_type": "code",
   "execution_count": 8,
   "metadata": {
    "colab": {
     "base_uri": "https://localhost:8080/"
    },
    "id": "IQ-xdPW7-k6C",
    "outputId": "1d780708-0bb3-4d02-b658-cf3f26f263ce"
   },
   "outputs": [
    {
     "name": "stdout",
     "output_type": "stream",
     "text": [
      "El valor de la integral es: 0.26443665 \n"
     ]
    }
   ],
   "source": [
    "N = 13\n",
    "a, b = 0, 1 \n",
    "h = float((b - a)/N)\n",
    "\n",
    "x = np.linspace(a, b, N+1) #Definición de los puntos extremos\n",
    "x_interior = x[1:-1]  #Puntos del interior\n",
    "\n",
    "T1 =  (f(a))\n",
    "T3 =  (f(b))\n",
    "T2 =  sum(f(x_interior))\n",
    "\n",
    "trap_f = T1 + 2*T2 + T3\n",
    "trap_f = 0.5*h*trap_f\n",
    "\n",
    "print(\"El valor de la integral es: %.8lf \" %trap_f)\n"
   ]
  },
  {
   "cell_type": "code",
   "execution_count": 9,
   "metadata": {
    "colab": {
     "base_uri": "https://localhost:8080/"
    },
    "id": "Spm377GWDmyr",
    "outputId": "795a5845-f4fc-42a5-b2b2-d6a1b58e992f"
   },
   "outputs": [
    {
     "name": "stdout",
     "output_type": "stream",
     "text": [
      "El valor, empleando la libreria integrate es: 0.26443665\n"
     ]
    }
   ],
   "source": [
    "from scipy import integrate\n",
    "t = integrate.trapz( f(x), x, h )\n",
    "print(\"El valor, empleando la libreria integrate es: %.8lf\" %t)"
   ]
  },
  {
   "cell_type": "code",
   "execution_count": 10,
   "metadata": {
    "colab": {
     "base_uri": "https://localhost:8080/"
    },
    "id": "Ez--ROSQCE09",
    "outputId": "e0b77c77-dd1e-41ca-8c9e-73eb20247f19"
   },
   "outputs": [
    {
     "name": "stdout",
     "output_type": "stream",
     "text": [
      "Cuadratura de python: (0.26394350735484196, 2.930361590656649e-15)\n",
      "Diferencia: 0.0018683741818406388\n"
     ]
    }
   ],
   "source": [
    "#Comparando con el valor exacto, tenemos que: \n",
    "from scipy.integrate import quad\n",
    "quad_python = quad(f, a, b)\n",
    "print (\"Cuadratura de python:\", quad_python)\n",
    "Iq = quad_python [0]\n",
    "print (\"Diferencia:\", ( (trap_f - Iq)/Iq))"
   ]
  },
  {
   "cell_type": "markdown",
   "metadata": {
    "id": "dcJFaUCRExsB"
   },
   "source": [
    "#Metodo del Sympson"
   ]
  },
  {
   "cell_type": "markdown",
   "metadata": {
    "id": "QjcU_vSsFiHy"
   },
   "source": [
    "\n",
    " En general, la regla de simpson es\n",
    " \n",
    "$$\n",
    " \\int_a^b f(x)dx = \\frac{h}{3}\\left[f(a) + 2\\sum_{i=1}^{(n-1)}f(x_{2i}) + 4\\sum_{i=1}^{n}f(x_{2i-1}) + f(b)\\right]-\\frac{b − a}{180}h^4f^{(4)}(\\xi)\n",
    ",$$\n",
    " \n",
    " donde $\\xi ∈ (a,b).$\n",
    "error=0.001\n"
   ]
  },
  {
   "cell_type": "code",
   "execution_count": 11,
   "metadata": {
    "id": "CZ08a_DgETtr"
   },
   "outputs": [],
   "source": [
    "a, b = 0,  1.\n",
    "def f(x): \n",
    "  return np.log(1 + x ** 2)\n",
    "epsilon = 0.001\n",
    "\n",
    "#epsilon = 1e-5"
   ]
  },
  {
   "cell_type": "code",
   "execution_count": 12,
   "metadata": {
    "id": "rCtM8ItsGNUv"
   },
   "outputs": [],
   "source": [
    "def simpson(f, a, b, N):\n",
    "    \"\"\"\n",
    "    Aproxima la integral de $f$ en $[a,b]$ mediante la fórmula compuesta \n",
    "    de Simpson con N subintervalos\n",
    "    \"\"\"\n",
    "    n_nodos = 2*N+1 # (N+1 extremos de subintervalos) + (N puntos medios)\n",
    "    x = np.linspace(a, b, n_nodos)\n",
    "\n",
    "    x_impar = x[1: :2] # Nodos con coordenada impar (ptos medios)\n",
    "    x_par = x[2:n_nodos-1:2] # Nodos con coordenada par (salvo el primero y el último)\n",
    "\n",
    "    h = (b-a)/(2*N) # Distancia entre dos nodos de integración\n",
    "    cuad = h/3*(f(a) + 2*sum(f(x_par)) + 4*sum(f(x_impar)) + f(b)) # F. comp. de Simpson\n",
    "    return cuad  \n",
    "  \n",
    "#- La expresión `x`, o `x[:]`, representa todos los elementos de la lista x\n",
    "#- La expresión `x[M:N]`, o `x[M:]`, representa los elementos `x[M]`, `x[M+1]`,..., `x[N-1]`\n",
    "#- La expresión `x[M:N:k]`, o `x[M::k]`, representa los elementos `x[M]`, `x[M+k]`,..., `x[N-1]`\n",
    "#x = np.linspace(0, 1, 10)\n",
    "#x_impar = x[1:: 2]  \n",
    "#x_par = x[2: -1: 2]\n",
    "#print(x)\n",
    "#print(x_impar)\n",
    "#print(x_par)\n",
    "\n",
    "  \n",
    "  "
   ]
  },
  {
   "cell_type": "code",
   "execution_count": 13,
   "metadata": {
    "colab": {
     "base_uri": "https://localhost:8080/",
     "height": 34
    },
    "id": "mpLSrlEdIVR5",
    "outputId": "6fc27f68-b9a9-4967-ad83-875e8b5a596d"
   },
   "outputs": [
    {
     "name": "stdout",
     "output_type": "stream",
     "text": [
      "0.26394350518567283\n"
     ]
    }
   ],
   "source": [
    "x = simpson(f, 0, 1, 20)\n",
    "print(x)"
   ]
  },
  {
   "cell_type": "markdown",
   "metadata": {
    "id": "e4KK2QIpKsB8"
   },
   "source": [
    "## Para deducir el numero de intervalos tenemos que : \n",
    "$$\n",
    "\\frac{b − a}{180}h^4f^{(4)}(\\xi) = \\epsilon\n",
    "$$\n",
    "\n",
    "$$\n",
    "\\frac{b − a}{180}h^4 \\mathrm{Max} ||f^{(4)}(\\xi)||=\\epsilon\n",
    "$$\n",
    "\n",
    "con $$h = (b-a)/(2N)$$\n",
    "\n",
    "$$\n",
    "\\frac{(b − a)^5}{180(2N)^4} \\mathrm{Max} ||f^{(4)}(\\xi)||=\\epsilon\n",
    "$$\n",
    "\n",
    "$$\n",
    "N^4 = \\frac{(b − a)^5}{180(2)^4\\epsilon} \\mathrm{Max} ||f^{(4)}(\\xi)||\n",
    "$$"
   ]
  },
  {
   "cell_type": "code",
   "execution_count": 14,
   "metadata": {
    "colab": {
     "base_uri": "https://localhost:8080/",
     "height": 102
    },
    "id": "KL_x-OKcHY2L",
    "outputId": "91b581d5-d8bf-43bc-c0bf-342b7623a139"
   },
   "outputs": [
    {
     "name": "stdout",
     "output_type": "stream",
     "text": [
      "log(x**2 + 1)\n",
      "2*x/(x**2 + 1)\n",
      "2*(-2*x**2/(x**2 + 1) + 1)/(x**2 + 1)\n",
      "4*x*(4*x**2/(x**2 + 1) - 3)/(x**2 + 1)**2\n",
      "12*(-8*x**4/(x**2 + 1)**2 + 8*x**2/(x**2 + 1) - 1)/(x**2 + 1)**2\n"
     ]
    }
   ],
   "source": [
    "f_s = lambda x: sp.log(1 + x**2)\n",
    "\n",
    "x = sp.symbols(\"x\")\n",
    "\n",
    "print(f_s(x))\n",
    "print(sp.diff(f_s(x), x, 1))\n",
    "print(sp.diff(f_s(x), x, 2))\n",
    "print(sp.diff(f_s(x), x, 3))\n",
    "print(sp.diff(f_s(x), x, 4))\n"
   ]
  },
  {
   "cell_type": "code",
   "execution_count": 15,
   "metadata": {
    "colab": {
     "base_uri": "https://localhost:8080/",
     "height": 435
    },
    "id": "-DLhti7ddE93",
    "outputId": "97052441-3b75-4b63-d729-8363e29f2496"
   },
   "outputs": [
    {
     "name": "stdout",
     "output_type": "stream",
     "text": [
      "[-12.         -11.95009361 -11.80124435 -11.55603605 -11.21868988\n",
      " -10.79494054 -10.29187077  -9.71771136  -9.0816152   -8.39341451\n",
      "  -7.66337093  -6.90192756  -6.1194715   -5.32611444  -4.53149713\n",
      "  -3.74462252  -2.97372025  -2.22614402  -1.50830157  -0.82561607\n",
      "  -0.18251637   0.41754692   0.97206344   1.47940701   1.93876566\n",
      "   2.35006168   2.71386543   3.03130622   3.30398314   3.53387829\n",
      "   3.72327433   3.8746778    3.99074921   4.07424061   4.12794086\n",
      "   4.15462866   4.15703306   4.1378012    4.09947262   4.0444596\n",
      "   3.97503298   3.89331257   3.80126184   3.70068589   3.59323238\n",
      "   3.48039484   3.36351768   3.24380275   3.12231685   3.        ]\n"
     ]
    },
    {
     "data": {
      "image/png": "[encoded data removed]",
      "text/plain": [
       "<Figure size 432x288 with 1 Axes>"
      ]
     },
     "metadata": {
      "needs_background": "light"
     },
     "output_type": "display_data"
    }
   ],
   "source": [
    "#Numpy funcion para evaluar la funcion de sympy\n",
    "f2 = sp.diff(f_s(x), x, 4)\n",
    "\n",
    "fxn5 = sp.lambdify(x, f2, 'numpy') #numpy funcion\n",
    "\n",
    "x_ = np.linspace(0, 1)\n",
    "print(fxn5(x_))\n",
    "\n",
    "plt.figure()\n",
    "plt.plot(x_, fxn5(x_))\n",
    "plt.show()"
   ]
  },
  {
   "cell_type": "code",
   "execution_count": 16,
   "metadata": {
    "colab": {
     "base_uri": "https://localhost:8080/",
     "height": 37
    },
    "id": "sXjyFd-sdGzP",
    "outputId": "4b4199ab-408a-43cc-9aee-2ee0d877ac4f"
   },
   "outputs": [
    {
     "data": {
      "image/png": "[encoded data removed]",
      "text/latex": [
       "$\\displaystyle 4.518010018049224$"
      ],
      "text/plain": [
       "4.518010018049224"
      ]
     },
     "execution_count": 16,
     "metadata": {},
     "output_type": "execute_result"
    }
   ],
   "source": [
    "epsilon=1e-5\n",
    "\n",
    "def N(a, b, M):\n",
    "  return ((b-a)**5*M/(epsilon*180*2**4))**(1./4)\n",
    "\n",
    "N(0,1,12)"
   ]
  },
  {
   "cell_type": "code",
   "execution_count": 17,
   "metadata": {
    "colab": {
     "base_uri": "https://localhost:8080/",
     "height": 34
    },
    "id": "07qmKgzQdMkn",
    "outputId": "ca2af817-7568-48bb-94ba-2988463d239b"
   },
   "outputs": [
    {
     "name": "stdout",
     "output_type": "stream",
     "text": [
      "0.2639421665115566\n"
     ]
    }
   ],
   "source": [
    "simp = simpson(f, a, b, 4)\n",
    "print(simp)"
   ]
  },
  {
   "cell_type": "code",
   "execution_count": 18,
   "metadata": {},
   "outputs": [
    {
     "data": {
      "image/png": "[encoded data removed]",
      "text/latex": [
       "$\\displaystyle 0.26394421821636943$"
      ],
      "text/plain": [
       "0.26394421821636943"
      ]
     },
     "execution_count": 18,
     "metadata": {},
     "output_type": "execute_result"
    }
   ],
   "source": [
    "from scipy import integrate\n",
    "integrate.simps(f(x_),x_,4)"
   ]
  },
  {
   "cell_type": "code",
   "execution_count": 19,
   "metadata": {},
   "outputs": [
    {
     "data": {
      "image/png": "[encoded data removed]",
      "text/latex": [
       "$\\displaystyle \\left( 0.2639435072454505, \\  1.3142272825561463e-09\\right)$"
      ],
      "text/plain": [
       "(0.2639435072454505, 1.3142272825561463e-09)"
      ]
     },
     "execution_count": 19,
     "metadata": {},
     "output_type": "execute_result"
    }
   ],
   "source": [
    "from scipy.integrate import quadrature\n",
    "quadrature(f,a,b)"
   ]
  },
  {
   "cell_type": "code",
   "execution_count": 20,
   "metadata": {
    "id": "Ot8zIZabhpTk"
   },
   "outputs": [],
   "source": [
    "#Comparando con el valor exacto, tenemos que: \n",
    "from scipy.integrate import quad\n",
    "quad_python = quad(f, a, b)\n"
   ]
  },
  {
   "cell_type": "code",
   "execution_count": 21,
   "metadata": {},
   "outputs": [
    {
     "data": {
      "image/png": "[encoded data removed]",
      "text/latex": [
       "$\\displaystyle \\left( 0.26394350735484196, \\  2.930361590656649e-15\\right)$"
      ],
      "text/plain": [
       "(0.26394350735484196, 2.930361590656649e-15)"
      ]
     },
     "execution_count": 21,
     "metadata": {},
     "output_type": "execute_result"
    }
   ],
   "source": [
    "quad_python "
   ]
  },
  {
   "cell_type": "code",
   "execution_count": 22,
   "metadata": {
    "colab": {
     "base_uri": "https://localhost:8080/",
     "height": 51
    },
    "id": "TvvXXgFkibpB",
    "outputId": "3f43cc6a-ec7f-47e3-9bf6-d33eb445bf99"
   },
   "outputs": [
    {
     "name": "stdout",
     "output_type": "stream",
     "text": [
      "Cuadratura de python: (0.26394350735484196, 2.930361590656649e-15)\n",
      "Diferencia: -5.080038902204066e-06\n"
     ]
    }
   ],
   "source": [
    "print (\"Cuadratura de python:\", quad_python)\n",
    "Iq = quad_python [0]\n",
    "\n",
    "print (\"Diferencia:\", ( (simp - Iq)/Iq))"
   ]
  },
  {
   "cell_type": "markdown",
   "metadata": {
    "id": "ZFMGMPPL5Eek"
   },
   "source": [
    "Emplear el metodo de trapezio y el metodo de simpson para calcular la siguiente integral: \n",
    "\n",
    "\\begin{equation}\n",
    "\\int_0^{2} e^{2x}\\sin 3x dx \n",
    "\\end{equation}\n",
    "$\\epsilon=1\\times 10^{-5}$"
   ]
  },
  {
   "cell_type": "code",
   "execution_count": 23,
   "metadata": {
    "colab": {
     "base_uri": "https://localhost:8080/",
     "height": 85
    },
    "id": "mJ5tKIuw5MOc",
    "outputId": "fc9b2a46-dca6-46ac-ebd3-0a6335183f9a"
   },
   "outputs": [
    {
     "name": "stdout",
     "output_type": "stream",
     "text": [
      "exp(2*x)*sin(3*x)\n",
      "2*exp(2*x)*sin(3*x) + 3*exp(2*x)*cos(3*x)\n",
      "(-5*sin(3*x) + 12*cos(3*x))*exp(2*x)\n",
      "(-46*sin(3*x) + 9*cos(3*x))*exp(2*x)\n"
     ]
    }
   ],
   "source": [
    "f_s = lambda x: sp.exp(2*x)*sp.sin(3*x)\n",
    "\n",
    "#DEfinicion de la función \n",
    "\n",
    "x = sp.symbols(\"x\") #DEfinicion de x como simbolo.\n",
    "\n",
    "print(f_s(x))\n",
    "print(sp.diff(f_s(x), x, 1))\n",
    "print(sp.diff(f_s(x), x, 2))\n",
    "print(sp.diff(f_s(x), x, 3))\n"
   ]
  },
  {
   "cell_type": "code",
   "execution_count": 24,
   "metadata": {
    "colab": {
     "base_uri": "https://localhost:8080/",
     "height": 38
    },
    "id": "7jeaIJvh7HeI",
    "outputId": "5d4488e2-953a-4740-dca7-25b6a91ea6e9"
   },
   "outputs": [
    {
     "data": {
      "image/png": "[encoded data removed]",
      "text/latex": [
       "$\\displaystyle x^{2} + 4 x + 4$"
      ],
      "text/plain": [
       " 2          \n",
       "x  + 4⋅x + 4"
      ]
     },
     "execution_count": 24,
     "metadata": {},
     "output_type": "execute_result"
    }
   ],
   "source": [
    "sp.simplify(x**2+2*x+4+2*x)"
   ]
  },
  {
   "cell_type": "code",
   "execution_count": 25,
   "metadata": {
    "colab": {
     "base_uri": "https://localhost:8080/",
     "height": 435
    },
    "id": "mjef2R7A7SzU",
    "outputId": "dfb7ce3c-7eb6-49d8-9c07-7b0b3f2e6015"
   },
   "outputs": [
    {
     "name": "stdout",
     "output_type": "stream",
     "text": [
      "[ 12.          12.26053133  12.27934771  12.01313936  11.41760893\n",
      "  10.44833659   9.06180148   7.21656312   4.87460358   2.00282718\n",
      "  -1.42528925  -5.42790798 -10.012921   -15.1759433  -20.89823855\n",
      " -27.14461383 -33.86132761 -40.97406215 -48.38601958 -55.97620825\n",
      " -63.59799326 -71.07799216 -78.21540293 -84.78185668 -90.52189158\n",
      " -95.15414707 -98.37337811 -99.85338747 -99.25097015 -96.2109567\n",
      " -90.37243196 -81.3761916  -68.87348091 -52.53603801 -32.06743692\n",
      "  -7.21569481  22.21292867  56.33905245  95.19437345 138.70515199\n",
      " 186.67524442 238.76900099 294.49440682 353.18690495 413.99440222\n",
      " 475.86402008 537.53121072 597.51191375 654.0984767  705.36010288]\n"
     ]
    },
    {
     "data": {
      "image/png": "[encoded data removed]",
      "text/plain": [
       "<Figure size 432x288 with 1 Axes>"
      ]
     },
     "metadata": {
      "needs_background": "light"
     },
     "output_type": "display_data"
    }
   ],
   "source": [
    "#Numpy funcion para evaluar la funcion de sympy\n",
    "f2 = sp.diff(f_s(x), x, 2)\n",
    "\n",
    "fxn5 = sp.lambdify(x, f2, 'numpy') #numpy funcion\n",
    "\n",
    "x_ = np.linspace(0, 2)\n",
    "print(fxn5(x_))\n",
    "\n",
    "plt.figure()\n",
    "plt.plot(x_, abs(fxn5(x_)))\n",
    "plt.show()"
   ]
  },
  {
   "cell_type": "markdown",
   "metadata": {
    "id": "4XMwQKwK74yC"
   },
   "source": [
    "$$\n",
    "  |E_N(f)| \\le  \\frac{(b-a) h^2}{12} f''(\\xi), = 2*705\\frac{h^2}{12}= 117.5h^2<\\epsilon\n",
    "  $$\n",
    "  \n",
    "  > $\\epsilon=0.001$\n",
    "  \n",
    "  \n",
    "  $$\n",
    "  h = \\sqrt{\\epsilon/117.5}= \\sqrt{0.006/117.5}\n",
    "  $$\n",
    "  \n",
    "  "
   ]
  },
  {
   "cell_type": "code",
   "execution_count": 26,
   "metadata": {
    "colab": {
     "base_uri": "https://localhost:8080/",
     "height": 34
    },
    "id": "6pj_Oj9z76KT",
    "outputId": "830bdac6-8e14-4ceb-84d4-8bb1239d70e1"
   },
   "outputs": [
    {
     "name": "stdout",
     "output_type": "stream",
     "text": [
      "0.0029165550598972043\n"
     ]
    }
   ],
   "source": [
    "epsilon=0.001\n",
    "b=2\n",
    "a=0\n",
    "f2 = max(fxn5(x_))\n",
    "h = np.sqrt(12*epsilon/(f2*(b-a)) ) #Funcion para determinar el tamaño del intervalo.\n",
    "print(h)"
   ]
  },
  {
   "cell_type": "code",
   "execution_count": 27,
   "metadata": {
    "colab": {
     "base_uri": "https://localhost:8080/",
     "height": 34
    },
    "id": "4bf083-T8Iow",
    "outputId": "75234690-eefa-47b2-acaa-69571f7ef4ca"
   },
   "outputs": [
    {
     "name": "stdout",
     "output_type": "stream",
     "text": [
      "686\n"
     ]
    }
   ],
   "source": [
    "N = (b-a)/h\n",
    "N = int(round(N))\n",
    "print(N)"
   ]
  },
  {
   "cell_type": "code",
   "execution_count": 28,
   "metadata": {
    "id": "HlQ5jVHk9EVO"
   },
   "outputs": [],
   "source": [
    "a, b = 0,  2.\n",
    "\n",
    "def f(x): \n",
    "  return np.exp(2*x)*np.sin(3*x)\n",
    "\n",
    "x = np.linspace(0, 2, N+1)\n",
    "t = integrate.trapz( f(x), x, h )"
   ]
  },
  {
   "cell_type": "code",
   "execution_count": 29,
   "metadata": {
    "colab": {
     "base_uri": "https://localhost:8080/",
     "height": 34
    },
    "id": "psOZ6bJb9pXR",
    "outputId": "ff50ea26-c882-4057-adf2-aae49a081ea2"
   },
   "outputs": [
    {
     "name": "stdout",
     "output_type": "stream",
     "text": [
      "El valor de la integral es : -14.214\n"
     ]
    }
   ],
   "source": [
    "print(\"El valor de la integral es : %.3lf\" %t)"
   ]
  },
  {
   "cell_type": "code",
   "execution_count": 30,
   "metadata": {
    "colab": {
     "base_uri": "https://localhost:8080/",
     "height": 34
    },
    "id": "V8sLbO1gBdWe",
    "outputId": "99e40fe4-2f95-4185-8e7a-49cd7e94ab59"
   },
   "outputs": [
    {
     "name": "stdout",
     "output_type": "stream",
     "text": [
      "El valor de la integral es: -14.21926780 \n"
     ]
    }
   ],
   "source": [
    "\n",
    "\n",
    "x_interior = x[1:-1]  #Puntos del interior\n",
    "\n",
    "T1 =  (f(a))\n",
    "T3 =  (f(b))\n",
    "T2 =  sum(f(x_interior))\n",
    "\n",
    "trap_f = T1 + 2*T2 + T3\n",
    "trap_f = 0.5*h*trap_f\n",
    "\n",
    "print(\"El valor de la integral es: %.8lf \" %trap_f)\n"
   ]
  },
  {
   "cell_type": "code",
   "execution_count": 31,
   "metadata": {
    "colab": {
     "base_uri": "https://localhost:8080/",
     "height": 129
    },
    "id": "FYi3CucSAU67",
    "outputId": "bcb55f21-8558-4fbc-fda7-482d9a2c0165"
   },
   "outputs": [
    {
     "name": "stderr",
     "output_type": "stream",
     "text": [
      "C:\\Users\\JAMER_PC\\anaconda3\\lib\\site-packages\\sympy\\core\\sympify.py:383: SymPyDeprecationWarning: \n",
      "\n",
      "String fallback in sympify has been deprecated since SymPy 1.6. Use\n",
      "sympify(str(obj)) or sympy.core.sympify.converter or obj._sympy_\n",
      "instead. See https://github.com/sympy/sympy/issues/18066 for more\n",
      "info.\n",
      "\n",
      "  SymPyDeprecationWarning(\n"
     ]
    },
    {
     "ename": "SympifyError",
     "evalue": "Sympify of expression 'could not parse '<function <lambda> at 0x0FD9A9B8>'' failed, because of exception being raised:\nSyntaxError: invalid syntax (<string>, line 1)",
     "output_type": "error",
     "traceback": [
      "\u001b[1;31m---------------------------------------------------------------------------\u001b[0m",
      "\u001b[1;31mSyntaxError\u001b[0m                               Traceback (most recent call last)",
      "\u001b[1;32m~\\anaconda3\\lib\\site-packages\\sympy\\core\\sympify.py\u001b[0m in \u001b[0;36msympify\u001b[1;34m(a, locals, convert_xor, strict, rational, evaluate)\u001b[0m\n\u001b[0;32m    405\u001b[0m         \u001b[0ma\u001b[0m \u001b[1;33m=\u001b[0m \u001b[0ma\u001b[0m\u001b[1;33m.\u001b[0m\u001b[0mreplace\u001b[0m\u001b[1;33m(\u001b[0m\u001b[1;34m'\\n'\u001b[0m\u001b[1;33m,\u001b[0m \u001b[1;34m''\u001b[0m\u001b[1;33m)\u001b[0m\u001b[1;33m\u001b[0m\u001b[1;33m\u001b[0m\u001b[0m\n\u001b[1;32m--> 406\u001b[1;33m         \u001b[0mexpr\u001b[0m \u001b[1;33m=\u001b[0m \u001b[0mparse_expr\u001b[0m\u001b[1;33m(\u001b[0m\u001b[0ma\u001b[0m\u001b[1;33m,\u001b[0m \u001b[0mlocal_dict\u001b[0m\u001b[1;33m=\u001b[0m\u001b[0mlocals\u001b[0m\u001b[1;33m,\u001b[0m \u001b[0mtransformations\u001b[0m\u001b[1;33m=\u001b[0m\u001b[0mtransformations\u001b[0m\u001b[1;33m,\u001b[0m \u001b[0mevaluate\u001b[0m\u001b[1;33m=\u001b[0m\u001b[0mevaluate\u001b[0m\u001b[1;33m)\u001b[0m\u001b[1;33m\u001b[0m\u001b[1;33m\u001b[0m\u001b[0m\n\u001b[0m\u001b[0;32m    407\u001b[0m     \u001b[1;32mexcept\u001b[0m \u001b[1;33m(\u001b[0m\u001b[0mTokenError\u001b[0m\u001b[1;33m,\u001b[0m \u001b[0mSyntaxError\u001b[0m\u001b[1;33m)\u001b[0m \u001b[1;32mas\u001b[0m \u001b[0mexc\u001b[0m\u001b[1;33m:\u001b[0m\u001b[1;33m\u001b[0m\u001b[1;33m\u001b[0m\u001b[0m\n",
      "\u001b[1;32m~\\anaconda3\\lib\\site-packages\\sympy\\parsing\\sympy_parser.py\u001b[0m in \u001b[0;36mparse_expr\u001b[1;34m(s, local_dict, transformations, global_dict, evaluate)\u001b[0m\n\u001b[0;32m   1007\u001b[0m \u001b[1;33m\u001b[0m\u001b[0m\n\u001b[1;32m-> 1008\u001b[1;33m     \u001b[1;32mreturn\u001b[0m \u001b[0meval_expr\u001b[0m\u001b[1;33m(\u001b[0m\u001b[0mcode\u001b[0m\u001b[1;33m,\u001b[0m \u001b[0mlocal_dict\u001b[0m\u001b[1;33m,\u001b[0m \u001b[0mglobal_dict\u001b[0m\u001b[1;33m)\u001b[0m\u001b[1;33m\u001b[0m\u001b[1;33m\u001b[0m\u001b[0m\n\u001b[0m\u001b[0;32m   1009\u001b[0m \u001b[1;33m\u001b[0m\u001b[0m\n",
      "\u001b[1;32m~\\anaconda3\\lib\\site-packages\\sympy\\parsing\\sympy_parser.py\u001b[0m in \u001b[0;36meval_expr\u001b[1;34m(code, local_dict, global_dict)\u001b[0m\n\u001b[0;32m    901\u001b[0m     \"\"\"\n\u001b[1;32m--> 902\u001b[1;33m     expr = eval(\n\u001b[0m\u001b[0;32m    903\u001b[0m         code, global_dict, local_dict)  # take local objects in preference\n",
      "\u001b[1;31mSyntaxError\u001b[0m: invalid syntax (<string>, line 1)",
      "\nDuring handling of the above exception, another exception occurred:\n",
      "\u001b[1;31mSympifyError\u001b[0m                              Traceback (most recent call last)",
      "\u001b[1;32m<ipython-input-31-a84a2588758d>\u001b[0m in \u001b[0;36m<module>\u001b[1;34m\u001b[0m\n\u001b[0;32m      1\u001b[0m \u001b[0mf_s\u001b[0m \u001b[1;33m=\u001b[0m \u001b[1;32mlambda\u001b[0m \u001b[0mx\u001b[0m\u001b[1;33m:\u001b[0m \u001b[0msp\u001b[0m\u001b[1;33m.\u001b[0m\u001b[0mexp\u001b[0m\u001b[1;33m(\u001b[0m\u001b[1;36m2\u001b[0m\u001b[1;33m*\u001b[0m\u001b[0mx\u001b[0m\u001b[1;33m)\u001b[0m\u001b[1;33m*\u001b[0m\u001b[0msp\u001b[0m\u001b[1;33m.\u001b[0m\u001b[0msin\u001b[0m\u001b[1;33m(\u001b[0m\u001b[1;36m3\u001b[0m\u001b[1;33m*\u001b[0m\u001b[0mx\u001b[0m\u001b[1;33m)\u001b[0m\u001b[1;33m\u001b[0m\u001b[1;33m\u001b[0m\u001b[0m\n\u001b[0;32m      2\u001b[0m \u001b[0mx\u001b[0m \u001b[1;33m=\u001b[0m \u001b[0msp\u001b[0m\u001b[1;33m.\u001b[0m\u001b[0msymbols\u001b[0m\u001b[1;33m(\u001b[0m\u001b[1;34m\"x\"\u001b[0m\u001b[1;33m)\u001b[0m \u001b[1;31m#DEfinicion de x como simbolo.\u001b[0m\u001b[1;33m\u001b[0m\u001b[1;33m\u001b[0m\u001b[0m\n\u001b[1;32m----> 3\u001b[1;33m \u001b[0mfxn5\u001b[0m \u001b[1;33m=\u001b[0m \u001b[0msp\u001b[0m\u001b[1;33m.\u001b[0m\u001b[0mlambdify\u001b[0m\u001b[1;33m(\u001b[0m\u001b[0mx\u001b[0m\u001b[1;33m,\u001b[0m \u001b[0mf_s\u001b[0m\u001b[1;33m,\u001b[0m \u001b[1;34m'numpy'\u001b[0m\u001b[1;33m)\u001b[0m \u001b[1;31m#numpy funcion\u001b[0m\u001b[1;33m\u001b[0m\u001b[1;33m\u001b[0m\u001b[0m\n\u001b[0m",
      "\u001b[1;32m~\\anaconda3\\lib\\site-packages\\sympy\\utilities\\lambdify.py\u001b[0m in \u001b[0;36mlambdify\u001b[1;34m(args, expr, modules, printer, use_imps, dummify)\u001b[0m\n\u001b[0;32m    826\u001b[0m     \u001b[1;32melse\u001b[0m\u001b[1;33m:\u001b[0m\u001b[1;33m\u001b[0m\u001b[1;33m\u001b[0m\u001b[0m\n\u001b[0;32m    827\u001b[0m         \u001b[0mfuncprinter\u001b[0m \u001b[1;33m=\u001b[0m \u001b[0m_EvaluatorPrinter\u001b[0m\u001b[1;33m(\u001b[0m\u001b[0mprinter\u001b[0m\u001b[1;33m,\u001b[0m \u001b[0mdummify\u001b[0m\u001b[1;33m)\u001b[0m\u001b[1;33m\u001b[0m\u001b[1;33m\u001b[0m\u001b[0m\n\u001b[1;32m--> 828\u001b[1;33m     \u001b[0mfuncstr\u001b[0m \u001b[1;33m=\u001b[0m \u001b[0mfuncprinter\u001b[0m\u001b[1;33m.\u001b[0m\u001b[0mdoprint\u001b[0m\u001b[1;33m(\u001b[0m\u001b[0mfuncname\u001b[0m\u001b[1;33m,\u001b[0m \u001b[0margs\u001b[0m\u001b[1;33m,\u001b[0m \u001b[0mexpr\u001b[0m\u001b[1;33m)\u001b[0m\u001b[1;33m\u001b[0m\u001b[1;33m\u001b[0m\u001b[0m\n\u001b[0m\u001b[0;32m    829\u001b[0m \u001b[1;33m\u001b[0m\u001b[0m\n\u001b[0;32m    830\u001b[0m     \u001b[1;31m# Collect the module imports from the code printers.\u001b[0m\u001b[1;33m\u001b[0m\u001b[1;33m\u001b[0m\u001b[1;33m\u001b[0m\u001b[0m\n",
      "\u001b[1;32m~\\anaconda3\\lib\\site-packages\\sympy\\utilities\\lambdify.py\u001b[0m in \u001b[0;36mdoprint\u001b[1;34m(self, funcname, args, expr)\u001b[0m\n\u001b[0;32m   1069\u001b[0m         \u001b[0mfuncbody\u001b[0m\u001b[1;33m.\u001b[0m\u001b[0mextend\u001b[0m\u001b[1;33m(\u001b[0m\u001b[0munpackings\u001b[0m\u001b[1;33m)\u001b[0m\u001b[1;33m\u001b[0m\u001b[1;33m\u001b[0m\u001b[0m\n\u001b[0;32m   1070\u001b[0m \u001b[1;33m\u001b[0m\u001b[0m\n\u001b[1;32m-> 1071\u001b[1;33m         \u001b[0mfuncbody\u001b[0m\u001b[1;33m.\u001b[0m\u001b[0mappend\u001b[0m\u001b[1;33m(\u001b[0m\u001b[1;34m'return ({})'\u001b[0m\u001b[1;33m.\u001b[0m\u001b[0mformat\u001b[0m\u001b[1;33m(\u001b[0m\u001b[0mself\u001b[0m\u001b[1;33m.\u001b[0m\u001b[0m_exprrepr\u001b[0m\u001b[1;33m(\u001b[0m\u001b[0mexpr\u001b[0m\u001b[1;33m)\u001b[0m\u001b[1;33m)\u001b[0m\u001b[1;33m)\u001b[0m\u001b[1;33m\u001b[0m\u001b[1;33m\u001b[0m\u001b[0m\n\u001b[0m\u001b[0;32m   1072\u001b[0m \u001b[1;33m\u001b[0m\u001b[0m\n\u001b[0;32m   1073\u001b[0m         \u001b[0mfunclines\u001b[0m \u001b[1;33m=\u001b[0m \u001b[1;33m[\u001b[0m\u001b[0mfuncsig\u001b[0m\u001b[1;33m]\u001b[0m\u001b[1;33m\u001b[0m\u001b[1;33m\u001b[0m\u001b[0m\n",
      "\u001b[1;32m~\\anaconda3\\lib\\site-packages\\sympy\\printing\\codeprinter.py\u001b[0m in \u001b[0;36mdoprint\u001b[1;34m(self, expr, assign_to)\u001b[0m\n\u001b[0;32m    101\u001b[0m         \u001b[1;32melse\u001b[0m\u001b[1;33m:\u001b[0m\u001b[1;33m\u001b[0m\u001b[1;33m\u001b[0m\u001b[0m\n\u001b[0;32m    102\u001b[0m             \u001b[1;31m# _sympify is not enough b/c it errors on iterables\u001b[0m\u001b[1;33m\u001b[0m\u001b[1;33m\u001b[0m\u001b[1;33m\u001b[0m\u001b[0m\n\u001b[1;32m--> 103\u001b[1;33m             \u001b[0mexpr\u001b[0m \u001b[1;33m=\u001b[0m \u001b[0msympify\u001b[0m\u001b[1;33m(\u001b[0m\u001b[0mexpr\u001b[0m\u001b[1;33m)\u001b[0m\u001b[1;33m\u001b[0m\u001b[1;33m\u001b[0m\u001b[0m\n\u001b[0m\u001b[0;32m    104\u001b[0m \u001b[1;33m\u001b[0m\u001b[0m\n\u001b[0;32m    105\u001b[0m         \u001b[1;31m# keep a set of expressions that are not strictly translatable to Code\u001b[0m\u001b[1;33m\u001b[0m\u001b[1;33m\u001b[0m\u001b[1;33m\u001b[0m\u001b[0m\n",
      "\u001b[1;32m~\\anaconda3\\lib\\site-packages\\sympy\\core\\sympify.py\u001b[0m in \u001b[0;36msympify\u001b[1;34m(a, locals, convert_xor, strict, rational, evaluate)\u001b[0m\n\u001b[0;32m    406\u001b[0m         \u001b[0mexpr\u001b[0m \u001b[1;33m=\u001b[0m \u001b[0mparse_expr\u001b[0m\u001b[1;33m(\u001b[0m\u001b[0ma\u001b[0m\u001b[1;33m,\u001b[0m \u001b[0mlocal_dict\u001b[0m\u001b[1;33m=\u001b[0m\u001b[0mlocals\u001b[0m\u001b[1;33m,\u001b[0m \u001b[0mtransformations\u001b[0m\u001b[1;33m=\u001b[0m\u001b[0mtransformations\u001b[0m\u001b[1;33m,\u001b[0m \u001b[0mevaluate\u001b[0m\u001b[1;33m=\u001b[0m\u001b[0mevaluate\u001b[0m\u001b[1;33m)\u001b[0m\u001b[1;33m\u001b[0m\u001b[1;33m\u001b[0m\u001b[0m\n\u001b[0;32m    407\u001b[0m     \u001b[1;32mexcept\u001b[0m \u001b[1;33m(\u001b[0m\u001b[0mTokenError\u001b[0m\u001b[1;33m,\u001b[0m \u001b[0mSyntaxError\u001b[0m\u001b[1;33m)\u001b[0m \u001b[1;32mas\u001b[0m \u001b[0mexc\u001b[0m\u001b[1;33m:\u001b[0m\u001b[1;33m\u001b[0m\u001b[1;33m\u001b[0m\u001b[0m\n\u001b[1;32m--> 408\u001b[1;33m         \u001b[1;32mraise\u001b[0m \u001b[0mSympifyError\u001b[0m\u001b[1;33m(\u001b[0m\u001b[1;34m'could not parse %r'\u001b[0m \u001b[1;33m%\u001b[0m \u001b[0ma\u001b[0m\u001b[1;33m,\u001b[0m \u001b[0mexc\u001b[0m\u001b[1;33m)\u001b[0m\u001b[1;33m\u001b[0m\u001b[1;33m\u001b[0m\u001b[0m\n\u001b[0m\u001b[0;32m    409\u001b[0m \u001b[1;33m\u001b[0m\u001b[0m\n\u001b[0;32m    410\u001b[0m     \u001b[1;32mreturn\u001b[0m \u001b[0mexpr\u001b[0m\u001b[1;33m\u001b[0m\u001b[1;33m\u001b[0m\u001b[0m\n",
      "\u001b[1;31mSympifyError\u001b[0m: Sympify of expression 'could not parse '<function <lambda> at 0x0FD9A9B8>'' failed, because of exception being raised:\nSyntaxError: invalid syntax (<string>, line 1)"
     ]
    }
   ],
   "source": [
    "f_s = lambda x: sp.exp(2*x)*sp.sin(3*x)\n",
    "x = sp.symbols(\"x\") #DEfinicion de x como simbolo.\n",
    "fxn5 = sp.lambdify(x, f_s, 'numpy') #numpy funcion\n"
   ]
  },
  {
   "cell_type": "code",
   "execution_count": null,
   "metadata": {
    "id": "83GncjrSAlBy"
   },
   "outputs": [],
   "source": [
    "\n",
    "#np.sum(fxn5(x[1:6]))"
   ]
  },
  {
   "cell_type": "code",
   "execution_count": null,
   "metadata": {
    "id": "5pcn7hGMA4PN"
   },
   "outputs": [],
   "source": []
  },
  {
   "cell_type": "code",
   "execution_count": null,
   "metadata": {
    "id": "WhX8ujjqPBEx"
   },
   "outputs": [],
   "source": []
  }
 ],
 "metadata": {
  "colab": {
   "collapsed_sections": [],
   "name": "integracion.ipynb",
   "provenance": []
  },
  "kernelspec": {
   "display_name": "Python 3",
   "language": "python",
   "name": "python3"
  },
  "language_info": {
   "codemirror_mode": {
    "name": "ipython",
    "version": 3
   },
   "file_extension": ".py",
   "mimetype": "text/x-python",
   "name": "python",
   "nbconvert_exporter": "python",
   "pygments_lexer": "ipython3",
   "version": "3.8.5"
  }
 },
 "nbformat": 4,
 "nbformat_minor": 1
}
