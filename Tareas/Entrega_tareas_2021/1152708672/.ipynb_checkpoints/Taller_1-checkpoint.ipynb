{
  "nbformat": 4,
  "nbformat_minor": 0,
  "metadata": {
    "colab": {
      "name": "Taller 1.ipynb",
      "provenance": [],
      "collapsed_sections": []
    },
    "kernelspec": {
      "name": "python3",
      "display_name": "Python 3"
    }
  },
  "cells": [
    {
      "cell_type": "markdown",
      "metadata": {
        "id": "vJjF3fcZAc9e"
      },
      "source": [
        "#**Grupo 7**\r\n",
        "\r\n",
        "##- Miguel Angel Gómez Pineda\r\n",
        "##**Compañero de trabajo:**\r\n",
        "##- Camilo Londoño Vera"
      ]
    },
    {
      "cell_type": "markdown",
      "metadata": {
        "id": "XhlW4bycOcRg"
      },
      "source": [
        "#**Punto 1**\r\n",
        "###Elaborar un algoritmo e implementar en python, el factorial de un número entero n ingresado por el usuario."
      ]
    },
    {
      "cell_type": "code",
      "metadata": {
        "id": "IVpz3NjXOYuk",
        "colab": {
          "base_uri": "https://localhost:8080/"
        },
        "outputId": "10afcd21-1703-4553-fecb-a45ea095a46e"
      },
      "source": [
        "def factorial (n):\r\n",
        "  if n==0:\r\n",
        "    f=1\r\n",
        "  elif n<0:\r\n",
        "    return(\"Ingrese valores positivos\")\r\n",
        "  else:\r\n",
        "    f=n*factorial (n-1)\r\n",
        "  return(f)\r\n",
        "      \r\n",
        "n=int(input(\"Ingrese un número entero y positivo para calcular el factorial:\\n\"))\r\n",
        "x=factorial(n)\r\n",
        "print(x)"
      ],
      "execution_count": null,
      "outputs": [
        {
          "output_type": "stream",
          "text": [
            "Ingrese un número entero y positivo para calcular el factorial:\n",
            "80\n",
            "71569457046263802294811533723186532165584657342365752577109445058227039255480148842668944867280814080000000000000000000\n"
          ],
          "name": "stdout"
        }
      ]
    },
    {
      "cell_type": "markdown",
      "metadata": {
        "id": "X8dlQ-ZBORw2"
      },
      "source": [
        "#**Punto 2**\r\n",
        "###Diseñar un programa que lea dos numero a y b y diga que tipo de numero son, de a cuerdo a la siguiente clasificación:\r\n",
        "\r\n",
        "\r\n",
        "\r\n",
        "*   Números defectivos\r\n",
        "*   Números abundantes\r\n",
        "*   Números amigos   \r\n",
        "*   Números semiperfectos\r\n",
        "*   Números perfectos\r\n",
        "*   Números primos\r\n"
      ]
    },
    {
      "cell_type": "code",
      "metadata": {
        "id": "1mPzgRBQONel",
        "colab": {
          "base_uri": "https://localhost:8080/"
        },
        "outputId": "f404db69-74fc-4664-bbf3-532db2c265d9"
      },
      "source": [
        "def clasif(j):\r\n",
        "  i=1\r\n",
        "  l=[]\r\n",
        "  p=[]\r\n",
        "  for i in range (1,j):\r\n",
        "    c=j%i\r\n",
        "    if c==0:\r\n",
        "      l.append(i)\r\n",
        "   \r\n",
        "  x=sum(l)\r\n",
        "\r\n",
        "  if x<j:\r\n",
        "    print(\"Número defectvo\")\r\n",
        "  elif x>j:\r\n",
        "    print(\"Número abundante\")\r\n",
        "  elif x==j:\r\n",
        "    print(\"Número perfecto\")  \r\n",
        "\r\n",
        "  if x>j:\r\n",
        "    s=x-j\r\n",
        "    if s in l:\r\n",
        "      print(\"Número semiperfecto\")\r\n",
        "\r\n",
        "  for i in range (1,j+1):\r\n",
        "    c=j%i\r\n",
        "    if c==0:\r\n",
        "      p.append(i)\r\n",
        "\r\n",
        "  if len(p)==2:\r\n",
        "    print(\"y es primo\")\r\n",
        "  else:\r\n",
        "    print(\"y no es primo\") \r\n",
        "print(\"Ingrese dos números para saber que tipo de números son:\\n\")\r\n",
        "a=int(input(\"Ingrese el primer número:\\n\"))\r\n",
        "b=int(input(\"Ingrese el segundo número:\\n\"))   \r\n",
        "print(\"El número\",a,\"es:\")\r\n",
        "clasif(a)\r\n",
        "print(\"El número\",b,\"es:\")\r\n",
        "clasif(b)\r\n",
        "\r\n",
        "i=1\r\n",
        "l=[]\r\n",
        "for i in range (1,a):\r\n",
        "  c=a%i\r\n",
        "  if c==0:\r\n",
        "    l.append(i) \r\n",
        "x=sum(l)\r\n",
        "\r\n",
        "j=1\r\n",
        "l1=[]\r\n",
        "for j in range (1,b):\r\n",
        "  c=b%j\r\n",
        "  if c==0:\r\n",
        "    l1.append(j)\r\n",
        "   \r\n",
        "y=sum(l1)\r\n",
        "print(\" \")\r\n",
        "if x==b and y==a:\r\n",
        "  print(a,\"y\",b,\"Son números amigos\")"
      ],
      "execution_count": null,
      "outputs": [
        {
          "output_type": "stream",
          "text": [
            "Ingrese dos números para saber que tipo de números son:\n",
            "\n",
            "Ingrese el primer número:\n",
            "34\n",
            "Ingrese el segundo número:\n",
            "434\n",
            "El número 34 es:\n",
            "Número defectvo\n",
            "y no es primo\n",
            "El número 434 es:\n",
            "Número defectvo\n",
            "y no es primo\n",
            " \n"
          ],
          "name": "stdout"
        }
      ]
    },
    {
      "cell_type": "markdown",
      "metadata": {
        "id": "UJz_lpQEc1Wk"
      },
      "source": [
        "#**Punto 3**\r\n",
        "\r\n",
        "###Determine si un número n entero ingresado por el usuario es un palíndromo, (Retorne `True` en caso afirmativo y `False` en caso contrario)"
      ]
    },
    {
      "cell_type": "code",
      "metadata": {
        "id": "Ts_nn_KadXR0",
        "colab": {
          "base_uri": "https://localhost:8080/"
        },
        "outputId": "26a2c54e-7a34-4b13-a65d-5db755633f7f"
      },
      "source": [
        "x=int(input(\"Ingrese número que desea saber si es palindromo:\\n\"))\r\n",
        "\r\n",
        "s=str(x)\r\n",
        "\r\n",
        "inv=s[::-1]\r\n",
        "\r\n",
        "if s==inv:\r\n",
        "  print(\"True\")\r\n",
        "else:  \r\n",
        "  print(\"False\")\r\n",
        "\r\n"
      ],
      "execution_count": null,
      "outputs": [
        {
          "output_type": "stream",
          "text": [
            "Ingrese número que desea saber si es palindromo:\n",
            "545\n",
            "True\n"
          ],
          "name": "stdout"
        }
      ]
    },
    {
      "cell_type": "markdown",
      "metadata": {
        "id": "3BS8_TzwtXcM"
      },
      "source": [
        "#**Punto 4**\r\n",
        "\r\n",
        "###Dada una cadena de caracteres, entregar una lista donde se retorne:\r\n",
        "\r\n",
        "*   en la primera casilla: True si el caracter del medio es una vocal, False en caso contrario\r\n",
        "*   en la segunda: el numero de vocales en la cadena\r\n",
        "*   en la tercera: el numero de consonantes\r\n",
        "*   en la ultima: la cadena de caracteres invertida (ej: perro, orrep)"
      ]
    },
    {
      "cell_type": "code",
      "metadata": {
        "id": "4Te7I-pquT-N",
        "colab": {
          "base_uri": "https://localhost:8080/"
        },
        "outputId": "c7cbacfd-95f6-4d00-cbb6-cff182b026da"
      },
      "source": [
        "x=str(input(\"Ingrese la cadena de caracteres:\\n\"))\r\n",
        "lista=[]\r\n",
        "voc=[]\r\n",
        "cons=[]\r\n",
        "\r\n",
        "num=len(x)\r\n",
        "mit=int(num/2)\r\n",
        "letra=x[mit]\r\n",
        "\r\n",
        "if letra==\"a\" or letra==\"e\" or letra==\"i\" or letra==\"o\" or letra==\"u\":\r\n",
        "  t=\"true\"\r\n",
        "  lista.append(t)\r\n",
        "else:\r\n",
        "  t=\"false\"\r\n",
        "  lista.append(t)\r\n",
        "\r\n",
        "for i in x:\r\n",
        "  if i==\"a\" or i==\"e\" or i==\"i\" or i==\"o\" or i==\"u\":\r\n",
        "    voc.append(i)\r\n",
        "for j in x:\r\n",
        "  if j!=\"a\" and j!=\"e\" and j!=\"i\" and j!=\"o\" and j!=\"u\":\r\n",
        "    cons.append(j)        \r\n",
        "lista.append(len(voc)) \r\n",
        "lista.append(len(cons))\r\n",
        "lista.append(x[::-1])\r\n",
        "print(lista)"
      ],
      "execution_count": null,
      "outputs": [
        {
          "output_type": "stream",
          "text": [
            "Ingrese la cadena de caracteres:\n",
            "elefante\n",
            "['true', 4, 4, 'etnafele']\n"
          ],
          "name": "stdout"
        }
      ]
    },
    {
      "cell_type": "markdown",
      "metadata": {
        "id": "jsg72t14Ijn6"
      },
      "source": [
        "#**Punto 5**\r\n",
        "\r\n",
        "###Elabore un método para calcular el n-ésimo término de la sucesión de fibonacci"
      ]
    },
    {
      "cell_type": "code",
      "metadata": {
        "id": "sg_Zycga6jDK",
        "colab": {
          "base_uri": "https://localhost:8080/"
        },
        "outputId": "33c95301-d829-42ef-d0a2-06a18c0f487f"
      },
      "source": [
        "def fibonacci(n):\r\n",
        "  if n==0:\r\n",
        "    f=0  \r\n",
        "  elif n==1:\r\n",
        "    f=1  \r\n",
        "  elif n==2:\r\n",
        "    f=1\r\n",
        "  elif n>2:\r\n",
        "    x=0\r\n",
        "    y=1\r\n",
        "    for i in range(0,n):\r\n",
        "      f=x+y\r\n",
        "      y=x\r\n",
        "      x=f\r\n",
        "  return (f)\r\n",
        "\r\n",
        "x=int(input(\"Ingrese número para calcular el valor en la sucesión de Fibonacci:\"))\r\n",
        "z=fibonacci(x)    \r\n",
        "z"
      ],
      "execution_count": null,
      "outputs": [
        {
          "output_type": "stream",
          "text": [
            "Ingrese número para calcular el valor en la sucesión de Fibonacci:45\n"
          ],
          "name": "stdout"
        },
        {
          "output_type": "execute_result",
          "data": {
            "text/plain": [
              "1134903170"
            ]
          },
          "metadata": {
            "tags": []
          },
          "execution_count": 64
        }
      ]
    },
    {
      "cell_type": "markdown",
      "metadata": {
        "id": "6q5LHSZoEvJ5"
      },
      "source": [
        "#**Punto 6**\r\n",
        "\r\n",
        "###Entrar un arreglo de números y ordenarlos de forma ascendente, Ver algoritmo Quicksort."
      ]
    },
    {
      "cell_type": "code",
      "metadata": {
        "id": "N7cp-O9eKFPI",
        "colab": {
          "base_uri": "https://localhost:8080/"
        },
        "outputId": "099574d7-934b-4aa0-d4e6-9310d7cff1ad"
      },
      "source": [
        "import numpy as np\r\n",
        "\r\n",
        "v=np.random.randint(0,50,20)\r\n",
        "\r\n",
        "print(\"Lista sin ordenar:\\n\",v)\r\n",
        "\r\n",
        "for j in range (0,len(v)-1):\r\n",
        "  for i in range (0,len(v)-1):\r\n",
        "    if v[i] > v[i+1]:\r\n",
        "      x=v[i]\r\n",
        "      v[i]=v[i+1]\r\n",
        "      v[i+1]=x\r\n",
        "\r\n",
        "print(\"Lista ordenada:\\n\",v) "
      ],
      "execution_count": null,
      "outputs": [
        {
          "output_type": "stream",
          "text": [
            "Lista sin ordenar:\n",
            " [ 7 27 36 22 42 36  6 24 36 19 27 25 46 22 36  3 39 40 47 22]\n",
            "Lista ordenada:\n",
            " [ 3  6  7 19 22 22 22 24 25 27 27 36 36 36 36 39 40 42 46 47]\n"
          ],
          "name": "stdout"
        }
      ]
    }
  ]
}