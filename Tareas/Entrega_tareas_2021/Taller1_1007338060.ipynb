{
  "nbformat": 4,
  "nbformat_minor": 0,
  "metadata": {
    "colab": {
      "name": "Taller1_1007338060.ipynb",
      "provenance": [],
      "collapsed_sections": []
    },
    "kernelspec": {
      "name": "python3",
      "display_name": "Python 3"
    }
  },
  "cells": [
    {
      "cell_type": "markdown",
      "metadata": {
        "id": "grbcyIZteXIl"
      },
      "source": [
        "NATALI ANDRÉ JULIO BELTRÁN - BRAYAN ALEJANDRO MURILLO GONZÁLEZ 1007338060\n",
        "\n",
        "\n",
        "\n"
      ]
    },
    {
      "cell_type": "code",
      "metadata": {
        "id": "OmlU2rX0YU9J"
      },
      "source": [
        "import random as rd\n",
        "import numpy as np\n",
        "import sys "
      ],
      "execution_count": 2,
      "outputs": []
    },
    {
      "cell_type": "markdown",
      "metadata": {
        "id": "l5PjvkS-FI-g"
      },
      "source": [
        "Factorial\n"
      ]
    },
    {
      "cell_type": "code",
      "metadata": {
        "colab": {
          "base_uri": "https://localhost:8080/"
        },
        "id": "6gATbz5IFBhp",
        "outputId": "63560fa6-be4b-4187-8dba-d8de74bb21ec"
      },
      "source": [
        "n=int(input(\"Ingrese un número entero:\"))\n",
        "if n<0:\n",
        "    print(\"No definido\")\n",
        "\n",
        "if n==0:\n",
        "    print(\"Factorial de 0 es 1\")\n",
        "if n>0:\n",
        "    j=n\n",
        "    fact=1\n",
        "    for i in range (1,n):\n",
        "        fact=n*(j-i)\n",
        "        n=fact\n",
        "\n",
        "    print(\"El factorial de %i es: %i\"%(j,fact))\n"
      ],
      "execution_count": 3,
      "outputs": [
        {
          "output_type": "stream",
          "text": [
            "Ingrese un número entero:14\n",
            "El factorial de 14 es: 87178291200\n"
          ],
          "name": "stdout"
        }
      ]
    },
    {
      "cell_type": "markdown",
      "metadata": {
        "id": "usctDqluHRnV"
      },
      "source": [
        "PALÍNDROMOS"
      ]
    },
    {
      "cell_type": "code",
      "metadata": {
        "id": "efnMNMWI7WTw",
        "colab": {
          "base_uri": "https://localhost:8080/"
        },
        "outputId": "0054ab7a-3a13-409d-d3f9-be4bd6857e67"
      },
      "source": [
        "\n",
        "def palindromo(n):\n",
        "  str_n=str(n)\n",
        "  invertido=int(str_n[::-1])\n",
        "  if n==invertido:\n",
        "    return(print(\"El número %i es un palíndromo\"%(n)))\n",
        "  else:\n",
        "    return(print(\"El número %i no es un palíndromo\"%(n)))\n",
        "palindromo(1664361)"
      ],
      "execution_count": 7,
      "outputs": [
        {
          "output_type": "stream",
          "text": [
            "El número 16661 es un palíndromo\n"
          ],
          "name": "stdout"
        }
      ]
    },
    {
      "cell_type": "markdown",
      "metadata": {
        "id": "nhScDQTTFQSt"
      },
      "source": [
        "Numeros defectivos etc"
      ]
    },
    {
      "cell_type": "code",
      "metadata": {
        "colab": {
          "base_uri": "https://localhost:8080/"
        },
        "id": "5T2cC-IoFble",
        "outputId": "07dc561d-e7d7-48fd-9ce8-ddf2deeb596e"
      },
      "source": [
        "a=int(input(\"Ingrese un número a: \"))\n",
        "b=int(input(\"Ingrese un número b: \"))\n",
        "\n",
        "div_a=[]\n",
        "div_b=[]\n",
        "\n",
        "i=1\n",
        "\n",
        "while i<a:\n",
        "  div=int(a/i)\n",
        "  if  (div*i)-a==0 and i!=a:\n",
        "    div_a.append(i)\n",
        "  i=i+1\n",
        "\n",
        "k=1\n",
        "while k<b:\n",
        "  div=int(b/k)\n",
        "  if  (div*k)-b==0 and k!=b:\n",
        "    div_b.append(k)\n",
        "  k=k+1\n",
        "\n",
        "suma_div_a=0\n",
        "for j in div_a:\n",
        "  suma_div_a+=j\n",
        "\n",
        "suma_div_b=0\n",
        "for j in div_b:\n",
        "  suma_div_b+=j\n",
        "\n",
        "\n",
        "\n",
        "#a\n",
        "if suma_div_a<a:\n",
        "  print(\"El número %i es un número defectivo\"%(a)) \n",
        "if suma_div_a+a>2*a:  \n",
        "  print(\"El número %i es un número abundante\"%(a))\n",
        "if suma_div_a==a:\n",
        "  print(\"El número %i es un número perfecto\"%(a))\n",
        "\n",
        "#b\n",
        "if suma_div_b<b:  \n",
        "  print(\"El número %i es un número defectivo\"%(b))\n",
        "if suma_div_b+b>2*b:  \n",
        "  print(\"El número %i es un número abundante\"%(b))\n",
        "if suma_div_b==b:\n",
        "  print(\"El número %i es un número perfecto\"%(b))\n",
        "\n",
        "\n",
        "#Numeros amigos \n",
        "if suma_div_a==b and suma_div_b==a:\n",
        "  print(\"Los números %i y %i son números amigos\"%(a,b))\n",
        "\n",
        "#primos\n",
        "\n",
        "if div_a[0]==1 and len(div_a)==1:\n",
        "   print(\"El número %i es un número primo\"%(a))\n",
        "if div_b[0]==1 and len(div_b)==1:\n",
        "   print(\"El número %i es un número primo\"%(b))\n",
        "\n",
        "\n",
        "\n",
        "#Numeros semiperfectos\n",
        "\n",
        "#combinatoria\n",
        "def potencia(c):\n",
        "    \"\"\"Calcula y devuelve el conjunto potencia del \n",
        "       conjunto c.\n",
        "    \"\"\"\n",
        "    if len(c) == 0:\n",
        "        return [[]]\n",
        "    r = potencia(c[:-1])\n",
        "    return r + [s + [c[-1]] for s in r]\n",
        "\n",
        "\n",
        "\n",
        "j=0\n",
        "i=0\n",
        "for i in potencia(div_a):\n",
        "  spn=0\n",
        "  for j in i:\n",
        "    spn+=j\n",
        "  if spn==a:\n",
        "    print (\"el numero %i es semiperfecto\"%(a))\n",
        "    break\n",
        "  \n",
        "j=0\n",
        "i=0\n",
        "for i in potencia(div_b):\n",
        "  spn=0\n",
        "  for j in i:\n",
        "    spn+=j\n",
        "  if spn==b:\n",
        "    print (\"el numero %i es semiperfecto\"%(b))\n",
        "    break \n",
        "\n",
        "\n"
      ],
      "execution_count": null,
      "outputs": [
        {
          "output_type": "stream",
          "text": [
            "Ingrese un número a: 220\n",
            "Ingrese un número b: 284\n",
            "El número 220 es un número abundante\n",
            "El número 284 es un número defectivo\n",
            "Los números 220 y 284 son números amigos\n",
            "el numero 220 es semiperfecto\n"
          ],
          "name": "stdout"
        }
      ]
    },
    {
      "cell_type": "markdown",
      "metadata": {
        "id": "BXdICe4dlbCc"
      },
      "source": [
        "CADENA DE CARACTERES\n",
        "\n",
        "\n"
      ]
    },
    {
      "cell_type": "code",
      "metadata": {
        "id": "xtE9Y88QFxrV",
        "colab": {
          "base_uri": "https://localhost:8080/"
        },
        "outputId": "b2be5ff9-1cce-4fd2-9ecf-005a861067c4"
      },
      "source": [
        "palabra=str(input(\"palabra:\"))\n",
        "k=list(palabra)\n",
        "vocal=[\"a\",\"e\",\"i\",\"o\",\"u\"]\n",
        "conson=[\"b\",\"c\",\"d\",\"f\",\"g\",\"h\",\"j\",\"k\"\n",
        "        ,\"l\",\"m\",\"n\",\"ñ\",\"p\",\"q\",\"r\",\"s\",\"t\",\"v\",\"x\",\"y\",\"z\"]\n",
        "\n",
        "resultados=[]\n",
        "#######\n",
        "\n",
        "\n",
        "p_medio = k[(len(k)//2)-1]\n",
        "p_medio_1 = k[(len(k)//2)]# la letra del medio cuando la palabra es impar\n",
        "                          # o la letra siguiente a la del medio en palabras par\n",
        "\n",
        "#  Si la palabra es par\n",
        "if len(k)%2 ==0:  \n",
        "\n",
        "  for i in vocal:\n",
        "    if p_medio == i or p_medio_1 == i:\n",
        "      resultados.append(True)\n",
        "      a = True\n",
        "      break\n",
        "    else:\n",
        "      a = False\n",
        "\n",
        "  if a == False:\n",
        "    for j in conson:\n",
        "      if p_medio == j or p_medio_1 == j:\n",
        "        resultados.append(False)\n",
        "        break\n",
        "\n",
        "#Si la palabra es Impar\n",
        "if len(k)%2 != 0:        \n",
        "  for i in vocal:\n",
        "    if p_medio_1 == i :\n",
        "      resultados.append(True)\n",
        "      a = True\n",
        "      break\n",
        "    else:\n",
        "      a = False\n",
        "  \n",
        "  if a == False:\n",
        "    for j in conson:\n",
        "      if p_medio_1 == j:\n",
        "        resultados.append(False)\n",
        "        break\n",
        "\n",
        "\n",
        "# Número de vocales\n",
        "\n",
        "voc = 0\n",
        "for i in vocal:\n",
        "  for j in k:\n",
        "    if j == i:\n",
        "      voc = voc+1\n",
        "\n",
        "resultados.append(voc)\n",
        "\n",
        "# Número de consonantes\n",
        "cons=0\n",
        "for i in conson:\n",
        "  for j in k:\n",
        "    if j == i:\n",
        "      cons = cons + 1\n",
        "\n",
        "resultados.append(cons)\n",
        "\n",
        "# Palabra invertida\n",
        "p_invertida = palabra[::-1]\n",
        "resultados.append(p_invertida)\n",
        "\n",
        "\n",
        "print(resultados)"
      ],
      "execution_count": null,
      "outputs": [
        {
          "output_type": "stream",
          "text": [
            "palabra:esternocleidomastoideo\n",
            "[True, 11, 11, 'oediotsamodielconretse']\n"
          ],
          "name": "stdout"
        }
      ]
    },
    {
      "cell_type": "markdown",
      "metadata": {
        "id": "rqDVLjwlHXvg"
      },
      "source": [
        "FIBONACCI"
      ]
    },
    {
      "cell_type": "code",
      "metadata": {
        "id": "MS5lS964DXET"
      },
      "source": [
        "def fibo (n):\n",
        "#n=int(input(\"Ingrese el n-esimo término de fibonacci: \"))\n",
        "\n",
        "  if n==0:\n",
        "    print(\" El término 0 de fibonacci es: 0\")\n",
        "\n",
        "  if n==1:\n",
        "    print(\" El término 1 de fibonacci es: 1\")\n",
        "\n",
        "  fibo=[0,1]\n",
        "  if n>1:\n",
        "\n",
        "    for i in range (1,n):\n",
        "      fn=fibo[i]+fibo[i-1]\n",
        "      fibo.append(fn)\n",
        "      \n",
        "    return (print(fibo[n-1]))\n",
        "    \n",
        "\n",
        "  "
      ],
      "execution_count": null,
      "outputs": []
    },
    {
      "cell_type": "markdown",
      "metadata": {
        "id": "IcoHQTLYE0Wf"
      },
      "source": [
        "QUICKSORT\n",
        "\n"
      ]
    },
    {
      "cell_type": "code",
      "metadata": {
        "id": "YM9fVZTyBFMh"
      },
      "source": [
        "\n",
        "l=[22,65,34,13,45,76,89,1,6,3,90]\n",
        "\n",
        "def quicksort(l):\n",
        "  ascendente=[]\n",
        "  for i in range(0,len(l)):\n",
        "    ascendente.append(min(l))\n",
        "    l.remove(min(l))\n",
        "  return(ascendente+l)"
      ],
      "execution_count": null,
      "outputs": []
    }
  ]
}