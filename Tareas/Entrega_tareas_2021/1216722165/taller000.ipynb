{
 "cells": [
  {
   "cell_type": "markdown",
   "metadata": {
    "id": "FRH6ZoPM4KeX"
   },
   "source": [
    "# Taller 0.0 de métodos computacionales para físicos  y astrónomos\n",
    "\n",
    "\n",
    "\n",
    "## Universidad de Antioquia\n",
    "### Profesor: Hernan D. Salinas Jiménez\n",
    "### Grupo de trabajo: \n",
    "###Anny Z. Diossa Castañeda\n",
    "###Yennifer Y. Guerrero Uchima\n"
   ]
  },
  {
   "cell_type": "markdown",
   "metadata": {
    "id": "3IwaMxgT4Kee"
   },
   "source": [
    "## Taller: Sesion 0.0"
   ]
  },
  {
   "cell_type": "markdown",
   "metadata": {
    "id": "SV5BAn7x4Kef"
   },
   "source": [
    "## Unidad 1: \n",
    "\n",
    "Contenido Actitudinal: Observar como el computador produce errores en los cálculos. El computador no maneja infinitas cifras decimales.\n",
    "\n",
    "- Repaso breve del Python\n",
    "- Estructura básica de un programa en Python.\n",
    "- Numpy y rutinas de graficación.\n",
    "- Operaciones aritméticas con reales y complejos.\n",
    "- Números aleatorios, método del congruente lineal y problemas.\n",
    "- Errores: redondeo, truncamiento, sustracción cancelativa, precisiónde la máquina.\n",
    "- Algoritmos"
   ]
  },
  {
   "cell_type": "markdown",
   "metadata": {
    "id": "dgZqZVpe4Kef"
   },
   "source": [
    "## Instrucciones de entrega\n",
    "\n",
    "\n",
    "\n",
    "\n",
    "\n",
    "\n"
   ]
  },
  {
   "cell_type": "markdown",
   "metadata": {
    "id": "J6GPf6qe4Keg"
   },
   "source": [
    "## Problemas\n",
    "1. Elaborar un algoritmo e implementar en python, el factorial de un número entero `n` ingresado por el usuario.\n",
    "     ### Ejemplo de Ejecución\n",
    "    ```python\n",
    "\n",
    "    >>> factorial(3)\n",
    "        6\n",
    "\n",
    "    >>> factorial(1987123)\n",
    "        =???\n",
    "```\n"
   ]
  },
  {
   "cell_type": "code",
   "execution_count": 2,
   "metadata": {
    "id": "2opv_clSQDJp"
   },
   "outputs": [],
   "source": [
    "def factorial(n):\n",
    "    fac = 1\n",
    "    while n > 1:\n",
    "        fac *= n\n",
    "        n -= 1\n",
    "    return fac"
   ]
  },
  {
   "cell_type": "code",
   "execution_count": 3,
   "metadata": {
    "colab": {
     "base_uri": "https://localhost:8080/"
    },
    "id": "RGyaYmZGKaAo",
    "outputId": "147b5c01-9cd7-4e73-ffdb-ef27e48c1151"
   },
   "outputs": [
    {
     "data": {
      "text/plain": [
       "6"
      ]
     },
     "execution_count": 3,
     "metadata": {},
     "output_type": "execute_result"
    }
   ],
   "source": [
    "factorial(3)"
   ]
  },
  {
   "cell_type": "code",
   "execution_count": 4,
   "metadata": {
    "colab": {
     "base_uri": "https://localhost:8080/"
    },
    "id": "nJsaM82HBnYM",
    "outputId": "f9b52966-1d51-4bae-b022-8c4468ba0b03"
   },
   "outputs": [
    {
     "data": {
      "text/plain": [
       "2"
      ]
     },
     "execution_count": 4,
     "metadata": {},
     "output_type": "execute_result"
    }
   ],
   "source": [
    "factorial(2)"
   ]
  },
  {
   "cell_type": "markdown",
   "metadata": {
    "id": "9-JZw0Do4Keg"
   },
   "source": [
    "2. Diseñar un programa que lea dos numero `a` y `b` y diga que tipo de numero son, de a cuerdo a la siguiente clasificación:\n",
    "\n",
    " >- [Números defectivos](https://es.wikipedia.org/wiki/Número_defectivo) : la suma de los divisores propios es menor que el número.\n",
    " >- [Números abundantes](https://es.wikipedia.org/wiki/Número_abundante): la suma de los divisores es mayor que el número.\n",
    " >- [Números amigos](https://es.wikipedia.org/wiki/N%C3%BAmeros_amigos) `a` y `b` tales que a es la suma de los divisores propios de `b` y viceversa.\n",
    " >- [Números semiperfectos](https://es.wikipedia.org/wiki/N%C3%BAmero_semiperfecto) la suma de todos o algunos de los divisores propios es igual al número.\n",
    " >- [Números perfectos](https://es.wikipedia.org/wiki/N%C3%BAmero_perfecto) la suma de todos sus divisores propios, excepto el mismo numero, es igual al número.\n",
    " >- [Números primos](https://es.wikipedia.org/wiki/N%C3%BAmero_primo) el número es divisible unicamente por sí mismo y por 1.\n",
    " "
   ]
  },
  {
   "cell_type": "markdown",
   "metadata": {
    "id": "cARSuKs_4Keh"
   },
   "source": [
    " ### Ejemplo de Ejecución\n",
    "``` python\n",
    "\n",
    "    >>> clase_numero(a = 220, b =  284)\n",
    "        a = 220 y b = 284 son números amigos\n",
    "\n",
    "    >>> clase_numero(a = 24, b = 12 )\n",
    "        a = 24 es un numero abudante y b = 12 es un número defectivo. \n",
    "```\n"
   ]
  },
  {
   "cell_type": "code",
   "execution_count": 5,
   "metadata": {
    "colab": {
     "base_uri": "https://localhost:8080/"
    },
    "id": "g7WvB23qp011",
    "outputId": "3e0c4089-825d-4690-df71-e98374802208"
   },
   "outputs": [
    {
     "name": "stdin",
     "output_type": "stream",
     "text": [
      "Ingrese el número A:  \n"
     ]
    },
    {
     "ename": "ValueError",
     "evalue": "invalid literal for int() with base 10: ''",
     "output_type": "error",
     "traceback": [
      "\u001b[1;31m---------------------------------------------------------------------------\u001b[0m",
      "\u001b[1;31mValueError\u001b[0m                                Traceback (most recent call last)",
      "\u001b[1;32m<ipython-input-5-110efde6aeba>\u001b[0m in \u001b[0;36m<module>\u001b[1;34m\u001b[0m\n\u001b[0;32m     82\u001b[0m \u001b[1;31m# Ejecución principal del programa\u001b[0m\u001b[1;33m\u001b[0m\u001b[1;33m\u001b[0m\u001b[1;33m\u001b[0m\u001b[0m\n\u001b[0;32m     83\u001b[0m \u001b[1;32mif\u001b[0m \u001b[0m__name__\u001b[0m \u001b[1;33m==\u001b[0m \u001b[1;34m'__main__'\u001b[0m\u001b[1;33m:\u001b[0m\u001b[1;33m\u001b[0m\u001b[1;33m\u001b[0m\u001b[0m\n\u001b[1;32m---> 84\u001b[1;33m     \u001b[0ma\u001b[0m\u001b[1;33m=\u001b[0m\u001b[0mint\u001b[0m\u001b[1;33m(\u001b[0m\u001b[0minput\u001b[0m\u001b[1;33m(\u001b[0m\u001b[1;34m\"Ingrese el número A: \"\u001b[0m\u001b[1;33m)\u001b[0m\u001b[1;33m)\u001b[0m\u001b[1;33m\u001b[0m\u001b[1;33m\u001b[0m\u001b[0m\n\u001b[0m\u001b[0;32m     85\u001b[0m     \u001b[0mb\u001b[0m\u001b[1;33m=\u001b[0m\u001b[0mint\u001b[0m\u001b[1;33m(\u001b[0m\u001b[0minput\u001b[0m\u001b[1;33m(\u001b[0m\u001b[1;34m\"Ingrese el número B: \"\u001b[0m\u001b[1;33m)\u001b[0m\u001b[1;33m)\u001b[0m\u001b[1;33m\u001b[0m\u001b[1;33m\u001b[0m\u001b[0m\n\u001b[0;32m     86\u001b[0m \u001b[1;33m\u001b[0m\u001b[0m\n",
      "\u001b[1;31mValueError\u001b[0m: invalid literal for int() with base 10: ''"
     ]
    }
   ],
   "source": [
    "# Función para encontrar los divisores de un número n\n",
    "def divisores(n):\n",
    "    for i in range(1, int(n / 2) + 1):\n",
    "        if n % i == 0:\n",
    "            yield i\n",
    "    yield n\n",
    "\n",
    "# Función para sumar una lista de los divisores de un número.\n",
    "def suma_divisores(lista_divisores):\n",
    "    suma=0\n",
    "    for i in lista_divisores:\n",
    "        suma+=i\n",
    "    return suma\n",
    "\n",
    "# Función para verificar si un número es primo o no.\n",
    "def es_primo(numero):\n",
    "    if numero < 1 or (numero % 2) == 0:\n",
    "        return False\n",
    "    elif numero == 2:\n",
    "        return True\n",
    "    else:\n",
    "        for i in range(3, numero):\n",
    "            if numero % i == 0:\n",
    "                return False\n",
    "        return True  \n",
    "\n",
    "# Función para verificar si un número es semiperfecto\n",
    "def es_semiperfecto(divisores, numero):\n",
    "    if len(divisores)<=1:\n",
    "        return False\n",
    "    suma=0\n",
    "    for i in divisores:\n",
    "        suma+=i\n",
    "        if suma==numero:\n",
    "            return True\n",
    "    return es_semiperfecto(divisores[1:], numero)\n",
    "\n",
    "# Función para verificar los requisitos que cumple cada número\n",
    "def solucion(lista_divisores_a, lista_divisores_b, numero_a, numero_b):\n",
    "    resultado=\"\"\n",
    "    divisores_propios_a=lista_divisores_a[:-1]\n",
    "    divisores_propios_b=lista_divisores_b[:-1]\n",
    "    suma_propios_a=suma_divisores(divisores_propios_a)\n",
    "    suma_propios_b=suma_divisores(divisores_propios_b)\n",
    "\n",
    "    print(\"\")\n",
    "\n",
    "    # Para el número A\n",
    "    print(f\"El número A={numero_a} es:\")\n",
    "    if suma_propios_a<numero_a:\n",
    "        print(f\"- Un número defectivo\")\n",
    "    if suma_propios_a>numero_a:\n",
    "        print(f\"- Un número abundante\")\n",
    "    if suma_propios_a==numero_a:\n",
    "        print(f\"- Un número perfecto\")\n",
    "    if es_primo(numero_a):\n",
    "        print(f\"- Un número primo\")\n",
    "    if es_semiperfecto(divisores_propios_a, numero_a):\n",
    "        print(f\"- Un número semiperfecto\")\n",
    "\n",
    "    print(\"\")\n",
    "\n",
    "    # Para el número B\n",
    "    print(f\"El número B={numero_b} es:\")\n",
    "    if suma_propios_b<numero_b:\n",
    "        print(f\"- Un número defectivo\")\n",
    "    if suma_propios_b>numero_b:\n",
    "        print(f\"- Un número abundante\")\n",
    "    if suma_propios_b==numero_b:\n",
    "        print(f\"- Un número perfecto\")\n",
    "    if es_primo(numero_b):\n",
    "        print(f\"- Un número primo\")\n",
    "    if es_semiperfecto(divisores_propios_b, numero_b):\n",
    "        print(f\"- Un número semiperfecto\")\n",
    "\n",
    "    print(\"\")\n",
    "\n",
    "    # Para ambos números\n",
    "    if suma_propios_a==numero_b or suma_propios_b==numero_a:\n",
    "        print(f\"Los nùmeros A={numero_a} y B={numero_b} son números amigos\")\n",
    "\n",
    "# Ejecución principal del programa\n",
    "if __name__ == '__main__':\n",
    "    a=int(input(\"Ingrese el número A: \"))\n",
    "    b=int(input(\"Ingrese el número B: \"))\n",
    "\n",
    "    divisores_1=list(divisores(a))\n",
    "    divisores_2=list(divisores(b))\n",
    "\n",
    "    solucion(divisores_1, divisores_2, a, b)"
   ]
  },
  {
   "cell_type": "markdown",
   "metadata": {
    "id": "45A4RWSm4Keh"
   },
   "source": [
    "3. Determine si un número `n` entero ingresado por el usuario es un [palíndromo](https://en.wikipedia.org/wiki/Palindromic_number), (Retorne `True` en caso afirmativo y `False` en caso contrario) \n",
    "\n",
    "```python\n",
    "\n",
    "\n",
    "    >>> palindromo(3333333)\n",
    "        True\n",
    "\n",
    "    >>> palindromo(2323)\n",
    "        True\n",
    "        \n",
    "    >>> palindromo(1111349111111)\n",
    "        False\n",
    "```\n",
    "\n",
    "\n"
   ]
  },
  {
   "cell_type": "code",
   "execution_count": 52,
   "metadata": {
    "id": "t57p8he6vkST"
   },
   "outputs": [],
   "source": [
    "def palindromo(n):\n",
    "    \"\"\"\n",
    "    Parameter\n",
    "    ----------\n",
    "    n: Número entero\n",
    "    Return\n",
    "    ------------\n",
    "    False: Si el número es Palindromo\n",
    "    True: Si el número no es Palindromo\n",
    "    \"\"\"\n",
    "#Se define una función que invierta el numero ingresado\n",
    "    def invierte_numero(n):\n",
    "        invertido = 0\n",
    "        while n > 0:\n",
    "            digito = n % 10 \n",
    "            invertido *= 10\n",
    "            invertido += digito\n",
    "            n //= 10\n",
    "        return invertido\n",
    "    invertido = invierte_numero(n)\n",
    "#Se compara el numero invertido con el numero original así es False cuando no es igual y True cuando si\n",
    "    return n == invertido"
   ]
  },
  {
   "cell_type": "code",
   "execution_count": 53,
   "metadata": {
    "colab": {
     "base_uri": "https://localhost:8080/"
    },
    "id": "NJGMu2hYBVQk",
    "outputId": "a2f09964-daaf-48ab-c2b8-6a1ffbe59fb8"
   },
   "outputs": [
    {
     "data": {
      "text/plain": [
       "True"
      ]
     },
     "execution_count": 53,
     "metadata": {
      "tags": []
     },
     "output_type": "execute_result"
    }
   ],
   "source": [
    "palindromo(3333333)"
   ]
  },
  {
   "cell_type": "code",
   "execution_count": 54,
   "metadata": {
    "colab": {
     "base_uri": "https://localhost:8080/"
    },
    "id": "ICgWXDkgBUha",
    "outputId": "d59384bd-8f5d-4e51-d879-c031e65b4db2"
   },
   "outputs": [
    {
     "data": {
      "text/plain": [
       "True"
      ]
     },
     "execution_count": 54,
     "metadata": {
      "tags": []
     },
     "output_type": "execute_result"
    }
   ],
   "source": [
    "palindromo(23232)"
   ]
  },
  {
   "cell_type": "code",
   "execution_count": 55,
   "metadata": {
    "colab": {
     "base_uri": "https://localhost:8080/"
    },
    "id": "IzGhERx1BM3t",
    "outputId": "283f8d9f-cc13-4bc1-e2ad-67de413c6933"
   },
   "outputs": [
    {
     "data": {
      "text/plain": [
       "False"
      ]
     },
     "execution_count": 55,
     "metadata": {
      "tags": []
     },
     "output_type": "execute_result"
    }
   ],
   "source": [
    "palindromo(1111349111111)"
   ]
  },
  {
   "cell_type": "markdown",
   "metadata": {
    "id": "bmQYQxjX4Keh"
   },
   "source": [
    "\n",
    "4. Dada una cadena de caracteres, entregar una lista donde se retorne:\n",
    ">- en la primera casilla: `True` si el caracter del medio es una vocal, `False` en caso contrario \n",
    ">- en la segunda: el numero de vocales en la cadena\n",
    ">- en la tercera: el numero de consonantes\n",
    ">- en la ultima: la cadena de caracteres invertida (ej: perro, orrep)\n",
    "\n",
    "### Ejemplo de Ejecución\n",
    "```python\n",
    "\n",
    ">>> cadena(s ='perro')\n",
    "[False, 2, 3, 'orrep']\n",
    "\n",
    ">>> cadena(s ='murcielago')\n",
    "[True, 5, 5, 'ogaleicrum']\n",
    "\n",
    "```\n"
   ]
  },
  {
   "cell_type": "code",
   "execution_count": 56,
   "metadata": {
    "id": "xgqHY1G6VxWl"
   },
   "outputs": [],
   "source": [
    "def cadena(s):\n",
    "    \"\"\"\n",
    "    Parameter\n",
    "    ----------\n",
    "    s: Cadena de caracteres\n",
    "    Return\n",
    "    ------------\n",
    "    lr: Lista donde \n",
    "        En la primera casilla: True si el caracter del medio es una vocal, False en caso contrario\n",
    "        En la segunda: el numero de vocales en la cadena\n",
    "        En la tercera: el numero de consonantes\n",
    "        En la ultima: la cadena de caracteres invertida\n",
    "    \"\"\"\n",
    "\n",
    "    lr = []   # Lista vacía\n",
    "    vocales = ['a', 'e', 'i', 'o', 'u']\n",
    "\n",
    "# Primera casilla ------------------------\n",
    "\n",
    "    if s[len(s)//2] in vocales:\n",
    "        lr.append(True)\n",
    "    else:\n",
    "        lr.append(False)\n",
    "            \n",
    "# Segunda casilla ------------------------\n",
    "    cont = 0\n",
    "    for i in range(len(vocales)):\n",
    "        cont = cont + s.count(vocales[i])\n",
    "\n",
    "    lr.append(cont)\n",
    "\n",
    "# Tercera casilla ------------------------\n",
    "    conc = 0\n",
    "    for l in s:\n",
    "        if l.isalpha() and not l in vocales:\n",
    "            conc=conc+1\n",
    "        \n",
    "    lr.append(conc)\n",
    "\n",
    "# Cuarta casilla ------------------------\n",
    "    lr.append(s[::-1])\n",
    "    return lr\n"
   ]
  },
  {
   "cell_type": "code",
   "execution_count": 57,
   "metadata": {
    "colab": {
     "base_uri": "https://localhost:8080/"
    },
    "id": "JRwLw-UU0frG",
    "outputId": "287bdfbb-077d-41b7-a2af-ad00862b4327"
   },
   "outputs": [
    {
     "data": {
      "text/plain": [
       "[False, 2, 3, 'orrep']"
      ]
     },
     "execution_count": 57,
     "metadata": {
      "tags": []
     },
     "output_type": "execute_result"
    }
   ],
   "source": [
    "cadena(s = \"perro\")"
   ]
  },
  {
   "cell_type": "code",
   "execution_count": 58,
   "metadata": {
    "colab": {
     "base_uri": "https://localhost:8080/"
    },
    "id": "jRUalYDf0gGV",
    "outputId": "40611a5e-b271-42e8-972b-06588143d67d"
   },
   "outputs": [
    {
     "data": {
      "text/plain": [
       "[True, 5, 5, 'ogaleicrum']"
      ]
     },
     "execution_count": 58,
     "metadata": {
      "tags": []
     },
     "output_type": "execute_result"
    }
   ],
   "source": [
    "cadena(s = \"murcielago\")"
   ]
  },
  {
   "cell_type": "markdown",
   "metadata": {
    "id": "Z6rU_h_q4Kei"
   },
   "source": [
    "\n",
    "5. Elabore un método para calcular el n-ésimo término de la sucesión de fibonacci: \n",
    "\n",
    "$$ f_n = f_{n-1}+f_{n-2}$$\n",
    "\n",
    "Donde $$f_0=0 \\:\\:\\text{ y }\\:\\:f_1=1 $$ así:   $$f_2=1+0=1$$ $$f_3=1+1=2$$  $$f_4=2+1=3$$ y así sucesivamente\n",
    "\n",
    "### Ejemplo de Ejecución\n",
    "```python\n",
    "\n",
    ">>> fibonacci(50)\n",
    "12586269025\n",
    "\n",
    ">>> fibonacci(63)\n",
    "6557470319842\n",
    "```\n"
   ]
  },
  {
   "cell_type": "code",
   "execution_count": 59,
   "metadata": {
    "id": "-DJtxX1dFgUG"
   },
   "outputs": [],
   "source": [
    "def fibonacci(N):\n",
    "    \"\"\"\n",
    "    Parameter\n",
    "    ----------\n",
    "    N: El termino de la serie que desea encontrar\n",
    "\n",
    "    Return\n",
    "    n-esimo: El n-esimo termino de la serie\n",
    "    \n",
    "    \"\"\"\n",
    "    if N<0:\n",
    "        print(\"Ingrese un numero positivo\") #Primero se verifica que el numero ingreso sera positivo\n",
    "    elif N==0: \n",
    "        return 0    # EL primer numero de fibnacci es 0\n",
    "    elif N==1:\n",
    "        return 1    # El segundo numero de fibonacci es 1\n",
    "    else:\n",
    "        n_esimo=fibonacci(N-1)+fibonacci(N-2)\n",
    "        return n_esimo\n"
   ]
  },
  {
   "cell_type": "code",
   "execution_count": 60,
   "metadata": {
    "colab": {
     "base_uri": "https://localhost:8080/"
    },
    "id": "h24C1ubiNtez",
    "outputId": "4a3f1595-27bb-4ceb-8324-ad1a42a71250"
   },
   "outputs": [
    {
     "data": {
      "text/plain": [
       "9227465"
      ]
     },
     "execution_count": 60,
     "metadata": {
      "tags": []
     },
     "output_type": "execute_result"
    }
   ],
   "source": [
    "fibonacci(35)"
   ]
  },
  {
   "cell_type": "markdown",
   "metadata": {
    "id": "1Aezlw_x4Kei"
   },
   "source": [
    "\n",
    "6. Entrar un arreglo de números y ordenarlos de forma ascendente, Ver algoritmo\n",
    "[Quicksort](https://es.wikipedia.org/wiki/Quicksort). \n",
    "\n",
    "\n",
    "```python\n",
    "\n",
    "\n",
    "<<< v = [22, 32, 42, 12, 22, 31, 41, 11, 12, 232, 24, 12, 22]\n",
    "<<< def quicksort(v):\n",
    "\n",
    "<<<     return v\n",
    "<<< w = print(quicksort(v))\n",
    "<<< [11, 12, 12, 12, 22, 22, 22, 24, 31, 32, 41, 42, 232]\n",
    "\n",
    "```\n",
    "\n",
    "Sólo para comprobar tu código,  puedes hacer uso del comando sort de python. \n",
    "```python\n",
    "<<< b = [22, 32, 42, 12, 22, 31, 41, 11, 12, 232, 24, 12, 22]\n",
    "\n",
    "<<< print(b.sort())\n",
    "\n",
    "<<< [11, 12, 12, 12, 22, 22, 22, 24, 31, 32, 41, 42, 232]\n",
    "```"
   ]
  },
  {
   "cell_type": "code",
   "execution_count": 61,
   "metadata": {
    "id": "rFWxRLZmrDRw"
   },
   "outputs": [],
   "source": [
    "def quicksort(v):\n",
    "    \"\"\"\n",
    "    Parameter\n",
    "    ----------\n",
    "    v: lista de numeros desordenados\n",
    "    Return\n",
    "    ---------\n",
    "    v: lista de numeros ordenados de manera accedente    \n",
    "    \"\"\"\n",
    "    tamaño = len(v)\n",
    "    if tamaño <= 1: #Si la lista tiene un solo elemento\n",
    "        return v\n",
    "    else:\n",
    "        pivote = v.pop() #Utilizando la función .pop() se escoge el ultimo elemento de la lista como pivote\n",
    "\n",
    "#A continuación se definen dos listas vacias para ubicar lo elementos de las particiones que se hace con el pivote\n",
    "    particion_derecha = []\n",
    "    particion_izquierda = []\n",
    "\n",
    "#Distribuye en las listas vacias los elementos mayores y menores que el pivote\n",
    "    for elemento in v:\n",
    "        if elemento > pivote:\n",
    "            particion_derecha.append(elemento)\n",
    " \n",
    "        else:\n",
    "            particion_izquierda.append(elemento)\n",
    "\n",
    "#El proceso anterior se repite hasta que nos queda un ultimo pivote de tal forma que la lista queda ordenada\n",
    "\n",
    "    v = quicksort(particion_izquierda) + [pivote] + quicksort(particion_derecha)\n",
    "\n",
    "    return v"
   ]
  },
  {
   "cell_type": "code",
   "execution_count": 62,
   "metadata": {
    "colab": {
     "base_uri": "https://localhost:8080/"
    },
    "id": "6V8ad4fVxwgf",
    "outputId": "ce599319-de8f-486f-c689-a37e8e37191b"
   },
   "outputs": [
    {
     "data": {
      "text/plain": [
       "[11, 12, 12, 12, 22, 22, 22, 24, 31, 32, 41, 42, 232]"
      ]
     },
     "execution_count": 62,
     "metadata": {
      "tags": []
     },
     "output_type": "execute_result"
    }
   ],
   "source": [
    "v = [22, 32, 42, 12, 22, 31, 41, 11, 12, 232, 24, 12, 22]\n",
    "quicksort(v)"
   ]
  },
  {
   "cell_type": "code",
   "execution_count": 63,
   "metadata": {
    "colab": {
     "base_uri": "https://localhost:8080/"
    },
    "id": "Mg9cI_-72vyO",
    "outputId": "4d53a0c3-fd35-4222-a603-dbdf4d6fde92"
   },
   "outputs": [
    {
     "data": {
      "text/plain": [
       "[11, 12, 12, 12, 22, 22, 22, 24, 31, 32, 41, 42, 232]"
      ]
     },
     "execution_count": 63,
     "metadata": {
      "tags": []
     },
     "output_type": "execute_result"
    }
   ],
   "source": [
    "# Se utiliza sort para rectificar el resultado\n",
    "b = [22, 32, 42, 12, 22, 31, 41, 11, 12, 232, 24, 12, 22]\n",
    "b.sort()\n",
    "b"
   ]
  },
  {
   "cell_type": "markdown",
   "metadata": {
    "id": "BTj0eQBs4Kej"
   },
   "source": [
    "## REFERENCIAS.\n",
    "[1] Scripts de un curso de python. [Raul Pollan](https://github.com/rramosp/20182.pcomp)  \n",
    "\n",
    "[2] [Fundamenteos de programación](https://sites.google.com/site/funpropoli/ejercicios-practicos)\n",
    "\n",
    "[3] Scripts de un curso de python. [Fernando Perez](https://github.com/fperez)\n"
   ]
  }
 ],
 "metadata": {
  "colab": {
   "collapsed_sections": [],
   "name": "Copia de taller000.ipynb",
   "provenance": []
  },
  "kernelspec": {
   "display_name": "Python 3",
   "language": "python",
   "name": "python3"
  },
  "language_info": {
   "codemirror_mode": {
    "name": "ipython",
    "version": 3
   },
   "file_extension": ".py",
   "mimetype": "text/x-python",
   "name": "python",
   "nbconvert_exporter": "python",
   "pygments_lexer": "ipython3",
   "version": "3.8.5"
  }
 },
 "nbformat": 4,
 "nbformat_minor": 4
}
