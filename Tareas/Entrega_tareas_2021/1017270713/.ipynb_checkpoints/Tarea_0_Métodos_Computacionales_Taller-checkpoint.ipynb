{
  "nbformat": 4,
  "nbformat_minor": 0,
  "metadata": {
    "colab": {
      "name": "Tarea_0_Métodos_Computacionales_Taller.ipynb",
      "provenance": []
    },
    "kernelspec": {
      "name": "python3",
      "display_name": "Python 3"
    }
  },
  "cells": [
    {
      "cell_type": "markdown",
      "metadata": {
        "id": "bjZtdenAbcHl"
      },
      "source": [
        "Tarea 0 - Sebastian Gaviria Giraldo - 1017270713"
      ]
    },
    {
      "cell_type": "markdown",
      "metadata": {
        "id": "bDZFw5TieP60"
      },
      "source": [
        "#Ejercicio 1 : Factorial"
      ]
    },
    {
      "cell_type": "code",
      "metadata": {
        "colab": {
          "base_uri": "https://localhost:8080/"
        },
        "id": "Usl6edmdeESp",
        "outputId": "31fed3fb-de9e-47d5-e077-4949048b2ac5"
      },
      "source": [
        "def f(n):\n",
        "  if n==0 or n==1:                                    #Valores iniciales de la recursión\n",
        "    return 1\n",
        "  elif n>1:\n",
        "    return n*f(n-1)                                   #Recursión tomando como base los valores iniciales\n",
        "\n",
        "a=int(input(\"Ingrese un número entero positivo:\\n \"))\n",
        "print(f\"El factorial de {a} es: {f(a)}\" )"
      ],
      "execution_count": null,
      "outputs": [
        {
          "output_type": "stream",
          "text": [
            "Ingrese un número entero positivo:\n",
            " 5\n",
            "El factorial de 5 es: 120\n"
          ],
          "name": "stdout"
        }
      ]
    },
    {
      "cell_type": "markdown",
      "metadata": {
        "id": "dGQf8i-Weent"
      },
      "source": [
        "#Ejercicio 2 : Números"
      ]
    },
    {
      "cell_type": "code",
      "metadata": {
        "id": "Tw7g6tBbei9D",
        "colab": {
          "base_uri": "https://localhost:8080/"
        },
        "outputId": "cd0166ea-1e81-48fb-dd7c-824f52b5a8ff"
      },
      "source": [
        "def D(n):\n",
        "  L=[a for a in range(1,n) if n%a==0]     #Se define una función para enlistar los divisores propios del número\n",
        "  return L\n",
        "\n",
        "def S(list):\n",
        "  s=0\n",
        "  for numero in list:                     #Se define una función que suma todos los elementos de una lista\n",
        "    s+=numero\n",
        "  return s\n",
        "\n",
        "def F1(x,y):                              #F1 es una función que suma todos los divisores propios de dos números, y dice si son defectivos y/o abundantes \n",
        "  if S(D(x))<x and S(D(y))<y:\n",
        "    return f\"{x} y {y} son números defectivos\"\n",
        "  elif S(D(x))>x and S(D(y))>y:\n",
        "    return f\"{x} y {y} son números abundantes\"\n",
        "  elif S(D(x))>x and S(D(y))<y:\n",
        "    return f\"{x} es número abundante y {y} es número defectivo\"\n",
        "  elif S(D(x))<x and S(D(y))>y:\n",
        "    return f\"{x} es número defectivo y {y} es número abundante\"\n",
        "  elif S(D(x))>x and S(D(y))>y:\n",
        "    return f\"{x} y {y} son números abundantes\"\n",
        "\n",
        "def F2(x,y):                              #F2 es una función que dice sidos números son amigos, y/o primos\n",
        "  if x==S(D(y)) and y==S(D(x)):\n",
        "    return f\"{x} y {y} son números amigos\"\n",
        "  elif D(x)==[1] and D(y)!=[1]:\n",
        "    return f\"{x} es número primo y {y} no es número primo\"\n",
        "  elif D(y)==[1] and D(x)!=[1]:\n",
        "    return f\"{y} es número primo y {x} no es número primo\"\n",
        "  elif D(x)==[1] and D(y)==[1]:\n",
        "    return f\"{x} y {y} son números primos\"\n",
        "  elif D(x)!=[1] and D(y)!=[1] and x!=S(D(y)) and y!=S(D(x)):\n",
        "    return f\"{x} y {y} no son números primos ni amigos\"\n",
        "\n",
        "def F3(x,y):                              #F3 es una función que dice si dos números son perfectos\n",
        "  if S(D(x))==x and S(D(y))==y:\n",
        "    return f\"{x} y {y} son números perfectos\"\n",
        "  elif S(D(x))==x and S(D(y))!=y:\n",
        "    return f\"{x} es número perfecto y {y} no es número perfecto\"\n",
        "  elif S(D(x))!=x and S(D(y))==y:\n",
        "    return f\"{y} es número perfecto y {x} no es número perfecto\"\n",
        "  elif S(D(x))!=x and S(D(y))!=y:\n",
        "    return f\"{x} y {y} no son números perfectos\"\n",
        "\n",
        "def F4(n):                                #F4 es una función que dice si un número es semiperfecto\n",
        "  for i in range(len(D(n))):\n",
        "    if S(D(n))-D(n)[i]==n:\n",
        "      return  f\"{n} es número semiperfecto\"\n",
        "\n",
        "\n",
        "\n",
        "a=int(input(\"Ingrese un número natural\\n\"))   \n",
        "b=int(input(\"Ingrese otro número natural\\n\"))\n",
        "print(f\"{F1(a,b)}\\n{F2(a,b)}\\n{F3(a,b)}\\n{F4(a)}, {F4(b)}\")  #Se acoplan las 4 funciones F en un print que diga toda la información acerca de dos números"
      ],
      "execution_count": null,
      "outputs": [
        {
          "output_type": "stream",
          "text": [
            "Ingrese un número natural\n",
            "12\n",
            "Ingrese otro número natural\n",
            "24\n",
            "12 y 24 son números abundantes\n",
            "12 y 24 no son números primos ni amigos\n",
            "12 y 24 no son números perfectos\n",
            "12 es número semiperfecto, 24 es número semiperfecto\n"
          ],
          "name": "stdout"
        }
      ]
    },
    {
      "cell_type": "markdown",
      "metadata": {
        "id": "UOmUrq6ee9g3"
      },
      "source": [
        "#Ejercicio 3 : Palíndromos"
      ]
    },
    {
      "cell_type": "code",
      "metadata": {
        "id": "Wbg2vNM6fVRM"
      },
      "source": [
        "def LN(n):                   #Se define una función que recibe un entero como argumento\n",
        "  n=str(n)                   #Se convierte el entero en cadena de caracteres\n",
        "  lista_digitos=[]           \n",
        "  for a in n:\n",
        "    a=int(a)\n",
        "    lista_digitos.append(a)  #Se llena una lista vacía con los dígitos del entero, transformados a int\n",
        "  return lista_digitos       #Se obtiene la lista de los dígitos del número ingresado\n",
        "\n",
        "def P(x):\n",
        "  A=LN(x)                    #Se asigna la lista de dígitos del número ingresado\n",
        "  for i in range(len(A)):\n",
        "    if A[i]==A[-1-i]:        #Se itera para el primer y último dígito, segundo y penúltimo, tercero y antepenúltimo, etc...\n",
        "      return f\"{x} es número palíndromo\"\n",
        "    else:\n",
        "      return f\"{x} no es número palíndromo\"\n",
        "\n",
        "w=input(\"ingrese un número natural\\n\")\n",
        "print(f\"{P(w)}\")"
      ],
      "execution_count": null,
      "outputs": []
    },
    {
      "cell_type": "markdown",
      "metadata": {
        "id": "Pvaov5oRfX97"
      },
      "source": [
        "#Ejercicio 4 : Lista"
      ]
    },
    {
      "cell_type": "code",
      "metadata": {
        "colab": {
          "base_uri": "https://localhost:8080/"
        },
        "id": "u92mukRrffcF",
        "outputId": "5f90fd57-7957-4731-a439-25402f1df094"
      },
      "source": [
        "A=\"aeiou\" #Se define la lista de vocales              \n",
        "\n",
        "def C(string): #Entrada de cadena de caracteres\n",
        "  F=[] #Lista vacía donde se insertarán las vocales de la palabra\n",
        "  L=string\n",
        "  for i in L:\n",
        "    if i in A:\n",
        "      F.append(i) #La lista se llena con las vocales, teniendo en cuenta que para una letra que esté en L y en A, se concluye que es una vocal\n",
        "  return len(F) #La función retorna el número de vocales de la palabra\n",
        "\n",
        "def C1(string):\n",
        "  F=[]\n",
        "  L=string\n",
        "  for i in L:\n",
        "    if i in A:\n",
        "      F.append(i) #Mismo código que en C(string)\n",
        "  return len(string)-len(F) #número de consonantes=número total de letras - número de vocales\n",
        "\n",
        "def C2(string):\n",
        "  B=string\n",
        "  if B[round((len(string)-1)/2)] in A: #Para palabras pares, la mitad se toma como la primera letra de la mitad derecha de la palabra\n",
        "    return True\n",
        "  else:\n",
        "    return False\n",
        "\n",
        "def C3(string): #Función que invierte la palabra\n",
        "  B=string #Se define la cadena de caracteres general\n",
        "  a=B[-1] #Se toma la última letra de la palabra\n",
        "  for i in range(2,len(B)+1):\n",
        "    a+=B[-i] #Se itera a partir de la última letra, y se suman las letras de forma inversa para formar una nueva palabra\n",
        "  return a\n",
        "\n",
        "def I(string):\n",
        "  return [C2(string),C(string),C1(string),C3(string)] #Se crea la función que acopla las cuatro funciones definidas previamente\n",
        "\n",
        "z=input(\"Ingrese una palabra:\\n\")\n",
        "print(f\"{I(z)}\")"
      ],
      "execution_count": null,
      "outputs": [
        {
          "output_type": "stream",
          "text": [
            "Ingrese una palabra:\n",
            "Perro\n",
            "[False, 2, 3, 'orreP']\n"
          ],
          "name": "stdout"
        }
      ]
    },
    {
      "cell_type": "markdown",
      "metadata": {
        "id": "aYsVojF1fgxd"
      },
      "source": [
        "#Ejercicio 5 : Fibonacci"
      ]
    },
    {
      "cell_type": "code",
      "metadata": {
        "id": "jB6YYuCffmC6"
      },
      "source": [
        "def F(n):\n",
        "  if n==0:\n",
        "    return 0\n",
        "  elif n==1 or n==2:    #Recursión con base en 0,1 y 2\n",
        "    return 1\n",
        "  elif n>2: \n",
        "    return F(n-2)+F(n-1)  #Se toma la definición de Fibonacci, partiendo de 1 y 2\n",
        "\n",
        "\n",
        "x=int(input(\"Ingrese un número natural:\\n \"))\n",
        "print(f\"El número fibonacci de {x} es: {F(x)}\" )"
      ],
      "execution_count": null,
      "outputs": []
    },
    {
      "cell_type": "markdown",
      "metadata": {
        "id": "Eb_lB3NRfpNj"
      },
      "source": [
        "#Ejercicio 6 : Lista Ascendente"
      ]
    },
    {
      "cell_type": "code",
      "metadata": {
        "id": "XqtMuCBpfvDH"
      },
      "source": [
        "def O(list):                    \n",
        "  L=list                         \n",
        "  for i in range(len(L)):      \n",
        "    for j in range(len(L)-1):  \n",
        "      a=L[i]                   #Se asigna el valor de la posición L[i] de la lista de entrada\n",
        "      b=L[j]                   #Se asigna el valor de la posición L[j] de la lista de entrada, teniendo en cuenta que j se toma hasta un valor menos de i\n",
        "      if L[j]>L[i]:            #Si el valor de la posición de la izquierda de la lista, es mayor que la de la derecha, \n",
        "        L[i]=b                 #entonces se desplaza hacia la derecha el valor de la izquierda\n",
        "        L[j]=a                 #se hace viceversa para el número a la derecha\n",
        "      else:\n",
        "        L[i]=a                 #Si el número no es mayor, se deja igual la lista y se sigue iterando\n",
        "        L[j]=b\n",
        "  return L                     #Se retorna la lista final que se obtiene de todas las iteraciones"
      ],
      "execution_count": null,
      "outputs": []
    }
  ]
}