{
  "nbformat": 4,
  "nbformat_minor": 0,
  "metadata": {
    "colab": {
      "name": "Tarea 9 - Sebastian Gaviria Giraldo",
      "provenance": []
    },
    "kernelspec": {
      "name": "python3",
      "display_name": "Python 3"
    },
    "language_info": {
      "name": "python"
    }
  },
  "cells": [
    {
      "cell_type": "markdown",
      "metadata": {
        "id": "dB5W1lJE9yBM"
      },
      "source": [
        "#IMPORTACIÓN DE LIBRERÍAS"
      ]
    },
    {
      "cell_type": "code",
      "metadata": {
        "id": "na2zdUNjphY9"
      },
      "source": [
        "import numpy as np\n",
        "import scipy.linalg as la\n",
        "import matplotlib,pylab as plt"
      ],
      "execution_count": 82,
      "outputs": []
    },
    {
      "cell_type": "markdown",
      "metadata": {
        "id": "LSv6qlTh9oaO"
      },
      "source": [
        "#CÓDIGO DESCIFRADO"
      ]
    },
    {
      "cell_type": "code",
      "metadata": {
        "id": "ltMjqY4dQMeW"
      },
      "source": [
        "#Se establecen las dos listas, una correspondiente a números y otra al abecedario\n",
        "\n",
        "abc=['A','B','C','D','E','F','G','H','I','J','K','L','M','N','O','P','Q','R','S','T','U','V','W','X','Y','Z',' ']\n",
        "num=['1','2','3','4','5','6','7','8','9','10','11','12','13','14','15','16','17','18','19','20','21','22','23','24','25','26','27']"
      ],
      "execution_count": 83,
      "outputs": []
    },
    {
      "cell_type": "code",
      "metadata": {
        "colab": {
          "base_uri": "https://localhost:8080/"
        },
        "id": "orYa6e3Y8sfh",
        "outputId": "ecd5fbb4-148d-4224-9411-eb2d45c1d005"
      },
      "source": [
        "#Se define un diccionario con las listas previas\n",
        "\n",
        "d = dict(zip(num,abc))\n",
        "print(d)"
      ],
      "execution_count": 84,
      "outputs": [
        {
          "output_type": "stream",
          "name": "stdout",
          "text": [
            "{'1': 'A', '2': 'B', '3': 'C', '4': 'D', '5': 'E', '6': 'F', '7': 'G', '8': 'H', '9': 'I', '10': 'J', '11': 'K', '12': 'L', '13': 'M', '14': 'N', '15': 'O', '16': 'P', '17': 'Q', '18': 'R', '19': 'S', '20': 'T', '21': 'U', '22': 'V', '23': 'W', '24': 'X', '25': 'Y', '26': 'Z', '27': ' '}\n"
          ]
        }
      ]
    },
    {
      "cell_type": "code",
      "metadata": {
        "id": "LO8P4trK864W"
      },
      "source": [
        "#Se define la matriz de código\n",
        "\n",
        "A = np.array( [[1, 2,-3, 4, 5],\n",
        "               [-2,-5,8,-8,-9],\n",
        "               [1, 2,-2, 7, 9],\n",
        "               [1, 1, 0, 6,12],\n",
        "               [2, 4,-6, 8,11]] )\n",
        "\n",
        "A = np.asmatrix(A)"
      ],
      "execution_count": 85,
      "outputs": []
    },
    {
      "cell_type": "code",
      "metadata": {
        "id": "uagkRJCF9BaZ"
      },
      "source": [
        "A_I = A.I  #Inversión de la matriz de código"
      ],
      "execution_count": 86,
      "outputs": []
    },
    {
      "cell_type": "code",
      "metadata": {
        "id": "YzQGff659ENu"
      },
      "source": [
        "#Matriz del mensaje cifrado\n",
        "\n",
        "B = np.array( [[47, 49,-19, 257,487],\n",
        "               [10,-9, 63, 137, 236],\n",
        "               [79,142,-184,372,536],\n",
        "               [59,70,-40, 332, 588]] )\n",
        "\n",
        "B = np.asmatrix(B)"
      ],
      "execution_count": 87,
      "outputs": []
    },
    {
      "cell_type": "code",
      "metadata": {
        "colab": {
          "base_uri": "https://localhost:8080/"
        },
        "id": "ystMqfij9MZ8",
        "outputId": "2bef4e92-ae12-4029-b512-be169702d0f4"
      },
      "source": [
        "#Operación para el desencriptado\n",
        "\n",
        "M = B@A_I\n",
        "M = M.round().astype('int')\n",
        "M"
      ],
      "execution_count": 88,
      "outputs": [
        {
          "output_type": "execute_result",
          "data": {
            "text/plain": [
              "matrix([[ 1, 18,  5, 27, 25],\n",
              "        [15, 21, 27,  8,  1],\n",
              "        [22,  9, 14,  7, 27],\n",
              "        [ 6, 21, 14, 27, 27]])"
            ]
          },
          "metadata": {},
          "execution_count": 88
        }
      ]
    },
    {
      "cell_type": "code",
      "metadata": {
        "colab": {
          "base_uri": "https://localhost:8080/"
        },
        "id": "r03tr2-i9Tnj",
        "outputId": "e1962282-f6fd-41b9-e4bb-3e77ab09d7fa"
      },
      "source": [
        "#Escribimos el mensaje\n",
        "\n",
        "print( 'El mensaje descifrado es:\\n' )\n",
        "m = ''\n",
        "for i in range( len(M) ):\n",
        "  for j in range( M.shape[1] ):\n",
        "    m += d[f'{M[(i,j)]}']\n",
        "print(m)"
      ],
      "execution_count": 89,
      "outputs": [
        {
          "output_type": "stream",
          "name": "stdout",
          "text": [
            "El mensaje descifrado es:\n",
            "\n",
            "ARE YOU HAVING FUN  \n"
          ]
        }
      ]
    },
    {
      "cell_type": "markdown",
      "metadata": {
        "id": "Kj8sw3oT9t04"
      },
      "source": [
        "#MULTIPLICACIÓN DE MATRICES"
      ]
    },
    {
      "cell_type": "code",
      "metadata": {
        "id": "XTvBeTWPr6DE"
      },
      "source": [
        "def x(matrix1, matrix2):\n",
        "  \n",
        "  matrix1 = np.asmatrix(matrix1)\n",
        "  matrix2 = np.asmatrix(matrix2)\n",
        "\n",
        "  columns1 = matrix1.shape[1]       #Número de columnas de la primera matriz...\n",
        "  rows2 = matrix2.shape[0]    #Debe ser igual al número de filas de la segunda matriz\n",
        "  \n",
        "  #La matriz resultante será del tamaño del número de filas de la matriz 1 por el número de columnas de la matriz 2 \n",
        "  rows1 = matrix1.shape[0]\n",
        "  columns2 = matrix2.shape[1]\n",
        "\n",
        "  Matrix = np.zeros( (rows1, columns2) )  #Definimos la matriz de ceros. Esta matriz, al modificarse, será la matriz resultante\n",
        "\n",
        "  if columns1 != rows2:\n",
        "    print( 'Error : Las matrices deben ser compatibles para la multiplicación' )\n",
        "  \n",
        "  #Hacemos producto escalar entre cada fila de la primera matriz, con cada columna de la segunda matriz\n",
        "  #De esta manera es como se van definiendo las posiciones de la matriz resultante\n",
        "  elif columns1 == rows2:\n",
        "    for i in range( rows1 ):\n",
        "      for j in range( columns2 ):\n",
        "        Matrix[(i,j)] = np.dot( matrix1[i],np.c_[matrix2[:,j]] )\n",
        "    \n",
        "    return Matrix\n",
        "\n",
        "#Nótese que el código funciona incluso para números, tratándolos como matrices de 1x1"
      ],
      "execution_count": 90,
      "outputs": []
    },
    {
      "cell_type": "markdown",
      "metadata": {
        "id": "nuxl150uPinm"
      },
      "source": [
        "* **Pruebas:**"
      ]
    },
    {
      "cell_type": "code",
      "metadata": {
        "colab": {
          "base_uri": "https://localhost:8080/"
        },
        "id": "fbvG-2agsPUI",
        "outputId": "0e8099b4-0c02-452e-ce14-0215ec47d272"
      },
      "source": [
        "M = np.array([np.random.randint(0, 20, 3), np.random.randint(0, 20, 3),np.random.randint(0, 20, 3)])\n",
        "M"
      ],
      "execution_count": 91,
      "outputs": [
        {
          "output_type": "execute_result",
          "data": {
            "text/plain": [
              "array([[14, 13, 12],\n",
              "       [ 2,  7,  5],\n",
              "       [ 9,  8, 13]])"
            ]
          },
          "metadata": {},
          "execution_count": 91
        }
      ]
    },
    {
      "cell_type": "code",
      "metadata": {
        "colab": {
          "base_uri": "https://localhost:8080/"
        },
        "id": "j_CRjNorsQcT",
        "outputId": "fe7f3379-526f-4799-ae1f-14dcdf23a7f5"
      },
      "source": [
        "B = np.array([np.random.randint(0, 20, 4), np.random.randint(0, 20, 4),np.random.randint(0, 20, 4)])\n",
        "B"
      ],
      "execution_count": 92,
      "outputs": [
        {
          "output_type": "execute_result",
          "data": {
            "text/plain": [
              "array([[ 4,  6, 18, 19],\n",
              "       [10, 19,  1,  8],\n",
              "       [11,  2,  9,  8]])"
            ]
          },
          "metadata": {},
          "execution_count": 92
        }
      ]
    },
    {
      "cell_type": "code",
      "metadata": {
        "colab": {
          "base_uri": "https://localhost:8080/"
        },
        "id": "NWhpeIA3sgw4",
        "outputId": "899b05a5-a02f-41aa-e5c7-74c0571736b2"
      },
      "source": [
        "M_1 = x(M,M)\n",
        "M_1"
      ],
      "execution_count": 93,
      "outputs": [
        {
          "output_type": "execute_result",
          "data": {
            "text/plain": [
              "array([[330., 369., 389.],\n",
              "       [ 87., 115., 124.],\n",
              "       [259., 277., 317.]])"
            ]
          },
          "metadata": {},
          "execution_count": 93
        }
      ]
    },
    {
      "cell_type": "code",
      "metadata": {
        "colab": {
          "base_uri": "https://localhost:8080/"
        },
        "id": "a2PIf28hnzQH",
        "outputId": "32d9a8bf-1220-4945-ff08-ebb3aae0c0cc"
      },
      "source": [
        "M_2 = np.dot(M,M)\n",
        "M_2"
      ],
      "execution_count": 94,
      "outputs": [
        {
          "output_type": "execute_result",
          "data": {
            "text/plain": [
              "array([[330, 369, 389],\n",
              "       [ 87, 115, 124],\n",
              "       [259, 277, 317]])"
            ]
          },
          "metadata": {},
          "execution_count": 94
        }
      ]
    },
    {
      "cell_type": "code",
      "metadata": {
        "colab": {
          "base_uri": "https://localhost:8080/"
        },
        "id": "Ek6lv5Lvb4In",
        "outputId": "2f9d6f00-6245-4593-aafa-8ec6247868ed"
      },
      "source": [
        "M_1 == M_2"
      ],
      "execution_count": 95,
      "outputs": [
        {
          "output_type": "execute_result",
          "data": {
            "text/plain": [
              "array([[ True,  True,  True],\n",
              "       [ True,  True,  True],\n",
              "       [ True,  True,  True]])"
            ]
          },
          "metadata": {},
          "execution_count": 95
        }
      ]
    },
    {
      "cell_type": "code",
      "metadata": {
        "id": "wN4yCmCcCCqC",
        "colab": {
          "base_uri": "https://localhost:8080/"
        },
        "outputId": "cdd16e6c-2f92-4fd2-fb7e-eb39695aeac0"
      },
      "source": [
        "x(B,M)"
      ],
      "execution_count": 96,
      "outputs": [
        {
          "output_type": "stream",
          "name": "stdout",
          "text": [
            "Error : Las matrices deben ser compatibles para la multiplicación\n"
          ]
        }
      ]
    },
    {
      "cell_type": "code",
      "metadata": {
        "id": "uUh--_ERbkIt"
      },
      "source": [
        "#np.dot(B,M) ---> Al ejecutar esta línea sale un ValueError, lo que indica que las matrices son incompatibles para el producto"
      ],
      "execution_count": 97,
      "outputs": []
    },
    {
      "cell_type": "code",
      "metadata": {
        "colab": {
          "base_uri": "https://localhost:8080/"
        },
        "id": "8dM-yWm6P5MY",
        "outputId": "df3c58ab-9ca4-4d4d-d959-dcafb521f42a"
      },
      "source": [
        "MB_1 = x(M,B)\n",
        "MB_1"
      ],
      "execution_count": 98,
      "outputs": [
        {
          "output_type": "execute_result",
          "data": {
            "text/plain": [
              "array([[318., 355., 373., 466.],\n",
              "       [133., 155.,  88., 134.],\n",
              "       [259., 232., 287., 339.]])"
            ]
          },
          "metadata": {},
          "execution_count": 98
        }
      ]
    },
    {
      "cell_type": "code",
      "metadata": {
        "colab": {
          "base_uri": "https://localhost:8080/"
        },
        "id": "57M7DVVeQEgS",
        "outputId": "3191514b-4b56-419a-884a-43f42725427e"
      },
      "source": [
        "MB_2 = np.dot(M,B)\n",
        "MB_2"
      ],
      "execution_count": 99,
      "outputs": [
        {
          "output_type": "execute_result",
          "data": {
            "text/plain": [
              "array([[318, 355, 373, 466],\n",
              "       [133, 155,  88, 134],\n",
              "       [259, 232, 287, 339]])"
            ]
          },
          "metadata": {},
          "execution_count": 99
        }
      ]
    },
    {
      "cell_type": "code",
      "metadata": {
        "colab": {
          "base_uri": "https://localhost:8080/"
        },
        "id": "CYGvRuIQQHHM",
        "outputId": "3a8a82f3-3a4e-49f2-c787-9d9e9c8e1a57"
      },
      "source": [
        "MB_1 == MB_2"
      ],
      "execution_count": 100,
      "outputs": [
        {
          "output_type": "execute_result",
          "data": {
            "text/plain": [
              "array([[ True,  True,  True,  True],\n",
              "       [ True,  True,  True,  True],\n",
              "       [ True,  True,  True,  True]])"
            ]
          },
          "metadata": {},
          "execution_count": 100
        }
      ]
    },
    {
      "cell_type": "markdown",
      "metadata": {
        "id": "Us9L2PjvOe-s"
      },
      "source": [
        "#Parte Final\n",
        "\n",
        "Se sabe que un sistema físico es gobernado por las ecuaciones,\n",
        "\n",
        "\n",
        "\n",
        "$$\n",
        "\\begin{matrix}\n",
        "x' &=& 2x&-y&+z \\\\\n",
        "y' &=&   &3y&-1z \\\\\n",
        "z' &=& 2x&+y&+3z\n",
        "\\end{matrix}\n",
        "$$\n",
        "\n",
        "donde $x',y',z'$ son las derivadas, en forma vectorial esto se puede representar como $\\mathbf{r}'=A\\mathbf{r}$ que tiene solución analítica general, $\\mathbf{r} = e^{At} \\mathbf{r}(0)$.<br> \n",
        "\n",
        "a) Diagonalize $A$.<br> \\\\\n",
        "\n",
        "b) Use el hecho de que $f(A) =U f(D) U^{-1}$ para encontrar $x(t),y(t),z(t)$ en el intervalo de tiempo $[0,2]$.<br>. \\\\\n",
        "\n",
        "c) Grafique $x(t),y(t),z(t)$ (use la condición inicial $\\mathbf{r}(0)=(1,1,2))$.<br> \\\\\n",
        "\n",
        "d) Compare el resultado a la solución analítica,\n",
        "\n",
        "$$\n",
        "\\begin{align}\n",
        "2x & = x(0)(e^{2t}(1+e^{2t}-2t)) + y(0) (-2te^{2t}) + z(0)(e^{2t}(-1+e^{2t})), \\\\\n",
        "2y & = x(0)(-e^{2t}(-1+e^{2t}-2t)) + y(0)(2(t+1)e^{2t}) + z(0)(-e^{2t}(-1+e^{2t})), \\\\\n",
        "2z & = x(0)(e^{2t}(-1+e^{2t}+2t)) + y(0)(2te^{2t}) + z(0)(e^{2t}(1+e^{2t})).\n",
        "\\end{align}\n",
        "$$ "
      ]
    },
    {
      "cell_type": "code",
      "metadata": {
        "id": "_pT7FVRiOfh7"
      },
      "source": [
        "#Definimos la matriz de coeficientes\n",
        "\n",
        "x1 = np.array([2, -1, 1])\n",
        "x2 = np.array([0, 3, -1])\n",
        "x3 = np.array([2, 1, +3])\n",
        "\n",
        "A = np.asmatrix([x1,x2,x3])"
      ],
      "execution_count": 134,
      "outputs": []
    },
    {
      "cell_type": "code",
      "metadata": {
        "id": "WDW2X367Sl3y"
      },
      "source": [
        "#Encontramos auto-(vectores, valores) de A\n",
        "\n",
        "E, U = la.eig(A) \n",
        "U = np.asmatrix(U)"
      ],
      "execution_count": 135,
      "outputs": []
    },
    {
      "cell_type": "code",
      "metadata": {
        "colab": {
          "base_uri": "https://localhost:8080/"
        },
        "id": "AXgmFnLdVZ80",
        "outputId": "03541923-ae96-44d0-f145-1779872cfbff"
      },
      "source": [
        "#Diagonalizamos A\n",
        "\n",
        "D = U.I @ (A @U)\n",
        "D.round()"
      ],
      "execution_count": 136,
      "outputs": [
        {
          "output_type": "execute_result",
          "data": {
            "text/plain": [
              "matrix([[ 4.-0.j, -0.+0.j, -0.+0.j],\n",
              "        [-0.-0.j,  2.+0.j,  0.-0.j],\n",
              "        [-0.+0.j,  0.+0.j,  2.-0.j]])"
            ]
          },
          "metadata": {},
          "execution_count": 136
        }
      ]
    },
    {
      "cell_type": "code",
      "metadata": {
        "colab": {
          "base_uri": "https://localhost:8080/"
        },
        "id": "pf5Ecrg5eB8L",
        "outputId": "81da7045-f32b-4a66-c0aa-fb9185cc1f25"
      },
      "source": [
        "E.round() #Autovalores"
      ],
      "execution_count": 137,
      "outputs": [
        {
          "output_type": "execute_result",
          "data": {
            "text/plain": [
              "array([4.+0.j, 2.+0.j, 2.-0.j])"
            ]
          },
          "metadata": {},
          "execution_count": 137
        }
      ]
    },
    {
      "cell_type": "code",
      "metadata": {
        "colab": {
          "base_uri": "https://localhost:8080/"
        },
        "id": "mTHsbKUaeFtD",
        "outputId": "bdecaad8-0b06-4d0b-9eb2-b2b2dd7ea9ef"
      },
      "source": [
        "#Nótese que sí se cumple que D es igual a la matriz diagonal de autovalores\n",
        "\n",
        "np.diag(E,0).round()"
      ],
      "execution_count": 138,
      "outputs": [
        {
          "output_type": "execute_result",
          "data": {
            "text/plain": [
              "array([[4.+0.j, 0.+0.j, 0.+0.j],\n",
              "       [0.+0.j, 2.+0.j, 0.+0.j],\n",
              "       [0.+0.j, 0.+0.j, 2.-0.j]])"
            ]
          },
          "metadata": {},
          "execution_count": 138
        }
      ]
    },
    {
      "cell_type": "code",
      "metadata": {
        "colab": {
          "base_uri": "https://localhost:8080/"
        },
        "id": "MfVUkTISfMOz",
        "outputId": "208982f1-3db9-4025-b0b9-414389f7179b"
      },
      "source": [
        "#Definimos la función encontrada por la EDO\n",
        "\n",
        "f = lambda t: np.exp(E*t) \n",
        "f(0)"
      ],
      "execution_count": 139,
      "outputs": [
        {
          "output_type": "execute_result",
          "data": {
            "text/plain": [
              "array([1.+0.j, 1.+0.j, 1.+0.j])"
            ]
          },
          "metadata": {},
          "execution_count": 139
        }
      ]
    },
    {
      "cell_type": "code",
      "metadata": {
        "id": "37M1iBpDf7C1"
      },
      "source": [
        "#En t = 0\n",
        "r0=np.array([1,1,2])\n",
        "Diagonal = np.diag(f(0), 0)\n",
        "f_A0 = U @ (Diagonal @ U.I)\n",
        "r_0 = f_A0 @ r0"
      ],
      "execution_count": 140,
      "outputs": []
    },
    {
      "cell_type": "code",
      "metadata": {
        "colab": {
          "base_uri": "https://localhost:8080/"
        },
        "id": "1H_dA0kDiQPr",
        "outputId": "d734a540-871a-463a-fdda-7cfa9607e7c8"
      },
      "source": [
        "f_A0.round()"
      ],
      "execution_count": 141,
      "outputs": [
        {
          "output_type": "execute_result",
          "data": {
            "text/plain": [
              "matrix([[ 1.+0.j,  0.+0.j,  0.-0.j],\n",
              "        [ 0.+0.j,  1.+0.j,  0.+0.j],\n",
              "        [-0.-0.j,  0.-0.j,  1.-0.j]])"
            ]
          },
          "metadata": {},
          "execution_count": 141
        }
      ]
    },
    {
      "cell_type": "code",
      "metadata": {
        "colab": {
          "base_uri": "https://localhost:8080/"
        },
        "id": "JHQsReu0iZ6W",
        "outputId": "d7bc5ad5-bfa2-4d73-9136-b934adc17e69"
      },
      "source": [
        "r_0.round()"
      ],
      "execution_count": 142,
      "outputs": [
        {
          "output_type": "execute_result",
          "data": {
            "text/plain": [
              "matrix([[1.+0.j, 1.+0.j, 2.-0.j]])"
            ]
          },
          "metadata": {},
          "execution_count": 142
        }
      ]
    },
    {
      "cell_type": "code",
      "metadata": {
        "colab": {
          "base_uri": "https://localhost:8080/"
        },
        "id": "fu9JExRyiuaF",
        "outputId": "3ef08236-74cf-4b76-c85c-66cbfe6e897b"
      },
      "source": [
        "#Definimos el intervalo como se indica en el problema y convertimos a lista convenientemente\n",
        "t = np.linspace(0,2,100)\n",
        "t = list(t)\n",
        "\n",
        "#Definimos una matriz de ceros\n",
        "Matriz = np.zeros( (len(t), 3) ) #Esta matriz tendrá en cada fila el vector r correspondiente a cada t en [0,2]\n",
        "\n",
        "#De esta manera rellenamos la matriz con cada r en cada t.\n",
        "for value in t:\n",
        "  Diagonal = np.diag( f(value),0 )\n",
        "  f_A = U @ (Diagonal @ U.I)\n",
        "  r = f_A @ r0\n",
        "  Matriz[t.index(value)] = r"
      ],
      "execution_count": 143,
      "outputs": [
        {
          "output_type": "stream",
          "name": "stderr",
          "text": [
            "/usr/local/lib/python3.7/dist-packages/ipykernel_launcher.py:13: ComplexWarning: Casting complex values to real discards the imaginary part\n",
            "  del sys.path[0]\n"
          ]
        }
      ]
    },
    {
      "cell_type": "code",
      "metadata": {
        "id": "VI41PzhuKR5I"
      },
      "source": [
        "#Para cada componente x,y,z separamos sus valores correspondientes en la matriz de la celda anterior\n",
        "\n",
        "x = np.zeros(len(t))\n",
        "for i in range(len(t)):\n",
        "  x[i] = Matriz[(i,0)]\n",
        "\n",
        "y = np.zeros(len(t))\n",
        "for i in range(len(t)):\n",
        "  y[i] = Matriz[(i,1)]\n",
        "\n",
        "z = np.zeros(len(t))\n",
        "for i in range(len(t)):\n",
        "  z[i] = Matriz[(i,2)]"
      ],
      "execution_count": 144,
      "outputs": []
    },
    {
      "cell_type": "code",
      "metadata": {
        "colab": {
          "base_uri": "https://localhost:8080/",
          "height": 535
        },
        "id": "Z6hIFnUsqCeZ",
        "outputId": "4ace2a7e-faa6-46b4-bf08-a72af8bcb53d"
      },
      "source": [
        "#Graficación\n",
        "\n",
        "plt.figure( figsize=(10,8) )\n",
        "\n",
        "plt.plot( t, x, 'm-', label='x(t)' )\n",
        "plt.plot( t, y, 'k-', label='y(t)' )\n",
        "plt.plot( t, z, 'r-', label='z(t)' )\n",
        "\n",
        "plt.xlabel( 't', size=15, labelpad=12 )\n",
        "plt.ylabel( 'f(t)', size=15, labelpad=12 )\n",
        "plt.title( 'Dependencia de la posición respecto al tiempo', pad=12, size=15 )\n",
        "\n",
        "plt.legend()\n",
        "plt.grid()"
      ],
      "execution_count": 145,
      "outputs": [
        {
          "output_type": "display_data",
          "data": {
            "image/png": "[encoded data removed]",
            "text/plain": [
              "<Figure size 720x576 with 1 Axes>"
            ]
          },
          "metadata": {
            "needs_background": "light"
          }
        }
      ]
    },
    {
      "cell_type": "markdown",
      "metadata": {
        "id": "PIRvByciKG--"
      },
      "source": [
        "* **Comparación**"
      ]
    },
    {
      "cell_type": "code",
      "metadata": {
        "id": "rThuGGhJKKCS"
      },
      "source": [
        "#Definimos los resultados de x,y,z que se hallaron de forma analítica\n",
        "\n",
        "r0 = np.array([1,1,2])\n",
        "\n",
        "x1 = lambda t: 0.5*( r0[0]*(np.exp(2*t)*(1+np.exp(2*t)-2*t)) + r0[1]*(-2*t*np.exp(2*t)) + r0[2]*(np.exp(2*t)*(-1+np.exp(2*t))) )\n",
        "y1 = lambda t: 0.5*( r0[0]*(-np.exp(2*t)*(-1+np.exp(2*t)-2*t)) + r0[1]*(2*(t+1)*np.exp(2*t)) + r0[2]*(-np.exp(2*t)*(-1+np.exp(2*t))) )\n",
        "z1 = lambda t: 0.5*( r0[0]*(np.exp(2*t)*(-1+np.exp(2*t)+2*t)) + r0[1]*(2*t*np.exp(2*t)) + r0[2]*(np.exp(2*t)*(1+np.exp(2*t))) )"
      ],
      "execution_count": 146,
      "outputs": []
    },
    {
      "cell_type": "code",
      "metadata": {
        "id": "6EjYvEWtOl6t"
      },
      "source": [
        "#Se hace la diferencia entre cada componente y su forma analítica correspondiente\n",
        "\n",
        "t_ = np.linspace(0,2,100)\n",
        "\n",
        "Dif_x = abs(x-x1(t_))\n",
        "Dif_y = abs(y-y1(t_))\n",
        "Dif_z = abs(z-z1(t_))"
      ],
      "execution_count": 147,
      "outputs": []
    },
    {
      "cell_type": "code",
      "metadata": {
        "colab": {
          "base_uri": "https://localhost:8080/",
          "height": 535
        },
        "id": "qTenQzrNNxZI",
        "outputId": "3ebedc99-ce7e-43df-d9f6-38e10607db77"
      },
      "source": [
        "#Graficamos estas diferencias\n",
        "#Nótese que el error va aumentando a medida que t crece\n",
        "\n",
        "plt.figure( figsize=(10,8) )\n",
        "\n",
        "plt.plot(t_,Dif_x,label='Diferencia en x')\n",
        "plt.plot(t_,Dif_y,label='Diferencia en y')\n",
        "plt.plot(t_,Dif_z,label='Diferencia en z')\n",
        "\n",
        "plt.xlabel('t',size=15,labelpad=12)\n",
        "plt.ylabel('Diferencia',size=15,labelpad=12)\n",
        "plt.title('Diferencias entre soluciones numéricas y analíticas',pad=12,size=15)\n",
        "\n",
        "plt.legend()\n",
        "plt.grid()"
      ],
      "execution_count": 148,
      "outputs": [
        {
          "output_type": "display_data",
          "data": {
            "image/png": "[encoded data removed]",
            "text/plain": [
              "<Figure size 720x576 with 1 Axes>"
            ]
          },
          "metadata": {
            "needs_background": "light"
          }
        }
      ]
    }
  ]
}