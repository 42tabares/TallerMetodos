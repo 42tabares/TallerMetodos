{
 "cells": [
  {
   "cell_type": "markdown",
   "metadata": {
    "id": "n0LNNZOo8p3X"
   },
   "source": [
    "##**Métodos computacionales: Tarea 1.**\r\n",
    "\r\n",
    "Por: Juan Esteban Ospina Holguín y Mariana Toro Escobar."
   ]
  },
  {
   "cell_type": "markdown",
   "metadata": {
    "id": "nXEgkSehTijo"
   },
   "source": [
    "#**1. Factorial**"
   ]
  },
  {
   "cell_type": "code",
   "execution_count": 1,
   "metadata": {
    "colab": {
     "base_uri": "https://localhost:8080/"
    },
    "executionInfo": {
     "elapsed": 372,
     "status": "ok",
     "timestamp": 1615846618019,
     "user": {
      "displayName": "JUAN ESTEBAN OSPINA HOLGUÍN",
      "photoUrl": "",
      "userId": "10503178967285928828"
     },
     "user_tz": 300
    },
    "id": "KoxhURzgT5ek",
    "outputId": "a658b5a4-b814-4ec6-bcb7-f01f729018c8"
   },
   "outputs": [
    {
     "name": "stdout",
     "output_type": "stream",
     "text": [
      "120\n"
     ]
    }
   ],
   "source": [
    "\"\"\"Este código calcula el factorial de un número\"\"\"\r\n",
    "def factorial(n):\r\n",
    "  if n==0: print(1)\r\n",
    "  else:\r\n",
    "    a=1                                           #valor inicial\r\n",
    "    for i in range(n): \r\n",
    "      c=a*(i+1)\r\n",
    "      a=c # se hace el ciclo para la multiplicación 1*2*3.....n\r\n",
    "    print(c)\r\n",
    "  return                                   # se retorna el resultado\r\n",
    "\r\n",
    "factorial(5) #ejecución"
   ]
  },
  {
   "cell_type": "markdown",
   "metadata": {
    "id": "nWR7nUasuJhX"
   },
   "source": [
    "##**2. Categorías para números** "
   ]
  },
  {
   "cell_type": "code",
   "execution_count": 2,
   "metadata": {
    "colab": {
     "base_uri": "https://localhost:8080/"
    },
    "executionInfo": {
     "elapsed": 559,
     "status": "ok",
     "timestamp": 1615846618243,
     "user": {
      "displayName": "JUAN ESTEBAN OSPINA HOLGUÍN",
      "photoUrl": "",
      "userId": "10503178967285928828"
     },
     "user_tz": 300
    },
    "id": "DZHGCc6wWp8w",
    "outputId": "d4e5cabe-c164-4529-9735-f6e9195747d2"
   },
   "outputs": [
    {
     "name": "stdout",
     "output_type": "stream",
     "text": [
      "284 y 220 son números amigos\n",
      "284 es defectivo\n",
      "220 es abundante\n"
     ]
    }
   ],
   "source": [
    "\"\"\"Este código categoriza un par de números como perfectos, semiperfectos, amigos, abundantes o defectivos\"\"\"\r\n",
    "def divisores(n): #cálculo de divisores\r\n",
    "  d=[]\r\n",
    "  for i in range(1,n):\r\n",
    "    if n % i == 0:\r\n",
    "      d.append(i)\r\n",
    "  return d\r\n",
    "\r\n",
    "def defeoabun(a,b):#defectivos o abundantes\r\n",
    "  t=[]\r\n",
    "  for k in [a,b]:\r\n",
    "    p =(sum(divisores(k)))\r\n",
    "    t.append(p)\r\n",
    "    if p<k: print(k, \"es defectivo\")\r\n",
    "    else:print(k, \"es abundante\")\r\n",
    "  return \r\n",
    "\r\n",
    "def amigos(a,b): #amigos\r\n",
    "  p =(sum(divisores(a)))\r\n",
    "  q =(sum(divisores(b)))\r\n",
    "  if a ==q and p==b: \r\n",
    "   print(a,\"y\",b,\"son números amigos\")\r\n",
    "   return\r\n",
    "\r\n",
    "def perfecto(a):#número perfecto\r\n",
    "  c=sum(divisores(a))-a\r\n",
    "  if sum(divisores(a)) == a:\r\n",
    "    print(a,\"es un número perfecto\")\r\n",
    "  elif c in divisores(a):\r\n",
    "    print(a,\"es un número semiperfecto\")\r\n",
    "  return\r\n",
    "\r\n",
    "def primo(a):#primo\r\n",
    "  if len(divisores(a)) ==1:\r\n",
    "    print(a,\"es primo\")\r\n",
    "  return\r\n",
    "\r\n",
    "def clase_numero(a,b):#se reúnen todas las categorías\r\n",
    "  amigos(a,b)\r\n",
    "  defeoabun(a,b)\r\n",
    "  for i in [a,b]: perfecto(i); primo(i)\r\n",
    "  return\r\n",
    "\r\n",
    "clase_numero(284,220) #ejecución"
   ]
  },
  {
   "cell_type": "markdown",
   "metadata": {
    "id": "dznsj604Ls9P"
   },
   "source": [
    "##**3. Palíndromo**"
   ]
  },
  {
   "cell_type": "code",
   "execution_count": 3,
   "metadata": {
    "colab": {
     "base_uri": "https://localhost:8080/"
    },
    "executionInfo": {
     "elapsed": 551,
     "status": "ok",
     "timestamp": 1615846618245,
     "user": {
      "displayName": "JUAN ESTEBAN OSPINA HOLGUÍN",
      "photoUrl": "",
      "userId": "10503178967285928828"
     },
     "user_tz": 300
    },
    "id": "hjL-TslELxFh",
    "outputId": "a047886a-e224-4b60-c4cc-c12123e31a61"
   },
   "outputs": [
    {
     "data": {
      "text/plain": [
       "True"
      ]
     },
     "execution_count": 3,
     "metadata": {},
     "output_type": "execute_result"
    }
   ],
   "source": [
    "\"\"\"Este código determina si un número entero es palíndromo\"\"\"\r\n",
    "def palindromo(n): #definición de la función\r\n",
    "  n=str(n) \r\n",
    "  inv=n[::-1]         \r\n",
    "  if inv == n:\r\n",
    "    return True\r\n",
    "  else: \r\n",
    "    return False\r\n",
    "\r\n",
    "palindromo(1881) #ejecución"
   ]
  },
  {
   "cell_type": "markdown",
   "metadata": {
    "id": "adjJ-2FdBI4H"
   },
   "source": [
    "#**4. Cadena de caracteres**"
   ]
  },
  {
   "cell_type": "code",
   "execution_count": 4,
   "metadata": {
    "colab": {
     "base_uri": "https://localhost:8080/"
    },
    "executionInfo": {
     "elapsed": 826,
     "status": "ok",
     "timestamp": 1615846618530,
     "user": {
      "displayName": "JUAN ESTEBAN OSPINA HOLGUÍN",
      "photoUrl": "",
      "userId": "10503178967285928828"
     },
     "user_tz": 300
    },
    "id": "uyHiR5EjBRHB",
    "outputId": "956cae87-1753-4d5b-94c5-693e712d5aa3"
   },
   "outputs": [
    {
     "data": {
      "text/plain": [
       "[False, 2, 3, 'orrep']"
      ]
     },
     "execution_count": 4,
     "metadata": {},
     "output_type": "execute_result"
    }
   ],
   "source": [
    "\"\"\"Este código toma una cadena de caracteres y devuelve información sobre ello\"\"\"\r\n",
    "def cadena(s =\"\"): #definición de la función\r\n",
    "  s=str(s)\r\n",
    "  lista=[0,0,0,0]\r\n",
    "  vocales= 0\r\n",
    "  consonantes= 0\r\n",
    "\r\n",
    "  longitud = len(s)//2 #casilla 1   #identifica el caracter del medio\r\n",
    "  if s[longitud] =='a' or s[longitud] =='e' or s[longitud] =='i' or s[longitud] =='o' or s[longitud] =='u': \r\n",
    "    lista[0]= True #ubica el resultado en la posición 0 de la lista, es decir la 1\r\n",
    "  else:\r\n",
    "    lista[0]= False\r\n",
    "\r\n",
    "  for i in s: #casillas 2 y 3\r\n",
    "    if i =='a' or i =='e' or i =='i' or i =='o' or i =='u':\r\n",
    "      vocales= vocales +1\r\n",
    "      lista[1]= vocales  #ubica el resultado en la posición 1 de la lista, es decir la 2\r\n",
    "    else: \r\n",
    "      consonantes= consonantes + 1\r\n",
    "      lista[2]= consonantes #ubica el resultado en la posición 2 de la lista, es decir la 3\r\n",
    "\r\n",
    "  lista[3]= s[::-1] #casilla 4      #ubica el resultado en la posición 3 de la lista, es decir la 4\r\n",
    "  return lista\r\n",
    "\r\n",
    "cadena(s=\"perro\") #ejecución"
   ]
  },
  {
   "cell_type": "markdown",
   "metadata": {
    "id": "_ribrLcQIlgE"
   },
   "source": [
    "\r\n",
    "\r\n",
    "##**5. Fibonacci**\r\n",
    "\r\n"
   ]
  },
  {
   "cell_type": "code",
   "execution_count": 5,
   "metadata": {
    "colab": {
     "base_uri": "https://localhost:8080/"
    },
    "executionInfo": {
     "elapsed": 431,
     "status": "ok",
     "timestamp": 1615846635732,
     "user": {
      "displayName": "JUAN ESTEBAN OSPINA HOLGUÍN",
      "photoUrl": "",
      "userId": "10503178967285928828"
     },
     "user_tz": 300
    },
    "id": "QpyGzY1TIYuu",
    "outputId": "43931157-48f5-44ab-9b8c-ecf645970ec1"
   },
   "outputs": [
    {
     "data": {
      "text/plain": [
       "144"
      ]
     },
     "execution_count": 5,
     "metadata": {},
     "output_type": "execute_result"
    }
   ],
   "source": [
    "\"\"\"Este código muestra el n-ésimo término para la sucesión de Fibonacci \"\"\"\r\n",
    "def fibonacci(n): #definición de la función\r\n",
    "    a, b = 0, 1\r\n",
    "    for i in range(n):\r\n",
    "        a, b = b, a + b\r\n",
    "    return a\r\n",
    "\r\n",
    "fibonacci(12) #ejecución"
   ]
  },
  {
   "cell_type": "markdown",
   "metadata": {
    "id": "boi7gOE7xRYp"
   },
   "source": [
    "##**6. Organizar números**"
   ]
  },
  {
   "cell_type": "code",
   "execution_count": 6,
   "metadata": {
    "colab": {
     "base_uri": "https://localhost:8080/"
    },
    "executionInfo": {
     "elapsed": 808,
     "status": "ok",
     "timestamp": 1615846618532,
     "user": {
      "displayName": "JUAN ESTEBAN OSPINA HOLGUÍN",
      "photoUrl": "",
      "userId": "10503178967285928828"
     },
     "user_tz": 300
    },
    "id": "VM6lsP-m36HQ",
    "outputId": "719e9690-d892-4596-9c2d-fc218dda8a27"
   },
   "outputs": [
    {
     "name": "stdout",
     "output_type": "stream",
     "text": [
      "[11, 12, 12, 12, 22, 22, 22, 24, 31, 32, 41, 42, 232]\n"
     ]
    }
   ],
   "source": [
    "\"\"\"Este código ordena de maera ascente una lista con números\"\"\"\r\n",
    "v = [22, 32, 42, 12, 22, 31, 41, 11, 12, 232, 24, 12, 22] #lista a ordenar\r\n",
    "def quicksort(v): #se define la función\r\n",
    "  k=[]                    #lista auxiliar: se usará para agregar los números en forma ascendente\r\n",
    "  for i in range(len(v)): \r\n",
    "    a=min(v)            #se calcula el mínimo de la lista\r\n",
    "    k.append(a)       #se agrega a la lista auxiliar\r\n",
    "    v.remove(min(v)) #se elimina el dato anexado a la lista auxiliar, se hace mas pequeña la lista inicial\r\n",
    "                              #se repite el proceso hasta que la lista v quede vacia\r\n",
    "  v=k                     #se reasigna\r\n",
    "  return v              #se retorna la lista ordenada \r\n",
    "\r\n",
    "print(quicksort(v)) #ejecución"
   ]
  },
  {
   "cell_type": "code",
   "execution_count": null,
   "metadata": {},
   "outputs": [],
   "source": []
  },
  {
   "cell_type": "code",
   "execution_count": null,
   "metadata": {},
   "outputs": [],
   "source": []
  }
 ],
 "metadata": {
  "accelerator": "TPU",
  "colab": {
   "collapsed_sections": [],
   "name": "Tarea1_Métodos",
   "provenance": []
  },
  "kernelspec": {
   "display_name": "Python 3",
   "language": "python",
   "name": "python3"
  },
  "language_info": {
   "codemirror_mode": {
    "name": "ipython",
    "version": 3
   },
   "file_extension": ".py",
   "mimetype": "text/x-python",
   "name": "python",
   "nbconvert_exporter": "python",
   "pygments_lexer": "ipython3",
   "version": "3.8.5"
  }
 },
 "nbformat": 4,
 "nbformat_minor": 4
}
