{
  "nbformat": 4,
  "nbformat_minor": 0,
  "metadata": {
    "colab": {
      "name": "Tarea_08_integracion1.ipynb",
      "provenance": [],
      "collapsed_sections": []
    },
    "kernelspec": {
      "name": "python3",
      "display_name": "Python 3"
    }
  },
  "cells": [
    {
      "cell_type": "markdown",
      "metadata": {
        "id": "mQBkjnT93zg1"
      },
      "source": [
        "## $\\textbf{Tarea 08: Integración}$\n",
        "### $\\textbf{Métodos Computacionales: Taller}$\n",
        "#### $\\textbf{Gabriel Cataño Sánchez}$"
      ]
    },
    {
      "cell_type": "markdown",
      "metadata": {
        "id": "U9TjqwZ-oaJY"
      },
      "source": [
        "# Integrales definidas:   Este programa muestra como es el uso del cálculo del error en el metodo del trapecio "
      ]
    },
    {
      "cell_type": "markdown",
      "metadata": {
        "id": "McFGDoF36X_w"
      },
      "source": [
        "#Metodo del trapecio\n",
        "\n",
        "> $$\n",
        "  \\int_{a}^{b} f(x)\\,dx \n",
        "  = \\sum_{i=0}^{N-1}  \\int_{i}^{x_{i+1}} f(x)\\,dx\n",
        "  =  \\frac{h}{2} \\sum_{i=0}^{N-1}(f(x_i)+f(x_{i+1})) \n",
        "    - \\frac{(b-a) h^2}{12}f''(\\xi),\n",
        "  $$\n",
        "\n",
        "donde $\\xi\\in [b,a]$, $h=a-b$\n",
        "\n",
        "\\epsilon=0.001\n",
        "\n"
      ]
    },
    {
      "cell_type": "markdown",
      "metadata": {
        "id": "NpUQnUHt6r67"
      },
      "source": [
        "## Cálculo del error para que sea menor $\\epsilon$. \n",
        "\n",
        "Sea \n",
        "\n",
        ">$$\n",
        " \\int_0^1 \\log(1+x^2)\\, dx\n",
        " $$\n",
        "\n",
        " \\epsilon=0.001\n"
      ]
    },
    {
      "cell_type": "code",
      "metadata": {
        "id": "YFZcnjp26rbs"
      },
      "source": [
        "a, b = 0,  1.\n",
        "\n",
        "def f(x): \n",
        "  return np.log(1 + x ** 2)\n",
        "\n",
        "epsilon = 0.001"
      ],
      "execution_count": 18,
      "outputs": []
    },
    {
      "cell_type": "markdown",
      "metadata": {
        "id": "L9Lq0NfL7JrK"
      },
      "source": [
        "Para encontrar el error, se debe de encontrar el maximo de $f''(\\xi)$, para ello empleemos la libreria sympy, para mostrar que la derivada de la función es:\n",
        "\n",
        "\n",
        "  * $\\displaystyle f'(x)=\\frac{2x}{1+x^2}$\n",
        "  * $\\displaystyle f''(x)=\\frac{2(1+x^2) - 2x\\cdot2x}{(1+x^2)^2}\n",
        "      = \\frac{2 - 2x^2}{(1+x^2)^2}$\n",
        "  \n"
      ]
    },
    {
      "cell_type": "code",
      "metadata": {
        "id": "m9lnKNRB6Ztv"
      },
      "source": [
        "#=================================================\n",
        "import sympy as sp \n",
        "import numpy as np\n",
        "import matplotlib.pylab as plt\n",
        "from sympy import init_printing\n",
        "from scipy import  optimize\n",
        "init_printing() \n",
        "#=================================================\n"
      ],
      "execution_count": 1,
      "outputs": []
    },
    {
      "cell_type": "code",
      "metadata": {
        "id": "Aftxe0I-8lkp"
      },
      "source": [
        "f_s = lambda x: sp.log(1 + x**2)#Definicion de la función \n",
        "x = sp.symbols(\"x\") #DEfinicion de x como simbolo.\n"
      ],
      "execution_count": 2,
      "outputs": []
    },
    {
      "cell_type": "code",
      "metadata": {
        "colab": {
          "base_uri": "https://localhost:8080/",
          "height": 73
        },
        "id": "OIMFBzjLFSUS",
        "outputId": "50cedbfa-3573-4947-ff39-ed4139de5b1d"
      },
      "source": [
        "sp.diff(f_s(x), x, 3)"
      ],
      "execution_count": 3,
      "outputs": [
        {
          "output_type": "execute_result",
          "data": {
            "image/png": "[encoded data removed]",
            "text/latex": "$\\displaystyle \\frac{4 x \\left(\\frac{4 x^{2}}{x^{2} + 1} - 3\\right)}{\\left(x^{2} + 1\\right)^{2}}$",
            "text/plain": [
              "    ⎛    2     ⎞\n",
              "    ⎜ 4⋅x      ⎟\n",
              "4⋅x⋅⎜────── - 3⎟\n",
              "    ⎜ 2        ⎟\n",
              "    ⎝x  + 1    ⎠\n",
              "────────────────\n",
              "           2    \n",
              "   ⎛ 2    ⎞     \n",
              "   ⎝x  + 1⎠     "
            ]
          },
          "metadata": {},
          "execution_count": 3
        }
      ]
    },
    {
      "cell_type": "code",
      "metadata": {
        "colab": {
          "base_uri": "https://localhost:8080/"
        },
        "id": "GpB6QqD5FP3p",
        "outputId": "c0c4de2d-6fbe-4e4f-abac-b3f3a52a64ee"
      },
      "source": [
        "print(f_s(x))\n",
        "print(sp.diff(f_s(x), x, 1))\n",
        "print(sp.diff(f_s(x), x, 2))\n",
        "print(sp.diff(f_s(x), x, 3))\n"
      ],
      "execution_count": 4,
      "outputs": [
        {
          "output_type": "stream",
          "name": "stdout",
          "text": [
            "log(x**2 + 1)\n",
            "2*x/(x**2 + 1)\n",
            "2*(-2*x**2/(x**2 + 1) + 1)/(x**2 + 1)\n",
            "4*x*(4*x**2/(x**2 + 1) - 3)/(x**2 + 1)**2\n"
          ]
        }
      ]
    },
    {
      "cell_type": "code",
      "metadata": {
        "id": "Q1O4udXk99iM",
        "colab": {
          "base_uri": "https://localhost:8080/",
          "height": 568
        },
        "outputId": "99df5da6-0feb-4df7-a9b5-b4e58d1b0dc9"
      },
      "source": [
        "#Numpy funcion para evaluar la funcion de sympy\n",
        "f2 = sp.diff(f_s(x), x, 2)\n",
        "\n",
        "#numpy funcion\n",
        "fxn5 = sp.lambdify(x, -f2, 'numpy')\n",
        "\n",
        "x_ = np.linspace(-1, 1)\n",
        "print(fxn5(x_))\n",
        "\n",
        "#Gráfica de la segunda derivada de f(x) invertida para hllar el mínimo, esto es, el máximo en f''(x)\n",
        "plt.figure(figsize=(10,6))\n",
        "plt.plot(x_, fxn5(x_))\n",
        "plt.title('Segunda derivada de $f(x)$', size=18)\n",
        "plt.xlabel(\"$x$\", size =15)\n",
        "plt.ylabel(\"$-f''(x)$\", size=15)\n",
        "plt.grid()\n",
        "plt.show()"
      ],
      "execution_count": 12,
      "outputs": [
        {
          "output_type": "stream",
          "name": "stdout",
          "text": [
            "[-0.         -0.0433832  -0.09216949 -0.14675178 -0.20749549 -0.2747196\n",
            " -0.34867367 -0.42951059 -0.51725552 -0.61177148 -0.71272293 -0.81953924\n",
            " -0.93138078 -1.04711109 -1.16527943 -1.28411812 -1.4015594  -1.51527551\n",
            " -1.62274433 -1.7213407  -1.80845033 -1.8816     -1.9385946  -1.97764915\n",
            " -1.99750277 -1.99750277 -1.97764915 -1.9385946  -1.8816     -1.80845033\n",
            " -1.7213407  -1.62274433 -1.51527551 -1.4015594  -1.28411812 -1.16527943\n",
            " -1.04711109 -0.93138078 -0.81953924 -0.71272293 -0.61177148 -0.51725552\n",
            " -0.42951059 -0.34867367 -0.2747196  -0.20749549 -0.14675178 -0.09216949\n",
            " -0.0433832  -0.        ]\n"
          ]
        },
        {
          "output_type": "display_data",
          "data": {
            "image/png": "[encoded data removed]",
            "text/plain": [
              "<Figure size 720x432 with 1 Axes>"
            ]
          },
          "metadata": {
            "needs_background": "light"
          }
        }
      ]
    },
    {
      "cell_type": "code",
      "metadata": {
        "id": "PBVNzuXEbwtn",
        "colab": {
          "base_uri": "https://localhost:8080/"
        },
        "outputId": "7a905251-43c2-413d-da86-3cb4b49ef9a0"
      },
      "source": [
        "# HAlla el mínimo de -f''(x), con el finde hallar el máximo en f''(x)\n",
        "fp=optimize.fmin_powell( fxn5, 0.1,  ftol=1E-7 )"
      ],
      "execution_count": 15,
      "outputs": [
        {
          "output_type": "stream",
          "name": "stdout",
          "text": [
            "Optimization terminated successfully.\n",
            "         Current function value: -2.000000\n",
            "         Iterations: 2\n",
            "         Function evaluations: 32\n"
          ]
        }
      ]
    },
    {
      "cell_type": "code",
      "metadata": {
        "colab": {
          "base_uri": "https://localhost:8080/"
        },
        "id": "DQic1KMlSnwo",
        "outputId": "ce0e3e29-6096-401b-e7f0-11c2bd17fa65"
      },
      "source": [
        "# Punto del mínimo de -f''(x)\n",
        "fp"
      ],
      "execution_count": 38,
      "outputs": [
        {
          "output_type": "execute_result",
          "data": {
            "text/plain": [
              "array(2.71379983e-09)"
            ]
          },
          "metadata": {},
          "execution_count": 38
        }
      ]
    },
    {
      "cell_type": "code",
      "metadata": {
        "id": "a3Zf7cQh_moC",
        "colab": {
          "base_uri": "https://localhost:8080/"
        },
        "outputId": "92a17657-421a-44ff-90f2-ae99cd6f6d6e"
      },
      "source": [
        "# Maximo de la función, f''(x)\n",
        "Max = np.max(-fxn5(x_))\n",
        "print(Max)"
      ],
      "execution_count": 13,
      "outputs": [
        {
          "output_type": "stream",
          "name": "stdout",
          "text": [
            "1.99750277488715\n"
          ]
        }
      ]
    },
    {
      "cell_type": "markdown",
      "metadata": {
        "id": "t3BFlqO7-zlq"
      },
      "source": [
        "$$\n",
        "  |E_N(f)| \\le  \\frac{(b-a) h^2}{12} f''(\\xi), = 1 *2\\frac{h^2}{12}= \\frac{h^2}{6}<\\epsilon\n",
        "  $$\n",
        "  \n",
        "  > $\\epsilon=0.001$\n",
        "  \n",
        "  $$\n",
        "  \\frac{h^2}{6}<\\epsilon\n",
        "  $$\n",
        "  \n",
        "  $$\n",
        "  h = \\sqrt{6\\epsilon}= \\sqrt{0.006}\n",
        "  $$\n",
        "  \n",
        "  "
      ]
    },
    {
      "cell_type": "code",
      "metadata": {
        "id": "PT0z2kNn7Ggp",
        "colab": {
          "base_uri": "https://localhost:8080/"
        },
        "outputId": "5e1125bc-d0f4-4666-9c2f-d7086517e1f0"
      },
      "source": [
        "# Paso de la función a integrar\n",
        "h = np.sqrt(0.006)\n",
        "print(\"El tamaño de cada paso es %.5lf:\"  %h)\n",
        "\n",
        "# Número de particiones\n",
        "print(\"El numero de intervalos es: %.5lf\" %((b-a)/h) )"
      ],
      "execution_count": 19,
      "outputs": [
        {
          "output_type": "stream",
          "name": "stdout",
          "text": [
            "El tamaño de cada paso es 0.07746:\n",
            "El numero de intervalos es: 12.90994\n"
          ]
        }
      ]
    },
    {
      "cell_type": "markdown",
      "metadata": {
        "id": "krtHdiD9AKS3"
      },
      "source": [
        "Lo anterior implica, que el número minimo de intervalos para realizar la integral con un error de 0.001, es de N=13. Empleando la ecuacion para resolver la integral por el metodo del trapecio compuesto, tenemos que: \n",
        "\n",
        "\\begin{equation}\n",
        "\\int_{a}^{b}f(x)dx=  \\frac{h}{2}\\left[f(a)+2\\sum_{j=1}^{n-1}f(x_j)+f(b)\\right ]\n",
        "\\end{equation}\n",
        "\n"
      ]
    },
    {
      "cell_type": "code",
      "metadata": {
        "id": "zTwuUPGdHT_7"
      },
      "source": [
        "# Número de particiones y limites de integración\n",
        "N = 13\n",
        "a, b = 0, 1 \n",
        "# Tamaño del Paso\n",
        "h = float((b - a)/N)\n",
        "\n",
        "#Definición de los puntos extremos\n",
        "x = np.linspace(a, b, N+1) "
      ],
      "execution_count": 21,
      "outputs": []
    },
    {
      "cell_type": "code",
      "metadata": {
        "id": "IQ-xdPW7-k6C",
        "colab": {
          "base_uri": "https://localhost:8080/"
        },
        "outputId": "a649135a-6265-46b1-9ecd-55c5a88d6efb"
      },
      "source": [
        "# Puntos del interior\n",
        "x_interior = x[1:-1]  \n",
        "# Función evaluada en el limite inferior\n",
        "T1 =  (f(a))\n",
        "# Función evaluada en el limite superior\n",
        "T3 =  (f(b))\n",
        "# Función evaluada en los puntos interiores a los limites de integración\n",
        "T2 =  sum(f(x_interior))\n",
        "\n",
        "# Sumatoria de los valores y multiplicación por el tamaño del paso \n",
        "trap_ = T1 + 2*T2 + T3\n",
        "trap_f = 0.5*h*trap_\n",
        "\n",
        "print(\"El valor de la integral es: %.8lf \" %trap_f)\n"
      ],
      "execution_count": 22,
      "outputs": [
        {
          "output_type": "stream",
          "name": "stdout",
          "text": [
            "El valor de la integral es: 0.26443665 \n"
          ]
        }
      ]
    },
    {
      "cell_type": "code",
      "metadata": {
        "id": "Spm377GWDmyr",
        "colab": {
          "base_uri": "https://localhost:8080/"
        },
        "outputId": "d1562f02-09dd-4c23-882c-62786b4c9abb"
      },
      "source": [
        "# Iprtar libreria para integrales de scipy\n",
        "from scipy import integrate\n",
        "\n",
        "# Cálculo de la integral con la función integrate trapezoide de scipy\n",
        "t = integrate.trapz( f(x), x, h )\n",
        "print(\"El valor, empleando la libreria integrate es: %.8lf\" %t)"
      ],
      "execution_count": 23,
      "outputs": [
        {
          "output_type": "stream",
          "name": "stdout",
          "text": [
            "El valor, empleando la libreria integrate es: 0.26443665\n"
          ]
        }
      ]
    },
    {
      "cell_type": "code",
      "metadata": {
        "id": "Ez--ROSQCE09",
        "colab": {
          "base_uri": "https://localhost:8080/"
        },
        "outputId": "f5ce2cf0-a9d0-4be0-a8ac-4e397edeaf36"
      },
      "source": [
        "#Comparando con el valor exacto, tenemos que: \n",
        "# Función quad de scipy.integrate\n",
        "from scipy.integrate import quad\n",
        "\n",
        "# Integral con la función quad\n",
        "quad_python = quad(f, a, b)\n",
        "print (\"Cuadratura de python:\", quad_python)\n",
        "Iq = quad_python [0]\n",
        "\n",
        "# Comparación con la integral obtenida en la sumatoria\n",
        "print (\"Diferencia: %.5f\" %( (trap_f - Iq)/Iq))"
      ],
      "execution_count": 26,
      "outputs": [
        {
          "output_type": "stream",
          "name": "stdout",
          "text": [
            "Cuadratura de python: (0.26394350735484196, 2.930361590656649e-15)\n",
            "Diferencia: 0.00187\n"
          ]
        }
      ]
    },
    {
      "cell_type": "markdown",
      "metadata": {
        "id": "dcJFaUCRExsB"
      },
      "source": [
        "#Metodo de Simpson"
      ]
    },
    {
      "cell_type": "markdown",
      "metadata": {
        "id": "QjcU_vSsFiHy"
      },
      "source": [
        "\n",
        " En general, la regla de simpson es\n",
        " \n",
        "$$\n",
        " \\int_a^b f(x)dx = \\frac{h}{3}\\left[f(a) + 2\\sum_{i=1}^{(n-1)}f(x_{2i}) + 4\\sum_{i=1}^{n}f(x_{2i-1}) + f(b)\\right]-\\frac{b − a}{180}h^4f^{(4)}(\\xi)\n",
        ",$$\n",
        " \n",
        " donde $\\xi ∈ (a,b).$\n",
        "error=0.001\n"
      ]
    },
    {
      "cell_type": "code",
      "metadata": {
        "id": "CZ08a_DgETtr"
      },
      "source": [
        "# Función y limites de integración\n",
        "a, b = 0,  1.\n",
        "def f(x): \n",
        "  return np.log(1 + x ** 2)\n",
        "epsilon = 0.001\n",
        "\n",
        "#epsilon = 1e-5"
      ],
      "execution_count": 27,
      "outputs": []
    },
    {
      "cell_type": "code",
      "metadata": {
        "id": "rCtM8ItsGNUv"
      },
      "source": [
        "# Función para emplear el método de simpson\n",
        "def simpson(f, a, b, N):\n",
        "    \"\"\"\n",
        "    Aproxima la integral de $f$ en $[a,b]$ mediante la fórmula compuesta \n",
        "    de Simpson con N subintervalos\n",
        "    \"\"\"\n",
        "    n_nodos = 2*N+1 # (N+1 extremos de subintervalos) + (N puntos medios)\n",
        "    x = np.linspace(a, b, n_nodos)\n",
        "\n",
        "    x_impar = x[1: :2] # Nodos con coordenada impar (ptos medios)\n",
        "    x_par = x[2:n_nodos-1:2] # Nodos con coordenada par (salvo el primero y el último)\n",
        "\n",
        "    h = (b-a)/(2*N) # Distancia entre dos nodos de integración\n",
        "    cuad = h/3*(f(a) + 2*sum(f(x_par)) + 4*sum(f(x_impar)) + f(b)) # F. comp. de Simpson\n",
        "    return cuad  \n",
        "  \n",
        "#- La expresión `x`, o `x[:]`, representa todos los elementos de la lista x\n",
        "#- La expresión `x[M:N]`, o `x[M:]`, representa los elementos `x[M]`, `x[M+1]`,..., `x[N-1]`\n",
        "#- La expresión `x[M:N:k]`, o `x[M::k]`, representa los elementos `x[M]`, `x[M+k]`,..., `x[N-1]`\n",
        "#x = np.linspace(0, 1, 10)\n",
        "#x_impar = x[1:: 2]  \n",
        "#x_par = x[2: -1: 2]\n",
        "#print(x)\n",
        "#print(x_impar)\n",
        "#print(x_par)  "
      ],
      "execution_count": 28,
      "outputs": []
    },
    {
      "cell_type": "code",
      "metadata": {
        "id": "mpLSrlEdIVR5",
        "colab": {
          "base_uri": "https://localhost:8080/"
        },
        "outputId": "86d18412-d430-41fd-b67c-e1331a18d473"
      },
      "source": [
        "# Integral de f(x) con el método de simpson\n",
        "x = simpson(f, 0, 1, 20)\n",
        "print(x)"
      ],
      "execution_count": 29,
      "outputs": [
        {
          "output_type": "stream",
          "name": "stdout",
          "text": [
            "0.26394350518567283\n"
          ]
        }
      ]
    },
    {
      "cell_type": "markdown",
      "metadata": {
        "id": "e4KK2QIpKsB8"
      },
      "source": [
        "## Para deducir el numero de intervalos tenemos que : \n",
        "$$\n",
        "\\frac{b − a}{180}h^4f^{(4)}(\\xi) = \\epsilon\n",
        "$$\n",
        "\n",
        "$$\n",
        "\\frac{b − a}{180}h^4 \\mathrm{Max} ||f^{(4)}(\\xi)||=\\epsilon\n",
        "$$\n",
        "\n",
        "con $$h = (b-a)/(2N)$$\n",
        "\n",
        "$$\n",
        "\\frac{(b − a)^5}{180(2N)^4} \\mathrm{Max} ||f^{(4)}(\\xi)||=\\epsilon\n",
        "$$\n",
        "\n",
        "$$\n",
        "N^4 = \\frac{(b − a)^5}{180(2)^4\\epsilon} \\mathrm{Max} ||f^{(4)}(\\xi)||\n",
        "$$"
      ]
    },
    {
      "cell_type": "code",
      "metadata": {
        "id": "KL_x-OKcHY2L",
        "colab": {
          "base_uri": "https://localhost:8080/"
        },
        "outputId": "8e20716e-967d-45bf-c47d-2381bc96a00b"
      },
      "source": [
        "# Def de f(x)\n",
        "f_s = lambda x: sp.log(1 + x**2)\n",
        "\n",
        "x = sp.symbols(\"x\")\n",
        "\n",
        "# Cálculo de las derivadas de f(x)\n",
        "print(f_s(x))\n",
        "print(sp.diff(f_s(x), x, 1))\n",
        "print(sp.diff(f_s(x), x, 2))\n",
        "print(sp.diff(f_s(x), x, 3))\n",
        "print(sp.diff(f_s(x), x, 4))\n"
      ],
      "execution_count": 30,
      "outputs": [
        {
          "output_type": "stream",
          "name": "stdout",
          "text": [
            "log(x**2 + 1)\n",
            "2*x/(x**2 + 1)\n",
            "2*(-2*x**2/(x**2 + 1) + 1)/(x**2 + 1)\n",
            "4*x*(4*x**2/(x**2 + 1) - 3)/(x**2 + 1)**2\n",
            "12*(-8*x**4/(x**2 + 1)**2 + 8*x**2/(x**2 + 1) - 1)/(x**2 + 1)**2\n"
          ]
        }
      ]
    },
    {
      "cell_type": "code",
      "metadata": {
        "id": "-DLhti7ddE93",
        "colab": {
          "base_uri": "https://localhost:8080/",
          "height": 568
        },
        "outputId": "d6e9712e-1da5-4bbe-8227-8ac601aae2a9"
      },
      "source": [
        "#Numpy funcion para evaluar la funcion de sympy\n",
        "f2 = sp.diff(f_s(x), x, 4)\n",
        "\n",
        "#numpy funcion\n",
        "Fxn5 = sp.lambdify(x, -f2, 'numpy') \n",
        "\n",
        "x_ = np.linspace(0, 1)\n",
        "print(Fxn5(x_))\n",
        "\n",
        "plt.figure(figsize=(10,6))\n",
        "plt.plot(x_, Fxn5(x_))\n",
        "plt.title('Cuarta derivada de $f(x)$', size = 18)\n",
        "plt.xlabel(\"$x$\", size = 15)\n",
        "plt.ylabel(\"-$f^{4}(x)$\", size = 15)\n",
        "plt.grid()\n",
        "plt.show()"
      ],
      "execution_count": 41,
      "outputs": [
        {
          "output_type": "stream",
          "name": "stdout",
          "text": [
            "[12.         11.95009361 11.80124435 11.55603605 11.21868988 10.79494054\n",
            " 10.29187077  9.71771136  9.0816152   8.39341451  7.66337093  6.90192756\n",
            "  6.1194715   5.32611444  4.53149713  3.74462252  2.97372025  2.22614402\n",
            "  1.50830157  0.82561607  0.18251637 -0.41754692 -0.97206344 -1.47940701\n",
            " -1.93876566 -2.35006168 -2.71386543 -3.03130622 -3.30398314 -3.53387829\n",
            " -3.72327433 -3.8746778  -3.99074921 -4.07424061 -4.12794086 -4.15462866\n",
            " -4.15703306 -4.1378012  -4.09947262 -4.0444596  -3.97503298 -3.89331257\n",
            " -3.80126184 -3.70068589 -3.59323238 -3.48039484 -3.36351768 -3.24380275\n",
            " -3.12231685 -3.        ]\n"
          ]
        },
        {
          "output_type": "display_data",
          "data": {
            "image/png": "[encoded data removed]",
            "text/plain": [
              "<Figure size 720x432 with 1 Axes>"
            ]
          },
          "metadata": {
            "needs_background": "light"
          }
        }
      ]
    },
    {
      "cell_type": "code",
      "metadata": {
        "colab": {
          "base_uri": "https://localhost:8080/"
        },
        "id": "Ny3RXpI6jdeQ",
        "outputId": "4ca80081-e626-49fe-c065-7265bc9b3d4e"
      },
      "source": [
        "# Hallar el mpinimo de menos la cuarta derivada de f(x)\n",
        "min = optimize.fmin_powell(Fxn5, 0)"
      ],
      "execution_count": 36,
      "outputs": [
        {
          "output_type": "stream",
          "name": "stdout",
          "text": [
            "Optimization terminated successfully.\n",
            "         Current function value: -4.158814\n",
            "         Iterations: 2\n",
            "         Function evaluations: 37\n"
          ]
        }
      ]
    },
    {
      "cell_type": "code",
      "metadata": {
        "colab": {
          "base_uri": "https://localhost:8080/",
          "height": 37
        },
        "id": "-LDJz1Ytj1zn",
        "outputId": "a1e194bd-9e52-49b1-8be2-9d7d0b8311f1"
      },
      "source": [
        "# Máximo de la cuarta derivada de f(x)\n",
        "M = abs(Fxn5(min))\n",
        "M"
      ],
      "execution_count": 39,
      "outputs": [
        {
          "output_type": "execute_result",
          "data": {
            "image/png": "[encoded data removed]",
            "text/latex": "$\\displaystyle 4.15881372890605$",
            "text/plain": [
              "4.158813728906052"
            ]
          },
          "metadata": {},
          "execution_count": 39
        }
      ]
    },
    {
      "cell_type": "code",
      "metadata": {
        "id": "sXjyFd-sdGzP",
        "colab": {
          "base_uri": "https://localhost:8080/",
          "height": 37
        },
        "outputId": "64ddf3ce-32a3-46f8-bdfd-446af3737ad5"
      },
      "source": [
        "epsilon=1e-5\n",
        "# Cálculo de N\n",
        "def N(a, b, M):\n",
        "  return ((b-a)**5*M/(epsilon*180*2**4))**(1./4)\n",
        "\n",
        "N(0,1,M)"
      ],
      "execution_count": 42,
      "outputs": [
        {
          "output_type": "execute_result",
          "data": {
            "image/png": "[encoded data removed]",
            "text/latex": "$\\displaystyle 3.46652427123961$",
            "text/plain": [
              "3.4665242712396065"
            ]
          },
          "metadata": {},
          "execution_count": 42
        }
      ]
    },
    {
      "cell_type": "code",
      "metadata": {
        "id": "07qmKgzQdMkn",
        "colab": {
          "base_uri": "https://localhost:8080/"
        },
        "outputId": "27149c62-3746-49e5-a856-df42227e9b56"
      },
      "source": [
        "# Integral con el método de simpson y el N hallado\n",
        "simp = simpson(f, a, b, 3)\n",
        "print(simp)"
      ],
      "execution_count": 45,
      "outputs": [
        {
          "output_type": "stream",
          "name": "stdout",
          "text": [
            "0.26393930983357405\n"
          ]
        }
      ]
    },
    {
      "cell_type": "code",
      "metadata": {
        "id": "Ot8zIZabhpTk"
      },
      "source": [
        "#Comparando con el valor exacto, tenemos que: \n",
        "from scipy.integrate import quad\n",
        "quad_python = quad(f, a, b)"
      ],
      "execution_count": 46,
      "outputs": []
    },
    {
      "cell_type": "code",
      "metadata": {
        "id": "TvvXXgFkibpB",
        "colab": {
          "base_uri": "https://localhost:8080/"
        },
        "outputId": "bdcb691f-7c70-4a29-8e3b-54afa7a03fab"
      },
      "source": [
        "# Comparación entre los valores de la integral con dos métodos\n",
        "print (\"Cuadratura de python:\", quad_python)\n",
        "Iq = quad_python [0]\n",
        "\n",
        "print (\"Diferencia: %.6f\" %( (simp - Iq)/Iq))"
      ],
      "execution_count": 49,
      "outputs": [
        {
          "output_type": "stream",
          "name": "stdout",
          "text": [
            "Cuadratura de python: (0.26394350735484196, 2.930361590656649e-15)\n",
            "Diferencia: -0.000016\n"
          ]
        }
      ]
    },
    {
      "cell_type": "markdown",
      "metadata": {
        "id": "R3KDzuuk3rlA"
      },
      "source": [
        "## $\\textbf{Tarea}$"
      ]
    },
    {
      "cell_type": "markdown",
      "metadata": {
        "id": "ZFMGMPPL5Eek"
      },
      "source": [
        "Emplear el metodo de trapezio y el metodo de simpson para calcular la siguiente integral: \n",
        "\n",
        "\\begin{equation}\n",
        "\\int_0^{2} e^{2x}\\sin 3x dx \n",
        "\\end{equation}\n",
        "$\\epsilon=1\\times 10^{-5}$"
      ]
    },
    {
      "cell_type": "code",
      "metadata": {
        "id": "7HZmw5tEScJv"
      },
      "source": [
        "# Definición de la función a integrar\n",
        "x = sp.symbols(\"x\")\n",
        "F = lambda x: sp.exp(2*x)*sp.sin(3*x)"
      ],
      "execution_count": 52,
      "outputs": []
    },
    {
      "cell_type": "code",
      "metadata": {
        "id": "5yI9wPvISncq"
      },
      "source": [
        "# Segunda y cauarta derivada de F(x)\n",
        "F2 = sp.diff(F(x), x, 2)\n",
        "F4 = sp.diff(F(x), x, 4)"
      ],
      "execution_count": 53,
      "outputs": []
    },
    {
      "cell_type": "code",
      "metadata": {
        "id": "dBGdsx-_VPxP"
      },
      "source": [
        "# Función de numpy\n",
        "fx = sp.lambdify(x, F(x), 'numpy')\n",
        "Fxn2 = sp.lambdify(x, F2, 'numpy')\n",
        "Fxn4 = sp.lambdify(x, F4, 'numpy')"
      ],
      "execution_count": 54,
      "outputs": []
    },
    {
      "cell_type": "markdown",
      "metadata": {
        "id": "_607qnsiwXHe"
      },
      "source": [
        "## $\\textbf{Método del Trapecio}$"
      ]
    },
    {
      "cell_type": "code",
      "metadata": {
        "id": "T0pMcOpHWCGy"
      },
      "source": [
        "x_ = np.linspace(0, 2, 100)"
      ],
      "execution_count": 55,
      "outputs": []
    },
    {
      "cell_type": "code",
      "metadata": {
        "colab": {
          "base_uri": "https://localhost:8080/",
          "height": 393
        },
        "id": "qXJNmtiPTO9k",
        "outputId": "d0aca4ca-33e7-4294-d872-e3d062a08260"
      },
      "source": [
        "# Gráfica de fx(x) y de su segunda derivada\n",
        "\n",
        "plt.figure(figsize=(10,6))\n",
        "plt.plot(x_, fx(x_), label=\"$f(x$\")\n",
        "plt.plot(x_, Fxn2(x_), label=\"$f''(x)$\")\n",
        "plt.xlabel(\"$x$\", size = 15)\n",
        "plt.ylabel(\"$f(x)$\", size = 15)\n",
        "plt.legend(fontsize = 15)\n",
        "plt.grid()\n",
        "plt.show()"
      ],
      "execution_count": 58,
      "outputs": [
        {
          "output_type": "display_data",
          "data": {
            "image/png": "[encoded data removed]",
            "text/plain": [
              "<Figure size 720x432 with 1 Axes>"
            ]
          },
          "metadata": {
            "needs_background": "light"
          }
        }
      ]
    },
    {
      "cell_type": "code",
      "metadata": {
        "id": "Wy8mEoaiXHIp"
      },
      "source": [
        "# Menos la 2da derivada de f(x)\n",
        "fxn2 = sp.lambdify(x, -F2, 'numpy')"
      ],
      "execution_count": 60,
      "outputs": []
    },
    {
      "cell_type": "code",
      "metadata": {
        "colab": {
          "base_uri": "https://localhost:8080/"
        },
        "id": "qy9tFPp9VFNb",
        "outputId": "ad4cb346-6aa4-4f1b-89b2-fdac1cfbc781"
      },
      "source": [
        "# Mínimo de menos la 2da derivada de f(x)\n",
        "min1 = optimize.fmin_powell( fxn2, 0.1,  ftol=1E-7 )"
      ],
      "execution_count": 61,
      "outputs": [
        {
          "output_type": "stream",
          "name": "stdout",
          "text": [
            "Optimization terminated successfully.\n",
            "         Current function value: -12.303633\n",
            "         Iterations: 2\n",
            "         Function evaluations: 39\n"
          ]
        }
      ]
    },
    {
      "cell_type": "code",
      "metadata": {
        "colab": {
          "base_uri": "https://localhost:8080/",
          "height": 37
        },
        "id": "sj4NoMo0pB_X",
        "outputId": "6c72bf4e-2963-4421-dff9-111d0a837737"
      },
      "source": [
        "# Máximo de la 2da derivada de f(x)\n",
        "max1 = abs(Fxn2(min1))\n",
        "max1"
      ],
      "execution_count": 62,
      "outputs": [
        {
          "output_type": "execute_result",
          "data": {
            "image/png": "[encoded data removed]",
            "text/latex": "$\\displaystyle 12.3036334758712$",
            "text/plain": [
              "12.30363347587121"
            ]
          },
          "metadata": {},
          "execution_count": 62
        }
      ]
    },
    {
      "cell_type": "markdown",
      "metadata": {
        "id": "frWw-TDWXWby"
      },
      "source": [
        "\n",
        "> $$\n",
        "  \\int_{a}^{b} f(x)\\,dx \n",
        "  = \\sum_{i=0}^{N-1}  \\int_{i}^{x_{i+1}} f(x)\\,dx\n",
        "  =  \\frac{h}{2} \\sum_{i=0}^{N-1}(f(x_i)+f(x_{i+1})) \n",
        "    - \\frac{(b-a) h^2}{12}f''(\\xi),\n",
        "  $$\n"
      ]
    },
    {
      "cell_type": "code",
      "metadata": {
        "id": "JjdPatP6VFf6",
        "colab": {
          "base_uri": "https://localhost:8080/"
        },
        "outputId": "651d7667-df36-4108-c364-6e1d48356de7"
      },
      "source": [
        "# Hallar el valor del tamaño del paso con el valor máxio para la 2da derivada de f(x)\n",
        "M = max1\n",
        "T_1 = (b-a)*M/12\n",
        "M = 12.30\n",
        "b_ = 2\n",
        "a_ = 0\n",
        "h_ = np.sqrt((epsilon*12)/((b-a)*M))\n",
        "print(f\"{h_}\")"
      ],
      "execution_count": 73,
      "outputs": [
        {
          "output_type": "stream",
          "name": "stdout",
          "text": [
            "0.002208630521496931\n"
          ]
        }
      ]
    },
    {
      "cell_type": "code",
      "metadata": {
        "colab": {
          "base_uri": "https://localhost:8080/"
        },
        "id": "tczIby70YPpI",
        "outputId": "733b267c-5ebe-4ddc-e636-eef64ca953a7"
      },
      "source": [
        "# Hallar el número de particiones en el intervalo\n",
        "N1_ = int((b_- a_)/h_)\n",
        "\n",
        "print(f\"N= {N1_}\")"
      ],
      "execution_count": 113,
      "outputs": [
        {
          "output_type": "stream",
          "name": "stdout",
          "text": [
            "N= 905\n"
          ]
        }
      ]
    },
    {
      "cell_type": "code",
      "metadata": {
        "colab": {
          "base_uri": "https://localhost:8080/"
        },
        "id": "XMkFCa1HqSme",
        "outputId": "11d8fd68-066f-4a73-c586-d10149a5c323"
      },
      "source": [
        "# Intervalo\n",
        "X = np.linspace(a_,b_,N1_ + 1)\n",
        "\n",
        "# Puntos del interior\n",
        "X_interior = X[1:-1]  \n",
        "# Función evaluada en el limite inferior\n",
        "T11 =  (F(a))\n",
        "# Función evaluada en el limite superior\n",
        "T13 =  (F(b))\n",
        "# Función evaluada en los puntos interiores a los limites de integración\n",
        "T12_ =  []\n",
        "for i in X_interior:\n",
        "  s = F(i)\n",
        "  T12_ = T12_ + [s]\n",
        "\n",
        "T12 = sum(T12_)\n",
        "\n",
        "# Sumatoria de los valores y multiplicación por el tamaño del paso \n",
        "Trap_ = T11 + 2*T12 + T13\n",
        "Trap_f = 0.5*h_*Trap_\n",
        "\n",
        "print(\"El valor de la integral es: %.8lf \" %Trap_f)"
      ],
      "execution_count": 114,
      "outputs": [
        {
          "output_type": "stream",
          "name": "stdout",
          "text": [
            "El valor de la integral es: -14.20547390 \n"
          ]
        }
      ]
    },
    {
      "cell_type": "code",
      "metadata": {
        "colab": {
          "base_uri": "https://localhost:8080/"
        },
        "id": "rGJq3nc2YXVF",
        "outputId": "91497e9a-760b-4442-a77a-4651ee3b55fa"
      },
      "source": [
        "# Evaluando la integral con la función de scipy trapz\n",
        "t_ = integrate.trapz( fx(x_), x_, h )\n",
        "print(\"El valor, empleando la libreria integrate es: %.8lf\" %t_)\n",
        "\n",
        "# Integral real con la función quad de scipy\n",
        "Int = quad(fx,0,2)\n",
        "difference1 = (Trap_f - Int[0])/Int[0]\n",
        "print('Error entre el método del trapecio y el valor real de la función quad: %.6f' %abs(difference1))"
      ],
      "execution_count": 115,
      "outputs": [
        {
          "output_type": "stream",
          "name": "stdout",
          "text": [
            "El valor, empleando la libreria integrate es: -14.20976832\n",
            "Error entre el método del trapecio y el valor real de la función quad: 0.000598\n"
          ]
        }
      ]
    },
    {
      "cell_type": "markdown",
      "metadata": {
        "id": "06tNqhQRwfvq"
      },
      "source": [
        "## $\\textbf{Método de Simpson}$"
      ]
    },
    {
      "cell_type": "code",
      "metadata": {
        "colab": {
          "base_uri": "https://localhost:8080/",
          "height": 393
        },
        "id": "UyHO7l6EwQRv",
        "outputId": "70f48ad0-c7b1-4d74-d248-739154c02d50"
      },
      "source": [
        "#Gráfica de la función y la 4ta derivada\n",
        "\n",
        "plt.figure(figsize=(10,6))\n",
        "plt.plot(x_, fx(x_), label=\"$f(x$\")\n",
        "plt.plot(x_, Fxn4(x_), label=\"$f^{(4)}(x)$\")\n",
        "plt.xlabel(\"$x$\", size = 15)\n",
        "plt.ylabel(\"$f(x)$\", size = 15)\n",
        "plt.legend(fontsize = 15)\n",
        "plt.grid()\n",
        "plt.show()"
      ],
      "execution_count": 90,
      "outputs": [
        {
          "output_type": "display_data",
          "data": {
            "image/png": "[encoded data removed]",
            "text/plain": [
              "<Figure size 720x432 with 1 Axes>"
            ]
          },
          "metadata": {
            "needs_background": "light"
          }
        }
      ]
    },
    {
      "cell_type": "code",
      "metadata": {
        "colab": {
          "base_uri": "https://localhost:8080/"
        },
        "id": "viJF-s71wv4z",
        "outputId": "2a2530f2-b392-4440-a40f-cdcde9587e71"
      },
      "source": [
        "# Mínimo de menos la 4ta derivada\n",
        "\n",
        "Fxn4_ = sp.lambdify(x, -F4, 'numpy')\n",
        "min3 = optimize.fmin_powell(Fxn4_,3)"
      ],
      "execution_count": 94,
      "outputs": [
        {
          "output_type": "stream",
          "name": "stdout",
          "text": [
            "Optimization terminated successfully.\n",
            "         Current function value: -187593.517358\n",
            "         Iterations: 2\n",
            "         Function evaluations: 29\n"
          ]
        }
      ]
    },
    {
      "cell_type": "code",
      "metadata": {
        "colab": {
          "base_uri": "https://localhost:8080/",
          "height": 37
        },
        "id": "-9vVZhblxZPO",
        "outputId": "8eedebe2-bcc0-4cd2-fd95-01df2e229872"
      },
      "source": [
        "# Máximo de la 4ta derivada\n",
        "\n",
        "Max3 = abs(Fxn4(min3))\n",
        "Max3"
      ],
      "execution_count": 96,
      "outputs": [
        {
          "output_type": "execute_result",
          "data": {
            "image/png": "[encoded data removed]",
            "text/latex": "$\\displaystyle 187593.517357556$",
            "text/plain": [
              "187593.51735755632"
            ]
          },
          "metadata": {},
          "execution_count": 96
        }
      ]
    },
    {
      "cell_type": "code",
      "metadata": {
        "colab": {
          "base_uri": "https://localhost:8080/",
          "height": 37
        },
        "id": "fTiN9tE5yKOk",
        "outputId": "3e5be05f-49d1-4f05-f7b5-1cc4203559da"
      },
      "source": [
        "epsilon=1e-5\n",
        "# Cálculo de N\n",
        "def N(a, b, M):\n",
        "  return ((b-a)**5*M/(epsilon*180*2**4))**(1./4)\n",
        "  \n",
        "N_ = N(0,2,int(Max3))\n",
        "N_"
      ],
      "execution_count": 98,
      "outputs": [
        {
          "output_type": "execute_result",
          "data": {
            "image/png": "[encoded data removed]",
            "text/latex": "$\\displaystyle 120.155465367385$",
            "text/plain": [
              "120.15546536738468"
            ]
          },
          "metadata": {},
          "execution_count": 98
        }
      ]
    },
    {
      "cell_type": "code",
      "metadata": {
        "colab": {
          "base_uri": "https://localhost:8080/"
        },
        "id": "CynmUj6RytMF",
        "outputId": "e8ed04d5-5f29-4582-d94c-81cdbefb9647"
      },
      "source": [
        "# Integral con el método de simpson y el N hallado\n",
        "simp1 = simpson(fx, a_, b_, int(N_))\n",
        "print(f'Valor de la integral empleando el método de Simpson: {simp1}')"
      ],
      "execution_count": 100,
      "outputs": [
        {
          "output_type": "stream",
          "name": "stdout",
          "text": [
            "Valor de la integral empleando el método de Simpson: -14.213977098654395\n"
          ]
        }
      ]
    },
    {
      "cell_type": "code",
      "metadata": {
        "colab": {
          "base_uri": "https://localhost:8080/"
        },
        "id": "v1FeE87CzLP1",
        "outputId": "e49e94c2-a3b5-4cbe-f70b-3ba149dc554c"
      },
      "source": [
        "# Valor real de la integral \n",
        "\n",
        "Int = quad(fx,0,2)\n",
        "print(f'Valor real de la integral con la función Quad de Scipy: {Int[0]}')\n",
        "\n",
        "# Error entre el valor hallado y el valor real\n",
        "difference = (simp1 -Int[0])/Int[0]\n",
        "print('Error entre el cálculo empleado con simpson y la función quad: %.8f' %difference)"
      ],
      "execution_count": 116,
      "outputs": [
        {
          "output_type": "stream",
          "name": "stdout",
          "text": [
            "Valor real de la integral con la función Quad de Scipy: -14.213977129862519\n",
            "Error entre el cálculo empleado con simpson y la función quad: -0.00000000\n"
          ]
        }
      ]
    },
    {
      "cell_type": "code",
      "metadata": {
        "id": "zGewc4Zc0F1A"
      },
      "source": [
        ""
      ],
      "execution_count": null,
      "outputs": []
    }
  ]
}