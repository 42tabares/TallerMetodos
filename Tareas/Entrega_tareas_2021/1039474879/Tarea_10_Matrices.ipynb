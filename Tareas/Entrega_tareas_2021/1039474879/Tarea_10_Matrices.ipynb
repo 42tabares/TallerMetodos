{
  "nbformat": 4,
  "nbformat_minor": 0,
  "metadata": {
    "colab": {
      "name": "Tarea_10_Matrices.ipynb",
      "provenance": []
    },
    "kernelspec": {
      "name": "python3",
      "display_name": "Python 3"
    },
    "language_info": {
      "name": "python"
    }
  },
  "cells": [
    {
      "cell_type": "markdown",
      "metadata": {
        "id": "2Xmp27zgSV5m"
      },
      "source": [
        "## Tarea 10: Métodos Computacionales Taller\n",
        "### Gabriel Cataño Sánchez"
      ]
    },
    {
      "cell_type": "code",
      "metadata": {
        "id": "uqXzHxN3Od4x",
        "colab": {
          "base_uri": "https://localhost:8080/"
        },
        "outputId": "8ea7e036-4940-42f3-e1dc-570e854254c3"
      },
      "source": [
        "# Librerias\n",
        "import numpy as np\n",
        "import pandas as pd\n",
        "import scipy.linalg as la\n",
        "import matplotlib.pylab as plt\n",
        "\n",
        "%pylab inline"
      ],
      "execution_count": 1,
      "outputs": [
        {
          "output_type": "stream",
          "name": "stdout",
          "text": [
            "Populating the interactive namespace from numpy and matplotlib\n"
          ]
        },
        {
          "output_type": "stream",
          "name": "stderr",
          "text": [
            "/usr/local/lib/python3.7/dist-packages/IPython/core/magics/pylab.py:161: UserWarning: pylab import has clobbered these variables: ['plt']\n",
            "`%matplotlib` prevents importing * from pylab and numpy\n",
            "  \"\\n`%matplotlib` prevents importing * from pylab and numpy\"\n"
          ]
        }
      ]
    },
    {
      "cell_type": "markdown",
      "metadata": {
        "id": "TixeBP7N09fP"
      },
      "source": [
        "## Teoría"
      ]
    },
    {
      "cell_type": "code",
      "metadata": {
        "id": "ltrp-tyCOFcS"
      },
      "source": [
        "# Definicion de una matriz cuadra 2x2 con numeros aleatorios enteros\n",
        "\n",
        "c1 = np.array([1, 1])\n",
        "c2 = np.array([3, 4])"
      ],
      "execution_count": 2,
      "outputs": []
    },
    {
      "cell_type": "code",
      "metadata": {
        "colab": {
          "base_uri": "https://localhost:8080/"
        },
        "id": "J0JqrD1aOFZL",
        "outputId": "b34a8bea-e933-4592-cfa4-766cfd289747"
      },
      "source": [
        "type(c1)"
      ],
      "execution_count": 3,
      "outputs": [
        {
          "output_type": "execute_result",
          "data": {
            "text/plain": [
              "numpy.ndarray"
            ]
          },
          "metadata": {},
          "execution_count": 3
        }
      ]
    },
    {
      "cell_type": "code",
      "metadata": {
        "id": "m_Tb_aKaOFWN"
      },
      "source": [
        "m = np.array([c1,c2])"
      ],
      "execution_count": 4,
      "outputs": []
    },
    {
      "cell_type": "code",
      "metadata": {
        "colab": {
          "base_uri": "https://localhost:8080/"
        },
        "id": "KmFJK4EYOFTV",
        "outputId": "c8a7d2d5-7a82-43dd-b486-7cb3c16d2c1b"
      },
      "source": [
        "type(m)"
      ],
      "execution_count": 5,
      "outputs": [
        {
          "output_type": "execute_result",
          "data": {
            "text/plain": [
              "numpy.ndarray"
            ]
          },
          "metadata": {},
          "execution_count": 5
        }
      ]
    },
    {
      "cell_type": "code",
      "metadata": {
        "id": "mzCmWfmPOFQk"
      },
      "source": [
        "M = np.asmatrix(m)"
      ],
      "execution_count": 6,
      "outputs": []
    },
    {
      "cell_type": "code",
      "metadata": {
        "colab": {
          "base_uri": "https://localhost:8080/"
        },
        "id": "sXTnQrNKOFN8",
        "outputId": "394f959d-3fe1-4eac-bd28-0a32f2abdc6f"
      },
      "source": [
        "m"
      ],
      "execution_count": 7,
      "outputs": [
        {
          "output_type": "execute_result",
          "data": {
            "text/plain": [
              "array([[1, 1],\n",
              "       [3, 4]])"
            ]
          },
          "metadata": {},
          "execution_count": 7
        }
      ]
    },
    {
      "cell_type": "code",
      "metadata": {
        "colab": {
          "base_uri": "https://localhost:8080/"
        },
        "id": "SxfcQA6eOFLS",
        "outputId": "c2aaa79f-3abc-4e3f-acdc-0b554ca3c16e"
      },
      "source": [
        "m[1]"
      ],
      "execution_count": 8,
      "outputs": [
        {
          "output_type": "execute_result",
          "data": {
            "text/plain": [
              "array([3, 4])"
            ]
          },
          "metadata": {},
          "execution_count": 8
        }
      ]
    },
    {
      "cell_type": "code",
      "metadata": {
        "colab": {
          "base_uri": "https://localhost:8080/"
        },
        "id": "OSjwA3XXPT_b",
        "outputId": "d3978cad-09e2-4042-e620-81a5ff239cab"
      },
      "source": [
        "m[:,0]"
      ],
      "execution_count": 9,
      "outputs": [
        {
          "output_type": "execute_result",
          "data": {
            "text/plain": [
              "array([1, 3])"
            ]
          },
          "metadata": {},
          "execution_count": 9
        }
      ]
    },
    {
      "cell_type": "code",
      "metadata": {
        "colab": {
          "base_uri": "https://localhost:8080/"
        },
        "id": "Md5NBXGzPWOC",
        "outputId": "48d62612-a449-477f-8854-e4aa5e3329c7"
      },
      "source": [
        "m[:,1]"
      ],
      "execution_count": 10,
      "outputs": [
        {
          "output_type": "execute_result",
          "data": {
            "text/plain": [
              "array([1, 4])"
            ]
          },
          "metadata": {},
          "execution_count": 10
        }
      ]
    },
    {
      "cell_type": "code",
      "metadata": {
        "colab": {
          "base_uri": "https://localhost:8080/"
        },
        "id": "qjSK4-DPPYZl",
        "outputId": "09443f13-d054-4194-c732-614f81fad3b2"
      },
      "source": [
        "np.shape(m)"
      ],
      "execution_count": 11,
      "outputs": [
        {
          "output_type": "execute_result",
          "data": {
            "text/plain": [
              "(2, 2)"
            ]
          },
          "metadata": {},
          "execution_count": 11
        }
      ]
    },
    {
      "cell_type": "code",
      "metadata": {
        "colab": {
          "base_uri": "https://localhost:8080/"
        },
        "id": "-cxXoZK6P2q7",
        "outputId": "303c8f8e-f9be-4b02-cd76-2c897263ffa1"
      },
      "source": [
        "2*m"
      ],
      "execution_count": 12,
      "outputs": [
        {
          "output_type": "execute_result",
          "data": {
            "text/plain": [
              "array([[2, 2],\n",
              "       [6, 8]])"
            ]
          },
          "metadata": {},
          "execution_count": 12
        }
      ]
    },
    {
      "cell_type": "code",
      "metadata": {
        "colab": {
          "base_uri": "https://localhost:8080/"
        },
        "id": "qRZorzVpP8hu",
        "outputId": "304bc2ef-ac17-431f-f5f8-6a7b424f64e5"
      },
      "source": [
        "m@m"
      ],
      "execution_count": 13,
      "outputs": [
        {
          "output_type": "execute_result",
          "data": {
            "text/plain": [
              "array([[ 4,  5],\n",
              "       [15, 19]])"
            ]
          },
          "metadata": {},
          "execution_count": 13
        }
      ]
    },
    {
      "cell_type": "code",
      "metadata": {
        "colab": {
          "base_uri": "https://localhost:8080/"
        },
        "id": "_qEmMpa1QIRH",
        "outputId": "5be746ee-ab69-4b77-a20e-1e04208a89e4"
      },
      "source": [
        "m"
      ],
      "execution_count": 14,
      "outputs": [
        {
          "output_type": "execute_result",
          "data": {
            "text/plain": [
              "array([[1, 1],\n",
              "       [3, 4]])"
            ]
          },
          "metadata": {},
          "execution_count": 14
        }
      ]
    },
    {
      "cell_type": "code",
      "metadata": {
        "colab": {
          "base_uri": "https://localhost:8080/"
        },
        "id": "PYnDNFs7QEuS",
        "outputId": "bf3ab26b-81bb-4a88-d2a3-4dafbf5d47a5"
      },
      "source": [
        "np.linalg.det(m)"
      ],
      "execution_count": 15,
      "outputs": [
        {
          "output_type": "execute_result",
          "data": {
            "text/plain": [
              "0.9999999999999998"
            ]
          },
          "metadata": {},
          "execution_count": 15
        }
      ]
    },
    {
      "cell_type": "code",
      "metadata": {
        "colab": {
          "base_uri": "https://localhost:8080/"
        },
        "id": "ktDOOi24QMj3",
        "outputId": "3b45bbec-4983-40c1-871f-9b31c556d634"
      },
      "source": [
        "M.I"
      ],
      "execution_count": 16,
      "outputs": [
        {
          "output_type": "execute_result",
          "data": {
            "text/plain": [
              "matrix([[ 4., -1.],\n",
              "        [-3.,  1.]])"
            ]
          },
          "metadata": {},
          "execution_count": 16
        }
      ]
    },
    {
      "cell_type": "code",
      "metadata": {
        "colab": {
          "base_uri": "https://localhost:8080/"
        },
        "id": "NN-MA57_QVU4",
        "outputId": "642247b7-cab5-43c2-a05c-3a666dae74ea"
      },
      "source": [
        "np.linalg.inv(m)"
      ],
      "execution_count": 17,
      "outputs": [
        {
          "output_type": "execute_result",
          "data": {
            "text/plain": [
              "array([[ 4., -1.],\n",
              "       [-3.,  1.]])"
            ]
          },
          "metadata": {},
          "execution_count": 17
        }
      ]
    },
    {
      "cell_type": "code",
      "metadata": {
        "id": "AdMo8BZFQ1RT"
      },
      "source": [
        "M = np.array([np.random.randint(0, 20, 2), np.random.randint(0, 20, 2)])"
      ],
      "execution_count": 18,
      "outputs": []
    },
    {
      "cell_type": "code",
      "metadata": {
        "id": "wA1efFPURZyc"
      },
      "source": [
        "M1 = np.asmatrix(M)"
      ],
      "execution_count": 19,
      "outputs": []
    },
    {
      "cell_type": "code",
      "metadata": {
        "colab": {
          "base_uri": "https://localhost:8080/"
        },
        "id": "Y8GkNWHaRigh",
        "outputId": "6be60134-2c5a-4268-9e86-02f3daa841f7"
      },
      "source": [
        "M1"
      ],
      "execution_count": 20,
      "outputs": [
        {
          "output_type": "execute_result",
          "data": {
            "text/plain": [
              "matrix([[ 8,  0],\n",
              "        [ 7, 16]])"
            ]
          },
          "metadata": {},
          "execution_count": 20
        }
      ]
    },
    {
      "cell_type": "markdown",
      "metadata": {
        "id": "Wrl1pUHXSYUA"
      },
      "source": [
        "$det(M-\\lambda I) = 0$"
      ]
    },
    {
      "cell_type": "code",
      "metadata": {
        "id": "_pmZY2TyStyD"
      },
      "source": [
        "autovalor, autovector = la.eig(M1)"
      ],
      "execution_count": 21,
      "outputs": []
    },
    {
      "cell_type": "code",
      "metadata": {
        "colab": {
          "base_uri": "https://localhost:8080/"
        },
        "id": "YvyRHbgGStux",
        "outputId": "d05026d0-abef-45ad-aa6e-013e8e37e50a"
      },
      "source": [
        "autovalor"
      ],
      "execution_count": 22,
      "outputs": [
        {
          "output_type": "execute_result",
          "data": {
            "text/plain": [
              "array([16.+0.j,  8.+0.j])"
            ]
          },
          "metadata": {},
          "execution_count": 22
        }
      ]
    },
    {
      "cell_type": "code",
      "metadata": {
        "colab": {
          "base_uri": "https://localhost:8080/"
        },
        "id": "9FgpVXPKStr8",
        "outputId": "a1788d79-7e09-4315-86ba-0b170828868c"
      },
      "source": [
        "autovector"
      ],
      "execution_count": 23,
      "outputs": [
        {
          "output_type": "execute_result",
          "data": {
            "text/plain": [
              "array([[ 0.        ,  0.75257669],\n",
              "       [ 1.        , -0.65850461]])"
            ]
          },
          "metadata": {},
          "execution_count": 23
        }
      ]
    },
    {
      "cell_type": "code",
      "metadata": {
        "id": "qWtdXd1SUIZv"
      },
      "source": [
        ""
      ],
      "execution_count": 23,
      "outputs": []
    },
    {
      "cell_type": "markdown",
      "metadata": {
        "id": "-B8GXeDxTcK1"
      },
      "source": [
        "# ¿Cual es el polinomio caracteristico?\n",
        "```\n",
        "\n",
        "matrix([[ 6,  3],\n",
        "        [14, 13]])\n",
        "\n",
        "```\n",
        "\n",
        "  $\\lambda^2-19\\lambda +36=0$"
      ]
    },
    {
      "cell_type": "code",
      "metadata": {
        "colab": {
          "base_uri": "https://localhost:8080/"
        },
        "id": "jxINzdOKUSSx",
        "outputId": "51ebce22-cd7f-40d4-9ccf-5ce65bf2dfdb"
      },
      "source": [
        "f = lambda x: x**2-19*x+36\n",
        "f(autovalor[1])"
      ],
      "execution_count": 24,
      "outputs": [
        {
          "output_type": "execute_result",
          "data": {
            "text/plain": [
              "(-52+0j)"
            ]
          },
          "metadata": {},
          "execution_count": 24
        }
      ]
    },
    {
      "cell_type": "code",
      "metadata": {
        "id": "LwAMzk3aUeuP"
      },
      "source": [
        "M = np.array([np.random.randint(0, 20, 3), np.random.randint(0, 20, 3),np.random.randint(0, 20, 3)])\n",
        "\n",
        "\n",
        "M1 = np.asmatrix(M)"
      ],
      "execution_count": 25,
      "outputs": []
    },
    {
      "cell_type": "code",
      "metadata": {
        "colab": {
          "base_uri": "https://localhost:8080/"
        },
        "id": "TP9yKR6rUeb_",
        "outputId": "43138c14-c13a-4f77-88bf-29508de4efeb"
      },
      "source": [
        "autovalor, autovector = la.eig(M1)\n",
        "autovalor\n"
      ],
      "execution_count": 26,
      "outputs": [
        {
          "output_type": "execute_result",
          "data": {
            "text/plain": [
              "array([ 23.80238066+0.j, -10.44209917+0.j,   0.63971851+0.j])"
            ]
          },
          "metadata": {},
          "execution_count": 26
        }
      ]
    },
    {
      "cell_type": "code",
      "metadata": {
        "colab": {
          "base_uri": "https://localhost:8080/"
        },
        "id": "mfgrvaYEUz36",
        "outputId": "b31c486d-2acb-4b9e-9873-91938eb0587d"
      },
      "source": [
        "autovector"
      ],
      "execution_count": 27,
      "outputs": [
        {
          "output_type": "execute_result",
          "data": {
            "text/plain": [
              "array([[-0.70301376, -0.74340761,  0.59648646],\n",
              "       [-0.13472612,  0.01110857, -0.74926722],\n",
              "       [-0.6982983 ,  0.66874638,  0.28775431]])"
            ]
          },
          "metadata": {},
          "execution_count": 27
        }
      ]
    },
    {
      "cell_type": "markdown",
      "metadata": {
        "id": "PC5sB98n1UPs"
      },
      "source": [
        "# Tarea"
      ]
    },
    {
      "cell_type": "markdown",
      "metadata": {
        "id": "pKmGWUKqNOnY"
      },
      "source": [
        "\n",
        "Se sabe que un sistema físico es gobernado por las ecuaciones,\n",
        "\n",
        "\n",
        "\n",
        "$$\n",
        "\\begin{matrix}\n",
        "x' &=& 2x&-y&+z, \\\\\n",
        "y' &=&   &3y&-1z, \\\\\n",
        "z' &=& 2x&+y&+3z,\n",
        "\\end{matrix}\n",
        "$$\n",
        "\n",
        "donde $x',y',z'$ son las derivadas, en forma vectorial esto se puede representar como $\\mathbf{r}'=A\\mathbf{r}$ que tiene solución analítica general, $\\mathbf{r} = e^{At} \\mathbf{r}(0)$.<br> \n",
        "a) Diagonalize $A$.<br> \n",
        "\n",
        "b) Use el hecho de que $f(A) = U f(D) U^{-1}$ para encontrar $x(t),y(t),z(t)$ en el intervalo de tiempo $[0,2]$.<br>.\n",
        "c) Grafique $x(t),y(t),z(t)$ (use la condición inicial $\\mathbf{r}(0)=(1,1,2))$.<br> \n",
        "d) Compare el resultado a la solución analítica,\n",
        "\n",
        "$$\n",
        "\\begin{align}\n",
        "2x & = x(0)(e^{2t}(1+e^{2t}-2t)) + y(0) (-2te^{2t}) + z(0)(e^{2t}(-1+e^{2t})), \\\\\n",
        "2y & = x(0)(-e^{2t}(-1+e^{2t}-2t)) + y(0)(2(t+1)e^{2t}) + z(0)(-e^{2t}(-1+e^{2t})), \\\\\n",
        "2z & = x(0)(e^{2t}(-1+e^{2t}+2t)) + y(0)(2te^{2t}) + z(0)(e^{2t}(1+e^{2t})).\n",
        "\\end{align}\n",
        "$$"
      ]
    },
    {
      "cell_type": "code",
      "metadata": {
        "id": "32RrzfOXVImV"
      },
      "source": [
        "# Matriz de coeficientes asociado al sistema de ecuaciones\n",
        "# Elementos fila de la matriz como un arreglo de numpy\n",
        "x1 = np.array([2, -1, 1])\n",
        "x2 = np.array([0, 3, -1])\n",
        "x3 = np.array([2, 1, +3])\n",
        "\n",
        "# Matriz final, los arreglos se pasan a matriz\n",
        "A = np.asmatrix([x1,x2,x3])"
      ],
      "execution_count": 28,
      "outputs": []
    },
    {
      "cell_type": "code",
      "metadata": {
        "colab": {
          "base_uri": "https://localhost:8080/"
        },
        "id": "tpqvZOqwVIp4",
        "outputId": "c457447a-7c9b-4447-d280-935b4f4780bf"
      },
      "source": [
        "# Corroborrar que es una matriz\n",
        "type(A)"
      ],
      "execution_count": 29,
      "outputs": [
        {
          "output_type": "execute_result",
          "data": {
            "text/plain": [
              "numpy.matrix"
            ]
          },
          "metadata": {},
          "execution_count": 29
        }
      ]
    },
    {
      "cell_type": "code",
      "metadata": {
        "id": "t2KoSM7OZG3B"
      },
      "source": [
        "# Autovalores y autovectores asociados a la mariz A.\n",
        "E, U = la.eig(A) "
      ],
      "execution_count": 30,
      "outputs": []
    },
    {
      "cell_type": "code",
      "metadata": {
        "colab": {
          "base_uri": "https://localhost:8080/"
        },
        "id": "icowNysIZLFf",
        "outputId": "343e899a-14f0-4724-f966-c37ce1e83b00"
      },
      "source": [
        "# Autovalores de A\n",
        "E.round()"
      ],
      "execution_count": 31,
      "outputs": [
        {
          "output_type": "execute_result",
          "data": {
            "text/plain": [
              "array([4.+0.j, 2.+0.j, 2.-0.j])"
            ]
          },
          "metadata": {},
          "execution_count": 31
        }
      ]
    },
    {
      "cell_type": "code",
      "metadata": {
        "colab": {
          "base_uri": "https://localhost:8080/"
        },
        "id": "m2ZUay5YZNTS",
        "outputId": "d55e816e-718c-462a-bfe9-cc21da37014e"
      },
      "source": [
        "# Autovectores de A\n",
        "U.round()"
      ],
      "execution_count": 32,
      "outputs": [
        {
          "output_type": "execute_result",
          "data": {
            "text/plain": [
              "array([[-1.+0.j, -1.+0.j, -1.-0.j],\n",
              "       [ 1.+0.j,  1.+0.j,  1.-0.j],\n",
              "       [-1.+0.j,  1.-0.j,  1.+0.j]])"
            ]
          },
          "metadata": {},
          "execution_count": 32
        }
      ]
    },
    {
      "cell_type": "code",
      "metadata": {
        "id": "ei-DcwQ7CPdR"
      },
      "source": [
        "# Convertir a U en una matriz.\n",
        "U = np.asmatrix(U)"
      ],
      "execution_count": 33,
      "outputs": []
    },
    {
      "cell_type": "code",
      "metadata": {
        "colab": {
          "base_uri": "https://localhost:8080/"
        },
        "id": "SzKHKuCHbsFV",
        "outputId": "46093252-58e0-475d-8138-194edc61fdd1"
      },
      "source": [
        "# Matriz U\n",
        "U.round()"
      ],
      "execution_count": 34,
      "outputs": [
        {
          "output_type": "execute_result",
          "data": {
            "text/plain": [
              "matrix([[-1.+0.j, -1.+0.j, -1.-0.j],\n",
              "        [ 1.+0.j,  1.+0.j,  1.-0.j],\n",
              "        [-1.+0.j,  1.-0.j,  1.+0.j]])"
            ]
          },
          "metadata": {},
          "execution_count": 34
        }
      ]
    },
    {
      "cell_type": "code",
      "metadata": {
        "id": "IUkM433tZXnd"
      },
      "source": [
        "# Matriz diagonal asociada a A \n",
        "D = U.I @ (A @U)"
      ],
      "execution_count": 35,
      "outputs": []
    },
    {
      "cell_type": "code",
      "metadata": {
        "colab": {
          "base_uri": "https://localhost:8080/"
        },
        "id": "wFHw_EzIZXkQ",
        "outputId": "1d112d2b-9fd8-4e71-be78-bfa4c95ad354"
      },
      "source": [
        "# La diagonal de D son los autovalores de a\n",
        "D.round()"
      ],
      "execution_count": 36,
      "outputs": [
        {
          "output_type": "execute_result",
          "data": {
            "text/plain": [
              "matrix([[ 4.-0.j, -0.+0.j, -0.+0.j],\n",
              "        [-0.-0.j,  2.+0.j,  0.-0.j],\n",
              "        [-0.+0.j,  0.+0.j,  2.-0.j]])"
            ]
          },
          "metadata": {},
          "execution_count": 36
        }
      ]
    },
    {
      "cell_type": "code",
      "metadata": {
        "colab": {
          "base_uri": "https://localhost:8080/"
        },
        "id": "vdNt_9kNbyFB",
        "outputId": "cecccb1a-81f7-49ad-93b8-b2053c0d5014"
      },
      "source": [
        "# Crea un arreglo con los elementos de la diagonal siendo los autovectores de A.\n",
        "np.diag(E, 0).round()"
      ],
      "execution_count": 37,
      "outputs": [
        {
          "output_type": "execute_result",
          "data": {
            "text/plain": [
              "array([[4.+0.j, 0.+0.j, 0.+0.j],\n",
              "       [0.+0.j, 2.+0.j, 0.+0.j],\n",
              "       [0.+0.j, 0.+0.j, 2.-0.j]])"
            ]
          },
          "metadata": {},
          "execution_count": 37
        }
      ]
    },
    {
      "cell_type": "code",
      "metadata": {
        "id": "1kzYktAcY8CI"
      },
      "source": [
        "# Función que se evalua en una matriz diagonal en el tiempo.\n",
        "f = lambda t: np.exp(E*t) \n",
        "\n",
        "# Posición inicial\n",
        "r0 = np.array([1,1,2])"
      ],
      "execution_count": 38,
      "outputs": []
    },
    {
      "cell_type": "code",
      "metadata": {
        "id": "Lb4McQe7doE1",
        "colab": {
          "base_uri": "https://localhost:8080/"
        },
        "outputId": "af957739-9f30-4a22-e0e4-8fd70ef197e2"
      },
      "source": [
        "# Tiempo cero, encuentra la función evaluada en la matriz A.\n",
        "t = 0\n",
        "Diagonal = np.diag(f(0), 0)\n",
        "f_A = U@(Diagonal@U.I)\n",
        "r = f_A@r0\n",
        "f_A.round()"
      ],
      "execution_count": 39,
      "outputs": [
        {
          "output_type": "execute_result",
          "data": {
            "text/plain": [
              "matrix([[ 1.+0.j,  0.+0.j,  0.-0.j],\n",
              "        [ 0.+0.j,  1.+0.j,  0.+0.j],\n",
              "        [-0.-0.j,  0.-0.j,  1.-0.j]])"
            ]
          },
          "metadata": {},
          "execution_count": 39
        }
      ]
    },
    {
      "cell_type": "code",
      "metadata": {
        "id": "h29x4wboeEfF",
        "colab": {
          "base_uri": "https://localhost:8080/"
        },
        "outputId": "64320131-8c72-44c8-f438-5cd3da40c2ee"
      },
      "source": [
        "# Tiempo uno encuentra la función evaluada en la matriz A.\n",
        "t = 1\n",
        "Diagonal = np.diag(f(1), 0)\n",
        "f_A = U@(Diagonal@U.I)\n",
        "r = f_A@r0\n",
        "f_A.round()"
      ],
      "execution_count": 40,
      "outputs": [
        {
          "output_type": "execute_result",
          "data": {
            "text/plain": [
              "matrix([[ 24.-0.j,  -7.-0.j,  24.-0.j],\n",
              "        [-16.-0.j,  15.+0.j, -24.+0.j],\n",
              "        [ 31.+0.j,   7.+0.j,  31.-0.j]])"
            ]
          },
          "metadata": {},
          "execution_count": 40
        }
      ]
    },
    {
      "cell_type": "code",
      "metadata": {
        "id": "DJSW-MC82aFo"
      },
      "source": [
        "# Posición inicial\n",
        "r0 = np.matrix([1,1,2])\n",
        "t = np.linspace(0,2,100)\n",
        "N = len(t)\n",
        "\n",
        "# Componentes de r, posiciones en cada coordenada\n",
        "x = np.zeros(N)\n",
        "y = np.zeros(N)\n",
        "z = np.zeros(N)\n",
        "m = 0\n",
        "\n",
        "# Hallar la posición en el tiempo \n",
        "# Recorre el intervalo de tiempo y evalua la función en cada tiempo\n",
        "for i in t:\n",
        "  fD = f(i)\n",
        "  Diag = np.diag(fD,0)\n",
        "  #Evaluación de f en A.\n",
        "  fA = U@Diag@U.I\n",
        "  # Hallar el vector poscición\n",
        "  r = fA@r0.T\n",
        "\n",
        "  # División por componentes de r\n",
        "  x[m] = np.real(r[0])\n",
        "  y[m] = np.real(r[1])\n",
        "  z[m] = np.real(r[2])\n",
        "\n",
        "  m = m+1"
      ],
      "execution_count": 41,
      "outputs": []
    },
    {
      "cell_type": "code",
      "metadata": {
        "colab": {
          "base_uri": "https://localhost:8080/",
          "height": 418
        },
        "id": "_ovibiBh4lUn",
        "outputId": "73936148-bf1a-4839-cf49-f8d45c43d5ac"
      },
      "source": [
        "# Gráfica de las componentes de r con respecto al tiempo.\n",
        "plt.figure(figsize=(12,6))\n",
        "\n",
        "plt.plot(t,x, label = '$x(t)$')\n",
        "plt.plot(t,y, label = '$y(t)$')\n",
        "plt.plot(t,z, label = '$z(t)$')\n",
        "plt.title('$Solución$ $Matricial$, $x(t)$, $y(t)$, $z(t)$', size = 18)\n",
        "plt.xlabel('$t$ $[s]$', size = 15)\n",
        "plt.ylabel('$r(t)$ $[m]$', size = 15)\n",
        "plt.legend(fontsize = 15)\n",
        "plt.grid()"
      ],
      "execution_count": 42,
      "outputs": [
        {
          "output_type": "display_data",
          "data": {
            "image/png": "[encoded data removed]",
            "text/plain": [
              "<Figure size 864x432 with 1 Axes>"
            ]
          },
          "metadata": {
            "needs_background": "light"
          }
        }
      ]
    },
    {
      "cell_type": "markdown",
      "metadata": {
        "id": "dBYuF_4xleQz"
      },
      "source": [
        "d) Compare el resultado a la solución analítica,\n",
        "\n",
        "$$\n",
        "\\begin{align}\n",
        "2x & = x(0)(e^{2t}(1+e^{2t}-2t)) + y(0) (-2te^{2t}) + z(0)(e^{2t}(-1+e^{2t})), \\\\\n",
        "2y & = x(0)(-e^{2t}(-1+e^{2t}-2t)) + y(0)(2(t+1)e^{2t}) + z(0)(-e^{2t}(-1+e^{2t})), \\\\\n",
        "2z & = x(0)(e^{2t}(-1+e^{2t}+2t)) + y(0)(2te^{2t}) + z(0)(e^{2t}(1+e^{2t})).\n",
        "\\end{align}\n",
        "$$"
      ]
    },
    {
      "cell_type": "code",
      "metadata": {
        "id": "nvS1TQ8MZB74"
      },
      "source": [
        "# Posición inicial y definición de la componentes de r en el tiempo.\n",
        "r0 = np.array([1,1,2])\n",
        "def X(t):\n",
        "  ex = np.exp((2*t))\n",
        "  p1 = r0[0]*(ex*(1 + ex - 2*t))\n",
        "  p2 = r0[1]*(-2*t*ex)\n",
        "  p3 = r0[2]*(ex*(-1 + ex))\n",
        "  return 0.5*(p1 + p2 + p3)\n",
        "\n",
        "def Y(t):\n",
        "  ex = np.exp((2*t))\n",
        "  p11 = r0[0]*(-ex*(-1 + ex - 2*t))\n",
        "  p21 = r0[1]*(2*(t + 1)*ex)\n",
        "  p31 = r0[2]*(-ex*(-1 + ex))\n",
        "  return 0.5*(p11 + p21 + p31)\n",
        "\n",
        "def Z(t):\n",
        "  ex = np.exp((2*t))\n",
        "  p12 = r0[0]*(ex*(-1 + ex + 2*t))\n",
        "  p22 = r0[1]*(2*t*ex)\n",
        "  p32 = r0[2]*(ex*(1 + ex))\n",
        "  return 0.5*(p12 + p22 + p32)\n"
      ],
      "execution_count": 43,
      "outputs": []
    },
    {
      "cell_type": "code",
      "metadata": {
        "colab": {
          "base_uri": "https://localhost:8080/",
          "height": 418
        },
        "id": "gj8rTCTDmPEB",
        "outputId": "39f2b239-1c6b-42c9-8b31-4cea42d02042"
      },
      "source": [
        "# Intervalo de tiempo y cantidad de puntos.\n",
        "t = np.linspace(0,2,100)\n",
        "\n",
        "# Gráfica de las componentes de r con respecto al tiempo\n",
        "plt.figure(figsize=(12,6))\n",
        "\n",
        "plt.plot(t,X(t), label = '$x(t)$')\n",
        "plt.plot(t,Y(t), label = '$y(t)$')\n",
        "plt.plot(t,Z(t), label = '$z(t)$')\n",
        "plt.title('$Solución$ $Analítica$, $x(t)$, $y(t)$, $z(t)$', size = 18)\n",
        "plt.xlabel('$t$ $[s]$', size = 15)\n",
        "plt.ylabel('$r(t)$ $[m]$', size = 15)\n",
        "plt.legend(fontsize = 15)\n",
        "plt.grid()"
      ],
      "execution_count": 44,
      "outputs": [
        {
          "output_type": "display_data",
          "data": {
            "image/png": "[encoded data removed]",
            "text/plain": [
              "<Figure size 864x432 with 1 Axes>"
            ]
          },
          "metadata": {
            "needs_background": "light"
          }
        }
      ]
    },
    {
      "cell_type": "markdown",
      "metadata": {
        "id": "IcmCVH33NOjy"
      },
      "source": [
        "\n",
        "2. Un proceso para encriptar un mensaje secreto es usar cierta matrix cuadrada cuyos elementos son enteros con elementos enteros en la inversa. Se recibe un mensaje, se asigna un número a cada letra Por ejemplo, A=1, B=2, C=3, ... etc y espacio=27), se arreglan los números en una matriz de izquierda a derecha en cada fila, donde el número de elementos en la fila es igual al tamano de la matriz de codigo, se multiplica esa matriz por la matriz de código por la derecha, se transcribe el mensaje en una cadena de números y se manda el mensaje. \n",
        "\n",
        "La persona que debe recibir el mensaje conoce la matriz de codigo. El o ellla arrelgan el mensaje encriptado en una matriz de izquierda a derecha en cada fila, en donde el numero de elementos en una fila conicide con el tamano de la matriz de codigo muplicada por la derecha, por el inverso de la matriz de código y puede leer mensaje decodificado.\n",
        "\n",
        "Usted a recibido el siguiente mensaje que fue encriptado usando la matriz A. Decodifiquelo.\n",
        "\n",
        "```\n",
        "A = matrix([[ 1,  2, -3,  4,  5],\n",
        "        [-2, -5,  8, -8, -9],\n",
        "        [ 1,  2, -2,  7,  9],\n",
        "        [ 1,  1,  0,  6, 12],\n",
        "        [ 2,  4, -6,  8, 11]])\n",
        "```\n",
        "\n",
        "Mensaje\n",
        "\n",
        "47,49,-19,257,487,10,-9,63,137,236, 79,142,-184,372,536,59,70,-40,332,588, \n",
        "\n",
        "la primera fila del mensaje es 47,49,-19,257,487\n",
        "\n",
        "¿Cual es el mensaje?\n",
        "\n"
      ]
    },
    {
      "cell_type": "markdown",
      "metadata": {
        "id": "bmekAD3oNOg0"
      },
      "source": [
        "\n",
        "\n",
        "```\n",
        "abc=['A','B','C','D','E','F','G','H','I','J','K','L','M','N','O','P','Q','R','S','T','U','V','W','X','Y','Z',' ']\n",
        "num=['1','2','3','4','5','6','7','8','9','10','11','12','13','14','15','16','17','18','19','20','21','22','23','24','25','26','27']\n",
        "```\n"
      ]
    },
    {
      "cell_type": "code",
      "metadata": {
        "colab": {
          "base_uri": "https://localhost:8080/"
        },
        "id": "uEvD-F7Rp02Z",
        "outputId": "04b52872-0133-4854-a23d-680213cd081c"
      },
      "source": [
        "# Matriz código\n",
        "A = matrix([[ 1,  2, -3,  4,  5],\n",
        "        [-2, -5,  8, -8, -9],\n",
        "        [ 1,  2, -2,  7,  9],\n",
        "        [ 1,  1,  0,  6, 12],\n",
        "        [ 2,  4, -6,  8, 11]])\n",
        "\n",
        "# Filas de la matriz de mensaje\n",
        "z1 = np.array([47,49,-19,257,487])\n",
        "z2 = np.array([10,-9,63,137,236])\n",
        "z3 = np.array([79,142,-184,372,536])\n",
        "z4 = np.array([59,70,-40,332,588])\n",
        "\n",
        "# Matriz de mensaje\n",
        "C = np.asmatrix([z1,z2,z3,z4])\n",
        "C"
      ],
      "execution_count": 45,
      "outputs": [
        {
          "output_type": "execute_result",
          "data": {
            "text/plain": [
              "matrix([[  47,   49,  -19,  257,  487],\n",
              "        [  10,   -9,   63,  137,  236],\n",
              "        [  79,  142, -184,  372,  536],\n",
              "        [  59,   70,  -40,  332,  588]])"
            ]
          },
          "metadata": {},
          "execution_count": 45
        }
      ]
    },
    {
      "cell_type": "code",
      "metadata": {
        "colab": {
          "base_uri": "https://localhost:8080/"
        },
        "id": "y3oVtVyBq1_A",
        "outputId": "7cbda142-d411-4685-e088-c609982a5560"
      },
      "source": [
        "# Decodificación del mensaje\n",
        "D = C@A.I\n",
        "D"
      ],
      "execution_count": 46,
      "outputs": [
        {
          "output_type": "execute_result",
          "data": {
            "text/plain": [
              "matrix([[ 1., 18.,  5., 27., 25.],\n",
              "        [15., 21., 27.,  8.,  1.],\n",
              "        [22.,  9., 14.,  7., 27.],\n",
              "        [ 6., 21., 14., 27., 27.]])"
            ]
          },
          "metadata": {},
          "execution_count": 46
        }
      ]
    },
    {
      "cell_type": "code",
      "metadata": {
        "colab": {
          "base_uri": "https://localhost:8080/",
          "height": 204
        },
        "id": "75AwTOwotPkm",
        "outputId": "73fbfa54-6166-49aa-d2d1-f350833cb750"
      },
      "source": [
        "# Clave \n",
        "abc=['A','B','C','D','E','F','G','H','I','J','K','L','M','N','O','P','Q','R','S','T','U','V','W','X','Y','Z',' ']\n",
        "num=['1','2','3','4','5','6','7','8','9','10','11','12','13','14','15','16','17','18','19','20','21','22','23','24','25','26','27']\n",
        "dicc = {'Letra': abc, 'Número': num}\n",
        "Cl = pd.DataFrame(dicc, index=num)\n",
        "Cl.head()"
      ],
      "execution_count": 47,
      "outputs": [
        {
          "output_type": "execute_result",
          "data": {
            "text/html": [
              "<div>\n",
              "<style scoped>\n",
              "    .dataframe tbody tr th:only-of-type {\n",
              "        vertical-align: middle;\n",
              "    }\n",
              "\n",
              "    .dataframe tbody tr th {\n",
              "        vertical-align: top;\n",
              "    }\n",
              "\n",
              "    .dataframe thead th {\n",
              "        text-align: right;\n",
              "    }\n",
              "</style>\n",
              "<table border=\"1\" class=\"dataframe\">\n",
              "  <thead>\n",
              "    <tr style=\"text-align: right;\">\n",
              "      <th></th>\n",
              "      <th>Letra</th>\n",
              "      <th>Número</th>\n",
              "    </tr>\n",
              "  </thead>\n",
              "  <tbody>\n",
              "    <tr>\n",
              "      <th>1</th>\n",
              "      <td>A</td>\n",
              "      <td>1</td>\n",
              "    </tr>\n",
              "    <tr>\n",
              "      <th>2</th>\n",
              "      <td>B</td>\n",
              "      <td>2</td>\n",
              "    </tr>\n",
              "    <tr>\n",
              "      <th>3</th>\n",
              "      <td>C</td>\n",
              "      <td>3</td>\n",
              "    </tr>\n",
              "    <tr>\n",
              "      <th>4</th>\n",
              "      <td>D</td>\n",
              "      <td>4</td>\n",
              "    </tr>\n",
              "    <tr>\n",
              "      <th>5</th>\n",
              "      <td>E</td>\n",
              "      <td>5</td>\n",
              "    </tr>\n",
              "  </tbody>\n",
              "</table>\n",
              "</div>"
            ],
            "text/plain": [
              "  Letra Número\n",
              "1     A      1\n",
              "2     B      2\n",
              "3     C      3\n",
              "4     D      4\n",
              "5     E      5"
            ]
          },
          "metadata": {},
          "execution_count": 47
        }
      ]
    },
    {
      "cell_type": "markdown",
      "metadata": {
        "id": "hzcLPZo1vG-1"
      },
      "source": [
        "# Mensaje :\n",
        "```\n",
        "key = [1,18,5,27,25,15,21,27,8,1,22,9,14,7,27,6,21,14,27,27]\n",
        "```\n",
        "Are you having fun?"
      ]
    },
    {
      "cell_type": "markdown",
      "metadata": {
        "id": "KL0-AvnOwdtB"
      },
      "source": [
        "3. Construir un programa que permita realizar la multiplicacion de dos matrices. El programa debe establecer si las matrices se pueden multiplicar.\n"
      ]
    },
    {
      "cell_type": "code",
      "metadata": {
        "id": "CDFLZNITffTW"
      },
      "source": [
        "\n",
        "def Mult(A,B):\n",
        "  \"\"\"\n",
        "  Función que multiplica dos matrices.\n",
        "  -------\n",
        "   Input:\n",
        "    A: Arreglo de numpy con las filas de la matriz A.\n",
        "    B: Arreglo de numpy con las filas de la matriz B.\n",
        "  \n",
        "   Output:\n",
        "    C: Producto matricial entre A y B.\n",
        "  \"\"\"\n",
        "  n = len(A)\n",
        "  m = len(B[0])\n",
        "  # Matriz de ceros para almacenar los resultados\n",
        "  C = np.zeros((n,m))\n",
        "  try:\n",
        "    \n",
        "    # Iteracción sobre las filas y columnas de A y B\n",
        "    for i in range(len(A)):\n",
        "        for j in range(len(B[0])):\n",
        "            for k in range(len(B)):\n",
        "                C[i][j] += A[i][k] * B[k][j]\n",
        "    \n",
        "    for c in C:\n",
        "        print(c)\n",
        "\n",
        "  except:\n",
        "      print('Las matrices no son compatibles para multiplicación')\n",
        "  "
      ],
      "execution_count": 48,
      "outputs": []
    },
    {
      "cell_type": "code",
      "metadata": {
        "colab": {
          "base_uri": "https://localhost:8080/"
        },
        "id": "m0hEu0qrFdUw",
        "outputId": "e1a1ca12-5bea-4e35-e830-41f37bc0da55"
      },
      "source": [
        "A = [[ 1,  2, -3,  4,  5],\n",
        "        [-2, -5,  8, -8, -9],\n",
        "        [ 1,  2, -2,  7,  9],\n",
        "        [ 1,  1,  0,  6, 12],\n",
        "        [ 2,  4, -6,  8, 11]]\n",
        "\n",
        "C = [z1,z2,z3,z4]\n",
        "\n",
        "Mult(C,A)"
      ],
      "execution_count": 49,
      "outputs": [
        {
          "output_type": "stream",
          "name": "stdout",
          "text": [
            "[ 1161.  2016. -2633.  5101.  8064.]\n",
            "[  700.  1272. -1644.  3263.  4938.]\n",
            "[ 1055.  1596. -1949.  4412.  7821.]\n",
            "[ 1387.  2372. -3065.  6092.  9757.]\n"
          ]
        }
      ]
    },
    {
      "cell_type": "code",
      "metadata": {
        "id": "HBm270YqSKUG"
      },
      "source": [
        ""
      ],
      "execution_count": 49,
      "outputs": []
    }
  ]
}