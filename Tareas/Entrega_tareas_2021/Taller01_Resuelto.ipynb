{
  "nbformat": 4,
  "nbformat_minor": 0,
  "metadata": {
    "colab": {
      "name": "Taller01 - Resuelto",
      "provenance": [],
      "collapsed_sections": []
    },
    "kernelspec": {
      "name": "python3",
      "display_name": "Python 3"
    },
    "language_info": {
      "name": "python"
    }
  },
  "cells": [
    {
      "cell_type": "markdown",
      "metadata": {
        "id": "wqokJN2IUy6l"
      },
      "source": [
        "**INTEGRANTES: SAMUEL GIRALDO BUILES - JUAN ESTEBAN BERRÍO SALAZAR**"
      ]
    },
    {
      "cell_type": "code",
      "metadata": {
        "id": "TB5wAcjaf2nJ"
      },
      "source": [
        "import numpy as np\n",
        "import matplotlib.pyplot as plt"
      ],
      "execution_count": 1,
      "outputs": []
    },
    {
      "cell_type": "markdown",
      "metadata": {
        "id": "n4OtoJqFUqIl"
      },
      "source": [
        "**1)CAMPO ELÉCTRICO PRODUCIDO POR UN DIPOLO ELÉCTRICO**"
      ]
    },
    {
      "cell_type": "code",
      "metadata": {
        "id": "DFfa0SsUjS29"
      },
      "source": [
        "#VALORES DE LA FUENTE Y DEL PUNTO DONDE SE DESEA CALCULAR\n",
        "fuente = {\"q1\": np.array([-2,0]),\"q2\":np.array([2,0])} #Aquí pueden varias las fuentes\n",
        "point = np.array([1,0]) # Aquí puede variar el punto"
      ],
      "execution_count": 70,
      "outputs": []
    },
    {
      "cell_type": "code",
      "metadata": {
        "id": "OoQMune3x3lF"
      },
      "source": [
        "k=1\n",
        "def magnitud_campo(q,r):\n",
        "  global k\n",
        "  return k*q/r**2"
      ],
      "execution_count": 71,
      "outputs": []
    },
    {
      "cell_type": "markdown",
      "metadata": {
        "id": "8XtOlXUG-pgc"
      },
      "source": [
        "**CAMPO ELECTRICO EN UN PUNTO PRODUCIDO POR UN DIPOLO**"
      ]
    },
    {
      "cell_type": "code",
      "metadata": {
        "id": "nCWp94cYx7HM"
      },
      "source": [
        "\n",
        "q_positiva = 1             #CARGA POSITIVA DEL DIPOLO\n",
        "q_negativa = -1*q_positiva #CARGA POSITIVA DEL DIPOLO\n",
        "def CampoE_Total(posicionfuente_positiva,posicionfuente_negativa, punto):\n",
        "  \n",
        "  #CALCULOS PARA LA CARGA POSITIVA FUENTE\n",
        "  DeltaR_0 = punto - posicionfuente_positiva\n",
        "  magnitud_DeltaR_0 = np.sqrt(DeltaR_0[0]**2 + DeltaR_0[1]**2)\n",
        "  unitarioR_0 = DeltaR_0 / magnitud_DeltaR_0\n",
        "  E_0 = magnitud_campo(q_positiva,magnitud_DeltaR_0)* unitarioR_0\n",
        "\n",
        "  #CALCULOS PARA LA CARGA NEGATIVA FUENTE\n",
        "  DeltaR_1 = punto - posicionfuente_negativa\n",
        "  magnitud_DeltaR_1 = np.sqrt(DeltaR_1[0]**2 + DeltaR_1[1]**2)\n",
        "  unitarioR_1 = DeltaR_1 / magnitud_DeltaR_1\n",
        "  E_1 = magnitud_campo(q_negativa,magnitud_DeltaR_1)* unitarioR_1\n",
        "\n",
        "  #PRINCIPIO DE SUPERPOSICION\n",
        "  E = E_0 + E_1\n",
        "  Ex = E[0]\n",
        "  Ey = E[1]\n",
        "  return Ex,Ey\n",
        "  "
      ],
      "execution_count": 72,
      "outputs": []
    },
    {
      "cell_type": "markdown",
      "metadata": {
        "id": "g2FBNKNx_Hkl"
      },
      "source": [
        "**CAMPO ELECTRICO PRODUCIDO POR UN DIPOLO EN UN REGION DEL PLANO**"
      ]
    },
    {
      "cell_type": "code",
      "metadata": {
        "id": "diMrMb7i0nw_"
      },
      "source": [
        "def dipolo(rangox_negativo,rangox_positivo,rangoy_negativo,rangoy_positivo,paso):\n",
        "  \"\"\"\n",
        "  INGRESAR\n",
        "  rangox_negativo : Limite a la \"izquierda\" de x\n",
        "  rangox_positivo : Limite a la \"derecha\" de x\n",
        "  rangoy_negativo : Limite a la \"inferior\" de y\n",
        "  rangoy_positivo : Limite a la \"inferior\" de y\n",
        "  paso : Cada cuanto se desea graficar el campo electrico entre los límites de \"x\" y \"y\"\n",
        "  \"\"\"\n",
        "\n",
        "  #DEFINIR PUNTOS DONDE QUIERO CALCULAR EL CAMPO ELÉCTRICO\n",
        "  x = np.arange(rangox_negativo,rangox_positivo + 1 ,paso)\n",
        "  nx = len(x)\n",
        "  y = np.arange(rangoy_negativo,rangoy_positivo + 1,paso)\n",
        "  ny = len(y)\n",
        "\n",
        "  rp = np.zeros((nx*ny,2))\n",
        "  k = 0\n",
        "  for x_ in x:\n",
        "    for y_ in y:\n",
        "      rp[k]=np.array([x_,y_])\n",
        "      k=k+1\n",
        "\n",
        "  E_c = np.zeros((nx*ny,2))\n",
        "  for i in range(0,len(rp)):\n",
        "    E_c[i]= CampoE_Total(fuente[\"q1\"],fuente[\"q2\"],rp[i])\n",
        "  plt.figure()\n",
        "  plt.quiver(rp[:,0],rp[0:,1],E_c[:,0],E_c[:,1])\n",
        "  plt.plot(fuente[\"q1\"][0],fuente[\"q1\"][1],\"go\") #CARGA NEGATIVA\n",
        "  plt.plot(fuente[\"q2\"][0],fuente[\"q2\"][1],\"ro\") #CARGA POSITIVA"
      ],
      "execution_count": 73,
      "outputs": []
    },
    {
      "cell_type": "code",
      "metadata": {
        "colab": {
          "base_uri": "https://localhost:8080/",
          "height": 375
        },
        "id": "Dj1kFiL882iW",
        "outputId": "75899f4b-69d0-4900-fe9a-d4c6a79aa06a"
      },
      "source": [
        "dipolo(-3,3,-3,3,1)"
      ],
      "execution_count": 77,
      "outputs": [
        {
          "output_type": "stream",
          "text": [
            "/usr/local/lib/python3.7/dist-packages/ipykernel_launcher.py:9: RuntimeWarning: invalid value encountered in true_divide\n",
            "  if __name__ == '__main__':\n",
            "/usr/local/lib/python3.7/dist-packages/ipykernel_launcher.py:4: RuntimeWarning: divide by zero encountered in double_scalars\n",
            "  after removing the cwd from sys.path.\n",
            "/usr/local/lib/python3.7/dist-packages/ipykernel_launcher.py:15: RuntimeWarning: invalid value encountered in true_divide\n",
            "  from ipykernel import kernelapp as app\n"
          ],
          "name": "stderr"
        },
        {
          "output_type": "display_data",
          "data": {
            "image/png": "[encoded data removed]",
            "text/plain": [
              "<Figure size 432x288 with 1 Axes>"
            ]
          },
          "metadata": {
            "tags": [],
            "needs_background": "light"
          }
        }
      ]
    },
    {
      "cell_type": "markdown",
      "metadata": {
        "id": "GoXRlW16UCl4"
      },
      "source": [
        "**2) CESTA EN LA CANASTA**"
      ]
    },
    {
      "cell_type": "code",
      "metadata": {
        "id": "EiJd3XliUTc5"
      },
      "source": [
        "# EL CODIGO TIENE UN MARGEN DE ERROR, PUES SUPUSIMOS QUE LA CANASTA NO ERA PUNTUAL\n",
        "def cesta(velocidad_0,distancia,angulo_gra):\n",
        "  respuesta = \"false\"\n",
        "  angulo_rad = angulo_gra * np.pi / 180\n",
        "  t = 0\n",
        "  h = 3.05\n",
        "  x = 0\n",
        "  y = 0\n",
        "  while y>=0:\n",
        "    velocidad_y = velocidad_0 * np.sin(angulo_rad)*t\n",
        "    y = velocidad_0 * t + 0.5 - 9.8 * t**2\n",
        "    t = t + 0.0005\n",
        "    if h-1 <= y  <= h+1:\n",
        "      x = velocidad_0 * np.cos(angulo_rad) * t\n",
        "      if distancia-1 < x < distancia+1:\n",
        "        respuesta = \"true\"\n",
        "  return respuesta"
      ],
      "execution_count": 78,
      "outputs": []
    },
    {
      "cell_type": "code",
      "metadata": {
        "colab": {
          "base_uri": "https://localhost:8080/",
          "height": 36
        },
        "id": "sTO3WULvUb6R",
        "outputId": "f74374ab-5769-4e34-f5ca-f0df91e89f81"
      },
      "source": [
        "cesta(20/np.sqrt(3),10,30)"
      ],
      "execution_count": 80,
      "outputs": [
        {
          "output_type": "execute_result",
          "data": {
            "application/vnd.google.colaboratory.intrinsic+json": {
              "type": "string"
            },
            "text/plain": [
              "'true'"
            ]
          },
          "metadata": {
            "tags": []
          },
          "execution_count": 80
        }
      ]
    }
  ]
}