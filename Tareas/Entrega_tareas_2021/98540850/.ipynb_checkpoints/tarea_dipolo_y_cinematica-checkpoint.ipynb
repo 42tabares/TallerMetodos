{
  "nbformat": 4,
  "nbformat_minor": 0,
  "metadata": {
    "colab": {
      "name": " tarea dipolo y cinematica",
      "provenance": [],
      "collapsed_sections": []
    },
    "kernelspec": {
      "name": "python3",
      "display_name": "Python 3"
    },
    "language_info": {
      "name": "python"
    }
  },
  "cells": [
    {
      "cell_type": "markdown",
      "metadata": {
        "id": "1QX-f5sqRSwB"
      },
      "source": [
        "Campo eléctrico:\n",
        "Elaborar un programa para calcular el campo eléctrico producido por un dipolo eléctrico, realizar una representación del campo para todo el dominio elegido para calcular el campo. Para encontrar el campo, se sugiere hacer lo siguiente:\n",
        "a. Encontrar el campo en un punto producido por dos cargas q1 y q2\n",
        "b. Emplee el comando plt.quiver(x, y, Ex, Ey) para mostrar el campo producido por q1 y q2. Puedes intentarlo con el comando, plt.stremplot.\n",
        "c. Generalice el problema para varios puntos en el espacio.\n",
        "Se recomienda emplear numpy array."
      ]
    },
    {
      "cell_type": "code",
      "metadata": {
        "colab": {
          "base_uri": "https://localhost:8080/",
          "height": 282
        },
        "id": "Or3MmqBHgeM6",
        "outputId": "7cd641d9-9a8f-4725-b04d-052d0c7f3d50"
      },
      "source": [
        "import numpy as np\n",
        "import matplotlib.pyplot as plt\n",
        "\n",
        "\n",
        "k = 1\n",
        "\n",
        "def E_campo(q, r ):\n",
        "  \"\"\"\n",
        "  Magnitud del campo electrico debido a q\n",
        "  \"\"\"\n",
        "  global k\n",
        "  return k*q/r**2\n",
        "\n",
        "def E1_campo(q1, r1 ):\n",
        "  \"\"\"\n",
        "  Magnitud del campo electrico debido a q1\n",
        "  \"\"\"\n",
        "  global k\n",
        "  return k*q1/r1**2\n",
        "\n",
        "\n",
        "r_source = {\"q\": np.array([-2., 0.2]), \"q1\":np.array([2.,0.2] )} #Posicion de las fuentes\n",
        "rp       = np.array([0,1.])                # Punto para encontrar el campo electrico, eje de simetría\n",
        "\n",
        "\n",
        "\n",
        "Delta_R =  (r_source[\"q\"]  - rp)\n",
        "Delta1_R =  -1*(r_source[\"q1\"]  - rp)\n",
        "\n",
        "  #print(\"componente delta_R\", Delta_R) # r entre q y p\n",
        "  #print(\"componente delta_R1\" ,Delta1_R)# r entre q1 y p1\n",
        "\n",
        "#MAGNITUDES DELTA`S_R \n",
        "\n",
        "MagDelta_R = np.sqrt(Delta_R[0]**2 + Delta_R[1]**2)\n",
        "MagDelta1_R = np.sqrt(Delta1_R[0]**2 + Delta1_R[1]**2)\n",
        "\n",
        "# VECTORES UNITARIOS DE LOS CAMPOS\n",
        "\n",
        "u_R = Delta_R/MagDelta_R\n",
        "u1_R = Delta1_R/MagDelta1_R\n",
        "\n",
        "# CAMPO ELECTRICO DE CADA PARTICULA\n",
        "\n",
        "E = E_campo(100,MagDelta_R ) * u_R\n",
        "E1 = E1_campo(100,MagDelta1_R ) * u1_R\n",
        "\n",
        "# CAMPO LECTRICO TOTAL EN EL PUNTO (0,1)\n",
        "\n",
        "Et=E+E1\n",
        "  \n",
        "\n",
        "\n",
        "plt.figure()\n",
        "plt.plot(r_source[\"q\"][0], r_source[\"q\"][1], \"ro\")\n",
        "plt.plot(r_source[\"q1\"][0], r_source[\"q1\"][1], \"ro\")\n",
        "plt.plot(rp[0], rp[1],\"o\")\n",
        "plt.quiver(rp[0], rp[1], Et[0], Et[1])\n",
        "\n"
      ],
      "execution_count": null,
      "outputs": [
        {
          "output_type": "execute_result",
          "data": {
            "text/plain": [
              "<matplotlib.quiver.Quiver at 0x7f3af5e22fd0>"
            ]
          },
          "metadata": {
            "tags": []
          },
          "execution_count": 19
        },
        {
          "output_type": "display_data",
          "data": {
            "image/png": "[encoded data removed]",
            "text/plain": [
              "<Figure size 432x288 with 1 Axes>"
            ]
          },
          "metadata": {
            "tags": [],
            "needs_background": "light"
          }
        }
      ]
    },
    {
      "cell_type": "code",
      "metadata": {
        "colab": {
          "base_uri": "https://localhost:8080/",
          "height": 371
        },
        "id": "zbwUsYq31jU6",
        "outputId": "62cf9a82-0cea-414a-d60e-f098dd13d523"
      },
      "source": [
        "# Definir los puntos donde se se determinara el campo electrico \n",
        "\n",
        "def campo_fuente(rsource,rsource1, rp):\n",
        "   '''\n",
        "   Parameter\n",
        "   ---------\n",
        "   r_source : numpy array de 2D-->posicion donde esta la fuente\n",
        "   rp       : numpy array de 2D-->posicion donde se quiere conocer el campo electrico\n",
        "\n",
        "   return\n",
        "   -----------\n",
        "   Ex       : componente x del campo electrico\n",
        "   Ey       : componente x del campo electrico\n",
        "   '''\n",
        "\n",
        "  \n",
        "   Delta_R =  (r_source[\"q\"]  - rp)\n",
        "   Delta1_R =  -1*(r_source[\"q1\"]  - rp)\n",
        "\n",
        "   MagDelta_R = np.sqrt(Delta_R[0]**2 + Delta_R[1]**2)\n",
        "   MagDelta1_R = np.sqrt(Delta1_R[0]**2 + Delta1_R[1]**2)  \n",
        "\n",
        "   u_R = Delta_R/MagDelta_R\n",
        "   u1_R = Delta1_R/MagDelta1_R\n",
        "\n",
        "   E = E_campo(100,MagDelta_R ) * u_R\n",
        "   E1 = E1_campo(100,MagDelta1_R ) * u1_R\n",
        "   Et=E+E1\n",
        "   Ex = Et[0]\n",
        "   Ey = Et[1]\n",
        "   return Ex, Ey\n",
        "\n",
        "x = np.arange(-5,6,0.5)\n",
        "n1 = len(x)\n",
        "y = np.arange(-5,6,0.5)\n",
        "n2 =len(y)\n",
        "rp = np.zeros((n1*n2, 2))\n",
        "\n",
        "rp = np.zeros((n1*n2 , 2))\n",
        "k = 0\n",
        "for x_ in (x):\n",
        "  for y_ in (y):\n",
        "    rp[k] = np.array([x_, y_])\n",
        "    k=k+1\n",
        "\n",
        "\n",
        "r_source = {'q': np.array([-2.,0]), 'q1':np.array([2.,0])} # posicion de las fuentes\n",
        "Et = np.zeros((n1*n2, 2))\n",
        "\n",
        "for i in range(0,len(rp)):\n",
        "  Et[i] = campo_fuente(r_source['q'],r_source['q1'],rp[i])\n",
        "\n",
        "\n",
        "campo_fuente(r_source['q'],r_source['q1'],rp)\n",
        "\n",
        "\n",
        "plt.plot(r_source[\"q\"][0],r_source[\"q\"][1],   \"o\" ) \n",
        "plt.plot(r_source[\"q1\"][0],r_source[\"q1\"][-1],   \"ro\" ) \n",
        "plt.quiver(rp[:,0], rp[:,1], Et[:,0], Et[:,1])# asignacion de lechas\n",
        "plt.xlim(-5,5)"
      ],
      "execution_count": null,
      "outputs": [
        {
          "output_type": "stream",
          "text": [
            "/usr/local/lib/python3.7/dist-packages/ipykernel_launcher.py:23: RuntimeWarning: invalid value encountered in true_divide\n",
            "/usr/local/lib/python3.7/dist-packages/ipykernel_launcher.py:12: RuntimeWarning: divide by zero encountered in double_scalars\n",
            "  if sys.path[0] == '':\n",
            "/usr/local/lib/python3.7/dist-packages/ipykernel_launcher.py:24: RuntimeWarning: invalid value encountered in true_divide\n",
            "/usr/local/lib/python3.7/dist-packages/ipykernel_launcher.py:19: RuntimeWarning: divide by zero encountered in double_scalars\n"
          ],
          "name": "stderr"
        },
        {
          "output_type": "execute_result",
          "data": {
            "text/plain": [
              "(-5.0, 5.0)"
            ]
          },
          "metadata": {
            "tags": []
          },
          "execution_count": 5
        },
        {
          "output_type": "display_data",
          "data": {
            "image/png": "[encoded data removed]",
            "text/plain": [
              "<Figure size 432x288 with 1 Axes>"
            ]
          },
          "metadata": {
            "tags": [],
            "needs_background": "light"
          }
        }
      ]
    },
    {
      "cell_type": "markdown",
      "metadata": {
        "id": "MOmbwEAsrxKX"
      },
      "source": [
        "Movimiento parabólico:\n",
        "Un jugador de baloncesto desea saber si encestará su tiro dependiendo de la velocidad inicial, ángulo de lanzamiento y posición respecto a la canasta.\n",
        "Elabore un programa en el que dada una distancia, velocidad inicial y ángulo, determine si hay cesta. El modelo será bajo partícula, sin la rotación del balón.\n",
        "\n",
        "Se recomienda emplear numpy array."
      ]
    },
    {
      "cell_type": "code",
      "metadata": {
        "colab": {
          "base_uri": "https://localhost:8080/"
        },
        "id": "Spzh7GkmsfWJ",
        "outputId": "b34e1d82-783f-4383-a32d-0a9fd1ec39ec"
      },
      "source": [
        "import numpy as np\n",
        "import math\n",
        "import matplotlib.pyplot as plt\n",
        "# Datos \n",
        "\n",
        "# Diametro del aro=  0.45 m-------> 45 cm\n",
        "# Diametro del balón= 0.25 m------> 25 cm\n",
        "# Altura de la cesta respecto al piso= 3.05 m\n",
        "# Distancia del jugado a la base del aro en el piso= L m\n",
        "\n",
        "\n",
        "#H=3.05 # altura de la cesta respeto a piso en m \n",
        "g=9.81 #constante \n",
        "x= float(input(\"ingrese la distancia horizonatal respecto a la canasta en m: \" ))\n",
        "vi= float(input(\"ingrese velocidad inicial de lanzamiento m/s: \"))\n",
        "a=float(input(\"ingrese el agulo de lanzamiento grados: \"))\n",
        "\n",
        "\n",
        "\n",
        "\n",
        "h=2.05\n",
        "ht=H-h   #DIFERENCIA DE ALTURAS, ALTURA EN LA QUE SE ENCUENTRA LA CESTA\n",
        "         #MENOS LA ALTURA DEL JUGADOR \n",
        "\n",
        "\n",
        "# angulo de tiro minimo\n",
        "\n",
        "angulo = math.tan(math.radians(33.7))+2*ht/x\n",
        "angulo1=math.atan(angulo)\n",
        "angulo_min=math.degrees(angulo1)\n",
        "\n",
        "#velocidad inicial de tiro\n",
        "\n",
        "k=g*x\n",
        "d=math.tan(math.radians(a))-ht/x\n",
        "an=math.cos(math.radians(a)) **2\n",
        "vo=math.sqrt( k /(2*d*an))\n",
        "\n",
        "\n",
        "#velocidad inicial minima  de tiro\n",
        "\n",
        "vom=math.sqrt(g*(math.sqrt((x**2) + (ht**2))+ht))\n",
        "\n",
        "\n",
        "\n",
        "print (\"velocidad minima\" ,vom)\n",
        "  \n",
        "\n",
        "if vom<vi<vo:\n",
        "     print(\"hay cesta\")\n",
        "else:\n",
        "    print(\"no hay cesta\")\n",
        "\n",
        "\n",
        "\n",
        "print (\"velocidad minima\" ,vom)\n",
        "print(\" el ángulo mínimo de lanzamieno es: \", angulo_min)\n",
        "print(\" el velocidad de lanzamieno es: \", vo)\n",
        "\n",
        "\n"
      ],
      "execution_count": 129,
      "outputs": [
        {
          "output_type": "stream",
          "text": [
            "ingrese la distancia horizonatal respecto a la canasta en m: 3\n",
            "ingrese velocidad inicial de lanzamiento m/s: 6.9\n",
            "ingrese el agulo de lanzamiento grados: 67\n",
            "velocidad minima 6.389987781385173\n",
            "hay cesta\n",
            "velocidad minima 6.389987781385173\n",
            " el ángulo mínimo de lanzamieno es:  53.1352672168082\n",
            " el velocidad de lanzamieno es:  6.90328515113889\n"
          ],
          "name": "stdout"
        }
      ]
    }
  ]
}