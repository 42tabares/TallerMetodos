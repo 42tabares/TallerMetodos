{
  "nbformat": 4,
  "nbformat_minor": 0,
  "metadata": {
    "colab": {
      "name": "Taller00_Resuelto.ipynb",
      "provenance": [],
      "collapsed_sections": []
    },
    "kernelspec": {
      "name": "python3",
      "display_name": "Python 3"
    }
  },
  "cells": [
    {
      "cell_type": "markdown",
      "metadata": {
        "id": "IAvpFpJuCShs"
      },
      "source": [
        "# **INTEGRANTES:  SAMUEL GIRALDO BUILES - JUAN ESTEBAN BERRIO SALAZAR**"
      ]
    },
    {
      "cell_type": "code",
      "metadata": {
        "id": "bftOiVvN8WmX"
      },
      "source": [
        "import numpy as np\r\n",
        "import math"
      ],
      "execution_count": null,
      "outputs": []
    },
    {
      "cell_type": "markdown",
      "metadata": {
        "id": "vk0AUj7n79BQ"
      },
      "source": [
        "\r\n",
        " ***1) Factorial***"
      ]
    },
    {
      "cell_type": "code",
      "metadata": {
        "id": "pP0G1cg48Vnr"
      },
      "source": [
        "##################################################################################################\r\n",
        "#Función para calcular el factorial\r\n",
        "# n = número que ingresa el usuario al cual se le desea hallar el factorial\r\n",
        "# x = variable en la cual se van acumulando el productos de los números hasta llegar al factorial\r\n",
        "##################################################################################################\r\n",
        "def factorial(n):\r\n",
        "  x=1\r\n",
        "  while n>1:\r\n",
        "    x=n*x\r\n",
        "    n=n-1\r\n",
        "  print(x)"
      ],
      "execution_count": null,
      "outputs": []
    },
    {
      "cell_type": "code",
      "metadata": {
        "colab": {
          "base_uri": "https://localhost:8080/"
        },
        "id": "lvur-JkW78rN",
        "outputId": "67b3e76b-1761-4822-fc81-3c210e329922"
      },
      "source": [
        "factorial(10)"
      ],
      "execution_count": null,
      "outputs": [
        {
          "output_type": "stream",
          "text": [
            "3628800\n"
          ],
          "name": "stdout"
        }
      ]
    },
    {
      "cell_type": "markdown",
      "metadata": {
        "id": "El7ekW549Ur_"
      },
      "source": [
        "***2) Clase de número***"
      ]
    },
    {
      "cell_type": "code",
      "metadata": {
        "id": "J00zdBkx71n4"
      },
      "source": [
        "###########################################################################\r\n",
        "# Programa para clasificar dos números, a y, b\r\n",
        "# Ejemplo: clasificar(a,b) : a y b serían los números que quiere clasificar\r\n",
        "###########################################################################\r\n",
        "\r\n",
        "def clasificar(a,b):\r\n",
        "#contador\r\n",
        "  i=0\r\n",
        "##############################################################################\r\n",
        "#variable que acumula los valores propios del numero a\r\n",
        "  suma_a=0\r\n",
        "#ciclo para calcular la suma de los divisores propios del numero a\r\n",
        "  while a>i:\r\n",
        "    i=i+1\r\n",
        "    residuo = a%i\r\n",
        "  \r\n",
        "    if residuo == 0:\r\n",
        "      suma_a=suma_a+i\r\n",
        "    \r\n",
        "  suma_a=suma_a-a\r\n",
        "  if suma_a == 1:\r\n",
        "    print(a,\"es un numero primo\")\r\n",
        "  if suma_a < a:\r\n",
        "    print(a,\"es un numero defectivo\")\r\n",
        "  if suma_a > a:\r\n",
        "    print(a,\"es un numero abundante\")\r\n",
        "  if suma_a == a:\r\n",
        "    print(a,\"es un numero perfecto\")\r\n",
        "#############################################################################\r\n",
        "#contador\r\n",
        "  j=0\r\n",
        "#variable que acumula los valores propios del numero b\r\n",
        "  suma_b=0\r\n",
        "#ciclo para calcular la suma de los divisores propios del numero b\r\n",
        "  while b>j:\r\n",
        "    j=j+1\r\n",
        "    residuo = b%j\r\n",
        "  \r\n",
        "    if residuo == 0 :\r\n",
        "      suma_b=suma_b+j\r\n",
        "      if suma_b == b:\r\n",
        "        print(b,\"es un numero semi-perfecto\")\r\n",
        "\r\n",
        "  suma_b=suma_b-b\r\n",
        "  if suma_b == 1:\r\n",
        "    print(b,\"es un numero primo\")\r\n",
        "  if suma_b < b:\r\n",
        "    print(b,\"es un numero defectivo\")\r\n",
        "  if suma_b > b:\r\n",
        "    print(b,\"es un numero abundante\")\r\n",
        "  if suma_b == b:\r\n",
        "    print(b,\"es un numero perfecto\")\r\n",
        "#############################################################################\r\n",
        "  if suma_b==a:\r\n",
        "    if suma_a==b:\r\n",
        "      print(a,\"y\",b,\"son numeros amigos\")"
      ],
      "execution_count": null,
      "outputs": []
    },
    {
      "cell_type": "code",
      "metadata": {
        "colab": {
          "base_uri": "https://localhost:8080/"
        },
        "id": "3r2LEDmq95dH",
        "outputId": "ddde7162-e6e9-4f1e-dfc9-4a564b3a45b8"
      },
      "source": [
        "clasificar(242,281)"
      ],
      "execution_count": null,
      "outputs": [
        {
          "output_type": "stream",
          "text": [
            "242 es un numero defectivo\n",
            "281 es un numero primo\n",
            "281 es un numero defectivo\n"
          ],
          "name": "stdout"
        }
      ]
    },
    {
      "cell_type": "markdown",
      "metadata": {
        "id": "4XU0sUFk-DHS"
      },
      "source": [
        "***3) Capicua***"
      ]
    },
    {
      "cell_type": "code",
      "metadata": {
        "id": "yeoNYUX9-Mn5"
      },
      "source": [
        "#############################################################################\r\n",
        "#Función para comprobar si un número es o no capicua.\r\n",
        "# n = número que se desea saber si es capicua.\r\n",
        "#############################################################################\r\n",
        "def capicua(n):\r\n",
        "\r\n",
        "  if str(n) == str(n)[::-1]:\r\n",
        "    print(\"true\")\r\n",
        "\r\n",
        "  else:\r\n",
        "    print(\"false\")"
      ],
      "execution_count": null,
      "outputs": []
    },
    {
      "cell_type": "code",
      "metadata": {
        "colab": {
          "base_uri": "https://localhost:8080/"
        },
        "id": "GT1qJS2N-wUa",
        "outputId": "a8ba8dbf-ce0f-46f4-d818-81d531344323"
      },
      "source": [
        "capicua(5555545555)"
      ],
      "execution_count": null,
      "outputs": [
        {
          "output_type": "stream",
          "text": [
            "false\n"
          ],
          "name": "stdout"
        }
      ]
    },
    {
      "cell_type": "markdown",
      "metadata": {
        "id": "uye31Opw-4l9"
      },
      "source": [
        "***4) Cadena***"
      ]
    },
    {
      "cell_type": "code",
      "metadata": {
        "id": "NMe6vIkU_aM0"
      },
      "source": [
        "#####################################################################################\r\n",
        "#La palabra que se desea ingresar en la función tiene que ingresarse entre comillas.\r\n",
        "# Ejemplo: cadena(\"hola\")\r\n",
        "#####################################################################################\r\n",
        "\r\n",
        "def cadena(txt):\r\n",
        "  x=(len(txt)//2)\r\n",
        "  y=list(txt)\r\n",
        "  vocales = [\"a\",\"e\",\"i\",\"o\",\"u\"]\r\n",
        "  i=0\r\n",
        "  vocales_suma=0\r\n",
        "  consonantes_suma=0\r\n",
        "  txt_inverso=txt[::-1]\r\n",
        "  while i < len(txt):\r\n",
        "    if y[i] in vocales:\r\n",
        "      vocales_suma=vocales_suma+1\r\n",
        "    else:\r\n",
        "      consonantes_suma=consonantes_suma+1\r\n",
        "    i=i+1\r\n",
        "  if y[x] in vocales:\r\n",
        "    h=\"true\"\r\n",
        "  else:\r\n",
        "    h=\"false\"\r\n",
        "  print(h,vocales_suma,consonantes_suma,txt_inverso)"
      ],
      "execution_count": null,
      "outputs": []
    },
    {
      "cell_type": "code",
      "metadata": {
        "colab": {
          "base_uri": "https://localhost:8080/"
        },
        "id": "zN15tTfg_lWf",
        "outputId": "a67ab096-ffd5-4051-9ce0-950c9b97ae2a"
      },
      "source": [
        "cadena(\"hola\")"
      ],
      "execution_count": null,
      "outputs": [
        {
          "output_type": "stream",
          "text": [
            "false 2 2 aloh\n"
          ],
          "name": "stdout"
        }
      ]
    },
    {
      "cell_type": "markdown",
      "metadata": {
        "id": "jUw9U8i5_73X"
      },
      "source": [
        "***5) Fibonacci***"
      ]
    },
    {
      "cell_type": "code",
      "metadata": {
        "id": "aHMdiruIACge"
      },
      "source": [
        "#####################################################################################\r\n",
        "# x = valor del termino n\r\n",
        "# y = valor del termino n+1\r\n",
        "# Cada una de estas variables va aumentanto hasta que se llegue al valor de \"n\" pedido\r\n",
        "######################################################################################\r\n",
        "def fibonacci(n): \r\n",
        "  x=0\r\n",
        "  y=1\r\n",
        "  i=0\r\n",
        "  while n>=i:\r\n",
        "    z=x+y\r\n",
        "    x=y\r\n",
        "    y=z\r\n",
        "    i=i+1\r\n",
        "  print(z)"
      ],
      "execution_count": null,
      "outputs": []
    },
    {
      "cell_type": "code",
      "metadata": {
        "colab": {
          "base_uri": "https://localhost:8080/"
        },
        "id": "XaLbGMKmBABl",
        "outputId": "f96734e1-4b0c-4b00-a865-95ac25505512"
      },
      "source": [
        "fibonacci(7)"
      ],
      "execution_count": null,
      "outputs": [
        {
          "output_type": "stream",
          "text": [
            "34\n"
          ],
          "name": "stdout"
        }
      ]
    },
    {
      "cell_type": "markdown",
      "metadata": {
        "id": "_RTgVNtBBJSW"
      },
      "source": [
        "***6) Quickshort***"
      ]
    },
    {
      "cell_type": "code",
      "metadata": {
        "id": "ppkVi8MRBL33"
      },
      "source": [
        "################################################################################################################\r\n",
        "# Función para ordenar números de forma ascendente.\r\n",
        "# La lista N que se desea ingresar debe estar entre comillas, y sus elementos deben estar separados por comas.\r\n",
        "# Ejemplo: quick(\"5,4.2,4,1,7\") : Ahí se estaría ingresando la lista (5,4.2,4,1,7)\r\n",
        "################################################################################################################\r\n",
        "\r\n",
        "def quick(N):\r\n",
        "  N=N.split(\",\")\r\n",
        "  i=0\r\n",
        "  k=0\r\n",
        "  y=1\r\n",
        "  f=0\r\n",
        "  x=len(N)\r\n",
        "  while f<x:\r\n",
        "    N[f]=float(N[f])\r\n",
        "    f=f+1\r\n",
        "  while k<=x:\r\n",
        "    while y<x:\r\n",
        "      if N[i]>N[y]:\r\n",
        "        p=N[i]\r\n",
        "        N[i]=N[y]\r\n",
        "        N[y]= p\r\n",
        "      y=y+1\r\n",
        "    i=i+1\r\n",
        "    y=i+1\r\n",
        "    k=k+1\r\n",
        "  print(N)"
      ],
      "execution_count": null,
      "outputs": []
    },
    {
      "cell_type": "code",
      "metadata": {
        "colab": {
          "base_uri": "https://localhost:8080/"
        },
        "id": "5wUrXmMcB4Rl",
        "outputId": "7be50c5c-b9f4-4d31-b30a-da9623621fec"
      },
      "source": [
        "quick(\"5,4,3,7,5,4\")"
      ],
      "execution_count": null,
      "outputs": [
        {
          "output_type": "stream",
          "text": [
            "[3.0, 4.0, 4.0, 5.0, 5.0, 7.0]\n"
          ],
          "name": "stdout"
        }
      ]
    }
  ]
}