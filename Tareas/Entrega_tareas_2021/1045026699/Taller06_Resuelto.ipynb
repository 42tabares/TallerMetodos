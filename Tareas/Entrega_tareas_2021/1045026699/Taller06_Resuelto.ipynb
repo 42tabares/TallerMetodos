{
  "nbformat": 4,
  "nbformat_minor": 0,
  "metadata": {
    "colab": {
      "name": "Taller06_Resuelto.ipynb",
      "provenance": [],
      "collapsed_sections": []
    },
    "kernelspec": {
      "name": "python3",
      "display_name": "Python 3"
    },
    "language_info": {
      "name": "python"
    }
  },
  "cells": [
    {
      "cell_type": "code",
      "metadata": {
        "id": "bSNVcLI6xlLn"
      },
      "source": [
        "\n",
        "import numpy as np\n",
        "import sympy as sp\n",
        "import scipy as sc\n",
        "import pandas as pd\n",
        "from scipy import misc\n",
        "from scipy.misc import derivative\n",
        "from sympy import init_printing\n",
        "import matplotlib.pylab as plt"
      ],
      "execution_count": 1,
      "outputs": []
    },
    {
      "cell_type": "markdown",
      "metadata": {
        "id": "uYqNijGmzMJN"
      },
      "source": [
        "PUNTO 1"
      ]
    },
    {
      "cell_type": "code",
      "metadata": {
        "id": "9ZUBcuZjzNS9"
      },
      "source": [
        "\n",
        "#FUNCION PARA CALCULAR LA DERIVADA DE UN ARRAY (CON try Y except)\n",
        "def derivate(func,x0,**kwargs):\n",
        "    '''\n",
        "    Vectorized replacement of scipy.misc derivative:\n",
        "        from scipy.misc import derivative\n",
        "    For usage check the derivative help, e.g, in jupyter: \n",
        "        from scipy.misc import derivative\n",
        "        derivative?\n",
        "    '''\n",
        "    try:\n",
        "        #x0: can be an array or a list  \n",
        "        nn=np.asarray(x0).shape[0] # force error if float is used \n",
        "        fp=np.vectorize(misc.derivative)\n",
        "    except IndexError:\n",
        "        fp=misc.derivative\n",
        "        \n",
        "    return fp(func,x0,**kwargs)"
      ],
      "execution_count": 3,
      "outputs": []
    },
    {
      "cell_type": "code",
      "metadata": {
        "id": "fveR20llzPsV"
      },
      "source": [
        "t = np.array([1.00, 1.01, 1.02, 1.03, 1.04]) #tiempo [segundos]\n",
        "i = np.array([3.10, 3.12, 3.14, 3.18, 3.24]) #corriente [amperios]\n",
        "data = {\"tiempo\": t,\"corriente\": i}\n",
        "df = pd.DataFrame(data)"
      ],
      "execution_count": 4,
      "outputs": []
    },
    {
      "cell_type": "code",
      "metadata": {
        "id": "rBD6AcvkzRue"
      },
      "source": [
        "\n",
        "derivada_corriente = (df.corriente.values[1:]-df.corriente.values[:-1])/0.01  #0.01 es el paso del tiempo\n",
        "L = 0.98 #inductancia [herios]\n",
        "R = 0.142 #resistencia [ohms]\n",
        "V = L * derivada_corriente + R * df[\"corriente\"][:-1]"
      ],
      "execution_count": 5,
      "outputs": []
    },
    {
      "cell_type": "code",
      "metadata": {
        "colab": {
          "base_uri": "https://localhost:8080/",
          "height": 282
        },
        "id": "wl8VTQONzTc-",
        "outputId": "36a30757-85a5-41e0-e7b6-821d2ecd371d"
      },
      "source": [
        "plt.plot(df.tiempo, df.corriente,\"ro-\",color = \"green\")"
      ],
      "execution_count": 7,
      "outputs": [
        {
          "output_type": "execute_result",
          "data": {
            "text/plain": [
              "[<matplotlib.lines.Line2D at 0x7f830fd493d0>]"
            ]
          },
          "metadata": {},
          "execution_count": 7
        },
        {
          "output_type": "display_data",
          "data": {
            "image/png": "[encoded data removed]",
            "text/plain": [
              "<Figure size 432x288 with 1 Axes>"
            ]
          },
          "metadata": {
            "needs_background": "light"
          }
        }
      ]
    },
    {
      "cell_type": "code",
      "metadata": {
        "colab": {
          "base_uri": "https://localhost:8080/",
          "height": 282
        },
        "id": "-4hhR__ZzbOF",
        "outputId": "a5ff92b6-1ca8-4181-914d-cf64d9e1db73"
      },
      "source": [
        "plt.plot(df.tiempo[:-1], derivada_corriente,\"ro-\", color = \"purple\")"
      ],
      "execution_count": 9,
      "outputs": [
        {
          "output_type": "execute_result",
          "data": {
            "text/plain": [
              "[<matplotlib.lines.Line2D at 0x7f830f9c8990>]"
            ]
          },
          "metadata": {},
          "execution_count": 9
        },
        {
          "output_type": "display_data",
          "data": {
            "image/png": "[encoded data removed]",
            "text/plain": [
              "<Figure size 432x288 with 1 Axes>"
            ]
          },
          "metadata": {
            "needs_background": "light"
          }
        }
      ]
    },
    {
      "cell_type": "markdown",
      "metadata": {
        "id": "jJmJz19xzitu"
      },
      "source": [
        "PUNTO 2"
      ]
    },
    {
      "cell_type": "code",
      "metadata": {
        "id": "wamAoIohzjzN"
      },
      "source": [
        "\n",
        "route = \"https://docs.google.com/spreadsheets/d/e/2PACX-1vT8btHZ-A6ChzV5Rx_CQmCzbhO10J7R6LvQAyHx9qOCoCDAL9RJgaGUATf2z5lTMo-SjByvrnaX02Cz/pub?output=csv\""
      ],
      "execution_count": 10,
      "outputs": []
    },
    {
      "cell_type": "code",
      "metadata": {
        "id": "vvArSNJdzn71"
      },
      "source": [
        "df = pd.read_csv(route,\";\")"
      ],
      "execution_count": 11,
      "outputs": []
    },
    {
      "cell_type": "code",
      "metadata": {
        "id": "7eh5TAyhzsUd"
      },
      "source": [
        "col = [\"Tiempo[ms]\", \"AnguloDeg\", \"AnguloRad\"]\n",
        "df = df.rename(columns = {'Tiempo (ms)':\"Tiempo[ms]\", 'Ángulo 1,':'AnguloDeg'}) #Renombrar las columnas"
      ],
      "execution_count": 12,
      "outputs": []
    },
    {
      "cell_type": "code",
      "metadata": {
        "id": "PYeM05KsztQl"
      },
      "source": [
        "eval_ = np.vectorize(eval) #Vectorizando la funcion \"eval\", para poderla usar sobre toda la columna\n",
        "df[\"AnguloDeg\"] = df[\"AnguloDeg\"].str.replace(\",\",\".\").astype(\"float64\")"
      ],
      "execution_count": 13,
      "outputs": []
    },
    {
      "cell_type": "code",
      "metadata": {
        "id": "_WM9oXTKzxcs"
      },
      "source": [
        "df[\"AnguloRad\"] = np.deg2rad(df[\"AnguloDeg\"].values)"
      ],
      "execution_count": 14,
      "outputs": []
    },
    {
      "cell_type": "code",
      "metadata": {
        "colab": {
          "base_uri": "https://localhost:8080/",
          "height": 282
        },
        "id": "2n9pmG6vzz-l",
        "outputId": "9314571c-af13-4463-c0ca-52aedfb15810"
      },
      "source": [
        "plt.figure()\n",
        "plt.plot(df[\"Tiempo[ms]\"],df[\"AnguloRad\"],\"r.\",color = \"gold\")\n",
        "plt.xlim(0,30000)"
      ],
      "execution_count": 16,
      "outputs": [
        {
          "output_type": "execute_result",
          "data": {
            "text/plain": [
              "(0.0, 30000.0)"
            ]
          },
          "metadata": {},
          "execution_count": 16
        },
        {
          "output_type": "display_data",
          "data": {
            "image/png": "[encoded data removed]",
            "text/plain": [
              "<Figure size 432x288 with 1 Axes>"
            ]
          },
          "metadata": {
            "needs_background": "light"
          }
        }
      ]
    },
    {
      "cell_type": "code",
      "metadata": {
        "id": "UA2w5UPVz92t"
      },
      "source": [
        "#Como a medida que el tiempo aumenta el ángulo disminuye, se concluye que es un movimiento amortiguado"
      ],
      "execution_count": null,
      "outputs": []
    },
    {
      "cell_type": "code",
      "metadata": {
        "id": "twltkRFrz-at"
      },
      "source": [
        "from scipy.fft import fft,fftfreq"
      ],
      "execution_count": 17,
      "outputs": []
    },
    {
      "cell_type": "code",
      "metadata": {
        "colab": {
          "base_uri": "https://localhost:8080/",
          "height": 296
        },
        "id": "Y5lYo2lkz_0N",
        "outputId": "18c038e5-2da6-4c01-a09d-c6eb1edb8bf6"
      },
      "source": [
        "\n",
        "tf = fft(df[\"AnguloRad\"].values) #Transformada de Fourier\n",
        "T = 33E-3 #Paso del tiempo\n",
        "N = len(df[\"Tiempo[ms]\"]) #Número de datos de tiempo\n",
        "xf = fftfreq(N, T)[:N//2] #Frecuencia\n",
        "plt.plot(xf[1:N//2],np.abs(tf[1:N//2]),\"o-\", color = \"gray\")\n",
        "plt.ylabel(\"TF\")\n",
        "plt.xlabel(\"Frecuencia\")\n",
        "plt.xlim(0.6,0.75) #Mejor en este intervalo, pues es donde se encuentra este pico (para el intervalo que propone el ejercicio el grafico se ve poco adecuado)"
      ],
      "execution_count": 23,
      "outputs": [
        {
          "output_type": "execute_result",
          "data": {
            "text/plain": [
              "(0.6, 0.75)"
            ]
          },
          "metadata": {},
          "execution_count": 23
        },
        {
          "output_type": "display_data",
          "data": {
            "image/png": "[encoded data removed]",
            "text/plain": [
              "<Figure size 432x288 with 1 Axes>"
            ]
          },
          "metadata": {
            "needs_background": "light"
          }
        }
      ]
    },
    {
      "cell_type": "code",
      "metadata": {
        "id": "wNrckrQO0Egt"
      },
      "source": [
        "#Interpolación\n",
        "from scipy.interpolate import CubicSpline\n",
        "cs = CubicSpline(xf[1:N//2], np.abs(tf[1:N//2]))"
      ],
      "execution_count": 20,
      "outputs": []
    },
    {
      "cell_type": "code",
      "metadata": {
        "colab": {
          "base_uri": "https://localhost:8080/"
        },
        "id": "_-i59efn0FDl",
        "outputId": "3f841c93-a800-407e-def6-1018848ed2c1"
      },
      "source": [
        "#Minimo\n",
        "from scipy import optimize\n",
        "minimo = optimize.fmin_powell(cs, 0.2)\n",
        "abs(cs(minimo))"
      ],
      "execution_count": 21,
      "outputs": [
        {
          "output_type": "stream",
          "name": "stdout",
          "text": [
            "Optimization terminated successfully.\n",
            "         Current function value: 0.842280\n",
            "         Iterations: 4\n",
            "         Function evaluations: 71\n"
          ]
        },
        {
          "output_type": "execute_result",
          "data": {
            "text/plain": [
              "0.8422796094453178"
            ]
          },
          "metadata": {},
          "execution_count": 21
        }
      ]
    },
    {
      "cell_type": "code",
      "metadata": {
        "colab": {
          "base_uri": "https://localhost:8080/"
        },
        "id": "QjWeCDqu0IEF",
        "outputId": "36cc00c4-87f5-476d-e4b1-e6af2a8271a8"
      },
      "source": [
        "abs(cs(minimo))"
      ],
      "execution_count": 22,
      "outputs": [
        {
          "output_type": "execute_result",
          "data": {
            "text/plain": [
              "0.8422796094453178"
            ]
          },
          "metadata": {},
          "execution_count": 22
        }
      ]
    }
  ]
}