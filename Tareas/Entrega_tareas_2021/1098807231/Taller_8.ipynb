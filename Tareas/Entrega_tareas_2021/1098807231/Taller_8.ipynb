{
  "nbformat": 4,
  "nbformat_minor": 0,
  "metadata": {
    "colab": {
      "name": "Tarea_8.ipynb",
      "provenance": []
    },
    "kernelspec": {
      "name": "python3",
      "display_name": "Python 3"
    },
    "language_info": {
      "name": "python"
    }
  },
  "cells": [
    {
      "cell_type": "markdown",
      "metadata": {
        "id": "kUcDxcA2TTm0"
      },
      "source": [
        "# **Taller 8**\n",
        "Natali André Julio Beltran CC.1098807231\n",
        "\\\n",
        "Brayan Alejandro Murillo González CC.1007338060\n"
      ]
    },
    {
      "cell_type": "markdown",
      "metadata": {
        "id": "i6OBXBHY3N6i"
      },
      "source": [
        "Here $K(k)$ is a complete elliptic integral of the first kind and $E(k)$ is a complete elliptic integral of the second kind. For $a = 1$, $I = 3$, and $\\frac{μ_0}{4π} = 1$, compute and plot\n",
        "\n",
        "a) $A_φ(r = 1.1, θ)$ vs. $θ$\\\n",
        "b) $A_φ(r, θ = π∕3)$ vs. $r$"
      ]
    },
    {
      "cell_type": "code",
      "metadata": {
        "id": "_4QAdCN2qe6x"
      },
      "source": [
        "\n",
        "import numpy as np\n",
        "import matplotlib.pylab as plt\n",
        "from scipy import integrate\n",
        "import matplotlib.pyplot as plt\n",
        "import pandas as pd\n"
      ],
      "execution_count": 1,
      "outputs": []
    },
    {
      "cell_type": "markdown",
      "metadata": {
        "id": "N-t8k9fM0lmz"
      },
      "source": [
        "  Punto A\\\n",
        "  $Aϕ(r=1.1,θ)$ vs $θ$"
      ]
    },
    {
      "cell_type": "code",
      "metadata": {
        "id": "j0UUIEa0qzVq"
      },
      "source": [
        "\"\"\"Definimos las constantes del problema\"\"\"\n",
        "a = 1\n",
        "r = 1.1\n",
        "I = 3\n",
        "\n",
        "\"\"\" Creamos dos linspace para evaluar las funciones que dependen de θ y de ϕ \"\"\"\n",
        "θ = np.linspace(0.00001,np.pi/2,100)\n",
        "ϕ = np.linspace(0,np.pi/2, 100  )\n"
      ],
      "execution_count": 2,
      "outputs": []
    },
    {
      "cell_type": "markdown",
      "metadata": {
        "id": "4GzM_yTe1Qzj"
      },
      "source": [
        "Término $k^2$\n",
        "\n",
        "$$ k^2=\\frac{4arsin(\\theta)}{a^2+r^2+2arsin(\\theta)}$$\n",
        "\n",
        "\n"
      ]
    },
    {
      "cell_type": "code",
      "metadata": {
        "id": "ZHGpmHCM1ORq"
      },
      "source": [
        "\"\"\" Función para k^2, devuelve una lista de valores de k^2\"\"\"\n",
        "def k_2 (θ,a,r):\n",
        "  T1 = 4*a*r*np.sin(θ)\n",
        "  T2 = a**2+r**2+2*a*r*np.sin(θ)\n",
        "  return  T1/T2  \n",
        "\n",
        "kk = k_2(θ,1,1.1)   # Lista de valores de k^2 para cada θ\n"
      ],
      "execution_count": 3,
      "outputs": []
    },
    {
      "cell_type": "markdown",
      "metadata": {
        "id": "SAbOx3x31srw"
      },
      "source": [
        "Funciones $K(k)$ y $E(k)$\n",
        "\n",
        "\n",
        "$$K(k)=\\int_{0}^{\\frac{\\pi}{2}}\\frac{d\\phi}{\\sqrt{1-k^2sin(\\phi)}}$$\n",
        "\n",
        "\n",
        "$$E(k)=\\int_{0}^{\\frac{\\pi}{2}}\\sqrt{1-k^2sin^2(\\phi)}\\ d\\phi$$"
      ]
    },
    {
      "cell_type": "code",
      "metadata": {
        "id": "ljV7cCe11qfk"
      },
      "source": [
        "k_k = lambda k, ϕ: 1/(np.sqrt(1-k*(np.sin(ϕ))**2))  # Función para los términos K(k)\n",
        "E_E = lambda k, ϕ: np.sqrt(1-k*(np.sin(ϕ)**2))      # Función para los términos E(k)"
      ],
      "execution_count": 4,
      "outputs": []
    },
    {
      "cell_type": "markdown",
      "metadata": {
        "id": "43e7zrAa2i3e"
      },
      "source": [
        "Funcion del potencial para $\\theta$ entre $[0,\\frac{\\pi}{2}]$\n",
        "\n",
        "\\\n",
        "$$A_{\\phi}(r,\\theta)= \\frac{\\mu_0}{4\\pi}\\frac{4Ia}{\\sqrt{a^2+r^2+2arsin(\\theta)}}\\left(\\frac{(2-k^2)K(k)-2E(k)}{k^2}\\right)$$\n"
      ]
    },
    {
      "cell_type": "code",
      "metadata": {
        "id": "p7_FWzbEv2CZ"
      },
      "source": [
        "\"\"\" Funcion del potencial \"\"\"\n",
        "\n",
        "def potencial(θ,I,a,r):\n",
        "\n",
        "  T11 = (4*I*a)\n",
        "\n",
        "  T12 = np.sqrt(a**2 + r**2 + 2*a*r*np.sin(θ))\n",
        "  \n",
        "  T1 = T11/T12\n",
        "\n",
        "  T21 = integrate.trapz(k_k(kk,ϕ),ϕ) # Integramos con el método del trapecio\n",
        "\n",
        "  T2 = (2-kk)\n",
        "\n",
        "  T3 = integrate.trapz(E_E(kk,ϕ),ϕ)\n",
        "\n",
        "  return (T1*(T2*T21-2*T3)/kk)\n",
        "\n",
        "\n",
        "pot = potencial(θ,3,1,1.1)  # Calculamos el potencial para cada valor de θ de 0 a pi/2 y lo almacenamos en el array pot\n",
        "\n"
      ],
      "execution_count": 5,
      "outputs": []
    },
    {
      "cell_type": "code",
      "metadata": {
        "colab": {
          "base_uri": "https://localhost:8080/",
          "height": 281
        },
        "id": "BkdwxCoBO6zG",
        "outputId": "59887fd6-6d32-4d41-8eca-acbb210fbb38"
      },
      "source": [
        "\"\"\"Gráfica de K^2\"\"\"\n",
        "plt.plot(θ,kk)\n",
        "plt.xlabel(\"$\\\\theta$\")\n",
        "plt.ylabel(\"$k^2$\")\n",
        "plt.grid()"
      ],
      "execution_count": 6,
      "outputs": [
        {
          "output_type": "display_data",
          "data": {
            "image/png": "[encoded data removed]",
            "text/plain": [
              "<Figure size 432x288 with 1 Axes>"
            ]
          },
          "metadata": {
            "needs_background": "light"
          }
        }
      ]
    },
    {
      "cell_type": "code",
      "metadata": {
        "colab": {
          "base_uri": "https://localhost:8080/",
          "height": 285
        },
        "id": "K9zyM1lMwxkx",
        "outputId": "a7961023-9985-4b92-b553-60db293e83f7"
      },
      "source": [
        "\n",
        "\"\"\" Gráfica del potencial vs θ \"\"\"\n",
        "plt.plot(θ,pot)\n",
        "plt.xlim(0.1, np.pi/2)\n",
        "plt.ylim(0,100)\n",
        "plt.xlabel(\"$\\\\theta$\")\n",
        "plt.ylabel(\"$A(r=1.1, \\\\theta)$\")\n",
        "plt.grid()\n"
      ],
      "execution_count": 7,
      "outputs": [
        {
          "output_type": "display_data",
          "data": {
            "image/png": "[encoded data removed]",
            "text/plain": [
              "<Figure size 432x288 with 1 Axes>"
            ]
          },
          "metadata": {
            "needs_background": "light"
          }
        }
      ]
    },
    {
      "cell_type": "code",
      "metadata": {
        "colab": {
          "base_uri": "https://localhost:8080/",
          "height": 424
        },
        "id": "5wm8EhGfBuar",
        "outputId": "c1815c84-d5cb-44ff-929b-e546f65eadc6"
      },
      "source": [
        "\"\"\" Almacenamos los datos en un dataframe\"\"\"\n",
        "df1 = pd.DataFrame()\n",
        "df1[\"θ\"] = θ\n",
        "df1[\"Potencial\"] = pot\n",
        "df1"
      ],
      "execution_count": 8,
      "outputs": [
        {
          "output_type": "execute_result",
          "data": {
            "text/html": [
              "<div>\n",
              "<style scoped>\n",
              "    .dataframe tbody tr th:only-of-type {\n",
              "        vertical-align: middle;\n",
              "    }\n",
              "\n",
              "    .dataframe tbody tr th {\n",
              "        vertical-align: top;\n",
              "    }\n",
              "\n",
              "    .dataframe thead th {\n",
              "        text-align: right;\n",
              "    }\n",
              "</style>\n",
              "<table border=\"1\" class=\"dataframe\">\n",
              "  <thead>\n",
              "    <tr style=\"text-align: right;\">\n",
              "      <th></th>\n",
              "      <th>θ</th>\n",
              "      <th>Potencial</th>\n",
              "    </tr>\n",
              "  </thead>\n",
              "  <tbody>\n",
              "    <tr>\n",
              "      <th>0</th>\n",
              "      <td>0.000010</td>\n",
              "      <td>2.496943e+06</td>\n",
              "    </tr>\n",
              "    <tr>\n",
              "      <th>1</th>\n",
              "      <td>0.015877</td>\n",
              "      <td>1.552043e+03</td>\n",
              "    </tr>\n",
              "    <tr>\n",
              "      <th>2</th>\n",
              "      <td>0.031743</td>\n",
              "      <td>7.661935e+02</td>\n",
              "    </tr>\n",
              "    <tr>\n",
              "      <th>3</th>\n",
              "      <td>0.047610</td>\n",
              "      <td>5.043105e+02</td>\n",
              "    </tr>\n",
              "    <tr>\n",
              "      <th>4</th>\n",
              "      <td>0.063476</td>\n",
              "      <td>3.734771e+02</td>\n",
              "    </tr>\n",
              "    <tr>\n",
              "      <th>...</th>\n",
              "      <td>...</td>\n",
              "      <td>...</td>\n",
              "    </tr>\n",
              "    <tr>\n",
              "      <th>95</th>\n",
              "      <td>1.507330</td>\n",
              "      <td>1.166763e+01</td>\n",
              "    </tr>\n",
              "    <tr>\n",
              "      <th>96</th>\n",
              "      <td>1.523197</td>\n",
              "      <td>1.164944e+01</td>\n",
              "    </tr>\n",
              "    <tr>\n",
              "      <th>97</th>\n",
              "      <td>1.539063</td>\n",
              "      <td>1.163647e+01</td>\n",
              "    </tr>\n",
              "    <tr>\n",
              "      <th>98</th>\n",
              "      <td>1.554930</td>\n",
              "      <td>1.162870e+01</td>\n",
              "    </tr>\n",
              "    <tr>\n",
              "      <th>99</th>\n",
              "      <td>1.570796</td>\n",
              "      <td>1.162611e+01</td>\n",
              "    </tr>\n",
              "  </tbody>\n",
              "</table>\n",
              "<p>100 rows × 2 columns</p>\n",
              "</div>"
            ],
            "text/plain": [
              "           θ     Potencial\n",
              "0   0.000010  2.496943e+06\n",
              "1   0.015877  1.552043e+03\n",
              "2   0.031743  7.661935e+02\n",
              "3   0.047610  5.043105e+02\n",
              "4   0.063476  3.734771e+02\n",
              "..       ...           ...\n",
              "95  1.507330  1.166763e+01\n",
              "96  1.523197  1.164944e+01\n",
              "97  1.539063  1.163647e+01\n",
              "98  1.554930  1.162870e+01\n",
              "99  1.570796  1.162611e+01\n",
              "\n",
              "[100 rows x 2 columns]"
            ]
          },
          "metadata": {},
          "execution_count": 8
        }
      ]
    },
    {
      "cell_type": "markdown",
      "metadata": {
        "id": "sXFp2h5vPS0v"
      },
      "source": [
        "Punto B\n",
        "\n",
        "$A_ϕ(r,θ=\\frac{\\pi}{4})$ vs $θ$"
      ]
    },
    {
      "cell_type": "code",
      "metadata": {
        "id": "_b1ezNLwPz_k"
      },
      "source": [
        "\"\"\"Definimos las constantes del problema\"\"\"\n",
        "a = 1\n",
        "θ = np.pi/4\n",
        "I = 3\n",
        "\n",
        "\"\"\" Creamos dos linspace para evaluar las funciones que dependen de r y de ϕ \"\"\"\n",
        "r = np.linspace(0.00001,10,100)\n",
        "ϕ = np.linspace(0,np.pi/2, 100  )"
      ],
      "execution_count": 9,
      "outputs": []
    },
    {
      "cell_type": "code",
      "metadata": {
        "id": "-2_mRbrFQFv-"
      },
      "source": [
        "kk = k_2(θ,a,r)  # Valores de k^2 para cada r entre 0 y 10\n",
        "pot = potencial(θ,I,a,r) # Valores del potencial para cada r entre 0 y 10  y θ=pi/4\n"
      ],
      "execution_count": 10,
      "outputs": []
    },
    {
      "cell_type": "code",
      "metadata": {
        "colab": {
          "base_uri": "https://localhost:8080/",
          "height": 280
        },
        "id": "jeQKfxIYSyTq",
        "outputId": "235f7c45-f4b7-4e25-adc1-6d2284771d80"
      },
      "source": [
        "\"\"\"Gráfica de K^2 v r\"\"\"\n",
        "plt.plot(r,kk)\n",
        "plt.xlabel(\"$r$\")\n",
        "plt.ylabel(\"$k^2$\")\n",
        "plt.grid()"
      ],
      "execution_count": 11,
      "outputs": [
        {
          "output_type": "display_data",
          "data": {
            "image/png": "[encoded data removed]",
            "text/plain": [
              "<Figure size 432x288 with 1 Axes>"
            ]
          },
          "metadata": {
            "needs_background": "light"
          }
        }
      ]
    },
    {
      "cell_type": "code",
      "metadata": {
        "colab": {
          "base_uri": "https://localhost:8080/",
          "height": 284
        },
        "id": "VdOqvTL2Qkbi",
        "outputId": "c484917f-b967-4f59-ada2-c69eff38e501"
      },
      "source": [
        "\"\"\" Gráfica del potencial vs θ \"\"\"\n",
        "plt.plot(r,pot)\n",
        "plt.xlim(0,10)\n",
        "plt.ylim(-10,10)\n",
        "plt.xlabel(\"$r$\")\n",
        "plt.ylabel(\"$A(r, \\\\theta= \\\\frac{\\pi}{4})$\")\n",
        "plt.grid()\n"
      ],
      "execution_count": 12,
      "outputs": [
        {
          "output_type": "display_data",
          "data": {
            "image/png": "[encoded data removed]",
            "text/plain": [
              "<Figure size 432x288 with 1 Axes>"
            ]
          },
          "metadata": {
            "needs_background": "light"
          }
        }
      ]
    },
    {
      "cell_type": "code",
      "metadata": {
        "colab": {
          "base_uri": "https://localhost:8080/",
          "height": 424
        },
        "id": "G5ssC5JCS7ca",
        "outputId": "d0d8297d-e090-4d7b-f512-9bf70b2dce97"
      },
      "source": [
        "\"\"\" Almacenamos los datos en un dataframe\"\"\"\n",
        "df2 = pd.DataFrame()\n",
        "df2[\"r\"] = r\n",
        "df2[\"Potencial\"] = pot\n",
        "df2"
      ],
      "execution_count": null,
      "outputs": [
        {
          "output_type": "execute_result",
          "data": {
            "text/html": [
              "<div>\n",
              "<style scoped>\n",
              "    .dataframe tbody tr th:only-of-type {\n",
              "        vertical-align: middle;\n",
              "    }\n",
              "\n",
              "    .dataframe tbody tr th {\n",
              "        vertical-align: top;\n",
              "    }\n",
              "\n",
              "    .dataframe thead th {\n",
              "        text-align: right;\n",
              "    }\n",
              "</style>\n",
              "<table border=\"1\" class=\"dataframe\">\n",
              "  <thead>\n",
              "    <tr style=\"text-align: right;\">\n",
              "      <th></th>\n",
              "      <th>r</th>\n",
              "      <th>Potencial</th>\n",
              "    </tr>\n",
              "  </thead>\n",
              "  <tbody>\n",
              "    <tr>\n",
              "      <th>0</th>\n",
              "      <td>0.00001</td>\n",
              "      <td>266882.585153</td>\n",
              "    </tr>\n",
              "    <tr>\n",
              "      <th>1</th>\n",
              "      <td>0.10102</td>\n",
              "      <td>8.945398</td>\n",
              "    </tr>\n",
              "    <tr>\n",
              "      <th>2</th>\n",
              "      <td>0.20203</td>\n",
              "      <td>-2.895088</td>\n",
              "    </tr>\n",
              "    <tr>\n",
              "      <th>3</th>\n",
              "      <td>0.30304</td>\n",
              "      <td>-6.056833</td>\n",
              "    </tr>\n",
              "    <tr>\n",
              "      <th>4</th>\n",
              "      <td>0.40405</td>\n",
              "      <td>-7.137483</td>\n",
              "    </tr>\n",
              "    <tr>\n",
              "      <th>...</th>\n",
              "      <td>...</td>\n",
              "      <td>...</td>\n",
              "    </tr>\n",
              "    <tr>\n",
              "      <th>95</th>\n",
              "      <td>9.59596</td>\n",
              "      <td>0.852621</td>\n",
              "    </tr>\n",
              "    <tr>\n",
              "      <th>96</th>\n",
              "      <td>9.69697</td>\n",
              "      <td>0.869957</td>\n",
              "    </tr>\n",
              "    <tr>\n",
              "      <th>97</th>\n",
              "      <td>9.79798</td>\n",
              "      <td>0.886966</td>\n",
              "    </tr>\n",
              "    <tr>\n",
              "      <th>98</th>\n",
              "      <td>9.89899</td>\n",
              "      <td>0.903658</td>\n",
              "    </tr>\n",
              "    <tr>\n",
              "      <th>99</th>\n",
              "      <td>10.00000</td>\n",
              "      <td>0.920041</td>\n",
              "    </tr>\n",
              "  </tbody>\n",
              "</table>\n",
              "<p>100 rows × 2 columns</p>\n",
              "</div>"
            ],
            "text/plain": [
              "           r      Potencial\n",
              "0    0.00001  266882.585153\n",
              "1    0.10102       8.945398\n",
              "2    0.20203      -2.895088\n",
              "3    0.30304      -6.056833\n",
              "4    0.40405      -7.137483\n",
              "..       ...            ...\n",
              "95   9.59596       0.852621\n",
              "96   9.69697       0.869957\n",
              "97   9.79798       0.886966\n",
              "98   9.89899       0.903658\n",
              "99  10.00000       0.920041\n",
              "\n",
              "[100 rows x 2 columns]"
            ]
          },
          "metadata": {},
          "execution_count": 12
        }
      ]
    }
  ]
}