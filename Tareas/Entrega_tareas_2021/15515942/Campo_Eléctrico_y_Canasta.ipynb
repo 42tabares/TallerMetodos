{
 "cells": [
  {
   "cell_type": "markdown",
   "metadata": {
    "id": "Xv7LVkNl0qyz"
   },
   "source": [
    "## Campo eléctrico \n",
    "1. Elaborar un programa para calcular el campo eléctrico producido por un dipolo eléctrico, realizar una representación del campo para todo el dominio \n",
    "elegido para calcular el campo. Para encontrar el campo, se sugiere hacer lo siguiente:\n",
    "\n",
    "- a. Encontrar el campo en un punto producido por dos cargas q1 y q2\n",
    "- b. Emplee el comando  plt.quiver(x, y, Ex, Ey) para mostrar el campo producido por q1 y q2. Puedes intentarlo con el comando, plt.stremplot.\n",
    "- c. Generalice el problema para varios puntos en el espacio.\n",
    "\n",
    "Se recomienda emplear numpy array. \n",
    "\n",
    "## Movimiento parabólico.\n",
    "2. Un jugador de baloncesto desea saber si encestará su tiro dependiendo de la velocidad inicial, ángulo de lanzamiento y posición respecto a la canasta. \n",
    "\n",
    "Elabore un programa en el que dada una distancia, velocidad inicial y  ángulo, determine si hay cesta. El modelo será bajo partícula, sin la rotación del balón. \n",
    "\n",
    "Se recomienda emplear numpy array. \n",
    "\n"
   ]
  },
  {
   "cell_type": "markdown",
   "metadata": {
    "id": "QZeD5k4S1A3_"
   },
   "source": []
  },
  {
   "cell_type": "code",
   "execution_count": 1,
   "metadata": {
    "id": "4H_4hPZS561W"
   },
   "outputs": [],
   "source": [
    "import numpy as np\n",
    "import matplotlib.pyplot as plt\n"
   ]
  },
  {
   "cell_type": "code",
   "execution_count": 2,
   "metadata": {
    "id": "MjHtcXkK7XE6"
   },
   "outputs": [],
   "source": [
    "r_fuente = {\"q1\": np.array([0.0, 0.2]),\"q2\": np.array([2.0, 0.2])}\n"
   ]
  },
  {
   "cell_type": "code",
   "execution_count": 3,
   "metadata": {
    "id": "rxzLrHsJVgPo"
   },
   "outputs": [],
   "source": [
    "k = 1\n",
    "\n",
    "def E_campo(q , rfuente , r_punto ):\n",
    "\n",
    "    global k\n",
    "\n",
    "    delta_r = r_punto -rfuente\n",
    "   \n",
    "\n",
    "    d_fuente_punto = np.linalg.norm(delta_r)\n",
    "    unitario = delta_r/np.linalg.norm(delta_r)\n",
    "    E = ( k*q/(d_fuente_punto)**2 )* unitario\n",
    "\n",
    "    return E"
   ]
  },
  {
   "cell_type": "code",
   "execution_count": 4,
   "metadata": {
    "id": "Q6mflDg43Q41"
   },
   "outputs": [],
   "source": [
    "x = np.arange(-2 ,5 , 1)\n",
    "\n",
    "n1 = len(x)\n",
    "\n",
    "y = np.arange(-2, 5 , 1)\n",
    "\n",
    "n2 = len(y)"
   ]
  },
  {
   "cell_type": "code",
   "execution_count": 5,
   "metadata": {
    "id": "FpjcmJrq4CjX"
   },
   "outputs": [],
   "source": [
    "\n",
    "rp = np.zeros ((n1*n2,2)) \n",
    "contador = 0\n",
    "for  x_ in  (x):\n",
    "    for y_ in  (y):\n",
    "        rp[contador] = np.array([x_,y_])\n",
    "       \n",
    "        contador = contador + 1\n",
    "\n",
    "        "
   ]
  },
  {
   "cell_type": "code",
   "execution_count": 6,
   "metadata": {
    "id": "X9lgJd8QFvQN"
   },
   "outputs": [],
   "source": [
    "E =  np.zeros((n1*n2,2))\n",
    "E1 =  np.zeros((n1*n2,2))\n",
    "for i in range (0,len(rp) ):\n",
    "    E[i] = E_campo(1 , r_fuente[\"q1\"] , rp[i])\n",
    "    E1[i] = E_campo(1 , r_fuente[\"q2\"] , rp[i])\n"
   ]
  },
  {
   "cell_type": "code",
   "execution_count": 7,
   "metadata": {
    "colab": {
     "base_uri": "https://localhost:8080/",
     "height": 283
    },
    "id": "bZlSuJ5DHO61",
    "outputId": "e6abe270-3fe1-4db3-d616-02f17691cd75"
   },
   "outputs": [
    {
     "data": {
      "text/plain": [
       "<matplotlib.quiver.Quiver at 0x21ddabbcfa0>"
      ]
     },
     "execution_count": 7,
     "metadata": {},
     "output_type": "execute_result"
    },
    {
     "data": {
      "image/png": "[encoded data removed]",
      "text/plain": [
       "<Figure size 432x288 with 1 Axes>"
      ]
     },
     "metadata": {
      "needs_background": "light"
     },
     "output_type": "display_data"
    }
   ],
   "source": [
    "plt.plot(r_fuente[\"q1\"][0],r_fuente[\"q1\"][1],\"ro\")\n",
    "plt.plot(r_fuente[\"q2\"][0],r_fuente[\"q2\"][1],\"ro\")\n",
    "\n",
    "plt.quiver(rp[:,0],rp[:,1],E[:,0],E[:,1])\n",
    "plt.quiver(rp[:,0],rp[:,1],E1[:,0],E1[:,1])"
   ]
  },
  {
   "cell_type": "markdown",
   "metadata": {
    "id": "HdL1NTkG5JKv"
   },
   "source": [
    "ESTE PROGRAMA LE GENERA ANGULOS Y VELOCIDADES INICIALES EXITOSOS PARA EL PROBLEMA DE LA CANASTA\n",
    " Se asume que la canasta de basket se encuentra a una altura de 3 mts; Por lo tanto el jugador con sus manos extendidas no puede superar esta altura"
   ]
  },
  {
   "cell_type": "code",
   "execution_count": 10,
   "metadata": {
    "colab": {
     "base_uri": "https://localhost:8080/"
    },
    "id": "pZ2ZZQ6PD9Ot",
    "outputId": "3a5cfae2-7d20-4de4-b547-797b270b03ee"
   },
   "outputs": [
    {
     "name": "stdin",
     "output_type": "stream",
     "text": [
      "Ingrese la distancia en metros a la que se encuentra el jugador  3\n",
      "Ingrese la altura del jugador con los brazos extendidos menor a 3 mts  3\n"
     ]
    },
    {
     "name": "stdout",
     "output_type": "stream",
     "text": [
      "El angulo de lanzamiento es :  0.0\n"
     ]
    },
    {
     "ename": "NameError",
     "evalue": "name 'sqrt' is not defined",
     "output_type": "error",
     "traceback": [
      "\u001b[1;31m---------------------------------------------------------------------------\u001b[0m",
      "\u001b[1;31mNameError\u001b[0m                                 Traceback (most recent call last)",
      "\u001b[1;32m<ipython-input-10-dcceba8698b7>\u001b[0m in \u001b[0;36m<module>\u001b[1;34m\u001b[0m\n\u001b[0;32m     12\u001b[0m \u001b[1;33m\u001b[0m\u001b[0m\n\u001b[0;32m     13\u001b[0m \u001b[0mprint\u001b[0m\u001b[1;33m(\u001b[0m\u001b[1;34m\"El angulo de lanzamiento es : \"\u001b[0m\u001b[1;33m,\u001b[0m\u001b[0mangulolanzamiento\u001b[0m\u001b[1;33m(\u001b[0m\u001b[0mh\u001b[0m\u001b[1;33m,\u001b[0m\u001b[0mb\u001b[0m\u001b[1;33m)\u001b[0m\u001b[1;33m)\u001b[0m\u001b[1;33m\u001b[0m\u001b[1;33m\u001b[0m\u001b[0m\n\u001b[1;32m---> 14\u001b[1;33m \u001b[0mprint\u001b[0m\u001b[1;33m(\u001b[0m\u001b[1;34m\"La velocidad inicial es : \"\u001b[0m\u001b[1;33m,\u001b[0m\u001b[0mvelocidadinicial\u001b[0m\u001b[1;33m(\u001b[0m\u001b[0mh\u001b[0m\u001b[1;33m,\u001b[0m\u001b[0mb\u001b[0m\u001b[1;33m)\u001b[0m\u001b[1;33m)\u001b[0m\u001b[1;33m\u001b[0m\u001b[1;33m\u001b[0m\u001b[0m\n\u001b[0m",
      "\u001b[1;32m<ipython-input-10-dcceba8698b7>\u001b[0m in \u001b[0;36mvelocidadinicial\u001b[1;34m(h, b)\u001b[0m\n\u001b[0;32m      3\u001b[0m \u001b[1;33m\u001b[0m\u001b[0m\n\u001b[0;32m      4\u001b[0m \u001b[1;32mdef\u001b[0m \u001b[0mvelocidadinicial\u001b[0m\u001b[1;33m(\u001b[0m\u001b[0mh\u001b[0m\u001b[1;33m,\u001b[0m\u001b[0mb\u001b[0m\u001b[1;33m)\u001b[0m\u001b[1;33m:\u001b[0m\u001b[1;33m\u001b[0m\u001b[1;33m\u001b[0m\u001b[0m\n\u001b[1;32m----> 5\u001b[1;33m       \u001b[1;32mreturn\u001b[0m \u001b[0msqrt\u001b[0m\u001b[1;33m(\u001b[0m\u001b[1;36m9.8\u001b[0m\u001b[1;33m*\u001b[0m\u001b[1;33m(\u001b[0m\u001b[0mb\u001b[0m\u001b[1;33m**\u001b[0m\u001b[1;36m2\u001b[0m\u001b[1;33m+\u001b[0m\u001b[1;36m4\u001b[0m\u001b[1;33m*\u001b[0m\u001b[0mh\u001b[0m\u001b[1;33m**\u001b[0m\u001b[1;36m2\u001b[0m\u001b[1;33m)\u001b[0m\u001b[1;33m/\u001b[0m\u001b[1;33m(\u001b[0m\u001b[1;36m2\u001b[0m\u001b[1;33m*\u001b[0m\u001b[0mh\u001b[0m\u001b[1;33m)\u001b[0m\u001b[1;33m)\u001b[0m\u001b[1;33m\u001b[0m\u001b[1;33m\u001b[0m\u001b[0m\n\u001b[0m\u001b[0;32m      6\u001b[0m \u001b[1;33m\u001b[0m\u001b[0m\n\u001b[0;32m      7\u001b[0m \u001b[0mb\u001b[0m \u001b[1;33m=\u001b[0m \u001b[0mfloat\u001b[0m\u001b[1;33m(\u001b[0m\u001b[0minput\u001b[0m\u001b[1;33m(\u001b[0m\u001b[1;34m\"Ingrese la distancia en metros a la que se encuentra el jugador \"\u001b[0m\u001b[1;33m)\u001b[0m\u001b[1;33m)\u001b[0m\u001b[1;33m\u001b[0m\u001b[1;33m\u001b[0m\u001b[0m\n",
      "\u001b[1;31mNameError\u001b[0m: name 'sqrt' is not defined"
     ]
    }
   ],
   "source": [
    "def angulolanzamiento(h,b):          \n",
    "      return np.arctan(2*h/b)\n",
    "      \n",
    "def velocidadinicial(h,b):  \n",
    "      return sqrt(9.8*(b**2+4*h**2)/(2*h))\n",
    "\n",
    "b = float(input(\"Ingrese la distancia en metros a la que se encuentra el jugador \"))\n",
    "\n",
    "h1 = float(input(\"Ingrese la altura del jugador con los brazos extendidos menor a 3 mts \"))\n",
    "\n",
    "h = 3.0-h1 \n",
    "\n",
    "print(\"El angulo de lanzamiento es : \",angulolanzamiento(h,b))\n",
    "print(\"La velocidad inicial es : \",velocidadinicial(h,b))\n"
   ]
  },
  {
   "cell_type": "markdown",
   "metadata": {
    "id": "n3ku4CxF2x5M"
   },
   "source": [
    "El siguiente programa asume que la canasta de basket se encuentra a una altura de 3 mts; Por lo tanto el jugador con sus manos extendidas no puede superar esta altura "
   ]
  },
  {
   "cell_type": "code",
   "execution_count": null,
   "metadata": {
    "colab": {
     "base_uri": "https://localhost:8080/"
    },
    "id": "ehoDnTPjpT9H",
    "outputId": "f16a431f-2a66-4cb0-b6b0-0f0aa849674e"
   },
   "outputs": [],
   "source": [
    "b = float(input(\"Ingrese la distancia en metros a la que se encuentra el jugador \"))\n",
    "\n",
    "h1 = float(input(\"Ingrese la altura del jugador con los brazos extendidos menor a 3 mts \"))\n",
    "\n",
    "angulo = float(input(\"Ingrese el Angulo en grados del lanzamiento \"))\n",
    "\n",
    "vo = float(input(\"Ingrese la velocidad inicial de su lanzamiento \"))\n",
    "\n",
    "\n",
    "t = 4/(vo * cos(angulo))\n",
    "\n",
    "x = vo * cos(angulo) * t\n",
    "y = vo * sin(angulo)*t- 4.9 * t**2 + h1\n",
    "\n",
    "if y > 2.8 and y < 3.2 :\n",
    "    print(\"CANASTA!!\")\n",
    "else:\n",
    "    print(\"Intentalo de nuevo :(\")\n"
   ]
  },
  {
   "cell_type": "code",
   "execution_count": null,
   "metadata": {},
   "outputs": [],
   "source": []
  }
 ],
 "metadata": {
  "colab": {
   "collapsed_sections": [],
   "name": "Campo Eléctrico y Canasta.ipynb",
   "provenance": []
  },
  "kernelspec": {
   "display_name": "Python 3",
   "language": "python",
   "name": "python3"
  },
  "language_info": {
   "codemirror_mode": {
    "name": "ipython",
    "version": 3
   },
   "file_extension": ".py",
   "mimetype": "text/x-python",
   "name": "python",
   "nbconvert_exporter": "python",
   "pygments_lexer": "ipython3",
   "version": "3.8.5"
  }
 },
 "nbformat": 4,
 "nbformat_minor": 4
}
