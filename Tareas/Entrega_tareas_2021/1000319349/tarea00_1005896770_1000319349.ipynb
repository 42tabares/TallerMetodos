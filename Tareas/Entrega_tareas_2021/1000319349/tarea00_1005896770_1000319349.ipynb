{
 "cells": [
  {
   "cell_type": "markdown",
   "metadata": {
    "id": "FRH6ZoPM4KeX"
   },
   "source": [
    "# Taller 0.0 de métodos computacionales para físicos  y astrónomos\n",
    "## Universidad de Antioquia\n",
    "### Profesor: Hernan D. Salinas Jiménez\n",
    "#### Estudiantes: Valentina Duarte Cardona y Ana Maria Arcila Ortiz\n"
   ]
  },
  {
   "cell_type": "markdown",
   "metadata": {
    "id": "3IwaMxgT4Kee"
   },
   "source": [
    "## Taller: Sesion 0.0"
   ]
  },
  {
   "cell_type": "markdown",
   "metadata": {
    "id": "SV5BAn7x4Kef"
   },
   "source": [
    "## Unidad 1: \n",
    "\n",
    "Contenido Actitudinal: Observar como el computador produce errores en los cálculos. El computador no maneja infinitas cifras decimales.\n",
    "\n",
    "- Repaso breve del Python\n",
    "- Estructura básica de un programa en Python.\n",
    "- Numpy y rutinas de graficación.\n",
    "- Operaciones aritméticas con reales y complejos.\n",
    "- Números aleatorios, método del congruente lineal y problemas.\n",
    "- Errores: redondeo, truncamiento, sustracción cancelativa, precisiónde la máquina.\n",
    "- Algoritmos"
   ]
  },
  {
   "cell_type": "markdown",
   "metadata": {
    "id": "dgZqZVpe4Kef"
   },
   "source": [
    "## Instrucciones de entrega\n",
    "\n",
    "\n",
    "\n",
    "\n",
    "\n",
    "\n"
   ]
  },
  {
   "cell_type": "markdown",
   "metadata": {
    "id": "J6GPf6qe4Keg"
   },
   "source": [
    "## Problemas\n",
    "1. Elaborar un algoritmo e implementar en python, el factorial de un número entero `n` ingresado por el usuario.\n",
    "     ### Ejemplo de Ejecución\n",
    "    ```python\n",
    "\n",
    "    >>> factorial(3)\n",
    "        6\n",
    "\n",
    "    >>> factorial(1987123)\n",
    "        =???\n",
    "```\n"
   ]
  },
  {
   "cell_type": "code",
   "execution_count": null,
   "metadata": {
    "id": "2WPs0RJiJnBF"
   },
   "outputs": [],
   "source": [
    "def factorial(n, a=1):\n",
    "    for i in range(2,n+1):\n",
    "        a = i * a\n",
    "    return(a)"
   ]
  },
  {
   "cell_type": "markdown",
   "metadata": {
    "id": "9-JZw0Do4Keg"
   },
   "source": [
    "2. Diseñar un programa que lea dos numero `a` y `b` y diga que tipo de numero son, de a cuerdo a la siguiente clasificación:\n",
    "\n",
    " >- [Números defectivos](https://es.wikipedia.org/wiki/Número_defectivo) : la suma de los divisores propios es menor que el número.\n",
    " >- [Números abundantes](https://es.wikipedia.org/wiki/Número_abundante): la suma de los divisores es mayor que el número.\n",
    " >- [Números amigos](https://es.wikipedia.org/wiki/N%C3%BAmeros_amigos) `a` y `b` tales que a es la suma de los divisores propios de `b` y viceversa.\n",
    " >- [Números semiperfectos](https://es.wikipedia.org/wiki/N%C3%BAmero_semiperfecto) la suma de todos o algunos de los divisores propios es igual al número.\n",
    " >- [Números perfectos](https://es.wikipedia.org/wiki/N%C3%BAmero_perfecto) la suma de todos sus divisores propios, excepto el mismo numero, es igual al número.\n",
    " >- [Números primos](https://es.wikipedia.org/wiki/N%C3%BAmero_primo) el número es divisible unicamente por sí mismo y por 1.\n",
    " "
   ]
  },
  {
   "cell_type": "markdown",
   "metadata": {
    "id": "cARSuKs_4Keh"
   },
   "source": [
    " ### Ejemplo de Ejecución\n",
    "``` python\n",
    "\n",
    "    >>> clase_numero(a = 220, b =  284)\n",
    "        a = 220 y b = 284 son números amigos\n",
    "\n",
    "    >>> clase_numero(a = 24, b = 12 )\n",
    "        a = 24 es un numero abudante y b = 12 es un número defectivo. \n",
    "```\n"
   ]
  },
  {
   "cell_type": "code",
   "execution_count": 9,
   "metadata": {
    "id": "qKKbPD6VShfF"
   },
   "outputs": [],
   "source": [
    "import copy"
   ]
  },
  {
   "cell_type": "code",
   "execution_count": 10,
   "metadata": {
    "id": "yBdZCL56MccJ"
   },
   "outputs": [],
   "source": [
    "def divisores(c):\n",
    "  D=[1]\n",
    "  for i in range(2,c//2+1):\n",
    "    if c%i==0:\n",
    "      D.append(i)\n",
    "  return D"
   ]
  },
  {
   "cell_type": "code",
   "execution_count": 11,
   "metadata": {
    "id": "9zGTfLE-Ny54"
   },
   "outputs": [],
   "source": [
    "def sacarvalor(ar, p):\n",
    "  ac=copy.deepcopy(ar)\n",
    "  v=ac.pop(p)\n",
    "  return ac, v"
   ]
  },
  {
   "cell_type": "code",
   "execution_count": 12,
   "metadata": {
    "id": "kOszbyAjO3cC"
   },
   "outputs": [],
   "source": [
    "def ramas(D, sum, num):\n",
    "  R, dex = False, 0\n",
    "  while R==False and dex<len(D):\n",
    "    listaSinNumero, va = sacarvalor(D, dex)\n",
    "    R=rev(listaSinNumero, sum+va, num)\n",
    "    dex+=1\n",
    "  return R\n",
    "def rev(D, sum, val):\n",
    "  if sum==val:\n",
    "    return True\n",
    "  elif len(D)==0:\n",
    "    return False\n",
    "  else:\n",
    "    return ramas(D, sum, val)"
   ]
  },
  {
   "cell_type": "code",
   "execution_count": 13,
   "metadata": {
    "id": "Cx4hpidiV-pX"
   },
   "outputs": [],
   "source": [
    "def semip(val):\n",
    "  D=divisores(val)\n",
    "  R=ramas(D, 0, val)\n",
    "  return R"
   ]
  },
  {
   "cell_type": "code",
   "execution_count": 14,
   "metadata": {
    "id": "owLXm9aOhROx"
   },
   "outputs": [],
   "source": [
    "def defectivos(x):\n",
    "  s=sum(divisores(x))\n",
    "  if s==1:\n",
    "    return x, \"es un número primo.\"\n",
    "  elif s==x:\n",
    "    return x, \"es un número perfecto.\"\n",
    "  elif semip(x):\n",
    "    return x, \"es un número semiperfecto.\"\n",
    "  elif 1<s<x:\n",
    "    return x, \"es un número defectivo.\"\n",
    "  elif s>x:\n",
    "    return x, \"es un número abundante.\""
   ]
  },
  {
   "cell_type": "code",
   "execution_count": 15,
   "metadata": {
    "id": "-wpusLuXf0DE"
   },
   "outputs": [],
   "source": [
    "def clase_numero(f,k):\n",
    "    p=sum(divisores(f))\n",
    "    v=sum(divisores(k))\n",
    "    if p==k and v==f:\n",
    "        return f, \"y\", k, \"son números amigos.\"\n",
    "    else:\n",
    "        return defectivos(f), defectivos(k)"
   ]
  },
  {
   "cell_type": "code",
   "execution_count": 16,
   "metadata": {
    "colab": {
     "base_uri": "https://localhost:8080/"
    },
    "id": "P0wEpfHcf3Qx",
    "outputId": "1ae02dca-fed0-4f5d-a24a-ba2056bfc29a"
   },
   "outputs": [
    {
     "data": {
      "text/plain": [
       "(220, 'y', 284, 'son números amigos.')"
      ]
     },
     "execution_count": 16,
     "metadata": {
      "tags": []
     },
     "output_type": "execute_result"
    }
   ],
   "source": [
    "clase_numero(220, 284)"
   ]
  },
  {
   "cell_type": "code",
   "execution_count": 17,
   "metadata": {
    "colab": {
     "base_uri": "https://localhost:8080/"
    },
    "id": "R0PvNKQrzkJk",
    "outputId": "751b48b5-f720-4e42-d612-5faa7a67db65"
   },
   "outputs": [
    {
     "data": {
      "text/plain": [
       "((24, 'es un número semiperfecto.'), (12, 'es un número semiperfecto.'))"
      ]
     },
     "execution_count": 17,
     "metadata": {
      "tags": []
     },
     "output_type": "execute_result"
    }
   ],
   "source": [
    "clase_numero(24, 12)"
   ]
  },
  {
   "cell_type": "markdown",
   "metadata": {
    "id": "45A4RWSm4Keh"
   },
   "source": [
    "3. Determine si un número `n` entero ingresado por el usuario es un [palíndromo](https://en.wikipedia.org/wiki/Palindromic_number), (Retorne `True` en caso afirmativo y `False` en caso contrario) \n",
    "\n",
    "```python\n",
    "\n",
    "\n",
    "    >>> palindromo(3333333)\n",
    "        True\n",
    "\n",
    "    >>> palindromo(2323)\n",
    "        True\n",
    "        \n",
    "    >>> palindromo(1111349111111)\n",
    "        False\n",
    "```\n",
    "\n",
    "\n"
   ]
  },
  {
   "cell_type": "code",
   "execution_count": null,
   "metadata": {
    "id": "fydDq7HpLI9d"
   },
   "outputs": [],
   "source": [
    "def palindromo(n):\n",
    "    i = str(n)\n",
    "    if i == i[::-1]:\n",
    "        print(True) \n",
    "    else:\n",
    "        print(False)"
   ]
  },
  {
   "cell_type": "code",
   "execution_count": null,
   "metadata": {
    "colab": {
     "base_uri": "https://localhost:8080/"
    },
    "id": "59SF8Y3Gy728",
    "outputId": "19cbd603-fb5f-424b-d71c-13d9690473ef"
   },
   "outputs": [
    {
     "name": "stdout",
     "output_type": "stream",
     "text": [
      "True\n"
     ]
    }
   ],
   "source": [
    "palindromo(3333333)"
   ]
  },
  {
   "cell_type": "code",
   "execution_count": null,
   "metadata": {
    "colab": {
     "base_uri": "https://localhost:8080/"
    },
    "id": "tMSxfhl3zBsC",
    "outputId": "4d896e00-b891-46c0-c0b7-e5f853f03c6d"
   },
   "outputs": [
    {
     "name": "stdout",
     "output_type": "stream",
     "text": [
      "True\n"
     ]
    }
   ],
   "source": [
    "palindromo(2332)"
   ]
  },
  {
   "cell_type": "code",
   "execution_count": null,
   "metadata": {
    "colab": {
     "base_uri": "https://localhost:8080/"
    },
    "id": "VoYqYYTszIt0",
    "outputId": "c2d7aac4-55ed-4588-8d76-2cd84c53ee78"
   },
   "outputs": [
    {
     "name": "stdout",
     "output_type": "stream",
     "text": [
      "False\n"
     ]
    }
   ],
   "source": [
    "palindromo(1111349111111)"
   ]
  },
  {
   "cell_type": "markdown",
   "metadata": {
    "id": "bmQYQxjX4Keh"
   },
   "source": [
    "\n",
    "4. Dada una cadena de caracteres, entregar una lista donde se retorne:\n",
    ">- en la primera casilla: `True` si el caracter del medio es una vocal, `False` en caso contrario \n",
    ">- en la segunda: el numero de vocales en la cadena\n",
    ">- en la tercera: el numero de consonantes\n",
    ">- en la ultima: la cadena de caracteres invertida (ej: perro, orrep)\n",
    "\n",
    "### Ejemplo de Ejecución\n",
    "```python\n",
    "\n",
    ">>> cadena(s ='perro')\n",
    "[False, 2, 3, 'orrep']\n",
    "\n",
    ">>> cadena(s ='murcielago')\n",
    "[True, 5, 5, 'ogaleicrum']\n",
    "\n",
    "```\n"
   ]
  },
  {
   "cell_type": "code",
   "execution_count": null,
   "metadata": {
    "id": "L7FJym5oanJ4"
   },
   "outputs": [],
   "source": [
    "def contador(l):\n",
    "    acum1 = 0\n",
    "    acum2 = 0\n",
    "    for palabra in l:\n",
    "        if palabra in 'aeiou':\n",
    "            acum1 += 1  \n",
    "        else:\n",
    "            acum2 += 1    \n",
    "    return [acum1,acum2]\n",
    "\n",
    "def reverse(l):\n",
    "    return l[::-1]\n",
    "\n",
    "def cadena(s):\n",
    "    lista = []\n",
    "    s1 = s.lower()\n",
    "    \n",
    "    m = s[(len(s)//2)]\n",
    "    for letra in s:\n",
    "        if m in 'aeiou':\n",
    "            r = True\n",
    "        else:\n",
    "            r = False\n",
    "    \n",
    "    lista.append(r)        \n",
    "    lista.extend(contador(s))\n",
    "    lista.append(reverse(s))\n",
    "    return(lista)"
   ]
  },
  {
   "cell_type": "code",
   "execution_count": null,
   "metadata": {
    "colab": {
     "base_uri": "https://localhost:8080/"
    },
    "id": "x8Jcpb2WuWyq",
    "outputId": "ee1fd29f-6984-43a5-ca5f-b30d13e66261"
   },
   "outputs": [
    {
     "data": {
      "text/plain": [
       "[False, 2, 3, 'orrep']"
      ]
     },
     "execution_count": 26,
     "metadata": {
      "tags": []
     },
     "output_type": "execute_result"
    }
   ],
   "source": [
    "cadena(s = \"perro\")"
   ]
  },
  {
   "cell_type": "code",
   "execution_count": null,
   "metadata": {
    "colab": {
     "base_uri": "https://localhost:8080/"
    },
    "id": "cesFOYONzSvu",
    "outputId": "9d57786b-1d7e-4026-89ae-1089a87f611a"
   },
   "outputs": [
    {
     "data": {
      "text/plain": [
       "[True, 5, 5, 'ogaleicrum']"
      ]
     },
     "execution_count": 27,
     "metadata": {
      "tags": []
     },
     "output_type": "execute_result"
    }
   ],
   "source": [
    "cadena(s = \"murcielago\")"
   ]
  },
  {
   "cell_type": "markdown",
   "metadata": {
    "id": "Z6rU_h_q4Kei"
   },
   "source": [
    "\n",
    "5. Elabore un método para calcular el n-ésimo término de la sucesión de fibonacci: \n",
    "\n",
    "$$ f_n = f_{n-1}+f_{n-2}$$\n",
    "\n",
    "Donde $$f_0=0 \\:\\:\\text{ y }\\:\\:f_1=1 $$ así:   $$f_2=1+0=1$$ $$f_3=1+1=2$$  $$f_4=2+1=3$$ y así sucesivamente\n",
    "\n",
    "### Ejemplo de Ejecución\n",
    "```python\n",
    "\n",
    ">>> fibonacci(50)\n",
    "12586269025\n",
    "\n",
    ">>> fibonacci(63)\n",
    "6557470319842\n",
    "```\n"
   ]
  },
  {
   "cell_type": "code",
   "execution_count": null,
   "metadata": {
    "id": "p9FRGKJFZleZ"
   },
   "outputs": [],
   "source": [
    "def fibonacci(n, a=0, b=1):\n",
    "    for i in range (1,n+1):\n",
    "        suma = a+b\n",
    "        a = b\n",
    "        b = suma     \n",
    "    return a  "
   ]
  },
  {
   "cell_type": "code",
   "execution_count": null,
   "metadata": {
    "colab": {
     "base_uri": "https://localhost:8080/"
    },
    "id": "dG2zR2cfvmtt",
    "outputId": "98afa3ed-df47-48d1-9cf6-5387fe299f37"
   },
   "outputs": [
    {
     "data": {
      "text/plain": [
       "12586269025"
      ]
     },
     "execution_count": 30,
     "metadata": {
      "tags": []
     },
     "output_type": "execute_result"
    }
   ],
   "source": [
    "fibonacci(50)"
   ]
  },
  {
   "cell_type": "code",
   "execution_count": null,
   "metadata": {
    "colab": {
     "base_uri": "https://localhost:8080/"
    },
    "id": "vs1Xc0GdzX4W",
    "outputId": "a42a9acf-0810-47e2-e357-cb7b2d996910"
   },
   "outputs": [
    {
     "data": {
      "text/plain": [
       "6557470319842"
      ]
     },
     "execution_count": 31,
     "metadata": {
      "tags": []
     },
     "output_type": "execute_result"
    }
   ],
   "source": [
    "fibonacci(63)"
   ]
  },
  {
   "cell_type": "markdown",
   "metadata": {
    "id": "1Aezlw_x4Kei"
   },
   "source": [
    "\n",
    "6. Entrar un arreglo de números y ordenarlos de forma ascendente, Ver algoritmo\n",
    "[Quicksort](https://es.wikipedia.org/wiki/Quicksort). \n",
    "\n",
    "\n",
    "```python\n",
    "\n",
    "\n",
    "<<< v = [22, 32, 42, 12, 22, 31, 41, 11, 12, 232, 24, 12, 22]\n",
    "<<< def quicksort(v):\n",
    "\n",
    "<<<     return v\n",
    "<<< w = print(quicksort(v))\n",
    "<<< [11, 12, 12, 12, 22, 22, 22, 24, 31, 32, 41, 42, 232]\n",
    "\n",
    "```\n",
    "\n",
    "Sólo para comprobar tu código,  puedes hacer uso del comando sort de python. \n",
    "```python\n",
    "<<< b = [22, 32, 42, 12, 22, 31, 41, 11, 12, 232, 24, 12, 22]\n",
    "\n",
    "<<< print(b.sort())\n",
    "\n",
    "<<< [11, 12, 12, 12, 22, 22, 22, 24, 31, 32, 41, 42, 232]\n",
    "```"
   ]
  },
  {
   "cell_type": "code",
   "execution_count": 4,
   "metadata": {
    "id": "Nj9xsuVyCDjT"
   },
   "outputs": [],
   "source": [
    "def quicksort(X):\n",
    "    c=len(X)\n",
    "    if c>1:\n",
    "        pivot=X[c//2]\n",
    "        I=[]\n",
    "        C=[]\n",
    "        D=[]\n",
    "        for i in X:\n",
    "            if i<pivot:\n",
    "                I.append(i)\n",
    "            elif i==pivot:\n",
    "                C.append(i)\n",
    "            elif i>pivot:\n",
    "                D.append(i)\n",
    "        return quicksort(I)+C+quicksort(D)\n",
    "    else:\n",
    "        return X"
   ]
  },
  {
   "cell_type": "code",
   "execution_count": 32,
   "metadata": {
    "id": "qqcEOVl7x9jZ"
   },
   "outputs": [],
   "source": [
    "v=[22, 32, 42, 12, 22, 31, 41, 11, 12, 232, 24, 12, 22]"
   ]
  },
  {
   "cell_type": "code",
   "execution_count": 34,
   "metadata": {
    "colab": {
     "base_uri": "https://localhost:8080/"
    },
    "id": "LYPQ9iEPyaPs",
    "outputId": "675c718a-cb03-4db7-996b-c91a19954f8f"
   },
   "outputs": [
    {
     "name": "stdout",
     "output_type": "stream",
     "text": [
      "[11, 12, 12, 12, 22, 22, 22, 24, 31, 32, 41, 42, 232]\n"
     ]
    }
   ],
   "source": [
    "w=print(quicksort(v))"
   ]
  },
  {
   "cell_type": "code",
   "execution_count": 39,
   "metadata": {
    "id": "iQHCsZsXjY9J"
   },
   "outputs": [],
   "source": [
    "b=[22, 32, 42, 12, 22, 31, 41, 11, 12, 232, 24, 12, 22]"
   ]
  },
  {
   "cell_type": "code",
   "execution_count": 42,
   "metadata": {
    "colab": {
     "base_uri": "https://localhost:8080/"
    },
    "id": "2Zx39C1QjeWL",
    "outputId": "44fd0aae-8aa6-48f0-c1f1-2bd3403eb9c8"
   },
   "outputs": [
    {
     "data": {
      "text/plain": [
       "[11, 12, 12, 12, 22, 22, 22, 24, 31, 32, 41, 42, 232]"
      ]
     },
     "execution_count": 42,
     "metadata": {
      "tags": []
     },
     "output_type": "execute_result"
    }
   ],
   "source": [
    "b.sort()\n",
    "b"
   ]
  },
  {
   "cell_type": "markdown",
   "metadata": {
    "id": "BTj0eQBs4Kej"
   },
   "source": [
    "## REFERENCIAS.\n",
    "[1] Scripts de un curso de python. [Raul Pollan](https://github.com/rramosp/20182.pcomp)  \n",
    "\n",
    "[2] [Fundamenteos de programación](https://sites.google.com/site/funpropoli/ejercicios-practicos)\n",
    "\n",
    "[3] Scripts de un curso de python. [Fernando Perez](https://github.com/fperez)\n"
   ]
  },
  {
   "cell_type": "code",
   "execution_count": null,
   "metadata": {
    "id": "pXmL-G7n4Kej"
   },
   "outputs": [],
   "source": []
  }
 ],
 "metadata": {
  "colab": {
   "collapsed_sections": [],
   "name": "tarea00_1005896770_1000319349.ipynb",
   "provenance": []
  },
  "kernelspec": {
   "display_name": "Python 3",
   "language": "python",
   "name": "python3"
  },
  "language_info": {
   "codemirror_mode": {
    "name": "ipython",
    "version": 3
   },
   "file_extension": ".py",
   "mimetype": "text/x-python",
   "name": "python",
   "nbconvert_exporter": "python",
   "pygments_lexer": "ipython3",
   "version": "3.8.5"
  }
 },
 "nbformat": 4,
 "nbformat_minor": 4
}
