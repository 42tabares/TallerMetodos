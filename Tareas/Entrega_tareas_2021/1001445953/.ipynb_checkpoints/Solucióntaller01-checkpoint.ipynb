{
  "nbformat": 4,
  "nbformat_minor": 0,
  "metadata": {
    "colab": {
      "name": "Solucióntaller01.ipynb",
      "provenance": [],
      "collapsed_sections": []
    },
    "kernelspec": {
      "name": "python3",
      "display_name": "Python 3"
    }
  },
  "cells": [
    {
      "cell_type": "code",
      "metadata": {
        "id": "hlt8G9y4zWi_"
      },
      "source": [
        "\"\"\"\n",
        "Pareja:\n",
        "-Samuel Duran Bustamate\n",
        "-Marlon Jhassir García Velásquez\n",
        "\n",
        "\"\"\"\n",
        "#Punto Numero 1\n",
        "def factorial(x):\n",
        "  factorial = 1\n",
        "  #Proceso\n",
        "  for i in range(x):\n",
        "    factorial = factorial * x\n",
        "    x = x - 1\n",
        "  return factorial"
      ],
      "execution_count": 1,
      "outputs": []
    },
    {
      "cell_type": "code",
      "metadata": {
        "colab": {
          "base_uri": "https://localhost:8080/"
        },
        "id": "H_qOxleSah_v",
        "outputId": "2ab697bf-2783-48d7-cf30-8f0e4615760d"
      },
      "source": [
        "factorial(4)"
      ],
      "execution_count": 2,
      "outputs": [
        {
          "output_type": "execute_result",
          "data": {
            "text/plain": [
              "24"
            ]
          },
          "metadata": {
            "tags": []
          },
          "execution_count": 2
        }
      ]
    },
    {
      "cell_type": "code",
      "metadata": {
        "id": "Fj4MTfwW0zRg"
      },
      "source": [
        "#Punto Numero 2\n",
        "def tipo_numero(a,b):\n",
        "  \"\"\"\n",
        "  Esta función toma 2 numeros a,b y dice si son del siguiente tipo:\n",
        "  Números defectivos\n",
        "  Números abundantes\n",
        "  Números amigos\n",
        "  Números Semiperfectos\n",
        "  Números Perfectos\n",
        "  Números Primos\n",
        "  \"\"\"\n",
        "  diva = []\n",
        "  divb = []\n",
        "  for i in range(1,a+1):\n",
        "    if a % i == 0:\n",
        "      diva.append(i)\n",
        "  for i in range(1,b+1):\n",
        "    if b % i == 0:\n",
        "      divb.append(i)   \n",
        "\n",
        "  #Numeros defectivos y abundantes\n",
        "  suma = 0\n",
        "  sumb = 0\n",
        "    #para el numero a\n",
        "  for i in diva[:-1]:\n",
        "    suma = i + suma\n",
        "  if a > suma:\n",
        "    print(a, \"es un número defectivo\")\n",
        "  elif suma > a:\n",
        "    print(a, \"es un numero abundante\")\n",
        "    #Para el numero b\n",
        "  for i in divb[:-1]:\n",
        "    sumb = i + sumb\n",
        "  if b > sumb:\n",
        "    print(b, \"es un número defectivo\")\n",
        "  elif sumb > b:\n",
        "    print(b, \"es un numero abundante\")\n",
        "\n",
        "  #Numeros amigos \n",
        "  if suma == b and sumb == a:\n",
        "    print('el número {} y el número {} son amigos' .format(a,b))\n",
        "\n",
        "  #Nunmeros semiperfectos\n",
        "  for i in diva:\n",
        "    semia = suma\n",
        "    maina = semia - i \n",
        "    if maina == a:\n",
        "      print(a, \"es un númnero semiperfecto\")\n",
        "  for i in divb:\n",
        "    semib = sumb\n",
        "    mainb = semib - i \n",
        "    if mainb == b:\n",
        "      print(b, \"es un númnero semiperfecto\")\n",
        "  \n",
        "  #Numeros Perfectos\n",
        "  if suma == a:\n",
        "    print(a, \"es un número perfecto\")\n",
        "  if sumb == b:\n",
        "    print(b, \"es un número perfecto\")\n",
        "\n",
        "  #Numeros primos \n",
        "  primosa = [1,a]\n",
        "  primosb = [1,b]\n",
        "\n",
        "  if diva == primosa:\n",
        "    print(a, \"es un número primo\")\n",
        "  if divb == primosb:\n",
        "    print(b, \"es un número primo\")\n",
        "\n",
        "  \n",
        "\n",
        "\n",
        "   "
      ],
      "execution_count": 3,
      "outputs": []
    },
    {
      "cell_type": "code",
      "metadata": {
        "colab": {
          "base_uri": "https://localhost:8080/"
        },
        "id": "e9hxy8XQAkwz",
        "outputId": "6717f949-7435-4120-daf7-af334496ff1e"
      },
      "source": [
        "tipo_numero(12,5)"
      ],
      "execution_count": 5,
      "outputs": [
        {
          "output_type": "stream",
          "text": [
            "12 es un numero abundante\n",
            "5 es un número defectivo\n",
            "12 es un númnero semiperfecto\n",
            "5 es un número primo\n"
          ],
          "name": "stdout"
        }
      ]
    },
    {
      "cell_type": "code",
      "metadata": {
        "id": "419twPjX6FRk"
      },
      "source": [
        "#Punto Numero 3\n",
        "def palindromo(num):\n",
        "  num = str(num)\n",
        "  numinv = num[::-1]\n",
        "  if num == numinv:\n",
        "    return True\n",
        "  else:\n",
        "    return False"
      ],
      "execution_count": 7,
      "outputs": []
    },
    {
      "cell_type": "code",
      "metadata": {
        "colab": {
          "base_uri": "https://localhost:8080/"
        },
        "id": "0FcpWaLIbC5C",
        "outputId": "9dcec672-2b0f-4484-b651-e31166e2f38d"
      },
      "source": [
        "palindromo(1010)"
      ],
      "execution_count": 8,
      "outputs": [
        {
          "output_type": "execute_result",
          "data": {
            "text/plain": [
              "False"
            ]
          },
          "metadata": {
            "tags": []
          },
          "execution_count": 8
        }
      ]
    },
    {
      "cell_type": "code",
      "metadata": {
        "id": "7zoL7eTf7V1k"
      },
      "source": [
        "#Punto Numero 4\n",
        "def cadena(palabra = ''):\n",
        "  lista=[0,0,0,0]\n",
        "  vocales = 0\n",
        "  consonantes = 0\n",
        "\n",
        "  #proceso\n",
        "  \"\"\" Elemento 0 de la lista\"\"\"\n",
        "  vmedio = len(palabra)//2\n",
        "  if palabra[vmedio] =='a' or palabra[vmedio] =='e' or palabra[vmedio] =='i' or palabra[vmedio] =='o' or palabra[vmedio] =='u':\n",
        "    lista[0] = True\n",
        "  else:\n",
        "    lista[0] = False\n",
        "\n",
        "  \"\"\" Elemento 1 de la lista\"\"\"\n",
        "  for i in palabra:\n",
        "    if i =='a' or i =='e' or i =='i' or i =='o' or i =='u':\n",
        "      vocales = vocales +1\n",
        "      lista[1] = vocales \n",
        "    else:  \n",
        "      consonantes = consonantes + 1\n",
        "      lista[2] = consonantes\n",
        "  \"\"\" Elemento 3 de la lista\"\"\"\n",
        "  lista[3] = palabra[::-1] \n",
        "  return lista"
      ],
      "execution_count": 9,
      "outputs": []
    },
    {
      "cell_type": "code",
      "metadata": {
        "colab": {
          "base_uri": "https://localhost:8080/"
        },
        "id": "7c_xzb9Dcwtv",
        "outputId": "77b3a006-537e-45e0-9087-deaa34f123a5"
      },
      "source": [
        "cadena(palabra = 'Electroencefalografista')"
      ],
      "execution_count": 11,
      "outputs": [
        {
          "output_type": "execute_result",
          "data": {
            "text/plain": [
              "[False, 9, 14, 'atsifargolafecneortcelE']"
            ]
          },
          "metadata": {
            "tags": []
          },
          "execution_count": 11
        }
      ]
    },
    {
      "cell_type": "code",
      "metadata": {
        "id": "24fYW3OAXD_a"
      },
      "source": [
        "def fibonacci(n):\n",
        "    a, b = 0, 1\n",
        "    for i in range(n):\n",
        "      a, b = b, a + b\n",
        "    print(a)"
      ],
      "execution_count": 12,
      "outputs": []
    },
    {
      "cell_type": "code",
      "metadata": {
        "colab": {
          "base_uri": "https://localhost:8080/"
        },
        "id": "5oAF_VS_XGdD",
        "outputId": "af49c490-8965-4cc7-f6cf-06fd702aa239"
      },
      "source": [
        "fibonacci(50)"
      ],
      "execution_count": null,
      "outputs": [
        {
          "output_type": "stream",
          "text": [
            "12586269025\n"
          ],
          "name": "stdout"
        }
      ]
    },
    {
      "cell_type": "code",
      "metadata": {
        "id": "JSTLy9WpPIQw"
      },
      "source": [
        "#Punto Numero 6\n",
        "def quicksort(n):\n",
        "  \"\"\"\n",
        "  Este es un algoritmo para ordenar de menor a mayor los números ingresados\n",
        "\n",
        "  El valor a ingresar, es la cantidad de números que podras ingresar en la lista,\n",
        "  por ejemplo: si pones \"quicksort(5)\" podras ingresar 5 números para ordenarlos\n",
        "  \"\"\"\n",
        "  numeros =[]\n",
        "  orden = []\n",
        "  for i in range(1,n+1):\n",
        "    print(\"ingrese el valor número {} : \" .format(i))\n",
        "    numeros.append(int(input()))\n",
        "  for i in range(len(numeros)):\n",
        "    orden.append(min(numeros))\n",
        "    numeros.remove(min(numeros))\n",
        "  return orden\n"
      ],
      "execution_count": 13,
      "outputs": []
    },
    {
      "cell_type": "code",
      "metadata": {
        "colab": {
          "base_uri": "https://localhost:8080/"
        },
        "id": "5THCj-qkS32X",
        "outputId": "e3f41645-7abc-45fc-adf5-000833900893"
      },
      "source": [
        "quicksort(3)"
      ],
      "execution_count": null,
      "outputs": [
        {
          "output_type": "stream",
          "text": [
            "ingrese el valor número 1 : \n",
            "5\n",
            "ingrese el valor número 2 : \n",
            "8\n",
            "ingrese el valor número 3 : \n",
            "2\n"
          ],
          "name": "stdout"
        },
        {
          "output_type": "execute_result",
          "data": {
            "text/plain": [
              "[2, 5, 8]"
            ]
          },
          "metadata": {
            "tags": []
          },
          "execution_count": 17
        }
      ]
    }
  ]
}