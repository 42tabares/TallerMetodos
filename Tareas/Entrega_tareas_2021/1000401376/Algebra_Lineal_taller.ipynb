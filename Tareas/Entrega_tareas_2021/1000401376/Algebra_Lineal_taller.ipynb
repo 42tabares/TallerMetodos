{
  "nbformat": 4,
  "nbformat_minor": 0,
  "metadata": {
    "colab": {
      "name": "Algebra_Lineal_taller.ipynb",
      "provenance": [],
      "collapsed_sections": []
    },
    "kernelspec": {
      "name": "python3",
      "display_name": "Python 3"
    },
    "language_info": {
      "name": "python"
    }
  },
  "cells": [
    {
      "cell_type": "code",
      "metadata": {
        "id": "wXgUq0IPJby5"
      },
      "source": [
        "import numpy as np \n",
        "import scipy.linalg as la\n",
        "from mpl_toolkits.mplot3d import axes3d\n",
        "import matplotlib.pyplot as plt\n",
        "from matplotlib import style"
      ],
      "execution_count": 27,
      "outputs": []
    },
    {
      "cell_type": "markdown",
      "metadata": {
        "id": "pKmGWUKqNOnY"
      },
      "source": [
        "\n",
        "Se sabe que un sistema físico es gobernado por las ecuaciones,\n",
        "\n",
        "\n",
        "\n",
        "$$\n",
        "\\begin{matrix}\n",
        "x' &=& 2x&-y&+z, \\\\\n",
        "y' &=&   &3y&-1z, \\\\\n",
        "z' &=& 2x&+y&+3z,\n",
        "\\end{matrix}\n",
        "$$\n",
        "\n",
        "donde $x',y',z'$ son las derivadas, en forma vectorial esto se puede representar como $\\mathbf{r}'=A\\mathbf{r}$ que tiene solución analítica general, $\\mathbf{r} = e^{At} \\mathbf{r}(0)$.<br> \n",
        "a) Diagonalize $A$.<br> \n",
        "\n",
        "b) Use el hecho de que $f(A) = U f(D) U^{-1}$ para encontrar $x(t),y(t),z(t)$ en el intervalo de tiempo $[0,2]$.<br>.\n",
        "c) Grafique $x(t),y(t),z(t)$ (use la condición inicial $\\mathbf{r}(0)=(1,1,2))$.<br> \n",
        "d) Compare el resultado a la solución analítica,\n",
        "\n",
        "$$\n",
        "\\begin{align}\n",
        "2x & = x(0)(e^{2t}(1+e^{2t}-2t)) + y(0) (-2te^{2t}) + z(0)(e^{2t}(-1+e^{2t})), \\\\\n",
        "2y & = x(0)(-e^{2t}(-1+e^{2t}-2t)) + y(0)(2(t+1)e^{2t}) + z(0)(-e^{2t}(-1+e^{2t})), \\\\\n",
        "2z & = x(0)(e^{2t}(-1+e^{2t}+2t)) + y(0)(2te^{2t}) + z(0)(e^{2t}(1+e^{2t})).\n",
        "\\end{align}\n",
        "$$"
      ]
    },
    {
      "cell_type": "code",
      "metadata": {
        "id": "32RrzfOXVImV"
      },
      "source": [
        "x1 = np.array([2, -1, 1])\n",
        "x2 = np.array([0, 3, -1])\n",
        "x3 = np.array([2, 1, +3])\n",
        "\n",
        "A = np.asmatrix([x1,x2,x3])"
      ],
      "execution_count": 28,
      "outputs": []
    },
    {
      "cell_type": "code",
      "metadata": {
        "colab": {
          "base_uri": "https://localhost:8080/"
        },
        "id": "tpqvZOqwVIp4",
        "outputId": "b0d2a8e2-f17c-495e-a0cc-110ab3069854"
      },
      "source": [
        "type(A)"
      ],
      "execution_count": 29,
      "outputs": [
        {
          "output_type": "execute_result",
          "data": {
            "text/plain": [
              "numpy.matrix"
            ]
          },
          "metadata": {},
          "execution_count": 29
        }
      ]
    },
    {
      "cell_type": "code",
      "metadata": {
        "id": "t2KoSM7OZG3B"
      },
      "source": [
        "E, U = la.eig(A) # E valores porpios, U vectores propios "
      ],
      "execution_count": 30,
      "outputs": []
    },
    {
      "cell_type": "code",
      "metadata": {
        "colab": {
          "base_uri": "https://localhost:8080/"
        },
        "id": "icowNysIZLFf",
        "outputId": "f42eee5b-8e38-4f86-b63b-aa0b87bbc804"
      },
      "source": [
        "E.round()"
      ],
      "execution_count": 31,
      "outputs": [
        {
          "output_type": "execute_result",
          "data": {
            "text/plain": [
              "array([4.+0.j, 2.+0.j, 2.-0.j])"
            ]
          },
          "metadata": {},
          "execution_count": 31
        }
      ]
    },
    {
      "cell_type": "code",
      "metadata": {
        "colab": {
          "base_uri": "https://localhost:8080/"
        },
        "id": "m2ZUay5YZNTS",
        "outputId": "b80df1ae-4834-48b8-99b5-54f4cabb9316"
      },
      "source": [
        "U.round()"
      ],
      "execution_count": 32,
      "outputs": [
        {
          "output_type": "execute_result",
          "data": {
            "text/plain": [
              "array([[-1.+0.j, -1.+0.j, -1.-0.j],\n",
              "       [ 1.+0.j,  1.+0.j,  1.-0.j],\n",
              "       [-1.+0.j,  1.-0.j,  1.+0.j]])"
            ]
          },
          "metadata": {},
          "execution_count": 32
        }
      ]
    },
    {
      "cell_type": "code",
      "metadata": {
        "id": "ei-DcwQ7CPdR"
      },
      "source": [
        "U = np.asmatrix(U)"
      ],
      "execution_count": 33,
      "outputs": []
    },
    {
      "cell_type": "code",
      "metadata": {
        "colab": {
          "base_uri": "https://localhost:8080/"
        },
        "id": "SzKHKuCHbsFV",
        "outputId": "1e3efaa4-3e60-4ec7-e8c2-6deb1c89ca5e"
      },
      "source": [
        "U.round()"
      ],
      "execution_count": 34,
      "outputs": [
        {
          "output_type": "execute_result",
          "data": {
            "text/plain": [
              "matrix([[-1.+0.j, -1.+0.j, -1.-0.j],\n",
              "        [ 1.+0.j,  1.+0.j,  1.-0.j],\n",
              "        [-1.+0.j,  1.-0.j,  1.+0.j]])"
            ]
          },
          "metadata": {},
          "execution_count": 34
        }
      ]
    },
    {
      "cell_type": "code",
      "metadata": {
        "id": "IUkM433tZXnd"
      },
      "source": [
        "D = U.I @ (A @U) #D matriz a diagonalizada "
      ],
      "execution_count": 35,
      "outputs": []
    },
    {
      "cell_type": "code",
      "metadata": {
        "colab": {
          "base_uri": "https://localhost:8080/"
        },
        "id": "wFHw_EzIZXkQ",
        "outputId": "4228e264-9b98-43ac-bae7-bcd884fd602c"
      },
      "source": [
        "D.round() # la diagonal principal coinciden con los valores propios "
      ],
      "execution_count": 36,
      "outputs": [
        {
          "output_type": "execute_result",
          "data": {
            "text/plain": [
              "matrix([[ 4.-0.j, -0.+0.j, -0.+0.j],\n",
              "        [-0.-0.j,  2.+0.j,  0.-0.j],\n",
              "        [-0.+0.j,  0.+0.j,  2.-0.j]])"
            ]
          },
          "metadata": {},
          "execution_count": 36
        }
      ]
    },
    {
      "cell_type": "code",
      "metadata": {
        "colab": {
          "base_uri": "https://localhost:8080/"
        },
        "id": "vdNt_9kNbyFB",
        "outputId": "7a1df072-6fee-4a83-e986-e9a17386b3b4"
      },
      "source": [
        "np.diag(E, 0).round() # matriz igual a D, A diagonalizada "
      ],
      "execution_count": 37,
      "outputs": [
        {
          "output_type": "execute_result",
          "data": {
            "text/plain": [
              "array([[4.+0.j, 0.+0.j, 0.+0.j],\n",
              "       [0.+0.j, 2.+0.j, 0.+0.j],\n",
              "       [0.+0.j, 0.+0.j, 2.-0.j]])"
            ]
          },
          "metadata": {},
          "execution_count": 37
        }
      ]
    },
    {
      "cell_type": "code",
      "metadata": {
        "id": "1kzYktAcY8CI"
      },
      "source": [
        "f = lambda t: np.exp(E*t) \n",
        "r0=np.array([1,1,2])"
      ],
      "execution_count": 38,
      "outputs": []
    },
    {
      "cell_type": "code",
      "metadata": {
        "id": "5jvxdQXIObFV"
      },
      "source": [
        "time = np.linspace(0, 2, 100)\n",
        "\n",
        "x_t = np.array([]) \n",
        "y_t = np.array([]) \n",
        "z_t = np.array([]) \n",
        "\n",
        "for i in time:\n",
        "  Diagonal = np.diag(f(i), 0)\n",
        "  f_A = U@Diagonal@U.I\n",
        "  r = np.array(f_A @ r0.T) # este van a ser los valores de x(t), y(t), z(t)\n",
        "  x_t = np.append(x_t, r[0][0].real) #Todos los valores de x para el intervalo de t \n",
        "  y_t = np.append(y_t, r[0][1].real) #Todos los valores de x para el intervalo de t \n",
        "  z_t = np.append(z_t, r[0][2].real) #Todos los valores de x para el intervalo de t \n",
        "\n"
      ],
      "execution_count": 90,
      "outputs": []
    },
    {
      "cell_type": "code",
      "metadata": {
        "colab": {
          "base_uri": "https://localhost:8080/",
          "height": 304
        },
        "id": "Uf2lPolaSTcx",
        "outputId": "b476e1e2-0b7c-4583-a4dd-c6a25bc127de"
      },
      "source": [
        "from mpl_toolkits.mplot3d import axes3d\n",
        "import matplotlib.pyplot as plt\n",
        "from matplotlib import style\n",
        "\n",
        "# Creamos la figura\n",
        "fig = plt.figure()\n",
        "\n",
        "# Agrrgamos un plano 3D\n",
        "ax1 = fig.add_subplot(111,projection='3d')\n",
        "\n",
        "ax1.plot_wireframe(x_t, y_t, np.array([z_t]))\n",
        "\n",
        "# Mostramos el gráfico\n",
        "plt.show()"
      ],
      "execution_count": 91,
      "outputs": [
        {
          "output_type": "stream",
          "name": "stderr",
          "text": [
            "/usr/local/lib/python3.7/dist-packages/numpy/core/_asarray.py:136: VisibleDeprecationWarning: Creating an ndarray from ragged nested sequences (which is a list-or-tuple of lists-or-tuples-or ndarrays with different lengths or shapes) is deprecated. If you meant to do this, you must specify 'dtype=object' when creating the ndarray\n",
            "  return array(a, dtype, copy=False, order=order, subok=True)\n"
          ]
        },
        {
          "output_type": "display_data",
          "data": {
            "image/png": "[encoded data removed]",
            "text/plain": [
              "<Figure size 432x288 with 1 Axes>"
            ]
          },
          "metadata": {
            "needs_background": "light"
          }
        }
      ]
    },
    {
      "cell_type": "code",
      "metadata": {
        "id": "TiOrXDS5g2aM"
      },
      "source": [
        "vector = []\n",
        "for i in range(len(time)):\n",
        "  vector.append([x_t[i].real, y_t[i].real, z_t[i].real])\n",
        "vector = np.array([vector])"
      ],
      "execution_count": 92,
      "outputs": []
    },
    {
      "cell_type": "markdown",
      "metadata": {
        "id": "CVG7UVM2WHHI"
      },
      "source": [
        "$$\n",
        "\\begin{align}\n",
        "2x & = x(0)(e^{2t}(1+e^{2t}-2t)) + y(0) (-2te^{2t}) + z(0)(e^{2t}(-1+e^{2t})), \\\\\n",
        "2y & = x(0)(-e^{2t}(-1+e^{2t}-2t)) + y(0)(2(t+1)e^{2t}) + z(0)(-e^{2t}(-1+e^{2t})), \\\\\n",
        "2z & = x(0)(e^{2t}(-1+e^{2t}+2t)) + y(0)(2te^{2t}) + z(0)(e^{2t}(1+e^{2t})).\n",
        "\\end{align}\n",
        "$$"
      ]
    },
    {
      "cell_type": "code",
      "metadata": {
        "id": "h8_oSeH2ZveM"
      },
      "source": [
        "x_0 = 1\n",
        "y_0 = 1\n",
        "z_0 = 2\n",
        "\n",
        "#los valores teoricos \n",
        "x_teorico = ( x_0 * (np.exp(2 * time) * (1 + np.exp(2 * time) - 2 * time)) + y_0 * (- 2 * time * np.exp(2 * time)) + z_0 * (np.exp(2 * time) * (-1 + np.exp(2 * time))))/2\n",
        "y_teorico = ( x_0 * (-np.exp(2 * time) * (-1 + np.exp(2 * time) - 2 * time)) + y_0 * (2 * (time + 1) * np.exp(2 * time)) + z_0 * (-np.exp(2 * time) * (-1 + np.exp(2 * time)))) / 2\n",
        "z_teorico = ( x_0 * (np.exp(2 * time) * (-1 + np.exp(2 * time) + 2 * time)) + y_0 * (2 * time * np.exp(2 *time)) + z_0 * (np.exp(2 * time) * (1 + np.exp(2 * time)))) / 2"
      ],
      "execution_count": 94,
      "outputs": []
    },
    {
      "cell_type": "code",
      "metadata": {
        "colab": {
          "base_uri": "https://localhost:8080/"
        },
        "id": "8Jtr5C5ueKD5",
        "outputId": "0b48f316-843a-4591-bf74-36e8809ccbfa"
      },
      "source": [
        "x_teorico.round() == x_t.round() # Podemos ver que coinciden los valores teoricos con los propuestos "
      ],
      "execution_count": 100,
      "outputs": [
        {
          "output_type": "execute_result",
          "data": {
            "text/plain": [
              "array([ True,  True,  True,  True,  True,  True,  True,  True,  True,\n",
              "        True,  True,  True,  True,  True,  True,  True,  True,  True,\n",
              "        True,  True,  True,  True,  True,  True,  True,  True,  True,\n",
              "        True,  True,  True,  True,  True,  True,  True,  True,  True,\n",
              "        True,  True,  True,  True,  True,  True,  True,  True,  True,\n",
              "        True,  True,  True,  True,  True,  True,  True,  True,  True,\n",
              "        True,  True,  True,  True,  True,  True,  True,  True,  True,\n",
              "        True,  True,  True,  True,  True,  True,  True,  True,  True,\n",
              "        True,  True,  True,  True,  True,  True,  True,  True,  True,\n",
              "        True,  True,  True,  True,  True,  True,  True,  True,  True,\n",
              "        True,  True,  True,  True,  True,  True,  True,  True,  True,\n",
              "        True])"
            ]
          },
          "metadata": {},
          "execution_count": 100
        }
      ]
    },
    {
      "cell_type": "markdown",
      "metadata": {
        "id": "IcmCVH33NOjy"
      },
      "source": [
        "\n",
        "2. Un proceso para encriptar un mensaje secreto es usar cierta matrix cuadrada cuyos elementos son enteros con elementos enteros en la inversa. Se recibe un mensaje, se asigna un número a cada letra Por ejemplo, A=1, B=2, C=3, ... etc y espacio=27), se arreglan los números en una matriz de izquierda a derecha en cada fila, donde el número de elementos en la fila es igual al tamano de la matriz de codigo, se multiplica esa matriz por la matriz de código por la derecha, se transcribe el mensaje en una cadena de números y se manda el mensaje. \n",
        "\n",
        "La persona que debe recibir el mensaje conoce la matriz de codigo. El o ellla arrelgan el mensaje encriptado en una matriz de izquierda a derecha en cada fila, en donde el numero de elementos en una fila conicide con el tamano de la matriz de codigo muplicada por la derecha, por el inverso de la matriz de código y puede leer mensaje decodificado.\n",
        "\n",
        "Usted a recibido el siguiente mensaje que fue encriptado usando la matriz A. Decodifiquelo.\n",
        "\n",
        "```\n",
        "A = matrix([[ 1,  2, -3,  4,  5],\n",
        "        [-2, -5,  8, -8, -9],\n",
        "        [ 1,  2, -2,  7,  9],\n",
        "        [ 1,  1,  0,  6, 12],\n",
        "        [ 2,  4, -6,  8, 11]])\n",
        "```\n",
        "\n",
        "Mensaje\n",
        "\n",
        "47,49,-19,257,487,10,-9,63,137,236, 79,142,-184,372,536,59,70,-40,332,588, \n",
        "\n",
        "la primera fila del mensaje es 47,49,-19,257,487\n",
        "\n",
        "¿Cual es el mensaje?\n",
        "\n"
      ]
    },
    {
      "cell_type": "markdown",
      "metadata": {
        "id": "IeGy683yH0-m"
      },
      "source": [
        "abc=['A','B','C','D','E','F','G','H','I','J','K','L','M','N','O','P','Q','R','S','T','U','V','W','X','Y','Z',' '] \\\n",
        "num=['1','2','3','4','5','6','7','8','9','10','11','12','13','14','15','16','17','18','19','20','21','22','23','24','25','26','27'] \\"
      ]
    },
    {
      "cell_type": "code",
      "metadata": {
        "id": "9unDTv4Jz6Pw"
      },
      "source": [
        "A = np.matrix([[ 1,  2, -3,  4,  5], # la matriz de decodificacion\n",
        "                [-2, -5,  8, -8, -9],\n",
        "                [ 1,  2, -2,  7,  9],\n",
        "                [ 1,  1,  0,  6, 12],\n",
        "                [ 2,  4, -6,  8, 11]])"
      ],
      "execution_count": 56,
      "outputs": []
    },
    {
      "cell_type": "code",
      "metadata": {
        "id": "IPNFAhBcyBvy"
      },
      "source": [
        "abc=['A','B','C','D','E','F','G','H','I','J','K','L','M','N','O','P','Q','R','S','T','U','V','W','X','Y','Z',' ']\n",
        "num=[1,2,3,4,5,6,7,8,9,10,11,12,13,14,15,16,17,18,19,20,21,22,23,24,25,26,27]\n",
        "dicc = dict(zip(num, abc)) "
      ],
      "execution_count": 57,
      "outputs": []
    },
    {
      "cell_type": "code",
      "metadata": {
        "id": "eOaEV3Bu3SHG"
      },
      "source": [
        "m_codigo = np.matrix([[ 47, 49, -19, 257, 487],\n",
        "                      [ 10, -9, 63, 137, 236,],\n",
        "                      [ 79, 142, -184, 372, 536],\n",
        "                      [ 59, 70, -40, 332, 588]])"
      ],
      "execution_count": 58,
      "outputs": []
    },
    {
      "cell_type": "code",
      "metadata": {
        "colab": {
          "base_uri": "https://localhost:8080/"
        },
        "id": "mEqwenWD4kT4",
        "outputId": "00aff057-897b-453f-a772-0d9a01a4b967"
      },
      "source": [
        "m_oracion = m_codigo @ A.I # la matriz con el mensaje \n",
        "m_oracion"
      ],
      "execution_count": 59,
      "outputs": [
        {
          "output_type": "execute_result",
          "data": {
            "text/plain": [
              "matrix([[ 1., 18.,  5., 27., 25.],\n",
              "        [15., 21., 27.,  8.,  1.],\n",
              "        [22.,  9., 14.,  7., 27.],\n",
              "        [ 6., 21., 14., 27., 27.]])"
            ]
          },
          "metadata": {},
          "execution_count": 59
        }
      ]
    },
    {
      "cell_type": "code",
      "metadata": {
        "colab": {
          "base_uri": "https://localhost:8080/",
          "height": 36
        },
        "id": "IIAZ8LfKwgJv",
        "outputId": "8d03e374-8555-4608-af6e-45b20e239077"
      },
      "source": [
        "palabra = []\n",
        "for i in range(m_oracion.shape[0]): # recorremos las columnas\n",
        "  for j in range(m_oracion.shape[1]):  # recorremos las filas\n",
        "    palabra.append(dicc[int(round(m_oracion[i,j]))]) #usamos el diccionario para encontrar la letra, y lo agregamos a la lista filas\n",
        "\"\".join(palabra) "
      ],
      "execution_count": 60,
      "outputs": [
        {
          "output_type": "execute_result",
          "data": {
            "application/vnd.google.colaboratory.intrinsic+json": {
              "type": "string"
            },
            "text/plain": [
              "'ARE YOU HAVING FUN  '"
            ]
          },
          "metadata": {},
          "execution_count": 60
        }
      ]
    },
    {
      "cell_type": "code",
      "metadata": {
        "id": "xZVAVMLr059A"
      },
      "source": [
        "#the answer of that questions is in this matrix \n",
        "matrix = np.matrix([[  27,   42,  -25,  199,  286],\n",
        "                    [  17,    2,   47,  163,  274],\n",
        "                    [  87,  150, -193,  389,  602],\n",
        "                    [  57,   80,  -69,  303,  514],\n",
        "                    [  69,   92,  -63,  405,  680]])"
      ],
      "execution_count": 61,
      "outputs": []
    },
    {
      "cell_type": "markdown",
      "metadata": {
        "id": "1PjIJX2Me5iV"
      },
      "source": [
        "Construir un programa que permita realizar la multiplicacion de dos matrices.\n",
        "\n",
        "El programa debe establecer si las matrices se pueden multiplicar."
      ]
    },
    {
      "cell_type": "code",
      "metadata": {
        "id": "BlwK6wTSf93f"
      },
      "source": [
        "def multi_matriz(a, b):\n",
        "  if a.shape[1] != b.shape[0]: # vemos si las matrices tienen tamaños complatibles para la multiplicaciones\n",
        "    return print(f\"las matrices no pueden ser multiplicadas\")\n",
        "  new_matriz = np.zeros((a.shape[0],b.shape[1])) # creamos una matriz llena de ceros con los tamaños adecuados de la matriz resultante \n",
        "  for i in range(a.shape[0]): # recorremos las filas de la primera matriz\n",
        "    for j in range(b.shape[1]): # recorremos las columnas de la segunda matriz \n",
        "      new_matriz[i][j] = sum(a[i] * b[:,j]) # reasignamos el numero valor de la multiplicacion de la fila por la columna al indice de la matriz de ceros\n",
        "  return new_matriz"
      ],
      "execution_count": 62,
      "outputs": []
    },
    {
      "cell_type": "code",
      "metadata": {
        "colab": {
          "base_uri": "https://localhost:8080/"
        },
        "id": "D1RN2zzge6ww",
        "outputId": "5a72cc29-ade2-4d4b-df8d-e0635acae26b"
      },
      "source": [
        "f1 = np.array([1,2,3])\n",
        "f2 = np.array([4,5,6])\n",
        "f3 = np.array([7,8,9])\n",
        "a = np.array([f1, f2, f3]) # matriz de ejmplo\n",
        "b = np.array([f3, f2, f1]) # matriz de ejemplo\n",
        "print(a)\n",
        "print(\"\\n\")\n",
        "print(b)\n",
        "print(\"\\n\")\n",
        "print(multi_matriz(a, b))\n",
        "print(\"\\n\")\n",
        "print(a @ b)\n",
        "print(\"Podemos observar que las matrices coincides, por lo tanto, el codigo funciona\")"
      ],
      "execution_count": 63,
      "outputs": [
        {
          "output_type": "stream",
          "name": "stdout",
          "text": [
            "[[1 2 3]\n",
            " [4 5 6]\n",
            " [7 8 9]]\n",
            "\n",
            "\n",
            "[[7 8 9]\n",
            " [4 5 6]\n",
            " [1 2 3]]\n",
            "\n",
            "\n",
            "[[ 18.  24.  30.]\n",
            " [ 54.  69.  84.]\n",
            " [ 90. 114. 138.]]\n",
            "\n",
            "\n",
            "[[ 18  24  30]\n",
            " [ 54  69  84]\n",
            " [ 90 114 138]]\n",
            "Podemos observar que las matrices coincides, por lo tanto, el codigo funciona\n"
          ]
        }
      ]
    }
  ]
}