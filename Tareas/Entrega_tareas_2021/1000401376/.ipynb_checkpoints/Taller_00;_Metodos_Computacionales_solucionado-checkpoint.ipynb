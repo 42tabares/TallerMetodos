{
  "nbformat": 4,
  "nbformat_minor": 0,
  "metadata": {
    "colab": {
      "name": "Taller 00; Metodos Computacionales_solucionado",
      "provenance": [],
      "collapsed_sections": []
    },
    "kernelspec": {
      "name": "python3",
      "display_name": "Python 3"
    }
  },
  "cells": [
    {
      "cell_type": "code",
      "metadata": {
        "colab": {
          "base_uri": "https://localhost:8080/"
        },
        "id": "IEzzdxJVSBQ0",
        "outputId": "2acdbed6-9421-45ce-f900-d6a8c98cd881"
      },
      "source": [
        "#Elaborar un algoritmo e implementar en python, el factorial de un número entero n ingresado por el usuario\n",
        "a = int(input(\"deme un numero al cual le quiera sacar el factorial:\"))\n",
        "\n",
        "def f(a):\n",
        "  c=a\n",
        "  for n in range(1,a):\n",
        "    c=c*(a-n)\n",
        "  return c\n",
        "\n",
        "if a==0 or a==1:\n",
        "    print(f\"el factorial de {a} es {1}\")\n",
        "\n",
        "if a>1:\n",
        "  print(f\"el factorial de {a} es {f(a)}\")"
      ],
      "execution_count": 1,
      "outputs": [
        {
          "output_type": "stream",
          "text": [
            "deme un numero al cual le quiera sacar el factorial:15\n",
            "el factorial de 15 es 1307674368000\n"
          ],
          "name": "stdout"
        }
      ]
    },
    {
      "cell_type": "code",
      "metadata": {
        "colab": {
          "base_uri": "https://localhost:8080/"
        },
        "id": "BEVRKZ24Hgym",
        "outputId": "3852c9cf-c272-4a10-a5b4-1e3e3430680c"
      },
      "source": [
        "#Diseñar un programa que lea dos numero a y b y diga que tipo de numero son\n",
        "a = int(input(\"deme un número: \"))\n",
        "b = int(input(\"deme otro número: \"))\n",
        "\n",
        "def divisores(n):\n",
        "  divisores_n = []\n",
        "  for i in range(1,n//2+1):\n",
        "    c=n%i\n",
        "    if c==0:\n",
        "      divisores_n.append(i)\n",
        "  return divisores_n\n",
        "\n",
        "divisores_a=divisores(a)\n",
        "divisores_b=divisores(b)\n",
        "\n",
        "if sum(divisores_a)<a:\n",
        "  print(f\"el numero {a} tiene como divisores a {divisores_a} y la suma de estos divisores es {sum(divisores_a)} por lo tanto {a} es un numero defectivo \")\n",
        "elif sum(divisores_a)>a:\n",
        "  print(f\"el numero {a} tiene como divisores a {divisores_a} y la suma de estos divisores es {sum(divisores_a)} por lo tanto {a} es un numero abundante\")\n",
        "elif sum(divisores_a)==a:\n",
        "  print(f\"el numero {a} tiene como divisores a {divisores_a} y la suma de estos divisores es {sum(divisores_a)} por lo tanto {a} es un numero perfecto\")\n",
        "\n",
        "if sum(divisores_b)<b:\n",
        "  print(f\"el numero {b} tiene como divisores a {divisores_b} y la suma de estos divisores es {sum(divisores_b)} por lo tanto {b} es un numero defectivo \")\n",
        "elif sum(divisores_b)>b:\n",
        "  print(f\"el numero {b} tiene como divisores a {divisores_b} y la suma de estos divisores es {sum(divisores_b)} por lo tanto {b} es un numero abundante\")\n",
        "elif sum(divisores_b)==b:\n",
        "  print(f\"el numero {b} tiene como divisores a {divisores_b} y la suma de estos divisores es {sum(divisores_b)} por lo tanto {b} es un numero perfecto\")\n",
        "\n",
        "if sum(divisores_a)==b and sum(divisores_b)==a:\n",
        "  print(f\"los numeros {a} y {b} son numeros amigos\")\n",
        "\n",
        "if sum(divisores_a)==1:\n",
        "  print(f\"el numero {a} es un primo\")\n",
        "\n",
        "if sum(divisores_b)==1:\n",
        "  print(f\"el numero {b} es un primo\")\n",
        "\n",
        "def semi(lista, k, acumulado=0):\n",
        "\n",
        "    if acumulado >= k:\n",
        "        return acumulado == k\n",
        "    if lista == []:\n",
        "          return False\n",
        "    acumulado += lista[0]\n",
        "    return semi(lista[1:], k, acumulado) or semi(lista[1:], k, acumulado-lista[0])\n",
        "\n",
        "print(f\"el numero {a} es semiperfecto : {semi(divisores(a), a)}\")\n",
        "print(f\"el numero {b} es semiperfecto : {semi(divisores(b), b)}\")"
      ],
      "execution_count": 2,
      "outputs": [
        {
          "output_type": "stream",
          "text": [
            "deme un número: 19\n",
            "deme otro número: 119\n",
            "el numero 19 tiene como divisores a [1] y la suma de estos divisores es 1 por lo tanto 19 es un numero defectivo \n",
            "el numero 119 tiene como divisores a [1, 7, 17] y la suma de estos divisores es 25 por lo tanto 119 es un numero defectivo \n",
            "el numero 19 es un primo\n",
            "el numero 19 es semiperfecto : False\n",
            "el numero 119 es semiperfecto : False\n"
          ],
          "name": "stdout"
        }
      ]
    },
    {
      "cell_type": "code",
      "metadata": {
        "colab": {
          "base_uri": "https://localhost:8080/"
        },
        "id": "DZXjZI4nYYqM",
        "outputId": "827d3d15-bc85-456a-8471-2b33fa704a8e"
      },
      "source": [
        "#Determine si un número n entero ingresado por el usuario es un palíndromo, (Retorne True en caso afirmativo y False en caso contrario)\n",
        "a = int(input(\"deme un Número: \"))\n",
        "\n",
        "b=str(a)\n",
        "\n",
        "c=b[::-1]\n",
        "\n",
        "d = int(c)\n",
        "\n",
        "if d==a:\n",
        "  print(f\"True\")\n",
        "else:\n",
        "  print(\"false\")"
      ],
      "execution_count": 3,
      "outputs": [
        {
          "output_type": "stream",
          "text": [
            "deme un Número: 32423\n",
            "True\n"
          ],
          "name": "stdout"
        }
      ]
    },
    {
      "cell_type": "code",
      "metadata": {
        "colab": {
          "base_uri": "https://localhost:8080/"
        },
        "id": "mPUxOx76mLoU",
        "outputId": "5994a610-b8ca-4d53-fd92-356494f834ab"
      },
      "source": [
        "#Dada una cadena de caracteres, entregar una lista donde se retorne\n",
        "palabra = str(input(\"deme una palabra: \"))\n",
        "\n",
        "vocales = [\"a\",\"e\",\"i\",\"o\",\"u\"]\n",
        "\n",
        "palabra_voca = []\n",
        "palabra_conso = []\n",
        "\n",
        "if len(palabra)%2 == 0:\n",
        "  s=palabra[(len(palabra)//2)-1] in vocales\n",
        "else:\n",
        "  s=palabra[len(palabra)//2] in vocales\n",
        "  \n",
        "for i in palabra:\n",
        "  if i in vocales:\n",
        "    palabra_voca.append(i)\n",
        "  else:\n",
        "    palabra_conso.append(i)\n",
        "\n",
        "reves = palabra[::-1]\n",
        "\n",
        "print(f\"{s},{len(palabra_voca)},{len(palabra_conso)},{reves}\")"
      ],
      "execution_count": 4,
      "outputs": [
        {
          "output_type": "stream",
          "text": [
            "deme una palabra: murcielago\n",
            "True,5,5,ogaleicrum\n"
          ],
          "name": "stdout"
        }
      ]
    },
    {
      "cell_type": "code",
      "metadata": {
        "colab": {
          "base_uri": "https://localhost:8080/"
        },
        "id": "EhxnnvUixG2U",
        "outputId": "72dc479c-20cd-4d16-f522-09824242d793"
      },
      "source": [
        "#Elabore un método para calcular el n-ésimo término de la sucesión de fibonacci\n",
        "a = int(input(\"deme que fibonacci quiere encontrar: \"))\n",
        "\n",
        "def fibo(n):\n",
        "  b=0\n",
        "  c=1\n",
        "  los_fibo=[0,1]\n",
        "  for i in range(n-1):\n",
        "    d=c+b\n",
        "    b=c\n",
        "    c=d\n",
        "    los_fibo.append(d)\n",
        "  return los_fibo\n",
        "\n",
        "if a>0:\n",
        "  print(f\"El fibonacci numero {a} es el {fibo(a)[-1]}\")\n",
        "else:\n",
        "  print(f\"El fibonacci numero {a} es el {a}\")"
      ],
      "execution_count": 14,
      "outputs": [
        {
          "output_type": "stream",
          "text": [
            "deme que fibonacci quiere encontrar: 20\n",
            "El fibonacci numero 20 es el 6765\n"
          ],
          "name": "stdout"
        }
      ]
    },
    {
      "cell_type": "code",
      "metadata": {
        "colab": {
          "base_uri": "https://localhost:8080/"
        },
        "id": "gmr3Oo0z6cEO",
        "outputId": "3985f5e6-10f7-4601-b911-66d8a7767170"
      },
      "source": [
        "#Entrar un arreglo de números y ordenarlos de forma ascendente, Ver algoritmo Quicksort.\n",
        "lista = [3,7,45,24,12,34,36,1,22,22,54]\n",
        "\n",
        "a = int\n",
        "\n",
        "for i in range(len(lista)-1):\n",
        "  for j in range(len(lista)-1,-1,-1):\n",
        "    if j<=i:\n",
        "      break\n",
        "    if lista[i]>lista[j]:\n",
        "      a = lista[i]\n",
        "      lista[i] = lista[j]\n",
        "      lista[j] = a\n",
        "\n",
        "print(lista)"
      ],
      "execution_count": 15,
      "outputs": [
        {
          "output_type": "stream",
          "text": [
            "[1, 3, 7, 12, 22, 22, 24, 34, 36, 45, 54]\n"
          ],
          "name": "stdout"
        }
      ]
    }
  ]
}