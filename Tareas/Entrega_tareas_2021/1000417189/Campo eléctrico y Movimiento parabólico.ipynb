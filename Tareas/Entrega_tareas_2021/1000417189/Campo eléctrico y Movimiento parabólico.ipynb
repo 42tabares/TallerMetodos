{
 "cells": [
  {
   "cell_type": "markdown",
   "metadata": {
    "id": "Xv7LVkNl0qyz"
   },
   "source": [
    "## Campo eléctrico \n",
    "1. Elaborar un programa para calcular el campo eléctrico producido por un dipolo eléctrico, realizar una representación del campo para todo el dominio \n",
    "elegido para calcular el campo. Para encontrar el campo, se sugiere hacer lo siguiente:\n",
    "\n",
    "- a. Encontrar el campo en un punto producido por dos cargas q1 y q2\n",
    "- b. Emplee el comando  plt.quiver(x, y, Ex, Ey) para mostrar el campo producido por q1 y q2. Puedes intentarlo con el comando, plt.stremplot.\n",
    "- c. Generalice el problema para varios puntos en el espacio.\n",
    "\n",
    "Se recomienda emplear numpy array. \n",
    "\n",
    "\n"
   ]
  },
  {
   "cell_type": "code",
   "execution_count": 6,
   "metadata": {
    "colab": {
     "base_uri": "https://localhost:8080/",
     "height": 285
    },
    "executionInfo": {
     "elapsed": 2767,
     "status": "ok",
     "timestamp": 1616802899959,
     "user": {
      "displayName": "CAMILO LONDONO VERA",
      "photoUrl": "",
      "userId": "16602247040724709955"
     },
     "user_tz": 300
    },
    "id": "2drap2wA8CqA",
    "outputId": "62409b3b-9d38-40b8-bbdb-ec3f37ea4eae"
   },
   "outputs": [
    {
     "name": "stdin",
     "output_type": "stream",
     "text": [
      "Cantidad de cargas: \n"
     ]
    },
    {
     "ename": "ValueError",
     "evalue": "invalid literal for int() with base 10: ''",
     "output_type": "error",
     "traceback": [
      "\u001b[1;31m---------------------------------------------------------------------------\u001b[0m",
      "\u001b[1;31mValueError\u001b[0m                                Traceback (most recent call last)",
      "\u001b[1;32m<ipython-input-6-2ef73e9105ef>\u001b[0m in \u001b[0;36m<module>\u001b[1;34m\u001b[0m\n\u001b[0;32m     43\u001b[0m \u001b[1;33m\u001b[0m\u001b[0m\n\u001b[0;32m     44\u001b[0m \u001b[1;31m#Ingresar un array con magnitud y posición de cada carga\u001b[0m\u001b[1;33m\u001b[0m\u001b[1;33m\u001b[0m\u001b[1;33m\u001b[0m\u001b[0m\n\u001b[1;32m---> 45\u001b[1;33m \u001b[0mn\u001b[0m\u001b[1;33m=\u001b[0m\u001b[0mint\u001b[0m\u001b[1;33m(\u001b[0m\u001b[0minput\u001b[0m\u001b[1;33m(\u001b[0m\u001b[1;34m'Cantidad de cargas:'\u001b[0m\u001b[1;33m)\u001b[0m\u001b[1;33m)\u001b[0m\u001b[1;33m\u001b[0m\u001b[1;33m\u001b[0m\u001b[0m\n\u001b[0m\u001b[0;32m     46\u001b[0m \u001b[1;31m#src=np.zeros((n,3))\u001b[0m\u001b[1;33m\u001b[0m\u001b[1;33m\u001b[0m\u001b[1;33m\u001b[0m\u001b[0m\n\u001b[0;32m     47\u001b[0m \u001b[0msrc\u001b[0m\u001b[1;33m=\u001b[0m\u001b[0mnp\u001b[0m\u001b[1;33m.\u001b[0m\u001b[0marray\u001b[0m\u001b[1;33m(\u001b[0m\u001b[1;33m[\u001b[0m\u001b[1;33m[\u001b[0m \u001b[1;36m1.\u001b[0m\u001b[1;33m,\u001b[0m\u001b[1;36m1.\u001b[0m\u001b[1;33m,\u001b[0m\u001b[1;36m1.\u001b[0m\u001b[1;33m]\u001b[0m\u001b[1;33m,\u001b[0m \u001b[1;33m[\u001b[0m\u001b[1;33m-\u001b[0m\u001b[1;36m2.\u001b[0m\u001b[1;33m,\u001b[0m\u001b[1;33m-\u001b[0m\u001b[1;36m1.\u001b[0m\u001b[1;33m,\u001b[0m\u001b[1;33m-\u001b[0m\u001b[1;36m1.\u001b[0m\u001b[1;33m]\u001b[0m\u001b[1;33m,\u001b[0m\u001b[1;33m[\u001b[0m\u001b[1;36m1.\u001b[0m\u001b[1;33m,\u001b[0m\u001b[1;33m-\u001b[0m\u001b[1;36m1.\u001b[0m\u001b[1;33m,\u001b[0m\u001b[1;36m3.\u001b[0m\u001b[1;33m]\u001b[0m\u001b[1;33m]\u001b[0m\u001b[1;33m)\u001b[0m\u001b[1;33m\u001b[0m\u001b[1;33m\u001b[0m\u001b[0m\n",
      "\u001b[1;31mValueError\u001b[0m: invalid literal for int() with base 10: ''"
     ]
    }
   ],
   "source": [
    "import numpy as np\n",
    "import matplotlib.pyplot as plt\n",
    "\n",
    "def E_campo(q, r ):\n",
    "  \"\"\"\n",
    "  Magnitud del campo electrico\n",
    "  \"\"\"\n",
    "  k=1\n",
    "  if r !=0:\n",
    "    return k*q/r**2\n",
    "  else:\n",
    "    pass\n",
    "\n",
    "def Campo_fuente(rsource, rp,q) : \n",
    "  \"\"\"\n",
    "  Parameter\n",
    "  ---------\n",
    "  rsource: numpy array de 2D, con la posicion de la fuente\n",
    "  rp     : numpy array de 2D, El punto donde se encontrará el campo\n",
    "  q      : magnitud de la carga en cuestión\n",
    "\n",
    "  Return\n",
    "  ----------\n",
    "  2-tupla con:\n",
    "  Ex: Componente x del campo electrico\n",
    "  Ey: Componente y del campo electrico \n",
    "  \"\"\"\n",
    "\n",
    "  Delta_R =  rp - rsource\n",
    "  MagDelta_R = np.sqrt(Delta_R[0]**2 + Delta_R[1]**2)\n",
    "  \n",
    "  if MagDelta_R != 0:\n",
    "    u_R = Delta_R/MagDelta_R\n",
    "  \n",
    "    E = E_campo(q,MagDelta_R ) * u_R\n",
    "    Ex = E[0]\n",
    "    Ey = E[1]\n",
    "  \n",
    "    return Ex, Ey\n",
    "  else:\n",
    "    pass\n",
    "\n",
    "\n",
    "#Ingresar un array con magnitud y posición de cada carga\n",
    "n=int(input('Cantidad de cargas:'))\n",
    "#src=np.zeros((n,3))\n",
    "src=np.array([[ 1.,1.,1.], [-2.,-1.,-1.],[1.,-1.,3.]])\n",
    "# for j in range(0,n):\n",
    "#   k=0\n",
    "#   for i in ['Magnitud','Pos. X','Pos. Y']:\n",
    "#     var=input('{}:\\n'.format(i))\n",
    "#     src[j][k]=var\n",
    "#     k=k+1\n",
    "#   print('\\n')\n",
    "\n",
    "# Definir los puntos donde se se determinara el campo electrico \n",
    "x  = np.arange(min(src[:,1])-1,max(src[:,1])+1,0.25)#(-2, 3, 0.25)\n",
    "n1 = len(x)\n",
    "y  = np.arange(min(src[:,2])-1,max(src[:,2])+1,0.25)\n",
    "n2 = len(y)\n",
    "\n",
    "#Generar un conjunto de puntos para determinar el campo\n",
    "rp = np.zeros((n1*n2 , 2))\n",
    "k = 0\n",
    "for x_ in (x):\n",
    "  for y_ in (y):\n",
    "    rp[k] = np.array([x_, y_])\n",
    "    k=k+1   \n",
    "\n",
    "\n",
    "#Generar un arreglo vacío donde estarán los valores de campo de cada carga\n",
    "Eq=np.zeros((n,n1*n2,2))\n",
    "\n",
    "#Asignar una 2-tupla a cada punto dentro de Eq para cada carga\n",
    "for i in range(0, n): #iteración por cargas\n",
    "  for j in range(0, len(rp)): #Iteración por puntos\n",
    "    Eq[i][j] = Campo_fuente(src[i][1:], rp[j], src[i][0])\n",
    "\n",
    "#Sumar los Eq[i] componente a componente\n",
    "E=sum(Eq)\n",
    "\n",
    "#Determinar color rojo para carga positiva o azul para negativa\n",
    "color=[0]*n\n",
    "for i in range(n):\n",
    "  color[i]='ro' if src[i][0]>0 else 'bo'\n",
    "\n",
    "plt.figure()\n",
    "for i in range(n):\n",
    "  plt.plot(src[i][1],src[i][2], color[i])\n",
    "plt.quiver(rp[:,0], rp[:,1], E[:,0], E[:,1])\n",
    "plt.show()"
   ]
  },
  {
   "cell_type": "markdown",
   "metadata": {
    "id": "JsrsSnYEs-TP"
   },
   "source": [
    "## Movimiento parabólico.\n",
    "2. Un jugador de baloncesto desea saber si encestará su tiro dependiendo de la velocidad inicial, ángulo de lanzamiento y posición respecto a la canasta. \n",
    "\n",
    "Elabore un programa en el que dada una distancia, velocidad inicial y  ángulo, determine si hay cesta. El modelo será bajo partícula, sin la rotación del balón. \n",
    "\n",
    "Se recomienda emplear numpy array. "
   ]
  },
  {
   "cell_type": "code",
   "execution_count": 7,
   "metadata": {
    "colab": {
     "base_uri": "https://localhost:8080/",
     "height": 300
    },
    "executionInfo": {
     "elapsed": 790,
     "status": "ok",
     "timestamp": 1616729149110,
     "user": {
      "displayName": "CAMILO LONDONO VERA",
      "photoUrl": "",
      "userId": "16602247040724709955"
     },
     "user_tz": 300
    },
    "id": "llv8iJyn1_ZB",
    "outputId": "9df7ad0e-b9b5-4116-96a6-fcd7bf3e9af2"
   },
   "outputs": [
    {
     "data": {
      "image/png": "[encoded data removed]",
      "text/plain": [
       "<Figure size 432x288 with 1 Axes>"
      ]
     },
     "metadata": {
      "needs_background": "light"
     },
     "output_type": "display_data"
    }
   ],
   "source": [
    "import numpy as np\n",
    "import matplotlib.pyplot as plt\n",
    "\n",
    "d=5\n",
    "h=3\n",
    "#Datos iniciales\n",
    "y0=2\n",
    "v0=8.1\n",
    "th=60\n",
    "th= th*np.pi/180   #ángulo\n",
    "e=0.23            #radio del aro\n",
    "\n",
    "vx=v0*np.cos(th)  #velocidad cte. en X\n",
    "\n",
    "#Funciones que hallan las posiciones una respecto a la otra:\n",
    "def jdex(x):\n",
    "  j=y0+x*np.tan(th)-0.5*9.8*(x/(v0*np.cos(th)))**2\n",
    "  return j\n",
    "def idey(y):\n",
    "  i=v0*np.cos(th)*(\n",
    "  -v0*np.sin(th)-((v0*np.sin(th))**2+2*9.8*(y0-y))**0.5)/-9.8\n",
    "  return i\n",
    "\n",
    "#Distancia recorrida cuando la altura es h\n",
    "#y cuando el balón toca el suelo\n",
    "xh=idey(h)\n",
    "xf=idey(0)\n",
    "\n",
    "#Comprobar si el  balón está dentro del aro cuando alcanza la altura h\n",
    "if np.abs(xh-d)<e:\n",
    "  pasa='sí'\n",
    "else:\n",
    "  pasa='no'\n",
    "\n",
    "#Generar la trayectria y graficar\n",
    "x=np.linspace(0,xf,50)\n",
    "y=jdex(x)\n",
    "\n",
    "\n",
    "plt.figure()\n",
    "\n",
    "plt.plot(x,y)\n",
    "plt.plot((5-0.23,5.23),(3,3),label='Aro')\n",
    "plt.grid()\n",
    "plt.xlabel('Distancia', fontsize=13)\n",
    "plt.ylabel('Altura',fontsize=13)\n",
    "plt.legend(loc='best')\n",
    "plt.title('El balón {} pasa'.format(pasa), fontsize=14)\n",
    "\n",
    "plt.show()"
   ]
  },
  {
   "cell_type": "code",
   "execution_count": null,
   "metadata": {},
   "outputs": [],
   "source": []
  }
 ],
 "metadata": {
  "colab": {
   "collapsed_sections": [],
   "name": "Campo eléctrico y Movimiento parabólico.ipynb",
   "provenance": [
    {
     "file_id": "1M3BhNE2XuujZH_zeUG7XrEf0RxthQDyi",
     "timestamp": 1615851868647
    }
   ]
  },
  "kernelspec": {
   "display_name": "Python 3",
   "language": "python",
   "name": "python3"
  },
  "language_info": {
   "codemirror_mode": {
    "name": "ipython",
    "version": 3
   },
   "file_extension": ".py",
   "mimetype": "text/x-python",
   "name": "python",
   "nbconvert_exporter": "python",
   "pygments_lexer": "ipython3",
   "version": "3.8.5"
  }
 },
 "nbformat": 4,
 "nbformat_minor": 4
}
