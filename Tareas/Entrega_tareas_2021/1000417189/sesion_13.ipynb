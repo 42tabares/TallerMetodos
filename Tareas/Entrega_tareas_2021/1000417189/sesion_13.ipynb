{
  "nbformat": 4,
  "nbformat_minor": 0,
  "metadata": {
    "colab": {
      "name": "sesion_13.ipynb",
      "provenance": [],
      "collapsed_sections": [],
      "include_colab_link": true
    },
    "kernelspec": {
      "name": "python3",
      "display_name": "Python 3"
    },
    "language_info": {
      "name": "python"
    }
  },
  "cells": [
    {
      "cell_type": "markdown",
      "metadata": {
        "id": "view-in-github",
        "colab_type": "text"
      },
      "source": [
        "<a href=\"https://colab.research.google.com/github/CamiloLon/Metodos_Computacionales_taller/blob/main/Tareas/Entrega_tareas_2021/1000417189/sesion_13.ipynb\" target=\"_parent\"><img src=\"https://colab.research.google.com/assets/colab-badge.svg\" alt=\"Open In Colab\"/></a>"
      ]
    },
    {
      "cell_type": "code",
      "metadata": {
        "id": "3dQBKLSvHQiW"
      },
      "source": [
        "import numpy as np"
      ],
      "execution_count": null,
      "outputs": []
    },
    {
      "cell_type": "markdown",
      "metadata": {
        "id": "vDWaWtc_O9bt"
      },
      "source": [
        "2. Un proceso para encriptar un mensaje secreto es usar cierta matrix cuadrada cuyos elementos son enteros con elementos enteros en la inversa. Se recibe un mensaje, se asigna un número a cada letra Por ejemplo, A=1, B=2, C=3, ... etc y espacio=27), se arreglan los números en una matriz de izquierda a derecha en cada fila, donde el número de elementos en la fila es igual al tamano de la matriz de codigo, se multiplica esa matriz por la matriz de código por la derecha, se transcribe el mensaje en una cadena de números y se manda el mensaje. \n",
        "\n",
        "La persona que debe recibir el mensaje conoce la matriz de codigo. El o ellla arrelgan el mensaje encriptado en una matriz de izquierda a derecha en cada fila, en donde el numero de elementos en una fila conicide con el tamano de la matriz de codigo muplicada por la derecha, por el inverso de la matriz de código y puede leer mensaje decodificado.\n",
        "\n",
        "Usted a recibido el siguiente mensaje que fue encriptado usando la matriz A. Decodifiquelo.\n",
        "\n",
        "```\n",
        "A = matrix([[ 1,  2, -3,  4,  5],\n",
        "        [-2, -5,  8, -8, -9],\n",
        "        [ 1,  2, -2,  7,  9],\n",
        "        [ 1,  1,  0,  6, 12],\n",
        "        [ 2,  4, -6,  8, 11]])\n",
        "```\n",
        "\n",
        "Mensaje\n",
        "\n",
        "47,49,-19,257,487,10,-9,63,137,236, 79,142,-184,372,536,59,70,-40,332,588, \n",
        "\n",
        "la primera fila del mensaje es 47,49,-19,257,487\n",
        "\n",
        "¿Cual es el mensaje?"
      ]
    },
    {
      "cell_type": "code",
      "metadata": {
        "id": "aVOGDUOkPCE4"
      },
      "source": [
        "A = np.array([[ 1,  2, -3,  4,  5],\n",
        "        [-2, -5,  8, -8, -9],\n",
        "        [ 1,  2, -2,  7,  9],\n",
        "        [ 1,  1,  0,  6, 12],\n",
        "        [ 2,  4, -6,  8, 11]])"
      ],
      "execution_count": null,
      "outputs": []
    },
    {
      "cell_type": "code",
      "metadata": {
        "id": "E2NPzHT7PL7m"
      },
      "source": [
        "B = np.array([[ 47,  49, -19,  257,  487],\n",
        "        [10,-9,63,137,236],\n",
        "        [ 79,142,-184,372,536],\n",
        "        [ 59,70,-40,332,588]])"
      ],
      "execution_count": null,
      "outputs": []
    },
    {
      "cell_type": "code",
      "metadata": {
        "id": "VFXag4eXQto7"
      },
      "source": [
        "I = np.linalg.inv(A)"
      ],
      "execution_count": null,
      "outputs": []
    },
    {
      "cell_type": "code",
      "metadata": {
        "id": "cX3lryjLSLBp"
      },
      "source": [
        "M = np.dot(B,I)"
      ],
      "execution_count": null,
      "outputs": []
    },
    {
      "cell_type": "code",
      "metadata": {
        "colab": {
          "base_uri": "https://localhost:8080/"
        },
        "id": "jZMvADuySUpm",
        "outputId": "a8e0df3d-0a37-49d4-8265-d1d2f1efaebe"
      },
      "source": [
        "ABCD = {1:'A',2:'B',3:'C',4:'D',5:'E',6:'F',7:'G',8:'H',9:'I',10:'J',11:'K',12:'L',13:'M',\n",
        "        14:'N',15:'O',16:'P',17:'Q',18:'R',19:'S',20:'T',21:'U',22:'V',23:'W',24:'X',25:'Y',\n",
        "        26:'Z',27:' '}\n",
        "\n",
        "text = ''\n",
        "for i in range(M.shape[0]):\n",
        "  for j in range(M.shape[1]):\n",
        "    text += ABCD[M[i,j].round()]\n",
        "print(text)"
      ],
      "execution_count": null,
      "outputs": [
        {
          "output_type": "stream",
          "name": "stdout",
          "text": [
            "ARE YOU HAVING FUN  \n"
          ]
        }
      ]
    },
    {
      "cell_type": "markdown",
      "metadata": {
        "id": "I8tbMGN5O8o2"
      },
      "source": [
        "3. Construir un programa que permita realizar la multiplicacion de dos matrices. El programa debe establecer si las matrices se pueden multiplicar.\n"
      ]
    },
    {
      "cell_type": "code",
      "metadata": {
        "id": "wWPRNPqcOy2y"
      },
      "source": [
        "def producto_matrices(M1,M2):\n",
        "  \"\"\"\n",
        "  M1: es la matriz izquierda\n",
        "  M2: es la maatriz derecha\n",
        "  \"\"\"\n",
        "  try:\n",
        "    M1 = np.asarray(M1)\n",
        "    M2 = np.asarray(M2)\n",
        "\n",
        "    M3 = np.zeros((M1.shape[0],M2.shape[1]))\n",
        "    for i in range(M1.shape[0]):\n",
        "      fila = M1[i]\n",
        "      for j in range(M2.shape[1]):\n",
        "        columna = M2[:,j]\n",
        "        M3[i,j] = (fila*columna).sum()\n",
        "    return M3\n",
        "  except TypeError:\n",
        "    return \"No se pueden multiplicar estas matrices\"\n",
        "  except ValueError:\n",
        "    return \"No se pueden multiplicar estas matrices\""
      ],
      "execution_count": null,
      "outputs": []
    },
    {
      "cell_type": "code",
      "metadata": {
        "colab": {
          "base_uri": "https://localhost:8080/"
        },
        "id": "wuICLnx2gCPq",
        "outputId": "6cdc5547-49ad-4260-bfc1-83e712aa8572"
      },
      "source": [
        "\n",
        "M1 = np.array([[2,2],[2,2],[1,1]])\n",
        "print(M1)\n",
        "print(M1.shape)\n",
        "M2 = np.array([[1,0],[0,1]])\n",
        "print(M2)\n",
        "print(M2.shape)"
      ],
      "execution_count": null,
      "outputs": [
        {
          "output_type": "stream",
          "name": "stdout",
          "text": [
            "[[2 2]\n",
            " [2 2]\n",
            " [1 1]]\n",
            "(3, 2)\n",
            "[[1 0]\n",
            " [0 1]]\n",
            "(2, 2)\n"
          ]
        }
      ]
    },
    {
      "cell_type": "code",
      "metadata": {
        "colab": {
          "base_uri": "https://localhost:8080/"
        },
        "id": "h8eBG6YMfOKL",
        "outputId": "7ae9f72f-a35e-4665-f6d8-4aad2bc8774c"
      },
      "source": [
        "producto_matrices(M1,M2)"
      ],
      "execution_count": null,
      "outputs": [
        {
          "output_type": "execute_result",
          "data": {
            "text/plain": [
              "array([[2., 2.],\n",
              "       [2., 2.],\n",
              "       [1., 1.]])"
            ]
          },
          "metadata": {},
          "execution_count": 17
        }
      ]
    },
    {
      "cell_type": "code",
      "metadata": {
        "colab": {
          "base_uri": "https://localhost:8080/"
        },
        "id": "qHdBUsQSgdDh",
        "outputId": "4a30bd91-cf00-43d9-f41d-3edeaa4f3726"
      },
      "source": [
        "M1 @ M2"
      ],
      "execution_count": null,
      "outputs": [
        {
          "output_type": "execute_result",
          "data": {
            "text/plain": [
              "array([[2, 2],\n",
              "       [2, 2],\n",
              "       [1, 1]])"
            ]
          },
          "metadata": {},
          "execution_count": 18
        }
      ]
    }
  ]
}