{
 "cells": [
  {
   "cell_type": "markdown",
   "metadata": {
    "id": "FRH6ZoPM4KeX"
   },
   "source": [
    "# Taller 0.0 de métodos computacionales para físicos  y astrónomos\n",
    "\n",
    "\n",
    "## Universidad de Antioquia\n",
    "### Profesor: Hernan D. Salinas Jiménez\n"
   ]
  },
  {
   "cell_type": "markdown",
   "metadata": {
    "id": "3IwaMxgT4Kee"
   },
   "source": [
    "## Taller: Sesion 0.0"
   ]
  },
  {
   "cell_type": "markdown",
   "metadata": {
    "id": "SV5BAn7x4Kef"
   },
   "source": [
    "## Unidad 1: \n",
    "\n",
    "Contenido Actitudinal: Observar como el computador produce errores en los cálculos. El computador no maneja infinitas cifras decimales.\n",
    "\n",
    "- Repaso breve del Python\n",
    "- Estructura básica de un programa en Python.\n",
    "- Numpy y rutinas de graficación.\n",
    "- Operaciones aritméticas con reales y complejos.\n",
    "- Números aleatorios, método del congruente lineal y problemas.\n",
    "- Errores: redondeo, truncamiento, sustracción cancelativa, precisiónde la máquina.\n",
    "- Algoritmos"
   ]
  },
  {
   "cell_type": "markdown",
   "metadata": {
    "id": "dgZqZVpe4Kef"
   },
   "source": [
    "## Instrucciones de entrega\n",
    "\n",
    "\n",
    "\n",
    "\n",
    "\n",
    "\n"
   ]
  },
  {
   "cell_type": "markdown",
   "metadata": {
    "id": "J6GPf6qe4Keg"
   },
   "source": [
    "## Problemas\n",
    "1. Elaborar un algoritmo e implementar en python, el factorial de un número entero `n` ingresado por el usuario.\n",
    "     ### Ejemplo de Ejecución\n",
    "    ```python\n",
    "\n",
    "    >>> factorial(3)\n",
    "        6\n",
    "\n",
    "    >>> factorial(1987123)\n",
    "        =???\n",
    "```\n"
   ]
  },
  {
   "cell_type": "code",
   "execution_count": 21,
   "metadata": {
    "colab": {
     "base_uri": "https://localhost:8080/"
    },
    "id": "2opv_clSQDJp",
    "outputId": "a0c758ab-cf29-40dc-fb5b-a7aeca8f8b78"
   },
   "outputs": [
    {
     "name": "stdout",
     "output_type": "stream",
     "text": [
      "ingrese un numero natural\n",
      "3\n",
      "El factorial de 3 es: 6\n"
     ]
    }
   ],
   "source": [
    "\"\"\"Ejercicio 1:calcular el factorial de un numero\"\"\"\n",
    "\n",
    "#pedir al usuario ingresar un numero natural\n",
    "print(\"ingrese un numero natural\")\n",
    "n=int(input()) \n",
    "y=1 #contador o acumulador\n",
    "\n",
    "for i in range(1,n+1,1):\n",
    "  y=y*i # se acumula la variable \n",
    "print(\"El factorial de\",n,\"es:\",y)\n"
   ]
  },
  {
   "cell_type": "markdown",
   "metadata": {
    "id": "9-JZw0Do4Keg"
   },
   "source": [
    "2. Diseñar un programa que lea dos numero `a` y `b` y diga que tipo de numero son, de a cuerdo a la siguiente clasificación:\n",
    "\n",
    " >- [Números defectivos](https://es.wikipedia.org/wiki/Número_defectivo) : la suma de los divisores propios es menor que el número.\n",
    " >- [Números abundantes](https://es.wikipedia.org/wiki/Número_abundante): la suma de los divisores es mayor que el número.                      \n",
    " >- [Números amigos](https://es.wikipedia.org/wiki/N%C3%BAmeros_amigos): `a` y `b` tales que a es la suma de los divisores propios de `b` y viceversa.\n",
    " >- [Números semiperfectos](https://es.wikipedia.org/wiki/N%C3%BAmero_semiperfecto): la suma de todos o algunos de los divisores propios es igual al número.\n",
    " >- [Números perfectos](https://es.wikipedia.org/wiki/N%C3%BAmero_perfecto): la suma de todos sus divisores propios, excepto el mismo numero, es igual al número.\n",
    " >- [Números primos](https://es.wikipedia.org/wiki/N%C3%BAmero_primo): el número es divisible unicamente por sí mismo y por 1.\n",
    " "
   ]
  },
  {
   "cell_type": "markdown",
   "metadata": {
    "id": "cARSuKs_4Keh"
   },
   "source": [
    " ### Ejemplo de Ejecución\n",
    "``` python\n",
    "\n",
    "    >>> clase_numero(a = 220, b =  284)\n",
    "        a = 220 y b = 284 son números amigos\n",
    "\n",
    "    >>> clase_numero(a = 24, b = 12 )\n",
    "        a = 24 es un numero abudante y b = 12 es un número defectivo. \n",
    "```\n"
   ]
  },
  {
   "cell_type": "code",
   "execution_count": 8,
   "metadata": {},
   "outputs": [],
   "source": [
    "def divisores_propios(n):\n",
    "    a = n//2   # División entera\n",
    "    div = []   # divisores\n",
    "    \n",
    "    for i in range(2, a+1, 1):\n",
    "        x = n%i\n",
    "        if x==0: div.append(i)\n",
    "\n",
    "    return [1]+div\n",
    "# --------------------------------------------\n",
    "\n",
    "def tipo_numero(n):\n",
    "    \n",
    "    print(\"\\nEl número %s es: \" %n)\n",
    "    divn = divisores_propios(n)\n",
    "    suma = sum(divn)\n",
    "    \n",
    "    if suma<n: \n",
    "        print(\"Defectivo.\")\n",
    "    if suma==n:\n",
    "        print(\"Perfecto.\")\n",
    "    if suma>n:\n",
    "        print(\"Abundante.\")\n",
    "    if suma==1:\n",
    "        print(\"Primo.\")\n",
    "    \n",
    "    # Verificar si n es semiperfecto ------------------------\n",
    "    \n",
    "    def combinaciones(l):\n",
    "        if len(l) == 0:\n",
    "            return [[]]\n",
    "        r = combinaciones(l[:-1])\n",
    "        return r + [s + [l[-1]] for s in r]\n",
    "\n",
    "    c = combinaciones(divn)\n",
    "\n",
    "    # Sumitas ---------------------\n",
    "    suma = 0\n",
    "    for i in range(1, len(c)):\n",
    "        suma = sum(c[i])\n",
    "        if suma == n:\n",
    "            print(\"Semiperfecto.\")\n",
    "            break\n",
    "    # --------------------------------------------------"
   ]
  },
  {
   "cell_type": "code",
   "execution_count": 9,
   "metadata": {},
   "outputs": [
    {
     "name": "stdout",
     "output_type": "stream",
     "text": [
      "\n",
      "El número 12 es: \n",
      "Abundante.\n",
      "Semiperfecto.\n"
     ]
    }
   ],
   "source": [
    "tipo_numero(12)"
   ]
  },
  {
   "cell_type": "markdown",
   "metadata": {
    "id": "45A4RWSm4Keh"
   },
   "source": [
    "3. Determine si un número `n` entero ingresado por el usuario es un [palíndromo](https://en.wikipedia.org/wiki/Palindromic_number), (Retorne `True` en caso afirmativo y `False` en caso contrario) \n",
    "\n",
    "```python\n",
    "\n",
    "\n",
    "    >>> palindromo(3333333)\n",
    "        True\n",
    "\n",
    "    >>> palindromo(2323)\n",
    "        True\n",
    "        \n",
    "    >>> palindromo(1111349111111)\n",
    "        False\n",
    "```\n",
    "\n",
    "\n"
   ]
  },
  {
   "cell_type": "code",
   "execution_count": 2,
   "metadata": {},
   "outputs": [
    {
     "name": "stdout",
     "output_type": "stream",
     "text": [
      "ingrese un numero:\n",
      "1234321\n",
      "true\n"
     ]
    }
   ],
   "source": [
    "#Determine si un número n entero ingresado por el usuario es un palíndromo\n",
    "print(\"ingrese un numero:\")\n",
    "numero=input()\n",
    "if numero==numero[::-1]:\n",
    "    print(\"true\")\n",
    "else:\n",
    "    print(\"false\")"
   ]
  },
  {
   "cell_type": "markdown",
   "metadata": {
    "id": "bmQYQxjX4Keh"
   },
   "source": [
    "\n",
    "4. Dada una cadena de caracteres, entregar una lista donde se retorne:\n",
    ">- en la primera casilla: `True` si el caracter del medio es una vocal, `False` en caso contrario \n",
    ">- en la segunda: el numero de vocales en la cadena\n",
    ">- en la tercera: el numero de consonantes\n",
    ">- en la ultima: la cadena de caracteres invertida (ej: perro, orrep)\n",
    "\n",
    "### Ejemplo de Ejecución\n",
    "```python\n",
    "\n",
    ">>> cadena(s ='perro')\n",
    "[False, 2, 3, 'orrep']\n",
    "\n",
    ">>> cadena(s ='murcielago')\n",
    "[True, 5, 5, 'ogaleicrum']\n",
    "\n",
    "```\n"
   ]
  },
  {
   "cell_type": "code",
   "execution_count": 28,
   "metadata": {},
   "outputs": [
    {
     "name": "stdout",
     "output_type": "stream",
     "text": [
      "Ingrese una cadena de caracteres: holas a todos\n",
      "[True, 5, 6, 'sodot a saloh']\n"
     ]
    }
   ],
   "source": [
    "#ejercio numero4\n",
    "\n",
    "cadena = input('Ingrese una cadena de caracteres: ')\n",
    "\n",
    "lr = []   # Lista vacía\n",
    "vocales = ['a', 'e', 'i', 'o', 'u']\n",
    "\n",
    "# Primera casilla ------------------------\n",
    "\n",
    "\n",
    "\n",
    "if cadena[len(cadena)//2] in vocales:\n",
    "    lr.append(True)\n",
    "else:\n",
    "    lr.append(False)\n",
    "            \n",
    "# Segunda casilla ------------------------\n",
    "cont = 0\n",
    "for i in range(len(vocales)):\n",
    "    cont = cont + cadena.count(vocales[i])\n",
    "\n",
    "lr.append(cont)\n",
    "\n",
    "# Tercera casilla ------------------------\n",
    "conc = 0\n",
    "for l in cadena:\n",
    "    if l.isalpha() and not l in vocales:\n",
    "        conc=conc+1\n",
    "        \n",
    "lr.append(conc)\n",
    "\n",
    "# Cuarta casilla ------------------------\n",
    "lr.append(cadena[::-1])\n",
    "print(lr)"
   ]
  },
  {
   "cell_type": "markdown",
   "metadata": {
    "id": "Z6rU_h_q4Kei"
   },
   "source": [
    "\n",
    "5. Elabore un método para calcular el n-ésimo término de la sucesión de fibonacci: \n",
    "\n",
    "$$ f_n = f_{n-1}+f_{n-2}$$\n",
    "\n",
    "Donde $$f_0=0 \\:\\:\\text{ y }\\:\\:f_1=1 $$ así:   $$f_2=1+0=1$$ $$f_3=1+1=2$$  $$f_4=2+1=3$$ y así sucesivamente\n",
    "\n",
    "### Ejemplo de Ejecución\n",
    "```python\n",
    "\n",
    ">>> fibonacci(50)\n",
    "12586269025\n",
    "\n",
    ">>> fibonacci(63)\n",
    "6557470319842\n",
    "```\n"
   ]
  },
  {
   "cell_type": "code",
   "execution_count": 2,
   "metadata": {},
   "outputs": [
    {
     "data": {
      "text/plain": [
       "1"
      ]
     },
     "execution_count": 2,
     "metadata": {},
     "output_type": "execute_result"
    }
   ],
   "source": [
    "#ejercicio cinco-sucesion de fibonacci\n",
    "def fibonacci(n):   # n es la entrada\n",
    "    f0 = 0   # Condiciones iniciales\n",
    "    f1 = 1\n",
    "    \n",
    "    if n==0: return 0\n",
    "    if n==1: return 1\n",
    "    \n",
    "    for i in range(n-1):\n",
    "        fn = f0 + f1   # f2\n",
    "        f0 = f1        # f0\n",
    "        f1 = fn        # f1\n",
    "    \n",
    "    return fn\n",
    "\n",
    "fibonacci(2)"
   ]
  },
  {
   "cell_type": "markdown",
   "metadata": {
    "id": "1Aezlw_x4Kei"
   },
   "source": [
    "\n",
    "6. Entrar un arreglo de números y ordenarlos de forma ascendente, Ver algoritmo\n",
    "[Quicksort](c). \n",
    "\n",
    "\n",
    "```python\n",
    "\n",
    "\n",
    "<<< v = [22, 32, 42, 12, 22, 31, 41, 11, 12, 232, 24, 12, 22]\n",
    "<<< def quicksort(v):\n",
    "\n",
    "<<<     return v\n",
    "<<< w = print(quicksort(v))\n",
    "<<< [11, 12, 12, 12, 22, 22, 22, 24, 31, 32, 41, 42, 232]\n",
    "\n",
    "```\n",
    "\n",
    "Sólo para comprobar tu código,  puedes hacer uso del comando sort de python. \n",
    "```python\n",
    "<<< b = [22, 32, 42, 12, 22, 31, 41, 11, 12, 232, 24, 12, 22]\n",
    "\n",
    "<<< print(b.sort())\n",
    "\n",
    "<<< [11, 12, 12, 12, 22, 22, 22, 24, 31, 32, 41, 42, 232]\n",
    "```"
   ]
  },
  {
   "cell_type": "code",
   "execution_count": 10,
   "metadata": {},
   "outputs": [],
   "source": [
    "def quicksort(v):\n",
    "\n",
    "    tamaño = len(v)\n",
    "    if tamaño <= 1: #Si la lista tiene un solo elemento\n",
    "        return v\n",
    "    else:\n",
    "        pivote = v.pop() #Utilizand el la función .pop() se escoge el último elemento de la lista como pivote\n",
    "\n",
    "#A continuación se definen dos listas vacías para ubicar lo elementos de las particiones que se hace con el pivote\n",
    "    particion_derecha = []\n",
    "    particion_izquierda = []\n",
    "\n",
    "#Distribuye en las listas vacías los elementos mayores y menores que el pivote\n",
    "    for elemento in v:\n",
    "        if elemento > pivote:\n",
    "            particion_derecha.append(elemento)\n",
    " \n",
    "        else:\n",
    "            particion_izquierda.append(elemento)\n",
    "\n",
    "#El proceso anterior se repite hasta que nos queda un último pivote de tal forma que la lista queda ordenada\n",
    "\n",
    "    v = quicksort(particion_izquierda) + [pivote] + quicksort(particion_derecha)\n",
    "\n",
    "    return v\n",
    "         "
   ]
  },
  {
   "cell_type": "code",
   "execution_count": 17,
   "metadata": {},
   "outputs": [
    {
     "data": {
      "text/plain": [
       "[1, 2, 3, 4, 5, 6, 11, 14, 34]"
      ]
     },
     "execution_count": 17,
     "metadata": {},
     "output_type": "execute_result"
    }
   ],
   "source": [
    "v=[1,4,3,6,5,11,2,14,34]#se le aplica la funcion a una lista de numeros\n",
    "quicksort(v)"
   ]
  },
  {
   "cell_type": "markdown",
   "metadata": {
    "id": "BTj0eQBs4Kej"
   },
   "source": [
    "## REFERENCIAS.\n",
    "[1] Scripts de un curso de python. [Raul Pollan](https://github.com/rramosp/20182.pcomp)  \n",
    "\n",
    "[2] [Fundamenteos de programación](https://sites.google.com/site/funpropoli/ejercicios-practicos)\n",
    "\n",
    "[3] Scripts de un curso de python. [Fernando Perez](https://github.com/fperez)\n"
   ]
  }
 ],
 "metadata": {
  "colab": {
   "name": "taller000.ipynb",
   "provenance": []
  },
  "kernelspec": {
   "display_name": "Python 3",
   "language": "python",
   "name": "python3"
  },
  "language_info": {
   "codemirror_mode": {
    "name": "ipython",
    "version": 3
   },
   "file_extension": ".py",
   "mimetype": "text/x-python",
   "name": "python",
   "nbconvert_exporter": "python",
   "pygments_lexer": "ipython3",
   "version": "3.6.6"
  }
 },
 "nbformat": 4,
 "nbformat_minor": 1
}
