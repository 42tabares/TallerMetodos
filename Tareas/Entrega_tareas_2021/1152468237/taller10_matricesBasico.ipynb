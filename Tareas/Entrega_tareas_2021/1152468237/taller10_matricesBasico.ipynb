{
  "nbformat": 4,
  "nbformat_minor": 0,
  "metadata": {
    "colab": {
      "name": "taller10-matricesBasico.ipynb",
      "provenance": []
    },
    "kernelspec": {
      "name": "python3",
      "display_name": "Python 3"
    },
    "language_info": {
      "name": "python"
    }
  },
  "cells": [
    {
      "cell_type": "markdown",
      "metadata": {
        "id": "pKmGWUKqNOnY"
      },
      "source": [
        "\n",
        "1.Se sabe que un sistema físico es gobernado por las ecuaciones,\n",
        "\n",
        "\n",
        "\n",
        "$$\n",
        "\\begin{matrix}\n",
        "x' &=& 2x&-y&+z, \\\\\n",
        "y' &=&   &3y&-1z, \\\\\n",
        "z' &=& 2x&+y&+3z,\n",
        "\\end{matrix}\n",
        "$$\n",
        "\n",
        "donde $x',y',z'$ son las derivadas, en forma vectorial esto se puede representar como $\\mathbf{r}'=A\\mathbf{r}$ que tiene solución analítica general, $\\mathbf{r} = e^{At} \\mathbf{r}(0)$.<br> \n",
        "a) Diagonalize $A$.<br> \n",
        "\n",
        "b) Use el hecho de que $f(A) = U f(D) U^{-1}$ para encontrar $x(t),y(t),z(t)$ en el intervalo de tiempo $[0,2]$.<br>\n",
        "c) Grafique $x(t),y(t),z(t)$ (use la condición inicial $\\mathbf{r}(0)=(1,1,2))$.<br> \n",
        "d) Compare el resultado a la solución analítica,\n",
        "\n",
        "$$\n",
        "\\begin{align}\n",
        "2x & = x(0)(e^{2t}(1+e^{2t}-2t)) + y(0) (-2te^{2t}) + z(0)(e^{2t}(-1+e^{2t})), \\\\\n",
        "2y & = x(0)(-e^{2t}(-1+e^{2t}-2t)) + y(0)(2(t+1)e^{2t}) + z(0)(-e^{2t}(-1+e^{2t})), \\\\\n",
        "2z & = x(0)(e^{2t}(-1+e^{2t}+2t)) + y(0)(2te^{2t}) + z(0)(e^{2t}(1+e^{2t})).\n",
        "\\end{align}\n",
        "$$\n",
        "\n",
        "2.Un proceso para encriptar un mensaje secreto es usar cierta matrix cuadrada cuyos elementos son enteros con elementos enteros en la inversa. Se recibe un mensaje, se asigna un número a cada letra Por ejemplo, A=1, B=2, C=3, ... etc y espacio=27), se arreglan los números en una matriz de izquierda a derecha en cada fila, donde el número de elementos en la fila es igual al tamano de la matriz de codigo, se multiplica esa matriz por la matriz de código por la derecha, se transcribe el mensaje en una cadena de números y se manda el mensaje. \n",
        "\n",
        "La persona que debe recibir el mensaje conoce la matriz de codigo. El o ellla arrelgan el mensaje encriptado en una matriz de izquierda a derecha en cada fila, en donde el numero de elementos en una fila conicide con el tamano de la matriz de codigo muplicada por la derecha, por el inverso de la matriz de código y puede leer mensaje decodificado.\n",
        "\n",
        "Usted a recibido el siguiente mensaje que fue encriptado usando la matriz A. Decodifiquelo.\n",
        "\n",
        "```\n",
        "A = matrix([[ 1,  2, -3,  4,  5],\n",
        "        [-2, -5,  8, -8, -9],\n",
        "        [ 1,  2, -2,  7,  9],\n",
        "        [ 1,  1,  0,  6, 12],\n",
        "        [ 2,  4, -6,  8, 11]])\n",
        "```\n",
        "\n",
        "Mensaje\n",
        "\n",
        "47,49,-19,257,487,10,-9,63,137,236, 79,142,-184,372,536,59,70,-40,332,588, \n",
        "\n",
        "la primera fila del mensaje es 47,49,-19,257,487\n",
        "\n",
        "¿Cual es el mensaje?\n",
        "\n",
        "\n",
        "```\n",
        "abc=['A','B','C','D','E','F','G','H','I','J','K','L','M','N','O','P','Q','R','S','T','U','V','W','X','Y','Z',' ']\n",
        "num=['1','2','3','4','5','6','7','8','9','10','11','12','13','14','15','16','17','18','19','20','21','22','23','24','25','26','27']\n",
        "```\n",
        "\n",
        "3.Construir un programa que permita realizar la multiplicacion de dos matrices. El programa debe establecer si las matrices se pueden multiplicar.\n",
        "\n",
        "\n"
      ]
    },
    {
      "cell_type": "code",
      "metadata": {
        "id": "SMCSk5LSBiJr"
      },
      "source": [
        "# Bibliotecas.\n",
        "import numpy as np\n",
        "import scipy.linalg as la\n",
        "import matplotlib.pylab as plt"
      ],
      "execution_count": 19,
      "outputs": []
    },
    {
      "cell_type": "markdown",
      "metadata": {
        "id": "-yokygHmCD2q"
      },
      "source": [
        "## Solución 1."
      ]
    },
    {
      "cell_type": "code",
      "metadata": {
        "colab": {
          "base_uri": "https://localhost:8080/"
        },
        "id": "s6EMPZI7Bl8R",
        "outputId": "22fc8d2c-0ebc-4409-ce16-4cde679a0fed"
      },
      "source": [
        "# Matrix A\n",
        "x1 = np.array([2, -1, 1])\n",
        "x2 = np.array([0, 3, -1])\n",
        "x3 = np.array([2, 1, 3])\n",
        "\n",
        "A = np.asmatrix([x1, x2, x3])\n",
        "\n",
        "#Vectires y valores propios.\n",
        "E, U = la.eig(A)\n",
        "\n",
        "#Matriz de autovectores.\n",
        "U = np.asmatrix(U)\n",
        "\n",
        "# Matriz diagonal A\n",
        "D_A = U.I @ (A @ U)\n",
        "D_A.round()"
      ],
      "execution_count": 20,
      "outputs": [
        {
          "output_type": "execute_result",
          "data": {
            "text/plain": [
              "matrix([[ 4.-0.j, -0.+0.j, -0.+0.j],\n",
              "        [-0.-0.j,  2.+0.j,  0.-0.j],\n",
              "        [-0.+0.j,  0.+0.j,  2.-0.j]])"
            ]
          },
          "metadata": {},
          "execution_count": 20
        }
      ]
    },
    {
      "cell_type": "code",
      "metadata": {
        "id": "0X5pHQwcJTYx"
      },
      "source": [
        " # Elementos diagonales en el tiempo t, función lambda.\n",
        " f = lambda t : np.exp(E*t)"
      ],
      "execution_count": 21,
      "outputs": []
    },
    {
      "cell_type": "code",
      "metadata": {
        "colab": {
          "base_uri": "https://localhost:8080/",
          "height": 300
        },
        "id": "s0VZueWGQfDo",
        "outputId": "63c1985d-bdd2-48a0-aa62-8cdb1e10ceba"
      },
      "source": [
        "# Función para hallar los elementos x(t), y(t), z(t)\n",
        "def x_y_z(t):\n",
        "  r0 = np.array([1,1,2])\n",
        "  Diagonal = np.diag(f(t),0)\n",
        "  F_A = U@(Diagonal@U.I)\n",
        "  F_A.round()\n",
        "  r = F_A@r0\n",
        "  return r.real\n",
        "\n",
        "# Valores de x(t), y(t), z(t) en un intervalo [0,2]\n",
        "\n",
        "x_values = []\n",
        "y_values = []\n",
        "z_values = []\n",
        "interval = np.linspace(0, 2, 100)\n",
        "\n",
        "# interar para encontrar los valores.\n",
        "for t in interval:\n",
        "  k = 0\n",
        "  k = np.array(x_y_z(t))\n",
        "  x_values.append(k[0][0])\n",
        "  y_values.append(k[0][1])\n",
        "  z_values.append(k[0][2])\n",
        "  \n",
        "# Graficas \n",
        "plt.figure(figsize=(20, 4))\n",
        "plt.subplot(131)\n",
        "plt.plot(interval, x_values, \"b\")\n",
        "plt.title(r\"$x(t)~vs~t$\")\n",
        "plt.xlabel(r\"$t~(s)$\")\n",
        "plt.ylabel(r\"$x(t)$\")\n",
        "plt.subplot(132)\n",
        "plt.plot(interval,y_values,\"r\")\n",
        "plt.title(r\"$y(t)~vs~t$\")\n",
        "plt.xlabel(r\"$t~(s)$\")\n",
        "plt.ylabel(r\"$y(t)$\")\n",
        "plt.subplot(133)\n",
        "plt.plot(interval,z_values, \"g\")\n",
        "plt.title(r\"$z(t)~vs~t$\")\n",
        "plt.xlabel(r\"$t~(s)$\")\n",
        "plt.ylabel(r\"$z(t)$\")\n",
        "plt.show()"
      ],
      "execution_count": 22,
      "outputs": [
        {
          "output_type": "display_data",
          "data": {
            "image/png": "[encoded data removed]",
            "text/plain": [
              "<Figure size 1440x288 with 3 Axes>"
            ]
          },
          "metadata": {
            "needs_background": "light"
          }
        }
      ]
    },
    {
      "cell_type": "markdown",
      "metadata": {
        "id": "OeMy7bxwed9s"
      },
      "source": [
        "#### Comparar con solucion analitica.\n",
        "\n",
        "\\begin{align}\n",
        "2x & = x(0)(e^{2t}(1+e^{2t}-2t)) + y(0) (-2te^{2t}) + z(0)(e^{2t}(-1+e^{2t})), \\\\\n",
        "2y & = x(0)(-e^{2t}(-1+e^{2t}-2t)) + y(0)(2(t+1)e^{2t}) + z(0)(-e^{2t}(-1+e^{2t})), \\\\\n",
        "2z & = x(0)(e^{2t}(-1+e^{2t}+2t)) + y(0)(2te^{2t}) + z(0)(e^{2t}(1+e^{2t})).\n",
        "\\end{align}"
      ]
    },
    {
      "cell_type": "code",
      "metadata": {
        "colab": {
          "base_uri": "https://localhost:8080/",
          "height": 300
        },
        "id": "VbgHQ58lej9C",
        "outputId": "9ada505e-a3be-4f46-f132-5f829b208e07"
      },
      "source": [
        "\n",
        "#Funcion lambda para la forma analitica de x.\n",
        "f_x = lambda t: (((np.e**( 2*t))*(1+(np.e**(2*t) ) - 2*t)) + (-2*t*(np.e**( 2*t))) + 2*(np.e**( 2*t))*(-1+(np.e**( 2*t))))/2\n",
        "\n",
        "#Funcion lambda para la forma analitica de y.\n",
        "f_y = lambda t: (((-np.e**( 2*t))*(-1+(np.e**( 2*t)) - 2*t)) + (2*(t+1)*(np.e**( 2*t))) + 2*(-np.e**(2*t))*(-1+(np.e**( 2*t))))/2\n",
        "\n",
        "#Funcion lambda para la forma analitica de z.\n",
        "f_z = lambda t: (((np.e**( 2*t))*(-1+(np.e**( 2*t)) - 2*t)) + (2*t*(np.e**( 2*t))) + 2*(np.e**(2*t))*(1+(np.e**( 2*t))))/2\n",
        "\n",
        "# Graficas \n",
        "plt.figure(figsize=(20, 4))\n",
        "plt.subplot(131)\n",
        "plt.plot(interval, f_x(interval), \"b\")\n",
        "plt.title(r\"$x(t)~vs~t$\")\n",
        "plt.xlabel(r\"$t~(s)$\")\n",
        "plt.ylabel(r\"$x(t)$\")\n",
        "plt.subplot(132)\n",
        "plt.plot(interval, f_y(interval), \"r\")\n",
        "plt.title(r\"$y(t)~vs~t$\")\n",
        "plt.xlabel(r\"$t~(s)$\")\n",
        "plt.ylabel(r\"$y(t)$\")\n",
        "plt.subplot(133)\n",
        "plt.plot(interval, f_z(interval), \"g\")\n",
        "plt.title(r\"$z(t)~vs~t$\")\n",
        "plt.xlabel(r\"$t~(s)$\")\n",
        "plt.ylabel(r\"$z(t)$\")\n",
        "plt.show()\n"
      ],
      "execution_count": 23,
      "outputs": [
        {
          "output_type": "display_data",
          "data": {
            "image/png": "[encoded data removed]",
            "text/plain": [
              "<Figure size 1440x288 with 3 Axes>"
            ]
          },
          "metadata": {
            "needs_background": "light"
          }
        }
      ]
    },
    {
      "cell_type": "markdown",
      "metadata": {
        "id": "JhcZseETlXIj"
      },
      "source": [
        "#Solución 2.\n",
        "\n",
        "2.Un proceso para encriptar un mensaje secreto es usar cierta matrix cuadrada cuyos elementos son enteros con elementos enteros en la inversa. Se recibe un mensaje, se asigna un número a cada letra Por ejemplo, A=1, B=2, C=3, ... etc y espacio=27), se arreglan los números en una matriz de izquierda a derecha en cada fila, donde el número de elementos en la fila es igual al tamano de la matriz de codigo, se multiplica esa matriz por la matriz de código por la derecha, se transcribe el mensaje en una cadena de números y se manda el mensaje. \n",
        "\n",
        "La persona que debe recibir el mensaje conoce la matriz de codigo. El o ellla arrelgan el mensaje encriptado en una matriz de izquierda a derecha en cada fila, en donde el numero de elementos en una fila conicide con el tamano de la matriz de codigo muplicada por la derecha, por el inverso de la matriz de código y puede leer mensaje decodificado.\n",
        "\n",
        "Usted a recibido el siguiente mensaje que fue encriptado usando la matriz A. Decodifiquelo.\n",
        "\n",
        "```\n",
        "A = matrix([[ 1,  2, -3,  4,  5],\n",
        "        [-2, -5,  8, -8, -9],\n",
        "        [ 1,  2, -2,  7,  9],\n",
        "        [ 1,  1,  0,  6, 12],\n",
        "        [ 2,  4, -6,  8, 11]])\n",
        "```\n",
        "\n",
        "Mensaje\n",
        "\n",
        "47,49,-19,257,487,10,-9,63,137,236, 79,142,-184,372,536,59,70,-40,332,588, \n",
        "\n",
        "la primera fila del mensaje es 47,49,-19,257,487\n",
        "\n",
        "¿Cual es el mensaje?\n",
        "\n",
        "\n",
        "```\n",
        "abc=['A','B','C','D','E','F','G','H','I','J','K','L','M','N','O','P','Q','R','S','T','U','V','W','X','Y','Z',' ']\n",
        "num=['1','2','3','4','5','6','7','8','9','10','11','12','13','14','15','16','17','18','19','20','21','22','23','24','25','26','27']\n",
        "```"
      ]
    },
    {
      "cell_type": "code",
      "metadata": {
        "colab": {
          "base_uri": "https://localhost:8080/"
        },
        "id": "wXoZQSdhlaZ7",
        "outputId": "d6493b0e-e85c-4e55-fc18-fe57fc5f42fc"
      },
      "source": [
        "# Matriz de encriptación.\n",
        "A = [[ 1,  2, -3,  4,  5],\n",
        "        [-2, -5,  8, -8, -9],\n",
        "        [ 1,  2, -2,  7,  9],\n",
        "        [ 1,  1,  0,  6, 12],\n",
        "        [ 2,  4, -6,  8, 11]]\n",
        "\n",
        "A = np.asmatrix(A)\n",
        "A"
      ],
      "execution_count": 24,
      "outputs": [
        {
          "output_type": "execute_result",
          "data": {
            "text/plain": [
              "matrix([[ 1,  2, -3,  4,  5],\n",
              "        [-2, -5,  8, -8, -9],\n",
              "        [ 1,  2, -2,  7,  9],\n",
              "        [ 1,  1,  0,  6, 12],\n",
              "        [ 2,  4, -6,  8, 11]])"
            ]
          },
          "metadata": {},
          "execution_count": 24
        }
      ]
    },
    {
      "cell_type": "code",
      "metadata": {
        "colab": {
          "base_uri": "https://localhost:8080/"
        },
        "id": "0A6jT4RtouTj",
        "outputId": "1498496b-3cb7-42d5-cd37-17223908c4ee"
      },
      "source": [
        "# Matriz codigo.\n",
        "C = [[47 ,49 ,-19 ,257 ,487],\n",
        "     [10, -9, 63, 137, 236],\n",
        "     [79, 142, -184, 372, 536],\n",
        "     [59, 70, -40, 332, 588]]\n",
        "\n",
        "C = np.asmatrix(C)\n",
        "C"
      ],
      "execution_count": 25,
      "outputs": [
        {
          "output_type": "execute_result",
          "data": {
            "text/plain": [
              "matrix([[  47,   49,  -19,  257,  487],\n",
              "        [  10,   -9,   63,  137,  236],\n",
              "        [  79,  142, -184,  372,  536],\n",
              "        [  59,   70,  -40,  332,  588]])"
            ]
          },
          "metadata": {},
          "execution_count": 25
        }
      ]
    },
    {
      "cell_type": "code",
      "metadata": {
        "colab": {
          "base_uri": "https://localhost:8080/"
        },
        "id": "VIbL71pqouma",
        "outputId": "bc2f8791-5e0e-45a1-cfc8-8fd22317358d"
      },
      "source": [
        "# Mensaje.\n",
        "M = C@(A.I)\n",
        "M"
      ],
      "execution_count": 26,
      "outputs": [
        {
          "output_type": "execute_result",
          "data": {
            "text/plain": [
              "matrix([[ 1., 18.,  5., 27., 25.],\n",
              "        [15., 21., 27.,  8.,  1.],\n",
              "        [22.,  9., 14.,  7., 27.],\n",
              "        [ 6., 21., 14., 27., 27.]])"
            ]
          },
          "metadata": {},
          "execution_count": 26
        }
      ]
    },
    {
      "cell_type": "code",
      "metadata": {
        "colab": {
          "base_uri": "https://localhost:8080/"
        },
        "id": "7yWnnasho378",
        "outputId": "82a2360f-659c-4d92-c9ad-05ce65bc3ac7"
      },
      "source": [
        "# Diccionario.\n",
        "abc=['A','B','C','D','E','F','G','H','I','J','K','L','M','N','O','P','Q','R','S','T','U','V','W','X','Y','Z',' ']\n",
        "num=['1','2','3','4','5','6','7','8','9','10','11','12','13','14','15','16','17','18','19','20','21','22','23','24','25','26','27']\n",
        "dicc  = dict(zip(num, abc))\n",
        "\n",
        "dicc"
      ],
      "execution_count": 27,
      "outputs": [
        {
          "output_type": "execute_result",
          "data": {
            "text/plain": [
              "{'1': 'A',\n",
              " '10': 'J',\n",
              " '11': 'K',\n",
              " '12': 'L',\n",
              " '13': 'M',\n",
              " '14': 'N',\n",
              " '15': 'O',\n",
              " '16': 'P',\n",
              " '17': 'Q',\n",
              " '18': 'R',\n",
              " '19': 'S',\n",
              " '2': 'B',\n",
              " '20': 'T',\n",
              " '21': 'U',\n",
              " '22': 'V',\n",
              " '23': 'W',\n",
              " '24': 'X',\n",
              " '25': 'Y',\n",
              " '26': 'Z',\n",
              " '27': ' ',\n",
              " '3': 'C',\n",
              " '4': 'D',\n",
              " '5': 'E',\n",
              " '6': 'F',\n",
              " '7': 'G',\n",
              " '8': 'H',\n",
              " '9': 'I'}"
            ]
          },
          "metadata": {},
          "execution_count": 27
        }
      ]
    },
    {
      "cell_type": "code",
      "metadata": {
        "colab": {
          "base_uri": "https://localhost:8080/"
        },
        "id": "rgWl9f9Eqyic",
        "outputId": "475358a2-c7de-4175-f05c-2530cc7dbdbe"
      },
      "source": [
        "# interable para decodificar.\n",
        "def deco (A):\n",
        "  mensaje = \"\"\n",
        "  A = np.array(A)\n",
        "  for i in A:\n",
        "    for t in i:\n",
        "      mensaje = mensaje + dicc[str(int(round(t,1)))]\n",
        "  return mensaje   \n",
        "\n",
        "# Mensaje\n",
        "print(\"El mensaje decodificado es: \\'{}\\'\".format(str(deco(M))))  \n"
      ],
      "execution_count": 28,
      "outputs": [
        {
          "output_type": "stream",
          "name": "stdout",
          "text": [
            "El mensaje decodificado es: 'ARE YOU HAVING FUN  '\n"
          ]
        }
      ]
    },
    {
      "cell_type": "markdown",
      "metadata": {
        "id": "szZ1sa6pupHz"
      },
      "source": [
        "#Solución 3. \n",
        "\n",
        "3.Construir un programa que permita realizar la multiplicacion de dos matrices. El programa debe establecer si las matrices se pueden multiplicar."
      ]
    },
    {
      "cell_type": "code",
      "metadata": {
        "id": "r10k53-Vwdgr"
      },
      "source": [
        "# Programa para multiplicar dos matrices.\n",
        "\n",
        "def mul_matr(a,b):\n",
        "  a = np.array(a)\n",
        "  b = np.array(b)\n",
        "  r = []\n",
        "  if a.shape[1] != b.shape[0]:\n",
        "    return \"El producto matricial no es compatible\"\n",
        "  else: \n",
        "    for i in range(0, a.shape[0]):\n",
        "      p = []\n",
        "      for j in range(0, b.shape[1]):\n",
        "        p.append(sum([a*b for a,b in zip(a[i], b[:,j])]))\n",
        "      r.append(p)    \n",
        "  return \"El producto es compatible y el resultado es: {}\".format(r)"
      ],
      "execution_count": 29,
      "outputs": []
    },
    {
      "cell_type": "markdown",
      "metadata": {
        "id": "bbNjG6rI3AS_"
      },
      "source": [
        "## Ejemplo 1.\n"
      ]
    },
    {
      "cell_type": "code",
      "metadata": {
        "colab": {
          "base_uri": "https://localhost:8080/",
          "height": 35
        },
        "id": "8Pc5R2MS3DkP",
        "outputId": "330b0567-c1ec-4559-8fa3-4dfbb401ecf1"
      },
      "source": [
        "# Ejemplo matrices compatibles 1.\n",
        "A = [[1, 7, 4],[3, 5, 4],[7, 8, 1]]\n",
        "B = [[5, 0, 1],[10, 6, 2],[3, 4, 5]]\n",
        "\n",
        "mul_matr(A,B)"
      ],
      "execution_count": 30,
      "outputs": [
        {
          "output_type": "execute_result",
          "data": {
            "application/vnd.google.colaboratory.intrinsic+json": {
              "type": "string"
            },
            "text/plain": [
              "'El producto es compatible y el resultado es: [[87, 58, 35], [77, 46, 33], [118, 52, 28]]'"
            ]
          },
          "metadata": {},
          "execution_count": 30
        }
      ]
    },
    {
      "cell_type": "markdown",
      "metadata": {
        "id": "QVpP9S_n3ONf"
      },
      "source": [
        "## Ejemplo 2"
      ]
    },
    {
      "cell_type": "code",
      "metadata": {
        "colab": {
          "base_uri": "https://localhost:8080/",
          "height": 35
        },
        "id": "R0ObioMB3zJu",
        "outputId": "1f3068b5-aefb-41e9-b7bd-39585b539e0d"
      },
      "source": [
        "# Ejemplo matrices compatibles 2.\n",
        "A = [[1, 2, 5], [7, 10, 11], [4, 2, 9]]\n",
        "B = [[1], [3], [7]]\n",
        "\n",
        "mul_matr(A,B)"
      ],
      "execution_count": 31,
      "outputs": [
        {
          "output_type": "execute_result",
          "data": {
            "application/vnd.google.colaboratory.intrinsic+json": {
              "type": "string"
            },
            "text/plain": [
              "'El producto es compatible y el resultado es: [[42], [114], [73]]'"
            ]
          },
          "metadata": {},
          "execution_count": 31
        }
      ]
    },
    {
      "cell_type": "markdown",
      "metadata": {
        "id": "5PzhGL-p4VTU"
      },
      "source": [
        "## Ejemplo 3."
      ]
    },
    {
      "cell_type": "code",
      "metadata": {
        "colab": {
          "base_uri": "https://localhost:8080/",
          "height": 35
        },
        "id": "whdtZEHE4Slu",
        "outputId": "9ae2b865-97bc-4256-cb4a-17db7ecb848b"
      },
      "source": [
        "# Ejemplo matrices no compatibles.\n",
        "A = [[2, 4],[4, 5]]\n",
        "B=  [[2, 4],[7, 8], [6 , 7]]\n",
        "mul_matr(A,B)"
      ],
      "execution_count": 32,
      "outputs": [
        {
          "output_type": "execute_result",
          "data": {
            "application/vnd.google.colaboratory.intrinsic+json": {
              "type": "string"
            },
            "text/plain": [
              "'El producto matricial no es compatible'"
            ]
          },
          "metadata": {},
          "execution_count": 32
        }
      ]
    }
  ]
}