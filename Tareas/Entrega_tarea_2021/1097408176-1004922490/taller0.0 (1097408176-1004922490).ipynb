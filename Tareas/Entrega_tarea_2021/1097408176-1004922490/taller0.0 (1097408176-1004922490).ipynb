{
 "cells": [
  {
   "cell_type": "markdown",
   "metadata": {
    "id": "ckG0HdGCW1xc"
   },
   "source": [
    "Creado por: \n",
    "\n",
    "1.   Cristian Andres Gonsalez Rojas - 1097408176\n",
    "2.   Valentina Rodriguez Hernqandez - 1004922490\n",
    "\n"
   ]
  },
  {
   "cell_type": "markdown",
   "metadata": {
    "id": "FRH6ZoPM4KeX"
   },
   "source": [
    "# Taller 0.0 de métodos computacionales para físicos  y astrónomos\n",
    "\n",
    "\n",
    "\n",
    "## Universidad de Antioquia\n",
    "### Profesor: Hernan D. Salinas Jiménez\n"
   ]
  },
  {
   "cell_type": "markdown",
   "metadata": {
    "id": "3IwaMxgT4Kee"
   },
   "source": [
    "## Taller: Sesion 0.0"
   ]
  },
  {
   "cell_type": "markdown",
   "metadata": {
    "id": "SV5BAn7x4Kef"
   },
   "source": [
    "## Unidad 1: \n",
    "\n",
    "Contenido Actitudinal: Observar como el computador produce errores en los cálculos. El computador no maneja infinitas cifras decimales.\n",
    "\n",
    "- Repaso breve del Python\n",
    "- Estructura básica de un programa en Python.\n",
    "- Numpy y rutinas de graficación.\n",
    "- Operaciones aritméticas con reales y complejos.\n",
    "- Números aleatorios, método del congruente lineal y problemas.\n",
    "- Errores: redondeo, truncamiento, sustracción cancelativa, precisiónde la máquina.\n",
    "- Algoritmos"
   ]
  },
  {
   "cell_type": "markdown",
   "metadata": {
    "id": "dgZqZVpe4Kef"
   },
   "source": [
    "## Instrucciones de entrega\n",
    "\n",
    "\n",
    "\n",
    "\n",
    "\n",
    "\n"
   ]
  },
  {
   "cell_type": "markdown",
   "metadata": {
    "id": "J6GPf6qe4Keg"
   },
   "source": [
    "## Problemas\n",
    "1. Elaborar un algoritmo e implementar en python, el factorial de un número entero `n` ingresado por el usuario.\n",
    "     ### Ejemplo de Ejecución\n",
    "    ```python\n",
    "\n",
    "    >>> factorial(3)\n",
    "        6\n",
    "\n",
    "    >>> factorial(1987123)\n",
    "        =???\n",
    "```\n"
   ]
  },
  {
   "cell_type": "code",
   "execution_count": 6,
   "metadata": {
    "colab": {
     "base_uri": "https://localhost:8080/"
    },
    "id": "2opv_clSQDJp",
    "outputId": "a9fbd598-031e-4bce-9bc8-debb81f13b75"
   },
   "outputs": [
    {
     "name": "stdout",
     "output_type": "stream",
     "text": [
      "Ingrese un número natural: \n"
     ]
    },
    {
     "name": "stdin",
     "output_type": "stream",
     "text": [
      " 3\n"
     ]
    },
    {
     "name": "stdout",
     "output_type": "stream",
     "text": [
      "El resultado es: 6\n"
     ]
    }
   ],
   "source": [
    "import math as m\n",
    "\n",
    "# pedir al usuario ingresar un numero natural\n",
    "print(\"Ingrese un número natural: \")\n",
    "n = int(input())\n",
    "\n",
    "# creo una variable guía \n",
    "y=1\n",
    "\n",
    "# crear un ciclo para saber el factorial\n",
    "for i in range(1,n+1,1):\n",
    "  y=y*i\n",
    "\n",
    "# imprimir el resultado\n",
    "print(\"El resultado es:\", y)"
   ]
  },
  {
   "cell_type": "markdown",
   "metadata": {
    "id": "9-JZw0Do4Keg"
   },
   "source": [
    "2. Diseñar un programa que lea dos numero `a` y `b` y diga que tipo de numero son, de a cuerdo a la siguiente clasificación:\n",
    "\n",
    " >- [Números defectivos](https://es.wikipedia.org/wiki/Número_defectivo) : la suma de los divisores propios es menor que el número.\n",
    " >- [Números abundantes](https://es.wikipedia.org/wiki/Número_abundante): la suma de los divisores es mayor que el número.\n",
    " >- [Números amigos](https://es.wikipedia.org/wiki/N%C3%BAmeros_amigos) `a` y `b` tales que a es la suma de los divisores propios de `b` y viceversa.\n",
    " >- [Números semiperfectos](https://es.wikipedia.org/wiki/N%C3%BAmero_semiperfecto) la suma de todos o algunos de los divisores propios es igual al número.\n",
    " >- [Números perfectos](https://es.wikipedia.org/wiki/N%C3%BAmero_perfecto) la suma de todos sus divisores propios, excepto el mismo numero, es igual al número.\n",
    " >- [Números primos](https://es.wikipedia.org/wiki/N%C3%BAmero_primo) el número es divisible unicamente por sí mismo y por 1.\n",
    " "
   ]
  },
  {
   "cell_type": "markdown",
   "metadata": {
    "id": "cARSuKs_4Keh"
   },
   "source": [
    " ### Ejemplo de Ejecución\n",
    "``` python\n",
    "\n",
    "    >>> clase_numero(a = 220, b =  284)\n",
    "        a = 220 y b = 284 son números amigos\n",
    "\n",
    "    >>> clase_numero(a = 24, b = 12 )\n",
    "        a = 24 es un numero abudante y b = 12 es un número defectivo. \n",
    "```\n"
   ]
  },
  {
   "cell_type": "code",
   "execution_count": 7,
   "metadata": {
    "colab": {
     "base_uri": "https://localhost:8080/"
    },
    "id": "im9qROpHLIRW",
    "outputId": "02aec88c-ca51-48bf-8b0a-ee824bb95bfa"
   },
   "outputs": [
    {
     "name": "stdin",
     "output_type": "stream",
     "text": [
      "Ingrese un número:  3\n",
      "Ingrese un número:  3\n"
     ]
    },
    {
     "name": "stdout",
     "output_type": "stream",
     "text": [
      "\n",
      "El número 3 es:\n",
      "-> defectivo\n",
      "-> primo\n",
      "\n",
      "El número 3 es:\n",
      "-> defectivo\n",
      "-> primo\n"
     ]
    }
   ],
   "source": [
    "import math\n",
    "\n",
    "# pedir al usuario que ingrese el numero A y B\n",
    "A = int(input(\"Ingrese un número: \"))\n",
    "B = int(input(\"Ingrese un número: \"))\n",
    "\n",
    "# Función divisor ########################\n",
    "def divp(n):\n",
    "    a = n//2   # División entera\n",
    "    div = []   # divisores\n",
    "    \n",
    "    div.append(1)\n",
    "    for i in range(2, a+1, 1):\n",
    "        x = n%i\n",
    "        if x==0: div.append(i)\n",
    "    \n",
    "    suma = sum(div)\n",
    "    \n",
    "    return div, suma\n",
    "\n",
    "# Función para comprobar si el número es semiperfecto o no\n",
    "def check(n):\n",
    "    v = []\n",
    "    v, s = divp(n)   # find the divisors\n",
    "    r = len(v)\n",
    " \n",
    "    # subconjunto para comprobar si no es semiperfecto\n",
    "    subset = [[ 0 for i in range(n + 1)]\n",
    "                  for j in range(r + 1)]\n",
    " \n",
    "    # inicializando la 1ra columna a verdadera\n",
    "    for i in range(r + 1):\n",
    "        subset[i][0] = True\n",
    " \n",
    "    # inicializando la 1ra fila excepto la posición cero a 0\n",
    "    for i in range(1, n + 1):\n",
    "        subset[0][i] = False\n",
    " \n",
    "    # bucle para encontrar si el número es semiperfecto\n",
    "    for i in range(1, r + 1):\n",
    "        for j in range(1, n + 1):\n",
    " \n",
    "            # cálculo para comprobar si el número se puede hacer mediante la suma de divisores\n",
    "            if (j < v[i - 1]):\n",
    "                subset[i][j] = subset[i - 1][j];\n",
    "            else:\n",
    "                subset[i][j] = (subset[i - 1][j] or\n",
    "                                subset[i - 1][j - v[i - 1]])\n",
    " \n",
    "    # si no es posible hacer el número mediante cualquier combinación de divisores\n",
    "    if ((subset[r][n]) == 0):\n",
    "        return False\n",
    "    else:\n",
    "        return True\n",
    " \n",
    "def semiperfecto(n):\n",
    "  if (check(n)):\n",
    "    print(\"-> semiperfecto\")\n",
    "\n",
    "# Función para determinar qué tipo de número es ###################\n",
    "\n",
    "def type_n(n):\n",
    "  div, suma = divp(n)   # Divisores propios y la suma de estos\n",
    "  print('\\nEl número %s es:' %n)\n",
    "  if suma<n: \n",
    "    print('-> defectivo')\n",
    "  if suma>n:\n",
    "    print('-> abundante')\n",
    "  if suma == n:\n",
    "    print('-> perfecto')\n",
    "  if suma == 1:\n",
    "    print('-> primo')\n",
    "  semiperfecto(n)\n",
    "\n",
    "def numeros_amigos(x, y):\n",
    "  divx, sx = divp(x)\n",
    "  divy, sy = divp(y)\n",
    "  if sx == y and sy == x:\n",
    "    print('\\nLos números %s y %s son números amigos' %(sx, sy))\n",
    "\n",
    "# Probamos con A y B\n",
    "type_n(A)\n",
    "type_n(B)\n",
    "numeros_amigos(A, B)"
   ]
  },
  {
   "cell_type": "markdown",
   "metadata": {
    "id": "45A4RWSm4Keh"
   },
   "source": [
    "3. Determine si un número `n` entero ingresado por el usuario es un [palíndromo](https://en.wikipedia.org/wiki/Palindromic_number), (Retorne `True` en caso afirmativo y `False` en caso contrario) \n",
    "\n",
    "```python\n",
    "\n",
    "\n",
    "    >>> palindromo(3333333)\n",
    "        True\n",
    "\n",
    "    >>> palindromo(2323)\n",
    "        True\n",
    "        \n",
    "    >>> palindromo(1111349111111)\n",
    "        False\n",
    "```\n",
    "\n",
    "\n"
   ]
  },
  {
   "cell_type": "code",
   "execution_count": 9,
   "metadata": {
    "colab": {
     "base_uri": "https://localhost:8080/"
    },
    "id": "qPMrDplwwTfr",
    "outputId": "84de3a70-99a3-498a-a53f-4c9d39d3ca43"
   },
   "outputs": [
    {
     "name": "stdin",
     "output_type": "stream",
     "text": [
      "Ingrese un numero  3\n"
     ]
    },
    {
     "name": "stdout",
     "output_type": "stream",
     "text": [
      "true\n"
     ]
    }
   ],
   "source": [
    "x=str(input(\"Ingrese un numero \"))\n",
    "if x==x[::-1]:\n",
    "  print(\"true\")\n",
    "else: \n",
    "  print(\"False\")"
   ]
  },
  {
   "cell_type": "markdown",
   "metadata": {
    "id": "bmQYQxjX4Keh"
   },
   "source": [
    "### 4. Dada una cadena de caracteres, entregar una lista donde se retorne:\n",
    ">- en la primera casilla: `True` si el caracter del medio es una vocal, `False` en caso contrario \n",
    ">- en la segunda: el numero de vocales en la cadena\n",
    ">- en la tercera: el numero de consonantes\n",
    ">- en la ultima: la cadena de caracteres invertida (ej: perro, orrep)\n",
    "\n",
    "### Ejemplo de Ejecución\n",
    "```python\n",
    "\n",
    ">>> cadena(s ='perro')\n",
    "[False, 2, 3, 'orrep']\n",
    "\n",
    ">>> cadena(s ='murcielago')\n",
    "[True, 5, 5, 'ogaleicrum']\n",
    "\n",
    "```\n"
   ]
  },
  {
   "cell_type": "code",
   "execution_count": 10,
   "metadata": {
    "colab": {
     "base_uri": "https://localhost:8080/"
    },
    "id": "ZcLsOu9P0ytY",
    "outputId": "2be42409-9b6f-40a3-99e7-ee9188216185"
   },
   "outputs": [
    {
     "name": "stdin",
     "output_type": "stream",
     "text": [
      "Ingrese una cadena de caracteres  3\n"
     ]
    },
    {
     "name": "stdout",
     "output_type": "stream",
     "text": [
      "['false', 0, 0, '3']\n"
     ]
    }
   ],
   "source": [
    "#pedir al usiario que ingrese una cadena de caracteres \n",
    "x=str(input(\"Ingrese una cadena de caracteres \"))\n",
    "#para saber la mitad de la oracion \n",
    "y=len(x)//2\n",
    "#para saber la letra que esta en el medio\n",
    "z=x[y]\n",
    "#creo una lista con las vocales y consonantes \n",
    "vocales = [\"a\",\"e\",\"i\",\"o\",\"u\"]\n",
    "consonantes = \"bcdfghjklmnñpqrstvwxyz\"\n",
    "#para saber el numero de vocales que hay en una cadena \n",
    "numero_vocales=[]\n",
    "numero_consonantes=[]\n",
    "#para imprimir el resultado\n",
    "lista=[]\n",
    "#para el primer punto\n",
    "if z in vocales:\n",
    "  lista.append(\"true\")\n",
    "else:\n",
    "  lista.append(\"false\")\n",
    "#para el segundo punto \n",
    "for i in x:\n",
    "  if i in vocales:\n",
    "    numero_vocales.append(\"i\")\n",
    "h=len(numero_vocales)\n",
    "lista.append(h)\n",
    "#para el tercer punto \n",
    "for i in x:\n",
    "  if i in consonantes:\n",
    "    numero_consonantes.append(\"i\")\n",
    "k=len(numero_consonantes)\n",
    "lista.append(k)\n",
    "#para el cuarto punto\n",
    "invertida = x[::-1]\n",
    "lista.append(invertida)\n",
    "#imprimir el resultado\n",
    "print(lista)"
   ]
  },
  {
   "cell_type": "markdown",
   "metadata": {
    "id": "Z6rU_h_q4Kei"
   },
   "source": [
    "\n",
    "5. Elabore un método para calcular el n-ésimo término de la sucesión de fibonacci: \n",
    "\n",
    "$$ f_n = f_{n-1}+f_{n-2}$$\n",
    "\n",
    "Donde $$f_0=0 \\:\\:\\text{ y }\\:\\:f_1=1 $$ así:   $$f_2=1+0=1$$ $$f_3=1+1=2$$  $$f_4=2+1=3$$ y así sucesivamente\n",
    "\n",
    "### Ejemplo de Ejecución\n",
    "```python\n",
    "\n",
    ">>> fibonacci(50)\n",
    "12586269025\n",
    "\n",
    ">>> fibonacci(63)\n",
    "6557470319842\n",
    "```\n"
   ]
  },
  {
   "cell_type": "code",
   "execution_count": 11,
   "metadata": {
    "colab": {
     "base_uri": "https://localhost:8080/"
    },
    "id": "UvsDi0Mw1vUs",
    "outputId": "6290971e-66f5-49ab-f9ef-be37d258c709"
   },
   "outputs": [
    {
     "name": "stdin",
     "output_type": "stream",
     "text": [
      "Ingrese en numero de repeticiones de la serie de fibonacci: 3\n"
     ]
    },
    {
     "name": "stdout",
     "output_type": "stream",
     "text": [
      "2\n"
     ]
    }
   ],
   "source": [
    "n=int(input(\"Ingrese en numero de repeticiones de la serie de fibonacci:\"))\n",
    "\n",
    "A=0\n",
    "B=1\n",
    "C=0\n",
    "if n < 2:\n",
    "    print(n)\n",
    "elif n==2:\n",
    "  print(\"1\")\n",
    "else:\n",
    "    for i in range(2,n+1,1):\n",
    "        C=A+B\n",
    "        A=B\n",
    "        B=C\n",
    "  \n",
    "    print(C)"
   ]
  },
  {
   "cell_type": "markdown",
   "metadata": {
    "id": "1Aezlw_x4Kei"
   },
   "source": [
    "\n",
    "6. Entrar un arreglo de números y ordenarlos de forma ascendente, Ver algoritmo\n",
    "[Quicksort](https://es.wikipedia.org/wiki/Quicksort). \n",
    "\n",
    "\n",
    "```python\n",
    "\n",
    "\n",
    "<<< v = [22, 32, 42, 12, 22, 31, 41, 11, 12, 232, 24, 12, 22]\n",
    "<<< def quicksort(v):\n",
    "\n",
    "<<<     return v\n",
    "<<< w = print(quicksort(v))\n",
    "<<< [11, 12, 12, 12, 22, 22, 22, 24, 31, 32, 41, 42, 232]\n",
    "\n",
    "```\n",
    "\n",
    "Sólo para comprobar tu código,  puedes hacer uso del comando sort de python. \n",
    "```python\n",
    "<<< b = [22, 32, 42, 12, 22, 31, 41, 11, 12, 232, 24, 12, 22]\n",
    "\n",
    "<<< print(b.sort())\n",
    "\n",
    "<<< [11, 12, 12, 12, 22, 22, 22, 24, 31, 32, 41, 42, 232]\n",
    "```"
   ]
  },
  {
   "cell_type": "code",
   "execution_count": null,
   "metadata": {
    "colab": {
     "base_uri": "https://localhost:8080/"
    },
    "id": "nqggq8ybqvFC",
    "outputId": "601b348b-71eb-4383-db03-d4428a59e2a9"
   },
   "outputs": [
    {
     "name": "stdin",
     "output_type": "stream",
     "text": [
      "Ingrese la longitud de la lista a crear:  3\n"
     ]
    },
    {
     "name": "stdout",
     "output_type": "stream",
     "text": [
      "Ingrese el nùmero de la variable 1\n"
     ]
    }
   ],
   "source": [
    "#pedimos la info\n",
    "x=int(input(\"Ingrese la longitud de la lista a crear: \"))\n",
    "lista=[]\n",
    "contador=1\n",
    "\n",
    "#creamos la lista\n",
    "for i in range (1,x+1,1):\n",
    "  print(\"Ingrese el nùmero de la variable\", end=\" \")\n",
    "  print(i)\n",
    "  lista.append(int(input()))\n",
    "\n",
    "#ordenamos la lista\n",
    "while contador<=30:\n",
    "  contador=contador+1\n",
    "  for i in range(0,x-1,1):\n",
    "    if lista[i]>lista[i+1]:\n",
    "      temp=lista[i]\n",
    "      lista[i]=lista[i+1]\n",
    "      lista[i+1]=temp\n",
    "\n",
    "#imprimimos la lista\n",
    "print(lista)"
   ]
  },
  {
   "cell_type": "code",
   "execution_count": null,
   "metadata": {
    "colab": {
     "base_uri": "https://localhost:8080/"
    },
    "id": "DboslecoOphk",
    "outputId": "c57e7283-2be7-4284-c645-edb8627fc887"
   },
   "outputs": [
    {
     "name": "stdout",
     "output_type": "stream",
     "text": [
      "¿cuandos numeros ingresará?5\n",
      "ingrese la entrada numero  1\n",
      "8\n",
      "ingrese la entrada numero  2\n",
      "15\n",
      "ingrese la entrada numero  3\n",
      "-16\n",
      "ingrese la entrada numero  4\n",
      "4\n",
      "ingrese la entrada numero  5\n",
      "3\n",
      "['-16', '15', '3', '4', '8']\n"
     ]
    }
   ],
   "source": [
    "x=int(input(\"¿cuandos numeros ingresará?\"))\n",
    "lista=[]\n",
    "for i in range(1,x+1,1):\n",
    "  print(\"ingrese la entrada numero \",i)\n",
    "  lista.append(input())\n",
    "\n",
    "lista.sort()\n",
    "lista[::-1]\n",
    "print(lista)"
   ]
  },
  {
   "cell_type": "markdown",
   "metadata": {
    "id": "BTj0eQBs4Kej"
   },
   "source": [
    "## REFERENCIAS.\n",
    "[1] Scripts de un curso de python. [Raul Pollan](https://github.com/rramosp/20182.pcomp)  \n",
    "\n",
    "[2] [Fundamenteos de programación](https://sites.google.com/site/funpropoli/ejercicios-practicos)\n",
    "\n",
    "[3] Scripts de un curso de python. [Fernando Perez](https://github.com/fperez)\n"
   ]
  },
  {
   "cell_type": "code",
   "execution_count": null,
   "metadata": {
    "id": "pXmL-G7n4Kej"
   },
   "outputs": [],
   "source": []
  }
 ],
 "metadata": {
  "colab": {
   "collapsed_sections": [],
   "name": "taller000.ipynb",
   "provenance": []
  },
  "kernelspec": {
   "display_name": "Python 3",
   "language": "python",
   "name": "python3"
  },
  "language_info": {
   "codemirror_mode": {
    "name": "ipython",
    "version": 3
   },
   "file_extension": ".py",
   "mimetype": "text/x-python",
   "name": "python",
   "nbconvert_exporter": "python",
   "pygments_lexer": "ipython3",
   "version": "3.8.5"
  }
 },
 "nbformat": 4,
 "nbformat_minor": 4
}
