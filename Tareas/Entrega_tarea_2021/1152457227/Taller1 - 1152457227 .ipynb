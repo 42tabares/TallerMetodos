{
 "cells": [
  {
   "cell_type": "markdown",
   "metadata": {
    "id": "hffbi4-cZGBx"
   },
   "source": [
    "Factorial de un numero"
   ]
  },
  {
   "cell_type": "code",
   "execution_count": null,
   "metadata": {
    "colab": {
     "base_uri": "https://localhost:8080/"
    },
    "id": "yA0bW0K35yvy",
    "outputId": "e34d3dd5-72f2-4e76-d2be-15576e3d23e1"
   },
   "outputs": [
    {
     "name": "stdout",
     "output_type": "stream",
     "text": [
      "calculadora de factorial\n",
      "ingrese un numero entero = 12\n",
      "12 ! = 479001600\n"
     ]
    }
   ],
   "source": [
    "print(\"calculadora de factorial\")\n",
    "x = int (input(\"ingrese un numero entero = \"))\n",
    "\n",
    "E=1\n",
    "for i in range (x):\n",
    "  A=(i+1)\n",
    "  E=E*A\n",
    "print(x,\"! =\",E)"
   ]
  },
  {
   "cell_type": "markdown",
   "metadata": {
    "id": "BY7pnoSsbKfS"
   },
   "source": [
    "Numeros palindromos"
   ]
  },
  {
   "cell_type": "code",
   "execution_count": 140,
   "metadata": {
    "colab": {
     "base_uri": "https://localhost:8080/"
    },
    "id": "5WdYiwvgbKFq",
    "outputId": "ecc7995d-ef95-4de7-fa3e-5f871a1225e4"
   },
   "outputs": [
    {
     "name": "stdout",
     "output_type": "stream",
     "text": [
      "introduzca un numero = 5449846546548456456789798\n",
      "el numero introducido NO es palindromo\n"
     ]
    }
   ],
   "source": [
    "T = list(input(\"introduzca un numero = \"))\n",
    "for i in range(len(T)):\n",
    "  T[i]=int(T[i])\n",
    "\n",
    "R=0\n",
    "for i in range(len(T)//2):\n",
    "    if T[i]==T[-i-1]:\n",
    "      R=R+1 \n",
    "if R==(len(T)//2):\n",
    "  print(\"en numero introducido es palindromo\")\n",
    "else:\n",
    "  print(\"el numero introducido NO es palindromo\")  "
   ]
  },
  {
   "cell_type": "markdown",
   "metadata": {
    "id": "ayK-69oC59uF"
   },
   "source": [
    "Reordenamiento de numeros"
   ]
  },
  {
   "cell_type": "code",
   "execution_count": 150,
   "metadata": {
    "colab": {
     "base_uri": "https://localhost:8080/"
    },
    "id": "vRsdbIxYQ1lz",
    "outputId": "12a699d2-a005-4959-bb10-7a8734667626"
   },
   "outputs": [
    {
     "name": "stdout",
     "output_type": "stream",
     "text": [
      "introduzca la secuencia de numeros que desea ordenar (Ejemplo: 54864145384) = 51456785613486325158632544874353968121587411368311223841\n",
      "[1. 1. 1. 1. 1. 1. 1. 1. 1. 1. 2. 2. 2. 2. 2. 3. 3. 3. 3. 3. 3. 3. 3. 4.\n",
      " 4. 4. 4. 4. 4. 4. 5. 5. 5. 5. 5. 5. 5. 5. 6. 6. 6. 6. 6. 6. 7. 7. 7. 8.\n",
      " 8. 8. 8. 8. 8. 8. 8. 9.]\n"
     ]
    }
   ],
   "source": [
    "import numpy as np\n",
    "\n",
    "C = list(input(\"introduzca la secuencia de numeros que desea ordenar (Ejemplo: 54864145384) = \"))\n",
    "for i in range(len(C)):\n",
    "  C[i]=int(C[i])\n",
    "\n",
    "H=-1\n",
    "L=np.zeros(len(C))\n",
    "for i in range(len(C)):\n",
    "    Hi=H\n",
    "    for j in range(len(C)):\n",
    "      if C[i]>=C[j]:\n",
    "         Hi=Hi+1\n",
    "    while L[Hi]!=0:\n",
    "      Hi=Hi-1\n",
    "    L[Hi]=C[i]  \n",
    "     \n",
    "\n",
    "print(L)\n",
    "\n",
    "\n"
   ]
  }
 ],
 "metadata": {
  "colab": {
   "collapsed_sections": [],
   "name": "Taller1.ipynb",
   "provenance": []
  },
  "kernelspec": {
   "display_name": "Python 3",
   "language": "python",
   "name": "python3"
  },
  "language_info": {
   "codemirror_mode": {
    "name": "ipython",
    "version": 3
   },
   "file_extension": ".py",
   "mimetype": "text/x-python",
   "name": "python",
   "nbconvert_exporter": "python",
   "pygments_lexer": "ipython3",
   "version": "3.8.5"
  }
 },
 "nbformat": 4,
 "nbformat_minor": 4
}
