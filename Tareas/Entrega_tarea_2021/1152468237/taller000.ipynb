{
 "cells": [
  {
   "cell_type": "markdown",
   "metadata": {},
   "source": [
    "Punto 1:"
   ]
  },
  {
   "cell_type": "code",
   "execution_count": 2,
   "metadata": {},
   "outputs": [
    {
     "name": "stdout",
     "output_type": "stream",
     "text": [
      "720\n",
      "3628800\n"
     ]
    }
   ],
   "source": [
    "def  factorial(n):\n",
    "\n",
    "    if n <= 0:\n",
    "\n",
    "        return print  (\"n debe ser mayor o igual a 1\")\n",
    "\n",
    "    elif n == 0:\n",
    "\n",
    "       return  print (1)\n",
    "\n",
    "    else:\n",
    "\n",
    "        total = n\n",
    "\n",
    "        for i in range (1,n):\n",
    "\n",
    "            total = total*(n-i)\n",
    "\n",
    "        return  print (total)\n",
    "\n",
    "\n",
    "factorial (6)\n",
    "\n",
    "factorial (10)"
   ]
  },
  {
   "cell_type": "markdown",
   "metadata": {},
   "source": [
    "Punto 2:"
   ]
  },
  {
   "cell_type": "code",
   "execution_count": 10,
   "metadata": {},
   "outputs": [
    {
     "name": "stdout",
     "output_type": "stream",
     "text": [
      "24 es un número abundante\n",
      "12 es un número abundante\n",
      "\n",
      "220 es un número abundante\n",
      "284 es un número defectivo\n",
      "220 y 284 son números amigos.\n"
     ]
    }
   ],
   "source": [
    "def clase_numero(a,b):\n",
    "\n",
    "    def divisores(n):\n",
    "\n",
    "       div = []\n",
    "\n",
    "       for i in range(1, ((n + 1) // 2) + 1):\n",
    "\n",
    "           if n % i == 0:\n",
    "\n",
    "               div.append(i)\n",
    "\n",
    "       return div\n",
    "\n",
    "    if (a > sum(divisores(a))):\n",
    "        print(\"{} es un número defectivo\".format(a))\n",
    "\n",
    "    elif (a < sum(divisores(a))):\n",
    "        print(\"{} es un número abundante\".format(a))\n",
    "\n",
    "    if (b > sum(divisores(b))):\n",
    "        print(\"{} es un número defectivo\".format(b))\n",
    "\n",
    "    elif (b < sum(divisores(b))):\n",
    "        print(\"{} es un número abundante\".format(b))\n",
    "\n",
    "    if (a == sum(divisores(b)) and b == sum(divisores(a))):\n",
    "        print(\"{} y {} son números amigos.\".format(a,b))\n",
    "\n",
    "    if (a == sum(divisores(a))):\n",
    "        print(\"{} es un número perfecto.\".format(a))\n",
    "\n",
    "    if (b == sum(divisores(b))):\n",
    "        print(\"{} es un número perfecto.\".format(b))\n",
    "\n",
    "    if (1 == sum(divisores(a))):\n",
    "        print(\"{} es un número primo.\".format(a))\n",
    "\n",
    "    if (1 == sum(divisores(b))):\n",
    "        print(\"{} es un número primo.\".format(b))\n",
    "\n",
    "clase_numero(24,12)\n",
    "print (\"\")       \n",
    "clase_numero(220,284)"
   ]
  },
  {
   "cell_type": "markdown",
   "metadata": {},
   "source": [
    "Punto 3:"
   ]
  },
  {
   "cell_type": "code",
   "execution_count": 3,
   "metadata": {},
   "outputs": [
    {
     "name": "stdout",
     "output_type": "stream",
     "text": [
      "True\n",
      "False\n",
      "False\n"
     ]
    }
   ],
   "source": [
    "def palindromo (n):\n",
    "\n",
    "    pali = str(n)\n",
    "\n",
    "    return print (pali == pali[::-1])\n",
    "\n",
    "\n",
    "palindromo(3333333)\n",
    "\n",
    "palindromo(2323)\n",
    "\n",
    "palindromo(1111349111111)\n"
   ]
  },
  {
   "cell_type": "markdown",
   "metadata": {},
   "source": [
    "Punto 4:"
   ]
  },
  {
   "cell_type": "code",
   "execution_count": 5,
   "metadata": {},
   "outputs": [
    {
     "name": "stdout",
     "output_type": "stream",
     "text": [
      "[False, 2, 3, 'orrep']\n",
      "[True, 5, 5, 'ogaleicrum']\n"
     ]
    }
   ],
   "source": [
    "def cadena (n):\n",
    "\n",
    "    palabra = str.lower(n)\n",
    "\n",
    "    cadena_resultado = []\n",
    "\n",
    "    longitud_n = len(n)\n",
    "\n",
    "    if longitud_n % 2 == 0:\n",
    "\n",
    "        numero_caracter_medio = (longitud_n // 2)\n",
    "\n",
    "    else:\n",
    "        numero_caracter_medio = ((longitud_n//2)+1)\n",
    "\n",
    "    caracter_medio = palabra[numero_caracter_medio - 1]\n",
    "\n",
    "    if caracter_medio in (\"a\",\"e\",\"i\",\"o\",\"u\"):\n",
    "\n",
    "        cadena_resultado.append(True)\n",
    "\n",
    "    else:\n",
    "\n",
    "        cadena_resultado.append(False)\n",
    "\n",
    "    numero_de_vocales = 0\n",
    "\n",
    "    for i in range(longitud_n):\n",
    "\n",
    "        if (palabra[i] in (\"a\",\"e\",\"i\",\"o\",\"u\")):\n",
    "\n",
    "            numero_de_vocales += 1\n",
    "\n",
    "    cadena_resultado.append(numero_de_vocales)\n",
    "\n",
    "    numero_de_consonantes = 0\n",
    "\n",
    "    for i in range(longitud_n):\n",
    "\n",
    "        if palabra[i] in (\"b\",\"c\",\"d\",\"f\",\"g\",\"h\",\"j\",\"k\",\"l\",\"m\",\"n\",\"ñ\",\"p\",\"q\",\"r\",\"s\",\"t\",\"v\",\"w\",\"x\",\"y\",\"z\"):\n",
    "\n",
    "            numero_de_consonantes += 1\n",
    "\n",
    "    cadena_resultado.append(numero_de_consonantes)\n",
    "\n",
    "    cadena_resultado.append(palabra[::-1])\n",
    "\n",
    "\n",
    "    return print (cadena_resultado)\n",
    "\n",
    "cadena(\"perro\")\n",
    "\n",
    "cadena(\"murcielago\")"
   ]
  },
  {
   "cell_type": "markdown",
   "metadata": {},
   "source": [
    "Punto 5:"
   ]
  },
  {
   "cell_type": "code",
   "execution_count": 1,
   "metadata": {},
   "outputs": [
    {
     "name": "stdout",
     "output_type": "stream",
     "text": [
      "12586269025\n",
      "6557470319842\n"
     ]
    }
   ],
   "source": [
    "def fibonacci(n):\n",
    "\n",
    "    if n == 0:\n",
    "\n",
    "        return print (0)\n",
    "\n",
    "    elif n == 1:\n",
    "\n",
    "        return print (1)\n",
    "\n",
    "    else:\n",
    "\n",
    "        x_0 = 0\n",
    "        x_1 = 1\n",
    "        x_n = 0\n",
    "        for i in range (1,n):\n",
    "\n",
    "            x_n = x_0 + x_1\n",
    "            x_0 = x_1\n",
    "            x_1 = x_n\n",
    "\n",
    "        return print (x_n)\n",
    "\n",
    "fibonacci(50)\n",
    "\n",
    "fibonacci(63)"
   ]
  },
  {
   "cell_type": "markdown",
   "metadata": {},
   "source": [
    "Punto 6:"
   ]
  },
  {
   "cell_type": "code",
   "execution_count": 3,
   "metadata": {},
   "outputs": [
    {
     "data": {
      "text/plain": [
       "[11, 12, 12, 12, 22, 22, 22, 24, 31, 32, 41, 42, 232]"
      ]
     },
     "execution_count": 3,
     "metadata": {},
     "output_type": "execute_result"
    }
   ],
   "source": [
    "def quicksort(v):\n",
    "\n",
    "    def ordenamiento(v):\n",
    "\n",
    "        for i in range (len(v)):\n",
    "\n",
    "            if v[i] < pivote:\n",
    "\n",
    "                menores.append(v[i])\n",
    "                \n",
    "            elif v[i] == pivote:\n",
    "                \n",
    "                repetidos.append(v[i])\n",
    "\n",
    "            elif v[i] > pivote:\n",
    "\n",
    "                mayores.append(v[i])\n",
    "\n",
    "        return 0\n",
    "\n",
    "\n",
    "    if len(v) <= 1:\n",
    "\n",
    "        return v\n",
    "\n",
    "    else:\n",
    "        menores = []\n",
    "        pivote = v[len(v) - 1]\n",
    "        repetidos = []\n",
    "        mayores = []\n",
    "\n",
    "        ordenamiento(v)\n",
    "\n",
    "        return quicksort(menores) + repetidos + quicksort(mayores)\n",
    "\n",
    "v = [22, 32, 42, 12, 22, 31, 41, 11, 12, 232, 24, 12, 22]\n",
    "\n",
    "quicksort(v)\n",
    "    "
   ]
  },
  {
   "cell_type": "code",
   "execution_count": null,
   "metadata": {},
   "outputs": [],
   "source": []
  }
 ],
 "metadata": {
  "kernelspec": {
   "display_name": "Python 3",
   "language": "python",
   "name": "python3"
  },
  "language_info": {
   "codemirror_mode": {
    "name": "ipython",
    "version": 3
   },
   "file_extension": ".py",
   "mimetype": "text/x-python",
   "name": "python",
   "nbconvert_exporter": "python",
   "pygments_lexer": "ipython3",
   "version": "3.8.5"
  }
 },
 "nbformat": 4,
 "nbformat_minor": 4
}
