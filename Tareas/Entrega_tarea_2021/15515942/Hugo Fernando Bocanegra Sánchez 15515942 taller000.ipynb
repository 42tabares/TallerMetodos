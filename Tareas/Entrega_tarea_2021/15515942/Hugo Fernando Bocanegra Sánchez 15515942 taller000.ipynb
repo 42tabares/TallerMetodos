{
 "cells": [
  {
   "cell_type": "markdown",
   "metadata": {
    "id": "FRH6ZoPM4KeX"
   },
   "source": [
    "# Taller 0.0 de métodos computacionales para físicos  y astrónomos\n",
    "\n",
    "\n",
    "\n",
    "## Universidad de Antioquia\n",
    "### Profesor: Hernan D. Salinas Jiménez\n"
   ]
  },
  {
   "cell_type": "markdown",
   "metadata": {
    "id": "3IwaMxgT4Kee"
   },
   "source": [
    "## Taller: Sesion 0.0"
   ]
  },
  {
   "cell_type": "markdown",
   "metadata": {
    "id": "SV5BAn7x4Kef"
   },
   "source": [
    "## Unidad 1: \n",
    "\n",
    "Contenido Actitudinal: Observar como el computador produce errores en los cálculos. El computador no maneja infinitas cifras decimales.\n",
    "\n",
    "- Repaso breve del Python\n",
    "- Estructura básica de un programa en Python.\n",
    "- Numpy y rutinas de graficación.\n",
    "- Operaciones aritméticas con reales y complejos.\n",
    "- Números aleatorios, método del congruente lineal y problemas.\n",
    "- Errores: redondeo, truncamiento, sustracción cancelativa, precisiónde la máquina.\n",
    "- Algoritmos"
   ]
  },
  {
   "cell_type": "markdown",
   "metadata": {
    "id": "dgZqZVpe4Kef"
   },
   "source": [
    "## Instrucciones de entrega\n",
    "\n",
    "\n",
    "\n",
    "\n",
    "\n",
    "\n"
   ]
  },
  {
   "cell_type": "markdown",
   "metadata": {
    "id": "J6GPf6qe4Keg"
   },
   "source": [
    "## Problemas\n",
    "1. Elaborar un algoritmo e implementar en python, el factorial de un número entero `n` ingresado por el usuario.\n",
    "     ### Ejemplo de Ejecución\n",
    "    ```python\n",
    "\n",
    "    >>> factorial(3)\n",
    "        6\n",
    "\n",
    "    >>> factorial(1987123)\n",
    "        =???\n",
    "```\n"
   ]
  },
  {
   "cell_type": "code",
   "execution_count": 1,
   "metadata": {
    "colab": {
     "base_uri": "https://localhost:8080/"
    },
    "executionInfo": {
     "elapsed": 28214,
     "status": "ok",
     "timestamp": 1616204713054,
     "user": {
      "displayName": "HUGO FERNANDO BOCANEGRA SANCHEZ",
      "photoUrl": "https://lh3.googleusercontent.com/a-/AOh14GiFV9ruKqU6FwvflE3xf40hS_Gi_xgwDKcsXG6SOA=s64",
      "userId": "01931858071930662891"
     },
     "user_tz": 300
    },
    "id": "2opv_clSQDJp",
    "outputId": "0247ab09-1198-4b8a-8108-432d2ebddd25"
   },
   "outputs": [
    {
     "name": "stdout",
     "output_type": "stream",
     "text": [
      "Igrese el numero para el factorial : 3\n"
     ]
    },
    {
     "data": {
      "text/plain": [
       "6"
      ]
     },
     "execution_count": 1,
     "metadata": {
      "tags": []
     },
     "output_type": "execute_result"
    }
   ],
   "source": [
    "\n",
    "def factorial(x):\n",
    "  fact=1\n",
    "  for i in range(1,x,1):\n",
    "    fact = fact * (i+1)\n",
    "  return fact\n",
    "\n",
    "variable= int(input(\"Igrese el numero para el factorial : \"))\n",
    "factorial(variable)\n"
   ]
  },
  {
   "cell_type": "markdown",
   "metadata": {
    "id": "9-JZw0Do4Keg"
   },
   "source": [
    "2. Diseñar un programa que lea dos numero `a` y `b` y diga que tipo de numero son, de a cuerdo a la siguiente clasificación:\n",
    "\n",
    " >- [Números defectivos](https://es.wikipedia.org/wiki/Número_defectivo) : la suma de los divisores propios es menor que el número.\n",
    " >- [Números abundantes](https://es.wikipedia.org/wiki/Número_abundante): la suma de los divisores es mayor que el número.\n",
    " >- [Números amigos](https://es.wikipedia.org/wiki/N%C3%BAmeros_amigos) `a` y `b` tales que a es la suma de los divisores propios de `b` y viceversa.\n",
    " >- [Números semiperfectos](https://es.wikipedia.org/wiki/N%C3%BAmero_semiperfecto) la suma de todos o algunos de los divisores propios es igual al número.\n",
    " >- [Números perfectos](https://es.wikipedia.org/wiki/N%C3%BAmero_perfecto) la suma de todos sus divisores propios, excepto el mismo numero, es igual al número.\n",
    " >- [Números primos](https://es.wikipedia.org/wiki/N%C3%BAmero_primo) el número es divisible unicamente por sí mismo y por 1.\n",
    " "
   ]
  },
  {
   "cell_type": "markdown",
   "metadata": {
    "id": "cARSuKs_4Keh"
   },
   "source": [
    " ### Ejemplo de Ejecución\n",
    "``` python\n",
    "\n",
    "    >>> clase_numero(a = 220, b =  284)\n",
    "        a = 220 y b = 284 son números amigos\n",
    "\n",
    "    >>> clase_numero(a = 24, b = 12 )\n",
    "        a = 24 es un numero abudante y b = 12 es un número defectivo. \n",
    "```\n"
   ]
  },
  {
   "cell_type": "code",
   "execution_count": null,
   "metadata": {
    "colab": {
     "base_uri": "https://localhost:8080/"
    },
    "executionInfo": {
     "elapsed": 18100,
     "status": "ok",
     "timestamp": 1615670635243,
     "user": {
      "displayName": "HUGO FERNANDO BOCANEGRA SANCHEZ",
      "photoUrl": "https://lh3.googleusercontent.com/a-/AOh14GiFV9ruKqU6FwvflE3xf40hS_Gi_xgwDKcsXG6SOA=s64",
      "userId": "01931858071930662891"
     },
     "user_tz": 300
    },
    "id": "v-WgFWlLGxO-",
    "outputId": "ff3d3fa4-43db-4f9a-8a61-6541dade1d05"
   },
   "outputs": [
    {
     "name": "stdout",
     "output_type": "stream",
     "text": [
      "Ingrese el valor de a : 40\n",
      "Ingrese el valor de b : 12\n",
      "[1, 2, 4, 5, 8, 10, 20]\n",
      "[1, 2, 3, 4, 6]\n",
      "50\n",
      "16\n",
      "\n",
      "40 Es un número abundante\n",
      "\n",
      "12 Es un número abundante\n",
      "40 es semiperfecto\n",
      "12 es semiperfecto\n"
     ]
    }
   ],
   "source": [
    "from numpy.random import random\n",
    "\n",
    "def clasificacion(a,b):\n",
    "  lista_a=[]\n",
    "  lista_b=[]\n",
    "  total_a=0\n",
    "  total_b=0\n",
    "  bandera_a = 0\n",
    "  bandera_b = 0\n",
    "  bandera_a1 = 0\n",
    "  bandera_b1 = 0\n",
    "\n",
    "\n",
    "  #************************************************\n",
    "  # sección donde se sacan los divisores\n",
    "\n",
    "    \n",
    "  \n",
    "  numero=a\n",
    "  contador = 0\n",
    "  \n",
    "  for divisor in range(1,numero+1):\n",
    "      if (numero % divisor) == 0 :\n",
    "         if(divisor<numero):\n",
    "             lista_a.append(divisor)\n",
    "             total_a = total_a + divisor\n",
    "             contador += 1\n",
    "  numero=b\n",
    "  for divisor in range(1,numero+1):\n",
    "      if (numero % divisor) == 0 :\n",
    "          if(divisor<numero):\n",
    "              lista_b.append(divisor)\n",
    "              total_b = total_b + divisor\n",
    "              contador += 1\n",
    "          \n",
    "          \n",
    "  print(lista_a)\n",
    "  print(lista_b)\n",
    "  print(total_a)\n",
    "  print(total_b)\n",
    "\n",
    "\n",
    "  # fin de la sección donde se sacan los divisores\n",
    "  #**************************************************\n",
    "\n",
    "  if total_a < a:\n",
    "    print(\"\\n%d Es un número defectivo\"%(a))\n",
    "\n",
    "\n",
    "  if total_b < b:\n",
    "    print(\"\\n%d Es un número defectivo\"%(b))\n",
    "\n",
    "  if a < total_a :\n",
    "    print(\"\\n%d Es un número abundante\"%(a))\n",
    "    bandera_a = 1\n",
    "\n",
    "  if b < total_b :\n",
    "      print(\"\\n%d Es un número abundante\"%(b))\n",
    "      bandera_b = 1\n",
    "\n",
    "\n",
    "  if a == total_b and b == total_a :\n",
    "    print(a ,\"y\", b ,\"son números amigos\")\n",
    "\n",
    "  if a == total_a  :\n",
    "    print(a ,\"es número perfecto\")\n",
    "    bandera_a1=1\n",
    "\n",
    "  if b == total_b :\n",
    "    print(b  ,\"es número perfecto\") \n",
    "    bandera_b1=1 \n",
    "\n",
    "  if bandera_a1 == 0 and bandera_a == 1:\n",
    "       print(a ,\"es semiperfecto\")\n",
    "\n",
    "  if bandera_b1 == 0 and bandera_b == 1 :\n",
    "      print(b ,\"es semiperfecto\")\n",
    "      \n",
    "    \n",
    "  \n",
    "\n",
    "\n",
    "#todo número  abundante es perfecto o semiperfecto\n",
    "\n",
    "\n",
    "a = int(input(\"Ingrese el valor de a : \"))\n",
    "b = int(input(\"Ingrese el valor de b : \"))\n",
    "clasificacion(a,b)\n",
    "\n",
    "\n",
    "\n",
    "\n",
    "\n",
    "\n",
    "\n",
    "\n",
    "\n"
   ]
  },
  {
   "cell_type": "markdown",
   "metadata": {
    "id": "45A4RWSm4Keh"
   },
   "source": [
    "3. Determine si un número `n` entero ingresado por el usuario es un [palíndromo](https://en.wikipedia.org/wiki/Palindromic_number), (Retorne `True` en caso afirmativo y `False` en caso contrario) \n",
    "\n",
    "```python\n",
    "\n",
    "\n",
    "    >>> palindromo(3333333)\n",
    "        True\n",
    "\n",
    "    >>> palindromo(2323)\n",
    "        True\n",
    "        \n",
    "    >>> palindromo(1111349111111)\n",
    "        False\n",
    "```\n",
    "\n",
    "\n"
   ]
  },
  {
   "cell_type": "code",
   "execution_count": null,
   "metadata": {
    "colab": {
     "base_uri": "https://localhost:8080/"
    },
    "executionInfo": {
     "elapsed": 5030,
     "status": "ok",
     "timestamp": 1615675246126,
     "user": {
      "displayName": "HUGO FERNANDO BOCANEGRA SANCHEZ",
      "photoUrl": "https://lh3.googleusercontent.com/a-/AOh14GiFV9ruKqU6FwvflE3xf40hS_Gi_xgwDKcsXG6SOA=s64",
      "userId": "01931858071930662891"
     },
     "user_tz": 300
    },
    "id": "vtybv-vA-Yuz",
    "outputId": "fa24240b-1d01-4082-9ebc-4282406840d3"
   },
   "outputs": [
    {
     "name": "stdout",
     "output_type": "stream",
     "text": [
      "Ingrese el número que desea evaluar: 2323\n",
      "El texto no es palindromo!\n"
     ]
    }
   ],
   "source": [
    "igual, aux = 0, 0\n",
    "texto = input(\"Ingrese el número que desea evaluar: \")\n",
    "for ind in reversed(range(0, len(texto))):\n",
    "  if texto[ind].lower() == texto[aux].lower():\n",
    "    igual += 1\n",
    "  aux += 1\n",
    "if len(texto) == igual:\n",
    "  print(\"El texto es palindromo!\")\n",
    "else:\n",
    "  print(\"El texto no es palindromo!\")\n"
   ]
  },
  {
   "cell_type": "markdown",
   "metadata": {
    "id": "bmQYQxjX4Keh"
   },
   "source": [
    "\n",
    "4. Dada una cadena de caracteres, entregar una lista donde se retorne:\n",
    ">- en la primera casilla: `True` si el caracter del medio es una vocal, `False` en caso contrario \n",
    ">- en la segunda: el numero de vocales en la cadena\n",
    ">- en la tercera: el numero de consonantes\n",
    ">- en la ultima: la cadena de caracteres invertida (ej: perro, orrep)\n",
    "\n",
    "### Ejemplo de Ejecución\n",
    "```python\n",
    "\n",
    ">>> cadena(s ='perro')\n",
    "[False, 2, 3, 'orrep']\n",
    "\n",
    ">>> cadena(s ='murcielago')\n",
    "[True, 5, 5, 'ogaleicrum']\n",
    "\n",
    "```\n"
   ]
  },
  {
   "cell_type": "code",
   "execution_count": null,
   "metadata": {
    "colab": {
     "base_uri": "https://localhost:8080/"
    },
    "executionInfo": {
     "elapsed": 8415,
     "status": "ok",
     "timestamp": 1615676304242,
     "user": {
      "displayName": "HUGO FERNANDO BOCANEGRA SANCHEZ",
      "photoUrl": "https://lh3.googleusercontent.com/a-/AOh14GiFV9ruKqU6FwvflE3xf40hS_Gi_xgwDKcsXG6SOA=s64",
      "userId": "01931858071930662891"
     },
     "user_tz": 300
    },
    "id": "F1JSEv-oz27a",
    "outputId": "cc2b3fa2-d559-4ac4-8d33-4d2883c36f8e"
   },
   "outputs": [
    {
     "name": "stdout",
     "output_type": "stream",
     "text": [
      "Ingresa la cadena murcielago\n",
      "[True, 5, 5, 'ogaleicrum']\n"
     ]
    }
   ],
   "source": [
    "cadena=input('Ingresa la cadena ')\n",
    "\n",
    "resultado=[]\n",
    "contador=0\n",
    "contador2=0\n",
    "tam =len(cadena)\n",
    "mitad =tam//2\n",
    "\n",
    "if cadena[mitad]=='a'or cadena[mitad]=='e'or cadena[mitad]=='i'or cadena[mitad]=='o'or cadena[mitad]=='u':\n",
    "  resultado.append(True)\n",
    "else:\n",
    "  resultado.append(False)\n",
    "\n",
    "for i in range(0,tam,1):\n",
    "  if cadena[i]=='a'or cadena[i]=='e'or cadena[i]=='i'or cadena[i]=='o'or cadena[i]=='u':\n",
    "    contador += 1\n",
    "  else:\n",
    "    contador2 +=1\n",
    "resultado.append(contador)\n",
    "resultado.append(contador2)\n",
    "cadenainvertida = cadena[::-1]\n",
    "resultado.append(cadenainvertida)\n",
    "\n",
    "print(resultado)\n"
   ]
  },
  {
   "cell_type": "markdown",
   "metadata": {
    "id": "Z6rU_h_q4Kei"
   },
   "source": [
    "\n",
    "5. Elabore un método para calcular el n-ésimo término de la sucesión de fibonacci: \n",
    "\n",
    "$$ f_n = f_{n-1}+f_{n-2}$$\n",
    "\n",
    "Donde $$f_0=0 \\:\\:\\text{ y }\\:\\:f_1=1 $$ así:   $$f_2=1+0=1$$ $$f_3=1+1=2$$  $$f_4=2+1=3$$ y así sucesivamente\n",
    "\n",
    "### Ejemplo de Ejecución\n",
    "```python\n",
    "\n",
    ">>> fibonacci(50)\n",
    "12586269025\n",
    "\n",
    ">>> fibonacci(63)\n",
    "6557470319842\n",
    "```\n"
   ]
  },
  {
   "cell_type": "code",
   "execution_count": null,
   "metadata": {
    "colab": {
     "base_uri": "https://localhost:8080/"
    },
    "executionInfo": {
     "elapsed": 899,
     "status": "ok",
     "timestamp": 1615676537479,
     "user": {
      "displayName": "HUGO FERNANDO BOCANEGRA SANCHEZ",
      "photoUrl": "https://lh3.googleusercontent.com/a-/AOh14GiFV9ruKqU6FwvflE3xf40hS_Gi_xgwDKcsXG6SOA=s64",
      "userId": "01931858071930662891"
     },
     "user_tz": 300
    },
    "id": "pGehDgHd0VZz",
    "outputId": "46182566-34cb-4020-e9a2-7a4d5a2d655b"
   },
   "outputs": [
    {
     "name": "stdout",
     "output_type": "stream",
     "text": [
      "0 1 1 2 3 5 8 13 21 34 \n"
     ]
    }
   ],
   "source": [
    "def fib(n):\n",
    "  contador=0\n",
    "  a, b = 0,1\n",
    "  while True:\n",
    "    print(a, end=' ')\n",
    "    a, b = b, a+b\n",
    "    contador += 1\n",
    "    if contador == n:\n",
    "      break\n",
    "\n",
    "  print()\n",
    "fib(10)"
   ]
  },
  {
   "cell_type": "markdown",
   "metadata": {
    "id": "1Aezlw_x4Kei"
   },
   "source": [
    "\n",
    "6. Entrar un arreglo de números y ordenarlos de forma ascendente, Ver algoritmo\n",
    "[Quicksort](https://es.wikipedia.org/wiki/Quicksort). \n",
    "\n",
    "\n",
    "```python\n",
    "\n",
    "\n",
    "<<< v = [22, 32, 42, 12, 22, 31, 41, 11, 12, 232, 24, 12, 22]\n",
    "<<< def quicksort(v):\n",
    "\n",
    "<<<     return v\n",
    "<<< w = print(quicksort(v))\n",
    "<<< [11, 12, 12, 12, 22, 22, 22, 24, 31, 32, 41, 42, 232]\n",
    "\n",
    "```\n",
    "\n",
    "Sólo para comprobar tu código,  puedes hacer uso del comando sort de python. \n",
    "```python\n",
    "<<< b = [22, 32, 42, 12, 22, 31, 41, 11, 12, 232, 24, 12, 22]\n",
    "\n",
    "<<< print(b.sort())\n",
    "\n",
    "<<< [11, 12, 12, 12, 22, 22, 22, 24, 31, 32, 41, 42, 232]\n",
    "```"
   ]
  },
  {
   "cell_type": "code",
   "execution_count": null,
   "metadata": {
    "colab": {
     "base_uri": "https://localhost:8080/"
    },
    "executionInfo": {
     "elapsed": 613,
     "status": "ok",
     "timestamp": 1615676815582,
     "user": {
      "displayName": "HUGO FERNANDO BOCANEGRA SANCHEZ",
      "photoUrl": "https://lh3.googleusercontent.com/a-/AOh14GiFV9ruKqU6FwvflE3xf40hS_Gi_xgwDKcsXG6SOA=s64",
      "userId": "01931858071930662891"
     },
     "user_tz": 300
    },
    "id": "DD6KiHbw108y",
    "outputId": "b4842c2b-4966-4ff4-baf8-4ca52cac91c5"
   },
   "outputs": [
    {
     "name": "stdout",
     "output_type": "stream",
     "text": [
      "13\n",
      "[11, 12, 12, 12, 22, 22, 22, 24, 31, 32, 41, 42, 232]\n"
     ]
    }
   ],
   "source": [
    "lista=[22, 32, 42, 12, 22, 31, 41, 11, 12, 232, 24, 12, 22]\n",
    "tamaño = len(lista)\n",
    "print(tamaño)\n",
    "temp=0\n",
    "contador=0\n",
    "\n",
    "while True:\n",
    "  contador += 1\n",
    "\n",
    "  if contador > 3000:\n",
    "    break\n",
    "  for i in range(0,tamaño-1,1):\n",
    "    if (lista[i]> lista[i+1]):\n",
    "      temp=lista[i]\n",
    "      lista[i]=lista[i+1]\n",
    "      lista[i+1]=temp\n",
    "      \n",
    "      \n",
    "\n",
    "  \n",
    "print(lista)\n",
    "  \n"
   ]
  },
  {
   "cell_type": "markdown",
   "metadata": {
    "id": "BTj0eQBs4Kej"
   },
   "source": [
    "## REFERENCIAS.\n",
    "[1] Scripts de un curso de python. [Raul Pollan](https://github.com/rramosp/20182.pcomp)  \n",
    "\n",
    "[2] [Fundamenteos de programación](https://sites.google.com/site/funpropoli/ejercicios-practicos)\n",
    "\n",
    "[3] Scripts de un curso de python. [Fernando Perez](https://github.com/fperez)\n"
   ]
  },
  {
   "cell_type": "code",
   "execution_count": null,
   "metadata": {
    "colab": {
     "base_uri": "https://localhost:8080/"
    },
    "executionInfo": {
     "elapsed": 712,
     "status": "ok",
     "timestamp": 1614915544259,
     "user": {
      "displayName": "YENNIFER YULIANA GUERRERO UCHIMA",
      "photoUrl": "",
      "userId": "03790553334628233598"
     },
     "user_tz": 300
    },
    "id": "pXmL-G7n4Kej",
    "outputId": "b20379be-b116-41a6-d7ac-5b6a05c8bc37"
   },
   "outputs": [
    {
     "data": {
      "text/plain": [
       "10"
      ]
     },
     "execution_count": 7,
     "metadata": {
      "tags": []
     },
     "output_type": "execute_result"
    }
   ],
   "source": [
    "A=[0,1,2,3,4,5,6,7,8,9]\n",
    "len(A)"
   ]
  },
  {
   "cell_type": "code",
   "execution_count": null,
   "metadata": {
    "id": "KDycbhVvduNq"
   },
   "outputs": [],
   "source": []
  }
 ],
 "metadata": {
  "colab": {
   "collapsed_sections": [],
   "name": "Hugo Fernando Bocanegra Sánchez 15515942 taller000.ipynb",
   "provenance": [
    {
     "file_id": "1NsKb0chkdAnqHz1VhPAoHguqrahOAcm7",
     "timestamp": 1615052952288
    }
   ]
  },
  "kernelspec": {
   "display_name": "Python 3",
   "language": "python",
   "name": "python3"
  },
  "language_info": {
   "codemirror_mode": {
    "name": "ipython",
    "version": 3
   },
   "file_extension": ".py",
   "mimetype": "text/x-python",
   "name": "python",
   "nbconvert_exporter": "python",
   "pygments_lexer": "ipython3",
   "version": "3.8.5"
  }
 },
 "nbformat": 4,
 "nbformat_minor": 4
}
