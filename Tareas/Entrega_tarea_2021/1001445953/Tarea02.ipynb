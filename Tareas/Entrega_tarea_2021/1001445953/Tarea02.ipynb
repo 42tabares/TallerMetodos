{
  "nbformat": 4,
  "nbformat_minor": 0,
  "metadata": {
    "colab": {
      "name": "Tarea02.ipynb",
      "provenance": [],
      "collapsed_sections": []
    },
    "kernelspec": {
      "display_name": "Python 3",
      "name": "python3"
    },
    "language_info": {
      "name": "python"
    }
  },
  "cells": [
    {
      "cell_type": "markdown",
      "metadata": {
        "id": "OWv5vCM9bJjL"
      },
      "source": [
        "**Integrantes de la pareja**\n",
        "- Marlon Jhassir García Velásquez\n"
      ]
    },
    {
      "cell_type": "code",
      "metadata": {
        "id": "GxKxtNbwbJ_8"
      },
      "source": [
        "import numpy as np\n",
        "import matplotlib.pyplot as plt"
      ],
      "execution_count": 1,
      "outputs": []
    },
    {
      "cell_type": "markdown",
      "metadata": {
        "id": "UUgpiyfCa8BO"
      },
      "source": [
        "#Punto Numero 1"
      ]
    },
    {
      "cell_type": "code",
      "metadata": {
        "colab": {
          "base_uri": "https://localhost:8080/",
          "height": 282
        },
        "id": "-mAkSgPO6Au_",
        "outputId": "8244d879-3472-4a80-c8b9-414afe4cb33a"
      },
      "source": [
        "def E_campo(q, r ):\n",
        "  \"\"\"\n",
        "  Magnitud del campo electrico\n",
        "  \"\"\"\n",
        "  return k*q/r**2\n",
        "\n",
        "def Campo_fuente(rsource, rp) : \n",
        "  \"\"\"\n",
        "  Parameter\n",
        "  ---------\n",
        "  rsource: numpy array de 2D, con la posicion de la fuente\n",
        "  rp     : numpy array de 2D, El punto donde se encontrará el campo\n",
        "\n",
        "  Return\n",
        "  ----------\n",
        "  Ex: Componente x del campo electrico\n",
        "  Ey: Componente y del campo electrico \n",
        "  \"\"\"\n",
        "\n",
        "  Delta_R =  rp - rsource\n",
        "  MagDelta_R = np.sqrt(Delta_R[0]**2 + Delta_R[1]**2)\n",
        "  if MagDelta_R != 0:\n",
        "    u_R = Delta_R/MagDelta_R\n",
        "    E = E_campo(1,MagDelta_R ) * u_R\n",
        "    Ex = E[0]\n",
        "    Ey = E[1]\n",
        "    return Ex, Ey\n",
        "    \n",
        "  else:\n",
        "    pass\n",
        "\n",
        "\n",
        "x  = np.arange(-2, 3, 0.5)\n",
        "n1 = len(x)\n",
        "y  = np.arange(-2, 3, 0.5)\n",
        "n2 = len(y)\n",
        "\n",
        "\n",
        "rp = np.zeros((n1*n2 , 2))\n",
        "k = 0\n",
        "for x_ in (x):\n",
        "  for y_ in (y):\n",
        "    rp[k] = np.array([x_, y_])\n",
        "    k=k+1  \n",
        "\n",
        "r_source = {\"q1\": np.array([0., 0.]),\"q2\":np.array([1,1])} #Posicion de la fuente\n",
        "\n",
        "\n",
        "E = np.zeros((n1*n2, 2))\n",
        "\n",
        "for i in range(0, len(rp)):\n",
        "  E[i] = Campo_fuente(r_source[\"q1\"], rp[i] )\n",
        "\n",
        "plt.plot(r_source[\"q1\"][0], r_source[\"q1\"][1], \"ro\" ) \n",
        "plt.quiver(rp[:,0], rp[:,1], E[:,0], E[:,1])"
      ],
      "execution_count": null,
      "outputs": [
        {
          "output_type": "execute_result",
          "data": {
            "text/plain": [
              "<matplotlib.quiver.Quiver at 0x7fd61545f3d0>"
            ]
          },
          "metadata": {
            "tags": []
          },
          "execution_count": 9
        },
        {
          "output_type": "display_data",
          "data": {
            "image/png": "[encoded data removed]",
            "text/plain": [
              "<Figure size 432x288 with 1 Axes>"
            ]
          },
          "metadata": {
            "tags": [],
            "needs_background": "light"
          }
        }
      ]
    },
    {
      "cell_type": "code",
      "metadata": {
        "colab": {
          "base_uri": "https://localhost:8080/",
          "height": 282
        },
        "id": "IbLnsYIA9m5u",
        "outputId": "10f7671a-f2a4-4283-8cb9-7d4dcef17d06"
      },
      "source": [
        "def E_campo(q, r ):\n",
        "  \"\"\"\n",
        "  Magnitud del campo electrico\n",
        "  \"\"\"\n",
        "  return k*q/r**2\n",
        "\n",
        "def Campo_fuente(rsource, rp,q) : \n",
        "  \"\"\"\n",
        "  Parameter\n",
        "  ---------\n",
        "  rsource: numpy array de 2D, con la posicion de la fuente\n",
        "  rp     : numpy array de 2D, El punto donde se encontrará el campo\n",
        "\n",
        "  Return\n",
        "  ----------\n",
        "  Ex: Componente x del campo electrico\n",
        "  Ey: Componente y del campo electrico \n",
        "  \"\"\"\n",
        "\n",
        "  Delta_R =  rp - rsource\n",
        "  MagDelta_R = np.sqrt(Delta_R[0]**2 + Delta_R[1]**2)\n",
        "  if MagDelta_R != 0:\n",
        "    u_R = Delta_R/MagDelta_R\n",
        "    E = E_campo(q,MagDelta_R ) * u_R\n",
        "    Ex = E[0]\n",
        "    Ey = E[1]\n",
        "    return Ex, Ey\n",
        "  else:\n",
        "    pass\n",
        "\n",
        "x  = np.arange(-2, 3, 0.5)\n",
        "n1 = len(x)\n",
        "y  = np.arange(-2, 3, 0.5)\n",
        "n2 = len(y)\n",
        "\n",
        "\n",
        "rp = np.zeros((n1*n2 , 2))\n",
        "k = 0\n",
        "for x_ in (x):\n",
        "  for y_ in (y):\n",
        "    rp[k] = np.array([x_, y_])\n",
        "    k=k+1  \n",
        "\n",
        "\n",
        "r_source = [np.array([0, 0.]),np.array([1,0])] #Posicion de la fuente\n",
        "q = [3,-2]\n",
        "E = np.zeros((2, n1*n2, 2))\n",
        "\n",
        "for x in range(len(q)):\n",
        "  for i in range(0, len(rp)):\n",
        "    E[x][i] = Campo_fuente(r_source[x], rp[i], q[x])\n",
        "\n",
        "ET = sum(E)\n",
        "\n",
        "plt.plot(r_source[0][0], r_source[0][1], \"ro\" ) \n",
        "plt.plot(r_source[1][0], r_source[1][1], \"ro\" ) \n",
        "plt.quiver(rp[:,0], rp[:,1], ET[:,0], ET[:,1])\n",
        "\n"
      ],
      "execution_count": null,
      "outputs": [
        {
          "output_type": "execute_result",
          "data": {
            "text/plain": [
              "<matplotlib.quiver.Quiver at 0x7f2bbf7237d0>"
            ]
          },
          "metadata": {
            "tags": []
          },
          "execution_count": 27
        },
        {
          "output_type": "display_data",
          "data": {
            "image/png": "[encoded data removed]",
            "text/plain": [
              "<Figure size 432x288 with 1 Axes>"
            ]
          },
          "metadata": {
            "tags": [],
            "needs_background": "light"
          }
        }
      ]
    },
    {
      "cell_type": "markdown",
      "metadata": {
        "id": "3wJEya_La_Se"
      },
      "source": [
        "#Punto numero 2"
      ]
    },
    {
      "cell_type": "code",
      "metadata": {
        "id": "lNgxHmBwdfAA"
      },
      "source": [
        "xcesta=3\n",
        "ycesta=3\n",
        "\n",
        "def convertir_angulo(a):\n",
        "  theta = np.pi * a / 180\n",
        "  return theta\n",
        "\n",
        "def acertar(vo,xo,yo,theta):\n",
        "  \"\"\"\n",
        "  vo = velocidad inicial\n",
        "  xo = posición inicial en x\n",
        "  yo = posición inicial en y\n",
        "  theta = angulo inicial en grados\n",
        "\n",
        "  Preferiblemente poner la posición inicia en x a la izquierda de la canasta\n",
        "  Escribiendola en el lado derecho de esta ocurren algunos errores que \n",
        "  sigo pensando en como solucionar\n",
        "  \n",
        "  \"\"\"\n",
        "  \n",
        "  if xo > xcesta:\n",
        "    theta = -theta\n",
        "  theta = convertir_angulo(theta)\n",
        "\n",
        "  #Variables \n",
        "  vox = vo*np.cos(theta)\n",
        "  voy = vo*np.sin(theta)\n",
        "  xg = np.linspace(xo,xcesta,100)\n",
        "  yg= yo + np.tan(theta)*(xg-xo)-(0.5*9.8*(xg-xo)**2)/(vox**2)\n",
        "  d = np.abs(xcesta-xo)\n",
        "  t = (d)/(vox)\n",
        "\n",
        "  #Se evalua la posición en y del balon cuando x esta en la cesta \n",
        "  y = yo + voy*t+ (-9.8 * t**2)/2\n",
        "  y = round(y,1)   \n",
        "\n",
        "  #Se grafican los puntos importantes\n",
        "  plt.figure()\n",
        "  plt.plot(xg,yg,\":\", label = \"pelota\")\n",
        "  plt.plot(xcesta,xcesta,\"bo\", label = \"cesta\")\n",
        "  plt.plot(xo,yo,\"yo\", label = \"posición inicial\")\n",
        "  plt.axhline(0,0,xcesta)\n",
        "  plt.axvline(xcesta,0,ycesta)                \n",
        "\n",
        "\n",
        "  #Se evalua si el balon cumple la condición para pasar por la cesta\n",
        "  print(\"la posición de la cesta es: {},{}\".format(xcesta,ycesta))\n",
        "  print(y)\n",
        "  if y == ycesta:\n",
        "    print(\"acerto el disparo\")\n",
        "  else:\n",
        "    print(\"fallo\")\n"
      ],
      "execution_count": 159,
      "outputs": []
    },
    {
      "cell_type": "code",
      "metadata": {
        "colab": {
          "base_uri": "https://localhost:8080/",
          "height": 316
        },
        "id": "vo19pgSrixJr",
        "outputId": "0e956105-a9db-423d-b5f1-4f85963c4a3f"
      },
      "source": [
        "acertar(6.3,0,1.5,60)"
      ],
      "execution_count": 157,
      "outputs": [
        {
          "output_type": "stream",
          "text": [
            "la posición de la cesta es: 3,3\n",
            "2.3\n",
            "fallo\n"
          ],
          "name": "stdout"
        },
        {
          "output_type": "display_data",
          "data": {
            "image/png": "[encoded data removed]",
            "text/plain": [
              "<Figure size 432x288 with 1 Axes>"
            ]
          },
          "metadata": {
            "tags": [],
            "needs_background": "light"
          }
        }
      ]
    }
  ]
}