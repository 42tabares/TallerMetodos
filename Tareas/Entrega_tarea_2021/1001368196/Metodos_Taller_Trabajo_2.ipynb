{
 "cells": [
  {
   "cell_type": "markdown",
   "metadata": {},
   "source": [
    "**Taller dos:**\n",
    "\n",
    "**David Garzón Ramírez.\n",
    "C.C 1000758293**\n",
    "\n",
    "\n",
    "**Mariana Fernandez Prieto.**"
   ]
  },
  {
   "cell_type": "markdown",
   "metadata": {},
   "source": [
    "**Elaborar un programa para calcular el campo eléctrico producido por un dipolo eléctrico, realizar una representación del campo para todo el dominio elegido para calcular el campo. Para encontrar el campo, se sugiere hacer lo siguiente:\n",
    "\n",
    "**a. Encontrar el campo en un punto producido por dos cargas q1 y q2. b. Emplee el comando plt.quiver(x, y, Ex, Ey) para mostrar el campo producido por q1 y q2. Puedes intentarlo con el comando, plt.stremplot. c. Generalice el problema para varios puntos en el espacio."
   ]
  },
  {
   "cell_type": "code",
   "execution_count": 1,
   "metadata": {},
   "outputs": [],
   "source": [
    "import numpy as np\n",
    "import matplotlib.pyplot as plt"
   ]
  },
  {
   "cell_type": "code",
   "execution_count": 2,
   "metadata": {},
   "outputs": [],
   "source": [
    "ke = 1\n",
    "\n",
    "def E_campo(rp,q, rq ):\n",
    "  \"\"\"\n",
    "  Magnitud del campo electrico\n",
    "  \n",
    "  rp posición del punto para encontrar el campo electrico\n",
    "  q valor de la carga \n",
    "  rq posicion de la carga\n",
    "  \n",
    "  \"\"\"\n",
    "  \n",
    "  Delta_R =  rp - rq \n",
    "  r=np.sqrt(Delta_R[0]**2 + Delta_R[1]**2)\n",
    "  ur=Delta_R/r\n",
    "  global k\n",
    "  return (ke*q/r**2)*ur  #Devuelve el campo"
   ]
  },
  {
   "cell_type": "code",
   "execution_count": 3,
   "metadata": {},
   "outputs": [
    {
     "data": {
      "text/plain": [
       "array([-0.05706721, -0.0142668 ])"
      ]
     },
     "execution_count": 3,
     "metadata": {},
     "output_type": "execute_result"
    }
   ],
   "source": [
    "r_source = {'q1':1,\"r1\": np.array([2., 0]),'q2':-1,\"r2\":np.array([-3.,0])}\n",
    "#r1 posicion de la carga 1\n",
    "#r2 posicion de la carga 2\n",
    "rp       = np.array([1.,1])  # Punto para encontrar el campo electrico\n",
    "E_campo(rp,r_source[\"q2\"],r_source[\"r2\"])"
   ]
  },
  {
   "cell_type": "code",
   "execution_count": 4,
   "metadata": {},
   "outputs": [
    {
     "data": {
      "text/plain": [
       "array([-0.4106206 ,  0.33928659])"
      ]
     },
     "execution_count": 4,
     "metadata": {},
     "output_type": "execute_result"
    }
   ],
   "source": [
    "\n",
    "campo2=E_campo(rp,r_source[\"q2\"],r_source[\"r2\"])\n",
    "campo1=E_campo(rp,r_source[\"q1\"],r_source[\"r1\"])\n",
    "\n",
    "E=campo1+campo2\n",
    "\n",
    "E"
   ]
  },
  {
   "cell_type": "code",
   "execution_count": 5,
   "metadata": {},
   "outputs": [
    {
     "data": {
      "text/plain": [
       "<matplotlib.quiver.Quiver at 0x16d97db2820>"
      ]
     },
     "execution_count": 5,
     "metadata": {},
     "output_type": "execute_result"
    },
    {
     "data": {
      "image/png": "[encoded data removed]",
      "text/plain": [
       "<Figure size 432x288 with 1 Axes>"
      ]
     },
     "metadata": {
      "needs_background": "light"
     },
     "output_type": "display_data"
    }
   ],
   "source": [
    "plt.figure()\n",
    "plt.plot(r_source[\"r1\"][0], r_source[\"r1\"][1], \"ro\",markersize=15)#posicion de q1\n",
    "plt.plot(r_source[\"r2\"][0], r_source[\"r2\"][1],'bo',markersize=15)#posicion de q2\n",
    "plt.plot(rp[0], rp[1],\"o\")#punto donde encuentro el campo\n",
    "plt.quiver(rp[0], rp[1],E[0],E[1])#graficar la flecha\n"
   ]
  },
  {
   "cell_type": "code",
   "execution_count": 6,
   "metadata": {},
   "outputs": [],
   "source": [
    "#campo generado por un dipolo sobre una malla\n",
    "\n",
    "# Definir los puntos donde se se determinara el campo electrico \n",
    "\n",
    "x  = np.arange(-2, 3,0.5)\n",
    "n1 = len(x)\n",
    "y  = np.arange(-2, 3,0.5)\n",
    "n2 = len(y)\n"
   ]
  },
  {
   "cell_type": "code",
   "execution_count": 7,
   "metadata": {},
   "outputs": [],
   "source": [
    "rp = np.zeros((n1*n2 , 2)) #matriz\n",
    "j = 0\n",
    "for x_ in (x):\n",
    "  for y_ in (y):\n",
    "    rp[j] = np.array([x_, y_]) # se guaradar los vectores x_,y_\n",
    "    j=j+1\n",
    "    \n",
    "\n"
   ]
  },
  {
   "cell_type": "code",
   "execution_count": 8,
   "metadata": {},
   "outputs": [
    {
     "data": {
      "text/plain": [
       "[<matplotlib.lines.Line2D at 0x16d9a378b50>]"
      ]
     },
     "execution_count": 8,
     "metadata": {},
     "output_type": "execute_result"
    },
    {
     "data": {
      "image/png": "[encoded data removed]",
      "text/plain": [
       "<Figure size 432x288 with 1 Axes>"
      ]
     },
     "metadata": {
      "needs_background": "light"
     },
     "output_type": "display_data"
    }
   ],
   "source": [
    "plt.plot(rp[:,0], rp[:,1],\"ro\")\n"
   ]
  },
  {
   "cell_type": "code",
   "execution_count": 9,
   "metadata": {},
   "outputs": [
    {
     "name": "stderr",
     "output_type": "stream",
     "text": [
      "<ipython-input-2-32776c42a7f4>:15: RuntimeWarning: invalid value encountered in true_divide\n",
      "  ur=Delta_R/r\n",
      "<ipython-input-2-32776c42a7f4>:17: RuntimeWarning: divide by zero encountered in double_scalars\n",
      "  return (ke*q/r**2)*ur  #Devuelve el campo\n"
     ]
    }
   ],
   "source": [
    "#campo generado por q1 sobre todos los puntos\n",
    "\n",
    "\n",
    "E1 = np.zeros((n1*n2, 2))\n",
    "#en esta matriz se incluiran los valores del campo generado por q1\n",
    "\n",
    "for i in range(0, len(rp)):\n",
    "    E1[i] = E_campo(rp[i],r_source[\"q1\"],r_source[\"r1\"])\n",
    "#en E1[i] se guarda el campo"
   ]
  },
  {
   "cell_type": "code",
   "execution_count": 10,
   "metadata": {},
   "outputs": [],
   "source": [
    "#campo generado por q2 sobre todos los puntos\n",
    "\n",
    "\n",
    "E2 = np.zeros((n1*n2, 2))# \n",
    "#en esta matriz se incluiran los valores del campo generado po q2\n",
    "\n",
    "for i in range(0, len(rp)):\n",
    "  E2[i] =E_campo(rp[i],r_source[\"q2\"],r_source[\"r2\"])\n",
    "  #en E2[i] se guarda el campo\n"
   ]
  },
  {
   "cell_type": "code",
   "execution_count": 11,
   "metadata": {},
   "outputs": [],
   "source": [
    "E=E1+E2\n"
   ]
  },
  {
   "cell_type": "code",
   "execution_count": 12,
   "metadata": {},
   "outputs": [
    {
     "data": {
      "text/plain": [
       "<matplotlib.quiver.Quiver at 0x16d9a3d5940>"
      ]
     },
     "execution_count": 12,
     "metadata": {},
     "output_type": "execute_result"
    },
    {
     "data": {
      "image/png": "[encoded data removed]",
      "text/plain": [
       "<Figure size 432x288 with 1 Axes>"
      ]
     },
     "metadata": {
      "needs_background": "light"
     },
     "output_type": "display_data"
    }
   ],
   "source": [
    "\n",
    "plt.figure()\n",
    "plt.plot(r_source[\"r1\"][0], r_source[\"r1\"][1], \"ro\")#posiscion de q1\n",
    "plt.plot(r_source[\"r2\"][0], r_source[\"r2\"][1], \"bo\")#posicion de q2\n",
    "plt.quiver(rp[:,0], rp[:,1], E[:,0], E[:,1])\n"
   ]
  },
  {
   "cell_type": "markdown",
   "metadata": {},
   "source": [
    "## Movimiento parabólico.\n",
    "\n",
    "**Un jugador de baloncesto desea saber si encestará su tiro dependiendo de la velocidad inicial, ángulo de lanzamiento y posición respecto a la canasta.\n",
    "Elabore un programa en el que dada una distancia, velocidad inicial y ángulo, determine si hay cesta. El modelo será bajo partícula, sin la rotación del balón.\n",
    "\n",
    "Se recomienda emplear numpy array."
   ]
  },
  {
   "cell_type": "markdown",
   "metadata": {},
   "source": [
    "### Tiro parabólico\n",
    "$$y(t) = y_0 + v_{0x}t - \\frac{1}{2}gt^2 \\ \\ \\ (1)$$"
   ]
  },
  {
   "cell_type": "code",
   "execution_count": 13,
   "metadata": {},
   "outputs": [],
   "source": [
    "import numpy as np\n",
    "import matplotlib.pylab as plt"
   ]
  },
  {
   "cell_type": "code",
   "execution_count": 14,
   "metadata": {},
   "outputs": [
    {
     "data": {
      "text/plain": [
       "\"\\ntheta = float(input('Ingrese el ángulo de lanzamiento en grados: '))\\nv0 = float(input('Ingrese la velocidad inicial: '))\\na = float(input('Ingrese la altura de Mariana: '))\\nd = float(input('Ingrese la distancia a la que está la cesta: '))\\nh = float(input('Ingrese la altura a la que está la cesta: '))\\ng = 9.8      # Aceleración de la gravedad [m/s^2]\\n\\nif not (theta>0 and theta<90 and v0>0 and a>0 and d>0 and h>0):\\n    print('\\nNo ingresó los datos correctamente')\\n\""
      ]
     },
     "execution_count": 14,
     "metadata": {},
     "output_type": "execute_result"
    }
   ],
   "source": [
    "'''\n",
    "theta = float(input('Ingrese el ángulo de lanzamiento en grados: '))\n",
    "v0 = float(input('Ingrese la velocidad inicial: '))\n",
    "a = float(input('Ingrese la altura de Mariana: '))\n",
    "d = float(input('Ingrese la distancia a la que está la cesta: '))\n",
    "h = float(input('Ingrese la altura a la que está la cesta: '))\n",
    "g = 9.8      # Aceleración de la gravedad [m/s^2]\n",
    "\n",
    "if not (theta>0 and theta<90 and v0>0 and a>0 and d>0 and h>0):\n",
    "    print('\\nNo ingresó los datos correctamente')\n",
    "'''"
   ]
  },
  {
   "cell_type": "code",
   "execution_count": 15,
   "metadata": {},
   "outputs": [],
   "source": [
    "theta = 30   # Ángulo de lanzamiento [grados]\n",
    "v0 = 10      # velocidad inicial [m/s]\n",
    "a = 1.5      # Altura de la persona [m]\n",
    "d, h = 20, 15    # Posición de la canasta: (distancia, altura) [m]\n",
    "g = 9.8      # Aceleración de la gravedad [m/s^2]\n",
    "\n",
    "# Componentes de la velocidad inicial\n",
    "v0x = v0*np.cos(theta*np.pi/180)\n",
    "v0y = v0*np.sin(theta*np.pi/180)\n",
    "\n",
    "# Ecuaciones cinemáticas de posición\n",
    "x = lambda t: v0x*t\n",
    "y = lambda t: a + v0y*t - 0.5*g*t**2"
   ]
  },
  {
   "cell_type": "markdown",
   "metadata": {},
   "source": [
    "**Análisis**\n",
    "\n",
    "El balón describe una trayectoria parabólico que es continua para $x$ en todos los reales. Así, podemos usar este hecho y \n",
    "determinar el tiempo $t_1$ en el que esta trayectoria toma el valor horizontal $x=d$ que es la distancia de la cesta, \n",
    "por tanto, Si $y(d)=h$ (altura de la cesta), entonces el balón alcanza la cesta."
   ]
  },
  {
   "cell_type": "code",
   "execution_count": 16,
   "metadata": {},
   "outputs": [
    {
     "name": "stdout",
     "output_type": "stream",
     "text": [
      "El balón no encestó\n"
     ]
    }
   ],
   "source": [
    "t1 = d/v0x    # Tiempo en el que hay cesta\n",
    "eps = 1.0e-10\n",
    "if abs(y(t1)-h)<eps:\n",
    "    print('El balón sí encestó')\n",
    "else:\n",
    "    print('El balón no encestó')"
   ]
  },
  {
   "cell_type": "code",
   "execution_count": 17,
   "metadata": {},
   "outputs": [
    {
     "data": {
      "text/plain": [
       "-13.08632794954082"
      ]
     },
     "execution_count": 17,
     "metadata": {},
     "output_type": "execute_result"
    }
   ],
   "source": [
    "y(t1)"
   ]
  },
  {
   "cell_type": "code",
   "execution_count": 18,
   "metadata": {},
   "outputs": [
    {
     "data": {
      "image/png": "[encoded data removed]",
      "text/plain": [
       "<Figure size 432x288 with 1 Axes>"
      ]
     },
     "metadata": {
      "needs_background": "light"
     },
     "output_type": "display_data"
    }
   ],
   "source": [
    "t = np.arange(0, t1, 0.01)   # Tiempo (inicio, final, paso) --> [0,5)\n",
    "\n",
    "X, Y = x(t), y(t)\n",
    "\n",
    "plt.plot(X, Y, '--', label='Trayectoria del balón')   # Trayectoria del balón\n",
    "plt.plot(d, h, 'o', c='r', label='Cesta')             # Punto donde está la cesta\n",
    "plt.plot(0, a, 'o', c='b', label='Balón')\n",
    "plt.hlines(0, 0, d, colors='brown', label='Tierra')\n",
    "plt.legend()\n",
    "plt.xlabel('$Distancia \\ horizontal \\ x[m]$')\n",
    "plt.ylabel('$Distancia \\ vertical \\ y[m]$')\n",
    "plt.grid()"
   ]
  },
  {
   "cell_type": "code",
   "execution_count": null,
   "metadata": {},
   "outputs": [],
   "source": []
  }
 ],
 "metadata": {
  "kernelspec": {
   "display_name": "Python 3",
   "language": "python",
   "name": "python3"
  },
  "language_info": {
   "codemirror_mode": {
    "name": "ipython",
    "version": 3
   },
   "file_extension": ".py",
   "mimetype": "text/x-python",
   "name": "python",
   "nbconvert_exporter": "python",
   "pygments_lexer": "ipython3",
   "version": "3.8.5"
  }
 },
 "nbformat": 4,
 "nbformat_minor": 2
}
