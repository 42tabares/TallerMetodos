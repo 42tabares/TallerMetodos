{
  "nbformat": 4,
  "nbformat_minor": 0,
  "metadata": {
    "colab": {
      "name": "Taller 0.0 metodos (D_M)",
      "provenance": [],
      "collapsed_sections": []
    },
    "kernelspec": {
      "name": "python3",
      "display_name": "Python 3"
    }
  },
  "cells": [
    {
      "cell_type": "markdown",
      "metadata": {
        "id": "smrJViebugUW"
      },
      "source": [
        "Taller 0.0 Metodos Computacionales.\n",
        "\n",
        "David Garzón Ramírez    c.c 1000758293\n",
        "\n",
        "Mariana Fernández Prieto  c.c 1001368196"
      ]
    },
    {
      "cell_type": "markdown",
      "metadata": {
        "id": "UdEd4xwz3Grg"
      },
      "source": [
        "# Punto 1. \n",
        "#Elaborar un algoritmo e implementar en python, el factorial de un número entero n ingresado por el usuario."
      ]
    },
    {
      "cell_type": "code",
      "metadata": {
        "id": "h74aRySxO9rK",
        "colab": {
          "base_uri": "https://localhost:8080/"
        },
        "outputId": "6002a0ed-a668-4f18-e331-b5a72967bab1"
      },
      "source": [
        "\n",
        "numero = int(input(\"Escribe un número natural: \"))\n",
        "factorial = 1\n",
        "if numero < 0:\n",
        "    print(\"Error, Escibe un número natural\")\n",
        "else:\n",
        "    for x in range(1,numero+1):\n",
        "        factorial*=x\n",
        "print(factorial)"
      ],
      "execution_count": null,
      "outputs": [
        {
          "output_type": "stream",
          "text": [
            "Escribe un número natural: 6\n",
            "720\n"
          ],
          "name": "stdout"
        }
      ]
    },
    {
      "cell_type": "markdown",
      "metadata": {
        "id": "QFJiV-ef3Qic"
      },
      "source": [
        "# Punto 2. \n",
        "#Diseñar un programa que lea dos numero a y b y diga que tipo de numero son, de a cuerdo a la siguiente clasificación:"
      ]
    },
    {
      "cell_type": "code",
      "metadata": {
        "id": "DkOweqDcPB1p",
        "colab": {
          "base_uri": "https://localhost:8080/"
        },
        "outputId": "66e52bea-54b6-4968-fa79-3826d22c4003"
      },
      "source": [
        "\n",
        "#Números defectivos : la suma de los divisores propios es menor que el número.\n",
        "#Números abundantes: la suma de los divisores es mayor que el número.\n",
        "#Números amigos a y b tales que a es la suma de los divisores propios de b y viceversa.\n",
        "#Números semiperfectos la suma de todos o algunos de los divisores propios es igual al número.\n",
        "#Números perfectos la suma de todos sus divisores propios, excepto el mismo numero, es igual al número.\n",
        "#Números primos el número es divisible unicamente por sí mismo y por 1.\n",
        "\n",
        "\n",
        "print(\"Ingrese un número a: \")\n",
        "a= int(input())\n",
        "print(\"Ingrese un número b: \")\n",
        "b= int(input())\n",
        "\n",
        "lista1=[]\n",
        "lista2=[]\n",
        "contador = 0\n",
        "for divisor in range(1,a+1):\n",
        "    if (a % divisor) == 0 :\n",
        "        lista1.append(divisor)\n",
        "        contador += 1\n",
        "contador = 0\n",
        "for divisor in range(1,b+1):\n",
        "    if (b % divisor) == 0 :\n",
        "        lista2.append(divisor)\n",
        "        contador += 1\n",
        "\n",
        "s = 0 #divisores propios de a\n",
        "for i in range(0,len(lista1)-1):\n",
        "   s += lista1[i]\n",
        "t = 0 #divisores propios de b\n",
        "for i in range(0,len(lista2)-1):\n",
        "   t += lista2[i]\n",
        "229\n",
        "\n",
        "if (s < a ) : #Números defectivos y abundantes\n",
        "  print(a,\" eas un número defectivo \")\n",
        "elif (s > a) : \n",
        " print(a, \"es un número abundante\")\n",
        "if (t < b):\n",
        "  print(b,\" es un número defectivo\")\n",
        "elif (t > b) :\n",
        "  print(b, \"es un número abundante\")\n",
        "\n",
        "if (a == t) :#Números amigos\n",
        "  print(a, \"y\",b,\"son números amigos\")\n",
        "\n",
        "if (a == s) : #Números perfectos\n",
        "  print(a, \"es un número perfecto\")\n",
        "if (b ==t) :\n",
        "  print(b, \" es un número perfecto\")\n",
        "\n",
        "if len(lista1) == 2 : #Números primos\n",
        "  print(a, \"es un número primo\")\n",
        "if len(lista2) == 2:\n",
        "  print(b,\"es un número primo\")\n",
        "\n",
        "\n",
        "\n",
        "\n",
        "\n",
        "\n"
      ],
      "execution_count": null,
      "outputs": [
        {
          "output_type": "stream",
          "text": [
            "Ingrese un número a: \n",
            "5\n",
            "Ingrese un número b: \n",
            "6\n",
            "5  es un número defectivo \n",
            "6  es un número perfecto\n",
            "5 es un número primo\n"
          ],
          "name": "stdout"
        }
      ]
    },
    {
      "cell_type": "markdown",
      "metadata": {
        "id": "Zpneis922z0s"
      },
      "source": [
        "# Punto 3.\n",
        " Determine si un número n entero ingresado por el usuario es un palíndromo, (Retorne True en caso afirmativo y False en caso contrario)"
      ]
    },
    {
      "cell_type": "code",
      "metadata": {
        "id": "SEJTH3P2PEPw",
        "colab": {
          "base_uri": "https://localhost:8080/"
        },
        "outputId": "d638f951-e30a-4a66-ca66-a50528f4efbd"
      },
      "source": [
        "\n",
        "def palindromo(numero):\n",
        "    numero_invertido = numero[::-1]\n",
        "    if numero == numero_invertido:\n",
        "        return True \n",
        "    else:\n",
        "        return False\n",
        "\n",
        "def run():\n",
        "    numero = input(\"ingrese un numero: \")\n",
        "    es_palindromo = palindromo(numero)\n",
        "    if es_palindromo == True:\n",
        "        print(\"es palindromo\")\n",
        "    else: \n",
        "        print(\"No es palindromo\")\n",
        "        \n",
        "if __name__ == \"__main__\":\n",
        "    run()"
      ],
      "execution_count": null,
      "outputs": [
        {
          "output_type": "stream",
          "text": [
            "ingrese un numero: 576\n",
            "No es palindromo\n"
          ],
          "name": "stdout"
        }
      ]
    },
    {
      "cell_type": "markdown",
      "metadata": {
        "id": "pL3ZkvMu2uj4"
      },
      "source": [
        "# Punto 4.\n",
        "#Dada una cadena de caracteres, entregar una lista donde se retorne:\n",
        "#en la primera casilla: True si el caracter del medio es una vocal, False en caso contrario\n",
        "#en la segunda: el numero de vocales en la cadena\n",
        "#en la tercera: el numero de consonantes\n",
        "#en la ultima: la cadena de caracteres invertida (ej: perro, orrep)"
      ]
    },
    {
      "cell_type": "markdown",
      "metadata": {
        "id": "KkxaKX5u4in1"
      },
      "source": [
        ""
      ]
    },
    {
      "cell_type": "code",
      "metadata": {
        "id": "7WcFhhe5PHQP"
      },
      "source": [
        "\n",
        "\n",
        "\n",
        "    \n",
        "#cadena = input(\"Ingrese una cadena de caracteres: \")\n",
        "cadena = 'hola' \n",
        "\n",
        "def numero_de_vocales(cadena):\n",
        "    global vocales\n",
        "    vocales = \"aeiouAEIOU\"\n",
        "    return [x for x in cadena if x in vocales]\n",
        "print(numero_de_vocales(cadena))\n",
        "seg_cas = len(numero_de_vocales(cadena))\n",
        "print(seg_cas)\n",
        "\n",
        "def numero_de_consonantes(cadena):\n",
        "    global consonantes\n",
        "    consonantes = \"bcdfghjklmnñpqrstvwxyzBCDEFGHJKLMNPQRSTVWXYZ\"\n",
        "    return [x for x in cadena if x in consonantes]\n",
        "print(numero_de_consonantes(cadena))\n",
        "ter_cas = len(numero_de_consonantes(cadena))\n",
        "print(ter_cas)\n",
        "\n",
        "n_cad = len(cadena)+1\n",
        "if n_cad%2:\n",
        "  prim_cas = 'no hay mitad'\n",
        "else:\n",
        "  miti = cadena[int(n_cad/2)+1]\n",
        "  if miti in consonantes:\n",
        "    prim_cas = False\n",
        "  else:\n",
        "    prim_cas = True\n",
        "\n",
        "cuar_cas = cadena[::-1]\n",
        "print(cuar_cas)\n",
        "print([prim_cas,seg_cas,ter_cas,cuar_cas]) #resultado final"
      ],
      "execution_count": null,
      "outputs": []
    },
    {
      "cell_type": "markdown",
      "metadata": {
        "id": "-gwgXNfK2hYt"
      },
      "source": [
        "# Punto 5. \n",
        "\n",
        "# ---\n",
        "# Elabore un método para calcular el n-ésimo término de la sucesión de fibonacci:\n",
        "\n",
        "\n"
      ]
    },
    {
      "cell_type": "code",
      "metadata": {
        "id": "1Ml1AKp2PPGl",
        "colab": {
          "base_uri": "https://localhost:8080/"
        },
        "outputId": "52f8698f-daf3-4d87-a781-4ee2a3ed7873"
      },
      "source": [
        "\n",
        "\n",
        "import numpy as np\n",
        "def fibonacci(n):\n",
        "    f=np.zeros(n+1)\n",
        "    f[0]=0\n",
        "    f[1]=1\n",
        "    for i in range(2,n+1):\n",
        "        f[i]=f[i-1]+f[i-2]\n",
        "    \n",
        "    return f\n",
        "\n",
        "fibonacci(9)"
      ],
      "execution_count": null,
      "outputs": [
        {
          "output_type": "execute_result",
          "data": {
            "text/plain": [
              "array([ 0.,  1.,  1.,  2.,  3.,  5.,  8., 13., 21., 34.])"
            ]
          },
          "metadata": {
            "tags": []
          },
          "execution_count": 4
        }
      ]
    },
    {
      "cell_type": "markdown",
      "metadata": {
        "id": "X8Z-adqJzQLa"
      },
      "source": [
        "### Punto 6.\n",
        "\n",
        "Entrar un arreglo de números y ordenarlos de forma ascendente, Ver algoritmo Quicksort.\n"
      ]
    },
    {
      "cell_type": "code",
      "metadata": {
        "id": "vvccicNYzcx-",
        "colab": {
          "base_uri": "https://localhost:8080/"
        },
        "outputId": "af68433e-7820-4ab6-a5ba-8b14db878596"
      },
      "source": [
        "import numpy as np\n",
        "array = np.random.randint(50,size=10)\n",
        "print(array)\n",
        "\n",
        "def sort(array):\n",
        "    \n",
        "\n",
        "    menor = []\n",
        "    igual = []\n",
        "    mayor = []\n",
        "\n",
        "    if len(array) > 1:\n",
        "        pivot = array[0]\n",
        "        for x in array:\n",
        "            if x < pivot:\n",
        "                menor.append(x)\n",
        "            elif x == pivot:\n",
        "                igual.append(x)\n",
        "            elif x > pivot:\n",
        "                mayor.append(x)\n",
        "        \n",
        "        return sort(menor)+igual+sort(mayor) \n",
        "    else: \n",
        "        return array\n",
        "\n",
        "sort(array)\n"
      ],
      "execution_count": null,
      "outputs": [
        {
          "output_type": "stream",
          "text": [
            "[41 47  7 23 33 24  6  6 28 13]\n"
          ],
          "name": "stdout"
        },
        {
          "output_type": "execute_result",
          "data": {
            "text/plain": [
              "[6, 6, 7, 13, 23, 24, 28, 33, 41, 47]"
            ]
          },
          "metadata": {
            "tags": []
          },
          "execution_count": 15
        }
      ]
    },
    {
      "cell_type": "code",
      "metadata": {
        "id": "c_pa5WRyq25n"
      },
      "source": [
        ""
      ],
      "execution_count": null,
      "outputs": []
    }
  ]
}