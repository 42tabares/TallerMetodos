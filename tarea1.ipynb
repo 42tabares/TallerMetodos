{
  "nbformat": 4,
  "nbformat_minor": 0,
  "metadata": {
    "kernelspec": {
      "display_name": "Python 3",
      "language": "python",
      "name": "python3"
    },
    "language_info": {
      "codemirror_mode": {
        "name": "ipython",
        "version": 3
      },
      "file_extension": ".py",
      "mimetype": "text/x-python",
      "name": "python",
      "nbconvert_exporter": "python",
      "pygments_lexer": "ipython3",
      "version": "3.8.5"
    },
    "colab": {
      "name": "tarea1.ipynb",
      "provenance": []
    }
  },
  "cells": [
    {
      "cell_type": "code",
      "metadata": {
        "colab": {
          "base_uri": "https://localhost:8080/"
        },
        "id": "4zwD5faK6_cR",
        "outputId": "ba1a5a84-7e04-463d-b596-3d121840af30"
      },
      "source": [
        "# tarea numero 1 taller de metodos\n",
        "\n",
        "# 1 Elaborar un algoritmo e implementar en python, el factorial de un número entero n ingresado por el usuario.$\n",
        "from math import factorial\n",
        "import numpy as np\n",
        "import math\n",
        "numero=int(input(\"ingresar un numero entero:\"))\n",
        "\n",
        "print(\" el factorial de\" , numero,\"es:\", factorial(numero))"
      ],
      "execution_count": null,
      "outputs": [
        {
          "output_type": "stream",
          "text": [
            "ingresar un numero entero:34\n",
            " el factorial de 34 es: 295232799039604140847618609643520000000\n"
          ],
          "name": "stdout"
        }
      ]
    },
    {
      "cell_type": "code",
      "metadata": {
        "colab": {
          "base_uri": "https://localhost:8080/"
        },
        "id": "ahodZqcB6_c1",
        "outputId": "6e3fc19d-57d7-4f22-e49c-4bd621bfda91"
      },
      "source": [
        "# 2 Diseñar un programa que lea dos numero `a` y `b` y diga que tipo de numero son, \n",
        "#de a cuerdo a la siguiente clasificación:\n",
        "\n",
        "#Números defectivos : la suma de los divisores propios es menor que el número.\n",
        "#Números abundantes: la suma de los divisores es mayor que el número.\n",
        "#Números amigos a y b tales que a es la suma de los divisores propios de b y viceversa.\n",
        "#Números semiperfectos la suma de todos o algunos de los divisores propios es igual al número.\n",
        "#Números perfectos la suma de todos sus divisores propios, excepto el mismo numero, es igual al número.\n",
        "#Números primos el número es divisible unicamente por sí mismo y por 1.\n",
        "\n",
        "import numpy as np\n",
        "\n",
        "a= int(input(\"ingerese un numero entero: \"))\n",
        "\n",
        "b=int(input(\"ingerese el siguiente  numero entero: \"))\n",
        "\n",
        "\n",
        "div=[]\n",
        "suma=0\n",
        "div1=[]\n",
        "suma1=0\n",
        "\n",
        "if a  < 0:\n",
        "   print(\"el numero ingresado es  negativo, vuelva a intentarlo\")\n",
        "\n",
        "\n",
        "else:\n",
        "        #print(\"sus divisores son: \")\n",
        "      \n",
        "        for i in range(1,a):\n",
        "               \n",
        "                if a % i ==0:\n",
        "                 \n",
        "                    div=(i)\n",
        "        \n",
        "                    suma=suma + div\n",
        "                 \n",
        "                          \n",
        "        if 1<suma< a:\n",
        "            \n",
        "                print( \"el numero \", a, \" es DEFECTIVO\")\n",
        "               \n",
        "        if suma== a:\n",
        "                print( \"el numero \", a, \" es PERFECTO\")\n",
        "           \n",
        "        if suma>a :\n",
        "                print( \"el numero \", a, \" es ABUNDANTE\")\n",
        "               \n",
        "                \n",
        "if b  < 0:\n",
        "   print(\"el numero ingresado\", b,  \"no pertenece a los naturales, vuelva a intentarlo\") \n",
        "else:\n",
        "                \n",
        "    for j in range(1,b):\n",
        "               \n",
        "         if b % j ==0:\n",
        "                 \n",
        "                div1=(j)\n",
        "                        \n",
        "                suma1=suma1 + div1\n",
        "    #print(suma)           \n",
        "    #print(suma1)\n",
        "            \n",
        "                    \n",
        "    if 1<suma1< b:\n",
        "            \n",
        "        print( \"el numero \", b, \" es DEFECTIVO\")\n",
        "    if suma1== b:\n",
        "        print( \"el numero \", b, \" es perfecto\")\n",
        "    if a==suma1 and b==suma:\n",
        "         print (\"el numero\",a, \"y el numero\" ,b, \"son amigos\")    \n",
        "    if suma1>b:\n",
        "        print( \"el numero \", b, \" es ABUNDANTE\")\n",
        "\n",
        "        \n",
        "\n",
        "if suma==1:\n",
        "    print(\" el numero\", a, \"es primo\")         \n",
        "    \n",
        "\n",
        "if suma1==1:\n",
        "    print(\" el numero\", b, \"es primo\")    \n",
        "                  "
      ],
      "execution_count": null,
      "outputs": [
        {
          "output_type": "stream",
          "text": [
            "ingerese un numero entero: 89\n",
            "ingerese el siguiente  numero entero: 100\n",
            "el numero  100  es ABUNDANTE\n",
            " el numero 89 es primo\n"
          ],
          "name": "stdout"
        }
      ]
    },
    {
      "cell_type": "code",
      "metadata": {
        "colab": {
          "base_uri": "https://localhost:8080/"
        },
        "id": "_le1yNtK6_c7",
        "outputId": "c0067b6d-e2c3-4c43-b117-84315588849d"
      },
      "source": [
        "\n",
        "  # 3  Determine si un número n entero ingresado por el usuario es un palíndromo, (Retorne True en caso afirmativo y False en caso contrario)\n",
        "\n",
        "p=int(input(\"ingresa un numero y determina y  es palindromo  :\"))    \n",
        "cambiar=str(p)\n",
        "invert=cambiar[::-1]\n",
        "g=int(invert)\n",
        "d=invert\n",
        "\n",
        " \n",
        "    \n",
        "if p==g:\n",
        "    print()\n",
        "    print(\" true\")\n",
        "    \n",
        "else:\n",
        "    print(\"false\")"
      ],
      "execution_count": null,
      "outputs": [
        {
          "output_type": "stream",
          "text": [
            "ingresa un numero y determina y  es palindromo  :1231\n",
            "false\n"
          ],
          "name": "stdout"
        }
      ]
    },
    {
      "cell_type": "markdown",
      "metadata": {
        "id": "5QlbYcN46_c9"
      },
      "source": [
        "# "
      ]
    },
    {
      "cell_type": "code",
      "metadata": {
        "id": "TN9wHKZ56_c-",
        "outputId": "11862683-eb90-4129-df7e-4105bc9d9572"
      },
      "source": [
        " # 4 Dada una cadena de caracteres, entregar una lista donde se retorne:\n",
        "\n",
        "       #. en la primera casilla: True si el caracter del medio es una vocal, False en caso contrario\n",
        "       #. en la segunda: el numero de vocales en la cadena\n",
        "       #. en la tercera: el numero de consonantes\n",
        "       #. en la ultima: la cadena de caracteres invertida (ej: perro, orrep)\n",
        "\n"
      ],
      "execution_count": null,
      "outputs": [
        {
          "output_type": "error",
          "ename": "SyntaxError",
          "evalue": "invalid syntax (<ipython-input-194-f66212872323>, line 5)",
          "traceback": [
            "\u001b[1;36m  File \u001b[1;32m\"<ipython-input-194-f66212872323>\"\u001b[1;36m, line \u001b[1;32m5\u001b[0m\n\u001b[1;33m    z=len(str(a))\u001b[0m\n\u001b[1;37m    ^\u001b[0m\n\u001b[1;31mSyntaxError\u001b[0m\u001b[1;31m:\u001b[0m invalid syntax\n"
          ]
        }
      ]
    },
    {
      "cell_type": "code",
      "metadata": {
        "scrolled": true,
        "colab": {
          "base_uri": "https://localhost:8080/"
        },
        "id": "2Gat9tef6_dD",
        "outputId": "5472c6a8-54c2-4b01-b7ba-455dc2d01970"
      },
      "source": [
        "#5. Elabore un método para calcular el n-ésimo término de la sucesión de fibonacci: \n",
        "import math\n",
        "\n",
        "n=int(input(\"ingrese el termino: \"))\n",
        "if n > 2:\n",
        "       \n",
        "   \n",
        "    x= 1/math.sqrt(5) * ((1 + math.sqrt(5))/2)**n\n",
        "    y=-1/math.sqrt(5)*((1- math.sqrt(5))/2)**n\n",
        "    s=x+y               \n",
        "\n",
        "    print(\"el termino \",n, \"de la sucesion de fononacci es:\" \"{:.0f}\".format (s) )\n",
        "\n"
      ],
      "execution_count": 46,
      "outputs": [
        {
          "output_type": "stream",
          "text": [
            "ingrese el termino: 20\n",
            "el termino  20 de la sucesion de fononacci es:6765\n"
          ],
          "name": "stdout"
        }
      ]
    },
    {
      "cell_type": "code",
      "metadata": {
        "colab": {
          "base_uri": "https://localhost:8080/"
        },
        "id": "--XDISy66_dG",
        "outputId": "33b3eb17-b16a-4258-d0a8-1d4303adb6e9"
      },
      "source": [
        "#6. Entrar un arreglo de números y ordenarlos de forma ascendente, Ver algoritmo\n",
        "#[Quicksort](https://es.wikipedia.org/wiki/Quicksort). \n",
        "\n",
        "lista=[]\n",
        "n=int(input(\"cuantos numeros quieres guardar?:\"))\n",
        "for x in range(n):#ciclo para los numeros ingresados\n",
        "    valor=int(input(\"Ingrese numero:\"))\n",
        "    lista.append(valor)\n",
        "    \n",
        "ordenar=sorted(lista)\n",
        "#imprimimos la lista    \n",
        "print(\"arreglo de numeros inicial\",lista)\n",
        "print(\"arreglo de numeros ordenados en forma ascendente\", ordenar)"
      ],
      "execution_count": null,
      "outputs": [
        {
          "output_type": "stream",
          "text": [
            "cuantos numeros quieres guardar?:3\n",
            "Ingrese numero:12\n",
            "Ingrese numero:1\n",
            "Ingrese numero:4\n",
            "arreglo de numeros inicial [12, 1, 4]\n",
            "arreglo de numeros ordenados en forma ascendente [1, 4, 12]\n"
          ],
          "name": "stdout"
        }
      ]
    },
    {
      "cell_type": "code",
      "metadata": {
        "id": "-r7qt9Hb6_dI"
      },
      "source": [
        ""
      ],
      "execution_count": null,
      "outputs": []
    }
  ]
}